{
 "cells": [
  {
   "cell_type": "markdown",
   "id": "553fdb6c",
   "metadata": {
    "papermill": {
     "duration": 0.010775,
     "end_time": "2024-12-21T01:02:59.350507",
     "exception": false,
     "start_time": "2024-12-21T01:02:59.339732",
     "status": "completed"
    },
    "tags": []
   },
   "source": [
    "# Darija Text Classification using DL Models\n",
    "\n",
    "## 1. Setup and Environment\n",
    "In this section, we:\n",
    "- Import required libraries\n",
    "- Load and prepare our Darija dataset\n",
    "- Configure TensorFlow and deep learning dependencies"
   ]
  },
  {
   "cell_type": "code",
   "execution_count": 1,
   "id": "5b4648b1",
   "metadata": {
    "_cell_guid": "b1076dfc-b9ad-4769-8c92-a6c4dae69d19",
    "_uuid": "8f2839f25d086af736a60e9eeb907d3b93b6e0e5",
    "execution": {
     "iopub.execute_input": "2024-12-21T01:02:59.369968Z",
     "iopub.status.busy": "2024-12-21T01:02:59.369179Z",
     "iopub.status.idle": "2024-12-21T01:02:59.384935Z",
     "shell.execute_reply": "2024-12-21T01:02:59.383939Z"
    },
    "papermill": {
     "duration": 0.02719,
     "end_time": "2024-12-21T01:02:59.386555",
     "exception": false,
     "start_time": "2024-12-21T01:02:59.359365",
     "status": "completed"
    },
    "tags": []
   },
   "outputs": [
    {
     "name": "stdout",
     "output_type": "stream",
     "text": [
      "Current working directory: /kaggle/input/ma-datasets\n",
      "Directory contents: ['suf_pref_darija.json', 'stop_words_accum.json', 'set2.csv', 'set7.csv', 'set5.csv', 'darija_latin_ref.json', 'set4.csv', 'scaped_comments.csv', 'set3.csv', 'cleaned_clustered_data.csv', 'set1.csv']\n"
     ]
    }
   ],
   "source": [
    "import os \n",
    "os.chdir('/kaggle/input/ma-datasets') \n",
    "current_directory = os.getcwd()\n",
    "print(\"Current working directory:\", current_directory)\n",
    "contents = os.listdir()\n",
    "print(\"Directory contents:\", contents)"
   ]
  },
  {
   "cell_type": "code",
   "execution_count": 2,
   "id": "0aabb0cb",
   "metadata": {
    "execution": {
     "iopub.execute_input": "2024-12-21T01:02:59.405784Z",
     "iopub.status.busy": "2024-12-21T01:02:59.405185Z",
     "iopub.status.idle": "2024-12-21T01:03:00.511308Z",
     "shell.execute_reply": "2024-12-21T01:03:00.510184Z"
    },
    "papermill": {
     "duration": 1.117882,
     "end_time": "2024-12-21T01:03:00.513536",
     "exception": false,
     "start_time": "2024-12-21T01:02:59.395654",
     "status": "completed"
    },
    "tags": []
   },
   "outputs": [
    {
     "name": "stdout",
     "output_type": "stream",
     "text": [
      "Sat Dec 21 01:03:00 2024       \r\n",
      "+-----------------------------------------------------------------------------------------+\r\n",
      "| NVIDIA-SMI 560.35.03              Driver Version: 560.35.03      CUDA Version: 12.6     |\r\n",
      "|-----------------------------------------+------------------------+----------------------+\r\n",
      "| GPU  Name                 Persistence-M | Bus-Id          Disp.A | Volatile Uncorr. ECC |\r\n",
      "| Fan  Temp   Perf          Pwr:Usage/Cap |           Memory-Usage | GPU-Util  Compute M. |\r\n",
      "|                                         |                        |               MIG M. |\r\n",
      "|=========================================+========================+======================|\r\n",
      "|   0  Tesla T4                       Off |   00000000:00:04.0 Off |                    0 |\r\n",
      "| N/A   53C    P8             10W /   70W |       1MiB /  15360MiB |      0%      Default |\r\n",
      "|                                         |                        |                  N/A |\r\n",
      "+-----------------------------------------+------------------------+----------------------+\r\n",
      "|   1  Tesla T4                       Off |   00000000:00:05.0 Off |                    0 |\r\n",
      "| N/A   48C    P8             10W /   70W |       1MiB /  15360MiB |      0%      Default |\r\n",
      "|                                         |                        |                  N/A |\r\n",
      "+-----------------------------------------+------------------------+----------------------+\r\n",
      "                                                                                         \r\n",
      "+-----------------------------------------------------------------------------------------+\r\n",
      "| Processes:                                                                              |\r\n",
      "|  GPU   GI   CI        PID   Type   Process name                              GPU Memory |\r\n",
      "|        ID   ID                                                               Usage      |\r\n",
      "|=========================================================================================|\r\n",
      "|  No running processes found                                                             |\r\n",
      "+-----------------------------------------------------------------------------------------+\r\n"
     ]
    }
   ],
   "source": [
    "!nvidia-smi"
   ]
  },
  {
   "cell_type": "code",
   "execution_count": 3,
   "id": "1e16aca2",
   "metadata": {
    "execution": {
     "iopub.execute_input": "2024-12-21T01:03:00.532965Z",
     "iopub.status.busy": "2024-12-21T01:03:00.532639Z",
     "iopub.status.idle": "2024-12-21T01:03:12.430104Z",
     "shell.execute_reply": "2024-12-21T01:03:12.429274Z"
    },
    "papermill": {
     "duration": 11.909445,
     "end_time": "2024-12-21T01:03:12.432186",
     "exception": false,
     "start_time": "2024-12-21T01:03:00.522741",
     "status": "completed"
    },
    "tags": []
   },
   "outputs": [
    {
     "name": "stdout",
     "output_type": "stream",
     "text": [
      "Requirement already satisfied: PyArabic in /opt/conda/lib/python3.10/site-packages (0.6.15)\r\n",
      "Collecting Tashaphyne\r\n",
      "  Downloading Tashaphyne-0.3.6-py3-none-any.whl.metadata (18 kB)\r\n",
      "Collecting pydoda\r\n",
      "  Downloading pydoda-1.2.1-py3-none-any.whl.metadata (5.8 kB)\r\n",
      "Collecting Arabic-Stopwords\r\n",
      "  Downloading Arabic_Stopwords-0.4.3-py3-none-any.whl.metadata (8.9 kB)\r\n",
      "Requirement already satisfied: seaborn in /opt/conda/lib/python3.10/site-packages (0.12.2)\r\n",
      "Requirement already satisfied: scikit-learn in /opt/conda/lib/python3.10/site-packages (1.2.2)\r\n",
      "Requirement already satisfied: emoji in /opt/conda/lib/python3.10/site-packages (2.14.0)\r\n",
      "Requirement already satisfied: six>=1.14.0 in /opt/conda/lib/python3.10/site-packages (from PyArabic) (1.16.0)\r\n",
      "Requirement already satisfied: pandas in /opt/conda/lib/python3.10/site-packages (from pydoda) (2.2.3)\r\n",
      "Requirement already satisfied: numpy!=1.24.0,>=1.17 in /opt/conda/lib/python3.10/site-packages (from seaborn) (1.26.4)\r\n",
      "Requirement already satisfied: matplotlib!=3.6.1,>=3.1 in /opt/conda/lib/python3.10/site-packages (from seaborn) (3.7.5)\r\n",
      "Requirement already satisfied: scipy>=1.3.2 in /opt/conda/lib/python3.10/site-packages (from scikit-learn) (1.14.1)\r\n",
      "Requirement already satisfied: joblib>=1.1.1 in /opt/conda/lib/python3.10/site-packages (from scikit-learn) (1.4.2)\r\n",
      "Requirement already satisfied: threadpoolctl>=2.0.0 in /opt/conda/lib/python3.10/site-packages (from scikit-learn) (3.5.0)\r\n",
      "Requirement already satisfied: contourpy>=1.0.1 in /opt/conda/lib/python3.10/site-packages (from matplotlib!=3.6.1,>=3.1->seaborn) (1.2.1)\r\n",
      "Requirement already satisfied: cycler>=0.10 in /opt/conda/lib/python3.10/site-packages (from matplotlib!=3.6.1,>=3.1->seaborn) (0.12.1)\r\n",
      "Requirement already satisfied: fonttools>=4.22.0 in /opt/conda/lib/python3.10/site-packages (from matplotlib!=3.6.1,>=3.1->seaborn) (4.53.0)\r\n",
      "Requirement already satisfied: kiwisolver>=1.0.1 in /opt/conda/lib/python3.10/site-packages (from matplotlib!=3.6.1,>=3.1->seaborn) (1.4.5)\r\n",
      "Requirement already satisfied: packaging>=20.0 in /opt/conda/lib/python3.10/site-packages (from matplotlib!=3.6.1,>=3.1->seaborn) (21.3)\r\n",
      "Requirement already satisfied: pillow>=6.2.0 in /opt/conda/lib/python3.10/site-packages (from matplotlib!=3.6.1,>=3.1->seaborn) (10.3.0)\r\n",
      "Requirement already satisfied: pyparsing>=2.3.1 in /opt/conda/lib/python3.10/site-packages (from matplotlib!=3.6.1,>=3.1->seaborn) (3.1.2)\r\n",
      "Requirement already satisfied: python-dateutil>=2.7 in /opt/conda/lib/python3.10/site-packages (from matplotlib!=3.6.1,>=3.1->seaborn) (2.9.0.post0)\r\n",
      "Requirement already satisfied: pytz>=2020.1 in /opt/conda/lib/python3.10/site-packages (from pandas->pydoda) (2024.1)\r\n",
      "Requirement already satisfied: tzdata>=2022.7 in /opt/conda/lib/python3.10/site-packages (from pandas->pydoda) (2024.1)\r\n",
      "Downloading Tashaphyne-0.3.6-py3-none-any.whl (251 kB)\r\n",
      "\u001b[2K   \u001b[90m━━━━━━━━━━━━━━━━━━━━━━━━━━━━━━━━━━━━━━━━\u001b[0m \u001b[32m251.5/251.5 kB\u001b[0m \u001b[31m5.7 MB/s\u001b[0m eta \u001b[36m0:00:00\u001b[0m\r\n",
      "\u001b[?25hDownloading pydoda-1.2.1-py3-none-any.whl (4.1 MB)\r\n",
      "\u001b[2K   \u001b[90m━━━━━━━━━━━━━━━━━━━━━━━━━━━━━━━━━━━━━━━━\u001b[0m \u001b[32m4.1/4.1 MB\u001b[0m \u001b[31m56.4 MB/s\u001b[0m eta \u001b[36m0:00:00\u001b[0m\r\n",
      "\u001b[?25hDownloading Arabic_Stopwords-0.4.3-py3-none-any.whl (360 kB)\r\n",
      "\u001b[2K   \u001b[90m━━━━━━━━━━━━━━━━━━━━━━━━━━━━━━━━━━━━━━━━\u001b[0m \u001b[32m360.5/360.5 kB\u001b[0m \u001b[31m24.6 MB/s\u001b[0m eta \u001b[36m0:00:00\u001b[0m\r\n",
      "\u001b[?25hInstalling collected packages: Tashaphyne, Arabic-Stopwords, pydoda\r\n",
      "Successfully installed Arabic-Stopwords-0.4.3 Tashaphyne-0.3.6 pydoda-1.2.1\r\n"
     ]
    }
   ],
   "source": [
    "!pip install PyArabic Tashaphyne pydoda Arabic-Stopwords seaborn scikit-learn emoji "
   ]
  },
  {
   "cell_type": "code",
   "execution_count": 4,
   "id": "0f801985",
   "metadata": {
    "execution": {
     "iopub.execute_input": "2024-12-21T01:03:12.452937Z",
     "iopub.status.busy": "2024-12-21T01:03:12.452611Z",
     "iopub.status.idle": "2024-12-21T01:03:26.084931Z",
     "shell.execute_reply": "2024-12-21T01:03:26.084224Z"
    },
    "papermill": {
     "duration": 13.644879,
     "end_time": "2024-12-21T01:03:26.086889",
     "exception": false,
     "start_time": "2024-12-21T01:03:12.442010",
     "status": "completed"
    },
    "tags": []
   },
   "outputs": [],
   "source": [
    "from sklearn.model_selection import train_test_split\n",
    "import tensorflow as tf\n",
    "from tensorflow.keras.models import Sequential\n",
    "from tensorflow.keras.layers import SimpleRNN, Embedding ,Flatten,BatchNormalization, Dense, Activation , Dropout ,Conv1D, GlobalMaxPooling1D\n",
    "from tensorflow.keras.optimizers import Adam\n",
    "from keras.callbacks import EarlyStopping\n",
    "from tensorflow.keras.regularizers import l2\n",
    "from tensorflow.keras.preprocessing.text import Tokenizer\n",
    "from tensorflow.keras.preprocessing.sequence import pad_sequences\n",
    "import seaborn as sns\n",
    "import  matplotlib.pyplot as plt\n",
    "import numpy as np\n",
    "import pandas as pd\n",
    "import re\n",
    "from tashaphyne.stemming import ArabicLightStemmer\n",
    "import json\n",
    "import emoji "
   ]
  },
  {
   "cell_type": "code",
   "execution_count": 5,
   "id": "f464217b",
   "metadata": {
    "execution": {
     "iopub.execute_input": "2024-12-21T01:03:26.108430Z",
     "iopub.status.busy": "2024-12-21T01:03:26.107384Z",
     "iopub.status.idle": "2024-12-21T01:03:26.396260Z",
     "shell.execute_reply": "2024-12-21T01:03:26.395559Z"
    },
    "papermill": {
     "duration": 0.301661,
     "end_time": "2024-12-21T01:03:26.398250",
     "exception": false,
     "start_time": "2024-12-21T01:03:26.096589",
     "status": "completed"
    },
    "tags": []
   },
   "outputs": [],
   "source": [
    "data = pd.read_csv(\"/kaggle/input/dataset/dataset (18).csv\")"
   ]
  },
  {
   "cell_type": "markdown",
   "id": "7f54e573",
   "metadata": {
    "papermill": {
     "duration": 0.009126,
     "end_time": "2024-12-21T01:03:26.417309",
     "exception": false,
     "start_time": "2024-12-21T01:03:26.408183",
     "status": "completed"
    },
    "tags": []
   },
   "source": [
    "## 2. Data Preprocessing and Preparation\n",
    "Key steps include:\n",
    "- Text cleaning and normalization\n",
    "- Tokenization and sequence padding\n",
    "- Converting text to numerical format for deep learning\n",
    "- Train-test-cv splits"
   ]
  },
  {
   "cell_type": "code",
   "execution_count": 6,
   "id": "e22dfbb5",
   "metadata": {
    "execution": {
     "iopub.execute_input": "2024-12-21T01:03:26.437114Z",
     "iopub.status.busy": "2024-12-21T01:03:26.436782Z",
     "iopub.status.idle": "2024-12-21T01:03:26.444925Z",
     "shell.execute_reply": "2024-12-21T01:03:26.444098Z"
    },
    "papermill": {
     "duration": 0.019987,
     "end_time": "2024-12-21T01:03:26.446473",
     "exception": false,
     "start_time": "2024-12-21T01:03:26.426486",
     "status": "completed"
    },
    "tags": []
   },
   "outputs": [],
   "source": [
    "darija_alphabet = {\n",
    "    \"gh\": \"غ\",\n",
    "    \"sh\": \"ش\",\n",
    "    \"ch\": \"ش\",\n",
    "    \"ss\": \"س\",\n",
    "    \"kh\": \"خ\",\n",
    "    \"ç\": \"س\",\n",
    "    \"ou\": \"و\",    \n",
    "    \"ei\": \"ي\",    \n",
    "    \"ay\": \"ي\",    \n",
    "    \"ae\": \"ي\",   \n",
    "    \"5\": \"خ\",     \n",
    "    \"2\": \"ا\",  \n",
    "    \"a\": \"ا\",    \n",
    "    \"b\": \"ب\",\n",
    "    \"t\": \"ت\",\n",
    "    \"j\": \"ج\",\n",
    "    \"7\": \"ح\",\n",
    "    \"d\": \"د\",\n",
    "    \"dd\": \"ض\",\n",
    "    \"r\": \"ر\",\n",
    "    \"z\": \"ز\",\n",
    "    \"s\": \"س\",\n",
    "    \"ss\": \"ص\",\n",
    "    \"9\": \"ق\",\n",
    "    \"3\": \"ع\",\n",
    "    \"4\": \"غ\",\n",
    "    \"f\": \"ف\",\n",
    "    \"q\": \"ك\",\n",
    "    \"k\": \"ك\",\n",
    "    \"l\": \"ل\",\n",
    "    \"m\": \"م\",\n",
    "    \"n\": \"ن\",\n",
    "    \"h\": \"ه\",\n",
    "    \"w\": \"و\",\n",
    "    \"y\": \"ي\",\n",
    "    \"g\": \"ڭ\",\n",
    "    'i': 'ي',\n",
    "    'ee': 'ي',\n",
    "    'aa': 'ا',\n",
    "    'oo': 'و',\n",
    "    'o': 'و',\n",
    "    \"x\": \"ش\",\n",
    "}\n",
    "word_in = [\n",
    "    \"ء\", \"أ\", \"إ\", \"آ\", \"ؤ\", \"ئ\", \"ة\", \"ى\",\"-\", \"/\", \".\", \"،\", '\"', \"'\", \"\\\\\", \"?\", \"؟\", \"!\", \"،\", \"؛\",\":\",\"#\", \"@\", \"&\", \"=\", \"¥\", \"$\", \"%\", \"*\", \"+\", \"<\", \">\", \"|\", \"~\", \"^\", \n",
    "    \"\\n\", \"\\t\", \"\\r\", \"ذ\", \"ظ\",  \"(\", \")\", \"[\", \"]\", \"{\", \"}\", \"《\", \"》\", \"«\", \"»\"\n",
    "]\n",
    "\n",
    "replaced_by = [\n",
    "    \"ا\", \"ا\", \"ا\", \"ا\", \"ا\", \"ا\", \"ه\", \"ي\",\" \", \"\", \"\", \"\", \"\", \"\", \"\", \" ? \", \" ؟ \", \" ! \", \"\", \"\", \"\",\n",
    "    \"\", \"\", \"\", \"\", \"\", \"\", \"\", \"\", \"\", \"\", \"\", \"\", \"\", \"\",\" \", \" \", \" \", \"\",\n",
    "    \"د\", \"ض\",\"\",  \"\", \"\", \"\", \"\", \"\", \"\", \"\", \"\"\n",
    "]\n",
    "\n",
    "arabic_alphabet = \"ابتثجحخدذرزسشصضطظعغفقكلمنهوي\""
   ]
  },
  {
   "cell_type": "code",
   "execution_count": 7,
   "id": "8e166985",
   "metadata": {
    "execution": {
     "iopub.execute_input": "2024-12-21T01:03:26.465943Z",
     "iopub.status.busy": "2024-12-21T01:03:26.465664Z",
     "iopub.status.idle": "2024-12-21T01:03:26.469341Z",
     "shell.execute_reply": "2024-12-21T01:03:26.468649Z"
    },
    "papermill": {
     "duration": 0.01512,
     "end_time": "2024-12-21T01:03:26.470791",
     "exception": false,
     "start_time": "2024-12-21T01:03:26.455671",
     "status": "completed"
    },
    "tags": []
   },
   "outputs": [],
   "source": [
    "from pyarabic.araby import strip_diacritics\n",
    "#remove tashkeel\n",
    "def removing_tashkeel(word): # useed\n",
    "          return strip_diacritics(word)"
   ]
  },
  {
   "cell_type": "code",
   "execution_count": 8,
   "id": "fccbaadb",
   "metadata": {
    "execution": {
     "iopub.execute_input": "2024-12-21T01:03:26.490413Z",
     "iopub.status.busy": "2024-12-21T01:03:26.490138Z",
     "iopub.status.idle": "2024-12-21T01:03:26.493814Z",
     "shell.execute_reply": "2024-12-21T01:03:26.493122Z"
    },
    "papermill": {
     "duration": 0.015014,
     "end_time": "2024-12-21T01:03:26.495266",
     "exception": false,
     "start_time": "2024-12-21T01:03:26.480252",
     "status": "completed"
    },
    "tags": []
   },
   "outputs": [],
   "source": [
    "from pyarabic.araby import strip_tatweel\n",
    "\n",
    "#remove tatweel l2imdad\n",
    "def removing_tatweel(word): # useed\n",
    "          return strip_tatweel(word)"
   ]
  },
  {
   "cell_type": "code",
   "execution_count": 9,
   "id": "3fc7883d",
   "metadata": {
    "execution": {
     "iopub.execute_input": "2024-12-21T01:03:26.514514Z",
     "iopub.status.busy": "2024-12-21T01:03:26.514213Z",
     "iopub.status.idle": "2024-12-21T01:03:26.518212Z",
     "shell.execute_reply": "2024-12-21T01:03:26.517440Z"
    },
    "papermill": {
     "duration": 0.015442,
     "end_time": "2024-12-21T01:03:26.519792",
     "exception": false,
     "start_time": "2024-12-21T01:03:26.504350",
     "status": "completed"
    },
    "tags": []
   },
   "outputs": [],
   "source": [
    "from pyarabic.araby import normalize_ligature\n",
    "\n",
    "#remove ligature hamza , alef \n",
    "def removing_ligature(word): # not used \n",
    "          return normalize_ligature(word)"
   ]
  },
  {
   "cell_type": "code",
   "execution_count": 10,
   "id": "adfe43b1",
   "metadata": {
    "execution": {
     "iopub.execute_input": "2024-12-21T01:03:26.539569Z",
     "iopub.status.busy": "2024-12-21T01:03:26.539260Z",
     "iopub.status.idle": "2024-12-21T01:03:26.543067Z",
     "shell.execute_reply": "2024-12-21T01:03:26.542268Z"
    },
    "papermill": {
     "duration": 0.015548,
     "end_time": "2024-12-21T01:03:26.544629",
     "exception": false,
     "start_time": "2024-12-21T01:03:26.529081",
     "status": "completed"
    },
    "tags": []
   },
   "outputs": [],
   "source": [
    "# remove underscore\n",
    "def replace_underscore(word): # useed\n",
    "          return word.replace(\"_\", \" \")"
   ]
  },
  {
   "cell_type": "code",
   "execution_count": 11,
   "id": "ab7fa688",
   "metadata": {
    "execution": {
     "iopub.execute_input": "2024-12-21T01:03:26.564835Z",
     "iopub.status.busy": "2024-12-21T01:03:26.564133Z",
     "iopub.status.idle": "2024-12-21T01:03:26.568045Z",
     "shell.execute_reply": "2024-12-21T01:03:26.567360Z"
    },
    "papermill": {
     "duration": 0.015346,
     "end_time": "2024-12-21T01:03:26.569561",
     "exception": false,
     "start_time": "2024-12-21T01:03:26.554215",
     "status": "completed"
    },
    "tags": []
   },
   "outputs": [],
   "source": [
    "import pyarabic.araby as araby\n",
    "\n",
    "# remove hamza ambiguity\n",
    "def remove_ambiguity_hamza(word): # useed\n",
    "          return araby.normalize_hamza(word)"
   ]
  },
  {
   "cell_type": "code",
   "execution_count": 12,
   "id": "fbc98b50",
   "metadata": {
    "execution": {
     "iopub.execute_input": "2024-12-21T01:03:26.588995Z",
     "iopub.status.busy": "2024-12-21T01:03:26.588729Z",
     "iopub.status.idle": "2024-12-21T01:03:26.592284Z",
     "shell.execute_reply": "2024-12-21T01:03:26.591591Z"
    },
    "papermill": {
     "duration": 0.015144,
     "end_time": "2024-12-21T01:03:26.593944",
     "exception": false,
     "start_time": "2024-12-21T01:03:26.578800",
     "status": "completed"
    },
    "tags": []
   },
   "outputs": [],
   "source": [
    "# romove \"AL\"\n",
    "def remove_AL(word): # useed\n",
    "          return re.sub(r'^ال', '', word)"
   ]
  },
  {
   "cell_type": "code",
   "execution_count": 13,
   "id": "6a8e0f08",
   "metadata": {
    "execution": {
     "iopub.execute_input": "2024-12-21T01:03:26.613612Z",
     "iopub.status.busy": "2024-12-21T01:03:26.613346Z",
     "iopub.status.idle": "2024-12-21T01:03:26.618930Z",
     "shell.execute_reply": "2024-12-21T01:03:26.618121Z"
    },
    "papermill": {
     "duration": 0.017364,
     "end_time": "2024-12-21T01:03:26.620582",
     "exception": false,
     "start_time": "2024-12-21T01:03:26.603218",
     "status": "completed"
    },
    "tags": []
   },
   "outputs": [],
   "source": [
    "# remove repeated characters      \n",
    "def word_remover(word): # useed\n",
    "            if len(word) == 1 or len(word) == 0 or len(word) >= 13:\n",
    "                return \"\"                \n",
    "            else :\n",
    "                # print(word)\n",
    "                for a7rf in arabic_alphabet:\n",
    "                    if a7rf == 'د' or a7rf == 'ه':\n",
    "                        word = re.sub(fr'{a7rf}{{3,}}', a7rf * 2, word).strip()\n",
    "                    else:\n",
    "                        word = re.sub(fr'{a7rf}+', a7rf, word).strip()\n",
    "                # print(word) \n",
    "                for i in range(len(word)):\n",
    "                    if word[i] in word_in:\n",
    "                        index = word_in.index(word[i])\n",
    "                        word = word[:i] + replaced_by[index] + word[i + 1:]\n",
    "\n",
    "                return word\n"
   ]
  },
  {
   "cell_type": "code",
   "execution_count": 14,
   "id": "2ffa41df",
   "metadata": {
    "execution": {
     "iopub.execute_input": "2024-12-21T01:03:26.640235Z",
     "iopub.status.busy": "2024-12-21T01:03:26.639964Z",
     "iopub.status.idle": "2024-12-21T01:03:26.643751Z",
     "shell.execute_reply": "2024-12-21T01:03:26.643078Z"
    },
    "papermill": {
     "duration": 0.01538,
     "end_time": "2024-12-21T01:03:26.645233",
     "exception": false,
     "start_time": "2024-12-21T01:03:26.629853",
     "status": "completed"
    },
    "tags": []
   },
   "outputs": [],
   "source": [
    "# remove emails  \n",
    "def remove_url(text): # useed\n",
    "    text = re.sub(r'(https|http)?:\\/\\/(\\w|\\.|\\/|\\?|\\=|\\&|\\%)*\\b',\n",
    "                  '', text, flags=re.MULTILINE)\n",
    "    return text      \n",
    " "
   ]
  },
  {
   "cell_type": "code",
   "execution_count": 15,
   "id": "575b481c",
   "metadata": {
    "execution": {
     "iopub.execute_input": "2024-12-21T01:03:26.664762Z",
     "iopub.status.busy": "2024-12-21T01:03:26.664506Z",
     "iopub.status.idle": "2024-12-21T01:03:26.668385Z",
     "shell.execute_reply": "2024-12-21T01:03:26.667547Z"
    },
    "papermill": {
     "duration": 0.015252,
     "end_time": "2024-12-21T01:03:26.669876",
     "exception": false,
     "start_time": "2024-12-21T01:03:26.654624",
     "status": "completed"
    },
    "tags": []
   },
   "outputs": [],
   "source": [
    " # remove emails     \n",
    "def remove_emails(text): # useed\n",
    "    text = re.sub(r'[a-zA-Z0-9._%+-]+@[a-zA-Z0-9.-]+\\.[a-zA-Z]{2,}', '', text, flags=re.MULTILINE)\n",
    "    return text  "
   ]
  },
  {
   "cell_type": "code",
   "execution_count": 16,
   "id": "5615a704",
   "metadata": {
    "execution": {
     "iopub.execute_input": "2024-12-21T01:03:26.689412Z",
     "iopub.status.busy": "2024-12-21T01:03:26.689008Z",
     "iopub.status.idle": "2024-12-21T01:03:26.693349Z",
     "shell.execute_reply": "2024-12-21T01:03:26.692549Z"
    },
    "papermill": {
     "duration": 0.015811,
     "end_time": "2024-12-21T01:03:26.694930",
     "exception": false,
     "start_time": "2024-12-21T01:03:26.679119",
     "status": "completed"
    },
    "tags": []
   },
   "outputs": [],
   "source": [
    "def special_tags_and_ponctuations(text):  # Function to clean special tags\n",
    "    text = re.sub(r'&amp;', '', text) \n",
    "    text = re.sub(r'&quot;', '', text)  \n",
    "    text = re.sub(r'!+', '!', text)\n",
    "    text = re.sub(r'\\?+', '?', text)\n",
    "    text = re.sub(r'\\.+', '.', text)\n",
    "\n",
    "    return text"
   ]
  },
  {
   "cell_type": "code",
   "execution_count": 17,
   "id": "872ea6cc",
   "metadata": {
    "execution": {
     "iopub.execute_input": "2024-12-21T01:03:26.714154Z",
     "iopub.status.busy": "2024-12-21T01:03:26.713923Z",
     "iopub.status.idle": "2024-12-21T01:03:26.717525Z",
     "shell.execute_reply": "2024-12-21T01:03:26.716786Z"
    },
    "papermill": {
     "duration": 0.014966,
     "end_time": "2024-12-21T01:03:26.719006",
     "exception": false,
     "start_time": "2024-12-21T01:03:26.704040",
     "status": "completed"
    },
    "tags": []
   },
   "outputs": [],
   "source": [
    "def remove_html_tags(text):\n",
    "    text = re.sub(r'<[^>]+>', '', text)\n",
    "    return text"
   ]
  },
  {
   "cell_type": "code",
   "execution_count": 18,
   "id": "0f592770",
   "metadata": {
    "execution": {
     "iopub.execute_input": "2024-12-21T01:03:26.738600Z",
     "iopub.status.busy": "2024-12-21T01:03:26.738371Z",
     "iopub.status.idle": "2024-12-21T01:03:26.742068Z",
     "shell.execute_reply": "2024-12-21T01:03:26.741403Z"
    },
    "papermill": {
     "duration": 0.0152,
     "end_time": "2024-12-21T01:03:26.743606",
     "exception": false,
     "start_time": "2024-12-21T01:03:26.728406",
     "status": "completed"
    },
    "tags": []
   },
   "outputs": [],
   "source": [
    "# hundle emojis\n",
    "def extend_spletting(items):  # helper function to split items\n",
    "    spletting = []\n",
    "    for item in items:\n",
    "        spletting.extend(item.split())\n",
    "    return spletting"
   ]
  },
  {
   "cell_type": "code",
   "execution_count": 19,
   "id": "d7f72e71",
   "metadata": {
    "execution": {
     "iopub.execute_input": "2024-12-21T01:03:26.763211Z",
     "iopub.status.busy": "2024-12-21T01:03:26.762719Z",
     "iopub.status.idle": "2024-12-21T01:03:26.766700Z",
     "shell.execute_reply": "2024-12-21T01:03:26.766021Z"
    },
    "papermill": {
     "duration": 0.015451,
     "end_time": "2024-12-21T01:03:26.768218",
     "exception": false,
     "start_time": "2024-12-21T01:03:26.752767",
     "status": "completed"
    },
    "tags": []
   },
   "outputs": [],
   "source": [
    "def emoji_hundler(word):  # helper function to handle emojis\n",
    "    word = emoji.demojize(word, language='ar')\n",
    "    word = replace_underscore(word)[1:-1]\n",
    "    return word"
   ]
  },
  {
   "cell_type": "code",
   "execution_count": 20,
   "id": "411186bd",
   "metadata": {
    "execution": {
     "iopub.execute_input": "2024-12-21T01:03:26.787586Z",
     "iopub.status.busy": "2024-12-21T01:03:26.787353Z",
     "iopub.status.idle": "2024-12-21T01:03:26.792751Z",
     "shell.execute_reply": "2024-12-21T01:03:26.792039Z"
    },
    "papermill": {
     "duration": 0.016801,
     "end_time": "2024-12-21T01:03:26.794237",
     "exception": false,
     "start_time": "2024-12-21T01:03:26.777436",
     "status": "completed"
    },
    "tags": []
   },
   "outputs": [],
   "source": [
    "def is_an_emoji(word):\n",
    "    emoji_pattern = re.compile(\"[\"  \n",
    "                               u\"\\U0001F680-\\U0001F6FF\"  # transport and map unicods\n",
    "                               u\"\\U0001F1E0-\\U0001F1FF\"  # flags unicods\n",
    "                               \"]+\", flags=re.UNICODE)\n",
    "\n",
    "    if emoji.is_emoji(word):\n",
    "        word = emoji_pattern.sub(r'', word)\n",
    "        return extend_spletting([emoji_hundler(word)])\n",
    "\n",
    "    elif emoji.purely_emoji(word):\n",
    "        data_of_emojis = emoji.distinct_emoji_list(word)\n",
    "        data = [emoji_hundler(emoji_pattern.sub(r'', item)) for item in data_of_emojis]\n",
    "        return extend_spletting(data)\n",
    "\n",
    "    else:\n",
    "        text_only = re.sub(r'[^\\w\\s?!]', '', word)\n",
    "        data_of_emojis = emoji.distinct_emoji_list(word)\n",
    "        emojis = [emoji_hundler(emoji_pattern.sub(r'', item)) for item in data_of_emojis]\n",
    "        \n",
    "        return [text_only] + extend_spletting(emojis)\n"
   ]
  },
  {
   "cell_type": "code",
   "execution_count": 21,
   "id": "e7bfabf4",
   "metadata": {
    "execution": {
     "iopub.execute_input": "2024-12-21T01:03:26.813516Z",
     "iopub.status.busy": "2024-12-21T01:03:26.813274Z",
     "iopub.status.idle": "2024-12-21T01:03:26.818118Z",
     "shell.execute_reply": "2024-12-21T01:03:26.817436Z"
    },
    "papermill": {
     "duration": 0.016152,
     "end_time": "2024-12-21T01:03:26.819587",
     "exception": false,
     "start_time": "2024-12-21T01:03:26.803435",
     "status": "completed"
    },
    "tags": []
   },
   "outputs": [],
   "source": [
    "# tramslating darija(latin) to daruja(arabic)\n",
    "def translate_darija_to_arabic(word): # useed\n",
    "    # print(\"test\")\n",
    "    word = word.lower()\n",
    "    if  bool(re.compile(r\"[a-z0-9']+\").search(word)):\n",
    "        arabic_word = \"\"\n",
    "        i = 0\n",
    "        while i < len(word):\n",
    "            # print('sadd')\n",
    "            if i + 1 < len(word) and word[i:i+2] in darija_alphabet: # Check for 2 lettrs\n",
    "                arabic_word += darija_alphabet[word[i:i+2]]\n",
    "                i += 2\n",
    "            elif word[i] in darija_alphabet:\n",
    "                arabic_word += darija_alphabet[word[i]]\n",
    "                i += 1\n",
    "            else:\n",
    "                i += 1\n",
    "        return arabic_word\n",
    "    return word\n",
    "      "
   ]
  },
  {
   "cell_type": "code",
   "execution_count": 22,
   "id": "20f10f73",
   "metadata": {
    "execution": {
     "iopub.execute_input": "2024-12-21T01:03:26.838946Z",
     "iopub.status.busy": "2024-12-21T01:03:26.838720Z",
     "iopub.status.idle": "2024-12-21T01:03:26.842625Z",
     "shell.execute_reply": "2024-12-21T01:03:26.841986Z"
    },
    "papermill": {
     "duration": 0.015414,
     "end_time": "2024-12-21T01:03:26.844153",
     "exception": false,
     "start_time": "2024-12-21T01:03:26.828739",
     "status": "completed"
    },
    "tags": []
   },
   "outputs": [],
   "source": [
    "# remove  number arabic and latin\n",
    "def number_remov(listy): # useed\n",
    "    number_pattern = re.compile(r'^[0-9\\u0660-\\u0669]+$')\n",
    "    cleaned_list = [item for item in listy if not number_pattern.fullmatch(item)] \n",
    "    return cleaned_list   "
   ]
  },
  {
   "cell_type": "code",
   "execution_count": 23,
   "id": "ac3dcc14",
   "metadata": {
    "execution": {
     "iopub.execute_input": "2024-12-21T01:03:26.863417Z",
     "iopub.status.busy": "2024-12-21T01:03:26.863112Z",
     "iopub.status.idle": "2024-12-21T01:03:26.867622Z",
     "shell.execute_reply": "2024-12-21T01:03:26.866955Z"
    },
    "papermill": {
     "duration": 0.015883,
     "end_time": "2024-12-21T01:03:26.869142",
     "exception": false,
     "start_time": "2024-12-21T01:03:26.853259",
     "status": "completed"
    },
    "tags": []
   },
   "outputs": [],
   "source": [
    "#stemming arabic words     \n",
    "def stemming_darija(word):\n",
    "    # file = \"./Data_prep/suf_pref_darija.json\" # local run\n",
    "    file = \"suf_pref_darija.json\" \n",
    "\n",
    "    with open(file, 'r', encoding='utf-8') as json_file:\n",
    "        suf_pref = json.load(json_file)\n",
    "\n",
    "    ArListem = ArabicLightStemmer()\n",
    "    ArListem.set_prefix_list(suf_pref['darija_prefixes'])\n",
    "    ArListem.set_suffix_list(suf_pref['darija_suffixes'])\n",
    "    ArListem.light_stem(word)  \n",
    "    return ArListem.get_stem() "
   ]
  },
  {
   "cell_type": "code",
   "execution_count": 24,
   "id": "6d0e7d7b",
   "metadata": {
    "execution": {
     "iopub.execute_input": "2024-12-21T01:03:26.888360Z",
     "iopub.status.busy": "2024-12-21T01:03:26.888060Z",
     "iopub.status.idle": "2024-12-21T01:03:26.891850Z",
     "shell.execute_reply": "2024-12-21T01:03:26.891130Z"
    },
    "papermill": {
     "duration": 0.015083,
     "end_time": "2024-12-21T01:03:26.893343",
     "exception": false,
     "start_time": "2024-12-21T01:03:26.878260",
     "status": "completed"
    },
    "tags": []
   },
   "outputs": [],
   "source": [
    "# \"03:44\"\n",
    "def remove_yt_timers(text):\n",
    "    pattern = r'\\b\\d{1,2}:\\d{2,3}(:\\d{2,3})?\\b'\n",
    "    text = re.sub(pattern, '', text)\n",
    "    return text.strip()"
   ]
  },
  {
   "cell_type": "code",
   "execution_count": 25,
   "id": "64b13f48",
   "metadata": {
    "execution": {
     "iopub.execute_input": "2024-12-21T01:03:26.913208Z",
     "iopub.status.busy": "2024-12-21T01:03:26.912627Z",
     "iopub.status.idle": "2024-12-21T01:03:26.916575Z",
     "shell.execute_reply": "2024-12-21T01:03:26.915859Z"
    },
    "papermill": {
     "duration": 0.015322,
     "end_time": "2024-12-21T01:03:26.917979",
     "exception": false,
     "start_time": "2024-12-21T01:03:26.902657",
     "status": "completed"
    },
    "tags": []
   },
   "outputs": [],
   "source": [
    "\n",
    "def preproc_arab_sentence(word): # main function for  arab processing tokens\n",
    "    word = removing_tashkeel(word)\n",
    "    word = removing_tatweel(word)\n",
    "    word = remove_AL(word)\n",
    "    # word = remove_ambiguity_hamza(word)\n",
    "    word = word_remover(word)\n",
    "    return word\n"
   ]
  },
  {
   "cell_type": "code",
   "execution_count": 26,
   "id": "d99a413f",
   "metadata": {
    "execution": {
     "iopub.execute_input": "2024-12-21T01:03:26.937178Z",
     "iopub.status.busy": "2024-12-21T01:03:26.936922Z",
     "iopub.status.idle": "2024-12-21T01:03:26.943720Z",
     "shell.execute_reply": "2024-12-21T01:03:26.943050Z"
    },
    "papermill": {
     "duration": 0.018175,
     "end_time": "2024-12-21T01:03:26.945199",
     "exception": false,
     "start_time": "2024-12-21T01:03:26.927024",
     "status": "completed"
    },
    "tags": []
   },
   "outputs": [],
   "source": [
    "from pyarabic.araby import tokenize\n",
    "def tokenize_arab_text(text):\n",
    "            # with open('./Data_prep/stop_words_accum.json', 'r', encoding='utf-8') as file: #  local run \n",
    "            with open('./stop_words_accum.json', 'r', encoding='utf-8') as file:\n",
    "\n",
    "                stop_words = json.load(file)\n",
    "\n",
    "            # with open('./Data_prep/darija_latin_ref.json', 'r', encoding='utf-8') as file: #  local run \n",
    "            with open('./darija_latin_ref.json', 'r', encoding='utf-8') as file:\n",
    "                \n",
    "                darija_latin_ref = json.load(file)\n",
    "          \n",
    "            #print(text)\n",
    "            text = remove_url(text)\n",
    "            text = remove_emails(text)\n",
    "            text = replace_underscore(text)\n",
    "            text = remove_html_tags(text)\n",
    "            text = remove_yt_timers(text)\n",
    "            text = special_tags_and_ponctuations(text)\n",
    "            #tokenization\n",
    "            #print(text)\n",
    "            words = tokenize(text)\n",
    "            # print(words)\n",
    "            words = [ translate_darija_to_arabic(word) for word in words if word not in darija_latin_ref]\n",
    "            print(words)\n",
    "            words = [is_an_emoji(word) for word in words] \n",
    "            words = [item for sublist in words for item in sublist if item]\n",
    "            words = list(set(words))\n",
    "            print(words)        \n",
    "            words = [word for word in words if word not in stop_words]\n",
    "            print(words)\n",
    "\n",
    "            words = [preproc_arab_sentence(word) for word in words]\n",
    "\n",
    "            # print(words)        \n",
    "            words = [stemming_darija(word) for word in words if word]\n",
    "            words = number_remov(words)\n",
    "\n",
    "\n",
    "            # print(words)\n",
    "            words = ' '.join(words) \n",
    "            return words"
   ]
  },
  {
   "cell_type": "code",
   "execution_count": 27,
   "id": "b9940941",
   "metadata": {
    "execution": {
     "iopub.execute_input": "2024-12-21T01:03:26.964345Z",
     "iopub.status.busy": "2024-12-21T01:03:26.964047Z",
     "iopub.status.idle": "2024-12-21T01:03:26.979028Z",
     "shell.execute_reply": "2024-12-21T01:03:26.978259Z"
    },
    "papermill": {
     "duration": 0.026399,
     "end_time": "2024-12-21T01:03:26.980642",
     "exception": false,
     "start_time": "2024-12-21T01:03:26.954243",
     "status": "completed"
    },
    "tags": []
   },
   "outputs": [
    {
     "data": {
      "text/html": [
       "<div>\n",
       "<style scoped>\n",
       "    .dataframe tbody tr th:only-of-type {\n",
       "        vertical-align: middle;\n",
       "    }\n",
       "\n",
       "    .dataframe tbody tr th {\n",
       "        vertical-align: top;\n",
       "    }\n",
       "\n",
       "    .dataframe thead th {\n",
       "        text-align: right;\n",
       "    }\n",
       "</style>\n",
       "<table border=\"1\" class=\"dataframe\">\n",
       "  <thead>\n",
       "    <tr style=\"text-align: right;\">\n",
       "      <th></th>\n",
       "      <th>text</th>\n",
       "      <th>target</th>\n",
       "      <th>text_cleaned</th>\n",
       "    </tr>\n",
       "  </thead>\n",
       "  <tbody>\n",
       "    <tr>\n",
       "      <th>0</th>\n",
       "      <td>كما هو الشان بكل المدن العثيقه باليونان مدن قد...</td>\n",
       "      <td>1</td>\n",
       "      <td>شان عثيقه قديمه جميله محلاتوبيوت عباره ديافه</td>\n",
       "    </tr>\n",
       "    <tr>\n",
       "      <th>1</th>\n",
       "      <td>عدد الكشوفات لازالت قليلة</td>\n",
       "      <td>0</td>\n",
       "      <td>كشوف</td>\n",
       "    </tr>\n",
       "    <tr>\n",
       "      <th>2</th>\n",
       "      <td>اش هانكلو لخرا</td>\n",
       "      <td>0</td>\n",
       "      <td>لخرا هانكلو</td>\n",
       "    </tr>\n",
       "    <tr>\n",
       "      <th>3</th>\n",
       "      <td>الله يمسخكم مباغينش ترجعو  لطريق الله الى جهنم...</td>\n",
       "      <td>0</td>\n",
       "      <td>جهنم وباس مباغينش يمسخكم مسير ترجعو</td>\n",
       "    </tr>\n",
       "    <tr>\n",
       "      <th>4</th>\n",
       "      <td>تفو عليك وعلي اليوم الي عرفتك فيه</td>\n",
       "      <td>0</td>\n",
       "      <td>تفو</td>\n",
       "    </tr>\n",
       "  </tbody>\n",
       "</table>\n",
       "</div>"
      ],
      "text/plain": [
       "                                                text  target  \\\n",
       "0  كما هو الشان بكل المدن العثيقه باليونان مدن قد...       1   \n",
       "1                          عدد الكشوفات لازالت قليلة       0   \n",
       "2                                     اش هانكلو لخرا       0   \n",
       "3  الله يمسخكم مباغينش ترجعو  لطريق الله الى جهنم...       0   \n",
       "4                  تفو عليك وعلي اليوم الي عرفتك فيه       0   \n",
       "\n",
       "                                   text_cleaned  \n",
       "0  شان عثيقه قديمه جميله محلاتوبيوت عباره ديافه  \n",
       "1                                          كشوف  \n",
       "2                                   لخرا هانكلو  \n",
       "3           جهنم وباس مباغينش يمسخكم مسير ترجعو  \n",
       "4                                           تفو  "
      ]
     },
     "execution_count": 27,
     "metadata": {},
     "output_type": "execute_result"
    }
   ],
   "source": [
    "data.head()"
   ]
  },
  {
   "cell_type": "code",
   "execution_count": 28,
   "id": "efda3752",
   "metadata": {
    "execution": {
     "iopub.execute_input": "2024-12-21T01:03:27.000414Z",
     "iopub.status.busy": "2024-12-21T01:03:27.000121Z",
     "iopub.status.idle": "2024-12-21T01:03:27.019177Z",
     "shell.execute_reply": "2024-12-21T01:03:27.018429Z"
    },
    "papermill": {
     "duration": 0.030706,
     "end_time": "2024-12-21T01:03:27.020698",
     "exception": false,
     "start_time": "2024-12-21T01:03:26.989992",
     "status": "completed"
    },
    "tags": []
   },
   "outputs": [
    {
     "data": {
      "text/html": [
       "<div>\n",
       "<style scoped>\n",
       "    .dataframe tbody tr th:only-of-type {\n",
       "        vertical-align: middle;\n",
       "    }\n",
       "\n",
       "    .dataframe tbody tr th {\n",
       "        vertical-align: top;\n",
       "    }\n",
       "\n",
       "    .dataframe thead th {\n",
       "        text-align: right;\n",
       "    }\n",
       "</style>\n",
       "<table border=\"1\" class=\"dataframe\">\n",
       "  <thead>\n",
       "    <tr style=\"text-align: right;\">\n",
       "      <th></th>\n",
       "      <th>text</th>\n",
       "      <th>target</th>\n",
       "      <th>text_cleaned</th>\n",
       "    </tr>\n",
       "  </thead>\n",
       "  <tbody>\n",
       "    <tr>\n",
       "      <th>0</th>\n",
       "      <td>كما هو الشان بكل المدن العثيقه باليونان مدن قد...</td>\n",
       "      <td>1</td>\n",
       "      <td>شان عثيقه قديمه جميله محلاتوبيوت عباره ديافه</td>\n",
       "    </tr>\n",
       "    <tr>\n",
       "      <th>1</th>\n",
       "      <td>عدد الكشوفات لازالت قليلة</td>\n",
       "      <td>0</td>\n",
       "      <td>كشوف</td>\n",
       "    </tr>\n",
       "    <tr>\n",
       "      <th>2</th>\n",
       "      <td>اش هانكلو لخرا</td>\n",
       "      <td>0</td>\n",
       "      <td>لخرا هانكلو</td>\n",
       "    </tr>\n",
       "    <tr>\n",
       "      <th>3</th>\n",
       "      <td>الله يمسخكم مباغينش ترجعو  لطريق الله الى جهنم...</td>\n",
       "      <td>0</td>\n",
       "      <td>جهنم وباس مباغينش يمسخكم مسير ترجعو</td>\n",
       "    </tr>\n",
       "    <tr>\n",
       "      <th>4</th>\n",
       "      <td>تفو عليك وعلي اليوم الي عرفتك فيه</td>\n",
       "      <td>0</td>\n",
       "      <td>تفو</td>\n",
       "    </tr>\n",
       "  </tbody>\n",
       "</table>\n",
       "</div>"
      ],
      "text/plain": [
       "                                                text  target  \\\n",
       "0  كما هو الشان بكل المدن العثيقه باليونان مدن قد...       1   \n",
       "1                          عدد الكشوفات لازالت قليلة       0   \n",
       "2                                     اش هانكلو لخرا       0   \n",
       "3  الله يمسخكم مباغينش ترجعو  لطريق الله الى جهنم...       0   \n",
       "4                  تفو عليك وعلي اليوم الي عرفتك فيه       0   \n",
       "\n",
       "                                   text_cleaned  \n",
       "0  شان عثيقه قديمه جميله محلاتوبيوت عباره ديافه  \n",
       "1                                          كشوف  \n",
       "2                                   لخرا هانكلو  \n",
       "3           جهنم وباس مباغينش يمسخكم مسير ترجعو  \n",
       "4                                           تفو  "
      ]
     },
     "execution_count": 28,
     "metadata": {},
     "output_type": "execute_result"
    }
   ],
   "source": [
    "data.dropna(inplace=True)\n",
    "data.head()"
   ]
  },
  {
   "cell_type": "code",
   "execution_count": 29,
   "id": "24ea67b2",
   "metadata": {
    "execution": {
     "iopub.execute_input": "2024-12-21T01:03:27.042833Z",
     "iopub.status.busy": "2024-12-21T01:03:27.042185Z",
     "iopub.status.idle": "2024-12-21T01:03:27.063741Z",
     "shell.execute_reply": "2024-12-21T01:03:27.062865Z"
    },
    "papermill": {
     "duration": 0.033622,
     "end_time": "2024-12-21T01:03:27.065400",
     "exception": false,
     "start_time": "2024-12-21T01:03:27.031778",
     "status": "completed"
    },
    "tags": []
   },
   "outputs": [
    {
     "name": "stdout",
     "output_type": "stream",
     "text": [
      "<class 'pandas.core.frame.DataFrame'>\n",
      "Index: 33821 entries, 0 to 34999\n",
      "Data columns (total 3 columns):\n",
      " #   Column        Non-Null Count  Dtype \n",
      "---  ------        --------------  ----- \n",
      " 0   text          33821 non-null  object\n",
      " 1   target        33821 non-null  int64 \n",
      " 2   text_cleaned  33821 non-null  object\n",
      "dtypes: int64(1), object(2)\n",
      "memory usage: 1.0+ MB\n"
     ]
    }
   ],
   "source": [
    "data.info()"
   ]
  },
  {
   "cell_type": "code",
   "execution_count": 30,
   "id": "8d3451c8",
   "metadata": {
    "execution": {
     "iopub.execute_input": "2024-12-21T01:03:27.087752Z",
     "iopub.status.busy": "2024-12-21T01:03:27.087051Z",
     "iopub.status.idle": "2024-12-21T01:03:27.115991Z",
     "shell.execute_reply": "2024-12-21T01:03:27.115119Z"
    },
    "papermill": {
     "duration": 0.042211,
     "end_time": "2024-12-21T01:03:27.117771",
     "exception": false,
     "start_time": "2024-12-21T01:03:27.075560",
     "status": "completed"
    },
    "tags": []
   },
   "outputs": [],
   "source": [
    "X_train, X_test, y_train, y_test = train_test_split(data[\"text_cleaned\"], data[\"target\"], test_size = 0.15, random_state = 42, stratify=data[\"target\"], shuffle = True)\n",
    "X_train, X_cv, y_train, y_cv = train_test_split(X_train, y_train, test_size = 0.1, random_state = 42, stratify=y_train, shuffle = True)\n"
   ]
  },
  {
   "cell_type": "code",
   "execution_count": 31,
   "id": "9a82a20e",
   "metadata": {
    "execution": {
     "iopub.execute_input": "2024-12-21T01:03:27.138284Z",
     "iopub.status.busy": "2024-12-21T01:03:27.137990Z",
     "iopub.status.idle": "2024-12-21T01:03:27.144482Z",
     "shell.execute_reply": "2024-12-21T01:03:27.143654Z"
    },
    "papermill": {
     "duration": 0.018426,
     "end_time": "2024-12-21T01:03:27.146050",
     "exception": false,
     "start_time": "2024-12-21T01:03:27.127624",
     "status": "completed"
    },
    "tags": []
   },
   "outputs": [
    {
     "data": {
      "text/plain": [
       "((25872,),\n",
       " (5074,),\n",
       " 20946          بدون فرح تاهل لجهنم تسفي بدموع اسرايل تحترق\n",
       " 33303    مايدار شوهه لا مقابلين زوينه كرهتكم نشروا ما غ...\n",
       " 8079     ديال قوه دولديها اولاد لا والحال ويحفدا حولا ي...\n",
       " 9066                                      عداله شفره تنميه\n",
       " 7711                                             عز راك دل\n",
       "                                ...                        \n",
       " 12820       خدام كيدخدم مرسم مجهود ما كيخدم بالعقد بالعقده\n",
       " 31269                                  بدون ما تشديد تمديد\n",
       " 14432    راب يربيكم جاتكوم بالزياد مزيان حكومه نداله نش...\n",
       " 20842          عمار اعداد ياس يستشهد غمستو مونتيسكو بكلامه\n",
       " 20263                                            قاسح احسن\n",
       " Name: text_cleaned, Length: 2875, dtype: object)"
      ]
     },
     "execution_count": 31,
     "metadata": {},
     "output_type": "execute_result"
    }
   ],
   "source": [
    "(X_train.shape , X_test.shape , X_cv)"
   ]
  },
  {
   "cell_type": "code",
   "execution_count": 32,
   "id": "3368e74e",
   "metadata": {
    "execution": {
     "iopub.execute_input": "2024-12-21T01:03:27.167021Z",
     "iopub.status.busy": "2024-12-21T01:03:27.166269Z",
     "iopub.status.idle": "2024-12-21T01:03:27.547580Z",
     "shell.execute_reply": "2024-12-21T01:03:27.546624Z"
    },
    "papermill": {
     "duration": 0.393679,
     "end_time": "2024-12-21T01:03:27.549573",
     "exception": false,
     "start_time": "2024-12-21T01:03:27.155894",
     "status": "completed"
    },
    "tags": []
   },
   "outputs": [],
   "source": [
    "token = Tokenizer()\n",
    "max_len = 65\n",
    "token.fit_on_texts(list(X_train))"
   ]
  },
  {
   "cell_type": "code",
   "execution_count": 33,
   "id": "8d41eb9b",
   "metadata": {
    "execution": {
     "iopub.execute_input": "2024-12-21T01:03:27.581029Z",
     "iopub.status.busy": "2024-12-21T01:03:27.580571Z",
     "iopub.status.idle": "2024-12-21T01:03:28.007578Z",
     "shell.execute_reply": "2024-12-21T01:03:28.006586Z"
    },
    "papermill": {
     "duration": 0.440666,
     "end_time": "2024-12-21T01:03:28.009646",
     "exception": false,
     "start_time": "2024-12-21T01:03:27.568980",
     "status": "completed"
    },
    "tags": []
   },
   "outputs": [],
   "source": [
    "x_train_seq = token.texts_to_sequences(X_train)\n",
    "x_cv_seq = token.texts_to_sequences(X_cv)\n",
    "x_test_seq = token.texts_to_sequences(X_test)\n",
    "\n",
    "x_train_pad = pad_sequences(x_train_seq, maxlen=max_len)\n",
    "x_cv_pad = pad_sequences(x_cv_seq, maxlen=max_len)\n",
    "x_test_pad = pad_sequences(x_test_seq, maxlen=max_len)\n"
   ]
  },
  {
   "cell_type": "code",
   "execution_count": 34,
   "id": "1d039063",
   "metadata": {
    "execution": {
     "iopub.execute_input": "2024-12-21T01:03:28.032154Z",
     "iopub.status.busy": "2024-12-21T01:03:28.031845Z",
     "iopub.status.idle": "2024-12-21T01:03:28.035729Z",
     "shell.execute_reply": "2024-12-21T01:03:28.034915Z"
    },
    "papermill": {
     "duration": 0.017586,
     "end_time": "2024-12-21T01:03:28.037402",
     "exception": false,
     "start_time": "2024-12-21T01:03:28.019816",
     "status": "completed"
    },
    "tags": []
   },
   "outputs": [],
   "source": [
    "vocab_length = token.word_index"
   ]
  },
  {
   "cell_type": "code",
   "execution_count": 35,
   "id": "6fa54be4",
   "metadata": {
    "execution": {
     "iopub.execute_input": "2024-12-21T01:03:28.057696Z",
     "iopub.status.busy": "2024-12-21T01:03:28.057443Z",
     "iopub.status.idle": "2024-12-21T01:03:28.062482Z",
     "shell.execute_reply": "2024-12-21T01:03:28.061698Z"
    },
    "papermill": {
     "duration": 0.017069,
     "end_time": "2024-12-21T01:03:28.063994",
     "exception": false,
     "start_time": "2024-12-21T01:03:28.046925",
     "status": "completed"
    },
    "tags": []
   },
   "outputs": [
    {
     "data": {
      "text/plain": [
       "50062"
      ]
     },
     "execution_count": 35,
     "metadata": {},
     "output_type": "execute_result"
    }
   ],
   "source": [
    "len(vocab_length)"
   ]
  },
  {
   "cell_type": "markdown",
   "id": "62a29b78",
   "metadata": {
    "papermill": {
     "duration": 0.009409,
     "end_time": "2024-12-21T01:03:28.083071",
     "exception": false,
     "start_time": "2024-12-21T01:03:28.073662",
     "status": "completed"
    },
    "tags": []
   },
   "source": [
    "## 3. Models\n",
    "Implementation of deep learning models:\n",
    "- RNN (Recurrent Neural Network)\n",
    "- CNN (Convolutional Neural Network)"
   ]
  },
  {
   "cell_type": "markdown",
   "id": "46bf1080",
   "metadata": {
    "papermill": {
     "duration": 0.009347,
     "end_time": "2024-12-21T01:03:28.101976",
     "exception": false,
     "start_time": "2024-12-21T01:03:28.092629",
     "status": "completed"
    },
    "tags": []
   },
   "source": [
    "# RNN Model"
   ]
  },
  {
   "cell_type": "code",
   "execution_count": 36,
   "id": "42691633",
   "metadata": {
    "execution": {
     "iopub.execute_input": "2024-12-21T01:03:28.123160Z",
     "iopub.status.busy": "2024-12-21T01:03:28.122837Z",
     "iopub.status.idle": "2024-12-21T01:03:28.996587Z",
     "shell.execute_reply": "2024-12-21T01:03:28.995529Z"
    },
    "papermill": {
     "duration": 0.888058,
     "end_time": "2024-12-21T01:03:29.000124",
     "exception": false,
     "start_time": "2024-12-21T01:03:28.112066",
     "status": "completed"
    },
    "tags": []
   },
   "outputs": [],
   "source": [
    "model = Sequential([\n",
    "    Embedding(input_dim = len(vocab_length)+1, output_dim =128 ),\n",
    "    SimpleRNN(64 , activation='tanh' ,kernel_regularizer=l2(0.01), recurrent_regularizer=l2(0.01)),\n",
    "    Dropout(0.3),\n",
    "\n",
    "    Dense(32, activation='relu', kernel_regularizer=l2(0.01)),\n",
    "    Dropout(0.3),\n",
    "    Dense(1, activation='sigmoid')\n",
    "])\n",
    "\n",
    "optimizer = Adam(learning_rate=0.001)\n",
    "model.compile(optimizer=optimizer,loss='binary_crossentropy',metrics=['accuracy'])"
   ]
  },
  {
   "cell_type": "code",
   "execution_count": 37,
   "id": "9c3f1f98",
   "metadata": {
    "execution": {
     "iopub.execute_input": "2024-12-21T01:03:29.034931Z",
     "iopub.status.busy": "2024-12-21T01:03:29.034072Z",
     "iopub.status.idle": "2024-12-21T01:03:29.039014Z",
     "shell.execute_reply": "2024-12-21T01:03:29.038194Z"
    },
    "papermill": {
     "duration": 0.026174,
     "end_time": "2024-12-21T01:03:29.040629",
     "exception": false,
     "start_time": "2024-12-21T01:03:29.014455",
     "status": "completed"
    },
    "tags": []
   },
   "outputs": [],
   "source": [
    "early_stopping = EarlyStopping(\n",
    "    monitor='val_accuracy',\n",
    "    patience=7,\n",
    "    restore_best_weights=True,\n",
    "    mode='max'\n",
    ")"
   ]
  },
  {
   "cell_type": "code",
   "execution_count": 38,
   "id": "09eafc99",
   "metadata": {
    "execution": {
     "iopub.execute_input": "2024-12-21T01:03:29.062503Z",
     "iopub.status.busy": "2024-12-21T01:03:29.061640Z",
     "iopub.status.idle": "2024-12-21T01:04:04.234224Z",
     "shell.execute_reply": "2024-12-21T01:04:04.233382Z"
    },
    "papermill": {
     "duration": 35.185197,
     "end_time": "2024-12-21T01:04:04.235893",
     "exception": false,
     "start_time": "2024-12-21T01:03:29.050696",
     "status": "completed"
    },
    "tags": []
   },
   "outputs": [
    {
     "name": "stdout",
     "output_type": "stream",
     "text": [
      "Epoch 1/50\n"
     ]
    },
    {
     "name": "stderr",
     "output_type": "stream",
     "text": [
      "WARNING: All log messages before absl::InitializeLog() is called are written to STDERR\n",
      "I0000 00:00:1734743011.348138      76 service.cc:145] XLA service 0x784864139cd0 initialized for platform CUDA (this does not guarantee that XLA will be used). Devices:\n",
      "I0000 00:00:1734743011.348182      76 service.cc:153]   StreamExecutor device (0): Tesla T4, Compute Capability 7.5\n",
      "I0000 00:00:1734743011.348185      76 service.cc:153]   StreamExecutor device (1): Tesla T4, Compute Capability 7.5\n"
     ]
    },
    {
     "name": "stdout",
     "output_type": "stream",
     "text": [
      "\u001b[1m 18/405\u001b[0m \u001b[37m━━━━━━━━━━━━━━━━━━━━\u001b[0m \u001b[1m3s\u001b[0m 10ms/step - accuracy: 0.4988 - loss: 2.5643"
     ]
    },
    {
     "name": "stderr",
     "output_type": "stream",
     "text": [
      "I0000 00:00:1734743015.353467      76 device_compiler.h:188] Compiled cluster using XLA!  This line is logged at most once for the lifetime of the process.\n"
     ]
    },
    {
     "name": "stdout",
     "output_type": "stream",
     "text": [
      "\u001b[1m405/405\u001b[0m \u001b[32m━━━━━━━━━━━━━━━━━━━━\u001b[0m\u001b[37m\u001b[0m \u001b[1m13s\u001b[0m 18ms/step - accuracy: 0.5942 - loss: 1.5521 - val_accuracy: 0.7235 - val_loss: 0.5976\n",
      "Epoch 2/50\n",
      "\u001b[1m405/405\u001b[0m \u001b[32m━━━━━━━━━━━━━━━━━━━━\u001b[0m\u001b[37m\u001b[0m \u001b[1m3s\u001b[0m 8ms/step - accuracy: 0.8594 - loss: 0.4131 - val_accuracy: 0.7200 - val_loss: 0.6445\n",
      "Epoch 3/50\n",
      "\u001b[1m405/405\u001b[0m \u001b[32m━━━━━━━━━━━━━━━━━━━━\u001b[0m\u001b[37m\u001b[0m \u001b[1m3s\u001b[0m 8ms/step - accuracy: 0.9451 - loss: 0.2160 - val_accuracy: 0.7228 - val_loss: 0.7310\n",
      "Epoch 4/50\n",
      "\u001b[1m405/405\u001b[0m \u001b[32m━━━━━━━━━━━━━━━━━━━━\u001b[0m\u001b[37m\u001b[0m \u001b[1m3s\u001b[0m 8ms/step - accuracy: 0.9662 - loss: 0.1607 - val_accuracy: 0.7082 - val_loss: 0.8472\n",
      "Epoch 5/50\n",
      "\u001b[1m405/405\u001b[0m \u001b[32m━━━━━━━━━━━━━━━━━━━━\u001b[0m\u001b[37m\u001b[0m \u001b[1m3s\u001b[0m 8ms/step - accuracy: 0.9750 - loss: 0.1251 - val_accuracy: 0.7197 - val_loss: 0.8905\n",
      "Epoch 6/50\n",
      "\u001b[1m405/405\u001b[0m \u001b[32m━━━━━━━━━━━━━━━━━━━━\u001b[0m\u001b[37m\u001b[0m \u001b[1m3s\u001b[0m 8ms/step - accuracy: 0.9772 - loss: 0.1145 - val_accuracy: 0.7137 - val_loss: 0.9723\n",
      "Epoch 7/50\n",
      "\u001b[1m405/405\u001b[0m \u001b[32m━━━━━━━━━━━━━━━━━━━━\u001b[0m\u001b[37m\u001b[0m \u001b[1m3s\u001b[0m 8ms/step - accuracy: 0.9802 - loss: 0.1052 - val_accuracy: 0.7169 - val_loss: 1.0091\n",
      "Epoch 8/50\n",
      "\u001b[1m405/405\u001b[0m \u001b[32m━━━━━━━━━━━━━━━━━━━━\u001b[0m\u001b[37m\u001b[0m \u001b[1m3s\u001b[0m 8ms/step - accuracy: 0.9801 - loss: 0.0971 - val_accuracy: 0.7092 - val_loss: 1.0495\n"
     ]
    },
    {
     "data": {
      "text/plain": [
       "<keras.src.callbacks.history.History at 0x7848edf487c0>"
      ]
     },
     "execution_count": 38,
     "metadata": {},
     "output_type": "execute_result"
    }
   ],
   "source": [
    "model.fit(x_train_pad, y_train,validation_data=(x_cv_pad ,y_cv ) , epochs = 50 , batch_size=64, callbacks=[early_stopping] ,shuffle=True)\n"
   ]
  },
  {
   "cell_type": "code",
   "execution_count": 39,
   "id": "e5b80cbd",
   "metadata": {
    "execution": {
     "iopub.execute_input": "2024-12-21T01:04:04.300012Z",
     "iopub.status.busy": "2024-12-21T01:04:04.299724Z",
     "iopub.status.idle": "2024-12-21T01:04:05.283117Z",
     "shell.execute_reply": "2024-12-21T01:04:05.282361Z"
    },
    "papermill": {
     "duration": 1.017304,
     "end_time": "2024-12-21T01:04:05.284830",
     "exception": false,
     "start_time": "2024-12-21T01:04:04.267526",
     "status": "completed"
    },
    "tags": []
   },
   "outputs": [
    {
     "name": "stdout",
     "output_type": "stream",
     "text": [
      "\u001b[1m159/159\u001b[0m \u001b[32m━━━━━━━━━━━━━━━━━━━━\u001b[0m\u001b[37m\u001b[0m \u001b[1m1s\u001b[0m 4ms/step - accuracy: 0.7378 - loss: 0.5777\n",
      "Test Accuracy: 0.737091064453125\n"
     ]
    }
   ],
   "source": [
    "test_loss, test_accuracy = model.evaluate(x_test_pad, y_test)\n",
    "print(\"Test Accuracy:\", test_accuracy)"
   ]
  },
  {
   "cell_type": "code",
   "execution_count": 40,
   "id": "537b304b",
   "metadata": {
    "execution": {
     "iopub.execute_input": "2024-12-21T01:04:05.384945Z",
     "iopub.status.busy": "2024-12-21T01:04:05.384250Z",
     "iopub.status.idle": "2024-12-21T01:04:05.757192Z",
     "shell.execute_reply": "2024-12-21T01:04:05.756342Z"
    },
    "papermill": {
     "duration": 0.442588,
     "end_time": "2024-12-21T01:04:05.759183",
     "exception": false,
     "start_time": "2024-12-21T01:04:05.316595",
     "status": "completed"
    },
    "tags": []
   },
   "outputs": [
    {
     "name": "stdout",
     "output_type": "stream",
     "text": [
      "[]\n",
      "[]\n",
      "[]\n",
      "\u001b[1m1/1\u001b[0m \u001b[32m━━━━━━━━━━━━━━━━━━━━\u001b[0m\u001b[37m\u001b[0m \u001b[1m0s\u001b[0m 273ms/step\n",
      "Prediction: [[0.7498604]]\n"
     ]
    }
   ],
   "source": [
    "input_text = [tokenize_arab_text(\"\")]  \n",
    "input_sequence = token.texts_to_sequences(input_text)\n",
    "input_padded = pad_sequences(input_sequence, maxlen=max_len)\n",
    "\n",
    "input_padded = input_padded.reshape(1, max_len)\n",
    "\n",
    "prediction = model.predict(input_padded)\n",
    "print(\"Prediction:\", prediction)"
   ]
  },
  {
   "cell_type": "markdown",
   "id": "9f7a35fb",
   "metadata": {
    "papermill": {
     "duration": 0.031513,
     "end_time": "2024-12-21T01:04:05.828122",
     "exception": false,
     "start_time": "2024-12-21T01:04:05.796609",
     "status": "completed"
    },
    "tags": []
   },
   "source": [
    "# Tuning RNN Model"
   ]
  },
  {
   "cell_type": "code",
   "execution_count": 41,
   "id": "bb8795d2",
   "metadata": {
    "execution": {
     "iopub.execute_input": "2024-12-21T01:04:05.891032Z",
     "iopub.status.busy": "2024-12-21T01:04:05.890706Z",
     "iopub.status.idle": "2024-12-21T01:04:05.895554Z",
     "shell.execute_reply": "2024-12-21T01:04:05.894714Z"
    },
    "papermill": {
     "duration": 0.038157,
     "end_time": "2024-12-21T01:04:05.897067",
     "exception": false,
     "start_time": "2024-12-21T01:04:05.858910",
     "status": "completed"
    },
    "tags": []
   },
   "outputs": [],
   "source": [
    "hyperparameters = {\n",
    "    'embedding_dim': [32, 64, 128],\n",
    "    'rnn_units': [ 32,64, 128],\n",
    "    'dense_units': [ 32, 64],\n",
    "    'dropout_rate': [0.1 ,0.3],\n",
    "    'learning_rate': [0.001 , 0.01],\n",
    "    'batch_size': [32,128],\n",
    "    'activation': [\"relu\", \"tanh\"] \n",
    "}\n",
    "best_accuracy = 0\n",
    "best_params = {}\n",
    "best_history = None  \n",
    "results = []"
   ]
  },
  {
   "cell_type": "code",
   "execution_count": 42,
   "id": "b20da172",
   "metadata": {
    "execution": {
     "iopub.execute_input": "2024-12-21T01:04:05.960694Z",
     "iopub.status.busy": "2024-12-21T01:04:05.960426Z",
     "iopub.status.idle": "2024-12-21T03:12:00.196913Z",
     "shell.execute_reply": "2024-12-21T03:12:00.195947Z"
    },
    "papermill": {
     "duration": 7674.314804,
     "end_time": "2024-12-21T03:12:00.242859",
     "exception": false,
     "start_time": "2024-12-21T01:04:05.928055",
     "status": "completed"
    },
    "tags": []
   },
   "outputs": [
    {
     "name": "stdout",
     "output_type": "stream",
     "text": [
      "Tested parameters: {'embedding_dim': 32, 'rnn_units': 32, 'dense_units': 32, 'dropout_rate': 0.1, 'learning_rate': 0.001, 'batch_size': 32, 'activation': 'relu', 'val_accuracy': 0.7349231243133545}\n",
      "Validation accuracy: 0.7349\n",
      "--------------------------------------------------\n",
      "Tested parameters: {'embedding_dim': 32, 'rnn_units': 32, 'dense_units': 32, 'dropout_rate': 0.1, 'learning_rate': 0.001, 'batch_size': 32, 'activation': 'tanh', 'val_accuracy': 0.7363027334213257}\n",
      "Validation accuracy: 0.7363\n",
      "--------------------------------------------------\n",
      "Tested parameters: {'embedding_dim': 32, 'rnn_units': 32, 'dense_units': 32, 'dropout_rate': 0.1, 'learning_rate': 0.001, 'batch_size': 128, 'activation': 'relu', 'val_accuracy': 0.7577847838401794}\n",
      "Validation accuracy: 0.7578\n",
      "--------------------------------------------------\n",
      "Tested parameters: {'embedding_dim': 32, 'rnn_units': 32, 'dense_units': 32, 'dropout_rate': 0.1, 'learning_rate': 0.001, 'batch_size': 128, 'activation': 'tanh', 'val_accuracy': 0.7416239380836487}\n",
      "Validation accuracy: 0.7416\n",
      "--------------------------------------------------\n",
      "Tested parameters: {'embedding_dim': 32, 'rnn_units': 32, 'dense_units': 32, 'dropout_rate': 0.1, 'learning_rate': 0.01, 'batch_size': 32, 'activation': 'relu', 'val_accuracy': 0.5088687539100647}\n",
      "Validation accuracy: 0.5089\n",
      "--------------------------------------------------\n",
      "Tested parameters: {'embedding_dim': 32, 'rnn_units': 32, 'dense_units': 32, 'dropout_rate': 0.1, 'learning_rate': 0.01, 'batch_size': 32, 'activation': 'tanh', 'val_accuracy': 0.7410327196121216}\n",
      "Validation accuracy: 0.7410\n",
      "--------------------------------------------------\n",
      "Tested parameters: {'embedding_dim': 32, 'rnn_units': 32, 'dense_units': 32, 'dropout_rate': 0.1, 'learning_rate': 0.01, 'batch_size': 128, 'activation': 'relu', 'val_accuracy': 0.5088687539100647}\n",
      "Validation accuracy: 0.5089\n",
      "--------------------------------------------------\n",
      "Tested parameters: {'embedding_dim': 32, 'rnn_units': 32, 'dense_units': 32, 'dropout_rate': 0.1, 'learning_rate': 0.01, 'batch_size': 128, 'activation': 'tanh', 'val_accuracy': 0.7366968989372253}\n",
      "Validation accuracy: 0.7367\n",
      "--------------------------------------------------\n",
      "Tested parameters: {'embedding_dim': 32, 'rnn_units': 32, 'dense_units': 32, 'dropout_rate': 0.3, 'learning_rate': 0.001, 'batch_size': 32, 'activation': 'relu', 'val_accuracy': 0.7130469083786011}\n",
      "Validation accuracy: 0.7130\n",
      "--------------------------------------------------\n",
      "Tested parameters: {'embedding_dim': 32, 'rnn_units': 32, 'dense_units': 32, 'dropout_rate': 0.3, 'learning_rate': 0.001, 'batch_size': 32, 'activation': 'tanh', 'val_accuracy': 0.7299960851669312}\n",
      "Validation accuracy: 0.7300\n",
      "--------------------------------------------------\n",
      "Tested parameters: {'embedding_dim': 32, 'rnn_units': 32, 'dense_units': 32, 'dropout_rate': 0.3, 'learning_rate': 0.001, 'batch_size': 128, 'activation': 'relu', 'val_accuracy': 0.6649585962295532}\n",
      "Validation accuracy: 0.6650\n",
      "--------------------------------------------------\n",
      "Tested parameters: {'embedding_dim': 32, 'rnn_units': 32, 'dense_units': 32, 'dropout_rate': 0.3, 'learning_rate': 0.001, 'batch_size': 128, 'activation': 'tanh', 'val_accuracy': 0.7096964716911316}\n",
      "Validation accuracy: 0.7097\n",
      "--------------------------------------------------\n",
      "Tested parameters: {'embedding_dim': 32, 'rnn_units': 32, 'dense_units': 32, 'dropout_rate': 0.3, 'learning_rate': 0.01, 'batch_size': 32, 'activation': 'relu', 'val_accuracy': 0.5088687539100647}\n",
      "Validation accuracy: 0.5089\n",
      "--------------------------------------------------\n",
      "Tested parameters: {'embedding_dim': 32, 'rnn_units': 32, 'dense_units': 32, 'dropout_rate': 0.3, 'learning_rate': 0.01, 'batch_size': 32, 'activation': 'tanh', 'val_accuracy': 0.735908567905426}\n",
      "Validation accuracy: 0.7359\n",
      "--------------------------------------------------\n",
      "Tested parameters: {'embedding_dim': 32, 'rnn_units': 32, 'dense_units': 32, 'dropout_rate': 0.3, 'learning_rate': 0.01, 'batch_size': 128, 'activation': 'relu', 'val_accuracy': 0.5088687539100647}\n",
      "Validation accuracy: 0.5089\n",
      "--------------------------------------------------\n",
      "Tested parameters: {'embedding_dim': 32, 'rnn_units': 32, 'dense_units': 32, 'dropout_rate': 0.3, 'learning_rate': 0.01, 'batch_size': 128, 'activation': 'tanh', 'val_accuracy': 0.7227039933204651}\n",
      "Validation accuracy: 0.7227\n",
      "--------------------------------------------------\n",
      "Tested parameters: {'embedding_dim': 32, 'rnn_units': 32, 'dense_units': 64, 'dropout_rate': 0.1, 'learning_rate': 0.001, 'batch_size': 32, 'activation': 'relu', 'val_accuracy': 0.7416239380836487}\n",
      "Validation accuracy: 0.7416\n",
      "--------------------------------------------------\n",
      "Tested parameters: {'embedding_dim': 32, 'rnn_units': 32, 'dense_units': 64, 'dropout_rate': 0.1, 'learning_rate': 0.001, 'batch_size': 32, 'activation': 'tanh', 'val_accuracy': 0.7361056208610535}\n",
      "Validation accuracy: 0.7361\n",
      "--------------------------------------------------\n",
      "Tested parameters: {'embedding_dim': 32, 'rnn_units': 32, 'dense_units': 64, 'dropout_rate': 0.1, 'learning_rate': 0.001, 'batch_size': 128, 'activation': 'relu', 'val_accuracy': 0.7201418876647949}\n",
      "Validation accuracy: 0.7201\n",
      "--------------------------------------------------\n",
      "Tested parameters: {'embedding_dim': 32, 'rnn_units': 32, 'dense_units': 64, 'dropout_rate': 0.1, 'learning_rate': 0.001, 'batch_size': 128, 'activation': 'tanh', 'val_accuracy': 0.7364997863769531}\n",
      "Validation accuracy: 0.7365\n",
      "--------------------------------------------------\n",
      "Tested parameters: {'embedding_dim': 32, 'rnn_units': 32, 'dense_units': 64, 'dropout_rate': 0.1, 'learning_rate': 0.01, 'batch_size': 32, 'activation': 'relu', 'val_accuracy': 0.5088687539100647}\n",
      "Validation accuracy: 0.5089\n",
      "--------------------------------------------------\n",
      "Tested parameters: {'embedding_dim': 32, 'rnn_units': 32, 'dense_units': 64, 'dropout_rate': 0.1, 'learning_rate': 0.01, 'batch_size': 32, 'activation': 'tanh', 'val_accuracy': 0.7437918782234192}\n",
      "Validation accuracy: 0.7438\n",
      "--------------------------------------------------\n",
      "Tested parameters: {'embedding_dim': 32, 'rnn_units': 32, 'dense_units': 64, 'dropout_rate': 0.1, 'learning_rate': 0.01, 'batch_size': 128, 'activation': 'relu', 'val_accuracy': 0.7319669127464294}\n",
      "Validation accuracy: 0.7320\n",
      "--------------------------------------------------\n",
      "Tested parameters: {'embedding_dim': 32, 'rnn_units': 32, 'dense_units': 64, 'dropout_rate': 0.1, 'learning_rate': 0.01, 'batch_size': 128, 'activation': 'tanh', 'val_accuracy': 0.7357114553451538}\n",
      "Validation accuracy: 0.7357\n",
      "--------------------------------------------------\n",
      "Tested parameters: {'embedding_dim': 32, 'rnn_units': 32, 'dense_units': 64, 'dropout_rate': 0.3, 'learning_rate': 0.001, 'batch_size': 32, 'activation': 'relu', 'val_accuracy': 0.737091064453125}\n",
      "Validation accuracy: 0.7371\n",
      "--------------------------------------------------\n",
      "Tested parameters: {'embedding_dim': 32, 'rnn_units': 32, 'dense_units': 64, 'dropout_rate': 0.3, 'learning_rate': 0.001, 'batch_size': 32, 'activation': 'tanh', 'val_accuracy': 0.7522664666175842}\n",
      "Validation accuracy: 0.7523\n",
      "--------------------------------------------------\n",
      "Tested parameters: {'embedding_dim': 32, 'rnn_units': 32, 'dense_units': 64, 'dropout_rate': 0.3, 'learning_rate': 0.001, 'batch_size': 128, 'activation': 'relu', 'val_accuracy': 0.7087110877037048}\n",
      "Validation accuracy: 0.7087\n",
      "--------------------------------------------------\n",
      "Tested parameters: {'embedding_dim': 32, 'rnn_units': 32, 'dense_units': 64, 'dropout_rate': 0.3, 'learning_rate': 0.001, 'batch_size': 128, 'activation': 'tanh', 'val_accuracy': 0.726251482963562}\n",
      "Validation accuracy: 0.7263\n",
      "--------------------------------------------------\n",
      "Tested parameters: {'embedding_dim': 32, 'rnn_units': 32, 'dense_units': 64, 'dropout_rate': 0.3, 'learning_rate': 0.01, 'batch_size': 32, 'activation': 'relu', 'val_accuracy': 0.5088687539100647}\n",
      "Validation accuracy: 0.5089\n",
      "--------------------------------------------------\n",
      "Tested parameters: {'embedding_dim': 32, 'rnn_units': 32, 'dense_units': 64, 'dropout_rate': 0.3, 'learning_rate': 0.01, 'batch_size': 32, 'activation': 'tanh', 'val_accuracy': 0.7201418876647949}\n",
      "Validation accuracy: 0.7201\n",
      "--------------------------------------------------\n",
      "Tested parameters: {'embedding_dim': 32, 'rnn_units': 32, 'dense_units': 64, 'dropout_rate': 0.3, 'learning_rate': 0.01, 'batch_size': 128, 'activation': 'relu', 'val_accuracy': 0.5088687539100647}\n",
      "Validation accuracy: 0.5089\n",
      "--------------------------------------------------\n",
      "Tested parameters: {'embedding_dim': 32, 'rnn_units': 32, 'dense_units': 64, 'dropout_rate': 0.3, 'learning_rate': 0.01, 'batch_size': 128, 'activation': 'tanh', 'val_accuracy': 0.7305873036384583}\n",
      "Validation accuracy: 0.7306\n",
      "--------------------------------------------------\n",
      "Tested parameters: {'embedding_dim': 32, 'rnn_units': 64, 'dense_units': 32, 'dropout_rate': 0.1, 'learning_rate': 0.001, 'batch_size': 32, 'activation': 'relu', 'val_accuracy': 0.7236893773078918}\n",
      "Validation accuracy: 0.7237\n",
      "--------------------------------------------------\n",
      "Tested parameters: {'embedding_dim': 32, 'rnn_units': 64, 'dense_units': 32, 'dropout_rate': 0.1, 'learning_rate': 0.001, 'batch_size': 32, 'activation': 'tanh', 'val_accuracy': 0.7219156622886658}\n",
      "Validation accuracy: 0.7219\n",
      "--------------------------------------------------\n",
      "Tested parameters: {'embedding_dim': 32, 'rnn_units': 64, 'dense_units': 32, 'dropout_rate': 0.1, 'learning_rate': 0.001, 'batch_size': 128, 'activation': 'relu', 'val_accuracy': 0.6986598372459412}\n",
      "Validation accuracy: 0.6987\n",
      "--------------------------------------------------\n",
      "Tested parameters: {'embedding_dim': 32, 'rnn_units': 64, 'dense_units': 32, 'dropout_rate': 0.1, 'learning_rate': 0.001, 'batch_size': 128, 'activation': 'tanh', 'val_accuracy': 0.7420181035995483}\n",
      "Validation accuracy: 0.7420\n",
      "--------------------------------------------------\n",
      "Tested parameters: {'embedding_dim': 32, 'rnn_units': 64, 'dense_units': 32, 'dropout_rate': 0.1, 'learning_rate': 0.01, 'batch_size': 32, 'activation': 'relu', 'val_accuracy': 0.5088687539100647}\n",
      "Validation accuracy: 0.5089\n",
      "--------------------------------------------------\n",
      "Tested parameters: {'embedding_dim': 32, 'rnn_units': 64, 'dense_units': 32, 'dropout_rate': 0.1, 'learning_rate': 0.01, 'batch_size': 32, 'activation': 'tanh', 'val_accuracy': 0.4911312460899353}\n",
      "Validation accuracy: 0.4911\n",
      "--------------------------------------------------\n",
      "Tested parameters: {'embedding_dim': 32, 'rnn_units': 64, 'dense_units': 32, 'dropout_rate': 0.1, 'learning_rate': 0.01, 'batch_size': 128, 'activation': 'relu', 'val_accuracy': 0.5088687539100647}\n",
      "Validation accuracy: 0.5089\n",
      "--------------------------------------------------\n",
      "Tested parameters: {'embedding_dim': 32, 'rnn_units': 64, 'dense_units': 32, 'dropout_rate': 0.1, 'learning_rate': 0.01, 'batch_size': 128, 'activation': 'tanh', 'val_accuracy': 0.749113142490387}\n",
      "Validation accuracy: 0.7491\n",
      "--------------------------------------------------\n",
      "Tested parameters: {'embedding_dim': 32, 'rnn_units': 64, 'dense_units': 32, 'dropout_rate': 0.3, 'learning_rate': 0.001, 'batch_size': 32, 'activation': 'relu', 'val_accuracy': 0.7402443885803223}\n",
      "Validation accuracy: 0.7402\n",
      "--------------------------------------------------\n",
      "Tested parameters: {'embedding_dim': 32, 'rnn_units': 64, 'dense_units': 32, 'dropout_rate': 0.3, 'learning_rate': 0.001, 'batch_size': 32, 'activation': 'tanh', 'val_accuracy': 0.74556565284729}\n",
      "Validation accuracy: 0.7456\n",
      "--------------------------------------------------\n",
      "Tested parameters: {'embedding_dim': 32, 'rnn_units': 64, 'dense_units': 32, 'dropout_rate': 0.3, 'learning_rate': 0.001, 'batch_size': 128, 'activation': 'relu', 'val_accuracy': 0.647418200969696}\n",
      "Validation accuracy: 0.6474\n",
      "--------------------------------------------------\n",
      "Tested parameters: {'embedding_dim': 32, 'rnn_units': 64, 'dense_units': 32, 'dropout_rate': 0.3, 'learning_rate': 0.001, 'batch_size': 128, 'activation': 'tanh', 'val_accuracy': 0.6951123476028442}\n",
      "Validation accuracy: 0.6951\n",
      "--------------------------------------------------\n",
      "Tested parameters: {'embedding_dim': 32, 'rnn_units': 64, 'dense_units': 32, 'dropout_rate': 0.3, 'learning_rate': 0.01, 'batch_size': 32, 'activation': 'relu', 'val_accuracy': 0.5088687539100647}\n",
      "Validation accuracy: 0.5089\n",
      "--------------------------------------------------\n",
      "Tested parameters: {'embedding_dim': 32, 'rnn_units': 64, 'dense_units': 32, 'dropout_rate': 0.3, 'learning_rate': 0.01, 'batch_size': 32, 'activation': 'tanh', 'val_accuracy': 0.5088687539100647}\n",
      "Validation accuracy: 0.5089\n",
      "--------------------------------------------------\n",
      "Tested parameters: {'embedding_dim': 32, 'rnn_units': 64, 'dense_units': 32, 'dropout_rate': 0.3, 'learning_rate': 0.01, 'batch_size': 128, 'activation': 'relu', 'val_accuracy': 0.7345289587974548}\n",
      "Validation accuracy: 0.7345\n",
      "--------------------------------------------------\n",
      "Tested parameters: {'embedding_dim': 32, 'rnn_units': 64, 'dense_units': 32, 'dropout_rate': 0.3, 'learning_rate': 0.01, 'batch_size': 128, 'activation': 'tanh', 'val_accuracy': 0.7355144023895264}\n",
      "Validation accuracy: 0.7355\n",
      "--------------------------------------------------\n",
      "Tested parameters: {'embedding_dim': 32, 'rnn_units': 64, 'dense_units': 64, 'dropout_rate': 0.1, 'learning_rate': 0.001, 'batch_size': 32, 'activation': 'relu', 'val_accuracy': 0.7323610782623291}\n",
      "Validation accuracy: 0.7324\n",
      "--------------------------------------------------\n",
      "Tested parameters: {'embedding_dim': 32, 'rnn_units': 64, 'dense_units': 64, 'dropout_rate': 0.1, 'learning_rate': 0.001, 'batch_size': 32, 'activation': 'tanh', 'val_accuracy': 0.727433979511261}\n",
      "Validation accuracy: 0.7274\n",
      "--------------------------------------------------\n",
      "Tested parameters: {'embedding_dim': 32, 'rnn_units': 64, 'dense_units': 64, 'dropout_rate': 0.1, 'learning_rate': 0.001, 'batch_size': 128, 'activation': 'relu', 'val_accuracy': 0.6564840078353882}\n",
      "Validation accuracy: 0.6565\n",
      "--------------------------------------------------\n",
      "Tested parameters: {'embedding_dim': 32, 'rnn_units': 64, 'dense_units': 64, 'dropout_rate': 0.1, 'learning_rate': 0.001, 'batch_size': 128, 'activation': 'tanh', 'val_accuracy': 0.7463539838790894}\n",
      "Validation accuracy: 0.7464\n",
      "--------------------------------------------------\n",
      "Tested parameters: {'embedding_dim': 32, 'rnn_units': 64, 'dense_units': 64, 'dropout_rate': 0.1, 'learning_rate': 0.01, 'batch_size': 32, 'activation': 'relu', 'val_accuracy': 0.5088687539100647}\n",
      "Validation accuracy: 0.5089\n",
      "--------------------------------------------------\n",
      "Tested parameters: {'embedding_dim': 32, 'rnn_units': 64, 'dense_units': 64, 'dropout_rate': 0.1, 'learning_rate': 0.01, 'batch_size': 32, 'activation': 'tanh', 'val_accuracy': 0.5088687539100647}\n",
      "Validation accuracy: 0.5089\n",
      "--------------------------------------------------\n",
      "Tested parameters: {'embedding_dim': 32, 'rnn_units': 64, 'dense_units': 64, 'dropout_rate': 0.1, 'learning_rate': 0.01, 'batch_size': 128, 'activation': 'relu', 'val_accuracy': 0.7410327196121216}\n",
      "Validation accuracy: 0.7410\n",
      "--------------------------------------------------\n",
      "Tested parameters: {'embedding_dim': 32, 'rnn_units': 64, 'dense_units': 64, 'dropout_rate': 0.1, 'learning_rate': 0.01, 'batch_size': 128, 'activation': 'tanh', 'val_accuracy': 0.5175403952598572}\n",
      "Validation accuracy: 0.5175\n",
      "--------------------------------------------------\n",
      "Tested parameters: {'embedding_dim': 32, 'rnn_units': 64, 'dense_units': 64, 'dropout_rate': 0.3, 'learning_rate': 0.001, 'batch_size': 32, 'activation': 'relu', 'val_accuracy': 0.7098935842514038}\n",
      "Validation accuracy: 0.7099\n",
      "--------------------------------------------------\n",
      "Tested parameters: {'embedding_dim': 32, 'rnn_units': 64, 'dense_units': 64, 'dropout_rate': 0.3, 'learning_rate': 0.001, 'batch_size': 32, 'activation': 'tanh', 'val_accuracy': 0.741229772567749}\n",
      "Validation accuracy: 0.7412\n",
      "--------------------------------------------------\n",
      "Tested parameters: {'embedding_dim': 32, 'rnn_units': 64, 'dense_units': 64, 'dropout_rate': 0.3, 'learning_rate': 0.001, 'batch_size': 128, 'activation': 'relu', 'val_accuracy': 0.7150177359580994}\n",
      "Validation accuracy: 0.7150\n",
      "--------------------------------------------------\n",
      "Tested parameters: {'embedding_dim': 32, 'rnn_units': 64, 'dense_units': 64, 'dropout_rate': 0.3, 'learning_rate': 0.001, 'batch_size': 128, 'activation': 'tanh', 'val_accuracy': 0.7238864898681641}\n",
      "Validation accuracy: 0.7239\n",
      "--------------------------------------------------\n",
      "Tested parameters: {'embedding_dim': 32, 'rnn_units': 64, 'dense_units': 64, 'dropout_rate': 0.3, 'learning_rate': 0.01, 'batch_size': 32, 'activation': 'relu', 'val_accuracy': 0.5088687539100647}\n",
      "Validation accuracy: 0.5089\n",
      "--------------------------------------------------\n",
      "Tested parameters: {'embedding_dim': 32, 'rnn_units': 64, 'dense_units': 64, 'dropout_rate': 0.3, 'learning_rate': 0.01, 'batch_size': 32, 'activation': 'tanh', 'val_accuracy': 0.5088687539100647}\n",
      "Validation accuracy: 0.5089\n",
      "--------------------------------------------------\n",
      "Tested parameters: {'embedding_dim': 32, 'rnn_units': 64, 'dense_units': 64, 'dropout_rate': 0.3, 'learning_rate': 0.01, 'batch_size': 128, 'activation': 'relu', 'val_accuracy': 0.5088687539100647}\n",
      "Validation accuracy: 0.5089\n",
      "--------------------------------------------------\n",
      "Tested parameters: {'embedding_dim': 32, 'rnn_units': 64, 'dense_units': 64, 'dropout_rate': 0.3, 'learning_rate': 0.01, 'batch_size': 128, 'activation': 'tanh', 'val_accuracy': 0.5088687539100647}\n",
      "Validation accuracy: 0.5089\n",
      "--------------------------------------------------\n",
      "Tested parameters: {'embedding_dim': 32, 'rnn_units': 128, 'dense_units': 32, 'dropout_rate': 0.1, 'learning_rate': 0.001, 'batch_size': 32, 'activation': 'relu', 'val_accuracy': 0.5088687539100647}\n",
      "Validation accuracy: 0.5089\n",
      "--------------------------------------------------\n",
      "Tested parameters: {'embedding_dim': 32, 'rnn_units': 128, 'dense_units': 32, 'dropout_rate': 0.1, 'learning_rate': 0.001, 'batch_size': 32, 'activation': 'tanh', 'val_accuracy': 0.7441860437393188}\n",
      "Validation accuracy: 0.7442\n",
      "--------------------------------------------------\n",
      "Tested parameters: {'embedding_dim': 32, 'rnn_units': 128, 'dense_units': 32, 'dropout_rate': 0.1, 'learning_rate': 0.001, 'batch_size': 128, 'activation': 'relu', 'val_accuracy': 0.6645644307136536}\n",
      "Validation accuracy: 0.6646\n",
      "--------------------------------------------------\n",
      "Tested parameters: {'embedding_dim': 32, 'rnn_units': 128, 'dense_units': 32, 'dropout_rate': 0.1, 'learning_rate': 0.001, 'batch_size': 128, 'activation': 'tanh', 'val_accuracy': 0.7426093816757202}\n",
      "Validation accuracy: 0.7426\n",
      "--------------------------------------------------\n",
      "Tested parameters: {'embedding_dim': 32, 'rnn_units': 128, 'dense_units': 32, 'dropout_rate': 0.1, 'learning_rate': 0.01, 'batch_size': 32, 'activation': 'relu', 'val_accuracy': 0.5088687539100647}\n",
      "Validation accuracy: 0.5089\n",
      "--------------------------------------------------\n",
      "Tested parameters: {'embedding_dim': 32, 'rnn_units': 128, 'dense_units': 32, 'dropout_rate': 0.1, 'learning_rate': 0.01, 'batch_size': 32, 'activation': 'tanh', 'val_accuracy': 0.7118644118309021}\n",
      "Validation accuracy: 0.7119\n",
      "--------------------------------------------------\n",
      "Tested parameters: {'embedding_dim': 32, 'rnn_units': 128, 'dense_units': 32, 'dropout_rate': 0.1, 'learning_rate': 0.01, 'batch_size': 128, 'activation': 'relu', 'val_accuracy': 0.5088687539100647}\n",
      "Validation accuracy: 0.5089\n",
      "--------------------------------------------------\n",
      "Tested parameters: {'embedding_dim': 32, 'rnn_units': 128, 'dense_units': 32, 'dropout_rate': 0.1, 'learning_rate': 0.01, 'batch_size': 128, 'activation': 'tanh', 'val_accuracy': 0.4911312460899353}\n",
      "Validation accuracy: 0.4911\n",
      "--------------------------------------------------\n",
      "Tested parameters: {'embedding_dim': 32, 'rnn_units': 128, 'dense_units': 32, 'dropout_rate': 0.3, 'learning_rate': 0.001, 'batch_size': 32, 'activation': 'relu', 'val_accuracy': 0.5088687539100647}\n",
      "Validation accuracy: 0.5089\n",
      "--------------------------------------------------\n",
      "Tested parameters: {'embedding_dim': 32, 'rnn_units': 128, 'dense_units': 32, 'dropout_rate': 0.3, 'learning_rate': 0.001, 'batch_size': 32, 'activation': 'tanh', 'val_accuracy': 0.7225068807601929}\n",
      "Validation accuracy: 0.7225\n",
      "--------------------------------------------------\n",
      "Tested parameters: {'embedding_dim': 32, 'rnn_units': 128, 'dense_units': 32, 'dropout_rate': 0.3, 'learning_rate': 0.001, 'batch_size': 128, 'activation': 'relu', 'val_accuracy': 0.6710681915283203}\n",
      "Validation accuracy: 0.6711\n",
      "--------------------------------------------------\n",
      "Tested parameters: {'embedding_dim': 32, 'rnn_units': 128, 'dense_units': 32, 'dropout_rate': 0.3, 'learning_rate': 0.001, 'batch_size': 128, 'activation': 'tanh', 'val_accuracy': 0.6754040122032166}\n",
      "Validation accuracy: 0.6754\n",
      "--------------------------------------------------\n",
      "Tested parameters: {'embedding_dim': 32, 'rnn_units': 128, 'dense_units': 32, 'dropout_rate': 0.3, 'learning_rate': 0.01, 'batch_size': 32, 'activation': 'relu', 'val_accuracy': 0.5088687539100647}\n",
      "Validation accuracy: 0.5089\n",
      "--------------------------------------------------\n",
      "Tested parameters: {'embedding_dim': 32, 'rnn_units': 128, 'dense_units': 32, 'dropout_rate': 0.3, 'learning_rate': 0.01, 'batch_size': 32, 'activation': 'tanh', 'val_accuracy': 0.6905794143676758}\n",
      "Validation accuracy: 0.6906\n",
      "--------------------------------------------------\n",
      "Tested parameters: {'embedding_dim': 32, 'rnn_units': 128, 'dense_units': 32, 'dropout_rate': 0.3, 'learning_rate': 0.01, 'batch_size': 128, 'activation': 'relu', 'val_accuracy': 0.6862435936927795}\n",
      "Validation accuracy: 0.6862\n",
      "--------------------------------------------------\n",
      "Tested parameters: {'embedding_dim': 32, 'rnn_units': 128, 'dense_units': 32, 'dropout_rate': 0.3, 'learning_rate': 0.01, 'batch_size': 128, 'activation': 'tanh', 'val_accuracy': 0.7199448347091675}\n",
      "Validation accuracy: 0.7199\n",
      "--------------------------------------------------\n",
      "Tested parameters: {'embedding_dim': 32, 'rnn_units': 128, 'dense_units': 64, 'dropout_rate': 0.1, 'learning_rate': 0.001, 'batch_size': 32, 'activation': 'relu', 'val_accuracy': 0.5088687539100647}\n",
      "Validation accuracy: 0.5089\n",
      "--------------------------------------------------\n",
      "Tested parameters: {'embedding_dim': 32, 'rnn_units': 128, 'dense_units': 64, 'dropout_rate': 0.1, 'learning_rate': 0.001, 'batch_size': 32, 'activation': 'tanh', 'val_accuracy': 0.7374852299690247}\n",
      "Validation accuracy: 0.7375\n",
      "--------------------------------------------------\n",
      "Tested parameters: {'embedding_dim': 32, 'rnn_units': 128, 'dense_units': 64, 'dropout_rate': 0.1, 'learning_rate': 0.001, 'batch_size': 128, 'activation': 'relu', 'val_accuracy': 0.6815136075019836}\n",
      "Validation accuracy: 0.6815\n",
      "--------------------------------------------------\n",
      "Tested parameters: {'embedding_dim': 32, 'rnn_units': 128, 'dense_units': 64, 'dropout_rate': 0.1, 'learning_rate': 0.001, 'batch_size': 128, 'activation': 'tanh', 'val_accuracy': 0.7315727472305298}\n",
      "Validation accuracy: 0.7316\n",
      "--------------------------------------------------\n",
      "Tested parameters: {'embedding_dim': 32, 'rnn_units': 128, 'dense_units': 64, 'dropout_rate': 0.1, 'learning_rate': 0.01, 'batch_size': 32, 'activation': 'relu', 'val_accuracy': 0.5088687539100647}\n",
      "Validation accuracy: 0.5089\n",
      "--------------------------------------------------\n",
      "Tested parameters: {'embedding_dim': 32, 'rnn_units': 128, 'dense_units': 64, 'dropout_rate': 0.1, 'learning_rate': 0.01, 'batch_size': 32, 'activation': 'tanh', 'val_accuracy': 0.5088687539100647}\n",
      "Validation accuracy: 0.5089\n",
      "--------------------------------------------------\n",
      "Tested parameters: {'embedding_dim': 32, 'rnn_units': 128, 'dense_units': 64, 'dropout_rate': 0.1, 'learning_rate': 0.01, 'batch_size': 128, 'activation': 'relu', 'val_accuracy': 0.5088687539100647}\n",
      "Validation accuracy: 0.5089\n",
      "--------------------------------------------------\n",
      "Tested parameters: {'embedding_dim': 32, 'rnn_units': 128, 'dense_units': 64, 'dropout_rate': 0.1, 'learning_rate': 0.01, 'batch_size': 128, 'activation': 'tanh', 'val_accuracy': 0.4911312460899353}\n",
      "Validation accuracy: 0.4911\n",
      "--------------------------------------------------\n",
      "Tested parameters: {'embedding_dim': 32, 'rnn_units': 128, 'dense_units': 64, 'dropout_rate': 0.3, 'learning_rate': 0.001, 'batch_size': 32, 'activation': 'relu', 'val_accuracy': 0.5088687539100647}\n",
      "Validation accuracy: 0.5089\n",
      "--------------------------------------------------\n",
      "Tested parameters: {'embedding_dim': 32, 'rnn_units': 128, 'dense_units': 64, 'dropout_rate': 0.3, 'learning_rate': 0.001, 'batch_size': 32, 'activation': 'tanh', 'val_accuracy': 0.7183681726455688}\n",
      "Validation accuracy: 0.7184\n",
      "--------------------------------------------------\n",
      "Tested parameters: {'embedding_dim': 32, 'rnn_units': 128, 'dense_units': 64, 'dropout_rate': 0.3, 'learning_rate': 0.001, 'batch_size': 128, 'activation': 'relu', 'val_accuracy': 0.7043752670288086}\n",
      "Validation accuracy: 0.7044\n",
      "--------------------------------------------------\n",
      "Tested parameters: {'embedding_dim': 32, 'rnn_units': 128, 'dense_units': 64, 'dropout_rate': 0.3, 'learning_rate': 0.001, 'batch_size': 128, 'activation': 'tanh', 'val_accuracy': 0.7376822829246521}\n",
      "Validation accuracy: 0.7377\n",
      "--------------------------------------------------\n",
      "Tested parameters: {'embedding_dim': 32, 'rnn_units': 128, 'dense_units': 64, 'dropout_rate': 0.3, 'learning_rate': 0.01, 'batch_size': 32, 'activation': 'relu', 'val_accuracy': 0.4911312460899353}\n",
      "Validation accuracy: 0.4911\n",
      "--------------------------------------------------\n",
      "Tested parameters: {'embedding_dim': 32, 'rnn_units': 128, 'dense_units': 64, 'dropout_rate': 0.3, 'learning_rate': 0.01, 'batch_size': 32, 'activation': 'tanh', 'val_accuracy': 0.5088687539100647}\n",
      "Validation accuracy: 0.5089\n",
      "--------------------------------------------------\n",
      "Tested parameters: {'embedding_dim': 32, 'rnn_units': 128, 'dense_units': 64, 'dropout_rate': 0.3, 'learning_rate': 0.01, 'batch_size': 128, 'activation': 'relu', 'val_accuracy': 0.5088687539100647}\n",
      "Validation accuracy: 0.5089\n",
      "--------------------------------------------------\n",
      "Tested parameters: {'embedding_dim': 32, 'rnn_units': 128, 'dense_units': 64, 'dropout_rate': 0.3, 'learning_rate': 0.01, 'batch_size': 128, 'activation': 'tanh', 'val_accuracy': 0.5088687539100647}\n",
      "Validation accuracy: 0.5089\n",
      "--------------------------------------------------\n",
      "Tested parameters: {'embedding_dim': 64, 'rnn_units': 32, 'dense_units': 32, 'dropout_rate': 0.1, 'learning_rate': 0.001, 'batch_size': 32, 'activation': 'relu', 'val_accuracy': 0.7495073080062866}\n",
      "Validation accuracy: 0.7495\n",
      "--------------------------------------------------\n",
      "Tested parameters: {'embedding_dim': 64, 'rnn_units': 32, 'dense_units': 32, 'dropout_rate': 0.1, 'learning_rate': 0.001, 'batch_size': 32, 'activation': 'tanh', 'val_accuracy': 0.7408356070518494}\n",
      "Validation accuracy: 0.7408\n",
      "--------------------------------------------------\n",
      "Tested parameters: {'embedding_dim': 64, 'rnn_units': 32, 'dense_units': 32, 'dropout_rate': 0.1, 'learning_rate': 0.001, 'batch_size': 128, 'activation': 'relu', 'val_accuracy': 0.6706740260124207}\n",
      "Validation accuracy: 0.6707\n",
      "--------------------------------------------------\n",
      "Tested parameters: {'embedding_dim': 64, 'rnn_units': 32, 'dense_units': 32, 'dropout_rate': 0.1, 'learning_rate': 0.001, 'batch_size': 128, 'activation': 'tanh', 'val_accuracy': 0.7475364804267883}\n",
      "Validation accuracy: 0.7475\n",
      "--------------------------------------------------\n",
      "Tested parameters: {'embedding_dim': 64, 'rnn_units': 32, 'dense_units': 32, 'dropout_rate': 0.1, 'learning_rate': 0.01, 'batch_size': 32, 'activation': 'relu', 'val_accuracy': 0.5088687539100647}\n",
      "Validation accuracy: 0.5089\n",
      "--------------------------------------------------\n",
      "Tested parameters: {'embedding_dim': 64, 'rnn_units': 32, 'dense_units': 32, 'dropout_rate': 0.1, 'learning_rate': 0.01, 'batch_size': 32, 'activation': 'tanh', 'val_accuracy': 0.7416239380836487}\n",
      "Validation accuracy: 0.7416\n",
      "--------------------------------------------------\n",
      "Tested parameters: {'embedding_dim': 64, 'rnn_units': 32, 'dense_units': 32, 'dropout_rate': 0.1, 'learning_rate': 0.01, 'batch_size': 128, 'activation': 'relu', 'val_accuracy': 0.7461568713188171}\n",
      "Validation accuracy: 0.7462\n",
      "--------------------------------------------------\n",
      "Tested parameters: {'embedding_dim': 64, 'rnn_units': 32, 'dense_units': 32, 'dropout_rate': 0.1, 'learning_rate': 0.01, 'batch_size': 128, 'activation': 'tanh', 'val_accuracy': 0.7223098278045654}\n",
      "Validation accuracy: 0.7223\n",
      "--------------------------------------------------\n",
      "Tested parameters: {'embedding_dim': 64, 'rnn_units': 32, 'dense_units': 32, 'dropout_rate': 0.3, 'learning_rate': 0.001, 'batch_size': 32, 'activation': 'relu', 'val_accuracy': 0.734726071357727}\n",
      "Validation accuracy: 0.7347\n",
      "--------------------------------------------------\n",
      "Tested parameters: {'embedding_dim': 64, 'rnn_units': 32, 'dense_units': 32, 'dropout_rate': 0.3, 'learning_rate': 0.001, 'batch_size': 32, 'activation': 'tanh', 'val_accuracy': 0.7378793954849243}\n",
      "Validation accuracy: 0.7379\n",
      "--------------------------------------------------\n",
      "Tested parameters: {'embedding_dim': 64, 'rnn_units': 32, 'dense_units': 32, 'dropout_rate': 0.3, 'learning_rate': 0.001, 'batch_size': 128, 'activation': 'relu', 'val_accuracy': 0.6974773406982422}\n",
      "Validation accuracy: 0.6975\n",
      "--------------------------------------------------\n",
      "Tested parameters: {'embedding_dim': 64, 'rnn_units': 32, 'dense_units': 32, 'dropout_rate': 0.3, 'learning_rate': 0.001, 'batch_size': 128, 'activation': 'tanh', 'val_accuracy': 0.7079227566719055}\n",
      "Validation accuracy: 0.7079\n",
      "--------------------------------------------------\n",
      "Tested parameters: {'embedding_dim': 64, 'rnn_units': 32, 'dense_units': 32, 'dropout_rate': 0.3, 'learning_rate': 0.01, 'batch_size': 32, 'activation': 'relu', 'val_accuracy': 0.5088687539100647}\n",
      "Validation accuracy: 0.5089\n",
      "--------------------------------------------------\n",
      "Tested parameters: {'embedding_dim': 64, 'rnn_units': 32, 'dense_units': 32, 'dropout_rate': 0.3, 'learning_rate': 0.01, 'batch_size': 32, 'activation': 'tanh', 'val_accuracy': 0.7288135886192322}\n",
      "Validation accuracy: 0.7288\n",
      "--------------------------------------------------\n",
      "Tested parameters: {'embedding_dim': 64, 'rnn_units': 32, 'dense_units': 32, 'dropout_rate': 0.3, 'learning_rate': 0.01, 'batch_size': 128, 'activation': 'relu', 'val_accuracy': 0.5088687539100647}\n",
      "Validation accuracy: 0.5089\n",
      "--------------------------------------------------\n",
      "Tested parameters: {'embedding_dim': 64, 'rnn_units': 32, 'dense_units': 32, 'dropout_rate': 0.3, 'learning_rate': 0.01, 'batch_size': 128, 'activation': 'tanh', 'val_accuracy': 0.7451714873313904}\n",
      "Validation accuracy: 0.7452\n",
      "--------------------------------------------------\n",
      "Tested parameters: {'embedding_dim': 64, 'rnn_units': 32, 'dense_units': 64, 'dropout_rate': 0.1, 'learning_rate': 0.001, 'batch_size': 32, 'activation': 'relu', 'val_accuracy': 0.741229772567749}\n",
      "Validation accuracy: 0.7412\n",
      "--------------------------------------------------\n",
      "Tested parameters: {'embedding_dim': 64, 'rnn_units': 32, 'dense_units': 64, 'dropout_rate': 0.1, 'learning_rate': 0.001, 'batch_size': 32, 'activation': 'tanh', 'val_accuracy': 0.7500985264778137}\n",
      "Validation accuracy: 0.7501\n",
      "--------------------------------------------------\n",
      "Tested parameters: {'embedding_dim': 64, 'rnn_units': 32, 'dense_units': 64, 'dropout_rate': 0.1, 'learning_rate': 0.001, 'batch_size': 128, 'activation': 'relu', 'val_accuracy': 0.7282223105430603}\n",
      "Validation accuracy: 0.7282\n",
      "--------------------------------------------------\n",
      "Tested parameters: {'embedding_dim': 64, 'rnn_units': 32, 'dense_units': 64, 'dropout_rate': 0.1, 'learning_rate': 0.001, 'batch_size': 128, 'activation': 'tanh', 'val_accuracy': 0.7384706139564514}\n",
      "Validation accuracy: 0.7385\n",
      "--------------------------------------------------\n",
      "Tested parameters: {'embedding_dim': 64, 'rnn_units': 32, 'dense_units': 64, 'dropout_rate': 0.1, 'learning_rate': 0.01, 'batch_size': 32, 'activation': 'relu', 'val_accuracy': 0.5088687539100647}\n",
      "Validation accuracy: 0.5089\n",
      "--------------------------------------------------\n",
      "Tested parameters: {'embedding_dim': 64, 'rnn_units': 32, 'dense_units': 64, 'dropout_rate': 0.1, 'learning_rate': 0.01, 'batch_size': 32, 'activation': 'tanh', 'val_accuracy': 0.6592432260513306}\n",
      "Validation accuracy: 0.6592\n",
      "--------------------------------------------------\n",
      "Tested parameters: {'embedding_dim': 64, 'rnn_units': 32, 'dense_units': 64, 'dropout_rate': 0.1, 'learning_rate': 0.01, 'batch_size': 128, 'activation': 'relu', 'val_accuracy': 0.7449743747711182}\n",
      "Validation accuracy: 0.7450\n",
      "--------------------------------------------------\n",
      "Tested parameters: {'embedding_dim': 64, 'rnn_units': 32, 'dense_units': 64, 'dropout_rate': 0.1, 'learning_rate': 0.01, 'batch_size': 128, 'activation': 'tanh', 'val_accuracy': 0.7499014735221863}\n",
      "Validation accuracy: 0.7499\n",
      "--------------------------------------------------\n",
      "Tested parameters: {'embedding_dim': 64, 'rnn_units': 32, 'dense_units': 64, 'dropout_rate': 0.3, 'learning_rate': 0.001, 'batch_size': 32, 'activation': 'relu', 'val_accuracy': 0.7317698001861572}\n",
      "Validation accuracy: 0.7318\n",
      "--------------------------------------------------\n",
      "Tested parameters: {'embedding_dim': 64, 'rnn_units': 32, 'dense_units': 64, 'dropout_rate': 0.3, 'learning_rate': 0.001, 'batch_size': 32, 'activation': 'tanh', 'val_accuracy': 0.7457627058029175}\n",
      "Validation accuracy: 0.7458\n",
      "--------------------------------------------------\n",
      "Tested parameters: {'embedding_dim': 64, 'rnn_units': 32, 'dense_units': 64, 'dropout_rate': 0.3, 'learning_rate': 0.001, 'batch_size': 128, 'activation': 'relu', 'val_accuracy': 0.7256602048873901}\n",
      "Validation accuracy: 0.7257\n",
      "--------------------------------------------------\n",
      "Tested parameters: {'embedding_dim': 64, 'rnn_units': 32, 'dense_units': 64, 'dropout_rate': 0.3, 'learning_rate': 0.001, 'batch_size': 128, 'activation': 'tanh', 'val_accuracy': 0.7217185497283936}\n",
      "Validation accuracy: 0.7217\n",
      "--------------------------------------------------\n",
      "Tested parameters: {'embedding_dim': 64, 'rnn_units': 32, 'dense_units': 64, 'dropout_rate': 0.3, 'learning_rate': 0.01, 'batch_size': 32, 'activation': 'relu', 'val_accuracy': 0.4911312460899353}\n",
      "Validation accuracy: 0.4911\n",
      "--------------------------------------------------\n",
      "Tested parameters: {'embedding_dim': 64, 'rnn_units': 32, 'dense_units': 64, 'dropout_rate': 0.3, 'learning_rate': 0.01, 'batch_size': 32, 'activation': 'tanh', 'val_accuracy': 0.7313756346702576}\n",
      "Validation accuracy: 0.7314\n",
      "--------------------------------------------------\n",
      "Tested parameters: {'embedding_dim': 64, 'rnn_units': 32, 'dense_units': 64, 'dropout_rate': 0.3, 'learning_rate': 0.01, 'batch_size': 128, 'activation': 'relu', 'val_accuracy': 0.7372881174087524}\n",
      "Validation accuracy: 0.7373\n",
      "--------------------------------------------------\n",
      "Tested parameters: {'embedding_dim': 64, 'rnn_units': 32, 'dense_units': 64, 'dropout_rate': 0.3, 'learning_rate': 0.01, 'batch_size': 128, 'activation': 'tanh', 'val_accuracy': 0.6966890096664429}\n",
      "Validation accuracy: 0.6967\n",
      "--------------------------------------------------\n",
      "Tested parameters: {'embedding_dim': 64, 'rnn_units': 64, 'dense_units': 32, 'dropout_rate': 0.1, 'learning_rate': 0.001, 'batch_size': 32, 'activation': 'relu', 'val_accuracy': 0.7562081217765808}\n",
      "Validation accuracy: 0.7562\n",
      "--------------------------------------------------\n",
      "Tested parameters: {'embedding_dim': 64, 'rnn_units': 64, 'dense_units': 32, 'dropout_rate': 0.1, 'learning_rate': 0.001, 'batch_size': 32, 'activation': 'tanh', 'val_accuracy': 0.7280251979827881}\n",
      "Validation accuracy: 0.7280\n",
      "--------------------------------------------------\n",
      "Tested parameters: {'embedding_dim': 64, 'rnn_units': 64, 'dense_units': 32, 'dropout_rate': 0.1, 'learning_rate': 0.001, 'batch_size': 128, 'activation': 'relu', 'val_accuracy': 0.6992510557174683}\n",
      "Validation accuracy: 0.6993\n",
      "--------------------------------------------------\n",
      "Tested parameters: {'embedding_dim': 64, 'rnn_units': 64, 'dense_units': 32, 'dropout_rate': 0.1, 'learning_rate': 0.001, 'batch_size': 128, 'activation': 'tanh', 'val_accuracy': 0.7094994187355042}\n",
      "Validation accuracy: 0.7095\n",
      "--------------------------------------------------\n",
      "Tested parameters: {'embedding_dim': 64, 'rnn_units': 64, 'dense_units': 32, 'dropout_rate': 0.1, 'learning_rate': 0.01, 'batch_size': 32, 'activation': 'relu', 'val_accuracy': 0.5088687539100647}\n",
      "Validation accuracy: 0.5089\n",
      "--------------------------------------------------\n",
      "Tested parameters: {'embedding_dim': 64, 'rnn_units': 64, 'dense_units': 32, 'dropout_rate': 0.1, 'learning_rate': 0.01, 'batch_size': 32, 'activation': 'tanh', 'val_accuracy': 0.726251482963562}\n",
      "Validation accuracy: 0.7263\n",
      "--------------------------------------------------\n",
      "Tested parameters: {'embedding_dim': 64, 'rnn_units': 64, 'dense_units': 32, 'dropout_rate': 0.1, 'learning_rate': 0.01, 'batch_size': 128, 'activation': 'relu', 'val_accuracy': 0.7453685402870178}\n",
      "Validation accuracy: 0.7454\n",
      "--------------------------------------------------\n",
      "Tested parameters: {'embedding_dim': 64, 'rnn_units': 64, 'dense_units': 32, 'dropout_rate': 0.1, 'learning_rate': 0.01, 'batch_size': 128, 'activation': 'tanh', 'val_accuracy': 0.737091064453125}\n",
      "Validation accuracy: 0.7371\n",
      "--------------------------------------------------\n",
      "Tested parameters: {'embedding_dim': 64, 'rnn_units': 64, 'dense_units': 32, 'dropout_rate': 0.3, 'learning_rate': 0.001, 'batch_size': 32, 'activation': 'relu', 'val_accuracy': 0.72861647605896}\n",
      "Validation accuracy: 0.7286\n",
      "--------------------------------------------------\n",
      "Tested parameters: {'embedding_dim': 64, 'rnn_units': 64, 'dense_units': 32, 'dropout_rate': 0.3, 'learning_rate': 0.001, 'batch_size': 32, 'activation': 'tanh', 'val_accuracy': 0.7305873036384583}\n",
      "Validation accuracy: 0.7306\n",
      "--------------------------------------------------\n",
      "Tested parameters: {'embedding_dim': 64, 'rnn_units': 64, 'dense_units': 32, 'dropout_rate': 0.3, 'learning_rate': 0.001, 'batch_size': 128, 'activation': 'relu', 'val_accuracy': 0.6891998648643494}\n",
      "Validation accuracy: 0.6892\n",
      "--------------------------------------------------\n",
      "Tested parameters: {'embedding_dim': 64, 'rnn_units': 64, 'dense_units': 32, 'dropout_rate': 0.3, 'learning_rate': 0.001, 'batch_size': 128, 'activation': 'tanh', 'val_accuracy': 0.7481276988983154}\n",
      "Validation accuracy: 0.7481\n",
      "--------------------------------------------------\n",
      "Tested parameters: {'embedding_dim': 64, 'rnn_units': 64, 'dense_units': 32, 'dropout_rate': 0.3, 'learning_rate': 0.01, 'batch_size': 32, 'activation': 'relu', 'val_accuracy': 0.5088687539100647}\n",
      "Validation accuracy: 0.5089\n",
      "--------------------------------------------------\n",
      "Tested parameters: {'embedding_dim': 64, 'rnn_units': 64, 'dense_units': 32, 'dropout_rate': 0.3, 'learning_rate': 0.01, 'batch_size': 32, 'activation': 'tanh', 'val_accuracy': 0.7215214967727661}\n",
      "Validation accuracy: 0.7215\n",
      "--------------------------------------------------\n",
      "Tested parameters: {'embedding_dim': 64, 'rnn_units': 64, 'dense_units': 32, 'dropout_rate': 0.3, 'learning_rate': 0.01, 'batch_size': 128, 'activation': 'relu', 'val_accuracy': 0.5088687539100647}\n",
      "Validation accuracy: 0.5089\n",
      "--------------------------------------------------\n",
      "Tested parameters: {'embedding_dim': 64, 'rnn_units': 64, 'dense_units': 32, 'dropout_rate': 0.3, 'learning_rate': 0.01, 'batch_size': 128, 'activation': 'tanh', 'val_accuracy': 0.742412269115448}\n",
      "Validation accuracy: 0.7424\n",
      "--------------------------------------------------\n",
      "Tested parameters: {'embedding_dim': 64, 'rnn_units': 64, 'dense_units': 64, 'dropout_rate': 0.1, 'learning_rate': 0.001, 'batch_size': 32, 'activation': 'relu', 'val_accuracy': 0.7364997863769531}\n",
      "Validation accuracy: 0.7365\n",
      "--------------------------------------------------\n",
      "Tested parameters: {'embedding_dim': 64, 'rnn_units': 64, 'dense_units': 64, 'dropout_rate': 0.1, 'learning_rate': 0.001, 'batch_size': 32, 'activation': 'tanh', 'val_accuracy': 0.7481276988983154}\n",
      "Validation accuracy: 0.7481\n",
      "--------------------------------------------------\n",
      "Tested parameters: {'embedding_dim': 64, 'rnn_units': 64, 'dense_units': 64, 'dropout_rate': 0.1, 'learning_rate': 0.001, 'batch_size': 128, 'activation': 'relu', 'val_accuracy': 0.6888056993484497}\n",
      "Validation accuracy: 0.6888\n",
      "--------------------------------------------------\n",
      "Tested parameters: {'embedding_dim': 64, 'rnn_units': 64, 'dense_units': 64, 'dropout_rate': 0.1, 'learning_rate': 0.001, 'batch_size': 128, 'activation': 'tanh', 'val_accuracy': 0.6649585962295532}\n",
      "Validation accuracy: 0.6650\n",
      "--------------------------------------------------\n",
      "Tested parameters: {'embedding_dim': 64, 'rnn_units': 64, 'dense_units': 64, 'dropout_rate': 0.1, 'learning_rate': 0.01, 'batch_size': 32, 'activation': 'relu', 'val_accuracy': 0.5088687539100647}\n",
      "Validation accuracy: 0.5089\n",
      "--------------------------------------------------\n",
      "Tested parameters: {'embedding_dim': 64, 'rnn_units': 64, 'dense_units': 64, 'dropout_rate': 0.1, 'learning_rate': 0.01, 'batch_size': 32, 'activation': 'tanh', 'val_accuracy': 0.7380764484405518}\n",
      "Validation accuracy: 0.7381\n",
      "--------------------------------------------------\n",
      "Tested parameters: {'embedding_dim': 64, 'rnn_units': 64, 'dense_units': 64, 'dropout_rate': 0.1, 'learning_rate': 0.01, 'batch_size': 128, 'activation': 'relu', 'val_accuracy': 0.715411901473999}\n",
      "Validation accuracy: 0.7154\n",
      "--------------------------------------------------\n",
      "Tested parameters: {'embedding_dim': 64, 'rnn_units': 64, 'dense_units': 64, 'dropout_rate': 0.1, 'learning_rate': 0.01, 'batch_size': 128, 'activation': 'tanh', 'val_accuracy': 0.7211273312568665}\n",
      "Validation accuracy: 0.7211\n",
      "--------------------------------------------------\n",
      "Tested parameters: {'embedding_dim': 64, 'rnn_units': 64, 'dense_units': 64, 'dropout_rate': 0.3, 'learning_rate': 0.001, 'batch_size': 32, 'activation': 'relu', 'val_accuracy': 0.7301931381225586}\n",
      "Validation accuracy: 0.7302\n",
      "--------------------------------------------------\n",
      "Tested parameters: {'embedding_dim': 64, 'rnn_units': 64, 'dense_units': 64, 'dropout_rate': 0.3, 'learning_rate': 0.001, 'batch_size': 32, 'activation': 'tanh', 'val_accuracy': 0.7465510368347168}\n",
      "Validation accuracy: 0.7466\n",
      "--------------------------------------------------\n",
      "Tested parameters: {'embedding_dim': 64, 'rnn_units': 64, 'dense_units': 64, 'dropout_rate': 0.3, 'learning_rate': 0.001, 'batch_size': 128, 'activation': 'relu', 'val_accuracy': 0.7272368669509888}\n",
      "Validation accuracy: 0.7272\n",
      "--------------------------------------------------\n",
      "Tested parameters: {'embedding_dim': 64, 'rnn_units': 64, 'dense_units': 64, 'dropout_rate': 0.3, 'learning_rate': 0.001, 'batch_size': 128, 'activation': 'tanh', 'val_accuracy': 0.7364997863769531}\n",
      "Validation accuracy: 0.7365\n",
      "--------------------------------------------------\n",
      "Tested parameters: {'embedding_dim': 64, 'rnn_units': 64, 'dense_units': 64, 'dropout_rate': 0.3, 'learning_rate': 0.01, 'batch_size': 32, 'activation': 'relu', 'val_accuracy': 0.5088687539100647}\n",
      "Validation accuracy: 0.5089\n",
      "--------------------------------------------------\n",
      "Tested parameters: {'embedding_dim': 64, 'rnn_units': 64, 'dense_units': 64, 'dropout_rate': 0.3, 'learning_rate': 0.01, 'batch_size': 32, 'activation': 'tanh', 'val_accuracy': 0.7138352394104004}\n",
      "Validation accuracy: 0.7138\n",
      "--------------------------------------------------\n",
      "Tested parameters: {'embedding_dim': 64, 'rnn_units': 64, 'dense_units': 64, 'dropout_rate': 0.3, 'learning_rate': 0.01, 'batch_size': 128, 'activation': 'relu', 'val_accuracy': 0.750886857509613}\n",
      "Validation accuracy: 0.7509\n",
      "--------------------------------------------------\n",
      "Tested parameters: {'embedding_dim': 64, 'rnn_units': 64, 'dense_units': 64, 'dropout_rate': 0.3, 'learning_rate': 0.01, 'batch_size': 128, 'activation': 'tanh', 'val_accuracy': 0.739456057548523}\n",
      "Validation accuracy: 0.7395\n",
      "--------------------------------------------------\n",
      "Tested parameters: {'embedding_dim': 64, 'rnn_units': 128, 'dense_units': 32, 'dropout_rate': 0.1, 'learning_rate': 0.001, 'batch_size': 32, 'activation': 'relu', 'val_accuracy': 0.7363027334213257}\n",
      "Validation accuracy: 0.7363\n",
      "--------------------------------------------------\n",
      "Tested parameters: {'embedding_dim': 64, 'rnn_units': 128, 'dense_units': 32, 'dropout_rate': 0.1, 'learning_rate': 0.001, 'batch_size': 32, 'activation': 'tanh', 'val_accuracy': 0.7433977127075195}\n",
      "Validation accuracy: 0.7434\n",
      "--------------------------------------------------\n",
      "Tested parameters: {'embedding_dim': 64, 'rnn_units': 128, 'dense_units': 32, 'dropout_rate': 0.1, 'learning_rate': 0.001, 'batch_size': 128, 'activation': 'relu', 'val_accuracy': 0.7144265174865723}\n",
      "Validation accuracy: 0.7144\n",
      "--------------------------------------------------\n",
      "Tested parameters: {'embedding_dim': 64, 'rnn_units': 128, 'dense_units': 32, 'dropout_rate': 0.1, 'learning_rate': 0.001, 'batch_size': 128, 'activation': 'tanh', 'val_accuracy': 0.72861647605896}\n",
      "Validation accuracy: 0.7286\n",
      "--------------------------------------------------\n",
      "Tested parameters: {'embedding_dim': 64, 'rnn_units': 128, 'dense_units': 32, 'dropout_rate': 0.1, 'learning_rate': 0.01, 'batch_size': 32, 'activation': 'relu', 'val_accuracy': 0.5088687539100647}\n",
      "Validation accuracy: 0.5089\n",
      "--------------------------------------------------\n",
      "Tested parameters: {'embedding_dim': 64, 'rnn_units': 128, 'dense_units': 32, 'dropout_rate': 0.1, 'learning_rate': 0.01, 'batch_size': 32, 'activation': 'tanh', 'val_accuracy': 0.4911312460899353}\n",
      "Validation accuracy: 0.4911\n",
      "--------------------------------------------------\n",
      "Tested parameters: {'embedding_dim': 64, 'rnn_units': 128, 'dense_units': 32, 'dropout_rate': 0.1, 'learning_rate': 0.01, 'batch_size': 128, 'activation': 'relu', 'val_accuracy': 0.5088687539100647}\n",
      "Validation accuracy: 0.5089\n",
      "--------------------------------------------------\n",
      "Tested parameters: {'embedding_dim': 64, 'rnn_units': 128, 'dense_units': 32, 'dropout_rate': 0.1, 'learning_rate': 0.01, 'batch_size': 128, 'activation': 'tanh', 'val_accuracy': 0.4911312460899353}\n",
      "Validation accuracy: 0.4911\n",
      "--------------------------------------------------\n",
      "Tested parameters: {'embedding_dim': 64, 'rnn_units': 128, 'dense_units': 32, 'dropout_rate': 0.3, 'learning_rate': 0.001, 'batch_size': 32, 'activation': 'relu', 'val_accuracy': 0.7002364993095398}\n",
      "Validation accuracy: 0.7002\n",
      "--------------------------------------------------\n",
      "Tested parameters: {'embedding_dim': 64, 'rnn_units': 128, 'dense_units': 32, 'dropout_rate': 0.3, 'learning_rate': 0.001, 'batch_size': 32, 'activation': 'tanh', 'val_accuracy': 0.7471423149108887}\n",
      "Validation accuracy: 0.7471\n",
      "--------------------------------------------------\n",
      "Tested parameters: {'embedding_dim': 64, 'rnn_units': 128, 'dense_units': 32, 'dropout_rate': 0.3, 'learning_rate': 0.001, 'batch_size': 128, 'activation': 'relu', 'val_accuracy': 0.7091052532196045}\n",
      "Validation accuracy: 0.7091\n",
      "--------------------------------------------------\n",
      "Tested parameters: {'embedding_dim': 64, 'rnn_units': 128, 'dense_units': 32, 'dropout_rate': 0.3, 'learning_rate': 0.001, 'batch_size': 128, 'activation': 'tanh', 'val_accuracy': 0.7447773218154907}\n",
      "Validation accuracy: 0.7448\n",
      "--------------------------------------------------\n",
      "Tested parameters: {'embedding_dim': 64, 'rnn_units': 128, 'dense_units': 32, 'dropout_rate': 0.3, 'learning_rate': 0.01, 'batch_size': 32, 'activation': 'relu', 'val_accuracy': 0.5088687539100647}\n",
      "Validation accuracy: 0.5089\n",
      "--------------------------------------------------\n",
      "Tested parameters: {'embedding_dim': 64, 'rnn_units': 128, 'dense_units': 32, 'dropout_rate': 0.3, 'learning_rate': 0.01, 'batch_size': 32, 'activation': 'tanh', 'val_accuracy': 0.5088687539100647}\n",
      "Validation accuracy: 0.5089\n",
      "--------------------------------------------------\n",
      "Tested parameters: {'embedding_dim': 64, 'rnn_units': 128, 'dense_units': 32, 'dropout_rate': 0.3, 'learning_rate': 0.01, 'batch_size': 128, 'activation': 'relu', 'val_accuracy': 0.7410327196121216}\n",
      "Validation accuracy: 0.7410\n",
      "--------------------------------------------------\n",
      "Tested parameters: {'embedding_dim': 64, 'rnn_units': 128, 'dense_units': 32, 'dropout_rate': 0.3, 'learning_rate': 0.01, 'batch_size': 128, 'activation': 'tanh', 'val_accuracy': 0.5088687539100647}\n",
      "Validation accuracy: 0.5089\n",
      "--------------------------------------------------\n",
      "Tested parameters: {'embedding_dim': 64, 'rnn_units': 128, 'dense_units': 64, 'dropout_rate': 0.1, 'learning_rate': 0.001, 'batch_size': 32, 'activation': 'relu', 'val_accuracy': 0.5088687539100647}\n",
      "Validation accuracy: 0.5089\n",
      "--------------------------------------------------\n",
      "Tested parameters: {'embedding_dim': 64, 'rnn_units': 128, 'dense_units': 64, 'dropout_rate': 0.1, 'learning_rate': 0.001, 'batch_size': 32, 'activation': 'tanh', 'val_accuracy': 0.727433979511261}\n",
      "Validation accuracy: 0.7274\n",
      "--------------------------------------------------\n",
      "Tested parameters: {'embedding_dim': 64, 'rnn_units': 128, 'dense_units': 64, 'dropout_rate': 0.1, 'learning_rate': 0.001, 'batch_size': 128, 'activation': 'relu', 'val_accuracy': 0.7321639657020569}\n",
      "Validation accuracy: 0.7322\n",
      "--------------------------------------------------\n",
      "Tested parameters: {'embedding_dim': 64, 'rnn_units': 128, 'dense_units': 64, 'dropout_rate': 0.1, 'learning_rate': 0.001, 'batch_size': 128, 'activation': 'tanh', 'val_accuracy': 0.7156090140342712}\n",
      "Validation accuracy: 0.7156\n",
      "--------------------------------------------------\n",
      "Tested parameters: {'embedding_dim': 64, 'rnn_units': 128, 'dense_units': 64, 'dropout_rate': 0.1, 'learning_rate': 0.01, 'batch_size': 32, 'activation': 'relu', 'val_accuracy': 0.5088687539100647}\n",
      "Validation accuracy: 0.5089\n",
      "--------------------------------------------------\n",
      "Tested parameters: {'embedding_dim': 64, 'rnn_units': 128, 'dense_units': 64, 'dropout_rate': 0.1, 'learning_rate': 0.01, 'batch_size': 32, 'activation': 'tanh', 'val_accuracy': 0.5088687539100647}\n",
      "Validation accuracy: 0.5089\n",
      "--------------------------------------------------\n",
      "Tested parameters: {'embedding_dim': 64, 'rnn_units': 128, 'dense_units': 64, 'dropout_rate': 0.1, 'learning_rate': 0.01, 'batch_size': 128, 'activation': 'relu', 'val_accuracy': 0.5088687539100647}\n",
      "Validation accuracy: 0.5089\n",
      "--------------------------------------------------\n",
      "Tested parameters: {'embedding_dim': 64, 'rnn_units': 128, 'dense_units': 64, 'dropout_rate': 0.1, 'learning_rate': 0.01, 'batch_size': 128, 'activation': 'tanh', 'val_accuracy': 0.508474588394165}\n",
      "Validation accuracy: 0.5085\n",
      "--------------------------------------------------\n",
      "Tested parameters: {'embedding_dim': 64, 'rnn_units': 128, 'dense_units': 64, 'dropout_rate': 0.3, 'learning_rate': 0.001, 'batch_size': 32, 'activation': 'relu', 'val_accuracy': 0.5088687539100647}\n",
      "Validation accuracy: 0.5089\n",
      "--------------------------------------------------\n",
      "Tested parameters: {'embedding_dim': 64, 'rnn_units': 128, 'dense_units': 64, 'dropout_rate': 0.3, 'learning_rate': 0.001, 'batch_size': 32, 'activation': 'tanh', 'val_accuracy': 0.7422152161598206}\n",
      "Validation accuracy: 0.7422\n",
      "--------------------------------------------------\n",
      "Tested parameters: {'embedding_dim': 64, 'rnn_units': 128, 'dense_units': 64, 'dropout_rate': 0.3, 'learning_rate': 0.001, 'batch_size': 128, 'activation': 'relu', 'val_accuracy': 0.7236893773078918}\n",
      "Validation accuracy: 0.7237\n",
      "--------------------------------------------------\n",
      "Tested parameters: {'embedding_dim': 64, 'rnn_units': 128, 'dense_units': 64, 'dropout_rate': 0.3, 'learning_rate': 0.001, 'batch_size': 128, 'activation': 'tanh', 'val_accuracy': 0.7410327196121216}\n",
      "Validation accuracy: 0.7410\n",
      "--------------------------------------------------\n",
      "Tested parameters: {'embedding_dim': 64, 'rnn_units': 128, 'dense_units': 64, 'dropout_rate': 0.3, 'learning_rate': 0.01, 'batch_size': 32, 'activation': 'relu', 'val_accuracy': 0.4911312460899353}\n",
      "Validation accuracy: 0.4911\n",
      "--------------------------------------------------\n",
      "Tested parameters: {'embedding_dim': 64, 'rnn_units': 128, 'dense_units': 64, 'dropout_rate': 0.3, 'learning_rate': 0.01, 'batch_size': 32, 'activation': 'tanh', 'val_accuracy': 0.7311785817146301}\n",
      "Validation accuracy: 0.7312\n",
      "--------------------------------------------------\n",
      "Tested parameters: {'embedding_dim': 64, 'rnn_units': 128, 'dense_units': 64, 'dropout_rate': 0.3, 'learning_rate': 0.01, 'batch_size': 128, 'activation': 'relu', 'val_accuracy': 0.7335435748100281}\n",
      "Validation accuracy: 0.7335\n",
      "--------------------------------------------------\n",
      "Tested parameters: {'embedding_dim': 64, 'rnn_units': 128, 'dense_units': 64, 'dropout_rate': 0.3, 'learning_rate': 0.01, 'batch_size': 128, 'activation': 'tanh', 'val_accuracy': 0.7163973450660706}\n",
      "Validation accuracy: 0.7164\n",
      "--------------------------------------------------\n",
      "Tested parameters: {'embedding_dim': 128, 'rnn_units': 32, 'dense_units': 32, 'dropout_rate': 0.1, 'learning_rate': 0.001, 'batch_size': 32, 'activation': 'relu', 'val_accuracy': 0.7242806553840637}\n",
      "Validation accuracy: 0.7243\n",
      "--------------------------------------------------\n",
      "Tested parameters: {'embedding_dim': 128, 'rnn_units': 32, 'dense_units': 32, 'dropout_rate': 0.1, 'learning_rate': 0.001, 'batch_size': 32, 'activation': 'tanh', 'val_accuracy': 0.7453685402870178}\n",
      "Validation accuracy: 0.7454\n",
      "--------------------------------------------------\n",
      "Tested parameters: {'embedding_dim': 128, 'rnn_units': 32, 'dense_units': 32, 'dropout_rate': 0.1, 'learning_rate': 0.001, 'batch_size': 128, 'activation': 'relu', 'val_accuracy': 0.7093023061752319}\n",
      "Validation accuracy: 0.7093\n",
      "--------------------------------------------------\n",
      "Tested parameters: {'embedding_dim': 128, 'rnn_units': 32, 'dense_units': 32, 'dropout_rate': 0.1, 'learning_rate': 0.001, 'batch_size': 128, 'activation': 'tanh', 'val_accuracy': 0.742412269115448}\n",
      "Validation accuracy: 0.7424\n",
      "--------------------------------------------------\n",
      "Tested parameters: {'embedding_dim': 128, 'rnn_units': 32, 'dense_units': 32, 'dropout_rate': 0.1, 'learning_rate': 0.01, 'batch_size': 32, 'activation': 'relu', 'val_accuracy': 0.5088687539100647}\n",
      "Validation accuracy: 0.5089\n",
      "--------------------------------------------------\n",
      "Tested parameters: {'embedding_dim': 128, 'rnn_units': 32, 'dense_units': 32, 'dropout_rate': 0.1, 'learning_rate': 0.01, 'batch_size': 32, 'activation': 'tanh', 'val_accuracy': 0.7246748208999634}\n",
      "Validation accuracy: 0.7247\n",
      "--------------------------------------------------\n",
      "Tested parameters: {'embedding_dim': 128, 'rnn_units': 32, 'dense_units': 32, 'dropout_rate': 0.1, 'learning_rate': 0.01, 'batch_size': 128, 'activation': 'relu', 'val_accuracy': 0.5088687539100647}\n",
      "Validation accuracy: 0.5089\n",
      "--------------------------------------------------\n",
      "Tested parameters: {'embedding_dim': 128, 'rnn_units': 32, 'dense_units': 32, 'dropout_rate': 0.1, 'learning_rate': 0.01, 'batch_size': 128, 'activation': 'tanh', 'val_accuracy': 0.708119809627533}\n",
      "Validation accuracy: 0.7081\n",
      "--------------------------------------------------\n",
      "Tested parameters: {'embedding_dim': 128, 'rnn_units': 32, 'dense_units': 32, 'dropout_rate': 0.3, 'learning_rate': 0.001, 'batch_size': 32, 'activation': 'relu', 'val_accuracy': 0.7439889907836914}\n",
      "Validation accuracy: 0.7440\n",
      "--------------------------------------------------\n",
      "Tested parameters: {'embedding_dim': 128, 'rnn_units': 32, 'dense_units': 32, 'dropout_rate': 0.3, 'learning_rate': 0.001, 'batch_size': 32, 'activation': 'tanh', 'val_accuracy': 0.7296019196510315}\n",
      "Validation accuracy: 0.7296\n",
      "--------------------------------------------------\n",
      "Tested parameters: {'embedding_dim': 128, 'rnn_units': 32, 'dense_units': 32, 'dropout_rate': 0.3, 'learning_rate': 0.001, 'batch_size': 128, 'activation': 'relu', 'val_accuracy': 0.6689002513885498}\n",
      "Validation accuracy: 0.6689\n",
      "--------------------------------------------------\n",
      "Tested parameters: {'embedding_dim': 128, 'rnn_units': 32, 'dense_units': 32, 'dropout_rate': 0.3, 'learning_rate': 0.001, 'batch_size': 128, 'activation': 'tanh', 'val_accuracy': 0.7303902506828308}\n",
      "Validation accuracy: 0.7304\n",
      "--------------------------------------------------\n",
      "Tested parameters: {'embedding_dim': 128, 'rnn_units': 32, 'dense_units': 32, 'dropout_rate': 0.3, 'learning_rate': 0.01, 'batch_size': 32, 'activation': 'relu', 'val_accuracy': 0.5088687539100647}\n",
      "Validation accuracy: 0.5089\n",
      "--------------------------------------------------\n",
      "Tested parameters: {'embedding_dim': 128, 'rnn_units': 32, 'dense_units': 32, 'dropout_rate': 0.3, 'learning_rate': 0.01, 'batch_size': 32, 'activation': 'tanh', 'val_accuracy': 0.726251482963562}\n",
      "Validation accuracy: 0.7263\n",
      "--------------------------------------------------\n",
      "Tested parameters: {'embedding_dim': 128, 'rnn_units': 32, 'dense_units': 32, 'dropout_rate': 0.3, 'learning_rate': 0.01, 'batch_size': 128, 'activation': 'relu', 'val_accuracy': 0.7497043609619141}\n",
      "Validation accuracy: 0.7497\n",
      "--------------------------------------------------\n",
      "Tested parameters: {'embedding_dim': 128, 'rnn_units': 32, 'dense_units': 32, 'dropout_rate': 0.3, 'learning_rate': 0.01, 'batch_size': 128, 'activation': 'tanh', 'val_accuracy': 0.7355144023895264}\n",
      "Validation accuracy: 0.7355\n",
      "--------------------------------------------------\n",
      "Tested parameters: {'embedding_dim': 128, 'rnn_units': 32, 'dense_units': 64, 'dropout_rate': 0.1, 'learning_rate': 0.001, 'batch_size': 32, 'activation': 'relu', 'val_accuracy': 0.7433977127075195}\n",
      "Validation accuracy: 0.7434\n",
      "--------------------------------------------------\n",
      "Tested parameters: {'embedding_dim': 128, 'rnn_units': 32, 'dense_units': 64, 'dropout_rate': 0.1, 'learning_rate': 0.001, 'batch_size': 32, 'activation': 'tanh', 'val_accuracy': 0.7495073080062866}\n",
      "Validation accuracy: 0.7495\n",
      "--------------------------------------------------\n",
      "Tested parameters: {'embedding_dim': 128, 'rnn_units': 32, 'dense_units': 64, 'dropout_rate': 0.1, 'learning_rate': 0.001, 'batch_size': 128, 'activation': 'relu', 'val_accuracy': 0.7435948252677917}\n",
      "Validation accuracy: 0.7436\n",
      "--------------------------------------------------\n",
      "Tested parameters: {'embedding_dim': 128, 'rnn_units': 32, 'dense_units': 64, 'dropout_rate': 0.1, 'learning_rate': 0.001, 'batch_size': 128, 'activation': 'tanh', 'val_accuracy': 0.7378793954849243}\n",
      "Validation accuracy: 0.7379\n",
      "--------------------------------------------------\n",
      "Tested parameters: {'embedding_dim': 128, 'rnn_units': 32, 'dense_units': 64, 'dropout_rate': 0.1, 'learning_rate': 0.01, 'batch_size': 32, 'activation': 'relu', 'val_accuracy': 0.7335435748100281}\n",
      "Validation accuracy: 0.7335\n",
      "--------------------------------------------------\n",
      "Tested parameters: {'embedding_dim': 128, 'rnn_units': 32, 'dense_units': 64, 'dropout_rate': 0.1, 'learning_rate': 0.01, 'batch_size': 32, 'activation': 'tanh', 'val_accuracy': 0.7313756346702576}\n",
      "Validation accuracy: 0.7314\n",
      "--------------------------------------------------\n",
      "Tested parameters: {'embedding_dim': 128, 'rnn_units': 32, 'dense_units': 64, 'dropout_rate': 0.1, 'learning_rate': 0.01, 'batch_size': 128, 'activation': 'relu', 'val_accuracy': 0.7294048070907593}\n",
      "Validation accuracy: 0.7294\n",
      "--------------------------------------------------\n",
      "Tested parameters: {'embedding_dim': 128, 'rnn_units': 32, 'dense_units': 64, 'dropout_rate': 0.1, 'learning_rate': 0.01, 'batch_size': 128, 'activation': 'tanh', 'val_accuracy': 0.7463539838790894}\n",
      "Validation accuracy: 0.7464\n",
      "--------------------------------------------------\n",
      "Tested parameters: {'embedding_dim': 128, 'rnn_units': 32, 'dense_units': 64, 'dropout_rate': 0.3, 'learning_rate': 0.001, 'batch_size': 32, 'activation': 'relu', 'val_accuracy': 0.752069354057312}\n",
      "Validation accuracy: 0.7521\n",
      "--------------------------------------------------\n",
      "Tested parameters: {'embedding_dim': 128, 'rnn_units': 32, 'dense_units': 64, 'dropout_rate': 0.3, 'learning_rate': 0.001, 'batch_size': 32, 'activation': 'tanh', 'val_accuracy': 0.7487189769744873}\n",
      "Validation accuracy: 0.7487\n",
      "--------------------------------------------------\n",
      "Tested parameters: {'embedding_dim': 128, 'rnn_units': 32, 'dense_units': 64, 'dropout_rate': 0.3, 'learning_rate': 0.001, 'batch_size': 128, 'activation': 'relu', 'val_accuracy': 0.7449743747711182}\n",
      "Validation accuracy: 0.7450\n",
      "--------------------------------------------------\n",
      "Tested parameters: {'embedding_dim': 128, 'rnn_units': 32, 'dense_units': 64, 'dropout_rate': 0.3, 'learning_rate': 0.001, 'batch_size': 128, 'activation': 'tanh', 'val_accuracy': 0.7205360531806946}\n",
      "Validation accuracy: 0.7205\n",
      "--------------------------------------------------\n",
      "Tested parameters: {'embedding_dim': 128, 'rnn_units': 32, 'dense_units': 64, 'dropout_rate': 0.3, 'learning_rate': 0.01, 'batch_size': 32, 'activation': 'relu', 'val_accuracy': 0.5088687539100647}\n",
      "Validation accuracy: 0.5089\n",
      "--------------------------------------------------\n",
      "Tested parameters: {'embedding_dim': 128, 'rnn_units': 32, 'dense_units': 64, 'dropout_rate': 0.3, 'learning_rate': 0.01, 'batch_size': 32, 'activation': 'tanh', 'val_accuracy': 0.7357114553451538}\n",
      "Validation accuracy: 0.7357\n",
      "--------------------------------------------------\n",
      "Tested parameters: {'embedding_dim': 128, 'rnn_units': 32, 'dense_units': 64, 'dropout_rate': 0.3, 'learning_rate': 0.01, 'batch_size': 128, 'activation': 'relu', 'val_accuracy': 0.7430035471916199}\n",
      "Validation accuracy: 0.7430\n",
      "--------------------------------------------------\n",
      "Tested parameters: {'embedding_dim': 128, 'rnn_units': 32, 'dense_units': 64, 'dropout_rate': 0.3, 'learning_rate': 0.01, 'batch_size': 128, 'activation': 'tanh', 'val_accuracy': 0.7449743747711182}\n",
      "Validation accuracy: 0.7450\n",
      "--------------------------------------------------\n",
      "Tested parameters: {'embedding_dim': 128, 'rnn_units': 64, 'dense_units': 32, 'dropout_rate': 0.1, 'learning_rate': 0.001, 'batch_size': 32, 'activation': 'relu', 'val_accuracy': 0.7337406277656555}\n",
      "Validation accuracy: 0.7337\n",
      "--------------------------------------------------\n",
      "Tested parameters: {'embedding_dim': 128, 'rnn_units': 64, 'dense_units': 32, 'dropout_rate': 0.1, 'learning_rate': 0.001, 'batch_size': 32, 'activation': 'tanh', 'val_accuracy': 0.738273561000824}\n",
      "Validation accuracy: 0.7383\n",
      "--------------------------------------------------\n",
      "Tested parameters: {'embedding_dim': 128, 'rnn_units': 64, 'dense_units': 32, 'dropout_rate': 0.1, 'learning_rate': 0.001, 'batch_size': 128, 'activation': 'relu', 'val_accuracy': 0.7140322923660278}\n",
      "Validation accuracy: 0.7140\n",
      "--------------------------------------------------\n",
      "Tested parameters: {'embedding_dim': 128, 'rnn_units': 64, 'dense_units': 32, 'dropout_rate': 0.1, 'learning_rate': 0.001, 'batch_size': 128, 'activation': 'tanh', 'val_accuracy': 0.7345289587974548}\n",
      "Validation accuracy: 0.7345\n",
      "--------------------------------------------------\n",
      "Tested parameters: {'embedding_dim': 128, 'rnn_units': 64, 'dense_units': 32, 'dropout_rate': 0.1, 'learning_rate': 0.01, 'batch_size': 32, 'activation': 'relu', 'val_accuracy': 0.5088687539100647}\n",
      "Validation accuracy: 0.5089\n",
      "--------------------------------------------------\n",
      "Tested parameters: {'embedding_dim': 128, 'rnn_units': 64, 'dense_units': 32, 'dropout_rate': 0.1, 'learning_rate': 0.01, 'batch_size': 32, 'activation': 'tanh', 'val_accuracy': 0.7195506691932678}\n",
      "Validation accuracy: 0.7196\n",
      "--------------------------------------------------\n",
      "Tested parameters: {'embedding_dim': 128, 'rnn_units': 64, 'dense_units': 32, 'dropout_rate': 0.1, 'learning_rate': 0.01, 'batch_size': 128, 'activation': 'relu', 'val_accuracy': 0.7443831562995911}\n",
      "Validation accuracy: 0.7444\n",
      "--------------------------------------------------\n",
      "Tested parameters: {'embedding_dim': 128, 'rnn_units': 64, 'dense_units': 32, 'dropout_rate': 0.1, 'learning_rate': 0.01, 'batch_size': 128, 'activation': 'tanh', 'val_accuracy': 0.7433977127075195}\n",
      "Validation accuracy: 0.7434\n",
      "--------------------------------------------------\n",
      "Tested parameters: {'embedding_dim': 128, 'rnn_units': 64, 'dense_units': 32, 'dropout_rate': 0.3, 'learning_rate': 0.001, 'batch_size': 32, 'activation': 'relu', 'val_accuracy': 0.7506898045539856}\n",
      "Validation accuracy: 0.7507\n",
      "--------------------------------------------------\n",
      "Tested parameters: {'embedding_dim': 128, 'rnn_units': 64, 'dense_units': 32, 'dropout_rate': 0.3, 'learning_rate': 0.001, 'batch_size': 32, 'activation': 'tanh', 'val_accuracy': 0.7426093816757202}\n",
      "Validation accuracy: 0.7426\n",
      "--------------------------------------------------\n",
      "Tested parameters: {'embedding_dim': 128, 'rnn_units': 64, 'dense_units': 32, 'dropout_rate': 0.3, 'learning_rate': 0.001, 'batch_size': 128, 'activation': 'relu', 'val_accuracy': 0.7230981588363647}\n",
      "Validation accuracy: 0.7231\n",
      "--------------------------------------------------\n",
      "Tested parameters: {'embedding_dim': 128, 'rnn_units': 64, 'dense_units': 32, 'dropout_rate': 0.3, 'learning_rate': 0.001, 'batch_size': 128, 'activation': 'tanh', 'val_accuracy': 0.7485218644142151}\n",
      "Validation accuracy: 0.7485\n",
      "--------------------------------------------------\n",
      "Tested parameters: {'embedding_dim': 128, 'rnn_units': 64, 'dense_units': 32, 'dropout_rate': 0.3, 'learning_rate': 0.01, 'batch_size': 32, 'activation': 'relu', 'val_accuracy': 0.5088687539100647}\n",
      "Validation accuracy: 0.5089\n",
      "--------------------------------------------------\n",
      "Tested parameters: {'embedding_dim': 128, 'rnn_units': 64, 'dense_units': 32, 'dropout_rate': 0.3, 'learning_rate': 0.01, 'batch_size': 32, 'activation': 'tanh', 'val_accuracy': 0.6316515803337097}\n",
      "Validation accuracy: 0.6317\n",
      "--------------------------------------------------\n",
      "Tested parameters: {'embedding_dim': 128, 'rnn_units': 64, 'dense_units': 32, 'dropout_rate': 0.3, 'learning_rate': 0.01, 'batch_size': 128, 'activation': 'relu', 'val_accuracy': 0.7514781355857849}\n",
      "Validation accuracy: 0.7515\n",
      "--------------------------------------------------\n",
      "Tested parameters: {'embedding_dim': 128, 'rnn_units': 64, 'dense_units': 32, 'dropout_rate': 0.3, 'learning_rate': 0.01, 'batch_size': 128, 'activation': 'tanh', 'val_accuracy': 0.7337406277656555}\n",
      "Validation accuracy: 0.7337\n",
      "--------------------------------------------------\n",
      "Tested parameters: {'embedding_dim': 128, 'rnn_units': 64, 'dense_units': 64, 'dropout_rate': 0.1, 'learning_rate': 0.001, 'batch_size': 32, 'activation': 'relu', 'val_accuracy': 0.7418210506439209}\n",
      "Validation accuracy: 0.7418\n",
      "--------------------------------------------------\n",
      "Tested parameters: {'embedding_dim': 128, 'rnn_units': 64, 'dense_units': 64, 'dropout_rate': 0.1, 'learning_rate': 0.001, 'batch_size': 32, 'activation': 'tanh', 'val_accuracy': 0.7311785817146301}\n",
      "Validation accuracy: 0.7312\n",
      "--------------------------------------------------\n",
      "Tested parameters: {'embedding_dim': 128, 'rnn_units': 64, 'dense_units': 64, 'dropout_rate': 0.1, 'learning_rate': 0.001, 'batch_size': 128, 'activation': 'relu', 'val_accuracy': 0.7392589449882507}\n",
      "Validation accuracy: 0.7393\n",
      "--------------------------------------------------\n",
      "Tested parameters: {'embedding_dim': 128, 'rnn_units': 64, 'dense_units': 64, 'dropout_rate': 0.1, 'learning_rate': 0.001, 'batch_size': 128, 'activation': 'tanh', 'val_accuracy': 0.7477335333824158}\n",
      "Validation accuracy: 0.7477\n",
      "--------------------------------------------------\n",
      "Tested parameters: {'embedding_dim': 128, 'rnn_units': 64, 'dense_units': 64, 'dropout_rate': 0.1, 'learning_rate': 0.01, 'batch_size': 32, 'activation': 'relu', 'val_accuracy': 0.5088687539100647}\n",
      "Validation accuracy: 0.5089\n",
      "--------------------------------------------------\n",
      "Tested parameters: {'embedding_dim': 128, 'rnn_units': 64, 'dense_units': 64, 'dropout_rate': 0.1, 'learning_rate': 0.01, 'batch_size': 32, 'activation': 'tanh', 'val_accuracy': 0.7258573174476624}\n",
      "Validation accuracy: 0.7259\n",
      "--------------------------------------------------\n",
      "Tested parameters: {'embedding_dim': 128, 'rnn_units': 64, 'dense_units': 64, 'dropout_rate': 0.1, 'learning_rate': 0.01, 'batch_size': 128, 'activation': 'relu', 'val_accuracy': 0.5088687539100647}\n",
      "Validation accuracy: 0.5089\n",
      "--------------------------------------------------\n",
      "Tested parameters: {'embedding_dim': 128, 'rnn_units': 64, 'dense_units': 64, 'dropout_rate': 0.1, 'learning_rate': 0.01, 'batch_size': 128, 'activation': 'tanh', 'val_accuracy': 0.7112731337547302}\n",
      "Validation accuracy: 0.7113\n",
      "--------------------------------------------------\n",
      "Tested parameters: {'embedding_dim': 128, 'rnn_units': 64, 'dense_units': 64, 'dropout_rate': 0.3, 'learning_rate': 0.001, 'batch_size': 32, 'activation': 'relu', 'val_accuracy': 0.7510839700698853}\n",
      "Validation accuracy: 0.7511\n",
      "--------------------------------------------------\n",
      "Tested parameters: {'embedding_dim': 128, 'rnn_units': 64, 'dense_units': 64, 'dropout_rate': 0.3, 'learning_rate': 0.001, 'batch_size': 32, 'activation': 'tanh', 'val_accuracy': 0.7301931381225586}\n",
      "Validation accuracy: 0.7302\n",
      "--------------------------------------------------\n",
      "Tested parameters: {'embedding_dim': 128, 'rnn_units': 64, 'dense_units': 64, 'dropout_rate': 0.3, 'learning_rate': 0.001, 'batch_size': 128, 'activation': 'relu', 'val_accuracy': 0.7193535566329956}\n",
      "Validation accuracy: 0.7194\n",
      "--------------------------------------------------\n",
      "Tested parameters: {'embedding_dim': 128, 'rnn_units': 64, 'dense_units': 64, 'dropout_rate': 0.3, 'learning_rate': 0.001, 'batch_size': 128, 'activation': 'tanh', 'val_accuracy': 0.7276310324668884}\n",
      "Validation accuracy: 0.7276\n",
      "--------------------------------------------------\n",
      "Tested parameters: {'embedding_dim': 128, 'rnn_units': 64, 'dense_units': 64, 'dropout_rate': 0.3, 'learning_rate': 0.01, 'batch_size': 32, 'activation': 'relu', 'val_accuracy': 0.4911312460899353}\n",
      "Validation accuracy: 0.4911\n",
      "--------------------------------------------------\n",
      "Tested parameters: {'embedding_dim': 128, 'rnn_units': 64, 'dense_units': 64, 'dropout_rate': 0.3, 'learning_rate': 0.01, 'batch_size': 32, 'activation': 'tanh', 'val_accuracy': 0.7055577635765076}\n",
      "Validation accuracy: 0.7056\n",
      "--------------------------------------------------\n",
      "Tested parameters: {'embedding_dim': 128, 'rnn_units': 64, 'dense_units': 64, 'dropout_rate': 0.3, 'learning_rate': 0.01, 'batch_size': 128, 'activation': 'relu', 'val_accuracy': 0.7473393678665161}\n",
      "Validation accuracy: 0.7473\n",
      "--------------------------------------------------\n",
      "Tested parameters: {'embedding_dim': 128, 'rnn_units': 64, 'dense_units': 64, 'dropout_rate': 0.3, 'learning_rate': 0.01, 'batch_size': 128, 'activation': 'tanh', 'val_accuracy': 0.7225068807601929}\n",
      "Validation accuracy: 0.7225\n",
      "--------------------------------------------------\n",
      "Tested parameters: {'embedding_dim': 128, 'rnn_units': 128, 'dense_units': 32, 'dropout_rate': 0.1, 'learning_rate': 0.001, 'batch_size': 32, 'activation': 'relu', 'val_accuracy': 0.7477335333824158}\n",
      "Validation accuracy: 0.7477\n",
      "--------------------------------------------------\n",
      "Tested parameters: {'embedding_dim': 128, 'rnn_units': 128, 'dense_units': 32, 'dropout_rate': 0.1, 'learning_rate': 0.001, 'batch_size': 32, 'activation': 'tanh', 'val_accuracy': 0.7213243842124939}\n",
      "Validation accuracy: 0.7213\n",
      "--------------------------------------------------\n"
     ]
    },
    {
     "name": "stderr",
     "output_type": "stream",
     "text": [
      "WARNING: All log messages before absl::InitializeLog() is called are written to STDERR\n",
      "I0000 00:00:1734749848.871660   40027 asm_compiler.cc:369] ptxas warning : Registers are spilled to local memory in function 'triton_gemm_dot_42', 1384 bytes spill stores, 1384 bytes spill loads\n",
      "\n",
      "I0000 00:00:1734749859.588873   40051 asm_compiler.cc:369] ptxas warning : Registers are spilled to local memory in function 'triton_gemm_dot_42', 1360 bytes spill stores, 1360 bytes spill loads\n",
      "\n"
     ]
    },
    {
     "name": "stdout",
     "output_type": "stream",
     "text": [
      "Tested parameters: {'embedding_dim': 128, 'rnn_units': 128, 'dense_units': 32, 'dropout_rate': 0.1, 'learning_rate': 0.001, 'batch_size': 128, 'activation': 'relu', 'val_accuracy': 0.7284193634986877}\n",
      "Validation accuracy: 0.7284\n",
      "--------------------------------------------------\n",
      "Tested parameters: {'embedding_dim': 128, 'rnn_units': 128, 'dense_units': 32, 'dropout_rate': 0.1, 'learning_rate': 0.001, 'batch_size': 128, 'activation': 'tanh', 'val_accuracy': 0.7100906372070312}\n",
      "Validation accuracy: 0.7101\n",
      "--------------------------------------------------\n",
      "Tested parameters: {'embedding_dim': 128, 'rnn_units': 128, 'dense_units': 32, 'dropout_rate': 0.1, 'learning_rate': 0.01, 'batch_size': 32, 'activation': 'relu', 'val_accuracy': 0.5088687539100647}\n",
      "Validation accuracy: 0.5089\n",
      "--------------------------------------------------\n",
      "Tested parameters: {'embedding_dim': 128, 'rnn_units': 128, 'dense_units': 32, 'dropout_rate': 0.1, 'learning_rate': 0.01, 'batch_size': 32, 'activation': 'tanh', 'val_accuracy': 0.5088687539100647}\n",
      "Validation accuracy: 0.5089\n",
      "--------------------------------------------------\n",
      "Tested parameters: {'embedding_dim': 128, 'rnn_units': 128, 'dense_units': 32, 'dropout_rate': 0.1, 'learning_rate': 0.01, 'batch_size': 128, 'activation': 'relu', 'val_accuracy': 0.7441860437393188}\n",
      "Validation accuracy: 0.7442\n",
      "--------------------------------------------------\n",
      "Tested parameters: {'embedding_dim': 128, 'rnn_units': 128, 'dense_units': 32, 'dropout_rate': 0.1, 'learning_rate': 0.01, 'batch_size': 128, 'activation': 'tanh', 'val_accuracy': 0.49152541160583496}\n",
      "Validation accuracy: 0.4915\n",
      "--------------------------------------------------\n",
      "Tested parameters: {'embedding_dim': 128, 'rnn_units': 128, 'dense_units': 32, 'dropout_rate': 0.3, 'learning_rate': 0.001, 'batch_size': 32, 'activation': 'relu', 'val_accuracy': 0.7018131613731384}\n",
      "Validation accuracy: 0.7018\n",
      "--------------------------------------------------\n",
      "Tested parameters: {'embedding_dim': 128, 'rnn_units': 128, 'dense_units': 32, 'dropout_rate': 0.3, 'learning_rate': 0.001, 'batch_size': 32, 'activation': 'tanh', 'val_accuracy': 0.7473393678665161}\n",
      "Validation accuracy: 0.7473\n",
      "--------------------------------------------------\n",
      "Tested parameters: {'embedding_dim': 128, 'rnn_units': 128, 'dense_units': 32, 'dropout_rate': 0.3, 'learning_rate': 0.001, 'batch_size': 128, 'activation': 'relu', 'val_accuracy': 0.6957035660743713}\n",
      "Validation accuracy: 0.6957\n",
      "--------------------------------------------------\n",
      "Tested parameters: {'embedding_dim': 128, 'rnn_units': 128, 'dense_units': 32, 'dropout_rate': 0.3, 'learning_rate': 0.001, 'batch_size': 128, 'activation': 'tanh', 'val_accuracy': 0.7266456484794617}\n",
      "Validation accuracy: 0.7266\n",
      "--------------------------------------------------\n",
      "Tested parameters: {'embedding_dim': 128, 'rnn_units': 128, 'dense_units': 32, 'dropout_rate': 0.3, 'learning_rate': 0.01, 'batch_size': 32, 'activation': 'relu', 'val_accuracy': 0.5088687539100647}\n",
      "Validation accuracy: 0.5089\n",
      "--------------------------------------------------\n",
      "Tested parameters: {'embedding_dim': 128, 'rnn_units': 128, 'dense_units': 32, 'dropout_rate': 0.3, 'learning_rate': 0.01, 'batch_size': 32, 'activation': 'tanh', 'val_accuracy': 0.4911312460899353}\n",
      "Validation accuracy: 0.4911\n",
      "--------------------------------------------------\n",
      "Tested parameters: {'embedding_dim': 128, 'rnn_units': 128, 'dense_units': 32, 'dropout_rate': 0.3, 'learning_rate': 0.01, 'batch_size': 128, 'activation': 'relu', 'val_accuracy': 0.7270398139953613}\n",
      "Validation accuracy: 0.7270\n",
      "--------------------------------------------------\n",
      "Tested parameters: {'embedding_dim': 128, 'rnn_units': 128, 'dense_units': 32, 'dropout_rate': 0.3, 'learning_rate': 0.01, 'batch_size': 128, 'activation': 'tanh', 'val_accuracy': 0.49152541160583496}\n",
      "Validation accuracy: 0.4915\n",
      "--------------------------------------------------\n",
      "Tested parameters: {'embedding_dim': 128, 'rnn_units': 128, 'dense_units': 64, 'dropout_rate': 0.1, 'learning_rate': 0.001, 'batch_size': 32, 'activation': 'relu', 'val_accuracy': 0.7179740071296692}\n",
      "Validation accuracy: 0.7180\n",
      "--------------------------------------------------\n",
      "Tested parameters: {'embedding_dim': 128, 'rnn_units': 128, 'dense_units': 64, 'dropout_rate': 0.1, 'learning_rate': 0.001, 'batch_size': 32, 'activation': 'tanh', 'val_accuracy': 0.7388647794723511}\n",
      "Validation accuracy: 0.7389\n",
      "--------------------------------------------------\n",
      "Tested parameters: {'embedding_dim': 128, 'rnn_units': 128, 'dense_units': 64, 'dropout_rate': 0.1, 'learning_rate': 0.001, 'batch_size': 128, 'activation': 'relu', 'val_accuracy': 0.7242806553840637}\n",
      "Validation accuracy: 0.7243\n",
      "--------------------------------------------------\n",
      "Tested parameters: {'embedding_dim': 128, 'rnn_units': 128, 'dense_units': 64, 'dropout_rate': 0.1, 'learning_rate': 0.001, 'batch_size': 128, 'activation': 'tanh', 'val_accuracy': 0.7404414415359497}\n",
      "Validation accuracy: 0.7404\n",
      "--------------------------------------------------\n",
      "Tested parameters: {'embedding_dim': 128, 'rnn_units': 128, 'dense_units': 64, 'dropout_rate': 0.1, 'learning_rate': 0.01, 'batch_size': 32, 'activation': 'relu', 'val_accuracy': 0.5088687539100647}\n",
      "Validation accuracy: 0.5089\n",
      "--------------------------------------------------\n",
      "Tested parameters: {'embedding_dim': 128, 'rnn_units': 128, 'dense_units': 64, 'dropout_rate': 0.1, 'learning_rate': 0.01, 'batch_size': 32, 'activation': 'tanh', 'val_accuracy': 0.7112731337547302}\n",
      "Validation accuracy: 0.7113\n",
      "--------------------------------------------------\n",
      "Tested parameters: {'embedding_dim': 128, 'rnn_units': 128, 'dense_units': 64, 'dropout_rate': 0.1, 'learning_rate': 0.01, 'batch_size': 128, 'activation': 'relu', 'val_accuracy': 0.6945210695266724}\n",
      "Validation accuracy: 0.6945\n",
      "--------------------------------------------------\n",
      "Tested parameters: {'embedding_dim': 128, 'rnn_units': 128, 'dense_units': 64, 'dropout_rate': 0.1, 'learning_rate': 0.01, 'batch_size': 128, 'activation': 'tanh', 'val_accuracy': 0.5088687539100647}\n",
      "Validation accuracy: 0.5089\n",
      "--------------------------------------------------\n",
      "Tested parameters: {'embedding_dim': 128, 'rnn_units': 128, 'dense_units': 64, 'dropout_rate': 0.3, 'learning_rate': 0.001, 'batch_size': 32, 'activation': 'relu', 'val_accuracy': 0.734726071357727}\n",
      "Validation accuracy: 0.7347\n",
      "--------------------------------------------------\n",
      "Tested parameters: {'embedding_dim': 128, 'rnn_units': 128, 'dense_units': 64, 'dropout_rate': 0.3, 'learning_rate': 0.001, 'batch_size': 32, 'activation': 'tanh', 'val_accuracy': 0.7077256441116333}\n",
      "Validation accuracy: 0.7077\n",
      "--------------------------------------------------\n",
      "Tested parameters: {'embedding_dim': 128, 'rnn_units': 128, 'dense_units': 64, 'dropout_rate': 0.3, 'learning_rate': 0.001, 'batch_size': 128, 'activation': 'relu', 'val_accuracy': 0.7126527428627014}\n",
      "Validation accuracy: 0.7127\n",
      "--------------------------------------------------\n",
      "Tested parameters: {'embedding_dim': 128, 'rnn_units': 128, 'dense_units': 64, 'dropout_rate': 0.3, 'learning_rate': 0.001, 'batch_size': 128, 'activation': 'tanh', 'val_accuracy': 0.7410327196121216}\n",
      "Validation accuracy: 0.7410\n",
      "--------------------------------------------------\n",
      "Tested parameters: {'embedding_dim': 128, 'rnn_units': 128, 'dense_units': 64, 'dropout_rate': 0.3, 'learning_rate': 0.01, 'batch_size': 32, 'activation': 'relu', 'val_accuracy': 0.5088687539100647}\n",
      "Validation accuracy: 0.5089\n",
      "--------------------------------------------------\n",
      "Tested parameters: {'embedding_dim': 128, 'rnn_units': 128, 'dense_units': 64, 'dropout_rate': 0.3, 'learning_rate': 0.01, 'batch_size': 32, 'activation': 'tanh', 'val_accuracy': 0.5088687539100647}\n",
      "Validation accuracy: 0.5089\n",
      "--------------------------------------------------\n",
      "Tested parameters: {'embedding_dim': 128, 'rnn_units': 128, 'dense_units': 64, 'dropout_rate': 0.3, 'learning_rate': 0.01, 'batch_size': 128, 'activation': 'relu', 'val_accuracy': 0.7122585773468018}\n",
      "Validation accuracy: 0.7123\n",
      "--------------------------------------------------\n",
      "Tested parameters: {'embedding_dim': 128, 'rnn_units': 128, 'dense_units': 64, 'dropout_rate': 0.3, 'learning_rate': 0.01, 'batch_size': 128, 'activation': 'tanh', 'val_accuracy': 0.5086716413497925}\n",
      "Validation accuracy: 0.5087\n",
      "--------------------------------------------------\n"
     ]
    }
   ],
   "source": [
    "for embed_dim in hyperparameters['embedding_dim']:\n",
    "    for rnn_unit in hyperparameters['rnn_units']:\n",
    "        for dense_unit in hyperparameters['dense_units']:\n",
    "            for dropout in hyperparameters['dropout_rate']:\n",
    "                for lr in hyperparameters['learning_rate']:\n",
    "                    for batch in hyperparameters['batch_size']:\n",
    "                        for activation_func in hyperparameters['activation']:  \n",
    "                            model = Sequential([\n",
    "                                Embedding(len(vocab_length) + 1, embed_dim),\n",
    "                                SimpleRNN(rnn_unit, activation=activation_func, \n",
    "                                          kernel_regularizer=l2(0.01), recurrent_regularizer=l2(0.01)),\n",
    "                                Dense(dense_unit, activation=activation_func, kernel_regularizer=l2(0.01)),\n",
    "                                Dropout(dropout),\n",
    "                                Dense(1, activation='sigmoid')  \n",
    "                            ])\n",
    "                            \n",
    "                            optimizer = Adam(learning_rate=lr)\n",
    "                            model.compile(optimizer=optimizer,\n",
    "                                          loss='binary_crossentropy',\n",
    "                                          metrics=['accuracy'])\n",
    "                            \n",
    "                            history = model.fit(\n",
    "                                x_train_pad, y_train,\n",
    "                                epochs=20,\n",
    "                                batch_size=batch,\n",
    "                                validation_split=0.2,\n",
    "                                callbacks=[early_stopping],\n",
    "                                verbose=0 ,\n",
    "                                shuffle=True\n",
    "                            )\n",
    "                            \n",
    "                            val_loss, val_accuracy = model.evaluate(x_test_pad, y_test, verbose=0)\n",
    "                            \n",
    "                            current_params = {\n",
    "                                'embedding_dim': embed_dim,\n",
    "                                'rnn_units': rnn_unit,\n",
    "                                'dense_units': dense_unit,\n",
    "                                'dropout_rate': dropout,\n",
    "                                'learning_rate': lr,\n",
    "                                'batch_size': batch,\n",
    "                                'activation': activation_func,  \n",
    "                                'val_accuracy': val_accuracy\n",
    "                            }\n",
    "                            results.append(current_params)\n",
    "                            \n",
    "                            if val_accuracy > best_accuracy:\n",
    "                                best_accuracy = val_accuracy\n",
    "                                best_params = current_params\n",
    "                                best_history = history \n",
    "                            \n",
    "                            print(f\"Tested parameters: {current_params}\")\n",
    "                            print(f\"Validation accuracy: {val_accuracy:.4f}\")\n",
    "                            print(\"-\" * 50)"
   ]
  },
  {
   "cell_type": "code",
   "execution_count": 43,
   "id": "b1b92517",
   "metadata": {
    "execution": {
     "iopub.execute_input": "2024-12-21T03:12:00.332768Z",
     "iopub.status.busy": "2024-12-21T03:12:00.332462Z",
     "iopub.status.idle": "2024-12-21T03:12:00.337205Z",
     "shell.execute_reply": "2024-12-21T03:12:00.336332Z"
    },
    "papermill": {
     "duration": 0.052364,
     "end_time": "2024-12-21T03:12:00.338874",
     "exception": false,
     "start_time": "2024-12-21T03:12:00.286510",
     "status": "completed"
    },
    "tags": []
   },
   "outputs": [
    {
     "name": "stdout",
     "output_type": "stream",
     "text": [
      "Best parameters found:\n",
      "{'embedding_dim': 32, 'rnn_units': 32, 'dense_units': 32, 'dropout_rate': 0.1, 'learning_rate': 0.001, 'batch_size': 128, 'activation': 'relu', 'val_accuracy': 0.7577847838401794}\n"
     ]
    }
   ],
   "source": [
    "print(\"Best parameters found:\")\n",
    "print(best_params)\n"
   ]
  },
  {
   "cell_type": "code",
   "execution_count": 44,
   "id": "0480b333",
   "metadata": {
    "execution": {
     "iopub.execute_input": "2024-12-21T03:12:00.427327Z",
     "iopub.status.busy": "2024-12-21T03:12:00.427045Z",
     "iopub.status.idle": "2024-12-21T03:12:00.971457Z",
     "shell.execute_reply": "2024-12-21T03:12:00.970587Z"
    },
    "papermill": {
     "duration": 0.590662,
     "end_time": "2024-12-21T03:12:00.973140",
     "exception": false,
     "start_time": "2024-12-21T03:12:00.382478",
     "status": "completed"
    },
    "tags": []
   },
   "outputs": [
    {
     "data": {
      "image/png": "[encoded data removed]",
      "text/plain": [
       "<Figure size 1200x400 with 2 Axes>"
      ]
     },
     "metadata": {},
     "output_type": "display_data"
    }
   ],
   "source": [
    "plt.figure(figsize=(12, 4))\n",
    "\n",
    "plt.subplot(1, 2, 1)\n",
    "plt.plot(best_history.history['loss'], label='Train Loss')\n",
    "plt.plot(best_history.history['val_loss'], label='Validation Loss')\n",
    "plt.title('Model Loss Over Epochs (Best Model)')\n",
    "plt.ylabel('Loss')\n",
    "plt.xlabel('Epoch')\n",
    "plt.legend(loc='upper right')\n",
    "\n",
    "plt.subplot(1, 2, 2)\n",
    "plt.plot(best_history.history['accuracy'], label='Train Accuracy')\n",
    "plt.plot(best_history.history['val_accuracy'], label='Validation Accuracy')\n",
    "plt.title('Model Accuracy Over Epochs (Best Model)')\n",
    "plt.ylabel('Accuracy')\n",
    "plt.xlabel('Epoch')\n",
    "plt.legend(loc='lower right')\n",
    "\n",
    "plt.tight_layout()\n",
    "plt.show()"
   ]
  },
  {
   "cell_type": "code",
   "execution_count": 45,
   "id": "557880a7",
   "metadata": {
    "execution": {
     "iopub.execute_input": "2024-12-21T03:12:01.064500Z",
     "iopub.status.busy": "2024-12-21T03:12:01.064214Z",
     "iopub.status.idle": "2024-12-21T03:12:01.069111Z",
     "shell.execute_reply": "2024-12-21T03:12:01.068210Z"
    },
    "papermill": {
     "duration": 0.05187,
     "end_time": "2024-12-21T03:12:01.070575",
     "exception": false,
     "start_time": "2024-12-21T03:12:01.018705",
     "status": "completed"
    },
    "tags": []
   },
   "outputs": [
    {
     "name": "stdout",
     "output_type": "stream",
     "text": [
      "\n",
      "Final Training Metrics (Best Model):\n",
      "Training Loss: 0.1136\n",
      "Training Accuracy: 0.9814\n",
      "\n",
      "Final Validation Metrics (Best Model):\n",
      "Validation Loss: 0.8970\n",
      "Validation Accuracy: 0.7268\n"
     ]
    }
   ],
   "source": [
    "print(\"\\nFinal Training Metrics (Best Model):\")\n",
    "print(f\"Training Loss: {best_history.history['loss'][-1]:.4f}\")\n",
    "print(f\"Training Accuracy: {best_history.history['accuracy'][-1]:.4f}\")\n",
    "print(\"\\nFinal Validation Metrics (Best Model):\")\n",
    "print(f\"Validation Loss: {best_history.history['val_loss'][-1]:.4f}\")\n",
    "print(f\"Validation Accuracy: {best_history.history['val_accuracy'][-1]:.4f}\")\n"
   ]
  },
  {
   "cell_type": "markdown",
   "id": "acbbb3be",
   "metadata": {
    "papermill": {
     "duration": 0.045711,
     "end_time": "2024-12-21T03:12:01.162390",
     "exception": false,
     "start_time": "2024-12-21T03:12:01.116679",
     "status": "completed"
    },
    "tags": []
   },
   "source": [
    "# CNN Model"
   ]
  },
  {
   "cell_type": "code",
   "execution_count": 46,
   "id": "506e29bc",
   "metadata": {
    "execution": {
     "iopub.execute_input": "2024-12-21T03:12:01.252930Z",
     "iopub.status.busy": "2024-12-21T03:12:01.252666Z",
     "iopub.status.idle": "2024-12-21T03:12:01.267686Z",
     "shell.execute_reply": "2024-12-21T03:12:01.266862Z"
    },
    "papermill": {
     "duration": 0.062115,
     "end_time": "2024-12-21T03:12:01.269187",
     "exception": false,
     "start_time": "2024-12-21T03:12:01.207072",
     "status": "completed"
    },
    "tags": []
   },
   "outputs": [],
   "source": [
    "model = Sequential([\n",
    "    Embedding(input_dim=len(vocab_length) + 1, output_dim=128),\n",
    "\n",
    "    Conv1D(32, 3, padding='same', activation='relu', kernel_regularizer=l2(0.001)),  \n",
    "    BatchNormalization(), \n",
    "    GlobalMaxPooling1D(),\n",
    "    Dense(250, activation='relu', kernel_regularizer=l2(0.001)),  \n",
    "    Dropout(0.5), \n",
    "    Dense(1, activation='sigmoid', kernel_regularizer=l2(0.001))  \n",
    "])\n",
    "\n",
    "optimizer = Adam(learning_rate=0.001)\n",
    "model.compile(optimizer=optimizer,loss='binary_crossentropy',metrics=['accuracy'])"
   ]
  },
  {
   "cell_type": "code",
   "execution_count": 47,
   "id": "8ca5fb04",
   "metadata": {
    "execution": {
     "iopub.execute_input": "2024-12-21T03:12:01.359922Z",
     "iopub.status.busy": "2024-12-21T03:12:01.359655Z",
     "iopub.status.idle": "2024-12-21T03:13:22.626832Z",
     "shell.execute_reply": "2024-12-21T03:13:22.625902Z"
    },
    "papermill": {
     "duration": 81.314753,
     "end_time": "2024-12-21T03:13:22.628617",
     "exception": false,
     "start_time": "2024-12-21T03:12:01.313864",
     "status": "completed"
    },
    "tags": []
   },
   "outputs": [
    {
     "name": "stdout",
     "output_type": "stream",
     "text": [
      "Epoch 1/30\n",
      "\u001b[1m809/809\u001b[0m \u001b[32m━━━━━━━━━━━━━━━━━━━━\u001b[0m\u001b[37m\u001b[0m \u001b[1m10s\u001b[0m 7ms/step - accuracy: 0.6506 - loss: 0.6962 - val_accuracy: 0.7343 - val_loss: 0.5609\n",
      "Epoch 2/30\n",
      "\u001b[1m809/809\u001b[0m \u001b[32m━━━━━━━━━━━━━━━━━━━━\u001b[0m\u001b[37m\u001b[0m \u001b[1m2s\u001b[0m 3ms/step - accuracy: 0.9240 - loss: 0.2424 - val_accuracy: 0.7183 - val_loss: 0.7144\n",
      "Epoch 3/30\n",
      "\u001b[1m809/809\u001b[0m \u001b[32m━━━━━━━━━━━━━━━━━━━━\u001b[0m\u001b[37m\u001b[0m \u001b[1m2s\u001b[0m 3ms/step - accuracy: 0.9762 - loss: 0.1040 - val_accuracy: 0.7176 - val_loss: 0.8954\n",
      "Epoch 4/30\n",
      "\u001b[1m809/809\u001b[0m \u001b[32m━━━━━━━━━━━━━━━━━━━━\u001b[0m\u001b[37m\u001b[0m \u001b[1m2s\u001b[0m 3ms/step - accuracy: 0.9834 - loss: 0.0716 - val_accuracy: 0.7096 - val_loss: 0.9879\n",
      "Epoch 5/30\n",
      "\u001b[1m809/809\u001b[0m \u001b[32m━━━━━━━━━━━━━━━━━━━━\u001b[0m\u001b[37m\u001b[0m \u001b[1m3s\u001b[0m 3ms/step - accuracy: 0.9854 - loss: 0.0639 - val_accuracy: 0.7217 - val_loss: 1.0841\n",
      "Epoch 6/30\n",
      "\u001b[1m809/809\u001b[0m \u001b[32m━━━━━━━━━━━━━━━━━━━━\u001b[0m\u001b[37m\u001b[0m \u001b[1m2s\u001b[0m 3ms/step - accuracy: 0.9853 - loss: 0.0573 - val_accuracy: 0.6960 - val_loss: 1.3132\n",
      "Epoch 7/30\n",
      "\u001b[1m809/809\u001b[0m \u001b[32m━━━━━━━━━━━━━━━━━━━━\u001b[0m\u001b[37m\u001b[0m \u001b[1m2s\u001b[0m 3ms/step - accuracy: 0.9887 - loss: 0.0485 - val_accuracy: 0.7155 - val_loss: 1.1549\n",
      "Epoch 8/30\n",
      "\u001b[1m809/809\u001b[0m \u001b[32m━━━━━━━━━━━━━━━━━━━━\u001b[0m\u001b[37m\u001b[0m \u001b[1m2s\u001b[0m 3ms/step - accuracy: 0.9859 - loss: 0.0512 - val_accuracy: 0.7141 - val_loss: 1.2651\n",
      "Epoch 9/30\n",
      "\u001b[1m809/809\u001b[0m \u001b[32m━━━━━━━━━━━━━━━━━━━━\u001b[0m\u001b[37m\u001b[0m \u001b[1m2s\u001b[0m 3ms/step - accuracy: 0.9871 - loss: 0.0541 - val_accuracy: 0.7200 - val_loss: 1.1836\n",
      "Epoch 10/30\n",
      "\u001b[1m809/809\u001b[0m \u001b[32m━━━━━━━━━━━━━━━━━━━━\u001b[0m\u001b[37m\u001b[0m \u001b[1m2s\u001b[0m 3ms/step - accuracy: 0.9881 - loss: 0.0477 - val_accuracy: 0.7238 - val_loss: 1.1912\n",
      "Epoch 11/30\n",
      "\u001b[1m809/809\u001b[0m \u001b[32m━━━━━━━━━━━━━━━━━━━━\u001b[0m\u001b[37m\u001b[0m \u001b[1m2s\u001b[0m 3ms/step - accuracy: 0.9867 - loss: 0.0490 - val_accuracy: 0.7096 - val_loss: 1.2796\n",
      "Epoch 12/30\n",
      "\u001b[1m809/809\u001b[0m \u001b[32m━━━━━━━━━━━━━━━━━━━━\u001b[0m\u001b[37m\u001b[0m \u001b[1m2s\u001b[0m 3ms/step - accuracy: 0.9876 - loss: 0.0458 - val_accuracy: 0.7099 - val_loss: 1.1474\n",
      "Epoch 13/30\n",
      "\u001b[1m809/809\u001b[0m \u001b[32m━━━━━━━━━━━━━━━━━━━━\u001b[0m\u001b[37m\u001b[0m \u001b[1m2s\u001b[0m 3ms/step - accuracy: 0.9882 - loss: 0.0446 - val_accuracy: 0.7207 - val_loss: 1.3509\n",
      "Epoch 14/30\n",
      "\u001b[1m809/809\u001b[0m \u001b[32m━━━━━━━━━━━━━━━━━━━━\u001b[0m\u001b[37m\u001b[0m \u001b[1m2s\u001b[0m 3ms/step - accuracy: 0.9886 - loss: 0.0419 - val_accuracy: 0.7092 - val_loss: 1.3287\n",
      "Epoch 15/30\n",
      "\u001b[1m809/809\u001b[0m \u001b[32m━━━━━━━━━━━━━━━━━━━━\u001b[0m\u001b[37m\u001b[0m \u001b[1m2s\u001b[0m 3ms/step - accuracy: 0.9888 - loss: 0.0394 - val_accuracy: 0.7155 - val_loss: 1.3249\n",
      "Epoch 16/30\n",
      "\u001b[1m809/809\u001b[0m \u001b[32m━━━━━━━━━━━━━━━━━━━━\u001b[0m\u001b[37m\u001b[0m \u001b[1m2s\u001b[0m 3ms/step - accuracy: 0.9872 - loss: 0.0448 - val_accuracy: 0.6925 - val_loss: 1.4660\n",
      "Epoch 17/30\n",
      "\u001b[1m809/809\u001b[0m \u001b[32m━━━━━━━━━━━━━━━━━━━━\u001b[0m\u001b[37m\u001b[0m \u001b[1m2s\u001b[0m 3ms/step - accuracy: 0.9882 - loss: 0.0422 - val_accuracy: 0.7130 - val_loss: 1.3292\n",
      "Epoch 18/30\n",
      "\u001b[1m809/809\u001b[0m \u001b[32m━━━━━━━━━━━━━━━━━━━━\u001b[0m\u001b[37m\u001b[0m \u001b[1m3s\u001b[0m 3ms/step - accuracy: 0.9902 - loss: 0.0385 - val_accuracy: 0.7190 - val_loss: 1.3903\n",
      "Epoch 19/30\n",
      "\u001b[1m809/809\u001b[0m \u001b[32m━━━━━━━━━━━━━━━━━━━━\u001b[0m\u001b[37m\u001b[0m \u001b[1m2s\u001b[0m 3ms/step - accuracy: 0.9894 - loss: 0.0398 - val_accuracy: 0.7165 - val_loss: 1.3207\n",
      "Epoch 20/30\n",
      "\u001b[1m809/809\u001b[0m \u001b[32m━━━━━━━━━━━━━━━━━━━━\u001b[0m\u001b[37m\u001b[0m \u001b[1m2s\u001b[0m 3ms/step - accuracy: 0.9893 - loss: 0.0358 - val_accuracy: 0.7183 - val_loss: 1.3875\n",
      "Epoch 21/30\n",
      "\u001b[1m809/809\u001b[0m \u001b[32m━━━━━━━━━━━━━━━━━━━━\u001b[0m\u001b[37m\u001b[0m \u001b[1m2s\u001b[0m 3ms/step - accuracy: 0.9887 - loss: 0.0384 - val_accuracy: 0.7155 - val_loss: 1.2508\n",
      "Epoch 22/30\n",
      "\u001b[1m809/809\u001b[0m \u001b[32m━━━━━━━━━━━━━━━━━━━━\u001b[0m\u001b[37m\u001b[0m \u001b[1m2s\u001b[0m 3ms/step - accuracy: 0.9895 - loss: 0.0358 - val_accuracy: 0.7155 - val_loss: 1.3849\n",
      "Epoch 23/30\n",
      "\u001b[1m809/809\u001b[0m \u001b[32m━━━━━━━━━━━━━━━━━━━━\u001b[0m\u001b[37m\u001b[0m \u001b[1m2s\u001b[0m 3ms/step - accuracy: 0.9902 - loss: 0.0349 - val_accuracy: 0.7103 - val_loss: 1.2578\n",
      "Epoch 24/30\n",
      "\u001b[1m809/809\u001b[0m \u001b[32m━━━━━━━━━━━━━━━━━━━━\u001b[0m\u001b[37m\u001b[0m \u001b[1m2s\u001b[0m 3ms/step - accuracy: 0.9895 - loss: 0.0367 - val_accuracy: 0.7103 - val_loss: 1.1753\n",
      "Epoch 25/30\n",
      "\u001b[1m809/809\u001b[0m \u001b[32m━━━━━━━━━━━━━━━━━━━━\u001b[0m\u001b[37m\u001b[0m \u001b[1m2s\u001b[0m 3ms/step - accuracy: 0.9893 - loss: 0.0367 - val_accuracy: 0.7162 - val_loss: 1.3302\n",
      "Epoch 26/30\n",
      "\u001b[1m809/809\u001b[0m \u001b[32m━━━━━━━━━━━━━━━━━━━━\u001b[0m\u001b[37m\u001b[0m \u001b[1m2s\u001b[0m 3ms/step - accuracy: 0.9900 - loss: 0.0352 - val_accuracy: 0.7158 - val_loss: 1.2212\n",
      "Epoch 27/30\n",
      "\u001b[1m809/809\u001b[0m \u001b[32m━━━━━━━━━━━━━━━━━━━━\u001b[0m\u001b[37m\u001b[0m \u001b[1m2s\u001b[0m 3ms/step - accuracy: 0.9915 - loss: 0.0346 - val_accuracy: 0.7130 - val_loss: 1.2510\n",
      "Epoch 28/30\n",
      "\u001b[1m809/809\u001b[0m \u001b[32m━━━━━━━━━━━━━━━━━━━━\u001b[0m\u001b[37m\u001b[0m \u001b[1m2s\u001b[0m 3ms/step - accuracy: 0.9909 - loss: 0.0292 - val_accuracy: 0.7113 - val_loss: 1.5036\n",
      "Epoch 29/30\n",
      "\u001b[1m809/809\u001b[0m \u001b[32m━━━━━━━━━━━━━━━━━━━━\u001b[0m\u001b[37m\u001b[0m \u001b[1m2s\u001b[0m 3ms/step - accuracy: 0.9876 - loss: 0.0351 - val_accuracy: 0.7148 - val_loss: 1.3238\n",
      "Epoch 30/30\n",
      "\u001b[1m809/809\u001b[0m \u001b[32m━━━━━━━━━━━━━━━━━━━━\u001b[0m\u001b[37m\u001b[0m \u001b[1m2s\u001b[0m 3ms/step - accuracy: 0.9907 - loss: 0.0326 - val_accuracy: 0.7103 - val_loss: 1.4492\n"
     ]
    },
    {
     "data": {
      "text/plain": [
       "<keras.src.callbacks.history.History at 0x7848a0382ec0>"
      ]
     },
     "execution_count": 47,
     "metadata": {},
     "output_type": "execute_result"
    }
   ],
   "source": [
    "model.fit(x_train_pad, y_train,validation_data=(x_cv_pad ,y_cv ) , epochs = 30  )"
   ]
  },
  {
   "cell_type": "code",
   "execution_count": 48,
   "id": "4780c34a",
   "metadata": {
    "execution": {
     "iopub.execute_input": "2024-12-21T03:13:22.869212Z",
     "iopub.status.busy": "2024-12-21T03:13:22.868794Z",
     "iopub.status.idle": "2024-12-21T03:13:22.890020Z",
     "shell.execute_reply": "2024-12-21T03:13:22.889118Z"
    },
    "papermill": {
     "duration": 0.142916,
     "end_time": "2024-12-21T03:13:22.891644",
     "exception": false,
     "start_time": "2024-12-21T03:13:22.748728",
     "status": "completed"
    },
    "tags": []
   },
   "outputs": [
    {
     "data": {
      "text/html": [
       "<pre style=\"white-space:pre;overflow-x:auto;line-height:normal;font-family:Menlo,'DejaVu Sans Mono',consolas,'Courier New',monospace\"><span style=\"font-weight: bold\">Model: \"sequential_289\"</span>\n",
       "</pre>\n"
      ],
      "text/plain": [
       "\u001b[1mModel: \"sequential_289\"\u001b[0m\n"
      ]
     },
     "metadata": {},
     "output_type": "display_data"
    },
    {
     "data": {
      "text/html": [
       "<pre style=\"white-space:pre;overflow-x:auto;line-height:normal;font-family:Menlo,'DejaVu Sans Mono',consolas,'Courier New',monospace\">┏━━━━━━━━━━━━━━━━━━━━━━━━━━━━━━━━━┳━━━━━━━━━━━━━━━━━━━━━━━━┳━━━━━━━━━━━━━━━┓\n",
       "┃<span style=\"font-weight: bold\"> Layer (type)                    </span>┃<span style=\"font-weight: bold\"> Output Shape           </span>┃<span style=\"font-weight: bold\">       Param # </span>┃\n",
       "┡━━━━━━━━━━━━━━━━━━━━━━━━━━━━━━━━━╇━━━━━━━━━━━━━━━━━━━━━━━━╇━━━━━━━━━━━━━━━┩\n",
       "│ embedding_289 (<span style=\"color: #0087ff; text-decoration-color: #0087ff\">Embedding</span>)       │ (<span style=\"color: #00d7ff; text-decoration-color: #00d7ff\">None</span>, <span style=\"color: #00af00; text-decoration-color: #00af00\">65</span>, <span style=\"color: #00af00; text-decoration-color: #00af00\">128</span>)        │     <span style=\"color: #00af00; text-decoration-color: #00af00\">6,408,064</span> │\n",
       "├─────────────────────────────────┼────────────────────────┼───────────────┤\n",
       "│ conv1d (<span style=\"color: #0087ff; text-decoration-color: #0087ff\">Conv1D</span>)                 │ (<span style=\"color: #00d7ff; text-decoration-color: #00d7ff\">None</span>, <span style=\"color: #00af00; text-decoration-color: #00af00\">65</span>, <span style=\"color: #00af00; text-decoration-color: #00af00\">32</span>)         │        <span style=\"color: #00af00; text-decoration-color: #00af00\">12,320</span> │\n",
       "├─────────────────────────────────┼────────────────────────┼───────────────┤\n",
       "│ batch_normalization             │ (<span style=\"color: #00d7ff; text-decoration-color: #00d7ff\">None</span>, <span style=\"color: #00af00; text-decoration-color: #00af00\">65</span>, <span style=\"color: #00af00; text-decoration-color: #00af00\">32</span>)         │           <span style=\"color: #00af00; text-decoration-color: #00af00\">128</span> │\n",
       "│ (<span style=\"color: #0087ff; text-decoration-color: #0087ff\">BatchNormalization</span>)            │                        │               │\n",
       "├─────────────────────────────────┼────────────────────────┼───────────────┤\n",
       "│ global_max_pooling1d            │ (<span style=\"color: #00d7ff; text-decoration-color: #00d7ff\">None</span>, <span style=\"color: #00af00; text-decoration-color: #00af00\">32</span>)             │             <span style=\"color: #00af00; text-decoration-color: #00af00\">0</span> │\n",
       "│ (<span style=\"color: #0087ff; text-decoration-color: #0087ff\">GlobalMaxPooling1D</span>)            │                        │               │\n",
       "├─────────────────────────────────┼────────────────────────┼───────────────┤\n",
       "│ dense_578 (<span style=\"color: #0087ff; text-decoration-color: #0087ff\">Dense</span>)               │ (<span style=\"color: #00d7ff; text-decoration-color: #00d7ff\">None</span>, <span style=\"color: #00af00; text-decoration-color: #00af00\">250</span>)            │         <span style=\"color: #00af00; text-decoration-color: #00af00\">8,250</span> │\n",
       "├─────────────────────────────────┼────────────────────────┼───────────────┤\n",
       "│ dropout_290 (<span style=\"color: #0087ff; text-decoration-color: #0087ff\">Dropout</span>)           │ (<span style=\"color: #00d7ff; text-decoration-color: #00d7ff\">None</span>, <span style=\"color: #00af00; text-decoration-color: #00af00\">250</span>)            │             <span style=\"color: #00af00; text-decoration-color: #00af00\">0</span> │\n",
       "├─────────────────────────────────┼────────────────────────┼───────────────┤\n",
       "│ dense_579 (<span style=\"color: #0087ff; text-decoration-color: #0087ff\">Dense</span>)               │ (<span style=\"color: #00d7ff; text-decoration-color: #00d7ff\">None</span>, <span style=\"color: #00af00; text-decoration-color: #00af00\">1</span>)              │           <span style=\"color: #00af00; text-decoration-color: #00af00\">251</span> │\n",
       "└─────────────────────────────────┴────────────────────────┴───────────────┘\n",
       "</pre>\n"
      ],
      "text/plain": [
       "┏━━━━━━━━━━━━━━━━━━━━━━━━━━━━━━━━━┳━━━━━━━━━━━━━━━━━━━━━━━━┳━━━━━━━━━━━━━━━┓\n",
       "┃\u001b[1m \u001b[0m\u001b[1mLayer (type)                   \u001b[0m\u001b[1m \u001b[0m┃\u001b[1m \u001b[0m\u001b[1mOutput Shape          \u001b[0m\u001b[1m \u001b[0m┃\u001b[1m \u001b[0m\u001b[1m      Param #\u001b[0m\u001b[1m \u001b[0m┃\n",
       "┡━━━━━━━━━━━━━━━━━━━━━━━━━━━━━━━━━╇━━━━━━━━━━━━━━━━━━━━━━━━╇━━━━━━━━━━━━━━━┩\n",
       "│ embedding_289 (\u001b[38;5;33mEmbedding\u001b[0m)       │ (\u001b[38;5;45mNone\u001b[0m, \u001b[38;5;34m65\u001b[0m, \u001b[38;5;34m128\u001b[0m)        │     \u001b[38;5;34m6,408,064\u001b[0m │\n",
       "├─────────────────────────────────┼────────────────────────┼───────────────┤\n",
       "│ conv1d (\u001b[38;5;33mConv1D\u001b[0m)                 │ (\u001b[38;5;45mNone\u001b[0m, \u001b[38;5;34m65\u001b[0m, \u001b[38;5;34m32\u001b[0m)         │        \u001b[38;5;34m12,320\u001b[0m │\n",
       "├─────────────────────────────────┼────────────────────────┼───────────────┤\n",
       "│ batch_normalization             │ (\u001b[38;5;45mNone\u001b[0m, \u001b[38;5;34m65\u001b[0m, \u001b[38;5;34m32\u001b[0m)         │           \u001b[38;5;34m128\u001b[0m │\n",
       "│ (\u001b[38;5;33mBatchNormalization\u001b[0m)            │                        │               │\n",
       "├─────────────────────────────────┼────────────────────────┼───────────────┤\n",
       "│ global_max_pooling1d            │ (\u001b[38;5;45mNone\u001b[0m, \u001b[38;5;34m32\u001b[0m)             │             \u001b[38;5;34m0\u001b[0m │\n",
       "│ (\u001b[38;5;33mGlobalMaxPooling1D\u001b[0m)            │                        │               │\n",
       "├─────────────────────────────────┼────────────────────────┼───────────────┤\n",
       "│ dense_578 (\u001b[38;5;33mDense\u001b[0m)               │ (\u001b[38;5;45mNone\u001b[0m, \u001b[38;5;34m250\u001b[0m)            │         \u001b[38;5;34m8,250\u001b[0m │\n",
       "├─────────────────────────────────┼────────────────────────┼───────────────┤\n",
       "│ dropout_290 (\u001b[38;5;33mDropout\u001b[0m)           │ (\u001b[38;5;45mNone\u001b[0m, \u001b[38;5;34m250\u001b[0m)            │             \u001b[38;5;34m0\u001b[0m │\n",
       "├─────────────────────────────────┼────────────────────────┼───────────────┤\n",
       "│ dense_579 (\u001b[38;5;33mDense\u001b[0m)               │ (\u001b[38;5;45mNone\u001b[0m, \u001b[38;5;34m1\u001b[0m)              │           \u001b[38;5;34m251\u001b[0m │\n",
       "└─────────────────────────────────┴────────────────────────┴───────────────┘\n"
      ]
     },
     "metadata": {},
     "output_type": "display_data"
    },
    {
     "data": {
      "text/html": [
       "<pre style=\"white-space:pre;overflow-x:auto;line-height:normal;font-family:Menlo,'DejaVu Sans Mono',consolas,'Courier New',monospace\"><span style=\"font-weight: bold\"> Total params: </span><span style=\"color: #00af00; text-decoration-color: #00af00\">19,286,913</span> (73.57 MB)\n",
       "</pre>\n"
      ],
      "text/plain": [
       "\u001b[1m Total params: \u001b[0m\u001b[38;5;34m19,286,913\u001b[0m (73.57 MB)\n"
      ]
     },
     "metadata": {},
     "output_type": "display_data"
    },
    {
     "data": {
      "text/html": [
       "<pre style=\"white-space:pre;overflow-x:auto;line-height:normal;font-family:Menlo,'DejaVu Sans Mono',consolas,'Courier New',monospace\"><span style=\"font-weight: bold\"> Trainable params: </span><span style=\"color: #00af00; text-decoration-color: #00af00\">6,428,949</span> (24.52 MB)\n",
       "</pre>\n"
      ],
      "text/plain": [
       "\u001b[1m Trainable params: \u001b[0m\u001b[38;5;34m6,428,949\u001b[0m (24.52 MB)\n"
      ]
     },
     "metadata": {},
     "output_type": "display_data"
    },
    {
     "data": {
      "text/html": [
       "<pre style=\"white-space:pre;overflow-x:auto;line-height:normal;font-family:Menlo,'DejaVu Sans Mono',consolas,'Courier New',monospace\"><span style=\"font-weight: bold\"> Non-trainable params: </span><span style=\"color: #00af00; text-decoration-color: #00af00\">64</span> (256.00 B)\n",
       "</pre>\n"
      ],
      "text/plain": [
       "\u001b[1m Non-trainable params: \u001b[0m\u001b[38;5;34m64\u001b[0m (256.00 B)\n"
      ]
     },
     "metadata": {},
     "output_type": "display_data"
    },
    {
     "data": {
      "text/html": [
       "<pre style=\"white-space:pre;overflow-x:auto;line-height:normal;font-family:Menlo,'DejaVu Sans Mono',consolas,'Courier New',monospace\"><span style=\"font-weight: bold\"> Optimizer params: </span><span style=\"color: #00af00; text-decoration-color: #00af00\">12,857,900</span> (49.05 MB)\n",
       "</pre>\n"
      ],
      "text/plain": [
       "\u001b[1m Optimizer params: \u001b[0m\u001b[38;5;34m12,857,900\u001b[0m (49.05 MB)\n"
      ]
     },
     "metadata": {},
     "output_type": "display_data"
    }
   ],
   "source": [
    "model.summary()"
   ]
  },
  {
   "cell_type": "code",
   "execution_count": 49,
   "id": "b79160d3",
   "metadata": {
    "execution": {
     "iopub.execute_input": "2024-12-21T03:13:23.139907Z",
     "iopub.status.busy": "2024-12-21T03:13:23.139589Z",
     "iopub.status.idle": "2024-12-21T03:13:23.799502Z",
     "shell.execute_reply": "2024-12-21T03:13:23.798597Z"
    },
    "papermill": {
     "duration": 0.771791,
     "end_time": "2024-12-21T03:13:23.801627",
     "exception": false,
     "start_time": "2024-12-21T03:13:23.029836",
     "status": "completed"
    },
    "tags": []
   },
   "outputs": [],
   "source": [
    "scores = model.evaluate(x_test_pad, y_test, verbose=0)"
   ]
  },
  {
   "cell_type": "code",
   "execution_count": 50,
   "id": "2fe65e3e",
   "metadata": {
    "execution": {
     "iopub.execute_input": "2024-12-21T03:13:24.032532Z",
     "iopub.status.busy": "2024-12-21T03:13:24.031597Z",
     "iopub.status.idle": "2024-12-21T03:13:24.036553Z",
     "shell.execute_reply": "2024-12-21T03:13:24.035687Z"
    },
    "papermill": {
     "duration": 0.124306,
     "end_time": "2024-12-21T03:13:24.038105",
     "exception": false,
     "start_time": "2024-12-21T03:13:23.913799",
     "status": "completed"
    },
    "tags": []
   },
   "outputs": [
    {
     "name": "stdout",
     "output_type": "stream",
     "text": [
      "Accuracy: 72.29%\n"
     ]
    }
   ],
   "source": [
    "print(\"Accuracy: %.2f%%\" % (scores[1]*100))\n"
   ]
  },
  {
   "cell_type": "code",
   "execution_count": 51,
   "id": "f15f74e0",
   "metadata": {
    "execution": {
     "iopub.execute_input": "2024-12-21T03:13:24.326075Z",
     "iopub.status.busy": "2024-12-21T03:13:24.325729Z",
     "iopub.status.idle": "2024-12-21T03:13:24.684082Z",
     "shell.execute_reply": "2024-12-21T03:13:24.683331Z"
    },
    "papermill": {
     "duration": 0.511222,
     "end_time": "2024-12-21T03:13:24.685706",
     "exception": false,
     "start_time": "2024-12-21T03:13:24.174484",
     "status": "completed"
    },
    "tags": []
   },
   "outputs": [
    {
     "name": "stdout",
     "output_type": "stream",
     "text": [
      "['شرف', 'كبير', 'بنسبة', 'ليا', 'كمغربي', 'ولد', 'بلادي', 'يستضيف', 'أكبر', 'نجم', 'من', 'نجوم', 'العالم', 'شكرا', 'فروق', '❤']\n",
      "['من', 'شرف', 'قلب', 'كمغربي', 'ليا', 'ولد', 'العالم', 'شكرا', 'يستضيف', 'بلادي', 'كبير', 'أكبر', 'أحمر', 'نجوم', 'بنسبة', 'فروق', 'نجم']\n",
      "['قلب', 'كمغربي', 'يستضيف', 'أحمر', 'فروق']\n",
      "\u001b[1m1/1\u001b[0m \u001b[32m━━━━━━━━━━━━━━━━━━━━\u001b[0m\u001b[37m\u001b[0m \u001b[1m0s\u001b[0m 263ms/step\n",
      "Prediction: [[0.99990904]]\n"
     ]
    }
   ],
   "source": [
    "input_text = [tokenize_arab_text(\"شرف كبير بنسبة ليا كمغربي ولد بلادي يستضيف أكبر نجم من نجوم العالم شكرا فروق ❤\")]  \n",
    "input_sequence = token.texts_to_sequences(input_text)\n",
    "input_padded = pad_sequences(input_sequence, maxlen=max_len)\n",
    "\n",
    "input_padded = input_padded.reshape(1, max_len)\n",
    "\n",
    "prediction = model.predict(input_padded)\n",
    "print(\"Prediction:\", prediction)"
   ]
  },
  {
   "cell_type": "markdown",
   "id": "271a7e1a",
   "metadata": {
    "papermill": {
     "duration": 0.108284,
     "end_time": "2024-12-21T03:13:24.904936",
     "exception": false,
     "start_time": "2024-12-21T03:13:24.796652",
     "status": "completed"
    },
    "tags": []
   },
   "source": [
    "# Tuning CNN Model"
   ]
  },
  {
   "cell_type": "code",
   "execution_count": 52,
   "id": "e6762ea1",
   "metadata": {
    "execution": {
     "iopub.execute_input": "2024-12-21T03:13:25.123130Z",
     "iopub.status.busy": "2024-12-21T03:13:25.122817Z",
     "iopub.status.idle": "2024-12-21T03:13:25.127704Z",
     "shell.execute_reply": "2024-12-21T03:13:25.127054Z"
    },
    "papermill": {
     "duration": 0.116107,
     "end_time": "2024-12-21T03:13:25.129225",
     "exception": false,
     "start_time": "2024-12-21T03:13:25.013118",
     "status": "completed"
    },
    "tags": []
   },
   "outputs": [],
   "source": [
    "hyperparameters = {\n",
    "    'embedding_dim': [ 64, 128],\n",
    "    'filters': [16, 32],\n",
    "    'kernel_size': [3 , 5],\n",
    "    'dense_units': [64, 128],\n",
    "    'dropout_rate': [0.15 , 0.3],\n",
    "    'learning_rate': [ 0.01],\n",
    "    'batch_size': [32, 64],\n",
    "    'activation': [\"relu\"]\n",
    "}\n",
    "\n",
    "best_accuracy = 0\n",
    "best_params = {}\n",
    "results = []\n",
    "best_history = None  \n"
   ]
  },
  {
   "cell_type": "code",
   "execution_count": 53,
   "id": "c8b82d3a",
   "metadata": {
    "execution": {
     "iopub.execute_input": "2024-12-21T03:13:25.351790Z",
     "iopub.status.busy": "2024-12-21T03:13:25.351478Z",
     "iopub.status.idle": "2024-12-21T03:29:23.724361Z",
     "shell.execute_reply": "2024-12-21T03:29:23.723310Z"
    },
    "papermill": {
     "duration": 958.487076,
     "end_time": "2024-12-21T03:29:23.726088",
     "exception": false,
     "start_time": "2024-12-21T03:13:25.239012",
     "status": "completed"
    },
    "tags": []
   },
   "outputs": [
    {
     "name": "stdout",
     "output_type": "stream",
     "text": [
      "Tested parameters: {'embedding_dim': 64, 'filters': 16, 'kernel_size': 3, 'dense_units': 64, 'dropout_rate': 0.15, 'learning_rate': 0.01, 'batch_size': 32, 'activation': 'relu', 'val_accuracy': 0.7447773218154907}\n",
      "Validation accuracy: 0.7448\n",
      "--------------------------------------------------\n",
      "Tested parameters: {'embedding_dim': 64, 'filters': 16, 'kernel_size': 3, 'dense_units': 64, 'dropout_rate': 0.15, 'learning_rate': 0.01, 'batch_size': 64, 'activation': 'relu', 'val_accuracy': 0.7461568713188171}\n",
      "Validation accuracy: 0.7462\n",
      "--------------------------------------------------\n",
      "Tested parameters: {'embedding_dim': 64, 'filters': 16, 'kernel_size': 3, 'dense_units': 64, 'dropout_rate': 0.3, 'learning_rate': 0.01, 'batch_size': 32, 'activation': 'relu', 'val_accuracy': 0.7422152161598206}\n",
      "Validation accuracy: 0.7422\n",
      "--------------------------------------------------\n",
      "Tested parameters: {'embedding_dim': 64, 'filters': 16, 'kernel_size': 3, 'dense_units': 64, 'dropout_rate': 0.3, 'learning_rate': 0.01, 'batch_size': 64, 'activation': 'relu', 'val_accuracy': 0.7471423149108887}\n",
      "Validation accuracy: 0.7471\n",
      "--------------------------------------------------\n",
      "Tested parameters: {'embedding_dim': 64, 'filters': 16, 'kernel_size': 3, 'dense_units': 128, 'dropout_rate': 0.15, 'learning_rate': 0.01, 'batch_size': 32, 'activation': 'relu', 'val_accuracy': 0.7374852299690247}\n",
      "Validation accuracy: 0.7375\n",
      "--------------------------------------------------\n",
      "Tested parameters: {'embedding_dim': 64, 'filters': 16, 'kernel_size': 3, 'dense_units': 128, 'dropout_rate': 0.15, 'learning_rate': 0.01, 'batch_size': 64, 'activation': 'relu', 'val_accuracy': 0.7441860437393188}\n",
      "Validation accuracy: 0.7442\n",
      "--------------------------------------------------\n",
      "Tested parameters: {'embedding_dim': 64, 'filters': 16, 'kernel_size': 3, 'dense_units': 128, 'dropout_rate': 0.3, 'learning_rate': 0.01, 'batch_size': 32, 'activation': 'relu', 'val_accuracy': 0.7418210506439209}\n",
      "Validation accuracy: 0.7418\n",
      "--------------------------------------------------\n",
      "Tested parameters: {'embedding_dim': 64, 'filters': 16, 'kernel_size': 3, 'dense_units': 128, 'dropout_rate': 0.3, 'learning_rate': 0.01, 'batch_size': 64, 'activation': 'relu', 'val_accuracy': 0.7506898045539856}\n",
      "Validation accuracy: 0.7507\n",
      "--------------------------------------------------\n",
      "Tested parameters: {'embedding_dim': 64, 'filters': 16, 'kernel_size': 5, 'dense_units': 64, 'dropout_rate': 0.15, 'learning_rate': 0.01, 'batch_size': 32, 'activation': 'relu', 'val_accuracy': 0.7345289587974548}\n",
      "Validation accuracy: 0.7345\n",
      "--------------------------------------------------\n",
      "Tested parameters: {'embedding_dim': 64, 'filters': 16, 'kernel_size': 5, 'dense_units': 64, 'dropout_rate': 0.15, 'learning_rate': 0.01, 'batch_size': 64, 'activation': 'relu', 'val_accuracy': 0.7534489631652832}\n",
      "Validation accuracy: 0.7534\n",
      "--------------------------------------------------\n",
      "Tested parameters: {'embedding_dim': 64, 'filters': 16, 'kernel_size': 5, 'dense_units': 64, 'dropout_rate': 0.3, 'learning_rate': 0.01, 'batch_size': 32, 'activation': 'relu', 'val_accuracy': 0.746748149394989}\n",
      "Validation accuracy: 0.7467\n",
      "--------------------------------------------------\n",
      "Tested parameters: {'embedding_dim': 64, 'filters': 16, 'kernel_size': 5, 'dense_units': 64, 'dropout_rate': 0.3, 'learning_rate': 0.01, 'batch_size': 64, 'activation': 'relu', 'val_accuracy': 0.7418210506439209}\n",
      "Validation accuracy: 0.7418\n",
      "--------------------------------------------------\n",
      "Tested parameters: {'embedding_dim': 64, 'filters': 16, 'kernel_size': 5, 'dense_units': 128, 'dropout_rate': 0.15, 'learning_rate': 0.01, 'batch_size': 32, 'activation': 'relu', 'val_accuracy': 0.7510839700698853}\n",
      "Validation accuracy: 0.7511\n",
      "--------------------------------------------------\n",
      "Tested parameters: {'embedding_dim': 64, 'filters': 16, 'kernel_size': 5, 'dense_units': 128, 'dropout_rate': 0.15, 'learning_rate': 0.01, 'batch_size': 64, 'activation': 'relu', 'val_accuracy': 0.7428064346313477}\n",
      "Validation accuracy: 0.7428\n",
      "--------------------------------------------------\n",
      "Tested parameters: {'embedding_dim': 64, 'filters': 16, 'kernel_size': 5, 'dense_units': 128, 'dropout_rate': 0.3, 'learning_rate': 0.01, 'batch_size': 32, 'activation': 'relu', 'val_accuracy': 0.7447773218154907}\n",
      "Validation accuracy: 0.7448\n",
      "--------------------------------------------------\n",
      "Tested parameters: {'embedding_dim': 64, 'filters': 16, 'kernel_size': 5, 'dense_units': 128, 'dropout_rate': 0.3, 'learning_rate': 0.01, 'batch_size': 64, 'activation': 'relu', 'val_accuracy': 0.7548285126686096}\n",
      "Validation accuracy: 0.7548\n",
      "--------------------------------------------------\n",
      "Tested parameters: {'embedding_dim': 64, 'filters': 32, 'kernel_size': 3, 'dense_units': 64, 'dropout_rate': 0.15, 'learning_rate': 0.01, 'batch_size': 32, 'activation': 'relu', 'val_accuracy': 0.7426093816757202}\n",
      "Validation accuracy: 0.7426\n",
      "--------------------------------------------------\n",
      "Tested parameters: {'embedding_dim': 64, 'filters': 32, 'kernel_size': 3, 'dense_units': 64, 'dropout_rate': 0.15, 'learning_rate': 0.01, 'batch_size': 64, 'activation': 'relu', 'val_accuracy': 0.7465510368347168}\n",
      "Validation accuracy: 0.7466\n",
      "--------------------------------------------------\n",
      "Tested parameters: {'embedding_dim': 64, 'filters': 32, 'kernel_size': 3, 'dense_units': 64, 'dropout_rate': 0.3, 'learning_rate': 0.01, 'batch_size': 32, 'activation': 'relu', 'val_accuracy': 0.739456057548523}\n",
      "Validation accuracy: 0.7395\n",
      "--------------------------------------------------\n",
      "Tested parameters: {'embedding_dim': 64, 'filters': 32, 'kernel_size': 3, 'dense_units': 64, 'dropout_rate': 0.3, 'learning_rate': 0.01, 'batch_size': 64, 'activation': 'relu', 'val_accuracy': 0.7526606321334839}\n",
      "Validation accuracy: 0.7527\n",
      "--------------------------------------------------\n",
      "Tested parameters: {'embedding_dim': 64, 'filters': 32, 'kernel_size': 3, 'dense_units': 128, 'dropout_rate': 0.15, 'learning_rate': 0.01, 'batch_size': 32, 'activation': 'relu', 'val_accuracy': 0.7439889907836914}\n",
      "Validation accuracy: 0.7440\n",
      "--------------------------------------------------\n",
      "Tested parameters: {'embedding_dim': 64, 'filters': 32, 'kernel_size': 3, 'dense_units': 128, 'dropout_rate': 0.15, 'learning_rate': 0.01, 'batch_size': 64, 'activation': 'relu', 'val_accuracy': 0.7534489631652832}\n",
      "Validation accuracy: 0.7534\n",
      "--------------------------------------------------\n",
      "Tested parameters: {'embedding_dim': 64, 'filters': 32, 'kernel_size': 3, 'dense_units': 128, 'dropout_rate': 0.3, 'learning_rate': 0.01, 'batch_size': 32, 'activation': 'relu', 'val_accuracy': 0.7441860437393188}\n",
      "Validation accuracy: 0.7442\n",
      "--------------------------------------------------\n",
      "Tested parameters: {'embedding_dim': 64, 'filters': 32, 'kernel_size': 3, 'dense_units': 128, 'dropout_rate': 0.3, 'learning_rate': 0.01, 'batch_size': 64, 'activation': 'relu', 'val_accuracy': 0.7471423149108887}\n",
      "Validation accuracy: 0.7471\n",
      "--------------------------------------------------\n",
      "Tested parameters: {'embedding_dim': 64, 'filters': 32, 'kernel_size': 5, 'dense_units': 64, 'dropout_rate': 0.15, 'learning_rate': 0.01, 'batch_size': 32, 'activation': 'relu', 'val_accuracy': 0.7430035471916199}\n",
      "Validation accuracy: 0.7430\n",
      "--------------------------------------------------\n",
      "Tested parameters: {'embedding_dim': 64, 'filters': 32, 'kernel_size': 5, 'dense_units': 64, 'dropout_rate': 0.15, 'learning_rate': 0.01, 'batch_size': 64, 'activation': 'relu', 'val_accuracy': 0.7483248114585876}\n",
      "Validation accuracy: 0.7483\n",
      "--------------------------------------------------\n",
      "Tested parameters: {'embedding_dim': 64, 'filters': 32, 'kernel_size': 5, 'dense_units': 64, 'dropout_rate': 0.3, 'learning_rate': 0.01, 'batch_size': 32, 'activation': 'relu', 'val_accuracy': 0.7463539838790894}\n",
      "Validation accuracy: 0.7464\n",
      "--------------------------------------------------\n",
      "Tested parameters: {'embedding_dim': 64, 'filters': 32, 'kernel_size': 5, 'dense_units': 64, 'dropout_rate': 0.3, 'learning_rate': 0.01, 'batch_size': 64, 'activation': 'relu', 'val_accuracy': 0.7512810230255127}\n",
      "Validation accuracy: 0.7513\n",
      "--------------------------------------------------\n",
      "Tested parameters: {'embedding_dim': 64, 'filters': 32, 'kernel_size': 5, 'dense_units': 128, 'dropout_rate': 0.15, 'learning_rate': 0.01, 'batch_size': 32, 'activation': 'relu', 'val_accuracy': 0.7510839700698853}\n",
      "Validation accuracy: 0.7511\n",
      "--------------------------------------------------\n",
      "Tested parameters: {'embedding_dim': 64, 'filters': 32, 'kernel_size': 5, 'dense_units': 128, 'dropout_rate': 0.15, 'learning_rate': 0.01, 'batch_size': 64, 'activation': 'relu', 'val_accuracy': 0.750886857509613}\n",
      "Validation accuracy: 0.7509\n",
      "--------------------------------------------------\n",
      "Tested parameters: {'embedding_dim': 64, 'filters': 32, 'kernel_size': 5, 'dense_units': 128, 'dropout_rate': 0.3, 'learning_rate': 0.01, 'batch_size': 32, 'activation': 'relu', 'val_accuracy': 0.7502956390380859}\n",
      "Validation accuracy: 0.7503\n",
      "--------------------------------------------------\n",
      "Tested parameters: {'embedding_dim': 64, 'filters': 32, 'kernel_size': 5, 'dense_units': 128, 'dropout_rate': 0.3, 'learning_rate': 0.01, 'batch_size': 64, 'activation': 'relu', 'val_accuracy': 0.7516751885414124}\n",
      "Validation accuracy: 0.7517\n",
      "--------------------------------------------------\n",
      "Tested parameters: {'embedding_dim': 128, 'filters': 16, 'kernel_size': 3, 'dense_units': 64, 'dropout_rate': 0.15, 'learning_rate': 0.01, 'batch_size': 32, 'activation': 'relu', 'val_accuracy': 0.7439889907836914}\n",
      "Validation accuracy: 0.7440\n",
      "--------------------------------------------------\n",
      "Tested parameters: {'embedding_dim': 128, 'filters': 16, 'kernel_size': 3, 'dense_units': 64, 'dropout_rate': 0.15, 'learning_rate': 0.01, 'batch_size': 64, 'activation': 'relu', 'val_accuracy': 0.7473393678665161}\n",
      "Validation accuracy: 0.7473\n",
      "--------------------------------------------------\n",
      "Tested parameters: {'embedding_dim': 128, 'filters': 16, 'kernel_size': 3, 'dense_units': 64, 'dropout_rate': 0.3, 'learning_rate': 0.01, 'batch_size': 32, 'activation': 'relu', 'val_accuracy': 0.74004727602005}\n",
      "Validation accuracy: 0.7400\n",
      "--------------------------------------------------\n",
      "Tested parameters: {'embedding_dim': 128, 'filters': 16, 'kernel_size': 3, 'dense_units': 64, 'dropout_rate': 0.3, 'learning_rate': 0.01, 'batch_size': 64, 'activation': 'relu', 'val_accuracy': 0.7433977127075195}\n",
      "Validation accuracy: 0.7434\n",
      "--------------------------------------------------\n",
      "Tested parameters: {'embedding_dim': 128, 'filters': 16, 'kernel_size': 3, 'dense_units': 128, 'dropout_rate': 0.15, 'learning_rate': 0.01, 'batch_size': 32, 'activation': 'relu', 'val_accuracy': 0.7481276988983154}\n",
      "Validation accuracy: 0.7481\n",
      "--------------------------------------------------\n",
      "Tested parameters: {'embedding_dim': 128, 'filters': 16, 'kernel_size': 3, 'dense_units': 128, 'dropout_rate': 0.15, 'learning_rate': 0.01, 'batch_size': 64, 'activation': 'relu', 'val_accuracy': 0.7493101954460144}\n",
      "Validation accuracy: 0.7493\n",
      "--------------------------------------------------\n",
      "Tested parameters: {'embedding_dim': 128, 'filters': 16, 'kernel_size': 3, 'dense_units': 128, 'dropout_rate': 0.3, 'learning_rate': 0.01, 'batch_size': 32, 'activation': 'relu', 'val_accuracy': 0.741229772567749}\n",
      "Validation accuracy: 0.7412\n",
      "--------------------------------------------------\n",
      "Tested parameters: {'embedding_dim': 128, 'filters': 16, 'kernel_size': 3, 'dense_units': 128, 'dropout_rate': 0.3, 'learning_rate': 0.01, 'batch_size': 64, 'activation': 'relu', 'val_accuracy': 0.7435948252677917}\n",
      "Validation accuracy: 0.7436\n",
      "--------------------------------------------------\n",
      "Tested parameters: {'embedding_dim': 128, 'filters': 16, 'kernel_size': 5, 'dense_units': 64, 'dropout_rate': 0.15, 'learning_rate': 0.01, 'batch_size': 32, 'activation': 'relu', 'val_accuracy': 0.7396531105041504}\n",
      "Validation accuracy: 0.7397\n",
      "--------------------------------------------------\n",
      "Tested parameters: {'embedding_dim': 128, 'filters': 16, 'kernel_size': 5, 'dense_units': 64, 'dropout_rate': 0.15, 'learning_rate': 0.01, 'batch_size': 64, 'activation': 'relu', 'val_accuracy': 0.7512810230255127}\n",
      "Validation accuracy: 0.7513\n",
      "--------------------------------------------------\n",
      "Tested parameters: {'embedding_dim': 128, 'filters': 16, 'kernel_size': 5, 'dense_units': 64, 'dropout_rate': 0.3, 'learning_rate': 0.01, 'batch_size': 32, 'activation': 'relu', 'val_accuracy': 0.7254631519317627}\n",
      "Validation accuracy: 0.7255\n",
      "--------------------------------------------------\n",
      "Tested parameters: {'embedding_dim': 128, 'filters': 16, 'kernel_size': 5, 'dense_units': 64, 'dropout_rate': 0.3, 'learning_rate': 0.01, 'batch_size': 64, 'activation': 'relu', 'val_accuracy': 0.7461568713188171}\n",
      "Validation accuracy: 0.7462\n",
      "--------------------------------------------------\n",
      "Tested parameters: {'embedding_dim': 128, 'filters': 16, 'kernel_size': 5, 'dense_units': 128, 'dropout_rate': 0.15, 'learning_rate': 0.01, 'batch_size': 32, 'activation': 'relu', 'val_accuracy': 0.7567993402481079}\n",
      "Validation accuracy: 0.7568\n",
      "--------------------------------------------------\n",
      "Tested parameters: {'embedding_dim': 128, 'filters': 16, 'kernel_size': 5, 'dense_units': 128, 'dropout_rate': 0.15, 'learning_rate': 0.01, 'batch_size': 64, 'activation': 'relu', 'val_accuracy': 0.74556565284729}\n",
      "Validation accuracy: 0.7456\n",
      "--------------------------------------------------\n",
      "Tested parameters: {'embedding_dim': 128, 'filters': 16, 'kernel_size': 5, 'dense_units': 128, 'dropout_rate': 0.3, 'learning_rate': 0.01, 'batch_size': 32, 'activation': 'relu', 'val_accuracy': 0.7343319058418274}\n",
      "Validation accuracy: 0.7343\n",
      "--------------------------------------------------\n",
      "Tested parameters: {'embedding_dim': 128, 'filters': 16, 'kernel_size': 5, 'dense_units': 128, 'dropout_rate': 0.3, 'learning_rate': 0.01, 'batch_size': 64, 'activation': 'relu', 'val_accuracy': 0.7428064346313477}\n",
      "Validation accuracy: 0.7428\n",
      "--------------------------------------------------\n",
      "Tested parameters: {'embedding_dim': 128, 'filters': 32, 'kernel_size': 3, 'dense_units': 64, 'dropout_rate': 0.15, 'learning_rate': 0.01, 'batch_size': 32, 'activation': 'relu', 'val_accuracy': 0.7439889907836914}\n",
      "Validation accuracy: 0.7440\n",
      "--------------------------------------------------\n",
      "Tested parameters: {'embedding_dim': 128, 'filters': 32, 'kernel_size': 3, 'dense_units': 64, 'dropout_rate': 0.15, 'learning_rate': 0.01, 'batch_size': 64, 'activation': 'relu', 'val_accuracy': 0.7406385540962219}\n",
      "Validation accuracy: 0.7406\n",
      "--------------------------------------------------\n",
      "Tested parameters: {'embedding_dim': 128, 'filters': 32, 'kernel_size': 3, 'dense_units': 64, 'dropout_rate': 0.3, 'learning_rate': 0.01, 'batch_size': 32, 'activation': 'relu', 'val_accuracy': 0.7376822829246521}\n",
      "Validation accuracy: 0.7377\n",
      "--------------------------------------------------\n",
      "Tested parameters: {'embedding_dim': 128, 'filters': 32, 'kernel_size': 3, 'dense_units': 64, 'dropout_rate': 0.3, 'learning_rate': 0.01, 'batch_size': 64, 'activation': 'relu', 'val_accuracy': 0.7469452023506165}\n",
      "Validation accuracy: 0.7469\n",
      "--------------------------------------------------\n",
      "Tested parameters: {'embedding_dim': 128, 'filters': 32, 'kernel_size': 3, 'dense_units': 128, 'dropout_rate': 0.15, 'learning_rate': 0.01, 'batch_size': 32, 'activation': 'relu', 'val_accuracy': 0.7469452023506165}\n",
      "Validation accuracy: 0.7469\n",
      "--------------------------------------------------\n",
      "Tested parameters: {'embedding_dim': 128, 'filters': 32, 'kernel_size': 3, 'dense_units': 128, 'dropout_rate': 0.15, 'learning_rate': 0.01, 'batch_size': 64, 'activation': 'relu', 'val_accuracy': 0.7469452023506165}\n",
      "Validation accuracy: 0.7469\n",
      "--------------------------------------------------\n",
      "Tested parameters: {'embedding_dim': 128, 'filters': 32, 'kernel_size': 3, 'dense_units': 128, 'dropout_rate': 0.3, 'learning_rate': 0.01, 'batch_size': 32, 'activation': 'relu', 'val_accuracy': 0.7396531105041504}\n",
      "Validation accuracy: 0.7397\n",
      "--------------------------------------------------\n",
      "Tested parameters: {'embedding_dim': 128, 'filters': 32, 'kernel_size': 3, 'dense_units': 128, 'dropout_rate': 0.3, 'learning_rate': 0.01, 'batch_size': 64, 'activation': 'relu', 'val_accuracy': 0.7471423149108887}\n",
      "Validation accuracy: 0.7471\n",
      "--------------------------------------------------\n",
      "Tested parameters: {'embedding_dim': 128, 'filters': 32, 'kernel_size': 5, 'dense_units': 64, 'dropout_rate': 0.15, 'learning_rate': 0.01, 'batch_size': 32, 'activation': 'relu', 'val_accuracy': 0.737091064453125}\n",
      "Validation accuracy: 0.7371\n",
      "--------------------------------------------------\n",
      "Tested parameters: {'embedding_dim': 128, 'filters': 32, 'kernel_size': 5, 'dense_units': 64, 'dropout_rate': 0.15, 'learning_rate': 0.01, 'batch_size': 64, 'activation': 'relu', 'val_accuracy': 0.7453685402870178}\n",
      "Validation accuracy: 0.7454\n",
      "--------------------------------------------------\n",
      "Tested parameters: {'embedding_dim': 128, 'filters': 32, 'kernel_size': 5, 'dense_units': 64, 'dropout_rate': 0.3, 'learning_rate': 0.01, 'batch_size': 32, 'activation': 'relu', 'val_accuracy': 0.7420181035995483}\n",
      "Validation accuracy: 0.7420\n",
      "--------------------------------------------------\n",
      "Tested parameters: {'embedding_dim': 128, 'filters': 32, 'kernel_size': 5, 'dense_units': 64, 'dropout_rate': 0.3, 'learning_rate': 0.01, 'batch_size': 64, 'activation': 'relu', 'val_accuracy': 0.7432006597518921}\n",
      "Validation accuracy: 0.7432\n",
      "--------------------------------------------------\n",
      "Tested parameters: {'embedding_dim': 128, 'filters': 32, 'kernel_size': 5, 'dense_units': 128, 'dropout_rate': 0.15, 'learning_rate': 0.01, 'batch_size': 32, 'activation': 'relu', 'val_accuracy': 0.7410327196121216}\n",
      "Validation accuracy: 0.7410\n",
      "--------------------------------------------------\n",
      "Tested parameters: {'embedding_dim': 128, 'filters': 32, 'kernel_size': 5, 'dense_units': 128, 'dropout_rate': 0.15, 'learning_rate': 0.01, 'batch_size': 64, 'activation': 'relu', 'val_accuracy': 0.7500985264778137}\n",
      "Validation accuracy: 0.7501\n",
      "--------------------------------------------------\n",
      "Tested parameters: {'embedding_dim': 128, 'filters': 32, 'kernel_size': 5, 'dense_units': 128, 'dropout_rate': 0.3, 'learning_rate': 0.01, 'batch_size': 32, 'activation': 'relu', 'val_accuracy': 0.7361056208610535}\n",
      "Validation accuracy: 0.7361\n",
      "--------------------------------------------------\n",
      "Tested parameters: {'embedding_dim': 128, 'filters': 32, 'kernel_size': 5, 'dense_units': 128, 'dropout_rate': 0.3, 'learning_rate': 0.01, 'batch_size': 64, 'activation': 'relu', 'val_accuracy': 0.7514781355857849}\n",
      "Validation accuracy: 0.7515\n",
      "--------------------------------------------------\n",
      "Best parameters found:\n",
      "{'embedding_dim': 128, 'filters': 16, 'kernel_size': 5, 'dense_units': 128, 'dropout_rate': 0.15, 'learning_rate': 0.01, 'batch_size': 32, 'activation': 'relu', 'val_accuracy': 0.7567993402481079}\n"
     ]
    }
   ],
   "source": [
    "for embed_dim in hyperparameters['embedding_dim']:\n",
    "    for filters in hyperparameters['filters']:\n",
    "        for kernel_size in hyperparameters['kernel_size']:\n",
    "            for dense_unit in hyperparameters['dense_units']:\n",
    "                for dropout in hyperparameters['dropout_rate']:\n",
    "                    for lr in hyperparameters['learning_rate']:\n",
    "                        for batch in hyperparameters['batch_size']:\n",
    "                            for activation_func in hyperparameters['activation']:\n",
    "                                model = Sequential([\n",
    "                                    Embedding(input_dim=len(vocab_length) + 1, output_dim=embed_dim),\n",
    "                                    Conv1D(filters=filters, kernel_size=kernel_size, \n",
    "                                           padding='same', activation=activation_func),\n",
    "                                    GlobalMaxPooling1D(),\n",
    "                                    Dense(dense_unit, activation=activation_func),\n",
    "                                    Dropout(dropout),\n",
    "                                    Dense(1, activation='sigmoid')\n",
    "                                ])\n",
    "                                \n",
    "                                optimizer = Adam(learning_rate=lr)\n",
    "                                model.compile(optimizer=optimizer, \n",
    "                                              loss='binary_crossentropy', \n",
    "                                              metrics=['accuracy'])\n",
    "                                \n",
    "                                history = model.fit(\n",
    "                                    x_train_pad, y_train,\n",
    "                                    epochs=10,  \n",
    "                                    batch_size=batch,\n",
    "                                    validation_split=0.2,\n",
    "                                    callbacks=[early_stopping],\n",
    "                                    verbose=0\n",
    "                                )\n",
    "                                \n",
    "                                val_loss, val_accuracy = model.evaluate(x_test_pad, y_test, verbose=0)\n",
    "                                \n",
    "                                current_params = {\n",
    "                                    'embedding_dim': embed_dim,\n",
    "                                    'filters': filters,\n",
    "                                    'kernel_size': kernel_size,\n",
    "                                    'dense_units': dense_unit,\n",
    "                                    'dropout_rate': dropout,\n",
    "                                    'learning_rate': lr,\n",
    "                                    'batch_size': batch,\n",
    "                                    'activation': activation_func,\n",
    "                                    'val_accuracy': val_accuracy\n",
    "                                }\n",
    "                                results.append(current_params)\n",
    "                                \n",
    "                                if val_accuracy > best_accuracy:\n",
    "                                    best_accuracy = val_accuracy\n",
    "                                    best_params = current_params\n",
    "                                    best_history = history  \n",
    "                                \n",
    "                                print(f\"Tested parameters: {current_params}\")\n",
    "                                print(f\"Validation accuracy: {val_accuracy:.4f}\")\n",
    "                                print(\"-\" * 50)\n",
    "\n",
    "print(\"Best parameters found:\")\n",
    "print(best_params)\n",
    "\n"
   ]
  },
  {
   "cell_type": "code",
   "execution_count": 54,
   "id": "40f2e62f",
   "metadata": {
    "execution": {
     "iopub.execute_input": "2024-12-21T03:29:23.960476Z",
     "iopub.status.busy": "2024-12-21T03:29:23.960115Z",
     "iopub.status.idle": "2024-12-21T03:29:23.964913Z",
     "shell.execute_reply": "2024-12-21T03:29:23.963997Z"
    },
    "papermill": {
     "duration": 0.124002,
     "end_time": "2024-12-21T03:29:23.966513",
     "exception": false,
     "start_time": "2024-12-21T03:29:23.842511",
     "status": "completed"
    },
    "tags": []
   },
   "outputs": [
    {
     "name": "stdout",
     "output_type": "stream",
     "text": [
      "Best parameters found:\n",
      "{'embedding_dim': 128, 'filters': 16, 'kernel_size': 5, 'dense_units': 128, 'dropout_rate': 0.15, 'learning_rate': 0.01, 'batch_size': 32, 'activation': 'relu', 'val_accuracy': 0.7567993402481079}\n"
     ]
    }
   ],
   "source": [
    "print(\"Best parameters found:\")\n",
    "print(best_params)"
   ]
  },
  {
   "cell_type": "code",
   "execution_count": 55,
   "id": "c97e8974",
   "metadata": {
    "execution": {
     "iopub.execute_input": "2024-12-21T03:29:24.221871Z",
     "iopub.status.busy": "2024-12-21T03:29:24.221229Z",
     "iopub.status.idle": "2024-12-21T03:29:24.716941Z",
     "shell.execute_reply": "2024-12-21T03:29:24.716075Z"
    },
    "papermill": {
     "duration": 0.638458,
     "end_time": "2024-12-21T03:29:24.718636",
     "exception": false,
     "start_time": "2024-12-21T03:29:24.080178",
     "status": "completed"
    },
    "tags": []
   },
   "outputs": [
    {
     "data": {
      "image/png": "[encoded data removed]",
      "text/plain": [
       "<Figure size 1200x400 with 2 Axes>"
      ]
     },
     "metadata": {},
     "output_type": "display_data"
    }
   ],
   "source": [
    "plt.figure(figsize=(12, 4))\n",
    "\n",
    "plt.subplot(1, 2, 1)\n",
    "plt.plot(best_history.history['loss'], label='Train Loss')\n",
    "plt.plot(best_history.history['val_loss'], label='Validation Loss')\n",
    "plt.title('Best Model Loss Over Epochs')\n",
    "plt.ylabel('Loss')\n",
    "plt.xlabel('Epoch')\n",
    "plt.legend(loc='upper right')\n",
    "\n",
    "plt.subplot(1, 2, 2)\n",
    "plt.plot(best_history.history['accuracy'], label='Train Accuracy')\n",
    "plt.plot(best_history.history['val_accuracy'], label='Validation Accuracy')\n",
    "plt.title('Best Model Accuracy Over Epochs')\n",
    "plt.ylabel('Accuracy')\n",
    "plt.xlabel('Epoch')\n",
    "plt.legend(loc='lower right')\n",
    "\n",
    "plt.tight_layout()\n",
    "plt.show()"
   ]
  },
  {
   "cell_type": "code",
   "execution_count": 56,
   "id": "47964db1",
   "metadata": {
    "execution": {
     "iopub.execute_input": "2024-12-21T03:29:24.989593Z",
     "iopub.status.busy": "2024-12-21T03:29:24.988890Z",
     "iopub.status.idle": "2024-12-21T03:29:24.994169Z",
     "shell.execute_reply": "2024-12-21T03:29:24.993343Z"
    },
    "papermill": {
     "duration": 0.160383,
     "end_time": "2024-12-21T03:29:24.995796",
     "exception": false,
     "start_time": "2024-12-21T03:29:24.835413",
     "status": "completed"
    },
    "tags": []
   },
   "outputs": [
    {
     "name": "stdout",
     "output_type": "stream",
     "text": [
      "\n",
      "Final Training Metrics for Best Model:\n",
      "Training Loss: 0.0349\n",
      "Training Accuracy: 0.9849\n",
      "\n",
      "Final Validation Metrics for Best Model:\n",
      "Validation Loss: 1.4627\n",
      "Validation Accuracy: 0.7188\n"
     ]
    }
   ],
   "source": [
    "print(\"\\nFinal Training Metrics for Best Model:\")\n",
    "print(f\"Training Loss: {best_history.history['loss'][-1]:.4f}\")\n",
    "print(f\"Training Accuracy: {best_history.history['accuracy'][-1]:.4f}\")\n",
    "print(\"\\nFinal Validation Metrics for Best Model:\")\n",
    "print(f\"Validation Loss: {best_history.history['val_loss'][-1]:.4f}\")\n",
    "print(f\"Validation Accuracy: {best_history.history['val_accuracy'][-1]:.4f}\")\n"
   ]
  }
 ],
 "metadata": {
  "kaggle": {
   "accelerator": "nvidiaTeslaT4",
   "dataSources": [
    {
     "datasetId": 6047175,
     "sourceId": 10210479,
     "sourceType": "datasetVersion"
    },
    {
     "datasetId": 6094692,
     "sourceId": 10210609,
     "sourceType": "datasetVersion"
    }
   ],
   "dockerImageVersionId": 30804,
   "isGpuEnabled": true,
   "isInternetEnabled": true,
   "language": "python",
   "sourceType": "notebook"
  },
  "kernelspec": {
   "display_name": "Python 3",
   "language": "python",
   "name": "python3"
  },
  "language_info": {
   "codemirror_mode": {
    "name": "ipython",
    "version": 3
   },
   "file_extension": ".py",
   "mimetype": "text/x-python",
   "name": "python",
   "nbconvert_exporter": "python",
   "pygments_lexer": "ipython3",
   "version": "3.10.14"
  },
  "papermill": {
   "default_parameters": {},
   "duration": 8792.757422,
   "end_time": "2024-12-21T03:29:29.532928",
   "environment_variables": {},
   "exception": null,
   "input_path": "__notebook__.ipynb",
   "output_path": "__notebook__.ipynb",
   "parameters": {},
   "start_time": "2024-12-21T01:02:56.775506",
   "version": "2.6.0"
  }
 },
 "nbformat": 4,
 "nbformat_minor": 5
}
