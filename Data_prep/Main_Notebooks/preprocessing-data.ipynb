{
 "cells": [
  {
   "cell_type": "markdown",
   "id": "8f8e6772",
   "metadata": {
    "papermill": {
     "duration": 0.023351,
     "end_time": "2024-12-20T04:50:34.239610",
     "exception": false,
     "start_time": "2024-12-20T04:50:34.216259",
     "status": "completed"
    },
    "tags": []
   },
   "source": [
    "# Darija Text Preprocessing \n",
    "\n",
    "This notebook implements a comprehensive text preprocessing pipeline for Moroccan Arabic (Darija) text data. The pipeline includes:\n",
    "- Text cleaning and normalization (Tachkeel, etc)\n",
    "- Emoji handling\n",
    "- Stop words removal\n",
    "- Stemming\n",
    "- Special character handling (#, @, $, etc.)\n",
    "- Transliteration normalization(from Arabizi to Arabic)\n",
    "- and more."
   ]
  },
  {
   "cell_type": "markdown",
   "id": "d85c1725",
   "metadata": {
    "papermill": {
     "duration": 0.019996,
     "end_time": "2024-12-20T04:50:34.280288",
     "exception": false,
     "start_time": "2024-12-20T04:50:34.260292",
     "status": "completed"
    },
    "tags": []
   },
   "source": [
    "## Data Loading and Environment Setup\n",
    "Setting up the working directory and checking available datasets"
   ]
  },
  {
   "cell_type": "code",
   "execution_count": 1,
   "id": "700e856d",
   "metadata": {
    "execution": {
     "iopub.execute_input": "2024-12-20T04:50:34.322570Z",
     "iopub.status.busy": "2024-12-20T04:50:34.322165Z",
     "iopub.status.idle": "2024-12-20T04:50:34.345133Z",
     "shell.execute_reply": "2024-12-20T04:50:34.343610Z"
    },
    "papermill": {
     "duration": 0.047101,
     "end_time": "2024-12-20T04:50:34.347690",
     "exception": false,
     "start_time": "2024-12-20T04:50:34.300589",
     "status": "completed"
    },
    "tags": []
   },
   "outputs": [
    {
     "name": "stdout",
     "output_type": "stream",
     "text": [
      "Current working directory: /kaggle/input/ma-datasets\n",
      "Directory contents: ['suf_pref_darija.json', 'stop_words_accum.json', 'set2.csv', 'set7.csv', 'set5.csv', 'darija_latin_ref.json', 'set4.csv', 'scaped_comments.csv', 'set3.csv', 'cleaned_clustered_data.csv', 'set1.csv']\n"
     ]
    }
   ],
   "source": [
    "import os\n",
    "os.chdir('/kaggle/input/ma-datasets') \n",
    "current_directory = os.getcwd()\n",
    "print(\"Current working directory:\", current_directory)\n",
    "contents = os.listdir()\n",
    "print(\"Directory contents:\", contents)"
   ]
  },
  {
   "cell_type": "markdown",
   "id": "245de181",
   "metadata": {
    "papermill": {
     "duration": 0.019992,
     "end_time": "2024-12-20T04:50:34.388968",
     "exception": false,
     "start_time": "2024-12-20T04:50:34.368976",
     "status": "completed"
    },
    "tags": []
   },
   "source": [
    "## Required Dependencies\n",
    "Installing necessary Python packages for Arabic text processing:\n",
    "- PyArabic: For Arabic text processing\n",
    "- Tashaphyne: For Arabic light stemming/lemmatization\n",
    "- pydoda: For Darija-vacabulary processing\n",
    "- Arabic-Stopwords: For Arabic stop words\n"
   ]
  },
  {
   "cell_type": "code",
   "execution_count": 2,
   "id": "d8e09351",
   "metadata": {
    "execution": {
     "iopub.execute_input": "2024-12-20T04:50:34.431880Z",
     "iopub.status.busy": "2024-12-20T04:50:34.430996Z",
     "iopub.status.idle": "2024-12-20T04:51:12.158190Z",
     "shell.execute_reply": "2024-12-20T04:51:12.156790Z"
    },
    "papermill": {
     "duration": 37.751454,
     "end_time": "2024-12-20T04:51:12.160807",
     "exception": false,
     "start_time": "2024-12-20T04:50:34.409353",
     "status": "completed"
    },
    "tags": []
   },
   "outputs": [
    {
     "name": "stdout",
     "output_type": "stream",
     "text": [
      "Requirement already satisfied: PyArabic in /opt/conda/lib/python3.10/site-packages (0.6.15)\r\n",
      "Collecting Tashaphyne\r\n",
      "  Downloading Tashaphyne-0.3.6-py3-none-any.whl.metadata (18 kB)\r\n",
      "Collecting pydoda\r\n",
      "  Downloading pydoda-1.2.1-py3-none-any.whl.metadata (5.8 kB)\r\n",
      "Collecting Arabic-Stopwords\r\n",
      "  Downloading Arabic_Stopwords-0.4.3-py3-none-any.whl.metadata (8.9 kB)\r\n",
      "Requirement already satisfied: seaborn in /opt/conda/lib/python3.10/site-packages (0.12.2)\r\n",
      "Requirement already satisfied: emoji in /opt/conda/lib/python3.10/site-packages (2.13.2)\r\n",
      "Requirement already satisfied: six>=1.14.0 in /opt/conda/lib/python3.10/site-packages (from PyArabic) (1.16.0)\r\n",
      "Requirement already satisfied: pandas in /opt/conda/lib/python3.10/site-packages (from pydoda) (2.2.3)\r\n",
      "Requirement already satisfied: numpy!=1.24.0,>=1.17 in /opt/conda/lib/python3.10/site-packages (from seaborn) (1.26.4)\r\n",
      "Requirement already satisfied: matplotlib!=3.6.1,>=3.1 in /opt/conda/lib/python3.10/site-packages (from seaborn) (3.7.5)\r\n",
      "Requirement already satisfied: contourpy>=1.0.1 in /opt/conda/lib/python3.10/site-packages (from matplotlib!=3.6.1,>=3.1->seaborn) (1.2.1)\r\n",
      "Requirement already satisfied: cycler>=0.10 in /opt/conda/lib/python3.10/site-packages (from matplotlib!=3.6.1,>=3.1->seaborn) (0.12.1)\r\n",
      "Requirement already satisfied: fonttools>=4.22.0 in /opt/conda/lib/python3.10/site-packages (from matplotlib!=3.6.1,>=3.1->seaborn) (4.53.0)\r\n",
      "Requirement already satisfied: kiwisolver>=1.0.1 in /opt/conda/lib/python3.10/site-packages (from matplotlib!=3.6.1,>=3.1->seaborn) (1.4.5)\r\n",
      "Requirement already satisfied: packaging>=20.0 in /opt/conda/lib/python3.10/site-packages (from matplotlib!=3.6.1,>=3.1->seaborn) (21.3)\r\n",
      "Requirement already satisfied: pillow>=6.2.0 in /opt/conda/lib/python3.10/site-packages (from matplotlib!=3.6.1,>=3.1->seaborn) (10.3.0)\r\n",
      "Requirement already satisfied: pyparsing>=2.3.1 in /opt/conda/lib/python3.10/site-packages (from matplotlib!=3.6.1,>=3.1->seaborn) (3.1.2)\r\n",
      "Requirement already satisfied: python-dateutil>=2.7 in /opt/conda/lib/python3.10/site-packages (from matplotlib!=3.6.1,>=3.1->seaborn) (2.9.0.post0)\r\n",
      "Requirement already satisfied: pytz>=2020.1 in /opt/conda/lib/python3.10/site-packages (from pandas->pydoda) (2024.1)\r\n",
      "Requirement already satisfied: tzdata>=2022.7 in /opt/conda/lib/python3.10/site-packages (from pandas->pydoda) (2024.1)\r\n",
      "Downloading Tashaphyne-0.3.6-py3-none-any.whl (251 kB)\r\n",
      "\u001b[2K   \u001b[90m━━━━━━━━━━━━━━━━━━━━━━━━━━━━━━━━━━━━━━━━\u001b[0m \u001b[32m251.5/251.5 kB\u001b[0m \u001b[31m6.2 MB/s\u001b[0m eta \u001b[36m0:00:00\u001b[0m\r\n",
      "\u001b[?25hDownloading pydoda-1.2.1-py3-none-any.whl (4.1 MB)\r\n",
      "\u001b[2K   \u001b[90m━━━━━━━━━━━━━━━━━━━━━━━━━━━━━━━━━━━━━━━━\u001b[0m \u001b[32m4.1/4.1 MB\u001b[0m \u001b[31m53.4 MB/s\u001b[0m eta \u001b[36m0:00:00\u001b[0m\r\n",
      "\u001b[?25hDownloading Arabic_Stopwords-0.4.3-py3-none-any.whl (360 kB)\r\n",
      "\u001b[2K   \u001b[90m━━━━━━━━━━━━━━━━━━━━━━━━━━━━━━━━━━━━━━━━\u001b[0m \u001b[32m360.5/360.5 kB\u001b[0m \u001b[31m14.8 MB/s\u001b[0m eta \u001b[36m0:00:00\u001b[0m\r\n",
      "\u001b[?25hInstalling collected packages: Tashaphyne, Arabic-Stopwords, pydoda\r\n",
      "Successfully installed Arabic-Stopwords-0.4.3 Tashaphyne-0.3.6 pydoda-1.2.1\r\n",
      "Collecting modin[ray]\r\n",
      "  Downloading modin-0.32.0-py3-none-any.whl.metadata (17 kB)\r\n",
      "Requirement already satisfied: pandas<2.3,>=2.2 in /opt/conda/lib/python3.10/site-packages (from modin[ray]) (2.2.3)\r\n",
      "Requirement already satisfied: packaging>=21.0 in /opt/conda/lib/python3.10/site-packages (from modin[ray]) (21.3)\r\n",
      "Requirement already satisfied: numpy>=1.22.4 in /opt/conda/lib/python3.10/site-packages (from modin[ray]) (1.26.4)\r\n",
      "Requirement already satisfied: fsspec>=2022.11.0 in /opt/conda/lib/python3.10/site-packages (from modin[ray]) (2024.6.1)\r\n",
      "Requirement already satisfied: psutil>=5.8.0 in /opt/conda/lib/python3.10/site-packages (from modin[ray]) (5.9.3)\r\n",
      "Requirement already satisfied: ray!=2.5.0,>=2.1.0 in /opt/conda/lib/python3.10/site-packages (from modin[ray]) (2.24.0)\r\n",
      "Requirement already satisfied: pyarrow>=10.0.1 in /opt/conda/lib/python3.10/site-packages (from modin[ray]) (17.0.0)\r\n",
      "Requirement already satisfied: pyparsing!=3.0.5,>=2.0.2 in /opt/conda/lib/python3.10/site-packages (from packaging>=21.0->modin[ray]) (3.1.2)\r\n",
      "Requirement already satisfied: python-dateutil>=2.8.2 in /opt/conda/lib/python3.10/site-packages (from pandas<2.3,>=2.2->modin[ray]) (2.9.0.post0)\r\n",
      "Requirement already satisfied: pytz>=2020.1 in /opt/conda/lib/python3.10/site-packages (from pandas<2.3,>=2.2->modin[ray]) (2024.1)\r\n",
      "Requirement already satisfied: tzdata>=2022.7 in /opt/conda/lib/python3.10/site-packages (from pandas<2.3,>=2.2->modin[ray]) (2024.1)\r\n",
      "Requirement already satisfied: click>=7.0 in /opt/conda/lib/python3.10/site-packages (from ray!=2.5.0,>=2.1.0->modin[ray]) (8.1.7)\r\n",
      "Requirement already satisfied: filelock in /opt/conda/lib/python3.10/site-packages (from ray!=2.5.0,>=2.1.0->modin[ray]) (3.15.1)\r\n",
      "Requirement already satisfied: jsonschema in /opt/conda/lib/python3.10/site-packages (from ray!=2.5.0,>=2.1.0->modin[ray]) (4.22.0)\r\n",
      "Requirement already satisfied: msgpack<2.0.0,>=1.0.0 in /opt/conda/lib/python3.10/site-packages (from ray!=2.5.0,>=2.1.0->modin[ray]) (1.0.8)\r\n",
      "Requirement already satisfied: protobuf!=3.19.5,>=3.15.3 in /opt/conda/lib/python3.10/site-packages (from ray!=2.5.0,>=2.1.0->modin[ray]) (3.20.3)\r\n",
      "Requirement already satisfied: pyyaml in /opt/conda/lib/python3.10/site-packages (from ray!=2.5.0,>=2.1.0->modin[ray]) (6.0.2)\r\n",
      "Requirement already satisfied: aiosignal in /opt/conda/lib/python3.10/site-packages (from ray!=2.5.0,>=2.1.0->modin[ray]) (1.3.1)\r\n",
      "Requirement already satisfied: frozenlist in /opt/conda/lib/python3.10/site-packages (from ray!=2.5.0,>=2.1.0->modin[ray]) (1.4.1)\r\n",
      "Requirement already satisfied: requests in /opt/conda/lib/python3.10/site-packages (from ray!=2.5.0,>=2.1.0->modin[ray]) (2.32.3)\r\n",
      "Requirement already satisfied: six>=1.5 in /opt/conda/lib/python3.10/site-packages (from python-dateutil>=2.8.2->pandas<2.3,>=2.2->modin[ray]) (1.16.0)\r\n",
      "Requirement already satisfied: attrs>=22.2.0 in /opt/conda/lib/python3.10/site-packages (from jsonschema->ray!=2.5.0,>=2.1.0->modin[ray]) (23.2.0)\r\n",
      "Requirement already satisfied: jsonschema-specifications>=2023.03.6 in /opt/conda/lib/python3.10/site-packages (from jsonschema->ray!=2.5.0,>=2.1.0->modin[ray]) (2023.12.1)\r\n",
      "Requirement already satisfied: referencing>=0.28.4 in /opt/conda/lib/python3.10/site-packages (from jsonschema->ray!=2.5.0,>=2.1.0->modin[ray]) (0.35.1)\r\n",
      "Requirement already satisfied: rpds-py>=0.7.1 in /opt/conda/lib/python3.10/site-packages (from jsonschema->ray!=2.5.0,>=2.1.0->modin[ray]) (0.18.1)\r\n",
      "Requirement already satisfied: charset-normalizer<4,>=2 in /opt/conda/lib/python3.10/site-packages (from requests->ray!=2.5.0,>=2.1.0->modin[ray]) (3.3.2)\r\n",
      "Requirement already satisfied: idna<4,>=2.5 in /opt/conda/lib/python3.10/site-packages (from requests->ray!=2.5.0,>=2.1.0->modin[ray]) (3.7)\r\n",
      "Requirement already satisfied: urllib3<3,>=1.21.1 in /opt/conda/lib/python3.10/site-packages (from requests->ray!=2.5.0,>=2.1.0->modin[ray]) (1.26.18)\r\n",
      "Requirement already satisfied: certifi>=2017.4.17 in /opt/conda/lib/python3.10/site-packages (from requests->ray!=2.5.0,>=2.1.0->modin[ray]) (2024.8.30)\r\n",
      "Downloading modin-0.32.0-py3-none-any.whl (1.1 MB)\r\n",
      "\u001b[2K   \u001b[90m━━━━━━━━━━━━━━━━━━━━━━━━━━━━━━━━━━━━━━━━\u001b[0m \u001b[32m1.1/1.1 MB\u001b[0m \u001b[31m17.6 MB/s\u001b[0m eta \u001b[36m0:00:00\u001b[0m\r\n",
      "\u001b[?25hInstalling collected packages: modin\r\n",
      "Successfully installed modin-0.32.0\r\n",
      "Requirement already satisfied: ipywidgets in /opt/conda/lib/python3.10/site-packages (7.7.1)\r\n",
      "Collecting ipywidgets\r\n",
      "  Downloading ipywidgets-8.1.5-py3-none-any.whl.metadata (2.3 kB)\r\n",
      "Requirement already satisfied: comm>=0.1.3 in /opt/conda/lib/python3.10/site-packages (from ipywidgets) (0.2.2)\r\n",
      "Requirement already satisfied: ipython>=6.1.0 in /opt/conda/lib/python3.10/site-packages (from ipywidgets) (8.21.0)\r\n",
      "Requirement already satisfied: traitlets>=4.3.1 in /opt/conda/lib/python3.10/site-packages (from ipywidgets) (5.14.3)\r\n",
      "Collecting widgetsnbextension~=4.0.12 (from ipywidgets)\r\n",
      "  Downloading widgetsnbextension-4.0.13-py3-none-any.whl.metadata (1.6 kB)\r\n",
      "Collecting jupyterlab-widgets~=3.0.12 (from ipywidgets)\r\n",
      "  Downloading jupyterlab_widgets-3.0.13-py3-none-any.whl.metadata (4.1 kB)\r\n",
      "Requirement already satisfied: decorator in /opt/conda/lib/python3.10/site-packages (from ipython>=6.1.0->ipywidgets) (5.1.1)\r\n",
      "Requirement already satisfied: jedi>=0.16 in /opt/conda/lib/python3.10/site-packages (from ipython>=6.1.0->ipywidgets) (0.19.1)\r\n",
      "Requirement already satisfied: matplotlib-inline in /opt/conda/lib/python3.10/site-packages (from ipython>=6.1.0->ipywidgets) (0.1.7)\r\n",
      "Requirement already satisfied: prompt-toolkit<3.1.0,>=3.0.41 in /opt/conda/lib/python3.10/site-packages (from ipython>=6.1.0->ipywidgets) (3.0.47)\r\n",
      "Requirement already satisfied: pygments>=2.4.0 in /opt/conda/lib/python3.10/site-packages (from ipython>=6.1.0->ipywidgets) (2.18.0)\r\n",
      "Requirement already satisfied: stack-data in /opt/conda/lib/python3.10/site-packages (from ipython>=6.1.0->ipywidgets) (0.6.2)\r\n",
      "Requirement already satisfied: exceptiongroup in /opt/conda/lib/python3.10/site-packages (from ipython>=6.1.0->ipywidgets) (1.2.0)\r\n",
      "Requirement already satisfied: pexpect>4.3 in /opt/conda/lib/python3.10/site-packages (from ipython>=6.1.0->ipywidgets) (4.9.0)\r\n",
      "Requirement already satisfied: parso<0.9.0,>=0.8.3 in /opt/conda/lib/python3.10/site-packages (from jedi>=0.16->ipython>=6.1.0->ipywidgets) (0.8.4)\r\n",
      "Requirement already satisfied: ptyprocess>=0.5 in /opt/conda/lib/python3.10/site-packages (from pexpect>4.3->ipython>=6.1.0->ipywidgets) (0.7.0)\r\n",
      "Requirement already satisfied: wcwidth in /opt/conda/lib/python3.10/site-packages (from prompt-toolkit<3.1.0,>=3.0.41->ipython>=6.1.0->ipywidgets) (0.2.13)\r\n",
      "Requirement already satisfied: executing>=1.2.0 in /opt/conda/lib/python3.10/site-packages (from stack-data->ipython>=6.1.0->ipywidgets) (2.0.1)\r\n",
      "Requirement already satisfied: asttokens>=2.1.0 in /opt/conda/lib/python3.10/site-packages (from stack-data->ipython>=6.1.0->ipywidgets) (2.4.1)\r\n",
      "Requirement already satisfied: pure-eval in /opt/conda/lib/python3.10/site-packages (from stack-data->ipython>=6.1.0->ipywidgets) (0.2.2)\r\n",
      "Requirement already satisfied: six>=1.12.0 in /opt/conda/lib/python3.10/site-packages (from asttokens>=2.1.0->stack-data->ipython>=6.1.0->ipywidgets) (1.16.0)\r\n",
      "Downloading ipywidgets-8.1.5-py3-none-any.whl (139 kB)\r\n",
      "\u001b[2K   \u001b[90m━━━━━━━━━━━━━━━━━━━━━━━━━━━━━━━━━━━━━━━━\u001b[0m \u001b[32m139.8/139.8 kB\u001b[0m \u001b[31m4.2 MB/s\u001b[0m eta \u001b[36m0:00:00\u001b[0m\r\n",
      "\u001b[?25hDownloading jupyterlab_widgets-3.0.13-py3-none-any.whl (214 kB)\r\n",
      "\u001b[2K   \u001b[90m━━━━━━━━━━━━━━━━━━━━━━━━━━━━━━━━━━━━━━━━\u001b[0m \u001b[32m214.4/214.4 kB\u001b[0m \u001b[31m8.9 MB/s\u001b[0m eta \u001b[36m0:00:00\u001b[0m\r\n",
      "\u001b[?25hDownloading widgetsnbextension-4.0.13-py3-none-any.whl (2.3 MB)\r\n",
      "\u001b[2K   \u001b[90m━━━━━━━━━━━━━━━━━━━━━━━━━━━━━━━━━━━━━━━━\u001b[0m \u001b[32m2.3/2.3 MB\u001b[0m \u001b[31m52.6 MB/s\u001b[0m eta \u001b[36m0:00:00\u001b[0m\r\n",
      "\u001b[?25hInstalling collected packages: widgetsnbextension, jupyterlab-widgets, ipywidgets\r\n",
      "  Attempting uninstall: widgetsnbextension\r\n",
      "    Found existing installation: widgetsnbextension 3.6.9\r\n",
      "    Uninstalling widgetsnbextension-3.6.9:\r\n",
      "      Successfully uninstalled widgetsnbextension-3.6.9\r\n",
      "  Attempting uninstall: jupyterlab-widgets\r\n",
      "    Found existing installation: jupyterlab_widgets 3.0.11\r\n",
      "    Uninstalling jupyterlab_widgets-3.0.11:\r\n",
      "      Successfully uninstalled jupyterlab_widgets-3.0.11\r\n",
      "  Attempting uninstall: ipywidgets\r\n",
      "    Found existing installation: ipywidgets 7.7.1\r\n",
      "    Uninstalling ipywidgets-7.7.1:\r\n",
      "      Successfully uninstalled ipywidgets-7.7.1\r\n",
      "\u001b[31mERROR: pip's dependency resolver does not currently take into account all the packages that are installed. This behaviour is the source of the following dependency conflicts.\r\n",
      "bigframes 0.22.0 requires google-cloud-bigquery[bqstorage,pandas]>=3.10.0, but you have google-cloud-bigquery 2.34.4 which is incompatible.\r\n",
      "bigframes 0.22.0 requires google-cloud-storage>=2.0.0, but you have google-cloud-storage 1.44.0 which is incompatible.\r\n",
      "bigframes 0.22.0 requires pandas<2.1.4,>=1.5.0, but you have pandas 2.2.3 which is incompatible.\r\n",
      "dataproc-jupyter-plugin 0.1.79 requires pydantic~=1.10.0, but you have pydantic 2.9.2 which is incompatible.\u001b[0m\u001b[31m\r\n",
      "\u001b[0mSuccessfully installed ipywidgets-8.1.5 jupyterlab-widgets-3.0.13 widgetsnbextension-4.0.13\r\n"
     ]
    }
   ],
   "source": [
    "!pip install PyArabic Tashaphyne pydoda Arabic-Stopwords seaborn emoji \n",
    "!pip install modin[ray]\n",
    "!pip install -U ipywidgets"
   ]
  },
  {
   "cell_type": "code",
   "execution_count": 3,
   "id": "2082a4c4",
   "metadata": {
    "execution": {
     "iopub.execute_input": "2024-12-20T04:51:12.209701Z",
     "iopub.status.busy": "2024-12-20T04:51:12.209263Z",
     "iopub.status.idle": "2024-12-20T04:51:20.446965Z",
     "shell.execute_reply": "2024-12-20T04:51:20.445661Z"
    },
    "papermill": {
     "duration": 8.266029,
     "end_time": "2024-12-20T04:51:20.450459",
     "exception": false,
     "start_time": "2024-12-20T04:51:12.184430",
     "status": "completed"
    },
    "tags": []
   },
   "outputs": [
    {
     "name": "stderr",
     "output_type": "stream",
     "text": [
      "2024-12-20 04:51:18,861\tINFO worker.py:1753 -- Started a local Ray instance.\n"
     ]
    },
    {
     "data": {
      "application/vnd.jupyter.widget-view+json": {
       "model_id": "4f90d971456b45baa256ae22a038d14b",
       "version_major": 2,
       "version_minor": 0
      },
      "text/html": [
       "<div class=\"lm-Widget p-Widget lm-Panel p-Panel jp-Cell-outputWrapper\">\n",
       "    <div style=\"margin-left: 50px;display: flex;flex-direction: row;align-items: center\">\n",
       "        <div class=\"jp-RenderedHTMLCommon\" style=\"display: flex; flex-direction: row;\">\n",
       "  <svg viewBox=\"0 0 567 224\" fill=\"none\" xmlns=\"http://www.w3.org/2000/svg\" style=\"height: 3em;\">\n",
       "    <g clip-path=\"url(#clip0_4338_178347)\">\n",
       "        <path d=\"M341.29 165.561H355.29L330.13 129.051C345.63 123.991 354.21 112.051 354.21 94.2307C354.21 71.3707 338.72 58.1807 311.88 58.1807H271V165.561H283.27V131.661H311.8C314.25 131.661 316.71 131.501 319.01 131.351L341.25 165.561H341.29ZM283.29 119.851V70.0007H311.82C331.3 70.0007 342.34 78.2907 342.34 94.5507C342.34 111.271 331.34 119.861 311.82 119.861L283.29 119.851ZM451.4 138.411L463.4 165.561H476.74L428.74 58.1807H416L367.83 165.561H380.83L392.83 138.411H451.4ZM446.19 126.601H398L422 72.1407L446.24 126.601H446.19ZM526.11 128.741L566.91 58.1807H554.35L519.99 114.181L485.17 58.1807H472.44L514.01 129.181V165.541H526.13V128.741H526.11Z\" fill=\"var(--jp-ui-font-color0)\"/>\n",
       "        <path d=\"M82.35 104.44C84.0187 97.8827 87.8248 92.0678 93.1671 87.9146C98.5094 83.7614 105.083 81.5067 111.85 81.5067C118.617 81.5067 125.191 83.7614 130.533 87.9146C135.875 92.0678 139.681 97.8827 141.35 104.44H163.75C164.476 101.562 165.622 98.8057 167.15 96.2605L127.45 56.5605C121.071 60.3522 113.526 61.6823 106.235 60.3005C98.9443 58.9187 92.4094 54.9203 87.8602 49.0574C83.3109 43.1946 81.0609 35.8714 81.5332 28.4656C82.0056 21.0599 85.1679 14.0819 90.4252 8.8446C95.6824 3.60726 102.672 0.471508 110.08 0.0272655C117.487 -0.416977 124.802 1.86091 130.647 6.4324C136.493 11.0039 140.467 17.5539 141.821 24.8501C143.175 32.1463 141.816 39.6859 138 46.0505L177.69 85.7505C182.31 82.9877 187.58 81.4995 192.962 81.4375C198.345 81.3755 203.648 82.742 208.33 85.3976C213.012 88.0532 216.907 91.9029 219.616 96.5544C222.326 101.206 223.753 106.492 223.753 111.875C223.753 117.258 222.326 122.545 219.616 127.197C216.907 131.848 213.012 135.698 208.33 138.353C203.648 141.009 198.345 142.375 192.962 142.313C187.58 142.251 182.31 140.763 177.69 138L138 177.7C141.808 184.071 143.155 191.614 141.79 198.91C140.424 206.205 136.44 212.75 130.585 217.313C124.731 221.875 117.412 224.141 110.004 223.683C102.596 223.226 95.6103 220.077 90.3621 214.828C85.1139 209.58 81.9647 202.595 81.5072 195.187C81.0497 187.779 83.3154 180.459 87.878 174.605C92.4405 168.751 98.9853 164.766 106.281 163.401C113.576 162.035 121.119 163.383 127.49 167.19L167.19 127.49C165.664 124.941 164.518 122.182 163.79 119.3H141.39C139.721 125.858 135.915 131.673 130.573 135.826C125.231 139.98 118.657 142.234 111.89 142.234C105.123 142.234 98.5494 139.98 93.2071 135.826C87.8648 131.673 84.0587 125.858 82.39 119.3H60C58.1878 126.495 53.8086 132.78 47.6863 136.971C41.5641 141.163 34.1211 142.972 26.7579 142.059C19.3947 141.146 12.6191 137.574 7.70605 132.014C2.79302 126.454 0.0813599 119.29 0.0813599 111.87C0.0813599 104.451 2.79302 97.2871 7.70605 91.7272C12.6191 86.1673 19.3947 82.5947 26.7579 81.6817C34.1211 80.7686 41.5641 82.5781 47.6863 86.7696C53.8086 90.9611 58.1878 97.2456 60 104.44H82.35ZM100.86 204.32C103.407 206.868 106.759 208.453 110.345 208.806C113.93 209.159 117.527 208.258 120.522 206.256C123.517 204.254 125.725 201.276 126.771 197.828C127.816 194.38 127.633 190.677 126.253 187.349C124.874 184.021 122.383 181.274 119.205 179.577C116.027 177.88 112.359 177.337 108.826 178.042C105.293 178.746 102.113 180.654 99.8291 183.44C97.5451 186.226 96.2979 189.718 96.3 193.32C96.2985 195.364 96.7006 197.388 97.4831 199.275C98.2656 201.163 99.4132 202.877 100.86 204.32ZM204.32 122.88C206.868 120.333 208.453 116.981 208.806 113.396C209.159 109.811 208.258 106.214 206.256 103.219C204.254 100.223 201.275 98.0151 197.827 96.97C194.38 95.9249 190.676 96.1077 187.348 97.4873C184.02 98.8669 181.274 101.358 179.577 104.536C177.879 107.714 177.337 111.382 178.041 114.915C178.746 118.448 180.653 121.627 183.439 123.911C186.226 126.195 189.717 127.443 193.32 127.44C195.364 127.443 197.388 127.042 199.275 126.259C201.163 125.476 202.878 124.328 204.32 122.88ZM122.88 19.4205C120.333 16.8729 116.981 15.2876 113.395 14.9347C109.81 14.5817 106.213 15.483 103.218 17.4849C100.223 19.4868 98.0146 22.4654 96.9696 25.9131C95.9245 29.3608 96.1073 33.0642 97.4869 36.3922C98.8665 39.7202 101.358 42.4668 104.535 44.1639C107.713 45.861 111.381 46.4036 114.914 45.6992C118.447 44.9949 121.627 43.0871 123.911 40.301C126.195 37.515 127.442 34.0231 127.44 30.4205C127.44 28.3772 127.038 26.3539 126.255 24.4664C125.473 22.5788 124.326 20.8642 122.88 19.4205ZM19.42 100.86C16.8725 103.408 15.2872 106.76 14.9342 110.345C14.5813 113.93 15.4826 117.527 17.4844 120.522C19.4863 123.518 22.4649 125.726 25.9127 126.771C29.3604 127.816 33.0638 127.633 36.3918 126.254C39.7198 124.874 42.4664 122.383 44.1635 119.205C45.8606 116.027 46.4032 112.359 45.6988 108.826C44.9944 105.293 43.0866 102.114 40.3006 99.8296C37.5145 97.5455 34.0227 96.2983 30.42 96.3005C26.2938 96.3018 22.337 97.9421 19.42 100.86ZM100.86 100.86C98.3125 103.408 96.7272 106.76 96.3742 110.345C96.0213 113.93 96.9226 117.527 98.9244 120.522C100.926 123.518 103.905 125.726 107.353 126.771C110.8 127.816 114.504 127.633 117.832 126.254C121.16 124.874 123.906 122.383 125.604 119.205C127.301 116.027 127.843 112.359 127.139 108.826C126.434 105.293 124.527 102.114 121.741 99.8296C118.955 97.5455 115.463 96.2983 111.86 96.3005C109.817 96.299 107.793 96.701 105.905 97.4835C104.018 98.2661 102.303 99.4136 100.86 100.86Z\" fill=\"#00AEEF\"/>\n",
       "    </g>\n",
       "    <defs>\n",
       "        <clipPath id=\"clip0_4338_178347\">\n",
       "            <rect width=\"566.93\" height=\"223.75\" fill=\"white\"/>\n",
       "        </clipPath>\n",
       "    </defs>\n",
       "  </svg>\n",
       "</div>\n",
       "\n",
       "        <table class=\"jp-RenderedHTMLCommon\" style=\"border-collapse: collapse;color: var(--jp-ui-font-color1);font-size: var(--jp-ui-font-size1);\">\n",
       "    <tr>\n",
       "        <td style=\"text-align: left\"><b>Python version:</b></td>\n",
       "        <td style=\"text-align: left\"><b>3.10.14</b></td>\n",
       "    </tr>\n",
       "    <tr>\n",
       "        <td style=\"text-align: left\"><b>Ray version:</b></td>\n",
       "        <td style=\"text-align: left\"><b>2.24.0</b></td>\n",
       "    </tr>\n",
       "    \n",
       "</table>\n",
       "\n",
       "    </div>\n",
       "</div>\n"
      ],
      "text/plain": [
       "RayContext(dashboard_url='', python_version='3.10.14', ray_version='2.24.0', ray_commit='cfea8b29800afc76823bd1a171657010f4eb96bb')"
      ]
     },
     "execution_count": 3,
     "metadata": {},
     "output_type": "execute_result"
    }
   ],
   "source": [
    "os.environ[\"MODIN_ENGINE\"] = \"ray\"\n",
    "import modin.pandas as pd\n",
    "import ray\n",
    "ray.init()"
   ]
  },
  {
   "cell_type": "markdown",
   "id": "86de05a9",
   "metadata": {
    "papermill": {
     "duration": 0.027663,
     "end_time": "2024-12-20T04:51:20.508292",
     "exception": false,
     "start_time": "2024-12-20T04:51:20.480629",
     "status": "completed"
    },
    "tags": []
   },
   "source": [
    "## Import nessecery libraries\n"
   ]
  },
  {
   "cell_type": "code",
   "execution_count": 4,
   "id": "de43c10c",
   "metadata": {
    "execution": {
     "iopub.execute_input": "2024-12-20T04:51:20.564946Z",
     "iopub.status.busy": "2024-12-20T04:51:20.563740Z",
     "iopub.status.idle": "2024-12-20T04:51:22.599464Z",
     "shell.execute_reply": "2024-12-20T04:51:22.598341Z"
    },
    "papermill": {
     "duration": 2.065516,
     "end_time": "2024-12-20T04:51:22.601897",
     "exception": false,
     "start_time": "2024-12-20T04:51:20.536381",
     "status": "completed"
    },
    "tags": []
   },
   "outputs": [],
   "source": [
    "import modin.pandas as pd\n",
    "import seaborn as sns \n",
    "import matplotlib.pyplot as plt\n",
    "import re\n",
    "from tashaphyne.stemming import ArabicLightStemmer\n",
    "import json\n",
    "from pyarabic.araby import strip_diacritics\n",
    "import emoji \n"
   ]
  },
  {
   "cell_type": "markdown",
   "id": "aad2bf65",
   "metadata": {
    "papermill": {
     "duration": 0.023666,
     "end_time": "2024-12-20T04:51:22.650534",
     "exception": false,
     "start_time": "2024-12-20T04:51:22.626868",
     "status": "completed"
    },
    "tags": []
   },
   "source": [
    "## Text Preprocessing Functions\n",
    "Implementing various text cleaning and normalization functions:\n",
    "- Character normalization\n",
    "- Emoji processing\n",
    "- URL and mention removal\n",
    "- Dialectal variation handling\n",
    "- and more."
   ]
  },
  {
   "cell_type": "code",
   "execution_count": 5,
   "id": "0949611e",
   "metadata": {
    "execution": {
     "iopub.execute_input": "2024-12-20T04:51:22.700736Z",
     "iopub.status.busy": "2024-12-20T04:51:22.699974Z",
     "iopub.status.idle": "2024-12-20T04:51:22.711275Z",
     "shell.execute_reply": "2024-12-20T04:51:22.710001Z"
    },
    "papermill": {
     "duration": 0.039026,
     "end_time": "2024-12-20T04:51:22.713533",
     "exception": false,
     "start_time": "2024-12-20T04:51:22.674507",
     "status": "completed"
    },
    "tags": []
   },
   "outputs": [],
   "source": [
    "darija_alphabet = {\n",
    "    \"gh\": \"غ\",\n",
    "    \"sh\": \"ش\",\n",
    "    \"ch\": \"ش\",\n",
    "    \"ss\": \"س\",\n",
    "    \"kh\": \"خ\",\n",
    "    \"ç\": \"س\",\n",
    "    \"ou\": \"و\",    \n",
    "    \"ei\": \"ي\",    \n",
    "    \"ay\": \"ي\",    \n",
    "    \"ae\": \"ي\",   \n",
    "    \"5\": \"خ\",     \n",
    "    \"2\": \"ا\",    \n",
    "    \"b\": \"ب\",\n",
    "    \"t\": \"ت\",\n",
    "    \"j\": \"ج\",\n",
    "    \"7\": \"ح\",\n",
    "    \"d\": \"د\",\n",
    "    \"r\": \"ر\",\n",
    "    \"z\": \"ز\",\n",
    "    \"s\": \"س\",\n",
    "    \"9\": \"ق\",\n",
    "    \"3\": \"ع\",\n",
    "    \"4\": \"غ\",\n",
    "    \"f\": \"ف\",\n",
    "    \"q\": \"ك\",\n",
    "    \"k\": \"ك\",\n",
    "    \"l\": \"ل\",\n",
    "    \"m\": \"م\",\n",
    "    \"n\": \"ن\",\n",
    "    \"h\": \"ه\",\n",
    "    \"w\": \"و\",\n",
    "    \"y\": \"ي\",\n",
    "    \"g\": \"ڭ\",\n",
    "    'i': 'ي',\n",
    "    'ee': 'ي',\n",
    "    'aa': 'ا',\n",
    "    'oo': 'و',\n",
    "    'o': 'و',\n",
    "    \"x\": \"ش\",\n",
    "}\n",
    "word_in = [\n",
    "    \"ء\", \"أ\", \"إ\", \"آ\", \"ؤ\", \"ئ\", \"ة\", \"ى\",\"-\", \"/\", \".\", \"،\", '\"', \"'\", \"\\\\\", \"?\", \"؟\", \"!\", \"،\", \"؛\",\":\",\"#\", \"@\", \"&\", \"=\", \"¥\", \"$\", \"%\", \"*\", \"+\", \"<\", \">\", \"|\", \"~\", \"^\", \n",
    "    \"\\n\", \"\\t\", \"\\r\", \" و\",\"ذ\", \"ظ\", \"ض\", \"ص\",\"(\", \")\", \"[\", \"]\", \"{\", \"}\", \"《\", \"》\", \"«\", \"»\"\n",
    "]\n",
    "\n",
    "replaced_by = [\n",
    "    \"ا\", \"ا\", \"ا\", \"ا\", \"ا\", \"ا\", \"ه\", \"ي\",\" \", \"\", \"\", \"\", \"\", \"\", \"\", \" ? \", \" ؟ \", \" ! \", \"\", \"\", \"\",\n",
    "    \"\", \"\", \"\", \"\", \"\", \"\", \"\", \"\", \"\", \"\", \"\", \"\", \"\", \"\",\" \", \" \", \" \", \"\",\n",
    "    \"د\", \"د\", \"د\", \"س\",\"\", \"\", \"\", \"\", \"\", \"\", \"\", \"\", \"\", \"\"\n",
    "]\n",
    "\n",
    "arabic_alphabet = \"ابتثجحخدذرزسشصضطظعغفقكلمنهوي\""
   ]
  },
  {
   "cell_type": "code",
   "execution_count": 6,
   "id": "eafb96e2",
   "metadata": {
    "execution": {
     "iopub.execute_input": "2024-12-20T04:51:22.763490Z",
     "iopub.status.busy": "2024-12-20T04:51:22.762745Z",
     "iopub.status.idle": "2024-12-20T04:51:22.768115Z",
     "shell.execute_reply": "2024-12-20T04:51:22.766929Z"
    },
    "papermill": {
     "duration": 0.033082,
     "end_time": "2024-12-20T04:51:22.770337",
     "exception": false,
     "start_time": "2024-12-20T04:51:22.737255",
     "status": "completed"
    },
    "tags": []
   },
   "outputs": [],
   "source": [
    "from pyarabic.araby import strip_diacritics\n",
    "#remove tashkeel\n",
    "def removing_tashkeel(word): # useed\n",
    "          return strip_diacritics(word)"
   ]
  },
  {
   "cell_type": "code",
   "execution_count": 7,
   "id": "045f6b3f",
   "metadata": {
    "execution": {
     "iopub.execute_input": "2024-12-20T04:51:22.821083Z",
     "iopub.status.busy": "2024-12-20T04:51:22.820073Z",
     "iopub.status.idle": "2024-12-20T04:51:22.825437Z",
     "shell.execute_reply": "2024-12-20T04:51:22.824379Z"
    },
    "papermill": {
     "duration": 0.032841,
     "end_time": "2024-12-20T04:51:22.827634",
     "exception": false,
     "start_time": "2024-12-20T04:51:22.794793",
     "status": "completed"
    },
    "tags": []
   },
   "outputs": [],
   "source": [
    "from pyarabic.araby import strip_tatweel\n",
    "\n",
    "#remove tatweel l2imdad\n",
    "def removing_tatweel(word): # useed\n",
    "          return strip_tatweel(word)"
   ]
  },
  {
   "cell_type": "code",
   "execution_count": 8,
   "id": "0fec2840",
   "metadata": {
    "execution": {
     "iopub.execute_input": "2024-12-20T04:51:22.878179Z",
     "iopub.status.busy": "2024-12-20T04:51:22.876899Z",
     "iopub.status.idle": "2024-12-20T04:51:22.882741Z",
     "shell.execute_reply": "2024-12-20T04:51:22.881644Z"
    },
    "papermill": {
     "duration": 0.033734,
     "end_time": "2024-12-20T04:51:22.885307",
     "exception": false,
     "start_time": "2024-12-20T04:51:22.851573",
     "status": "completed"
    },
    "tags": []
   },
   "outputs": [],
   "source": [
    "from pyarabic.araby import normalize_ligature\n",
    "\n",
    "#remove ligature hamza , alef \n",
    "def removing_ligature(word): # not used \n",
    "          return normalize_ligature(word)"
   ]
  },
  {
   "cell_type": "code",
   "execution_count": 9,
   "id": "4c665f7e",
   "metadata": {
    "execution": {
     "iopub.execute_input": "2024-12-20T04:51:22.942129Z",
     "iopub.status.busy": "2024-12-20T04:51:22.941666Z",
     "iopub.status.idle": "2024-12-20T04:51:22.946955Z",
     "shell.execute_reply": "2024-12-20T04:51:22.945964Z"
    },
    "papermill": {
     "duration": 0.039959,
     "end_time": "2024-12-20T04:51:22.949260",
     "exception": false,
     "start_time": "2024-12-20T04:51:22.909301",
     "status": "completed"
    },
    "tags": []
   },
   "outputs": [],
   "source": [
    "# remove underscore\n",
    "def replace_underscore(word): # useed\n",
    "          return word.replace(\"_\", \" \")"
   ]
  },
  {
   "cell_type": "code",
   "execution_count": 10,
   "id": "4b43c021",
   "metadata": {
    "execution": {
     "iopub.execute_input": "2024-12-20T04:51:23.000099Z",
     "iopub.status.busy": "2024-12-20T04:51:22.999613Z",
     "iopub.status.idle": "2024-12-20T04:51:23.006521Z",
     "shell.execute_reply": "2024-12-20T04:51:23.005347Z"
    },
    "papermill": {
     "duration": 0.035788,
     "end_time": "2024-12-20T04:51:23.008999",
     "exception": false,
     "start_time": "2024-12-20T04:51:22.973211",
     "status": "completed"
    },
    "tags": []
   },
   "outputs": [],
   "source": [
    "import pyarabic.araby as araby\n",
    "\n",
    "# remove hamza ambiguity\n",
    "def remove_ambiguity_hamza(word): # useed\n",
    "          return araby.normalize_hamza(word)"
   ]
  },
  {
   "cell_type": "code",
   "execution_count": 11,
   "id": "62881054",
   "metadata": {
    "execution": {
     "iopub.execute_input": "2024-12-20T04:51:23.060932Z",
     "iopub.status.busy": "2024-12-20T04:51:23.059840Z",
     "iopub.status.idle": "2024-12-20T04:51:23.065235Z",
     "shell.execute_reply": "2024-12-20T04:51:23.064163Z"
    },
    "papermill": {
     "duration": 0.034164,
     "end_time": "2024-12-20T04:51:23.067423",
     "exception": false,
     "start_time": "2024-12-20T04:51:23.033259",
     "status": "completed"
    },
    "tags": []
   },
   "outputs": [],
   "source": [
    "# romove \"AL\"\n",
    "def remove_AL(word): # useed\n",
    "          return re.sub(r'^ال', '', word)"
   ]
  },
  {
   "cell_type": "code",
   "execution_count": 12,
   "id": "53d607ae",
   "metadata": {
    "execution": {
     "iopub.execute_input": "2024-12-20T04:51:23.117637Z",
     "iopub.status.busy": "2024-12-20T04:51:23.117220Z",
     "iopub.status.idle": "2024-12-20T04:51:23.125504Z",
     "shell.execute_reply": "2024-12-20T04:51:23.124280Z"
    },
    "papermill": {
     "duration": 0.036167,
     "end_time": "2024-12-20T04:51:23.127782",
     "exception": false,
     "start_time": "2024-12-20T04:51:23.091615",
     "status": "completed"
    },
    "tags": []
   },
   "outputs": [],
   "source": [
    "def word_remover(word):\n",
    "    if len(word) == 1 or len(word) == 0 or len(word) >= 13:\n",
    "        return \"\"\n",
    "    else:\n",
    "        try:\n",
    "            for a7rf in arabic_alphabet:\n",
    "                if a7rf == 'د' or a7rf == 'ه':\n",
    "                    word = re.sub(fr'{a7rf}{{3,}}', a7rf * 2, word).strip()\n",
    "                else:\n",
    "                    word = re.sub(fr'{a7rf}+', a7rf, word).strip()\n",
    "            for i in range(len(word)):\n",
    "                if word[i] in word_in:\n",
    "                    index = word_in.index(word[i])\n",
    "                    word = word[:i] + replaced_by[index] + word[i + 1:]\n",
    "            return word\n",
    "        except IndexError as e:\n",
    "            pass\n",
    "            return word  #\n"
   ]
  },
  {
   "cell_type": "code",
   "execution_count": 13,
   "id": "de423a60",
   "metadata": {
    "execution": {
     "iopub.execute_input": "2024-12-20T04:51:23.180152Z",
     "iopub.status.busy": "2024-12-20T04:51:23.179722Z",
     "iopub.status.idle": "2024-12-20T04:51:23.185306Z",
     "shell.execute_reply": "2024-12-20T04:51:23.184088Z"
    },
    "papermill": {
     "duration": 0.035638,
     "end_time": "2024-12-20T04:51:23.187534",
     "exception": false,
     "start_time": "2024-12-20T04:51:23.151896",
     "status": "completed"
    },
    "tags": []
   },
   "outputs": [],
   "source": [
    "# remove emails  \n",
    "def remove_url(text): # useed\n",
    "    text = re.sub(r'(https|http)?:\\/\\/(\\w|\\.|\\/|\\?|\\=|\\&|\\%)*\\b',\n",
    "                  '', text, flags=re.MULTILINE)\n",
    "    return text      \n",
    " "
   ]
  },
  {
   "cell_type": "code",
   "execution_count": 14,
   "id": "25ce824e",
   "metadata": {
    "execution": {
     "iopub.execute_input": "2024-12-20T04:51:23.237292Z",
     "iopub.status.busy": "2024-12-20T04:51:23.236852Z",
     "iopub.status.idle": "2024-12-20T04:51:23.242317Z",
     "shell.execute_reply": "2024-12-20T04:51:23.241244Z"
    },
    "papermill": {
     "duration": 0.033179,
     "end_time": "2024-12-20T04:51:23.244633",
     "exception": false,
     "start_time": "2024-12-20T04:51:23.211454",
     "status": "completed"
    },
    "tags": []
   },
   "outputs": [],
   "source": [
    " # remove emails     \n",
    "def remove_emails(text): # useed\n",
    "    text = re.sub(r'[a-zA-Z0-9._%+-]+@[a-zA-Z0-9.-]+\\.[a-zA-Z]{2,}', '', text, flags=re.MULTILINE)\n",
    "    return text  "
   ]
  },
  {
   "cell_type": "code",
   "execution_count": 15,
   "id": "c47df767",
   "metadata": {
    "execution": {
     "iopub.execute_input": "2024-12-20T04:51:23.294839Z",
     "iopub.status.busy": "2024-12-20T04:51:23.294352Z",
     "iopub.status.idle": "2024-12-20T04:51:23.300170Z",
     "shell.execute_reply": "2024-12-20T04:51:23.299053Z"
    },
    "papermill": {
     "duration": 0.03318,
     "end_time": "2024-12-20T04:51:23.302413",
     "exception": false,
     "start_time": "2024-12-20T04:51:23.269233",
     "status": "completed"
    },
    "tags": []
   },
   "outputs": [],
   "source": [
    "def special_tags_and_ponctuations(text):  # Function to clean special tags\n",
    "    text = re.sub(r'&amp;', '', text) \n",
    "    text = re.sub(r'&quot;', '', text)  \n",
    "    text = re.sub(r'!+', '!', text)\n",
    "    text = re.sub(r'\\?+', '?', text)\n",
    "    text = re.sub(r'\\.+', '.', text)\n",
    "\n",
    "    return text"
   ]
  },
  {
   "cell_type": "code",
   "execution_count": 16,
   "id": "cc382d90",
   "metadata": {
    "execution": {
     "iopub.execute_input": "2024-12-20T04:51:23.353742Z",
     "iopub.status.busy": "2024-12-20T04:51:23.352880Z",
     "iopub.status.idle": "2024-12-20T04:51:23.358573Z",
     "shell.execute_reply": "2024-12-20T04:51:23.357086Z"
    },
    "papermill": {
     "duration": 0.033543,
     "end_time": "2024-12-20T04:51:23.360586",
     "exception": false,
     "start_time": "2024-12-20T04:51:23.327043",
     "status": "completed"
    },
    "tags": []
   },
   "outputs": [],
   "source": [
    "def remove_html_tags(text):\n",
    "    text = re.sub(r'<[^>]+>', '', text)\n",
    "    return text"
   ]
  },
  {
   "cell_type": "code",
   "execution_count": 17,
   "id": "2a014036",
   "metadata": {
    "execution": {
     "iopub.execute_input": "2024-12-20T04:51:23.411356Z",
     "iopub.status.busy": "2024-12-20T04:51:23.410935Z",
     "iopub.status.idle": "2024-12-20T04:51:23.416660Z",
     "shell.execute_reply": "2024-12-20T04:51:23.415251Z"
    },
    "papermill": {
     "duration": 0.034495,
     "end_time": "2024-12-20T04:51:23.419233",
     "exception": false,
     "start_time": "2024-12-20T04:51:23.384738",
     "status": "completed"
    },
    "tags": []
   },
   "outputs": [],
   "source": [
    "# hundle emojis\n",
    "def extend_spletting(items):  # helper function to split items\n",
    "    spletting = []\n",
    "    for item in items:\n",
    "        spletting.extend(item.split())\n",
    "    return spletting"
   ]
  },
  {
   "cell_type": "code",
   "execution_count": 18,
   "id": "072a7913",
   "metadata": {
    "execution": {
     "iopub.execute_input": "2024-12-20T04:51:23.470186Z",
     "iopub.status.busy": "2024-12-20T04:51:23.469320Z",
     "iopub.status.idle": "2024-12-20T04:51:23.475157Z",
     "shell.execute_reply": "2024-12-20T04:51:23.473882Z"
    },
    "papermill": {
     "duration": 0.03325,
     "end_time": "2024-12-20T04:51:23.477397",
     "exception": false,
     "start_time": "2024-12-20T04:51:23.444147",
     "status": "completed"
    },
    "tags": []
   },
   "outputs": [],
   "source": [
    "def emoji_hundler(word):  # helper function to handle emojis\n",
    "    word = emoji.demojize(word, language='ar')\n",
    "    word = replace_underscore(word)[1:-1]\n",
    "    return word"
   ]
  },
  {
   "cell_type": "code",
   "execution_count": 19,
   "id": "f54e10d2",
   "metadata": {
    "execution": {
     "iopub.execute_input": "2024-12-20T04:51:23.528125Z",
     "iopub.status.busy": "2024-12-20T04:51:23.527695Z",
     "iopub.status.idle": "2024-12-20T04:51:23.535416Z",
     "shell.execute_reply": "2024-12-20T04:51:23.534369Z"
    },
    "papermill": {
     "duration": 0.03576,
     "end_time": "2024-12-20T04:51:23.537601",
     "exception": false,
     "start_time": "2024-12-20T04:51:23.501841",
     "status": "completed"
    },
    "tags": []
   },
   "outputs": [],
   "source": [
    "def is_an_emoji(word):\n",
    "    emoji_pattern = re.compile(\"[\"  \n",
    "                               u\"\\U0001F680-\\U0001F6FF\"  # transport and map unicods\n",
    "                               u\"\\U0001F1E0-\\U0001F1FF\"  # flags unicods\n",
    "                               \"]+\", flags=re.UNICODE)\n",
    "\n",
    "    if emoji.is_emoji(word):\n",
    "        word = emoji_pattern.sub(r'', word)\n",
    "        return extend_spletting([emoji_hundler(word)])\n",
    "\n",
    "    elif emoji.purely_emoji(word):\n",
    "        data_of_emojis = emoji.distinct_emoji_list(word)\n",
    "        data = [emoji_hundler(emoji_pattern.sub(r'', item)) for item in data_of_emojis]\n",
    "        return extend_spletting(data)\n",
    "\n",
    "    else:\n",
    "        text_only = re.sub(r'[^\\w\\s?!]', '', word)\n",
    "        data_of_emojis = emoji.distinct_emoji_list(word)\n",
    "        emojis = [emoji_hundler(emoji_pattern.sub(r'', item)) for item in data_of_emojis]\n",
    "        \n",
    "        return [text_only] + extend_spletting(emojis)\n"
   ]
  },
  {
   "cell_type": "code",
   "execution_count": 20,
   "id": "2b422f4e",
   "metadata": {
    "execution": {
     "iopub.execute_input": "2024-12-20T04:51:23.587280Z",
     "iopub.status.busy": "2024-12-20T04:51:23.586867Z",
     "iopub.status.idle": "2024-12-20T04:51:23.593570Z",
     "shell.execute_reply": "2024-12-20T04:51:23.592631Z"
    },
    "papermill": {
     "duration": 0.033648,
     "end_time": "2024-12-20T04:51:23.595612",
     "exception": false,
     "start_time": "2024-12-20T04:51:23.561964",
     "status": "completed"
    },
    "tags": []
   },
   "outputs": [],
   "source": [
    "# tramslating darija(latin) to daruja(arabic)\n",
    "def translate_darija_to_arabic(word): # useed\n",
    "    # print(\"test\")\n",
    "    word = word.lower()\n",
    "    if  bool(re.compile(r\"[a-z0-9']+\").search(word)):\n",
    "        arabic_word = \"\"\n",
    "        i = 0\n",
    "        while i < len(word):\n",
    "            # print('sadd')\n",
    "            if i + 1 < len(word) and word[i:i+2] in darija_alphabet: # Check for 2 lettrs\n",
    "                arabic_word += darija_alphabet[word[i:i+2]]\n",
    "                i += 2\n",
    "            elif word[i] in darija_alphabet:\n",
    "                arabic_word += darija_alphabet[word[i]]\n",
    "                i += 1\n",
    "            else:\n",
    "                i += 1\n",
    "        return arabic_word\n",
    "    return word\n",
    "      "
   ]
  },
  {
   "cell_type": "code",
   "execution_count": 21,
   "id": "160a6693",
   "metadata": {
    "execution": {
     "iopub.execute_input": "2024-12-20T04:51:23.646429Z",
     "iopub.status.busy": "2024-12-20T04:51:23.645460Z",
     "iopub.status.idle": "2024-12-20T04:51:23.651137Z",
     "shell.execute_reply": "2024-12-20T04:51:23.650060Z"
    },
    "papermill": {
     "duration": 0.033452,
     "end_time": "2024-12-20T04:51:23.653383",
     "exception": false,
     "start_time": "2024-12-20T04:51:23.619931",
     "status": "completed"
    },
    "tags": []
   },
   "outputs": [],
   "source": [
    "# remove  number arabic and latin\n",
    "def number_remov(listy): # useed\n",
    "    number_pattern = re.compile(r'^[0-9\\u0660-\\u0669]+$')\n",
    "    cleaned_list = [item for item in listy if not number_pattern.fullmatch(item)] \n",
    "    return cleaned_list   "
   ]
  },
  {
   "cell_type": "code",
   "execution_count": 22,
   "id": "d47d86ca",
   "metadata": {
    "execution": {
     "iopub.execute_input": "2024-12-20T04:51:23.702874Z",
     "iopub.status.busy": "2024-12-20T04:51:23.702474Z",
     "iopub.status.idle": "2024-12-20T04:51:23.709066Z",
     "shell.execute_reply": "2024-12-20T04:51:23.707852Z"
    },
    "papermill": {
     "duration": 0.034148,
     "end_time": "2024-12-20T04:51:23.711470",
     "exception": false,
     "start_time": "2024-12-20T04:51:23.677322",
     "status": "completed"
    },
    "tags": []
   },
   "outputs": [],
   "source": [
    "#stemming arabic words     \n",
    "def stemming_darija(word):\n",
    "    # file = \"./Data_prep/suf_pref_darija.json\" # local run\n",
    "    file = \"suf_pref_darija.json\" \n",
    "\n",
    "    with open(file, 'r', encoding='utf-8') as json_file:\n",
    "        suf_pref = json.load(json_file)\n",
    "\n",
    "    ArListem = ArabicLightStemmer()\n",
    "    ArListem.set_prefix_list(suf_pref['darija_prefixes'])\n",
    "    ArListem.set_suffix_list(suf_pref['darija_suffixes'])\n",
    "    ArListem.light_stem(word)  \n",
    "    return ArListem.get_stem() "
   ]
  },
  {
   "cell_type": "code",
   "execution_count": 23,
   "id": "7b48f642",
   "metadata": {
    "execution": {
     "iopub.execute_input": "2024-12-20T04:51:23.762624Z",
     "iopub.status.busy": "2024-12-20T04:51:23.762229Z",
     "iopub.status.idle": "2024-12-20T04:51:23.767780Z",
     "shell.execute_reply": "2024-12-20T04:51:23.766762Z"
    },
    "papermill": {
     "duration": 0.033976,
     "end_time": "2024-12-20T04:51:23.769955",
     "exception": false,
     "start_time": "2024-12-20T04:51:23.735979",
     "status": "completed"
    },
    "tags": []
   },
   "outputs": [],
   "source": [
    "# \"03:44\"\n",
    "def remove_yt_timers(text):\n",
    "    pattern = r'\\b\\d{1,2}:\\d{2,3}(:\\d{2,3})?\\b'\n",
    "    text = re.sub(pattern, '', text)\n",
    "    return text.strip()"
   ]
  },
  {
   "cell_type": "code",
   "execution_count": 24,
   "id": "1040317e",
   "metadata": {
    "execution": {
     "iopub.execute_input": "2024-12-20T04:51:23.879475Z",
     "iopub.status.busy": "2024-12-20T04:51:23.879008Z",
     "iopub.status.idle": "2024-12-20T04:51:23.884595Z",
     "shell.execute_reply": "2024-12-20T04:51:23.883507Z"
    },
    "papermill": {
     "duration": 0.090446,
     "end_time": "2024-12-20T04:51:23.887048",
     "exception": false,
     "start_time": "2024-12-20T04:51:23.796602",
     "status": "completed"
    },
    "tags": []
   },
   "outputs": [],
   "source": [
    "\n",
    "def preproc_arab_sentence(word): # main function for  arab processing tokens\n",
    "    word = removing_tashkeel(word)\n",
    "    word = removing_tatweel(word)\n",
    "    word = remove_AL(word)\n",
    "    # word = remove_ambiguity_hamza(word)\n",
    "    word = word_remover(word)\n",
    "    return word\n"
   ]
  },
  {
   "cell_type": "code",
   "execution_count": 25,
   "id": "ff73ee7d",
   "metadata": {
    "execution": {
     "iopub.execute_input": "2024-12-20T04:51:23.937131Z",
     "iopub.status.busy": "2024-12-20T04:51:23.936694Z",
     "iopub.status.idle": "2024-12-20T04:51:23.946317Z",
     "shell.execute_reply": "2024-12-20T04:51:23.945338Z"
    },
    "papermill": {
     "duration": 0.037533,
     "end_time": "2024-12-20T04:51:23.948435",
     "exception": false,
     "start_time": "2024-12-20T04:51:23.910902",
     "status": "completed"
    },
    "tags": []
   },
   "outputs": [],
   "source": [
    "from pyarabic.araby import tokenize\n",
    "def tokenize_arab_text(text):\n",
    "            #print(text)\n",
    "            # with open('./Data_prep/stop_words_accum.json', 'r', encoding='utf-8') as file: #  local run \n",
    "            with open('./stop_words_accum.json', 'r', encoding='utf-8') as file:\n",
    "\n",
    "                stop_words = json.load(file)\n",
    "\n",
    "            # with open('./Data_prep/darija_latin_ref.json', 'r', encoding='utf-8') as file: #  local run \n",
    "            with open('./darija_latin_ref.json', 'r', encoding='utf-8') as file:\n",
    "                \n",
    "                darija_latin_ref = json.load(file)\n",
    "          \n",
    "            #print(text)\n",
    "            text = remove_url(text)\n",
    "            text = remove_emails(text)\n",
    "            text = replace_underscore(text)\n",
    "            text = remove_html_tags(text)\n",
    "            text = remove_yt_timers(text)\n",
    "            text = special_tags_and_ponctuations(text)\n",
    "            #tokenization\n",
    "            #print(text)\n",
    "            words = tokenize(text)\n",
    "            # print(words)\n",
    "            words = [ translate_darija_to_arabic(word) for word in words if word not in darija_latin_ref]\n",
    "            #print(words)\n",
    "            words = [is_an_emoji(word) for word in words] \n",
    "            words = [item for sublist in words for item in sublist if item]\n",
    "            words = list(set(words))\n",
    "            #print(words)        \n",
    "            words = [word for word in words if word not in stop_words]\n",
    "            #print(words)\n",
    "\n",
    "            words = [preproc_arab_sentence(word) for word in words]\n",
    "\n",
    "            # print(words)        \n",
    "            words = [stemming_darija(word) for word in words if word]\n",
    "            words = number_remov(words)\n",
    "\n",
    "\n",
    "            # print(words)\n",
    "            words = ' '.join(words) \n",
    "            return words"
   ]
  },
  {
   "cell_type": "markdown",
   "id": "c7c60105",
   "metadata": {
    "papermill": {
     "duration": 0.023628,
     "end_time": "2024-12-20T04:51:23.995731",
     "exception": false,
     "start_time": "2024-12-20T04:51:23.972103",
     "status": "completed"
    },
    "tags": []
   },
   "source": [
    "## Data Analysis and Visualization\n",
    "Exploring the characteristics of the text data in different sets through visualizations"
   ]
  },
  {
   "cell_type": "markdown",
   "id": "23c30a80",
   "metadata": {
    "papermill": {
     "duration": 0.024882,
     "end_time": "2024-12-20T04:51:24.046115",
     "exception": false,
     "start_time": "2024-12-20T04:51:24.021233",
     "status": "completed"
    },
    "tags": []
   },
   "source": [
    "# Set 1"
   ]
  },
  {
   "cell_type": "code",
   "execution_count": 26,
   "id": "183bcfe6",
   "metadata": {
    "execution": {
     "iopub.execute_input": "2024-12-20T04:51:24.096875Z",
     "iopub.status.busy": "2024-12-20T04:51:24.096486Z",
     "iopub.status.idle": "2024-12-20T04:51:26.387715Z",
     "shell.execute_reply": "2024-12-20T04:51:26.386520Z"
    },
    "papermill": {
     "duration": 2.319681,
     "end_time": "2024-12-20T04:51:26.389951",
     "exception": false,
     "start_time": "2024-12-20T04:51:24.070270",
     "status": "completed"
    },
    "tags": []
   },
   "outputs": [
    {
     "data": {
      "text/html": [
       "<div>\n",
       "<style scoped>\n",
       "    .dataframe tbody tr th:only-of-type {\n",
       "        vertical-align: middle;\n",
       "    }\n",
       "\n",
       "    .dataframe tbody tr th {\n",
       "        vertical-align: top;\n",
       "    }\n",
       "\n",
       "    .dataframe thead th {\n",
       "        text-align: right;\n",
       "    }\n",
       "</style>\n",
       "<table border=\"1\" class=\"dataframe\">\n",
       "  <thead>\n",
       "    <tr style=\"text-align: right;\">\n",
       "      <th></th>\n",
       "      <th>Unnamed: 0</th>\n",
       "      <th>comment</th>\n",
       "      <th>off</th>\n",
       "    </tr>\n",
       "  </thead>\n",
       "  <tbody>\n",
       "    <tr>\n",
       "      <th>0</th>\n",
       "      <td>6139</td>\n",
       "      <td>تبهديل تسؤلو البنات في الشارع</td>\n",
       "      <td>1</td>\n",
       "    </tr>\n",
       "    <tr>\n",
       "      <th>1</th>\n",
       "      <td>3447</td>\n",
       "      <td>انا مستعد بي مسعدة بسيطة في وجه اللة ربي يادير...</td>\n",
       "      <td>0</td>\n",
       "    </tr>\n",
       "    <tr>\n",
       "      <th>2</th>\n",
       "      <td>6844</td>\n",
       "      <td>لاحول ولاقوة الا بالله العلي العظيم</td>\n",
       "      <td>0</td>\n",
       "    </tr>\n",
       "    <tr>\n",
       "      <th>3</th>\n",
       "      <td>2512</td>\n",
       "      <td>حتى هاد العائلة لي جالس وسط منهوم خص يدلمهوم ا...</td>\n",
       "      <td>1</td>\n",
       "    </tr>\n",
       "    <tr>\n",
       "      <th>4</th>\n",
       "      <td>2000</td>\n",
       "      <td>لا حول ولا قوة الا بالله اش هذا المستوى اصلا ر...</td>\n",
       "      <td>1</td>\n",
       "    </tr>\n",
       "  </tbody>\n",
       "</table>\n",
       "</div>"
      ],
      "text/plain": [
       "   Unnamed: 0                                            comment  off\n",
       "0        6139                      تبهديل تسؤلو البنات في الشارع    1\n",
       "1        3447  انا مستعد بي مسعدة بسيطة في وجه اللة ربي يادير...    0\n",
       "2        6844                لاحول ولاقوة الا بالله العلي العظيم    0\n",
       "3        2512  حتى هاد العائلة لي جالس وسط منهوم خص يدلمهوم ا...    1\n",
       "4        2000  لا حول ولا قوة الا بالله اش هذا المستوى اصلا ر...    1"
      ]
     },
     "execution_count": 26,
     "metadata": {},
     "output_type": "execute_result"
    }
   ],
   "source": [
    "data = pd.read_csv(\"./set1.csv\")\n",
    "data.head()"
   ]
  },
  {
   "cell_type": "code",
   "execution_count": 27,
   "id": "dffdf167",
   "metadata": {
    "execution": {
     "iopub.execute_input": "2024-12-20T04:51:26.443798Z",
     "iopub.status.busy": "2024-12-20T04:51:26.442992Z",
     "iopub.status.idle": "2024-12-20T04:51:26.581338Z",
     "shell.execute_reply": "2024-12-20T04:51:26.580017Z"
    },
    "papermill": {
     "duration": 0.167531,
     "end_time": "2024-12-20T04:51:26.583959",
     "exception": false,
     "start_time": "2024-12-20T04:51:26.416428",
     "status": "completed"
    },
    "tags": []
   },
   "outputs": [
    {
     "name": "stdout",
     "output_type": "stream",
     "text": [
      "<class 'modin.pandas.dataframe.DataFrame'>\n",
      "RangeIndex: 1605 entries, 0 to 1604\n",
      "Data columns (total 3 columns):\n",
      " #   Column      Non-Null Count  Dtype \n",
      "---  ------      --------------  ----- \n",
      " 0   Unnamed: 0  1605 non-null   int64 \n",
      " 1   comment     1605 non-null   object\n",
      " 2   off         1605 non-null   int64 \n",
      "dtypes: int64(2), object(1)\n",
      "memory usage: 37.7+ KB\n"
     ]
    }
   ],
   "source": [
    "data.info()"
   ]
  },
  {
   "cell_type": "code",
   "execution_count": 28,
   "id": "b0fa1bdc",
   "metadata": {
    "execution": {
     "iopub.execute_input": "2024-12-20T04:51:26.635506Z",
     "iopub.status.busy": "2024-12-20T04:51:26.634707Z",
     "iopub.status.idle": "2024-12-20T04:51:26.825277Z",
     "shell.execute_reply": "2024-12-20T04:51:26.824006Z"
    },
    "papermill": {
     "duration": 0.218969,
     "end_time": "2024-12-20T04:51:26.827788",
     "exception": false,
     "start_time": "2024-12-20T04:51:26.608819",
     "status": "completed"
    },
    "tags": []
   },
   "outputs": [
    {
     "name": "stdout",
     "output_type": "stream",
     "text": [
      "<class 'modin.pandas.dataframe.DataFrame'>\n",
      "RangeIndex: 1605 entries, 0 to 1604\n",
      "Data columns (total 2 columns):\n",
      " #   Column  Non-Null Count  Dtype \n",
      "---  ------  --------------  ----- \n",
      " 0   text    1605 non-null   object\n",
      " 1   target  1605 non-null   int64 \n",
      "dtypes: int64(1), object(1)\n",
      "memory usage: 25.2+ KB\n"
     ]
    }
   ],
   "source": [
    "data.drop(columns=['Unnamed: 0'], inplace=True)\n",
    "data = data.rename(columns={'off': 'target'})\n",
    "data = data.rename(columns={'comment': 'text'})\n",
    "data['target'] = data['target'].replace({1: 0, 0: 1})\n",
    "data.info()"
   ]
  },
  {
   "cell_type": "code",
   "execution_count": 29,
   "id": "cf957958",
   "metadata": {
    "execution": {
     "iopub.execute_input": "2024-12-20T04:51:26.879017Z",
     "iopub.status.busy": "2024-12-20T04:51:26.878599Z",
     "iopub.status.idle": "2024-12-20T04:51:26.903505Z",
     "shell.execute_reply": "2024-12-20T04:51:26.902366Z"
    },
    "papermill": {
     "duration": 0.053478,
     "end_time": "2024-12-20T04:51:26.905898",
     "exception": false,
     "start_time": "2024-12-20T04:51:26.852420",
     "status": "completed"
    },
    "tags": []
   },
   "outputs": [
    {
     "data": {
      "text/html": [
       "<div>\n",
       "<style scoped>\n",
       "    .dataframe tbody tr th:only-of-type {\n",
       "        vertical-align: middle;\n",
       "    }\n",
       "\n",
       "    .dataframe tbody tr th {\n",
       "        vertical-align: top;\n",
       "    }\n",
       "\n",
       "    .dataframe thead th {\n",
       "        text-align: right;\n",
       "    }\n",
       "</style>\n",
       "<table border=\"1\" class=\"dataframe\">\n",
       "  <thead>\n",
       "    <tr style=\"text-align: right;\">\n",
       "      <th></th>\n",
       "      <th>text</th>\n",
       "      <th>target</th>\n",
       "    </tr>\n",
       "  </thead>\n",
       "  <tbody>\n",
       "    <tr>\n",
       "      <th>0</th>\n",
       "      <td>تبهديل تسؤلو البنات في الشارع</td>\n",
       "      <td>0</td>\n",
       "    </tr>\n",
       "    <tr>\n",
       "      <th>1</th>\n",
       "      <td>انا مستعد بي مسعدة بسيطة في وجه اللة ربي يادير...</td>\n",
       "      <td>1</td>\n",
       "    </tr>\n",
       "    <tr>\n",
       "      <th>2</th>\n",
       "      <td>لاحول ولاقوة الا بالله العلي العظيم</td>\n",
       "      <td>1</td>\n",
       "    </tr>\n",
       "    <tr>\n",
       "      <th>3</th>\n",
       "      <td>حتى هاد العائلة لي جالس وسط منهوم خص يدلمهوم ا...</td>\n",
       "      <td>0</td>\n",
       "    </tr>\n",
       "    <tr>\n",
       "      <th>4</th>\n",
       "      <td>لا حول ولا قوة الا بالله اش هذا المستوى اصلا ر...</td>\n",
       "      <td>0</td>\n",
       "    </tr>\n",
       "  </tbody>\n",
       "</table>\n",
       "</div>"
      ],
      "text/plain": [
       "                                                text  target\n",
       "0                      تبهديل تسؤلو البنات في الشارع       0\n",
       "1  انا مستعد بي مسعدة بسيطة في وجه اللة ربي يادير...       1\n",
       "2                لاحول ولاقوة الا بالله العلي العظيم       1\n",
       "3  حتى هاد العائلة لي جالس وسط منهوم خص يدلمهوم ا...       0\n",
       "4  لا حول ولا قوة الا بالله اش هذا المستوى اصلا ر...       0"
      ]
     },
     "execution_count": 29,
     "metadata": {},
     "output_type": "execute_result"
    }
   ],
   "source": [
    "data.head()"
   ]
  },
  {
   "cell_type": "code",
   "execution_count": 30,
   "id": "1ebe3e84",
   "metadata": {
    "execution": {
     "iopub.execute_input": "2024-12-20T04:51:26.958214Z",
     "iopub.status.busy": "2024-12-20T04:51:26.957765Z",
     "iopub.status.idle": "2024-12-20T04:51:27.294801Z",
     "shell.execute_reply": "2024-12-20T04:51:27.293681Z"
    },
    "papermill": {
     "duration": 0.365687,
     "end_time": "2024-12-20T04:51:27.296969",
     "exception": false,
     "start_time": "2024-12-20T04:51:26.931282",
     "status": "completed"
    },
    "tags": []
   },
   "outputs": [
    {
     "data": {
      "image/png": "[encoded data removed]",
      "text/plain": [
       "<Figure size 640x480 with 1 Axes>"
      ]
     },
     "metadata": {},
     "output_type": "display_data"
    }
   ],
   "source": [
    "sns.countplot(data  , x='target' )\n",
    "plt.show()"
   ]
  },
  {
   "cell_type": "code",
   "execution_count": 31,
   "id": "e17167e7",
   "metadata": {
    "execution": {
     "iopub.execute_input": "2024-12-20T04:51:27.349545Z",
     "iopub.status.busy": "2024-12-20T04:51:27.349136Z",
     "iopub.status.idle": "2024-12-20T04:51:27.525343Z",
     "shell.execute_reply": "2024-12-20T04:51:27.524122Z"
    },
    "papermill": {
     "duration": 0.205174,
     "end_time": "2024-12-20T04:51:27.527565",
     "exception": false,
     "start_time": "2024-12-20T04:51:27.322391",
     "status": "completed"
    },
    "tags": []
   },
   "outputs": [
    {
     "name": "stdout",
     "output_type": "stream",
     "text": [
      "<class 'modin.pandas.dataframe.DataFrame'>\n",
      "Index: 1584 entries, 0 to 1604\n",
      "Data columns (total 2 columns):\n",
      " #   Column  Non-Null Count  Dtype \n",
      "---  ------  --------------  ----- \n",
      " 0   text    1584 non-null   object\n",
      " 1   target  1584 non-null   int64 \n",
      "dtypes: int64(1), object(1)\n",
      "memory usage: 37.1+ KB\n"
     ]
    }
   ],
   "source": [
    "data = data.drop_duplicates(['text'])\n",
    "data.info()"
   ]
  },
  {
   "cell_type": "code",
   "execution_count": 32,
   "id": "52b68a2b",
   "metadata": {
    "execution": {
     "iopub.execute_input": "2024-12-20T04:51:27.579477Z",
     "iopub.status.busy": "2024-12-20T04:51:27.579041Z",
     "iopub.status.idle": "2024-12-20T04:51:27.692375Z",
     "shell.execute_reply": "2024-12-20T04:51:27.691288Z"
    },
    "papermill": {
     "duration": 0.142265,
     "end_time": "2024-12-20T04:51:27.694871",
     "exception": false,
     "start_time": "2024-12-20T04:51:27.552606",
     "status": "completed"
    },
    "tags": []
   },
   "outputs": [
    {
     "name": "stderr",
     "output_type": "stream",
     "text": [
      "UserWarning: `df.groupby(categorical_by, sort=False)` implementation has mismatches with pandas:\n",
      "the groupby keys will be sorted anyway, although the 'sort=False' was passed. See the following issue for more details: https://github.com/modin-project/modin/issues/3571.\n"
     ]
    },
    {
     "data": {
      "text/plain": [
       "target\n",
       "0    876\n",
       "1    708\n",
       "Name: count, dtype: int64"
      ]
     },
     "execution_count": 32,
     "metadata": {},
     "output_type": "execute_result"
    }
   ],
   "source": [
    "data['target'].value_counts()"
   ]
  },
  {
   "cell_type": "code",
   "execution_count": 33,
   "id": "cb98605f",
   "metadata": {
    "execution": {
     "iopub.execute_input": "2024-12-20T04:51:27.747884Z",
     "iopub.status.busy": "2024-12-20T04:51:27.747450Z",
     "iopub.status.idle": "2024-12-20T04:51:28.701651Z",
     "shell.execute_reply": "2024-12-20T04:51:28.694934Z"
    },
    "papermill": {
     "duration": 0.984855,
     "end_time": "2024-12-20T04:51:28.705393",
     "exception": false,
     "start_time": "2024-12-20T04:51:27.720538",
     "status": "completed"
    },
    "tags": []
   },
   "outputs": [],
   "source": [
    "data.to_csv(\"/kaggle/working/dataset1.csv\" , index=False)"
   ]
  },
  {
   "cell_type": "markdown",
   "id": "2a304af8",
   "metadata": {
    "papermill": {
     "duration": 0.025982,
     "end_time": "2024-12-20T04:51:28.769205",
     "exception": false,
     "start_time": "2024-12-20T04:51:28.743223",
     "status": "completed"
    },
    "tags": []
   },
   "source": [
    "# Set 2"
   ]
  },
  {
   "cell_type": "code",
   "execution_count": 34,
   "id": "a7eb3176",
   "metadata": {
    "execution": {
     "iopub.execute_input": "2024-12-20T04:51:28.828528Z",
     "iopub.status.busy": "2024-12-20T04:51:28.828086Z",
     "iopub.status.idle": "2024-12-20T04:51:28.966872Z",
     "shell.execute_reply": "2024-12-20T04:51:28.965508Z"
    },
    "papermill": {
     "duration": 0.171905,
     "end_time": "2024-12-20T04:51:28.969300",
     "exception": false,
     "start_time": "2024-12-20T04:51:28.797395",
     "status": "completed"
    },
    "tags": []
   },
   "outputs": [
    {
     "data": {
      "text/html": [
       "<div>\n",
       "<style scoped>\n",
       "    .dataframe tbody tr th:only-of-type {\n",
       "        vertical-align: middle;\n",
       "    }\n",
       "\n",
       "    .dataframe tbody tr th {\n",
       "        vertical-align: top;\n",
       "    }\n",
       "\n",
       "    .dataframe thead th {\n",
       "        text-align: right;\n",
       "    }\n",
       "</style>\n",
       "<table border=\"1\" class=\"dataframe\">\n",
       "  <thead>\n",
       "    <tr style=\"text-align: right;\">\n",
       "      <th></th>\n",
       "      <th>Unnamed: 0</th>\n",
       "      <th>comment</th>\n",
       "      <th>off</th>\n",
       "    </tr>\n",
       "  </thead>\n",
       "  <tbody>\n",
       "    <tr>\n",
       "      <th>0</th>\n",
       "      <td>2908</td>\n",
       "      <td>فنانين الكبت والفساد .عقلية جنسية لا غير. العف...</td>\n",
       "      <td>1</td>\n",
       "    </tr>\n",
       "    <tr>\n",
       "      <th>1</th>\n",
       "      <td>1055</td>\n",
       "      <td>الدعارة هربت منها في المحمدية و سكنت في بوزنيق...</td>\n",
       "      <td>1</td>\n",
       "    </tr>\n",
       "    <tr>\n",
       "      <th>2</th>\n",
       "      <td>181</td>\n",
       "      <td>كون غير خريتي و مدرتيش هادشي</td>\n",
       "      <td>1</td>\n",
       "    </tr>\n",
       "    <tr>\n",
       "      <th>3</th>\n",
       "      <td>4313</td>\n",
       "      <td>لا حول ولا قوة الا بالله العلي العظيم لا حول و...</td>\n",
       "      <td>0</td>\n",
       "    </tr>\n",
       "    <tr>\n",
       "      <th>4</th>\n",
       "      <td>228</td>\n",
       "      <td>الله يرحم الوالدين عندي مشكل كبيييير و محتاجة ...</td>\n",
       "      <td>0</td>\n",
       "    </tr>\n",
       "  </tbody>\n",
       "</table>\n",
       "</div>"
      ],
      "text/plain": [
       "   Unnamed: 0                                            comment  off\n",
       "0        2908  فنانين الكبت والفساد .عقلية جنسية لا غير. العف...    1\n",
       "1        1055  الدعارة هربت منها في المحمدية و سكنت في بوزنيق...    1\n",
       "2         181                       كون غير خريتي و مدرتيش هادشي    1\n",
       "3        4313  لا حول ولا قوة الا بالله العلي العظيم لا حول و...    0\n",
       "4         228  الله يرحم الوالدين عندي مشكل كبيييير و محتاجة ...    0"
      ]
     },
     "execution_count": 34,
     "metadata": {},
     "output_type": "execute_result"
    }
   ],
   "source": [
    "data = pd.read_csv(\"./set2.csv\")\n",
    "data.head()"
   ]
  },
  {
   "cell_type": "code",
   "execution_count": 35,
   "id": "99285646",
   "metadata": {
    "execution": {
     "iopub.execute_input": "2024-12-20T04:51:29.054332Z",
     "iopub.status.busy": "2024-12-20T04:51:29.053572Z",
     "iopub.status.idle": "2024-12-20T04:51:29.193264Z",
     "shell.execute_reply": "2024-12-20T04:51:29.191762Z"
    },
    "papermill": {
     "duration": 0.196323,
     "end_time": "2024-12-20T04:51:29.196721",
     "exception": false,
     "start_time": "2024-12-20T04:51:29.000398",
     "status": "completed"
    },
    "tags": []
   },
   "outputs": [
    {
     "name": "stdout",
     "output_type": "stream",
     "text": [
      "<class 'modin.pandas.dataframe.DataFrame'>\n",
      "RangeIndex: 6419 entries, 0 to 6418\n",
      "Data columns (total 3 columns):\n",
      " #   Column      Non-Null Count  Dtype \n",
      "---  ------      --------------  ----- \n",
      " 0   Unnamed: 0  6419 non-null   int64 \n",
      " 1   comment     6419 non-null   object\n",
      " 2   off         6419 non-null   int64 \n",
      "dtypes: int64(2), object(1)\n",
      "memory usage: 150.6+ KB\n"
     ]
    }
   ],
   "source": [
    "data.info()"
   ]
  },
  {
   "cell_type": "code",
   "execution_count": 36,
   "id": "d22d369d",
   "metadata": {
    "execution": {
     "iopub.execute_input": "2024-12-20T04:51:29.255702Z",
     "iopub.status.busy": "2024-12-20T04:51:29.255318Z",
     "iopub.status.idle": "2024-12-20T04:51:29.500054Z",
     "shell.execute_reply": "2024-12-20T04:51:29.498935Z"
    },
    "papermill": {
     "duration": 0.277794,
     "end_time": "2024-12-20T04:51:29.502606",
     "exception": false,
     "start_time": "2024-12-20T04:51:29.224812",
     "status": "completed"
    },
    "tags": []
   },
   "outputs": [
    {
     "name": "stdout",
     "output_type": "stream",
     "text": [
      "<class 'modin.pandas.dataframe.DataFrame'>\n",
      "RangeIndex: 6419 entries, 0 to 6418\n",
      "Data columns (total 2 columns):\n",
      " #   Column  Non-Null Count  Dtype \n",
      "---  ------  --------------  ----- \n",
      " 0   text    6419 non-null   object\n",
      " 1   target  6419 non-null   int64 \n",
      "dtypes: int64(1), object(1)\n",
      "memory usage: 100.4+ KB\n"
     ]
    }
   ],
   "source": [
    "data.drop(columns=['Unnamed: 0'], inplace=True)\n",
    "data = data.rename(columns={'off': 'target'})\n",
    "data = data.rename(columns={'comment': 'text'})\n",
    "data['target'] = data['target'].replace({1: 0, 0: 1})\n",
    "data.info()"
   ]
  },
  {
   "cell_type": "code",
   "execution_count": 37,
   "id": "ad63ebdd",
   "metadata": {
    "execution": {
     "iopub.execute_input": "2024-12-20T04:51:29.558879Z",
     "iopub.status.busy": "2024-12-20T04:51:29.558425Z",
     "iopub.status.idle": "2024-12-20T04:51:29.730283Z",
     "shell.execute_reply": "2024-12-20T04:51:29.728643Z"
    },
    "papermill": {
     "duration": 0.204752,
     "end_time": "2024-12-20T04:51:29.734477",
     "exception": false,
     "start_time": "2024-12-20T04:51:29.529725",
     "status": "completed"
    },
    "tags": []
   },
   "outputs": [
    {
     "data": {
      "image/png": "[encoded data removed]",
      "text/plain": [
       "<Figure size 640x480 with 1 Axes>"
      ]
     },
     "metadata": {},
     "output_type": "display_data"
    }
   ],
   "source": [
    "sns.countplot(data  , x='target' )\n",
    "plt.show()"
   ]
  },
  {
   "cell_type": "code",
   "execution_count": 38,
   "id": "d24de431",
   "metadata": {
    "execution": {
     "iopub.execute_input": "2024-12-20T04:51:29.798956Z",
     "iopub.status.busy": "2024-12-20T04:51:29.798504Z",
     "iopub.status.idle": "2024-12-20T04:51:29.824632Z",
     "shell.execute_reply": "2024-12-20T04:51:29.823407Z"
    },
    "papermill": {
     "duration": 0.05623,
     "end_time": "2024-12-20T04:51:29.827063",
     "exception": false,
     "start_time": "2024-12-20T04:51:29.770833",
     "status": "completed"
    },
    "tags": []
   },
   "outputs": [
    {
     "data": {
      "text/html": [
       "<div>\n",
       "<style scoped>\n",
       "    .dataframe tbody tr th:only-of-type {\n",
       "        vertical-align: middle;\n",
       "    }\n",
       "\n",
       "    .dataframe tbody tr th {\n",
       "        vertical-align: top;\n",
       "    }\n",
       "\n",
       "    .dataframe thead th {\n",
       "        text-align: right;\n",
       "    }\n",
       "</style>\n",
       "<table border=\"1\" class=\"dataframe\">\n",
       "  <thead>\n",
       "    <tr style=\"text-align: right;\">\n",
       "      <th></th>\n",
       "      <th>text</th>\n",
       "      <th>target</th>\n",
       "    </tr>\n",
       "  </thead>\n",
       "  <tbody>\n",
       "    <tr>\n",
       "      <th>0</th>\n",
       "      <td>فنانين الكبت والفساد .عقلية جنسية لا غير. العف...</td>\n",
       "      <td>0</td>\n",
       "    </tr>\n",
       "    <tr>\n",
       "      <th>1</th>\n",
       "      <td>الدعارة هربت منها في المحمدية و سكنت في بوزنيق...</td>\n",
       "      <td>0</td>\n",
       "    </tr>\n",
       "    <tr>\n",
       "      <th>2</th>\n",
       "      <td>كون غير خريتي و مدرتيش هادشي</td>\n",
       "      <td>0</td>\n",
       "    </tr>\n",
       "    <tr>\n",
       "      <th>3</th>\n",
       "      <td>لا حول ولا قوة الا بالله العلي العظيم لا حول و...</td>\n",
       "      <td>1</td>\n",
       "    </tr>\n",
       "    <tr>\n",
       "      <th>4</th>\n",
       "      <td>الله يرحم الوالدين عندي مشكل كبيييير و محتاجة ...</td>\n",
       "      <td>1</td>\n",
       "    </tr>\n",
       "  </tbody>\n",
       "</table>\n",
       "</div>"
      ],
      "text/plain": [
       "                                                text  target\n",
       "0  فنانين الكبت والفساد .عقلية جنسية لا غير. العف...       0\n",
       "1  الدعارة هربت منها في المحمدية و سكنت في بوزنيق...       0\n",
       "2                       كون غير خريتي و مدرتيش هادشي       0\n",
       "3  لا حول ولا قوة الا بالله العلي العظيم لا حول و...       1\n",
       "4  الله يرحم الوالدين عندي مشكل كبيييير و محتاجة ...       1"
      ]
     },
     "execution_count": 38,
     "metadata": {},
     "output_type": "execute_result"
    }
   ],
   "source": [
    "data.head()"
   ]
  },
  {
   "cell_type": "code",
   "execution_count": 39,
   "id": "cf4e1197",
   "metadata": {
    "execution": {
     "iopub.execute_input": "2024-12-20T04:51:29.884245Z",
     "iopub.status.busy": "2024-12-20T04:51:29.883201Z",
     "iopub.status.idle": "2024-12-20T04:51:30.135339Z",
     "shell.execute_reply": "2024-12-20T04:51:30.133982Z"
    },
    "papermill": {
     "duration": 0.28403,
     "end_time": "2024-12-20T04:51:30.137616",
     "exception": false,
     "start_time": "2024-12-20T04:51:29.853586",
     "status": "completed"
    },
    "tags": []
   },
   "outputs": [
    {
     "name": "stdout",
     "output_type": "stream",
     "text": [
      "<class 'modin.pandas.dataframe.DataFrame'>\n",
      "Index: 6094 entries, 0 to 6418\n",
      "Data columns (total 2 columns):\n",
      " #   Column  Non-Null Count  Dtype \n",
      "---  ------  --------------  ----- \n",
      " 0   text    6094 non-null   object\n",
      " 1   target  6094 non-null   int64 \n",
      "dtypes: int64(1), object(1)\n",
      "memory usage: 142.8+ KB\n"
     ]
    }
   ],
   "source": [
    "data = data.drop_duplicates(['text'])\n",
    "data.info()"
   ]
  },
  {
   "cell_type": "code",
   "execution_count": 40,
   "id": "20a37c2d",
   "metadata": {
    "execution": {
     "iopub.execute_input": "2024-12-20T04:51:30.195173Z",
     "iopub.status.busy": "2024-12-20T04:51:30.194679Z",
     "iopub.status.idle": "2024-12-20T04:51:30.337731Z",
     "shell.execute_reply": "2024-12-20T04:51:30.336619Z"
    },
    "papermill": {
     "duration": 0.176029,
     "end_time": "2024-12-20T04:51:30.340892",
     "exception": false,
     "start_time": "2024-12-20T04:51:30.164863",
     "status": "completed"
    },
    "tags": []
   },
   "outputs": [
    {
     "data": {
      "text/plain": [
       "target\n",
       "0    3210\n",
       "1    2884\n",
       "Name: count, dtype: int64"
      ]
     },
     "execution_count": 40,
     "metadata": {},
     "output_type": "execute_result"
    }
   ],
   "source": [
    "data['target'].value_counts()"
   ]
  },
  {
   "cell_type": "code",
   "execution_count": 41,
   "id": "8afadd49",
   "metadata": {
    "execution": {
     "iopub.execute_input": "2024-12-20T04:51:30.424714Z",
     "iopub.status.busy": "2024-12-20T04:51:30.423507Z",
     "iopub.status.idle": "2024-12-20T04:51:31.366966Z",
     "shell.execute_reply": "2024-12-20T04:51:31.364082Z"
    },
    "papermill": {
     "duration": 0.983456,
     "end_time": "2024-12-20T04:51:31.370822",
     "exception": false,
     "start_time": "2024-12-20T04:51:30.387366",
     "status": "completed"
    },
    "tags": []
   },
   "outputs": [],
   "source": [
    "data.to_csv(\"/kaggle/working/dataset2.csv\" , index=False)"
   ]
  },
  {
   "cell_type": "markdown",
   "id": "24274d13",
   "metadata": {
    "papermill": {
     "duration": 0.029604,
     "end_time": "2024-12-20T04:51:31.429887",
     "exception": false,
     "start_time": "2024-12-20T04:51:31.400283",
     "status": "completed"
    },
    "tags": []
   },
   "source": [
    "# Set 3"
   ]
  },
  {
   "cell_type": "code",
   "execution_count": 42,
   "id": "363e278d",
   "metadata": {
    "execution": {
     "iopub.execute_input": "2024-12-20T04:51:31.490977Z",
     "iopub.status.busy": "2024-12-20T04:51:31.490133Z",
     "iopub.status.idle": "2024-12-20T04:51:31.644194Z",
     "shell.execute_reply": "2024-12-20T04:51:31.643170Z"
    },
    "papermill": {
     "duration": 0.187308,
     "end_time": "2024-12-20T04:51:31.646368",
     "exception": false,
     "start_time": "2024-12-20T04:51:31.459060",
     "status": "completed"
    },
    "tags": []
   },
   "outputs": [
    {
     "data": {
      "text/html": [
       "<div>\n",
       "<style scoped>\n",
       "    .dataframe tbody tr th:only-of-type {\n",
       "        vertical-align: middle;\n",
       "    }\n",
       "\n",
       "    .dataframe tbody tr th {\n",
       "        vertical-align: top;\n",
       "    }\n",
       "\n",
       "    .dataframe thead th {\n",
       "        text-align: right;\n",
       "    }\n",
       "</style>\n",
       "<table border=\"1\" class=\"dataframe\">\n",
       "  <thead>\n",
       "    <tr style=\"text-align: right;\">\n",
       "      <th></th>\n",
       "      <th>tweets</th>\n",
       "      <th>type</th>\n",
       "      <th>class</th>\n",
       "    </tr>\n",
       "  </thead>\n",
       "  <tbody>\n",
       "    <tr>\n",
       "      <th>0</th>\n",
       "      <td>ماهي آرائكم متتبعي الكرام</td>\n",
       "      <td>neutral</td>\n",
       "      <td>standard</td>\n",
       "    </tr>\n",
       "    <tr>\n",
       "      <th>1</th>\n",
       "      <td>عبقرية المدرب وروعة اللاعبين</td>\n",
       "      <td>positive</td>\n",
       "      <td>standard</td>\n",
       "    </tr>\n",
       "    <tr>\n",
       "      <th>2</th>\n",
       "      <td>أمة عربية واحدة خالدة</td>\n",
       "      <td>positive</td>\n",
       "      <td>standard</td>\n",
       "    </tr>\n",
       "    <tr>\n",
       "      <th>3</th>\n",
       "      <td>عاد إليكم من جديد وأخيرا درت جيم لهاد الصفحة</td>\n",
       "      <td>neutral</td>\n",
       "      <td>dialectal</td>\n",
       "    </tr>\n",
       "    <tr>\n",
       "      <th>4</th>\n",
       "      <td>الله يخلف عليك سيدي محمد</td>\n",
       "      <td>positive</td>\n",
       "      <td>dialectal</td>\n",
       "    </tr>\n",
       "  </tbody>\n",
       "</table>\n",
       "</div>"
      ],
      "text/plain": [
       "                                         tweets      type      class\n",
       "0                     ماهي آرائكم متتبعي الكرام   neutral   standard\n",
       "1                  عبقرية المدرب وروعة اللاعبين  positive   standard\n",
       "2                        أمة عربية واحدة خالدة   positive   standard\n",
       "3  عاد إليكم من جديد وأخيرا درت جيم لهاد الصفحة   neutral  dialectal\n",
       "4                      الله يخلف عليك سيدي محمد  positive  dialectal"
      ]
     },
     "execution_count": 42,
     "metadata": {},
     "output_type": "execute_result"
    }
   ],
   "source": [
    "data = pd.read_csv('./set3.csv')\n",
    "data.head()"
   ]
  },
  {
   "cell_type": "code",
   "execution_count": 43,
   "id": "80848b38",
   "metadata": {
    "execution": {
     "iopub.execute_input": "2024-12-20T04:51:31.701729Z",
     "iopub.status.busy": "2024-12-20T04:51:31.701019Z",
     "iopub.status.idle": "2024-12-20T04:51:31.800808Z",
     "shell.execute_reply": "2024-12-20T04:51:31.799172Z"
    },
    "papermill": {
     "duration": 0.129276,
     "end_time": "2024-12-20T04:51:31.803106",
     "exception": false,
     "start_time": "2024-12-20T04:51:31.673830",
     "status": "completed"
    },
    "tags": []
   },
   "outputs": [
    {
     "name": "stdout",
     "output_type": "stream",
     "text": [
      "<class 'modin.pandas.dataframe.DataFrame'>\n",
      "RangeIndex: 18086 entries, 0 to 18085\n",
      "Data columns (total 3 columns):\n",
      " #   Column  Non-Null Count  Dtype \n",
      "---  ------  --------------  ----- \n",
      " 0   tweets  18084 non-null  object\n",
      " 1   type    18086 non-null  object\n",
      " 2   class   18086 non-null  object\n",
      "dtypes: object(3)\n",
      "memory usage: 424.0+ KB\n"
     ]
    }
   ],
   "source": [
    "data.info()"
   ]
  },
  {
   "cell_type": "code",
   "execution_count": 44,
   "id": "f81b8a62",
   "metadata": {
    "execution": {
     "iopub.execute_input": "2024-12-20T04:51:31.858193Z",
     "iopub.status.busy": "2024-12-20T04:51:31.857761Z",
     "iopub.status.idle": "2024-12-20T04:51:31.966853Z",
     "shell.execute_reply": "2024-12-20T04:51:31.965485Z"
    },
    "papermill": {
     "duration": 0.139457,
     "end_time": "2024-12-20T04:51:31.969247",
     "exception": false,
     "start_time": "2024-12-20T04:51:31.829790",
     "status": "completed"
    },
    "tags": []
   },
   "outputs": [
    {
     "data": {
      "text/html": [
       "<div>\n",
       "<style scoped>\n",
       "    .dataframe tbody tr th:only-of-type {\n",
       "        vertical-align: middle;\n",
       "    }\n",
       "\n",
       "    .dataframe tbody tr th {\n",
       "        vertical-align: top;\n",
       "    }\n",
       "\n",
       "    .dataframe thead th {\n",
       "        text-align: right;\n",
       "    }\n",
       "</style>\n",
       "<table border=\"1\" class=\"dataframe\">\n",
       "  <thead>\n",
       "    <tr style=\"text-align: right;\">\n",
       "      <th></th>\n",
       "      <th>tweets</th>\n",
       "      <th>type</th>\n",
       "      <th>class</th>\n",
       "    </tr>\n",
       "  </thead>\n",
       "  <tbody>\n",
       "    <tr>\n",
       "      <th>3</th>\n",
       "      <td>عاد إليكم من جديد وأخيرا درت جيم لهاد الصفحة</td>\n",
       "      <td>neutral</td>\n",
       "      <td>dialectal</td>\n",
       "    </tr>\n",
       "    <tr>\n",
       "      <th>4</th>\n",
       "      <td>الله يخلف عليك سيدي محمد</td>\n",
       "      <td>positive</td>\n",
       "      <td>dialectal</td>\n",
       "    </tr>\n",
       "    <tr>\n",
       "      <th>6</th>\n",
       "      <td>هجومك يا أخي على حسن طارق تبرهيش و قلة عقل ودل...</td>\n",
       "      <td>negative</td>\n",
       "      <td>dialectal</td>\n",
       "    </tr>\n",
       "    <tr>\n",
       "      <th>7</th>\n",
       "      <td>أمين عام حزب سياسي كينشر تدوينة وكيدير ليها جيم</td>\n",
       "      <td>neutral</td>\n",
       "      <td>dialectal</td>\n",
       "    </tr>\n",
       "    <tr>\n",
       "      <th>8</th>\n",
       "      <td>أجي بعدا فين غبرات واحد الحمى القلاعية شفت ما ...</td>\n",
       "      <td>neutral</td>\n",
       "      <td>dialectal</td>\n",
       "    </tr>\n",
       "  </tbody>\n",
       "</table>\n",
       "</div>"
      ],
      "text/plain": [
       "                                              tweets      type      class\n",
       "3       عاد إليكم من جديد وأخيرا درت جيم لهاد الصفحة   neutral  dialectal\n",
       "4                           الله يخلف عليك سيدي محمد  positive  dialectal\n",
       "6  هجومك يا أخي على حسن طارق تبرهيش و قلة عقل ودل...  negative  dialectal\n",
       "7    أمين عام حزب سياسي كينشر تدوينة وكيدير ليها جيم   neutral  dialectal\n",
       "8  أجي بعدا فين غبرات واحد الحمى القلاعية شفت ما ...   neutral  dialectal"
      ]
     },
     "execution_count": 44,
     "metadata": {},
     "output_type": "execute_result"
    }
   ],
   "source": [
    "data = data[data['class'] == 'dialectal' ]\n",
    "data.head()"
   ]
  },
  {
   "cell_type": "code",
   "execution_count": 45,
   "id": "ffea449c",
   "metadata": {
    "execution": {
     "iopub.execute_input": "2024-12-20T04:51:32.026725Z",
     "iopub.status.busy": "2024-12-20T04:51:32.026281Z",
     "iopub.status.idle": "2024-12-20T04:51:32.039509Z",
     "shell.execute_reply": "2024-12-20T04:51:32.038287Z"
    },
    "papermill": {
     "duration": 0.04548,
     "end_time": "2024-12-20T04:51:32.042018",
     "exception": false,
     "start_time": "2024-12-20T04:51:31.996538",
     "status": "completed"
    },
    "tags": []
   },
   "outputs": [],
   "source": [
    "data.drop(columns=['class'], inplace=True)\n",
    "data = data.rename(columns={'type': 'target'})\n",
    "data = data.rename(columns={'tweets': 'text'})"
   ]
  },
  {
   "cell_type": "code",
   "execution_count": 46,
   "id": "0ea5861a",
   "metadata": {
    "execution": {
     "iopub.execute_input": "2024-12-20T04:51:32.097639Z",
     "iopub.status.busy": "2024-12-20T04:51:32.097227Z",
     "iopub.status.idle": "2024-12-20T04:51:32.224497Z",
     "shell.execute_reply": "2024-12-20T04:51:32.223206Z"
    },
    "papermill": {
     "duration": 0.157529,
     "end_time": "2024-12-20T04:51:32.226770",
     "exception": false,
     "start_time": "2024-12-20T04:51:32.069241",
     "status": "completed"
    },
    "tags": []
   },
   "outputs": [
    {
     "data": {
      "text/plain": [
       "target\n",
       "positive    2989\n",
       "neutral     1309\n",
       "negative     982\n",
       "mixed        183\n",
       "Name: count, dtype: int64"
      ]
     },
     "execution_count": 46,
     "metadata": {},
     "output_type": "execute_result"
    }
   ],
   "source": [
    "data['target'].value_counts()"
   ]
  },
  {
   "cell_type": "code",
   "execution_count": 47,
   "id": "4509eeb9",
   "metadata": {
    "execution": {
     "iopub.execute_input": "2024-12-20T04:51:32.283158Z",
     "iopub.status.busy": "2024-12-20T04:51:32.282057Z",
     "iopub.status.idle": "2024-12-20T04:51:32.590050Z",
     "shell.execute_reply": "2024-12-20T04:51:32.588892Z"
    },
    "papermill": {
     "duration": 0.339592,
     "end_time": "2024-12-20T04:51:32.592414",
     "exception": false,
     "start_time": "2024-12-20T04:51:32.252822",
     "status": "completed"
    },
    "tags": []
   },
   "outputs": [
    {
     "data": {
      "image/png": "[encoded data removed]",
      "text/plain": [
       "<Figure size 640x480 with 1 Axes>"
      ]
     },
     "metadata": {},
     "output_type": "display_data"
    }
   ],
   "source": [
    "sns.countplot(x='target', data=data)\n",
    "plt.show()"
   ]
  },
  {
   "cell_type": "code",
   "execution_count": 48,
   "id": "524ad716",
   "metadata": {
    "execution": {
     "iopub.execute_input": "2024-12-20T04:51:32.647301Z",
     "iopub.status.busy": "2024-12-20T04:51:32.646890Z",
     "iopub.status.idle": "2024-12-20T04:51:32.738737Z",
     "shell.execute_reply": "2024-12-20T04:51:32.735839Z"
    },
    "papermill": {
     "duration": 0.124905,
     "end_time": "2024-12-20T04:51:32.743846",
     "exception": false,
     "start_time": "2024-12-20T04:51:32.618941",
     "status": "completed"
    },
    "tags": []
   },
   "outputs": [],
   "source": [
    "data=  data[ data['target'] != 'mixed'  ]\n",
    "data=  data[ data['target'] != 'neutral'  ]"
   ]
  },
  {
   "cell_type": "code",
   "execution_count": 49,
   "id": "e263707d",
   "metadata": {
    "execution": {
     "iopub.execute_input": "2024-12-20T04:51:32.803387Z",
     "iopub.status.busy": "2024-12-20T04:51:32.802538Z",
     "iopub.status.idle": "2024-12-20T04:51:32.858229Z",
     "shell.execute_reply": "2024-12-20T04:51:32.857072Z"
    },
    "papermill": {
     "duration": 0.087813,
     "end_time": "2024-12-20T04:51:32.860743",
     "exception": false,
     "start_time": "2024-12-20T04:51:32.772930",
     "status": "completed"
    },
    "tags": []
   },
   "outputs": [],
   "source": [
    "data['target'] = data['target'].replace({'positive': 1, 'negative': 0}).astype(int)"
   ]
  },
  {
   "cell_type": "code",
   "execution_count": 50,
   "id": "3a96ec46",
   "metadata": {
    "execution": {
     "iopub.execute_input": "2024-12-20T04:51:32.919626Z",
     "iopub.status.busy": "2024-12-20T04:51:32.918779Z",
     "iopub.status.idle": "2024-12-20T04:51:33.116975Z",
     "shell.execute_reply": "2024-12-20T04:51:33.115781Z"
    },
    "papermill": {
     "duration": 0.231432,
     "end_time": "2024-12-20T04:51:33.119501",
     "exception": false,
     "start_time": "2024-12-20T04:51:32.888069",
     "status": "completed"
    },
    "tags": []
   },
   "outputs": [
    {
     "data": {
      "image/png": "[encoded data removed]",
      "text/plain": [
       "<Figure size 640x480 with 1 Axes>"
      ]
     },
     "metadata": {},
     "output_type": "display_data"
    }
   ],
   "source": [
    "sns.countplot(x='target', data=data)\n",
    "plt.show()"
   ]
  },
  {
   "cell_type": "code",
   "execution_count": 51,
   "id": "34f1db46",
   "metadata": {
    "execution": {
     "iopub.execute_input": "2024-12-20T04:51:33.194005Z",
     "iopub.status.busy": "2024-12-20T04:51:33.192992Z",
     "iopub.status.idle": "2024-12-20T04:51:33.441820Z",
     "shell.execute_reply": "2024-12-20T04:51:33.440444Z"
    },
    "papermill": {
     "duration": 0.296552,
     "end_time": "2024-12-20T04:51:33.444161",
     "exception": false,
     "start_time": "2024-12-20T04:51:33.147609",
     "status": "completed"
    },
    "tags": []
   },
   "outputs": [
    {
     "name": "stdout",
     "output_type": "stream",
     "text": [
      "<class 'modin.pandas.dataframe.DataFrame'>\n",
      "Index: 2671 entries, 4 to 13597\n",
      "Data columns (total 2 columns):\n",
      " #   Column  Non-Null Count  Dtype \n",
      "---  ------  --------------  ----- \n",
      " 0   text    2670 non-null   object\n",
      " 1   target  2671 non-null   int64 \n",
      "dtypes: int64(1), object(1)\n",
      "memory usage: 62.6+ KB\n"
     ]
    }
   ],
   "source": [
    "data = data.drop_duplicates(['text'])\n",
    "data.info()"
   ]
  },
  {
   "cell_type": "code",
   "execution_count": 52,
   "id": "17fe54b7",
   "metadata": {
    "execution": {
     "iopub.execute_input": "2024-12-20T04:51:33.507751Z",
     "iopub.status.busy": "2024-12-20T04:51:33.506759Z",
     "iopub.status.idle": "2024-12-20T04:51:33.616605Z",
     "shell.execute_reply": "2024-12-20T04:51:33.615567Z"
    },
    "papermill": {
     "duration": 0.142043,
     "end_time": "2024-12-20T04:51:33.618659",
     "exception": false,
     "start_time": "2024-12-20T04:51:33.476616",
     "status": "completed"
    },
    "tags": []
   },
   "outputs": [
    {
     "data": {
      "text/plain": [
       "target\n",
       "1    1992\n",
       "0     679\n",
       "Name: count, dtype: int64"
      ]
     },
     "execution_count": 52,
     "metadata": {},
     "output_type": "execute_result"
    }
   ],
   "source": [
    "data['target'].value_counts()"
   ]
  },
  {
   "cell_type": "code",
   "execution_count": 53,
   "id": "0b27bae1",
   "metadata": {
    "execution": {
     "iopub.execute_input": "2024-12-20T04:51:33.676385Z",
     "iopub.status.busy": "2024-12-20T04:51:33.675968Z",
     "iopub.status.idle": "2024-12-20T04:51:33.700581Z",
     "shell.execute_reply": "2024-12-20T04:51:33.699482Z"
    },
    "papermill": {
     "duration": 0.055815,
     "end_time": "2024-12-20T04:51:33.702933",
     "exception": false,
     "start_time": "2024-12-20T04:51:33.647118",
     "status": "completed"
    },
    "tags": []
   },
   "outputs": [
    {
     "data": {
      "text/html": [
       "<div>\n",
       "<style scoped>\n",
       "    .dataframe tbody tr th:only-of-type {\n",
       "        vertical-align: middle;\n",
       "    }\n",
       "\n",
       "    .dataframe tbody tr th {\n",
       "        vertical-align: top;\n",
       "    }\n",
       "\n",
       "    .dataframe thead th {\n",
       "        text-align: right;\n",
       "    }\n",
       "</style>\n",
       "<table border=\"1\" class=\"dataframe\">\n",
       "  <thead>\n",
       "    <tr style=\"text-align: right;\">\n",
       "      <th></th>\n",
       "      <th>text</th>\n",
       "      <th>target</th>\n",
       "    </tr>\n",
       "  </thead>\n",
       "  <tbody>\n",
       "    <tr>\n",
       "      <th>4</th>\n",
       "      <td>الله يخلف عليك سيدي محمد</td>\n",
       "      <td>1</td>\n",
       "    </tr>\n",
       "    <tr>\n",
       "      <th>6</th>\n",
       "      <td>هجومك يا أخي على حسن طارق تبرهيش و قلة عقل ودل...</td>\n",
       "      <td>0</td>\n",
       "    </tr>\n",
       "    <tr>\n",
       "      <th>15</th>\n",
       "      <td>شكرا يوسف سفري بوعميرة وبنحليب ديما راجا</td>\n",
       "      <td>1</td>\n",
       "    </tr>\n",
       "    <tr>\n",
       "      <th>28</th>\n",
       "      <td>الله يخلي لنيا العونيات</td>\n",
       "      <td>1</td>\n",
       "    </tr>\n",
       "    <tr>\n",
       "      <th>31</th>\n",
       "      <td>حدراف لاعب كبير وغادي يبقى كبير وبلاصتو كاينة ...</td>\n",
       "      <td>1</td>\n",
       "    </tr>\n",
       "  </tbody>\n",
       "</table>\n",
       "</div>"
      ],
      "text/plain": [
       "                                                 text  target\n",
       "4                            الله يخلف عليك سيدي محمد       1\n",
       "6   هجومك يا أخي على حسن طارق تبرهيش و قلة عقل ودل...       0\n",
       "15           شكرا يوسف سفري بوعميرة وبنحليب ديما راجا       1\n",
       "28                           الله يخلي لنيا العونيات        1\n",
       "31  حدراف لاعب كبير وغادي يبقى كبير وبلاصتو كاينة ...       1"
      ]
     },
     "execution_count": 53,
     "metadata": {},
     "output_type": "execute_result"
    }
   ],
   "source": [
    "data.head()"
   ]
  },
  {
   "cell_type": "code",
   "execution_count": 54,
   "id": "32572bbd",
   "metadata": {
    "execution": {
     "iopub.execute_input": "2024-12-20T04:51:33.760776Z",
     "iopub.status.busy": "2024-12-20T04:51:33.760371Z",
     "iopub.status.idle": "2024-12-20T04:51:34.582481Z",
     "shell.execute_reply": "2024-12-20T04:51:34.580790Z"
    },
    "papermill": {
     "duration": 0.854543,
     "end_time": "2024-12-20T04:51:34.585581",
     "exception": false,
     "start_time": "2024-12-20T04:51:33.731038",
     "status": "completed"
    },
    "tags": []
   },
   "outputs": [],
   "source": [
    "data.to_csv(\"/kaggle/working/dataset3.csv\", index=False)"
   ]
  },
  {
   "cell_type": "markdown",
   "id": "550e6e2a",
   "metadata": {
    "papermill": {
     "duration": 0.028051,
     "end_time": "2024-12-20T04:51:34.643707",
     "exception": false,
     "start_time": "2024-12-20T04:51:34.615656",
     "status": "completed"
    },
    "tags": []
   },
   "source": [
    "# Set 4"
   ]
  },
  {
   "cell_type": "code",
   "execution_count": 55,
   "id": "9bc427f7",
   "metadata": {
    "execution": {
     "iopub.execute_input": "2024-12-20T04:51:34.701818Z",
     "iopub.status.busy": "2024-12-20T04:51:34.701374Z",
     "iopub.status.idle": "2024-12-20T04:51:34.832977Z",
     "shell.execute_reply": "2024-12-20T04:51:34.831559Z"
    },
    "papermill": {
     "duration": 0.162984,
     "end_time": "2024-12-20T04:51:34.835264",
     "exception": false,
     "start_time": "2024-12-20T04:51:34.672280",
     "status": "completed"
    },
    "tags": []
   },
   "outputs": [
    {
     "data": {
      "text/html": [
       "<div>\n",
       "<style scoped>\n",
       "    .dataframe tbody tr th:only-of-type {\n",
       "        vertical-align: middle;\n",
       "    }\n",
       "\n",
       "    .dataframe tbody tr th {\n",
       "        vertical-align: top;\n",
       "    }\n",
       "\n",
       "    .dataframe thead th {\n",
       "        text-align: right;\n",
       "    }\n",
       "</style>\n",
       "<table border=\"1\" class=\"dataframe\">\n",
       "  <thead>\n",
       "    <tr style=\"text-align: right;\">\n",
       "      <th></th>\n",
       "      <th>text</th>\n",
       "      <th>label</th>\n",
       "    </tr>\n",
       "  </thead>\n",
       "  <tbody>\n",
       "    <tr>\n",
       "      <th>0</th>\n",
       "      <td>eh mais enfaite ‘zebi’ ça veut dire bise’ en v...</td>\n",
       "      <td>1</td>\n",
       "    </tr>\n",
       "    <tr>\n",
       "      <th>1</th>\n",
       "      <td>je vais me réveiller à 6h au lieu de 7h histoi...</td>\n",
       "      <td>1</td>\n",
       "    </tr>\n",
       "    <tr>\n",
       "      <th>2</th>\n",
       "      <td>ma matrixe la video il est trop chou zebi</td>\n",
       "      <td>1</td>\n",
       "    </tr>\n",
       "    <tr>\n",
       "      <th>3</th>\n",
       "      <td>mmh tu manquer l’odeur de ta culotte nahchtoul...</td>\n",
       "      <td>1</td>\n",
       "    </tr>\n",
       "    <tr>\n",
       "      <th>4</th>\n",
       "      <td>tantôt nari zebi zmagri le7ia dial bljika</td>\n",
       "      <td>1</td>\n",
       "    </tr>\n",
       "  </tbody>\n",
       "</table>\n",
       "</div>"
      ],
      "text/plain": [
       "                                                text  label\n",
       "0  eh mais enfaite ‘zebi’ ça veut dire bise’ en v...      1\n",
       "1  je vais me réveiller à 6h au lieu de 7h histoi...      1\n",
       "2          ma matrixe la video il est trop chou zebi      1\n",
       "3  mmh tu manquer l’odeur de ta culotte nahchtoul...      1\n",
       "4          tantôt nari zebi zmagri le7ia dial bljika      1"
      ]
     },
     "execution_count": 55,
     "metadata": {},
     "output_type": "execute_result"
    }
   ],
   "source": [
    "data = pd.read_csv('./set4.csv')\n",
    "data.head()"
   ]
  },
  {
   "cell_type": "code",
   "execution_count": 56,
   "id": "317c1269",
   "metadata": {
    "execution": {
     "iopub.execute_input": "2024-12-20T04:51:34.892407Z",
     "iopub.status.busy": "2024-12-20T04:51:34.892021Z",
     "iopub.status.idle": "2024-12-20T04:51:34.991066Z",
     "shell.execute_reply": "2024-12-20T04:51:34.989808Z"
    },
    "papermill": {
     "duration": 0.130601,
     "end_time": "2024-12-20T04:51:34.993309",
     "exception": false,
     "start_time": "2024-12-20T04:51:34.862708",
     "status": "completed"
    },
    "tags": []
   },
   "outputs": [
    {
     "name": "stdout",
     "output_type": "stream",
     "text": [
      "<class 'modin.pandas.dataframe.DataFrame'>\n",
      "RangeIndex: 20402 entries, 0 to 20401\n",
      "Data columns (total 2 columns):\n",
      " #   Column  Non-Null Count  Dtype \n",
      "---  ------  --------------  ----- \n",
      " 0   text    20402 non-null  object\n",
      " 1   label   20402 non-null  int64 \n",
      "dtypes: int64(1), object(1)\n",
      "memory usage: 318.9+ KB\n"
     ]
    }
   ],
   "source": [
    "data.info()"
   ]
  },
  {
   "cell_type": "code",
   "execution_count": 57,
   "id": "6060b3e4",
   "metadata": {
    "execution": {
     "iopub.execute_input": "2024-12-20T04:51:35.052968Z",
     "iopub.status.busy": "2024-12-20T04:51:35.052521Z",
     "iopub.status.idle": "2024-12-20T04:51:35.061129Z",
     "shell.execute_reply": "2024-12-20T04:51:35.059678Z"
    },
    "papermill": {
     "duration": 0.040588,
     "end_time": "2024-12-20T04:51:35.063479",
     "exception": false,
     "start_time": "2024-12-20T04:51:35.022891",
     "status": "completed"
    },
    "tags": []
   },
   "outputs": [],
   "source": [
    "data = data.rename(columns={'label': 'target'})"
   ]
  },
  {
   "cell_type": "code",
   "execution_count": 58,
   "id": "5289e2bd",
   "metadata": {
    "_cell_guid": "b1076dfc-b9ad-4769-8c92-a6c4dae69d19",
    "_uuid": "8f2839f25d086af736a60e9eeb907d3b93b6e0e5",
    "execution": {
     "iopub.execute_input": "2024-12-20T04:51:35.122968Z",
     "iopub.status.busy": "2024-12-20T04:51:35.122468Z",
     "iopub.status.idle": "2024-12-20T04:51:35.249035Z",
     "shell.execute_reply": "2024-12-20T04:51:35.247804Z"
    },
    "papermill": {
     "duration": 0.159256,
     "end_time": "2024-12-20T04:51:35.251322",
     "exception": false,
     "start_time": "2024-12-20T04:51:35.092066",
     "status": "completed"
    },
    "tags": []
   },
   "outputs": [
    {
     "data": {
      "text/plain": [
       "target\n",
       "0    12685\n",
       "1     7717\n",
       "Name: count, dtype: int64"
      ]
     },
     "execution_count": 58,
     "metadata": {},
     "output_type": "execute_result"
    }
   ],
   "source": [
    "data['target'].value_counts()"
   ]
  },
  {
   "cell_type": "code",
   "execution_count": 59,
   "id": "e2357be1",
   "metadata": {
    "execution": {
     "iopub.execute_input": "2024-12-20T04:51:35.310955Z",
     "iopub.status.busy": "2024-12-20T04:51:35.310517Z",
     "iopub.status.idle": "2024-12-20T04:51:35.328681Z",
     "shell.execute_reply": "2024-12-20T04:51:35.327379Z"
    },
    "papermill": {
     "duration": 0.052241,
     "end_time": "2024-12-20T04:51:35.332688",
     "exception": false,
     "start_time": "2024-12-20T04:51:35.280447",
     "status": "completed"
    },
    "tags": []
   },
   "outputs": [],
   "source": [
    "data.dropna(inplace=True)"
   ]
  },
  {
   "cell_type": "code",
   "execution_count": 60,
   "id": "8510ceac",
   "metadata": {
    "execution": {
     "iopub.execute_input": "2024-12-20T04:51:35.415662Z",
     "iopub.status.busy": "2024-12-20T04:51:35.415244Z",
     "iopub.status.idle": "2024-12-20T04:51:35.477524Z",
     "shell.execute_reply": "2024-12-20T04:51:35.475969Z"
    },
    "papermill": {
     "duration": 0.096996,
     "end_time": "2024-12-20T04:51:35.482204",
     "exception": false,
     "start_time": "2024-12-20T04:51:35.385208",
     "status": "completed"
    },
    "tags": []
   },
   "outputs": [],
   "source": [
    "import re\n",
    "def filter_and_analyze_text(text):\n",
    "    if not isinstance(text, str):\n",
    "        return None\n",
    "    if re.search(r'[a-zA-Z]', text):\n",
    "        return None       \n",
    "    return text \n",
    "data[\"text\"] = data[\"text\"].apply(filter_and_analyze_text)"
   ]
  },
  {
   "cell_type": "code",
   "execution_count": 61,
   "id": "4d9b3131",
   "metadata": {
    "execution": {
     "iopub.execute_input": "2024-12-20T04:51:35.563901Z",
     "iopub.status.busy": "2024-12-20T04:51:35.563479Z",
     "iopub.status.idle": "2024-12-20T04:51:35.589268Z",
     "shell.execute_reply": "2024-12-20T04:51:35.587114Z"
    },
    "papermill": {
     "duration": 0.061362,
     "end_time": "2024-12-20T04:51:35.594753",
     "exception": false,
     "start_time": "2024-12-20T04:51:35.533391",
     "status": "completed"
    },
    "tags": []
   },
   "outputs": [],
   "source": [
    "data= data.dropna()"
   ]
  },
  {
   "cell_type": "code",
   "execution_count": 62,
   "id": "c2fc36c0",
   "metadata": {
    "execution": {
     "iopub.execute_input": "2024-12-20T04:51:35.678799Z",
     "iopub.status.busy": "2024-12-20T04:51:35.678347Z",
     "iopub.status.idle": "2024-12-20T04:51:35.917171Z",
     "shell.execute_reply": "2024-12-20T04:51:35.916030Z"
    },
    "papermill": {
     "duration": 0.270383,
     "end_time": "2024-12-20T04:51:35.919423",
     "exception": false,
     "start_time": "2024-12-20T04:51:35.649040",
     "status": "completed"
    },
    "tags": []
   },
   "outputs": [
    {
     "data": {
      "image/png": "[encoded data removed]",
      "text/plain": [
       "<Figure size 640x480 with 1 Axes>"
      ]
     },
     "metadata": {},
     "output_type": "display_data"
    }
   ],
   "source": [
    "sns.countplot(x='target', data=data)\n",
    "plt.show()"
   ]
  },
  {
   "cell_type": "code",
   "execution_count": 63,
   "id": "9491d18b",
   "metadata": {
    "execution": {
     "iopub.execute_input": "2024-12-20T04:51:35.978513Z",
     "iopub.status.busy": "2024-12-20T04:51:35.978073Z",
     "iopub.status.idle": "2024-12-20T04:51:36.000381Z",
     "shell.execute_reply": "2024-12-20T04:51:35.997864Z"
    },
    "papermill": {
     "duration": 0.056324,
     "end_time": "2024-12-20T04:51:36.004203",
     "exception": false,
     "start_time": "2024-12-20T04:51:35.947879",
     "status": "completed"
    },
    "tags": []
   },
   "outputs": [],
   "source": [
    "data['target'] = data['target'].replace({ 0: 1 , 1 : 0  })"
   ]
  },
  {
   "cell_type": "code",
   "execution_count": 64,
   "id": "e16f06ed",
   "metadata": {
    "execution": {
     "iopub.execute_input": "2024-12-20T04:51:36.066300Z",
     "iopub.status.busy": "2024-12-20T04:51:36.065833Z",
     "iopub.status.idle": "2024-12-20T04:51:36.419686Z",
     "shell.execute_reply": "2024-12-20T04:51:36.418383Z"
    },
    "papermill": {
     "duration": 0.387512,
     "end_time": "2024-12-20T04:51:36.422597",
     "exception": false,
     "start_time": "2024-12-20T04:51:36.035085",
     "status": "completed"
    },
    "tags": []
   },
   "outputs": [
    {
     "name": "stdout",
     "output_type": "stream",
     "text": [
      "<class 'modin.pandas.dataframe.DataFrame'>\n",
      "Index: 11490 entries, 7 to 20401\n",
      "Data columns (total 2 columns):\n",
      " #   Column  Non-Null Count  Dtype \n",
      "---  ------  --------------  ----- \n",
      " 0   text    11490 non-null  object\n",
      " 1   target  11490 non-null  int64 \n",
      "dtypes: int64(1), object(1)\n",
      "memory usage: 269.3+ KB\n"
     ]
    }
   ],
   "source": [
    "data = data.drop_duplicates(['text'])\n",
    "data.info()"
   ]
  },
  {
   "cell_type": "code",
   "execution_count": 65,
   "id": "7ec10e07",
   "metadata": {
    "execution": {
     "iopub.execute_input": "2024-12-20T04:51:36.489960Z",
     "iopub.status.busy": "2024-12-20T04:51:36.489334Z",
     "iopub.status.idle": "2024-12-20T04:51:36.757097Z",
     "shell.execute_reply": "2024-12-20T04:51:36.756005Z"
    },
    "papermill": {
     "duration": 0.307271,
     "end_time": "2024-12-20T04:51:36.759262",
     "exception": false,
     "start_time": "2024-12-20T04:51:36.451991",
     "status": "completed"
    },
    "tags": []
   },
   "outputs": [
    {
     "data": {
      "image/png": "[encoded data removed]",
      "text/plain": [
       "<Figure size 640x480 with 1 Axes>"
      ]
     },
     "metadata": {},
     "output_type": "display_data"
    }
   ],
   "source": [
    "sns.countplot(x='target', data=data)\n",
    "plt.show()"
   ]
  },
  {
   "cell_type": "code",
   "execution_count": 66,
   "id": "551f49b5",
   "metadata": {
    "execution": {
     "iopub.execute_input": "2024-12-20T04:51:36.820095Z",
     "iopub.status.busy": "2024-12-20T04:51:36.819676Z",
     "iopub.status.idle": "2024-12-20T04:51:36.927904Z",
     "shell.execute_reply": "2024-12-20T04:51:36.926867Z"
    },
    "papermill": {
     "duration": 0.140829,
     "end_time": "2024-12-20T04:51:36.929956",
     "exception": false,
     "start_time": "2024-12-20T04:51:36.789127",
     "status": "completed"
    },
    "tags": []
   },
   "outputs": [
    {
     "data": {
      "text/plain": [
       "target\n",
       "1    8015\n",
       "0    3475\n",
       "Name: count, dtype: int64"
      ]
     },
     "execution_count": 66,
     "metadata": {},
     "output_type": "execute_result"
    }
   ],
   "source": [
    "data['target'].value_counts()"
   ]
  },
  {
   "cell_type": "code",
   "execution_count": 67,
   "id": "cf1ebc4e",
   "metadata": {
    "execution": {
     "iopub.execute_input": "2024-12-20T04:51:36.992874Z",
     "iopub.status.busy": "2024-12-20T04:51:36.991714Z",
     "iopub.status.idle": "2024-12-20T04:51:37.020676Z",
     "shell.execute_reply": "2024-12-20T04:51:37.019638Z"
    },
    "papermill": {
     "duration": 0.064301,
     "end_time": "2024-12-20T04:51:37.023041",
     "exception": false,
     "start_time": "2024-12-20T04:51:36.958740",
     "status": "completed"
    },
    "tags": []
   },
   "outputs": [
    {
     "data": {
      "text/html": [
       "<div>\n",
       "<style scoped>\n",
       "    .dataframe tbody tr th:only-of-type {\n",
       "        vertical-align: middle;\n",
       "    }\n",
       "\n",
       "    .dataframe tbody tr th {\n",
       "        vertical-align: top;\n",
       "    }\n",
       "\n",
       "    .dataframe thead th {\n",
       "        text-align: right;\n",
       "    }\n",
       "</style>\n",
       "<table border=\"1\" class=\"dataframe\">\n",
       "  <thead>\n",
       "    <tr style=\"text-align: right;\">\n",
       "      <th></th>\n",
       "      <th>text</th>\n",
       "      <th>target</th>\n",
       "    </tr>\n",
       "  </thead>\n",
       "  <tbody>\n",
       "    <tr>\n",
       "      <th>7</th>\n",
       "      <td>ايش معولين احنا لزم مدير هدا المستشفي يتعاقب ه...</td>\n",
       "      <td>1</td>\n",
       "    </tr>\n",
       "    <tr>\n",
       "      <th>8</th>\n",
       "      <td>*الخامس* *رمز تعبيري معدل واحد* حتا انا عندي ت...</td>\n",
       "      <td>1</td>\n",
       "    </tr>\n",
       "    <tr>\n",
       "      <th>9</th>\n",
       "      <td>*السهم للاسفل* 1 بل و في نفس الوقت تمت الاشاده...</td>\n",
       "      <td>1</td>\n",
       "    </tr>\n",
       "    <tr>\n",
       "      <th>10</th>\n",
       "      <td>*السهم للاسفل* 1و الاستقرار في افريقيا و الشرق...</td>\n",
       "      <td>1</td>\n",
       "    </tr>\n",
       "    <tr>\n",
       "      <th>11</th>\n",
       "      <td>*العلم للجزاءر* رءيس الجزاءر نحن اول بلد افريق...</td>\n",
       "      <td>1</td>\n",
       "    </tr>\n",
       "    <tr>\n",
       "      <th>12</th>\n",
       "      <td>*العلم للمغرب* *العلم لمصر* يسعي فريق المصري ا...</td>\n",
       "      <td>1</td>\n",
       "    </tr>\n",
       "    <tr>\n",
       "      <th>13</th>\n",
       "      <td>*العلم للمغرب* *داءره حمراء* ربح الرياضي مبارا...</td>\n",
       "      <td>1</td>\n",
       "    </tr>\n",
       "    <tr>\n",
       "      <th>14</th>\n",
       "      <td>*العلم للمغرب* *داءره حمراء* قال فوزي مدرب الو...</td>\n",
       "      <td>1</td>\n",
       "    </tr>\n",
       "    <tr>\n",
       "      <th>15</th>\n",
       "      <td>*العلم للمغرب* *داءره حمراء* نجحت اداره فريق ا...</td>\n",
       "      <td>1</td>\n",
       "    </tr>\n",
       "    <tr>\n",
       "      <th>16</th>\n",
       "      <td>*العلم للمغرب* *داءره حمراء* يخوض فريق الرياضي...</td>\n",
       "      <td>1</td>\n",
       "    </tr>\n",
       "    <tr>\n",
       "      <th>17</th>\n",
       "      <td>*العلم للمغرب* *داءره حمراء* يسير الطاقم التقن...</td>\n",
       "      <td>1</td>\n",
       "    </tr>\n",
       "    <tr>\n",
       "      <th>18</th>\n",
       "      <td>*العلم للمغرب* *غنيمه* يشكو فريق حسنيه اكادير ...</td>\n",
       "      <td>1</td>\n",
       "    </tr>\n",
       "    <tr>\n",
       "      <th>19</th>\n",
       "      <td>*العلم للمغرب* *غنيمه* يواصل فريق اتحاد طنجه ت...</td>\n",
       "      <td>1</td>\n",
       "    </tr>\n",
       "    <tr>\n",
       "      <th>20</th>\n",
       "      <td>*العلم للمغرب* ملامح الصعود الي البطوله برو 1 ...</td>\n",
       "      <td>1</td>\n",
       "    </tr>\n",
       "    <tr>\n",
       "      <th>21</th>\n",
       "      <td>*المرجعيه* ماركا عرض فاران</td>\n",
       "      <td>1</td>\n",
       "    </tr>\n",
       "    <tr>\n",
       "      <th>22</th>\n",
       "      <td>*ابيض مربع صغير متوسط*  *الماس*  صوره حصريه لج...</td>\n",
       "      <td>1</td>\n",
       "    </tr>\n",
       "    <tr>\n",
       "      <th>23</th>\n",
       "      <td>*اميره*</td>\n",
       "      <td>1</td>\n",
       "    </tr>\n",
       "    <tr>\n",
       "      <th>24</th>\n",
       "      <td>*تاج* *العلم للجزاءر*</td>\n",
       "      <td>1</td>\n",
       "    </tr>\n",
       "    <tr>\n",
       "      <th>25</th>\n",
       "      <td>*تادا* مبروك *تادا*</td>\n",
       "      <td>1</td>\n",
       "    </tr>\n",
       "    <tr>\n",
       "      <th>27</th>\n",
       "      <td>*تعانق الوجه* الضرب بنص عام</td>\n",
       "      <td>1</td>\n",
       "    </tr>\n",
       "    <tr>\n",
       "      <th>34</th>\n",
       "      <td>*تنهد* *تنهد* غادي ندعيك *فرح*</td>\n",
       "      <td>1</td>\n",
       "    </tr>\n",
       "    <tr>\n",
       "      <th>47</th>\n",
       "      <td>*حقيبه المال* *دولار*</td>\n",
       "      <td>1</td>\n",
       "    </tr>\n",
       "    <tr>\n",
       "      <th>48</th>\n",
       "      <td>*حمامه السلام*  من السهل ان يبرر احدهم</td>\n",
       "      <td>1</td>\n",
       "    </tr>\n",
       "    <tr>\n",
       "      <th>49</th>\n",
       "      <td>*خساره نقطه*</td>\n",
       "      <td>1</td>\n",
       "    </tr>\n",
       "    <tr>\n",
       "      <th>50</th>\n",
       "      <td>*داءره حمراء* *كره القدم*  بات لاعب المنتخب ال...</td>\n",
       "      <td>1</td>\n",
       "    </tr>\n",
       "    <tr>\n",
       "      <th>51</th>\n",
       "      <td>*داءره حمراء* *كره القدم*  يعود فريق الوداد ال...</td>\n",
       "      <td>1</td>\n",
       "    </tr>\n",
       "    <tr>\n",
       "      <th>52</th>\n",
       "      <td>*داءره حمراء* *نقطه اليسار* المخلوقه هذي كل عا...</td>\n",
       "      <td>1</td>\n",
       "    </tr>\n",
       "    <tr>\n",
       "      <th>53</th>\n",
       "      <td>*داءره حمراء* 39 00</td>\n",
       "      <td>1</td>\n",
       "    </tr>\n",
       "    <tr>\n",
       "      <th>55</th>\n",
       "      <td>*داءره حمراء* عاجل</td>\n",
       "      <td>1</td>\n",
       "    </tr>\n",
       "    <tr>\n",
       "      <th>56</th>\n",
       "      <td>*داءره زرقاء كبيره* *داءره زرقاء كبيره* *داءره...</td>\n",
       "      <td>1</td>\n",
       "    </tr>\n",
       "  </tbody>\n",
       "</table>\n",
       "</div>"
      ],
      "text/plain": [
       "                                                 text  target\n",
       "7   ايش معولين احنا لزم مدير هدا المستشفي يتعاقب ه...       1\n",
       "8   *الخامس* *رمز تعبيري معدل واحد* حتا انا عندي ت...       1\n",
       "9   *السهم للاسفل* 1 بل و في نفس الوقت تمت الاشاده...       1\n",
       "10  *السهم للاسفل* 1و الاستقرار في افريقيا و الشرق...       1\n",
       "11  *العلم للجزاءر* رءيس الجزاءر نحن اول بلد افريق...       1\n",
       "12  *العلم للمغرب* *العلم لمصر* يسعي فريق المصري ا...       1\n",
       "13  *العلم للمغرب* *داءره حمراء* ربح الرياضي مبارا...       1\n",
       "14  *العلم للمغرب* *داءره حمراء* قال فوزي مدرب الو...       1\n",
       "15  *العلم للمغرب* *داءره حمراء* نجحت اداره فريق ا...       1\n",
       "16  *العلم للمغرب* *داءره حمراء* يخوض فريق الرياضي...       1\n",
       "17  *العلم للمغرب* *داءره حمراء* يسير الطاقم التقن...       1\n",
       "18  *العلم للمغرب* *غنيمه* يشكو فريق حسنيه اكادير ...       1\n",
       "19  *العلم للمغرب* *غنيمه* يواصل فريق اتحاد طنجه ت...       1\n",
       "20  *العلم للمغرب* ملامح الصعود الي البطوله برو 1 ...       1\n",
       "21                         *المرجعيه* ماركا عرض فاران       1\n",
       "22  *ابيض مربع صغير متوسط*  *الماس*  صوره حصريه لج...       1\n",
       "23                                            *اميره*       1\n",
       "24                              *تاج* *العلم للجزاءر*       1\n",
       "25                                *تادا* مبروك *تادا*       1\n",
       "27                        *تعانق الوجه* الضرب بنص عام       1\n",
       "34                     *تنهد* *تنهد* غادي ندعيك *فرح*       1\n",
       "47                              *حقيبه المال* *دولار*       1\n",
       "48             *حمامه السلام*  من السهل ان يبرر احدهم       1\n",
       "49                                       *خساره نقطه*       1\n",
       "50  *داءره حمراء* *كره القدم*  بات لاعب المنتخب ال...       1\n",
       "51  *داءره حمراء* *كره القدم*  يعود فريق الوداد ال...       1\n",
       "52  *داءره حمراء* *نقطه اليسار* المخلوقه هذي كل عا...       1\n",
       "53                                *داءره حمراء* 39 00       1\n",
       "55                                 *داءره حمراء* عاجل       1\n",
       "56  *داءره زرقاء كبيره* *داءره زرقاء كبيره* *داءره...       1"
      ]
     },
     "execution_count": 67,
     "metadata": {},
     "output_type": "execute_result"
    }
   ],
   "source": [
    "data.head(30)"
   ]
  },
  {
   "cell_type": "code",
   "execution_count": 68,
   "id": "c01ef02b",
   "metadata": {
    "execution": {
     "iopub.execute_input": "2024-12-20T04:51:37.088496Z",
     "iopub.status.busy": "2024-12-20T04:51:37.088071Z",
     "iopub.status.idle": "2024-12-20T04:51:37.956530Z",
     "shell.execute_reply": "2024-12-20T04:51:37.955085Z"
    },
    "papermill": {
     "duration": 0.907969,
     "end_time": "2024-12-20T04:51:37.960021",
     "exception": false,
     "start_time": "2024-12-20T04:51:37.052052",
     "status": "completed"
    },
    "tags": []
   },
   "outputs": [],
   "source": [
    "data.to_csv(\"/kaggle/working/dataset4.csv\", index=False)"
   ]
  },
  {
   "cell_type": "markdown",
   "id": "2bea8afc",
   "metadata": {
    "papermill": {
     "duration": 0.032792,
     "end_time": "2024-12-20T04:51:38.025049",
     "exception": false,
     "start_time": "2024-12-20T04:51:37.992257",
     "status": "completed"
    },
    "tags": []
   },
   "source": [
    "# Set 5"
   ]
  },
  {
   "cell_type": "code",
   "execution_count": 69,
   "id": "8e5e52df",
   "metadata": {
    "execution": {
     "iopub.execute_input": "2024-12-20T04:51:38.088884Z",
     "iopub.status.busy": "2024-12-20T04:51:38.088459Z",
     "iopub.status.idle": "2024-12-20T04:51:38.224758Z",
     "shell.execute_reply": "2024-12-20T04:51:38.223645Z"
    },
    "papermill": {
     "duration": 0.171825,
     "end_time": "2024-12-20T04:51:38.227045",
     "exception": false,
     "start_time": "2024-12-20T04:51:38.055220",
     "status": "completed"
    },
    "tags": []
   },
   "outputs": [
    {
     "data": {
      "text/html": [
       "<div>\n",
       "<style scoped>\n",
       "    .dataframe tbody tr th:only-of-type {\n",
       "        vertical-align: middle;\n",
       "    }\n",
       "\n",
       "    .dataframe tbody tr th {\n",
       "        vertical-align: top;\n",
       "    }\n",
       "\n",
       "    .dataframe thead th {\n",
       "        text-align: right;\n",
       "    }\n",
       "</style>\n",
       "<table border=\"1\" class=\"dataframe\">\n",
       "  <thead>\n",
       "    <tr style=\"text-align: right;\">\n",
       "      <th></th>\n",
       "      <th>index</th>\n",
       "      <th>comment_message</th>\n",
       "      <th>sentiment</th>\n",
       "      <th>comment_published</th>\n",
       "    </tr>\n",
       "  </thead>\n",
       "  <tbody>\n",
       "    <tr>\n",
       "      <th>0</th>\n",
       "      <td>1</td>\n",
       "      <td>البكاء ليس سمت الرجال ..البكاء سلطة الضعفاء لك...</td>\n",
       "      <td>N</td>\n",
       "      <td>2016-10-01 00:07:44</td>\n",
       "    </tr>\n",
       "    <tr>\n",
       "      <th>1</th>\n",
       "      <td>2</td>\n",
       "      <td>كلنا بنكيران\\nولاية ثانية ان شاء الله\\nموتوا ب...</td>\n",
       "      <td>P</td>\n",
       "      <td>2016-10-01 00:47:37</td>\n",
       "    </tr>\n",
       "    <tr>\n",
       "      <th>2</th>\n",
       "      <td>3</td>\n",
       "      <td>الشركات في الدول المتقدمة تساهم في بناء أوطانه...</td>\n",
       "      <td>N</td>\n",
       "      <td>2016-10-01 00:48:02</td>\n",
       "    </tr>\n",
       "    <tr>\n",
       "      <th>3</th>\n",
       "      <td>4</td>\n",
       "      <td>من ينتقد بن كران هم خصوم معارضة لى خاصها هي سل...</td>\n",
       "      <td>N</td>\n",
       "      <td>2016-10-01 00:49:10</td>\n",
       "    </tr>\n",
       "    <tr>\n",
       "      <th>4</th>\n",
       "      <td>5</td>\n",
       "      <td>هدو صحاب بام توجدو راسهوم بغين اعفاءات ضريبية ...</td>\n",
       "      <td>N</td>\n",
       "      <td>2016-10-01 00:59:47</td>\n",
       "    </tr>\n",
       "  </tbody>\n",
       "</table>\n",
       "</div>"
      ],
      "text/plain": [
       "   index                                    comment_message sentiment  \\\n",
       "0      1  البكاء ليس سمت الرجال ..البكاء سلطة الضعفاء لك...         N   \n",
       "1      2  كلنا بنكيران\\nولاية ثانية ان شاء الله\\nموتوا ب...         P   \n",
       "2      3  الشركات في الدول المتقدمة تساهم في بناء أوطانه...         N   \n",
       "3      4  من ينتقد بن كران هم خصوم معارضة لى خاصها هي سل...         N   \n",
       "4      5  هدو صحاب بام توجدو راسهوم بغين اعفاءات ضريبية ...         N   \n",
       "\n",
       "     comment_published  \n",
       "0  2016-10-01 00:07:44  \n",
       "1  2016-10-01 00:47:37  \n",
       "2  2016-10-01 00:48:02  \n",
       "3  2016-10-01 00:49:10  \n",
       "4  2016-10-01 00:59:47  "
      ]
     },
     "execution_count": 69,
     "metadata": {},
     "output_type": "execute_result"
    }
   ],
   "source": [
    "data = pd.read_csv('./set5.csv')\n",
    "data.head()"
   ]
  },
  {
   "cell_type": "code",
   "execution_count": 70,
   "id": "1dc6aec6",
   "metadata": {
    "execution": {
     "iopub.execute_input": "2024-12-20T04:51:38.287510Z",
     "iopub.status.busy": "2024-12-20T04:51:38.287109Z",
     "iopub.status.idle": "2024-12-20T04:51:38.318082Z",
     "shell.execute_reply": "2024-12-20T04:51:38.316007Z"
    },
    "papermill": {
     "duration": 0.066024,
     "end_time": "2024-12-20T04:51:38.321867",
     "exception": false,
     "start_time": "2024-12-20T04:51:38.255843",
     "status": "completed"
    },
    "tags": []
   },
   "outputs": [],
   "source": [
    "data.drop(columns=[\"comment_published\" , \"index\"] , inplace=True)\n",
    "data['sentiment'] = data['sentiment'].replace({ \"N\": 0 , \"P\" : 1  })\n",
    "data = data.rename(columns={'comment_message': 'text' , 'sentiment':'target'})"
   ]
  },
  {
   "cell_type": "code",
   "execution_count": 71,
   "id": "b2ae6f92",
   "metadata": {
    "execution": {
     "iopub.execute_input": "2024-12-20T04:51:38.390931Z",
     "iopub.status.busy": "2024-12-20T04:51:38.390459Z",
     "iopub.status.idle": "2024-12-20T04:51:38.431431Z",
     "shell.execute_reply": "2024-12-20T04:51:38.430305Z"
    },
    "papermill": {
     "duration": 0.076222,
     "end_time": "2024-12-20T04:51:38.433905",
     "exception": false,
     "start_time": "2024-12-20T04:51:38.357683",
     "status": "completed"
    },
    "tags": []
   },
   "outputs": [
    {
     "data": {
      "text/html": [
       "<div>\n",
       "<style scoped>\n",
       "    .dataframe tbody tr th:only-of-type {\n",
       "        vertical-align: middle;\n",
       "    }\n",
       "\n",
       "    .dataframe tbody tr th {\n",
       "        vertical-align: top;\n",
       "    }\n",
       "\n",
       "    .dataframe thead th {\n",
       "        text-align: right;\n",
       "    }\n",
       "</style>\n",
       "<table border=\"1\" class=\"dataframe\">\n",
       "  <thead>\n",
       "    <tr style=\"text-align: right;\">\n",
       "      <th></th>\n",
       "      <th>text</th>\n",
       "      <th>target</th>\n",
       "    </tr>\n",
       "  </thead>\n",
       "  <tbody>\n",
       "    <tr>\n",
       "      <th>0</th>\n",
       "      <td>البكاء ليس سمت الرجال ..البكاء سلطة الضعفاء لك...</td>\n",
       "      <td>0</td>\n",
       "    </tr>\n",
       "    <tr>\n",
       "      <th>1</th>\n",
       "      <td>كلنا بنكيران\\nولاية ثانية ان شاء الله\\nموتوا ب...</td>\n",
       "      <td>1</td>\n",
       "    </tr>\n",
       "    <tr>\n",
       "      <th>2</th>\n",
       "      <td>الشركات في الدول المتقدمة تساهم في بناء أوطانه...</td>\n",
       "      <td>0</td>\n",
       "    </tr>\n",
       "    <tr>\n",
       "      <th>3</th>\n",
       "      <td>من ينتقد بن كران هم خصوم معارضة لى خاصها هي سل...</td>\n",
       "      <td>0</td>\n",
       "    </tr>\n",
       "    <tr>\n",
       "      <th>4</th>\n",
       "      <td>هدو صحاب بام توجدو راسهوم بغين اعفاءات ضريبية ...</td>\n",
       "      <td>0</td>\n",
       "    </tr>\n",
       "  </tbody>\n",
       "</table>\n",
       "</div>"
      ],
      "text/plain": [
       "                                                text  target\n",
       "0  البكاء ليس سمت الرجال ..البكاء سلطة الضعفاء لك...       0\n",
       "1  كلنا بنكيران\\nولاية ثانية ان شاء الله\\nموتوا ب...       1\n",
       "2  الشركات في الدول المتقدمة تساهم في بناء أوطانه...       0\n",
       "3  من ينتقد بن كران هم خصوم معارضة لى خاصها هي سل...       0\n",
       "4  هدو صحاب بام توجدو راسهوم بغين اعفاءات ضريبية ...       0"
      ]
     },
     "execution_count": 71,
     "metadata": {},
     "output_type": "execute_result"
    }
   ],
   "source": [
    "data.head()"
   ]
  },
  {
   "cell_type": "code",
   "execution_count": 72,
   "id": "02e6bfa2",
   "metadata": {
    "execution": {
     "iopub.execute_input": "2024-12-20T04:51:38.496216Z",
     "iopub.status.busy": "2024-12-20T04:51:38.495779Z",
     "iopub.status.idle": "2024-12-20T04:51:38.666977Z",
     "shell.execute_reply": "2024-12-20T04:51:38.665840Z"
    },
    "papermill": {
     "duration": 0.204814,
     "end_time": "2024-12-20T04:51:38.669268",
     "exception": false,
     "start_time": "2024-12-20T04:51:38.464454",
     "status": "completed"
    },
    "tags": []
   },
   "outputs": [
    {
     "name": "stdout",
     "output_type": "stream",
     "text": [
      "<class 'modin.pandas.dataframe.DataFrame'>\n",
      "RangeIndex: 10254 entries, 0 to 10253\n",
      "Data columns (total 2 columns):\n",
      " #   Column  Non-Null Count  Dtype \n",
      "---  ------  --------------  ----- \n",
      " 0   text    10254 non-null  object\n",
      " 1   target  10254 non-null  int64 \n",
      "dtypes: int64(1), object(1)\n",
      "memory usage: 160.3+ KB\n"
     ]
    }
   ],
   "source": [
    "data.info()"
   ]
  },
  {
   "cell_type": "code",
   "execution_count": 73,
   "id": "541b153e",
   "metadata": {
    "execution": {
     "iopub.execute_input": "2024-12-20T04:51:38.731545Z",
     "iopub.status.busy": "2024-12-20T04:51:38.731144Z",
     "iopub.status.idle": "2024-12-20T04:51:38.937599Z",
     "shell.execute_reply": "2024-12-20T04:51:38.936169Z"
    },
    "papermill": {
     "duration": 0.239417,
     "end_time": "2024-12-20T04:51:38.939894",
     "exception": false,
     "start_time": "2024-12-20T04:51:38.700477",
     "status": "completed"
    },
    "tags": []
   },
   "outputs": [
    {
     "name": "stdout",
     "output_type": "stream",
     "text": [
      "<class 'modin.pandas.dataframe.DataFrame'>\n",
      "RangeIndex: 10254 entries, 0 to 10253\n",
      "Data columns (total 2 columns):\n",
      " #   Column  Non-Null Count  Dtype \n",
      "---  ------  --------------  ----- \n",
      " 0   text    10254 non-null  object\n",
      " 1   target  10254 non-null  int64 \n",
      "dtypes: int64(1), object(1)\n",
      "memory usage: 160.3+ KB\n"
     ]
    }
   ],
   "source": [
    "data = data.drop_duplicates(['text'])\n",
    "data.info()"
   ]
  },
  {
   "cell_type": "code",
   "execution_count": 74,
   "id": "359f139d",
   "metadata": {
    "execution": {
     "iopub.execute_input": "2024-12-20T04:51:38.999853Z",
     "iopub.status.busy": "2024-12-20T04:51:38.999430Z",
     "iopub.status.idle": "2024-12-20T04:51:39.186342Z",
     "shell.execute_reply": "2024-12-20T04:51:39.184834Z"
    },
    "papermill": {
     "duration": 0.221349,
     "end_time": "2024-12-20T04:51:39.190671",
     "exception": false,
     "start_time": "2024-12-20T04:51:38.969322",
     "status": "completed"
    },
    "tags": []
   },
   "outputs": [
    {
     "data": {
      "image/png": "[encoded data removed]",
      "text/plain": [
       "<Figure size 640x480 with 1 Axes>"
      ]
     },
     "metadata": {},
     "output_type": "display_data"
    }
   ],
   "source": [
    "sns.countplot(x='target', data=data)\n",
    "plt.show()"
   ]
  },
  {
   "cell_type": "code",
   "execution_count": 75,
   "id": "6deb4976",
   "metadata": {
    "execution": {
     "iopub.execute_input": "2024-12-20T04:51:39.269402Z",
     "iopub.status.busy": "2024-12-20T04:51:39.268962Z",
     "iopub.status.idle": "2024-12-20T04:51:39.381948Z",
     "shell.execute_reply": "2024-12-20T04:51:39.380732Z"
    },
    "papermill": {
     "duration": 0.146653,
     "end_time": "2024-12-20T04:51:39.384399",
     "exception": false,
     "start_time": "2024-12-20T04:51:39.237746",
     "status": "completed"
    },
    "tags": []
   },
   "outputs": [
    {
     "data": {
      "text/plain": [
       "target\n",
       "0    6581\n",
       "1    3673\n",
       "Name: count, dtype: int64"
      ]
     },
     "execution_count": 75,
     "metadata": {},
     "output_type": "execute_result"
    }
   ],
   "source": [
    "data['target'].value_counts()"
   ]
  },
  {
   "cell_type": "code",
   "execution_count": 76,
   "id": "d82f570a",
   "metadata": {
    "execution": {
     "iopub.execute_input": "2024-12-20T04:51:39.449011Z",
     "iopub.status.busy": "2024-12-20T04:51:39.448557Z",
     "iopub.status.idle": "2024-12-20T04:51:40.294905Z",
     "shell.execute_reply": "2024-12-20T04:51:40.292988Z"
    },
    "papermill": {
     "duration": 0.882987,
     "end_time": "2024-12-20T04:51:40.298710",
     "exception": false,
     "start_time": "2024-12-20T04:51:39.415723",
     "status": "completed"
    },
    "tags": []
   },
   "outputs": [],
   "source": [
    "data.to_csv(\"/kaggle/working/dataset5.csv\", index=False)"
   ]
  },
  {
   "cell_type": "markdown",
   "id": "bf044a64",
   "metadata": {
    "papermill": {
     "duration": 0.029799,
     "end_time": "2024-12-20T04:51:40.367498",
     "exception": false,
     "start_time": "2024-12-20T04:51:40.337699",
     "status": "completed"
    },
    "tags": []
   },
   "source": [
    "# set 7"
   ]
  },
  {
   "cell_type": "code",
   "execution_count": 77,
   "id": "7e333067",
   "metadata": {
    "execution": {
     "iopub.execute_input": "2024-12-20T04:51:40.432771Z",
     "iopub.status.busy": "2024-12-20T04:51:40.431775Z",
     "iopub.status.idle": "2024-12-20T04:51:40.535107Z",
     "shell.execute_reply": "2024-12-20T04:51:40.534016Z"
    },
    "papermill": {
     "duration": 0.139014,
     "end_time": "2024-12-20T04:51:40.537575",
     "exception": false,
     "start_time": "2024-12-20T04:51:40.398561",
     "status": "completed"
    },
    "tags": []
   },
   "outputs": [
    {
     "data": {
      "text/html": [
       "<div>\n",
       "<style scoped>\n",
       "    .dataframe tbody tr th:only-of-type {\n",
       "        vertical-align: middle;\n",
       "    }\n",
       "\n",
       "    .dataframe tbody tr th {\n",
       "        vertical-align: top;\n",
       "    }\n",
       "\n",
       "    .dataframe thead th {\n",
       "        text-align: right;\n",
       "    }\n",
       "</style>\n",
       "<table border=\"1\" class=\"dataframe\">\n",
       "  <thead>\n",
       "    <tr style=\"text-align: right;\">\n",
       "      <th></th>\n",
       "      <th>comment</th>\n",
       "      <th>label</th>\n",
       "    </tr>\n",
       "  </thead>\n",
       "  <tbody>\n",
       "    <tr>\n",
       "      <th>0</th>\n",
       "      <td>العتماني عندو اللباقة و الجدال بالغة سد فمك</td>\n",
       "      <td>0</td>\n",
       "    </tr>\n",
       "    <tr>\n",
       "      <th>1</th>\n",
       "      <td>إن كتب لنا الموت بهذا الفيروس فذاك يبقى قضاء و...</td>\n",
       "      <td>0</td>\n",
       "    </tr>\n",
       "    <tr>\n",
       "      <th>2</th>\n",
       "      <td>خوتي الله ينجيكم من هاد الفيروس الخبيث يا رب ا...</td>\n",
       "      <td>0</td>\n",
       "    </tr>\n",
       "    <tr>\n",
       "      <th>3</th>\n",
       "      <td>الحمد لله على أن ڤيروس كورونا لا يعيش في ما فو...</td>\n",
       "      <td>0</td>\n",
       "    </tr>\n",
       "    <tr>\n",
       "      <th>4</th>\n",
       "      <td>و بخصوص الكمامات فهو على صواب الكمامة تحمي فقط...</td>\n",
       "      <td>0</td>\n",
       "    </tr>\n",
       "  </tbody>\n",
       "</table>\n",
       "</div>"
      ],
      "text/plain": [
       "                                             comment  label\n",
       "0        العتماني عندو اللباقة و الجدال بالغة سد فمك      0\n",
       "1  إن كتب لنا الموت بهذا الفيروس فذاك يبقى قضاء و...      0\n",
       "2  خوتي الله ينجيكم من هاد الفيروس الخبيث يا رب ا...      0\n",
       "3  الحمد لله على أن ڤيروس كورونا لا يعيش في ما فو...      0\n",
       "4  و بخصوص الكمامات فهو على صواب الكمامة تحمي فقط...      0"
      ]
     },
     "execution_count": 77,
     "metadata": {},
     "output_type": "execute_result"
    }
   ],
   "source": [
    "data = pd.read_csv('./set7.csv')\n",
    "data.head()"
   ]
  },
  {
   "cell_type": "code",
   "execution_count": 78,
   "id": "5930fed6",
   "metadata": {
    "execution": {
     "iopub.execute_input": "2024-12-20T04:51:40.600931Z",
     "iopub.status.busy": "2024-12-20T04:51:40.600449Z",
     "iopub.status.idle": "2024-12-20T04:51:40.626603Z",
     "shell.execute_reply": "2024-12-20T04:51:40.625315Z"
    },
    "papermill": {
     "duration": 0.060941,
     "end_time": "2024-12-20T04:51:40.629781",
     "exception": false,
     "start_time": "2024-12-20T04:51:40.568840",
     "status": "completed"
    },
    "tags": []
   },
   "outputs": [],
   "source": [
    "data['label'] = data['label'].replace({ 1: 0 , 0 : 1  })\n",
    "data = data.rename(columns={'comment': 'text' , 'label':'target'})"
   ]
  },
  {
   "cell_type": "code",
   "execution_count": 79,
   "id": "bd3dabef",
   "metadata": {
    "execution": {
     "iopub.execute_input": "2024-12-20T04:51:40.692535Z",
     "iopub.status.busy": "2024-12-20T04:51:40.692109Z",
     "iopub.status.idle": "2024-12-20T04:51:40.858094Z",
     "shell.execute_reply": "2024-12-20T04:51:40.856656Z"
    },
    "papermill": {
     "duration": 0.200177,
     "end_time": "2024-12-20T04:51:40.860438",
     "exception": false,
     "start_time": "2024-12-20T04:51:40.660261",
     "status": "completed"
    },
    "tags": []
   },
   "outputs": [
    {
     "name": "stdout",
     "output_type": "stream",
     "text": [
      "<class 'modin.pandas.dataframe.DataFrame'>\n",
      "RangeIndex: 4337 entries, 0 to 4336\n",
      "Data columns (total 2 columns):\n",
      " #   Column  Non-Null Count  Dtype \n",
      "---  ------  --------------  ----- \n",
      " 0   text    4337 non-null   object\n",
      " 1   target  4337 non-null   int64 \n",
      "dtypes: int64(1), object(1)\n",
      "memory usage: 67.9+ KB\n"
     ]
    }
   ],
   "source": [
    "data.info()"
   ]
  },
  {
   "cell_type": "code",
   "execution_count": 80,
   "id": "14767e41",
   "metadata": {
    "execution": {
     "iopub.execute_input": "2024-12-20T04:51:40.927223Z",
     "iopub.status.busy": "2024-12-20T04:51:40.926222Z",
     "iopub.status.idle": "2024-12-20T04:51:41.115933Z",
     "shell.execute_reply": "2024-12-20T04:51:41.114778Z"
    },
    "papermill": {
     "duration": 0.224305,
     "end_time": "2024-12-20T04:51:41.118100",
     "exception": false,
     "start_time": "2024-12-20T04:51:40.893795",
     "status": "completed"
    },
    "tags": []
   },
   "outputs": [
    {
     "name": "stdout",
     "output_type": "stream",
     "text": [
      "<class 'modin.pandas.dataframe.DataFrame'>\n",
      "RangeIndex: 4337 entries, 0 to 4336\n",
      "Data columns (total 2 columns):\n",
      " #   Column  Non-Null Count  Dtype \n",
      "---  ------  --------------  ----- \n",
      " 0   text    4337 non-null   object\n",
      " 1   target  4337 non-null   int64 \n",
      "dtypes: int64(1), object(1)\n",
      "memory usage: 67.9+ KB\n"
     ]
    }
   ],
   "source": [
    "data = data.drop_duplicates(['text'])\n",
    "data.info()"
   ]
  },
  {
   "cell_type": "code",
   "execution_count": 81,
   "id": "36a4ed45",
   "metadata": {
    "execution": {
     "iopub.execute_input": "2024-12-20T04:51:41.181425Z",
     "iopub.status.busy": "2024-12-20T04:51:41.181022Z",
     "iopub.status.idle": "2024-12-20T04:51:41.427949Z",
     "shell.execute_reply": "2024-12-20T04:51:41.426674Z"
    },
    "papermill": {
     "duration": 0.28095,
     "end_time": "2024-12-20T04:51:41.430521",
     "exception": false,
     "start_time": "2024-12-20T04:51:41.149571",
     "status": "completed"
    },
    "tags": []
   },
   "outputs": [
    {
     "data": {
      "image/png": "[encoded data removed]",
      "text/plain": [
       "<Figure size 640x480 with 1 Axes>"
      ]
     },
     "metadata": {},
     "output_type": "display_data"
    }
   ],
   "source": [
    "sns.countplot(x='target', data=data)\n",
    "plt.show()"
   ]
  },
  {
   "cell_type": "code",
   "execution_count": 82,
   "id": "c76e9fbc",
   "metadata": {
    "execution": {
     "iopub.execute_input": "2024-12-20T04:51:41.493631Z",
     "iopub.status.busy": "2024-12-20T04:51:41.493229Z",
     "iopub.status.idle": "2024-12-20T04:51:41.608397Z",
     "shell.execute_reply": "2024-12-20T04:51:41.607289Z"
    },
    "papermill": {
     "duration": 0.149606,
     "end_time": "2024-12-20T04:51:41.610730",
     "exception": false,
     "start_time": "2024-12-20T04:51:41.461124",
     "status": "completed"
    },
    "tags": []
   },
   "outputs": [
    {
     "data": {
      "text/plain": [
       "target\n",
       "0    2899\n",
       "1    1438\n",
       "Name: count, dtype: int64"
      ]
     },
     "execution_count": 82,
     "metadata": {},
     "output_type": "execute_result"
    }
   ],
   "source": [
    "data['target'].value_counts()"
   ]
  },
  {
   "cell_type": "code",
   "execution_count": 83,
   "id": "b421a378",
   "metadata": {
    "execution": {
     "iopub.execute_input": "2024-12-20T04:51:41.675591Z",
     "iopub.status.busy": "2024-12-20T04:51:41.674692Z",
     "iopub.status.idle": "2024-12-20T04:51:42.544950Z",
     "shell.execute_reply": "2024-12-20T04:51:42.543267Z"
    },
    "papermill": {
     "duration": 0.907024,
     "end_time": "2024-12-20T04:51:42.548871",
     "exception": false,
     "start_time": "2024-12-20T04:51:41.641847",
     "status": "completed"
    },
    "tags": []
   },
   "outputs": [],
   "source": [
    "data.to_csv(\"/kaggle/working/dataset7.csv\", index=False)"
   ]
  },
  {
   "cell_type": "markdown",
   "id": "17eb3b4e",
   "metadata": {
    "papermill": {
     "duration": 0.030955,
     "end_time": "2024-12-20T04:51:42.612785",
     "exception": false,
     "start_time": "2024-12-20T04:51:42.581830",
     "status": "completed"
    },
    "tags": []
   },
   "source": [
    "# Set 6 (the unlabled one)"
   ]
  },
  {
   "cell_type": "code",
   "execution_count": 84,
   "id": "2013cad6",
   "metadata": {
    "execution": {
     "iopub.execute_input": "2024-12-20T04:51:42.675829Z",
     "iopub.status.busy": "2024-12-20T04:51:42.675407Z",
     "iopub.status.idle": "2024-12-20T04:51:42.737981Z",
     "shell.execute_reply": "2024-12-20T04:51:42.736877Z"
    },
    "papermill": {
     "duration": 0.097344,
     "end_time": "2024-12-20T04:51:42.740471",
     "exception": false,
     "start_time": "2024-12-20T04:51:42.643127",
     "status": "completed"
    },
    "tags": []
   },
   "outputs": [
    {
     "data": {
      "text/html": [
       "<div>\n",
       "<style scoped>\n",
       "    .dataframe tbody tr th:only-of-type {\n",
       "        vertical-align: middle;\n",
       "    }\n",
       "\n",
       "    .dataframe tbody tr th {\n",
       "        vertical-align: top;\n",
       "    }\n",
       "\n",
       "    .dataframe thead th {\n",
       "        text-align: right;\n",
       "    }\n",
       "</style>\n",
       "<table border=\"1\" class=\"dataframe\">\n",
       "  <thead>\n",
       "    <tr style=\"text-align: right;\">\n",
       "      <th></th>\n",
       "      <th>text_cleaned</th>\n",
       "      <th>cluster</th>\n",
       "      <th>target</th>\n",
       "    </tr>\n",
       "  </thead>\n",
       "  <tbody>\n",
       "    <tr>\n",
       "      <th>0</th>\n",
       "      <td>من لديه اخر معلومات عن عبير</td>\n",
       "      <td>1</td>\n",
       "      <td>1</td>\n",
       "    </tr>\n",
       "    <tr>\n",
       "      <th>1</th>\n",
       "      <td>هه  تراث مغربي حقيقي اصلي هه</td>\n",
       "      <td>1</td>\n",
       "      <td>1</td>\n",
       "    </tr>\n",
       "    <tr>\n",
       "      <th>2</th>\n",
       "      <td>ابوك يبقى ابوك .. حتى ولم لم يقدم اليك شيا</td>\n",
       "      <td>1</td>\n",
       "      <td>1</td>\n",
       "    </tr>\n",
       "    <tr>\n",
       "      <th>3</th>\n",
       "      <td>مهما كان ابيك فا يبقي ابيك مهما فعلت له فلا تف...</td>\n",
       "      <td>1</td>\n",
       "      <td>1</td>\n",
       "    </tr>\n",
       "    <tr>\n",
       "      <th>4</th>\n",
       "      <td>شيا لصدمني انا هو انكم كتقترحوا عليه اساله بصف...</td>\n",
       "      <td>1</td>\n",
       "      <td>1</td>\n",
       "    </tr>\n",
       "  </tbody>\n",
       "</table>\n",
       "</div>"
      ],
      "text/plain": [
       "                                        text_cleaned  cluster  target\n",
       "0                        من لديه اخر معلومات عن عبير        1       1\n",
       "1                       هه  تراث مغربي حقيقي اصلي هه        1       1\n",
       "2         ابوك يبقى ابوك .. حتى ولم لم يقدم اليك شيا        1       1\n",
       "3  مهما كان ابيك فا يبقي ابيك مهما فعلت له فلا تف...        1       1\n",
       "4  شيا لصدمني انا هو انكم كتقترحوا عليه اساله بصف...        1       1"
      ]
     },
     "execution_count": 84,
     "metadata": {},
     "output_type": "execute_result"
    }
   ],
   "source": [
    "data = pd.read_csv('./cleaned_clustered_data.csv')\n",
    "data.head()"
   ]
  },
  {
   "cell_type": "code",
   "execution_count": 85,
   "id": "5dec2eca",
   "metadata": {
    "execution": {
     "iopub.execute_input": "2024-12-20T04:51:42.806588Z",
     "iopub.status.busy": "2024-12-20T04:51:42.806075Z",
     "iopub.status.idle": "2024-12-20T04:51:42.897616Z",
     "shell.execute_reply": "2024-12-20T04:51:42.896109Z"
    },
    "papermill": {
     "duration": 0.127535,
     "end_time": "2024-12-20T04:51:42.900059",
     "exception": false,
     "start_time": "2024-12-20T04:51:42.772524",
     "status": "completed"
    },
    "tags": []
   },
   "outputs": [
    {
     "name": "stdout",
     "output_type": "stream",
     "text": [
      "<class 'modin.pandas.dataframe.DataFrame'>\n",
      "RangeIndex: 488 entries, 0 to 487\n",
      "Data columns (total 3 columns):\n",
      " #   Column        Non-Null Count  Dtype \n",
      "---  ------        --------------  ----- \n",
      " 0   text_cleaned  488 non-null    object\n",
      " 1   cluster       488 non-null    int64 \n",
      " 2   target        488 non-null    int64 \n",
      "dtypes: int64(2), object(1)\n",
      "memory usage: 11.6+ KB\n"
     ]
    }
   ],
   "source": [
    "data.info()"
   ]
  },
  {
   "cell_type": "code",
   "execution_count": 86,
   "id": "03f5ac63",
   "metadata": {
    "execution": {
     "iopub.execute_input": "2024-12-20T04:51:42.966543Z",
     "iopub.status.busy": "2024-12-20T04:51:42.966106Z",
     "iopub.status.idle": "2024-12-20T04:51:43.083967Z",
     "shell.execute_reply": "2024-12-20T04:51:43.082882Z"
    },
    "papermill": {
     "duration": 0.154012,
     "end_time": "2024-12-20T04:51:43.086280",
     "exception": false,
     "start_time": "2024-12-20T04:51:42.932268",
     "status": "completed"
    },
    "tags": []
   },
   "outputs": [
    {
     "data": {
      "text/plain": [
       "target\n",
       "1    258\n",
       "0    230\n",
       "Name: count, dtype: int64"
      ]
     },
     "execution_count": 86,
     "metadata": {},
     "output_type": "execute_result"
    }
   ],
   "source": [
    "data['target'].value_counts()"
   ]
  },
  {
   "cell_type": "code",
   "execution_count": 87,
   "id": "31e73ca9",
   "metadata": {
    "execution": {
     "iopub.execute_input": "2024-12-20T04:51:43.153100Z",
     "iopub.status.busy": "2024-12-20T04:51:43.151811Z",
     "iopub.status.idle": "2024-12-20T04:51:43.354269Z",
     "shell.execute_reply": "2024-12-20T04:51:43.353257Z"
    },
    "papermill": {
     "duration": 0.238462,
     "end_time": "2024-12-20T04:51:43.356653",
     "exception": false,
     "start_time": "2024-12-20T04:51:43.118191",
     "status": "completed"
    },
    "tags": []
   },
   "outputs": [
    {
     "data": {
      "image/png": "[encoded data removed]",
      "text/plain": [
       "<Figure size 640x480 with 1 Axes>"
      ]
     },
     "metadata": {},
     "output_type": "display_data"
    }
   ],
   "source": [
    "sns.countplot(x='target', data=data)\n",
    "plt.show()"
   ]
  },
  {
   "cell_type": "code",
   "execution_count": 88,
   "id": "814194b1",
   "metadata": {
    "execution": {
     "iopub.execute_input": "2024-12-20T04:51:43.437113Z",
     "iopub.status.busy": "2024-12-20T04:51:43.436615Z",
     "iopub.status.idle": "2024-12-20T04:51:43.450334Z",
     "shell.execute_reply": "2024-12-20T04:51:43.448968Z"
    },
    "papermill": {
     "duration": 0.057837,
     "end_time": "2024-12-20T04:51:43.452901",
     "exception": false,
     "start_time": "2024-12-20T04:51:43.395064",
     "status": "completed"
    },
    "tags": []
   },
   "outputs": [],
   "source": [
    "data['text'] = data['text_cleaned']\n",
    "data.drop(columns=['cluster' , 'text_cleaned'] , inplace=True)\n"
   ]
  },
  {
   "cell_type": "code",
   "execution_count": 89,
   "id": "c71865b0",
   "metadata": {
    "execution": {
     "iopub.execute_input": "2024-12-20T04:51:43.518200Z",
     "iopub.status.busy": "2024-12-20T04:51:43.517788Z",
     "iopub.status.idle": "2024-12-20T04:51:43.549874Z",
     "shell.execute_reply": "2024-12-20T04:51:43.548599Z"
    },
    "papermill": {
     "duration": 0.066438,
     "end_time": "2024-12-20T04:51:43.552300",
     "exception": false,
     "start_time": "2024-12-20T04:51:43.485862",
     "status": "completed"
    },
    "tags": []
   },
   "outputs": [
    {
     "data": {
      "text/html": [
       "<div>\n",
       "<style scoped>\n",
       "    .dataframe tbody tr th:only-of-type {\n",
       "        vertical-align: middle;\n",
       "    }\n",
       "\n",
       "    .dataframe tbody tr th {\n",
       "        vertical-align: top;\n",
       "    }\n",
       "\n",
       "    .dataframe thead th {\n",
       "        text-align: right;\n",
       "    }\n",
       "</style>\n",
       "<table border=\"1\" class=\"dataframe\">\n",
       "  <thead>\n",
       "    <tr style=\"text-align: right;\">\n",
       "      <th></th>\n",
       "      <th>target</th>\n",
       "      <th>text</th>\n",
       "    </tr>\n",
       "  </thead>\n",
       "  <tbody>\n",
       "    <tr>\n",
       "      <th>0</th>\n",
       "      <td>1</td>\n",
       "      <td>من لديه اخر معلومات عن عبير</td>\n",
       "    </tr>\n",
       "    <tr>\n",
       "      <th>1</th>\n",
       "      <td>1</td>\n",
       "      <td>هه  تراث مغربي حقيقي اصلي هه</td>\n",
       "    </tr>\n",
       "    <tr>\n",
       "      <th>2</th>\n",
       "      <td>1</td>\n",
       "      <td>ابوك يبقى ابوك .. حتى ولم لم يقدم اليك شيا</td>\n",
       "    </tr>\n",
       "    <tr>\n",
       "      <th>3</th>\n",
       "      <td>1</td>\n",
       "      <td>مهما كان ابيك فا يبقي ابيك مهما فعلت له فلا تف...</td>\n",
       "    </tr>\n",
       "    <tr>\n",
       "      <th>4</th>\n",
       "      <td>1</td>\n",
       "      <td>شيا لصدمني انا هو انكم كتقترحوا عليه اساله بصف...</td>\n",
       "    </tr>\n",
       "  </tbody>\n",
       "</table>\n",
       "</div>"
      ],
      "text/plain": [
       "   target                                               text\n",
       "0       1                        من لديه اخر معلومات عن عبير\n",
       "1       1                       هه  تراث مغربي حقيقي اصلي هه\n",
       "2       1         ابوك يبقى ابوك .. حتى ولم لم يقدم اليك شيا\n",
       "3       1  مهما كان ابيك فا يبقي ابيك مهما فعلت له فلا تف...\n",
       "4       1  شيا لصدمني انا هو انكم كتقترحوا عليه اساله بصف..."
      ]
     },
     "execution_count": 89,
     "metadata": {},
     "output_type": "execute_result"
    }
   ],
   "source": [
    "data.head()"
   ]
  },
  {
   "cell_type": "code",
   "execution_count": 90,
   "id": "65236354",
   "metadata": {
    "execution": {
     "iopub.execute_input": "2024-12-20T04:51:43.618429Z",
     "iopub.status.busy": "2024-12-20T04:51:43.618045Z",
     "iopub.status.idle": "2024-12-20T04:51:44.472504Z",
     "shell.execute_reply": "2024-12-20T04:51:44.471270Z"
    },
    "papermill": {
     "duration": 0.891766,
     "end_time": "2024-12-20T04:51:44.477510",
     "exception": false,
     "start_time": "2024-12-20T04:51:43.585744",
     "status": "completed"
    },
    "tags": []
   },
   "outputs": [],
   "source": [
    "data.to_csv(\"/kaggle/working/dataset6.csv\", index=False) "
   ]
  },
  {
   "cell_type": "markdown",
   "id": "454700f4",
   "metadata": {
    "papermill": {
     "duration": 0.061956,
     "end_time": "2024-12-20T04:51:44.607593",
     "exception": false,
     "start_time": "2024-12-20T04:51:44.545637",
     "status": "completed"
    },
    "tags": []
   },
   "source": [
    "## Merging the Datasets and Applying the Preprocessing Pipeline\n"
   ]
  },
  {
   "cell_type": "code",
   "execution_count": 91,
   "id": "1efe849b",
   "metadata": {
    "execution": {
     "iopub.execute_input": "2024-12-20T04:51:44.732086Z",
     "iopub.status.busy": "2024-12-20T04:51:44.731133Z",
     "iopub.status.idle": "2024-12-20T04:51:45.241535Z",
     "shell.execute_reply": "2024-12-20T04:51:45.240326Z"
    },
    "papermill": {
     "duration": 0.578681,
     "end_time": "2024-12-20T04:51:45.245518",
     "exception": false,
     "start_time": "2024-12-20T04:51:44.666837",
     "status": "completed"
    },
    "tags": []
   },
   "outputs": [],
   "source": [
    "df1  = pd.read_csv('/kaggle/working/dataset1.csv')\n",
    "df2  = pd.read_csv('/kaggle/working/dataset2.csv')\n",
    "df3  = pd.read_csv('/kaggle/working/dataset3.csv')\n",
    "df4  = pd.read_csv('/kaggle/working/dataset4.csv')\n",
    "df5  = pd.read_csv('/kaggle/working/dataset5.csv')\n",
    "df6  = pd.read_csv('/kaggle/working/dataset6.csv')\n",
    "df7  = pd.read_csv('/kaggle/working/dataset7.csv')"
   ]
  },
  {
   "cell_type": "code",
   "execution_count": 92,
   "id": "beb4b511",
   "metadata": {
    "execution": {
     "iopub.execute_input": "2024-12-20T04:51:45.317374Z",
     "iopub.status.busy": "2024-12-20T04:51:45.316944Z",
     "iopub.status.idle": "2024-12-20T04:51:46.438040Z",
     "shell.execute_reply": "2024-12-20T04:51:46.436560Z"
    },
    "papermill": {
     "duration": 1.156662,
     "end_time": "2024-12-20T04:51:46.440718",
     "exception": false,
     "start_time": "2024-12-20T04:51:45.284056",
     "status": "completed"
    },
    "tags": []
   },
   "outputs": [
    {
     "name": "stdout",
     "output_type": "stream",
     "text": [
      "<class 'modin.pandas.dataframe.DataFrame'>\n",
      "RangeIndex: 36918 entries, 0 to 36917\n",
      "Data columns (total 2 columns):\n",
      " #   Column  Non-Null Count  Dtype \n",
      "---  ------  --------------  ----- \n",
      " 0   text    36917 non-null  object\n",
      " 1   target  36918 non-null  int64 \n",
      "dtypes: int64(1), object(1)\n",
      "memory usage: 577.0+ KB\n"
     ]
    }
   ],
   "source": [
    "df = pd.concat([df1, df2, df3 , df4, df5 , df6 , df7 ], ignore_index=True)\n",
    "df = df.sample(frac=1, random_state=42).reset_index(drop=True)\n",
    "df.info()"
   ]
  },
  {
   "cell_type": "code",
   "execution_count": 93,
   "id": "83d58923",
   "metadata": {
    "execution": {
     "iopub.execute_input": "2024-12-20T04:51:46.507929Z",
     "iopub.status.busy": "2024-12-20T04:51:46.507489Z",
     "iopub.status.idle": "2024-12-20T04:51:46.525891Z",
     "shell.execute_reply": "2024-12-20T04:51:46.524400Z"
    },
    "papermill": {
     "duration": 0.0593,
     "end_time": "2024-12-20T04:51:46.532319",
     "exception": false,
     "start_time": "2024-12-20T04:51:46.473019",
     "status": "completed"
    },
    "tags": []
   },
   "outputs": [],
   "source": [
    "df.dropna(inplace=True)"
   ]
  },
  {
   "cell_type": "code",
   "execution_count": 94,
   "id": "043a7be1",
   "metadata": {
    "execution": {
     "iopub.execute_input": "2024-12-20T04:51:46.656046Z",
     "iopub.status.busy": "2024-12-20T04:51:46.654832Z",
     "iopub.status.idle": "2024-12-20T04:59:54.338085Z",
     "shell.execute_reply": "2024-12-20T04:59:54.336662Z"
    },
    "papermill": {
     "duration": 487.805365,
     "end_time": "2024-12-20T04:59:54.399266",
     "exception": false,
     "start_time": "2024-12-20T04:51:46.593901",
     "status": "completed"
    },
    "tags": []
   },
   "outputs": [
    {
     "data": {
      "text/html": [
       "<div>\n",
       "<style scoped>\n",
       "    .dataframe tbody tr th:only-of-type {\n",
       "        vertical-align: middle;\n",
       "    }\n",
       "\n",
       "    .dataframe tbody tr th {\n",
       "        vertical-align: top;\n",
       "    }\n",
       "\n",
       "    .dataframe thead th {\n",
       "        text-align: right;\n",
       "    }\n",
       "</style>\n",
       "<table border=\"1\" class=\"dataframe\">\n",
       "  <thead>\n",
       "    <tr style=\"text-align: right;\">\n",
       "      <th></th>\n",
       "      <th>text</th>\n",
       "      <th>target</th>\n",
       "      <th>text_cleaned</th>\n",
       "    </tr>\n",
       "  </thead>\n",
       "  <tbody>\n",
       "    <tr>\n",
       "      <th>0</th>\n",
       "      <td>في المجمر يضرب الرصاص واللي فيه التوكال غير نش...</td>\n",
       "      <td>0</td>\n",
       "      <td>ما مجمر حشاكم غير يدرب تقيا خريا كلاموا توكال</td>\n",
       "    </tr>\n",
       "    <tr>\n",
       "      <th>1</th>\n",
       "      <td>لا دخان بدون نار كنت عارف ان الفيفا معطاتهمش م...</td>\n",
       "      <td>1</td>\n",
       "      <td>يخلسوا لا دخان مده بدون طويله معطاتهمش</td>\n",
       "    </tr>\n",
       "    <tr>\n",
       "      <th>2</th>\n",
       "      <td>ان هذه الحكومةالفت الابتزاز منذ ان جاات والان ...</td>\n",
       "      <td>0</td>\n",
       "      <td>ابتزاز تستنزف ما حكومهالفت جا بوجوه بق</td>\n",
       "    </tr>\n",
       "    <tr>\n",
       "      <th>3</th>\n",
       "      <td>لماذا عدد الوفيات جد مرتفع؟</td>\n",
       "      <td>0</td>\n",
       "      <td>وفي</td>\n",
       "    </tr>\n",
       "    <tr>\n",
       "      <th>4</th>\n",
       "      <td>الله ينعل بو الفلوس لي نطيح بيهم کرامتي</td>\n",
       "      <td>0</td>\n",
       "      <td>کرام نطيح ينعل</td>\n",
       "    </tr>\n",
       "    <tr>\n",
       "      <th>5</th>\n",
       "      <td>عين تخري وعين تقلب علي كاعيط</td>\n",
       "      <td>0</td>\n",
       "      <td>كاعيط خر</td>\n",
       "    </tr>\n",
       "    <tr>\n",
       "      <th>6</th>\n",
       "      <td>مجاوش او.كالو.ليك حالة طوارئ😷</td>\n",
       "      <td>0</td>\n",
       "      <td>مجاوش كالو بكمامه طوارا</td>\n",
       "    </tr>\n",
       "    <tr>\n",
       "      <th>7</th>\n",
       "      <td>الصحراء الغربية دولة مستقلة باذن الله عن قريب</td>\n",
       "      <td>1</td>\n",
       "      <td>مستقله</td>\n",
       "    </tr>\n",
       "    <tr>\n",
       "      <th>8</th>\n",
       "      <td>نتبع خطى الاستعمار الفرنسي</td>\n",
       "      <td>0</td>\n",
       "      <td>نتبع خط</td>\n",
       "    </tr>\n",
       "    <tr>\n",
       "      <th>9</th>\n",
       "      <td>اللهم هبيل فاس ولا بزناس الحسيمة</td>\n",
       "      <td>0</td>\n",
       "      <td>بزناس هبيل هم</td>\n",
       "    </tr>\n",
       "  </tbody>\n",
       "</table>\n",
       "</div>"
      ],
      "text/plain": [
       "                                                text  target  \\\n",
       "0  في المجمر يضرب الرصاص واللي فيه التوكال غير نش...       0   \n",
       "1  لا دخان بدون نار كنت عارف ان الفيفا معطاتهمش م...       1   \n",
       "2  ان هذه الحكومةالفت الابتزاز منذ ان جاات والان ...       0   \n",
       "3                        لماذا عدد الوفيات جد مرتفع؟       0   \n",
       "4            الله ينعل بو الفلوس لي نطيح بيهم کرامتي       0   \n",
       "5                       عين تخري وعين تقلب علي كاعيط       0   \n",
       "6                      مجاوش او.كالو.ليك حالة طوارئ😷       0   \n",
       "7      الصحراء الغربية دولة مستقلة باذن الله عن قريب       1   \n",
       "8                         نتبع خطى الاستعمار الفرنسي       0   \n",
       "9                   اللهم هبيل فاس ولا بزناس الحسيمة       0   \n",
       "\n",
       "                                    text_cleaned  \n",
       "0  ما مجمر حشاكم غير يدرب تقيا خريا كلاموا توكال  \n",
       "1         يخلسوا لا دخان مده بدون طويله معطاتهمش  \n",
       "2         ابتزاز تستنزف ما حكومهالفت جا بوجوه بق  \n",
       "3                                            وفي  \n",
       "4                                 کرام نطيح ينعل  \n",
       "5                                       كاعيط خر  \n",
       "6                        مجاوش كالو بكمامه طوارا  \n",
       "7                                         مستقله  \n",
       "8                                        نتبع خط  \n",
       "9                                  بزناس هبيل هم  "
      ]
     },
     "execution_count": 94,
     "metadata": {},
     "output_type": "execute_result"
    }
   ],
   "source": [
    "df['text_cleaned'] = df['text'].apply(tokenize_arab_text)\n",
    "df.head(10)"
   ]
  },
  {
   "cell_type": "code",
   "execution_count": 95,
   "id": "ee90d931",
   "metadata": {
    "execution": {
     "iopub.execute_input": "2024-12-20T04:59:54.519063Z",
     "iopub.status.busy": "2024-12-20T04:59:54.518438Z",
     "iopub.status.idle": "2024-12-20T04:59:54.540264Z",
     "shell.execute_reply": "2024-12-20T04:59:54.538769Z"
    },
    "papermill": {
     "duration": 0.086524,
     "end_time": "2024-12-20T04:59:54.544795",
     "exception": false,
     "start_time": "2024-12-20T04:59:54.458271",
     "status": "completed"
    },
    "tags": []
   },
   "outputs": [],
   "source": [
    "df.dropna(inplace=True)"
   ]
  },
  {
   "cell_type": "code",
   "execution_count": 96,
   "id": "ec602ad2",
   "metadata": {
    "execution": {
     "iopub.execute_input": "2024-12-20T04:59:54.648081Z",
     "iopub.status.busy": "2024-12-20T04:59:54.647445Z",
     "iopub.status.idle": "2024-12-20T05:01:00.069903Z",
     "shell.execute_reply": "2024-12-20T05:01:00.068580Z"
    },
    "papermill": {
     "duration": 65.50346,
     "end_time": "2024-12-20T05:01:00.105471",
     "exception": false,
     "start_time": "2024-12-20T04:59:54.602011",
     "status": "completed"
    },
    "tags": []
   },
   "outputs": [
    {
     "data": {
      "text/html": [
       "<div>\n",
       "<style scoped>\n",
       "    .dataframe tbody tr th:only-of-type {\n",
       "        vertical-align: middle;\n",
       "    }\n",
       "\n",
       "    .dataframe tbody tr th {\n",
       "        vertical-align: top;\n",
       "    }\n",
       "\n",
       "    .dataframe thead th {\n",
       "        text-align: right;\n",
       "    }\n",
       "</style>\n",
       "<table border=\"1\" class=\"dataframe\">\n",
       "  <thead>\n",
       "    <tr style=\"text-align: right;\">\n",
       "      <th></th>\n",
       "      <th>text</th>\n",
       "      <th>target</th>\n",
       "      <th>text_cleaned</th>\n",
       "    </tr>\n",
       "  </thead>\n",
       "  <tbody>\n",
       "    <tr>\n",
       "      <th>0</th>\n",
       "      <td>في المجمر يضرب الرصاص واللي فيه التوكال غير نش...</td>\n",
       "      <td>0</td>\n",
       "      <td>ما مجمر حشاكم غير يدرب تقيا خريا كلاموا توكال</td>\n",
       "    </tr>\n",
       "    <tr>\n",
       "      <th>1</th>\n",
       "      <td>لا دخان بدون نار كنت عارف ان الفيفا معطاتهمش م...</td>\n",
       "      <td>1</td>\n",
       "      <td>يخلسوا لا دخان مده بدون طويله معطاتهمش</td>\n",
       "    </tr>\n",
       "    <tr>\n",
       "      <th>2</th>\n",
       "      <td>ان هذه الحكومةالفت الابتزاز منذ ان جاات والان ...</td>\n",
       "      <td>0</td>\n",
       "      <td>ابتزاز تستنزف ما حكومهالفت جا بوجوه بق</td>\n",
       "    </tr>\n",
       "    <tr>\n",
       "      <th>3</th>\n",
       "      <td>لماذا عدد الوفيات جد مرتفع؟</td>\n",
       "      <td>0</td>\n",
       "      <td>وفي</td>\n",
       "    </tr>\n",
       "    <tr>\n",
       "      <th>4</th>\n",
       "      <td>الله ينعل بو الفلوس لي نطيح بيهم کرامتي</td>\n",
       "      <td>0</td>\n",
       "      <td>کرام نطيح ينعل</td>\n",
       "    </tr>\n",
       "  </tbody>\n",
       "</table>\n",
       "</div>"
      ],
      "text/plain": [
       "                                                text  target  \\\n",
       "0  في المجمر يضرب الرصاص واللي فيه التوكال غير نش...       0   \n",
       "1  لا دخان بدون نار كنت عارف ان الفيفا معطاتهمش م...       1   \n",
       "2  ان هذه الحكومةالفت الابتزاز منذ ان جاات والان ...       0   \n",
       "3                        لماذا عدد الوفيات جد مرتفع؟       0   \n",
       "4            الله ينعل بو الفلوس لي نطيح بيهم کرامتي       0   \n",
       "\n",
       "                                    text_cleaned  \n",
       "0  ما مجمر حشاكم غير يدرب تقيا خريا كلاموا توكال  \n",
       "1         يخلسوا لا دخان مده بدون طويله معطاتهمش  \n",
       "2         ابتزاز تستنزف ما حكومهالفت جا بوجوه بق  \n",
       "3                                            وفي  \n",
       "4                                 کرام نطيح ينعل  "
      ]
     },
     "execution_count": 96,
     "metadata": {},
     "output_type": "execute_result"
    }
   ],
   "source": [
    "df.head()"
   ]
  },
  {
   "cell_type": "code",
   "execution_count": 97,
   "id": "3d67a93f",
   "metadata": {
    "execution": {
     "iopub.execute_input": "2024-12-20T05:01:00.171554Z",
     "iopub.status.busy": "2024-12-20T05:01:00.171145Z",
     "iopub.status.idle": "2024-12-20T05:01:00.403781Z",
     "shell.execute_reply": "2024-12-20T05:01:00.402331Z"
    },
    "papermill": {
     "duration": 0.269872,
     "end_time": "2024-12-20T05:01:00.407864",
     "exception": false,
     "start_time": "2024-12-20T05:01:00.137992",
     "status": "completed"
    },
    "tags": []
   },
   "outputs": [
    {
     "data": {
      "image/png": "[encoded data removed]",
      "text/plain": [
       "<Figure size 640x480 with 1 Axes>"
      ]
     },
     "metadata": {},
     "output_type": "display_data"
    }
   ],
   "source": [
    "sns.countplot(x='target', data=df)\n",
    "plt.show()"
   ]
  },
  {
   "cell_type": "code",
   "execution_count": 98,
   "id": "d6b5bd22",
   "metadata": {
    "execution": {
     "iopub.execute_input": "2024-12-20T05:01:00.487634Z",
     "iopub.status.busy": "2024-12-20T05:01:00.487212Z",
     "iopub.status.idle": "2024-12-20T05:01:00.610727Z",
     "shell.execute_reply": "2024-12-20T05:01:00.609492Z"
    },
    "papermill": {
     "duration": 0.15972,
     "end_time": "2024-12-20T05:01:00.613207",
     "exception": false,
     "start_time": "2024-12-20T05:01:00.453487",
     "status": "completed"
    },
    "tags": []
   },
   "outputs": [],
   "source": [
    "import pandas as pd\n",
    "df = pd.DataFrame(df)"
   ]
  },
  {
   "cell_type": "code",
   "execution_count": 99,
   "id": "dac87571",
   "metadata": {
    "execution": {
     "iopub.execute_input": "2024-12-20T05:01:00.683278Z",
     "iopub.status.busy": "2024-12-20T05:01:00.682824Z",
     "iopub.status.idle": "2024-12-20T05:01:00.691528Z",
     "shell.execute_reply": "2024-12-20T05:01:00.690485Z"
    },
    "papermill": {
     "duration": 0.046395,
     "end_time": "2024-12-20T05:01:00.694173",
     "exception": false,
     "start_time": "2024-12-20T05:01:00.647778",
     "status": "completed"
    },
    "tags": []
   },
   "outputs": [],
   "source": [
    "df = df.rename(columns={0: 'text' , 1:\"target\" , 2:\"text_cleaned\"})\n"
   ]
  },
  {
   "cell_type": "code",
   "execution_count": 100,
   "id": "9e24c801",
   "metadata": {
    "execution": {
     "iopub.execute_input": "2024-12-20T05:01:00.763152Z",
     "iopub.status.busy": "2024-12-20T05:01:00.762702Z",
     "iopub.status.idle": "2024-12-20T05:01:00.774084Z",
     "shell.execute_reply": "2024-12-20T05:01:00.772987Z"
    },
    "papermill": {
     "duration": 0.049241,
     "end_time": "2024-12-20T05:01:00.776105",
     "exception": false,
     "start_time": "2024-12-20T05:01:00.726864",
     "status": "completed"
    },
    "tags": []
   },
   "outputs": [
    {
     "data": {
      "text/html": [
       "<div>\n",
       "<style scoped>\n",
       "    .dataframe tbody tr th:only-of-type {\n",
       "        vertical-align: middle;\n",
       "    }\n",
       "\n",
       "    .dataframe tbody tr th {\n",
       "        vertical-align: top;\n",
       "    }\n",
       "\n",
       "    .dataframe thead th {\n",
       "        text-align: right;\n",
       "    }\n",
       "</style>\n",
       "<table border=\"1\" class=\"dataframe\">\n",
       "  <thead>\n",
       "    <tr style=\"text-align: right;\">\n",
       "      <th></th>\n",
       "      <th>text</th>\n",
       "      <th>target</th>\n",
       "      <th>text_cleaned</th>\n",
       "    </tr>\n",
       "  </thead>\n",
       "  <tbody>\n",
       "    <tr>\n",
       "      <th>0</th>\n",
       "      <td>في المجمر يضرب الرصاص واللي فيه التوكال غير نش...</td>\n",
       "      <td>0</td>\n",
       "      <td>ما مجمر حشاكم غير يدرب تقيا خريا كلاموا توكال</td>\n",
       "    </tr>\n",
       "    <tr>\n",
       "      <th>1</th>\n",
       "      <td>لا دخان بدون نار كنت عارف ان الفيفا معطاتهمش م...</td>\n",
       "      <td>1</td>\n",
       "      <td>يخلسوا لا دخان مده بدون طويله معطاتهمش</td>\n",
       "    </tr>\n",
       "    <tr>\n",
       "      <th>2</th>\n",
       "      <td>ان هذه الحكومةالفت الابتزاز منذ ان جاات والان ...</td>\n",
       "      <td>0</td>\n",
       "      <td>ابتزاز تستنزف ما حكومهالفت جا بوجوه بق</td>\n",
       "    </tr>\n",
       "    <tr>\n",
       "      <th>3</th>\n",
       "      <td>لماذا عدد الوفيات جد مرتفع؟</td>\n",
       "      <td>0</td>\n",
       "      <td>وفي</td>\n",
       "    </tr>\n",
       "    <tr>\n",
       "      <th>4</th>\n",
       "      <td>الله ينعل بو الفلوس لي نطيح بيهم کرامتي</td>\n",
       "      <td>0</td>\n",
       "      <td>کرام نطيح ينعل</td>\n",
       "    </tr>\n",
       "  </tbody>\n",
       "</table>\n",
       "</div>"
      ],
      "text/plain": [
       "                                                text target  \\\n",
       "0  في المجمر يضرب الرصاص واللي فيه التوكال غير نش...      0   \n",
       "1  لا دخان بدون نار كنت عارف ان الفيفا معطاتهمش م...      1   \n",
       "2  ان هذه الحكومةالفت الابتزاز منذ ان جاات والان ...      0   \n",
       "3                        لماذا عدد الوفيات جد مرتفع؟      0   \n",
       "4            الله ينعل بو الفلوس لي نطيح بيهم کرامتي      0   \n",
       "\n",
       "                                    text_cleaned  \n",
       "0  ما مجمر حشاكم غير يدرب تقيا خريا كلاموا توكال  \n",
       "1         يخلسوا لا دخان مده بدون طويله معطاتهمش  \n",
       "2         ابتزاز تستنزف ما حكومهالفت جا بوجوه بق  \n",
       "3                                            وفي  \n",
       "4                                 کرام نطيح ينعل  "
      ]
     },
     "execution_count": 100,
     "metadata": {},
     "output_type": "execute_result"
    }
   ],
   "source": [
    "df.head()"
   ]
  },
  {
   "cell_type": "code",
   "execution_count": 101,
   "id": "6b0f88ad",
   "metadata": {
    "execution": {
     "iopub.execute_input": "2024-12-20T05:01:00.847306Z",
     "iopub.status.busy": "2024-12-20T05:01:00.846784Z",
     "iopub.status.idle": "2024-12-20T05:01:01.107197Z",
     "shell.execute_reply": "2024-12-20T05:01:01.105996Z"
    },
    "papermill": {
     "duration": 0.299956,
     "end_time": "2024-12-20T05:01:01.109674",
     "exception": false,
     "start_time": "2024-12-20T05:01:00.809718",
     "status": "completed"
    },
    "tags": []
   },
   "outputs": [
    {
     "name": "stdout",
     "output_type": "stream",
     "text": [
      "17500\n"
     ]
    },
    {
     "data": {
      "image/png": "[encoded data removed]",
      "text/plain": [
       "<Figure size 640x480 with 1 Axes>"
      ]
     },
     "metadata": {},
     "output_type": "display_data"
    }
   ],
   "source": [
    "min_categry_value = 17500\n",
    "print(min_categry_value)\n",
    "major_class1 = df[df['target'] == 0].sample(n=min_categry_value , random_state=98)\n",
    "major_class2 = df[df['target'] == 1].sample(n=min_categry_value , random_state=98)\n",
    "df = pd.concat([major_class1, major_class2] )\n",
    "df = df.sample(frac=1).reset_index(drop=True)\n",
    "sns.countplot(df  , x='target' )\n",
    "plt.show()"
   ]
  },
  {
   "cell_type": "code",
   "execution_count": 102,
   "id": "b6971f8e",
   "metadata": {
    "execution": {
     "iopub.execute_input": "2024-12-20T05:01:01.177731Z",
     "iopub.status.busy": "2024-12-20T05:01:01.176989Z",
     "iopub.status.idle": "2024-12-20T05:01:01.187798Z",
     "shell.execute_reply": "2024-12-20T05:01:01.186736Z"
    },
    "papermill": {
     "duration": 0.047437,
     "end_time": "2024-12-20T05:01:01.190119",
     "exception": false,
     "start_time": "2024-12-20T05:01:01.142682",
     "status": "completed"
    },
    "tags": []
   },
   "outputs": [
    {
     "data": {
      "text/html": [
       "<div>\n",
       "<style scoped>\n",
       "    .dataframe tbody tr th:only-of-type {\n",
       "        vertical-align: middle;\n",
       "    }\n",
       "\n",
       "    .dataframe tbody tr th {\n",
       "        vertical-align: top;\n",
       "    }\n",
       "\n",
       "    .dataframe thead th {\n",
       "        text-align: right;\n",
       "    }\n",
       "</style>\n",
       "<table border=\"1\" class=\"dataframe\">\n",
       "  <thead>\n",
       "    <tr style=\"text-align: right;\">\n",
       "      <th></th>\n",
       "      <th>text</th>\n",
       "      <th>target</th>\n",
       "      <th>text_cleaned</th>\n",
       "    </tr>\n",
       "  </thead>\n",
       "  <tbody>\n",
       "    <tr>\n",
       "      <th>0</th>\n",
       "      <td>دابا كون هي الي خانتووو وسمح ليها غتقولو عليه ...</td>\n",
       "      <td>0</td>\n",
       "      <td>غتقولو بامتياز منافق وسمح خانتو هه ودكور ديوث</td>\n",
       "    </tr>\n",
       "    <tr>\n",
       "      <th>1</th>\n",
       "      <td>أصبح كل من هب و دب يدلو بدلوه. الدين شامل يجمع...</td>\n",
       "      <td>1</td>\n",
       "      <td>عباده يدلو خطيب دب فقه تطرق وسايه بدلوه</td>\n",
       "    </tr>\n",
       "    <tr>\n",
       "      <th>2</th>\n",
       "      <td>قال رسول الله صلي الله عليه وسلم صوت المراه عو...</td>\n",
       "      <td>1</td>\n",
       "      <td>قوه لا بالخروج عديم والمبارزه عوره مراه وسلم</td>\n",
       "    </tr>\n",
       "    <tr>\n",
       "      <th>3</th>\n",
       "      <td>لابزاف صحافة ذيال زبل وهاد لوبية قال ليكم ماتع...</td>\n",
       "      <td>0</td>\n",
       "      <td>لمستو ماتعرفوش سحافه ديال لابزاف زبل لوبيه</td>\n",
       "    </tr>\n",
       "    <tr>\n",
       "      <th>4</th>\n",
       "      <td>صحافة الزبل اذهبي انت وسعد إلى الجحيم اما محسن...</td>\n",
       "      <td>0</td>\n",
       "      <td>فكر كويره وشهيد زبل جحيم ادهب ولقمه بشاحنه فرم...</td>\n",
       "    </tr>\n",
       "  </tbody>\n",
       "</table>\n",
       "</div>"
      ],
      "text/plain": [
       "                                                text target  \\\n",
       "0  دابا كون هي الي خانتووو وسمح ليها غتقولو عليه ...      0   \n",
       "1  أصبح كل من هب و دب يدلو بدلوه. الدين شامل يجمع...      1   \n",
       "2  قال رسول الله صلي الله عليه وسلم صوت المراه عو...      1   \n",
       "3  لابزاف صحافة ذيال زبل وهاد لوبية قال ليكم ماتع...      0   \n",
       "4  صحافة الزبل اذهبي انت وسعد إلى الجحيم اما محسن...      0   \n",
       "\n",
       "                                        text_cleaned  \n",
       "0      غتقولو بامتياز منافق وسمح خانتو هه ودكور ديوث  \n",
       "1            عباده يدلو خطيب دب فقه تطرق وسايه بدلوه  \n",
       "2       قوه لا بالخروج عديم والمبارزه عوره مراه وسلم  \n",
       "3         لمستو ماتعرفوش سحافه ديال لابزاف زبل لوبيه  \n",
       "4  فكر كويره وشهيد زبل جحيم ادهب ولقمه بشاحنه فرم...  "
      ]
     },
     "execution_count": 102,
     "metadata": {},
     "output_type": "execute_result"
    }
   ],
   "source": [
    "df.head()"
   ]
  },
  {
   "cell_type": "code",
   "execution_count": 103,
   "id": "7cb3d6f9",
   "metadata": {
    "execution": {
     "iopub.execute_input": "2024-12-20T05:01:01.263641Z",
     "iopub.status.busy": "2024-12-20T05:01:01.263219Z",
     "iopub.status.idle": "2024-12-20T05:01:01.273973Z",
     "shell.execute_reply": "2024-12-20T05:01:01.272792Z"
    },
    "papermill": {
     "duration": 0.049936,
     "end_time": "2024-12-20T05:01:01.276296",
     "exception": false,
     "start_time": "2024-12-20T05:01:01.226360",
     "status": "completed"
    },
    "tags": []
   },
   "outputs": [
    {
     "data": {
      "text/plain": [
       "target\n",
       "0    17500\n",
       "1    17500\n",
       "Name: count, dtype: int64"
      ]
     },
     "execution_count": 103,
     "metadata": {},
     "output_type": "execute_result"
    }
   ],
   "source": [
    "df['target'].value_counts()"
   ]
  },
  {
   "cell_type": "code",
   "execution_count": 104,
   "id": "f324a723",
   "metadata": {
    "execution": {
     "iopub.execute_input": "2024-12-20T05:01:01.347686Z",
     "iopub.status.busy": "2024-12-20T05:01:01.347281Z",
     "iopub.status.idle": "2024-12-20T05:01:01.352325Z",
     "shell.execute_reply": "2024-12-20T05:01:01.351025Z"
    },
    "papermill": {
     "duration": 0.044177,
     "end_time": "2024-12-20T05:01:01.354526",
     "exception": false,
     "start_time": "2024-12-20T05:01:01.310349",
     "status": "completed"
    },
    "tags": []
   },
   "outputs": [],
   "source": [
    "#df.drop(columns=['text'] , inplace=True)"
   ]
  },
  {
   "cell_type": "code",
   "execution_count": 105,
   "id": "45383afc",
   "metadata": {
    "execution": {
     "iopub.execute_input": "2024-12-20T05:01:01.424006Z",
     "iopub.status.busy": "2024-12-20T05:01:01.423553Z",
     "iopub.status.idle": "2024-12-20T05:01:01.625499Z",
     "shell.execute_reply": "2024-12-20T05:01:01.624380Z"
    },
    "papermill": {
     "duration": 0.239858,
     "end_time": "2024-12-20T05:01:01.628057",
     "exception": false,
     "start_time": "2024-12-20T05:01:01.388199",
     "status": "completed"
    },
    "tags": []
   },
   "outputs": [],
   "source": [
    "df.to_csv(\"/kaggle/working/dataset.csv\", index=False)"
   ]
  },
  {
   "cell_type": "code",
   "execution_count": null,
   "id": "b51f895d",
   "metadata": {
    "papermill": {
     "duration": 0.033975,
     "end_time": "2024-12-20T05:01:01.697367",
     "exception": false,
     "start_time": "2024-12-20T05:01:01.663392",
     "status": "completed"
    },
    "tags": []
   },
   "outputs": [],
   "source": []
  },
  {
   "cell_type": "code",
   "execution_count": null,
   "id": "020aaf81",
   "metadata": {
    "papermill": {
     "duration": 0.033508,
     "end_time": "2024-12-20T05:01:01.764406",
     "exception": false,
     "start_time": "2024-12-20T05:01:01.730898",
     "status": "completed"
    },
    "tags": []
   },
   "outputs": [],
   "source": []
  },
  {
   "cell_type": "code",
   "execution_count": null,
   "id": "25aa4cb9",
   "metadata": {
    "papermill": {
     "duration": 0.034495,
     "end_time": "2024-12-20T05:01:01.833163",
     "exception": false,
     "start_time": "2024-12-20T05:01:01.798668",
     "status": "completed"
    },
    "tags": []
   },
   "outputs": [],
   "source": []
  },
  {
   "cell_type": "code",
   "execution_count": null,
   "id": "87a7cd53",
   "metadata": {
    "papermill": {
     "duration": 0.034528,
     "end_time": "2024-12-20T05:01:01.902073",
     "exception": false,
     "start_time": "2024-12-20T05:01:01.867545",
     "status": "completed"
    },
    "tags": []
   },
   "outputs": [],
   "source": []
  },
  {
   "cell_type": "code",
   "execution_count": null,
   "id": "0d37b99d",
   "metadata": {
    "papermill": {
     "duration": 0.034285,
     "end_time": "2024-12-20T05:01:01.970640",
     "exception": false,
     "start_time": "2024-12-20T05:01:01.936355",
     "status": "completed"
    },
    "tags": []
   },
   "outputs": [],
   "source": []
  },
  {
   "cell_type": "code",
   "execution_count": null,
   "id": "156526ca",
   "metadata": {
    "papermill": {
     "duration": 0.03509,
     "end_time": "2024-12-20T05:01:02.040893",
     "exception": false,
     "start_time": "2024-12-20T05:01:02.005803",
     "status": "completed"
    },
    "tags": []
   },
   "outputs": [],
   "source": []
  },
  {
   "cell_type": "code",
   "execution_count": null,
   "id": "796c89d3",
   "metadata": {
    "papermill": {
     "duration": 0.034336,
     "end_time": "2024-12-20T05:01:02.110165",
     "exception": false,
     "start_time": "2024-12-20T05:01:02.075829",
     "status": "completed"
    },
    "tags": []
   },
   "outputs": [],
   "source": []
  },
  {
   "cell_type": "code",
   "execution_count": null,
   "id": "05ee5e42",
   "metadata": {
    "papermill": {
     "duration": 0.034559,
     "end_time": "2024-12-20T05:01:02.179331",
     "exception": false,
     "start_time": "2024-12-20T05:01:02.144772",
     "status": "completed"
    },
    "tags": []
   },
   "outputs": [],
   "source": []
  },
  {
   "cell_type": "code",
   "execution_count": null,
   "id": "f29b3008",
   "metadata": {
    "papermill": {
     "duration": 0.037578,
     "end_time": "2024-12-20T05:01:02.252042",
     "exception": false,
     "start_time": "2024-12-20T05:01:02.214464",
     "status": "completed"
    },
    "tags": []
   },
   "outputs": [],
   "source": []
  }
 ],
 "metadata": {
  "kaggle": {
   "accelerator": "none",
   "dataSources": [
    {
     "datasetId": 6047175,
     "sourceId": 10210479,
     "sourceType": "datasetVersion"
    }
   ],
   "dockerImageVersionId": 30786,
   "isGpuEnabled": false,
   "isInternetEnabled": true,
   "language": "python",
   "sourceType": "notebook"
  },
  "kernelspec": {
   "display_name": "Python 3",
   "language": "python",
   "name": "python3"
  },
  "language_info": {
   "codemirror_mode": {
    "name": "ipython",
    "version": 3
   },
   "file_extension": ".py",
   "mimetype": "text/x-python",
   "name": "python",
   "nbconvert_exporter": "python",
   "pygments_lexer": "ipython3",
   "version": "3.10.14"
  },
  "papermill": {
   "default_parameters": {},
   "duration": 636.483791,
   "end_time": "2024-12-20T05:01:07.409448",
   "environment_variables": {},
   "exception": null,
   "input_path": "__notebook__.ipynb",
   "output_path": "__notebook__.ipynb",
   "parameters": {},
   "start_time": "2024-12-20T04:50:30.925657",
   "version": "2.6.0"
  },
  "widgets": {
   "application/vnd.jupyter.widget-state+json": {
    "state": {
     "1e174177cedb4ee997190ac82917bba9": {
      "model_module": "@jupyter-widgets/controls",
      "model_module_version": "2.0.0",
      "model_name": "VBoxModel",
      "state": {
       "_dom_classes": [],
       "_model_module": "@jupyter-widgets/controls",
       "_model_module_version": "2.0.0",
       "_model_name": "VBoxModel",
       "_view_count": null,
       "_view_module": "@jupyter-widgets/controls",
       "_view_module_version": "2.0.0",
       "_view_name": "VBoxView",
       "box_style": "",
       "children": [
        "IPY_MODEL_c4cf46b4c12f4d8f857cde24d90cc878",
        "IPY_MODEL_9e7823d99484430d85ba11bf3e38a35e"
       ],
       "layout": "IPY_MODEL_66c473ee29584d91aec157f0f2dd589a",
       "tabbable": null,
       "tooltip": null
      }
     },
     "34adfebe28c5471d9b8275dba006471e": {
      "model_module": "@jupyter-widgets/base",
      "model_module_version": "2.0.0",
      "model_name": "LayoutModel",
      "state": {
       "_model_module": "@jupyter-widgets/base",
       "_model_module_version": "2.0.0",
       "_model_name": "LayoutModel",
       "_view_count": null,
       "_view_module": "@jupyter-widgets/base",
       "_view_module_version": "2.0.0",
       "_view_name": "LayoutView",
       "align_content": null,
       "align_items": null,
       "align_self": null,
       "border_bottom": null,
       "border_left": null,
       "border_right": null,
       "border_top": null,
       "bottom": null,
       "display": null,
       "flex": null,
       "flex_flow": null,
       "grid_area": null,
       "grid_auto_columns": null,
       "grid_auto_flow": null,
       "grid_auto_rows": null,
       "grid_column": null,
       "grid_gap": null,
       "grid_row": null,
       "grid_template_areas": null,
       "grid_template_columns": null,
       "grid_template_rows": null,
       "height": null,
       "justify_content": null,
       "justify_items": null,
       "left": null,
       "margin": "auto 0px 0px 0px",
       "max_height": null,
       "max_width": null,
       "min_height": null,
       "min_width": null,
       "object_fit": null,
       "object_position": null,
       "order": null,
       "overflow": null,
       "padding": null,
       "right": null,
       "top": null,
       "visibility": null,
       "width": null
      }
     },
     "4f90d971456b45baa256ae22a038d14b": {
      "model_module": "@jupyter-widgets/controls",
      "model_module_version": "2.0.0",
      "model_name": "HBoxModel",
      "state": {
       "_dom_classes": [],
       "_model_module": "@jupyter-widgets/controls",
       "_model_module_version": "2.0.0",
       "_model_name": "HBoxModel",
       "_view_count": null,
       "_view_module": "@jupyter-widgets/controls",
       "_view_module_version": "2.0.0",
       "_view_name": "HBoxView",
       "box_style": "",
       "children": [
        "IPY_MODEL_1e174177cedb4ee997190ac82917bba9",
        "IPY_MODEL_6c68e351fd454bdf84c027388b2dfd78"
       ],
       "layout": "IPY_MODEL_662232e20ca54ba29047d1bde7cf4c84",
       "tabbable": null,
       "tooltip": null
      }
     },
     "5b758c6ec8874134adf62496315ed27c": {
      "model_module": "@jupyter-widgets/base",
      "model_module_version": "2.0.0",
      "model_name": "LayoutModel",
      "state": {
       "_model_module": "@jupyter-widgets/base",
       "_model_module_version": "2.0.0",
       "_model_name": "LayoutModel",
       "_view_count": null,
       "_view_module": "@jupyter-widgets/base",
       "_view_module_version": "2.0.0",
       "_view_name": "LayoutView",
       "align_content": null,
       "align_items": null,
       "align_self": null,
       "border_bottom": null,
       "border_left": null,
       "border_right": null,
       "border_top": null,
       "bottom": null,
       "display": null,
       "flex": null,
       "flex_flow": null,
       "grid_area": null,
       "grid_auto_columns": null,
       "grid_auto_flow": null,
       "grid_auto_rows": null,
       "grid_column": null,
       "grid_gap": null,
       "grid_row": null,
       "grid_template_areas": null,
       "grid_template_columns": null,
       "grid_template_rows": null,
       "height": null,
       "justify_content": null,
       "justify_items": null,
       "left": null,
       "margin": null,
       "max_height": null,
       "max_width": null,
       "min_height": null,
       "min_width": null,
       "object_fit": null,
       "object_position": null,
       "order": null,
       "overflow": null,
       "padding": null,
       "right": null,
       "top": null,
       "visibility": null,
       "width": null
      }
     },
     "662232e20ca54ba29047d1bde7cf4c84": {
      "model_module": "@jupyter-widgets/base",
      "model_module_version": "2.0.0",
      "model_name": "LayoutModel",
      "state": {
       "_model_module": "@jupyter-widgets/base",
       "_model_module_version": "2.0.0",
       "_model_name": "LayoutModel",
       "_view_count": null,
       "_view_module": "@jupyter-widgets/base",
       "_view_module_version": "2.0.0",
       "_view_name": "LayoutView",
       "align_content": null,
       "align_items": null,
       "align_self": null,
       "border_bottom": null,
       "border_left": null,
       "border_right": null,
       "border_top": null,
       "bottom": null,
       "display": null,
       "flex": null,
       "flex_flow": null,
       "grid_area": null,
       "grid_auto_columns": null,
       "grid_auto_flow": null,
       "grid_auto_rows": null,
       "grid_column": null,
       "grid_gap": null,
       "grid_row": null,
       "grid_template_areas": null,
       "grid_template_columns": null,
       "grid_template_rows": null,
       "height": null,
       "justify_content": null,
       "justify_items": null,
       "left": null,
       "margin": null,
       "max_height": null,
       "max_width": null,
       "min_height": null,
       "min_width": null,
       "object_fit": null,
       "object_position": null,
       "order": null,
       "overflow": null,
       "padding": null,
       "right": null,
       "top": null,
       "visibility": null,
       "width": "100%"
      }
     },
     "66c473ee29584d91aec157f0f2dd589a": {
      "model_module": "@jupyter-widgets/base",
      "model_module_version": "2.0.0",
      "model_name": "LayoutModel",
      "state": {
       "_model_module": "@jupyter-widgets/base",
       "_model_module_version": "2.0.0",
       "_model_name": "LayoutModel",
       "_view_count": null,
       "_view_module": "@jupyter-widgets/base",
       "_view_module_version": "2.0.0",
       "_view_name": "LayoutView",
       "align_content": null,
       "align_items": null,
       "align_self": null,
       "border_bottom": null,
       "border_left": null,
       "border_right": null,
       "border_top": null,
       "bottom": null,
       "display": null,
       "flex": null,
       "flex_flow": null,
       "grid_area": null,
       "grid_auto_columns": null,
       "grid_auto_flow": null,
       "grid_auto_rows": null,
       "grid_column": null,
       "grid_gap": null,
       "grid_row": null,
       "grid_template_areas": null,
       "grid_template_columns": null,
       "grid_template_rows": null,
       "height": null,
       "justify_content": null,
       "justify_items": null,
       "left": null,
       "margin": null,
       "max_height": null,
       "max_width": null,
       "min_height": null,
       "min_width": null,
       "object_fit": null,
       "object_position": null,
       "order": null,
       "overflow": null,
       "padding": null,
       "right": null,
       "top": null,
       "visibility": null,
       "width": null
      }
     },
     "6c68e351fd454bdf84c027388b2dfd78": {
      "model_module": "@jupyter-widgets/controls",
      "model_module_version": "2.0.0",
      "model_name": "HTMLModel",
      "state": {
       "_dom_classes": [],
       "_model_module": "@jupyter-widgets/controls",
       "_model_module_version": "2.0.0",
       "_model_name": "HTMLModel",
       "_view_count": null,
       "_view_module": "@jupyter-widgets/controls",
       "_view_module_version": "2.0.0",
       "_view_name": "HTMLView",
       "description": "",
       "description_allow_html": false,
       "layout": "IPY_MODEL_5b758c6ec8874134adf62496315ed27c",
       "placeholder": "​",
       "style": "IPY_MODEL_b99510a89ada4a8eadc5989a3082caad",
       "tabbable": null,
       "tooltip": null,
       "value": "<table class=\"jp-RenderedHTMLCommon\" style=\"border-collapse: collapse;color: var(--jp-ui-font-color1);font-size: var(--jp-ui-font-size1);\">\n    <tr>\n        <td style=\"text-align: left\"><b>Python version:</b></td>\n        <td style=\"text-align: left\"><b>3.10.14</b></td>\n    </tr>\n    <tr>\n        <td style=\"text-align: left\"><b>Ray version:</b></td>\n        <td style=\"text-align: left\"><b>2.24.0</b></td>\n    </tr>\n    \n</table>\n"
      }
     },
     "79f10782b05a426aa68ca74599abc974": {
      "model_module": "@jupyter-widgets/base",
      "model_module_version": "2.0.0",
      "model_name": "LayoutModel",
      "state": {
       "_model_module": "@jupyter-widgets/base",
       "_model_module_version": "2.0.0",
       "_model_name": "LayoutModel",
       "_view_count": null,
       "_view_module": "@jupyter-widgets/base",
       "_view_module_version": "2.0.0",
       "_view_name": "LayoutView",
       "align_content": null,
       "align_items": null,
       "align_self": null,
       "border_bottom": null,
       "border_left": null,
       "border_right": null,
       "border_top": null,
       "bottom": null,
       "display": null,
       "flex": null,
       "flex_flow": null,
       "grid_area": null,
       "grid_auto_columns": null,
       "grid_auto_flow": null,
       "grid_auto_rows": null,
       "grid_column": null,
       "grid_gap": null,
       "grid_row": null,
       "grid_template_areas": null,
       "grid_template_columns": null,
       "grid_template_rows": null,
       "height": null,
       "justify_content": null,
       "justify_items": null,
       "left": null,
       "margin": null,
       "max_height": null,
       "max_width": null,
       "min_height": null,
       "min_width": null,
       "object_fit": null,
       "object_position": null,
       "order": null,
       "overflow": null,
       "padding": null,
       "right": null,
       "top": null,
       "visibility": null,
       "width": null
      }
     },
     "9e7823d99484430d85ba11bf3e38a35e": {
      "model_module": "@jupyter-widgets/controls",
      "model_module_version": "2.0.0",
      "model_name": "ButtonModel",
      "state": {
       "_dom_classes": [],
       "_model_module": "@jupyter-widgets/controls",
       "_model_module_version": "2.0.0",
       "_model_name": "ButtonModel",
       "_view_count": null,
       "_view_module": "@jupyter-widgets/controls",
       "_view_module_version": "2.0.0",
       "_view_name": "ButtonView",
       "button_style": "",
       "description": "Disconnect",
       "disabled": false,
       "icon": "",
       "layout": "IPY_MODEL_34adfebe28c5471d9b8275dba006471e",
       "style": "IPY_MODEL_d82bf0602ff94b979d23d785ce345f98",
       "tabbable": null,
       "tooltip": "Disconnect from the Ray cluster"
      }
     },
     "b99510a89ada4a8eadc5989a3082caad": {
      "model_module": "@jupyter-widgets/controls",
      "model_module_version": "2.0.0",
      "model_name": "HTMLStyleModel",
      "state": {
       "_model_module": "@jupyter-widgets/controls",
       "_model_module_version": "2.0.0",
       "_model_name": "HTMLStyleModel",
       "_view_count": null,
       "_view_module": "@jupyter-widgets/base",
       "_view_module_version": "2.0.0",
       "_view_name": "StyleView",
       "background": null,
       "description_width": "",
       "font_size": null,
       "text_color": null
      }
     },
     "c4cf46b4c12f4d8f857cde24d90cc878": {
      "model_module": "@jupyter-widgets/controls",
      "model_module_version": "2.0.0",
      "model_name": "HTMLModel",
      "state": {
       "_dom_classes": [],
       "_model_module": "@jupyter-widgets/controls",
       "_model_module_version": "2.0.0",
       "_model_name": "HTMLModel",
       "_view_count": null,
       "_view_module": "@jupyter-widgets/controls",
       "_view_module_version": "2.0.0",
       "_view_name": "HTMLView",
       "description": "",
       "description_allow_html": false,
       "layout": "IPY_MODEL_79f10782b05a426aa68ca74599abc974",
       "placeholder": "​",
       "style": "IPY_MODEL_f41fa15ef15841238cf4bc281b394ce7",
       "tabbable": null,
       "tooltip": null,
       "value": "<div class=\"jp-RenderedHTMLCommon\" style=\"display: flex; flex-direction: row;\">\n  <svg viewBox=\"0 0 567 224\" fill=\"none\" xmlns=\"http://www.w3.org/2000/svg\" style=\"height: 3em;\">\n    <g clip-path=\"url(#clip0_4338_178347)\">\n        <path d=\"M341.29 165.561H355.29L330.13 129.051C345.63 123.991 354.21 112.051 354.21 94.2307C354.21 71.3707 338.72 58.1807 311.88 58.1807H271V165.561H283.27V131.661H311.8C314.25 131.661 316.71 131.501 319.01 131.351L341.25 165.561H341.29ZM283.29 119.851V70.0007H311.82C331.3 70.0007 342.34 78.2907 342.34 94.5507C342.34 111.271 331.34 119.861 311.82 119.861L283.29 119.851ZM451.4 138.411L463.4 165.561H476.74L428.74 58.1807H416L367.83 165.561H380.83L392.83 138.411H451.4ZM446.19 126.601H398L422 72.1407L446.24 126.601H446.19ZM526.11 128.741L566.91 58.1807H554.35L519.99 114.181L485.17 58.1807H472.44L514.01 129.181V165.541H526.13V128.741H526.11Z\" fill=\"var(--jp-ui-font-color0)\"/>\n        <path d=\"M82.35 104.44C84.0187 97.8827 87.8248 92.0678 93.1671 87.9146C98.5094 83.7614 105.083 81.5067 111.85 81.5067C118.617 81.5067 125.191 83.7614 130.533 87.9146C135.875 92.0678 139.681 97.8827 141.35 104.44H163.75C164.476 101.562 165.622 98.8057 167.15 96.2605L127.45 56.5605C121.071 60.3522 113.526 61.6823 106.235 60.3005C98.9443 58.9187 92.4094 54.9203 87.8602 49.0574C83.3109 43.1946 81.0609 35.8714 81.5332 28.4656C82.0056 21.0599 85.1679 14.0819 90.4252 8.8446C95.6824 3.60726 102.672 0.471508 110.08 0.0272655C117.487 -0.416977 124.802 1.86091 130.647 6.4324C136.493 11.0039 140.467 17.5539 141.821 24.8501C143.175 32.1463 141.816 39.6859 138 46.0505L177.69 85.7505C182.31 82.9877 187.58 81.4995 192.962 81.4375C198.345 81.3755 203.648 82.742 208.33 85.3976C213.012 88.0532 216.907 91.9029 219.616 96.5544C222.326 101.206 223.753 106.492 223.753 111.875C223.753 117.258 222.326 122.545 219.616 127.197C216.907 131.848 213.012 135.698 208.33 138.353C203.648 141.009 198.345 142.375 192.962 142.313C187.58 142.251 182.31 140.763 177.69 138L138 177.7C141.808 184.071 143.155 191.614 141.79 198.91C140.424 206.205 136.44 212.75 130.585 217.313C124.731 221.875 117.412 224.141 110.004 223.683C102.596 223.226 95.6103 220.077 90.3621 214.828C85.1139 209.58 81.9647 202.595 81.5072 195.187C81.0497 187.779 83.3154 180.459 87.878 174.605C92.4405 168.751 98.9853 164.766 106.281 163.401C113.576 162.035 121.119 163.383 127.49 167.19L167.19 127.49C165.664 124.941 164.518 122.182 163.79 119.3H141.39C139.721 125.858 135.915 131.673 130.573 135.826C125.231 139.98 118.657 142.234 111.89 142.234C105.123 142.234 98.5494 139.98 93.2071 135.826C87.8648 131.673 84.0587 125.858 82.39 119.3H60C58.1878 126.495 53.8086 132.78 47.6863 136.971C41.5641 141.163 34.1211 142.972 26.7579 142.059C19.3947 141.146 12.6191 137.574 7.70605 132.014C2.79302 126.454 0.0813599 119.29 0.0813599 111.87C0.0813599 104.451 2.79302 97.2871 7.70605 91.7272C12.6191 86.1673 19.3947 82.5947 26.7579 81.6817C34.1211 80.7686 41.5641 82.5781 47.6863 86.7696C53.8086 90.9611 58.1878 97.2456 60 104.44H82.35ZM100.86 204.32C103.407 206.868 106.759 208.453 110.345 208.806C113.93 209.159 117.527 208.258 120.522 206.256C123.517 204.254 125.725 201.276 126.771 197.828C127.816 194.38 127.633 190.677 126.253 187.349C124.874 184.021 122.383 181.274 119.205 179.577C116.027 177.88 112.359 177.337 108.826 178.042C105.293 178.746 102.113 180.654 99.8291 183.44C97.5451 186.226 96.2979 189.718 96.3 193.32C96.2985 195.364 96.7006 197.388 97.4831 199.275C98.2656 201.163 99.4132 202.877 100.86 204.32ZM204.32 122.88C206.868 120.333 208.453 116.981 208.806 113.396C209.159 109.811 208.258 106.214 206.256 103.219C204.254 100.223 201.275 98.0151 197.827 96.97C194.38 95.9249 190.676 96.1077 187.348 97.4873C184.02 98.8669 181.274 101.358 179.577 104.536C177.879 107.714 177.337 111.382 178.041 114.915C178.746 118.448 180.653 121.627 183.439 123.911C186.226 126.195 189.717 127.443 193.32 127.44C195.364 127.443 197.388 127.042 199.275 126.259C201.163 125.476 202.878 124.328 204.32 122.88ZM122.88 19.4205C120.333 16.8729 116.981 15.2876 113.395 14.9347C109.81 14.5817 106.213 15.483 103.218 17.4849C100.223 19.4868 98.0146 22.4654 96.9696 25.9131C95.9245 29.3608 96.1073 33.0642 97.4869 36.3922C98.8665 39.7202 101.358 42.4668 104.535 44.1639C107.713 45.861 111.381 46.4036 114.914 45.6992C118.447 44.9949 121.627 43.0871 123.911 40.301C126.195 37.515 127.442 34.0231 127.44 30.4205C127.44 28.3772 127.038 26.3539 126.255 24.4664C125.473 22.5788 124.326 20.8642 122.88 19.4205ZM19.42 100.86C16.8725 103.408 15.2872 106.76 14.9342 110.345C14.5813 113.93 15.4826 117.527 17.4844 120.522C19.4863 123.518 22.4649 125.726 25.9127 126.771C29.3604 127.816 33.0638 127.633 36.3918 126.254C39.7198 124.874 42.4664 122.383 44.1635 119.205C45.8606 116.027 46.4032 112.359 45.6988 108.826C44.9944 105.293 43.0866 102.114 40.3006 99.8296C37.5145 97.5455 34.0227 96.2983 30.42 96.3005C26.2938 96.3018 22.337 97.9421 19.42 100.86ZM100.86 100.86C98.3125 103.408 96.7272 106.76 96.3742 110.345C96.0213 113.93 96.9226 117.527 98.9244 120.522C100.926 123.518 103.905 125.726 107.353 126.771C110.8 127.816 114.504 127.633 117.832 126.254C121.16 124.874 123.906 122.383 125.604 119.205C127.301 116.027 127.843 112.359 127.139 108.826C126.434 105.293 124.527 102.114 121.741 99.8296C118.955 97.5455 115.463 96.2983 111.86 96.3005C109.817 96.299 107.793 96.701 105.905 97.4835C104.018 98.2661 102.303 99.4136 100.86 100.86Z\" fill=\"#00AEEF\"/>\n    </g>\n    <defs>\n        <clipPath id=\"clip0_4338_178347\">\n            <rect width=\"566.93\" height=\"223.75\" fill=\"white\"/>\n        </clipPath>\n    </defs>\n  </svg>\n</div>\n"
      }
     },
     "d82bf0602ff94b979d23d785ce345f98": {
      "model_module": "@jupyter-widgets/controls",
      "model_module_version": "2.0.0",
      "model_name": "ButtonStyleModel",
      "state": {
       "_model_module": "@jupyter-widgets/controls",
       "_model_module_version": "2.0.0",
       "_model_name": "ButtonStyleModel",
       "_view_count": null,
       "_view_module": "@jupyter-widgets/base",
       "_view_module_version": "2.0.0",
       "_view_name": "StyleView",
       "button_color": null,
       "font_family": null,
       "font_size": null,
       "font_style": null,
       "font_variant": null,
       "font_weight": null,
       "text_color": null,
       "text_decoration": null
      }
     },
     "f41fa15ef15841238cf4bc281b394ce7": {
      "model_module": "@jupyter-widgets/controls",
      "model_module_version": "2.0.0",
      "model_name": "HTMLStyleModel",
      "state": {
       "_model_module": "@jupyter-widgets/controls",
       "_model_module_version": "2.0.0",
       "_model_name": "HTMLStyleModel",
       "_view_count": null,
       "_view_module": "@jupyter-widgets/base",
       "_view_module_version": "2.0.0",
       "_view_name": "StyleView",
       "background": null,
       "description_width": "",
       "font_size": null,
       "text_color": null
      }
     }
    },
    "version_major": 2,
    "version_minor": 0
   }
  }
 },
 "nbformat": 4,
 "nbformat_minor": 5
}
