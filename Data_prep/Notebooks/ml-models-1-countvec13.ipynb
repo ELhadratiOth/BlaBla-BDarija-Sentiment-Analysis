{
 "cells": [
  {
   "cell_type": "markdown",
   "id": "bd88416b",
   "metadata": {
    "papermill": {
     "duration": 0.013732,
     "end_time": "2024-12-15T13:55:38.195246",
     "exception": false,
     "start_time": "2024-12-15T13:55:38.181514",
     "status": "completed"
    },
    "tags": []
   },
   "source": [
    "# Darija Text Classification using ML Algorithms\n"
   ]
  },
  {
   "cell_type": "markdown",
   "id": "3cab90a5",
   "metadata": {
    "papermill": {
     "duration": 0.01172,
     "end_time": "2024-12-15T13:55:38.218480",
     "exception": false,
     "start_time": "2024-12-15T13:55:38.206760",
     "status": "completed"
    },
    "tags": []
   },
   "source": [
    "## Setup and Data Loading\n",
    "In this section, we:\n",
    "- Import required libraries\n",
    "- Load and prepare our Darija dataset\n",
    "- Set up configuration parameters"
   ]
  },
  {
   "cell_type": "code",
   "execution_count": 1,
   "id": "6bd508b4",
   "metadata": {
    "execution": {
     "iopub.execute_input": "2024-12-15T13:55:38.242854Z",
     "iopub.status.busy": "2024-12-15T13:55:38.242460Z",
     "iopub.status.idle": "2024-12-15T13:55:38.260585Z",
     "shell.execute_reply": "2024-12-15T13:55:38.259016Z"
    },
    "papermill": {
     "duration": 0.033331,
     "end_time": "2024-12-15T13:55:38.263116",
     "exception": false,
     "start_time": "2024-12-15T13:55:38.229785",
     "status": "completed"
    },
    "tags": []
   },
   "outputs": [
    {
     "name": "stdout",
     "output_type": "stream",
     "text": [
      "Current working directory: /kaggle/input/ma-datasets\n",
      "Directory contents: ['suf_pref_darija.json', 'stop_words_accum.json', 'set2.csv', 'set7.csv', 'set5.csv', 'darija_latin_ref.json', 'set4.csv', 'scaped_comments.csv', 'set3.csv', 'cleaned_clustered_data.csv', 'set1.csv']\n"
     ]
    }
   ],
   "source": [
    "import os \n",
    "os.chdir('/kaggle/input/ma-datasets') \n",
    "current_directory = os.getcwd()\n",
    "print(\"Current working directory:\", current_directory)\n",
    "contents = os.listdir()\n",
    "print(\"Directory contents:\", contents)"
   ]
  },
  {
   "cell_type": "code",
   "execution_count": 2,
   "id": "1e08c184",
   "metadata": {
    "execution": {
     "iopub.execute_input": "2024-12-15T13:55:38.288546Z",
     "iopub.status.busy": "2024-12-15T13:55:38.288145Z",
     "iopub.status.idle": "2024-12-15T13:55:53.417295Z",
     "shell.execute_reply": "2024-12-15T13:55:53.415982Z"
    },
    "papermill": {
     "duration": 15.144923,
     "end_time": "2024-12-15T13:55:53.419964",
     "exception": false,
     "start_time": "2024-12-15T13:55:38.275041",
     "status": "completed"
    },
    "tags": []
   },
   "outputs": [
    {
     "name": "stdout",
     "output_type": "stream",
     "text": [
      "Requirement already satisfied: pandas in /opt/conda/lib/python3.10/site-packages (2.2.3)\r\n",
      "Requirement already satisfied: PyArabic in /opt/conda/lib/python3.10/site-packages (0.6.15)\r\n",
      "Collecting Tashaphyne\r\n",
      "  Downloading Tashaphyne-0.3.6-py3-none-any.whl.metadata (18 kB)\r\n",
      "Collecting pydoda\r\n",
      "  Downloading pydoda-1.2.1-py3-none-any.whl.metadata (5.8 kB)\r\n",
      "Collecting Arabic-Stopwords\r\n",
      "  Downloading Arabic_Stopwords-0.4.3-py3-none-any.whl.metadata (8.9 kB)\r\n",
      "Requirement already satisfied: seaborn in /opt/conda/lib/python3.10/site-packages (0.12.2)\r\n",
      "Requirement already satisfied: scikit-learn in /opt/conda/lib/python3.10/site-packages (1.2.2)\r\n",
      "Requirement already satisfied: emoji in /opt/conda/lib/python3.10/site-packages (2.14.0)\r\n",
      "Requirement already satisfied: xgboost in /opt/conda/lib/python3.10/site-packages (2.0.3)\r\n",
      "Requirement already satisfied: lightgbm in /opt/conda/lib/python3.10/site-packages (4.2.0)\r\n",
      "Requirement already satisfied: numpy>=1.22.4 in /opt/conda/lib/python3.10/site-packages (from pandas) (1.26.4)\r\n",
      "Requirement already satisfied: python-dateutil>=2.8.2 in /opt/conda/lib/python3.10/site-packages (from pandas) (2.9.0.post0)\r\n",
      "Requirement already satisfied: pytz>=2020.1 in /opt/conda/lib/python3.10/site-packages (from pandas) (2024.1)\r\n",
      "Requirement already satisfied: tzdata>=2022.7 in /opt/conda/lib/python3.10/site-packages (from pandas) (2024.1)\r\n",
      "Requirement already satisfied: six>=1.14.0 in /opt/conda/lib/python3.10/site-packages (from PyArabic) (1.16.0)\r\n",
      "Requirement already satisfied: matplotlib!=3.6.1,>=3.1 in /opt/conda/lib/python3.10/site-packages (from seaborn) (3.7.5)\r\n",
      "Requirement already satisfied: scipy>=1.3.2 in /opt/conda/lib/python3.10/site-packages (from scikit-learn) (1.14.1)\r\n",
      "Requirement already satisfied: joblib>=1.1.1 in /opt/conda/lib/python3.10/site-packages (from scikit-learn) (1.4.2)\r\n",
      "Requirement already satisfied: threadpoolctl>=2.0.0 in /opt/conda/lib/python3.10/site-packages (from scikit-learn) (3.5.0)\r\n",
      "Requirement already satisfied: contourpy>=1.0.1 in /opt/conda/lib/python3.10/site-packages (from matplotlib!=3.6.1,>=3.1->seaborn) (1.2.1)\r\n",
      "Requirement already satisfied: cycler>=0.10 in /opt/conda/lib/python3.10/site-packages (from matplotlib!=3.6.1,>=3.1->seaborn) (0.12.1)\r\n",
      "Requirement already satisfied: fonttools>=4.22.0 in /opt/conda/lib/python3.10/site-packages (from matplotlib!=3.6.1,>=3.1->seaborn) (4.53.0)\r\n",
      "Requirement already satisfied: kiwisolver>=1.0.1 in /opt/conda/lib/python3.10/site-packages (from matplotlib!=3.6.1,>=3.1->seaborn) (1.4.5)\r\n",
      "Requirement already satisfied: packaging>=20.0 in /opt/conda/lib/python3.10/site-packages (from matplotlib!=3.6.1,>=3.1->seaborn) (21.3)\r\n",
      "Requirement already satisfied: pillow>=6.2.0 in /opt/conda/lib/python3.10/site-packages (from matplotlib!=3.6.1,>=3.1->seaborn) (10.3.0)\r\n",
      "Requirement already satisfied: pyparsing>=2.3.1 in /opt/conda/lib/python3.10/site-packages (from matplotlib!=3.6.1,>=3.1->seaborn) (3.1.2)\r\n",
      "Downloading Tashaphyne-0.3.6-py3-none-any.whl (251 kB)\r\n",
      "\u001b[2K   \u001b[90m━━━━━━━━━━━━━━━━━━━━━━━━━━━━━━━━━━━━━━━━\u001b[0m \u001b[32m251.5/251.5 kB\u001b[0m \u001b[31m6.7 MB/s\u001b[0m eta \u001b[36m0:00:00\u001b[0m\r\n",
      "\u001b[?25hDownloading pydoda-1.2.1-py3-none-any.whl (4.1 MB)\r\n",
      "\u001b[2K   \u001b[90m━━━━━━━━━━━━━━━━━━━━━━━━━━━━━━━━━━━━━━━━\u001b[0m \u001b[32m4.1/4.1 MB\u001b[0m \u001b[31m53.3 MB/s\u001b[0m eta \u001b[36m0:00:00\u001b[0m\r\n",
      "\u001b[?25hDownloading Arabic_Stopwords-0.4.3-py3-none-any.whl (360 kB)\r\n",
      "\u001b[2K   \u001b[90m━━━━━━━━━━━━━━━━━━━━━━━━━━━━━━━━━━━━━━━━\u001b[0m \u001b[32m360.5/360.5 kB\u001b[0m \u001b[31m16.3 MB/s\u001b[0m eta \u001b[36m0:00:00\u001b[0m\r\n",
      "\u001b[?25hInstalling collected packages: Tashaphyne, Arabic-Stopwords, pydoda\r\n",
      "Successfully installed Arabic-Stopwords-0.4.3 Tashaphyne-0.3.6 pydoda-1.2.1\r\n"
     ]
    }
   ],
   "source": [
    "!pip install pandas PyArabic Tashaphyne pydoda Arabic-Stopwords seaborn scikit-learn emoji xgboost lightgbm "
   ]
  },
  {
   "cell_type": "code",
   "execution_count": 3,
   "id": "cafbd1e5",
   "metadata": {
    "execution": {
     "iopub.execute_input": "2024-12-15T13:55:53.448100Z",
     "iopub.status.busy": "2024-12-15T13:55:53.447644Z",
     "iopub.status.idle": "2024-12-15T13:55:56.120328Z",
     "shell.execute_reply": "2024-12-15T13:55:56.119007Z"
    },
    "papermill": {
     "duration": 2.690154,
     "end_time": "2024-12-15T13:55:56.123004",
     "exception": false,
     "start_time": "2024-12-15T13:55:53.432850",
     "status": "completed"
    },
    "tags": []
   },
   "outputs": [],
   "source": [
    "import pandas as pd\n",
    "from sklearn.model_selection import GridSearchCV\n",
    "import re\n",
    "from tashaphyne.stemming import ArabicLightStemmer\n",
    "import json\n",
    "import emoji \n"
   ]
  },
  {
   "cell_type": "code",
   "execution_count": 4,
   "id": "631ee549",
   "metadata": {
    "execution": {
     "iopub.execute_input": "2024-12-15T13:55:56.150734Z",
     "iopub.status.busy": "2024-12-15T13:55:56.150197Z",
     "iopub.status.idle": "2024-12-15T13:55:56.435106Z",
     "shell.execute_reply": "2024-12-15T13:55:56.433961Z"
    },
    "papermill": {
     "duration": 0.301909,
     "end_time": "2024-12-15T13:55:56.437719",
     "exception": false,
     "start_time": "2024-12-15T13:55:56.135810",
     "status": "completed"
    },
    "tags": []
   },
   "outputs": [],
   "source": [
    "df = pd.read_csv(\"/kaggle/input/dataset/dataset (16).csv\")"
   ]
  },
  {
   "cell_type": "markdown",
   "id": "d50c6cc4",
   "metadata": {
    "papermill": {
     "duration": 0.012279,
     "end_time": "2024-12-15T13:55:56.462790",
     "exception": false,
     "start_time": "2024-12-15T13:55:56.450511",
     "status": "completed"
    },
    "tags": []
   },
   "source": [
    "## Data Preprocessing\n",
    "Key preprocessing steps for Darija text:\n",
    "- Text cleaning and normalization\n",
    "- Feature extraction\n",
    "- Train-test split\n"
   ]
  },
  {
   "cell_type": "code",
   "execution_count": 5,
   "id": "c78e9bbc",
   "metadata": {
    "execution": {
     "iopub.execute_input": "2024-12-15T13:55:56.489855Z",
     "iopub.status.busy": "2024-12-15T13:55:56.489460Z",
     "iopub.status.idle": "2024-12-15T13:55:56.499972Z",
     "shell.execute_reply": "2024-12-15T13:55:56.498672Z"
    },
    "papermill": {
     "duration": 0.026387,
     "end_time": "2024-12-15T13:55:56.502079",
     "exception": false,
     "start_time": "2024-12-15T13:55:56.475692",
     "status": "completed"
    },
    "tags": []
   },
   "outputs": [],
   "source": [
    "darija_alphabet = {\n",
    "    \"gh\": \"غ\",\n",
    "    \"sh\": \"ش\",\n",
    "    \"ch\": \"ش\",\n",
    "    \"ss\": \"س\",\n",
    "    \"kh\": \"خ\",\n",
    "    \"ç\": \"س\",\n",
    "    \"ou\": \"و\",    \n",
    "    \"ei\": \"ي\",    \n",
    "    \"ay\": \"ي\",    \n",
    "    \"ae\": \"ي\",   \n",
    "    \"5\": \"خ\",     \n",
    "    \"2\": \"ا\",    \n",
    "    \"b\": \"ب\",\n",
    "    \"t\": \"ت\",\n",
    "    \"j\": \"ج\",\n",
    "    \"7\": \"ح\",\n",
    "    \"d\": \"د\",\n",
    "    \"r\": \"ر\",\n",
    "    \"z\": \"ز\",\n",
    "    \"s\": \"س\",\n",
    "    \"9\": \"ق\",\n",
    "    \"3\": \"ع\",\n",
    "    \"4\": \"غ\",\n",
    "    \"f\": \"ف\",\n",
    "    \"q\": \"ك\",\n",
    "    \"k\": \"ك\",\n",
    "    \"l\": \"ل\",\n",
    "    \"m\": \"م\",\n",
    "    \"n\": \"ن\",\n",
    "    \"h\": \"ه\",\n",
    "    \"w\": \"و\",\n",
    "    \"y\": \"ي\",\n",
    "    \"g\": \"ڭ\",\n",
    "    'i': 'ي',\n",
    "    'ee': 'ي',\n",
    "    'aa': 'ا',\n",
    "    'oo': 'و',\n",
    "    'o': 'و',\n",
    "    \"x\": \"ش\",\n",
    "}\n",
    "word_in = [\n",
    "    \"ء\", \"أ\", \"إ\", \"آ\", \"ؤ\", \"ئ\", \"ة\", \"ى\",\"-\", \"/\", \".\", \"،\", '\"', \"'\", \"\\\\\", \"?\", \"؟\", \"!\", \"،\", \"؛\",\":\",\"#\", \"@\", \"&\", \"=\", \"¥\", \"$\", \"%\", \"*\", \"+\", \"<\", \">\", \"|\", \"~\", \"^\", \n",
    "    \"\\n\", \"\\t\", \"\\r\", \" و\",\"ذ\", \"ظ\", \"ض\", \"ص\",\"(\", \")\", \"[\", \"]\", \"{\", \"}\", \"《\", \"》\", \"«\", \"»\"\n",
    "]\n",
    "\n",
    "replaced_by = [\n",
    "    \"ا\", \"ا\", \"ا\", \"ا\", \"ا\", \"ا\", \"ه\", \"ي\",\" \", \"\", \"\", \"\", \"\", \"\", \"\", \" ? \", \" ؟ \", \" ! \", \"\", \"\", \"\",\n",
    "    \"\", \"\", \"\", \"\", \"\", \"\", \"\", \"\", \"\", \"\", \"\", \"\", \"\", \"\",\" \", \" \", \" \", \"\",\n",
    "    \"د\", \"د\", \"د\", \"س\",\"\", \"\", \"\", \"\", \"\", \"\", \"\", \"\", \"\", \"\"\n",
    "]\n",
    "\n",
    "arabic_alphabet = \"ابتثجحخدذرزسشصضطظعغفقكلمنهوي\""
   ]
  },
  {
   "cell_type": "code",
   "execution_count": 6,
   "id": "b3257baf",
   "metadata": {
    "execution": {
     "iopub.execute_input": "2024-12-15T13:55:56.528654Z",
     "iopub.status.busy": "2024-12-15T13:55:56.528240Z",
     "iopub.status.idle": "2024-12-15T13:55:56.533984Z",
     "shell.execute_reply": "2024-12-15T13:55:56.532800Z"
    },
    "papermill": {
     "duration": 0.021587,
     "end_time": "2024-12-15T13:55:56.536239",
     "exception": false,
     "start_time": "2024-12-15T13:55:56.514652",
     "status": "completed"
    },
    "tags": []
   },
   "outputs": [],
   "source": [
    "from pyarabic.araby import strip_diacritics\n",
    "#remove tashkeel\n",
    "def removing_tashkeel(word): # useed\n",
    "          return strip_diacritics(word)"
   ]
  },
  {
   "cell_type": "code",
   "execution_count": 7,
   "id": "0d090777",
   "metadata": {
    "execution": {
     "iopub.execute_input": "2024-12-15T13:55:56.563353Z",
     "iopub.status.busy": "2024-12-15T13:55:56.562950Z",
     "iopub.status.idle": "2024-12-15T13:55:56.568572Z",
     "shell.execute_reply": "2024-12-15T13:55:56.567205Z"
    },
    "papermill": {
     "duration": 0.022042,
     "end_time": "2024-12-15T13:55:56.570863",
     "exception": false,
     "start_time": "2024-12-15T13:55:56.548821",
     "status": "completed"
    },
    "tags": []
   },
   "outputs": [],
   "source": [
    "from pyarabic.araby import strip_tatweel\n",
    "\n",
    "#remove tatweel l2imdad\n",
    "def removing_tatweel(word): # useed\n",
    "          return strip_tatweel(word)"
   ]
  },
  {
   "cell_type": "code",
   "execution_count": 8,
   "id": "653a8291",
   "metadata": {
    "execution": {
     "iopub.execute_input": "2024-12-15T13:55:56.597385Z",
     "iopub.status.busy": "2024-12-15T13:55:56.597030Z",
     "iopub.status.idle": "2024-12-15T13:55:56.602655Z",
     "shell.execute_reply": "2024-12-15T13:55:56.601604Z"
    },
    "papermill": {
     "duration": 0.021511,
     "end_time": "2024-12-15T13:55:56.604899",
     "exception": false,
     "start_time": "2024-12-15T13:55:56.583388",
     "status": "completed"
    },
    "tags": []
   },
   "outputs": [],
   "source": [
    "from pyarabic.araby import normalize_ligature\n",
    "\n",
    "#remove ligature hamza , alef \n",
    "def removing_ligature(word): # not used \n",
    "          return normalize_ligature(word)"
   ]
  },
  {
   "cell_type": "code",
   "execution_count": 9,
   "id": "aa9a9b5d",
   "metadata": {
    "execution": {
     "iopub.execute_input": "2024-12-15T13:55:56.632376Z",
     "iopub.status.busy": "2024-12-15T13:55:56.630862Z",
     "iopub.status.idle": "2024-12-15T13:55:56.636743Z",
     "shell.execute_reply": "2024-12-15T13:55:56.635640Z"
    },
    "papermill": {
     "duration": 0.021867,
     "end_time": "2024-12-15T13:55:56.639234",
     "exception": false,
     "start_time": "2024-12-15T13:55:56.617367",
     "status": "completed"
    },
    "tags": []
   },
   "outputs": [],
   "source": [
    "# remove underscore\n",
    "def replace_underscore(word): # useed\n",
    "          return word.replace(\"_\", \" \")"
   ]
  },
  {
   "cell_type": "code",
   "execution_count": 10,
   "id": "f668ffcc",
   "metadata": {
    "execution": {
     "iopub.execute_input": "2024-12-15T13:55:56.666358Z",
     "iopub.status.busy": "2024-12-15T13:55:56.665965Z",
     "iopub.status.idle": "2024-12-15T13:55:56.672127Z",
     "shell.execute_reply": "2024-12-15T13:55:56.670610Z"
    },
    "papermill": {
     "duration": 0.022891,
     "end_time": "2024-12-15T13:55:56.674710",
     "exception": false,
     "start_time": "2024-12-15T13:55:56.651819",
     "status": "completed"
    },
    "tags": []
   },
   "outputs": [],
   "source": [
    "import pyarabic.araby as araby\n",
    "\n",
    "# remove hamza ambiguity\n",
    "def remove_ambiguity_hamza(word): # useed\n",
    "          return araby.normalize_hamza(word)"
   ]
  },
  {
   "cell_type": "code",
   "execution_count": 11,
   "id": "c56aa77b",
   "metadata": {
    "execution": {
     "iopub.execute_input": "2024-12-15T13:55:56.701351Z",
     "iopub.status.busy": "2024-12-15T13:55:56.700942Z",
     "iopub.status.idle": "2024-12-15T13:55:56.706184Z",
     "shell.execute_reply": "2024-12-15T13:55:56.705097Z"
    },
    "papermill": {
     "duration": 0.021308,
     "end_time": "2024-12-15T13:55:56.708569",
     "exception": false,
     "start_time": "2024-12-15T13:55:56.687261",
     "status": "completed"
    },
    "tags": []
   },
   "outputs": [],
   "source": [
    "# romove \"AL\"\n",
    "def remove_AL(word): # useed\n",
    "          return re.sub(r'^ال', '', word)"
   ]
  },
  {
   "cell_type": "code",
   "execution_count": 12,
   "id": "218a0de9",
   "metadata": {
    "execution": {
     "iopub.execute_input": "2024-12-15T13:55:56.735308Z",
     "iopub.status.busy": "2024-12-15T13:55:56.734866Z",
     "iopub.status.idle": "2024-12-15T13:55:56.742020Z",
     "shell.execute_reply": "2024-12-15T13:55:56.741017Z"
    },
    "papermill": {
     "duration": 0.023263,
     "end_time": "2024-12-15T13:55:56.744457",
     "exception": false,
     "start_time": "2024-12-15T13:55:56.721194",
     "status": "completed"
    },
    "tags": []
   },
   "outputs": [],
   "source": [
    "# remove repeated characters      \n",
    "def word_remover(word): # useed\n",
    "            if len(word) == 1 or len(word) == 0 or len(word) >= 13:\n",
    "                return \"\"                \n",
    "            else :\n",
    "                # print(word)\n",
    "                for a7rf in arabic_alphabet:\n",
    "                    if a7rf == 'د' or a7rf == 'ه':\n",
    "                        word = re.sub(fr'{a7rf}{{3,}}', a7rf * 2, word).strip()\n",
    "                    else:\n",
    "                        word = re.sub(fr'{a7rf}+', a7rf, word).strip()\n",
    "                # print(word) \n",
    "                for i in range(len(word)):\n",
    "                    if word[i] in word_in:\n",
    "                        index = word_in.index(word[i])\n",
    "                        word = word[:i] + replaced_by[index] + word[i + 1:]\n",
    "\n",
    "                return word\n"
   ]
  },
  {
   "cell_type": "code",
   "execution_count": 13,
   "id": "141c31ab",
   "metadata": {
    "execution": {
     "iopub.execute_input": "2024-12-15T13:55:56.771719Z",
     "iopub.status.busy": "2024-12-15T13:55:56.771228Z",
     "iopub.status.idle": "2024-12-15T13:55:56.776512Z",
     "shell.execute_reply": "2024-12-15T13:55:56.775267Z"
    },
    "papermill": {
     "duration": 0.022072,
     "end_time": "2024-12-15T13:55:56.778886",
     "exception": false,
     "start_time": "2024-12-15T13:55:56.756814",
     "status": "completed"
    },
    "tags": []
   },
   "outputs": [],
   "source": [
    "# remove emails  \n",
    "def remove_url(text): # useed\n",
    "    text = re.sub(r'(https|http)?:\\/\\/(\\w|\\.|\\/|\\?|\\=|\\&|\\%)*\\b',\n",
    "                  '', text, flags=re.MULTILINE)\n",
    "    return text      \n",
    " "
   ]
  },
  {
   "cell_type": "code",
   "execution_count": 14,
   "id": "bc7b7058",
   "metadata": {
    "execution": {
     "iopub.execute_input": "2024-12-15T13:55:56.805762Z",
     "iopub.status.busy": "2024-12-15T13:55:56.805258Z",
     "iopub.status.idle": "2024-12-15T13:55:56.810666Z",
     "shell.execute_reply": "2024-12-15T13:55:56.809586Z"
    },
    "papermill": {
     "duration": 0.021203,
     "end_time": "2024-12-15T13:55:56.812635",
     "exception": false,
     "start_time": "2024-12-15T13:55:56.791432",
     "status": "completed"
    },
    "tags": []
   },
   "outputs": [],
   "source": [
    " # remove emails     \n",
    "def remove_emails(text): # useed\n",
    "    text = re.sub(r'[a-zA-Z0-9._%+-]+@[a-zA-Z0-9.-]+\\.[a-zA-Z]{2,}', '', text, flags=re.MULTILINE)\n",
    "    return text  "
   ]
  },
  {
   "cell_type": "code",
   "execution_count": 15,
   "id": "74b9ad6c",
   "metadata": {
    "execution": {
     "iopub.execute_input": "2024-12-15T13:55:56.840993Z",
     "iopub.status.busy": "2024-12-15T13:55:56.839754Z",
     "iopub.status.idle": "2024-12-15T13:55:56.845451Z",
     "shell.execute_reply": "2024-12-15T13:55:56.844604Z"
    },
    "papermill": {
     "duration": 0.022315,
     "end_time": "2024-12-15T13:55:56.847704",
     "exception": false,
     "start_time": "2024-12-15T13:55:56.825389",
     "status": "completed"
    },
    "tags": []
   },
   "outputs": [],
   "source": [
    "def special_tags_and_ponctuations(text):  # Function to clean special tags\n",
    "    text = re.sub(r'&amp;', '', text) \n",
    "    text = re.sub(r'&quot;', '', text)  \n",
    "    text = re.sub(r'!+', '!', text)\n",
    "    text = re.sub(r'\\?+', '?', text)\n",
    "    text = re.sub(r'\\.+', '.', text)\n",
    "\n",
    "    return text"
   ]
  },
  {
   "cell_type": "code",
   "execution_count": 16,
   "id": "0792ff98",
   "metadata": {
    "execution": {
     "iopub.execute_input": "2024-12-15T13:55:56.875317Z",
     "iopub.status.busy": "2024-12-15T13:55:56.874883Z",
     "iopub.status.idle": "2024-12-15T13:55:56.880384Z",
     "shell.execute_reply": "2024-12-15T13:55:56.879260Z"
    },
    "papermill": {
     "duration": 0.021684,
     "end_time": "2024-12-15T13:55:56.882697",
     "exception": false,
     "start_time": "2024-12-15T13:55:56.861013",
     "status": "completed"
    },
    "tags": []
   },
   "outputs": [],
   "source": [
    "def remove_html_tags(text):\n",
    "    text = re.sub(r'<[^>]+>', '', text)\n",
    "    return text"
   ]
  },
  {
   "cell_type": "code",
   "execution_count": 17,
   "id": "c7c9a237",
   "metadata": {
    "execution": {
     "iopub.execute_input": "2024-12-15T13:55:56.910865Z",
     "iopub.status.busy": "2024-12-15T13:55:56.910508Z",
     "iopub.status.idle": "2024-12-15T13:55:56.916329Z",
     "shell.execute_reply": "2024-12-15T13:55:56.915152Z"
    },
    "papermill": {
     "duration": 0.022444,
     "end_time": "2024-12-15T13:55:56.918660",
     "exception": false,
     "start_time": "2024-12-15T13:55:56.896216",
     "status": "completed"
    },
    "tags": []
   },
   "outputs": [],
   "source": [
    "# hundle emojis\n",
    "def extend_spletting(items):  # helper function to split items\n",
    "    spletting = []\n",
    "    for item in items:\n",
    "        spletting.extend(item.split())\n",
    "    return spletting"
   ]
  },
  {
   "cell_type": "code",
   "execution_count": 18,
   "id": "c21ac875",
   "metadata": {
    "execution": {
     "iopub.execute_input": "2024-12-15T13:55:56.946487Z",
     "iopub.status.busy": "2024-12-15T13:55:56.946102Z",
     "iopub.status.idle": "2024-12-15T13:55:56.952796Z",
     "shell.execute_reply": "2024-12-15T13:55:56.951760Z"
    },
    "papermill": {
     "duration": 0.023595,
     "end_time": "2024-12-15T13:55:56.955379",
     "exception": false,
     "start_time": "2024-12-15T13:55:56.931784",
     "status": "completed"
    },
    "tags": []
   },
   "outputs": [],
   "source": [
    "def emoji_hundler(word):  # helper function to handle emojis\n",
    "    word = emoji.demojize(word, language='ar')\n",
    "    word = replace_underscore(word)[1:-1]\n",
    "    return word"
   ]
  },
  {
   "cell_type": "code",
   "execution_count": 19,
   "id": "b3d4e9ce",
   "metadata": {
    "execution": {
     "iopub.execute_input": "2024-12-15T13:55:56.983004Z",
     "iopub.status.busy": "2024-12-15T13:55:56.982582Z",
     "iopub.status.idle": "2024-12-15T13:55:56.990094Z",
     "shell.execute_reply": "2024-12-15T13:55:56.989010Z"
    },
    "papermill": {
     "duration": 0.024095,
     "end_time": "2024-12-15T13:55:56.992223",
     "exception": false,
     "start_time": "2024-12-15T13:55:56.968128",
     "status": "completed"
    },
    "tags": []
   },
   "outputs": [],
   "source": [
    "def is_an_emoji(word):\n",
    "    emoji_pattern = re.compile(\"[\"  \n",
    "                               u\"\\U0001F680-\\U0001F6FF\"  # transport and map unicods\n",
    "                               u\"\\U0001F1E0-\\U0001F1FF\"  # flags unicods\n",
    "                               \"]+\", flags=re.UNICODE)\n",
    "\n",
    "    if emoji.is_emoji(word):\n",
    "        word = emoji_pattern.sub(r'', word)\n",
    "        return extend_spletting([emoji_hundler(word)])\n",
    "\n",
    "    elif emoji.purely_emoji(word):\n",
    "        data_of_emojis = emoji.distinct_emoji_list(word)\n",
    "        data = [emoji_hundler(emoji_pattern.sub(r'', item)) for item in data_of_emojis]\n",
    "        return extend_spletting(data)\n",
    "\n",
    "    else:\n",
    "        text_only = re.sub(r'[^\\w\\s?!]', '', word)\n",
    "        data_of_emojis = emoji.distinct_emoji_list(word)\n",
    "        emojis = [emoji_hundler(emoji_pattern.sub(r'', item)) for item in data_of_emojis]\n",
    "        \n",
    "        return [text_only] + extend_spletting(emojis)\n"
   ]
  },
  {
   "cell_type": "code",
   "execution_count": 20,
   "id": "e4bc1607",
   "metadata": {
    "execution": {
     "iopub.execute_input": "2024-12-15T13:55:57.020210Z",
     "iopub.status.busy": "2024-12-15T13:55:57.019793Z",
     "iopub.status.idle": "2024-12-15T13:55:57.027386Z",
     "shell.execute_reply": "2024-12-15T13:55:57.025988Z"
    },
    "papermill": {
     "duration": 0.024505,
     "end_time": "2024-12-15T13:55:57.029725",
     "exception": false,
     "start_time": "2024-12-15T13:55:57.005220",
     "status": "completed"
    },
    "tags": []
   },
   "outputs": [],
   "source": [
    "# tramslating darija(latin) to daruja(arabic)\n",
    "def translate_darija_to_arabic(word): # useed\n",
    "    # print(\"test\")\n",
    "    word = word.lower()\n",
    "    if  bool(re.compile(r\"[a-z0-9']+\").search(word)):\n",
    "        arabic_word = \"\"\n",
    "        i = 0\n",
    "        while i < len(word):\n",
    "            # print('sadd')\n",
    "            if i + 1 < len(word) and word[i:i+2] in darija_alphabet: # Check for 2 lettrs\n",
    "                arabic_word += darija_alphabet[word[i:i+2]]\n",
    "                i += 2\n",
    "            elif word[i] in darija_alphabet:\n",
    "                arabic_word += darija_alphabet[word[i]]\n",
    "                i += 1\n",
    "            else:\n",
    "                i += 1\n",
    "        return arabic_word\n",
    "    return word\n",
    "      "
   ]
  },
  {
   "cell_type": "code",
   "execution_count": 21,
   "id": "85d14dc0",
   "metadata": {
    "execution": {
     "iopub.execute_input": "2024-12-15T13:55:57.057949Z",
     "iopub.status.busy": "2024-12-15T13:55:57.057515Z",
     "iopub.status.idle": "2024-12-15T13:55:57.063301Z",
     "shell.execute_reply": "2024-12-15T13:55:57.062126Z"
    },
    "papermill": {
     "duration": 0.022765,
     "end_time": "2024-12-15T13:55:57.065518",
     "exception": false,
     "start_time": "2024-12-15T13:55:57.042753",
     "status": "completed"
    },
    "tags": []
   },
   "outputs": [],
   "source": [
    "# remove  number arabic and latin\n",
    "def number_remov(listy): # useed\n",
    "    number_pattern = re.compile(r'^[0-9\\u0660-\\u0669]+$')\n",
    "    cleaned_list = [item for item in listy if not number_pattern.fullmatch(item)] \n",
    "    return cleaned_list   "
   ]
  },
  {
   "cell_type": "code",
   "execution_count": 22,
   "id": "8f98bfc8",
   "metadata": {
    "execution": {
     "iopub.execute_input": "2024-12-15T13:55:57.092756Z",
     "iopub.status.busy": "2024-12-15T13:55:57.092334Z",
     "iopub.status.idle": "2024-12-15T13:55:57.098871Z",
     "shell.execute_reply": "2024-12-15T13:55:57.097593Z"
    },
    "papermill": {
     "duration": 0.023,
     "end_time": "2024-12-15T13:55:57.101230",
     "exception": false,
     "start_time": "2024-12-15T13:55:57.078230",
     "status": "completed"
    },
    "tags": []
   },
   "outputs": [],
   "source": [
    "#stemming arabic words     \n",
    "def stemming_darija(word):\n",
    "    # file = \"./Data_prep/suf_pref_darija.json\" # local run\n",
    "    file = \"suf_pref_darija.json\" \n",
    "\n",
    "    with open(file, 'r', encoding='utf-8') as json_file:\n",
    "        suf_pref = json.load(json_file)\n",
    "\n",
    "    ArListem = ArabicLightStemmer()\n",
    "    ArListem.set_prefix_list(suf_pref['darija_prefixes'])\n",
    "    ArListem.set_suffix_list(suf_pref['darija_suffixes'])\n",
    "    ArListem.light_stem(word)  \n",
    "    return ArListem.get_stem() "
   ]
  },
  {
   "cell_type": "code",
   "execution_count": 23,
   "id": "be43c768",
   "metadata": {
    "execution": {
     "iopub.execute_input": "2024-12-15T13:55:57.128629Z",
     "iopub.status.busy": "2024-12-15T13:55:57.128141Z",
     "iopub.status.idle": "2024-12-15T13:55:57.133483Z",
     "shell.execute_reply": "2024-12-15T13:55:57.132337Z"
    },
    "papermill": {
     "duration": 0.021565,
     "end_time": "2024-12-15T13:55:57.135593",
     "exception": false,
     "start_time": "2024-12-15T13:55:57.114028",
     "status": "completed"
    },
    "tags": []
   },
   "outputs": [],
   "source": [
    "# \"03:44\"\n",
    "def remove_yt_timers(text):\n",
    "    pattern = r'\\b\\d{1,2}:\\d{2,3}(:\\d{2,3})?\\b'\n",
    "    text = re.sub(pattern, '', text)\n",
    "    return text.strip()"
   ]
  },
  {
   "cell_type": "code",
   "execution_count": 24,
   "id": "357a175e",
   "metadata": {
    "execution": {
     "iopub.execute_input": "2024-12-15T13:55:57.162672Z",
     "iopub.status.busy": "2024-12-15T13:55:57.161757Z",
     "iopub.status.idle": "2024-12-15T13:55:57.167176Z",
     "shell.execute_reply": "2024-12-15T13:55:57.166036Z"
    },
    "papermill": {
     "duration": 0.021136,
     "end_time": "2024-12-15T13:55:57.169241",
     "exception": false,
     "start_time": "2024-12-15T13:55:57.148105",
     "status": "completed"
    },
    "tags": []
   },
   "outputs": [],
   "source": [
    "\n",
    "def preproc_arab_sentence(word): # main function for  arab processing tokens\n",
    "    word = removing_tashkeel(word)\n",
    "    word = removing_tatweel(word)\n",
    "    word = remove_AL(word)\n",
    "    # word = remove_ambiguity_hamza(word)\n",
    "    word = word_remover(word)\n",
    "    return word\n"
   ]
  },
  {
   "cell_type": "code",
   "execution_count": 25,
   "id": "702dd438",
   "metadata": {
    "execution": {
     "iopub.execute_input": "2024-12-15T13:55:57.195549Z",
     "iopub.status.busy": "2024-12-15T13:55:57.195172Z",
     "iopub.status.idle": "2024-12-15T13:55:57.205142Z",
     "shell.execute_reply": "2024-12-15T13:55:57.203993Z"
    },
    "papermill": {
     "duration": 0.026097,
     "end_time": "2024-12-15T13:55:57.207691",
     "exception": false,
     "start_time": "2024-12-15T13:55:57.181594",
     "status": "completed"
    },
    "tags": []
   },
   "outputs": [],
   "source": [
    "from pyarabic.araby import tokenize\n",
    "def tokenize_arab_text(text):\n",
    "            # with open('./Data_prep/stop_words_accum.json', 'r', encoding='utf-8') as file: #  local run \n",
    "            with open('./stop_words_accum.json', 'r', encoding='utf-8') as file:\n",
    "\n",
    "                stop_words = json.load(file)\n",
    "\n",
    "            # with open('./Data_prep/darija_latin_ref.json', 'r', encoding='utf-8') as file: #  local run \n",
    "            with open('./darija_latin_ref.json', 'r', encoding='utf-8') as file:\n",
    "                \n",
    "                darija_latin_ref = json.load(file)\n",
    "          \n",
    "            #print(text)\n",
    "            text = remove_url(text)\n",
    "            text = remove_emails(text)\n",
    "            text = replace_underscore(text)\n",
    "            text = remove_html_tags(text)\n",
    "            text = remove_yt_timers(text)\n",
    "            text = special_tags_and_ponctuations(text)\n",
    "            #tokenization\n",
    "            print(text)\n",
    "            words = tokenize(text)\n",
    "            print(words)\n",
    "            words = [ translate_darija_to_arabic(word) for word in words if word not in darija_latin_ref]\n",
    "            print(words)\n",
    "            words = [is_an_emoji(word) for word in words] \n",
    "            words = [item for sublist in words for item in sublist if item]\n",
    "            words = list(set(words))\n",
    "            print(words)        \n",
    "            words = [word for word in words if word not in stop_words]\n",
    "            print(words)\n",
    "\n",
    "            words = [preproc_arab_sentence(word) for word in words]\n",
    "\n",
    "            # print(words)        \n",
    "            words = [stemming_darija(word) for word in words if word]\n",
    "            words = number_remov(words)\n",
    "\n",
    "\n",
    "            # print(words)\n",
    "            words = ' '.join(words) \n",
    "            return words"
   ]
  },
  {
   "cell_type": "code",
   "execution_count": 26,
   "id": "67bb43f2",
   "metadata": {
    "execution": {
     "iopub.execute_input": "2024-12-15T13:55:57.234600Z",
     "iopub.status.busy": "2024-12-15T13:55:57.234247Z",
     "iopub.status.idle": "2024-12-15T13:55:57.254199Z",
     "shell.execute_reply": "2024-12-15T13:55:57.253025Z"
    },
    "papermill": {
     "duration": 0.03623,
     "end_time": "2024-12-15T13:55:57.256519",
     "exception": false,
     "start_time": "2024-12-15T13:55:57.220289",
     "status": "completed"
    },
    "tags": []
   },
   "outputs": [
    {
     "data": {
      "text/html": [
       "<div>\n",
       "<style scoped>\n",
       "    .dataframe tbody tr th:only-of-type {\n",
       "        vertical-align: middle;\n",
       "    }\n",
       "\n",
       "    .dataframe tbody tr th {\n",
       "        vertical-align: top;\n",
       "    }\n",
       "\n",
       "    .dataframe thead th {\n",
       "        text-align: right;\n",
       "    }\n",
       "</style>\n",
       "<table border=\"1\" class=\"dataframe\">\n",
       "  <thead>\n",
       "    <tr style=\"text-align: right;\">\n",
       "      <th></th>\n",
       "      <th>text</th>\n",
       "      <th>target</th>\n",
       "      <th>text_cleaned</th>\n",
       "    </tr>\n",
       "  </thead>\n",
       "  <tbody>\n",
       "    <tr>\n",
       "      <th>0</th>\n",
       "      <td>مكنفهمش انا علاش بنادم عوض يرض الادي ل لي عملو...</td>\n",
       "      <td>1</td>\n",
       "      <td>لراسو يرد اد كيردو مكنفهمش عملو</td>\n",
       "    </tr>\n",
       "    <tr>\n",
       "      <th>1</th>\n",
       "      <td>ماكين لا محمد السادس لا غيرو الرجا فالله أما ه...</td>\n",
       "      <td>0</td>\n",
       "      <td>لا واكل ماكين غيرو رزق</td>\n",
       "    </tr>\n",
       "    <tr>\n",
       "      <th>2</th>\n",
       "      <td>هادي هي طحن مو .طحنو الشعب وديروه كفتة احسن ما...</td>\n",
       "      <td>0</td>\n",
       "      <td>لبطانه طحن طحنو كفته احسن وديروه دبانه ما</td>\n",
       "    </tr>\n",
       "    <tr>\n",
       "      <th>3</th>\n",
       "      <td>ق.الجنائي الفرنسي كايعاقب فبحال هاد الحالات من...</td>\n",
       "      <td>1</td>\n",
       "      <td>ا اع جناا وتامل والقانون كايعاقب</td>\n",
       "    </tr>\n",
       "    <tr>\n",
       "      <th>4</th>\n",
       "      <td>ااصراحة كائن ثغير نوعا ما نتمى المزىد فى ظل ال...</td>\n",
       "      <td>1</td>\n",
       "      <td>اجديده نتم سد اسراحه ثغير والعافيه ما نوعا مزي...</td>\n",
       "    </tr>\n",
       "  </tbody>\n",
       "</table>\n",
       "</div>"
      ],
      "text/plain": [
       "                                                text  target  \\\n",
       "0  مكنفهمش انا علاش بنادم عوض يرض الادي ل لي عملو...       1   \n",
       "1  ماكين لا محمد السادس لا غيرو الرجا فالله أما ه...       0   \n",
       "2  هادي هي طحن مو .طحنو الشعب وديروه كفتة احسن ما...       0   \n",
       "3  ق.الجنائي الفرنسي كايعاقب فبحال هاد الحالات من...       1   \n",
       "4  ااصراحة كائن ثغير نوعا ما نتمى المزىد فى ظل ال...       1   \n",
       "\n",
       "                                        text_cleaned  \n",
       "0                    لراسو يرد اد كيردو مكنفهمش عملو  \n",
       "1                             لا واكل ماكين غيرو رزق  \n",
       "2          لبطانه طحن طحنو كفته احسن وديروه دبانه ما  \n",
       "3                   ا اع جناا وتامل والقانون كايعاقب  \n",
       "4  اجديده نتم سد اسراحه ثغير والعافيه ما نوعا مزي...  "
      ]
     },
     "execution_count": 26,
     "metadata": {},
     "output_type": "execute_result"
    }
   ],
   "source": [
    "df.head()"
   ]
  },
  {
   "cell_type": "code",
   "execution_count": 27,
   "id": "e487fcf6",
   "metadata": {
    "execution": {
     "iopub.execute_input": "2024-12-15T13:55:57.283894Z",
     "iopub.status.busy": "2024-12-15T13:55:57.283448Z",
     "iopub.status.idle": "2024-12-15T13:55:57.320265Z",
     "shell.execute_reply": "2024-12-15T13:55:57.319009Z"
    },
    "papermill": {
     "duration": 0.053599,
     "end_time": "2024-12-15T13:55:57.323030",
     "exception": false,
     "start_time": "2024-12-15T13:55:57.269431",
     "status": "completed"
    },
    "tags": []
   },
   "outputs": [
    {
     "name": "stdout",
     "output_type": "stream",
     "text": [
      "<class 'pandas.core.frame.DataFrame'>\n",
      "RangeIndex: 30000 entries, 0 to 29999\n",
      "Data columns (total 3 columns):\n",
      " #   Column        Non-Null Count  Dtype \n",
      "---  ------        --------------  ----- \n",
      " 0   text          30000 non-null  object\n",
      " 1   target        30000 non-null  int64 \n",
      " 2   text_cleaned  28978 non-null  object\n",
      "dtypes: int64(1), object(2)\n",
      "memory usage: 703.2+ KB\n"
     ]
    }
   ],
   "source": [
    "df.info()"
   ]
  },
  {
   "cell_type": "code",
   "execution_count": 28,
   "id": "9185f953",
   "metadata": {
    "execution": {
     "iopub.execute_input": "2024-12-15T13:55:57.350599Z",
     "iopub.status.busy": "2024-12-15T13:55:57.350163Z",
     "iopub.status.idle": "2024-12-15T13:55:57.367074Z",
     "shell.execute_reply": "2024-12-15T13:55:57.365881Z"
    },
    "papermill": {
     "duration": 0.033637,
     "end_time": "2024-12-15T13:55:57.369689",
     "exception": false,
     "start_time": "2024-12-15T13:55:57.336052",
     "status": "completed"
    },
    "tags": []
   },
   "outputs": [],
   "source": [
    "df.dropna(inplace=True)"
   ]
  },
  {
   "cell_type": "code",
   "execution_count": 29,
   "id": "bded3ccd",
   "metadata": {
    "execution": {
     "iopub.execute_input": "2024-12-15T13:55:57.398809Z",
     "iopub.status.busy": "2024-12-15T13:55:57.398403Z",
     "iopub.status.idle": "2024-12-15T13:55:57.425097Z",
     "shell.execute_reply": "2024-12-15T13:55:57.423810Z"
    },
    "papermill": {
     "duration": 0.044202,
     "end_time": "2024-12-15T13:55:57.427588",
     "exception": false,
     "start_time": "2024-12-15T13:55:57.383386",
     "status": "completed"
    },
    "tags": []
   },
   "outputs": [],
   "source": [
    "from sklearn.model_selection import train_test_split\n",
    "\n",
    "X_train, X_test, y_train, y_test = train_test_split( df.drop(columns=[\"target\"]),df[\"target\"], test_size=0.2 , stratify=df['target'] ,shuffle=True , random_state=123)"
   ]
  },
  {
   "cell_type": "code",
   "execution_count": 30,
   "id": "329d9135",
   "metadata": {
    "execution": {
     "iopub.execute_input": "2024-12-15T13:55:57.454825Z",
     "iopub.status.busy": "2024-12-15T13:55:57.454342Z",
     "iopub.status.idle": "2024-12-15T13:55:57.465537Z",
     "shell.execute_reply": "2024-12-15T13:55:57.464403Z"
    },
    "papermill": {
     "duration": 0.027586,
     "end_time": "2024-12-15T13:55:57.467940",
     "exception": false,
     "start_time": "2024-12-15T13:55:57.440354",
     "status": "completed"
    },
    "tags": []
   },
   "outputs": [
    {
     "data": {
      "text/plain": [
       "target\n",
       "0    2949\n",
       "1    2847\n",
       "Name: count, dtype: int64"
      ]
     },
     "execution_count": 30,
     "metadata": {},
     "output_type": "execute_result"
    }
   ],
   "source": [
    "y_test.value_counts()"
   ]
  },
  {
   "cell_type": "code",
   "execution_count": 31,
   "id": "e523f649",
   "metadata": {
    "execution": {
     "iopub.execute_input": "2024-12-15T13:55:57.496408Z",
     "iopub.status.busy": "2024-12-15T13:55:57.496031Z",
     "iopub.status.idle": "2024-12-15T13:55:57.503093Z",
     "shell.execute_reply": "2024-12-15T13:55:57.501840Z"
    },
    "papermill": {
     "duration": 0.023529,
     "end_time": "2024-12-15T13:55:57.505390",
     "exception": false,
     "start_time": "2024-12-15T13:55:57.481861",
     "status": "completed"
    },
    "tags": []
   },
   "outputs": [
    {
     "data": {
      "text/plain": [
       "(23182, 2)"
      ]
     },
     "execution_count": 31,
     "metadata": {},
     "output_type": "execute_result"
    }
   ],
   "source": [
    "X_train.shape"
   ]
  },
  {
   "cell_type": "markdown",
   "id": "6966c6ec",
   "metadata": {
    "papermill": {
     "duration": 0.012795,
     "end_time": "2024-12-15T13:55:57.531073",
     "exception": false,
     "start_time": "2024-12-15T13:55:57.518278",
     "status": "completed"
    },
    "tags": []
   },
   "source": [
    "## Useful Function"
   ]
  },
  {
   "cell_type": "code",
   "execution_count": 32,
   "id": "870296ca",
   "metadata": {
    "execution": {
     "iopub.execute_input": "2024-12-15T13:55:57.558359Z",
     "iopub.status.busy": "2024-12-15T13:55:57.557999Z",
     "iopub.status.idle": "2024-12-15T13:55:58.074270Z",
     "shell.execute_reply": "2024-12-15T13:55:58.072883Z"
    },
    "papermill": {
     "duration": 0.532778,
     "end_time": "2024-12-15T13:55:58.076720",
     "exception": false,
     "start_time": "2024-12-15T13:55:57.543942",
     "status": "completed"
    },
    "tags": []
   },
   "outputs": [],
   "source": [
    "import numpy as np\n",
    "from sklearn.metrics import accuracy_score, f1_score, classification_report, confusion_matrix\n",
    "import seaborn as sns\n",
    "import matplotlib.pyplot as plt\n",
    "\n",
    "def about_model(model_name , y_test, y_pred):\n",
    "    print('-------------------> ' + model_name )\n",
    "    accuracy = accuracy_score(y_test, y_pred)\n",
    "    print(f\"Accuracy: {accuracy:.2f}\")\n",
    "    \n",
    "    f1 = f1_score(y_test, y_pred, average=None)\n",
    "    print(\"F1-Score for each class:\")\n",
    "    class_labels = ['Positive', 'Negative']\n",
    "\n",
    "    for i, score in enumerate(f1):\n",
    "        print(f\"{class_labels[i]}: {score:.2f}\")\n",
    "    \n",
    "    print(\"\\nClassification Report:\")\n",
    "    print(classification_report(y_test, y_pred, target_names=class_labels, digits=2))\n",
    "    \n",
    "    conf_matrix = confusion_matrix(y_test, y_pred)\n",
    "    plt.figure(figsize=(8, 6))\n",
    "    sns.heatmap(conf_matrix, annot=True, fmt='d', cmap='Blues', \n",
    "                xticklabels=class_labels,\n",
    "                yticklabels=class_labels)\n",
    "    plt.xlabel(\"Predicted\")\n",
    "    plt.ylabel(\"Actual\")\n",
    "    plt.title(\"Confusion Matrix\")\n",
    "    plt.show()\n"
   ]
  },
  {
   "cell_type": "markdown",
   "id": "1462bbec",
   "metadata": {
    "papermill": {
     "duration": 0.01381,
     "end_time": "2024-12-15T13:55:58.103688",
     "exception": false,
     "start_time": "2024-12-15T13:55:58.089878",
     "status": "completed"
    },
    "tags": []
   },
   "source": [
    "## Feature Engineering\n",
    "Converting text to vectors format:\n",
    "- CountVectorizer (ngram_range=(1, 3))"
   ]
  },
  {
   "cell_type": "code",
   "execution_count": 33,
   "id": "2c846f6b",
   "metadata": {
    "execution": {
     "iopub.execute_input": "2024-12-15T13:55:58.132399Z",
     "iopub.status.busy": "2024-12-15T13:55:58.131831Z",
     "iopub.status.idle": "2024-12-15T13:55:58.137223Z",
     "shell.execute_reply": "2024-12-15T13:55:58.135908Z"
    },
    "papermill": {
     "duration": 0.022297,
     "end_time": "2024-12-15T13:55:58.139598",
     "exception": false,
     "start_time": "2024-12-15T13:55:58.117301",
     "status": "completed"
    },
    "tags": []
   },
   "outputs": [],
   "source": [
    "#from sklearn.feature_extraction.text import TfidfVectorizer\n",
    "\n",
    "\n",
    "#tfidf_vectorizer = TfidfVectorizer(ngram_range=(1, 2))\n",
    "#X_train['text_cleaned'] = X_train['text_cleaned'].astype(str)\n",
    "#X_test['text_cleaned'] = X_test['text_cleaned'].astype(str)\n",
    "\n",
    "#X_train_tfidf = tfidf_vectorizer.fit_transform(X_train['text_cleaned'])\n",
    "#X_test_tfidf = tfidf_vectorizer.transform(X_test['text_cleaned'])\n",
    "\n"
   ]
  },
  {
   "cell_type": "code",
   "execution_count": 34,
   "id": "d6e296c5",
   "metadata": {
    "execution": {
     "iopub.execute_input": "2024-12-15T13:55:58.167653Z",
     "iopub.status.busy": "2024-12-15T13:55:58.167254Z",
     "iopub.status.idle": "2024-12-15T13:56:00.433697Z",
     "shell.execute_reply": "2024-12-15T13:56:00.432633Z"
    },
    "papermill": {
     "duration": 2.283121,
     "end_time": "2024-12-15T13:56:00.436104",
     "exception": false,
     "start_time": "2024-12-15T13:55:58.152983",
     "status": "completed"
    },
    "tags": []
   },
   "outputs": [
    {
     "name": "stdout",
     "output_type": "stream",
     "text": [
      "all tokens:  232799\n",
      "reduced tokens:  232799\n"
     ]
    },
    {
     "name": "stderr",
     "output_type": "stream",
     "text": [
      "/opt/conda/lib/python3.10/site-packages/sklearn/feature_extraction/text.py:1380: UserWarning: Upper case characters found in vocabulary while 'lowercase' is True. These entries will not be matched with any documents\n",
      "  warnings.warn(\n"
     ]
    }
   ],
   "source": [
    "from sklearn.feature_extraction.text import CountVectorizer\n",
    "import numpy as np\n",
    "import pandas as pd\n",
    "\n",
    "\n",
    "tfidf_vectorizer = CountVectorizer(ngram_range=(1, 3))\n",
    "\n",
    "X_train['text_cleaned'] = X_train['text_cleaned'].astype(str)\n",
    "X_test['text_cleaned'] = X_test['text_cleaned'].astype(str)\n",
    "\n",
    "X_train_tfidf = tfidf_vectorizer.fit_transform(X_train['text_cleaned'])\n",
    "X_test_tfidf = tfidf_vectorizer.transform(X_test['text_cleaned'])\n",
    "\n",
    "words = tfidf_vectorizer.get_feature_names_out()\n",
    "print(\"all tokens: \" , len(words))\n",
    "tfidf_scores = np.asarray(X_train_tfidf.sum(axis=0)).flatten()\n",
    "\n",
    "sorted_indices = np.argsort(tfidf_scores)[::-1]\n",
    "\n",
    "cumulative_tfidf = np.cumsum(tfidf_scores[sorted_indices])\n",
    "\n",
    "total_tfidf = cumulative_tfidf[-1]\n",
    "threshold =  total_tfidf\n",
    "\n",
    "cutoff_index = np.where(cumulative_tfidf >= threshold)[0][0]\n",
    "\n",
    "selected_ngrams = words[sorted_indices][:cutoff_index + 1]\n",
    "\n",
    "selected_vocab = selected_ngrams.tolist()\n",
    "print(\"reduced tokens: \"  , len(selected_vocab))\n",
    "\n",
    "tfidf_vectorizer = CountVectorizer(vocabulary=selected_vocab)\n",
    "\n",
    "X_train_tfidf = tfidf_vectorizer.fit_transform(X_train['text_cleaned'])\n",
    "X_test_tfidf = tfidf_vectorizer.transform(X_test['text_cleaned'])\n"
   ]
  },
  {
   "cell_type": "code",
   "execution_count": 35,
   "id": "52e36093",
   "metadata": {
    "execution": {
     "iopub.execute_input": "2024-12-15T13:56:00.464340Z",
     "iopub.status.busy": "2024-12-15T13:56:00.463960Z",
     "iopub.status.idle": "2024-12-15T13:56:00.644624Z",
     "shell.execute_reply": "2024-12-15T13:56:00.643527Z"
    },
    "papermill": {
     "duration": 0.197649,
     "end_time": "2024-12-15T13:56:00.647032",
     "exception": false,
     "start_time": "2024-12-15T13:56:00.449383",
     "status": "completed"
    },
    "tags": []
   },
   "outputs": [
    {
     "data": {
      "text/plain": [
       "array(['لا', 'غير', 'ما', 'هه', 'ماش', 'خير', 'قلب', 'هم', 'سير', 'تفو',\n",
       "       'حمد', 'لم', 'فرح', 'عداله', 'قوه', 'فكر', 'عديم', 'احسن', 'مبروك',\n",
       "       'بدموع', 'سح', 'والو', 'ليس', 'كورو', 'تحيه', 'طحن', 'وفي',\n",
       "       'تنميه', 'حكومه', 'وباا'], dtype=object)"
      ]
     },
     "execution_count": 35,
     "metadata": {},
     "output_type": "execute_result"
    }
   ],
   "source": [
    "tfidf_vectorizer.get_feature_names_out()[:30]"
   ]
  },
  {
   "cell_type": "code",
   "execution_count": 36,
   "id": "390f0944",
   "metadata": {
    "execution": {
     "iopub.execute_input": "2024-12-15T13:56:00.675033Z",
     "iopub.status.busy": "2024-12-15T13:56:00.674580Z",
     "iopub.status.idle": "2024-12-15T13:56:00.837825Z",
     "shell.execute_reply": "2024-12-15T13:56:00.836704Z"
    },
    "papermill": {
     "duration": 0.180029,
     "end_time": "2024-12-15T13:56:00.840275",
     "exception": false,
     "start_time": "2024-12-15T13:56:00.660246",
     "status": "completed"
    },
    "tags": []
   },
   "outputs": [
    {
     "data": {
      "text/plain": [
       "232799"
      ]
     },
     "execution_count": 36,
     "metadata": {},
     "output_type": "execute_result"
    }
   ],
   "source": [
    "len(tfidf_vectorizer.get_feature_names_out())"
   ]
  },
  {
   "cell_type": "markdown",
   "id": "8c0551f0",
   "metadata": {
    "papermill": {
     "duration": 0.013154,
     "end_time": "2024-12-15T13:56:00.867047",
     "exception": false,
     "start_time": "2024-12-15T13:56:00.853893",
     "status": "completed"
    },
    "tags": []
   },
   "source": [
    "## Model Development\n"
   ]
  },
  {
   "cell_type": "markdown",
   "id": "5351c92b",
   "metadata": {
    "papermill": {
     "duration": 0.012946,
     "end_time": "2024-12-15T13:56:00.894187",
     "exception": false,
     "start_time": "2024-12-15T13:56:00.881241",
     "status": "completed"
    },
    "tags": []
   },
   "source": [
    "### Logistic Regression"
   ]
  },
  {
   "cell_type": "code",
   "execution_count": 37,
   "id": "e41a2f46",
   "metadata": {
    "execution": {
     "iopub.execute_input": "2024-12-15T13:56:00.922147Z",
     "iopub.status.busy": "2024-12-15T13:56:00.921749Z",
     "iopub.status.idle": "2024-12-15T13:56:07.441541Z",
     "shell.execute_reply": "2024-12-15T13:56:07.440090Z"
    },
    "papermill": {
     "duration": 6.536661,
     "end_time": "2024-12-15T13:56:07.444083",
     "exception": false,
     "start_time": "2024-12-15T13:56:00.907422",
     "status": "completed"
    },
    "tags": []
   },
   "outputs": [
    {
     "data": {
      "text/html": [
       "<style>#sk-container-id-1 {color: black;background-color: white;}#sk-container-id-1 pre{padding: 0;}#sk-container-id-1 div.sk-toggleable {background-color: white;}#sk-container-id-1 label.sk-toggleable__label {cursor: pointer;display: block;width: 100%;margin-bottom: 0;padding: 0.3em;box-sizing: border-box;text-align: center;}#sk-container-id-1 label.sk-toggleable__label-arrow:before {content: \"▸\";float: left;margin-right: 0.25em;color: #696969;}#sk-container-id-1 label.sk-toggleable__label-arrow:hover:before {color: black;}#sk-container-id-1 div.sk-estimator:hover label.sk-toggleable__label-arrow:before {color: black;}#sk-container-id-1 div.sk-toggleable__content {max-height: 0;max-width: 0;overflow: hidden;text-align: left;background-color: #f0f8ff;}#sk-container-id-1 div.sk-toggleable__content pre {margin: 0.2em;color: black;border-radius: 0.25em;background-color: #f0f8ff;}#sk-container-id-1 input.sk-toggleable__control:checked~div.sk-toggleable__content {max-height: 200px;max-width: 100%;overflow: auto;}#sk-container-id-1 input.sk-toggleable__control:checked~label.sk-toggleable__label-arrow:before {content: \"▾\";}#sk-container-id-1 div.sk-estimator input.sk-toggleable__control:checked~label.sk-toggleable__label {background-color: #d4ebff;}#sk-container-id-1 div.sk-label input.sk-toggleable__control:checked~label.sk-toggleable__label {background-color: #d4ebff;}#sk-container-id-1 input.sk-hidden--visually {border: 0;clip: rect(1px 1px 1px 1px);clip: rect(1px, 1px, 1px, 1px);height: 1px;margin: -1px;overflow: hidden;padding: 0;position: absolute;width: 1px;}#sk-container-id-1 div.sk-estimator {font-family: monospace;background-color: #f0f8ff;border: 1px dotted black;border-radius: 0.25em;box-sizing: border-box;margin-bottom: 0.5em;}#sk-container-id-1 div.sk-estimator:hover {background-color: #d4ebff;}#sk-container-id-1 div.sk-parallel-item::after {content: \"\";width: 100%;border-bottom: 1px solid gray;flex-grow: 1;}#sk-container-id-1 div.sk-label:hover label.sk-toggleable__label {background-color: #d4ebff;}#sk-container-id-1 div.sk-serial::before {content: \"\";position: absolute;border-left: 1px solid gray;box-sizing: border-box;top: 0;bottom: 0;left: 50%;z-index: 0;}#sk-container-id-1 div.sk-serial {display: flex;flex-direction: column;align-items: center;background-color: white;padding-right: 0.2em;padding-left: 0.2em;position: relative;}#sk-container-id-1 div.sk-item {position: relative;z-index: 1;}#sk-container-id-1 div.sk-parallel {display: flex;align-items: stretch;justify-content: center;background-color: white;position: relative;}#sk-container-id-1 div.sk-item::before, #sk-container-id-1 div.sk-parallel-item::before {content: \"\";position: absolute;border-left: 1px solid gray;box-sizing: border-box;top: 0;bottom: 0;left: 50%;z-index: -1;}#sk-container-id-1 div.sk-parallel-item {display: flex;flex-direction: column;z-index: 1;position: relative;background-color: white;}#sk-container-id-1 div.sk-parallel-item:first-child::after {align-self: flex-end;width: 50%;}#sk-container-id-1 div.sk-parallel-item:last-child::after {align-self: flex-start;width: 50%;}#sk-container-id-1 div.sk-parallel-item:only-child::after {width: 0;}#sk-container-id-1 div.sk-dashed-wrapped {border: 1px dashed gray;margin: 0 0.4em 0.5em 0.4em;box-sizing: border-box;padding-bottom: 0.4em;background-color: white;}#sk-container-id-1 div.sk-label label {font-family: monospace;font-weight: bold;display: inline-block;line-height: 1.2em;}#sk-container-id-1 div.sk-label-container {text-align: center;}#sk-container-id-1 div.sk-container {/* jupyter's `normalize.less` sets `[hidden] { display: none; }` but bootstrap.min.css set `[hidden] { display: none !important; }` so we also need the `!important` here to be able to override the default hidden behavior on the sphinx rendered scikit-learn.org. See: https://github.com/scikit-learn/scikit-learn/issues/21755 */display: inline-block !important;position: relative;}#sk-container-id-1 div.sk-text-repr-fallback {display: none;}</style><div id=\"sk-container-id-1\" class=\"sk-top-container\"><div class=\"sk-text-repr-fallback\"><pre>LogisticRegression(max_iter=1000, n_jobs=-1)</pre><b>In a Jupyter environment, please rerun this cell to show the HTML representation or trust the notebook. <br />On GitHub, the HTML representation is unable to render, please try loading this page with nbviewer.org.</b></div><div class=\"sk-container\" hidden><div class=\"sk-item\"><div class=\"sk-estimator sk-toggleable\"><input class=\"sk-toggleable__control sk-hidden--visually\" id=\"sk-estimator-id-1\" type=\"checkbox\" checked><label for=\"sk-estimator-id-1\" class=\"sk-toggleable__label sk-toggleable__label-arrow\">LogisticRegression</label><div class=\"sk-toggleable__content\"><pre>LogisticRegression(max_iter=1000, n_jobs=-1)</pre></div></div></div></div></div>"
      ],
      "text/plain": [
       "LogisticRegression(max_iter=1000, n_jobs=-1)"
      ]
     },
     "execution_count": 37,
     "metadata": {},
     "output_type": "execute_result"
    }
   ],
   "source": [
    "from sklearn.linear_model import LogisticRegression # type: ignore\n",
    "clf = LogisticRegression(max_iter = 1000 ,  n_jobs=-1 )\n",
    "clf.fit(X_train_tfidf, y_train)"
   ]
  },
  {
   "cell_type": "code",
   "execution_count": 38,
   "id": "ef68d70f",
   "metadata": {
    "execution": {
     "iopub.execute_input": "2024-12-15T13:56:07.473677Z",
     "iopub.status.busy": "2024-12-15T13:56:07.473271Z",
     "iopub.status.idle": "2024-12-15T13:56:07.828292Z",
     "shell.execute_reply": "2024-12-15T13:56:07.826998Z"
    },
    "papermill": {
     "duration": 0.372503,
     "end_time": "2024-12-15T13:56:07.830570",
     "exception": false,
     "start_time": "2024-12-15T13:56:07.458067",
     "status": "completed"
    },
    "tags": []
   },
   "outputs": [
    {
     "name": "stdout",
     "output_type": "stream",
     "text": [
      "-------------------> Logistic Regression\n",
      "Accuracy: 0.74\n",
      "F1-Score for each class:\n",
      "Positive: 0.74\n",
      "Negative: 0.75\n",
      "\n",
      "Classification Report:\n",
      "              precision    recall  f1-score   support\n",
      "\n",
      "    Positive       0.77      0.72      0.74      2949\n",
      "    Negative       0.72      0.77      0.75      2847\n",
      "\n",
      "    accuracy                           0.74      5796\n",
      "   macro avg       0.75      0.74      0.74      5796\n",
      "weighted avg       0.75      0.74      0.74      5796\n",
      "\n"
     ]
    },
    {
     "data": {
      "image/png": "[encoded data removed]",
      "text/plain": [
       "<Figure size 800x600 with 2 Axes>"
      ]
     },
     "metadata": {},
     "output_type": "display_data"
    }
   ],
   "source": [
    "y_hat = clf.predict(X_test_tfidf)\n",
    "about_model(\"Logistic Regression\" ,y_test , y_hat)"
   ]
  },
  {
   "cell_type": "markdown",
   "id": "80ff4d07",
   "metadata": {
    "papermill": {
     "duration": 0.013622,
     "end_time": "2024-12-15T13:56:07.858707",
     "exception": false,
     "start_time": "2024-12-15T13:56:07.845085",
     "status": "completed"
    },
    "tags": []
   },
   "source": [
    "### Tuned Logistic Regression"
   ]
  },
  {
   "cell_type": "code",
   "execution_count": 39,
   "id": "45d2dd09",
   "metadata": {
    "execution": {
     "iopub.execute_input": "2024-12-15T13:56:07.888797Z",
     "iopub.status.busy": "2024-12-15T13:56:07.887873Z",
     "iopub.status.idle": "2024-12-15T13:56:07.929135Z",
     "shell.execute_reply": "2024-12-15T13:56:07.927654Z"
    },
    "papermill": {
     "duration": 0.058882,
     "end_time": "2024-12-15T13:56:07.931599",
     "exception": false,
     "start_time": "2024-12-15T13:56:07.872717",
     "status": "completed"
    },
    "tags": []
   },
   "outputs": [
    {
     "name": "stdout",
     "output_type": "stream",
     "text": [
      "\n",
      "[]\n",
      "[]\n",
      "[]\n",
      "[]\n",
      "\n"
     ]
    },
    {
     "data": {
      "text/plain": [
       "array([1])"
      ]
     },
     "execution_count": 39,
     "metadata": {},
     "output_type": "execute_result"
    }
   ],
   "source": [
    "text = tokenize_arab_text('')\n",
    "print(text)\n",
    "\n",
    "if isinstance(text, str):\n",
    "    text = [text]  \n",
    "\n",
    "text_vectorized = tfidf_vectorizer.transform(text)  \n",
    "text_vectorized = text_vectorized.reshape(1, -1)  \n",
    "clf.predict(text_vectorized)\n"
   ]
  },
  {
   "cell_type": "code",
   "execution_count": 40,
   "id": "1321928b",
   "metadata": {
    "execution": {
     "iopub.execute_input": "2024-12-15T13:56:07.964346Z",
     "iopub.status.busy": "2024-12-15T13:56:07.963539Z",
     "iopub.status.idle": "2024-12-15T20:34:28.890202Z",
     "shell.execute_reply": "2024-12-15T20:34:28.888801Z"
    },
    "papermill": {
     "duration": 23900.960665,
     "end_time": "2024-12-15T20:34:28.907307",
     "exception": false,
     "start_time": "2024-12-15T13:56:07.946642",
     "status": "completed"
    },
    "tags": []
   },
   "outputs": [
    {
     "name": "stdout",
     "output_type": "stream",
     "text": [
      "Fitting 5 folds for each of 12 candidates, totalling 60 fits\n"
     ]
    },
    {
     "name": "stderr",
     "output_type": "stream",
     "text": [
      "/opt/conda/lib/python3.10/site-packages/sklearn/linear_model/_sag.py:350: ConvergenceWarning: The max_iter was reached which means the coef_ did not converge\n",
      "  warnings.warn(\n"
     ]
    },
    {
     "data": {
      "text/plain": [
       "{'C': 1.0, 'penalty': 'l2', 'solver': 'saga'}"
      ]
     },
     "execution_count": 40,
     "metadata": {},
     "output_type": "execute_result"
    }
   ],
   "source": [
    "# Logistic Regression\n",
    "param_grid_ = {\n",
    "    'C': [1e-5, 1e-3, 1e-1, 1e0, 1e1, 1e2],  \n",
    "    'penalty': ['l1', 'l2'],                \n",
    "    'solver': ['saga'],                     \n",
    "}\n",
    "\n",
    "clf_grid = GridSearchCV(\n",
    "    estimator=LogisticRegression(max_iter=5000, n_jobs=-1),\n",
    "    param_grid=param_grid_,\n",
    "    cv=5,\n",
    "    verbose=1,\n",
    "    scoring='accuracy',\n",
    "    n_jobs=-1\n",
    ")\n",
    "\n",
    "clf_grid.fit(X_train_tfidf, y_train)\n",
    "clf_grid.best_params_\n"
   ]
  },
  {
   "cell_type": "code",
   "execution_count": 41,
   "id": "198c4b66",
   "metadata": {
    "execution": {
     "iopub.execute_input": "2024-12-15T20:34:28.939022Z",
     "iopub.status.busy": "2024-12-15T20:34:28.938630Z",
     "iopub.status.idle": "2024-12-15T20:34:29.252535Z",
     "shell.execute_reply": "2024-12-15T20:34:29.251263Z"
    },
    "papermill": {
     "duration": 0.332577,
     "end_time": "2024-12-15T20:34:29.254643",
     "exception": false,
     "start_time": "2024-12-15T20:34:28.922066",
     "status": "completed"
    },
    "tags": []
   },
   "outputs": [
    {
     "name": "stdout",
     "output_type": "stream",
     "text": [
      "-------------------> Tuned Logistic Regression\n",
      "Accuracy: 0.74\n",
      "F1-Score for each class:\n",
      "Positive: 0.74\n",
      "Negative: 0.75\n",
      "\n",
      "Classification Report:\n",
      "              precision    recall  f1-score   support\n",
      "\n",
      "    Positive       0.77      0.72      0.74      2949\n",
      "    Negative       0.72      0.77      0.75      2847\n",
      "\n",
      "    accuracy                           0.74      5796\n",
      "   macro avg       0.75      0.74      0.74      5796\n",
      "weighted avg       0.75      0.74      0.74      5796\n",
      "\n"
     ]
    },
    {
     "data": {
      "image/png": "[encoded data removed]",
      "text/plain": [
       "<Figure size 800x600 with 2 Axes>"
      ]
     },
     "metadata": {},
     "output_type": "display_data"
    }
   ],
   "source": [
    "y_hat = clf_grid.predict(X_test_tfidf)\n",
    "about_model(\"Tuned Logistic Regression\" , y_test , y_hat)"
   ]
  },
  {
   "cell_type": "markdown",
   "id": "7dc0c571",
   "metadata": {
    "papermill": {
     "duration": 0.014467,
     "end_time": "2024-12-15T20:34:29.284567",
     "exception": false,
     "start_time": "2024-12-15T20:34:29.270100",
     "status": "completed"
    },
    "tags": []
   },
   "source": [
    "## XGBoost"
   ]
  },
  {
   "cell_type": "code",
   "execution_count": 42,
   "id": "01bca37a",
   "metadata": {
    "execution": {
     "iopub.execute_input": "2024-12-15T20:34:29.316088Z",
     "iopub.status.busy": "2024-12-15T20:34:29.315655Z",
     "iopub.status.idle": "2024-12-15T20:34:41.828842Z",
     "shell.execute_reply": "2024-12-15T20:34:41.828021Z"
    },
    "papermill": {
     "duration": 12.531217,
     "end_time": "2024-12-15T20:34:41.830701",
     "exception": false,
     "start_time": "2024-12-15T20:34:29.299484",
     "status": "completed"
    },
    "tags": []
   },
   "outputs": [
    {
     "data": {
      "text/html": [
       "<style>#sk-container-id-2 {color: black;background-color: white;}#sk-container-id-2 pre{padding: 0;}#sk-container-id-2 div.sk-toggleable {background-color: white;}#sk-container-id-2 label.sk-toggleable__label {cursor: pointer;display: block;width: 100%;margin-bottom: 0;padding: 0.3em;box-sizing: border-box;text-align: center;}#sk-container-id-2 label.sk-toggleable__label-arrow:before {content: \"▸\";float: left;margin-right: 0.25em;color: #696969;}#sk-container-id-2 label.sk-toggleable__label-arrow:hover:before {color: black;}#sk-container-id-2 div.sk-estimator:hover label.sk-toggleable__label-arrow:before {color: black;}#sk-container-id-2 div.sk-toggleable__content {max-height: 0;max-width: 0;overflow: hidden;text-align: left;background-color: #f0f8ff;}#sk-container-id-2 div.sk-toggleable__content pre {margin: 0.2em;color: black;border-radius: 0.25em;background-color: #f0f8ff;}#sk-container-id-2 input.sk-toggleable__control:checked~div.sk-toggleable__content {max-height: 200px;max-width: 100%;overflow: auto;}#sk-container-id-2 input.sk-toggleable__control:checked~label.sk-toggleable__label-arrow:before {content: \"▾\";}#sk-container-id-2 div.sk-estimator input.sk-toggleable__control:checked~label.sk-toggleable__label {background-color: #d4ebff;}#sk-container-id-2 div.sk-label input.sk-toggleable__control:checked~label.sk-toggleable__label {background-color: #d4ebff;}#sk-container-id-2 input.sk-hidden--visually {border: 0;clip: rect(1px 1px 1px 1px);clip: rect(1px, 1px, 1px, 1px);height: 1px;margin: -1px;overflow: hidden;padding: 0;position: absolute;width: 1px;}#sk-container-id-2 div.sk-estimator {font-family: monospace;background-color: #f0f8ff;border: 1px dotted black;border-radius: 0.25em;box-sizing: border-box;margin-bottom: 0.5em;}#sk-container-id-2 div.sk-estimator:hover {background-color: #d4ebff;}#sk-container-id-2 div.sk-parallel-item::after {content: \"\";width: 100%;border-bottom: 1px solid gray;flex-grow: 1;}#sk-container-id-2 div.sk-label:hover label.sk-toggleable__label {background-color: #d4ebff;}#sk-container-id-2 div.sk-serial::before {content: \"\";position: absolute;border-left: 1px solid gray;box-sizing: border-box;top: 0;bottom: 0;left: 50%;z-index: 0;}#sk-container-id-2 div.sk-serial {display: flex;flex-direction: column;align-items: center;background-color: white;padding-right: 0.2em;padding-left: 0.2em;position: relative;}#sk-container-id-2 div.sk-item {position: relative;z-index: 1;}#sk-container-id-2 div.sk-parallel {display: flex;align-items: stretch;justify-content: center;background-color: white;position: relative;}#sk-container-id-2 div.sk-item::before, #sk-container-id-2 div.sk-parallel-item::before {content: \"\";position: absolute;border-left: 1px solid gray;box-sizing: border-box;top: 0;bottom: 0;left: 50%;z-index: -1;}#sk-container-id-2 div.sk-parallel-item {display: flex;flex-direction: column;z-index: 1;position: relative;background-color: white;}#sk-container-id-2 div.sk-parallel-item:first-child::after {align-self: flex-end;width: 50%;}#sk-container-id-2 div.sk-parallel-item:last-child::after {align-self: flex-start;width: 50%;}#sk-container-id-2 div.sk-parallel-item:only-child::after {width: 0;}#sk-container-id-2 div.sk-dashed-wrapped {border: 1px dashed gray;margin: 0 0.4em 0.5em 0.4em;box-sizing: border-box;padding-bottom: 0.4em;background-color: white;}#sk-container-id-2 div.sk-label label {font-family: monospace;font-weight: bold;display: inline-block;line-height: 1.2em;}#sk-container-id-2 div.sk-label-container {text-align: center;}#sk-container-id-2 div.sk-container {/* jupyter's `normalize.less` sets `[hidden] { display: none; }` but bootstrap.min.css set `[hidden] { display: none !important; }` so we also need the `!important` here to be able to override the default hidden behavior on the sphinx rendered scikit-learn.org. See: https://github.com/scikit-learn/scikit-learn/issues/21755 */display: inline-block !important;position: relative;}#sk-container-id-2 div.sk-text-repr-fallback {display: none;}</style><div id=\"sk-container-id-2\" class=\"sk-top-container\"><div class=\"sk-text-repr-fallback\"><pre>XGBClassifier(base_score=None, booster=None, callbacks=None,\n",
       "              colsample_bylevel=None, colsample_bynode=None,\n",
       "              colsample_bytree=None, device=None, early_stopping_rounds=None,\n",
       "              enable_categorical=False, eval_metric=None, feature_types=None,\n",
       "              gamma=None, grow_policy=None, importance_type=None,\n",
       "              interaction_constraints=None, learning_rate=None, max_bin=None,\n",
       "              max_cat_threshold=None, max_cat_to_onehot=None,\n",
       "              max_delta_step=None, max_depth=None, max_leaves=None,\n",
       "              min_child_weight=None, missing=nan, monotone_constraints=None,\n",
       "              multi_strategy=None, n_estimators=None, n_jobs=None,\n",
       "              num_parallel_tree=None, random_state=None, ...)</pre><b>In a Jupyter environment, please rerun this cell to show the HTML representation or trust the notebook. <br />On GitHub, the HTML representation is unable to render, please try loading this page with nbviewer.org.</b></div><div class=\"sk-container\" hidden><div class=\"sk-item\"><div class=\"sk-estimator sk-toggleable\"><input class=\"sk-toggleable__control sk-hidden--visually\" id=\"sk-estimator-id-2\" type=\"checkbox\" checked><label for=\"sk-estimator-id-2\" class=\"sk-toggleable__label sk-toggleable__label-arrow\">XGBClassifier</label><div class=\"sk-toggleable__content\"><pre>XGBClassifier(base_score=None, booster=None, callbacks=None,\n",
       "              colsample_bylevel=None, colsample_bynode=None,\n",
       "              colsample_bytree=None, device=None, early_stopping_rounds=None,\n",
       "              enable_categorical=False, eval_metric=None, feature_types=None,\n",
       "              gamma=None, grow_policy=None, importance_type=None,\n",
       "              interaction_constraints=None, learning_rate=None, max_bin=None,\n",
       "              max_cat_threshold=None, max_cat_to_onehot=None,\n",
       "              max_delta_step=None, max_depth=None, max_leaves=None,\n",
       "              min_child_weight=None, missing=nan, monotone_constraints=None,\n",
       "              multi_strategy=None, n_estimators=None, n_jobs=None,\n",
       "              num_parallel_tree=None, random_state=None, ...)</pre></div></div></div></div></div>"
      ],
      "text/plain": [
       "XGBClassifier(base_score=None, booster=None, callbacks=None,\n",
       "              colsample_bylevel=None, colsample_bynode=None,\n",
       "              colsample_bytree=None, device=None, early_stopping_rounds=None,\n",
       "              enable_categorical=False, eval_metric=None, feature_types=None,\n",
       "              gamma=None, grow_policy=None, importance_type=None,\n",
       "              interaction_constraints=None, learning_rate=None, max_bin=None,\n",
       "              max_cat_threshold=None, max_cat_to_onehot=None,\n",
       "              max_delta_step=None, max_depth=None, max_leaves=None,\n",
       "              min_child_weight=None, missing=nan, monotone_constraints=None,\n",
       "              multi_strategy=None, n_estimators=None, n_jobs=None,\n",
       "              num_parallel_tree=None, random_state=None, ...)"
      ]
     },
     "execution_count": 42,
     "metadata": {},
     "output_type": "execute_result"
    }
   ],
   "source": [
    "from xgboost import XGBClassifier\n",
    "from sklearn.model_selection import GridSearchCV\n",
    "\n",
    "xgb = XGBClassifier()\n",
    "\n",
    "xgb.fit(X_train_tfidf, y_train)"
   ]
  },
  {
   "cell_type": "code",
   "execution_count": 43,
   "id": "7fc5ec7f",
   "metadata": {
    "execution": {
     "iopub.execute_input": "2024-12-15T20:34:41.863680Z",
     "iopub.status.busy": "2024-12-15T20:34:41.862737Z",
     "iopub.status.idle": "2024-12-15T20:34:42.497192Z",
     "shell.execute_reply": "2024-12-15T20:34:42.495968Z"
    },
    "papermill": {
     "duration": 0.653301,
     "end_time": "2024-12-15T20:34:42.499463",
     "exception": false,
     "start_time": "2024-12-15T20:34:41.846162",
     "status": "completed"
    },
    "tags": []
   },
   "outputs": [
    {
     "name": "stdout",
     "output_type": "stream",
     "text": [
      "-------------------> XGBoost\n",
      "Accuracy: 0.68\n",
      "F1-Score for each class:\n",
      "Positive: 0.62\n",
      "Negative: 0.72\n",
      "\n",
      "Classification Report:\n",
      "              precision    recall  f1-score   support\n",
      "\n",
      "    Positive       0.79      0.51      0.62      2949\n",
      "    Negative       0.63      0.86      0.72      2847\n",
      "\n",
      "    accuracy                           0.68      5796\n",
      "   macro avg       0.71      0.68      0.67      5796\n",
      "weighted avg       0.71      0.68      0.67      5796\n",
      "\n"
     ]
    },
    {
     "data": {
      "image/png": "[encoded data removed]",
      "text/plain": [
       "<Figure size 800x600 with 2 Axes>"
      ]
     },
     "metadata": {},
     "output_type": "display_data"
    }
   ],
   "source": [
    "y_hat = xgb.predict(X_test_tfidf)\n",
    "about_model(\"XGBoost\" , y_test, y_hat) "
   ]
  },
  {
   "cell_type": "markdown",
   "id": "1607d93d",
   "metadata": {
    "papermill": {
     "duration": 0.015572,
     "end_time": "2024-12-15T20:34:42.531538",
     "exception": false,
     "start_time": "2024-12-15T20:34:42.515966",
     "status": "completed"
    },
    "tags": []
   },
   "source": [
    "### Tuned XGBoost"
   ]
  },
  {
   "cell_type": "code",
   "execution_count": 44,
   "id": "0c3527ab",
   "metadata": {
    "execution": {
     "iopub.execute_input": "2024-12-15T20:34:42.565672Z",
     "iopub.status.busy": "2024-12-15T20:34:42.565254Z",
     "iopub.status.idle": "2024-12-15T22:15:54.159174Z",
     "shell.execute_reply": "2024-12-15T22:15:54.157669Z"
    },
    "papermill": {
     "duration": 6071.630703,
     "end_time": "2024-12-15T22:15:54.178153",
     "exception": false,
     "start_time": "2024-12-15T20:34:42.547450",
     "status": "completed"
    },
    "tags": []
   },
   "outputs": [
    {
     "name": "stdout",
     "output_type": "stream",
     "text": [
      "Fitting 5 folds for each of 54 candidates, totalling 270 fits\n"
     ]
    },
    {
     "data": {
      "text/plain": [
       "{'learning_rate': 0.3, 'max_depth': 10, 'n_estimators': 300, 'subsample': 1.0}"
      ]
     },
     "execution_count": 44,
     "metadata": {},
     "output_type": "execute_result"
    }
   ],
   "source": [
    "#XGBoost\n",
    "param_grid_ = {\n",
    "    'n_estimators': [100, 200, 300],                \n",
    "    'max_depth': [3, 7, 10],                     \n",
    "    'learning_rate': [0.01, 0.1, 0.3],              \n",
    "    'subsample': [0.7, 1.0],                   \n",
    "}\n",
    "\n",
    "xgb_grid = GridSearchCV(\n",
    "    estimator=XGBClassifier(      \n",
    "    ),\n",
    "    param_grid=param_grid_,\n",
    "    cv=5,                         \n",
    "    verbose=1,                    \n",
    "    scoring='accuracy'  , \n",
    "    n_jobs=-1,\n",
    ")\n",
    "\n",
    "xgb_grid.fit(X_train_tfidf, y_train)\n",
    "xgb_grid.best_params_"
   ]
  },
  {
   "cell_type": "code",
   "execution_count": 45,
   "id": "c73c5926",
   "metadata": {
    "execution": {
     "iopub.execute_input": "2024-12-15T22:15:54.212860Z",
     "iopub.status.busy": "2024-12-15T22:15:54.212436Z",
     "iopub.status.idle": "2024-12-15T22:15:54.697434Z",
     "shell.execute_reply": "2024-12-15T22:15:54.696212Z"
    },
    "papermill": {
     "duration": 0.505286,
     "end_time": "2024-12-15T22:15:54.699810",
     "exception": false,
     "start_time": "2024-12-15T22:15:54.194524",
     "status": "completed"
    },
    "tags": []
   },
   "outputs": [
    {
     "name": "stdout",
     "output_type": "stream",
     "text": [
      "-------------------> Tuned XGBoost\n",
      "Accuracy: 0.72\n",
      "F1-Score for each class:\n",
      "Positive: 0.69\n",
      "Negative: 0.74\n",
      "\n",
      "Classification Report:\n",
      "              precision    recall  f1-score   support\n",
      "\n",
      "    Positive       0.78      0.62      0.69      2949\n",
      "    Negative       0.68      0.82      0.74      2847\n",
      "\n",
      "    accuracy                           0.72      5796\n",
      "   macro avg       0.73      0.72      0.72      5796\n",
      "weighted avg       0.73      0.72      0.72      5796\n",
      "\n"
     ]
    },
    {
     "data": {
      "image/png": "[encoded data removed]",
      "text/plain": [
       "<Figure size 800x600 with 2 Axes>"
      ]
     },
     "metadata": {},
     "output_type": "display_data"
    }
   ],
   "source": [
    "y_hat = xgb_grid.predict(X_test_tfidf) \n",
    "about_model(\"Tuned XGBoost\" , y_test, y_hat)\n"
   ]
  },
  {
   "cell_type": "markdown",
   "id": "6c3a4bcc",
   "metadata": {
    "papermill": {
     "duration": 0.016463,
     "end_time": "2024-12-15T22:15:54.733204",
     "exception": false,
     "start_time": "2024-12-15T22:15:54.716741",
     "status": "completed"
    },
    "tags": []
   },
   "source": [
    "### Decision Tree"
   ]
  },
  {
   "cell_type": "code",
   "execution_count": 46,
   "id": "485acbbc",
   "metadata": {
    "execution": {
     "iopub.execute_input": "2024-12-15T22:15:54.770583Z",
     "iopub.status.busy": "2024-12-15T22:15:54.770189Z",
     "iopub.status.idle": "2024-12-15T22:17:12.340604Z",
     "shell.execute_reply": "2024-12-15T22:17:12.339275Z"
    },
    "papermill": {
     "duration": 77.609013,
     "end_time": "2024-12-15T22:17:12.358784",
     "exception": false,
     "start_time": "2024-12-15T22:15:54.749771",
     "status": "completed"
    },
    "tags": []
   },
   "outputs": [
    {
     "data": {
      "text/html": [
       "<style>#sk-container-id-3 {color: black;background-color: white;}#sk-container-id-3 pre{padding: 0;}#sk-container-id-3 div.sk-toggleable {background-color: white;}#sk-container-id-3 label.sk-toggleable__label {cursor: pointer;display: block;width: 100%;margin-bottom: 0;padding: 0.3em;box-sizing: border-box;text-align: center;}#sk-container-id-3 label.sk-toggleable__label-arrow:before {content: \"▸\";float: left;margin-right: 0.25em;color: #696969;}#sk-container-id-3 label.sk-toggleable__label-arrow:hover:before {color: black;}#sk-container-id-3 div.sk-estimator:hover label.sk-toggleable__label-arrow:before {color: black;}#sk-container-id-3 div.sk-toggleable__content {max-height: 0;max-width: 0;overflow: hidden;text-align: left;background-color: #f0f8ff;}#sk-container-id-3 div.sk-toggleable__content pre {margin: 0.2em;color: black;border-radius: 0.25em;background-color: #f0f8ff;}#sk-container-id-3 input.sk-toggleable__control:checked~div.sk-toggleable__content {max-height: 200px;max-width: 100%;overflow: auto;}#sk-container-id-3 input.sk-toggleable__control:checked~label.sk-toggleable__label-arrow:before {content: \"▾\";}#sk-container-id-3 div.sk-estimator input.sk-toggleable__control:checked~label.sk-toggleable__label {background-color: #d4ebff;}#sk-container-id-3 div.sk-label input.sk-toggleable__control:checked~label.sk-toggleable__label {background-color: #d4ebff;}#sk-container-id-3 input.sk-hidden--visually {border: 0;clip: rect(1px 1px 1px 1px);clip: rect(1px, 1px, 1px, 1px);height: 1px;margin: -1px;overflow: hidden;padding: 0;position: absolute;width: 1px;}#sk-container-id-3 div.sk-estimator {font-family: monospace;background-color: #f0f8ff;border: 1px dotted black;border-radius: 0.25em;box-sizing: border-box;margin-bottom: 0.5em;}#sk-container-id-3 div.sk-estimator:hover {background-color: #d4ebff;}#sk-container-id-3 div.sk-parallel-item::after {content: \"\";width: 100%;border-bottom: 1px solid gray;flex-grow: 1;}#sk-container-id-3 div.sk-label:hover label.sk-toggleable__label {background-color: #d4ebff;}#sk-container-id-3 div.sk-serial::before {content: \"\";position: absolute;border-left: 1px solid gray;box-sizing: border-box;top: 0;bottom: 0;left: 50%;z-index: 0;}#sk-container-id-3 div.sk-serial {display: flex;flex-direction: column;align-items: center;background-color: white;padding-right: 0.2em;padding-left: 0.2em;position: relative;}#sk-container-id-3 div.sk-item {position: relative;z-index: 1;}#sk-container-id-3 div.sk-parallel {display: flex;align-items: stretch;justify-content: center;background-color: white;position: relative;}#sk-container-id-3 div.sk-item::before, #sk-container-id-3 div.sk-parallel-item::before {content: \"\";position: absolute;border-left: 1px solid gray;box-sizing: border-box;top: 0;bottom: 0;left: 50%;z-index: -1;}#sk-container-id-3 div.sk-parallel-item {display: flex;flex-direction: column;z-index: 1;position: relative;background-color: white;}#sk-container-id-3 div.sk-parallel-item:first-child::after {align-self: flex-end;width: 50%;}#sk-container-id-3 div.sk-parallel-item:last-child::after {align-self: flex-start;width: 50%;}#sk-container-id-3 div.sk-parallel-item:only-child::after {width: 0;}#sk-container-id-3 div.sk-dashed-wrapped {border: 1px dashed gray;margin: 0 0.4em 0.5em 0.4em;box-sizing: border-box;padding-bottom: 0.4em;background-color: white;}#sk-container-id-3 div.sk-label label {font-family: monospace;font-weight: bold;display: inline-block;line-height: 1.2em;}#sk-container-id-3 div.sk-label-container {text-align: center;}#sk-container-id-3 div.sk-container {/* jupyter's `normalize.less` sets `[hidden] { display: none; }` but bootstrap.min.css set `[hidden] { display: none !important; }` so we also need the `!important` here to be able to override the default hidden behavior on the sphinx rendered scikit-learn.org. See: https://github.com/scikit-learn/scikit-learn/issues/21755 */display: inline-block !important;position: relative;}#sk-container-id-3 div.sk-text-repr-fallback {display: none;}</style><div id=\"sk-container-id-3\" class=\"sk-top-container\"><div class=\"sk-text-repr-fallback\"><pre>DecisionTreeClassifier()</pre><b>In a Jupyter environment, please rerun this cell to show the HTML representation or trust the notebook. <br />On GitHub, the HTML representation is unable to render, please try loading this page with nbviewer.org.</b></div><div class=\"sk-container\" hidden><div class=\"sk-item\"><div class=\"sk-estimator sk-toggleable\"><input class=\"sk-toggleable__control sk-hidden--visually\" id=\"sk-estimator-id-3\" type=\"checkbox\" checked><label for=\"sk-estimator-id-3\" class=\"sk-toggleable__label sk-toggleable__label-arrow\">DecisionTreeClassifier</label><div class=\"sk-toggleable__content\"><pre>DecisionTreeClassifier()</pre></div></div></div></div></div>"
      ],
      "text/plain": [
       "DecisionTreeClassifier()"
      ]
     },
     "execution_count": 46,
     "metadata": {},
     "output_type": "execute_result"
    }
   ],
   "source": [
    "from sklearn.tree import DecisionTreeClassifier\n",
    "\n",
    "decision_tress_clf = DecisionTreeClassifier()\n",
    "decision_tress_clf.fit(X_train_tfidf, y_train)"
   ]
  },
  {
   "cell_type": "code",
   "execution_count": 47,
   "id": "fadbf6ad",
   "metadata": {
    "execution": {
     "iopub.execute_input": "2024-12-15T22:17:12.399264Z",
     "iopub.status.busy": "2024-12-15T22:17:12.398795Z",
     "iopub.status.idle": "2024-12-15T22:17:12.769700Z",
     "shell.execute_reply": "2024-12-15T22:17:12.767944Z"
    },
    "papermill": {
     "duration": 0.394761,
     "end_time": "2024-12-15T22:17:12.772430",
     "exception": false,
     "start_time": "2024-12-15T22:17:12.377669",
     "status": "completed"
    },
    "tags": []
   },
   "outputs": [
    {
     "name": "stdout",
     "output_type": "stream",
     "text": [
      "-------------------> Decision Tree\n",
      "Accuracy: 0.70\n",
      "F1-Score for each class:\n",
      "Positive: 0.67\n",
      "Negative: 0.72\n",
      "\n",
      "Classification Report:\n",
      "              precision    recall  f1-score   support\n",
      "\n",
      "    Positive       0.75      0.61      0.67      2949\n",
      "    Negative       0.66      0.79      0.72      2847\n",
      "\n",
      "    accuracy                           0.70      5796\n",
      "   macro avg       0.71      0.70      0.70      5796\n",
      "weighted avg       0.71      0.70      0.70      5796\n",
      "\n"
     ]
    },
    {
     "data": {
      "image/png": "[encoded data removed]",
      "text/plain": [
       "<Figure size 800x600 with 2 Axes>"
      ]
     },
     "metadata": {},
     "output_type": "display_data"
    }
   ],
   "source": [
    "y_hat = decision_tress_clf.predict(X_test_tfidf) \n",
    "about_model(\"Decision Tree\" , y_test, y_hat)"
   ]
  },
  {
   "cell_type": "markdown",
   "id": "953c60cc",
   "metadata": {
    "papermill": {
     "duration": 0.02045,
     "end_time": "2024-12-15T22:17:12.811151",
     "exception": false,
     "start_time": "2024-12-15T22:17:12.790701",
     "status": "completed"
    },
    "tags": []
   },
   "source": [
    "### Tuned Decision Tree"
   ]
  },
  {
   "cell_type": "code",
   "execution_count": 48,
   "id": "8e10c564",
   "metadata": {
    "execution": {
     "iopub.execute_input": "2024-12-15T22:17:12.853413Z",
     "iopub.status.busy": "2024-12-15T22:17:12.852497Z",
     "iopub.status.idle": "2024-12-15T23:07:10.738498Z",
     "shell.execute_reply": "2024-12-15T23:07:10.737442Z"
    },
    "papermill": {
     "duration": 2997.927274,
     "end_time": "2024-12-15T23:07:10.758364",
     "exception": false,
     "start_time": "2024-12-15T22:17:12.831090",
     "status": "completed"
    },
    "tags": []
   },
   "outputs": [
    {
     "name": "stdout",
     "output_type": "stream",
     "text": [
      "Fitting 5 folds for each of 144 candidates, totalling 720 fits\n"
     ]
    },
    {
     "data": {
      "text/plain": [
       "{'criterion': 'gini',\n",
       " 'max_depth': None,\n",
       " 'min_samples_leaf': 1,\n",
       " 'min_samples_split': 10,\n",
       " 'splitter': 'random'}"
      ]
     },
     "execution_count": 48,
     "metadata": {},
     "output_type": "execute_result"
    }
   ],
   "source": [
    "param_grid_ = {\n",
    "    'max_depth': [3, 5, 10, None],  \n",
    "    'min_samples_split': [2, 5, 10],  \n",
    "    'min_samples_leaf': [1, 2, 4], \n",
    "    'criterion': ['gini', 'entropy'], \n",
    "    'splitter': ['best', 'random'],  \n",
    "}\n",
    "\n",
    "decision_tress_grid= GridSearchCV(\n",
    "    estimator=DecisionTreeClassifier(),\n",
    "    param_grid=param_grid_,\n",
    "    cv=5, \n",
    "    verbose=1,  \n",
    "    scoring='accuracy' ,\n",
    "    n_jobs=-1\n",
    ")\n",
    "decision_tress_grid.fit(X_train_tfidf, y_train)\n",
    "decision_tress_grid.best_params_\n"
   ]
  },
  {
   "cell_type": "code",
   "execution_count": 49,
   "id": "91583d7f",
   "metadata": {
    "execution": {
     "iopub.execute_input": "2024-12-15T23:07:10.795643Z",
     "iopub.status.busy": "2024-12-15T23:07:10.795272Z",
     "iopub.status.idle": "2024-12-15T23:07:11.140937Z",
     "shell.execute_reply": "2024-12-15T23:07:11.139623Z"
    },
    "papermill": {
     "duration": 0.367394,
     "end_time": "2024-12-15T23:07:11.143279",
     "exception": false,
     "start_time": "2024-12-15T23:07:10.775885",
     "status": "completed"
    },
    "tags": []
   },
   "outputs": [
    {
     "name": "stdout",
     "output_type": "stream",
     "text": [
      "-------------------> Tuned Decision Tree\n",
      "Accuracy: 0.70\n",
      "F1-Score for each class:\n",
      "Positive: 0.68\n",
      "Negative: 0.72\n",
      "\n",
      "Classification Report:\n",
      "              precision    recall  f1-score   support\n",
      "\n",
      "    Positive       0.75      0.62      0.68      2949\n",
      "    Negative       0.67      0.79      0.72      2847\n",
      "\n",
      "    accuracy                           0.70      5796\n",
      "   macro avg       0.71      0.70      0.70      5796\n",
      "weighted avg       0.71      0.70      0.70      5796\n",
      "\n"
     ]
    },
    {
     "data": {
      "image/png": "[encoded data removed]",
      "text/plain": [
       "<Figure size 800x600 with 2 Axes>"
      ]
     },
     "metadata": {},
     "output_type": "display_data"
    }
   ],
   "source": [
    "y_hat = decision_tress_grid.predict(X_test_tfidf)\n",
    "about_model(\"Tuned Decision Tree\" , y_test, y_hat)"
   ]
  },
  {
   "cell_type": "markdown",
   "id": "0cd5453e",
   "metadata": {
    "papermill": {
     "duration": 0.017796,
     "end_time": "2024-12-15T23:07:11.179476",
     "exception": false,
     "start_time": "2024-12-15T23:07:11.161680",
     "status": "completed"
    },
    "tags": []
   },
   "source": [
    "Multinomial Naive Bayes"
   ]
  },
  {
   "cell_type": "code",
   "execution_count": 50,
   "id": "10c12794",
   "metadata": {
    "execution": {
     "iopub.execute_input": "2024-12-15T23:07:11.218010Z",
     "iopub.status.busy": "2024-12-15T23:07:11.217581Z",
     "iopub.status.idle": "2024-12-15T23:07:11.243408Z",
     "shell.execute_reply": "2024-12-15T23:07:11.241957Z"
    },
    "papermill": {
     "duration": 0.048401,
     "end_time": "2024-12-15T23:07:11.245903",
     "exception": false,
     "start_time": "2024-12-15T23:07:11.197502",
     "status": "completed"
    },
    "tags": []
   },
   "outputs": [
    {
     "data": {
      "text/html": [
       "<style>#sk-container-id-4 {color: black;background-color: white;}#sk-container-id-4 pre{padding: 0;}#sk-container-id-4 div.sk-toggleable {background-color: white;}#sk-container-id-4 label.sk-toggleable__label {cursor: pointer;display: block;width: 100%;margin-bottom: 0;padding: 0.3em;box-sizing: border-box;text-align: center;}#sk-container-id-4 label.sk-toggleable__label-arrow:before {content: \"▸\";float: left;margin-right: 0.25em;color: #696969;}#sk-container-id-4 label.sk-toggleable__label-arrow:hover:before {color: black;}#sk-container-id-4 div.sk-estimator:hover label.sk-toggleable__label-arrow:before {color: black;}#sk-container-id-4 div.sk-toggleable__content {max-height: 0;max-width: 0;overflow: hidden;text-align: left;background-color: #f0f8ff;}#sk-container-id-4 div.sk-toggleable__content pre {margin: 0.2em;color: black;border-radius: 0.25em;background-color: #f0f8ff;}#sk-container-id-4 input.sk-toggleable__control:checked~div.sk-toggleable__content {max-height: 200px;max-width: 100%;overflow: auto;}#sk-container-id-4 input.sk-toggleable__control:checked~label.sk-toggleable__label-arrow:before {content: \"▾\";}#sk-container-id-4 div.sk-estimator input.sk-toggleable__control:checked~label.sk-toggleable__label {background-color: #d4ebff;}#sk-container-id-4 div.sk-label input.sk-toggleable__control:checked~label.sk-toggleable__label {background-color: #d4ebff;}#sk-container-id-4 input.sk-hidden--visually {border: 0;clip: rect(1px 1px 1px 1px);clip: rect(1px, 1px, 1px, 1px);height: 1px;margin: -1px;overflow: hidden;padding: 0;position: absolute;width: 1px;}#sk-container-id-4 div.sk-estimator {font-family: monospace;background-color: #f0f8ff;border: 1px dotted black;border-radius: 0.25em;box-sizing: border-box;margin-bottom: 0.5em;}#sk-container-id-4 div.sk-estimator:hover {background-color: #d4ebff;}#sk-container-id-4 div.sk-parallel-item::after {content: \"\";width: 100%;border-bottom: 1px solid gray;flex-grow: 1;}#sk-container-id-4 div.sk-label:hover label.sk-toggleable__label {background-color: #d4ebff;}#sk-container-id-4 div.sk-serial::before {content: \"\";position: absolute;border-left: 1px solid gray;box-sizing: border-box;top: 0;bottom: 0;left: 50%;z-index: 0;}#sk-container-id-4 div.sk-serial {display: flex;flex-direction: column;align-items: center;background-color: white;padding-right: 0.2em;padding-left: 0.2em;position: relative;}#sk-container-id-4 div.sk-item {position: relative;z-index: 1;}#sk-container-id-4 div.sk-parallel {display: flex;align-items: stretch;justify-content: center;background-color: white;position: relative;}#sk-container-id-4 div.sk-item::before, #sk-container-id-4 div.sk-parallel-item::before {content: \"\";position: absolute;border-left: 1px solid gray;box-sizing: border-box;top: 0;bottom: 0;left: 50%;z-index: -1;}#sk-container-id-4 div.sk-parallel-item {display: flex;flex-direction: column;z-index: 1;position: relative;background-color: white;}#sk-container-id-4 div.sk-parallel-item:first-child::after {align-self: flex-end;width: 50%;}#sk-container-id-4 div.sk-parallel-item:last-child::after {align-self: flex-start;width: 50%;}#sk-container-id-4 div.sk-parallel-item:only-child::after {width: 0;}#sk-container-id-4 div.sk-dashed-wrapped {border: 1px dashed gray;margin: 0 0.4em 0.5em 0.4em;box-sizing: border-box;padding-bottom: 0.4em;background-color: white;}#sk-container-id-4 div.sk-label label {font-family: monospace;font-weight: bold;display: inline-block;line-height: 1.2em;}#sk-container-id-4 div.sk-label-container {text-align: center;}#sk-container-id-4 div.sk-container {/* jupyter's `normalize.less` sets `[hidden] { display: none; }` but bootstrap.min.css set `[hidden] { display: none !important; }` so we also need the `!important` here to be able to override the default hidden behavior on the sphinx rendered scikit-learn.org. See: https://github.com/scikit-learn/scikit-learn/issues/21755 */display: inline-block !important;position: relative;}#sk-container-id-4 div.sk-text-repr-fallback {display: none;}</style><div id=\"sk-container-id-4\" class=\"sk-top-container\"><div class=\"sk-text-repr-fallback\"><pre>MultinomialNB()</pre><b>In a Jupyter environment, please rerun this cell to show the HTML representation or trust the notebook. <br />On GitHub, the HTML representation is unable to render, please try loading this page with nbviewer.org.</b></div><div class=\"sk-container\" hidden><div class=\"sk-item\"><div class=\"sk-estimator sk-toggleable\"><input class=\"sk-toggleable__control sk-hidden--visually\" id=\"sk-estimator-id-4\" type=\"checkbox\" checked><label for=\"sk-estimator-id-4\" class=\"sk-toggleable__label sk-toggleable__label-arrow\">MultinomialNB</label><div class=\"sk-toggleable__content\"><pre>MultinomialNB()</pre></div></div></div></div></div>"
      ],
      "text/plain": [
       "MultinomialNB()"
      ]
     },
     "execution_count": 50,
     "metadata": {},
     "output_type": "execute_result"
    }
   ],
   "source": [
    "from sklearn.naive_bayes import MultinomialNB\n",
    "multinomial_clf = MultinomialNB()\n",
    "multinomial_clf.fit(X_train_tfidf, y_train)"
   ]
  },
  {
   "cell_type": "code",
   "execution_count": 51,
   "id": "f56ef06b",
   "metadata": {
    "execution": {
     "iopub.execute_input": "2024-12-15T23:07:11.284852Z",
     "iopub.status.busy": "2024-12-15T23:07:11.284483Z",
     "iopub.status.idle": "2024-12-15T23:07:11.586939Z",
     "shell.execute_reply": "2024-12-15T23:07:11.585816Z"
    },
    "papermill": {
     "duration": 0.324471,
     "end_time": "2024-12-15T23:07:11.589129",
     "exception": false,
     "start_time": "2024-12-15T23:07:11.264658",
     "status": "completed"
    },
    "tags": []
   },
   "outputs": [
    {
     "name": "stdout",
     "output_type": "stream",
     "text": [
      "-------------------> Multinomial Naive Bayes\n",
      "Accuracy: 0.75\n",
      "F1-Score for each class:\n",
      "Positive: 0.77\n",
      "Negative: 0.72\n",
      "\n",
      "Classification Report:\n",
      "              precision    recall  f1-score   support\n",
      "\n",
      "    Positive       0.71      0.84      0.77      2949\n",
      "    Negative       0.80      0.65      0.72      2847\n",
      "\n",
      "    accuracy                           0.75      5796\n",
      "   macro avg       0.76      0.75      0.74      5796\n",
      "weighted avg       0.76      0.75      0.75      5796\n",
      "\n"
     ]
    },
    {
     "data": {
      "image/png": "[encoded data removed]",
      "text/plain": [
       "<Figure size 800x600 with 2 Axes>"
      ]
     },
     "metadata": {},
     "output_type": "display_data"
    }
   ],
   "source": [
    "y_hat = multinomial_clf.predict(X_test_tfidf) \n",
    "about_model(\"Multinomial Naive Bayes\" , y_test, y_hat)"
   ]
  },
  {
   "cell_type": "markdown",
   "id": "bb44e785",
   "metadata": {
    "papermill": {
     "duration": 0.018843,
     "end_time": "2024-12-15T23:07:11.690534",
     "exception": false,
     "start_time": "2024-12-15T23:07:11.671691",
     "status": "completed"
    },
    "tags": []
   },
   "source": [
    "### Tuned Multinomial Naive Bayes"
   ]
  },
  {
   "cell_type": "code",
   "execution_count": 52,
   "id": "e045f80b",
   "metadata": {
    "execution": {
     "iopub.execute_input": "2024-12-15T23:07:11.730289Z",
     "iopub.status.busy": "2024-12-15T23:07:11.729858Z",
     "iopub.status.idle": "2024-12-15T23:07:12.151107Z",
     "shell.execute_reply": "2024-12-15T23:07:12.149983Z"
    },
    "papermill": {
     "duration": 0.443835,
     "end_time": "2024-12-15T23:07:12.153376",
     "exception": false,
     "start_time": "2024-12-15T23:07:11.709541",
     "status": "completed"
    },
    "tags": []
   },
   "outputs": [
    {
     "name": "stdout",
     "output_type": "stream",
     "text": [
      "Fitting 5 folds for each of 8 candidates, totalling 40 fits\n"
     ]
    },
    {
     "data": {
      "text/plain": [
       "{'alpha': 2.0, 'fit_prior': False}"
      ]
     },
     "execution_count": 52,
     "metadata": {},
     "output_type": "execute_result"
    }
   ],
   "source": [
    "param_grid_ = {\n",
    "    'alpha': [0.1, 0.5, 1.0, 2.0],  \n",
    "    'fit_prior': [True, False] \n",
    "}\n",
    "\n",
    "mn_grid = GridSearchCV(MultinomialNB(), \n",
    "                       param_grid= param_grid_, \n",
    "                       cv=5, verbose=1 , \n",
    "                       scoring='accuracy',\n",
    "                       n_jobs=-1,\n",
    "                      )\n",
    "mn_grid.fit(X_train_tfidf, y_train)\n",
    "mn_grid.best_params_"
   ]
  },
  {
   "cell_type": "code",
   "execution_count": 53,
   "id": "7a921f88",
   "metadata": {
    "execution": {
     "iopub.execute_input": "2024-12-15T23:07:12.194234Z",
     "iopub.status.busy": "2024-12-15T23:07:12.193822Z",
     "iopub.status.idle": "2024-12-15T23:07:12.501176Z",
     "shell.execute_reply": "2024-12-15T23:07:12.500066Z"
    },
    "papermill": {
     "duration": 0.330328,
     "end_time": "2024-12-15T23:07:12.503295",
     "exception": false,
     "start_time": "2024-12-15T23:07:12.172967",
     "status": "completed"
    },
    "tags": []
   },
   "outputs": [
    {
     "name": "stdout",
     "output_type": "stream",
     "text": [
      "-------------------> Tuned Multinomial Naive Bayes\n",
      "Accuracy: 0.75\n",
      "F1-Score for each class:\n",
      "Positive: 0.77\n",
      "Negative: 0.72\n",
      "\n",
      "Classification Report:\n",
      "              precision    recall  f1-score   support\n",
      "\n",
      "    Positive       0.71      0.85      0.77      2949\n",
      "    Negative       0.80      0.65      0.72      2847\n",
      "\n",
      "    accuracy                           0.75      5796\n",
      "   macro avg       0.76      0.75      0.74      5796\n",
      "weighted avg       0.76      0.75      0.74      5796\n",
      "\n"
     ]
    },
    {
     "data": {
      "image/png": "[encoded data removed]",
      "text/plain": [
       "<Figure size 800x600 with 2 Axes>"
      ]
     },
     "metadata": {},
     "output_type": "display_data"
    }
   ],
   "source": [
    "y_hat = mn_grid.predict(X_test_tfidf)\n",
    "about_model(\"Tuned Multinomial Naive Bayes\" ,y_test, y_hat)\n"
   ]
  },
  {
   "cell_type": "markdown",
   "id": "812703b2",
   "metadata": {
    "execution": {
     "iopub.execute_input": "2024-12-09T15:57:38.274442Z",
     "iopub.status.busy": "2024-12-09T15:57:38.273474Z",
     "iopub.status.idle": "2024-12-09T15:57:38.294546Z",
     "shell.execute_reply": "2024-12-09T15:57:38.293367Z",
     "shell.execute_reply.started": "2024-12-09T15:57:38.274389Z"
    },
    "papermill": {
     "duration": 0.021468,
     "end_time": "2024-12-15T23:07:12.545152",
     "exception": false,
     "start_time": "2024-12-15T23:07:12.523684",
     "status": "completed"
    },
    "tags": []
   },
   "source": [
    "### Lightgbm"
   ]
  },
  {
   "cell_type": "code",
   "execution_count": 54,
   "id": "2b9625a7",
   "metadata": {
    "execution": {
     "iopub.execute_input": "2024-12-15T23:07:12.588446Z",
     "iopub.status.busy": "2024-12-15T23:07:12.588048Z",
     "iopub.status.idle": "2024-12-15T23:07:17.392946Z",
     "shell.execute_reply": "2024-12-15T23:07:17.391855Z"
    },
    "papermill": {
     "duration": 4.829877,
     "end_time": "2024-12-15T23:07:17.395436",
     "exception": false,
     "start_time": "2024-12-15T23:07:12.565559",
     "status": "completed"
    },
    "tags": []
   },
   "outputs": [],
   "source": [
    "import lightgbm as lgb\n",
    "\n",
    "X_train_tfidf = X_train_tfidf.astype(np.float32)\n",
    "X_test_tfidf = X_test_tfidf.astype(np.float32)\n",
    "\n",
    "d_train = lgb.Dataset(X_train_tfidf, label=y_train)\n",
    "d_test = lgb.Dataset(X_test_tfidf, label=y_test, reference=d_train)\n",
    "\n",
    "params = {\n",
    "    'objective': 'binary',  \n",
    "    'boosting_type': 'gbdt',\n",
    "    'metric': 'binary_logloss', \n",
    "    'num_leaves': 31,\n",
    "    'learning_rate': 0.1,\n",
    "    'verbose': 0\n",
    "}\n",
    "\n",
    "model = lgb.train(params, d_train, num_boost_round=100, valid_sets=[d_train, d_test])"
   ]
  },
  {
   "cell_type": "code",
   "execution_count": 55,
   "id": "e982a6c6",
   "metadata": {
    "execution": {
     "iopub.execute_input": "2024-12-15T23:07:17.438538Z",
     "iopub.status.busy": "2024-12-15T23:07:17.437946Z",
     "iopub.status.idle": "2024-12-15T23:07:18.002668Z",
     "shell.execute_reply": "2024-12-15T23:07:18.001432Z"
    },
    "papermill": {
     "duration": 0.588666,
     "end_time": "2024-12-15T23:07:18.005067",
     "exception": false,
     "start_time": "2024-12-15T23:07:17.416401",
     "status": "completed"
    },
    "tags": []
   },
   "outputs": [
    {
     "name": "stdout",
     "output_type": "stream",
     "text": [
      "-------------------> lightgbm\n",
      "Accuracy: 0.68\n",
      "F1-Score for each class:\n",
      "Positive: 0.63\n",
      "Negative: 0.72\n",
      "\n",
      "Classification Report:\n",
      "              precision    recall  f1-score   support\n",
      "\n",
      "    Positive       0.77      0.53      0.63      2949\n",
      "    Negative       0.63      0.83      0.72      2847\n",
      "\n",
      "    accuracy                           0.68      5796\n",
      "   macro avg       0.70      0.68      0.67      5796\n",
      "weighted avg       0.70      0.68      0.67      5796\n",
      "\n"
     ]
    },
    {
     "data": {
      "image/png": "[encoded data removed]",
      "text/plain": [
       "<Figure size 800x600 with 2 Axes>"
      ]
     },
     "metadata": {},
     "output_type": "display_data"
    }
   ],
   "source": [
    "y_hat = model.predict(X_test_tfidf)\n",
    "y_hat = (y_hat > 0.5).astype(int)\n",
    "about_model(\"lightgbm\", y_test, y_hat)\n"
   ]
  },
  {
   "cell_type": "markdown",
   "id": "eb92485c",
   "metadata": {
    "papermill": {
     "duration": 0.020604,
     "end_time": "2024-12-15T23:07:18.047497",
     "exception": false,
     "start_time": "2024-12-15T23:07:18.026893",
     "status": "completed"
    },
    "tags": []
   },
   "source": [
    "### Tuned lightgbm"
   ]
  },
  {
   "cell_type": "code",
   "execution_count": 56,
   "id": "f7605123",
   "metadata": {
    "execution": {
     "iopub.execute_input": "2024-12-15T23:07:18.091771Z",
     "iopub.status.busy": "2024-12-15T23:07:18.091393Z",
     "iopub.status.idle": "2024-12-15T23:12:08.882646Z",
     "shell.execute_reply": "2024-12-15T23:12:08.881580Z"
    },
    "papermill": {
     "duration": 290.815729,
     "end_time": "2024-12-15T23:12:08.884849",
     "exception": false,
     "start_time": "2024-12-15T23:07:18.069120",
     "status": "completed"
    },
    "tags": []
   },
   "outputs": [
    {
     "name": "stdout",
     "output_type": "stream",
     "text": [
      "[LightGBM] [Info] Number of positive: 9111, number of negative: 9434\n",
      "[LightGBM] [Info] Auto-choosing row-wise multi-threading, the overhead of testing was 0.051941 seconds.\n",
      "You can set `force_row_wise=true` to remove the overhead.\n",
      "And if memory is not enough, you can set `force_col_wise=true`.\n",
      "[LightGBM] [Info] Total Bins 1043\n",
      "[LightGBM] [Info] Number of data points in the train set: 18545, number of used features: 472\n",
      "[LightGBM] [Info] [binary:BoostFromScore]: pavg=0.491291 -> initscore=-0.034838\n",
      "[LightGBM] [Info] Start training from score -0.034838\n",
      "[LightGBM] [Info] Number of positive: 9111, number of negative: 9434\n",
      "[LightGBM] [Info] Auto-choosing row-wise multi-threading, the overhead of testing was 0.052092 seconds.\n",
      "You can set `force_row_wise=true` to remove the overhead.\n",
      "And if memory is not enough, you can set `force_col_wise=true`.\n",
      "[LightGBM] [Info] Total Bins 1038\n",
      "[LightGBM] [Info] Number of data points in the train set: 18545, number of used features: 470\n",
      "[LightGBM] [Info] [binary:BoostFromScore]: pavg=0.491291 -> initscore=-0.034838\n",
      "[LightGBM] [Info] Start training from score -0.034838\n",
      "[LightGBM] [Info] Number of positive: 9112, number of negative: 9434\n",
      "[LightGBM] [Info] Auto-choosing row-wise multi-threading, the overhead of testing was 0.054678 seconds.\n",
      "You can set `force_row_wise=true` to remove the overhead.\n",
      "And if memory is not enough, you can set `force_col_wise=true`.\n",
      "[LightGBM] [Info] Total Bins 1040\n",
      "[LightGBM] [Info] Number of data points in the train set: 18546, number of used features: 470\n",
      "[LightGBM] [Info] [binary:BoostFromScore]: pavg=0.491319 -> initscore=-0.034728\n",
      "[LightGBM] [Info] Start training from score -0.034728\n",
      "[LightGBM] [Info] Number of positive: 9111, number of negative: 9435\n",
      "[LightGBM] [Info] Auto-choosing row-wise multi-threading, the overhead of testing was 0.052187 seconds.\n",
      "You can set `force_row_wise=true` to remove the overhead.\n",
      "And if memory is not enough, you can set `force_col_wise=true`.\n",
      "[LightGBM] [Info] Total Bins 1047\n",
      "[LightGBM] [Info] Number of data points in the train set: 18546, number of used features: 475\n",
      "[LightGBM] [Info] [binary:BoostFromScore]: pavg=0.491265 -> initscore=-0.034944\n",
      "[LightGBM] [Info] Start training from score -0.034944\n",
      "[LightGBM] [Info] Number of positive: 9111, number of negative: 9435\n",
      "[LightGBM] [Info] Auto-choosing row-wise multi-threading, the overhead of testing was 0.050390 seconds.\n",
      "You can set `force_row_wise=true` to remove the overhead.\n",
      "And if memory is not enough, you can set `force_col_wise=true`.\n",
      "[LightGBM] [Info] Total Bins 1002\n",
      "[LightGBM] [Info] Number of data points in the train set: 18546, number of used features: 459\n",
      "[LightGBM] [Info] [binary:BoostFromScore]: pavg=0.491265 -> initscore=-0.034944\n",
      "[LightGBM] [Info] Start training from score -0.034944\n",
      "[LightGBM] [Info] Number of positive: 9111, number of negative: 9434\n",
      "[LightGBM] [Info] Auto-choosing row-wise multi-threading, the overhead of testing was 0.052592 seconds.\n",
      "You can set `force_row_wise=true` to remove the overhead.\n",
      "And if memory is not enough, you can set `force_col_wise=true`.\n",
      "[LightGBM] [Info] Total Bins 1043\n",
      "[LightGBM] [Info] Number of data points in the train set: 18545, number of used features: 472\n",
      "[LightGBM] [Info] [binary:BoostFromScore]: pavg=0.491291 -> initscore=-0.034838\n",
      "[LightGBM] [Info] Start training from score -0.034838\n",
      "[LightGBM] [Info] Number of positive: 9111, number of negative: 9434\n",
      "[LightGBM] [Info] Auto-choosing row-wise multi-threading, the overhead of testing was 0.053810 seconds.\n",
      "You can set `force_row_wise=true` to remove the overhead.\n",
      "And if memory is not enough, you can set `force_col_wise=true`.\n",
      "[LightGBM] [Info] Total Bins 1038\n",
      "[LightGBM] [Info] Number of data points in the train set: 18545, number of used features: 470\n",
      "[LightGBM] [Info] [binary:BoostFromScore]: pavg=0.491291 -> initscore=-0.034838\n",
      "[LightGBM] [Info] Start training from score -0.034838\n",
      "[LightGBM] [Info] Number of positive: 9112, number of negative: 9434\n",
      "[LightGBM] [Info] Auto-choosing row-wise multi-threading, the overhead of testing was 0.052056 seconds.\n",
      "You can set `force_row_wise=true` to remove the overhead.\n",
      "And if memory is not enough, you can set `force_col_wise=true`.\n",
      "[LightGBM] [Info] Total Bins 1040\n",
      "[LightGBM] [Info] Number of data points in the train set: 18546, number of used features: 470\n",
      "[LightGBM] [Info] [binary:BoostFromScore]: pavg=0.491319 -> initscore=-0.034728\n",
      "[LightGBM] [Info] Start training from score -0.034728\n",
      "[LightGBM] [Info] Number of positive: 9111, number of negative: 9435\n",
      "[LightGBM] [Info] Auto-choosing row-wise multi-threading, the overhead of testing was 0.052513 seconds.\n",
      "You can set `force_row_wise=true` to remove the overhead.\n",
      "And if memory is not enough, you can set `force_col_wise=true`.\n",
      "[LightGBM] [Info] Total Bins 1047\n",
      "[LightGBM] [Info] Number of data points in the train set: 18546, number of used features: 475\n",
      "[LightGBM] [Info] [binary:BoostFromScore]: pavg=0.491265 -> initscore=-0.034944\n",
      "[LightGBM] [Info] Start training from score -0.034944\n",
      "[LightGBM] [Info] Number of positive: 9111, number of negative: 9435\n",
      "[LightGBM] [Info] Auto-choosing row-wise multi-threading, the overhead of testing was 0.052093 seconds.\n",
      "You can set `force_row_wise=true` to remove the overhead.\n",
      "And if memory is not enough, you can set `force_col_wise=true`.\n",
      "[LightGBM] [Info] Total Bins 1002\n",
      "[LightGBM] [Info] Number of data points in the train set: 18546, number of used features: 459\n",
      "[LightGBM] [Info] [binary:BoostFromScore]: pavg=0.491265 -> initscore=-0.034944\n",
      "[LightGBM] [Info] Start training from score -0.034944\n",
      "[LightGBM] [Info] Number of positive: 9111, number of negative: 9434\n",
      "[LightGBM] [Info] Auto-choosing col-wise multi-threading, the overhead of testing was 0.058711 seconds.\n",
      "You can set `force_col_wise=true` to remove the overhead.\n",
      "[LightGBM] [Info] Total Bins 1043\n",
      "[LightGBM] [Info] Number of data points in the train set: 18545, number of used features: 472\n",
      "[LightGBM] [Info] [binary:BoostFromScore]: pavg=0.491291 -> initscore=-0.034838\n",
      "[LightGBM] [Info] Start training from score -0.034838\n",
      "[LightGBM] [Info] Number of positive: 9111, number of negative: 9434\n",
      "[LightGBM] [Info] Auto-choosing row-wise multi-threading, the overhead of testing was 0.051933 seconds.\n",
      "You can set `force_row_wise=true` to remove the overhead.\n",
      "And if memory is not enough, you can set `force_col_wise=true`.\n",
      "[LightGBM] [Info] Total Bins 1038\n",
      "[LightGBM] [Info] Number of data points in the train set: 18545, number of used features: 470\n",
      "[LightGBM] [Info] [binary:BoostFromScore]: pavg=0.491291 -> initscore=-0.034838\n",
      "[LightGBM] [Info] Start training from score -0.034838\n",
      "[LightGBM] [Info] Number of positive: 9112, number of negative: 9434\n",
      "[LightGBM] [Info] Auto-choosing row-wise multi-threading, the overhead of testing was 0.051777 seconds.\n",
      "You can set `force_row_wise=true` to remove the overhead.\n",
      "And if memory is not enough, you can set `force_col_wise=true`.\n",
      "[LightGBM] [Info] Total Bins 1040\n",
      "[LightGBM] [Info] Number of data points in the train set: 18546, number of used features: 470\n",
      "[LightGBM] [Info] [binary:BoostFromScore]: pavg=0.491319 -> initscore=-0.034728\n",
      "[LightGBM] [Info] Start training from score -0.034728\n",
      "[LightGBM] [Info] Number of positive: 9111, number of negative: 9435\n",
      "[LightGBM] [Info] Auto-choosing row-wise multi-threading, the overhead of testing was 0.052739 seconds.\n",
      "You can set `force_row_wise=true` to remove the overhead.\n",
      "And if memory is not enough, you can set `force_col_wise=true`.\n",
      "[LightGBM] [Info] Total Bins 1047\n",
      "[LightGBM] [Info] Number of data points in the train set: 18546, number of used features: 475\n",
      "[LightGBM] [Info] [binary:BoostFromScore]: pavg=0.491265 -> initscore=-0.034944\n",
      "[LightGBM] [Info] Start training from score -0.034944\n",
      "[LightGBM] [Info] Number of positive: 9111, number of negative: 9435\n",
      "[LightGBM] [Info] Auto-choosing row-wise multi-threading, the overhead of testing was 0.050705 seconds.\n",
      "You can set `force_row_wise=true` to remove the overhead.\n",
      "And if memory is not enough, you can set `force_col_wise=true`.\n",
      "[LightGBM] [Info] Total Bins 1002\n",
      "[LightGBM] [Info] Number of data points in the train set: 18546, number of used features: 459\n",
      "[LightGBM] [Info] [binary:BoostFromScore]: pavg=0.491265 -> initscore=-0.034944\n",
      "[LightGBM] [Info] Start training from score -0.034944\n",
      "[LightGBM] [Info] Number of positive: 9111, number of negative: 9434\n",
      "[LightGBM] [Info] Auto-choosing row-wise multi-threading, the overhead of testing was 0.053341 seconds.\n",
      "You can set `force_row_wise=true` to remove the overhead.\n",
      "And if memory is not enough, you can set `force_col_wise=true`.\n",
      "[LightGBM] [Info] Total Bins 1043\n",
      "[LightGBM] [Info] Number of data points in the train set: 18545, number of used features: 472\n",
      "[LightGBM] [Info] [binary:BoostFromScore]: pavg=0.491291 -> initscore=-0.034838\n",
      "[LightGBM] [Info] Start training from score -0.034838\n",
      "[LightGBM] [Info] Number of positive: 9111, number of negative: 9434\n",
      "[LightGBM] [Info] Auto-choosing row-wise multi-threading, the overhead of testing was 0.052804 seconds.\n",
      "You can set `force_row_wise=true` to remove the overhead.\n",
      "And if memory is not enough, you can set `force_col_wise=true`.\n",
      "[LightGBM] [Info] Total Bins 1038\n",
      "[LightGBM] [Info] Number of data points in the train set: 18545, number of used features: 470\n",
      "[LightGBM] [Info] [binary:BoostFromScore]: pavg=0.491291 -> initscore=-0.034838\n",
      "[LightGBM] [Info] Start training from score -0.034838\n",
      "[LightGBM] [Info] Number of positive: 9112, number of negative: 9434\n",
      "[LightGBM] [Info] Auto-choosing row-wise multi-threading, the overhead of testing was 0.051831 seconds.\n",
      "You can set `force_row_wise=true` to remove the overhead.\n",
      "And if memory is not enough, you can set `force_col_wise=true`.\n",
      "[LightGBM] [Info] Total Bins 1040\n",
      "[LightGBM] [Info] Number of data points in the train set: 18546, number of used features: 470\n",
      "[LightGBM] [Info] [binary:BoostFromScore]: pavg=0.491319 -> initscore=-0.034728\n",
      "[LightGBM] [Info] Start training from score -0.034728\n",
      "[LightGBM] [Info] Number of positive: 9111, number of negative: 9435\n",
      "[LightGBM] [Info] Auto-choosing row-wise multi-threading, the overhead of testing was 0.053166 seconds.\n",
      "You can set `force_row_wise=true` to remove the overhead.\n",
      "And if memory is not enough, you can set `force_col_wise=true`.\n",
      "[LightGBM] [Info] Total Bins 1047\n",
      "[LightGBM] [Info] Number of data points in the train set: 18546, number of used features: 475\n",
      "[LightGBM] [Info] [binary:BoostFromScore]: pavg=0.491265 -> initscore=-0.034944\n",
      "[LightGBM] [Info] Start training from score -0.034944\n",
      "[LightGBM] [Info] Number of positive: 9111, number of negative: 9435\n",
      "[LightGBM] [Info] Auto-choosing row-wise multi-threading, the overhead of testing was 0.051600 seconds.\n",
      "You can set `force_row_wise=true` to remove the overhead.\n",
      "And if memory is not enough, you can set `force_col_wise=true`.\n",
      "[LightGBM] [Info] Total Bins 1002\n",
      "[LightGBM] [Info] Number of data points in the train set: 18546, number of used features: 459\n",
      "[LightGBM] [Info] [binary:BoostFromScore]: pavg=0.491265 -> initscore=-0.034944\n",
      "[LightGBM] [Info] Start training from score -0.034944\n",
      "[LightGBM] [Info] Number of positive: 9111, number of negative: 9434\n",
      "[LightGBM] [Info] Auto-choosing row-wise multi-threading, the overhead of testing was 0.051956 seconds.\n",
      "You can set `force_row_wise=true` to remove the overhead.\n",
      "And if memory is not enough, you can set `force_col_wise=true`.\n",
      "[LightGBM] [Info] Total Bins 1043\n",
      "[LightGBM] [Info] Number of data points in the train set: 18545, number of used features: 472\n",
      "[LightGBM] [Info] [binary:BoostFromScore]: pavg=0.491291 -> initscore=-0.034838\n",
      "[LightGBM] [Info] Start training from score -0.034838\n",
      "[LightGBM] [Info] Number of positive: 9111, number of negative: 9434\n",
      "[LightGBM] [Info] Auto-choosing row-wise multi-threading, the overhead of testing was 0.067521 seconds.\n",
      "You can set `force_row_wise=true` to remove the overhead.\n",
      "And if memory is not enough, you can set `force_col_wise=true`.\n",
      "[LightGBM] [Info] Total Bins 1038\n",
      "[LightGBM] [Info] Number of data points in the train set: 18545, number of used features: 470\n",
      "[LightGBM] [Info] [binary:BoostFromScore]: pavg=0.491291 -> initscore=-0.034838\n",
      "[LightGBM] [Info] Start training from score -0.034838\n",
      "[LightGBM] [Info] Number of positive: 9112, number of negative: 9434\n",
      "[LightGBM] [Info] Auto-choosing row-wise multi-threading, the overhead of testing was 0.054088 seconds.\n",
      "You can set `force_row_wise=true` to remove the overhead.\n",
      "And if memory is not enough, you can set `force_col_wise=true`.\n",
      "[LightGBM] [Info] Total Bins 1040\n",
      "[LightGBM] [Info] Number of data points in the train set: 18546, number of used features: 470\n",
      "[LightGBM] [Info] [binary:BoostFromScore]: pavg=0.491319 -> initscore=-0.034728\n",
      "[LightGBM] [Info] Start training from score -0.034728\n",
      "[LightGBM] [Info] Number of positive: 9111, number of negative: 9435\n",
      "[LightGBM] [Info] Auto-choosing row-wise multi-threading, the overhead of testing was 0.053638 seconds.\n",
      "You can set `force_row_wise=true` to remove the overhead.\n",
      "And if memory is not enough, you can set `force_col_wise=true`.\n",
      "[LightGBM] [Info] Total Bins 1047\n",
      "[LightGBM] [Info] Number of data points in the train set: 18546, number of used features: 475\n",
      "[LightGBM] [Info] [binary:BoostFromScore]: pavg=0.491265 -> initscore=-0.034944\n",
      "[LightGBM] [Info] Start training from score -0.034944\n",
      "[LightGBM] [Info] Number of positive: 9111, number of negative: 9435\n",
      "[LightGBM] [Info] Auto-choosing row-wise multi-threading, the overhead of testing was 0.050816 seconds.\n",
      "You can set `force_row_wise=true` to remove the overhead.\n",
      "And if memory is not enough, you can set `force_col_wise=true`.\n",
      "[LightGBM] [Info] Total Bins 1002\n",
      "[LightGBM] [Info] Number of data points in the train set: 18546, number of used features: 459\n",
      "[LightGBM] [Info] [binary:BoostFromScore]: pavg=0.491265 -> initscore=-0.034944\n",
      "[LightGBM] [Info] Start training from score -0.034944\n",
      "[LightGBM] [Info] Number of positive: 9111, number of negative: 9434\n",
      "[LightGBM] [Info] Auto-choosing row-wise multi-threading, the overhead of testing was 0.051813 seconds.\n",
      "You can set `force_row_wise=true` to remove the overhead.\n",
      "And if memory is not enough, you can set `force_col_wise=true`.\n",
      "[LightGBM] [Info] Total Bins 1043\n",
      "[LightGBM] [Info] Number of data points in the train set: 18545, number of used features: 472\n",
      "[LightGBM] [Info] [binary:BoostFromScore]: pavg=0.491291 -> initscore=-0.034838\n",
      "[LightGBM] [Info] Start training from score -0.034838\n",
      "[LightGBM] [Info] Number of positive: 9111, number of negative: 9434\n",
      "[LightGBM] [Info] Auto-choosing row-wise multi-threading, the overhead of testing was 0.051667 seconds.\n",
      "You can set `force_row_wise=true` to remove the overhead.\n",
      "And if memory is not enough, you can set `force_col_wise=true`.\n",
      "[LightGBM] [Info] Total Bins 1038\n",
      "[LightGBM] [Info] Number of data points in the train set: 18545, number of used features: 470\n",
      "[LightGBM] [Info] [binary:BoostFromScore]: pavg=0.491291 -> initscore=-0.034838\n",
      "[LightGBM] [Info] Start training from score -0.034838\n",
      "[LightGBM] [Info] Number of positive: 9112, number of negative: 9434\n",
      "[LightGBM] [Info] Auto-choosing row-wise multi-threading, the overhead of testing was 0.052130 seconds.\n",
      "You can set `force_row_wise=true` to remove the overhead.\n",
      "And if memory is not enough, you can set `force_col_wise=true`.\n",
      "[LightGBM] [Info] Total Bins 1040\n",
      "[LightGBM] [Info] Number of data points in the train set: 18546, number of used features: 470\n",
      "[LightGBM] [Info] [binary:BoostFromScore]: pavg=0.491319 -> initscore=-0.034728\n",
      "[LightGBM] [Info] Start training from score -0.034728\n",
      "[LightGBM] [Info] Number of positive: 9111, number of negative: 9435\n",
      "[LightGBM] [Info] Auto-choosing row-wise multi-threading, the overhead of testing was 0.052530 seconds.\n",
      "You can set `force_row_wise=true` to remove the overhead.\n",
      "And if memory is not enough, you can set `force_col_wise=true`.\n",
      "[LightGBM] [Info] Total Bins 1047\n",
      "[LightGBM] [Info] Number of data points in the train set: 18546, number of used features: 475\n",
      "[LightGBM] [Info] [binary:BoostFromScore]: pavg=0.491265 -> initscore=-0.034944\n",
      "[LightGBM] [Info] Start training from score -0.034944\n",
      "[LightGBM] [Info] Number of positive: 9111, number of negative: 9435\n",
      "[LightGBM] [Info] Auto-choosing row-wise multi-threading, the overhead of testing was 0.050804 seconds.\n",
      "You can set `force_row_wise=true` to remove the overhead.\n",
      "And if memory is not enough, you can set `force_col_wise=true`.\n",
      "[LightGBM] [Info] Total Bins 1002\n",
      "[LightGBM] [Info] Number of data points in the train set: 18546, number of used features: 459\n",
      "[LightGBM] [Info] [binary:BoostFromScore]: pavg=0.491265 -> initscore=-0.034944\n",
      "[LightGBM] [Info] Start training from score -0.034944\n",
      "[LightGBM] [Info] Number of positive: 9111, number of negative: 9434\n",
      "[LightGBM] [Info] Auto-choosing row-wise multi-threading, the overhead of testing was 0.052539 seconds.\n",
      "You can set `force_row_wise=true` to remove the overhead.\n",
      "And if memory is not enough, you can set `force_col_wise=true`.\n",
      "[LightGBM] [Info] Total Bins 1043\n",
      "[LightGBM] [Info] Number of data points in the train set: 18545, number of used features: 472\n",
      "[LightGBM] [Info] [binary:BoostFromScore]: pavg=0.491291 -> initscore=-0.034838\n",
      "[LightGBM] [Info] Start training from score -0.034838\n",
      "[LightGBM] [Info] Number of positive: 9111, number of negative: 9434\n",
      "[LightGBM] [Info] Auto-choosing row-wise multi-threading, the overhead of testing was 0.052222 seconds.\n",
      "You can set `force_row_wise=true` to remove the overhead.\n",
      "And if memory is not enough, you can set `force_col_wise=true`.\n",
      "[LightGBM] [Info] Total Bins 1038\n",
      "[LightGBM] [Info] Number of data points in the train set: 18545, number of used features: 470\n",
      "[LightGBM] [Info] [binary:BoostFromScore]: pavg=0.491291 -> initscore=-0.034838\n",
      "[LightGBM] [Info] Start training from score -0.034838\n",
      "[LightGBM] [Info] Number of positive: 9112, number of negative: 9434\n",
      "[LightGBM] [Info] Auto-choosing row-wise multi-threading, the overhead of testing was 0.051818 seconds.\n",
      "You can set `force_row_wise=true` to remove the overhead.\n",
      "And if memory is not enough, you can set `force_col_wise=true`.\n",
      "[LightGBM] [Info] Total Bins 1040\n",
      "[LightGBM] [Info] Number of data points in the train set: 18546, number of used features: 470\n",
      "[LightGBM] [Info] [binary:BoostFromScore]: pavg=0.491319 -> initscore=-0.034728\n",
      "[LightGBM] [Info] Start training from score -0.034728\n",
      "[LightGBM] [Info] Number of positive: 9111, number of negative: 9435\n",
      "[LightGBM] [Info] Auto-choosing row-wise multi-threading, the overhead of testing was 0.054016 seconds.\n",
      "You can set `force_row_wise=true` to remove the overhead.\n",
      "And if memory is not enough, you can set `force_col_wise=true`.\n",
      "[LightGBM] [Info] Total Bins 1047\n",
      "[LightGBM] [Info] Number of data points in the train set: 18546, number of used features: 475\n",
      "[LightGBM] [Info] [binary:BoostFromScore]: pavg=0.491265 -> initscore=-0.034944\n",
      "[LightGBM] [Info] Start training from score -0.034944\n",
      "[LightGBM] [Info] Number of positive: 9111, number of negative: 9435\n",
      "[LightGBM] [Info] Auto-choosing row-wise multi-threading, the overhead of testing was 0.050640 seconds.\n",
      "You can set `force_row_wise=true` to remove the overhead.\n",
      "And if memory is not enough, you can set `force_col_wise=true`.\n",
      "[LightGBM] [Info] Total Bins 1002\n",
      "[LightGBM] [Info] Number of data points in the train set: 18546, number of used features: 459\n",
      "[LightGBM] [Info] [binary:BoostFromScore]: pavg=0.491265 -> initscore=-0.034944\n",
      "[LightGBM] [Info] Start training from score -0.034944\n",
      "[LightGBM] [Info] Number of positive: 9111, number of negative: 9434\n",
      "[LightGBM] [Info] Auto-choosing row-wise multi-threading, the overhead of testing was 0.052566 seconds.\n",
      "You can set `force_row_wise=true` to remove the overhead.\n",
      "And if memory is not enough, you can set `force_col_wise=true`.\n",
      "[LightGBM] [Info] Total Bins 1043\n",
      "[LightGBM] [Info] Number of data points in the train set: 18545, number of used features: 472\n",
      "[LightGBM] [Info] [binary:BoostFromScore]: pavg=0.491291 -> initscore=-0.034838\n",
      "[LightGBM] [Info] Start training from score -0.034838\n",
      "[LightGBM] [Info] Number of positive: 9111, number of negative: 9434\n",
      "[LightGBM] [Info] Auto-choosing row-wise multi-threading, the overhead of testing was 0.051784 seconds.\n",
      "You can set `force_row_wise=true` to remove the overhead.\n",
      "And if memory is not enough, you can set `force_col_wise=true`.\n",
      "[LightGBM] [Info] Total Bins 1038\n",
      "[LightGBM] [Info] Number of data points in the train set: 18545, number of used features: 470\n",
      "[LightGBM] [Info] [binary:BoostFromScore]: pavg=0.491291 -> initscore=-0.034838\n",
      "[LightGBM] [Info] Start training from score -0.034838\n",
      "[LightGBM] [Info] Number of positive: 9112, number of negative: 9434\n",
      "[LightGBM] [Info] Auto-choosing row-wise multi-threading, the overhead of testing was 0.052174 seconds.\n",
      "You can set `force_row_wise=true` to remove the overhead.\n",
      "And if memory is not enough, you can set `force_col_wise=true`.\n",
      "[LightGBM] [Info] Total Bins 1040\n",
      "[LightGBM] [Info] Number of data points in the train set: 18546, number of used features: 470\n",
      "[LightGBM] [Info] [binary:BoostFromScore]: pavg=0.491319 -> initscore=-0.034728\n",
      "[LightGBM] [Info] Start training from score -0.034728\n",
      "[LightGBM] [Info] Number of positive: 9111, number of negative: 9435\n",
      "[LightGBM] [Info] Auto-choosing row-wise multi-threading, the overhead of testing was 0.052073 seconds.\n",
      "You can set `force_row_wise=true` to remove the overhead.\n",
      "And if memory is not enough, you can set `force_col_wise=true`.\n",
      "[LightGBM] [Info] Total Bins 1047\n",
      "[LightGBM] [Info] Number of data points in the train set: 18546, number of used features: 475\n",
      "[LightGBM] [Info] [binary:BoostFromScore]: pavg=0.491265 -> initscore=-0.034944\n",
      "[LightGBM] [Info] Start training from score -0.034944\n",
      "[LightGBM] [Info] Number of positive: 9111, number of negative: 9435\n",
      "[LightGBM] [Info] Auto-choosing row-wise multi-threading, the overhead of testing was 0.051277 seconds.\n",
      "You can set `force_row_wise=true` to remove the overhead.\n",
      "And if memory is not enough, you can set `force_col_wise=true`.\n",
      "[LightGBM] [Info] Total Bins 1002\n",
      "[LightGBM] [Info] Number of data points in the train set: 18546, number of used features: 459\n",
      "[LightGBM] [Info] [binary:BoostFromScore]: pavg=0.491265 -> initscore=-0.034944\n",
      "[LightGBM] [Info] Start training from score -0.034944\n",
      "[LightGBM] [Info] Number of positive: 9111, number of negative: 9434\n",
      "[LightGBM] [Info] Auto-choosing row-wise multi-threading, the overhead of testing was 0.053359 seconds.\n",
      "You can set `force_row_wise=true` to remove the overhead.\n",
      "And if memory is not enough, you can set `force_col_wise=true`.\n",
      "[LightGBM] [Info] Total Bins 1043\n",
      "[LightGBM] [Info] Number of data points in the train set: 18545, number of used features: 472\n",
      "[LightGBM] [Info] [binary:BoostFromScore]: pavg=0.491291 -> initscore=-0.034838\n",
      "[LightGBM] [Info] Start training from score -0.034838\n",
      "[LightGBM] [Info] Number of positive: 9111, number of negative: 9434\n",
      "[LightGBM] [Info] Auto-choosing row-wise multi-threading, the overhead of testing was 0.051698 seconds.\n",
      "You can set `force_row_wise=true` to remove the overhead.\n",
      "And if memory is not enough, you can set `force_col_wise=true`.\n",
      "[LightGBM] [Info] Total Bins 1038\n",
      "[LightGBM] [Info] Number of data points in the train set: 18545, number of used features: 470\n",
      "[LightGBM] [Info] [binary:BoostFromScore]: pavg=0.491291 -> initscore=-0.034838\n",
      "[LightGBM] [Info] Start training from score -0.034838\n",
      "[LightGBM] [Info] Number of positive: 9112, number of negative: 9434\n",
      "[LightGBM] [Info] Auto-choosing row-wise multi-threading, the overhead of testing was 0.052390 seconds.\n",
      "You can set `force_row_wise=true` to remove the overhead.\n",
      "And if memory is not enough, you can set `force_col_wise=true`.\n",
      "[LightGBM] [Info] Total Bins 1040\n",
      "[LightGBM] [Info] Number of data points in the train set: 18546, number of used features: 470\n",
      "[LightGBM] [Info] [binary:BoostFromScore]: pavg=0.491319 -> initscore=-0.034728\n",
      "[LightGBM] [Info] Start training from score -0.034728\n",
      "[LightGBM] [Info] Number of positive: 9111, number of negative: 9435\n",
      "[LightGBM] [Info] Auto-choosing row-wise multi-threading, the overhead of testing was 0.053264 seconds.\n",
      "You can set `force_row_wise=true` to remove the overhead.\n",
      "And if memory is not enough, you can set `force_col_wise=true`.\n",
      "[LightGBM] [Info] Total Bins 1047\n",
      "[LightGBM] [Info] Number of data points in the train set: 18546, number of used features: 475\n",
      "[LightGBM] [Info] [binary:BoostFromScore]: pavg=0.491265 -> initscore=-0.034944\n",
      "[LightGBM] [Info] Start training from score -0.034944\n",
      "[LightGBM] [Info] Number of positive: 9111, number of negative: 9435\n",
      "[LightGBM] [Info] Auto-choosing row-wise multi-threading, the overhead of testing was 0.051053 seconds.\n",
      "You can set `force_row_wise=true` to remove the overhead.\n",
      "And if memory is not enough, you can set `force_col_wise=true`.\n",
      "[LightGBM] [Info] Total Bins 1002\n",
      "[LightGBM] [Info] Number of data points in the train set: 18546, number of used features: 459\n",
      "[LightGBM] [Info] [binary:BoostFromScore]: pavg=0.491265 -> initscore=-0.034944\n",
      "[LightGBM] [Info] Start training from score -0.034944\n",
      "[LightGBM] [Info] Number of positive: 9111, number of negative: 9434\n",
      "[LightGBM] [Info] Auto-choosing row-wise multi-threading, the overhead of testing was 0.052465 seconds.\n",
      "You can set `force_row_wise=true` to remove the overhead.\n",
      "And if memory is not enough, you can set `force_col_wise=true`.\n",
      "[LightGBM] [Info] Total Bins 1043\n",
      "[LightGBM] [Info] Number of data points in the train set: 18545, number of used features: 472\n",
      "[LightGBM] [Info] [binary:BoostFromScore]: pavg=0.491291 -> initscore=-0.034838\n",
      "[LightGBM] [Info] Start training from score -0.034838\n",
      "[LightGBM] [Info] Number of positive: 9111, number of negative: 9434\n",
      "[LightGBM] [Info] Auto-choosing row-wise multi-threading, the overhead of testing was 0.051781 seconds.\n",
      "You can set `force_row_wise=true` to remove the overhead.\n",
      "And if memory is not enough, you can set `force_col_wise=true`.\n",
      "[LightGBM] [Info] Total Bins 1038\n",
      "[LightGBM] [Info] Number of data points in the train set: 18545, number of used features: 470\n",
      "[LightGBM] [Info] [binary:BoostFromScore]: pavg=0.491291 -> initscore=-0.034838\n",
      "[LightGBM] [Info] Start training from score -0.034838\n",
      "[LightGBM] [Info] Number of positive: 9112, number of negative: 9434\n",
      "[LightGBM] [Info] Auto-choosing row-wise multi-threading, the overhead of testing was 0.052509 seconds.\n",
      "You can set `force_row_wise=true` to remove the overhead.\n",
      "And if memory is not enough, you can set `force_col_wise=true`.\n",
      "[LightGBM] [Info] Total Bins 1040\n",
      "[LightGBM] [Info] Number of data points in the train set: 18546, number of used features: 470\n",
      "[LightGBM] [Info] [binary:BoostFromScore]: pavg=0.491319 -> initscore=-0.034728\n",
      "[LightGBM] [Info] Start training from score -0.034728\n",
      "[LightGBM] [Info] Number of positive: 9111, number of negative: 9435\n",
      "[LightGBM] [Info] Auto-choosing row-wise multi-threading, the overhead of testing was 0.052765 seconds.\n",
      "You can set `force_row_wise=true` to remove the overhead.\n",
      "And if memory is not enough, you can set `force_col_wise=true`.\n",
      "[LightGBM] [Info] Total Bins 1047\n",
      "[LightGBM] [Info] Number of data points in the train set: 18546, number of used features: 475\n",
      "[LightGBM] [Info] [binary:BoostFromScore]: pavg=0.491265 -> initscore=-0.034944\n",
      "[LightGBM] [Info] Start training from score -0.034944\n",
      "[LightGBM] [Info] Number of positive: 9111, number of negative: 9435\n",
      "[LightGBM] [Info] Auto-choosing row-wise multi-threading, the overhead of testing was 0.050964 seconds.\n",
      "You can set `force_row_wise=true` to remove the overhead.\n",
      "And if memory is not enough, you can set `force_col_wise=true`.\n",
      "[LightGBM] [Info] Total Bins 1002\n",
      "[LightGBM] [Info] Number of data points in the train set: 18546, number of used features: 459\n",
      "[LightGBM] [Info] [binary:BoostFromScore]: pavg=0.491265 -> initscore=-0.034944\n",
      "[LightGBM] [Info] Start training from score -0.034944\n",
      "[LightGBM] [Info] Number of positive: 9111, number of negative: 9434\n",
      "[LightGBM] [Info] Auto-choosing row-wise multi-threading, the overhead of testing was 0.056174 seconds.\n",
      "You can set `force_row_wise=true` to remove the overhead.\n",
      "And if memory is not enough, you can set `force_col_wise=true`.\n",
      "[LightGBM] [Info] Total Bins 1043\n",
      "[LightGBM] [Info] Number of data points in the train set: 18545, number of used features: 472\n",
      "[LightGBM] [Info] [binary:BoostFromScore]: pavg=0.491291 -> initscore=-0.034838\n",
      "[LightGBM] [Info] Start training from score -0.034838\n",
      "[LightGBM] [Info] Number of positive: 9111, number of negative: 9434\n",
      "[LightGBM] [Info] Auto-choosing row-wise multi-threading, the overhead of testing was 0.051961 seconds.\n",
      "You can set `force_row_wise=true` to remove the overhead.\n",
      "And if memory is not enough, you can set `force_col_wise=true`.\n",
      "[LightGBM] [Info] Total Bins 1038\n",
      "[LightGBM] [Info] Number of data points in the train set: 18545, number of used features: 470\n",
      "[LightGBM] [Info] [binary:BoostFromScore]: pavg=0.491291 -> initscore=-0.034838\n",
      "[LightGBM] [Info] Start training from score -0.034838\n",
      "[LightGBM] [Info] Number of positive: 9112, number of negative: 9434\n",
      "[LightGBM] [Info] Auto-choosing row-wise multi-threading, the overhead of testing was 0.067478 seconds.\n",
      "You can set `force_row_wise=true` to remove the overhead.\n",
      "And if memory is not enough, you can set `force_col_wise=true`.\n",
      "[LightGBM] [Info] Total Bins 1040\n",
      "[LightGBM] [Info] Number of data points in the train set: 18546, number of used features: 470\n",
      "[LightGBM] [Info] [binary:BoostFromScore]: pavg=0.491319 -> initscore=-0.034728\n",
      "[LightGBM] [Info] Start training from score -0.034728\n",
      "[LightGBM] [Info] Number of positive: 9111, number of negative: 9435\n",
      "[LightGBM] [Info] Auto-choosing row-wise multi-threading, the overhead of testing was 0.052372 seconds.\n",
      "You can set `force_row_wise=true` to remove the overhead.\n",
      "And if memory is not enough, you can set `force_col_wise=true`.\n",
      "[LightGBM] [Info] Total Bins 1047\n",
      "[LightGBM] [Info] Number of data points in the train set: 18546, number of used features: 475\n",
      "[LightGBM] [Info] [binary:BoostFromScore]: pavg=0.491265 -> initscore=-0.034944\n",
      "[LightGBM] [Info] Start training from score -0.034944\n",
      "[LightGBM] [Info] Number of positive: 9111, number of negative: 9435\n",
      "[LightGBM] [Info] Auto-choosing row-wise multi-threading, the overhead of testing was 0.051511 seconds.\n",
      "You can set `force_row_wise=true` to remove the overhead.\n",
      "And if memory is not enough, you can set `force_col_wise=true`.\n",
      "[LightGBM] [Info] Total Bins 1002\n",
      "[LightGBM] [Info] Number of data points in the train set: 18546, number of used features: 459\n",
      "[LightGBM] [Info] [binary:BoostFromScore]: pavg=0.491265 -> initscore=-0.034944\n",
      "[LightGBM] [Info] Start training from score -0.034944\n",
      "[LightGBM] [Info] Number of positive: 9111, number of negative: 9434\n",
      "[LightGBM] [Info] Auto-choosing row-wise multi-threading, the overhead of testing was 0.052628 seconds.\n",
      "You can set `force_row_wise=true` to remove the overhead.\n",
      "And if memory is not enough, you can set `force_col_wise=true`.\n",
      "[LightGBM] [Info] Total Bins 1043\n",
      "[LightGBM] [Info] Number of data points in the train set: 18545, number of used features: 472\n",
      "[LightGBM] [Info] [binary:BoostFromScore]: pavg=0.491291 -> initscore=-0.034838\n",
      "[LightGBM] [Info] Start training from score -0.034838\n",
      "[LightGBM] [Info] Number of positive: 9111, number of negative: 9434\n",
      "[LightGBM] [Info] Auto-choosing row-wise multi-threading, the overhead of testing was 0.052693 seconds.\n",
      "You can set `force_row_wise=true` to remove the overhead.\n",
      "And if memory is not enough, you can set `force_col_wise=true`.\n",
      "[LightGBM] [Info] Total Bins 1038\n",
      "[LightGBM] [Info] Number of data points in the train set: 18545, number of used features: 470\n",
      "[LightGBM] [Info] [binary:BoostFromScore]: pavg=0.491291 -> initscore=-0.034838\n",
      "[LightGBM] [Info] Start training from score -0.034838\n",
      "[LightGBM] [Info] Number of positive: 9112, number of negative: 9434\n",
      "[LightGBM] [Info] Auto-choosing row-wise multi-threading, the overhead of testing was 0.053773 seconds.\n",
      "You can set `force_row_wise=true` to remove the overhead.\n",
      "And if memory is not enough, you can set `force_col_wise=true`.\n",
      "[LightGBM] [Info] Total Bins 1040\n",
      "[LightGBM] [Info] Number of data points in the train set: 18546, number of used features: 470\n",
      "[LightGBM] [Info] [binary:BoostFromScore]: pavg=0.491319 -> initscore=-0.034728\n",
      "[LightGBM] [Info] Start training from score -0.034728\n",
      "[LightGBM] [Info] Number of positive: 9111, number of negative: 9435\n",
      "[LightGBM] [Info] Auto-choosing row-wise multi-threading, the overhead of testing was 0.053522 seconds.\n",
      "You can set `force_row_wise=true` to remove the overhead.\n",
      "And if memory is not enough, you can set `force_col_wise=true`.\n",
      "[LightGBM] [Info] Total Bins 1047\n",
      "[LightGBM] [Info] Number of data points in the train set: 18546, number of used features: 475\n",
      "[LightGBM] [Info] [binary:BoostFromScore]: pavg=0.491265 -> initscore=-0.034944\n",
      "[LightGBM] [Info] Start training from score -0.034944\n",
      "[LightGBM] [Info] Number of positive: 9111, number of negative: 9435\n",
      "[LightGBM] [Info] Auto-choosing row-wise multi-threading, the overhead of testing was 0.050895 seconds.\n",
      "You can set `force_row_wise=true` to remove the overhead.\n",
      "And if memory is not enough, you can set `force_col_wise=true`.\n",
      "[LightGBM] [Info] Total Bins 1002\n",
      "[LightGBM] [Info] Number of data points in the train set: 18546, number of used features: 459\n",
      "[LightGBM] [Info] [binary:BoostFromScore]: pavg=0.491265 -> initscore=-0.034944\n",
      "[LightGBM] [Info] Start training from score -0.034944\n",
      "[LightGBM] [Info] Number of positive: 9111, number of negative: 9434\n",
      "[LightGBM] [Info] Auto-choosing row-wise multi-threading, the overhead of testing was 0.053231 seconds.\n",
      "You can set `force_row_wise=true` to remove the overhead.\n",
      "And if memory is not enough, you can set `force_col_wise=true`.\n",
      "[LightGBM] [Info] Total Bins 1043\n",
      "[LightGBM] [Info] Number of data points in the train set: 18545, number of used features: 472\n",
      "[LightGBM] [Info] [binary:BoostFromScore]: pavg=0.491291 -> initscore=-0.034838\n",
      "[LightGBM] [Info] Start training from score -0.034838\n",
      "[LightGBM] [Info] Number of positive: 9111, number of negative: 9434\n",
      "[LightGBM] [Info] Auto-choosing row-wise multi-threading, the overhead of testing was 0.051684 seconds.\n",
      "You can set `force_row_wise=true` to remove the overhead.\n",
      "And if memory is not enough, you can set `force_col_wise=true`.\n",
      "[LightGBM] [Info] Total Bins 1038\n",
      "[LightGBM] [Info] Number of data points in the train set: 18545, number of used features: 470\n",
      "[LightGBM] [Info] [binary:BoostFromScore]: pavg=0.491291 -> initscore=-0.034838\n",
      "[LightGBM] [Info] Start training from score -0.034838\n",
      "[LightGBM] [Info] Number of positive: 9112, number of negative: 9434\n",
      "[LightGBM] [Info] Auto-choosing row-wise multi-threading, the overhead of testing was 0.051540 seconds.\n",
      "You can set `force_row_wise=true` to remove the overhead.\n",
      "And if memory is not enough, you can set `force_col_wise=true`.\n",
      "[LightGBM] [Info] Total Bins 1040\n",
      "[LightGBM] [Info] Number of data points in the train set: 18546, number of used features: 470\n",
      "[LightGBM] [Info] [binary:BoostFromScore]: pavg=0.491319 -> initscore=-0.034728\n",
      "[LightGBM] [Info] Start training from score -0.034728\n",
      "[LightGBM] [Info] Number of positive: 9111, number of negative: 9435\n",
      "[LightGBM] [Info] Auto-choosing row-wise multi-threading, the overhead of testing was 0.053060 seconds.\n",
      "You can set `force_row_wise=true` to remove the overhead.\n",
      "And if memory is not enough, you can set `force_col_wise=true`.\n",
      "[LightGBM] [Info] Total Bins 1047\n",
      "[LightGBM] [Info] Number of data points in the train set: 18546, number of used features: 475\n",
      "[LightGBM] [Info] [binary:BoostFromScore]: pavg=0.491265 -> initscore=-0.034944\n",
      "[LightGBM] [Info] Start training from score -0.034944\n",
      "[LightGBM] [Info] Number of positive: 9111, number of negative: 9435\n",
      "[LightGBM] [Info] Auto-choosing row-wise multi-threading, the overhead of testing was 0.050619 seconds.\n",
      "You can set `force_row_wise=true` to remove the overhead.\n",
      "And if memory is not enough, you can set `force_col_wise=true`.\n",
      "[LightGBM] [Info] Total Bins 1002\n",
      "[LightGBM] [Info] Number of data points in the train set: 18546, number of used features: 459\n",
      "[LightGBM] [Info] [binary:BoostFromScore]: pavg=0.491265 -> initscore=-0.034944\n",
      "[LightGBM] [Info] Start training from score -0.034944\n",
      "[LightGBM] [Info] Number of positive: 9111, number of negative: 9434\n",
      "[LightGBM] [Info] Auto-choosing row-wise multi-threading, the overhead of testing was 0.052152 seconds.\n",
      "You can set `force_row_wise=true` to remove the overhead.\n",
      "And if memory is not enough, you can set `force_col_wise=true`.\n",
      "[LightGBM] [Info] Total Bins 1043\n",
      "[LightGBM] [Info] Number of data points in the train set: 18545, number of used features: 472\n",
      "[LightGBM] [Info] [binary:BoostFromScore]: pavg=0.491291 -> initscore=-0.034838\n",
      "[LightGBM] [Info] Start training from score -0.034838\n",
      "[LightGBM] [Info] Number of positive: 9111, number of negative: 9434\n",
      "[LightGBM] [Info] Auto-choosing row-wise multi-threading, the overhead of testing was 0.051776 seconds.\n",
      "You can set `force_row_wise=true` to remove the overhead.\n",
      "And if memory is not enough, you can set `force_col_wise=true`.\n",
      "[LightGBM] [Info] Total Bins 1038\n",
      "[LightGBM] [Info] Number of data points in the train set: 18545, number of used features: 470\n",
      "[LightGBM] [Info] [binary:BoostFromScore]: pavg=0.491291 -> initscore=-0.034838\n",
      "[LightGBM] [Info] Start training from score -0.034838\n",
      "[LightGBM] [Info] Number of positive: 9112, number of negative: 9434\n",
      "[LightGBM] [Info] Auto-choosing col-wise multi-threading, the overhead of testing was 0.053218 seconds.\n",
      "You can set `force_col_wise=true` to remove the overhead.\n",
      "[LightGBM] [Info] Total Bins 1040\n",
      "[LightGBM] [Info] Number of data points in the train set: 18546, number of used features: 470\n",
      "[LightGBM] [Info] [binary:BoostFromScore]: pavg=0.491319 -> initscore=-0.034728\n",
      "[LightGBM] [Info] Start training from score -0.034728\n",
      "[LightGBM] [Info] Number of positive: 9111, number of negative: 9435\n",
      "[LightGBM] [Info] Auto-choosing row-wise multi-threading, the overhead of testing was 0.053727 seconds.\n",
      "You can set `force_row_wise=true` to remove the overhead.\n",
      "And if memory is not enough, you can set `force_col_wise=true`.\n",
      "[LightGBM] [Info] Total Bins 1047\n",
      "[LightGBM] [Info] Number of data points in the train set: 18546, number of used features: 475\n",
      "[LightGBM] [Info] [binary:BoostFromScore]: pavg=0.491265 -> initscore=-0.034944\n",
      "[LightGBM] [Info] Start training from score -0.034944\n",
      "[LightGBM] [Info] Number of positive: 9111, number of negative: 9435\n",
      "[LightGBM] [Info] Auto-choosing row-wise multi-threading, the overhead of testing was 0.050618 seconds.\n",
      "You can set `force_row_wise=true` to remove the overhead.\n",
      "And if memory is not enough, you can set `force_col_wise=true`.\n",
      "[LightGBM] [Info] Total Bins 1002\n",
      "[LightGBM] [Info] Number of data points in the train set: 18546, number of used features: 459\n",
      "[LightGBM] [Info] [binary:BoostFromScore]: pavg=0.491265 -> initscore=-0.034944\n",
      "[LightGBM] [Info] Start training from score -0.034944\n",
      "[LightGBM] [Info] Number of positive: 9111, number of negative: 9434\n",
      "[LightGBM] [Info] Auto-choosing row-wise multi-threading, the overhead of testing was 0.053204 seconds.\n",
      "You can set `force_row_wise=true` to remove the overhead.\n",
      "And if memory is not enough, you can set `force_col_wise=true`.\n",
      "[LightGBM] [Info] Total Bins 1043\n",
      "[LightGBM] [Info] Number of data points in the train set: 18545, number of used features: 472\n",
      "[LightGBM] [Info] [binary:BoostFromScore]: pavg=0.491291 -> initscore=-0.034838\n",
      "[LightGBM] [Info] Start training from score -0.034838\n",
      "[LightGBM] [Info] Number of positive: 9111, number of negative: 9434\n",
      "[LightGBM] [Info] Auto-choosing row-wise multi-threading, the overhead of testing was 0.051525 seconds.\n",
      "You can set `force_row_wise=true` to remove the overhead.\n",
      "And if memory is not enough, you can set `force_col_wise=true`.\n",
      "[LightGBM] [Info] Total Bins 1038\n",
      "[LightGBM] [Info] Number of data points in the train set: 18545, number of used features: 470\n",
      "[LightGBM] [Info] [binary:BoostFromScore]: pavg=0.491291 -> initscore=-0.034838\n",
      "[LightGBM] [Info] Start training from score -0.034838\n",
      "[LightGBM] [Info] Number of positive: 9112, number of negative: 9434\n",
      "[LightGBM] [Info] Auto-choosing row-wise multi-threading, the overhead of testing was 0.051693 seconds.\n",
      "You can set `force_row_wise=true` to remove the overhead.\n",
      "And if memory is not enough, you can set `force_col_wise=true`.\n",
      "[LightGBM] [Info] Total Bins 1040\n",
      "[LightGBM] [Info] Number of data points in the train set: 18546, number of used features: 470\n",
      "[LightGBM] [Info] [binary:BoostFromScore]: pavg=0.491319 -> initscore=-0.034728\n",
      "[LightGBM] [Info] Start training from score -0.034728\n",
      "[LightGBM] [Info] Number of positive: 9111, number of negative: 9435\n",
      "[LightGBM] [Info] Auto-choosing row-wise multi-threading, the overhead of testing was 0.059650 seconds.\n",
      "You can set `force_row_wise=true` to remove the overhead.\n",
      "And if memory is not enough, you can set `force_col_wise=true`.\n",
      "[LightGBM] [Info] Total Bins 1047\n",
      "[LightGBM] [Info] Number of data points in the train set: 18546, number of used features: 475\n",
      "[LightGBM] [Info] [binary:BoostFromScore]: pavg=0.491265 -> initscore=-0.034944\n",
      "[LightGBM] [Info] Start training from score -0.034944\n",
      "[LightGBM] [Info] Number of positive: 9111, number of negative: 9435\n",
      "[LightGBM] [Info] Auto-choosing row-wise multi-threading, the overhead of testing was 0.051669 seconds.\n",
      "You can set `force_row_wise=true` to remove the overhead.\n",
      "And if memory is not enough, you can set `force_col_wise=true`.\n",
      "[LightGBM] [Info] Total Bins 1002\n",
      "[LightGBM] [Info] Number of data points in the train set: 18546, number of used features: 459\n",
      "[LightGBM] [Info] [binary:BoostFromScore]: pavg=0.491265 -> initscore=-0.034944\n",
      "[LightGBM] [Info] Start training from score -0.034944\n",
      "[LightGBM] [Info] Number of positive: 9111, number of negative: 9434\n",
      "[LightGBM] [Info] Auto-choosing row-wise multi-threading, the overhead of testing was 0.052517 seconds.\n",
      "You can set `force_row_wise=true` to remove the overhead.\n",
      "And if memory is not enough, you can set `force_col_wise=true`.\n",
      "[LightGBM] [Info] Total Bins 1043\n",
      "[LightGBM] [Info] Number of data points in the train set: 18545, number of used features: 472\n",
      "[LightGBM] [Info] [binary:BoostFromScore]: pavg=0.491291 -> initscore=-0.034838\n",
      "[LightGBM] [Info] Start training from score -0.034838\n",
      "[LightGBM] [Info] Number of positive: 9111, number of negative: 9434\n",
      "[LightGBM] [Info] Auto-choosing row-wise multi-threading, the overhead of testing was 0.051876 seconds.\n",
      "You can set `force_row_wise=true` to remove the overhead.\n",
      "And if memory is not enough, you can set `force_col_wise=true`.\n",
      "[LightGBM] [Info] Total Bins 1038\n",
      "[LightGBM] [Info] Number of data points in the train set: 18545, number of used features: 470\n",
      "[LightGBM] [Info] [binary:BoostFromScore]: pavg=0.491291 -> initscore=-0.034838\n",
      "[LightGBM] [Info] Start training from score -0.034838\n",
      "[LightGBM] [Info] Number of positive: 9112, number of negative: 9434\n",
      "[LightGBM] [Info] Auto-choosing row-wise multi-threading, the overhead of testing was 0.051592 seconds.\n",
      "You can set `force_row_wise=true` to remove the overhead.\n",
      "And if memory is not enough, you can set `force_col_wise=true`.\n",
      "[LightGBM] [Info] Total Bins 1040\n",
      "[LightGBM] [Info] Number of data points in the train set: 18546, number of used features: 470\n",
      "[LightGBM] [Info] [binary:BoostFromScore]: pavg=0.491319 -> initscore=-0.034728\n",
      "[LightGBM] [Info] Start training from score -0.034728\n",
      "[LightGBM] [Info] Number of positive: 9111, number of negative: 9435\n",
      "[LightGBM] [Info] Auto-choosing row-wise multi-threading, the overhead of testing was 0.053659 seconds.\n",
      "You can set `force_row_wise=true` to remove the overhead.\n",
      "And if memory is not enough, you can set `force_col_wise=true`.\n",
      "[LightGBM] [Info] Total Bins 1047\n",
      "[LightGBM] [Info] Number of data points in the train set: 18546, number of used features: 475\n",
      "[LightGBM] [Info] [binary:BoostFromScore]: pavg=0.491265 -> initscore=-0.034944\n",
      "[LightGBM] [Info] Start training from score -0.034944\n",
      "[LightGBM] [Info] Number of positive: 9111, number of negative: 9435\n",
      "[LightGBM] [Info] Auto-choosing row-wise multi-threading, the overhead of testing was 0.050526 seconds.\n",
      "You can set `force_row_wise=true` to remove the overhead.\n",
      "And if memory is not enough, you can set `force_col_wise=true`.\n",
      "[LightGBM] [Info] Total Bins 1002\n",
      "[LightGBM] [Info] Number of data points in the train set: 18546, number of used features: 459\n",
      "[LightGBM] [Info] [binary:BoostFromScore]: pavg=0.491265 -> initscore=-0.034944\n",
      "[LightGBM] [Info] Start training from score -0.034944\n",
      "[LightGBM] [Info] Number of positive: 9111, number of negative: 9434\n",
      "[LightGBM] [Info] Auto-choosing row-wise multi-threading, the overhead of testing was 0.051947 seconds.\n",
      "You can set `force_row_wise=true` to remove the overhead.\n",
      "And if memory is not enough, you can set `force_col_wise=true`.\n",
      "[LightGBM] [Info] Total Bins 1043\n",
      "[LightGBM] [Info] Number of data points in the train set: 18545, number of used features: 472\n",
      "[LightGBM] [Info] [binary:BoostFromScore]: pavg=0.491291 -> initscore=-0.034838\n",
      "[LightGBM] [Info] Start training from score -0.034838\n",
      "[LightGBM] [Info] Number of positive: 9111, number of negative: 9434\n",
      "[LightGBM] [Info] Auto-choosing row-wise multi-threading, the overhead of testing was 0.051563 seconds.\n",
      "You can set `force_row_wise=true` to remove the overhead.\n",
      "And if memory is not enough, you can set `force_col_wise=true`.\n",
      "[LightGBM] [Info] Total Bins 1038\n",
      "[LightGBM] [Info] Number of data points in the train set: 18545, number of used features: 470\n",
      "[LightGBM] [Info] [binary:BoostFromScore]: pavg=0.491291 -> initscore=-0.034838\n",
      "[LightGBM] [Info] Start training from score -0.034838\n",
      "[LightGBM] [Info] Number of positive: 9112, number of negative: 9434\n",
      "[LightGBM] [Info] Auto-choosing row-wise multi-threading, the overhead of testing was 0.052713 seconds.\n",
      "You can set `force_row_wise=true` to remove the overhead.\n",
      "And if memory is not enough, you can set `force_col_wise=true`.\n",
      "[LightGBM] [Info] Total Bins 1040\n",
      "[LightGBM] [Info] Number of data points in the train set: 18546, number of used features: 470\n",
      "[LightGBM] [Info] [binary:BoostFromScore]: pavg=0.491319 -> initscore=-0.034728\n",
      "[LightGBM] [Info] Start training from score -0.034728\n",
      "[LightGBM] [Info] Number of positive: 9111, number of negative: 9435\n",
      "[LightGBM] [Info] Auto-choosing col-wise multi-threading, the overhead of testing was 0.051800 seconds.\n",
      "You can set `force_col_wise=true` to remove the overhead.\n",
      "[LightGBM] [Info] Total Bins 1047\n",
      "[LightGBM] [Info] Number of data points in the train set: 18546, number of used features: 475\n",
      "[LightGBM] [Info] [binary:BoostFromScore]: pavg=0.491265 -> initscore=-0.034944\n",
      "[LightGBM] [Info] Start training from score -0.034944\n",
      "[LightGBM] [Info] Number of positive: 9111, number of negative: 9435\n",
      "[LightGBM] [Info] Auto-choosing row-wise multi-threading, the overhead of testing was 0.050388 seconds.\n",
      "You can set `force_row_wise=true` to remove the overhead.\n",
      "And if memory is not enough, you can set `force_col_wise=true`.\n",
      "[LightGBM] [Info] Total Bins 1002\n",
      "[LightGBM] [Info] Number of data points in the train set: 18546, number of used features: 459\n",
      "[LightGBM] [Info] [binary:BoostFromScore]: pavg=0.491265 -> initscore=-0.034944\n",
      "[LightGBM] [Info] Start training from score -0.034944\n",
      "[LightGBM] [Info] Number of positive: 9111, number of negative: 9434\n",
      "[LightGBM] [Info] Auto-choosing row-wise multi-threading, the overhead of testing was 0.051831 seconds.\n",
      "You can set `force_row_wise=true` to remove the overhead.\n",
      "And if memory is not enough, you can set `force_col_wise=true`.\n",
      "[LightGBM] [Info] Total Bins 1043\n",
      "[LightGBM] [Info] Number of data points in the train set: 18545, number of used features: 472\n",
      "[LightGBM] [Info] [binary:BoostFromScore]: pavg=0.491291 -> initscore=-0.034838\n",
      "[LightGBM] [Info] Start training from score -0.034838\n",
      "[LightGBM] [Info] Number of positive: 9111, number of negative: 9434\n",
      "[LightGBM] [Info] Auto-choosing row-wise multi-threading, the overhead of testing was 0.051812 seconds.\n",
      "You can set `force_row_wise=true` to remove the overhead.\n",
      "And if memory is not enough, you can set `force_col_wise=true`.\n",
      "[LightGBM] [Info] Total Bins 1038\n",
      "[LightGBM] [Info] Number of data points in the train set: 18545, number of used features: 470\n",
      "[LightGBM] [Info] [binary:BoostFromScore]: pavg=0.491291 -> initscore=-0.034838\n",
      "[LightGBM] [Info] Start training from score -0.034838\n",
      "[LightGBM] [Info] Number of positive: 9112, number of negative: 9434\n",
      "[LightGBM] [Info] Auto-choosing row-wise multi-threading, the overhead of testing was 0.052354 seconds.\n",
      "You can set `force_row_wise=true` to remove the overhead.\n",
      "And if memory is not enough, you can set `force_col_wise=true`.\n",
      "[LightGBM] [Info] Total Bins 1040\n",
      "[LightGBM] [Info] Number of data points in the train set: 18546, number of used features: 470\n",
      "[LightGBM] [Info] [binary:BoostFromScore]: pavg=0.491319 -> initscore=-0.034728\n",
      "[LightGBM] [Info] Start training from score -0.034728\n",
      "[LightGBM] [Info] Number of positive: 9111, number of negative: 9435\n",
      "[LightGBM] [Info] Auto-choosing row-wise multi-threading, the overhead of testing was 0.053179 seconds.\n",
      "You can set `force_row_wise=true` to remove the overhead.\n",
      "And if memory is not enough, you can set `force_col_wise=true`.\n",
      "[LightGBM] [Info] Total Bins 1047\n",
      "[LightGBM] [Info] Number of data points in the train set: 18546, number of used features: 475\n",
      "[LightGBM] [Info] [binary:BoostFromScore]: pavg=0.491265 -> initscore=-0.034944\n",
      "[LightGBM] [Info] Start training from score -0.034944\n",
      "[LightGBM] [Info] Number of positive: 9111, number of negative: 9435\n",
      "[LightGBM] [Info] Auto-choosing row-wise multi-threading, the overhead of testing was 0.051088 seconds.\n",
      "You can set `force_row_wise=true` to remove the overhead.\n",
      "And if memory is not enough, you can set `force_col_wise=true`.\n",
      "[LightGBM] [Info] Total Bins 1002\n",
      "[LightGBM] [Info] Number of data points in the train set: 18546, number of used features: 459\n",
      "[LightGBM] [Info] [binary:BoostFromScore]: pavg=0.491265 -> initscore=-0.034944\n",
      "[LightGBM] [Info] Start training from score -0.034944\n",
      "[LightGBM] [Info] Number of positive: 9111, number of negative: 9434\n",
      "[LightGBM] [Info] Auto-choosing row-wise multi-threading, the overhead of testing was 0.052034 seconds.\n",
      "You can set `force_row_wise=true` to remove the overhead.\n",
      "And if memory is not enough, you can set `force_col_wise=true`.\n",
      "[LightGBM] [Info] Total Bins 1043\n",
      "[LightGBM] [Info] Number of data points in the train set: 18545, number of used features: 472\n",
      "[LightGBM] [Info] [binary:BoostFromScore]: pavg=0.491291 -> initscore=-0.034838\n",
      "[LightGBM] [Info] Start training from score -0.034838\n",
      "[LightGBM] [Info] Number of positive: 9111, number of negative: 9434\n",
      "[LightGBM] [Info] Auto-choosing row-wise multi-threading, the overhead of testing was 0.052374 seconds.\n",
      "You can set `force_row_wise=true` to remove the overhead.\n",
      "And if memory is not enough, you can set `force_col_wise=true`.\n",
      "[LightGBM] [Info] Total Bins 1038\n",
      "[LightGBM] [Info] Number of data points in the train set: 18545, number of used features: 470\n",
      "[LightGBM] [Info] [binary:BoostFromScore]: pavg=0.491291 -> initscore=-0.034838\n",
      "[LightGBM] [Info] Start training from score -0.034838\n",
      "[LightGBM] [Info] Number of positive: 9112, number of negative: 9434\n",
      "[LightGBM] [Info] Auto-choosing row-wise multi-threading, the overhead of testing was 0.051769 seconds.\n",
      "You can set `force_row_wise=true` to remove the overhead.\n",
      "And if memory is not enough, you can set `force_col_wise=true`.\n",
      "[LightGBM] [Info] Total Bins 1040\n",
      "[LightGBM] [Info] Number of data points in the train set: 18546, number of used features: 470\n",
      "[LightGBM] [Info] [binary:BoostFromScore]: pavg=0.491319 -> initscore=-0.034728\n",
      "[LightGBM] [Info] Start training from score -0.034728\n",
      "[LightGBM] [Info] Number of positive: 9111, number of negative: 9435\n",
      "[LightGBM] [Info] Auto-choosing row-wise multi-threading, the overhead of testing was 0.052401 seconds.\n",
      "You can set `force_row_wise=true` to remove the overhead.\n",
      "And if memory is not enough, you can set `force_col_wise=true`.\n",
      "[LightGBM] [Info] Total Bins 1047\n",
      "[LightGBM] [Info] Number of data points in the train set: 18546, number of used features: 475\n",
      "[LightGBM] [Info] [binary:BoostFromScore]: pavg=0.491265 -> initscore=-0.034944\n",
      "[LightGBM] [Info] Start training from score -0.034944\n",
      "[LightGBM] [Info] Number of positive: 9111, number of negative: 9435\n",
      "[LightGBM] [Info] Auto-choosing row-wise multi-threading, the overhead of testing was 0.051642 seconds.\n",
      "You can set `force_row_wise=true` to remove the overhead.\n",
      "And if memory is not enough, you can set `force_col_wise=true`.\n",
      "[LightGBM] [Info] Total Bins 1002\n",
      "[LightGBM] [Info] Number of data points in the train set: 18546, number of used features: 459\n",
      "[LightGBM] [Info] [binary:BoostFromScore]: pavg=0.491265 -> initscore=-0.034944\n",
      "[LightGBM] [Info] Start training from score -0.034944\n",
      "[LightGBM] [Info] Number of positive: 9111, number of negative: 9434\n",
      "[LightGBM] [Info] Auto-choosing row-wise multi-threading, the overhead of testing was 0.052011 seconds.\n",
      "You can set `force_row_wise=true` to remove the overhead.\n",
      "And if memory is not enough, you can set `force_col_wise=true`.\n",
      "[LightGBM] [Info] Total Bins 1043\n",
      "[LightGBM] [Info] Number of data points in the train set: 18545, number of used features: 472\n",
      "[LightGBM] [Info] [binary:BoostFromScore]: pavg=0.491291 -> initscore=-0.034838\n",
      "[LightGBM] [Info] Start training from score -0.034838\n",
      "[LightGBM] [Info] Number of positive: 9111, number of negative: 9434\n",
      "[LightGBM] [Info] Auto-choosing row-wise multi-threading, the overhead of testing was 0.053011 seconds.\n",
      "You can set `force_row_wise=true` to remove the overhead.\n",
      "And if memory is not enough, you can set `force_col_wise=true`.\n",
      "[LightGBM] [Info] Total Bins 1038\n",
      "[LightGBM] [Info] Number of data points in the train set: 18545, number of used features: 470\n",
      "[LightGBM] [Info] [binary:BoostFromScore]: pavg=0.491291 -> initscore=-0.034838\n",
      "[LightGBM] [Info] Start training from score -0.034838\n",
      "[LightGBM] [Info] Number of positive: 9112, number of negative: 9434\n",
      "[LightGBM] [Info] Auto-choosing col-wise multi-threading, the overhead of testing was 0.054434 seconds.\n",
      "You can set `force_col_wise=true` to remove the overhead.\n",
      "[LightGBM] [Info] Total Bins 1040\n",
      "[LightGBM] [Info] Number of data points in the train set: 18546, number of used features: 470\n",
      "[LightGBM] [Info] [binary:BoostFromScore]: pavg=0.491319 -> initscore=-0.034728\n",
      "[LightGBM] [Info] Start training from score -0.034728\n",
      "[LightGBM] [Info] Number of positive: 9111, number of negative: 9435\n",
      "[LightGBM] [Info] Auto-choosing row-wise multi-threading, the overhead of testing was 0.052703 seconds.\n",
      "You can set `force_row_wise=true` to remove the overhead.\n",
      "And if memory is not enough, you can set `force_col_wise=true`.\n",
      "[LightGBM] [Info] Total Bins 1047\n",
      "[LightGBM] [Info] Number of data points in the train set: 18546, number of used features: 475\n",
      "[LightGBM] [Info] [binary:BoostFromScore]: pavg=0.491265 -> initscore=-0.034944\n",
      "[LightGBM] [Info] Start training from score -0.034944\n",
      "[LightGBM] [Info] Number of positive: 9111, number of negative: 9435\n",
      "[LightGBM] [Info] Auto-choosing row-wise multi-threading, the overhead of testing was 0.054450 seconds.\n",
      "You can set `force_row_wise=true` to remove the overhead.\n",
      "And if memory is not enough, you can set `force_col_wise=true`.\n",
      "[LightGBM] [Info] Total Bins 1002\n",
      "[LightGBM] [Info] Number of data points in the train set: 18546, number of used features: 459\n",
      "[LightGBM] [Info] [binary:BoostFromScore]: pavg=0.491265 -> initscore=-0.034944\n",
      "[LightGBM] [Info] Start training from score -0.034944\n",
      "[LightGBM] [Info] Number of positive: 9111, number of negative: 9434\n",
      "[LightGBM] [Info] Auto-choosing row-wise multi-threading, the overhead of testing was 0.052167 seconds.\n",
      "You can set `force_row_wise=true` to remove the overhead.\n",
      "And if memory is not enough, you can set `force_col_wise=true`.\n",
      "[LightGBM] [Info] Total Bins 1043\n",
      "[LightGBM] [Info] Number of data points in the train set: 18545, number of used features: 472\n",
      "[LightGBM] [Info] [binary:BoostFromScore]: pavg=0.491291 -> initscore=-0.034838\n",
      "[LightGBM] [Info] Start training from score -0.034838\n",
      "[LightGBM] [Info] Number of positive: 9111, number of negative: 9434\n",
      "[LightGBM] [Info] Auto-choosing row-wise multi-threading, the overhead of testing was 0.051557 seconds.\n",
      "You can set `force_row_wise=true` to remove the overhead.\n",
      "And if memory is not enough, you can set `force_col_wise=true`.\n",
      "[LightGBM] [Info] Total Bins 1038\n",
      "[LightGBM] [Info] Number of data points in the train set: 18545, number of used features: 470\n",
      "[LightGBM] [Info] [binary:BoostFromScore]: pavg=0.491291 -> initscore=-0.034838\n",
      "[LightGBM] [Info] Start training from score -0.034838\n",
      "[LightGBM] [Info] Number of positive: 9112, number of negative: 9434\n",
      "[LightGBM] [Info] Auto-choosing row-wise multi-threading, the overhead of testing was 0.052307 seconds.\n",
      "You can set `force_row_wise=true` to remove the overhead.\n",
      "And if memory is not enough, you can set `force_col_wise=true`.\n",
      "[LightGBM] [Info] Total Bins 1040\n",
      "[LightGBM] [Info] Number of data points in the train set: 18546, number of used features: 470\n",
      "[LightGBM] [Info] [binary:BoostFromScore]: pavg=0.491319 -> initscore=-0.034728\n",
      "[LightGBM] [Info] Start training from score -0.034728\n",
      "[LightGBM] [Info] Number of positive: 9111, number of negative: 9435\n",
      "[LightGBM] [Info] Auto-choosing row-wise multi-threading, the overhead of testing was 0.052783 seconds.\n",
      "You can set `force_row_wise=true` to remove the overhead.\n",
      "And if memory is not enough, you can set `force_col_wise=true`.\n",
      "[LightGBM] [Info] Total Bins 1047\n",
      "[LightGBM] [Info] Number of data points in the train set: 18546, number of used features: 475\n",
      "[LightGBM] [Info] [binary:BoostFromScore]: pavg=0.491265 -> initscore=-0.034944\n",
      "[LightGBM] [Info] Start training from score -0.034944\n",
      "[LightGBM] [Info] Number of positive: 9111, number of negative: 9435\n",
      "[LightGBM] [Info] Auto-choosing row-wise multi-threading, the overhead of testing was 0.051092 seconds.\n",
      "You can set `force_row_wise=true` to remove the overhead.\n",
      "And if memory is not enough, you can set `force_col_wise=true`.\n",
      "[LightGBM] [Info] Total Bins 1002\n",
      "[LightGBM] [Info] Number of data points in the train set: 18546, number of used features: 459\n",
      "[LightGBM] [Info] [binary:BoostFromScore]: pavg=0.491265 -> initscore=-0.034944\n",
      "[LightGBM] [Info] Start training from score -0.034944\n",
      "[LightGBM] [Info] Number of positive: 9111, number of negative: 9434\n",
      "[LightGBM] [Info] Auto-choosing row-wise multi-threading, the overhead of testing was 0.052627 seconds.\n",
      "You can set `force_row_wise=true` to remove the overhead.\n",
      "And if memory is not enough, you can set `force_col_wise=true`.\n",
      "[LightGBM] [Info] Total Bins 1043\n",
      "[LightGBM] [Info] Number of data points in the train set: 18545, number of used features: 472\n",
      "[LightGBM] [Info] [binary:BoostFromScore]: pavg=0.491291 -> initscore=-0.034838\n",
      "[LightGBM] [Info] Start training from score -0.034838\n",
      "[LightGBM] [Info] Number of positive: 9111, number of negative: 9434\n",
      "[LightGBM] [Info] Auto-choosing row-wise multi-threading, the overhead of testing was 0.052288 seconds.\n",
      "You can set `force_row_wise=true` to remove the overhead.\n",
      "And if memory is not enough, you can set `force_col_wise=true`.\n",
      "[LightGBM] [Info] Total Bins 1038\n",
      "[LightGBM] [Info] Number of data points in the train set: 18545, number of used features: 470\n",
      "[LightGBM] [Info] [binary:BoostFromScore]: pavg=0.491291 -> initscore=-0.034838\n",
      "[LightGBM] [Info] Start training from score -0.034838\n",
      "[LightGBM] [Info] Number of positive: 9112, number of negative: 9434\n",
      "[LightGBM] [Info] Auto-choosing row-wise multi-threading, the overhead of testing was 0.053482 seconds.\n",
      "You can set `force_row_wise=true` to remove the overhead.\n",
      "And if memory is not enough, you can set `force_col_wise=true`.\n",
      "[LightGBM] [Info] Total Bins 1040\n",
      "[LightGBM] [Info] Number of data points in the train set: 18546, number of used features: 470\n",
      "[LightGBM] [Info] [binary:BoostFromScore]: pavg=0.491319 -> initscore=-0.034728\n",
      "[LightGBM] [Info] Start training from score -0.034728\n",
      "[LightGBM] [Info] Number of positive: 9111, number of negative: 9435\n",
      "[LightGBM] [Info] Auto-choosing row-wise multi-threading, the overhead of testing was 0.054370 seconds.\n",
      "You can set `force_row_wise=true` to remove the overhead.\n",
      "And if memory is not enough, you can set `force_col_wise=true`.\n",
      "[LightGBM] [Info] Total Bins 1047\n",
      "[LightGBM] [Info] Number of data points in the train set: 18546, number of used features: 475\n",
      "[LightGBM] [Info] [binary:BoostFromScore]: pavg=0.491265 -> initscore=-0.034944\n",
      "[LightGBM] [Info] Start training from score -0.034944\n",
      "[LightGBM] [Info] Number of positive: 9111, number of negative: 9435\n",
      "[LightGBM] [Info] Auto-choosing row-wise multi-threading, the overhead of testing was 0.051913 seconds.\n",
      "You can set `force_row_wise=true` to remove the overhead.\n",
      "And if memory is not enough, you can set `force_col_wise=true`.\n",
      "[LightGBM] [Info] Total Bins 1002\n",
      "[LightGBM] [Info] Number of data points in the train set: 18546, number of used features: 459\n",
      "[LightGBM] [Info] [binary:BoostFromScore]: pavg=0.491265 -> initscore=-0.034944\n",
      "[LightGBM] [Info] Start training from score -0.034944\n",
      "[LightGBM] [Info] Number of positive: 9111, number of negative: 9434\n",
      "[LightGBM] [Info] Auto-choosing row-wise multi-threading, the overhead of testing was 0.052512 seconds.\n",
      "You can set `force_row_wise=true` to remove the overhead.\n",
      "And if memory is not enough, you can set `force_col_wise=true`.\n",
      "[LightGBM] [Info] Total Bins 1043\n",
      "[LightGBM] [Info] Number of data points in the train set: 18545, number of used features: 472\n",
      "[LightGBM] [Info] [binary:BoostFromScore]: pavg=0.491291 -> initscore=-0.034838\n",
      "[LightGBM] [Info] Start training from score -0.034838\n",
      "[LightGBM] [Info] Number of positive: 9111, number of negative: 9434\n",
      "[LightGBM] [Info] Auto-choosing row-wise multi-threading, the overhead of testing was 0.051845 seconds.\n",
      "You can set `force_row_wise=true` to remove the overhead.\n",
      "And if memory is not enough, you can set `force_col_wise=true`.\n",
      "[LightGBM] [Info] Total Bins 1038\n",
      "[LightGBM] [Info] Number of data points in the train set: 18545, number of used features: 470\n",
      "[LightGBM] [Info] [binary:BoostFromScore]: pavg=0.491291 -> initscore=-0.034838\n",
      "[LightGBM] [Info] Start training from score -0.034838\n",
      "[LightGBM] [Info] Number of positive: 9112, number of negative: 9434\n",
      "[LightGBM] [Info] Auto-choosing row-wise multi-threading, the overhead of testing was 0.065885 seconds.\n",
      "You can set `force_row_wise=true` to remove the overhead.\n",
      "And if memory is not enough, you can set `force_col_wise=true`.\n",
      "[LightGBM] [Info] Total Bins 1040\n",
      "[LightGBM] [Info] Number of data points in the train set: 18546, number of used features: 470\n",
      "[LightGBM] [Info] [binary:BoostFromScore]: pavg=0.491319 -> initscore=-0.034728\n",
      "[LightGBM] [Info] Start training from score -0.034728\n",
      "[LightGBM] [Info] Number of positive: 9111, number of negative: 9435\n",
      "[LightGBM] [Info] Auto-choosing row-wise multi-threading, the overhead of testing was 0.053159 seconds.\n",
      "You can set `force_row_wise=true` to remove the overhead.\n",
      "And if memory is not enough, you can set `force_col_wise=true`.\n",
      "[LightGBM] [Info] Total Bins 1047\n",
      "[LightGBM] [Info] Number of data points in the train set: 18546, number of used features: 475\n",
      "[LightGBM] [Info] [binary:BoostFromScore]: pavg=0.491265 -> initscore=-0.034944\n",
      "[LightGBM] [Info] Start training from score -0.034944\n",
      "[LightGBM] [Info] Number of positive: 9111, number of negative: 9435\n",
      "[LightGBM] [Info] Auto-choosing row-wise multi-threading, the overhead of testing was 0.050944 seconds.\n",
      "You can set `force_row_wise=true` to remove the overhead.\n",
      "And if memory is not enough, you can set `force_col_wise=true`.\n",
      "[LightGBM] [Info] Total Bins 1002\n",
      "[LightGBM] [Info] Number of data points in the train set: 18546, number of used features: 459\n",
      "[LightGBM] [Info] [binary:BoostFromScore]: pavg=0.491265 -> initscore=-0.034944\n",
      "[LightGBM] [Info] Start training from score -0.034944\n",
      "[LightGBM] [Info] Number of positive: 9111, number of negative: 9434\n",
      "[LightGBM] [Info] Auto-choosing row-wise multi-threading, the overhead of testing was 0.054144 seconds.\n",
      "You can set `force_row_wise=true` to remove the overhead.\n",
      "And if memory is not enough, you can set `force_col_wise=true`.\n",
      "[LightGBM] [Info] Total Bins 1043\n",
      "[LightGBM] [Info] Number of data points in the train set: 18545, number of used features: 472\n",
      "[LightGBM] [Info] [binary:BoostFromScore]: pavg=0.491291 -> initscore=-0.034838\n",
      "[LightGBM] [Info] Start training from score -0.034838\n",
      "[LightGBM] [Info] Number of positive: 9111, number of negative: 9434\n",
      "[LightGBM] [Info] Auto-choosing row-wise multi-threading, the overhead of testing was 0.052070 seconds.\n",
      "You can set `force_row_wise=true` to remove the overhead.\n",
      "And if memory is not enough, you can set `force_col_wise=true`.\n",
      "[LightGBM] [Info] Total Bins 1038\n",
      "[LightGBM] [Info] Number of data points in the train set: 18545, number of used features: 470\n",
      "[LightGBM] [Info] [binary:BoostFromScore]: pavg=0.491291 -> initscore=-0.034838\n",
      "[LightGBM] [Info] Start training from score -0.034838\n",
      "[LightGBM] [Info] Number of positive: 9112, number of negative: 9434\n",
      "[LightGBM] [Info] Auto-choosing row-wise multi-threading, the overhead of testing was 0.051988 seconds.\n",
      "You can set `force_row_wise=true` to remove the overhead.\n",
      "And if memory is not enough, you can set `force_col_wise=true`.\n",
      "[LightGBM] [Info] Total Bins 1040\n",
      "[LightGBM] [Info] Number of data points in the train set: 18546, number of used features: 470\n",
      "[LightGBM] [Info] [binary:BoostFromScore]: pavg=0.491319 -> initscore=-0.034728\n",
      "[LightGBM] [Info] Start training from score -0.034728\n",
      "[LightGBM] [Info] Number of positive: 9111, number of negative: 9435\n",
      "[LightGBM] [Info] Auto-choosing row-wise multi-threading, the overhead of testing was 0.052420 seconds.\n",
      "You can set `force_row_wise=true` to remove the overhead.\n",
      "And if memory is not enough, you can set `force_col_wise=true`.\n",
      "[LightGBM] [Info] Total Bins 1047\n",
      "[LightGBM] [Info] Number of data points in the train set: 18546, number of used features: 475\n",
      "[LightGBM] [Info] [binary:BoostFromScore]: pavg=0.491265 -> initscore=-0.034944\n",
      "[LightGBM] [Info] Start training from score -0.034944\n",
      "[LightGBM] [Info] Number of positive: 9111, number of negative: 9435\n",
      "[LightGBM] [Info] Auto-choosing row-wise multi-threading, the overhead of testing was 0.051333 seconds.\n",
      "You can set `force_row_wise=true` to remove the overhead.\n",
      "And if memory is not enough, you can set `force_col_wise=true`.\n",
      "[LightGBM] [Info] Total Bins 1002\n",
      "[LightGBM] [Info] Number of data points in the train set: 18546, number of used features: 459\n",
      "[LightGBM] [Info] [binary:BoostFromScore]: pavg=0.491265 -> initscore=-0.034944\n",
      "[LightGBM] [Info] Start training from score -0.034944\n",
      "[LightGBM] [Info] Number of positive: 9111, number of negative: 9434\n",
      "[LightGBM] [Info] Auto-choosing row-wise multi-threading, the overhead of testing was 0.052769 seconds.\n",
      "You can set `force_row_wise=true` to remove the overhead.\n",
      "And if memory is not enough, you can set `force_col_wise=true`.\n",
      "[LightGBM] [Info] Total Bins 1043\n",
      "[LightGBM] [Info] Number of data points in the train set: 18545, number of used features: 472\n",
      "[LightGBM] [Info] [binary:BoostFromScore]: pavg=0.491291 -> initscore=-0.034838\n",
      "[LightGBM] [Info] Start training from score -0.034838\n",
      "[LightGBM] [Info] Number of positive: 9111, number of negative: 9434\n",
      "[LightGBM] [Info] Auto-choosing row-wise multi-threading, the overhead of testing was 0.051902 seconds.\n",
      "You can set `force_row_wise=true` to remove the overhead.\n",
      "And if memory is not enough, you can set `force_col_wise=true`.\n",
      "[LightGBM] [Info] Total Bins 1038\n",
      "[LightGBM] [Info] Number of data points in the train set: 18545, number of used features: 470\n",
      "[LightGBM] [Info] [binary:BoostFromScore]: pavg=0.491291 -> initscore=-0.034838\n",
      "[LightGBM] [Info] Start training from score -0.034838\n",
      "[LightGBM] [Info] Number of positive: 9112, number of negative: 9434\n",
      "[LightGBM] [Info] Auto-choosing row-wise multi-threading, the overhead of testing was 0.053123 seconds.\n",
      "You can set `force_row_wise=true` to remove the overhead.\n",
      "And if memory is not enough, you can set `force_col_wise=true`.\n",
      "[LightGBM] [Info] Total Bins 1040\n",
      "[LightGBM] [Info] Number of data points in the train set: 18546, number of used features: 470\n",
      "[LightGBM] [Info] [binary:BoostFromScore]: pavg=0.491319 -> initscore=-0.034728\n",
      "[LightGBM] [Info] Start training from score -0.034728\n",
      "[LightGBM] [Info] Number of positive: 9111, number of negative: 9435\n",
      "[LightGBM] [Info] Auto-choosing row-wise multi-threading, the overhead of testing was 0.052461 seconds.\n",
      "You can set `force_row_wise=true` to remove the overhead.\n",
      "And if memory is not enough, you can set `force_col_wise=true`.\n",
      "[LightGBM] [Info] Total Bins 1047\n",
      "[LightGBM] [Info] Number of data points in the train set: 18546, number of used features: 475\n",
      "[LightGBM] [Info] [binary:BoostFromScore]: pavg=0.491265 -> initscore=-0.034944\n",
      "[LightGBM] [Info] Start training from score -0.034944\n",
      "[LightGBM] [Info] Number of positive: 9111, number of negative: 9435\n",
      "[LightGBM] [Info] Auto-choosing row-wise multi-threading, the overhead of testing was 0.051525 seconds.\n",
      "You can set `force_row_wise=true` to remove the overhead.\n",
      "And if memory is not enough, you can set `force_col_wise=true`.\n",
      "[LightGBM] [Info] Total Bins 1002\n",
      "[LightGBM] [Info] Number of data points in the train set: 18546, number of used features: 459\n",
      "[LightGBM] [Info] [binary:BoostFromScore]: pavg=0.491265 -> initscore=-0.034944\n",
      "[LightGBM] [Info] Start training from score -0.034944\n",
      "[LightGBM] [Info] Number of positive: 9111, number of negative: 9434\n",
      "[LightGBM] [Info] Auto-choosing row-wise multi-threading, the overhead of testing was 0.052453 seconds.\n",
      "You can set `force_row_wise=true` to remove the overhead.\n",
      "And if memory is not enough, you can set `force_col_wise=true`.\n",
      "[LightGBM] [Info] Total Bins 1043\n",
      "[LightGBM] [Info] Number of data points in the train set: 18545, number of used features: 472\n",
      "[LightGBM] [Info] [binary:BoostFromScore]: pavg=0.491291 -> initscore=-0.034838\n",
      "[LightGBM] [Info] Start training from score -0.034838\n",
      "[LightGBM] [Info] Number of positive: 9111, number of negative: 9434\n",
      "[LightGBM] [Info] Auto-choosing row-wise multi-threading, the overhead of testing was 0.051492 seconds.\n",
      "You can set `force_row_wise=true` to remove the overhead.\n",
      "And if memory is not enough, you can set `force_col_wise=true`.\n",
      "[LightGBM] [Info] Total Bins 1038\n",
      "[LightGBM] [Info] Number of data points in the train set: 18545, number of used features: 470\n",
      "[LightGBM] [Info] [binary:BoostFromScore]: pavg=0.491291 -> initscore=-0.034838\n",
      "[LightGBM] [Info] Start training from score -0.034838\n",
      "[LightGBM] [Info] Number of positive: 9112, number of negative: 9434\n",
      "[LightGBM] [Info] Auto-choosing row-wise multi-threading, the overhead of testing was 0.051424 seconds.\n",
      "You can set `force_row_wise=true` to remove the overhead.\n",
      "And if memory is not enough, you can set `force_col_wise=true`.\n",
      "[LightGBM] [Info] Total Bins 1040\n",
      "[LightGBM] [Info] Number of data points in the train set: 18546, number of used features: 470\n",
      "[LightGBM] [Info] [binary:BoostFromScore]: pavg=0.491319 -> initscore=-0.034728\n",
      "[LightGBM] [Info] Start training from score -0.034728\n",
      "[LightGBM] [Info] Number of positive: 9111, number of negative: 9435\n",
      "[LightGBM] [Info] Auto-choosing row-wise multi-threading, the overhead of testing was 0.052292 seconds.\n",
      "You can set `force_row_wise=true` to remove the overhead.\n",
      "And if memory is not enough, you can set `force_col_wise=true`.\n",
      "[LightGBM] [Info] Total Bins 1047\n",
      "[LightGBM] [Info] Number of data points in the train set: 18546, number of used features: 475\n",
      "[LightGBM] [Info] [binary:BoostFromScore]: pavg=0.491265 -> initscore=-0.034944\n",
      "[LightGBM] [Info] Start training from score -0.034944\n",
      "[LightGBM] [Info] Number of positive: 9111, number of negative: 9435\n",
      "[LightGBM] [Info] Auto-choosing row-wise multi-threading, the overhead of testing was 0.051169 seconds.\n",
      "You can set `force_row_wise=true` to remove the overhead.\n",
      "And if memory is not enough, you can set `force_col_wise=true`.\n",
      "[LightGBM] [Info] Total Bins 1002\n",
      "[LightGBM] [Info] Number of data points in the train set: 18546, number of used features: 459\n",
      "[LightGBM] [Info] [binary:BoostFromScore]: pavg=0.491265 -> initscore=-0.034944\n",
      "[LightGBM] [Info] Start training from score -0.034944\n",
      "[LightGBM] [Info] Number of positive: 9111, number of negative: 9434\n",
      "[LightGBM] [Info] Auto-choosing col-wise multi-threading, the overhead of testing was 0.051439 seconds.\n",
      "You can set `force_col_wise=true` to remove the overhead.\n",
      "[LightGBM] [Info] Total Bins 1043\n",
      "[LightGBM] [Info] Number of data points in the train set: 18545, number of used features: 472\n",
      "[LightGBM] [Info] [binary:BoostFromScore]: pavg=0.491291 -> initscore=-0.034838\n",
      "[LightGBM] [Info] Start training from score -0.034838\n",
      "[LightGBM] [Info] Number of positive: 9111, number of negative: 9434\n",
      "[LightGBM] [Info] Auto-choosing row-wise multi-threading, the overhead of testing was 0.051402 seconds.\n",
      "You can set `force_row_wise=true` to remove the overhead.\n",
      "And if memory is not enough, you can set `force_col_wise=true`.\n",
      "[LightGBM] [Info] Total Bins 1038\n",
      "[LightGBM] [Info] Number of data points in the train set: 18545, number of used features: 470\n",
      "[LightGBM] [Info] [binary:BoostFromScore]: pavg=0.491291 -> initscore=-0.034838\n",
      "[LightGBM] [Info] Start training from score -0.034838\n",
      "[LightGBM] [Info] Number of positive: 9112, number of negative: 9434\n",
      "[LightGBM] [Info] Auto-choosing row-wise multi-threading, the overhead of testing was 0.052960 seconds.\n",
      "You can set `force_row_wise=true` to remove the overhead.\n",
      "And if memory is not enough, you can set `force_col_wise=true`.\n",
      "[LightGBM] [Info] Total Bins 1040\n",
      "[LightGBM] [Info] Number of data points in the train set: 18546, number of used features: 470\n",
      "[LightGBM] [Info] [binary:BoostFromScore]: pavg=0.491319 -> initscore=-0.034728\n",
      "[LightGBM] [Info] Start training from score -0.034728\n",
      "[LightGBM] [Info] Number of positive: 9111, number of negative: 9435\n",
      "[LightGBM] [Info] Auto-choosing row-wise multi-threading, the overhead of testing was 0.066240 seconds.\n",
      "You can set `force_row_wise=true` to remove the overhead.\n",
      "And if memory is not enough, you can set `force_col_wise=true`.\n",
      "[LightGBM] [Info] Total Bins 1047\n",
      "[LightGBM] [Info] Number of data points in the train set: 18546, number of used features: 475\n",
      "[LightGBM] [Info] [binary:BoostFromScore]: pavg=0.491265 -> initscore=-0.034944\n",
      "[LightGBM] [Info] Start training from score -0.034944\n",
      "[LightGBM] [Info] Number of positive: 9111, number of negative: 9435\n",
      "[LightGBM] [Info] Auto-choosing row-wise multi-threading, the overhead of testing was 0.050161 seconds.\n",
      "You can set `force_row_wise=true` to remove the overhead.\n",
      "And if memory is not enough, you can set `force_col_wise=true`.\n",
      "[LightGBM] [Info] Total Bins 1002\n",
      "[LightGBM] [Info] Number of data points in the train set: 18546, number of used features: 459\n",
      "[LightGBM] [Info] [binary:BoostFromScore]: pavg=0.491265 -> initscore=-0.034944\n",
      "[LightGBM] [Info] Start training from score -0.034944\n",
      "[LightGBM] [Info] Number of positive: 11389, number of negative: 11793\n",
      "[LightGBM] [Info] Auto-choosing row-wise multi-threading, the overhead of testing was 0.087517 seconds.\n",
      "You can set `force_row_wise=true` to remove the overhead.\n",
      "And if memory is not enough, you can set `force_col_wise=true`.\n",
      "[LightGBM] [Info] Total Bins 1404\n",
      "[LightGBM] [Info] Number of data points in the train set: 23182, number of used features: 637\n",
      "[LightGBM] [Info] [binary:BoostFromScore]: pavg=0.491286 -> initscore=-0.034858\n",
      "[LightGBM] [Info] Start training from score -0.034858\n"
     ]
    },
    {
     "data": {
      "text/plain": [
       "{'boosting_type': 'gbdt',\n",
       " 'learning_rate': 0.2,\n",
       " 'metric': 'binary_logloss',\n",
       " 'n_estimators': 100,\n",
       " 'num_leaves': 15,\n",
       " 'objective': 'binary'}"
      ]
     },
     "execution_count": 56,
     "metadata": {},
     "output_type": "execute_result"
    }
   ],
   "source": [
    "from lightgbm import LGBMClassifier\n",
    "\n",
    "param_grid_ = {\n",
    "    'num_leaves': [15, 31, 63],  \n",
    "    'learning_rate': [0.01, 0.1, 0.2],\n",
    "    'n_estimators': [50, 100, 200],  \n",
    "    'boosting_type': ['gbdt'], \n",
    "    'objective': ['binary'],  \n",
    "    'metric': ['binary_logloss'],\n",
    "}\n",
    "\n",
    "lightgbm_grid = GridSearchCV(\n",
    "    estimator= LGBMClassifier(),\n",
    "    param_grid=param_grid_,\n",
    "    cv=5, \n",
    "    scoring='accuracy',\n",
    "    verbose=0,\n",
    "    n_jobs=-1  \n",
    ")\n",
    "lightgbm_grid.fit(X_train_tfidf, y_train)\n",
    "\n",
    "lightgbm_grid.best_params_"
   ]
  },
  {
   "cell_type": "code",
   "execution_count": 57,
   "id": "a988b8a1",
   "metadata": {
    "execution": {
     "iopub.execute_input": "2024-12-15T23:12:08.947974Z",
     "iopub.status.busy": "2024-12-15T23:12:08.947574Z",
     "iopub.status.idle": "2024-12-15T23:12:09.457135Z",
     "shell.execute_reply": "2024-12-15T23:12:09.456034Z"
    },
    "papermill": {
     "duration": 0.544285,
     "end_time": "2024-12-15T23:12:09.459382",
     "exception": false,
     "start_time": "2024-12-15T23:12:08.915097",
     "status": "completed"
    },
    "tags": []
   },
   "outputs": [
    {
     "name": "stdout",
     "output_type": "stream",
     "text": [
      "-------------------> lightgbm\n",
      "Accuracy: 0.68\n",
      "F1-Score for each class:\n",
      "Positive: 0.63\n",
      "Negative: 0.72\n",
      "\n",
      "Classification Report:\n",
      "              precision    recall  f1-score   support\n",
      "\n",
      "    Positive       0.77      0.53      0.63      2949\n",
      "    Negative       0.63      0.83      0.72      2847\n",
      "\n",
      "    accuracy                           0.68      5796\n",
      "   macro avg       0.70      0.68      0.67      5796\n",
      "weighted avg       0.70      0.68      0.67      5796\n",
      "\n"
     ]
    },
    {
     "data": {
      "image/png": "[encoded data removed]",
      "text/plain": [
       "<Figure size 800x600 with 2 Axes>"
      ]
     },
     "metadata": {},
     "output_type": "display_data"
    }
   ],
   "source": [
    "y_hat = lightgbm_grid.best_estimator_.predict(X_test_tfidf)\n",
    "about_model(\"lightgbm\", y_test , y_hat)"
   ]
  }
 ],
 "metadata": {
  "kaggle": {
   "accelerator": "none",
   "dataSources": [
    {
     "databundleVersionId": 10470329,
     "datasetId": 6094692,
     "sourceId": 10181710,
     "sourceType": "datasetVersion"
    },
    {
     "databundleVersionId": 10417315,
     "datasetId": 6047175,
     "sourceId": 10133321,
     "sourceType": "datasetVersion"
    }
   ],
   "dockerImageVersionId": 30804,
   "isGpuEnabled": false,
   "isInternetEnabled": true,
   "language": "python",
   "sourceType": "notebook"
  },
  "kernelspec": {
   "display_name": "Python 3",
   "language": "python",
   "name": "python3"
  },
  "language_info": {
   "codemirror_mode": {
    "name": "ipython",
    "version": 3
   },
   "file_extension": ".py",
   "mimetype": "text/x-python",
   "name": "python",
   "nbconvert_exporter": "python",
   "pygments_lexer": "ipython3",
   "version": "3.10.14"
  },
  "papermill": {
   "default_parameters": {},
   "duration": 33396.676429,
   "end_time": "2024-12-15T23:12:12.111368",
   "environment_variables": {},
   "exception": null,
   "input_path": "__notebook__.ipynb",
   "output_path": "__notebook__.ipynb",
   "parameters": {},
   "start_time": "2024-12-15T13:55:35.434939",
   "version": "2.6.0"
  }
 },
 "nbformat": 4,
 "nbformat_minor": 5
}
