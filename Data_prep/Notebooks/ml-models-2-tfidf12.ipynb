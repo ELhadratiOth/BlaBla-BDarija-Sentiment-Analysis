{
 "cells": [
  {
   "cell_type": "markdown",
   "id": "3964718e",
   "metadata": {
    "papermill": {
     "duration": 0.011936,
     "end_time": "2024-12-18T13:57:14.510523",
     "exception": false,
     "start_time": "2024-12-18T13:57:14.498587",
     "status": "completed"
    },
    "tags": []
   },
   "source": [
    "# Darija Text Classification using ML Algorithms\n"
   ]
  },
  {
   "cell_type": "markdown",
   "id": "2e8d3430",
   "metadata": {
    "papermill": {
     "duration": 0.010757,
     "end_time": "2024-12-18T13:57:14.533542",
     "exception": false,
     "start_time": "2024-12-18T13:57:14.522785",
     "status": "completed"
    },
    "tags": []
   },
   "source": [
    "## Setup and Data Loading\n",
    "In this section, we:\n",
    "- Import required libraries\n",
    "- Load and prepare our Darija dataset\n",
    "- Set up configuration parameters"
   ]
  },
  {
   "cell_type": "code",
   "execution_count": 1,
   "id": "56213a56",
   "metadata": {
    "execution": {
     "iopub.execute_input": "2024-12-18T13:57:14.557413Z",
     "iopub.status.busy": "2024-12-18T13:57:14.556883Z",
     "iopub.status.idle": "2024-12-18T13:57:14.573284Z",
     "shell.execute_reply": "2024-12-18T13:57:14.572148Z"
    },
    "papermill": {
     "duration": 0.031294,
     "end_time": "2024-12-18T13:57:14.575789",
     "exception": false,
     "start_time": "2024-12-18T13:57:14.544495",
     "status": "completed"
    },
    "tags": []
   },
   "outputs": [
    {
     "name": "stdout",
     "output_type": "stream",
     "text": [
      "Current working directory: /kaggle/input/ma-datasets\n",
      "Directory contents: ['suf_pref_darija.json', 'stop_words_accum.json', 'set2.csv', 'set7.csv', 'set5.csv', 'darija_latin_ref.json', 'set4.csv', 'scaped_comments.csv', 'set3.csv', 'cleaned_clustered_data.csv', 'set1.csv']\n"
     ]
    }
   ],
   "source": [
    "import os \n",
    "os.chdir('/kaggle/input/ma-datasets') \n",
    "current_directory = os.getcwd()\n",
    "print(\"Current working directory:\", current_directory)\n",
    "contents = os.listdir()\n",
    "print(\"Directory contents:\", contents)"
   ]
  },
  {
   "cell_type": "code",
   "execution_count": 2,
   "id": "1f1b0c95",
   "metadata": {
    "execution": {
     "iopub.execute_input": "2024-12-18T13:57:14.600060Z",
     "iopub.status.busy": "2024-12-18T13:57:14.599666Z",
     "iopub.status.idle": "2024-12-18T13:57:29.383932Z",
     "shell.execute_reply": "2024-12-18T13:57:29.382547Z"
    },
    "papermill": {
     "duration": 14.799661,
     "end_time": "2024-12-18T13:57:29.386676",
     "exception": false,
     "start_time": "2024-12-18T13:57:14.587015",
     "status": "completed"
    },
    "tags": []
   },
   "outputs": [
    {
     "name": "stdout",
     "output_type": "stream",
     "text": [
      "Requirement already satisfied: pandas in /opt/conda/lib/python3.10/site-packages (2.2.3)\r\n",
      "Requirement already satisfied: PyArabic in /opt/conda/lib/python3.10/site-packages (0.6.15)\r\n",
      "Collecting Tashaphyne\r\n",
      "  Downloading Tashaphyne-0.3.6-py3-none-any.whl.metadata (18 kB)\r\n",
      "Collecting pydoda\r\n",
      "  Downloading pydoda-1.2.1-py3-none-any.whl.metadata (5.8 kB)\r\n",
      "Collecting Arabic-Stopwords\r\n",
      "  Downloading Arabic_Stopwords-0.4.3-py3-none-any.whl.metadata (8.9 kB)\r\n",
      "Requirement already satisfied: seaborn in /opt/conda/lib/python3.10/site-packages (0.12.2)\r\n",
      "Requirement already satisfied: scikit-learn in /opt/conda/lib/python3.10/site-packages (1.2.2)\r\n",
      "Requirement already satisfied: emoji in /opt/conda/lib/python3.10/site-packages (2.14.0)\r\n",
      "Requirement already satisfied: xgboost in /opt/conda/lib/python3.10/site-packages (2.0.3)\r\n",
      "Requirement already satisfied: lightgbm in /opt/conda/lib/python3.10/site-packages (4.2.0)\r\n",
      "Requirement already satisfied: numpy>=1.22.4 in /opt/conda/lib/python3.10/site-packages (from pandas) (1.26.4)\r\n",
      "Requirement already satisfied: python-dateutil>=2.8.2 in /opt/conda/lib/python3.10/site-packages (from pandas) (2.9.0.post0)\r\n",
      "Requirement already satisfied: pytz>=2020.1 in /opt/conda/lib/python3.10/site-packages (from pandas) (2024.1)\r\n",
      "Requirement already satisfied: tzdata>=2022.7 in /opt/conda/lib/python3.10/site-packages (from pandas) (2024.1)\r\n",
      "Requirement already satisfied: six>=1.14.0 in /opt/conda/lib/python3.10/site-packages (from PyArabic) (1.16.0)\r\n",
      "Requirement already satisfied: matplotlib!=3.6.1,>=3.1 in /opt/conda/lib/python3.10/site-packages (from seaborn) (3.7.5)\r\n",
      "Requirement already satisfied: scipy>=1.3.2 in /opt/conda/lib/python3.10/site-packages (from scikit-learn) (1.14.1)\r\n",
      "Requirement already satisfied: joblib>=1.1.1 in /opt/conda/lib/python3.10/site-packages (from scikit-learn) (1.4.2)\r\n",
      "Requirement already satisfied: threadpoolctl>=2.0.0 in /opt/conda/lib/python3.10/site-packages (from scikit-learn) (3.5.0)\r\n",
      "Requirement already satisfied: contourpy>=1.0.1 in /opt/conda/lib/python3.10/site-packages (from matplotlib!=3.6.1,>=3.1->seaborn) (1.2.1)\r\n",
      "Requirement already satisfied: cycler>=0.10 in /opt/conda/lib/python3.10/site-packages (from matplotlib!=3.6.1,>=3.1->seaborn) (0.12.1)\r\n",
      "Requirement already satisfied: fonttools>=4.22.0 in /opt/conda/lib/python3.10/site-packages (from matplotlib!=3.6.1,>=3.1->seaborn) (4.53.0)\r\n",
      "Requirement already satisfied: kiwisolver>=1.0.1 in /opt/conda/lib/python3.10/site-packages (from matplotlib!=3.6.1,>=3.1->seaborn) (1.4.5)\r\n",
      "Requirement already satisfied: packaging>=20.0 in /opt/conda/lib/python3.10/site-packages (from matplotlib!=3.6.1,>=3.1->seaborn) (21.3)\r\n",
      "Requirement already satisfied: pillow>=6.2.0 in /opt/conda/lib/python3.10/site-packages (from matplotlib!=3.6.1,>=3.1->seaborn) (10.3.0)\r\n",
      "Requirement already satisfied: pyparsing>=2.3.1 in /opt/conda/lib/python3.10/site-packages (from matplotlib!=3.6.1,>=3.1->seaborn) (3.1.2)\r\n",
      "Downloading Tashaphyne-0.3.6-py3-none-any.whl (251 kB)\r\n",
      "\u001b[2K   \u001b[90m━━━━━━━━━━━━━━━━━━━━━━━━━━━━━━━━━━━━━━━━\u001b[0m \u001b[32m251.5/251.5 kB\u001b[0m \u001b[31m9.8 MB/s\u001b[0m eta \u001b[36m0:00:00\u001b[0m\r\n",
      "\u001b[?25hDownloading pydoda-1.2.1-py3-none-any.whl (4.1 MB)\r\n",
      "\u001b[2K   \u001b[90m━━━━━━━━━━━━━━━━━━━━━━━━━━━━━━━━━━━━━━━━\u001b[0m \u001b[32m4.1/4.1 MB\u001b[0m \u001b[31m70.7 MB/s\u001b[0m eta \u001b[36m0:00:00\u001b[0m\r\n",
      "\u001b[?25hDownloading Arabic_Stopwords-0.4.3-py3-none-any.whl (360 kB)\r\n",
      "\u001b[2K   \u001b[90m━━━━━━━━━━━━━━━━━━━━━━━━━━━━━━━━━━━━━━━━\u001b[0m \u001b[32m360.5/360.5 kB\u001b[0m \u001b[31m10.9 MB/s\u001b[0m eta \u001b[36m0:00:00\u001b[0m\r\n",
      "\u001b[?25hInstalling collected packages: Tashaphyne, Arabic-Stopwords, pydoda\r\n",
      "Successfully installed Arabic-Stopwords-0.4.3 Tashaphyne-0.3.6 pydoda-1.2.1\r\n"
     ]
    }
   ],
   "source": [
    "!pip install pandas PyArabic Tashaphyne pydoda Arabic-Stopwords seaborn scikit-learn emoji xgboost lightgbm "
   ]
  },
  {
   "cell_type": "code",
   "execution_count": 3,
   "id": "29ca5bea",
   "metadata": {
    "execution": {
     "iopub.execute_input": "2024-12-18T13:57:29.412739Z",
     "iopub.status.busy": "2024-12-18T13:57:29.412325Z",
     "iopub.status.idle": "2024-12-18T13:57:31.885140Z",
     "shell.execute_reply": "2024-12-18T13:57:31.883852Z"
    },
    "papermill": {
     "duration": 2.488975,
     "end_time": "2024-12-18T13:57:31.887816",
     "exception": false,
     "start_time": "2024-12-18T13:57:29.398841",
     "status": "completed"
    },
    "tags": []
   },
   "outputs": [],
   "source": [
    "import pandas as pd\n",
    "from sklearn.model_selection import GridSearchCV\n",
    "import re\n",
    "from tashaphyne.stemming import ArabicLightStemmer\n",
    "import json\n",
    "import emoji \n"
   ]
  },
  {
   "cell_type": "code",
   "execution_count": 4,
   "id": "f2a7976a",
   "metadata": {
    "execution": {
     "iopub.execute_input": "2024-12-18T13:57:31.913358Z",
     "iopub.status.busy": "2024-12-18T13:57:31.912809Z",
     "iopub.status.idle": "2024-12-18T13:57:32.246032Z",
     "shell.execute_reply": "2024-12-18T13:57:32.244738Z"
    },
    "papermill": {
     "duration": 0.34906,
     "end_time": "2024-12-18T13:57:32.248847",
     "exception": false,
     "start_time": "2024-12-18T13:57:31.899787",
     "status": "completed"
    },
    "tags": []
   },
   "outputs": [
    {
     "name": "stdout",
     "output_type": "stream",
     "text": [
      "<class 'pandas.core.frame.DataFrame'>\n",
      "RangeIndex: 35000 entries, 0 to 34999\n",
      "Data columns (total 3 columns):\n",
      " #   Column        Non-Null Count  Dtype \n",
      "---  ------        --------------  ----- \n",
      " 0   text          35000 non-null  object\n",
      " 1   target        35000 non-null  int64 \n",
      " 2   text_cleaned  33821 non-null  object\n",
      "dtypes: int64(1), object(2)\n",
      "memory usage: 820.4+ KB\n"
     ]
    }
   ],
   "source": [
    "df = pd.read_csv(\"/kaggle/input/dataset/dataset (18).csv\")\n",
    "df.info()"
   ]
  },
  {
   "cell_type": "code",
   "execution_count": 5,
   "id": "fb71ed56",
   "metadata": {
    "execution": {
     "iopub.execute_input": "2024-12-18T13:57:32.274390Z",
     "iopub.status.busy": "2024-12-18T13:57:32.274001Z",
     "iopub.status.idle": "2024-12-18T13:57:32.297705Z",
     "shell.execute_reply": "2024-12-18T13:57:32.296507Z"
    },
    "papermill": {
     "duration": 0.03884,
     "end_time": "2024-12-18T13:57:32.299824",
     "exception": false,
     "start_time": "2024-12-18T13:57:32.260984",
     "status": "completed"
    },
    "tags": []
   },
   "outputs": [
    {
     "name": "stderr",
     "output_type": "stream",
     "text": [
      "/tmp/ipykernel_17/1870643984.py:1: DeprecationWarning: DataFrameGroupBy.apply operated on the grouping columns. This behavior is deprecated, and in a future version of pandas the grouping columns will be excluded from the operation. Either pass `include_groups=False` to exclude the groupings or explicitly select the grouping columns after groupby to silence this warning.\n",
      "  df = df.groupby('target', group_keys=False).apply(\n"
     ]
    }
   ],
   "source": [
    "df = df.groupby('target', group_keys=False).apply(\n",
    "    lambda x: x.sample(frac=0.7)\n",
    ")"
   ]
  },
  {
   "cell_type": "code",
   "execution_count": 6,
   "id": "8c7090fa",
   "metadata": {
    "execution": {
     "iopub.execute_input": "2024-12-18T13:57:32.326117Z",
     "iopub.status.busy": "2024-12-18T13:57:32.325689Z",
     "iopub.status.idle": "2024-12-18T13:57:32.345327Z",
     "shell.execute_reply": "2024-12-18T13:57:32.343970Z"
    },
    "papermill": {
     "duration": 0.035426,
     "end_time": "2024-12-18T13:57:32.347537",
     "exception": false,
     "start_time": "2024-12-18T13:57:32.312111",
     "status": "completed"
    },
    "tags": []
   },
   "outputs": [
    {
     "name": "stdout",
     "output_type": "stream",
     "text": [
      "<class 'pandas.core.frame.DataFrame'>\n",
      "Index: 24500 entries, 2924 to 16232\n",
      "Data columns (total 3 columns):\n",
      " #   Column        Non-Null Count  Dtype \n",
      "---  ------        --------------  ----- \n",
      " 0   text          24500 non-null  object\n",
      " 1   target        24500 non-null  int64 \n",
      " 2   text_cleaned  23685 non-null  object\n",
      "dtypes: int64(1), object(2)\n",
      "memory usage: 765.6+ KB\n"
     ]
    }
   ],
   "source": [
    "df.info()"
   ]
  },
  {
   "cell_type": "code",
   "execution_count": 7,
   "id": "cd8476ce",
   "metadata": {
    "execution": {
     "iopub.execute_input": "2024-12-18T13:57:32.373157Z",
     "iopub.status.busy": "2024-12-18T13:57:32.372751Z",
     "iopub.status.idle": "2024-12-18T13:57:32.383755Z",
     "shell.execute_reply": "2024-12-18T13:57:32.382654Z"
    },
    "papermill": {
     "duration": 0.026314,
     "end_time": "2024-12-18T13:57:32.385887",
     "exception": false,
     "start_time": "2024-12-18T13:57:32.359573",
     "status": "completed"
    },
    "tags": []
   },
   "outputs": [
    {
     "data": {
      "text/plain": [
       "target\n",
       "0    12250\n",
       "1    12250\n",
       "Name: count, dtype: int64"
      ]
     },
     "execution_count": 7,
     "metadata": {},
     "output_type": "execute_result"
    }
   ],
   "source": [
    "df['target'].value_counts()"
   ]
  },
  {
   "cell_type": "markdown",
   "id": "460ac84b",
   "metadata": {
    "papermill": {
     "duration": 0.011691,
     "end_time": "2024-12-18T13:57:32.410096",
     "exception": false,
     "start_time": "2024-12-18T13:57:32.398405",
     "status": "completed"
    },
    "tags": []
   },
   "source": [
    "###### Data Preprocessing\n",
    "Key preprocessing steps for Darija text:\n",
    "- Text cleaning and normalization\n",
    "- Feature extraction\n",
    "- Train-test split\n"
   ]
  },
  {
   "cell_type": "code",
   "execution_count": 8,
   "id": "a6eaa1f7",
   "metadata": {
    "execution": {
     "iopub.execute_input": "2024-12-18T13:57:32.436301Z",
     "iopub.status.busy": "2024-12-18T13:57:32.435916Z",
     "iopub.status.idle": "2024-12-18T13:57:32.446811Z",
     "shell.execute_reply": "2024-12-18T13:57:32.445872Z"
    },
    "papermill": {
     "duration": 0.026444,
     "end_time": "2024-12-18T13:57:32.448918",
     "exception": false,
     "start_time": "2024-12-18T13:57:32.422474",
     "status": "completed"
    },
    "tags": []
   },
   "outputs": [],
   "source": [
    "darija_alphabet = {\n",
    "    \"gh\": \"غ\",\n",
    "    \"sh\": \"ش\",\n",
    "    \"ch\": \"ش\",\n",
    "    \"ss\": \"س\",\n",
    "    \"kh\": \"خ\",\n",
    "    \"ç\": \"س\",\n",
    "    \"ou\": \"و\",    \n",
    "    \"ei\": \"ي\",    \n",
    "    \"ay\": \"ي\",    \n",
    "    \"ae\": \"ي\",   \n",
    "    \"5\": \"خ\",     \n",
    "    \"2\": \"ا\",    \n",
    "    \"b\": \"ب\",\n",
    "    \"t\": \"ت\",\n",
    "    \"j\": \"ج\",\n",
    "    \"7\": \"ح\",\n",
    "    \"d\": \"د\",\n",
    "    \"r\": \"ر\",\n",
    "    \"z\": \"ز\",\n",
    "    \"s\": \"س\",\n",
    "    \"9\": \"ق\",\n",
    "    \"3\": \"ع\",\n",
    "    \"4\": \"غ\",\n",
    "    \"f\": \"ف\",\n",
    "    \"q\": \"ك\",\n",
    "    \"k\": \"ك\",\n",
    "    \"l\": \"ل\",\n",
    "    \"m\": \"م\",\n",
    "    \"n\": \"ن\",\n",
    "    \"h\": \"ه\",\n",
    "    \"w\": \"و\",\n",
    "    \"y\": \"ي\",\n",
    "    \"g\": \"ڭ\",\n",
    "    'i': 'ي',\n",
    "    'ee': 'ي',\n",
    "    'aa': 'ا',\n",
    "    'oo': 'و',\n",
    "    'o': 'و',\n",
    "    \"x\": \"ش\",\n",
    "}\n",
    "word_in = [\n",
    "    \"ء\", \"أ\", \"إ\", \"آ\", \"ؤ\", \"ئ\", \"ة\", \"ى\",\"-\", \"/\", \".\", \"،\", '\"', \"'\", \"\\\\\", \"?\", \"؟\", \"!\", \"،\", \"؛\",\":\",\"#\", \"@\", \"&\", \"=\", \"¥\", \"$\", \"%\", \"*\", \"+\", \"<\", \">\", \"|\", \"~\", \"^\", \n",
    "    \"\\n\", \"\\t\", \"\\r\", \" و\",\"ذ\", \"ظ\", \"ض\", \"ص\",\"(\", \")\", \"[\", \"]\", \"{\", \"}\", \"《\", \"》\", \"«\", \"»\"\n",
    "]\n",
    "\n",
    "replaced_by = [\n",
    "    \"ا\", \"ا\", \"ا\", \"ا\", \"ا\", \"ا\", \"ه\", \"ي\",\" \", \"\", \"\", \"\", \"\", \"\", \"\", \" ? \", \" ؟ \", \" ! \", \"\", \"\", \"\",\n",
    "    \"\", \"\", \"\", \"\", \"\", \"\", \"\", \"\", \"\", \"\", \"\", \"\", \"\", \"\",\" \", \" \", \" \", \"\",\n",
    "    \"د\", \"د\", \"د\", \"س\",\"\", \"\", \"\", \"\", \"\", \"\", \"\", \"\", \"\", \"\"\n",
    "]\n",
    "\n",
    "arabic_alphabet = \"ابتثجحخدذرزسشصضطظعغفقكلمنهوي\""
   ]
  },
  {
   "cell_type": "code",
   "execution_count": 9,
   "id": "b111ed47",
   "metadata": {
    "execution": {
     "iopub.execute_input": "2024-12-18T13:57:32.474631Z",
     "iopub.status.busy": "2024-12-18T13:57:32.474268Z",
     "iopub.status.idle": "2024-12-18T13:57:32.479783Z",
     "shell.execute_reply": "2024-12-18T13:57:32.478400Z"
    },
    "papermill": {
     "duration": 0.021111,
     "end_time": "2024-12-18T13:57:32.482285",
     "exception": false,
     "start_time": "2024-12-18T13:57:32.461174",
     "status": "completed"
    },
    "tags": []
   },
   "outputs": [],
   "source": [
    "from pyarabic.araby import strip_diacritics\n",
    "#remove tashkeel\n",
    "def removing_tashkeel(word): # useed\n",
    "          return strip_diacritics(word)"
   ]
  },
  {
   "cell_type": "code",
   "execution_count": 10,
   "id": "36faebf3",
   "metadata": {
    "execution": {
     "iopub.execute_input": "2024-12-18T13:57:32.508337Z",
     "iopub.status.busy": "2024-12-18T13:57:32.507953Z",
     "iopub.status.idle": "2024-12-18T13:57:32.513369Z",
     "shell.execute_reply": "2024-12-18T13:57:32.512068Z"
    },
    "papermill": {
     "duration": 0.021249,
     "end_time": "2024-12-18T13:57:32.515627",
     "exception": false,
     "start_time": "2024-12-18T13:57:32.494378",
     "status": "completed"
    },
    "tags": []
   },
   "outputs": [],
   "source": [
    "from pyarabic.araby import strip_tatweel\n",
    "\n",
    "#remove tatweel l2imdad\n",
    "def removing_tatweel(word): # useed\n",
    "          return strip_tatweel(word)"
   ]
  },
  {
   "cell_type": "code",
   "execution_count": 11,
   "id": "8c69a620",
   "metadata": {
    "execution": {
     "iopub.execute_input": "2024-12-18T13:57:32.542090Z",
     "iopub.status.busy": "2024-12-18T13:57:32.541645Z",
     "iopub.status.idle": "2024-12-18T13:57:32.547064Z",
     "shell.execute_reply": "2024-12-18T13:57:32.546012Z"
    },
    "papermill": {
     "duration": 0.021615,
     "end_time": "2024-12-18T13:57:32.549395",
     "exception": false,
     "start_time": "2024-12-18T13:57:32.527780",
     "status": "completed"
    },
    "tags": []
   },
   "outputs": [],
   "source": [
    "from pyarabic.araby import normalize_ligature\n",
    "\n",
    "#remove ligature hamza , alef \n",
    "def removing_ligature(word): # not used \n",
    "          return normalize_ligature(word)"
   ]
  },
  {
   "cell_type": "code",
   "execution_count": 12,
   "id": "c4a6ebda",
   "metadata": {
    "execution": {
     "iopub.execute_input": "2024-12-18T13:57:32.574990Z",
     "iopub.status.busy": "2024-12-18T13:57:32.574587Z",
     "iopub.status.idle": "2024-12-18T13:57:32.579949Z",
     "shell.execute_reply": "2024-12-18T13:57:32.578541Z"
    },
    "papermill": {
     "duration": 0.020804,
     "end_time": "2024-12-18T13:57:32.582298",
     "exception": false,
     "start_time": "2024-12-18T13:57:32.561494",
     "status": "completed"
    },
    "tags": []
   },
   "outputs": [],
   "source": [
    "# remove underscore\n",
    "def replace_underscore(word): # useed\n",
    "          return word.replace(\"_\", \" \")"
   ]
  },
  {
   "cell_type": "code",
   "execution_count": 13,
   "id": "b879ac20",
   "metadata": {
    "execution": {
     "iopub.execute_input": "2024-12-18T13:57:32.608514Z",
     "iopub.status.busy": "2024-12-18T13:57:32.608144Z",
     "iopub.status.idle": "2024-12-18T13:57:32.613471Z",
     "shell.execute_reply": "2024-12-18T13:57:32.612239Z"
    },
    "papermill": {
     "duration": 0.02132,
     "end_time": "2024-12-18T13:57:32.615588",
     "exception": false,
     "start_time": "2024-12-18T13:57:32.594268",
     "status": "completed"
    },
    "tags": []
   },
   "outputs": [],
   "source": [
    "import pyarabic.araby as araby\n",
    "\n",
    "# remove hamza ambiguity\n",
    "def remove_ambiguity_hamza(word): # useed\n",
    "          return araby.normalize_hamza(word)"
   ]
  },
  {
   "cell_type": "code",
   "execution_count": 14,
   "id": "931d14f6",
   "metadata": {
    "execution": {
     "iopub.execute_input": "2024-12-18T13:57:32.642117Z",
     "iopub.status.busy": "2024-12-18T13:57:32.641692Z",
     "iopub.status.idle": "2024-12-18T13:57:32.647148Z",
     "shell.execute_reply": "2024-12-18T13:57:32.645750Z"
    },
    "papermill": {
     "duration": 0.021307,
     "end_time": "2024-12-18T13:57:32.649309",
     "exception": false,
     "start_time": "2024-12-18T13:57:32.628002",
     "status": "completed"
    },
    "tags": []
   },
   "outputs": [],
   "source": [
    "# romove \"AL\"\n",
    "def remove_AL(word): # useed\n",
    "          return re.sub(r'^ال', '', word)"
   ]
  },
  {
   "cell_type": "code",
   "execution_count": 15,
   "id": "cbbec45d",
   "metadata": {
    "execution": {
     "iopub.execute_input": "2024-12-18T13:57:32.675364Z",
     "iopub.status.busy": "2024-12-18T13:57:32.674596Z",
     "iopub.status.idle": "2024-12-18T13:57:32.682279Z",
     "shell.execute_reply": "2024-12-18T13:57:32.681158Z"
    },
    "papermill": {
     "duration": 0.02303,
     "end_time": "2024-12-18T13:57:32.684449",
     "exception": false,
     "start_time": "2024-12-18T13:57:32.661419",
     "status": "completed"
    },
    "tags": []
   },
   "outputs": [],
   "source": [
    "# remove repeated characters      \n",
    "def word_remover(word): # useed\n",
    "            if len(word) == 1 or len(word) == 0 or len(word) >= 13:\n",
    "                return \"\"                \n",
    "            else :\n",
    "                # print(word)\n",
    "                for a7rf in arabic_alphabet:\n",
    "                    if a7rf == 'د' or a7rf == 'ه':\n",
    "                        word = re.sub(fr'{a7rf}{{3,}}', a7rf * 2, word).strip()\n",
    "                    else:\n",
    "                        word = re.sub(fr'{a7rf}+', a7rf, word).strip()\n",
    "                # print(word) \n",
    "                for i in range(len(word)):\n",
    "                    if word[i] in word_in:\n",
    "                        index = word_in.index(word[i])\n",
    "                        word = word[:i] + replaced_by[index] + word[i + 1:]\n",
    "\n",
    "                return word\n"
   ]
  },
  {
   "cell_type": "code",
   "execution_count": 16,
   "id": "edf4ee73",
   "metadata": {
    "execution": {
     "iopub.execute_input": "2024-12-18T13:57:32.710640Z",
     "iopub.status.busy": "2024-12-18T13:57:32.710291Z",
     "iopub.status.idle": "2024-12-18T13:57:32.715331Z",
     "shell.execute_reply": "2024-12-18T13:57:32.714304Z"
    },
    "papermill": {
     "duration": 0.020682,
     "end_time": "2024-12-18T13:57:32.717471",
     "exception": false,
     "start_time": "2024-12-18T13:57:32.696789",
     "status": "completed"
    },
    "tags": []
   },
   "outputs": [],
   "source": [
    "# remove emails  \n",
    "def remove_url(text): # useed\n",
    "    text = re.sub(r'(https|http)?:\\/\\/(\\w|\\.|\\/|\\?|\\=|\\&|\\%)*\\b',\n",
    "                  '', text, flags=re.MULTILINE)\n",
    "    return text      \n",
    " "
   ]
  },
  {
   "cell_type": "code",
   "execution_count": 17,
   "id": "43a3800a",
   "metadata": {
    "execution": {
     "iopub.execute_input": "2024-12-18T13:57:32.742966Z",
     "iopub.status.busy": "2024-12-18T13:57:32.742557Z",
     "iopub.status.idle": "2024-12-18T13:57:32.747946Z",
     "shell.execute_reply": "2024-12-18T13:57:32.746832Z"
    },
    "papermill": {
     "duration": 0.020508,
     "end_time": "2024-12-18T13:57:32.750033",
     "exception": false,
     "start_time": "2024-12-18T13:57:32.729525",
     "status": "completed"
    },
    "tags": []
   },
   "outputs": [],
   "source": [
    " # remove emails     \n",
    "def remove_emails(text): # useed\n",
    "    text = re.sub(r'[a-zA-Z0-9._%+-]+@[a-zA-Z0-9.-]+\\.[a-zA-Z]{2,}', '', text, flags=re.MULTILINE)\n",
    "    return text  "
   ]
  },
  {
   "cell_type": "code",
   "execution_count": 18,
   "id": "9dca6355",
   "metadata": {
    "execution": {
     "iopub.execute_input": "2024-12-18T13:57:32.775556Z",
     "iopub.status.busy": "2024-12-18T13:57:32.775200Z",
     "iopub.status.idle": "2024-12-18T13:57:32.781228Z",
     "shell.execute_reply": "2024-12-18T13:57:32.780011Z"
    },
    "papermill": {
     "duration": 0.021411,
     "end_time": "2024-12-18T13:57:32.783476",
     "exception": false,
     "start_time": "2024-12-18T13:57:32.762065",
     "status": "completed"
    },
    "tags": []
   },
   "outputs": [],
   "source": [
    "def special_tags_and_ponctuations(text):  # Function to clean special tags\n",
    "    text = re.sub(r'&amp;', '', text) \n",
    "    text = re.sub(r'&quot;', '', text)  \n",
    "    text = re.sub(r'!+', '!', text)\n",
    "    text = re.sub(r'\\?+', '?', text)\n",
    "    text = re.sub(r'\\.+', '.', text)\n",
    "\n",
    "    return text"
   ]
  },
  {
   "cell_type": "code",
   "execution_count": 19,
   "id": "b7c29cf3",
   "metadata": {
    "execution": {
     "iopub.execute_input": "2024-12-18T13:57:32.809428Z",
     "iopub.status.busy": "2024-12-18T13:57:32.809080Z",
     "iopub.status.idle": "2024-12-18T13:57:32.814331Z",
     "shell.execute_reply": "2024-12-18T13:57:32.813210Z"
    },
    "papermill": {
     "duration": 0.020789,
     "end_time": "2024-12-18T13:57:32.816349",
     "exception": false,
     "start_time": "2024-12-18T13:57:32.795560",
     "status": "completed"
    },
    "tags": []
   },
   "outputs": [],
   "source": [
    "def remove_html_tags(text):\n",
    "    text = re.sub(r'<[^>]+>', '', text)\n",
    "    return text"
   ]
  },
  {
   "cell_type": "code",
   "execution_count": 20,
   "id": "0cedd2f1",
   "metadata": {
    "execution": {
     "iopub.execute_input": "2024-12-18T13:57:32.842534Z",
     "iopub.status.busy": "2024-12-18T13:57:32.842171Z",
     "iopub.status.idle": "2024-12-18T13:57:32.847708Z",
     "shell.execute_reply": "2024-12-18T13:57:32.846570Z"
    },
    "papermill": {
     "duration": 0.02136,
     "end_time": "2024-12-18T13:57:32.850023",
     "exception": false,
     "start_time": "2024-12-18T13:57:32.828663",
     "status": "completed"
    },
    "tags": []
   },
   "outputs": [],
   "source": [
    "# hundle emojis\n",
    "def extend_spletting(items):  # helper function to split items\n",
    "    spletting = []\n",
    "    for item in items:\n",
    "        spletting.extend(item.split())\n",
    "    return spletting"
   ]
  },
  {
   "cell_type": "code",
   "execution_count": 21,
   "id": "8ead0cf1",
   "metadata": {
    "execution": {
     "iopub.execute_input": "2024-12-18T13:57:32.875875Z",
     "iopub.status.busy": "2024-12-18T13:57:32.875516Z",
     "iopub.status.idle": "2024-12-18T13:57:32.880674Z",
     "shell.execute_reply": "2024-12-18T13:57:32.879562Z"
    },
    "papermill": {
     "duration": 0.020831,
     "end_time": "2024-12-18T13:57:32.883180",
     "exception": false,
     "start_time": "2024-12-18T13:57:32.862349",
     "status": "completed"
    },
    "tags": []
   },
   "outputs": [],
   "source": [
    "def emoji_hundler(word):  # helper function to handle emojis\n",
    "    word = emoji.demojize(word, language='ar')\n",
    "    word = replace_underscore(word)[1:-1]\n",
    "    return word"
   ]
  },
  {
   "cell_type": "code",
   "execution_count": 22,
   "id": "2c9db1f2",
   "metadata": {
    "execution": {
     "iopub.execute_input": "2024-12-18T13:57:32.910169Z",
     "iopub.status.busy": "2024-12-18T13:57:32.909199Z",
     "iopub.status.idle": "2024-12-18T13:57:32.916857Z",
     "shell.execute_reply": "2024-12-18T13:57:32.915780Z"
    },
    "papermill": {
     "duration": 0.023336,
     "end_time": "2024-12-18T13:57:32.919038",
     "exception": false,
     "start_time": "2024-12-18T13:57:32.895702",
     "status": "completed"
    },
    "tags": []
   },
   "outputs": [],
   "source": [
    "def is_an_emoji(word):\n",
    "    emoji_pattern = re.compile(\"[\"  \n",
    "                               u\"\\U0001F680-\\U0001F6FF\"  # transport and map unicods\n",
    "                               u\"\\U0001F1E0-\\U0001F1FF\"  # flags unicods\n",
    "                               \"]+\", flags=re.UNICODE)\n",
    "\n",
    "    if emoji.is_emoji(word):\n",
    "        word = emoji_pattern.sub(r'', word)\n",
    "        return extend_spletting([emoji_hundler(word)])\n",
    "\n",
    "    elif emoji.purely_emoji(word):\n",
    "        data_of_emojis = emoji.distinct_emoji_list(word)\n",
    "        data = [emoji_hundler(emoji_pattern.sub(r'', item)) for item in data_of_emojis]\n",
    "        return extend_spletting(data)\n",
    "\n",
    "    else:\n",
    "        text_only = re.sub(r'[^\\w\\s?!]', '', word)\n",
    "        data_of_emojis = emoji.distinct_emoji_list(word)\n",
    "        emojis = [emoji_hundler(emoji_pattern.sub(r'', item)) for item in data_of_emojis]\n",
    "        \n",
    "        return [text_only] + extend_spletting(emojis)\n"
   ]
  },
  {
   "cell_type": "code",
   "execution_count": 23,
   "id": "b8ab7641",
   "metadata": {
    "execution": {
     "iopub.execute_input": "2024-12-18T13:57:32.944605Z",
     "iopub.status.busy": "2024-12-18T13:57:32.944208Z",
     "iopub.status.idle": "2024-12-18T13:57:32.951141Z",
     "shell.execute_reply": "2024-12-18T13:57:32.949993Z"
    },
    "papermill": {
     "duration": 0.02248,
     "end_time": "2024-12-18T13:57:32.953451",
     "exception": false,
     "start_time": "2024-12-18T13:57:32.930971",
     "status": "completed"
    },
    "tags": []
   },
   "outputs": [],
   "source": [
    "# tramslating darija(latin) to daruja(arabic)\n",
    "def translate_darija_to_arabic(word): # useed\n",
    "    # print(\"test\")\n",
    "    word = word.lower()\n",
    "    if  bool(re.compile(r\"[a-z0-9']+\").search(word)):\n",
    "        arabic_word = \"\"\n",
    "        i = 0\n",
    "        while i < len(word):\n",
    "            # print('sadd')\n",
    "            if i + 1 < len(word) and word[i:i+2] in darija_alphabet: # Check for 2 lettrs\n",
    "                arabic_word += darija_alphabet[word[i:i+2]]\n",
    "                i += 2\n",
    "            elif word[i] in darija_alphabet:\n",
    "                arabic_word += darija_alphabet[word[i]]\n",
    "                i += 1\n",
    "            else:\n",
    "                i += 1\n",
    "        return arabic_word\n",
    "    return word\n",
    "      "
   ]
  },
  {
   "cell_type": "code",
   "execution_count": 24,
   "id": "088c6455",
   "metadata": {
    "execution": {
     "iopub.execute_input": "2024-12-18T13:57:32.979311Z",
     "iopub.status.busy": "2024-12-18T13:57:32.978949Z",
     "iopub.status.idle": "2024-12-18T13:57:32.984430Z",
     "shell.execute_reply": "2024-12-18T13:57:32.983346Z"
    },
    "papermill": {
     "duration": 0.021031,
     "end_time": "2024-12-18T13:57:32.986768",
     "exception": false,
     "start_time": "2024-12-18T13:57:32.965737",
     "status": "completed"
    },
    "tags": []
   },
   "outputs": [],
   "source": [
    "# remove  number arabic and latin\n",
    "def number_remov(listy): # useed\n",
    "    number_pattern = re.compile(r'^[0-9\\u0660-\\u0669]+$')\n",
    "    cleaned_list = [item for item in listy if not number_pattern.fullmatch(item)] \n",
    "    return cleaned_list   "
   ]
  },
  {
   "cell_type": "code",
   "execution_count": 25,
   "id": "2a1a284c",
   "metadata": {
    "execution": {
     "iopub.execute_input": "2024-12-18T13:57:33.013423Z",
     "iopub.status.busy": "2024-12-18T13:57:33.013043Z",
     "iopub.status.idle": "2024-12-18T13:57:33.019291Z",
     "shell.execute_reply": "2024-12-18T13:57:33.018124Z"
    },
    "papermill": {
     "duration": 0.022402,
     "end_time": "2024-12-18T13:57:33.021514",
     "exception": false,
     "start_time": "2024-12-18T13:57:32.999112",
     "status": "completed"
    },
    "tags": []
   },
   "outputs": [],
   "source": [
    "#stemming arabic words     \n",
    "def stemming_darija(word):\n",
    "    # file = \"./Data_prep/suf_pref_darija.json\" # local run\n",
    "    file = \"suf_pref_darija.json\" \n",
    "\n",
    "    with open(file, 'r', encoding='utf-8') as json_file:\n",
    "        suf_pref = json.load(json_file)\n",
    "\n",
    "    ArListem = ArabicLightStemmer()\n",
    "    ArListem.set_prefix_list(suf_pref['darija_prefixes'])\n",
    "    ArListem.set_suffix_list(suf_pref['darija_suffixes'])\n",
    "    ArListem.light_stem(word)  \n",
    "    return ArListem.get_stem() "
   ]
  },
  {
   "cell_type": "code",
   "execution_count": 26,
   "id": "0563697f",
   "metadata": {
    "execution": {
     "iopub.execute_input": "2024-12-18T13:57:33.047050Z",
     "iopub.status.busy": "2024-12-18T13:57:33.046630Z",
     "iopub.status.idle": "2024-12-18T13:57:33.052210Z",
     "shell.execute_reply": "2024-12-18T13:57:33.050863Z"
    },
    "papermill": {
     "duration": 0.021261,
     "end_time": "2024-12-18T13:57:33.054766",
     "exception": false,
     "start_time": "2024-12-18T13:57:33.033505",
     "status": "completed"
    },
    "tags": []
   },
   "outputs": [],
   "source": [
    "# \"03:44\"\n",
    "def remove_yt_timers(text):\n",
    "    pattern = r'\\b\\d{1,2}:\\d{2,3}(:\\d{2,3})?\\b'\n",
    "    text = re.sub(pattern, '', text)\n",
    "    return text.strip()"
   ]
  },
  {
   "cell_type": "code",
   "execution_count": 27,
   "id": "d3a88ad1",
   "metadata": {
    "execution": {
     "iopub.execute_input": "2024-12-18T13:57:33.084279Z",
     "iopub.status.busy": "2024-12-18T13:57:33.083556Z",
     "iopub.status.idle": "2024-12-18T13:57:33.089056Z",
     "shell.execute_reply": "2024-12-18T13:57:33.087974Z"
    },
    "papermill": {
     "duration": 0.021826,
     "end_time": "2024-12-18T13:57:33.091525",
     "exception": false,
     "start_time": "2024-12-18T13:57:33.069699",
     "status": "completed"
    },
    "tags": []
   },
   "outputs": [],
   "source": [
    "\n",
    "def preproc_arab_sentence(word): # main function for  arab processing tokens\n",
    "    word = removing_tashkeel(word)\n",
    "    word = removing_tatweel(word)\n",
    "    word = remove_AL(word)\n",
    "    # word = remove_ambiguity_hamza(word)\n",
    "    word = word_remover(word)\n",
    "    return word\n"
   ]
  },
  {
   "cell_type": "code",
   "execution_count": 28,
   "id": "9a9399b9",
   "metadata": {
    "execution": {
     "iopub.execute_input": "2024-12-18T13:57:33.118207Z",
     "iopub.status.busy": "2024-12-18T13:57:33.117777Z",
     "iopub.status.idle": "2024-12-18T13:57:33.127459Z",
     "shell.execute_reply": "2024-12-18T13:57:33.126129Z"
    },
    "papermill": {
     "duration": 0.025408,
     "end_time": "2024-12-18T13:57:33.129616",
     "exception": false,
     "start_time": "2024-12-18T13:57:33.104208",
     "status": "completed"
    },
    "tags": []
   },
   "outputs": [],
   "source": [
    "from pyarabic.araby import tokenize\n",
    "def tokenize_arab_text(text):\n",
    "            # with open('./Data_prep/stop_words_accum.json', 'r', encoding='utf-8') as file: #  local run \n",
    "            with open('./stop_words_accum.json', 'r', encoding='utf-8') as file:\n",
    "\n",
    "                stop_words = json.load(file)\n",
    "\n",
    "            # with open('./Data_prep/darija_latin_ref.json', 'r', encoding='utf-8') as file: #  local run \n",
    "            with open('./darija_latin_ref.json', 'r', encoding='utf-8') as file:\n",
    "                \n",
    "                darija_latin_ref = json.load(file)\n",
    "          \n",
    "            #print(text)\n",
    "            text = remove_url(text)\n",
    "            text = remove_emails(text)\n",
    "            text = replace_underscore(text)\n",
    "            text = remove_html_tags(text)\n",
    "            text = remove_yt_timers(text)\n",
    "            text = special_tags_and_ponctuations(text)\n",
    "            #tokenization\n",
    "            print(text)\n",
    "            words = tokenize(text)\n",
    "            print(words)\n",
    "            words = [ translate_darija_to_arabic(word) for word in words if word not in darija_latin_ref]\n",
    "            print(words)\n",
    "            words = [is_an_emoji(word) for word in words] \n",
    "            words = [item for sublist in words for item in sublist if item]\n",
    "            words = list(set(words))\n",
    "            print(words)        \n",
    "            words = [word for word in words if word not in stop_words]\n",
    "            print(words)\n",
    "\n",
    "            words = [preproc_arab_sentence(word) for word in words]\n",
    "\n",
    "            # print(words)        \n",
    "            words = [stemming_darija(word) for word in words if word]\n",
    "            words = number_remov(words)\n",
    "\n",
    "\n",
    "            # print(words)\n",
    "            words = ' '.join(words) \n",
    "            return words"
   ]
  },
  {
   "cell_type": "code",
   "execution_count": 29,
   "id": "db96e989",
   "metadata": {
    "execution": {
     "iopub.execute_input": "2024-12-18T13:57:33.156222Z",
     "iopub.status.busy": "2024-12-18T13:57:33.155792Z",
     "iopub.status.idle": "2024-12-18T13:57:33.171687Z",
     "shell.execute_reply": "2024-12-18T13:57:33.170340Z"
    },
    "papermill": {
     "duration": 0.03242,
     "end_time": "2024-12-18T13:57:33.174622",
     "exception": false,
     "start_time": "2024-12-18T13:57:33.142202",
     "status": "completed"
    },
    "tags": []
   },
   "outputs": [
    {
     "data": {
      "text/html": [
       "<div>\n",
       "<style scoped>\n",
       "    .dataframe tbody tr th:only-of-type {\n",
       "        vertical-align: middle;\n",
       "    }\n",
       "\n",
       "    .dataframe tbody tr th {\n",
       "        vertical-align: top;\n",
       "    }\n",
       "\n",
       "    .dataframe thead th {\n",
       "        text-align: right;\n",
       "    }\n",
       "</style>\n",
       "<table border=\"1\" class=\"dataframe\">\n",
       "  <thead>\n",
       "    <tr style=\"text-align: right;\">\n",
       "      <th></th>\n",
       "      <th>text</th>\n",
       "      <th>target</th>\n",
       "      <th>text_cleaned</th>\n",
       "    </tr>\n",
       "  </thead>\n",
       "  <tbody>\n",
       "    <tr>\n",
       "      <th>2924</th>\n",
       "      <td>باع كنز او شرا خنز طز</td>\n",
       "      <td>0</td>\n",
       "      <td>باع شرا خنز كنز طز</td>\n",
       "    </tr>\n",
       "    <tr>\n",
       "      <th>27300</th>\n",
       "      <td>ربي واش مكتحشموس يا إعلام العار</td>\n",
       "      <td>0</td>\n",
       "      <td>مكتحشموس عار</td>\n",
       "    </tr>\n",
       "    <tr>\n",
       "      <th>7973</th>\n",
       "      <td>فيديو كليب مصور ب نوكيا بيل</td>\n",
       "      <td>0</td>\n",
       "      <td>بيل</td>\n",
       "    </tr>\n",
       "    <tr>\n",
       "      <th>12130</th>\n",
       "      <td>قلت ليكم ان بارصا فريق ضعيف جدا جدا</td>\n",
       "      <td>0</td>\n",
       "      <td>NaN</td>\n",
       "    </tr>\n",
       "    <tr>\n",
       "      <th>17518</th>\n",
       "      <td>الحمدالله المرض جا عند الصينين بعدا قادرين بيه...</td>\n",
       "      <td>0</td>\n",
       "      <td>سينين حمداله</td>\n",
       "    </tr>\n",
       "  </tbody>\n",
       "</table>\n",
       "</div>"
      ],
      "text/plain": [
       "                                                    text  target  \\\n",
       "2924                               باع كنز او شرا خنز طز       0   \n",
       "27300                    ربي واش مكتحشموس يا إعلام العار       0   \n",
       "7973                         فيديو كليب مصور ب نوكيا بيل       0   \n",
       "12130                قلت ليكم ان بارصا فريق ضعيف جدا جدا       0   \n",
       "17518  الحمدالله المرض جا عند الصينين بعدا قادرين بيه...       0   \n",
       "\n",
       "             text_cleaned  \n",
       "2924   باع شرا خنز كنز طز  \n",
       "27300        مكتحشموس عار  \n",
       "7973                  بيل  \n",
       "12130                 NaN  \n",
       "17518        سينين حمداله  "
      ]
     },
     "execution_count": 29,
     "metadata": {},
     "output_type": "execute_result"
    }
   ],
   "source": [
    "df.head()"
   ]
  },
  {
   "cell_type": "code",
   "execution_count": 30,
   "id": "47d26d64",
   "metadata": {
    "execution": {
     "iopub.execute_input": "2024-12-18T13:57:33.202137Z",
     "iopub.status.busy": "2024-12-18T13:57:33.201742Z",
     "iopub.status.idle": "2024-12-18T13:57:33.220962Z",
     "shell.execute_reply": "2024-12-18T13:57:33.219788Z"
    },
    "papermill": {
     "duration": 0.034908,
     "end_time": "2024-12-18T13:57:33.223336",
     "exception": false,
     "start_time": "2024-12-18T13:57:33.188428",
     "status": "completed"
    },
    "tags": []
   },
   "outputs": [
    {
     "name": "stdout",
     "output_type": "stream",
     "text": [
      "<class 'pandas.core.frame.DataFrame'>\n",
      "Index: 24500 entries, 2924 to 16232\n",
      "Data columns (total 3 columns):\n",
      " #   Column        Non-Null Count  Dtype \n",
      "---  ------        --------------  ----- \n",
      " 0   text          24500 non-null  object\n",
      " 1   target        24500 non-null  int64 \n",
      " 2   text_cleaned  23685 non-null  object\n",
      "dtypes: int64(1), object(2)\n",
      "memory usage: 765.6+ KB\n"
     ]
    }
   ],
   "source": [
    "df.info()"
   ]
  },
  {
   "cell_type": "code",
   "execution_count": 31,
   "id": "bb3b0722",
   "metadata": {
    "execution": {
     "iopub.execute_input": "2024-12-18T13:57:33.249634Z",
     "iopub.status.busy": "2024-12-18T13:57:33.249241Z",
     "iopub.status.idle": "2024-12-18T13:57:33.266362Z",
     "shell.execute_reply": "2024-12-18T13:57:33.265235Z"
    },
    "papermill": {
     "duration": 0.033313,
     "end_time": "2024-12-18T13:57:33.268920",
     "exception": false,
     "start_time": "2024-12-18T13:57:33.235607",
     "status": "completed"
    },
    "tags": []
   },
   "outputs": [],
   "source": [
    "df.dropna(inplace=True)"
   ]
  },
  {
   "cell_type": "code",
   "execution_count": 32,
   "id": "e7d8cc4a",
   "metadata": {
    "execution": {
     "iopub.execute_input": "2024-12-18T13:57:33.295335Z",
     "iopub.status.busy": "2024-12-18T13:57:33.294856Z",
     "iopub.status.idle": "2024-12-18T13:57:33.317425Z",
     "shell.execute_reply": "2024-12-18T13:57:33.316168Z"
    },
    "papermill": {
     "duration": 0.038714,
     "end_time": "2024-12-18T13:57:33.319952",
     "exception": false,
     "start_time": "2024-12-18T13:57:33.281238",
     "status": "completed"
    },
    "tags": []
   },
   "outputs": [],
   "source": [
    "from sklearn.model_selection import train_test_split\n",
    "\n",
    "X_train, X_test, y_train, y_test = train_test_split( df.drop(columns=[\"target\"]),df[\"target\"], test_size=0.2 , stratify=df['target'] ,shuffle=True , random_state=123)"
   ]
  },
  {
   "cell_type": "code",
   "execution_count": 33,
   "id": "1bd57681",
   "metadata": {
    "execution": {
     "iopub.execute_input": "2024-12-18T13:57:33.346210Z",
     "iopub.status.busy": "2024-12-18T13:57:33.345776Z",
     "iopub.status.idle": "2024-12-18T13:57:33.354299Z",
     "shell.execute_reply": "2024-12-18T13:57:33.353227Z"
    },
    "papermill": {
     "duration": 0.024122,
     "end_time": "2024-12-18T13:57:33.356355",
     "exception": false,
     "start_time": "2024-12-18T13:57:33.332233",
     "status": "completed"
    },
    "tags": []
   },
   "outputs": [
    {
     "data": {
      "text/plain": [
       "target\n",
       "0    2411\n",
       "1    2326\n",
       "Name: count, dtype: int64"
      ]
     },
     "execution_count": 33,
     "metadata": {},
     "output_type": "execute_result"
    }
   ],
   "source": [
    "y_test.value_counts()"
   ]
  },
  {
   "cell_type": "code",
   "execution_count": 34,
   "id": "0c50b59c",
   "metadata": {
    "execution": {
     "iopub.execute_input": "2024-12-18T13:57:33.382582Z",
     "iopub.status.busy": "2024-12-18T13:57:33.382217Z",
     "iopub.status.idle": "2024-12-18T13:57:33.389161Z",
     "shell.execute_reply": "2024-12-18T13:57:33.388062Z"
    },
    "papermill": {
     "duration": 0.022599,
     "end_time": "2024-12-18T13:57:33.391224",
     "exception": false,
     "start_time": "2024-12-18T13:57:33.368625",
     "status": "completed"
    },
    "tags": []
   },
   "outputs": [
    {
     "data": {
      "text/plain": [
       "(18948, 2)"
      ]
     },
     "execution_count": 34,
     "metadata": {},
     "output_type": "execute_result"
    }
   ],
   "source": [
    "X_train.shape"
   ]
  },
  {
   "cell_type": "markdown",
   "id": "a943136e",
   "metadata": {
    "papermill": {
     "duration": 0.012109,
     "end_time": "2024-12-18T13:57:33.415823",
     "exception": false,
     "start_time": "2024-12-18T13:57:33.403714",
     "status": "completed"
    },
    "tags": []
   },
   "source": [
    "## Useful Function"
   ]
  },
  {
   "cell_type": "code",
   "execution_count": 35,
   "id": "7695b715",
   "metadata": {
    "execution": {
     "iopub.execute_input": "2024-12-18T13:57:33.442547Z",
     "iopub.status.busy": "2024-12-18T13:57:33.441847Z",
     "iopub.status.idle": "2024-12-18T13:57:33.970422Z",
     "shell.execute_reply": "2024-12-18T13:57:33.969402Z"
    },
    "papermill": {
     "duration": 0.544827,
     "end_time": "2024-12-18T13:57:33.973091",
     "exception": false,
     "start_time": "2024-12-18T13:57:33.428264",
     "status": "completed"
    },
    "tags": []
   },
   "outputs": [],
   "source": [
    "import numpy as np\n",
    "from sklearn.metrics import accuracy_score, f1_score, classification_report, confusion_matrix\n",
    "import seaborn as sns\n",
    "import matplotlib.pyplot as plt\n",
    "\n",
    "def about_model(model_name , y_test, y_pred):\n",
    "    print('-------------------> ' + model_name )\n",
    "    accuracy = accuracy_score(y_test, y_pred)\n",
    "    print(f\"Accuracy: {accuracy:.2f}\")\n",
    "    \n",
    "    f1 = f1_score(y_test, y_pred, average=None)\n",
    "    print(\"F1-Score for each class:\")\n",
    "    class_labels = ['Positive', 'Negative']\n",
    "\n",
    "    for i, score in enumerate(f1):\n",
    "        print(f\"{class_labels[i]}: {score:.2f}\")\n",
    "    \n",
    "    print(\"\\nClassification Report:\")\n",
    "    print(classification_report(y_test, y_pred, target_names=class_labels, digits=2))\n",
    "    \n",
    "    conf_matrix = confusion_matrix(y_test, y_pred)\n",
    "    plt.figure(figsize=(8, 6))\n",
    "    sns.heatmap(conf_matrix, annot=True, fmt='d', cmap='Blues', \n",
    "                xticklabels=class_labels,\n",
    "                yticklabels=class_labels)\n",
    "    plt.xlabel(\"Predicted\")\n",
    "    plt.ylabel(\"Actual\")\n",
    "    plt.title(\"Confusion Matrix\")\n",
    "    plt.show()\n"
   ]
  },
  {
   "cell_type": "markdown",
   "id": "045965e7",
   "metadata": {
    "papermill": {
     "duration": 0.011947,
     "end_time": "2024-12-18T13:57:33.997605",
     "exception": false,
     "start_time": "2024-12-18T13:57:33.985658",
     "status": "completed"
    },
    "tags": []
   },
   "source": [
    "## Feature Engineering\n",
    "Converting text to vectors format:\n",
    "- TF-IDF Vectorization (ngram_range=(1, 2))"
   ]
  },
  {
   "cell_type": "code",
   "execution_count": 36,
   "id": "dc3b8484",
   "metadata": {
    "execution": {
     "iopub.execute_input": "2024-12-18T13:57:34.024738Z",
     "iopub.status.busy": "2024-12-18T13:57:34.024241Z",
     "iopub.status.idle": "2024-12-18T13:57:34.029330Z",
     "shell.execute_reply": "2024-12-18T13:57:34.028029Z"
    },
    "papermill": {
     "duration": 0.021225,
     "end_time": "2024-12-18T13:57:34.031455",
     "exception": false,
     "start_time": "2024-12-18T13:57:34.010230",
     "status": "completed"
    },
    "tags": []
   },
   "outputs": [],
   "source": [
    "#from sklearn.feature_extraction.text import TfidfVectorizer\n",
    "\n",
    "\n",
    "#tfidf_vectorizer = TfidfVectorizer(ngram_range=(1, 2))\n",
    "#X_train['text_cleaned'] = X_train['text_cleaned'].astype(str)\n",
    "#X_test['text_cleaned'] = X_test['text_cleaned'].astype(str)\n",
    "\n",
    "#X_train_tfidf = tfidf_vectorizer.fit_transform(X_train['text_cleaned'])\n",
    "#X_test_tfidf = tfidf_vectorizer.transform(X_test['text_cleaned'])\n",
    "\n"
   ]
  },
  {
   "cell_type": "code",
   "execution_count": 37,
   "id": "fd8f5661",
   "metadata": {
    "execution": {
     "iopub.execute_input": "2024-12-18T13:57:34.058189Z",
     "iopub.status.busy": "2024-12-18T13:57:34.057699Z",
     "iopub.status.idle": "2024-12-18T13:57:35.484240Z",
     "shell.execute_reply": "2024-12-18T13:57:35.483084Z"
    },
    "papermill": {
     "duration": 1.442829,
     "end_time": "2024-12-18T13:57:35.486789",
     "exception": false,
     "start_time": "2024-12-18T13:57:34.043960",
     "status": "completed"
    },
    "tags": []
   },
   "outputs": [
    {
     "name": "stdout",
     "output_type": "stream",
     "text": [
      "all tokens:  125069\n",
      "reduced tokens:  125069\n"
     ]
    }
   ],
   "source": [
    "from sklearn.feature_extraction.text import TfidfVectorizer\n",
    "import numpy as np\n",
    "import pandas as pd\n",
    "\n",
    "\n",
    "tfidf_vectorizer = TfidfVectorizer(ngram_range=(1, 2))\n",
    "\n",
    "X_train['text_cleaned'] = X_train['text_cleaned'].astype(str)\n",
    "X_test['text_cleaned'] = X_test['text_cleaned'].astype(str)\n",
    "\n",
    "X_train_tfidf = tfidf_vectorizer.fit_transform(X_train['text_cleaned'])\n",
    "X_test_tfidf = tfidf_vectorizer.transform(X_test['text_cleaned'])\n",
    "\n",
    "words = tfidf_vectorizer.get_feature_names_out()\n",
    "print(\"all tokens: \" , len(words))\n",
    "tfidf_scores = np.asarray(X_train_tfidf.sum(axis=0)).flatten()\n",
    "\n",
    "sorted_indices = np.argsort(tfidf_scores)[::-1]\n",
    "\n",
    "cumulative_tfidf = np.cumsum(tfidf_scores[sorted_indices])\n",
    "\n",
    "total_tfidf = cumulative_tfidf[-1]\n",
    "threshold =  total_tfidf\n",
    "\n",
    "cutoff_index = np.where(cumulative_tfidf >= threshold)[0][0]\n",
    "\n",
    "selected_ngrams = words[sorted_indices][:cutoff_index + 1]\n",
    "\n",
    "selected_vocab = selected_ngrams.tolist()\n",
    "print(\"reduced tokens: \"  , len(selected_vocab))\n",
    "\n",
    "tfidf_vectorizer = TfidfVectorizer(vocabulary=selected_vocab)\n",
    "\n",
    "X_train_tfidf = tfidf_vectorizer.fit_transform(X_train['text_cleaned'])\n",
    "X_test_tfidf = tfidf_vectorizer.transform(X_test['text_cleaned'])\n"
   ]
  },
  {
   "cell_type": "code",
   "execution_count": 38,
   "id": "da759bb4",
   "metadata": {
    "execution": {
     "iopub.execute_input": "2024-12-18T13:57:35.514400Z",
     "iopub.status.busy": "2024-12-18T13:57:35.513429Z",
     "iopub.status.idle": "2024-12-18T13:57:35.597129Z",
     "shell.execute_reply": "2024-12-18T13:57:35.595934Z"
    },
    "papermill": {
     "duration": 0.099893,
     "end_time": "2024-12-18T13:57:35.599363",
     "exception": false,
     "start_time": "2024-12-18T13:57:35.499470",
     "status": "completed"
    },
    "tags": []
   },
   "outputs": [
    {
     "data": {
      "text/plain": [
       "array(['لا', 'ما', 'غير', 'هه', 'خير', 'حمد', 'مبروك', 'ماش', 'تفو',\n",
       "       'سير', 'فرح', 'قلب', 'هم', 'احسن', 'عداله', 'لم', 'فكر', 'بدموع',\n",
       "       'وفي', 'عديم', 'طحن', 'قوه', 'تحيه', 'ليس', 'تنميه', 'والو',\n",
       "       'كورو', 'بدون', 'عمار', 'تبارك'], dtype=object)"
      ]
     },
     "execution_count": 38,
     "metadata": {},
     "output_type": "execute_result"
    }
   ],
   "source": [
    "tfidf_vectorizer.get_feature_names_out()[:30]"
   ]
  },
  {
   "cell_type": "code",
   "execution_count": 39,
   "id": "dd6aea0b",
   "metadata": {
    "execution": {
     "iopub.execute_input": "2024-12-18T13:57:35.626510Z",
     "iopub.status.busy": "2024-12-18T13:57:35.625811Z",
     "iopub.status.idle": "2024-12-18T13:57:35.699805Z",
     "shell.execute_reply": "2024-12-18T13:57:35.698715Z"
    },
    "papermill": {
     "duration": 0.090116,
     "end_time": "2024-12-18T13:57:35.702238",
     "exception": false,
     "start_time": "2024-12-18T13:57:35.612122",
     "status": "completed"
    },
    "tags": []
   },
   "outputs": [
    {
     "data": {
      "text/plain": [
       "125069"
      ]
     },
     "execution_count": 39,
     "metadata": {},
     "output_type": "execute_result"
    }
   ],
   "source": [
    "len(tfidf_vectorizer.get_feature_names_out())"
   ]
  },
  {
   "cell_type": "markdown",
   "id": "8dc02fb5",
   "metadata": {
    "papermill": {
     "duration": 0.012268,
     "end_time": "2024-12-18T13:57:35.727408",
     "exception": false,
     "start_time": "2024-12-18T13:57:35.715140",
     "status": "completed"
    },
    "tags": []
   },
   "source": [
    "## Model Development\n"
   ]
  },
  {
   "cell_type": "markdown",
   "id": "5d4f8d14",
   "metadata": {
    "papermill": {
     "duration": 0.012316,
     "end_time": "2024-12-18T13:57:35.752512",
     "exception": false,
     "start_time": "2024-12-18T13:57:35.740196",
     "status": "completed"
    },
    "tags": []
   },
   "source": [
    "### Random Forest"
   ]
  },
  {
   "cell_type": "code",
   "execution_count": 40,
   "id": "8ab9ad10",
   "metadata": {
    "execution": {
     "iopub.execute_input": "2024-12-18T13:57:35.779463Z",
     "iopub.status.busy": "2024-12-18T13:57:35.779102Z",
     "iopub.status.idle": "2024-12-18T14:04:00.241859Z",
     "shell.execute_reply": "2024-12-18T14:04:00.240596Z"
    },
    "papermill": {
     "duration": 384.491522,
     "end_time": "2024-12-18T14:04:00.256769",
     "exception": false,
     "start_time": "2024-12-18T13:57:35.765247",
     "status": "completed"
    },
    "tags": []
   },
   "outputs": [
    {
     "data": {
      "text/html": [
       "<style>#sk-container-id-1 {color: black;background-color: white;}#sk-container-id-1 pre{padding: 0;}#sk-container-id-1 div.sk-toggleable {background-color: white;}#sk-container-id-1 label.sk-toggleable__label {cursor: pointer;display: block;width: 100%;margin-bottom: 0;padding: 0.3em;box-sizing: border-box;text-align: center;}#sk-container-id-1 label.sk-toggleable__label-arrow:before {content: \"▸\";float: left;margin-right: 0.25em;color: #696969;}#sk-container-id-1 label.sk-toggleable__label-arrow:hover:before {color: black;}#sk-container-id-1 div.sk-estimator:hover label.sk-toggleable__label-arrow:before {color: black;}#sk-container-id-1 div.sk-toggleable__content {max-height: 0;max-width: 0;overflow: hidden;text-align: left;background-color: #f0f8ff;}#sk-container-id-1 div.sk-toggleable__content pre {margin: 0.2em;color: black;border-radius: 0.25em;background-color: #f0f8ff;}#sk-container-id-1 input.sk-toggleable__control:checked~div.sk-toggleable__content {max-height: 200px;max-width: 100%;overflow: auto;}#sk-container-id-1 input.sk-toggleable__control:checked~label.sk-toggleable__label-arrow:before {content: \"▾\";}#sk-container-id-1 div.sk-estimator input.sk-toggleable__control:checked~label.sk-toggleable__label {background-color: #d4ebff;}#sk-container-id-1 div.sk-label input.sk-toggleable__control:checked~label.sk-toggleable__label {background-color: #d4ebff;}#sk-container-id-1 input.sk-hidden--visually {border: 0;clip: rect(1px 1px 1px 1px);clip: rect(1px, 1px, 1px, 1px);height: 1px;margin: -1px;overflow: hidden;padding: 0;position: absolute;width: 1px;}#sk-container-id-1 div.sk-estimator {font-family: monospace;background-color: #f0f8ff;border: 1px dotted black;border-radius: 0.25em;box-sizing: border-box;margin-bottom: 0.5em;}#sk-container-id-1 div.sk-estimator:hover {background-color: #d4ebff;}#sk-container-id-1 div.sk-parallel-item::after {content: \"\";width: 100%;border-bottom: 1px solid gray;flex-grow: 1;}#sk-container-id-1 div.sk-label:hover label.sk-toggleable__label {background-color: #d4ebff;}#sk-container-id-1 div.sk-serial::before {content: \"\";position: absolute;border-left: 1px solid gray;box-sizing: border-box;top: 0;bottom: 0;left: 50%;z-index: 0;}#sk-container-id-1 div.sk-serial {display: flex;flex-direction: column;align-items: center;background-color: white;padding-right: 0.2em;padding-left: 0.2em;position: relative;}#sk-container-id-1 div.sk-item {position: relative;z-index: 1;}#sk-container-id-1 div.sk-parallel {display: flex;align-items: stretch;justify-content: center;background-color: white;position: relative;}#sk-container-id-1 div.sk-item::before, #sk-container-id-1 div.sk-parallel-item::before {content: \"\";position: absolute;border-left: 1px solid gray;box-sizing: border-box;top: 0;bottom: 0;left: 50%;z-index: -1;}#sk-container-id-1 div.sk-parallel-item {display: flex;flex-direction: column;z-index: 1;position: relative;background-color: white;}#sk-container-id-1 div.sk-parallel-item:first-child::after {align-self: flex-end;width: 50%;}#sk-container-id-1 div.sk-parallel-item:last-child::after {align-self: flex-start;width: 50%;}#sk-container-id-1 div.sk-parallel-item:only-child::after {width: 0;}#sk-container-id-1 div.sk-dashed-wrapped {border: 1px dashed gray;margin: 0 0.4em 0.5em 0.4em;box-sizing: border-box;padding-bottom: 0.4em;background-color: white;}#sk-container-id-1 div.sk-label label {font-family: monospace;font-weight: bold;display: inline-block;line-height: 1.2em;}#sk-container-id-1 div.sk-label-container {text-align: center;}#sk-container-id-1 div.sk-container {/* jupyter's `normalize.less` sets `[hidden] { display: none; }` but bootstrap.min.css set `[hidden] { display: none !important; }` so we also need the `!important` here to be able to override the default hidden behavior on the sphinx rendered scikit-learn.org. See: https://github.com/scikit-learn/scikit-learn/issues/21755 */display: inline-block !important;position: relative;}#sk-container-id-1 div.sk-text-repr-fallback {display: none;}</style><div id=\"sk-container-id-1\" class=\"sk-top-container\"><div class=\"sk-text-repr-fallback\"><pre>RandomForestClassifier()</pre><b>In a Jupyter environment, please rerun this cell to show the HTML representation or trust the notebook. <br />On GitHub, the HTML representation is unable to render, please try loading this page with nbviewer.org.</b></div><div class=\"sk-container\" hidden><div class=\"sk-item\"><div class=\"sk-estimator sk-toggleable\"><input class=\"sk-toggleable__control sk-hidden--visually\" id=\"sk-estimator-id-1\" type=\"checkbox\" checked><label for=\"sk-estimator-id-1\" class=\"sk-toggleable__label sk-toggleable__label-arrow\">RandomForestClassifier</label><div class=\"sk-toggleable__content\"><pre>RandomForestClassifier()</pre></div></div></div></div></div>"
      ],
      "text/plain": [
       "RandomForestClassifier()"
      ]
     },
     "execution_count": 40,
     "metadata": {},
     "output_type": "execute_result"
    }
   ],
   "source": [
    "from sklearn.ensemble import RandomForestClassifier\n",
    "randomforest_clf = RandomForestClassifier()\n",
    "randomforest_clf.fit(X_train_tfidf, y_train)"
   ]
  },
  {
   "cell_type": "code",
   "execution_count": 41,
   "id": "7fe4a643",
   "metadata": {
    "execution": {
     "iopub.execute_input": "2024-12-18T14:04:00.285318Z",
     "iopub.status.busy": "2024-12-18T14:04:00.284930Z",
     "iopub.status.idle": "2024-12-18T14:04:02.878546Z",
     "shell.execute_reply": "2024-12-18T14:04:02.877435Z"
    },
    "papermill": {
     "duration": 2.610449,
     "end_time": "2024-12-18T14:04:02.881095",
     "exception": false,
     "start_time": "2024-12-18T14:04:00.270646",
     "status": "completed"
    },
    "tags": []
   },
   "outputs": [
    {
     "name": "stdout",
     "output_type": "stream",
     "text": [
      "-------------------> Random Forest\n",
      "Accuracy: 0.72\n",
      "F1-Score for each class:\n",
      "Positive: 0.69\n",
      "Negative: 0.74\n",
      "\n",
      "Classification Report:\n",
      "              precision    recall  f1-score   support\n",
      "\n",
      "    Positive       0.78      0.62      0.69      2411\n",
      "    Negative       0.67      0.82      0.74      2326\n",
      "\n",
      "    accuracy                           0.72      4737\n",
      "   macro avg       0.73      0.72      0.72      4737\n",
      "weighted avg       0.73      0.72      0.72      4737\n",
      "\n"
     ]
    },
    {
     "data": {
      "image/png": "[encoded data removed]",
      "text/plain": [
       "<Figure size 800x600 with 2 Axes>"
      ]
     },
     "metadata": {},
     "output_type": "display_data"
    }
   ],
   "source": [
    "y_hat = randomforest_clf.predict(X_test_tfidf) \n",
    "about_model(\"Random Forest\" , y_test, y_hat)"
   ]
  },
  {
   "cell_type": "markdown",
   "id": "453e3731",
   "metadata": {
    "papermill": {
     "duration": 0.013338,
     "end_time": "2024-12-18T14:04:02.909593",
     "exception": false,
     "start_time": "2024-12-18T14:04:02.896255",
     "status": "completed"
    },
    "tags": []
   },
   "source": [
    "### Tuned Random Forest"
   ]
  },
  {
   "cell_type": "code",
   "execution_count": 42,
   "id": "88d9ecca",
   "metadata": {
    "execution": {
     "iopub.execute_input": "2024-12-18T14:04:02.940093Z",
     "iopub.status.busy": "2024-12-18T14:04:02.939668Z",
     "iopub.status.idle": "2024-12-18T20:14:46.963276Z",
     "shell.execute_reply": "2024-12-18T20:14:46.962094Z"
    },
    "papermill": {
     "duration": 22244.055667,
     "end_time": "2024-12-18T20:14:46.979825",
     "exception": false,
     "start_time": "2024-12-18T14:04:02.924158",
     "status": "completed"
    },
    "tags": []
   },
   "outputs": [
    {
     "name": "stdout",
     "output_type": "stream",
     "text": [
      "Fitting 5 folds for each of 108 candidates, totalling 540 fits\n"
     ]
    },
    {
     "data": {
      "text/plain": [
       "{'criterion': 'gini',\n",
       " 'max_depth': None,\n",
       " 'max_features': 'log2',\n",
       " 'min_samples_split': 10,\n",
       " 'n_estimators': 100}"
      ]
     },
     "execution_count": 42,
     "metadata": {},
     "output_type": "execute_result"
    }
   ],
   "source": [
    "param_grid_ = {\n",
    "    'n_estimators': [10, 100, 200],\n",
    "    'max_features': ['sqrt', 'log2'],\n",
    "    'criterion': ['gini', 'entropy'], \n",
    "    'max_depth': [None, 10, 20],      \n",
    "    'min_samples_split': [2, 5, 10]   \n",
    "}\n",
    "\n",
    "randomforest_clf = GridSearchCV(estimator=RandomForestClassifier(n_jobs=-1),\n",
    "                                param_grid=param_grid_, \n",
    "                                cv=5, verbose=1 , \n",
    "                                scoring='accuracy',\n",
    "                                n_jobs=-1)\n",
    "randomforest_clf.fit(X_train_tfidf, y_train)\n",
    "randomforest_clf.best_params_\n"
   ]
  },
  {
   "cell_type": "code",
   "execution_count": 43,
   "id": "09c41bea",
   "metadata": {
    "execution": {
     "iopub.execute_input": "2024-12-18T20:14:47.008778Z",
     "iopub.status.busy": "2024-12-18T20:14:47.008401Z",
     "iopub.status.idle": "2024-12-18T20:14:49.483433Z",
     "shell.execute_reply": "2024-12-18T20:14:49.482206Z"
    },
    "papermill": {
     "duration": 2.492357,
     "end_time": "2024-12-18T20:14:49.485783",
     "exception": false,
     "start_time": "2024-12-18T20:14:46.993426",
     "status": "completed"
    },
    "tags": []
   },
   "outputs": [
    {
     "name": "stdout",
     "output_type": "stream",
     "text": [
      "-------------------> Tuned Random Forest\n",
      "Accuracy: 0.74\n",
      "F1-Score for each class:\n",
      "Positive: 0.72\n",
      "Negative: 0.75\n",
      "\n",
      "Classification Report:\n",
      "              precision    recall  f1-score   support\n",
      "\n",
      "    Positive       0.78      0.67      0.72      2411\n",
      "    Negative       0.70      0.80      0.75      2326\n",
      "\n",
      "    accuracy                           0.74      4737\n",
      "   macro avg       0.74      0.74      0.74      4737\n",
      "weighted avg       0.74      0.74      0.74      4737\n",
      "\n"
     ]
    },
    {
     "data": {
      "image/png": "[encoded data removed]",
      "text/plain": [
       "<Figure size 800x600 with 2 Axes>"
      ]
     },
     "metadata": {},
     "output_type": "display_data"
    }
   ],
   "source": [
    "y_hat = randomforest_clf.predict(X_test_tfidf)\n",
    "about_model(\"Tuned Random Forest\" , y_test , y_hat)"
   ]
  },
  {
   "cell_type": "markdown",
   "id": "d74b00bd",
   "metadata": {
    "papermill": {
     "duration": 0.0139,
     "end_time": "2024-12-18T20:14:49.514163",
     "exception": false,
     "start_time": "2024-12-18T20:14:49.500263",
     "status": "completed"
    },
    "tags": []
   },
   "source": [
    "### SVM"
   ]
  },
  {
   "cell_type": "code",
   "execution_count": 44,
   "id": "19046d9d",
   "metadata": {
    "execution": {
     "iopub.execute_input": "2024-12-18T20:14:49.544975Z",
     "iopub.status.busy": "2024-12-18T20:14:49.544562Z",
     "iopub.status.idle": "2024-12-18T20:19:48.050630Z",
     "shell.execute_reply": "2024-12-18T20:19:48.049513Z"
    },
    "papermill": {
     "duration": 298.53857,
     "end_time": "2024-12-18T20:19:48.066992",
     "exception": false,
     "start_time": "2024-12-18T20:14:49.528422",
     "status": "completed"
    },
    "tags": []
   },
   "outputs": [
    {
     "data": {
      "text/html": [
       "<style>#sk-container-id-2 {color: black;background-color: white;}#sk-container-id-2 pre{padding: 0;}#sk-container-id-2 div.sk-toggleable {background-color: white;}#sk-container-id-2 label.sk-toggleable__label {cursor: pointer;display: block;width: 100%;margin-bottom: 0;padding: 0.3em;box-sizing: border-box;text-align: center;}#sk-container-id-2 label.sk-toggleable__label-arrow:before {content: \"▸\";float: left;margin-right: 0.25em;color: #696969;}#sk-container-id-2 label.sk-toggleable__label-arrow:hover:before {color: black;}#sk-container-id-2 div.sk-estimator:hover label.sk-toggleable__label-arrow:before {color: black;}#sk-container-id-2 div.sk-toggleable__content {max-height: 0;max-width: 0;overflow: hidden;text-align: left;background-color: #f0f8ff;}#sk-container-id-2 div.sk-toggleable__content pre {margin: 0.2em;color: black;border-radius: 0.25em;background-color: #f0f8ff;}#sk-container-id-2 input.sk-toggleable__control:checked~div.sk-toggleable__content {max-height: 200px;max-width: 100%;overflow: auto;}#sk-container-id-2 input.sk-toggleable__control:checked~label.sk-toggleable__label-arrow:before {content: \"▾\";}#sk-container-id-2 div.sk-estimator input.sk-toggleable__control:checked~label.sk-toggleable__label {background-color: #d4ebff;}#sk-container-id-2 div.sk-label input.sk-toggleable__control:checked~label.sk-toggleable__label {background-color: #d4ebff;}#sk-container-id-2 input.sk-hidden--visually {border: 0;clip: rect(1px 1px 1px 1px);clip: rect(1px, 1px, 1px, 1px);height: 1px;margin: -1px;overflow: hidden;padding: 0;position: absolute;width: 1px;}#sk-container-id-2 div.sk-estimator {font-family: monospace;background-color: #f0f8ff;border: 1px dotted black;border-radius: 0.25em;box-sizing: border-box;margin-bottom: 0.5em;}#sk-container-id-2 div.sk-estimator:hover {background-color: #d4ebff;}#sk-container-id-2 div.sk-parallel-item::after {content: \"\";width: 100%;border-bottom: 1px solid gray;flex-grow: 1;}#sk-container-id-2 div.sk-label:hover label.sk-toggleable__label {background-color: #d4ebff;}#sk-container-id-2 div.sk-serial::before {content: \"\";position: absolute;border-left: 1px solid gray;box-sizing: border-box;top: 0;bottom: 0;left: 50%;z-index: 0;}#sk-container-id-2 div.sk-serial {display: flex;flex-direction: column;align-items: center;background-color: white;padding-right: 0.2em;padding-left: 0.2em;position: relative;}#sk-container-id-2 div.sk-item {position: relative;z-index: 1;}#sk-container-id-2 div.sk-parallel {display: flex;align-items: stretch;justify-content: center;background-color: white;position: relative;}#sk-container-id-2 div.sk-item::before, #sk-container-id-2 div.sk-parallel-item::before {content: \"\";position: absolute;border-left: 1px solid gray;box-sizing: border-box;top: 0;bottom: 0;left: 50%;z-index: -1;}#sk-container-id-2 div.sk-parallel-item {display: flex;flex-direction: column;z-index: 1;position: relative;background-color: white;}#sk-container-id-2 div.sk-parallel-item:first-child::after {align-self: flex-end;width: 50%;}#sk-container-id-2 div.sk-parallel-item:last-child::after {align-self: flex-start;width: 50%;}#sk-container-id-2 div.sk-parallel-item:only-child::after {width: 0;}#sk-container-id-2 div.sk-dashed-wrapped {border: 1px dashed gray;margin: 0 0.4em 0.5em 0.4em;box-sizing: border-box;padding-bottom: 0.4em;background-color: white;}#sk-container-id-2 div.sk-label label {font-family: monospace;font-weight: bold;display: inline-block;line-height: 1.2em;}#sk-container-id-2 div.sk-label-container {text-align: center;}#sk-container-id-2 div.sk-container {/* jupyter's `normalize.less` sets `[hidden] { display: none; }` but bootstrap.min.css set `[hidden] { display: none !important; }` so we also need the `!important` here to be able to override the default hidden behavior on the sphinx rendered scikit-learn.org. See: https://github.com/scikit-learn/scikit-learn/issues/21755 */display: inline-block !important;position: relative;}#sk-container-id-2 div.sk-text-repr-fallback {display: none;}</style><div id=\"sk-container-id-2\" class=\"sk-top-container\"><div class=\"sk-text-repr-fallback\"><pre>SVC(probability=True)</pre><b>In a Jupyter environment, please rerun this cell to show the HTML representation or trust the notebook. <br />On GitHub, the HTML representation is unable to render, please try loading this page with nbviewer.org.</b></div><div class=\"sk-container\" hidden><div class=\"sk-item\"><div class=\"sk-estimator sk-toggleable\"><input class=\"sk-toggleable__control sk-hidden--visually\" id=\"sk-estimator-id-2\" type=\"checkbox\" checked><label for=\"sk-estimator-id-2\" class=\"sk-toggleable__label sk-toggleable__label-arrow\">SVC</label><div class=\"sk-toggleable__content\"><pre>SVC(probability=True)</pre></div></div></div></div></div>"
      ],
      "text/plain": [
       "SVC(probability=True)"
      ]
     },
     "execution_count": 44,
     "metadata": {},
     "output_type": "execute_result"
    }
   ],
   "source": [
    "from sklearn.svm import SVC\n",
    "svm_clf = SVC(probability=True)\n",
    "svm_clf.fit(X_train_tfidf, y_train)"
   ]
  },
  {
   "cell_type": "code",
   "execution_count": 45,
   "id": "049c49b0",
   "metadata": {
    "execution": {
     "iopub.execute_input": "2024-12-18T20:19:48.098453Z",
     "iopub.status.busy": "2024-12-18T20:19:48.097737Z",
     "iopub.status.idle": "2024-12-18T20:19:53.872857Z",
     "shell.execute_reply": "2024-12-18T20:19:53.871764Z"
    },
    "papermill": {
     "duration": 5.793565,
     "end_time": "2024-12-18T20:19:53.875039",
     "exception": false,
     "start_time": "2024-12-18T20:19:48.081474",
     "status": "completed"
    },
    "tags": []
   },
   "outputs": [
    {
     "name": "stdout",
     "output_type": "stream",
     "text": [
      "-------------------> SVM\n",
      "Accuracy: 0.76\n",
      "F1-Score for each class:\n",
      "Positive: 0.76\n",
      "Negative: 0.74\n",
      "\n",
      "Classification Report:\n",
      "              precision    recall  f1-score   support\n",
      "\n",
      "    Positive       0.75      0.78      0.76      2411\n",
      "    Negative       0.76      0.73      0.74      2326\n",
      "\n",
      "    accuracy                           0.76      4737\n",
      "   macro avg       0.76      0.75      0.75      4737\n",
      "weighted avg       0.76      0.76      0.75      4737\n",
      "\n"
     ]
    },
    {
     "data": {
      "image/png": "[encoded data removed]",
      "text/plain": [
       "<Figure size 800x600 with 2 Axes>"
      ]
     },
     "metadata": {},
     "output_type": "display_data"
    }
   ],
   "source": [
    "y_hat = svm_clf.predict(X_test_tfidf) \n",
    "about_model(\"SVM\" , y_test, y_hat)"
   ]
  },
  {
   "cell_type": "markdown",
   "id": "9897f74a",
   "metadata": {
    "papermill": {
     "duration": 0.014843,
     "end_time": "2024-12-18T20:19:53.904873",
     "exception": false,
     "start_time": "2024-12-18T20:19:53.890030",
     "status": "completed"
    },
    "tags": []
   },
   "source": [
    "### Tuned SVM"
   ]
  },
  {
   "cell_type": "code",
   "execution_count": 46,
   "id": "e6daab5e",
   "metadata": {
    "execution": {
     "iopub.execute_input": "2024-12-18T20:19:53.936102Z",
     "iopub.status.busy": "2024-12-18T20:19:53.935711Z",
     "iopub.status.idle": "2024-12-18T22:01:36.655026Z",
     "shell.execute_reply": "2024-12-18T22:01:36.653630Z"
    },
    "papermill": {
     "duration": 6102.752681,
     "end_time": "2024-12-18T22:01:36.672331",
     "exception": false,
     "start_time": "2024-12-18T20:19:53.919650",
     "status": "completed"
    },
    "tags": []
   },
   "outputs": [
    {
     "name": "stdout",
     "output_type": "stream",
     "text": [
      "Fitting 5 folds for each of 75 candidates, totalling 375 fits\n"
     ]
    },
    {
     "data": {
      "text/plain": [
       "{'C': 1, 'gamma': 0.01, 'kernel': 'linear'}"
      ]
     },
     "execution_count": 46,
     "metadata": {},
     "output_type": "execute_result"
    }
   ],
   "source": [
    "param_grid_ = {'kernel': ['rbf', 'linear', 'poly'],\n",
    "             'gamma': [0.01 , 0.1, 1, 10, 100],\n",
    "             'C': [0.1, 1,5, 10, 100]}\n",
    "svm_grid = GridSearchCV(estimator=SVC(), \n",
    "                        param_grid=param_grid_, \n",
    "                        cv=5, verbose=1 , \n",
    "                        scoring='accuracy' , \n",
    "                        n_jobs=-1)\n",
    "svm_grid.fit(X_train_tfidf, y_train)\n",
    "svm_grid.best_params_\n"
   ]
  },
  {
   "cell_type": "code",
   "execution_count": 47,
   "id": "04c83a1f",
   "metadata": {
    "execution": {
     "iopub.execute_input": "2024-12-18T22:01:36.704455Z",
     "iopub.status.busy": "2024-12-18T22:01:36.704036Z",
     "iopub.status.idle": "2024-12-18T22:01:40.152294Z",
     "shell.execute_reply": "2024-12-18T22:01:40.151096Z"
    },
    "papermill": {
     "duration": 3.467341,
     "end_time": "2024-12-18T22:01:40.154637",
     "exception": false,
     "start_time": "2024-12-18T22:01:36.687296",
     "status": "completed"
    },
    "tags": []
   },
   "outputs": [
    {
     "name": "stdout",
     "output_type": "stream",
     "text": [
      "-------------------> Tuned SVM\n",
      "Accuracy: 0.75\n",
      "F1-Score for each class:\n",
      "Positive: 0.75\n",
      "Negative: 0.74\n",
      "\n",
      "Classification Report:\n",
      "              precision    recall  f1-score   support\n",
      "\n",
      "    Positive       0.75      0.76      0.75      2411\n",
      "    Negative       0.75      0.74      0.74      2326\n",
      "\n",
      "    accuracy                           0.75      4737\n",
      "   macro avg       0.75      0.75      0.75      4737\n",
      "weighted avg       0.75      0.75      0.75      4737\n",
      "\n"
     ]
    },
    {
     "data": {
      "image/png": "[encoded data removed]",
      "text/plain": [
       "<Figure size 800x600 with 2 Axes>"
      ]
     },
     "metadata": {},
     "output_type": "display_data"
    }
   ],
   "source": [
    "y_hat = svm_grid.predict(X_test_tfidf)\n",
    "about_model(\"Tuned SVM\", y_test , y_hat) "
   ]
  },
  {
   "cell_type": "markdown",
   "id": "0795dc5e",
   "metadata": {
    "papermill": {
     "duration": 0.016239,
     "end_time": "2024-12-18T22:01:40.186671",
     "exception": false,
     "start_time": "2024-12-18T22:01:40.170432",
     "status": "completed"
    },
    "tags": []
   },
   "source": [
    "### lightgbm"
   ]
  },
  {
   "cell_type": "code",
   "execution_count": 48,
   "id": "6cf32080",
   "metadata": {
    "execution": {
     "iopub.execute_input": "2024-12-18T22:01:40.220559Z",
     "iopub.status.busy": "2024-12-18T22:01:40.220167Z",
     "iopub.status.idle": "2024-12-18T22:01:44.553911Z",
     "shell.execute_reply": "2024-12-18T22:01:44.552789Z"
    },
    "papermill": {
     "duration": 4.35396,
     "end_time": "2024-12-18T22:01:44.556471",
     "exception": false,
     "start_time": "2024-12-18T22:01:40.202511",
     "status": "completed"
    },
    "tags": []
   },
   "outputs": [],
   "source": [
    "import lightgbm as lgb\n",
    "\n",
    "d_train = lgb.Dataset(X_train_tfidf, label=y_train)\n",
    "d_test = lgb.Dataset(X_test_tfidf, label=y_test, reference=d_train)\n",
    "\n",
    "params = {\n",
    "    'objective': 'binary',  \n",
    "    'boosting_type': 'gbdt',\n",
    "    'metric': 'binary_logloss', \n",
    "    'num_leaves': 31,\n",
    "    'learning_rate': 0.1,\n",
    "    'verbose': 0\n",
    "}\n",
    "\n",
    "model = lgb.train(params, d_train, num_boost_round=100, valid_sets=[d_train, d_test])"
   ]
  },
  {
   "cell_type": "code",
   "execution_count": 49,
   "id": "616bc04d",
   "metadata": {
    "execution": {
     "iopub.execute_input": "2024-12-18T22:01:44.590075Z",
     "iopub.status.busy": "2024-12-18T22:01:44.589455Z",
     "iopub.status.idle": "2024-12-18T22:01:44.992119Z",
     "shell.execute_reply": "2024-12-18T22:01:44.990995Z"
    },
    "papermill": {
     "duration": 0.422104,
     "end_time": "2024-12-18T22:01:44.994492",
     "exception": false,
     "start_time": "2024-12-18T22:01:44.572388",
     "status": "completed"
    },
    "tags": []
   },
   "outputs": [
    {
     "name": "stdout",
     "output_type": "stream",
     "text": [
      "-------------------> lightgbm\n",
      "Accuracy: 0.68\n",
      "F1-Score for each class:\n",
      "Positive: 0.62\n",
      "Negative: 0.72\n",
      "\n",
      "Classification Report:\n",
      "              precision    recall  f1-score   support\n",
      "\n",
      "    Positive       0.76      0.53      0.62      2411\n",
      "    Negative       0.63      0.83      0.72      2326\n",
      "\n",
      "    accuracy                           0.68      4737\n",
      "   macro avg       0.70      0.68      0.67      4737\n",
      "weighted avg       0.70      0.68      0.67      4737\n",
      "\n"
     ]
    },
    {
     "data": {
      "image/png": "[encoded data removed]",
      "text/plain": [
       "<Figure size 800x600 with 2 Axes>"
      ]
     },
     "metadata": {},
     "output_type": "display_data"
    }
   ],
   "source": [
    "y_hat = model.predict(X_test_tfidf)\n",
    "y_hat = (y_hat > 0.5).astype(int)\n",
    "about_model(\"lightgbm\", y_test, y_hat)\n"
   ]
  },
  {
   "cell_type": "markdown",
   "id": "a65561e3",
   "metadata": {
    "papermill": {
     "duration": 0.016073,
     "end_time": "2024-12-18T22:01:45.027428",
     "exception": false,
     "start_time": "2024-12-18T22:01:45.011355",
     "status": "completed"
    },
    "tags": []
   },
   "source": [
    "### Tuned lightgbm"
   ]
  },
  {
   "cell_type": "code",
   "execution_count": 50,
   "id": "5e5e9967",
   "metadata": {
    "execution": {
     "iopub.execute_input": "2024-12-18T22:01:45.062070Z",
     "iopub.status.busy": "2024-12-18T22:01:45.061635Z",
     "iopub.status.idle": "2024-12-18T22:01:45.066841Z",
     "shell.execute_reply": "2024-12-18T22:01:45.065793Z"
    },
    "papermill": {
     "duration": 0.025436,
     "end_time": "2024-12-18T22:01:45.069130",
     "exception": false,
     "start_time": "2024-12-18T22:01:45.043694",
     "status": "completed"
    },
    "tags": []
   },
   "outputs": [],
   "source": [
    "# it  takes to  much time over then 12h\n",
    "#from lightgbm import LGBMClassifier\n",
    "\n",
    "#param_grid_ = {\n",
    " #   'num_leaves': [15, 31, 63],  \n",
    " #   'learning_rate': [0.01, 0.1, 0.2],\n",
    " #   'n_estimators': [50, 100, 200],  \n",
    "#    'boosting_type': ['gbdt'], \n",
    "#    'objective': ['binary'],  \n",
    "#    'metric': ['binary_logloss'],\n",
    "#}\n",
    "\n",
    "#lightgbm_grid = GridSearchCV(\n",
    "#    estimator= LGBMClassifier(),\n",
    " #   param_grid=param_grid_,\n",
    "#    cv=5, \n",
    "#    scoring='accuracy',\n",
    "#    verbose=0,\n",
    "#    n_jobs=-1  \n",
    "#)\n",
    "#lightgbm_grid.fit(X_train_tfidf, y_train)\n",
    "\n",
    "#lightgbm_grid.best_params_"
   ]
  },
  {
   "cell_type": "code",
   "execution_count": 51,
   "id": "d7f6fe73",
   "metadata": {
    "execution": {
     "iopub.execute_input": "2024-12-18T22:01:45.105539Z",
     "iopub.status.busy": "2024-12-18T22:01:45.105089Z",
     "iopub.status.idle": "2024-12-18T22:01:45.110169Z",
     "shell.execute_reply": "2024-12-18T22:01:45.108878Z"
    },
    "papermill": {
     "duration": 0.026021,
     "end_time": "2024-12-18T22:01:45.112551",
     "exception": false,
     "start_time": "2024-12-18T22:01:45.086530",
     "status": "completed"
    },
    "tags": []
   },
   "outputs": [],
   "source": [
    "#y_hat = lightgbm_grid.best_estimator_.predict(X_test_tfidf)\n",
    "#about_model(\"lightgbm\", y_test , y_hat)"
   ]
  },
  {
   "cell_type": "code",
   "execution_count": null,
   "id": "5d3e030f",
   "metadata": {
    "papermill": {
     "duration": 0.016915,
     "end_time": "2024-12-18T22:01:45.148094",
     "exception": false,
     "start_time": "2024-12-18T22:01:45.131179",
     "status": "completed"
    },
    "tags": []
   },
   "outputs": [],
   "source": []
  },
  {
   "cell_type": "code",
   "execution_count": null,
   "id": "469dffd2",
   "metadata": {
    "papermill": {
     "duration": 0.017493,
     "end_time": "2024-12-18T22:01:45.182873",
     "exception": false,
     "start_time": "2024-12-18T22:01:45.165380",
     "status": "completed"
    },
    "tags": []
   },
   "outputs": [],
   "source": []
  },
  {
   "cell_type": "code",
   "execution_count": null,
   "id": "6254d8ab",
   "metadata": {
    "papermill": {
     "duration": 0.016991,
     "end_time": "2024-12-18T22:01:45.216831",
     "exception": false,
     "start_time": "2024-12-18T22:01:45.199840",
     "status": "completed"
    },
    "tags": []
   },
   "outputs": [],
   "source": []
  },
  {
   "cell_type": "code",
   "execution_count": null,
   "id": "c5f3b0b2",
   "metadata": {
    "papermill": {
     "duration": 0.01704,
     "end_time": "2024-12-18T22:01:45.251135",
     "exception": false,
     "start_time": "2024-12-18T22:01:45.234095",
     "status": "completed"
    },
    "tags": []
   },
   "outputs": [],
   "source": []
  }
 ],
 "metadata": {
  "kaggle": {
   "accelerator": "none",
   "dataSources": [
    {
     "datasetId": 6047175,
     "sourceId": 10210479,
     "sourceType": "datasetVersion"
    },
    {
     "datasetId": 6094692,
     "sourceId": 10210609,
     "sourceType": "datasetVersion"
    }
   ],
   "dockerImageVersionId": 30804,
   "isGpuEnabled": false,
   "isInternetEnabled": true,
   "language": "python",
   "sourceType": "notebook"
  },
  "kernelspec": {
   "display_name": "Python 3",
   "language": "python",
   "name": "python3"
  },
  "language_info": {
   "codemirror_mode": {
    "name": "ipython",
    "version": 3
   },
   "file_extension": ".py",
   "mimetype": "text/x-python",
   "name": "python",
   "nbconvert_exporter": "python",
   "pygments_lexer": "ipython3",
   "version": "3.10.14"
  },
  "papermill": {
   "default_parameters": {},
   "duration": 29076.186945,
   "end_time": "2024-12-18T22:01:47.891334",
   "environment_variables": {},
   "exception": null,
   "input_path": "__notebook__.ipynb",
   "output_path": "__notebook__.ipynb",
   "parameters": {},
   "start_time": "2024-12-18T13:57:11.704389",
   "version": "2.6.0"
  }
 },
 "nbformat": 4,
 "nbformat_minor": 5
}
