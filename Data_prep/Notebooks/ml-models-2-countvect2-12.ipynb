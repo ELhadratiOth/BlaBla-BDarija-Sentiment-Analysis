{
 "cells": [
  {
   "cell_type": "markdown",
   "id": "82b34cc9",
   "metadata": {
    "papermill": {
     "duration": 0.01213,
     "end_time": "2024-12-18T21:54:18.336049",
     "exception": false,
     "start_time": "2024-12-18T21:54:18.323919",
     "status": "completed"
    },
    "tags": []
   },
   "source": [
    "# Darija Text Classification using ML Algorithms\n"
   ]
  },
  {
   "cell_type": "markdown",
   "id": "4cfc758f",
   "metadata": {
    "papermill": {
     "duration": 0.010444,
     "end_time": "2024-12-18T21:54:18.358350",
     "exception": false,
     "start_time": "2024-12-18T21:54:18.347906",
     "status": "completed"
    },
    "tags": []
   },
   "source": [
    "## Setup and Data Loading\n",
    "In this section, we:\n",
    "- Import required libraries\n",
    "- Load and prepare our Darija dataset\n",
    "- Set up configuration parameters"
   ]
  },
  {
   "cell_type": "code",
   "execution_count": 1,
   "id": "92703556",
   "metadata": {
    "execution": {
     "iopub.execute_input": "2024-12-18T21:54:18.381200Z",
     "iopub.status.busy": "2024-12-18T21:54:18.380806Z",
     "iopub.status.idle": "2024-12-18T21:54:18.402366Z",
     "shell.execute_reply": "2024-12-18T21:54:18.401137Z"
    },
    "papermill": {
     "duration": 0.035553,
     "end_time": "2024-12-18T21:54:18.404570",
     "exception": false,
     "start_time": "2024-12-18T21:54:18.369017",
     "status": "completed"
    },
    "tags": []
   },
   "outputs": [
    {
     "name": "stdout",
     "output_type": "stream",
     "text": [
      "Current working directory: /kaggle/input/ma-datasets\n",
      "Directory contents: ['suf_pref_darija.json', 'stop_words_accum.json', 'set2.csv', 'set7.csv', 'set5.csv', 'darija_latin_ref.json', 'set4.csv', 'scaped_comments.csv', 'set3.csv', 'cleaned_clustered_data.csv', 'set1.csv']\n"
     ]
    }
   ],
   "source": [
    "import os \n",
    "os.chdir('/kaggle/input/ma-datasets') \n",
    "current_directory = os.getcwd()\n",
    "print(\"Current working directory:\", current_directory)\n",
    "contents = os.listdir()\n",
    "print(\"Directory contents:\", contents)"
   ]
  },
  {
   "cell_type": "code",
   "execution_count": 2,
   "id": "68cfed4d",
   "metadata": {
    "execution": {
     "iopub.execute_input": "2024-12-18T21:54:18.427569Z",
     "iopub.status.busy": "2024-12-18T21:54:18.427166Z",
     "iopub.status.idle": "2024-12-18T21:54:33.098577Z",
     "shell.execute_reply": "2024-12-18T21:54:33.097309Z"
    },
    "papermill": {
     "duration": 14.685731,
     "end_time": "2024-12-18T21:54:33.101116",
     "exception": false,
     "start_time": "2024-12-18T21:54:18.415385",
     "status": "completed"
    },
    "tags": []
   },
   "outputs": [
    {
     "name": "stdout",
     "output_type": "stream",
     "text": [
      "Requirement already satisfied: pandas in /opt/conda/lib/python3.10/site-packages (2.2.3)\r\n",
      "Requirement already satisfied: PyArabic in /opt/conda/lib/python3.10/site-packages (0.6.15)\r\n",
      "Collecting Tashaphyne\r\n",
      "  Downloading Tashaphyne-0.3.6-py3-none-any.whl.metadata (18 kB)\r\n",
      "Collecting pydoda\r\n",
      "  Downloading pydoda-1.2.1-py3-none-any.whl.metadata (5.8 kB)\r\n",
      "Collecting Arabic-Stopwords\r\n",
      "  Downloading Arabic_Stopwords-0.4.3-py3-none-any.whl.metadata (8.9 kB)\r\n",
      "Requirement already satisfied: seaborn in /opt/conda/lib/python3.10/site-packages (0.12.2)\r\n",
      "Requirement already satisfied: scikit-learn in /opt/conda/lib/python3.10/site-packages (1.2.2)\r\n",
      "Requirement already satisfied: emoji in /opt/conda/lib/python3.10/site-packages (2.14.0)\r\n",
      "Requirement already satisfied: xgboost in /opt/conda/lib/python3.10/site-packages (2.0.3)\r\n",
      "Requirement already satisfied: lightgbm in /opt/conda/lib/python3.10/site-packages (4.2.0)\r\n",
      "Requirement already satisfied: numpy>=1.22.4 in /opt/conda/lib/python3.10/site-packages (from pandas) (1.26.4)\r\n",
      "Requirement already satisfied: python-dateutil>=2.8.2 in /opt/conda/lib/python3.10/site-packages (from pandas) (2.9.0.post0)\r\n",
      "Requirement already satisfied: pytz>=2020.1 in /opt/conda/lib/python3.10/site-packages (from pandas) (2024.1)\r\n",
      "Requirement already satisfied: tzdata>=2022.7 in /opt/conda/lib/python3.10/site-packages (from pandas) (2024.1)\r\n",
      "Requirement already satisfied: six>=1.14.0 in /opt/conda/lib/python3.10/site-packages (from PyArabic) (1.16.0)\r\n",
      "Requirement already satisfied: matplotlib!=3.6.1,>=3.1 in /opt/conda/lib/python3.10/site-packages (from seaborn) (3.7.5)\r\n",
      "Requirement already satisfied: scipy>=1.3.2 in /opt/conda/lib/python3.10/site-packages (from scikit-learn) (1.14.1)\r\n",
      "Requirement already satisfied: joblib>=1.1.1 in /opt/conda/lib/python3.10/site-packages (from scikit-learn) (1.4.2)\r\n",
      "Requirement already satisfied: threadpoolctl>=2.0.0 in /opt/conda/lib/python3.10/site-packages (from scikit-learn) (3.5.0)\r\n",
      "Requirement already satisfied: contourpy>=1.0.1 in /opt/conda/lib/python3.10/site-packages (from matplotlib!=3.6.1,>=3.1->seaborn) (1.2.1)\r\n",
      "Requirement already satisfied: cycler>=0.10 in /opt/conda/lib/python3.10/site-packages (from matplotlib!=3.6.1,>=3.1->seaborn) (0.12.1)\r\n",
      "Requirement already satisfied: fonttools>=4.22.0 in /opt/conda/lib/python3.10/site-packages (from matplotlib!=3.6.1,>=3.1->seaborn) (4.53.0)\r\n",
      "Requirement already satisfied: kiwisolver>=1.0.1 in /opt/conda/lib/python3.10/site-packages (from matplotlib!=3.6.1,>=3.1->seaborn) (1.4.5)\r\n",
      "Requirement already satisfied: packaging>=20.0 in /opt/conda/lib/python3.10/site-packages (from matplotlib!=3.6.1,>=3.1->seaborn) (21.3)\r\n",
      "Requirement already satisfied: pillow>=6.2.0 in /opt/conda/lib/python3.10/site-packages (from matplotlib!=3.6.1,>=3.1->seaborn) (10.3.0)\r\n",
      "Requirement already satisfied: pyparsing>=2.3.1 in /opt/conda/lib/python3.10/site-packages (from matplotlib!=3.6.1,>=3.1->seaborn) (3.1.2)\r\n",
      "Downloading Tashaphyne-0.3.6-py3-none-any.whl (251 kB)\r\n",
      "\u001b[2K   \u001b[90m━━━━━━━━━━━━━━━━━━━━━━━━━━━━━━━━━━━━━━━━\u001b[0m \u001b[32m251.5/251.5 kB\u001b[0m \u001b[31m4.8 MB/s\u001b[0m eta \u001b[36m0:00:00\u001b[0m\r\n",
      "\u001b[?25hDownloading pydoda-1.2.1-py3-none-any.whl (4.1 MB)\r\n",
      "\u001b[2K   \u001b[90m━━━━━━━━━━━━━━━━━━━━━━━━━━━━━━━━━━━━━━━━\u001b[0m \u001b[32m4.1/4.1 MB\u001b[0m \u001b[31m46.0 MB/s\u001b[0m eta \u001b[36m0:00:00\u001b[0m\r\n",
      "\u001b[?25hDownloading Arabic_Stopwords-0.4.3-py3-none-any.whl (360 kB)\r\n",
      "\u001b[2K   \u001b[90m━━━━━━━━━━━━━━━━━━━━━━━━━━━━━━━━━━━━━━━━\u001b[0m \u001b[32m360.5/360.5 kB\u001b[0m \u001b[31m17.7 MB/s\u001b[0m eta \u001b[36m0:00:00\u001b[0m\r\n",
      "\u001b[?25hInstalling collected packages: Tashaphyne, Arabic-Stopwords, pydoda\r\n",
      "Successfully installed Arabic-Stopwords-0.4.3 Tashaphyne-0.3.6 pydoda-1.2.1\r\n"
     ]
    }
   ],
   "source": [
    "!pip install pandas PyArabic Tashaphyne pydoda Arabic-Stopwords seaborn scikit-learn emoji xgboost lightgbm "
   ]
  },
  {
   "cell_type": "code",
   "execution_count": 3,
   "id": "e228bb32",
   "metadata": {
    "execution": {
     "iopub.execute_input": "2024-12-18T21:54:33.127323Z",
     "iopub.status.busy": "2024-12-18T21:54:33.126887Z",
     "iopub.status.idle": "2024-12-18T21:54:35.585022Z",
     "shell.execute_reply": "2024-12-18T21:54:35.584005Z"
    },
    "papermill": {
     "duration": 2.474044,
     "end_time": "2024-12-18T21:54:35.587544",
     "exception": false,
     "start_time": "2024-12-18T21:54:33.113500",
     "status": "completed"
    },
    "tags": []
   },
   "outputs": [],
   "source": [
    "import pandas as pd\n",
    "from sklearn.model_selection import GridSearchCV\n",
    "import re\n",
    "from tashaphyne.stemming import ArabicLightStemmer\n",
    "import json\n",
    "import emoji \n"
   ]
  },
  {
   "cell_type": "code",
   "execution_count": 4,
   "id": "3e894d3a",
   "metadata": {
    "execution": {
     "iopub.execute_input": "2024-12-18T21:54:35.614291Z",
     "iopub.status.busy": "2024-12-18T21:54:35.613737Z",
     "iopub.status.idle": "2024-12-18T21:54:35.930251Z",
     "shell.execute_reply": "2024-12-18T21:54:35.929270Z"
    },
    "papermill": {
     "duration": 0.333523,
     "end_time": "2024-12-18T21:54:35.932913",
     "exception": false,
     "start_time": "2024-12-18T21:54:35.599390",
     "status": "completed"
    },
    "tags": []
   },
   "outputs": [],
   "source": [
    "df = pd.read_csv(\"/kaggle/input/dataset/dataset (18).csv\")"
   ]
  },
  {
   "cell_type": "code",
   "execution_count": 5,
   "id": "ed84c6e9",
   "metadata": {
    "execution": {
     "iopub.execute_input": "2024-12-18T21:54:35.958738Z",
     "iopub.status.busy": "2024-12-18T21:54:35.957624Z",
     "iopub.status.idle": "2024-12-18T21:54:35.987086Z",
     "shell.execute_reply": "2024-12-18T21:54:35.986080Z"
    },
    "papermill": {
     "duration": 0.044768,
     "end_time": "2024-12-18T21:54:35.989534",
     "exception": false,
     "start_time": "2024-12-18T21:54:35.944766",
     "status": "completed"
    },
    "tags": []
   },
   "outputs": [
    {
     "name": "stderr",
     "output_type": "stream",
     "text": [
      "/tmp/ipykernel_17/1870643984.py:1: DeprecationWarning: DataFrameGroupBy.apply operated on the grouping columns. This behavior is deprecated, and in a future version of pandas the grouping columns will be excluded from the operation. Either pass `include_groups=False` to exclude the groupings or explicitly select the grouping columns after groupby to silence this warning.\n",
      "  df = df.groupby('target', group_keys=False).apply(\n"
     ]
    }
   ],
   "source": [
    "df = df.groupby('target', group_keys=False).apply(\n",
    "    lambda x: x.sample(frac=0.7)\n",
    ")"
   ]
  },
  {
   "cell_type": "code",
   "execution_count": 6,
   "id": "29b0f1f4",
   "metadata": {
    "execution": {
     "iopub.execute_input": "2024-12-18T21:54:36.014739Z",
     "iopub.status.busy": "2024-12-18T21:54:36.014324Z",
     "iopub.status.idle": "2024-12-18T21:54:36.038909Z",
     "shell.execute_reply": "2024-12-18T21:54:36.037805Z"
    },
    "papermill": {
     "duration": 0.039646,
     "end_time": "2024-12-18T21:54:36.041096",
     "exception": false,
     "start_time": "2024-12-18T21:54:36.001450",
     "status": "completed"
    },
    "tags": []
   },
   "outputs": [
    {
     "name": "stdout",
     "output_type": "stream",
     "text": [
      "<class 'pandas.core.frame.DataFrame'>\n",
      "Index: 24500 entries, 8960 to 4307\n",
      "Data columns (total 3 columns):\n",
      " #   Column        Non-Null Count  Dtype \n",
      "---  ------        --------------  ----- \n",
      " 0   text          24500 non-null  object\n",
      " 1   target        24500 non-null  int64 \n",
      " 2   text_cleaned  23671 non-null  object\n",
      "dtypes: int64(1), object(2)\n",
      "memory usage: 765.6+ KB\n"
     ]
    }
   ],
   "source": [
    "df.info()"
   ]
  },
  {
   "cell_type": "markdown",
   "id": "a12530a4",
   "metadata": {
    "papermill": {
     "duration": 0.011893,
     "end_time": "2024-12-18T21:54:36.064802",
     "exception": false,
     "start_time": "2024-12-18T21:54:36.052909",
     "status": "completed"
    },
    "tags": []
   },
   "source": [
    "## Data Preprocessing\n",
    "Key preprocessing steps for Darija text:\n",
    "- Text cleaning and normalization\n",
    "- Feature extraction\n",
    "- Train-test split\n"
   ]
  },
  {
   "cell_type": "code",
   "execution_count": 7,
   "id": "08e37e3c",
   "metadata": {
    "execution": {
     "iopub.execute_input": "2024-12-18T21:54:36.090424Z",
     "iopub.status.busy": "2024-12-18T21:54:36.090021Z",
     "iopub.status.idle": "2024-12-18T21:54:36.100060Z",
     "shell.execute_reply": "2024-12-18T21:54:36.099139Z"
    },
    "papermill": {
     "duration": 0.025346,
     "end_time": "2024-12-18T21:54:36.101951",
     "exception": false,
     "start_time": "2024-12-18T21:54:36.076605",
     "status": "completed"
    },
    "tags": []
   },
   "outputs": [],
   "source": [
    "darija_alphabet = {\n",
    "    \"gh\": \"غ\",\n",
    "    \"sh\": \"ش\",\n",
    "    \"ch\": \"ش\",\n",
    "    \"ss\": \"س\",\n",
    "    \"kh\": \"خ\",\n",
    "    \"ç\": \"س\",\n",
    "    \"ou\": \"و\",    \n",
    "    \"ei\": \"ي\",    \n",
    "    \"ay\": \"ي\",    \n",
    "    \"ae\": \"ي\",   \n",
    "    \"5\": \"خ\",     \n",
    "    \"2\": \"ا\",    \n",
    "    \"b\": \"ب\",\n",
    "    \"t\": \"ت\",\n",
    "    \"j\": \"ج\",\n",
    "    \"7\": \"ح\",\n",
    "    \"d\": \"د\",\n",
    "    \"r\": \"ر\",\n",
    "    \"z\": \"ز\",\n",
    "    \"s\": \"س\",\n",
    "    \"9\": \"ق\",\n",
    "    \"3\": \"ع\",\n",
    "    \"4\": \"غ\",\n",
    "    \"f\": \"ف\",\n",
    "    \"q\": \"ك\",\n",
    "    \"k\": \"ك\",\n",
    "    \"l\": \"ل\",\n",
    "    \"m\": \"م\",\n",
    "    \"n\": \"ن\",\n",
    "    \"h\": \"ه\",\n",
    "    \"w\": \"و\",\n",
    "    \"y\": \"ي\",\n",
    "    \"g\": \"ڭ\",\n",
    "    'i': 'ي',\n",
    "    'ee': 'ي',\n",
    "    'aa': 'ا',\n",
    "    'oo': 'و',\n",
    "    'o': 'و',\n",
    "    \"x\": \"ش\",\n",
    "}\n",
    "word_in = [\n",
    "    \"ء\", \"أ\", \"إ\", \"آ\", \"ؤ\", \"ئ\", \"ة\", \"ى\",\"-\", \"/\", \".\", \"،\", '\"', \"'\", \"\\\\\", \"?\", \"؟\", \"!\", \"،\", \"؛\",\":\",\"#\", \"@\", \"&\", \"=\", \"¥\", \"$\", \"%\", \"*\", \"+\", \"<\", \">\", \"|\", \"~\", \"^\", \n",
    "    \"\\n\", \"\\t\", \"\\r\", \" و\",\"ذ\", \"ظ\", \"ض\", \"ص\",\"(\", \")\", \"[\", \"]\", \"{\", \"}\", \"《\", \"》\", \"«\", \"»\"\n",
    "]\n",
    "\n",
    "replaced_by = [\n",
    "    \"ا\", \"ا\", \"ا\", \"ا\", \"ا\", \"ا\", \"ه\", \"ي\",\" \", \"\", \"\", \"\", \"\", \"\", \"\", \" ? \", \" ؟ \", \" ! \", \"\", \"\", \"\",\n",
    "    \"\", \"\", \"\", \"\", \"\", \"\", \"\", \"\", \"\", \"\", \"\", \"\", \"\", \"\",\" \", \" \", \" \", \"\",\n",
    "    \"د\", \"د\", \"د\", \"س\",\"\", \"\", \"\", \"\", \"\", \"\", \"\", \"\", \"\", \"\"\n",
    "]\n",
    "\n",
    "arabic_alphabet = \"ابتثجحخدذرزسشصضطظعغفقكلمنهوي\""
   ]
  },
  {
   "cell_type": "code",
   "execution_count": 8,
   "id": "0999411a",
   "metadata": {
    "execution": {
     "iopub.execute_input": "2024-12-18T21:54:36.127162Z",
     "iopub.status.busy": "2024-12-18T21:54:36.126756Z",
     "iopub.status.idle": "2024-12-18T21:54:36.131563Z",
     "shell.execute_reply": "2024-12-18T21:54:36.130629Z"
    },
    "papermill": {
     "duration": 0.020273,
     "end_time": "2024-12-18T21:54:36.133926",
     "exception": false,
     "start_time": "2024-12-18T21:54:36.113653",
     "status": "completed"
    },
    "tags": []
   },
   "outputs": [],
   "source": [
    "from pyarabic.araby import strip_diacritics\n",
    "#remove tashkeel\n",
    "def removing_tashkeel(word): # useed\n",
    "          return strip_diacritics(word)"
   ]
  },
  {
   "cell_type": "code",
   "execution_count": 9,
   "id": "61a6b2ee",
   "metadata": {
    "execution": {
     "iopub.execute_input": "2024-12-18T21:54:36.159235Z",
     "iopub.status.busy": "2024-12-18T21:54:36.158833Z",
     "iopub.status.idle": "2024-12-18T21:54:36.164032Z",
     "shell.execute_reply": "2024-12-18T21:54:36.162929Z"
    },
    "papermill": {
     "duration": 0.020166,
     "end_time": "2024-12-18T21:54:36.165980",
     "exception": false,
     "start_time": "2024-12-18T21:54:36.145814",
     "status": "completed"
    },
    "tags": []
   },
   "outputs": [],
   "source": [
    "from pyarabic.araby import strip_tatweel\n",
    "\n",
    "#remove tatweel l2imdad\n",
    "def removing_tatweel(word): # useed\n",
    "          return strip_tatweel(word)"
   ]
  },
  {
   "cell_type": "code",
   "execution_count": 10,
   "id": "7276f714",
   "metadata": {
    "execution": {
     "iopub.execute_input": "2024-12-18T21:54:36.191095Z",
     "iopub.status.busy": "2024-12-18T21:54:36.190708Z",
     "iopub.status.idle": "2024-12-18T21:54:36.195783Z",
     "shell.execute_reply": "2024-12-18T21:54:36.194728Z"
    },
    "papermill": {
     "duration": 0.020105,
     "end_time": "2024-12-18T21:54:36.197809",
     "exception": false,
     "start_time": "2024-12-18T21:54:36.177704",
     "status": "completed"
    },
    "tags": []
   },
   "outputs": [],
   "source": [
    "from pyarabic.araby import normalize_ligature\n",
    "\n",
    "#remove ligature hamza , alef \n",
    "def removing_ligature(word): # not used \n",
    "          return normalize_ligature(word)"
   ]
  },
  {
   "cell_type": "code",
   "execution_count": 11,
   "id": "509de896",
   "metadata": {
    "execution": {
     "iopub.execute_input": "2024-12-18T21:54:36.223062Z",
     "iopub.status.busy": "2024-12-18T21:54:36.222680Z",
     "iopub.status.idle": "2024-12-18T21:54:36.227764Z",
     "shell.execute_reply": "2024-12-18T21:54:36.226675Z"
    },
    "papermill": {
     "duration": 0.020042,
     "end_time": "2024-12-18T21:54:36.229743",
     "exception": false,
     "start_time": "2024-12-18T21:54:36.209701",
     "status": "completed"
    },
    "tags": []
   },
   "outputs": [],
   "source": [
    "# remove underscore\n",
    "def replace_underscore(word): # useed\n",
    "          return word.replace(\"_\", \" \")"
   ]
  },
  {
   "cell_type": "code",
   "execution_count": 12,
   "id": "038e80c9",
   "metadata": {
    "execution": {
     "iopub.execute_input": "2024-12-18T21:54:36.255506Z",
     "iopub.status.busy": "2024-12-18T21:54:36.255117Z",
     "iopub.status.idle": "2024-12-18T21:54:36.259904Z",
     "shell.execute_reply": "2024-12-18T21:54:36.258932Z"
    },
    "papermill": {
     "duration": 0.019582,
     "end_time": "2024-12-18T21:54:36.261807",
     "exception": false,
     "start_time": "2024-12-18T21:54:36.242225",
     "status": "completed"
    },
    "tags": []
   },
   "outputs": [],
   "source": [
    "import pyarabic.araby as araby\n",
    "\n",
    "# remove hamza ambiguity\n",
    "def remove_ambiguity_hamza(word): # useed\n",
    "          return araby.normalize_hamza(word)"
   ]
  },
  {
   "cell_type": "code",
   "execution_count": 13,
   "id": "7cf8fad8",
   "metadata": {
    "execution": {
     "iopub.execute_input": "2024-12-18T21:54:36.287201Z",
     "iopub.status.busy": "2024-12-18T21:54:36.286858Z",
     "iopub.status.idle": "2024-12-18T21:54:36.291553Z",
     "shell.execute_reply": "2024-12-18T21:54:36.290659Z"
    },
    "papermill": {
     "duration": 0.019404,
     "end_time": "2024-12-18T21:54:36.293371",
     "exception": false,
     "start_time": "2024-12-18T21:54:36.273967",
     "status": "completed"
    },
    "tags": []
   },
   "outputs": [],
   "source": [
    "# romove \"AL\"\n",
    "def remove_AL(word): # useed\n",
    "          return re.sub(r'^ال', '', word)"
   ]
  },
  {
   "cell_type": "code",
   "execution_count": 14,
   "id": "a2446c03",
   "metadata": {
    "execution": {
     "iopub.execute_input": "2024-12-18T21:54:36.318830Z",
     "iopub.status.busy": "2024-12-18T21:54:36.318480Z",
     "iopub.status.idle": "2024-12-18T21:54:36.325523Z",
     "shell.execute_reply": "2024-12-18T21:54:36.324459Z"
    },
    "papermill": {
     "duration": 0.022323,
     "end_time": "2024-12-18T21:54:36.327550",
     "exception": false,
     "start_time": "2024-12-18T21:54:36.305227",
     "status": "completed"
    },
    "tags": []
   },
   "outputs": [],
   "source": [
    "# remove repeated characters      \n",
    "def word_remover(word): # useed\n",
    "            if len(word) == 1 or len(word) == 0 or len(word) >= 13:\n",
    "                return \"\"                \n",
    "            else :\n",
    "                # print(word)\n",
    "                for a7rf in arabic_alphabet:\n",
    "                    if a7rf == 'د' or a7rf == 'ه':\n",
    "                        word = re.sub(fr'{a7rf}{{3,}}', a7rf * 2, word).strip()\n",
    "                    else:\n",
    "                        word = re.sub(fr'{a7rf}+', a7rf, word).strip()\n",
    "                # print(word) \n",
    "                for i in range(len(word)):\n",
    "                    if word[i] in word_in:\n",
    "                        index = word_in.index(word[i])\n",
    "                        word = word[:i] + replaced_by[index] + word[i + 1:]\n",
    "\n",
    "                return word\n"
   ]
  },
  {
   "cell_type": "code",
   "execution_count": 15,
   "id": "9528e807",
   "metadata": {
    "execution": {
     "iopub.execute_input": "2024-12-18T21:54:36.352565Z",
     "iopub.status.busy": "2024-12-18T21:54:36.352144Z",
     "iopub.status.idle": "2024-12-18T21:54:36.357562Z",
     "shell.execute_reply": "2024-12-18T21:54:36.356624Z"
    },
    "papermill": {
     "duration": 0.02033,
     "end_time": "2024-12-18T21:54:36.359682",
     "exception": false,
     "start_time": "2024-12-18T21:54:36.339352",
     "status": "completed"
    },
    "tags": []
   },
   "outputs": [],
   "source": [
    "# remove emails  \n",
    "def remove_url(text): # useed\n",
    "    text = re.sub(r'(https|http)?:\\/\\/(\\w|\\.|\\/|\\?|\\=|\\&|\\%)*\\b',\n",
    "                  '', text, flags=re.MULTILINE)\n",
    "    return text      \n",
    " "
   ]
  },
  {
   "cell_type": "code",
   "execution_count": 16,
   "id": "0d2fe397",
   "metadata": {
    "execution": {
     "iopub.execute_input": "2024-12-18T21:54:36.384812Z",
     "iopub.status.busy": "2024-12-18T21:54:36.384413Z",
     "iopub.status.idle": "2024-12-18T21:54:36.389423Z",
     "shell.execute_reply": "2024-12-18T21:54:36.388460Z"
    },
    "papermill": {
     "duration": 0.01975,
     "end_time": "2024-12-18T21:54:36.391262",
     "exception": false,
     "start_time": "2024-12-18T21:54:36.371512",
     "status": "completed"
    },
    "tags": []
   },
   "outputs": [],
   "source": [
    " # remove emails     \n",
    "def remove_emails(text): # useed\n",
    "    text = re.sub(r'[a-zA-Z0-9._%+-]+@[a-zA-Z0-9.-]+\\.[a-zA-Z]{2,}', '', text, flags=re.MULTILINE)\n",
    "    return text  "
   ]
  },
  {
   "cell_type": "code",
   "execution_count": 17,
   "id": "fb69f0fd",
   "metadata": {
    "execution": {
     "iopub.execute_input": "2024-12-18T21:54:36.416073Z",
     "iopub.status.busy": "2024-12-18T21:54:36.415694Z",
     "iopub.status.idle": "2024-12-18T21:54:36.421030Z",
     "shell.execute_reply": "2024-12-18T21:54:36.420154Z"
    },
    "papermill": {
     "duration": 0.020042,
     "end_time": "2024-12-18T21:54:36.422836",
     "exception": false,
     "start_time": "2024-12-18T21:54:36.402794",
     "status": "completed"
    },
    "tags": []
   },
   "outputs": [],
   "source": [
    "def special_tags_and_ponctuations(text):  # Function to clean special tags\n",
    "    text = re.sub(r'&amp;', '', text) \n",
    "    text = re.sub(r'&quot;', '', text)  \n",
    "    text = re.sub(r'!+', '!', text)\n",
    "    text = re.sub(r'\\?+', '?', text)\n",
    "    text = re.sub(r'\\.+', '.', text)\n",
    "\n",
    "    return text"
   ]
  },
  {
   "cell_type": "code",
   "execution_count": 18,
   "id": "be0b92a1",
   "metadata": {
    "execution": {
     "iopub.execute_input": "2024-12-18T21:54:36.448056Z",
     "iopub.status.busy": "2024-12-18T21:54:36.447289Z",
     "iopub.status.idle": "2024-12-18T21:54:36.451909Z",
     "shell.execute_reply": "2024-12-18T21:54:36.450923Z"
    },
    "papermill": {
     "duration": 0.019469,
     "end_time": "2024-12-18T21:54:36.453994",
     "exception": false,
     "start_time": "2024-12-18T21:54:36.434525",
     "status": "completed"
    },
    "tags": []
   },
   "outputs": [],
   "source": [
    "def remove_html_tags(text):\n",
    "    text = re.sub(r'<[^>]+>', '', text)\n",
    "    return text"
   ]
  },
  {
   "cell_type": "code",
   "execution_count": 19,
   "id": "df7896eb",
   "metadata": {
    "execution": {
     "iopub.execute_input": "2024-12-18T21:54:36.479449Z",
     "iopub.status.busy": "2024-12-18T21:54:36.478804Z",
     "iopub.status.idle": "2024-12-18T21:54:36.484006Z",
     "shell.execute_reply": "2024-12-18T21:54:36.482999Z"
    },
    "papermill": {
     "duration": 0.020281,
     "end_time": "2024-12-18T21:54:36.486151",
     "exception": false,
     "start_time": "2024-12-18T21:54:36.465870",
     "status": "completed"
    },
    "tags": []
   },
   "outputs": [],
   "source": [
    "# hundle emojis\n",
    "def extend_spletting(items):  # helper function to split items\n",
    "    spletting = []\n",
    "    for item in items:\n",
    "        spletting.extend(item.split())\n",
    "    return spletting"
   ]
  },
  {
   "cell_type": "code",
   "execution_count": 20,
   "id": "5f05516a",
   "metadata": {
    "execution": {
     "iopub.execute_input": "2024-12-18T21:54:36.512026Z",
     "iopub.status.busy": "2024-12-18T21:54:36.511168Z",
     "iopub.status.idle": "2024-12-18T21:54:36.516391Z",
     "shell.execute_reply": "2024-12-18T21:54:36.515359Z"
    },
    "papermill": {
     "duration": 0.020774,
     "end_time": "2024-12-18T21:54:36.518608",
     "exception": false,
     "start_time": "2024-12-18T21:54:36.497834",
     "status": "completed"
    },
    "tags": []
   },
   "outputs": [],
   "source": [
    "def emoji_hundler(word):  # helper function to handle emojis\n",
    "    word = emoji.demojize(word, language='ar')\n",
    "    word = replace_underscore(word)[1:-1]\n",
    "    return word"
   ]
  },
  {
   "cell_type": "code",
   "execution_count": 21,
   "id": "cd360c79",
   "metadata": {
    "execution": {
     "iopub.execute_input": "2024-12-18T21:54:36.544547Z",
     "iopub.status.busy": "2024-12-18T21:54:36.543825Z",
     "iopub.status.idle": "2024-12-18T21:54:36.550856Z",
     "shell.execute_reply": "2024-12-18T21:54:36.549878Z"
    },
    "papermill": {
     "duration": 0.022004,
     "end_time": "2024-12-18T21:54:36.552928",
     "exception": false,
     "start_time": "2024-12-18T21:54:36.530924",
     "status": "completed"
    },
    "tags": []
   },
   "outputs": [],
   "source": [
    "def is_an_emoji(word):\n",
    "    emoji_pattern = re.compile(\"[\"  \n",
    "                               u\"\\U0001F680-\\U0001F6FF\"  # transport and map unicods\n",
    "                               u\"\\U0001F1E0-\\U0001F1FF\"  # flags unicods\n",
    "                               \"]+\", flags=re.UNICODE)\n",
    "\n",
    "    if emoji.is_emoji(word):\n",
    "        word = emoji_pattern.sub(r'', word)\n",
    "        return extend_spletting([emoji_hundler(word)])\n",
    "\n",
    "    elif emoji.purely_emoji(word):\n",
    "        data_of_emojis = emoji.distinct_emoji_list(word)\n",
    "        data = [emoji_hundler(emoji_pattern.sub(r'', item)) for item in data_of_emojis]\n",
    "        return extend_spletting(data)\n",
    "\n",
    "    else:\n",
    "        text_only = re.sub(r'[^\\w\\s?!]', '', word)\n",
    "        data_of_emojis = emoji.distinct_emoji_list(word)\n",
    "        emojis = [emoji_hundler(emoji_pattern.sub(r'', item)) for item in data_of_emojis]\n",
    "        \n",
    "        return [text_only] + extend_spletting(emojis)\n"
   ]
  },
  {
   "cell_type": "code",
   "execution_count": 22,
   "id": "6126ea41",
   "metadata": {
    "execution": {
     "iopub.execute_input": "2024-12-18T21:54:36.578908Z",
     "iopub.status.busy": "2024-12-18T21:54:36.578121Z",
     "iopub.status.idle": "2024-12-18T21:54:36.584774Z",
     "shell.execute_reply": "2024-12-18T21:54:36.583792Z"
    },
    "papermill": {
     "duration": 0.021823,
     "end_time": "2024-12-18T21:54:36.586641",
     "exception": false,
     "start_time": "2024-12-18T21:54:36.564818",
     "status": "completed"
    },
    "tags": []
   },
   "outputs": [],
   "source": [
    "# tramslating darija(latin) to daruja(arabic)\n",
    "def translate_darija_to_arabic(word): # useed\n",
    "    # print(\"test\")\n",
    "    word = word.lower()\n",
    "    if  bool(re.compile(r\"[a-z0-9']+\").search(word)):\n",
    "        arabic_word = \"\"\n",
    "        i = 0\n",
    "        while i < len(word):\n",
    "            # print('sadd')\n",
    "            if i + 1 < len(word) and word[i:i+2] in darija_alphabet: # Check for 2 lettrs\n",
    "                arabic_word += darija_alphabet[word[i:i+2]]\n",
    "                i += 2\n",
    "            elif word[i] in darija_alphabet:\n",
    "                arabic_word += darija_alphabet[word[i]]\n",
    "                i += 1\n",
    "            else:\n",
    "                i += 1\n",
    "        return arabic_word\n",
    "    return word\n",
    "      "
   ]
  },
  {
   "cell_type": "code",
   "execution_count": 23,
   "id": "b781d505",
   "metadata": {
    "execution": {
     "iopub.execute_input": "2024-12-18T21:54:36.613498Z",
     "iopub.status.busy": "2024-12-18T21:54:36.612627Z",
     "iopub.status.idle": "2024-12-18T21:54:36.617961Z",
     "shell.execute_reply": "2024-12-18T21:54:36.617028Z"
    },
    "papermill": {
     "duration": 0.021359,
     "end_time": "2024-12-18T21:54:36.619852",
     "exception": false,
     "start_time": "2024-12-18T21:54:36.598493",
     "status": "completed"
    },
    "tags": []
   },
   "outputs": [],
   "source": [
    "# remove  number arabic and latin\n",
    "def number_remov(listy): # useed\n",
    "    number_pattern = re.compile(r'^[0-9\\u0660-\\u0669]+$')\n",
    "    cleaned_list = [item for item in listy if not number_pattern.fullmatch(item)] \n",
    "    return cleaned_list   "
   ]
  },
  {
   "cell_type": "code",
   "execution_count": 24,
   "id": "8a67d23c",
   "metadata": {
    "execution": {
     "iopub.execute_input": "2024-12-18T21:54:36.645137Z",
     "iopub.status.busy": "2024-12-18T21:54:36.644327Z",
     "iopub.status.idle": "2024-12-18T21:54:36.650144Z",
     "shell.execute_reply": "2024-12-18T21:54:36.649158Z"
    },
    "papermill": {
     "duration": 0.020713,
     "end_time": "2024-12-18T21:54:36.652240",
     "exception": false,
     "start_time": "2024-12-18T21:54:36.631527",
     "status": "completed"
    },
    "tags": []
   },
   "outputs": [],
   "source": [
    "#stemming arabic words     \n",
    "def stemming_darija(word):\n",
    "    # file = \"./Data_prep/suf_pref_darija.json\" # local run\n",
    "    file = \"suf_pref_darija.json\" \n",
    "\n",
    "    with open(file, 'r', encoding='utf-8') as json_file:\n",
    "        suf_pref = json.load(json_file)\n",
    "\n",
    "    ArListem = ArabicLightStemmer()\n",
    "    ArListem.set_prefix_list(suf_pref['darija_prefixes'])\n",
    "    ArListem.set_suffix_list(suf_pref['darija_suffixes'])\n",
    "    ArListem.light_stem(word)  \n",
    "    return ArListem.get_stem() "
   ]
  },
  {
   "cell_type": "code",
   "execution_count": 25,
   "id": "800af91b",
   "metadata": {
    "execution": {
     "iopub.execute_input": "2024-12-18T21:54:36.678080Z",
     "iopub.status.busy": "2024-12-18T21:54:36.677707Z",
     "iopub.status.idle": "2024-12-18T21:54:36.682781Z",
     "shell.execute_reply": "2024-12-18T21:54:36.681783Z"
    },
    "papermill": {
     "duration": 0.020909,
     "end_time": "2024-12-18T21:54:36.685043",
     "exception": false,
     "start_time": "2024-12-18T21:54:36.664134",
     "status": "completed"
    },
    "tags": []
   },
   "outputs": [],
   "source": [
    "# \"03:44\"\n",
    "def remove_yt_timers(text):\n",
    "    pattern = r'\\b\\d{1,2}:\\d{2,3}(:\\d{2,3})?\\b'\n",
    "    text = re.sub(pattern, '', text)\n",
    "    return text.strip()"
   ]
  },
  {
   "cell_type": "code",
   "execution_count": 26,
   "id": "cd27d29b",
   "metadata": {
    "execution": {
     "iopub.execute_input": "2024-12-18T21:54:36.710299Z",
     "iopub.status.busy": "2024-12-18T21:54:36.709930Z",
     "iopub.status.idle": "2024-12-18T21:54:36.715181Z",
     "shell.execute_reply": "2024-12-18T21:54:36.714141Z"
    },
    "papermill": {
     "duration": 0.020234,
     "end_time": "2024-12-18T21:54:36.717201",
     "exception": false,
     "start_time": "2024-12-18T21:54:36.696967",
     "status": "completed"
    },
    "tags": []
   },
   "outputs": [],
   "source": [
    "\n",
    "def preproc_arab_sentence(word): # main function for  arab processing tokens\n",
    "    word = removing_tashkeel(word)\n",
    "    word = removing_tatweel(word)\n",
    "    word = remove_AL(word)\n",
    "    # word = remove_ambiguity_hamza(word)\n",
    "    word = word_remover(word)\n",
    "    return word\n"
   ]
  },
  {
   "cell_type": "code",
   "execution_count": 27,
   "id": "be88d829",
   "metadata": {
    "execution": {
     "iopub.execute_input": "2024-12-18T21:54:36.743010Z",
     "iopub.status.busy": "2024-12-18T21:54:36.742649Z",
     "iopub.status.idle": "2024-12-18T21:54:36.752017Z",
     "shell.execute_reply": "2024-12-18T21:54:36.750767Z"
    },
    "papermill": {
     "duration": 0.025551,
     "end_time": "2024-12-18T21:54:36.754509",
     "exception": false,
     "start_time": "2024-12-18T21:54:36.728958",
     "status": "completed"
    },
    "tags": []
   },
   "outputs": [],
   "source": [
    "from pyarabic.araby import tokenize\n",
    "def tokenize_arab_text(text):\n",
    "            # with open('./Data_prep/stop_words_accum.json', 'r', encoding='utf-8') as file: #  local run \n",
    "            with open('./stop_words_accum.json', 'r', encoding='utf-8') as file:\n",
    "\n",
    "                stop_words = json.load(file)\n",
    "\n",
    "            # with open('./Data_prep/darija_latin_ref.json', 'r', encoding='utf-8') as file: #  local run \n",
    "            with open('./darija_latin_ref.json', 'r', encoding='utf-8') as file:\n",
    "                \n",
    "                darija_latin_ref = json.load(file)\n",
    "          \n",
    "            #print(text)\n",
    "            text = remove_url(text)\n",
    "            text = remove_emails(text)\n",
    "            text = replace_underscore(text)\n",
    "            text = remove_html_tags(text)\n",
    "            text = remove_yt_timers(text)\n",
    "            text = special_tags_and_ponctuations(text)\n",
    "            #tokenization\n",
    "            print(text)\n",
    "            words = tokenize(text)\n",
    "            print(words)\n",
    "            words = [ translate_darija_to_arabic(word) for word in words if word not in darija_latin_ref]\n",
    "            print(words)\n",
    "            words = [is_an_emoji(word) for word in words] \n",
    "            words = [item for sublist in words for item in sublist if item]\n",
    "            words = list(set(words))\n",
    "            print(words)        \n",
    "            words = [word for word in words if word not in stop_words]\n",
    "            print(words)\n",
    "\n",
    "            words = [preproc_arab_sentence(word) for word in words]\n",
    "\n",
    "            # print(words)        \n",
    "            words = [stemming_darija(word) for word in words if word]\n",
    "            words = number_remov(words)\n",
    "\n",
    "\n",
    "            # print(words)\n",
    "            words = ' '.join(words) \n",
    "            return words"
   ]
  },
  {
   "cell_type": "code",
   "execution_count": 28,
   "id": "86dff73e",
   "metadata": {
    "execution": {
     "iopub.execute_input": "2024-12-18T21:54:36.780473Z",
     "iopub.status.busy": "2024-12-18T21:54:36.780089Z",
     "iopub.status.idle": "2024-12-18T21:54:36.794757Z",
     "shell.execute_reply": "2024-12-18T21:54:36.793705Z"
    },
    "papermill": {
     "duration": 0.029728,
     "end_time": "2024-12-18T21:54:36.796864",
     "exception": false,
     "start_time": "2024-12-18T21:54:36.767136",
     "status": "completed"
    },
    "tags": []
   },
   "outputs": [
    {
     "data": {
      "text/html": [
       "<div>\n",
       "<style scoped>\n",
       "    .dataframe tbody tr th:only-of-type {\n",
       "        vertical-align: middle;\n",
       "    }\n",
       "\n",
       "    .dataframe tbody tr th {\n",
       "        vertical-align: top;\n",
       "    }\n",
       "\n",
       "    .dataframe thead th {\n",
       "        text-align: right;\n",
       "    }\n",
       "</style>\n",
       "<table border=\"1\" class=\"dataframe\">\n",
       "  <thead>\n",
       "    <tr style=\"text-align: right;\">\n",
       "      <th></th>\n",
       "      <th>text</th>\n",
       "      <th>target</th>\n",
       "      <th>text_cleaned</th>\n",
       "    </tr>\n",
       "  </thead>\n",
       "  <tbody>\n",
       "    <tr>\n",
       "      <th>8960</th>\n",
       "      <td>لا مقود نيت</td>\n",
       "      <td>0</td>\n",
       "      <td>لا مقود</td>\n",
       "    </tr>\n",
       "    <tr>\n",
       "      <th>7073</th>\n",
       "      <td>الله يعطيها الحكره ديال الدنيا والاخره المسخوطه</td>\n",
       "      <td>0</td>\n",
       "      <td>والاخره حكره مسخوطه يعطيها</td>\n",
       "    </tr>\n",
       "    <tr>\n",
       "      <th>15912</th>\n",
       "      <td>وا سدووو الشركات ا عباد الله</td>\n",
       "      <td>0</td>\n",
       "      <td>سدو</td>\n",
       "    </tr>\n",
       "    <tr>\n",
       "      <th>19201</th>\n",
       "      <td>وحده ف حي رياض اتسحر لواحد ف امل 2</td>\n",
       "      <td>0</td>\n",
       "      <td>امل اتسحر</td>\n",
       "    </tr>\n",
       "    <tr>\n",
       "      <th>1515</th>\n",
       "      <td>الارجنتين بقات فيا</td>\n",
       "      <td>0</td>\n",
       "      <td>NaN</td>\n",
       "    </tr>\n",
       "  </tbody>\n",
       "</table>\n",
       "</div>"
      ],
      "text/plain": [
       "                                                  text  target  \\\n",
       "8960                                       لا مقود نيت       0   \n",
       "7073   الله يعطيها الحكره ديال الدنيا والاخره المسخوطه       0   \n",
       "15912                     وا سدووو الشركات ا عباد الله       0   \n",
       "19201               وحده ف حي رياض اتسحر لواحد ف امل 2       0   \n",
       "1515                                الارجنتين بقات فيا       0   \n",
       "\n",
       "                     text_cleaned  \n",
       "8960                      لا مقود  \n",
       "7073   والاخره حكره مسخوطه يعطيها  \n",
       "15912                         سدو  \n",
       "19201                   امل اتسحر  \n",
       "1515                          NaN  "
      ]
     },
     "execution_count": 28,
     "metadata": {},
     "output_type": "execute_result"
    }
   ],
   "source": [
    "df.head()"
   ]
  },
  {
   "cell_type": "code",
   "execution_count": 29,
   "id": "334cc56a",
   "metadata": {
    "execution": {
     "iopub.execute_input": "2024-12-18T21:54:36.822715Z",
     "iopub.status.busy": "2024-12-18T21:54:36.822332Z",
     "iopub.status.idle": "2024-12-18T21:54:36.842042Z",
     "shell.execute_reply": "2024-12-18T21:54:36.841015Z"
    },
    "papermill": {
     "duration": 0.035304,
     "end_time": "2024-12-18T21:54:36.844389",
     "exception": false,
     "start_time": "2024-12-18T21:54:36.809085",
     "status": "completed"
    },
    "tags": []
   },
   "outputs": [
    {
     "name": "stdout",
     "output_type": "stream",
     "text": [
      "<class 'pandas.core.frame.DataFrame'>\n",
      "Index: 24500 entries, 8960 to 4307\n",
      "Data columns (total 3 columns):\n",
      " #   Column        Non-Null Count  Dtype \n",
      "---  ------        --------------  ----- \n",
      " 0   text          24500 non-null  object\n",
      " 1   target        24500 non-null  int64 \n",
      " 2   text_cleaned  23671 non-null  object\n",
      "dtypes: int64(1), object(2)\n",
      "memory usage: 765.6+ KB\n"
     ]
    }
   ],
   "source": [
    "df.info()"
   ]
  },
  {
   "cell_type": "code",
   "execution_count": 30,
   "id": "7d776e3b",
   "metadata": {
    "execution": {
     "iopub.execute_input": "2024-12-18T21:54:36.870135Z",
     "iopub.status.busy": "2024-12-18T21:54:36.869745Z",
     "iopub.status.idle": "2024-12-18T21:54:36.887525Z",
     "shell.execute_reply": "2024-12-18T21:54:36.886614Z"
    },
    "papermill": {
     "duration": 0.033247,
     "end_time": "2024-12-18T21:54:36.889868",
     "exception": false,
     "start_time": "2024-12-18T21:54:36.856621",
     "status": "completed"
    },
    "tags": []
   },
   "outputs": [],
   "source": [
    "df.dropna(inplace=True)"
   ]
  },
  {
   "cell_type": "code",
   "execution_count": 31,
   "id": "ca01b382",
   "metadata": {
    "execution": {
     "iopub.execute_input": "2024-12-18T21:54:36.915565Z",
     "iopub.status.busy": "2024-12-18T21:54:36.915139Z",
     "iopub.status.idle": "2024-12-18T21:54:36.936938Z",
     "shell.execute_reply": "2024-12-18T21:54:36.935920Z"
    },
    "papermill": {
     "duration": 0.037549,
     "end_time": "2024-12-18T21:54:36.939455",
     "exception": false,
     "start_time": "2024-12-18T21:54:36.901906",
     "status": "completed"
    },
    "tags": []
   },
   "outputs": [],
   "source": [
    "from sklearn.model_selection import train_test_split\n",
    "\n",
    "X_train, X_test, y_train, y_test = train_test_split( df.drop(columns=[\"target\"]),df[\"target\"], test_size=0.2 , stratify=df['target'] ,shuffle=True , random_state=123)"
   ]
  },
  {
   "cell_type": "code",
   "execution_count": 32,
   "id": "67b16047",
   "metadata": {
    "execution": {
     "iopub.execute_input": "2024-12-18T21:54:36.965964Z",
     "iopub.status.busy": "2024-12-18T21:54:36.965155Z",
     "iopub.status.idle": "2024-12-18T21:54:36.974590Z",
     "shell.execute_reply": "2024-12-18T21:54:36.973499Z"
    },
    "papermill": {
     "duration": 0.024998,
     "end_time": "2024-12-18T21:54:36.976703",
     "exception": false,
     "start_time": "2024-12-18T21:54:36.951705",
     "status": "completed"
    },
    "tags": []
   },
   "outputs": [
    {
     "data": {
      "text/plain": [
       "target\n",
       "0    2412\n",
       "1    2323\n",
       "Name: count, dtype: int64"
      ]
     },
     "execution_count": 32,
     "metadata": {},
     "output_type": "execute_result"
    }
   ],
   "source": [
    "y_test.value_counts()"
   ]
  },
  {
   "cell_type": "code",
   "execution_count": 33,
   "id": "142f8166",
   "metadata": {
    "execution": {
     "iopub.execute_input": "2024-12-18T21:54:37.003629Z",
     "iopub.status.busy": "2024-12-18T21:54:37.002803Z",
     "iopub.status.idle": "2024-12-18T21:54:37.009360Z",
     "shell.execute_reply": "2024-12-18T21:54:37.008283Z"
    },
    "papermill": {
     "duration": 0.022039,
     "end_time": "2024-12-18T21:54:37.011473",
     "exception": false,
     "start_time": "2024-12-18T21:54:36.989434",
     "status": "completed"
    },
    "tags": []
   },
   "outputs": [
    {
     "data": {
      "text/plain": [
       "(18936, 2)"
      ]
     },
     "execution_count": 33,
     "metadata": {},
     "output_type": "execute_result"
    }
   ],
   "source": [
    "X_train.shape"
   ]
  },
  {
   "cell_type": "markdown",
   "id": "9e1b0fff",
   "metadata": {
    "papermill": {
     "duration": 0.012095,
     "end_time": "2024-12-18T21:54:37.038082",
     "exception": false,
     "start_time": "2024-12-18T21:54:37.025987",
     "status": "completed"
    },
    "tags": []
   },
   "source": [
    "## Useful Function"
   ]
  },
  {
   "cell_type": "code",
   "execution_count": 34,
   "id": "0f4f5b8d",
   "metadata": {
    "execution": {
     "iopub.execute_input": "2024-12-18T21:54:37.064393Z",
     "iopub.status.busy": "2024-12-18T21:54:37.064004Z",
     "iopub.status.idle": "2024-12-18T21:54:37.549948Z",
     "shell.execute_reply": "2024-12-18T21:54:37.548617Z"
    },
    "papermill": {
     "duration": 0.501981,
     "end_time": "2024-12-18T21:54:37.552407",
     "exception": false,
     "start_time": "2024-12-18T21:54:37.050426",
     "status": "completed"
    },
    "tags": []
   },
   "outputs": [],
   "source": [
    "import numpy as np\n",
    "from sklearn.metrics import accuracy_score, f1_score, classification_report, confusion_matrix\n",
    "import seaborn as sns\n",
    "import matplotlib.pyplot as plt\n",
    "\n",
    "def about_model(model_name , y_test, y_pred):\n",
    "    print('-------------------> ' + model_name )\n",
    "    accuracy = accuracy_score(y_test, y_pred)\n",
    "    print(f\"Accuracy: {accuracy:.2f}\")\n",
    "    \n",
    "    f1 = f1_score(y_test, y_pred, average=None)\n",
    "    print(\"F1-Score for each class:\")\n",
    "    class_labels = ['Positive', 'Negative']\n",
    "\n",
    "    for i, score in enumerate(f1):\n",
    "        print(f\"{class_labels[i]}: {score:.2f}\")\n",
    "    \n",
    "    print(\"\\nClassification Report:\")\n",
    "    print(classification_report(y_test, y_pred, target_names=class_labels, digits=2))\n",
    "    \n",
    "    conf_matrix = confusion_matrix(y_test, y_pred)\n",
    "    plt.figure(figsize=(8, 6))\n",
    "    sns.heatmap(conf_matrix, annot=True, fmt='d', cmap='Blues', \n",
    "                xticklabels=class_labels,\n",
    "                yticklabels=class_labels)\n",
    "    plt.xlabel(\"Predicted\")\n",
    "    plt.ylabel(\"Actual\")\n",
    "    plt.title(\"Confusion Matrix\")\n",
    "    plt.show()\n"
   ]
  },
  {
   "cell_type": "markdown",
   "id": "db788a42",
   "metadata": {
    "papermill": {
     "duration": 0.011909,
     "end_time": "2024-12-18T21:54:37.577063",
     "exception": false,
     "start_time": "2024-12-18T21:54:37.565154",
     "status": "completed"
    },
    "tags": []
   },
   "source": [
    "## Feature Engineering\n",
    "Converting text to vectors format:\n",
    "- CountVectorizer (ngram_range=(1, 2) , binary=True)"
   ]
  },
  {
   "cell_type": "code",
   "execution_count": 35,
   "id": "ab11d2af",
   "metadata": {
    "execution": {
     "iopub.execute_input": "2024-12-18T21:54:37.603312Z",
     "iopub.status.busy": "2024-12-18T21:54:37.602801Z",
     "iopub.status.idle": "2024-12-18T21:54:37.607428Z",
     "shell.execute_reply": "2024-12-18T21:54:37.606432Z"
    },
    "papermill": {
     "duration": 0.019979,
     "end_time": "2024-12-18T21:54:37.609352",
     "exception": false,
     "start_time": "2024-12-18T21:54:37.589373",
     "status": "completed"
    },
    "tags": []
   },
   "outputs": [],
   "source": [
    "#from sklearn.feature_extraction.text import TfidfVectorizer\n",
    "\n",
    "\n",
    "#tfidf_vectorizer = TfidfVectorizer(ngram_range=(1, 2))\n",
    "#X_train['text_cleaned'] = X_train['text_cleaned'].astype(str)\n",
    "#X_test['text_cleaned'] = X_test['text_cleaned'].astype(str)\n",
    "\n",
    "#X_train_tfidf = tfidf_vectorizer.fit_transform(X_train['text_cleaned'])\n",
    "#X_test_tfidf = tfidf_vectorizer.transform(X_test['text_cleaned'])\n",
    "\n"
   ]
  },
  {
   "cell_type": "code",
   "execution_count": 36,
   "id": "910b6cfa",
   "metadata": {
    "execution": {
     "iopub.execute_input": "2024-12-18T21:54:37.637639Z",
     "iopub.status.busy": "2024-12-18T21:54:37.637259Z",
     "iopub.status.idle": "2024-12-18T21:54:38.964582Z",
     "shell.execute_reply": "2024-12-18T21:54:38.963555Z"
    },
    "papermill": {
     "duration": 1.343738,
     "end_time": "2024-12-18T21:54:38.967132",
     "exception": false,
     "start_time": "2024-12-18T21:54:37.623394",
     "status": "completed"
    },
    "tags": []
   },
   "outputs": [
    {
     "name": "stdout",
     "output_type": "stream",
     "text": [
      "all tokens:  124671\n",
      "reduced tokens:  124671\n"
     ]
    }
   ],
   "source": [
    "from sklearn.feature_extraction.text import CountVectorizer\n",
    "import numpy as np\n",
    "import pandas as pd\n",
    "\n",
    "\n",
    "tfidf_vectorizer = CountVectorizer(ngram_range=(1, 2) , binary=True)\n",
    "\n",
    "X_train['text_cleaned'] = X_train['text_cleaned'].astype(str)\n",
    "X_test['text_cleaned'] = X_test['text_cleaned'].astype(str)\n",
    "\n",
    "X_train_tfidf = tfidf_vectorizer.fit_transform(X_train['text_cleaned'])\n",
    "X_test_tfidf = tfidf_vectorizer.transform(X_test['text_cleaned'])\n",
    "\n",
    "words = tfidf_vectorizer.get_feature_names_out()\n",
    "print(\"all tokens: \" , len(words))\n",
    "tfidf_scores = np.asarray(X_train_tfidf.sum(axis=0)).flatten()\n",
    "\n",
    "sorted_indices = np.argsort(tfidf_scores)[::-1]\n",
    "\n",
    "cumulative_tfidf = np.cumsum(tfidf_scores[sorted_indices])\n",
    "\n",
    "total_tfidf = cumulative_tfidf[-1]\n",
    "threshold =  total_tfidf\n",
    "\n",
    "cutoff_index = np.where(cumulative_tfidf >= threshold)[0][0]\n",
    "\n",
    "selected_ngrams = words[sorted_indices][:cutoff_index + 1]\n",
    "\n",
    "selected_vocab = selected_ngrams.tolist()\n",
    "print(\"reduced tokens: \"  , len(selected_vocab))\n",
    "\n",
    "tfidf_vectorizer = CountVectorizer(vocabulary=selected_vocab)\n",
    "\n",
    "X_train_tfidf = tfidf_vectorizer.fit_transform(X_train['text_cleaned'])\n",
    "X_test_tfidf = tfidf_vectorizer.transform(X_test['text_cleaned'])\n"
   ]
  },
  {
   "cell_type": "code",
   "execution_count": 37,
   "id": "3b62b84d",
   "metadata": {
    "execution": {
     "iopub.execute_input": "2024-12-18T21:54:38.994066Z",
     "iopub.status.busy": "2024-12-18T21:54:38.993631Z",
     "iopub.status.idle": "2024-12-18T21:54:39.089237Z",
     "shell.execute_reply": "2024-12-18T21:54:39.088128Z"
    },
    "papermill": {
     "duration": 0.11171,
     "end_time": "2024-12-18T21:54:39.091386",
     "exception": false,
     "start_time": "2024-12-18T21:54:38.979676",
     "status": "completed"
    },
    "tags": []
   },
   "outputs": [
    {
     "data": {
      "text/plain": [
       "array(['لا', 'غير', 'ما', 'هه', 'ماش', 'خير', 'سير', 'هم', 'قلب', 'تفو',\n",
       "       'حمد', 'فرح', 'لم', 'عداله', 'عديم', 'قوه', 'فكر', 'احسن', 'مبروك',\n",
       "       'بدموع', 'سح', 'ليس', 'كورو', 'تحيه', 'والو', 'طحن', 'وفي', 'وباا',\n",
       "       'تنميه', 'لن'], dtype=object)"
      ]
     },
     "execution_count": 37,
     "metadata": {},
     "output_type": "execute_result"
    }
   ],
   "source": [
    "tfidf_vectorizer.get_feature_names_out()[:30]"
   ]
  },
  {
   "cell_type": "code",
   "execution_count": 38,
   "id": "8eefbfd7",
   "metadata": {
    "execution": {
     "iopub.execute_input": "2024-12-18T21:54:39.118086Z",
     "iopub.status.busy": "2024-12-18T21:54:39.117688Z",
     "iopub.status.idle": "2024-12-18T21:54:39.204711Z",
     "shell.execute_reply": "2024-12-18T21:54:39.203620Z"
    },
    "papermill": {
     "duration": 0.102952,
     "end_time": "2024-12-18T21:54:39.206805",
     "exception": false,
     "start_time": "2024-12-18T21:54:39.103853",
     "status": "completed"
    },
    "tags": []
   },
   "outputs": [
    {
     "data": {
      "text/plain": [
       "124671"
      ]
     },
     "execution_count": 38,
     "metadata": {},
     "output_type": "execute_result"
    }
   ],
   "source": [
    "len(tfidf_vectorizer.get_feature_names_out())"
   ]
  },
  {
   "cell_type": "markdown",
   "id": "ca6b58ff",
   "metadata": {
    "papermill": {
     "duration": 0.012072,
     "end_time": "2024-12-18T21:54:39.231313",
     "exception": false,
     "start_time": "2024-12-18T21:54:39.219241",
     "status": "completed"
    },
    "tags": []
   },
   "source": [
    "## Model Development\n"
   ]
  },
  {
   "cell_type": "markdown",
   "id": "268bb3b2",
   "metadata": {
    "papermill": {
     "duration": 0.012243,
     "end_time": "2024-12-18T21:54:39.255961",
     "exception": false,
     "start_time": "2024-12-18T21:54:39.243718",
     "status": "completed"
    },
    "tags": []
   },
   "source": [
    "### Random Forest"
   ]
  },
  {
   "cell_type": "code",
   "execution_count": 39,
   "id": "0b9c39d7",
   "metadata": {
    "execution": {
     "iopub.execute_input": "2024-12-18T21:54:39.282600Z",
     "iopub.status.busy": "2024-12-18T21:54:39.282190Z",
     "iopub.status.idle": "2024-12-18T22:00:51.011225Z",
     "shell.execute_reply": "2024-12-18T22:00:51.010184Z"
    },
    "papermill": {
     "duration": 371.757686,
     "end_time": "2024-12-18T22:00:51.026141",
     "exception": false,
     "start_time": "2024-12-18T21:54:39.268455",
     "status": "completed"
    },
    "tags": []
   },
   "outputs": [
    {
     "data": {
      "text/html": [
       "<style>#sk-container-id-1 {color: black;background-color: white;}#sk-container-id-1 pre{padding: 0;}#sk-container-id-1 div.sk-toggleable {background-color: white;}#sk-container-id-1 label.sk-toggleable__label {cursor: pointer;display: block;width: 100%;margin-bottom: 0;padding: 0.3em;box-sizing: border-box;text-align: center;}#sk-container-id-1 label.sk-toggleable__label-arrow:before {content: \"▸\";float: left;margin-right: 0.25em;color: #696969;}#sk-container-id-1 label.sk-toggleable__label-arrow:hover:before {color: black;}#sk-container-id-1 div.sk-estimator:hover label.sk-toggleable__label-arrow:before {color: black;}#sk-container-id-1 div.sk-toggleable__content {max-height: 0;max-width: 0;overflow: hidden;text-align: left;background-color: #f0f8ff;}#sk-container-id-1 div.sk-toggleable__content pre {margin: 0.2em;color: black;border-radius: 0.25em;background-color: #f0f8ff;}#sk-container-id-1 input.sk-toggleable__control:checked~div.sk-toggleable__content {max-height: 200px;max-width: 100%;overflow: auto;}#sk-container-id-1 input.sk-toggleable__control:checked~label.sk-toggleable__label-arrow:before {content: \"▾\";}#sk-container-id-1 div.sk-estimator input.sk-toggleable__control:checked~label.sk-toggleable__label {background-color: #d4ebff;}#sk-container-id-1 div.sk-label input.sk-toggleable__control:checked~label.sk-toggleable__label {background-color: #d4ebff;}#sk-container-id-1 input.sk-hidden--visually {border: 0;clip: rect(1px 1px 1px 1px);clip: rect(1px, 1px, 1px, 1px);height: 1px;margin: -1px;overflow: hidden;padding: 0;position: absolute;width: 1px;}#sk-container-id-1 div.sk-estimator {font-family: monospace;background-color: #f0f8ff;border: 1px dotted black;border-radius: 0.25em;box-sizing: border-box;margin-bottom: 0.5em;}#sk-container-id-1 div.sk-estimator:hover {background-color: #d4ebff;}#sk-container-id-1 div.sk-parallel-item::after {content: \"\";width: 100%;border-bottom: 1px solid gray;flex-grow: 1;}#sk-container-id-1 div.sk-label:hover label.sk-toggleable__label {background-color: #d4ebff;}#sk-container-id-1 div.sk-serial::before {content: \"\";position: absolute;border-left: 1px solid gray;box-sizing: border-box;top: 0;bottom: 0;left: 50%;z-index: 0;}#sk-container-id-1 div.sk-serial {display: flex;flex-direction: column;align-items: center;background-color: white;padding-right: 0.2em;padding-left: 0.2em;position: relative;}#sk-container-id-1 div.sk-item {position: relative;z-index: 1;}#sk-container-id-1 div.sk-parallel {display: flex;align-items: stretch;justify-content: center;background-color: white;position: relative;}#sk-container-id-1 div.sk-item::before, #sk-container-id-1 div.sk-parallel-item::before {content: \"\";position: absolute;border-left: 1px solid gray;box-sizing: border-box;top: 0;bottom: 0;left: 50%;z-index: -1;}#sk-container-id-1 div.sk-parallel-item {display: flex;flex-direction: column;z-index: 1;position: relative;background-color: white;}#sk-container-id-1 div.sk-parallel-item:first-child::after {align-self: flex-end;width: 50%;}#sk-container-id-1 div.sk-parallel-item:last-child::after {align-self: flex-start;width: 50%;}#sk-container-id-1 div.sk-parallel-item:only-child::after {width: 0;}#sk-container-id-1 div.sk-dashed-wrapped {border: 1px dashed gray;margin: 0 0.4em 0.5em 0.4em;box-sizing: border-box;padding-bottom: 0.4em;background-color: white;}#sk-container-id-1 div.sk-label label {font-family: monospace;font-weight: bold;display: inline-block;line-height: 1.2em;}#sk-container-id-1 div.sk-label-container {text-align: center;}#sk-container-id-1 div.sk-container {/* jupyter's `normalize.less` sets `[hidden] { display: none; }` but bootstrap.min.css set `[hidden] { display: none !important; }` so we also need the `!important` here to be able to override the default hidden behavior on the sphinx rendered scikit-learn.org. See: https://github.com/scikit-learn/scikit-learn/issues/21755 */display: inline-block !important;position: relative;}#sk-container-id-1 div.sk-text-repr-fallback {display: none;}</style><div id=\"sk-container-id-1\" class=\"sk-top-container\"><div class=\"sk-text-repr-fallback\"><pre>RandomForestClassifier()</pre><b>In a Jupyter environment, please rerun this cell to show the HTML representation or trust the notebook. <br />On GitHub, the HTML representation is unable to render, please try loading this page with nbviewer.org.</b></div><div class=\"sk-container\" hidden><div class=\"sk-item\"><div class=\"sk-estimator sk-toggleable\"><input class=\"sk-toggleable__control sk-hidden--visually\" id=\"sk-estimator-id-1\" type=\"checkbox\" checked><label for=\"sk-estimator-id-1\" class=\"sk-toggleable__label sk-toggleable__label-arrow\">RandomForestClassifier</label><div class=\"sk-toggleable__content\"><pre>RandomForestClassifier()</pre></div></div></div></div></div>"
      ],
      "text/plain": [
       "RandomForestClassifier()"
      ]
     },
     "execution_count": 39,
     "metadata": {},
     "output_type": "execute_result"
    }
   ],
   "source": [
    "from sklearn.ensemble import RandomForestClassifier\n",
    "randomforest_clf = RandomForestClassifier()\n",
    "randomforest_clf.fit(X_train_tfidf, y_train)"
   ]
  },
  {
   "cell_type": "code",
   "execution_count": 40,
   "id": "f6988a42",
   "metadata": {
    "execution": {
     "iopub.execute_input": "2024-12-18T22:00:51.052920Z",
     "iopub.status.busy": "2024-12-18T22:00:51.052253Z",
     "iopub.status.idle": "2024-12-18T22:00:53.653319Z",
     "shell.execute_reply": "2024-12-18T22:00:53.652272Z"
    },
    "papermill": {
     "duration": 2.616803,
     "end_time": "2024-12-18T22:00:53.655409",
     "exception": false,
     "start_time": "2024-12-18T22:00:51.038606",
     "status": "completed"
    },
    "tags": []
   },
   "outputs": [
    {
     "name": "stdout",
     "output_type": "stream",
     "text": [
      "-------------------> Random Forest\n",
      "Accuracy: 0.70\n",
      "F1-Score for each class:\n",
      "Positive: 0.66\n",
      "Negative: 0.74\n",
      "\n",
      "Classification Report:\n",
      "              precision    recall  f1-score   support\n",
      "\n",
      "    Positive       0.80      0.56      0.66      2412\n",
      "    Negative       0.65      0.85      0.74      2323\n",
      "\n",
      "    accuracy                           0.70      4735\n",
      "   macro avg       0.73      0.71      0.70      4735\n",
      "weighted avg       0.73      0.70      0.70      4735\n",
      "\n"
     ]
    },
    {
     "data": {
      "image/png": "[encoded data removed]",
      "text/plain": [
       "<Figure size 800x600 with 2 Axes>"
      ]
     },
     "metadata": {},
     "output_type": "display_data"
    }
   ],
   "source": [
    "y_hat = randomforest_clf.predict(X_test_tfidf) \n",
    "about_model(\"Random Forest\" , y_test, y_hat)"
   ]
  },
  {
   "cell_type": "markdown",
   "id": "6acedb7b",
   "metadata": {
    "papermill": {
     "duration": 0.013189,
     "end_time": "2024-12-18T22:00:53.683519",
     "exception": false,
     "start_time": "2024-12-18T22:00:53.670330",
     "status": "completed"
    },
    "tags": []
   },
   "source": [
    "### Tuned Random Forest"
   ]
  },
  {
   "cell_type": "code",
   "execution_count": 41,
   "id": "5b9d6681",
   "metadata": {
    "execution": {
     "iopub.execute_input": "2024-12-18T22:00:53.712292Z",
     "iopub.status.busy": "2024-12-18T22:00:53.711399Z",
     "iopub.status.idle": "2024-12-19T04:27:59.641578Z",
     "shell.execute_reply": "2024-12-19T04:27:59.640191Z"
    },
    "papermill": {
     "duration": 23225.96186,
     "end_time": "2024-12-19T04:27:59.658581",
     "exception": false,
     "start_time": "2024-12-18T22:00:53.696721",
     "status": "completed"
    },
    "tags": []
   },
   "outputs": [
    {
     "name": "stdout",
     "output_type": "stream",
     "text": [
      "Fitting 5 folds for each of 108 candidates, totalling 540 fits\n"
     ]
    },
    {
     "data": {
      "text/plain": [
       "{'criterion': 'gini',\n",
       " 'max_depth': None,\n",
       " 'max_features': 'log2',\n",
       " 'min_samples_split': 10,\n",
       " 'n_estimators': 200}"
      ]
     },
     "execution_count": 41,
     "metadata": {},
     "output_type": "execute_result"
    }
   ],
   "source": [
    "param_grid_ = {\n",
    "    'n_estimators': [10, 100, 200],\n",
    "    'max_features': ['sqrt', 'log2'],\n",
    "    'criterion': ['gini', 'entropy'], \n",
    "    'max_depth': [None, 10, 20],      \n",
    "    'min_samples_split': [2, 5, 10]   \n",
    "}\n",
    "\n",
    "randomforest_clf = GridSearchCV(estimator=RandomForestClassifier(n_jobs=-1),\n",
    "                                param_grid=param_grid_, \n",
    "                                cv=5, verbose=1 , \n",
    "                                scoring='accuracy',\n",
    "                                n_jobs=-1)\n",
    "randomforest_clf.fit(X_train_tfidf, y_train)\n",
    "randomforest_clf.best_params_\n"
   ]
  },
  {
   "cell_type": "code",
   "execution_count": 42,
   "id": "e849230b",
   "metadata": {
    "execution": {
     "iopub.execute_input": "2024-12-19T04:27:59.685795Z",
     "iopub.status.busy": "2024-12-19T04:27:59.685402Z",
     "iopub.status.idle": "2024-12-19T04:28:03.952830Z",
     "shell.execute_reply": "2024-12-19T04:28:03.951832Z"
    },
    "papermill": {
     "duration": 4.283949,
     "end_time": "2024-12-19T04:28:03.954795",
     "exception": false,
     "start_time": "2024-12-19T04:27:59.670846",
     "status": "completed"
    },
    "tags": []
   },
   "outputs": [
    {
     "name": "stdout",
     "output_type": "stream",
     "text": [
      "-------------------> Tuned Random Forest\n",
      "Accuracy: 0.73\n",
      "F1-Score for each class:\n",
      "Positive: 0.71\n",
      "Negative: 0.75\n",
      "\n",
      "Classification Report:\n",
      "              precision    recall  f1-score   support\n",
      "\n",
      "    Positive       0.80      0.64      0.71      2412\n",
      "    Negative       0.69      0.83      0.75      2323\n",
      "\n",
      "    accuracy                           0.73      4735\n",
      "   macro avg       0.74      0.74      0.73      4735\n",
      "weighted avg       0.74      0.73      0.73      4735\n",
      "\n"
     ]
    },
    {
     "data": {
      "image/png": "[encoded data removed]",
      "text/plain": [
       "<Figure size 800x600 with 2 Axes>"
      ]
     },
     "metadata": {},
     "output_type": "display_data"
    }
   ],
   "source": [
    "y_hat = randomforest_clf.predict(X_test_tfidf)\n",
    "about_model(\"Tuned Random Forest\" , y_test , y_hat)"
   ]
  },
  {
   "cell_type": "markdown",
   "id": "d802eda4",
   "metadata": {
    "papermill": {
     "duration": 0.013639,
     "end_time": "2024-12-19T04:28:03.982498",
     "exception": false,
     "start_time": "2024-12-19T04:28:03.968859",
     "status": "completed"
    },
    "tags": []
   },
   "source": [
    "### SVM"
   ]
  },
  {
   "cell_type": "code",
   "execution_count": 43,
   "id": "45ee621d",
   "metadata": {
    "execution": {
     "iopub.execute_input": "2024-12-19T04:28:04.011916Z",
     "iopub.status.busy": "2024-12-19T04:28:04.010907Z",
     "iopub.status.idle": "2024-12-19T04:32:52.243195Z",
     "shell.execute_reply": "2024-12-19T04:32:52.242022Z"
    },
    "papermill": {
     "duration": 288.264256,
     "end_time": "2024-12-19T04:32:52.260352",
     "exception": false,
     "start_time": "2024-12-19T04:28:03.996096",
     "status": "completed"
    },
    "tags": []
   },
   "outputs": [
    {
     "data": {
      "text/html": [
       "<style>#sk-container-id-2 {color: black;background-color: white;}#sk-container-id-2 pre{padding: 0;}#sk-container-id-2 div.sk-toggleable {background-color: white;}#sk-container-id-2 label.sk-toggleable__label {cursor: pointer;display: block;width: 100%;margin-bottom: 0;padding: 0.3em;box-sizing: border-box;text-align: center;}#sk-container-id-2 label.sk-toggleable__label-arrow:before {content: \"▸\";float: left;margin-right: 0.25em;color: #696969;}#sk-container-id-2 label.sk-toggleable__label-arrow:hover:before {color: black;}#sk-container-id-2 div.sk-estimator:hover label.sk-toggleable__label-arrow:before {color: black;}#sk-container-id-2 div.sk-toggleable__content {max-height: 0;max-width: 0;overflow: hidden;text-align: left;background-color: #f0f8ff;}#sk-container-id-2 div.sk-toggleable__content pre {margin: 0.2em;color: black;border-radius: 0.25em;background-color: #f0f8ff;}#sk-container-id-2 input.sk-toggleable__control:checked~div.sk-toggleable__content {max-height: 200px;max-width: 100%;overflow: auto;}#sk-container-id-2 input.sk-toggleable__control:checked~label.sk-toggleable__label-arrow:before {content: \"▾\";}#sk-container-id-2 div.sk-estimator input.sk-toggleable__control:checked~label.sk-toggleable__label {background-color: #d4ebff;}#sk-container-id-2 div.sk-label input.sk-toggleable__control:checked~label.sk-toggleable__label {background-color: #d4ebff;}#sk-container-id-2 input.sk-hidden--visually {border: 0;clip: rect(1px 1px 1px 1px);clip: rect(1px, 1px, 1px, 1px);height: 1px;margin: -1px;overflow: hidden;padding: 0;position: absolute;width: 1px;}#sk-container-id-2 div.sk-estimator {font-family: monospace;background-color: #f0f8ff;border: 1px dotted black;border-radius: 0.25em;box-sizing: border-box;margin-bottom: 0.5em;}#sk-container-id-2 div.sk-estimator:hover {background-color: #d4ebff;}#sk-container-id-2 div.sk-parallel-item::after {content: \"\";width: 100%;border-bottom: 1px solid gray;flex-grow: 1;}#sk-container-id-2 div.sk-label:hover label.sk-toggleable__label {background-color: #d4ebff;}#sk-container-id-2 div.sk-serial::before {content: \"\";position: absolute;border-left: 1px solid gray;box-sizing: border-box;top: 0;bottom: 0;left: 50%;z-index: 0;}#sk-container-id-2 div.sk-serial {display: flex;flex-direction: column;align-items: center;background-color: white;padding-right: 0.2em;padding-left: 0.2em;position: relative;}#sk-container-id-2 div.sk-item {position: relative;z-index: 1;}#sk-container-id-2 div.sk-parallel {display: flex;align-items: stretch;justify-content: center;background-color: white;position: relative;}#sk-container-id-2 div.sk-item::before, #sk-container-id-2 div.sk-parallel-item::before {content: \"\";position: absolute;border-left: 1px solid gray;box-sizing: border-box;top: 0;bottom: 0;left: 50%;z-index: -1;}#sk-container-id-2 div.sk-parallel-item {display: flex;flex-direction: column;z-index: 1;position: relative;background-color: white;}#sk-container-id-2 div.sk-parallel-item:first-child::after {align-self: flex-end;width: 50%;}#sk-container-id-2 div.sk-parallel-item:last-child::after {align-self: flex-start;width: 50%;}#sk-container-id-2 div.sk-parallel-item:only-child::after {width: 0;}#sk-container-id-2 div.sk-dashed-wrapped {border: 1px dashed gray;margin: 0 0.4em 0.5em 0.4em;box-sizing: border-box;padding-bottom: 0.4em;background-color: white;}#sk-container-id-2 div.sk-label label {font-family: monospace;font-weight: bold;display: inline-block;line-height: 1.2em;}#sk-container-id-2 div.sk-label-container {text-align: center;}#sk-container-id-2 div.sk-container {/* jupyter's `normalize.less` sets `[hidden] { display: none; }` but bootstrap.min.css set `[hidden] { display: none !important; }` so we also need the `!important` here to be able to override the default hidden behavior on the sphinx rendered scikit-learn.org. See: https://github.com/scikit-learn/scikit-learn/issues/21755 */display: inline-block !important;position: relative;}#sk-container-id-2 div.sk-text-repr-fallback {display: none;}</style><div id=\"sk-container-id-2\" class=\"sk-top-container\"><div class=\"sk-text-repr-fallback\"><pre>SVC(probability=True)</pre><b>In a Jupyter environment, please rerun this cell to show the HTML representation or trust the notebook. <br />On GitHub, the HTML representation is unable to render, please try loading this page with nbviewer.org.</b></div><div class=\"sk-container\" hidden><div class=\"sk-item\"><div class=\"sk-estimator sk-toggleable\"><input class=\"sk-toggleable__control sk-hidden--visually\" id=\"sk-estimator-id-2\" type=\"checkbox\" checked><label for=\"sk-estimator-id-2\" class=\"sk-toggleable__label sk-toggleable__label-arrow\">SVC</label><div class=\"sk-toggleable__content\"><pre>SVC(probability=True)</pre></div></div></div></div></div>"
      ],
      "text/plain": [
       "SVC(probability=True)"
      ]
     },
     "execution_count": 43,
     "metadata": {},
     "output_type": "execute_result"
    }
   ],
   "source": [
    "from sklearn.svm import SVC\n",
    "svm_clf = SVC(probability=True)\n",
    "svm_clf.fit(X_train_tfidf, y_train)"
   ]
  },
  {
   "cell_type": "code",
   "execution_count": 44,
   "id": "6c31fc74",
   "metadata": {
    "execution": {
     "iopub.execute_input": "2024-12-19T04:32:52.291527Z",
     "iopub.status.busy": "2024-12-19T04:32:52.290612Z",
     "iopub.status.idle": "2024-12-19T04:32:57.974575Z",
     "shell.execute_reply": "2024-12-19T04:32:57.973463Z"
    },
    "papermill": {
     "duration": 5.701935,
     "end_time": "2024-12-19T04:32:57.976704",
     "exception": false,
     "start_time": "2024-12-19T04:32:52.274769",
     "status": "completed"
    },
    "tags": []
   },
   "outputs": [
    {
     "name": "stdout",
     "output_type": "stream",
     "text": [
      "-------------------> SVM\n",
      "Accuracy: 0.73\n",
      "F1-Score for each class:\n",
      "Positive: 0.71\n",
      "Negative: 0.74\n",
      "\n",
      "Classification Report:\n",
      "              precision    recall  f1-score   support\n",
      "\n",
      "    Positive       0.78      0.66      0.71      2412\n",
      "    Negative       0.69      0.80      0.74      2323\n",
      "\n",
      "    accuracy                           0.73      4735\n",
      "   macro avg       0.74      0.73      0.73      4735\n",
      "weighted avg       0.74      0.73      0.73      4735\n",
      "\n"
     ]
    },
    {
     "data": {
      "image/png": "[encoded data removed]",
      "text/plain": [
       "<Figure size 800x600 with 2 Axes>"
      ]
     },
     "metadata": {},
     "output_type": "display_data"
    }
   ],
   "source": [
    "y_hat = svm_clf.predict(X_test_tfidf) \n",
    "about_model(\"SVM\" , y_test, y_hat)"
   ]
  },
  {
   "cell_type": "code",
   "execution_count": 45,
   "id": "3740642a",
   "metadata": {
    "execution": {
     "iopub.execute_input": "2024-12-19T04:32:58.009746Z",
     "iopub.status.busy": "2024-12-19T04:32:58.009356Z",
     "iopub.status.idle": "2024-12-19T04:32:59.063146Z",
     "shell.execute_reply": "2024-12-19T04:32:59.061953Z"
    },
    "papermill": {
     "duration": 1.073082,
     "end_time": "2024-12-19T04:32:59.065369",
     "exception": false,
     "start_time": "2024-12-19T04:32:57.992287",
     "status": "completed"
    },
    "tags": []
   },
   "outputs": [
    {
     "name": "stdout",
     "output_type": "stream",
     "text": [
      "Model and vectorizer saved successfully!\n"
     ]
    }
   ],
   "source": [
    "import joblib\n",
    "\n",
    "joblib.dump(svm_clf, '/kaggle/working/sentiment_model.joblib')\n",
    "joblib.dump(tfidf_vectorizer, '/kaggle/working/vectorizer.joblib')\n",
    "print(\"Model and vectorizer saved successfully!\")"
   ]
  },
  {
   "cell_type": "markdown",
   "id": "75cc48ce",
   "metadata": {
    "papermill": {
     "duration": 0.015118,
     "end_time": "2024-12-19T04:32:59.095742",
     "exception": false,
     "start_time": "2024-12-19T04:32:59.080624",
     "status": "completed"
    },
    "tags": []
   },
   "source": [
    "### Tuned SVM"
   ]
  },
  {
   "cell_type": "code",
   "execution_count": 46,
   "id": "1d558f08",
   "metadata": {
    "execution": {
     "iopub.execute_input": "2024-12-19T04:32:59.127932Z",
     "iopub.status.busy": "2024-12-19T04:32:59.126995Z",
     "iopub.status.idle": "2024-12-19T06:17:12.209904Z",
     "shell.execute_reply": "2024-12-19T06:17:12.208689Z"
    },
    "papermill": {
     "duration": 6253.11638,
     "end_time": "2024-12-19T06:17:12.227175",
     "exception": false,
     "start_time": "2024-12-19T04:32:59.110795",
     "status": "completed"
    },
    "tags": []
   },
   "outputs": [
    {
     "name": "stdout",
     "output_type": "stream",
     "text": [
      "Fitting 5 folds for each of 75 candidates, totalling 375 fits\n"
     ]
    },
    {
     "data": {
      "text/plain": [
       "{'C': 5, 'gamma': 0.1, 'kernel': 'rbf'}"
      ]
     },
     "execution_count": 46,
     "metadata": {},
     "output_type": "execute_result"
    }
   ],
   "source": [
    "param_grid_ = {'kernel': ['rbf', 'linear', 'poly'],\n",
    "             'gamma': [0.01 , 0.1, 1, 10, 100],\n",
    "             'C': [0.1, 1,5, 10, 100]}\n",
    "svm_grid = GridSearchCV(estimator=SVC(), \n",
    "                        param_grid=param_grid_, \n",
    "                        cv=5, verbose=1 , \n",
    "                        scoring='accuracy' , \n",
    "                        n_jobs=-1)\n",
    "svm_grid.fit(X_train_tfidf, y_train)\n",
    "svm_grid.best_params_\n"
   ]
  },
  {
   "cell_type": "code",
   "execution_count": 47,
   "id": "28fd9da3",
   "metadata": {
    "execution": {
     "iopub.execute_input": "2024-12-19T06:17:12.257894Z",
     "iopub.status.busy": "2024-12-19T06:17:12.257521Z",
     "iopub.status.idle": "2024-12-19T06:17:17.359447Z",
     "shell.execute_reply": "2024-12-19T06:17:17.358445Z"
    },
    "papermill": {
     "duration": 5.119627,
     "end_time": "2024-12-19T06:17:17.361496",
     "exception": false,
     "start_time": "2024-12-19T06:17:12.241869",
     "status": "completed"
    },
    "tags": []
   },
   "outputs": [
    {
     "name": "stdout",
     "output_type": "stream",
     "text": [
      "-------------------> Tuned SVM\n",
      "Accuracy: 0.75\n",
      "F1-Score for each class:\n",
      "Positive: 0.73\n",
      "Negative: 0.76\n",
      "\n",
      "Classification Report:\n",
      "              precision    recall  f1-score   support\n",
      "\n",
      "    Positive       0.79      0.69      0.73      2412\n",
      "    Negative       0.71      0.81      0.76      2323\n",
      "\n",
      "    accuracy                           0.75      4735\n",
      "   macro avg       0.75      0.75      0.75      4735\n",
      "weighted avg       0.75      0.75      0.74      4735\n",
      "\n"
     ]
    },
    {
     "data": {
      "image/png": "[encoded data removed]",
      "text/plain": [
       "<Figure size 800x600 with 2 Axes>"
      ]
     },
     "metadata": {},
     "output_type": "display_data"
    }
   ],
   "source": [
    "y_hat = svm_grid.predict(X_test_tfidf)\n",
    "about_model(\"Tuned SVM\", y_test , y_hat) "
   ]
  },
  {
   "cell_type": "markdown",
   "id": "fcb7f97a",
   "metadata": {
    "papermill": {
     "duration": 0.014822,
     "end_time": "2024-12-19T06:17:17.392147",
     "exception": false,
     "start_time": "2024-12-19T06:17:17.377325",
     "status": "completed"
    },
    "tags": []
   },
   "source": [
    "### lightgbm"
   ]
  },
  {
   "cell_type": "code",
   "execution_count": 48,
   "id": "862a36f8",
   "metadata": {
    "execution": {
     "iopub.execute_input": "2024-12-19T06:17:17.423482Z",
     "iopub.status.busy": "2024-12-19T06:17:17.423104Z",
     "iopub.status.idle": "2024-12-19T06:17:20.349290Z",
     "shell.execute_reply": "2024-12-19T06:17:20.348486Z"
    },
    "papermill": {
     "duration": 2.944602,
     "end_time": "2024-12-19T06:17:20.351618",
     "exception": false,
     "start_time": "2024-12-19T06:17:17.407016",
     "status": "completed"
    },
    "tags": []
   },
   "outputs": [],
   "source": [
    "import lightgbm as lgb\n",
    "\n",
    "X_train_tfidf = X_train_tfidf.astype(np.float32)\n",
    "X_test_tfidf = X_test_tfidf.astype(np.float32)\n",
    "\n",
    "d_train = lgb.Dataset(X_train_tfidf, label=y_train)\n",
    "d_test = lgb.Dataset(X_test_tfidf, label=y_test, reference=d_train)\n",
    "\n",
    "params = {\n",
    "    'objective': 'binary',  \n",
    "    'boosting_type': 'gbdt',\n",
    "    'metric': 'binary_logloss', \n",
    "    'num_leaves': 31,\n",
    "    'learning_rate': 0.1,\n",
    "    'verbose': 0\n",
    "}\n",
    "\n",
    "model = lgb.train(params, d_train, num_boost_round=100, valid_sets=[d_train, d_test])"
   ]
  },
  {
   "cell_type": "code",
   "execution_count": 49,
   "id": "cdd50e7a",
   "metadata": {
    "execution": {
     "iopub.execute_input": "2024-12-19T06:17:20.383609Z",
     "iopub.status.busy": "2024-12-19T06:17:20.383069Z",
     "iopub.status.idle": "2024-12-19T06:17:20.758071Z",
     "shell.execute_reply": "2024-12-19T06:17:20.757012Z"
    },
    "papermill": {
     "duration": 0.393139,
     "end_time": "2024-12-19T06:17:20.760188",
     "exception": false,
     "start_time": "2024-12-19T06:17:20.367049",
     "status": "completed"
    },
    "tags": []
   },
   "outputs": [
    {
     "name": "stdout",
     "output_type": "stream",
     "text": [
      "-------------------> lightgbm\n",
      "Accuracy: 0.68\n",
      "F1-Score for each class:\n",
      "Positive: 0.65\n",
      "Negative: 0.70\n",
      "\n",
      "Classification Report:\n",
      "              precision    recall  f1-score   support\n",
      "\n",
      "    Positive       0.73      0.59      0.65      2412\n",
      "    Negative       0.64      0.77      0.70      2323\n",
      "\n",
      "    accuracy                           0.68      4735\n",
      "   macro avg       0.68      0.68      0.68      4735\n",
      "weighted avg       0.69      0.68      0.67      4735\n",
      "\n"
     ]
    },
    {
     "data": {
      "image/png": "[encoded data removed]",
      "text/plain": [
       "<Figure size 800x600 with 2 Axes>"
      ]
     },
     "metadata": {},
     "output_type": "display_data"
    }
   ],
   "source": [
    "y_hat = model.predict(X_test_tfidf)\n",
    "y_hat = (y_hat > 0.5).astype(int)\n",
    "about_model(\"lightgbm\", y_test, y_hat)\n"
   ]
  },
  {
   "cell_type": "markdown",
   "id": "fac18b91",
   "metadata": {
    "papermill": {
     "duration": 0.015688,
     "end_time": "2024-12-19T06:17:20.792703",
     "exception": false,
     "start_time": "2024-12-19T06:17:20.777015",
     "status": "completed"
    },
    "tags": []
   },
   "source": [
    "### Tuned lightgbm"
   ]
  },
  {
   "cell_type": "code",
   "execution_count": 50,
   "id": "cf811673",
   "metadata": {
    "execution": {
     "iopub.execute_input": "2024-12-19T06:17:20.825950Z",
     "iopub.status.busy": "2024-12-19T06:17:20.825567Z",
     "iopub.status.idle": "2024-12-19T06:20:15.438721Z",
     "shell.execute_reply": "2024-12-19T06:20:15.437728Z"
    },
    "papermill": {
     "duration": 174.632219,
     "end_time": "2024-12-19T06:20:15.440819",
     "exception": false,
     "start_time": "2024-12-19T06:17:20.808600",
     "status": "completed"
    },
    "tags": []
   },
   "outputs": [
    {
     "name": "stdout",
     "output_type": "stream",
     "text": [
      "[LightGBM] [Info] Number of positive: 7431, number of negative: 7717\n",
      "[LightGBM] [Info] Auto-choosing row-wise multi-threading, the overhead of testing was 0.031989 seconds.\n",
      "You can set `force_row_wise=true` to remove the overhead.\n",
      "And if memory is not enough, you can set `force_col_wise=true`.\n",
      "[LightGBM] [Info] Total Bins 775\n",
      "[LightGBM] [Info] Number of data points in the train set: 15148, number of used features: 357\n",
      "[LightGBM] [Info] [binary:BoostFromScore]: pavg=0.490560 -> initscore=-0.037765\n",
      "[LightGBM] [Info] Start training from score -0.037765\n",
      "[LightGBM] [Info] Number of positive: 7431, number of negative: 7718\n",
      "[LightGBM] [Info] Auto-choosing row-wise multi-threading, the overhead of testing was 0.031090 seconds.\n",
      "You can set `force_row_wise=true` to remove the overhead.\n",
      "And if memory is not enough, you can set `force_col_wise=true`.\n",
      "[LightGBM] [Info] Total Bins 765\n",
      "[LightGBM] [Info] Number of data points in the train set: 15149, number of used features: 350\n",
      "[LightGBM] [Info] [binary:BoostFromScore]: pavg=0.490527 -> initscore=-0.037895\n",
      "[LightGBM] [Info] Start training from score -0.037895\n",
      "[LightGBM] [Info] Number of positive: 7431, number of negative: 7718\n",
      "[LightGBM] [Info] Auto-choosing row-wise multi-threading, the overhead of testing was 0.030953 seconds.\n",
      "You can set `force_row_wise=true` to remove the overhead.\n",
      "And if memory is not enough, you can set `force_col_wise=true`.\n",
      "[LightGBM] [Info] Total Bins 776\n",
      "[LightGBM] [Info] Number of data points in the train set: 15149, number of used features: 353\n",
      "[LightGBM] [Info] [binary:BoostFromScore]: pavg=0.490527 -> initscore=-0.037895\n",
      "[LightGBM] [Info] Start training from score -0.037895\n",
      "[LightGBM] [Info] Number of positive: 7431, number of negative: 7718\n",
      "[LightGBM] [Info] Auto-choosing row-wise multi-threading, the overhead of testing was 0.030984 seconds.\n",
      "You can set `force_row_wise=true` to remove the overhead.\n",
      "And if memory is not enough, you can set `force_col_wise=true`.\n",
      "[LightGBM] [Info] Total Bins 780\n",
      "[LightGBM] [Info] Number of data points in the train set: 15149, number of used features: 355\n",
      "[LightGBM] [Info] [binary:BoostFromScore]: pavg=0.490527 -> initscore=-0.037895\n",
      "[LightGBM] [Info] Start training from score -0.037895\n",
      "[LightGBM] [Info] Number of positive: 7432, number of negative: 7717\n",
      "[LightGBM] [Info] Auto-choosing col-wise multi-threading, the overhead of testing was 0.030129 seconds.\n",
      "You can set `force_col_wise=true` to remove the overhead.\n",
      "[LightGBM] [Info] Total Bins 764\n",
      "[LightGBM] [Info] Number of data points in the train set: 15149, number of used features: 349\n",
      "[LightGBM] [Info] [binary:BoostFromScore]: pavg=0.490593 -> initscore=-0.037631\n",
      "[LightGBM] [Info] Start training from score -0.037631\n",
      "[LightGBM] [Info] Number of positive: 7431, number of negative: 7717\n",
      "[LightGBM] [Info] Auto-choosing row-wise multi-threading, the overhead of testing was 0.030725 seconds.\n",
      "You can set `force_row_wise=true` to remove the overhead.\n",
      "And if memory is not enough, you can set `force_col_wise=true`.\n",
      "[LightGBM] [Info] Total Bins 775\n",
      "[LightGBM] [Info] Number of data points in the train set: 15148, number of used features: 357\n",
      "[LightGBM] [Info] [binary:BoostFromScore]: pavg=0.490560 -> initscore=-0.037765\n",
      "[LightGBM] [Info] Start training from score -0.037765\n",
      "[LightGBM] [Info] Number of positive: 7431, number of negative: 7718\n",
      "[LightGBM] [Info] Auto-choosing row-wise multi-threading, the overhead of testing was 0.030505 seconds.\n",
      "You can set `force_row_wise=true` to remove the overhead.\n",
      "And if memory is not enough, you can set `force_col_wise=true`.\n",
      "[LightGBM] [Info] Total Bins 765\n",
      "[LightGBM] [Info] Number of data points in the train set: 15149, number of used features: 350\n",
      "[LightGBM] [Info] [binary:BoostFromScore]: pavg=0.490527 -> initscore=-0.037895\n",
      "[LightGBM] [Info] Start training from score -0.037895\n",
      "[LightGBM] [Info] Number of positive: 7431, number of negative: 7718\n",
      "[LightGBM] [Info] Auto-choosing row-wise multi-threading, the overhead of testing was 0.030755 seconds.\n",
      "You can set `force_row_wise=true` to remove the overhead.\n",
      "And if memory is not enough, you can set `force_col_wise=true`.\n",
      "[LightGBM] [Info] Total Bins 776\n",
      "[LightGBM] [Info] Number of data points in the train set: 15149, number of used features: 353\n",
      "[LightGBM] [Info] [binary:BoostFromScore]: pavg=0.490527 -> initscore=-0.037895\n",
      "[LightGBM] [Info] Start training from score -0.037895\n",
      "[LightGBM] [Info] Number of positive: 7431, number of negative: 7718\n",
      "[LightGBM] [Info] Auto-choosing row-wise multi-threading, the overhead of testing was 0.031832 seconds.\n",
      "You can set `force_row_wise=true` to remove the overhead.\n",
      "And if memory is not enough, you can set `force_col_wise=true`.\n",
      "[LightGBM] [Info] Total Bins 780\n",
      "[LightGBM] [Info] Number of data points in the train set: 15149, number of used features: 355\n",
      "[LightGBM] [Info] [binary:BoostFromScore]: pavg=0.490527 -> initscore=-0.037895\n",
      "[LightGBM] [Info] Start training from score -0.037895\n",
      "[LightGBM] [Info] Number of positive: 7432, number of negative: 7717\n",
      "[LightGBM] [Info] Auto-choosing row-wise multi-threading, the overhead of testing was 0.030907 seconds.\n",
      "You can set `force_row_wise=true` to remove the overhead.\n",
      "And if memory is not enough, you can set `force_col_wise=true`.\n",
      "[LightGBM] [Info] Total Bins 764\n",
      "[LightGBM] [Info] Number of data points in the train set: 15149, number of used features: 349\n",
      "[LightGBM] [Info] [binary:BoostFromScore]: pavg=0.490593 -> initscore=-0.037631\n",
      "[LightGBM] [Info] Start training from score -0.037631\n",
      "[LightGBM] [Info] Number of positive: 7431, number of negative: 7717\n",
      "[LightGBM] [Info] Auto-choosing row-wise multi-threading, the overhead of testing was 0.031596 seconds.\n",
      "You can set `force_row_wise=true` to remove the overhead.\n",
      "And if memory is not enough, you can set `force_col_wise=true`.\n",
      "[LightGBM] [Info] Total Bins 775\n",
      "[LightGBM] [Info] Number of data points in the train set: 15148, number of used features: 357\n",
      "[LightGBM] [Info] [binary:BoostFromScore]: pavg=0.490560 -> initscore=-0.037765\n",
      "[LightGBM] [Info] Start training from score -0.037765\n",
      "[LightGBM] [Info] Number of positive: 7431, number of negative: 7718\n",
      "[LightGBM] [Info] Auto-choosing row-wise multi-threading, the overhead of testing was 0.030707 seconds.\n",
      "You can set `force_row_wise=true` to remove the overhead.\n",
      "And if memory is not enough, you can set `force_col_wise=true`.\n",
      "[LightGBM] [Info] Total Bins 765\n",
      "[LightGBM] [Info] Number of data points in the train set: 15149, number of used features: 350\n",
      "[LightGBM] [Info] [binary:BoostFromScore]: pavg=0.490527 -> initscore=-0.037895\n",
      "[LightGBM] [Info] Start training from score -0.037895\n",
      "[LightGBM] [Info] Number of positive: 7431, number of negative: 7718\n",
      "[LightGBM] [Info] Auto-choosing row-wise multi-threading, the overhead of testing was 0.030377 seconds.\n",
      "You can set `force_row_wise=true` to remove the overhead.\n",
      "And if memory is not enough, you can set `force_col_wise=true`.\n",
      "[LightGBM] [Info] Total Bins 776\n",
      "[LightGBM] [Info] Number of data points in the train set: 15149, number of used features: 353\n",
      "[LightGBM] [Info] [binary:BoostFromScore]: pavg=0.490527 -> initscore=-0.037895\n",
      "[LightGBM] [Info] Start training from score -0.037895\n",
      "[LightGBM] [Info] Number of positive: 7431, number of negative: 7718\n",
      "[LightGBM] [Info] Auto-choosing row-wise multi-threading, the overhead of testing was 0.031233 seconds.\n",
      "You can set `force_row_wise=true` to remove the overhead.\n",
      "And if memory is not enough, you can set `force_col_wise=true`.\n",
      "[LightGBM] [Info] Total Bins 780\n",
      "[LightGBM] [Info] Number of data points in the train set: 15149, number of used features: 355\n",
      "[LightGBM] [Info] [binary:BoostFromScore]: pavg=0.490527 -> initscore=-0.037895\n",
      "[LightGBM] [Info] Start training from score -0.037895\n",
      "[LightGBM] [Info] Number of positive: 7432, number of negative: 7717\n",
      "[LightGBM] [Info] Auto-choosing row-wise multi-threading, the overhead of testing was 0.031250 seconds.\n",
      "You can set `force_row_wise=true` to remove the overhead.\n",
      "And if memory is not enough, you can set `force_col_wise=true`.\n",
      "[LightGBM] [Info] Total Bins 764\n",
      "[LightGBM] [Info] Number of data points in the train set: 15149, number of used features: 349\n",
      "[LightGBM] [Info] [binary:BoostFromScore]: pavg=0.490593 -> initscore=-0.037631\n",
      "[LightGBM] [Info] Start training from score -0.037631\n",
      "[LightGBM] [Info] Number of positive: 7431, number of negative: 7717\n",
      "[LightGBM] [Info] Auto-choosing row-wise multi-threading, the overhead of testing was 0.031557 seconds.\n",
      "You can set `force_row_wise=true` to remove the overhead.\n",
      "And if memory is not enough, you can set `force_col_wise=true`.\n",
      "[LightGBM] [Info] Total Bins 775\n",
      "[LightGBM] [Info] Number of data points in the train set: 15148, number of used features: 357\n",
      "[LightGBM] [Info] [binary:BoostFromScore]: pavg=0.490560 -> initscore=-0.037765\n",
      "[LightGBM] [Info] Start training from score -0.037765\n",
      "[LightGBM] [Info] Number of positive: 7431, number of negative: 7718\n",
      "[LightGBM] [Info] Auto-choosing row-wise multi-threading, the overhead of testing was 0.031155 seconds.\n",
      "You can set `force_row_wise=true` to remove the overhead.\n",
      "And if memory is not enough, you can set `force_col_wise=true`.\n",
      "[LightGBM] [Info] Total Bins 765\n",
      "[LightGBM] [Info] Number of data points in the train set: 15149, number of used features: 350\n",
      "[LightGBM] [Info] [binary:BoostFromScore]: pavg=0.490527 -> initscore=-0.037895\n",
      "[LightGBM] [Info] Start training from score -0.037895\n",
      "[LightGBM] [Info] Number of positive: 7431, number of negative: 7718\n",
      "[LightGBM] [Info] Auto-choosing row-wise multi-threading, the overhead of testing was 0.031363 seconds.\n",
      "You can set `force_row_wise=true` to remove the overhead.\n",
      "And if memory is not enough, you can set `force_col_wise=true`.\n",
      "[LightGBM] [Info] Total Bins 776\n",
      "[LightGBM] [Info] Number of data points in the train set: 15149, number of used features: 353\n",
      "[LightGBM] [Info] [binary:BoostFromScore]: pavg=0.490527 -> initscore=-0.037895\n",
      "[LightGBM] [Info] Start training from score -0.037895\n",
      "[LightGBM] [Info] Number of positive: 7431, number of negative: 7718\n",
      "[LightGBM] [Info] Auto-choosing row-wise multi-threading, the overhead of testing was 0.031131 seconds.\n",
      "You can set `force_row_wise=true` to remove the overhead.\n",
      "And if memory is not enough, you can set `force_col_wise=true`.\n",
      "[LightGBM] [Info] Total Bins 780\n",
      "[LightGBM] [Info] Number of data points in the train set: 15149, number of used features: 355\n",
      "[LightGBM] [Info] [binary:BoostFromScore]: pavg=0.490527 -> initscore=-0.037895\n",
      "[LightGBM] [Info] Start training from score -0.037895\n",
      "[LightGBM] [Info] Number of positive: 7432, number of negative: 7717\n",
      "[LightGBM] [Info] Auto-choosing row-wise multi-threading, the overhead of testing was 0.030462 seconds.\n",
      "You can set `force_row_wise=true` to remove the overhead.\n",
      "And if memory is not enough, you can set `force_col_wise=true`.\n",
      "[LightGBM] [Info] Total Bins 764\n",
      "[LightGBM] [Info] Number of data points in the train set: 15149, number of used features: 349\n",
      "[LightGBM] [Info] [binary:BoostFromScore]: pavg=0.490593 -> initscore=-0.037631\n",
      "[LightGBM] [Info] Start training from score -0.037631\n",
      "[LightGBM] [Info] Number of positive: 7431, number of negative: 7717\n",
      "[LightGBM] [Info] Auto-choosing row-wise multi-threading, the overhead of testing was 0.031326 seconds.\n",
      "You can set `force_row_wise=true` to remove the overhead.\n",
      "And if memory is not enough, you can set `force_col_wise=true`.\n",
      "[LightGBM] [Info] Total Bins 775\n",
      "[LightGBM] [Info] Number of data points in the train set: 15148, number of used features: 357\n",
      "[LightGBM] [Info] [binary:BoostFromScore]: pavg=0.490560 -> initscore=-0.037765\n",
      "[LightGBM] [Info] Start training from score -0.037765\n",
      "[LightGBM] [Info] Number of positive: 7431, number of negative: 7718\n",
      "[LightGBM] [Info] Auto-choosing row-wise multi-threading, the overhead of testing was 0.030765 seconds.\n",
      "You can set `force_row_wise=true` to remove the overhead.\n",
      "And if memory is not enough, you can set `force_col_wise=true`.\n",
      "[LightGBM] [Info] Total Bins 765\n",
      "[LightGBM] [Info] Number of data points in the train set: 15149, number of used features: 350\n",
      "[LightGBM] [Info] [binary:BoostFromScore]: pavg=0.490527 -> initscore=-0.037895\n",
      "[LightGBM] [Info] Start training from score -0.037895\n",
      "[LightGBM] [Info] Number of positive: 7431, number of negative: 7718\n",
      "[LightGBM] [Info] Auto-choosing row-wise multi-threading, the overhead of testing was 0.031953 seconds.\n",
      "You can set `force_row_wise=true` to remove the overhead.\n",
      "And if memory is not enough, you can set `force_col_wise=true`.\n",
      "[LightGBM] [Info] Total Bins 776\n",
      "[LightGBM] [Info] Number of data points in the train set: 15149, number of used features: 353\n",
      "[LightGBM] [Info] [binary:BoostFromScore]: pavg=0.490527 -> initscore=-0.037895\n",
      "[LightGBM] [Info] Start training from score -0.037895\n",
      "[LightGBM] [Info] Number of positive: 7431, number of negative: 7718\n",
      "[LightGBM] [Info] Auto-choosing row-wise multi-threading, the overhead of testing was 0.031589 seconds.\n",
      "You can set `force_row_wise=true` to remove the overhead.\n",
      "And if memory is not enough, you can set `force_col_wise=true`.\n",
      "[LightGBM] [Info] Total Bins 780\n",
      "[LightGBM] [Info] Number of data points in the train set: 15149, number of used features: 355\n",
      "[LightGBM] [Info] [binary:BoostFromScore]: pavg=0.490527 -> initscore=-0.037895\n",
      "[LightGBM] [Info] Start training from score -0.037895\n",
      "[LightGBM] [Info] Number of positive: 7432, number of negative: 7717\n",
      "[LightGBM] [Info] Auto-choosing row-wise multi-threading, the overhead of testing was 0.031373 seconds.\n",
      "You can set `force_row_wise=true` to remove the overhead.\n",
      "And if memory is not enough, you can set `force_col_wise=true`.\n",
      "[LightGBM] [Info] Total Bins 764\n",
      "[LightGBM] [Info] Number of data points in the train set: 15149, number of used features: 349\n",
      "[LightGBM] [Info] [binary:BoostFromScore]: pavg=0.490593 -> initscore=-0.037631\n",
      "[LightGBM] [Info] Start training from score -0.037631\n",
      "[LightGBM] [Info] Number of positive: 7431, number of negative: 7717\n",
      "[LightGBM] [Info] Auto-choosing row-wise multi-threading, the overhead of testing was 0.031880 seconds.\n",
      "You can set `force_row_wise=true` to remove the overhead.\n",
      "And if memory is not enough, you can set `force_col_wise=true`.\n",
      "[LightGBM] [Info] Total Bins 775\n",
      "[LightGBM] [Info] Number of data points in the train set: 15148, number of used features: 357\n",
      "[LightGBM] [Info] [binary:BoostFromScore]: pavg=0.490560 -> initscore=-0.037765\n",
      "[LightGBM] [Info] Start training from score -0.037765\n",
      "[LightGBM] [Info] Number of positive: 7431, number of negative: 7718\n",
      "[LightGBM] [Info] Auto-choosing row-wise multi-threading, the overhead of testing was 0.031355 seconds.\n",
      "You can set `force_row_wise=true` to remove the overhead.\n",
      "And if memory is not enough, you can set `force_col_wise=true`.\n",
      "[LightGBM] [Info] Total Bins 765\n",
      "[LightGBM] [Info] Number of data points in the train set: 15149, number of used features: 350\n",
      "[LightGBM] [Info] [binary:BoostFromScore]: pavg=0.490527 -> initscore=-0.037895\n",
      "[LightGBM] [Info] Start training from score -0.037895\n",
      "[LightGBM] [Info] Number of positive: 7431, number of negative: 7718\n",
      "[LightGBM] [Info] Auto-choosing row-wise multi-threading, the overhead of testing was 0.031210 seconds.\n",
      "You can set `force_row_wise=true` to remove the overhead.\n",
      "And if memory is not enough, you can set `force_col_wise=true`.\n",
      "[LightGBM] [Info] Total Bins 776\n",
      "[LightGBM] [Info] Number of data points in the train set: 15149, number of used features: 353\n",
      "[LightGBM] [Info] [binary:BoostFromScore]: pavg=0.490527 -> initscore=-0.037895\n",
      "[LightGBM] [Info] Start training from score -0.037895\n",
      "[LightGBM] [Info] Number of positive: 7431, number of negative: 7718\n",
      "[LightGBM] [Info] Auto-choosing row-wise multi-threading, the overhead of testing was 0.031280 seconds.\n",
      "You can set `force_row_wise=true` to remove the overhead.\n",
      "And if memory is not enough, you can set `force_col_wise=true`.\n",
      "[LightGBM] [Info] Total Bins 780\n",
      "[LightGBM] [Info] Number of data points in the train set: 15149, number of used features: 355\n",
      "[LightGBM] [Info] [binary:BoostFromScore]: pavg=0.490527 -> initscore=-0.037895\n",
      "[LightGBM] [Info] Start training from score -0.037895\n",
      "[LightGBM] [Info] Number of positive: 7432, number of negative: 7717\n",
      "[LightGBM] [Info] Auto-choosing row-wise multi-threading, the overhead of testing was 0.030467 seconds.\n",
      "You can set `force_row_wise=true` to remove the overhead.\n",
      "And if memory is not enough, you can set `force_col_wise=true`.\n",
      "[LightGBM] [Info] Total Bins 764\n",
      "[LightGBM] [Info] Number of data points in the train set: 15149, number of used features: 349\n",
      "[LightGBM] [Info] [binary:BoostFromScore]: pavg=0.490593 -> initscore=-0.037631\n",
      "[LightGBM] [Info] Start training from score -0.037631\n",
      "[LightGBM] [Info] Number of positive: 7431, number of negative: 7717\n",
      "[LightGBM] [Info] Auto-choosing row-wise multi-threading, the overhead of testing was 0.033125 seconds.\n",
      "You can set `force_row_wise=true` to remove the overhead.\n",
      "And if memory is not enough, you can set `force_col_wise=true`.\n",
      "[LightGBM] [Info] Total Bins 775\n",
      "[LightGBM] [Info] Number of data points in the train set: 15148, number of used features: 357\n",
      "[LightGBM] [Info] [binary:BoostFromScore]: pavg=0.490560 -> initscore=-0.037765\n",
      "[LightGBM] [Info] Start training from score -0.037765\n",
      "[LightGBM] [Info] Number of positive: 7431, number of negative: 7718\n",
      "[LightGBM] [Info] Auto-choosing row-wise multi-threading, the overhead of testing was 0.030985 seconds.\n",
      "You can set `force_row_wise=true` to remove the overhead.\n",
      "And if memory is not enough, you can set `force_col_wise=true`.\n",
      "[LightGBM] [Info] Total Bins 765\n",
      "[LightGBM] [Info] Number of data points in the train set: 15149, number of used features: 350\n",
      "[LightGBM] [Info] [binary:BoostFromScore]: pavg=0.490527 -> initscore=-0.037895\n",
      "[LightGBM] [Info] Start training from score -0.037895\n",
      "[LightGBM] [Info] Number of positive: 7431, number of negative: 7718\n",
      "[LightGBM] [Info] Auto-choosing col-wise multi-threading, the overhead of testing was 0.031156 seconds.\n",
      "You can set `force_col_wise=true` to remove the overhead.\n",
      "[LightGBM] [Info] Total Bins 776\n",
      "[LightGBM] [Info] Number of data points in the train set: 15149, number of used features: 353\n",
      "[LightGBM] [Info] [binary:BoostFromScore]: pavg=0.490527 -> initscore=-0.037895\n",
      "[LightGBM] [Info] Start training from score -0.037895\n",
      "[LightGBM] [Info] Number of positive: 7431, number of negative: 7718\n",
      "[LightGBM] [Info] Auto-choosing row-wise multi-threading, the overhead of testing was 0.032483 seconds.\n",
      "You can set `force_row_wise=true` to remove the overhead.\n",
      "And if memory is not enough, you can set `force_col_wise=true`.\n",
      "[LightGBM] [Info] Total Bins 780\n",
      "[LightGBM] [Info] Number of data points in the train set: 15149, number of used features: 355\n",
      "[LightGBM] [Info] [binary:BoostFromScore]: pavg=0.490527 -> initscore=-0.037895\n",
      "[LightGBM] [Info] Start training from score -0.037895\n",
      "[LightGBM] [Info] Number of positive: 7432, number of negative: 7717\n",
      "[LightGBM] [Info] Auto-choosing row-wise multi-threading, the overhead of testing was 0.031247 seconds.\n",
      "You can set `force_row_wise=true` to remove the overhead.\n",
      "And if memory is not enough, you can set `force_col_wise=true`.\n",
      "[LightGBM] [Info] Total Bins 764\n",
      "[LightGBM] [Info] Number of data points in the train set: 15149, number of used features: 349\n",
      "[LightGBM] [Info] [binary:BoostFromScore]: pavg=0.490593 -> initscore=-0.037631\n",
      "[LightGBM] [Info] Start training from score -0.037631\n",
      "[LightGBM] [Info] Number of positive: 7431, number of negative: 7717\n",
      "[LightGBM] [Info] Auto-choosing row-wise multi-threading, the overhead of testing was 0.031066 seconds.\n",
      "You can set `force_row_wise=true` to remove the overhead.\n",
      "And if memory is not enough, you can set `force_col_wise=true`.\n",
      "[LightGBM] [Info] Total Bins 775\n",
      "[LightGBM] [Info] Number of data points in the train set: 15148, number of used features: 357\n",
      "[LightGBM] [Info] [binary:BoostFromScore]: pavg=0.490560 -> initscore=-0.037765\n",
      "[LightGBM] [Info] Start training from score -0.037765\n",
      "[LightGBM] [Info] Number of positive: 7431, number of negative: 7718\n",
      "[LightGBM] [Info] Auto-choosing row-wise multi-threading, the overhead of testing was 0.031199 seconds.\n",
      "You can set `force_row_wise=true` to remove the overhead.\n",
      "And if memory is not enough, you can set `force_col_wise=true`.\n",
      "[LightGBM] [Info] Total Bins 765\n",
      "[LightGBM] [Info] Number of data points in the train set: 15149, number of used features: 350\n",
      "[LightGBM] [Info] [binary:BoostFromScore]: pavg=0.490527 -> initscore=-0.037895\n",
      "[LightGBM] [Info] Start training from score -0.037895\n",
      "[LightGBM] [Info] Number of positive: 7431, number of negative: 7718\n",
      "[LightGBM] [Info] Auto-choosing row-wise multi-threading, the overhead of testing was 0.031642 seconds.\n",
      "You can set `force_row_wise=true` to remove the overhead.\n",
      "And if memory is not enough, you can set `force_col_wise=true`.\n",
      "[LightGBM] [Info] Total Bins 776\n",
      "[LightGBM] [Info] Number of data points in the train set: 15149, number of used features: 353\n",
      "[LightGBM] [Info] [binary:BoostFromScore]: pavg=0.490527 -> initscore=-0.037895\n",
      "[LightGBM] [Info] Start training from score -0.037895\n",
      "[LightGBM] [Info] Number of positive: 7431, number of negative: 7718\n",
      "[LightGBM] [Info] Auto-choosing row-wise multi-threading, the overhead of testing was 0.031597 seconds.\n",
      "You can set `force_row_wise=true` to remove the overhead.\n",
      "And if memory is not enough, you can set `force_col_wise=true`.\n",
      "[LightGBM] [Info] Total Bins 780\n",
      "[LightGBM] [Info] Number of data points in the train set: 15149, number of used features: 355\n",
      "[LightGBM] [Info] [binary:BoostFromScore]: pavg=0.490527 -> initscore=-0.037895\n",
      "[LightGBM] [Info] Start training from score -0.037895\n",
      "[LightGBM] [Info] Number of positive: 7432, number of negative: 7717\n",
      "[LightGBM] [Info] Auto-choosing row-wise multi-threading, the overhead of testing was 0.032047 seconds.\n",
      "You can set `force_row_wise=true` to remove the overhead.\n",
      "And if memory is not enough, you can set `force_col_wise=true`.\n",
      "[LightGBM] [Info] Total Bins 764\n",
      "[LightGBM] [Info] Number of data points in the train set: 15149, number of used features: 349\n",
      "[LightGBM] [Info] [binary:BoostFromScore]: pavg=0.490593 -> initscore=-0.037631\n",
      "[LightGBM] [Info] Start training from score -0.037631\n",
      "[LightGBM] [Info] Number of positive: 7431, number of negative: 7717\n",
      "[LightGBM] [Info] Auto-choosing row-wise multi-threading, the overhead of testing was 0.030713 seconds.\n",
      "You can set `force_row_wise=true` to remove the overhead.\n",
      "And if memory is not enough, you can set `force_col_wise=true`.\n",
      "[LightGBM] [Info] Total Bins 775\n",
      "[LightGBM] [Info] Number of data points in the train set: 15148, number of used features: 357\n",
      "[LightGBM] [Info] [binary:BoostFromScore]: pavg=0.490560 -> initscore=-0.037765\n",
      "[LightGBM] [Info] Start training from score -0.037765\n",
      "[LightGBM] [Info] Number of positive: 7431, number of negative: 7718\n",
      "[LightGBM] [Info] Auto-choosing row-wise multi-threading, the overhead of testing was 0.030457 seconds.\n",
      "You can set `force_row_wise=true` to remove the overhead.\n",
      "And if memory is not enough, you can set `force_col_wise=true`.\n",
      "[LightGBM] [Info] Total Bins 765\n",
      "[LightGBM] [Info] Number of data points in the train set: 15149, number of used features: 350\n",
      "[LightGBM] [Info] [binary:BoostFromScore]: pavg=0.490527 -> initscore=-0.037895\n",
      "[LightGBM] [Info] Start training from score -0.037895\n",
      "[LightGBM] [Info] Number of positive: 7431, number of negative: 7718\n",
      "[LightGBM] [Info] Auto-choosing row-wise multi-threading, the overhead of testing was 0.030954 seconds.\n",
      "You can set `force_row_wise=true` to remove the overhead.\n",
      "And if memory is not enough, you can set `force_col_wise=true`.\n",
      "[LightGBM] [Info] Total Bins 776\n",
      "[LightGBM] [Info] Number of data points in the train set: 15149, number of used features: 353\n",
      "[LightGBM] [Info] [binary:BoostFromScore]: pavg=0.490527 -> initscore=-0.037895\n",
      "[LightGBM] [Info] Start training from score -0.037895\n",
      "[LightGBM] [Info] Number of positive: 7431, number of negative: 7718\n",
      "[LightGBM] [Info] Auto-choosing row-wise multi-threading, the overhead of testing was 0.032055 seconds.\n",
      "You can set `force_row_wise=true` to remove the overhead.\n",
      "And if memory is not enough, you can set `force_col_wise=true`.\n",
      "[LightGBM] [Info] Total Bins 780\n",
      "[LightGBM] [Info] Number of data points in the train set: 15149, number of used features: 355\n",
      "[LightGBM] [Info] [binary:BoostFromScore]: pavg=0.490527 -> initscore=-0.037895\n",
      "[LightGBM] [Info] Start training from score -0.037895\n",
      "[LightGBM] [Info] Number of positive: 7432, number of negative: 7717\n",
      "[LightGBM] [Info] Auto-choosing row-wise multi-threading, the overhead of testing was 0.031326 seconds.\n",
      "You can set `force_row_wise=true` to remove the overhead.\n",
      "And if memory is not enough, you can set `force_col_wise=true`.\n",
      "[LightGBM] [Info] Total Bins 764\n",
      "[LightGBM] [Info] Number of data points in the train set: 15149, number of used features: 349\n",
      "[LightGBM] [Info] [binary:BoostFromScore]: pavg=0.490593 -> initscore=-0.037631\n",
      "[LightGBM] [Info] Start training from score -0.037631\n",
      "[LightGBM] [Info] Number of positive: 7431, number of negative: 7717\n",
      "[LightGBM] [Info] Auto-choosing row-wise multi-threading, the overhead of testing was 0.031818 seconds.\n",
      "You can set `force_row_wise=true` to remove the overhead.\n",
      "And if memory is not enough, you can set `force_col_wise=true`.\n",
      "[LightGBM] [Info] Total Bins 775\n",
      "[LightGBM] [Info] Number of data points in the train set: 15148, number of used features: 357\n",
      "[LightGBM] [Info] [binary:BoostFromScore]: pavg=0.490560 -> initscore=-0.037765\n",
      "[LightGBM] [Info] Start training from score -0.037765\n",
      "[LightGBM] [Info] Number of positive: 7431, number of negative: 7718\n",
      "[LightGBM] [Info] Auto-choosing col-wise multi-threading, the overhead of testing was 0.031855 seconds.\n",
      "You can set `force_col_wise=true` to remove the overhead.\n",
      "[LightGBM] [Info] Total Bins 765\n",
      "[LightGBM] [Info] Number of data points in the train set: 15149, number of used features: 350\n",
      "[LightGBM] [Info] [binary:BoostFromScore]: pavg=0.490527 -> initscore=-0.037895\n",
      "[LightGBM] [Info] Start training from score -0.037895\n",
      "[LightGBM] [Info] Number of positive: 7431, number of negative: 7718\n",
      "[LightGBM] [Info] Auto-choosing row-wise multi-threading, the overhead of testing was 0.031493 seconds.\n",
      "You can set `force_row_wise=true` to remove the overhead.\n",
      "And if memory is not enough, you can set `force_col_wise=true`.\n",
      "[LightGBM] [Info] Total Bins 776\n",
      "[LightGBM] [Info] Number of data points in the train set: 15149, number of used features: 353\n",
      "[LightGBM] [Info] [binary:BoostFromScore]: pavg=0.490527 -> initscore=-0.037895\n",
      "[LightGBM] [Info] Start training from score -0.037895\n",
      "[LightGBM] [Info] Number of positive: 7431, number of negative: 7718\n",
      "[LightGBM] [Info] Auto-choosing row-wise multi-threading, the overhead of testing was 0.032279 seconds.\n",
      "You can set `force_row_wise=true` to remove the overhead.\n",
      "And if memory is not enough, you can set `force_col_wise=true`.\n",
      "[LightGBM] [Info] Total Bins 780\n",
      "[LightGBM] [Info] Number of data points in the train set: 15149, number of used features: 355\n",
      "[LightGBM] [Info] [binary:BoostFromScore]: pavg=0.490527 -> initscore=-0.037895\n",
      "[LightGBM] [Info] Start training from score -0.037895\n",
      "[LightGBM] [Info] Number of positive: 7432, number of negative: 7717\n",
      "[LightGBM] [Info] Auto-choosing row-wise multi-threading, the overhead of testing was 0.031462 seconds.\n",
      "You can set `force_row_wise=true` to remove the overhead.\n",
      "And if memory is not enough, you can set `force_col_wise=true`.\n",
      "[LightGBM] [Info] Total Bins 764\n",
      "[LightGBM] [Info] Number of data points in the train set: 15149, number of used features: 349\n",
      "[LightGBM] [Info] [binary:BoostFromScore]: pavg=0.490593 -> initscore=-0.037631\n",
      "[LightGBM] [Info] Start training from score -0.037631\n",
      "[LightGBM] [Info] Number of positive: 7431, number of negative: 7717\n",
      "[LightGBM] [Info] Auto-choosing row-wise multi-threading, the overhead of testing was 0.032349 seconds.\n",
      "You can set `force_row_wise=true` to remove the overhead.\n",
      "And if memory is not enough, you can set `force_col_wise=true`.\n",
      "[LightGBM] [Info] Total Bins 775\n",
      "[LightGBM] [Info] Number of data points in the train set: 15148, number of used features: 357\n",
      "[LightGBM] [Info] [binary:BoostFromScore]: pavg=0.490560 -> initscore=-0.037765\n",
      "[LightGBM] [Info] Start training from score -0.037765\n",
      "[LightGBM] [Info] Number of positive: 7431, number of negative: 7718\n",
      "[LightGBM] [Info] Auto-choosing row-wise multi-threading, the overhead of testing was 0.031238 seconds.\n",
      "You can set `force_row_wise=true` to remove the overhead.\n",
      "And if memory is not enough, you can set `force_col_wise=true`.\n",
      "[LightGBM] [Info] Total Bins 765\n",
      "[LightGBM] [Info] Number of data points in the train set: 15149, number of used features: 350\n",
      "[LightGBM] [Info] [binary:BoostFromScore]: pavg=0.490527 -> initscore=-0.037895\n",
      "[LightGBM] [Info] Start training from score -0.037895\n",
      "[LightGBM] [Info] Number of positive: 7431, number of negative: 7718\n",
      "[LightGBM] [Info] Auto-choosing row-wise multi-threading, the overhead of testing was 0.032058 seconds.\n",
      "You can set `force_row_wise=true` to remove the overhead.\n",
      "And if memory is not enough, you can set `force_col_wise=true`.\n",
      "[LightGBM] [Info] Total Bins 776\n",
      "[LightGBM] [Info] Number of data points in the train set: 15149, number of used features: 353\n",
      "[LightGBM] [Info] [binary:BoostFromScore]: pavg=0.490527 -> initscore=-0.037895\n",
      "[LightGBM] [Info] Start training from score -0.037895\n",
      "[LightGBM] [Info] Number of positive: 7431, number of negative: 7718\n",
      "[LightGBM] [Info] Auto-choosing row-wise multi-threading, the overhead of testing was 0.031935 seconds.\n",
      "You can set `force_row_wise=true` to remove the overhead.\n",
      "And if memory is not enough, you can set `force_col_wise=true`.\n",
      "[LightGBM] [Info] Total Bins 780\n",
      "[LightGBM] [Info] Number of data points in the train set: 15149, number of used features: 355\n",
      "[LightGBM] [Info] [binary:BoostFromScore]: pavg=0.490527 -> initscore=-0.037895\n",
      "[LightGBM] [Info] Start training from score -0.037895\n",
      "[LightGBM] [Info] Number of positive: 7432, number of negative: 7717\n",
      "[LightGBM] [Info] Auto-choosing row-wise multi-threading, the overhead of testing was 0.032990 seconds.\n",
      "You can set `force_row_wise=true` to remove the overhead.\n",
      "And if memory is not enough, you can set `force_col_wise=true`.\n",
      "[LightGBM] [Info] Total Bins 764\n",
      "[LightGBM] [Info] Number of data points in the train set: 15149, number of used features: 349\n",
      "[LightGBM] [Info] [binary:BoostFromScore]: pavg=0.490593 -> initscore=-0.037631\n",
      "[LightGBM] [Info] Start training from score -0.037631\n",
      "[LightGBM] [Info] Number of positive: 7431, number of negative: 7717\n",
      "[LightGBM] [Info] Auto-choosing row-wise multi-threading, the overhead of testing was 0.031738 seconds.\n",
      "You can set `force_row_wise=true` to remove the overhead.\n",
      "And if memory is not enough, you can set `force_col_wise=true`.\n",
      "[LightGBM] [Info] Total Bins 775\n",
      "[LightGBM] [Info] Number of data points in the train set: 15148, number of used features: 357\n",
      "[LightGBM] [Info] [binary:BoostFromScore]: pavg=0.490560 -> initscore=-0.037765\n",
      "[LightGBM] [Info] Start training from score -0.037765\n",
      "[LightGBM] [Info] Number of positive: 7431, number of negative: 7718\n",
      "[LightGBM] [Info] Auto-choosing row-wise multi-threading, the overhead of testing was 0.031604 seconds.\n",
      "You can set `force_row_wise=true` to remove the overhead.\n",
      "And if memory is not enough, you can set `force_col_wise=true`.\n",
      "[LightGBM] [Info] Total Bins 765\n",
      "[LightGBM] [Info] Number of data points in the train set: 15149, number of used features: 350\n",
      "[LightGBM] [Info] [binary:BoostFromScore]: pavg=0.490527 -> initscore=-0.037895\n",
      "[LightGBM] [Info] Start training from score -0.037895\n",
      "[LightGBM] [Info] Number of positive: 7431, number of negative: 7718\n",
      "[LightGBM] [Info] Auto-choosing row-wise multi-threading, the overhead of testing was 0.032844 seconds.\n",
      "You can set `force_row_wise=true` to remove the overhead.\n",
      "And if memory is not enough, you can set `force_col_wise=true`.\n",
      "[LightGBM] [Info] Total Bins 776\n",
      "[LightGBM] [Info] Number of data points in the train set: 15149, number of used features: 353\n",
      "[LightGBM] [Info] [binary:BoostFromScore]: pavg=0.490527 -> initscore=-0.037895\n",
      "[LightGBM] [Info] Start training from score -0.037895\n",
      "[LightGBM] [Info] Number of positive: 7431, number of negative: 7718\n",
      "[LightGBM] [Info] Auto-choosing row-wise multi-threading, the overhead of testing was 0.031793 seconds.\n",
      "You can set `force_row_wise=true` to remove the overhead.\n",
      "And if memory is not enough, you can set `force_col_wise=true`.\n",
      "[LightGBM] [Info] Total Bins 780\n",
      "[LightGBM] [Info] Number of data points in the train set: 15149, number of used features: 355\n",
      "[LightGBM] [Info] [binary:BoostFromScore]: pavg=0.490527 -> initscore=-0.037895\n",
      "[LightGBM] [Info] Start training from score -0.037895\n",
      "[LightGBM] [Info] Number of positive: 7432, number of negative: 7717\n",
      "[LightGBM] [Info] Auto-choosing row-wise multi-threading, the overhead of testing was 0.031330 seconds.\n",
      "You can set `force_row_wise=true` to remove the overhead.\n",
      "And if memory is not enough, you can set `force_col_wise=true`.\n",
      "[LightGBM] [Info] Total Bins 764\n",
      "[LightGBM] [Info] Number of data points in the train set: 15149, number of used features: 349\n",
      "[LightGBM] [Info] [binary:BoostFromScore]: pavg=0.490593 -> initscore=-0.037631\n",
      "[LightGBM] [Info] Start training from score -0.037631\n",
      "[LightGBM] [Info] Number of positive: 7431, number of negative: 7717\n",
      "[LightGBM] [Info] Auto-choosing row-wise multi-threading, the overhead of testing was 0.032194 seconds.\n",
      "You can set `force_row_wise=true` to remove the overhead.\n",
      "And if memory is not enough, you can set `force_col_wise=true`.\n",
      "[LightGBM] [Info] Total Bins 775\n",
      "[LightGBM] [Info] Number of data points in the train set: 15148, number of used features: 357\n",
      "[LightGBM] [Info] [binary:BoostFromScore]: pavg=0.490560 -> initscore=-0.037765\n",
      "[LightGBM] [Info] Start training from score -0.037765\n",
      "[LightGBM] [Info] Number of positive: 7431, number of negative: 7718\n",
      "[LightGBM] [Info] Auto-choosing row-wise multi-threading, the overhead of testing was 0.030469 seconds.\n",
      "You can set `force_row_wise=true` to remove the overhead.\n",
      "And if memory is not enough, you can set `force_col_wise=true`.\n",
      "[LightGBM] [Info] Total Bins 765\n",
      "[LightGBM] [Info] Number of data points in the train set: 15149, number of used features: 350\n",
      "[LightGBM] [Info] [binary:BoostFromScore]: pavg=0.490527 -> initscore=-0.037895\n",
      "[LightGBM] [Info] Start training from score -0.037895\n",
      "[LightGBM] [Info] Number of positive: 7431, number of negative: 7718\n",
      "[LightGBM] [Info] Auto-choosing row-wise multi-threading, the overhead of testing was 0.032022 seconds.\n",
      "You can set `force_row_wise=true` to remove the overhead.\n",
      "And if memory is not enough, you can set `force_col_wise=true`.\n",
      "[LightGBM] [Info] Total Bins 776\n",
      "[LightGBM] [Info] Number of data points in the train set: 15149, number of used features: 353\n",
      "[LightGBM] [Info] [binary:BoostFromScore]: pavg=0.490527 -> initscore=-0.037895\n",
      "[LightGBM] [Info] Start training from score -0.037895\n",
      "[LightGBM] [Info] Number of positive: 7431, number of negative: 7718\n",
      "[LightGBM] [Info] Auto-choosing row-wise multi-threading, the overhead of testing was 0.033063 seconds.\n",
      "You can set `force_row_wise=true` to remove the overhead.\n",
      "And if memory is not enough, you can set `force_col_wise=true`.\n",
      "[LightGBM] [Info] Total Bins 780\n",
      "[LightGBM] [Info] Number of data points in the train set: 15149, number of used features: 355\n",
      "[LightGBM] [Info] [binary:BoostFromScore]: pavg=0.490527 -> initscore=-0.037895\n",
      "[LightGBM] [Info] Start training from score -0.037895\n",
      "[LightGBM] [Info] Number of positive: 7432, number of negative: 7717\n",
      "[LightGBM] [Info] Auto-choosing row-wise multi-threading, the overhead of testing was 0.031350 seconds.\n",
      "You can set `force_row_wise=true` to remove the overhead.\n",
      "And if memory is not enough, you can set `force_col_wise=true`.\n",
      "[LightGBM] [Info] Total Bins 764\n",
      "[LightGBM] [Info] Number of data points in the train set: 15149, number of used features: 349\n",
      "[LightGBM] [Info] [binary:BoostFromScore]: pavg=0.490593 -> initscore=-0.037631\n",
      "[LightGBM] [Info] Start training from score -0.037631\n",
      "[LightGBM] [Info] Number of positive: 7431, number of negative: 7717\n",
      "[LightGBM] [Info] Auto-choosing row-wise multi-threading, the overhead of testing was 0.032503 seconds.\n",
      "You can set `force_row_wise=true` to remove the overhead.\n",
      "And if memory is not enough, you can set `force_col_wise=true`.\n",
      "[LightGBM] [Info] Total Bins 775\n",
      "[LightGBM] [Info] Number of data points in the train set: 15148, number of used features: 357\n",
      "[LightGBM] [Info] [binary:BoostFromScore]: pavg=0.490560 -> initscore=-0.037765\n",
      "[LightGBM] [Info] Start training from score -0.037765\n",
      "[LightGBM] [Info] Number of positive: 7431, number of negative: 7718\n",
      "[LightGBM] [Info] Auto-choosing row-wise multi-threading, the overhead of testing was 0.033512 seconds.\n",
      "You can set `force_row_wise=true` to remove the overhead.\n",
      "And if memory is not enough, you can set `force_col_wise=true`.\n",
      "[LightGBM] [Info] Total Bins 765\n",
      "[LightGBM] [Info] Number of data points in the train set: 15149, number of used features: 350\n",
      "[LightGBM] [Info] [binary:BoostFromScore]: pavg=0.490527 -> initscore=-0.037895\n",
      "[LightGBM] [Info] Start training from score -0.037895\n",
      "[LightGBM] [Info] Number of positive: 7431, number of negative: 7718\n",
      "[LightGBM] [Info] Auto-choosing col-wise multi-threading, the overhead of testing was 0.031105 seconds.\n",
      "You can set `force_col_wise=true` to remove the overhead.\n",
      "[LightGBM] [Info] Total Bins 776\n",
      "[LightGBM] [Info] Number of data points in the train set: 15149, number of used features: 353\n",
      "[LightGBM] [Info] [binary:BoostFromScore]: pavg=0.490527 -> initscore=-0.037895\n",
      "[LightGBM] [Info] Start training from score -0.037895\n",
      "[LightGBM] [Info] Number of positive: 7431, number of negative: 7718\n",
      "[LightGBM] [Info] Auto-choosing row-wise multi-threading, the overhead of testing was 0.031645 seconds.\n",
      "You can set `force_row_wise=true` to remove the overhead.\n",
      "And if memory is not enough, you can set `force_col_wise=true`.\n",
      "[LightGBM] [Info] Total Bins 780\n",
      "[LightGBM] [Info] Number of data points in the train set: 15149, number of used features: 355\n",
      "[LightGBM] [Info] [binary:BoostFromScore]: pavg=0.490527 -> initscore=-0.037895\n",
      "[LightGBM] [Info] Start training from score -0.037895\n",
      "[LightGBM] [Info] Number of positive: 7432, number of negative: 7717\n",
      "[LightGBM] [Info] Auto-choosing row-wise multi-threading, the overhead of testing was 0.030989 seconds.\n",
      "You can set `force_row_wise=true` to remove the overhead.\n",
      "And if memory is not enough, you can set `force_col_wise=true`.\n",
      "[LightGBM] [Info] Total Bins 764\n",
      "[LightGBM] [Info] Number of data points in the train set: 15149, number of used features: 349\n",
      "[LightGBM] [Info] [binary:BoostFromScore]: pavg=0.490593 -> initscore=-0.037631\n",
      "[LightGBM] [Info] Start training from score -0.037631\n",
      "[LightGBM] [Info] Number of positive: 7431, number of negative: 7717\n",
      "[LightGBM] [Info] Auto-choosing row-wise multi-threading, the overhead of testing was 0.031862 seconds.\n",
      "You can set `force_row_wise=true` to remove the overhead.\n",
      "And if memory is not enough, you can set `force_col_wise=true`.\n",
      "[LightGBM] [Info] Total Bins 775\n",
      "[LightGBM] [Info] Number of data points in the train set: 15148, number of used features: 357\n",
      "[LightGBM] [Info] [binary:BoostFromScore]: pavg=0.490560 -> initscore=-0.037765\n",
      "[LightGBM] [Info] Start training from score -0.037765\n",
      "[LightGBM] [Info] Number of positive: 7431, number of negative: 7718\n",
      "[LightGBM] [Info] Auto-choosing row-wise multi-threading, the overhead of testing was 0.031042 seconds.\n",
      "You can set `force_row_wise=true` to remove the overhead.\n",
      "And if memory is not enough, you can set `force_col_wise=true`.\n",
      "[LightGBM] [Info] Total Bins 765\n",
      "[LightGBM] [Info] Number of data points in the train set: 15149, number of used features: 350\n",
      "[LightGBM] [Info] [binary:BoostFromScore]: pavg=0.490527 -> initscore=-0.037895\n",
      "[LightGBM] [Info] Start training from score -0.037895\n",
      "[LightGBM] [Info] Number of positive: 7431, number of negative: 7718\n",
      "[LightGBM] [Info] Auto-choosing row-wise multi-threading, the overhead of testing was 0.032270 seconds.\n",
      "You can set `force_row_wise=true` to remove the overhead.\n",
      "And if memory is not enough, you can set `force_col_wise=true`.\n",
      "[LightGBM] [Info] Total Bins 776\n",
      "[LightGBM] [Info] Number of data points in the train set: 15149, number of used features: 353\n",
      "[LightGBM] [Info] [binary:BoostFromScore]: pavg=0.490527 -> initscore=-0.037895\n",
      "[LightGBM] [Info] Start training from score -0.037895\n",
      "[LightGBM] [Info] Number of positive: 7431, number of negative: 7718\n",
      "[LightGBM] [Info] Auto-choosing row-wise multi-threading, the overhead of testing was 0.031373 seconds.\n",
      "You can set `force_row_wise=true` to remove the overhead.\n",
      "And if memory is not enough, you can set `force_col_wise=true`.\n",
      "[LightGBM] [Info] Total Bins 780\n",
      "[LightGBM] [Info] Number of data points in the train set: 15149, number of used features: 355\n",
      "[LightGBM] [Info] [binary:BoostFromScore]: pavg=0.490527 -> initscore=-0.037895\n",
      "[LightGBM] [Info] Start training from score -0.037895\n",
      "[LightGBM] [Info] Number of positive: 7432, number of negative: 7717\n",
      "[LightGBM] [Info] Auto-choosing col-wise multi-threading, the overhead of testing was 0.031499 seconds.\n",
      "You can set `force_col_wise=true` to remove the overhead.\n",
      "[LightGBM] [Info] Total Bins 764\n",
      "[LightGBM] [Info] Number of data points in the train set: 15149, number of used features: 349\n",
      "[LightGBM] [Info] [binary:BoostFromScore]: pavg=0.490593 -> initscore=-0.037631\n",
      "[LightGBM] [Info] Start training from score -0.037631\n",
      "[LightGBM] [Info] Number of positive: 7431, number of negative: 7717\n",
      "[LightGBM] [Info] Auto-choosing col-wise multi-threading, the overhead of testing was 0.031832 seconds.\n",
      "You can set `force_col_wise=true` to remove the overhead.\n",
      "[LightGBM] [Info] Total Bins 775\n",
      "[LightGBM] [Info] Number of data points in the train set: 15148, number of used features: 357\n",
      "[LightGBM] [Info] [binary:BoostFromScore]: pavg=0.490560 -> initscore=-0.037765\n",
      "[LightGBM] [Info] Start training from score -0.037765\n",
      "[LightGBM] [Info] Number of positive: 7431, number of negative: 7718\n",
      "[LightGBM] [Info] Auto-choosing row-wise multi-threading, the overhead of testing was 0.031130 seconds.\n",
      "You can set `force_row_wise=true` to remove the overhead.\n",
      "And if memory is not enough, you can set `force_col_wise=true`.\n",
      "[LightGBM] [Info] Total Bins 765\n",
      "[LightGBM] [Info] Number of data points in the train set: 15149, number of used features: 350\n",
      "[LightGBM] [Info] [binary:BoostFromScore]: pavg=0.490527 -> initscore=-0.037895\n",
      "[LightGBM] [Info] Start training from score -0.037895\n",
      "[LightGBM] [Info] Number of positive: 7431, number of negative: 7718\n",
      "[LightGBM] [Info] Auto-choosing row-wise multi-threading, the overhead of testing was 0.031665 seconds.\n",
      "You can set `force_row_wise=true` to remove the overhead.\n",
      "And if memory is not enough, you can set `force_col_wise=true`.\n",
      "[LightGBM] [Info] Total Bins 776\n",
      "[LightGBM] [Info] Number of data points in the train set: 15149, number of used features: 353\n",
      "[LightGBM] [Info] [binary:BoostFromScore]: pavg=0.490527 -> initscore=-0.037895\n",
      "[LightGBM] [Info] Start training from score -0.037895\n",
      "[LightGBM] [Info] Number of positive: 7431, number of negative: 7718\n",
      "[LightGBM] [Info] Auto-choosing row-wise multi-threading, the overhead of testing was 0.031929 seconds.\n",
      "You can set `force_row_wise=true` to remove the overhead.\n",
      "And if memory is not enough, you can set `force_col_wise=true`.\n",
      "[LightGBM] [Info] Total Bins 780\n",
      "[LightGBM] [Info] Number of data points in the train set: 15149, number of used features: 355\n",
      "[LightGBM] [Info] [binary:BoostFromScore]: pavg=0.490527 -> initscore=-0.037895\n",
      "[LightGBM] [Info] Start training from score -0.037895\n",
      "[LightGBM] [Info] Number of positive: 7432, number of negative: 7717\n",
      "[LightGBM] [Info] Auto-choosing row-wise multi-threading, the overhead of testing was 0.031479 seconds.\n",
      "You can set `force_row_wise=true` to remove the overhead.\n",
      "And if memory is not enough, you can set `force_col_wise=true`.\n",
      "[LightGBM] [Info] Total Bins 764\n",
      "[LightGBM] [Info] Number of data points in the train set: 15149, number of used features: 349\n",
      "[LightGBM] [Info] [binary:BoostFromScore]: pavg=0.490593 -> initscore=-0.037631\n",
      "[LightGBM] [Info] Start training from score -0.037631\n",
      "[LightGBM] [Info] Number of positive: 7431, number of negative: 7717\n",
      "[LightGBM] [Info] Auto-choosing row-wise multi-threading, the overhead of testing was 0.031842 seconds.\n",
      "You can set `force_row_wise=true` to remove the overhead.\n",
      "And if memory is not enough, you can set `force_col_wise=true`.\n",
      "[LightGBM] [Info] Total Bins 775\n",
      "[LightGBM] [Info] Number of data points in the train set: 15148, number of used features: 357\n",
      "[LightGBM] [Info] [binary:BoostFromScore]: pavg=0.490560 -> initscore=-0.037765\n",
      "[LightGBM] [Info] Start training from score -0.037765\n",
      "[LightGBM] [Info] Number of positive: 7431, number of negative: 7718\n",
      "[LightGBM] [Info] Auto-choosing row-wise multi-threading, the overhead of testing was 0.031222 seconds.\n",
      "You can set `force_row_wise=true` to remove the overhead.\n",
      "And if memory is not enough, you can set `force_col_wise=true`.\n",
      "[LightGBM] [Info] Total Bins 765\n",
      "[LightGBM] [Info] Number of data points in the train set: 15149, number of used features: 350\n",
      "[LightGBM] [Info] [binary:BoostFromScore]: pavg=0.490527 -> initscore=-0.037895\n",
      "[LightGBM] [Info] Start training from score -0.037895\n",
      "[LightGBM] [Info] Number of positive: 7431, number of negative: 7718\n",
      "[LightGBM] [Info] Auto-choosing row-wise multi-threading, the overhead of testing was 0.031770 seconds.\n",
      "You can set `force_row_wise=true` to remove the overhead.\n",
      "And if memory is not enough, you can set `force_col_wise=true`.\n",
      "[LightGBM] [Info] Total Bins 776\n",
      "[LightGBM] [Info] Number of data points in the train set: 15149, number of used features: 353\n",
      "[LightGBM] [Info] [binary:BoostFromScore]: pavg=0.490527 -> initscore=-0.037895\n",
      "[LightGBM] [Info] Start training from score -0.037895\n",
      "[LightGBM] [Info] Number of positive: 7431, number of negative: 7718\n",
      "[LightGBM] [Info] Auto-choosing row-wise multi-threading, the overhead of testing was 0.031790 seconds.\n",
      "You can set `force_row_wise=true` to remove the overhead.\n",
      "And if memory is not enough, you can set `force_col_wise=true`.\n",
      "[LightGBM] [Info] Total Bins 780\n",
      "[LightGBM] [Info] Number of data points in the train set: 15149, number of used features: 355\n",
      "[LightGBM] [Info] [binary:BoostFromScore]: pavg=0.490527 -> initscore=-0.037895\n",
      "[LightGBM] [Info] Start training from score -0.037895\n",
      "[LightGBM] [Info] Number of positive: 7432, number of negative: 7717\n",
      "[LightGBM] [Info] Auto-choosing col-wise multi-threading, the overhead of testing was 0.031251 seconds.\n",
      "You can set `force_col_wise=true` to remove the overhead.\n",
      "[LightGBM] [Info] Total Bins 764\n",
      "[LightGBM] [Info] Number of data points in the train set: 15149, number of used features: 349\n",
      "[LightGBM] [Info] [binary:BoostFromScore]: pavg=0.490593 -> initscore=-0.037631\n",
      "[LightGBM] [Info] Start training from score -0.037631\n",
      "[LightGBM] [Info] Number of positive: 7431, number of negative: 7717\n",
      "[LightGBM] [Info] Auto-choosing row-wise multi-threading, the overhead of testing was 0.031442 seconds.\n",
      "You can set `force_row_wise=true` to remove the overhead.\n",
      "And if memory is not enough, you can set `force_col_wise=true`.\n",
      "[LightGBM] [Info] Total Bins 775\n",
      "[LightGBM] [Info] Number of data points in the train set: 15148, number of used features: 357\n",
      "[LightGBM] [Info] [binary:BoostFromScore]: pavg=0.490560 -> initscore=-0.037765\n",
      "[LightGBM] [Info] Start training from score -0.037765\n",
      "[LightGBM] [Info] Number of positive: 7431, number of negative: 7718\n",
      "[LightGBM] [Info] Auto-choosing row-wise multi-threading, the overhead of testing was 0.031337 seconds.\n",
      "You can set `force_row_wise=true` to remove the overhead.\n",
      "And if memory is not enough, you can set `force_col_wise=true`.\n",
      "[LightGBM] [Info] Total Bins 765\n",
      "[LightGBM] [Info] Number of data points in the train set: 15149, number of used features: 350\n",
      "[LightGBM] [Info] [binary:BoostFromScore]: pavg=0.490527 -> initscore=-0.037895\n",
      "[LightGBM] [Info] Start training from score -0.037895\n",
      "[LightGBM] [Info] Number of positive: 7431, number of negative: 7718\n",
      "[LightGBM] [Info] Auto-choosing row-wise multi-threading, the overhead of testing was 0.031459 seconds.\n",
      "You can set `force_row_wise=true` to remove the overhead.\n",
      "And if memory is not enough, you can set `force_col_wise=true`.\n",
      "[LightGBM] [Info] Total Bins 776\n",
      "[LightGBM] [Info] Number of data points in the train set: 15149, number of used features: 353\n",
      "[LightGBM] [Info] [binary:BoostFromScore]: pavg=0.490527 -> initscore=-0.037895\n",
      "[LightGBM] [Info] Start training from score -0.037895\n",
      "[LightGBM] [Info] Number of positive: 7431, number of negative: 7718\n",
      "[LightGBM] [Info] Auto-choosing row-wise multi-threading, the overhead of testing was 0.036439 seconds.\n",
      "You can set `force_row_wise=true` to remove the overhead.\n",
      "And if memory is not enough, you can set `force_col_wise=true`.\n",
      "[LightGBM] [Info] Total Bins 780\n",
      "[LightGBM] [Info] Number of data points in the train set: 15149, number of used features: 355\n",
      "[LightGBM] [Info] [binary:BoostFromScore]: pavg=0.490527 -> initscore=-0.037895\n",
      "[LightGBM] [Info] Start training from score -0.037895\n",
      "[LightGBM] [Info] Number of positive: 7432, number of negative: 7717\n",
      "[LightGBM] [Info] Auto-choosing row-wise multi-threading, the overhead of testing was 0.030535 seconds.\n",
      "You can set `force_row_wise=true` to remove the overhead.\n",
      "And if memory is not enough, you can set `force_col_wise=true`.\n",
      "[LightGBM] [Info] Total Bins 764\n",
      "[LightGBM] [Info] Number of data points in the train set: 15149, number of used features: 349\n",
      "[LightGBM] [Info] [binary:BoostFromScore]: pavg=0.490593 -> initscore=-0.037631\n",
      "[LightGBM] [Info] Start training from score -0.037631\n",
      "[LightGBM] [Info] Number of positive: 7431, number of negative: 7717\n",
      "[LightGBM] [Info] Auto-choosing row-wise multi-threading, the overhead of testing was 0.032850 seconds.\n",
      "You can set `force_row_wise=true` to remove the overhead.\n",
      "And if memory is not enough, you can set `force_col_wise=true`.\n",
      "[LightGBM] [Info] Total Bins 775\n",
      "[LightGBM] [Info] Number of data points in the train set: 15148, number of used features: 357\n",
      "[LightGBM] [Info] [binary:BoostFromScore]: pavg=0.490560 -> initscore=-0.037765\n",
      "[LightGBM] [Info] Start training from score -0.037765\n",
      "[LightGBM] [Info] Number of positive: 7431, number of negative: 7718\n",
      "[LightGBM] [Info] Auto-choosing col-wise multi-threading, the overhead of testing was 0.031277 seconds.\n",
      "You can set `force_col_wise=true` to remove the overhead.\n",
      "[LightGBM] [Info] Total Bins 765\n",
      "[LightGBM] [Info] Number of data points in the train set: 15149, number of used features: 350\n",
      "[LightGBM] [Info] [binary:BoostFromScore]: pavg=0.490527 -> initscore=-0.037895\n",
      "[LightGBM] [Info] Start training from score -0.037895\n",
      "[LightGBM] [Info] Number of positive: 7431, number of negative: 7718\n",
      "[LightGBM] [Info] Auto-choosing row-wise multi-threading, the overhead of testing was 0.031737 seconds.\n",
      "You can set `force_row_wise=true` to remove the overhead.\n",
      "And if memory is not enough, you can set `force_col_wise=true`.\n",
      "[LightGBM] [Info] Total Bins 776\n",
      "[LightGBM] [Info] Number of data points in the train set: 15149, number of used features: 353\n",
      "[LightGBM] [Info] [binary:BoostFromScore]: pavg=0.490527 -> initscore=-0.037895\n",
      "[LightGBM] [Info] Start training from score -0.037895\n",
      "[LightGBM] [Info] Number of positive: 7431, number of negative: 7718\n",
      "[LightGBM] [Info] Auto-choosing row-wise multi-threading, the overhead of testing was 0.031565 seconds.\n",
      "You can set `force_row_wise=true` to remove the overhead.\n",
      "And if memory is not enough, you can set `force_col_wise=true`.\n",
      "[LightGBM] [Info] Total Bins 780\n",
      "[LightGBM] [Info] Number of data points in the train set: 15149, number of used features: 355\n",
      "[LightGBM] [Info] [binary:BoostFromScore]: pavg=0.490527 -> initscore=-0.037895\n",
      "[LightGBM] [Info] Start training from score -0.037895\n",
      "[LightGBM] [Info] Number of positive: 7432, number of negative: 7717\n",
      "[LightGBM] [Info] Auto-choosing row-wise multi-threading, the overhead of testing was 0.031175 seconds.\n",
      "You can set `force_row_wise=true` to remove the overhead.\n",
      "And if memory is not enough, you can set `force_col_wise=true`.\n",
      "[LightGBM] [Info] Total Bins 764\n",
      "[LightGBM] [Info] Number of data points in the train set: 15149, number of used features: 349\n",
      "[LightGBM] [Info] [binary:BoostFromScore]: pavg=0.490593 -> initscore=-0.037631\n",
      "[LightGBM] [Info] Start training from score -0.037631\n",
      "[LightGBM] [Info] Number of positive: 7431, number of negative: 7717\n",
      "[LightGBM] [Info] Auto-choosing row-wise multi-threading, the overhead of testing was 0.032276 seconds.\n",
      "You can set `force_row_wise=true` to remove the overhead.\n",
      "And if memory is not enough, you can set `force_col_wise=true`.\n",
      "[LightGBM] [Info] Total Bins 775\n",
      "[LightGBM] [Info] Number of data points in the train set: 15148, number of used features: 357\n",
      "[LightGBM] [Info] [binary:BoostFromScore]: pavg=0.490560 -> initscore=-0.037765\n",
      "[LightGBM] [Info] Start training from score -0.037765\n",
      "[LightGBM] [Info] Number of positive: 7431, number of negative: 7718\n",
      "[LightGBM] [Info] Auto-choosing row-wise multi-threading, the overhead of testing was 0.030521 seconds.\n",
      "You can set `force_row_wise=true` to remove the overhead.\n",
      "And if memory is not enough, you can set `force_col_wise=true`.\n",
      "[LightGBM] [Info] Total Bins 765\n",
      "[LightGBM] [Info] Number of data points in the train set: 15149, number of used features: 350\n",
      "[LightGBM] [Info] [binary:BoostFromScore]: pavg=0.490527 -> initscore=-0.037895\n",
      "[LightGBM] [Info] Start training from score -0.037895\n",
      "[LightGBM] [Info] Number of positive: 7431, number of negative: 7718\n",
      "[LightGBM] [Info] Auto-choosing row-wise multi-threading, the overhead of testing was 0.032072 seconds.\n",
      "You can set `force_row_wise=true` to remove the overhead.\n",
      "And if memory is not enough, you can set `force_col_wise=true`.\n",
      "[LightGBM] [Info] Total Bins 776\n",
      "[LightGBM] [Info] Number of data points in the train set: 15149, number of used features: 353\n",
      "[LightGBM] [Info] [binary:BoostFromScore]: pavg=0.490527 -> initscore=-0.037895\n",
      "[LightGBM] [Info] Start training from score -0.037895\n",
      "[LightGBM] [Info] Number of positive: 7431, number of negative: 7718\n",
      "[LightGBM] [Info] Auto-choosing row-wise multi-threading, the overhead of testing was 0.031771 seconds.\n",
      "You can set `force_row_wise=true` to remove the overhead.\n",
      "And if memory is not enough, you can set `force_col_wise=true`.\n",
      "[LightGBM] [Info] Total Bins 780\n",
      "[LightGBM] [Info] Number of data points in the train set: 15149, number of used features: 355\n",
      "[LightGBM] [Info] [binary:BoostFromScore]: pavg=0.490527 -> initscore=-0.037895\n",
      "[LightGBM] [Info] Start training from score -0.037895\n",
      "[LightGBM] [Info] Number of positive: 7432, number of negative: 7717\n",
      "[LightGBM] [Info] Auto-choosing col-wise multi-threading, the overhead of testing was 0.030021 seconds.\n",
      "You can set `force_col_wise=true` to remove the overhead.\n",
      "[LightGBM] [Info] Total Bins 764\n",
      "[LightGBM] [Info] Number of data points in the train set: 15149, number of used features: 349\n",
      "[LightGBM] [Info] [binary:BoostFromScore]: pavg=0.490593 -> initscore=-0.037631\n",
      "[LightGBM] [Info] Start training from score -0.037631\n",
      "[LightGBM] [Info] Number of positive: 7431, number of negative: 7717\n",
      "[LightGBM] [Info] Auto-choosing row-wise multi-threading, the overhead of testing was 0.032003 seconds.\n",
      "You can set `force_row_wise=true` to remove the overhead.\n",
      "And if memory is not enough, you can set `force_col_wise=true`.\n",
      "[LightGBM] [Info] Total Bins 775\n",
      "[LightGBM] [Info] Number of data points in the train set: 15148, number of used features: 357\n",
      "[LightGBM] [Info] [binary:BoostFromScore]: pavg=0.490560 -> initscore=-0.037765\n",
      "[LightGBM] [Info] Start training from score -0.037765\n",
      "[LightGBM] [Info] Number of positive: 7431, number of negative: 7718\n",
      "[LightGBM] [Info] Auto-choosing row-wise multi-threading, the overhead of testing was 0.030977 seconds.\n",
      "You can set `force_row_wise=true` to remove the overhead.\n",
      "And if memory is not enough, you can set `force_col_wise=true`.\n",
      "[LightGBM] [Info] Total Bins 765\n",
      "[LightGBM] [Info] Number of data points in the train set: 15149, number of used features: 350\n",
      "[LightGBM] [Info] [binary:BoostFromScore]: pavg=0.490527 -> initscore=-0.037895\n",
      "[LightGBM] [Info] Start training from score -0.037895\n",
      "[LightGBM] [Info] Number of positive: 7431, number of negative: 7718\n",
      "[LightGBM] [Info] Auto-choosing row-wise multi-threading, the overhead of testing was 0.030679 seconds.\n",
      "You can set `force_row_wise=true` to remove the overhead.\n",
      "And if memory is not enough, you can set `force_col_wise=true`.\n",
      "[LightGBM] [Info] Total Bins 776\n",
      "[LightGBM] [Info] Number of data points in the train set: 15149, number of used features: 353\n",
      "[LightGBM] [Info] [binary:BoostFromScore]: pavg=0.490527 -> initscore=-0.037895\n",
      "[LightGBM] [Info] Start training from score -0.037895\n",
      "[LightGBM] [Info] Number of positive: 7431, number of negative: 7718\n",
      "[LightGBM] [Info] Auto-choosing row-wise multi-threading, the overhead of testing was 0.031117 seconds.\n",
      "You can set `force_row_wise=true` to remove the overhead.\n",
      "And if memory is not enough, you can set `force_col_wise=true`.\n",
      "[LightGBM] [Info] Total Bins 780\n",
      "[LightGBM] [Info] Number of data points in the train set: 15149, number of used features: 355\n",
      "[LightGBM] [Info] [binary:BoostFromScore]: pavg=0.490527 -> initscore=-0.037895\n",
      "[LightGBM] [Info] Start training from score -0.037895\n",
      "[LightGBM] [Info] Number of positive: 7432, number of negative: 7717\n",
      "[LightGBM] [Info] Auto-choosing row-wise multi-threading, the overhead of testing was 0.030847 seconds.\n",
      "You can set `force_row_wise=true` to remove the overhead.\n",
      "And if memory is not enough, you can set `force_col_wise=true`.\n",
      "[LightGBM] [Info] Total Bins 764\n",
      "[LightGBM] [Info] Number of data points in the train set: 15149, number of used features: 349\n",
      "[LightGBM] [Info] [binary:BoostFromScore]: pavg=0.490593 -> initscore=-0.037631\n",
      "[LightGBM] [Info] Start training from score -0.037631\n",
      "[LightGBM] [Info] Number of positive: 7431, number of negative: 7717\n",
      "[LightGBM] [Info] Auto-choosing row-wise multi-threading, the overhead of testing was 0.031939 seconds.\n",
      "You can set `force_row_wise=true` to remove the overhead.\n",
      "And if memory is not enough, you can set `force_col_wise=true`.\n",
      "[LightGBM] [Info] Total Bins 775\n",
      "[LightGBM] [Info] Number of data points in the train set: 15148, number of used features: 357\n",
      "[LightGBM] [Info] [binary:BoostFromScore]: pavg=0.490560 -> initscore=-0.037765\n",
      "[LightGBM] [Info] Start training from score -0.037765\n",
      "[LightGBM] [Info] Number of positive: 7431, number of negative: 7718\n",
      "[LightGBM] [Info] Auto-choosing row-wise multi-threading, the overhead of testing was 0.031453 seconds.\n",
      "You can set `force_row_wise=true` to remove the overhead.\n",
      "And if memory is not enough, you can set `force_col_wise=true`.\n",
      "[LightGBM] [Info] Total Bins 765\n",
      "[LightGBM] [Info] Number of data points in the train set: 15149, number of used features: 350\n",
      "[LightGBM] [Info] [binary:BoostFromScore]: pavg=0.490527 -> initscore=-0.037895\n",
      "[LightGBM] [Info] Start training from score -0.037895\n",
      "[LightGBM] [Info] Number of positive: 7431, number of negative: 7718\n",
      "[LightGBM] [Info] Auto-choosing row-wise multi-threading, the overhead of testing was 0.031858 seconds.\n",
      "You can set `force_row_wise=true` to remove the overhead.\n",
      "And if memory is not enough, you can set `force_col_wise=true`.\n",
      "[LightGBM] [Info] Total Bins 776\n",
      "[LightGBM] [Info] Number of data points in the train set: 15149, number of used features: 353\n",
      "[LightGBM] [Info] [binary:BoostFromScore]: pavg=0.490527 -> initscore=-0.037895\n",
      "[LightGBM] [Info] Start training from score -0.037895\n",
      "[LightGBM] [Info] Number of positive: 7431, number of negative: 7718\n",
      "[LightGBM] [Info] Auto-choosing row-wise multi-threading, the overhead of testing was 0.032578 seconds.\n",
      "You can set `force_row_wise=true` to remove the overhead.\n",
      "And if memory is not enough, you can set `force_col_wise=true`.\n",
      "[LightGBM] [Info] Total Bins 780\n",
      "[LightGBM] [Info] Number of data points in the train set: 15149, number of used features: 355\n",
      "[LightGBM] [Info] [binary:BoostFromScore]: pavg=0.490527 -> initscore=-0.037895\n",
      "[LightGBM] [Info] Start training from score -0.037895\n",
      "[LightGBM] [Info] Number of positive: 7432, number of negative: 7717\n",
      "[LightGBM] [Info] Auto-choosing row-wise multi-threading, the overhead of testing was 0.031609 seconds.\n",
      "You can set `force_row_wise=true` to remove the overhead.\n",
      "And if memory is not enough, you can set `force_col_wise=true`.\n",
      "[LightGBM] [Info] Total Bins 764\n",
      "[LightGBM] [Info] Number of data points in the train set: 15149, number of used features: 349\n",
      "[LightGBM] [Info] [binary:BoostFromScore]: pavg=0.490593 -> initscore=-0.037631\n",
      "[LightGBM] [Info] Start training from score -0.037631\n",
      "[LightGBM] [Info] Number of positive: 7431, number of negative: 7717\n",
      "[LightGBM] [Info] Auto-choosing row-wise multi-threading, the overhead of testing was 0.035255 seconds.\n",
      "You can set `force_row_wise=true` to remove the overhead.\n",
      "And if memory is not enough, you can set `force_col_wise=true`.\n",
      "[LightGBM] [Info] Total Bins 775\n",
      "[LightGBM] [Info] Number of data points in the train set: 15148, number of used features: 357\n",
      "[LightGBM] [Info] [binary:BoostFromScore]: pavg=0.490560 -> initscore=-0.037765\n",
      "[LightGBM] [Info] Start training from score -0.037765\n",
      "[LightGBM] [Info] Number of positive: 7431, number of negative: 7718\n",
      "[LightGBM] [Info] Auto-choosing row-wise multi-threading, the overhead of testing was 0.031150 seconds.\n",
      "You can set `force_row_wise=true` to remove the overhead.\n",
      "And if memory is not enough, you can set `force_col_wise=true`.\n",
      "[LightGBM] [Info] Total Bins 765\n",
      "[LightGBM] [Info] Number of data points in the train set: 15149, number of used features: 350\n",
      "[LightGBM] [Info] [binary:BoostFromScore]: pavg=0.490527 -> initscore=-0.037895\n",
      "[LightGBM] [Info] Start training from score -0.037895\n",
      "[LightGBM] [Info] Number of positive: 7431, number of negative: 7718\n",
      "[LightGBM] [Info] Auto-choosing row-wise multi-threading, the overhead of testing was 0.031524 seconds.\n",
      "You can set `force_row_wise=true` to remove the overhead.\n",
      "And if memory is not enough, you can set `force_col_wise=true`.\n",
      "[LightGBM] [Info] Total Bins 776\n",
      "[LightGBM] [Info] Number of data points in the train set: 15149, number of used features: 353\n",
      "[LightGBM] [Info] [binary:BoostFromScore]: pavg=0.490527 -> initscore=-0.037895\n",
      "[LightGBM] [Info] Start training from score -0.037895\n",
      "[LightGBM] [Info] Number of positive: 7431, number of negative: 7718\n",
      "[LightGBM] [Info] Auto-choosing row-wise multi-threading, the overhead of testing was 0.031649 seconds.\n",
      "You can set `force_row_wise=true` to remove the overhead.\n",
      "And if memory is not enough, you can set `force_col_wise=true`.\n",
      "[LightGBM] [Info] Total Bins 780\n",
      "[LightGBM] [Info] Number of data points in the train set: 15149, number of used features: 355\n",
      "[LightGBM] [Info] [binary:BoostFromScore]: pavg=0.490527 -> initscore=-0.037895\n",
      "[LightGBM] [Info] Start training from score -0.037895\n",
      "[LightGBM] [Info] Number of positive: 7432, number of negative: 7717\n",
      "[LightGBM] [Info] Auto-choosing row-wise multi-threading, the overhead of testing was 0.031176 seconds.\n",
      "You can set `force_row_wise=true` to remove the overhead.\n",
      "And if memory is not enough, you can set `force_col_wise=true`.\n",
      "[LightGBM] [Info] Total Bins 764\n",
      "[LightGBM] [Info] Number of data points in the train set: 15149, number of used features: 349\n",
      "[LightGBM] [Info] [binary:BoostFromScore]: pavg=0.490593 -> initscore=-0.037631\n",
      "[LightGBM] [Info] Start training from score -0.037631\n",
      "[LightGBM] [Info] Number of positive: 7431, number of negative: 7717\n",
      "[LightGBM] [Info] Auto-choosing row-wise multi-threading, the overhead of testing was 0.031929 seconds.\n",
      "You can set `force_row_wise=true` to remove the overhead.\n",
      "And if memory is not enough, you can set `force_col_wise=true`.\n",
      "[LightGBM] [Info] Total Bins 775\n",
      "[LightGBM] [Info] Number of data points in the train set: 15148, number of used features: 357\n",
      "[LightGBM] [Info] [binary:BoostFromScore]: pavg=0.490560 -> initscore=-0.037765\n",
      "[LightGBM] [Info] Start training from score -0.037765\n",
      "[LightGBM] [Info] Number of positive: 7431, number of negative: 7718\n",
      "[LightGBM] [Info] Auto-choosing row-wise multi-threading, the overhead of testing was 0.031902 seconds.\n",
      "You can set `force_row_wise=true` to remove the overhead.\n",
      "And if memory is not enough, you can set `force_col_wise=true`.\n",
      "[LightGBM] [Info] Total Bins 765\n",
      "[LightGBM] [Info] Number of data points in the train set: 15149, number of used features: 350\n",
      "[LightGBM] [Info] [binary:BoostFromScore]: pavg=0.490527 -> initscore=-0.037895\n",
      "[LightGBM] [Info] Start training from score -0.037895\n",
      "[LightGBM] [Info] Number of positive: 7431, number of negative: 7718\n",
      "[LightGBM] [Info] Auto-choosing row-wise multi-threading, the overhead of testing was 0.031810 seconds.\n",
      "You can set `force_row_wise=true` to remove the overhead.\n",
      "And if memory is not enough, you can set `force_col_wise=true`.\n",
      "[LightGBM] [Info] Total Bins 776\n",
      "[LightGBM] [Info] Number of data points in the train set: 15149, number of used features: 353\n",
      "[LightGBM] [Info] [binary:BoostFromScore]: pavg=0.490527 -> initscore=-0.037895\n",
      "[LightGBM] [Info] Start training from score -0.037895\n",
      "[LightGBM] [Info] Number of positive: 7431, number of negative: 7718\n",
      "[LightGBM] [Info] Auto-choosing row-wise multi-threading, the overhead of testing was 0.032722 seconds.\n",
      "You can set `force_row_wise=true` to remove the overhead.\n",
      "And if memory is not enough, you can set `force_col_wise=true`.\n",
      "[LightGBM] [Info] Total Bins 780\n",
      "[LightGBM] [Info] Number of data points in the train set: 15149, number of used features: 355\n",
      "[LightGBM] [Info] [binary:BoostFromScore]: pavg=0.490527 -> initscore=-0.037895\n",
      "[LightGBM] [Info] Start training from score -0.037895\n",
      "[LightGBM] [Info] Number of positive: 7432, number of negative: 7717\n",
      "[LightGBM] [Info] Auto-choosing row-wise multi-threading, the overhead of testing was 0.031575 seconds.\n",
      "You can set `force_row_wise=true` to remove the overhead.\n",
      "And if memory is not enough, you can set `force_col_wise=true`.\n",
      "[LightGBM] [Info] Total Bins 764\n",
      "[LightGBM] [Info] Number of data points in the train set: 15149, number of used features: 349\n",
      "[LightGBM] [Info] [binary:BoostFromScore]: pavg=0.490593 -> initscore=-0.037631\n",
      "[LightGBM] [Info] Start training from score -0.037631\n",
      "[LightGBM] [Info] Number of positive: 7431, number of negative: 7717\n",
      "[LightGBM] [Info] Auto-choosing row-wise multi-threading, the overhead of testing was 0.046040 seconds.\n",
      "You can set `force_row_wise=true` to remove the overhead.\n",
      "And if memory is not enough, you can set `force_col_wise=true`.\n",
      "[LightGBM] [Info] Total Bins 775\n",
      "[LightGBM] [Info] Number of data points in the train set: 15148, number of used features: 357\n",
      "[LightGBM] [Info] [binary:BoostFromScore]: pavg=0.490560 -> initscore=-0.037765\n",
      "[LightGBM] [Info] Start training from score -0.037765\n",
      "[LightGBM] [Info] Number of positive: 7431, number of negative: 7718\n",
      "[LightGBM] [Info] Auto-choosing row-wise multi-threading, the overhead of testing was 0.032395 seconds.\n",
      "You can set `force_row_wise=true` to remove the overhead.\n",
      "And if memory is not enough, you can set `force_col_wise=true`.\n",
      "[LightGBM] [Info] Total Bins 765\n",
      "[LightGBM] [Info] Number of data points in the train set: 15149, number of used features: 350\n",
      "[LightGBM] [Info] [binary:BoostFromScore]: pavg=0.490527 -> initscore=-0.037895\n",
      "[LightGBM] [Info] Start training from score -0.037895\n",
      "[LightGBM] [Info] Number of positive: 7431, number of negative: 7718\n",
      "[LightGBM] [Info] Auto-choosing row-wise multi-threading, the overhead of testing was 0.032534 seconds.\n",
      "You can set `force_row_wise=true` to remove the overhead.\n",
      "And if memory is not enough, you can set `force_col_wise=true`.\n",
      "[LightGBM] [Info] Total Bins 776\n",
      "[LightGBM] [Info] Number of data points in the train set: 15149, number of used features: 353\n",
      "[LightGBM] [Info] [binary:BoostFromScore]: pavg=0.490527 -> initscore=-0.037895\n",
      "[LightGBM] [Info] Start training from score -0.037895\n",
      "[LightGBM] [Info] Number of positive: 7431, number of negative: 7718\n",
      "[LightGBM] [Info] Auto-choosing row-wise multi-threading, the overhead of testing was 0.031786 seconds.\n",
      "You can set `force_row_wise=true` to remove the overhead.\n",
      "And if memory is not enough, you can set `force_col_wise=true`.\n",
      "[LightGBM] [Info] Total Bins 780\n",
      "[LightGBM] [Info] Number of data points in the train set: 15149, number of used features: 355\n",
      "[LightGBM] [Info] [binary:BoostFromScore]: pavg=0.490527 -> initscore=-0.037895\n",
      "[LightGBM] [Info] Start training from score -0.037895\n",
      "[LightGBM] [Info] Number of positive: 7432, number of negative: 7717\n",
      "[LightGBM] [Info] Auto-choosing row-wise multi-threading, the overhead of testing was 0.031593 seconds.\n",
      "You can set `force_row_wise=true` to remove the overhead.\n",
      "And if memory is not enough, you can set `force_col_wise=true`.\n",
      "[LightGBM] [Info] Total Bins 764\n",
      "[LightGBM] [Info] Number of data points in the train set: 15149, number of used features: 349\n",
      "[LightGBM] [Info] [binary:BoostFromScore]: pavg=0.490593 -> initscore=-0.037631\n",
      "[LightGBM] [Info] Start training from score -0.037631\n",
      "[LightGBM] [Info] Number of positive: 7431, number of negative: 7717\n",
      "[LightGBM] [Info] Auto-choosing col-wise multi-threading, the overhead of testing was 0.031306 seconds.\n",
      "You can set `force_col_wise=true` to remove the overhead.\n",
      "[LightGBM] [Info] Total Bins 775\n",
      "[LightGBM] [Info] Number of data points in the train set: 15148, number of used features: 357\n",
      "[LightGBM] [Info] [binary:BoostFromScore]: pavg=0.490560 -> initscore=-0.037765\n",
      "[LightGBM] [Info] Start training from score -0.037765\n",
      "[LightGBM] [Info] Number of positive: 7431, number of negative: 7718\n",
      "[LightGBM] [Info] Auto-choosing row-wise multi-threading, the overhead of testing was 0.031397 seconds.\n",
      "You can set `force_row_wise=true` to remove the overhead.\n",
      "And if memory is not enough, you can set `force_col_wise=true`.\n",
      "[LightGBM] [Info] Total Bins 765\n",
      "[LightGBM] [Info] Number of data points in the train set: 15149, number of used features: 350\n",
      "[LightGBM] [Info] [binary:BoostFromScore]: pavg=0.490527 -> initscore=-0.037895\n",
      "[LightGBM] [Info] Start training from score -0.037895\n",
      "[LightGBM] [Info] Number of positive: 7431, number of negative: 7718\n",
      "[LightGBM] [Info] Auto-choosing row-wise multi-threading, the overhead of testing was 0.031513 seconds.\n",
      "You can set `force_row_wise=true` to remove the overhead.\n",
      "And if memory is not enough, you can set `force_col_wise=true`.\n",
      "[LightGBM] [Info] Total Bins 776\n",
      "[LightGBM] [Info] Number of data points in the train set: 15149, number of used features: 353\n",
      "[LightGBM] [Info] [binary:BoostFromScore]: pavg=0.490527 -> initscore=-0.037895\n",
      "[LightGBM] [Info] Start training from score -0.037895\n",
      "[LightGBM] [Info] Number of positive: 7431, number of negative: 7718\n",
      "[LightGBM] [Info] Auto-choosing row-wise multi-threading, the overhead of testing was 0.032294 seconds.\n",
      "You can set `force_row_wise=true` to remove the overhead.\n",
      "And if memory is not enough, you can set `force_col_wise=true`.\n",
      "[LightGBM] [Info] Total Bins 780\n",
      "[LightGBM] [Info] Number of data points in the train set: 15149, number of used features: 355\n",
      "[LightGBM] [Info] [binary:BoostFromScore]: pavg=0.490527 -> initscore=-0.037895\n",
      "[LightGBM] [Info] Start training from score -0.037895\n",
      "[LightGBM] [Info] Number of positive: 7432, number of negative: 7717\n",
      "[LightGBM] [Info] Auto-choosing row-wise multi-threading, the overhead of testing was 0.031447 seconds.\n",
      "You can set `force_row_wise=true` to remove the overhead.\n",
      "And if memory is not enough, you can set `force_col_wise=true`.\n",
      "[LightGBM] [Info] Total Bins 764\n",
      "[LightGBM] [Info] Number of data points in the train set: 15149, number of used features: 349\n",
      "[LightGBM] [Info] [binary:BoostFromScore]: pavg=0.490593 -> initscore=-0.037631\n",
      "[LightGBM] [Info] Start training from score -0.037631\n",
      "[LightGBM] [Info] Number of positive: 7431, number of negative: 7717\n",
      "[LightGBM] [Info] Auto-choosing row-wise multi-threading, the overhead of testing was 0.031594 seconds.\n",
      "You can set `force_row_wise=true` to remove the overhead.\n",
      "And if memory is not enough, you can set `force_col_wise=true`.\n",
      "[LightGBM] [Info] Total Bins 775\n",
      "[LightGBM] [Info] Number of data points in the train set: 15148, number of used features: 357\n",
      "[LightGBM] [Info] [binary:BoostFromScore]: pavg=0.490560 -> initscore=-0.037765\n",
      "[LightGBM] [Info] Start training from score -0.037765\n",
      "[LightGBM] [Info] Number of positive: 7431, number of negative: 7718\n",
      "[LightGBM] [Info] Auto-choosing row-wise multi-threading, the overhead of testing was 0.031691 seconds.\n",
      "You can set `force_row_wise=true` to remove the overhead.\n",
      "And if memory is not enough, you can set `force_col_wise=true`.\n",
      "[LightGBM] [Info] Total Bins 765\n",
      "[LightGBM] [Info] Number of data points in the train set: 15149, number of used features: 350\n",
      "[LightGBM] [Info] [binary:BoostFromScore]: pavg=0.490527 -> initscore=-0.037895\n",
      "[LightGBM] [Info] Start training from score -0.037895\n",
      "[LightGBM] [Info] Number of positive: 7431, number of negative: 7718\n",
      "[LightGBM] [Info] Auto-choosing row-wise multi-threading, the overhead of testing was 0.031861 seconds.\n",
      "You can set `force_row_wise=true` to remove the overhead.\n",
      "And if memory is not enough, you can set `force_col_wise=true`.\n",
      "[LightGBM] [Info] Total Bins 776\n",
      "[LightGBM] [Info] Number of data points in the train set: 15149, number of used features: 353\n",
      "[LightGBM] [Info] [binary:BoostFromScore]: pavg=0.490527 -> initscore=-0.037895\n",
      "[LightGBM] [Info] Start training from score -0.037895\n",
      "[LightGBM] [Info] Number of positive: 7431, number of negative: 7718\n",
      "[LightGBM] [Info] Auto-choosing row-wise multi-threading, the overhead of testing was 0.033674 seconds.\n",
      "You can set `force_row_wise=true` to remove the overhead.\n",
      "And if memory is not enough, you can set `force_col_wise=true`.\n",
      "[LightGBM] [Info] Total Bins 780\n",
      "[LightGBM] [Info] Number of data points in the train set: 15149, number of used features: 355\n",
      "[LightGBM] [Info] [binary:BoostFromScore]: pavg=0.490527 -> initscore=-0.037895\n",
      "[LightGBM] [Info] Start training from score -0.037895\n",
      "[LightGBM] [Info] Number of positive: 7432, number of negative: 7717\n",
      "[LightGBM] [Info] Auto-choosing row-wise multi-threading, the overhead of testing was 0.031459 seconds.\n",
      "You can set `force_row_wise=true` to remove the overhead.\n",
      "And if memory is not enough, you can set `force_col_wise=true`.\n",
      "[LightGBM] [Info] Total Bins 764\n",
      "[LightGBM] [Info] Number of data points in the train set: 15149, number of used features: 349\n",
      "[LightGBM] [Info] [binary:BoostFromScore]: pavg=0.490593 -> initscore=-0.037631\n",
      "[LightGBM] [Info] Start training from score -0.037631\n",
      "[LightGBM] [Info] Number of positive: 9289, number of negative: 9647\n",
      "[LightGBM] [Info] Auto-choosing row-wise multi-threading, the overhead of testing was 0.055854 seconds.\n",
      "You can set `force_row_wise=true` to remove the overhead.\n",
      "And if memory is not enough, you can set `force_col_wise=true`.\n",
      "[LightGBM] [Info] Total Bins 1084\n",
      "[LightGBM] [Info] Number of data points in the train set: 18936, number of used features: 497\n",
      "[LightGBM] [Info] [binary:BoostFromScore]: pavg=0.490547 -> initscore=-0.037816\n",
      "[LightGBM] [Info] Start training from score -0.037816\n"
     ]
    },
    {
     "data": {
      "text/plain": [
       "{'boosting_type': 'gbdt',\n",
       " 'learning_rate': 0.2,\n",
       " 'metric': 'binary_logloss',\n",
       " 'n_estimators': 200,\n",
       " 'num_leaves': 15,\n",
       " 'objective': 'binary'}"
      ]
     },
     "execution_count": 50,
     "metadata": {},
     "output_type": "execute_result"
    }
   ],
   "source": [
    "from lightgbm import LGBMClassifier\n",
    "\n",
    "param_grid_ = {\n",
    "    'num_leaves': [15, 31, 63],  \n",
    "    'learning_rate': [0.01, 0.1, 0.2],\n",
    "    'n_estimators': [50, 100, 200],  \n",
    "    'boosting_type': ['gbdt'], \n",
    "    'objective': ['binary'],  \n",
    "    'metric': ['binary_logloss'],\n",
    "}\n",
    "\n",
    "lightgbm_grid = GridSearchCV(\n",
    "    estimator= LGBMClassifier(),\n",
    "    param_grid=param_grid_,\n",
    "    cv=5, \n",
    "    scoring='accuracy',\n",
    "    verbose=0,\n",
    "    n_jobs=-1  \n",
    ")\n",
    "lightgbm_grid.fit(X_train_tfidf, y_train)\n",
    "\n",
    "lightgbm_grid.best_params_"
   ]
  },
  {
   "cell_type": "code",
   "execution_count": 51,
   "id": "0888d8df",
   "metadata": {
    "execution": {
     "iopub.execute_input": "2024-12-19T06:20:15.490580Z",
     "iopub.status.busy": "2024-12-19T06:20:15.490160Z",
     "iopub.status.idle": "2024-12-19T06:20:16.075225Z",
     "shell.execute_reply": "2024-12-19T06:20:16.074336Z"
    },
    "papermill": {
     "duration": 0.612553,
     "end_time": "2024-12-19T06:20:16.077498",
     "exception": false,
     "start_time": "2024-12-19T06:20:15.464945",
     "status": "completed"
    },
    "tags": []
   },
   "outputs": [
    {
     "name": "stdout",
     "output_type": "stream",
     "text": [
      "-------------------> lightgbm\n",
      "Accuracy: 0.68\n",
      "F1-Score for each class:\n",
      "Positive: 0.65\n",
      "Negative: 0.70\n",
      "\n",
      "Classification Report:\n",
      "              precision    recall  f1-score   support\n",
      "\n",
      "    Positive       0.72      0.60      0.65      2412\n",
      "    Negative       0.65      0.76      0.70      2323\n",
      "\n",
      "    accuracy                           0.68      4735\n",
      "   macro avg       0.68      0.68      0.68      4735\n",
      "weighted avg       0.68      0.68      0.68      4735\n",
      "\n"
     ]
    },
    {
     "data": {
      "image/png": "[encoded data removed]",
      "text/plain": [
       "<Figure size 800x600 with 2 Axes>"
      ]
     },
     "metadata": {},
     "output_type": "display_data"
    }
   ],
   "source": [
    "y_hat = lightgbm_grid.best_estimator_.predict(X_test_tfidf)\n",
    "about_model(\"lightgbm\", y_test , y_hat)"
   ]
  },
  {
   "cell_type": "code",
   "execution_count": null,
   "id": "0d16bc69",
   "metadata": {
    "papermill": {
     "duration": 0.024585,
     "end_time": "2024-12-19T06:20:16.128006",
     "exception": false,
     "start_time": "2024-12-19T06:20:16.103421",
     "status": "completed"
    },
    "tags": []
   },
   "outputs": [],
   "source": []
  },
  {
   "cell_type": "code",
   "execution_count": null,
   "id": "3a63528c",
   "metadata": {
    "papermill": {
     "duration": 0.024581,
     "end_time": "2024-12-19T06:20:16.253070",
     "exception": false,
     "start_time": "2024-12-19T06:20:16.228489",
     "status": "completed"
    },
    "tags": []
   },
   "outputs": [],
   "source": []
  },
  {
   "cell_type": "code",
   "execution_count": null,
   "id": "917b54c1",
   "metadata": {
    "papermill": {
     "duration": 0.02457,
     "end_time": "2024-12-19T06:20:16.302048",
     "exception": false,
     "start_time": "2024-12-19T06:20:16.277478",
     "status": "completed"
    },
    "tags": []
   },
   "outputs": [],
   "source": []
  },
  {
   "cell_type": "code",
   "execution_count": null,
   "id": "4a509fd0",
   "metadata": {
    "papermill": {
     "duration": 0.024372,
     "end_time": "2024-12-19T06:20:16.351255",
     "exception": false,
     "start_time": "2024-12-19T06:20:16.326883",
     "status": "completed"
    },
    "tags": []
   },
   "outputs": [],
   "source": []
  }
 ],
 "metadata": {
  "kaggle": {
   "accelerator": "none",
   "dataSources": [
    {
     "datasetId": 6047175,
     "sourceId": 10210479,
     "sourceType": "datasetVersion"
    },
    {
     "datasetId": 6094692,
     "sourceId": 10210609,
     "sourceType": "datasetVersion"
    }
   ],
   "dockerImageVersionId": 30804,
   "isGpuEnabled": false,
   "isInternetEnabled": true,
   "language": "python",
   "sourceType": "notebook"
  },
  "kernelspec": {
   "display_name": "Python 3",
   "language": "python",
   "name": "python3"
  },
  "language_info": {
   "codemirror_mode": {
    "name": "ipython",
    "version": 3
   },
   "file_extension": ".py",
   "mimetype": "text/x-python",
   "name": "python",
   "nbconvert_exporter": "python",
   "pygments_lexer": "ipython3",
   "version": "3.10.14"
  },
  "papermill": {
   "default_parameters": {},
   "duration": 30363.862629,
   "end_time": "2024-12-19T06:20:19.095919",
   "environment_variables": {},
   "exception": null,
   "input_path": "__notebook__.ipynb",
   "output_path": "__notebook__.ipynb",
   "parameters": {},
   "start_time": "2024-12-18T21:54:15.233290",
   "version": "2.6.0"
  }
 },
 "nbformat": 4,
 "nbformat_minor": 5
}
