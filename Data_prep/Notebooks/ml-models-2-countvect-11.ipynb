{
 "cells": [
  {
   "cell_type": "markdown",
   "id": "f190f8ba",
   "metadata": {
    "papermill": {
     "duration": 0.01238,
     "end_time": "2024-12-17T23:02:59.359504",
     "exception": false,
     "start_time": "2024-12-17T23:02:59.347124",
     "status": "completed"
    },
    "tags": []
   },
   "source": [
    "# Darija Text Classification using ML Algorithms\n"
   ]
  },
  {
   "cell_type": "markdown",
   "id": "f8e354c3",
   "metadata": {
    "papermill": {
     "duration": 0.010475,
     "end_time": "2024-12-17T23:02:59.382895",
     "exception": false,
     "start_time": "2024-12-17T23:02:59.372420",
     "status": "completed"
    },
    "tags": []
   },
   "source": [
    "## Setup and Data Loading\n",
    "In this section, we:\n",
    "- Import required libraries\n",
    "- Load and prepare our Darija dataset\n",
    "- Set up configuration parameters"
   ]
  },
  {
   "cell_type": "code",
   "execution_count": 1,
   "id": "64ba2ecc",
   "metadata": {
    "execution": {
     "iopub.execute_input": "2024-12-17T23:02:59.410397Z",
     "iopub.status.busy": "2024-12-17T23:02:59.409933Z",
     "iopub.status.idle": "2024-12-17T23:02:59.432835Z",
     "shell.execute_reply": "2024-12-17T23:02:59.431423Z"
    },
    "papermill": {
     "duration": 0.03747,
     "end_time": "2024-12-17T23:02:59.435433",
     "exception": false,
     "start_time": "2024-12-17T23:02:59.397963",
     "status": "completed"
    },
    "tags": []
   },
   "outputs": [
    {
     "name": "stdout",
     "output_type": "stream",
     "text": [
      "Current working directory: /kaggle/input/ma-datasets\n",
      "Directory contents: ['suf_pref_darija.json', 'stop_words_accum.json', 'set2.csv', 'set7.csv', 'set5.csv', 'darija_latin_ref.json', 'set4.csv', 'scaped_comments.csv', 'set3.csv', 'cleaned_clustered_data.csv', 'set1.csv']\n"
     ]
    }
   ],
   "source": [
    "import os \n",
    "os.chdir('/kaggle/input/ma-datasets') \n",
    "current_directory = os.getcwd()\n",
    "print(\"Current working directory:\", current_directory)\n",
    "contents = os.listdir()\n",
    "print(\"Directory contents:\", contents)"
   ]
  },
  {
   "cell_type": "code",
   "execution_count": 2,
   "id": "674030fb",
   "metadata": {
    "execution": {
     "iopub.execute_input": "2024-12-17T23:02:59.458478Z",
     "iopub.status.busy": "2024-12-17T23:02:59.458058Z",
     "iopub.status.idle": "2024-12-17T23:03:14.798020Z",
     "shell.execute_reply": "2024-12-17T23:03:14.796736Z"
    },
    "papermill": {
     "duration": 15.354363,
     "end_time": "2024-12-17T23:03:14.800641",
     "exception": false,
     "start_time": "2024-12-17T23:02:59.446278",
     "status": "completed"
    },
    "tags": []
   },
   "outputs": [
    {
     "name": "stdout",
     "output_type": "stream",
     "text": [
      "Requirement already satisfied: pandas in /opt/conda/lib/python3.10/site-packages (2.2.3)\r\n",
      "Requirement already satisfied: PyArabic in /opt/conda/lib/python3.10/site-packages (0.6.15)\r\n",
      "Collecting Tashaphyne\r\n",
      "  Downloading Tashaphyne-0.3.6-py3-none-any.whl.metadata (18 kB)\r\n",
      "Collecting pydoda\r\n",
      "  Downloading pydoda-1.2.1-py3-none-any.whl.metadata (5.8 kB)\r\n",
      "Collecting Arabic-Stopwords\r\n",
      "  Downloading Arabic_Stopwords-0.4.3-py3-none-any.whl.metadata (8.9 kB)\r\n",
      "Requirement already satisfied: seaborn in /opt/conda/lib/python3.10/site-packages (0.12.2)\r\n",
      "Requirement already satisfied: scikit-learn in /opt/conda/lib/python3.10/site-packages (1.2.2)\r\n",
      "Requirement already satisfied: emoji in /opt/conda/lib/python3.10/site-packages (2.14.0)\r\n",
      "Requirement already satisfied: xgboost in /opt/conda/lib/python3.10/site-packages (2.0.3)\r\n",
      "Requirement already satisfied: lightgbm in /opt/conda/lib/python3.10/site-packages (4.2.0)\r\n",
      "Requirement already satisfied: numpy>=1.22.4 in /opt/conda/lib/python3.10/site-packages (from pandas) (1.26.4)\r\n",
      "Requirement already satisfied: python-dateutil>=2.8.2 in /opt/conda/lib/python3.10/site-packages (from pandas) (2.9.0.post0)\r\n",
      "Requirement already satisfied: pytz>=2020.1 in /opt/conda/lib/python3.10/site-packages (from pandas) (2024.1)\r\n",
      "Requirement already satisfied: tzdata>=2022.7 in /opt/conda/lib/python3.10/site-packages (from pandas) (2024.1)\r\n",
      "Requirement already satisfied: six>=1.14.0 in /opt/conda/lib/python3.10/site-packages (from PyArabic) (1.16.0)\r\n",
      "Requirement already satisfied: matplotlib!=3.6.1,>=3.1 in /opt/conda/lib/python3.10/site-packages (from seaborn) (3.7.5)\r\n",
      "Requirement already satisfied: scipy>=1.3.2 in /opt/conda/lib/python3.10/site-packages (from scikit-learn) (1.14.1)\r\n",
      "Requirement already satisfied: joblib>=1.1.1 in /opt/conda/lib/python3.10/site-packages (from scikit-learn) (1.4.2)\r\n",
      "Requirement already satisfied: threadpoolctl>=2.0.0 in /opt/conda/lib/python3.10/site-packages (from scikit-learn) (3.5.0)\r\n",
      "Requirement already satisfied: contourpy>=1.0.1 in /opt/conda/lib/python3.10/site-packages (from matplotlib!=3.6.1,>=3.1->seaborn) (1.2.1)\r\n",
      "Requirement already satisfied: cycler>=0.10 in /opt/conda/lib/python3.10/site-packages (from matplotlib!=3.6.1,>=3.1->seaborn) (0.12.1)\r\n",
      "Requirement already satisfied: fonttools>=4.22.0 in /opt/conda/lib/python3.10/site-packages (from matplotlib!=3.6.1,>=3.1->seaborn) (4.53.0)\r\n",
      "Requirement already satisfied: kiwisolver>=1.0.1 in /opt/conda/lib/python3.10/site-packages (from matplotlib!=3.6.1,>=3.1->seaborn) (1.4.5)\r\n",
      "Requirement already satisfied: packaging>=20.0 in /opt/conda/lib/python3.10/site-packages (from matplotlib!=3.6.1,>=3.1->seaborn) (21.3)\r\n",
      "Requirement already satisfied: pillow>=6.2.0 in /opt/conda/lib/python3.10/site-packages (from matplotlib!=3.6.1,>=3.1->seaborn) (10.3.0)\r\n",
      "Requirement already satisfied: pyparsing>=2.3.1 in /opt/conda/lib/python3.10/site-packages (from matplotlib!=3.6.1,>=3.1->seaborn) (3.1.2)\r\n",
      "Downloading Tashaphyne-0.3.6-py3-none-any.whl (251 kB)\r\n",
      "\u001b[2K   \u001b[90m━━━━━━━━━━━━━━━━━━━━━━━━━━━━━━━━━━━━━━━━\u001b[0m \u001b[32m251.5/251.5 kB\u001b[0m \u001b[31m3.4 MB/s\u001b[0m eta \u001b[36m0:00:00\u001b[0m\r\n",
      "\u001b[?25hDownloading pydoda-1.2.1-py3-none-any.whl (4.1 MB)\r\n",
      "\u001b[2K   \u001b[90m━━━━━━━━━━━━━━━━━━━━━━━━━━━━━━━━━━━━━━━━\u001b[0m \u001b[32m4.1/4.1 MB\u001b[0m \u001b[31m35.7 MB/s\u001b[0m eta \u001b[36m0:00:00\u001b[0m\r\n",
      "\u001b[?25hDownloading Arabic_Stopwords-0.4.3-py3-none-any.whl (360 kB)\r\n",
      "\u001b[2K   \u001b[90m━━━━━━━━━━━━━━━━━━━━━━━━━━━━━━━━━━━━━━━━\u001b[0m \u001b[32m360.5/360.5 kB\u001b[0m \u001b[31m14.4 MB/s\u001b[0m eta \u001b[36m0:00:00\u001b[0m\r\n",
      "\u001b[?25hInstalling collected packages: Tashaphyne, Arabic-Stopwords, pydoda\r\n",
      "Successfully installed Arabic-Stopwords-0.4.3 Tashaphyne-0.3.6 pydoda-1.2.1\r\n"
     ]
    }
   ],
   "source": [
    "!pip install pandas PyArabic Tashaphyne pydoda Arabic-Stopwords seaborn scikit-learn emoji xgboost lightgbm "
   ]
  },
  {
   "cell_type": "code",
   "execution_count": 3,
   "id": "ff8f7ceb",
   "metadata": {
    "execution": {
     "iopub.execute_input": "2024-12-17T23:03:14.827511Z",
     "iopub.status.busy": "2024-12-17T23:03:14.827070Z",
     "iopub.status.idle": "2024-12-17T23:03:17.603431Z",
     "shell.execute_reply": "2024-12-17T23:03:17.602370Z"
    },
    "papermill": {
     "duration": 2.793229,
     "end_time": "2024-12-17T23:03:17.605807",
     "exception": false,
     "start_time": "2024-12-17T23:03:14.812578",
     "status": "completed"
    },
    "tags": []
   },
   "outputs": [],
   "source": [
    "import pandas as pd\n",
    "from sklearn.model_selection import GridSearchCV\n",
    "import re\n",
    "from tashaphyne.stemming import ArabicLightStemmer\n",
    "import json\n",
    "import emoji \n"
   ]
  },
  {
   "cell_type": "code",
   "execution_count": 4,
   "id": "de9c6938",
   "metadata": {
    "execution": {
     "iopub.execute_input": "2024-12-17T23:03:17.630952Z",
     "iopub.status.busy": "2024-12-17T23:03:17.630451Z",
     "iopub.status.idle": "2024-12-17T23:03:17.959315Z",
     "shell.execute_reply": "2024-12-17T23:03:17.958251Z"
    },
    "papermill": {
     "duration": 0.34409,
     "end_time": "2024-12-17T23:03:17.961761",
     "exception": false,
     "start_time": "2024-12-17T23:03:17.617671",
     "status": "completed"
    },
    "tags": []
   },
   "outputs": [],
   "source": [
    "df = pd.read_csv(\"/kaggle/input/dataset/dataset (18).csv\")"
   ]
  },
  {
   "cell_type": "markdown",
   "id": "16eabd1a",
   "metadata": {
    "papermill": {
     "duration": 0.012194,
     "end_time": "2024-12-17T23:03:17.986137",
     "exception": false,
     "start_time": "2024-12-17T23:03:17.973943",
     "status": "completed"
    },
    "tags": []
   },
   "source": [
    "## Data Preprocessing\n",
    "Key preprocessing steps for Darija text:\n",
    "- Text cleaning and normalization\n",
    "- Feature extraction\n",
    "- Train-test split\n"
   ]
  },
  {
   "cell_type": "code",
   "execution_count": 5,
   "id": "ed8995cb",
   "metadata": {
    "execution": {
     "iopub.execute_input": "2024-12-17T23:03:18.012942Z",
     "iopub.status.busy": "2024-12-17T23:03:18.011622Z",
     "iopub.status.idle": "2024-12-17T23:03:18.022702Z",
     "shell.execute_reply": "2024-12-17T23:03:18.021618Z"
    },
    "papermill": {
     "duration": 0.027441,
     "end_time": "2024-12-17T23:03:18.025346",
     "exception": false,
     "start_time": "2024-12-17T23:03:17.997905",
     "status": "completed"
    },
    "tags": []
   },
   "outputs": [],
   "source": [
    "darija_alphabet = {\n",
    "    \"gh\": \"غ\",\n",
    "    \"sh\": \"ش\",\n",
    "    \"ch\": \"ش\",\n",
    "    \"ss\": \"س\",\n",
    "    \"kh\": \"خ\",\n",
    "    \"ç\": \"س\",\n",
    "    \"ou\": \"و\",    \n",
    "    \"ei\": \"ي\",    \n",
    "    \"ay\": \"ي\",    \n",
    "    \"ae\": \"ي\",   \n",
    "    \"5\": \"خ\",     \n",
    "    \"2\": \"ا\",    \n",
    "    \"b\": \"ب\",\n",
    "    \"t\": \"ت\",\n",
    "    \"j\": \"ج\",\n",
    "    \"7\": \"ح\",\n",
    "    \"d\": \"د\",\n",
    "    \"r\": \"ر\",\n",
    "    \"z\": \"ز\",\n",
    "    \"s\": \"س\",\n",
    "    \"9\": \"ق\",\n",
    "    \"3\": \"ع\",\n",
    "    \"4\": \"غ\",\n",
    "    \"f\": \"ف\",\n",
    "    \"q\": \"ك\",\n",
    "    \"k\": \"ك\",\n",
    "    \"l\": \"ل\",\n",
    "    \"m\": \"م\",\n",
    "    \"n\": \"ن\",\n",
    "    \"h\": \"ه\",\n",
    "    \"w\": \"و\",\n",
    "    \"y\": \"ي\",\n",
    "    \"g\": \"ڭ\",\n",
    "    'i': 'ي',\n",
    "    'ee': 'ي',\n",
    "    'aa': 'ا',\n",
    "    'oo': 'و',\n",
    "    'o': 'و',\n",
    "    \"x\": \"ش\",\n",
    "}\n",
    "word_in = [\n",
    "    \"ء\", \"أ\", \"إ\", \"آ\", \"ؤ\", \"ئ\", \"ة\", \"ى\",\"-\", \"/\", \".\", \"،\", '\"', \"'\", \"\\\\\", \"?\", \"؟\", \"!\", \"،\", \"؛\",\":\",\"#\", \"@\", \"&\", \"=\", \"¥\", \"$\", \"%\", \"*\", \"+\", \"<\", \">\", \"|\", \"~\", \"^\", \n",
    "    \"\\n\", \"\\t\", \"\\r\", \" و\",\"ذ\", \"ظ\", \"ض\", \"ص\",\"(\", \")\", \"[\", \"]\", \"{\", \"}\", \"《\", \"》\", \"«\", \"»\"\n",
    "]\n",
    "\n",
    "replaced_by = [\n",
    "    \"ا\", \"ا\", \"ا\", \"ا\", \"ا\", \"ا\", \"ه\", \"ي\",\" \", \"\", \"\", \"\", \"\", \"\", \"\", \" ? \", \" ؟ \", \" ! \", \"\", \"\", \"\",\n",
    "    \"\", \"\", \"\", \"\", \"\", \"\", \"\", \"\", \"\", \"\", \"\", \"\", \"\", \"\",\" \", \" \", \" \", \"\",\n",
    "    \"د\", \"د\", \"د\", \"س\",\"\", \"\", \"\", \"\", \"\", \"\", \"\", \"\", \"\", \"\"\n",
    "]\n",
    "\n",
    "arabic_alphabet = \"ابتثجحخدذرزسشصضطظعغفقكلمنهوي\""
   ]
  },
  {
   "cell_type": "code",
   "execution_count": 6,
   "id": "1dd1976f",
   "metadata": {
    "execution": {
     "iopub.execute_input": "2024-12-17T23:03:18.050032Z",
     "iopub.status.busy": "2024-12-17T23:03:18.049657Z",
     "iopub.status.idle": "2024-12-17T23:03:18.055085Z",
     "shell.execute_reply": "2024-12-17T23:03:18.053970Z"
    },
    "papermill": {
     "duration": 0.020215,
     "end_time": "2024-12-17T23:03:18.057158",
     "exception": false,
     "start_time": "2024-12-17T23:03:18.036943",
     "status": "completed"
    },
    "tags": []
   },
   "outputs": [],
   "source": [
    "from pyarabic.araby import strip_diacritics\n",
    "#remove tashkeel\n",
    "def removing_tashkeel(word): # useed\n",
    "          return strip_diacritics(word)"
   ]
  },
  {
   "cell_type": "code",
   "execution_count": 7,
   "id": "2a85e456",
   "metadata": {
    "execution": {
     "iopub.execute_input": "2024-12-17T23:03:18.081836Z",
     "iopub.status.busy": "2024-12-17T23:03:18.081419Z",
     "iopub.status.idle": "2024-12-17T23:03:18.086539Z",
     "shell.execute_reply": "2024-12-17T23:03:18.085351Z"
    },
    "papermill": {
     "duration": 0.02007,
     "end_time": "2024-12-17T23:03:18.088700",
     "exception": false,
     "start_time": "2024-12-17T23:03:18.068630",
     "status": "completed"
    },
    "tags": []
   },
   "outputs": [],
   "source": [
    "from pyarabic.araby import strip_tatweel\n",
    "\n",
    "#remove tatweel l2imdad\n",
    "def removing_tatweel(word): # useed\n",
    "          return strip_tatweel(word)"
   ]
  },
  {
   "cell_type": "code",
   "execution_count": 8,
   "id": "c1a1894a",
   "metadata": {
    "execution": {
     "iopub.execute_input": "2024-12-17T23:03:18.114426Z",
     "iopub.status.busy": "2024-12-17T23:03:18.113062Z",
     "iopub.status.idle": "2024-12-17T23:03:18.118249Z",
     "shell.execute_reply": "2024-12-17T23:03:18.117397Z"
    },
    "papermill": {
     "duration": 0.020003,
     "end_time": "2024-12-17T23:03:18.120447",
     "exception": false,
     "start_time": "2024-12-17T23:03:18.100444",
     "status": "completed"
    },
    "tags": []
   },
   "outputs": [],
   "source": [
    "from pyarabic.araby import normalize_ligature\n",
    "\n",
    "#remove ligature hamza , alef \n",
    "def removing_ligature(word): # not used \n",
    "          return normalize_ligature(word)"
   ]
  },
  {
   "cell_type": "code",
   "execution_count": 9,
   "id": "106b508d",
   "metadata": {
    "execution": {
     "iopub.execute_input": "2024-12-17T23:03:18.145226Z",
     "iopub.status.busy": "2024-12-17T23:03:18.144812Z",
     "iopub.status.idle": "2024-12-17T23:03:18.150062Z",
     "shell.execute_reply": "2024-12-17T23:03:18.148761Z"
    },
    "papermill": {
     "duration": 0.02042,
     "end_time": "2024-12-17T23:03:18.152255",
     "exception": false,
     "start_time": "2024-12-17T23:03:18.131835",
     "status": "completed"
    },
    "tags": []
   },
   "outputs": [],
   "source": [
    "# remove underscore\n",
    "def replace_underscore(word): # useed\n",
    "          return word.replace(\"_\", \" \")"
   ]
  },
  {
   "cell_type": "code",
   "execution_count": 10,
   "id": "fd266685",
   "metadata": {
    "execution": {
     "iopub.execute_input": "2024-12-17T23:03:18.177168Z",
     "iopub.status.busy": "2024-12-17T23:03:18.176601Z",
     "iopub.status.idle": "2024-12-17T23:03:18.182548Z",
     "shell.execute_reply": "2024-12-17T23:03:18.181338Z"
    },
    "papermill": {
     "duration": 0.021149,
     "end_time": "2024-12-17T23:03:18.184822",
     "exception": false,
     "start_time": "2024-12-17T23:03:18.163673",
     "status": "completed"
    },
    "tags": []
   },
   "outputs": [],
   "source": [
    "import pyarabic.araby as araby\n",
    "\n",
    "# remove hamza ambiguity\n",
    "def remove_ambiguity_hamza(word): # useed\n",
    "          return araby.normalize_hamza(word)"
   ]
  },
  {
   "cell_type": "code",
   "execution_count": 11,
   "id": "7554a47a",
   "metadata": {
    "execution": {
     "iopub.execute_input": "2024-12-17T23:03:18.209760Z",
     "iopub.status.busy": "2024-12-17T23:03:18.209340Z",
     "iopub.status.idle": "2024-12-17T23:03:18.214791Z",
     "shell.execute_reply": "2024-12-17T23:03:18.213618Z"
    },
    "papermill": {
     "duration": 0.020585,
     "end_time": "2024-12-17T23:03:18.217046",
     "exception": false,
     "start_time": "2024-12-17T23:03:18.196461",
     "status": "completed"
    },
    "tags": []
   },
   "outputs": [],
   "source": [
    "# romove \"AL\"\n",
    "def remove_AL(word): # useed\n",
    "          return re.sub(r'^ال', '', word)"
   ]
  },
  {
   "cell_type": "code",
   "execution_count": 12,
   "id": "d86529b0",
   "metadata": {
    "execution": {
     "iopub.execute_input": "2024-12-17T23:03:18.242292Z",
     "iopub.status.busy": "2024-12-17T23:03:18.241884Z",
     "iopub.status.idle": "2024-12-17T23:03:18.249718Z",
     "shell.execute_reply": "2024-12-17T23:03:18.248382Z"
    },
    "papermill": {
     "duration": 0.023483,
     "end_time": "2024-12-17T23:03:18.252132",
     "exception": false,
     "start_time": "2024-12-17T23:03:18.228649",
     "status": "completed"
    },
    "tags": []
   },
   "outputs": [],
   "source": [
    "# remove repeated characters      \n",
    "def word_remover(word): # useed\n",
    "            if len(word) == 1 or len(word) == 0 or len(word) >= 13:\n",
    "                return \"\"                \n",
    "            else :\n",
    "                # print(word)\n",
    "                for a7rf in arabic_alphabet:\n",
    "                    if a7rf == 'د' or a7rf == 'ه':\n",
    "                        word = re.sub(fr'{a7rf}{{3,}}', a7rf * 2, word).strip()\n",
    "                    else:\n",
    "                        word = re.sub(fr'{a7rf}+', a7rf, word).strip()\n",
    "                # print(word) \n",
    "                for i in range(len(word)):\n",
    "                    if word[i] in word_in:\n",
    "                        index = word_in.index(word[i])\n",
    "                        word = word[:i] + replaced_by[index] + word[i + 1:]\n",
    "\n",
    "                return word\n"
   ]
  },
  {
   "cell_type": "code",
   "execution_count": 13,
   "id": "f43890e7",
   "metadata": {
    "execution": {
     "iopub.execute_input": "2024-12-17T23:03:18.277045Z",
     "iopub.status.busy": "2024-12-17T23:03:18.276635Z",
     "iopub.status.idle": "2024-12-17T23:03:18.282550Z",
     "shell.execute_reply": "2024-12-17T23:03:18.281158Z"
    },
    "papermill": {
     "duration": 0.020802,
     "end_time": "2024-12-17T23:03:18.284695",
     "exception": false,
     "start_time": "2024-12-17T23:03:18.263893",
     "status": "completed"
    },
    "tags": []
   },
   "outputs": [],
   "source": [
    "# remove emails  \n",
    "def remove_url(text): # useed\n",
    "    text = re.sub(r'(https|http)?:\\/\\/(\\w|\\.|\\/|\\?|\\=|\\&|\\%)*\\b',\n",
    "                  '', text, flags=re.MULTILINE)\n",
    "    return text      \n",
    " "
   ]
  },
  {
   "cell_type": "code",
   "execution_count": 14,
   "id": "4097e4ca",
   "metadata": {
    "execution": {
     "iopub.execute_input": "2024-12-17T23:03:18.309772Z",
     "iopub.status.busy": "2024-12-17T23:03:18.308991Z",
     "iopub.status.idle": "2024-12-17T23:03:18.314380Z",
     "shell.execute_reply": "2024-12-17T23:03:18.313106Z"
    },
    "papermill": {
     "duration": 0.020216,
     "end_time": "2024-12-17T23:03:18.316455",
     "exception": false,
     "start_time": "2024-12-17T23:03:18.296239",
     "status": "completed"
    },
    "tags": []
   },
   "outputs": [],
   "source": [
    " # remove emails     \n",
    "def remove_emails(text): # useed\n",
    "    text = re.sub(r'[a-zA-Z0-9._%+-]+@[a-zA-Z0-9.-]+\\.[a-zA-Z]{2,}', '', text, flags=re.MULTILINE)\n",
    "    return text  "
   ]
  },
  {
   "cell_type": "code",
   "execution_count": 15,
   "id": "f103fcdc",
   "metadata": {
    "execution": {
     "iopub.execute_input": "2024-12-17T23:03:18.341138Z",
     "iopub.status.busy": "2024-12-17T23:03:18.340733Z",
     "iopub.status.idle": "2024-12-17T23:03:18.347016Z",
     "shell.execute_reply": "2024-12-17T23:03:18.345821Z"
    },
    "papermill": {
     "duration": 0.021545,
     "end_time": "2024-12-17T23:03:18.349333",
     "exception": false,
     "start_time": "2024-12-17T23:03:18.327788",
     "status": "completed"
    },
    "tags": []
   },
   "outputs": [],
   "source": [
    "def special_tags_and_ponctuations(text):  # Function to clean special tags\n",
    "    text = re.sub(r'&amp;', '', text) \n",
    "    text = re.sub(r'&quot;', '', text)  \n",
    "    text = re.sub(r'!+', '!', text)\n",
    "    text = re.sub(r'\\?+', '?', text)\n",
    "    text = re.sub(r'\\.+', '.', text)\n",
    "\n",
    "    return text"
   ]
  },
  {
   "cell_type": "code",
   "execution_count": 16,
   "id": "910d651c",
   "metadata": {
    "execution": {
     "iopub.execute_input": "2024-12-17T23:03:18.375083Z",
     "iopub.status.busy": "2024-12-17T23:03:18.374166Z",
     "iopub.status.idle": "2024-12-17T23:03:18.379485Z",
     "shell.execute_reply": "2024-12-17T23:03:18.378355Z"
    },
    "papermill": {
     "duration": 0.020659,
     "end_time": "2024-12-17T23:03:18.381569",
     "exception": false,
     "start_time": "2024-12-17T23:03:18.360910",
     "status": "completed"
    },
    "tags": []
   },
   "outputs": [],
   "source": [
    "def remove_html_tags(text):\n",
    "    text = re.sub(r'<[^>]+>', '', text)\n",
    "    return text"
   ]
  },
  {
   "cell_type": "code",
   "execution_count": 17,
   "id": "f3f547a4",
   "metadata": {
    "execution": {
     "iopub.execute_input": "2024-12-17T23:03:18.406527Z",
     "iopub.status.busy": "2024-12-17T23:03:18.405524Z",
     "iopub.status.idle": "2024-12-17T23:03:18.411054Z",
     "shell.execute_reply": "2024-12-17T23:03:18.409972Z"
    },
    "papermill": {
     "duration": 0.020211,
     "end_time": "2024-12-17T23:03:18.413199",
     "exception": false,
     "start_time": "2024-12-17T23:03:18.392988",
     "status": "completed"
    },
    "tags": []
   },
   "outputs": [],
   "source": [
    "# hundle emojis\n",
    "def extend_spletting(items):  # helper function to split items\n",
    "    spletting = []\n",
    "    for item in items:\n",
    "        spletting.extend(item.split())\n",
    "    return spletting"
   ]
  },
  {
   "cell_type": "code",
   "execution_count": 18,
   "id": "30bd0cad",
   "metadata": {
    "execution": {
     "iopub.execute_input": "2024-12-17T23:03:18.438053Z",
     "iopub.status.busy": "2024-12-17T23:03:18.437685Z",
     "iopub.status.idle": "2024-12-17T23:03:18.443101Z",
     "shell.execute_reply": "2024-12-17T23:03:18.441859Z"
    },
    "papermill": {
     "duration": 0.020535,
     "end_time": "2024-12-17T23:03:18.445217",
     "exception": false,
     "start_time": "2024-12-17T23:03:18.424682",
     "status": "completed"
    },
    "tags": []
   },
   "outputs": [],
   "source": [
    "def emoji_hundler(word):  # helper function to handle emojis\n",
    "    word = emoji.demojize(word, language='ar')\n",
    "    word = replace_underscore(word)[1:-1]\n",
    "    return word"
   ]
  },
  {
   "cell_type": "code",
   "execution_count": 19,
   "id": "c6f0883a",
   "metadata": {
    "execution": {
     "iopub.execute_input": "2024-12-17T23:03:18.470115Z",
     "iopub.status.busy": "2024-12-17T23:03:18.469735Z",
     "iopub.status.idle": "2024-12-17T23:03:18.477064Z",
     "shell.execute_reply": "2024-12-17T23:03:18.475822Z"
    },
    "papermill": {
     "duration": 0.022353,
     "end_time": "2024-12-17T23:03:18.479261",
     "exception": false,
     "start_time": "2024-12-17T23:03:18.456908",
     "status": "completed"
    },
    "tags": []
   },
   "outputs": [],
   "source": [
    "def is_an_emoji(word):\n",
    "    emoji_pattern = re.compile(\"[\"  \n",
    "                               u\"\\U0001F680-\\U0001F6FF\"  # transport and map unicods\n",
    "                               u\"\\U0001F1E0-\\U0001F1FF\"  # flags unicods\n",
    "                               \"]+\", flags=re.UNICODE)\n",
    "\n",
    "    if emoji.is_emoji(word):\n",
    "        word = emoji_pattern.sub(r'', word)\n",
    "        return extend_spletting([emoji_hundler(word)])\n",
    "\n",
    "    elif emoji.purely_emoji(word):\n",
    "        data_of_emojis = emoji.distinct_emoji_list(word)\n",
    "        data = [emoji_hundler(emoji_pattern.sub(r'', item)) for item in data_of_emojis]\n",
    "        return extend_spletting(data)\n",
    "\n",
    "    else:\n",
    "        text_only = re.sub(r'[^\\w\\s?!]', '', word)\n",
    "        data_of_emojis = emoji.distinct_emoji_list(word)\n",
    "        emojis = [emoji_hundler(emoji_pattern.sub(r'', item)) for item in data_of_emojis]\n",
    "        \n",
    "        return [text_only] + extend_spletting(emojis)\n"
   ]
  },
  {
   "cell_type": "code",
   "execution_count": 20,
   "id": "6e36d56c",
   "metadata": {
    "execution": {
     "iopub.execute_input": "2024-12-17T23:03:18.504956Z",
     "iopub.status.busy": "2024-12-17T23:03:18.503981Z",
     "iopub.status.idle": "2024-12-17T23:03:18.511214Z",
     "shell.execute_reply": "2024-12-17T23:03:18.509968Z"
    },
    "papermill": {
     "duration": 0.022305,
     "end_time": "2024-12-17T23:03:18.513511",
     "exception": false,
     "start_time": "2024-12-17T23:03:18.491206",
     "status": "completed"
    },
    "tags": []
   },
   "outputs": [],
   "source": [
    "# tramslating darija(latin) to daruja(arabic)\n",
    "def translate_darija_to_arabic(word): # useed\n",
    "    # print(\"test\")\n",
    "    word = word.lower()\n",
    "    if  bool(re.compile(r\"[a-z0-9']+\").search(word)):\n",
    "        arabic_word = \"\"\n",
    "        i = 0\n",
    "        while i < len(word):\n",
    "            # print('sadd')\n",
    "            if i + 1 < len(word) and word[i:i+2] in darija_alphabet: # Check for 2 lettrs\n",
    "                arabic_word += darija_alphabet[word[i:i+2]]\n",
    "                i += 2\n",
    "            elif word[i] in darija_alphabet:\n",
    "                arabic_word += darija_alphabet[word[i]]\n",
    "                i += 1\n",
    "            else:\n",
    "                i += 1\n",
    "        return arabic_word\n",
    "    return word\n",
    "      "
   ]
  },
  {
   "cell_type": "code",
   "execution_count": 21,
   "id": "4a70e729",
   "metadata": {
    "execution": {
     "iopub.execute_input": "2024-12-17T23:03:18.538575Z",
     "iopub.status.busy": "2024-12-17T23:03:18.538181Z",
     "iopub.status.idle": "2024-12-17T23:03:18.543527Z",
     "shell.execute_reply": "2024-12-17T23:03:18.542399Z"
    },
    "papermill": {
     "duration": 0.02052,
     "end_time": "2024-12-17T23:03:18.545767",
     "exception": false,
     "start_time": "2024-12-17T23:03:18.525247",
     "status": "completed"
    },
    "tags": []
   },
   "outputs": [],
   "source": [
    "# remove  number arabic and latin\n",
    "def number_remov(listy): # useed\n",
    "    number_pattern = re.compile(r'^[0-9\\u0660-\\u0669]+$')\n",
    "    cleaned_list = [item for item in listy if not number_pattern.fullmatch(item)] \n",
    "    return cleaned_list   "
   ]
  },
  {
   "cell_type": "code",
   "execution_count": 22,
   "id": "f977594f",
   "metadata": {
    "execution": {
     "iopub.execute_input": "2024-12-17T23:03:18.570782Z",
     "iopub.status.busy": "2024-12-17T23:03:18.570287Z",
     "iopub.status.idle": "2024-12-17T23:03:18.577120Z",
     "shell.execute_reply": "2024-12-17T23:03:18.575619Z"
    },
    "papermill": {
     "duration": 0.021923,
     "end_time": "2024-12-17T23:03:18.579436",
     "exception": false,
     "start_time": "2024-12-17T23:03:18.557513",
     "status": "completed"
    },
    "tags": []
   },
   "outputs": [],
   "source": [
    "#stemming arabic words     \n",
    "def stemming_darija(word):\n",
    "    # file = \"./Data_prep/suf_pref_darija.json\" # local run\n",
    "    file = \"suf_pref_darija.json\" \n",
    "\n",
    "    with open(file, 'r', encoding='utf-8') as json_file:\n",
    "        suf_pref = json.load(json_file)\n",
    "\n",
    "    ArListem = ArabicLightStemmer()\n",
    "    ArListem.set_prefix_list(suf_pref['darija_prefixes'])\n",
    "    ArListem.set_suffix_list(suf_pref['darija_suffixes'])\n",
    "    ArListem.light_stem(word)  \n",
    "    return ArListem.get_stem() "
   ]
  },
  {
   "cell_type": "code",
   "execution_count": 23,
   "id": "2d1ec505",
   "metadata": {
    "execution": {
     "iopub.execute_input": "2024-12-17T23:03:18.607328Z",
     "iopub.status.busy": "2024-12-17T23:03:18.606202Z",
     "iopub.status.idle": "2024-12-17T23:03:18.611954Z",
     "shell.execute_reply": "2024-12-17T23:03:18.610655Z"
    },
    "papermill": {
     "duration": 0.023138,
     "end_time": "2024-12-17T23:03:18.614158",
     "exception": false,
     "start_time": "2024-12-17T23:03:18.591020",
     "status": "completed"
    },
    "tags": []
   },
   "outputs": [],
   "source": [
    "# \"03:44\"\n",
    "def remove_yt_timers(text):\n",
    "    pattern = r'\\b\\d{1,2}:\\d{2,3}(:\\d{2,3})?\\b'\n",
    "    text = re.sub(pattern, '', text)\n",
    "    return text.strip()"
   ]
  },
  {
   "cell_type": "code",
   "execution_count": 24,
   "id": "79724067",
   "metadata": {
    "execution": {
     "iopub.execute_input": "2024-12-17T23:03:18.639207Z",
     "iopub.status.busy": "2024-12-17T23:03:18.638834Z",
     "iopub.status.idle": "2024-12-17T23:03:18.644032Z",
     "shell.execute_reply": "2024-12-17T23:03:18.642965Z"
    },
    "papermill": {
     "duration": 0.020234,
     "end_time": "2024-12-17T23:03:18.646098",
     "exception": false,
     "start_time": "2024-12-17T23:03:18.625864",
     "status": "completed"
    },
    "tags": []
   },
   "outputs": [],
   "source": [
    "\n",
    "def preproc_arab_sentence(word): # main function for  arab processing tokens\n",
    "    word = removing_tashkeel(word)\n",
    "    word = removing_tatweel(word)\n",
    "    word = remove_AL(word)\n",
    "    # word = remove_ambiguity_hamza(word)\n",
    "    word = word_remover(word)\n",
    "    return word\n"
   ]
  },
  {
   "cell_type": "code",
   "execution_count": 25,
   "id": "087814fa",
   "metadata": {
    "execution": {
     "iopub.execute_input": "2024-12-17T23:03:18.671450Z",
     "iopub.status.busy": "2024-12-17T23:03:18.670213Z",
     "iopub.status.idle": "2024-12-17T23:03:18.680527Z",
     "shell.execute_reply": "2024-12-17T23:03:18.679269Z"
    },
    "papermill": {
     "duration": 0.025165,
     "end_time": "2024-12-17T23:03:18.682791",
     "exception": false,
     "start_time": "2024-12-17T23:03:18.657626",
     "status": "completed"
    },
    "tags": []
   },
   "outputs": [],
   "source": [
    "from pyarabic.araby import tokenize\n",
    "def tokenize_arab_text(text):\n",
    "            # with open('./Data_prep/stop_words_accum.json', 'r', encoding='utf-8') as file: #  local run \n",
    "            with open('./stop_words_accum.json', 'r', encoding='utf-8') as file:\n",
    "\n",
    "                stop_words = json.load(file)\n",
    "\n",
    "            # with open('./Data_prep/darija_latin_ref.json', 'r', encoding='utf-8') as file: #  local run \n",
    "            with open('./darija_latin_ref.json', 'r', encoding='utf-8') as file:\n",
    "                \n",
    "                darija_latin_ref = json.load(file)\n",
    "          \n",
    "            #print(text)\n",
    "            text = remove_url(text)\n",
    "            text = remove_emails(text)\n",
    "            text = replace_underscore(text)\n",
    "            text = remove_html_tags(text)\n",
    "            text = remove_yt_timers(text)\n",
    "            text = special_tags_and_ponctuations(text)\n",
    "            #tokenization\n",
    "            print(text)\n",
    "            words = tokenize(text)\n",
    "            print(words)\n",
    "            words = [ translate_darija_to_arabic(word) for word in words if word not in darija_latin_ref]\n",
    "            print(words)\n",
    "            words = [is_an_emoji(word) for word in words] \n",
    "            words = [item for sublist in words for item in sublist if item]\n",
    "            words = list(set(words))\n",
    "            print(words)        \n",
    "            words = [word for word in words if word not in stop_words]\n",
    "            print(words)\n",
    "\n",
    "            words = [preproc_arab_sentence(word) for word in words]\n",
    "\n",
    "            # print(words)        \n",
    "            words = [stemming_darija(word) for word in words if word]\n",
    "            words = number_remov(words)\n",
    "\n",
    "\n",
    "            # print(words)\n",
    "            words = ' '.join(words) \n",
    "            return words"
   ]
  },
  {
   "cell_type": "code",
   "execution_count": 26,
   "id": "08386c2e",
   "metadata": {
    "execution": {
     "iopub.execute_input": "2024-12-17T23:03:18.707209Z",
     "iopub.status.busy": "2024-12-17T23:03:18.706813Z",
     "iopub.status.idle": "2024-12-17T23:03:18.728546Z",
     "shell.execute_reply": "2024-12-17T23:03:18.727419Z"
    },
    "papermill": {
     "duration": 0.036662,
     "end_time": "2024-12-17T23:03:18.730755",
     "exception": false,
     "start_time": "2024-12-17T23:03:18.694093",
     "status": "completed"
    },
    "tags": []
   },
   "outputs": [
    {
     "data": {
      "text/html": [
       "<div>\n",
       "<style scoped>\n",
       "    .dataframe tbody tr th:only-of-type {\n",
       "        vertical-align: middle;\n",
       "    }\n",
       "\n",
       "    .dataframe tbody tr th {\n",
       "        vertical-align: top;\n",
       "    }\n",
       "\n",
       "    .dataframe thead th {\n",
       "        text-align: right;\n",
       "    }\n",
       "</style>\n",
       "<table border=\"1\" class=\"dataframe\">\n",
       "  <thead>\n",
       "    <tr style=\"text-align: right;\">\n",
       "      <th></th>\n",
       "      <th>text</th>\n",
       "      <th>target</th>\n",
       "      <th>text_cleaned</th>\n",
       "    </tr>\n",
       "  </thead>\n",
       "  <tbody>\n",
       "    <tr>\n",
       "      <th>0</th>\n",
       "      <td>كما هو الشان بكل المدن العثيقه باليونان مدن قد...</td>\n",
       "      <td>1</td>\n",
       "      <td>شان عثيقه قديمه جميله محلاتوبيوت عباره ديافه</td>\n",
       "    </tr>\n",
       "    <tr>\n",
       "      <th>1</th>\n",
       "      <td>عدد الكشوفات لازالت قليلة</td>\n",
       "      <td>0</td>\n",
       "      <td>كشوف</td>\n",
       "    </tr>\n",
       "    <tr>\n",
       "      <th>2</th>\n",
       "      <td>اش هانكلو لخرا</td>\n",
       "      <td>0</td>\n",
       "      <td>لخرا هانكلو</td>\n",
       "    </tr>\n",
       "    <tr>\n",
       "      <th>3</th>\n",
       "      <td>الله يمسخكم مباغينش ترجعو  لطريق الله الى جهنم...</td>\n",
       "      <td>0</td>\n",
       "      <td>جهنم وباس مباغينش يمسخكم مسير ترجعو</td>\n",
       "    </tr>\n",
       "    <tr>\n",
       "      <th>4</th>\n",
       "      <td>تفو عليك وعلي اليوم الي عرفتك فيه</td>\n",
       "      <td>0</td>\n",
       "      <td>تفو</td>\n",
       "    </tr>\n",
       "  </tbody>\n",
       "</table>\n",
       "</div>"
      ],
      "text/plain": [
       "                                                text  target  \\\n",
       "0  كما هو الشان بكل المدن العثيقه باليونان مدن قد...       1   \n",
       "1                          عدد الكشوفات لازالت قليلة       0   \n",
       "2                                     اش هانكلو لخرا       0   \n",
       "3  الله يمسخكم مباغينش ترجعو  لطريق الله الى جهنم...       0   \n",
       "4                  تفو عليك وعلي اليوم الي عرفتك فيه       0   \n",
       "\n",
       "                                   text_cleaned  \n",
       "0  شان عثيقه قديمه جميله محلاتوبيوت عباره ديافه  \n",
       "1                                          كشوف  \n",
       "2                                   لخرا هانكلو  \n",
       "3           جهنم وباس مباغينش يمسخكم مسير ترجعو  \n",
       "4                                           تفو  "
      ]
     },
     "execution_count": 26,
     "metadata": {},
     "output_type": "execute_result"
    }
   ],
   "source": [
    "df.head()"
   ]
  },
  {
   "cell_type": "code",
   "execution_count": 27,
   "id": "97854067",
   "metadata": {
    "execution": {
     "iopub.execute_input": "2024-12-17T23:03:18.757007Z",
     "iopub.status.busy": "2024-12-17T23:03:18.755869Z",
     "iopub.status.idle": "2024-12-17T23:03:18.793128Z",
     "shell.execute_reply": "2024-12-17T23:03:18.791981Z"
    },
    "papermill": {
     "duration": 0.053085,
     "end_time": "2024-12-17T23:03:18.795615",
     "exception": false,
     "start_time": "2024-12-17T23:03:18.742530",
     "status": "completed"
    },
    "tags": []
   },
   "outputs": [
    {
     "name": "stdout",
     "output_type": "stream",
     "text": [
      "<class 'pandas.core.frame.DataFrame'>\n",
      "RangeIndex: 35000 entries, 0 to 34999\n",
      "Data columns (total 3 columns):\n",
      " #   Column        Non-Null Count  Dtype \n",
      "---  ------        --------------  ----- \n",
      " 0   text          35000 non-null  object\n",
      " 1   target        35000 non-null  int64 \n",
      " 2   text_cleaned  33821 non-null  object\n",
      "dtypes: int64(1), object(2)\n",
      "memory usage: 820.4+ KB\n"
     ]
    }
   ],
   "source": [
    "df.info()"
   ]
  },
  {
   "cell_type": "code",
   "execution_count": 28,
   "id": "ac606365",
   "metadata": {
    "execution": {
     "iopub.execute_input": "2024-12-17T23:03:18.820945Z",
     "iopub.status.busy": "2024-12-17T23:03:18.820572Z",
     "iopub.status.idle": "2024-12-17T23:03:18.837986Z",
     "shell.execute_reply": "2024-12-17T23:03:18.837060Z"
    },
    "papermill": {
     "duration": 0.032859,
     "end_time": "2024-12-17T23:03:18.840385",
     "exception": false,
     "start_time": "2024-12-17T23:03:18.807526",
     "status": "completed"
    },
    "tags": []
   },
   "outputs": [],
   "source": [
    "df.dropna(inplace=True)"
   ]
  },
  {
   "cell_type": "code",
   "execution_count": 29,
   "id": "4b0aa5ca",
   "metadata": {
    "execution": {
     "iopub.execute_input": "2024-12-17T23:03:18.866644Z",
     "iopub.status.busy": "2024-12-17T23:03:18.866005Z",
     "iopub.status.idle": "2024-12-17T23:03:18.897039Z",
     "shell.execute_reply": "2024-12-17T23:03:18.896027Z"
    },
    "papermill": {
     "duration": 0.046529,
     "end_time": "2024-12-17T23:03:18.899483",
     "exception": false,
     "start_time": "2024-12-17T23:03:18.852954",
     "status": "completed"
    },
    "tags": []
   },
   "outputs": [],
   "source": [
    "from sklearn.model_selection import train_test_split\n",
    "\n",
    "X_train, X_test, y_train, y_test = train_test_split( df.drop(columns=[\"target\"]),df[\"target\"], test_size=0.2 , stratify=df['target'] ,shuffle=True , random_state=123)"
   ]
  },
  {
   "cell_type": "code",
   "execution_count": 30,
   "id": "27487fc5",
   "metadata": {
    "execution": {
     "iopub.execute_input": "2024-12-17T23:03:18.925375Z",
     "iopub.status.busy": "2024-12-17T23:03:18.924234Z",
     "iopub.status.idle": "2024-12-17T23:03:18.934086Z",
     "shell.execute_reply": "2024-12-17T23:03:18.933000Z"
    },
    "papermill": {
     "duration": 0.024846,
     "end_time": "2024-12-17T23:03:18.936204",
     "exception": false,
     "start_time": "2024-12-17T23:03:18.911358",
     "status": "completed"
    },
    "tags": []
   },
   "outputs": [
    {
     "data": {
      "text/plain": [
       "target\n",
       "0    3443\n",
       "1    3322\n",
       "Name: count, dtype: int64"
      ]
     },
     "execution_count": 30,
     "metadata": {},
     "output_type": "execute_result"
    }
   ],
   "source": [
    "y_test.value_counts()"
   ]
  },
  {
   "cell_type": "code",
   "execution_count": 31,
   "id": "8552e3ee",
   "metadata": {
    "execution": {
     "iopub.execute_input": "2024-12-17T23:03:18.961511Z",
     "iopub.status.busy": "2024-12-17T23:03:18.961074Z",
     "iopub.status.idle": "2024-12-17T23:03:18.968246Z",
     "shell.execute_reply": "2024-12-17T23:03:18.967079Z"
    },
    "papermill": {
     "duration": 0.022307,
     "end_time": "2024-12-17T23:03:18.970421",
     "exception": false,
     "start_time": "2024-12-17T23:03:18.948114",
     "status": "completed"
    },
    "tags": []
   },
   "outputs": [
    {
     "data": {
      "text/plain": [
       "(27056, 2)"
      ]
     },
     "execution_count": 31,
     "metadata": {},
     "output_type": "execute_result"
    }
   ],
   "source": [
    "X_train.shape"
   ]
  },
  {
   "cell_type": "markdown",
   "id": "3da63d17",
   "metadata": {
    "papermill": {
     "duration": 0.012747,
     "end_time": "2024-12-17T23:03:18.995358",
     "exception": false,
     "start_time": "2024-12-17T23:03:18.982611",
     "status": "completed"
    },
    "tags": []
   },
   "source": [
    "## Useful Function"
   ]
  },
  {
   "cell_type": "code",
   "execution_count": 32,
   "id": "76589537",
   "metadata": {
    "execution": {
     "iopub.execute_input": "2024-12-17T23:03:19.021709Z",
     "iopub.status.busy": "2024-12-17T23:03:19.020663Z",
     "iopub.status.idle": "2024-12-17T23:03:19.576103Z",
     "shell.execute_reply": "2024-12-17T23:03:19.574466Z"
    },
    "papermill": {
     "duration": 0.573144,
     "end_time": "2024-12-17T23:03:19.580637",
     "exception": false,
     "start_time": "2024-12-17T23:03:19.007493",
     "status": "completed"
    },
    "tags": []
   },
   "outputs": [],
   "source": [
    "import numpy as np\n",
    "from sklearn.metrics import accuracy_score, f1_score, classification_report, confusion_matrix\n",
    "import seaborn as sns\n",
    "import matplotlib.pyplot as plt\n",
    "\n",
    "def about_model(model_name , y_test, y_pred):\n",
    "    print('-------------------> ' + model_name )\n",
    "    accuracy = accuracy_score(y_test, y_pred)\n",
    "    print(f\"Accuracy: {accuracy:.2f}\")\n",
    "    \n",
    "    f1 = f1_score(y_test, y_pred, average=None)\n",
    "    print(\"F1-Score for each class:\")\n",
    "    class_labels = ['Positive', 'Negative']\n",
    "\n",
    "    for i, score in enumerate(f1):\n",
    "        print(f\"{class_labels[i]}: {score:.2f}\")\n",
    "    \n",
    "    print(\"\\nClassification Report:\")\n",
    "    print(classification_report(y_test, y_pred, target_names=class_labels, digits=2))\n",
    "    \n",
    "    conf_matrix = confusion_matrix(y_test, y_pred)\n",
    "    plt.figure(figsize=(8, 6))\n",
    "    sns.heatmap(conf_matrix, annot=True, fmt='d', cmap='Blues', \n",
    "                xticklabels=class_labels,\n",
    "                yticklabels=class_labels)\n",
    "    plt.xlabel(\"Predicted\")\n",
    "    plt.ylabel(\"Actual\")\n",
    "    plt.title(\"Confusion Matrix\")\n",
    "    plt.show()\n"
   ]
  },
  {
   "cell_type": "markdown",
   "id": "d7a2cf78",
   "metadata": {
    "papermill": {
     "duration": 0.013221,
     "end_time": "2024-12-17T23:03:19.606477",
     "exception": false,
     "start_time": "2024-12-17T23:03:19.593256",
     "status": "completed"
    },
    "tags": []
   },
   "source": [
    "## Feature Engineering\n",
    "Converting text to vectors format:\n",
    "- CountVectorizer (ngram_range=(1, 1))"
   ]
  },
  {
   "cell_type": "code",
   "execution_count": 33,
   "id": "5d070c44",
   "metadata": {
    "execution": {
     "iopub.execute_input": "2024-12-17T23:03:19.634031Z",
     "iopub.status.busy": "2024-12-17T23:03:19.632721Z",
     "iopub.status.idle": "2024-12-17T23:03:19.638721Z",
     "shell.execute_reply": "2024-12-17T23:03:19.637595Z"
    },
    "papermill": {
     "duration": 0.022164,
     "end_time": "2024-12-17T23:03:19.641050",
     "exception": false,
     "start_time": "2024-12-17T23:03:19.618886",
     "status": "completed"
    },
    "tags": []
   },
   "outputs": [],
   "source": [
    "#from sklearn.feature_extraction.text import TfidfVectorizer\n",
    "\n",
    "\n",
    "#tfidf_vectorizer = TfidfVectorizer(ngram_range=(1, 2))\n",
    "#X_train['text_cleaned'] = X_train['text_cleaned'].astype(str)\n",
    "#X_test['text_cleaned'] = X_test['text_cleaned'].astype(str)\n",
    "\n",
    "#X_train_tfidf = tfidf_vectorizer.fit_transform(X_train['text_cleaned'])\n",
    "#X_test_tfidf = tfidf_vectorizer.transform(X_test['text_cleaned'])\n",
    "\n"
   ]
  },
  {
   "cell_type": "code",
   "execution_count": 34,
   "id": "a4b5feeb",
   "metadata": {
    "execution": {
     "iopub.execute_input": "2024-12-17T23:03:19.667900Z",
     "iopub.status.busy": "2024-12-17T23:03:19.666801Z",
     "iopub.status.idle": "2024-12-17T23:03:20.655174Z",
     "shell.execute_reply": "2024-12-17T23:03:20.654185Z"
    },
    "papermill": {
     "duration": 1.004245,
     "end_time": "2024-12-17T23:03:20.657627",
     "exception": false,
     "start_time": "2024-12-17T23:03:19.653382",
     "status": "completed"
    },
    "tags": []
   },
   "outputs": [
    {
     "name": "stdout",
     "output_type": "stream",
     "text": [
      "all tokens:  51981\n",
      "reduced tokens:  51981\n"
     ]
    },
    {
     "name": "stderr",
     "output_type": "stream",
     "text": [
      "/opt/conda/lib/python3.10/site-packages/sklearn/feature_extraction/text.py:1380: UserWarning: Upper case characters found in vocabulary while 'lowercase' is True. These entries will not be matched with any documents\n",
      "  warnings.warn(\n"
     ]
    }
   ],
   "source": [
    "from sklearn.feature_extraction.text import CountVectorizer\n",
    "import numpy as np\n",
    "import pandas as pd\n",
    "\n",
    "\n",
    "tfidf_vectorizer = CountVectorizer(ngram_range=(1, 1))\n",
    "\n",
    "X_train['text_cleaned'] = X_train['text_cleaned'].astype(str)\n",
    "X_test['text_cleaned'] = X_test['text_cleaned'].astype(str)\n",
    "\n",
    "X_train_tfidf = tfidf_vectorizer.fit_transform(X_train['text_cleaned'])\n",
    "X_test_tfidf = tfidf_vectorizer.transform(X_test['text_cleaned'])\n",
    "\n",
    "words = tfidf_vectorizer.get_feature_names_out()\n",
    "print(\"all tokens: \" , len(words))\n",
    "tfidf_scores = np.asarray(X_train_tfidf.sum(axis=0)).flatten()\n",
    "\n",
    "sorted_indices = np.argsort(tfidf_scores)[::-1]\n",
    "\n",
    "cumulative_tfidf = np.cumsum(tfidf_scores[sorted_indices])\n",
    "\n",
    "total_tfidf = cumulative_tfidf[-1]\n",
    "threshold =  total_tfidf\n",
    "\n",
    "cutoff_index = np.where(cumulative_tfidf >= threshold)[0][0]\n",
    "\n",
    "selected_ngrams = words[sorted_indices][:cutoff_index + 1]\n",
    "\n",
    "selected_vocab = selected_ngrams.tolist()\n",
    "print(\"reduced tokens: \"  , len(selected_vocab))\n",
    "\n",
    "tfidf_vectorizer = CountVectorizer(vocabulary=selected_vocab)\n",
    "\n",
    "X_train_tfidf = tfidf_vectorizer.fit_transform(X_train['text_cleaned'])\n",
    "X_test_tfidf = tfidf_vectorizer.transform(X_test['text_cleaned'])\n"
   ]
  },
  {
   "cell_type": "code",
   "execution_count": 35,
   "id": "2b543c74",
   "metadata": {
    "execution": {
     "iopub.execute_input": "2024-12-17T23:03:20.684788Z",
     "iopub.status.busy": "2024-12-17T23:03:20.683677Z",
     "iopub.status.idle": "2024-12-17T23:03:20.732967Z",
     "shell.execute_reply": "2024-12-17T23:03:20.731911Z"
    },
    "papermill": {
     "duration": 0.066009,
     "end_time": "2024-12-17T23:03:20.735941",
     "exception": false,
     "start_time": "2024-12-17T23:03:20.669932",
     "status": "completed"
    },
    "tags": []
   },
   "outputs": [
    {
     "data": {
      "text/plain": [
       "array(['لا', 'ما', 'غير', 'هه', 'ماش', 'سير', 'هم', 'خير', 'قلب', 'حمد',\n",
       "       'تفو', 'لم', 'فرح', 'عداله', 'احسن', 'فكر', 'قوه', 'عديم', 'مبروك',\n",
       "       'بدموع', 'ليس', 'سح', 'كورو', 'والو', 'تحيه', 'وفي', 'وباا', 'طحن',\n",
       "       'تنميه', 'مش'], dtype=object)"
      ]
     },
     "execution_count": 35,
     "metadata": {},
     "output_type": "execute_result"
    }
   ],
   "source": [
    "tfidf_vectorizer.get_feature_names_out()[:30]"
   ]
  },
  {
   "cell_type": "code",
   "execution_count": 36,
   "id": "aa78ead0",
   "metadata": {
    "execution": {
     "iopub.execute_input": "2024-12-17T23:03:20.770682Z",
     "iopub.status.busy": "2024-12-17T23:03:20.770143Z",
     "iopub.status.idle": "2024-12-17T23:03:20.825606Z",
     "shell.execute_reply": "2024-12-17T23:03:20.824389Z"
    },
    "papermill": {
     "duration": 0.072368,
     "end_time": "2024-12-17T23:03:20.828038",
     "exception": false,
     "start_time": "2024-12-17T23:03:20.755670",
     "status": "completed"
    },
    "tags": []
   },
   "outputs": [
    {
     "data": {
      "text/plain": [
       "51981"
      ]
     },
     "execution_count": 36,
     "metadata": {},
     "output_type": "execute_result"
    }
   ],
   "source": [
    "len(tfidf_vectorizer.get_feature_names_out())"
   ]
  },
  {
   "cell_type": "markdown",
   "id": "e0676b53",
   "metadata": {
    "papermill": {
     "duration": 0.012005,
     "end_time": "2024-12-17T23:03:20.852937",
     "exception": false,
     "start_time": "2024-12-17T23:03:20.840932",
     "status": "completed"
    },
    "tags": []
   },
   "source": [
    "## Model Development\n"
   ]
  },
  {
   "cell_type": "markdown",
   "id": "45080ce0",
   "metadata": {
    "papermill": {
     "duration": 0.012129,
     "end_time": "2024-12-17T23:03:20.877392",
     "exception": false,
     "start_time": "2024-12-17T23:03:20.865263",
     "status": "completed"
    },
    "tags": []
   },
   "source": [
    "### Random Forest"
   ]
  },
  {
   "cell_type": "code",
   "execution_count": 37,
   "id": "02409441",
   "metadata": {
    "execution": {
     "iopub.execute_input": "2024-12-17T23:03:20.904201Z",
     "iopub.status.busy": "2024-12-17T23:03:20.903830Z",
     "iopub.status.idle": "2024-12-17T23:05:48.024330Z",
     "shell.execute_reply": "2024-12-17T23:05:48.023033Z"
    },
    "papermill": {
     "duration": 147.149624,
     "end_time": "2024-12-17T23:05:48.039341",
     "exception": false,
     "start_time": "2024-12-17T23:03:20.889717",
     "status": "completed"
    },
    "tags": []
   },
   "outputs": [
    {
     "data": {
      "text/html": [
       "<style>#sk-container-id-1 {color: black;background-color: white;}#sk-container-id-1 pre{padding: 0;}#sk-container-id-1 div.sk-toggleable {background-color: white;}#sk-container-id-1 label.sk-toggleable__label {cursor: pointer;display: block;width: 100%;margin-bottom: 0;padding: 0.3em;box-sizing: border-box;text-align: center;}#sk-container-id-1 label.sk-toggleable__label-arrow:before {content: \"▸\";float: left;margin-right: 0.25em;color: #696969;}#sk-container-id-1 label.sk-toggleable__label-arrow:hover:before {color: black;}#sk-container-id-1 div.sk-estimator:hover label.sk-toggleable__label-arrow:before {color: black;}#sk-container-id-1 div.sk-toggleable__content {max-height: 0;max-width: 0;overflow: hidden;text-align: left;background-color: #f0f8ff;}#sk-container-id-1 div.sk-toggleable__content pre {margin: 0.2em;color: black;border-radius: 0.25em;background-color: #f0f8ff;}#sk-container-id-1 input.sk-toggleable__control:checked~div.sk-toggleable__content {max-height: 200px;max-width: 100%;overflow: auto;}#sk-container-id-1 input.sk-toggleable__control:checked~label.sk-toggleable__label-arrow:before {content: \"▾\";}#sk-container-id-1 div.sk-estimator input.sk-toggleable__control:checked~label.sk-toggleable__label {background-color: #d4ebff;}#sk-container-id-1 div.sk-label input.sk-toggleable__control:checked~label.sk-toggleable__label {background-color: #d4ebff;}#sk-container-id-1 input.sk-hidden--visually {border: 0;clip: rect(1px 1px 1px 1px);clip: rect(1px, 1px, 1px, 1px);height: 1px;margin: -1px;overflow: hidden;padding: 0;position: absolute;width: 1px;}#sk-container-id-1 div.sk-estimator {font-family: monospace;background-color: #f0f8ff;border: 1px dotted black;border-radius: 0.25em;box-sizing: border-box;margin-bottom: 0.5em;}#sk-container-id-1 div.sk-estimator:hover {background-color: #d4ebff;}#sk-container-id-1 div.sk-parallel-item::after {content: \"\";width: 100%;border-bottom: 1px solid gray;flex-grow: 1;}#sk-container-id-1 div.sk-label:hover label.sk-toggleable__label {background-color: #d4ebff;}#sk-container-id-1 div.sk-serial::before {content: \"\";position: absolute;border-left: 1px solid gray;box-sizing: border-box;top: 0;bottom: 0;left: 50%;z-index: 0;}#sk-container-id-1 div.sk-serial {display: flex;flex-direction: column;align-items: center;background-color: white;padding-right: 0.2em;padding-left: 0.2em;position: relative;}#sk-container-id-1 div.sk-item {position: relative;z-index: 1;}#sk-container-id-1 div.sk-parallel {display: flex;align-items: stretch;justify-content: center;background-color: white;position: relative;}#sk-container-id-1 div.sk-item::before, #sk-container-id-1 div.sk-parallel-item::before {content: \"\";position: absolute;border-left: 1px solid gray;box-sizing: border-box;top: 0;bottom: 0;left: 50%;z-index: -1;}#sk-container-id-1 div.sk-parallel-item {display: flex;flex-direction: column;z-index: 1;position: relative;background-color: white;}#sk-container-id-1 div.sk-parallel-item:first-child::after {align-self: flex-end;width: 50%;}#sk-container-id-1 div.sk-parallel-item:last-child::after {align-self: flex-start;width: 50%;}#sk-container-id-1 div.sk-parallel-item:only-child::after {width: 0;}#sk-container-id-1 div.sk-dashed-wrapped {border: 1px dashed gray;margin: 0 0.4em 0.5em 0.4em;box-sizing: border-box;padding-bottom: 0.4em;background-color: white;}#sk-container-id-1 div.sk-label label {font-family: monospace;font-weight: bold;display: inline-block;line-height: 1.2em;}#sk-container-id-1 div.sk-label-container {text-align: center;}#sk-container-id-1 div.sk-container {/* jupyter's `normalize.less` sets `[hidden] { display: none; }` but bootstrap.min.css set `[hidden] { display: none !important; }` so we also need the `!important` here to be able to override the default hidden behavior on the sphinx rendered scikit-learn.org. See: https://github.com/scikit-learn/scikit-learn/issues/21755 */display: inline-block !important;position: relative;}#sk-container-id-1 div.sk-text-repr-fallback {display: none;}</style><div id=\"sk-container-id-1\" class=\"sk-top-container\"><div class=\"sk-text-repr-fallback\"><pre>RandomForestClassifier()</pre><b>In a Jupyter environment, please rerun this cell to show the HTML representation or trust the notebook. <br />On GitHub, the HTML representation is unable to render, please try loading this page with nbviewer.org.</b></div><div class=\"sk-container\" hidden><div class=\"sk-item\"><div class=\"sk-estimator sk-toggleable\"><input class=\"sk-toggleable__control sk-hidden--visually\" id=\"sk-estimator-id-1\" type=\"checkbox\" checked><label for=\"sk-estimator-id-1\" class=\"sk-toggleable__label sk-toggleable__label-arrow\">RandomForestClassifier</label><div class=\"sk-toggleable__content\"><pre>RandomForestClassifier()</pre></div></div></div></div></div>"
      ],
      "text/plain": [
       "RandomForestClassifier()"
      ]
     },
     "execution_count": 37,
     "metadata": {},
     "output_type": "execute_result"
    }
   ],
   "source": [
    "from sklearn.ensemble import RandomForestClassifier\n",
    "randomforest_clf = RandomForestClassifier()\n",
    "randomforest_clf.fit(X_train_tfidf, y_train)"
   ]
  },
  {
   "cell_type": "code",
   "execution_count": 38,
   "id": "4b4f90fd",
   "metadata": {
    "execution": {
     "iopub.execute_input": "2024-12-17T23:05:48.066043Z",
     "iopub.status.busy": "2024-12-17T23:05:48.065591Z",
     "iopub.status.idle": "2024-12-17T23:05:51.557100Z",
     "shell.execute_reply": "2024-12-17T23:05:51.555932Z"
    },
    "papermill": {
     "duration": 3.507803,
     "end_time": "2024-12-17T23:05:51.559393",
     "exception": false,
     "start_time": "2024-12-17T23:05:48.051590",
     "status": "completed"
    },
    "tags": []
   },
   "outputs": [
    {
     "name": "stdout",
     "output_type": "stream",
     "text": [
      "-------------------> Random Forest\n",
      "Accuracy: 0.72\n",
      "F1-Score for each class:\n",
      "Positive: 0.68\n",
      "Negative: 0.74\n",
      "\n",
      "Classification Report:\n",
      "              precision    recall  f1-score   support\n",
      "\n",
      "    Positive       0.79      0.60      0.68      3443\n",
      "    Negative       0.67      0.84      0.74      3322\n",
      "\n",
      "    accuracy                           0.72      6765\n",
      "   macro avg       0.73      0.72      0.71      6765\n",
      "weighted avg       0.73      0.72      0.71      6765\n",
      "\n"
     ]
    },
    {
     "data": {
      "image/png": "[encoded data removed]",
      "text/plain": [
       "<Figure size 800x600 with 2 Axes>"
      ]
     },
     "metadata": {},
     "output_type": "display_data"
    }
   ],
   "source": [
    "y_hat = randomforest_clf.predict(X_test_tfidf) \n",
    "about_model(\"Random Forest\" , y_test, y_hat)"
   ]
  },
  {
   "cell_type": "markdown",
   "id": "0c203890",
   "metadata": {
    "papermill": {
     "duration": 0.012843,
     "end_time": "2024-12-17T23:05:51.585460",
     "exception": false,
     "start_time": "2024-12-17T23:05:51.572617",
     "status": "completed"
    },
    "tags": []
   },
   "source": [
    "### Tuned Random Forest"
   ]
  },
  {
   "cell_type": "code",
   "execution_count": 39,
   "id": "4420adb2",
   "metadata": {
    "execution": {
     "iopub.execute_input": "2024-12-17T23:05:51.615020Z",
     "iopub.status.busy": "2024-12-17T23:05:51.614599Z",
     "iopub.status.idle": "2024-12-18T05:20:56.712745Z",
     "shell.execute_reply": "2024-12-18T05:20:56.711043Z"
    },
    "papermill": {
     "duration": 22505.130808,
     "end_time": "2024-12-18T05:20:56.730210",
     "exception": false,
     "start_time": "2024-12-17T23:05:51.599402",
     "status": "completed"
    },
    "tags": []
   },
   "outputs": [
    {
     "name": "stdout",
     "output_type": "stream",
     "text": [
      "Fitting 5 folds for each of 108 candidates, totalling 540 fits\n"
     ]
    },
    {
     "data": {
      "text/plain": [
       "{'criterion': 'entropy',\n",
       " 'max_depth': None,\n",
       " 'max_features': 'log2',\n",
       " 'min_samples_split': 10,\n",
       " 'n_estimators': 100}"
      ]
     },
     "execution_count": 39,
     "metadata": {},
     "output_type": "execute_result"
    }
   ],
   "source": [
    "param_grid_ = {\n",
    "    'n_estimators': [10, 100, 200],\n",
    "    'max_features': ['sqrt', 'log2'],\n",
    "    'criterion': ['gini', 'entropy'], \n",
    "    'max_depth': [None, 10, 20],      \n",
    "    'min_samples_split': [2, 5, 10]   \n",
    "}\n",
    "\n",
    "randomforest_clf = GridSearchCV(estimator=RandomForestClassifier(n_jobs=-1),\n",
    "                                param_grid=param_grid_, \n",
    "                                cv=5, verbose=1 , \n",
    "                                scoring='accuracy',\n",
    "                                n_jobs=-1)\n",
    "randomforest_clf.fit(X_train_tfidf, y_train)\n",
    "randomforest_clf.best_params_\n"
   ]
  },
  {
   "cell_type": "code",
   "execution_count": 40,
   "id": "4da00f38",
   "metadata": {
    "execution": {
     "iopub.execute_input": "2024-12-18T05:20:56.760345Z",
     "iopub.status.busy": "2024-12-18T05:20:56.759882Z",
     "iopub.status.idle": "2024-12-18T05:20:59.784025Z",
     "shell.execute_reply": "2024-12-18T05:20:59.782968Z"
    },
    "papermill": {
     "duration": 3.042653,
     "end_time": "2024-12-18T05:20:59.786401",
     "exception": false,
     "start_time": "2024-12-18T05:20:56.743748",
     "status": "completed"
    },
    "tags": []
   },
   "outputs": [
    {
     "name": "stdout",
     "output_type": "stream",
     "text": [
      "-------------------> Tuned Random Forest\n",
      "Accuracy: 0.75\n",
      "F1-Score for each class:\n",
      "Positive: 0.73\n",
      "Negative: 0.76\n",
      "\n",
      "Classification Report:\n",
      "              precision    recall  f1-score   support\n",
      "\n",
      "    Positive       0.80      0.68      0.73      3443\n",
      "    Negative       0.71      0.82      0.76      3322\n",
      "\n",
      "    accuracy                           0.75      6765\n",
      "   macro avg       0.75      0.75      0.75      6765\n",
      "weighted avg       0.76      0.75      0.75      6765\n",
      "\n"
     ]
    },
    {
     "data": {
      "image/png": "[encoded data removed]",
      "text/plain": [
       "<Figure size 800x600 with 2 Axes>"
      ]
     },
     "metadata": {},
     "output_type": "display_data"
    }
   ],
   "source": [
    "y_hat = randomforest_clf.predict(X_test_tfidf)\n",
    "about_model(\"Tuned Random Forest\" , y_test , y_hat)"
   ]
  },
  {
   "cell_type": "markdown",
   "id": "7c70fb64",
   "metadata": {
    "papermill": {
     "duration": 0.014002,
     "end_time": "2024-12-18T05:20:59.814920",
     "exception": false,
     "start_time": "2024-12-18T05:20:59.800918",
     "status": "completed"
    },
    "tags": []
   },
   "source": [
    "### SVM"
   ]
  },
  {
   "cell_type": "code",
   "execution_count": 41,
   "id": "86e0ebff",
   "metadata": {
    "execution": {
     "iopub.execute_input": "2024-12-18T05:20:59.845154Z",
     "iopub.status.busy": "2024-12-18T05:20:59.844701Z",
     "iopub.status.idle": "2024-12-18T05:33:38.648592Z",
     "shell.execute_reply": "2024-12-18T05:33:38.647254Z"
    },
    "papermill": {
     "duration": 758.835908,
     "end_time": "2024-12-18T05:33:38.665055",
     "exception": false,
     "start_time": "2024-12-18T05:20:59.829147",
     "status": "completed"
    },
    "tags": []
   },
   "outputs": [
    {
     "data": {
      "text/html": [
       "<style>#sk-container-id-2 {color: black;background-color: white;}#sk-container-id-2 pre{padding: 0;}#sk-container-id-2 div.sk-toggleable {background-color: white;}#sk-container-id-2 label.sk-toggleable__label {cursor: pointer;display: block;width: 100%;margin-bottom: 0;padding: 0.3em;box-sizing: border-box;text-align: center;}#sk-container-id-2 label.sk-toggleable__label-arrow:before {content: \"▸\";float: left;margin-right: 0.25em;color: #696969;}#sk-container-id-2 label.sk-toggleable__label-arrow:hover:before {color: black;}#sk-container-id-2 div.sk-estimator:hover label.sk-toggleable__label-arrow:before {color: black;}#sk-container-id-2 div.sk-toggleable__content {max-height: 0;max-width: 0;overflow: hidden;text-align: left;background-color: #f0f8ff;}#sk-container-id-2 div.sk-toggleable__content pre {margin: 0.2em;color: black;border-radius: 0.25em;background-color: #f0f8ff;}#sk-container-id-2 input.sk-toggleable__control:checked~div.sk-toggleable__content {max-height: 200px;max-width: 100%;overflow: auto;}#sk-container-id-2 input.sk-toggleable__control:checked~label.sk-toggleable__label-arrow:before {content: \"▾\";}#sk-container-id-2 div.sk-estimator input.sk-toggleable__control:checked~label.sk-toggleable__label {background-color: #d4ebff;}#sk-container-id-2 div.sk-label input.sk-toggleable__control:checked~label.sk-toggleable__label {background-color: #d4ebff;}#sk-container-id-2 input.sk-hidden--visually {border: 0;clip: rect(1px 1px 1px 1px);clip: rect(1px, 1px, 1px, 1px);height: 1px;margin: -1px;overflow: hidden;padding: 0;position: absolute;width: 1px;}#sk-container-id-2 div.sk-estimator {font-family: monospace;background-color: #f0f8ff;border: 1px dotted black;border-radius: 0.25em;box-sizing: border-box;margin-bottom: 0.5em;}#sk-container-id-2 div.sk-estimator:hover {background-color: #d4ebff;}#sk-container-id-2 div.sk-parallel-item::after {content: \"\";width: 100%;border-bottom: 1px solid gray;flex-grow: 1;}#sk-container-id-2 div.sk-label:hover label.sk-toggleable__label {background-color: #d4ebff;}#sk-container-id-2 div.sk-serial::before {content: \"\";position: absolute;border-left: 1px solid gray;box-sizing: border-box;top: 0;bottom: 0;left: 50%;z-index: 0;}#sk-container-id-2 div.sk-serial {display: flex;flex-direction: column;align-items: center;background-color: white;padding-right: 0.2em;padding-left: 0.2em;position: relative;}#sk-container-id-2 div.sk-item {position: relative;z-index: 1;}#sk-container-id-2 div.sk-parallel {display: flex;align-items: stretch;justify-content: center;background-color: white;position: relative;}#sk-container-id-2 div.sk-item::before, #sk-container-id-2 div.sk-parallel-item::before {content: \"\";position: absolute;border-left: 1px solid gray;box-sizing: border-box;top: 0;bottom: 0;left: 50%;z-index: -1;}#sk-container-id-2 div.sk-parallel-item {display: flex;flex-direction: column;z-index: 1;position: relative;background-color: white;}#sk-container-id-2 div.sk-parallel-item:first-child::after {align-self: flex-end;width: 50%;}#sk-container-id-2 div.sk-parallel-item:last-child::after {align-self: flex-start;width: 50%;}#sk-container-id-2 div.sk-parallel-item:only-child::after {width: 0;}#sk-container-id-2 div.sk-dashed-wrapped {border: 1px dashed gray;margin: 0 0.4em 0.5em 0.4em;box-sizing: border-box;padding-bottom: 0.4em;background-color: white;}#sk-container-id-2 div.sk-label label {font-family: monospace;font-weight: bold;display: inline-block;line-height: 1.2em;}#sk-container-id-2 div.sk-label-container {text-align: center;}#sk-container-id-2 div.sk-container {/* jupyter's `normalize.less` sets `[hidden] { display: none; }` but bootstrap.min.css set `[hidden] { display: none !important; }` so we also need the `!important` here to be able to override the default hidden behavior on the sphinx rendered scikit-learn.org. See: https://github.com/scikit-learn/scikit-learn/issues/21755 */display: inline-block !important;position: relative;}#sk-container-id-2 div.sk-text-repr-fallback {display: none;}</style><div id=\"sk-container-id-2\" class=\"sk-top-container\"><div class=\"sk-text-repr-fallback\"><pre>SVC(probability=True)</pre><b>In a Jupyter environment, please rerun this cell to show the HTML representation or trust the notebook. <br />On GitHub, the HTML representation is unable to render, please try loading this page with nbviewer.org.</b></div><div class=\"sk-container\" hidden><div class=\"sk-item\"><div class=\"sk-estimator sk-toggleable\"><input class=\"sk-toggleable__control sk-hidden--visually\" id=\"sk-estimator-id-2\" type=\"checkbox\" checked><label for=\"sk-estimator-id-2\" class=\"sk-toggleable__label sk-toggleable__label-arrow\">SVC</label><div class=\"sk-toggleable__content\"><pre>SVC(probability=True)</pre></div></div></div></div></div>"
      ],
      "text/plain": [
       "SVC(probability=True)"
      ]
     },
     "execution_count": 41,
     "metadata": {},
     "output_type": "execute_result"
    }
   ],
   "source": [
    "from sklearn.svm import SVC\n",
    "svm_clf = SVC(probability=True)\n",
    "svm_clf.fit(X_train_tfidf, y_train)"
   ]
  },
  {
   "cell_type": "code",
   "execution_count": 42,
   "id": "bc5d8394",
   "metadata": {
    "execution": {
     "iopub.execute_input": "2024-12-18T05:33:38.696686Z",
     "iopub.status.busy": "2024-12-18T05:33:38.696260Z",
     "iopub.status.idle": "2024-12-18T05:33:50.506080Z",
     "shell.execute_reply": "2024-12-18T05:33:50.504916Z"
    },
    "papermill": {
     "duration": 11.828722,
     "end_time": "2024-12-18T05:33:50.508520",
     "exception": false,
     "start_time": "2024-12-18T05:33:38.679798",
     "status": "completed"
    },
    "tags": []
   },
   "outputs": [
    {
     "name": "stdout",
     "output_type": "stream",
     "text": [
      "-------------------> SVM\n",
      "Accuracy: 0.75\n",
      "F1-Score for each class:\n",
      "Positive: 0.73\n",
      "Negative: 0.76\n",
      "\n",
      "Classification Report:\n",
      "              precision    recall  f1-score   support\n",
      "\n",
      "    Positive       0.78      0.69      0.73      3443\n",
      "    Negative       0.71      0.80      0.76      3322\n",
      "\n",
      "    accuracy                           0.75      6765\n",
      "   macro avg       0.75      0.75      0.74      6765\n",
      "weighted avg       0.75      0.75      0.74      6765\n",
      "\n"
     ]
    },
    {
     "data": {
      "image/png": "[encoded data removed]",
      "text/plain": [
       "<Figure size 800x600 with 2 Axes>"
      ]
     },
     "metadata": {},
     "output_type": "display_data"
    }
   ],
   "source": [
    "y_hat = svm_clf.predict(X_test_tfidf) \n",
    "about_model(\"SVM\" , y_test, y_hat)"
   ]
  },
  {
   "cell_type": "markdown",
   "id": "af2b8c36",
   "metadata": {
    "papermill": {
     "duration": 0.014595,
     "end_time": "2024-12-18T05:33:50.538394",
     "exception": false,
     "start_time": "2024-12-18T05:33:50.523799",
     "status": "completed"
    },
    "tags": []
   },
   "source": [
    "### Tuned SVM"
   ]
  },
  {
   "cell_type": "code",
   "execution_count": 43,
   "id": "79a8dbc1",
   "metadata": {
    "execution": {
     "iopub.execute_input": "2024-12-18T05:33:50.569859Z",
     "iopub.status.busy": "2024-12-18T05:33:50.569477Z",
     "iopub.status.idle": "2024-12-18T10:08:11.739004Z",
     "shell.execute_reply": "2024-12-18T10:08:11.737580Z"
    },
    "papermill": {
     "duration": 16461.203221,
     "end_time": "2024-12-18T10:08:11.756418",
     "exception": false,
     "start_time": "2024-12-18T05:33:50.553197",
     "status": "completed"
    },
    "tags": []
   },
   "outputs": [
    {
     "name": "stdout",
     "output_type": "stream",
     "text": [
      "Fitting 5 folds for each of 75 candidates, totalling 375 fits\n"
     ]
    },
    {
     "data": {
      "text/plain": [
       "{'C': 5, 'gamma': 0.1, 'kernel': 'rbf'}"
      ]
     },
     "execution_count": 43,
     "metadata": {},
     "output_type": "execute_result"
    }
   ],
   "source": [
    "param_grid_ = {'kernel': ['rbf', 'linear', 'poly'],\n",
    "             'gamma': [0.01 , 0.1, 1, 10, 100],\n",
    "             'C': [0.1, 1,5, 10, 100]}\n",
    "svm_grid = GridSearchCV(estimator=SVC(), \n",
    "                        param_grid=param_grid_, \n",
    "                        cv=5, verbose=1 , \n",
    "                        scoring='accuracy' , \n",
    "                        n_jobs=-1)\n",
    "svm_grid.fit(X_train_tfidf, y_train)\n",
    "svm_grid.best_params_\n"
   ]
  },
  {
   "cell_type": "code",
   "execution_count": 44,
   "id": "fd85ea2d",
   "metadata": {
    "execution": {
     "iopub.execute_input": "2024-12-18T10:08:11.788544Z",
     "iopub.status.busy": "2024-12-18T10:08:11.788127Z",
     "iopub.status.idle": "2024-12-18T10:08:22.609822Z",
     "shell.execute_reply": "2024-12-18T10:08:22.608627Z"
    },
    "papermill": {
     "duration": 10.840793,
     "end_time": "2024-12-18T10:08:22.612256",
     "exception": false,
     "start_time": "2024-12-18T10:08:11.771463",
     "status": "completed"
    },
    "tags": []
   },
   "outputs": [
    {
     "name": "stdout",
     "output_type": "stream",
     "text": [
      "-------------------> Tuned SVM\n",
      "Accuracy: 0.75\n",
      "F1-Score for each class:\n",
      "Positive: 0.74\n",
      "Negative: 0.76\n",
      "\n",
      "Classification Report:\n",
      "              precision    recall  f1-score   support\n",
      "\n",
      "    Positive       0.78      0.69      0.74      3443\n",
      "    Negative       0.72      0.80      0.76      3322\n",
      "\n",
      "    accuracy                           0.75      6765\n",
      "   macro avg       0.75      0.75      0.75      6765\n",
      "weighted avg       0.75      0.75      0.75      6765\n",
      "\n"
     ]
    },
    {
     "data": {
      "image/png": "[encoded data removed]",
      "text/plain": [
       "<Figure size 800x600 with 2 Axes>"
      ]
     },
     "metadata": {},
     "output_type": "display_data"
    }
   ],
   "source": [
    "y_hat = svm_grid.predict(X_test_tfidf)\n",
    "about_model(\"Tuned SVM\", y_test , y_hat) "
   ]
  },
  {
   "cell_type": "markdown",
   "id": "f0cda7b1",
   "metadata": {
    "papermill": {
     "duration": 0.015026,
     "end_time": "2024-12-18T10:08:22.643659",
     "exception": false,
     "start_time": "2024-12-18T10:08:22.628633",
     "status": "completed"
    },
    "tags": []
   },
   "source": [
    "### lightgbm"
   ]
  },
  {
   "cell_type": "code",
   "execution_count": 45,
   "id": "d2a42699",
   "metadata": {
    "execution": {
     "iopub.execute_input": "2024-12-18T10:08:22.676147Z",
     "iopub.status.busy": "2024-12-18T10:08:22.675756Z",
     "iopub.status.idle": "2024-12-18T10:08:27.168985Z",
     "shell.execute_reply": "2024-12-18T10:08:27.167604Z"
    },
    "papermill": {
     "duration": 4.512595,
     "end_time": "2024-12-18T10:08:27.171640",
     "exception": false,
     "start_time": "2024-12-18T10:08:22.659045",
     "status": "completed"
    },
    "tags": []
   },
   "outputs": [],
   "source": [
    "import lightgbm as lgb\n",
    "\n",
    "X_train_tfidf = X_train_tfidf.astype(np.float32)\n",
    "X_test_tfidf = X_test_tfidf.astype(np.float32)\n",
    "\n",
    "d_train = lgb.Dataset(X_train_tfidf, label=y_train)\n",
    "d_test = lgb.Dataset(X_test_tfidf, label=y_test, reference=d_train)\n",
    "\n",
    "params = {\n",
    "    'objective': 'binary',  \n",
    "    'boosting_type': 'gbdt',\n",
    "    'metric': 'binary_logloss', \n",
    "    'num_leaves': 31,\n",
    "    'learning_rate': 0.1,\n",
    "    'verbose': 0\n",
    "}\n",
    "\n",
    "model = lgb.train(params, d_train, num_boost_round=100, valid_sets=[d_train, d_test])"
   ]
  },
  {
   "cell_type": "code",
   "execution_count": 46,
   "id": "1cf307a8",
   "metadata": {
    "execution": {
     "iopub.execute_input": "2024-12-18T10:08:27.204868Z",
     "iopub.status.busy": "2024-12-18T10:08:27.204256Z",
     "iopub.status.idle": "2024-12-18T10:08:27.479987Z",
     "shell.execute_reply": "2024-12-18T10:08:27.478534Z"
    },
    "papermill": {
     "duration": 0.295317,
     "end_time": "2024-12-18T10:08:27.482491",
     "exception": false,
     "start_time": "2024-12-18T10:08:27.187174",
     "status": "completed"
    },
    "tags": []
   },
   "outputs": [
    {
     "name": "stdout",
     "output_type": "stream",
     "text": [
      "-------------------> lightgbm\n",
      "Accuracy: 0.69\n",
      "F1-Score for each class:\n",
      "Positive: 0.65\n",
      "Negative: 0.72\n",
      "\n",
      "Classification Report:\n",
      "              precision    recall  f1-score   support\n",
      "\n",
      "    Positive       0.75      0.58      0.65      3443\n",
      "    Negative       0.65      0.81      0.72      3322\n",
      "\n",
      "    accuracy                           0.69      6765\n",
      "   macro avg       0.70      0.69      0.69      6765\n",
      "weighted avg       0.70      0.69      0.68      6765\n",
      "\n"
     ]
    },
    {
     "data": {
      "image/png": "[encoded data removed]",
      "text/plain": [
       "<Figure size 800x600 with 2 Axes>"
      ]
     },
     "metadata": {},
     "output_type": "display_data"
    }
   ],
   "source": [
    "y_hat = model.predict(X_test_tfidf)\n",
    "y_hat = (y_hat > 0.5).astype(int)\n",
    "about_model(\"lightgbm\", y_test, y_hat)\n"
   ]
  },
  {
   "cell_type": "markdown",
   "id": "4b8734b5",
   "metadata": {
    "papermill": {
     "duration": 0.017039,
     "end_time": "2024-12-18T10:08:27.517501",
     "exception": false,
     "start_time": "2024-12-18T10:08:27.500462",
     "status": "completed"
    },
    "tags": []
   },
   "source": [
    "### Tuned lightgbm"
   ]
  },
  {
   "cell_type": "code",
   "execution_count": 47,
   "id": "63cdab4a",
   "metadata": {
    "execution": {
     "iopub.execute_input": "2024-12-18T10:08:27.554699Z",
     "iopub.status.busy": "2024-12-18T10:08:27.554220Z",
     "iopub.status.idle": "2024-12-18T10:10:54.920838Z",
     "shell.execute_reply": "2024-12-18T10:10:54.919702Z"
    },
    "papermill": {
     "duration": 147.388257,
     "end_time": "2024-12-18T10:10:54.923049",
     "exception": false,
     "start_time": "2024-12-18T10:08:27.534792",
     "status": "completed"
    },
    "tags": []
   },
   "outputs": [
    {
     "name": "stdout",
     "output_type": "stream",
     "text": [
      "[LightGBM] [Info] Number of positive: 10629, number of negative: 11015\n",
      "[LightGBM] [Info] Auto-choosing row-wise multi-threading, the overhead of testing was 0.077671 seconds.\n",
      "You can set `force_row_wise=true` to remove the overhead.\n",
      "And if memory is not enough, you can set `force_col_wise=true`.\n",
      "[LightGBM] [Info] Total Bins 1288\n",
      "[LightGBM] [Info] Number of data points in the train set: 21644, number of used features: 591\n",
      "[LightGBM] [Info] [binary:BoostFromScore]: pavg=0.491083 -> initscore=-0.035672\n",
      "[LightGBM] [Info] Start training from score -0.035672\n",
      "[LightGBM] [Info] Number of positive: 10630, number of negative: 11015\n",
      "[LightGBM] [Info] Auto-choosing row-wise multi-threading, the overhead of testing was 0.077216 seconds.\n",
      "You can set `force_row_wise=true` to remove the overhead.\n",
      "And if memory is not enough, you can set `force_col_wise=true`.\n",
      "[LightGBM] [Info] Total Bins 1308\n",
      "[LightGBM] [Info] Number of data points in the train set: 21645, number of used features: 597\n",
      "[LightGBM] [Info] [binary:BoostFromScore]: pavg=0.491106 -> initscore=-0.035578\n",
      "[LightGBM] [Info] Start training from score -0.035578\n",
      "[LightGBM] [Info] Number of positive: 10630, number of negative: 11015\n",
      "[LightGBM] [Info] Auto-choosing row-wise multi-threading, the overhead of testing was 0.077766 seconds.\n",
      "You can set `force_row_wise=true` to remove the overhead.\n",
      "And if memory is not enough, you can set `force_col_wise=true`.\n",
      "[LightGBM] [Info] Total Bins 1295\n",
      "[LightGBM] [Info] Number of data points in the train set: 21645, number of used features: 590\n",
      "[LightGBM] [Info] [binary:BoostFromScore]: pavg=0.491106 -> initscore=-0.035578\n",
      "[LightGBM] [Info] Start training from score -0.035578\n",
      "[LightGBM] [Info] Number of positive: 10630, number of negative: 11015\n",
      "[LightGBM] [Info] Auto-choosing row-wise multi-threading, the overhead of testing was 0.076415 seconds.\n",
      "You can set `force_row_wise=true` to remove the overhead.\n",
      "And if memory is not enough, you can set `force_col_wise=true`.\n",
      "[LightGBM] [Info] Total Bins 1288\n",
      "[LightGBM] [Info] Number of data points in the train set: 21645, number of used features: 587\n",
      "[LightGBM] [Info] [binary:BoostFromScore]: pavg=0.491106 -> initscore=-0.035578\n",
      "[LightGBM] [Info] Start training from score -0.035578\n",
      "[LightGBM] [Info] Number of positive: 10629, number of negative: 11016\n",
      "[LightGBM] [Info] Auto-choosing row-wise multi-threading, the overhead of testing was 0.078643 seconds.\n",
      "You can set `force_row_wise=true` to remove the overhead.\n",
      "And if memory is not enough, you can set `force_col_wise=true`.\n",
      "[LightGBM] [Info] Total Bins 1321\n",
      "[LightGBM] [Info] Number of data points in the train set: 21645, number of used features: 599\n",
      "[LightGBM] [Info] [binary:BoostFromScore]: pavg=0.491060 -> initscore=-0.035763\n",
      "[LightGBM] [Info] Start training from score -0.035763\n",
      "[LightGBM] [Info] Number of positive: 10629, number of negative: 11015\n",
      "[LightGBM] [Info] Auto-choosing row-wise multi-threading, the overhead of testing was 0.076906 seconds.\n",
      "You can set `force_row_wise=true` to remove the overhead.\n",
      "And if memory is not enough, you can set `force_col_wise=true`.\n",
      "[LightGBM] [Info] Total Bins 1288\n",
      "[LightGBM] [Info] Number of data points in the train set: 21644, number of used features: 591\n",
      "[LightGBM] [Info] [binary:BoostFromScore]: pavg=0.491083 -> initscore=-0.035672\n",
      "[LightGBM] [Info] Start training from score -0.035672\n",
      "[LightGBM] [Info] Number of positive: 10630, number of negative: 11015\n",
      "[LightGBM] [Info] Auto-choosing row-wise multi-threading, the overhead of testing was 0.078524 seconds.\n",
      "You can set `force_row_wise=true` to remove the overhead.\n",
      "And if memory is not enough, you can set `force_col_wise=true`.\n",
      "[LightGBM] [Info] Total Bins 1308\n",
      "[LightGBM] [Info] Number of data points in the train set: 21645, number of used features: 597\n",
      "[LightGBM] [Info] [binary:BoostFromScore]: pavg=0.491106 -> initscore=-0.035578\n",
      "[LightGBM] [Info] Start training from score -0.035578\n",
      "[LightGBM] [Info] Number of positive: 10630, number of negative: 11015\n",
      "[LightGBM] [Info] Auto-choosing row-wise multi-threading, the overhead of testing was 0.076332 seconds.\n",
      "You can set `force_row_wise=true` to remove the overhead.\n",
      "And if memory is not enough, you can set `force_col_wise=true`.\n",
      "[LightGBM] [Info] Total Bins 1295\n",
      "[LightGBM] [Info] Number of data points in the train set: 21645, number of used features: 590\n",
      "[LightGBM] [Info] [binary:BoostFromScore]: pavg=0.491106 -> initscore=-0.035578\n",
      "[LightGBM] [Info] Start training from score -0.035578\n",
      "[LightGBM] [Info] Number of positive: 10630, number of negative: 11015\n",
      "[LightGBM] [Info] Auto-choosing row-wise multi-threading, the overhead of testing was 0.077878 seconds.\n",
      "You can set `force_row_wise=true` to remove the overhead.\n",
      "And if memory is not enough, you can set `force_col_wise=true`.\n",
      "[LightGBM] [Info] Total Bins 1288\n",
      "[LightGBM] [Info] Number of data points in the train set: 21645, number of used features: 587\n",
      "[LightGBM] [Info] [binary:BoostFromScore]: pavg=0.491106 -> initscore=-0.035578\n",
      "[LightGBM] [Info] Start training from score -0.035578\n",
      "[LightGBM] [Info] Number of positive: 10629, number of negative: 11016\n",
      "[LightGBM] [Info] Auto-choosing row-wise multi-threading, the overhead of testing was 0.079318 seconds.\n",
      "You can set `force_row_wise=true` to remove the overhead.\n",
      "And if memory is not enough, you can set `force_col_wise=true`.\n",
      "[LightGBM] [Info] Total Bins 1321\n",
      "[LightGBM] [Info] Number of data points in the train set: 21645, number of used features: 599\n",
      "[LightGBM] [Info] [binary:BoostFromScore]: pavg=0.491060 -> initscore=-0.035763\n",
      "[LightGBM] [Info] Start training from score -0.035763\n",
      "[LightGBM] [Info] Number of positive: 10629, number of negative: 11015\n",
      "[LightGBM] [Info] Auto-choosing row-wise multi-threading, the overhead of testing was 0.076829 seconds.\n",
      "You can set `force_row_wise=true` to remove the overhead.\n",
      "And if memory is not enough, you can set `force_col_wise=true`.\n",
      "[LightGBM] [Info] Total Bins 1288\n",
      "[LightGBM] [Info] Number of data points in the train set: 21644, number of used features: 591\n",
      "[LightGBM] [Info] [binary:BoostFromScore]: pavg=0.491083 -> initscore=-0.035672\n",
      "[LightGBM] [Info] Start training from score -0.035672\n",
      "[LightGBM] [Info] Number of positive: 10630, number of negative: 11015\n",
      "[LightGBM] [Info] Auto-choosing row-wise multi-threading, the overhead of testing was 0.078593 seconds.\n",
      "You can set `force_row_wise=true` to remove the overhead.\n",
      "And if memory is not enough, you can set `force_col_wise=true`.\n",
      "[LightGBM] [Info] Total Bins 1308\n",
      "[LightGBM] [Info] Number of data points in the train set: 21645, number of used features: 597\n",
      "[LightGBM] [Info] [binary:BoostFromScore]: pavg=0.491106 -> initscore=-0.035578\n",
      "[LightGBM] [Info] Start training from score -0.035578\n",
      "[LightGBM] [Info] Number of positive: 10630, number of negative: 11015\n",
      "[LightGBM] [Info] Auto-choosing row-wise multi-threading, the overhead of testing was 0.077874 seconds.\n",
      "You can set `force_row_wise=true` to remove the overhead.\n",
      "And if memory is not enough, you can set `force_col_wise=true`.\n",
      "[LightGBM] [Info] Total Bins 1295\n",
      "[LightGBM] [Info] Number of data points in the train set: 21645, number of used features: 590\n",
      "[LightGBM] [Info] [binary:BoostFromScore]: pavg=0.491106 -> initscore=-0.035578\n",
      "[LightGBM] [Info] Start training from score -0.035578\n",
      "[LightGBM] [Info] Number of positive: 10630, number of negative: 11015\n",
      "[LightGBM] [Info] Auto-choosing row-wise multi-threading, the overhead of testing was 0.075966 seconds.\n",
      "You can set `force_row_wise=true` to remove the overhead.\n",
      "And if memory is not enough, you can set `force_col_wise=true`.\n",
      "[LightGBM] [Info] Total Bins 1288\n",
      "[LightGBM] [Info] Number of data points in the train set: 21645, number of used features: 587\n",
      "[LightGBM] [Info] [binary:BoostFromScore]: pavg=0.491106 -> initscore=-0.035578\n",
      "[LightGBM] [Info] Start training from score -0.035578\n",
      "[LightGBM] [Info] Number of positive: 10629, number of negative: 11016\n",
      "[LightGBM] [Info] Auto-choosing row-wise multi-threading, the overhead of testing was 0.077889 seconds.\n",
      "You can set `force_row_wise=true` to remove the overhead.\n",
      "And if memory is not enough, you can set `force_col_wise=true`.\n",
      "[LightGBM] [Info] Total Bins 1321\n",
      "[LightGBM] [Info] Number of data points in the train set: 21645, number of used features: 599\n",
      "[LightGBM] [Info] [binary:BoostFromScore]: pavg=0.491060 -> initscore=-0.035763\n",
      "[LightGBM] [Info] Start training from score -0.035763\n",
      "[LightGBM] [Info] Number of positive: 10629, number of negative: 11015\n",
      "[LightGBM] [Info] Auto-choosing row-wise multi-threading, the overhead of testing was 0.077070 seconds.\n",
      "You can set `force_row_wise=true` to remove the overhead.\n",
      "And if memory is not enough, you can set `force_col_wise=true`.\n",
      "[LightGBM] [Info] Total Bins 1288\n",
      "[LightGBM] [Info] Number of data points in the train set: 21644, number of used features: 591\n",
      "[LightGBM] [Info] [binary:BoostFromScore]: pavg=0.491083 -> initscore=-0.035672\n",
      "[LightGBM] [Info] Start training from score -0.035672\n",
      "[LightGBM] [Info] Number of positive: 10630, number of negative: 11015\n",
      "[LightGBM] [Info] Auto-choosing row-wise multi-threading, the overhead of testing was 0.077383 seconds.\n",
      "You can set `force_row_wise=true` to remove the overhead.\n",
      "And if memory is not enough, you can set `force_col_wise=true`.\n",
      "[LightGBM] [Info] Total Bins 1308\n",
      "[LightGBM] [Info] Number of data points in the train set: 21645, number of used features: 597\n",
      "[LightGBM] [Info] [binary:BoostFromScore]: pavg=0.491106 -> initscore=-0.035578\n",
      "[LightGBM] [Info] Start training from score -0.035578\n",
      "[LightGBM] [Info] Number of positive: 10630, number of negative: 11015\n",
      "[LightGBM] [Info] Auto-choosing row-wise multi-threading, the overhead of testing was 0.077300 seconds.\n",
      "You can set `force_row_wise=true` to remove the overhead.\n",
      "And if memory is not enough, you can set `force_col_wise=true`.\n",
      "[LightGBM] [Info] Total Bins 1295\n",
      "[LightGBM] [Info] Number of data points in the train set: 21645, number of used features: 590\n",
      "[LightGBM] [Info] [binary:BoostFromScore]: pavg=0.491106 -> initscore=-0.035578\n",
      "[LightGBM] [Info] Start training from score -0.035578\n",
      "[LightGBM] [Info] Number of positive: 10630, number of negative: 11015\n",
      "[LightGBM] [Info] Auto-choosing row-wise multi-threading, the overhead of testing was 0.076663 seconds.\n",
      "You can set `force_row_wise=true` to remove the overhead.\n",
      "And if memory is not enough, you can set `force_col_wise=true`.\n",
      "[LightGBM] [Info] Total Bins 1288\n",
      "[LightGBM] [Info] Number of data points in the train set: 21645, number of used features: 587\n",
      "[LightGBM] [Info] [binary:BoostFromScore]: pavg=0.491106 -> initscore=-0.035578\n",
      "[LightGBM] [Info] Start training from score -0.035578\n",
      "[LightGBM] [Info] Number of positive: 10629, number of negative: 11016\n",
      "[LightGBM] [Info] Auto-choosing row-wise multi-threading, the overhead of testing was 0.078466 seconds.\n",
      "You can set `force_row_wise=true` to remove the overhead.\n",
      "And if memory is not enough, you can set `force_col_wise=true`.\n",
      "[LightGBM] [Info] Total Bins 1321\n",
      "[LightGBM] [Info] Number of data points in the train set: 21645, number of used features: 599\n",
      "[LightGBM] [Info] [binary:BoostFromScore]: pavg=0.491060 -> initscore=-0.035763\n",
      "[LightGBM] [Info] Start training from score -0.035763\n",
      "[LightGBM] [Info] Number of positive: 10629, number of negative: 11015\n",
      "[LightGBM] [Info] Auto-choosing row-wise multi-threading, the overhead of testing was 0.076928 seconds.\n",
      "You can set `force_row_wise=true` to remove the overhead.\n",
      "And if memory is not enough, you can set `force_col_wise=true`.\n",
      "[LightGBM] [Info] Total Bins 1288\n",
      "[LightGBM] [Info] Number of data points in the train set: 21644, number of used features: 591\n",
      "[LightGBM] [Info] [binary:BoostFromScore]: pavg=0.491083 -> initscore=-0.035672\n",
      "[LightGBM] [Info] Start training from score -0.035672\n",
      "[LightGBM] [Info] Number of positive: 10630, number of negative: 11015\n",
      "[LightGBM] [Info] Auto-choosing col-wise multi-threading, the overhead of testing was 0.076052 seconds.\n",
      "You can set `force_col_wise=true` to remove the overhead.\n",
      "[LightGBM] [Info] Total Bins 1308\n",
      "[LightGBM] [Info] Number of data points in the train set: 21645, number of used features: 597\n",
      "[LightGBM] [Info] [binary:BoostFromScore]: pavg=0.491106 -> initscore=-0.035578\n",
      "[LightGBM] [Info] Start training from score -0.035578\n",
      "[LightGBM] [Info] Number of positive: 10630, number of negative: 11015\n",
      "[LightGBM] [Info] Auto-choosing row-wise multi-threading, the overhead of testing was 0.076052 seconds.\n",
      "You can set `force_row_wise=true` to remove the overhead.\n",
      "And if memory is not enough, you can set `force_col_wise=true`.\n",
      "[LightGBM] [Info] Total Bins 1295\n",
      "[LightGBM] [Info] Number of data points in the train set: 21645, number of used features: 590\n",
      "[LightGBM] [Info] [binary:BoostFromScore]: pavg=0.491106 -> initscore=-0.035578\n",
      "[LightGBM] [Info] Start training from score -0.035578\n",
      "[LightGBM] [Info] Number of positive: 10630, number of negative: 11015\n",
      "[LightGBM] [Info] Auto-choosing row-wise multi-threading, the overhead of testing was 0.077620 seconds.\n",
      "You can set `force_row_wise=true` to remove the overhead.\n",
      "And if memory is not enough, you can set `force_col_wise=true`.\n",
      "[LightGBM] [Info] Total Bins 1288\n",
      "[LightGBM] [Info] Number of data points in the train set: 21645, number of used features: 587\n",
      "[LightGBM] [Info] [binary:BoostFromScore]: pavg=0.491106 -> initscore=-0.035578\n",
      "[LightGBM] [Info] Start training from score -0.035578\n",
      "[LightGBM] [Info] Number of positive: 10629, number of negative: 11016\n",
      "[LightGBM] [Info] Auto-choosing row-wise multi-threading, the overhead of testing was 0.078959 seconds.\n",
      "You can set `force_row_wise=true` to remove the overhead.\n",
      "And if memory is not enough, you can set `force_col_wise=true`.\n",
      "[LightGBM] [Info] Total Bins 1321\n",
      "[LightGBM] [Info] Number of data points in the train set: 21645, number of used features: 599\n",
      "[LightGBM] [Info] [binary:BoostFromScore]: pavg=0.491060 -> initscore=-0.035763\n",
      "[LightGBM] [Info] Start training from score -0.035763\n",
      "[LightGBM] [Info] Number of positive: 10629, number of negative: 11015\n",
      "[LightGBM] [Info] Auto-choosing row-wise multi-threading, the overhead of testing was 0.078820 seconds.\n",
      "You can set `force_row_wise=true` to remove the overhead.\n",
      "And if memory is not enough, you can set `force_col_wise=true`.\n",
      "[LightGBM] [Info] Total Bins 1288\n",
      "[LightGBM] [Info] Number of data points in the train set: 21644, number of used features: 591\n",
      "[LightGBM] [Info] [binary:BoostFromScore]: pavg=0.491083 -> initscore=-0.035672\n",
      "[LightGBM] [Info] Start training from score -0.035672\n",
      "[LightGBM] [Info] Number of positive: 10630, number of negative: 11015\n",
      "[LightGBM] [Info] Auto-choosing row-wise multi-threading, the overhead of testing was 0.077273 seconds.\n",
      "You can set `force_row_wise=true` to remove the overhead.\n",
      "And if memory is not enough, you can set `force_col_wise=true`.\n",
      "[LightGBM] [Info] Total Bins 1308\n",
      "[LightGBM] [Info] Number of data points in the train set: 21645, number of used features: 597\n",
      "[LightGBM] [Info] [binary:BoostFromScore]: pavg=0.491106 -> initscore=-0.035578\n",
      "[LightGBM] [Info] Start training from score -0.035578\n",
      "[LightGBM] [Info] Number of positive: 10630, number of negative: 11015\n",
      "[LightGBM] [Info] Auto-choosing row-wise multi-threading, the overhead of testing was 0.077002 seconds.\n",
      "You can set `force_row_wise=true` to remove the overhead.\n",
      "And if memory is not enough, you can set `force_col_wise=true`.\n",
      "[LightGBM] [Info] Total Bins 1295\n",
      "[LightGBM] [Info] Number of data points in the train set: 21645, number of used features: 590\n",
      "[LightGBM] [Info] [binary:BoostFromScore]: pavg=0.491106 -> initscore=-0.035578\n",
      "[LightGBM] [Info] Start training from score -0.035578\n",
      "[LightGBM] [Info] Number of positive: 10630, number of negative: 11015\n",
      "[LightGBM] [Info] Auto-choosing row-wise multi-threading, the overhead of testing was 0.076341 seconds.\n",
      "You can set `force_row_wise=true` to remove the overhead.\n",
      "And if memory is not enough, you can set `force_col_wise=true`.\n",
      "[LightGBM] [Info] Total Bins 1288\n",
      "[LightGBM] [Info] Number of data points in the train set: 21645, number of used features: 587\n",
      "[LightGBM] [Info] [binary:BoostFromScore]: pavg=0.491106 -> initscore=-0.035578\n",
      "[LightGBM] [Info] Start training from score -0.035578\n",
      "[LightGBM] [Info] Number of positive: 10629, number of negative: 11016\n",
      "[LightGBM] [Info] Auto-choosing row-wise multi-threading, the overhead of testing was 0.080626 seconds.\n",
      "You can set `force_row_wise=true` to remove the overhead.\n",
      "And if memory is not enough, you can set `force_col_wise=true`.\n",
      "[LightGBM] [Info] Total Bins 1321\n",
      "[LightGBM] [Info] Number of data points in the train set: 21645, number of used features: 599\n",
      "[LightGBM] [Info] [binary:BoostFromScore]: pavg=0.491060 -> initscore=-0.035763\n",
      "[LightGBM] [Info] Start training from score -0.035763\n",
      "[LightGBM] [Info] Number of positive: 10629, number of negative: 11015\n",
      "[LightGBM] [Info] Auto-choosing col-wise multi-threading, the overhead of testing was 0.076097 seconds.\n",
      "You can set `force_col_wise=true` to remove the overhead.\n",
      "[LightGBM] [Info] Total Bins 1288\n",
      "[LightGBM] [Info] Number of data points in the train set: 21644, number of used features: 591\n",
      "[LightGBM] [Info] [binary:BoostFromScore]: pavg=0.491083 -> initscore=-0.035672\n",
      "[LightGBM] [Info] Start training from score -0.035672\n",
      "[LightGBM] [Info] Number of positive: 10630, number of negative: 11015\n",
      "[LightGBM] [Info] Auto-choosing row-wise multi-threading, the overhead of testing was 0.077239 seconds.\n",
      "You can set `force_row_wise=true` to remove the overhead.\n",
      "And if memory is not enough, you can set `force_col_wise=true`.\n",
      "[LightGBM] [Info] Total Bins 1308\n",
      "[LightGBM] [Info] Number of data points in the train set: 21645, number of used features: 597\n",
      "[LightGBM] [Info] [binary:BoostFromScore]: pavg=0.491106 -> initscore=-0.035578\n",
      "[LightGBM] [Info] Start training from score -0.035578\n",
      "[LightGBM] [Info] Number of positive: 10630, number of negative: 11015\n",
      "[LightGBM] [Info] Auto-choosing col-wise multi-threading, the overhead of testing was 0.076824 seconds.\n",
      "You can set `force_col_wise=true` to remove the overhead.\n",
      "[LightGBM] [Info] Total Bins 1295\n",
      "[LightGBM] [Info] Number of data points in the train set: 21645, number of used features: 590\n",
      "[LightGBM] [Info] [binary:BoostFromScore]: pavg=0.491106 -> initscore=-0.035578\n",
      "[LightGBM] [Info] Start training from score -0.035578\n",
      "[LightGBM] [Info] Number of positive: 10630, number of negative: 11015\n",
      "[LightGBM] [Info] Auto-choosing row-wise multi-threading, the overhead of testing was 0.123548 seconds.\n",
      "You can set `force_row_wise=true` to remove the overhead.\n",
      "And if memory is not enough, you can set `force_col_wise=true`.\n",
      "[LightGBM] [Info] Total Bins 1288\n",
      "[LightGBM] [Info] Number of data points in the train set: 21645, number of used features: 587\n",
      "[LightGBM] [Info] [binary:BoostFromScore]: pavg=0.491106 -> initscore=-0.035578\n",
      "[LightGBM] [Info] Start training from score -0.035578\n",
      "[LightGBM] [Info] Number of positive: 10629, number of negative: 11016\n",
      "[LightGBM] [Info] Auto-choosing row-wise multi-threading, the overhead of testing was 0.077848 seconds.\n",
      "You can set `force_row_wise=true` to remove the overhead.\n",
      "And if memory is not enough, you can set `force_col_wise=true`.\n",
      "[LightGBM] [Info] Total Bins 1321\n",
      "[LightGBM] [Info] Number of data points in the train set: 21645, number of used features: 599\n",
      "[LightGBM] [Info] [binary:BoostFromScore]: pavg=0.491060 -> initscore=-0.035763\n",
      "[LightGBM] [Info] Start training from score -0.035763\n",
      "[LightGBM] [Info] Number of positive: 10629, number of negative: 11015\n",
      "[LightGBM] [Info] Auto-choosing row-wise multi-threading, the overhead of testing was 0.076363 seconds.\n",
      "You can set `force_row_wise=true` to remove the overhead.\n",
      "And if memory is not enough, you can set `force_col_wise=true`.\n",
      "[LightGBM] [Info] Total Bins 1288\n",
      "[LightGBM] [Info] Number of data points in the train set: 21644, number of used features: 591\n",
      "[LightGBM] [Info] [binary:BoostFromScore]: pavg=0.491083 -> initscore=-0.035672\n",
      "[LightGBM] [Info] Start training from score -0.035672\n",
      "[LightGBM] [Info] Number of positive: 10630, number of negative: 11015\n",
      "[LightGBM] [Info] Auto-choosing row-wise multi-threading, the overhead of testing was 0.077351 seconds.\n",
      "You can set `force_row_wise=true` to remove the overhead.\n",
      "And if memory is not enough, you can set `force_col_wise=true`.\n",
      "[LightGBM] [Info] Total Bins 1308\n",
      "[LightGBM] [Info] Number of data points in the train set: 21645, number of used features: 597\n",
      "[LightGBM] [Info] [binary:BoostFromScore]: pavg=0.491106 -> initscore=-0.035578\n",
      "[LightGBM] [Info] Start training from score -0.035578\n",
      "[LightGBM] [Info] Number of positive: 10630, number of negative: 11015\n",
      "[LightGBM] [Info] Auto-choosing row-wise multi-threading, the overhead of testing was 0.075913 seconds.\n",
      "You can set `force_row_wise=true` to remove the overhead.\n",
      "And if memory is not enough, you can set `force_col_wise=true`.\n",
      "[LightGBM] [Info] Total Bins 1295\n",
      "[LightGBM] [Info] Number of data points in the train set: 21645, number of used features: 590\n",
      "[LightGBM] [Info] [binary:BoostFromScore]: pavg=0.491106 -> initscore=-0.035578\n",
      "[LightGBM] [Info] Start training from score -0.035578\n",
      "[LightGBM] [Info] Number of positive: 10630, number of negative: 11015\n",
      "[LightGBM] [Info] Auto-choosing row-wise multi-threading, the overhead of testing was 0.078576 seconds.\n",
      "You can set `force_row_wise=true` to remove the overhead.\n",
      "And if memory is not enough, you can set `force_col_wise=true`.\n",
      "[LightGBM] [Info] Total Bins 1288\n",
      "[LightGBM] [Info] Number of data points in the train set: 21645, number of used features: 587\n",
      "[LightGBM] [Info] [binary:BoostFromScore]: pavg=0.491106 -> initscore=-0.035578\n",
      "[LightGBM] [Info] Start training from score -0.035578\n",
      "[LightGBM] [Info] Number of positive: 10629, number of negative: 11016\n",
      "[LightGBM] [Info] Auto-choosing row-wise multi-threading, the overhead of testing was 0.078148 seconds.\n",
      "You can set `force_row_wise=true` to remove the overhead.\n",
      "And if memory is not enough, you can set `force_col_wise=true`.\n",
      "[LightGBM] [Info] Total Bins 1321\n",
      "[LightGBM] [Info] Number of data points in the train set: 21645, number of used features: 599\n",
      "[LightGBM] [Info] [binary:BoostFromScore]: pavg=0.491060 -> initscore=-0.035763\n",
      "[LightGBM] [Info] Start training from score -0.035763\n",
      "[LightGBM] [Info] Number of positive: 10629, number of negative: 11015\n",
      "[LightGBM] [Info] Auto-choosing row-wise multi-threading, the overhead of testing was 0.077678 seconds.\n",
      "You can set `force_row_wise=true` to remove the overhead.\n",
      "And if memory is not enough, you can set `force_col_wise=true`.\n",
      "[LightGBM] [Info] Total Bins 1288\n",
      "[LightGBM] [Info] Number of data points in the train set: 21644, number of used features: 591\n",
      "[LightGBM] [Info] [binary:BoostFromScore]: pavg=0.491083 -> initscore=-0.035672\n",
      "[LightGBM] [Info] Start training from score -0.035672\n",
      "[LightGBM] [Info] Number of positive: 10630, number of negative: 11015\n",
      "[LightGBM] [Info] Auto-choosing row-wise multi-threading, the overhead of testing was 0.077270 seconds.\n",
      "You can set `force_row_wise=true` to remove the overhead.\n",
      "And if memory is not enough, you can set `force_col_wise=true`.\n",
      "[LightGBM] [Info] Total Bins 1308\n",
      "[LightGBM] [Info] Number of data points in the train set: 21645, number of used features: 597\n",
      "[LightGBM] [Info] [binary:BoostFromScore]: pavg=0.491106 -> initscore=-0.035578\n",
      "[LightGBM] [Info] Start training from score -0.035578\n",
      "[LightGBM] [Info] Number of positive: 10630, number of negative: 11015\n",
      "[LightGBM] [Info] Auto-choosing row-wise multi-threading, the overhead of testing was 0.077445 seconds.\n",
      "You can set `force_row_wise=true` to remove the overhead.\n",
      "And if memory is not enough, you can set `force_col_wise=true`.\n",
      "[LightGBM] [Info] Total Bins 1295\n",
      "[LightGBM] [Info] Number of data points in the train set: 21645, number of used features: 590\n",
      "[LightGBM] [Info] [binary:BoostFromScore]: pavg=0.491106 -> initscore=-0.035578\n",
      "[LightGBM] [Info] Start training from score -0.035578\n",
      "[LightGBM] [Info] Number of positive: 10630, number of negative: 11015\n",
      "[LightGBM] [Info] Auto-choosing row-wise multi-threading, the overhead of testing was 0.075354 seconds.\n",
      "You can set `force_row_wise=true` to remove the overhead.\n",
      "And if memory is not enough, you can set `force_col_wise=true`.\n",
      "[LightGBM] [Info] Total Bins 1288\n",
      "[LightGBM] [Info] Number of data points in the train set: 21645, number of used features: 587\n",
      "[LightGBM] [Info] [binary:BoostFromScore]: pavg=0.491106 -> initscore=-0.035578\n",
      "[LightGBM] [Info] Start training from score -0.035578\n",
      "[LightGBM] [Info] Number of positive: 10629, number of negative: 11016\n",
      "[LightGBM] [Info] Auto-choosing row-wise multi-threading, the overhead of testing was 0.077258 seconds.\n",
      "You can set `force_row_wise=true` to remove the overhead.\n",
      "And if memory is not enough, you can set `force_col_wise=true`.\n",
      "[LightGBM] [Info] Total Bins 1321\n",
      "[LightGBM] [Info] Number of data points in the train set: 21645, number of used features: 599\n",
      "[LightGBM] [Info] [binary:BoostFromScore]: pavg=0.491060 -> initscore=-0.035763\n",
      "[LightGBM] [Info] Start training from score -0.035763\n",
      "[LightGBM] [Info] Number of positive: 10629, number of negative: 11015\n",
      "[LightGBM] [Info] Auto-choosing row-wise multi-threading, the overhead of testing was 0.077235 seconds.\n",
      "You can set `force_row_wise=true` to remove the overhead.\n",
      "And if memory is not enough, you can set `force_col_wise=true`.\n",
      "[LightGBM] [Info] Total Bins 1288\n",
      "[LightGBM] [Info] Number of data points in the train set: 21644, number of used features: 591\n",
      "[LightGBM] [Info] [binary:BoostFromScore]: pavg=0.491083 -> initscore=-0.035672\n",
      "[LightGBM] [Info] Start training from score -0.035672\n",
      "[LightGBM] [Info] Number of positive: 10630, number of negative: 11015\n",
      "[LightGBM] [Info] Auto-choosing row-wise multi-threading, the overhead of testing was 0.079278 seconds.\n",
      "You can set `force_row_wise=true` to remove the overhead.\n",
      "And if memory is not enough, you can set `force_col_wise=true`.\n",
      "[LightGBM] [Info] Total Bins 1308\n",
      "[LightGBM] [Info] Number of data points in the train set: 21645, number of used features: 597\n",
      "[LightGBM] [Info] [binary:BoostFromScore]: pavg=0.491106 -> initscore=-0.035578\n",
      "[LightGBM] [Info] Start training from score -0.035578\n",
      "[LightGBM] [Info] Number of positive: 10630, number of negative: 11015\n",
      "[LightGBM] [Info] Auto-choosing row-wise multi-threading, the overhead of testing was 0.076084 seconds.\n",
      "You can set `force_row_wise=true` to remove the overhead.\n",
      "And if memory is not enough, you can set `force_col_wise=true`.\n",
      "[LightGBM] [Info] Total Bins 1295\n",
      "[LightGBM] [Info] Number of data points in the train set: 21645, number of used features: 590\n",
      "[LightGBM] [Info] [binary:BoostFromScore]: pavg=0.491106 -> initscore=-0.035578\n",
      "[LightGBM] [Info] Start training from score -0.035578\n",
      "[LightGBM] [Info] Number of positive: 10630, number of negative: 11015\n",
      "[LightGBM] [Info] Auto-choosing row-wise multi-threading, the overhead of testing was 0.076987 seconds.\n",
      "You can set `force_row_wise=true` to remove the overhead.\n",
      "And if memory is not enough, you can set `force_col_wise=true`.\n",
      "[LightGBM] [Info] Total Bins 1288\n",
      "[LightGBM] [Info] Number of data points in the train set: 21645, number of used features: 587\n",
      "[LightGBM] [Info] [binary:BoostFromScore]: pavg=0.491106 -> initscore=-0.035578\n",
      "[LightGBM] [Info] Start training from score -0.035578\n",
      "[LightGBM] [Info] Number of positive: 10629, number of negative: 11016\n",
      "[LightGBM] [Info] Auto-choosing col-wise multi-threading, the overhead of testing was 0.076759 seconds.\n",
      "You can set `force_col_wise=true` to remove the overhead.\n",
      "[LightGBM] [Info] Total Bins 1321\n",
      "[LightGBM] [Info] Number of data points in the train set: 21645, number of used features: 599\n",
      "[LightGBM] [Info] [binary:BoostFromScore]: pavg=0.491060 -> initscore=-0.035763\n",
      "[LightGBM] [Info] Start training from score -0.035763\n",
      "[LightGBM] [Info] Number of positive: 10629, number of negative: 11015\n",
      "[LightGBM] [Info] Auto-choosing row-wise multi-threading, the overhead of testing was 0.076085 seconds.\n",
      "You can set `force_row_wise=true` to remove the overhead.\n",
      "And if memory is not enough, you can set `force_col_wise=true`.\n",
      "[LightGBM] [Info] Total Bins 1288\n",
      "[LightGBM] [Info] Number of data points in the train set: 21644, number of used features: 591\n",
      "[LightGBM] [Info] [binary:BoostFromScore]: pavg=0.491083 -> initscore=-0.035672\n",
      "[LightGBM] [Info] Start training from score -0.035672\n",
      "[LightGBM] [Info] Number of positive: 10630, number of negative: 11015\n",
      "[LightGBM] [Info] Auto-choosing row-wise multi-threading, the overhead of testing was 0.078062 seconds.\n",
      "You can set `force_row_wise=true` to remove the overhead.\n",
      "And if memory is not enough, you can set `force_col_wise=true`.\n",
      "[LightGBM] [Info] Total Bins 1308\n",
      "[LightGBM] [Info] Number of data points in the train set: 21645, number of used features: 597\n",
      "[LightGBM] [Info] [binary:BoostFromScore]: pavg=0.491106 -> initscore=-0.035578\n",
      "[LightGBM] [Info] Start training from score -0.035578\n",
      "[LightGBM] [Info] Number of positive: 10630, number of negative: 11015\n",
      "[LightGBM] [Info] Auto-choosing row-wise multi-threading, the overhead of testing was 0.077939 seconds.\n",
      "You can set `force_row_wise=true` to remove the overhead.\n",
      "And if memory is not enough, you can set `force_col_wise=true`.\n",
      "[LightGBM] [Info] Total Bins 1295\n",
      "[LightGBM] [Info] Number of data points in the train set: 21645, number of used features: 590\n",
      "[LightGBM] [Info] [binary:BoostFromScore]: pavg=0.491106 -> initscore=-0.035578\n",
      "[LightGBM] [Info] Start training from score -0.035578\n",
      "[LightGBM] [Info] Number of positive: 10630, number of negative: 11015\n",
      "[LightGBM] [Info] Auto-choosing row-wise multi-threading, the overhead of testing was 0.076951 seconds.\n",
      "You can set `force_row_wise=true` to remove the overhead.\n",
      "And if memory is not enough, you can set `force_col_wise=true`.\n",
      "[LightGBM] [Info] Total Bins 1288\n",
      "[LightGBM] [Info] Number of data points in the train set: 21645, number of used features: 587\n",
      "[LightGBM] [Info] [binary:BoostFromScore]: pavg=0.491106 -> initscore=-0.035578\n",
      "[LightGBM] [Info] Start training from score -0.035578\n",
      "[LightGBM] [Info] Number of positive: 10629, number of negative: 11016\n",
      "[LightGBM] [Info] Auto-choosing row-wise multi-threading, the overhead of testing was 0.077053 seconds.\n",
      "You can set `force_row_wise=true` to remove the overhead.\n",
      "And if memory is not enough, you can set `force_col_wise=true`.\n",
      "[LightGBM] [Info] Total Bins 1321\n",
      "[LightGBM] [Info] Number of data points in the train set: 21645, number of used features: 599\n",
      "[LightGBM] [Info] [binary:BoostFromScore]: pavg=0.491060 -> initscore=-0.035763\n",
      "[LightGBM] [Info] Start training from score -0.035763\n",
      "[LightGBM] [Info] Number of positive: 10629, number of negative: 11015\n",
      "[LightGBM] [Info] Auto-choosing col-wise multi-threading, the overhead of testing was 0.077513 seconds.\n",
      "You can set `force_col_wise=true` to remove the overhead.\n",
      "[LightGBM] [Info] Total Bins 1288\n",
      "[LightGBM] [Info] Number of data points in the train set: 21644, number of used features: 591\n",
      "[LightGBM] [Info] [binary:BoostFromScore]: pavg=0.491083 -> initscore=-0.035672\n",
      "[LightGBM] [Info] Start training from score -0.035672\n",
      "[LightGBM] [Info] Number of positive: 10630, number of negative: 11015\n",
      "[LightGBM] [Info] Auto-choosing row-wise multi-threading, the overhead of testing was 0.076750 seconds.\n",
      "You can set `force_row_wise=true` to remove the overhead.\n",
      "And if memory is not enough, you can set `force_col_wise=true`.\n",
      "[LightGBM] [Info] Total Bins 1308\n",
      "[LightGBM] [Info] Number of data points in the train set: 21645, number of used features: 597\n",
      "[LightGBM] [Info] [binary:BoostFromScore]: pavg=0.491106 -> initscore=-0.035578\n",
      "[LightGBM] [Info] Start training from score -0.035578\n",
      "[LightGBM] [Info] Number of positive: 10630, number of negative: 11015\n",
      "[LightGBM] [Info] Auto-choosing col-wise multi-threading, the overhead of testing was 0.082590 seconds.\n",
      "You can set `force_col_wise=true` to remove the overhead.\n",
      "[LightGBM] [Info] Total Bins 1295\n",
      "[LightGBM] [Info] Number of data points in the train set: 21645, number of used features: 590\n",
      "[LightGBM] [Info] [binary:BoostFromScore]: pavg=0.491106 -> initscore=-0.035578\n",
      "[LightGBM] [Info] Start training from score -0.035578\n",
      "[LightGBM] [Info] Number of positive: 10630, number of negative: 11015\n",
      "[LightGBM] [Info] Auto-choosing row-wise multi-threading, the overhead of testing was 0.076238 seconds.\n",
      "You can set `force_row_wise=true` to remove the overhead.\n",
      "And if memory is not enough, you can set `force_col_wise=true`.\n",
      "[LightGBM] [Info] Total Bins 1288\n",
      "[LightGBM] [Info] Number of data points in the train set: 21645, number of used features: 587\n",
      "[LightGBM] [Info] [binary:BoostFromScore]: pavg=0.491106 -> initscore=-0.035578\n",
      "[LightGBM] [Info] Start training from score -0.035578\n",
      "[LightGBM] [Info] Number of positive: 10629, number of negative: 11016\n",
      "[LightGBM] [Info] Auto-choosing row-wise multi-threading, the overhead of testing was 0.078394 seconds.\n",
      "You can set `force_row_wise=true` to remove the overhead.\n",
      "And if memory is not enough, you can set `force_col_wise=true`.\n",
      "[LightGBM] [Info] Total Bins 1321\n",
      "[LightGBM] [Info] Number of data points in the train set: 21645, number of used features: 599\n",
      "[LightGBM] [Info] [binary:BoostFromScore]: pavg=0.491060 -> initscore=-0.035763\n",
      "[LightGBM] [Info] Start training from score -0.035763\n",
      "[LightGBM] [Info] Number of positive: 10629, number of negative: 11015\n",
      "[LightGBM] [Info] Auto-choosing row-wise multi-threading, the overhead of testing was 0.078215 seconds.\n",
      "You can set `force_row_wise=true` to remove the overhead.\n",
      "And if memory is not enough, you can set `force_col_wise=true`.\n",
      "[LightGBM] [Info] Total Bins 1288\n",
      "[LightGBM] [Info] Number of data points in the train set: 21644, number of used features: 591\n",
      "[LightGBM] [Info] [binary:BoostFromScore]: pavg=0.491083 -> initscore=-0.035672\n",
      "[LightGBM] [Info] Start training from score -0.035672\n",
      "[LightGBM] [Info] Number of positive: 10630, number of negative: 11015\n",
      "[LightGBM] [Info] Auto-choosing row-wise multi-threading, the overhead of testing was 0.077866 seconds.\n",
      "You can set `force_row_wise=true` to remove the overhead.\n",
      "And if memory is not enough, you can set `force_col_wise=true`.\n",
      "[LightGBM] [Info] Total Bins 1308\n",
      "[LightGBM] [Info] Number of data points in the train set: 21645, number of used features: 597\n",
      "[LightGBM] [Info] [binary:BoostFromScore]: pavg=0.491106 -> initscore=-0.035578\n",
      "[LightGBM] [Info] Start training from score -0.035578\n",
      "[LightGBM] [Info] Number of positive: 10630, number of negative: 11015\n",
      "[LightGBM] [Info] Auto-choosing row-wise multi-threading, the overhead of testing was 0.077314 seconds.\n",
      "You can set `force_row_wise=true` to remove the overhead.\n",
      "And if memory is not enough, you can set `force_col_wise=true`.\n",
      "[LightGBM] [Info] Total Bins 1295\n",
      "[LightGBM] [Info] Number of data points in the train set: 21645, number of used features: 590\n",
      "[LightGBM] [Info] [binary:BoostFromScore]: pavg=0.491106 -> initscore=-0.035578\n",
      "[LightGBM] [Info] Start training from score -0.035578\n",
      "[LightGBM] [Info] Number of positive: 10630, number of negative: 11015\n",
      "[LightGBM] [Info] Auto-choosing row-wise multi-threading, the overhead of testing was 0.079977 seconds.\n",
      "You can set `force_row_wise=true` to remove the overhead.\n",
      "And if memory is not enough, you can set `force_col_wise=true`.\n",
      "[LightGBM] [Info] Total Bins 1288\n",
      "[LightGBM] [Info] Number of data points in the train set: 21645, number of used features: 587\n",
      "[LightGBM] [Info] [binary:BoostFromScore]: pavg=0.491106 -> initscore=-0.035578\n",
      "[LightGBM] [Info] Start training from score -0.035578\n",
      "[LightGBM] [Info] Number of positive: 10629, number of negative: 11016\n",
      "[LightGBM] [Info] Auto-choosing row-wise multi-threading, the overhead of testing was 0.077337 seconds.\n",
      "You can set `force_row_wise=true` to remove the overhead.\n",
      "And if memory is not enough, you can set `force_col_wise=true`.\n",
      "[LightGBM] [Info] Total Bins 1321\n",
      "[LightGBM] [Info] Number of data points in the train set: 21645, number of used features: 599\n",
      "[LightGBM] [Info] [binary:BoostFromScore]: pavg=0.491060 -> initscore=-0.035763\n",
      "[LightGBM] [Info] Start training from score -0.035763\n",
      "[LightGBM] [Info] Number of positive: 10629, number of negative: 11015\n",
      "[LightGBM] [Info] Auto-choosing row-wise multi-threading, the overhead of testing was 0.077006 seconds.\n",
      "You can set `force_row_wise=true` to remove the overhead.\n",
      "And if memory is not enough, you can set `force_col_wise=true`.\n",
      "[LightGBM] [Info] Total Bins 1288\n",
      "[LightGBM] [Info] Number of data points in the train set: 21644, number of used features: 591\n",
      "[LightGBM] [Info] [binary:BoostFromScore]: pavg=0.491083 -> initscore=-0.035672\n",
      "[LightGBM] [Info] Start training from score -0.035672\n",
      "[LightGBM] [Info] Number of positive: 10630, number of negative: 11015\n",
      "[LightGBM] [Info] Auto-choosing row-wise multi-threading, the overhead of testing was 0.078020 seconds.\n",
      "You can set `force_row_wise=true` to remove the overhead.\n",
      "And if memory is not enough, you can set `force_col_wise=true`.\n",
      "[LightGBM] [Info] Total Bins 1308\n",
      "[LightGBM] [Info] Number of data points in the train set: 21645, number of used features: 597\n",
      "[LightGBM] [Info] [binary:BoostFromScore]: pavg=0.491106 -> initscore=-0.035578\n",
      "[LightGBM] [Info] Start training from score -0.035578\n",
      "[LightGBM] [Info] Number of positive: 10630, number of negative: 11015\n",
      "[LightGBM] [Info] Auto-choosing row-wise multi-threading, the overhead of testing was 0.077025 seconds.\n",
      "You can set `force_row_wise=true` to remove the overhead.\n",
      "And if memory is not enough, you can set `force_col_wise=true`.\n",
      "[LightGBM] [Info] Total Bins 1295\n",
      "[LightGBM] [Info] Number of data points in the train set: 21645, number of used features: 590\n",
      "[LightGBM] [Info] [binary:BoostFromScore]: pavg=0.491106 -> initscore=-0.035578\n",
      "[LightGBM] [Info] Start training from score -0.035578\n",
      "[LightGBM] [Info] Number of positive: 10630, number of negative: 11015\n",
      "[LightGBM] [Info] Auto-choosing row-wise multi-threading, the overhead of testing was 0.075701 seconds.\n",
      "You can set `force_row_wise=true` to remove the overhead.\n",
      "And if memory is not enough, you can set `force_col_wise=true`.\n",
      "[LightGBM] [Info] Total Bins 1288\n",
      "[LightGBM] [Info] Number of data points in the train set: 21645, number of used features: 587\n",
      "[LightGBM] [Info] [binary:BoostFromScore]: pavg=0.491106 -> initscore=-0.035578\n",
      "[LightGBM] [Info] Start training from score -0.035578\n",
      "[LightGBM] [Info] Number of positive: 10629, number of negative: 11016\n",
      "[LightGBM] [Info] Auto-choosing row-wise multi-threading, the overhead of testing was 0.116185 seconds.\n",
      "You can set `force_row_wise=true` to remove the overhead.\n",
      "And if memory is not enough, you can set `force_col_wise=true`.\n",
      "[LightGBM] [Info] Total Bins 1321\n",
      "[LightGBM] [Info] Number of data points in the train set: 21645, number of used features: 599\n",
      "[LightGBM] [Info] [binary:BoostFromScore]: pavg=0.491060 -> initscore=-0.035763\n",
      "[LightGBM] [Info] Start training from score -0.035763\n",
      "[LightGBM] [Info] Number of positive: 10629, number of negative: 11015\n",
      "[LightGBM] [Info] Auto-choosing row-wise multi-threading, the overhead of testing was 0.076513 seconds.\n",
      "You can set `force_row_wise=true` to remove the overhead.\n",
      "And if memory is not enough, you can set `force_col_wise=true`.\n",
      "[LightGBM] [Info] Total Bins 1288\n",
      "[LightGBM] [Info] Number of data points in the train set: 21644, number of used features: 591\n",
      "[LightGBM] [Info] [binary:BoostFromScore]: pavg=0.491083 -> initscore=-0.035672\n",
      "[LightGBM] [Info] Start training from score -0.035672\n",
      "[LightGBM] [Info] Number of positive: 10630, number of negative: 11015\n",
      "[LightGBM] [Info] Auto-choosing row-wise multi-threading, the overhead of testing was 0.078445 seconds.\n",
      "You can set `force_row_wise=true` to remove the overhead.\n",
      "And if memory is not enough, you can set `force_col_wise=true`.\n",
      "[LightGBM] [Info] Total Bins 1308\n",
      "[LightGBM] [Info] Number of data points in the train set: 21645, number of used features: 597\n",
      "[LightGBM] [Info] [binary:BoostFromScore]: pavg=0.491106 -> initscore=-0.035578\n",
      "[LightGBM] [Info] Start training from score -0.035578\n",
      "[LightGBM] [Info] Number of positive: 10630, number of negative: 11015\n",
      "[LightGBM] [Info] Auto-choosing row-wise multi-threading, the overhead of testing was 0.076712 seconds.\n",
      "You can set `force_row_wise=true` to remove the overhead.\n",
      "And if memory is not enough, you can set `force_col_wise=true`.\n",
      "[LightGBM] [Info] Total Bins 1295\n",
      "[LightGBM] [Info] Number of data points in the train set: 21645, number of used features: 590\n",
      "[LightGBM] [Info] [binary:BoostFromScore]: pavg=0.491106 -> initscore=-0.035578\n",
      "[LightGBM] [Info] Start training from score -0.035578\n",
      "[LightGBM] [Info] Number of positive: 10630, number of negative: 11015\n",
      "[LightGBM] [Info] Auto-choosing row-wise multi-threading, the overhead of testing was 0.077142 seconds.\n",
      "You can set `force_row_wise=true` to remove the overhead.\n",
      "And if memory is not enough, you can set `force_col_wise=true`.\n",
      "[LightGBM] [Info] Total Bins 1288\n",
      "[LightGBM] [Info] Number of data points in the train set: 21645, number of used features: 587\n",
      "[LightGBM] [Info] [binary:BoostFromScore]: pavg=0.491106 -> initscore=-0.035578\n",
      "[LightGBM] [Info] Start training from score -0.035578\n",
      "[LightGBM] [Info] Number of positive: 10629, number of negative: 11016\n",
      "[LightGBM] [Info] Auto-choosing col-wise multi-threading, the overhead of testing was 0.077205 seconds.\n",
      "You can set `force_col_wise=true` to remove the overhead.\n",
      "[LightGBM] [Info] Total Bins 1321\n",
      "[LightGBM] [Info] Number of data points in the train set: 21645, number of used features: 599\n",
      "[LightGBM] [Info] [binary:BoostFromScore]: pavg=0.491060 -> initscore=-0.035763\n",
      "[LightGBM] [Info] Start training from score -0.035763\n",
      "[LightGBM] [Info] Number of positive: 10629, number of negative: 11015\n",
      "[LightGBM] [Info] Auto-choosing row-wise multi-threading, the overhead of testing was 0.077776 seconds.\n",
      "You can set `force_row_wise=true` to remove the overhead.\n",
      "And if memory is not enough, you can set `force_col_wise=true`.\n",
      "[LightGBM] [Info] Total Bins 1288\n",
      "[LightGBM] [Info] Number of data points in the train set: 21644, number of used features: 591\n",
      "[LightGBM] [Info] [binary:BoostFromScore]: pavg=0.491083 -> initscore=-0.035672\n",
      "[LightGBM] [Info] Start training from score -0.035672\n",
      "[LightGBM] [Info] Number of positive: 10630, number of negative: 11015\n",
      "[LightGBM] [Info] Auto-choosing col-wise multi-threading, the overhead of testing was 0.075932 seconds.\n",
      "You can set `force_col_wise=true` to remove the overhead.\n",
      "[LightGBM] [Info] Total Bins 1308\n",
      "[LightGBM] [Info] Number of data points in the train set: 21645, number of used features: 597\n",
      "[LightGBM] [Info] [binary:BoostFromScore]: pavg=0.491106 -> initscore=-0.035578\n",
      "[LightGBM] [Info] Start training from score -0.035578\n",
      "[LightGBM] [Info] Number of positive: 10630, number of negative: 11015\n",
      "[LightGBM] [Info] Auto-choosing row-wise multi-threading, the overhead of testing was 0.077262 seconds.\n",
      "You can set `force_row_wise=true` to remove the overhead.\n",
      "And if memory is not enough, you can set `force_col_wise=true`.\n",
      "[LightGBM] [Info] Total Bins 1295\n",
      "[LightGBM] [Info] Number of data points in the train set: 21645, number of used features: 590\n",
      "[LightGBM] [Info] [binary:BoostFromScore]: pavg=0.491106 -> initscore=-0.035578\n",
      "[LightGBM] [Info] Start training from score -0.035578\n",
      "[LightGBM] [Info] Number of positive: 10630, number of negative: 11015\n",
      "[LightGBM] [Info] Auto-choosing row-wise multi-threading, the overhead of testing was 0.076311 seconds.\n",
      "You can set `force_row_wise=true` to remove the overhead.\n",
      "And if memory is not enough, you can set `force_col_wise=true`.\n",
      "[LightGBM] [Info] Total Bins 1288\n",
      "[LightGBM] [Info] Number of data points in the train set: 21645, number of used features: 587\n",
      "[LightGBM] [Info] [binary:BoostFromScore]: pavg=0.491106 -> initscore=-0.035578\n",
      "[LightGBM] [Info] Start training from score -0.035578\n",
      "[LightGBM] [Info] Number of positive: 10629, number of negative: 11016\n",
      "[LightGBM] [Info] Auto-choosing row-wise multi-threading, the overhead of testing was 0.078641 seconds.\n",
      "You can set `force_row_wise=true` to remove the overhead.\n",
      "And if memory is not enough, you can set `force_col_wise=true`.\n",
      "[LightGBM] [Info] Total Bins 1321\n",
      "[LightGBM] [Info] Number of data points in the train set: 21645, number of used features: 599\n",
      "[LightGBM] [Info] [binary:BoostFromScore]: pavg=0.491060 -> initscore=-0.035763\n",
      "[LightGBM] [Info] Start training from score -0.035763\n",
      "[LightGBM] [Info] Number of positive: 10629, number of negative: 11015\n",
      "[LightGBM] [Info] Auto-choosing row-wise multi-threading, the overhead of testing was 0.076273 seconds.\n",
      "You can set `force_row_wise=true` to remove the overhead.\n",
      "And if memory is not enough, you can set `force_col_wise=true`.\n",
      "[LightGBM] [Info] Total Bins 1288\n",
      "[LightGBM] [Info] Number of data points in the train set: 21644, number of used features: 591\n",
      "[LightGBM] [Info] [binary:BoostFromScore]: pavg=0.491083 -> initscore=-0.035672\n",
      "[LightGBM] [Info] Start training from score -0.035672\n",
      "[LightGBM] [Info] Number of positive: 10630, number of negative: 11015\n",
      "[LightGBM] [Info] Auto-choosing row-wise multi-threading, the overhead of testing was 0.078064 seconds.\n",
      "You can set `force_row_wise=true` to remove the overhead.\n",
      "And if memory is not enough, you can set `force_col_wise=true`.\n",
      "[LightGBM] [Info] Total Bins 1308\n",
      "[LightGBM] [Info] Number of data points in the train set: 21645, number of used features: 597\n",
      "[LightGBM] [Info] [binary:BoostFromScore]: pavg=0.491106 -> initscore=-0.035578\n",
      "[LightGBM] [Info] Start training from score -0.035578\n",
      "[LightGBM] [Info] Number of positive: 10630, number of negative: 11015\n",
      "[LightGBM] [Info] Auto-choosing row-wise multi-threading, the overhead of testing was 0.078189 seconds.\n",
      "You can set `force_row_wise=true` to remove the overhead.\n",
      "And if memory is not enough, you can set `force_col_wise=true`.\n",
      "[LightGBM] [Info] Total Bins 1295\n",
      "[LightGBM] [Info] Number of data points in the train set: 21645, number of used features: 590\n",
      "[LightGBM] [Info] [binary:BoostFromScore]: pavg=0.491106 -> initscore=-0.035578\n",
      "[LightGBM] [Info] Start training from score -0.035578\n",
      "[LightGBM] [Info] Number of positive: 10630, number of negative: 11015\n",
      "[LightGBM] [Info] Auto-choosing col-wise multi-threading, the overhead of testing was 0.076203 seconds.\n",
      "You can set `force_col_wise=true` to remove the overhead.\n",
      "[LightGBM] [Info] Total Bins 1288\n",
      "[LightGBM] [Info] Number of data points in the train set: 21645, number of used features: 587\n",
      "[LightGBM] [Info] [binary:BoostFromScore]: pavg=0.491106 -> initscore=-0.035578\n",
      "[LightGBM] [Info] Start training from score -0.035578\n",
      "[LightGBM] [Info] Number of positive: 10629, number of negative: 11016\n",
      "[LightGBM] [Info] Auto-choosing row-wise multi-threading, the overhead of testing was 0.077519 seconds.\n",
      "You can set `force_row_wise=true` to remove the overhead.\n",
      "And if memory is not enough, you can set `force_col_wise=true`.\n",
      "[LightGBM] [Info] Total Bins 1321\n",
      "[LightGBM] [Info] Number of data points in the train set: 21645, number of used features: 599\n",
      "[LightGBM] [Info] [binary:BoostFromScore]: pavg=0.491060 -> initscore=-0.035763\n",
      "[LightGBM] [Info] Start training from score -0.035763\n",
      "[LightGBM] [Info] Number of positive: 10629, number of negative: 11015\n",
      "[LightGBM] [Info] Auto-choosing row-wise multi-threading, the overhead of testing was 0.076375 seconds.\n",
      "You can set `force_row_wise=true` to remove the overhead.\n",
      "And if memory is not enough, you can set `force_col_wise=true`.\n",
      "[LightGBM] [Info] Total Bins 1288\n",
      "[LightGBM] [Info] Number of data points in the train set: 21644, number of used features: 591\n",
      "[LightGBM] [Info] [binary:BoostFromScore]: pavg=0.491083 -> initscore=-0.035672\n",
      "[LightGBM] [Info] Start training from score -0.035672\n",
      "[LightGBM] [Info] Number of positive: 10630, number of negative: 11015\n",
      "[LightGBM] [Info] Auto-choosing row-wise multi-threading, the overhead of testing was 0.077171 seconds.\n",
      "You can set `force_row_wise=true` to remove the overhead.\n",
      "And if memory is not enough, you can set `force_col_wise=true`.\n",
      "[LightGBM] [Info] Total Bins 1308\n",
      "[LightGBM] [Info] Number of data points in the train set: 21645, number of used features: 597\n",
      "[LightGBM] [Info] [binary:BoostFromScore]: pavg=0.491106 -> initscore=-0.035578\n",
      "[LightGBM] [Info] Start training from score -0.035578\n",
      "[LightGBM] [Info] Number of positive: 10630, number of negative: 11015\n",
      "[LightGBM] [Info] Auto-choosing row-wise multi-threading, the overhead of testing was 0.076101 seconds.\n",
      "You can set `force_row_wise=true` to remove the overhead.\n",
      "And if memory is not enough, you can set `force_col_wise=true`.\n",
      "[LightGBM] [Info] Total Bins 1295\n",
      "[LightGBM] [Info] Number of data points in the train set: 21645, number of used features: 590\n",
      "[LightGBM] [Info] [binary:BoostFromScore]: pavg=0.491106 -> initscore=-0.035578\n",
      "[LightGBM] [Info] Start training from score -0.035578\n",
      "[LightGBM] [Info] Number of positive: 10630, number of negative: 11015\n",
      "[LightGBM] [Info] Auto-choosing row-wise multi-threading, the overhead of testing was 0.079476 seconds.\n",
      "You can set `force_row_wise=true` to remove the overhead.\n",
      "And if memory is not enough, you can set `force_col_wise=true`.\n",
      "[LightGBM] [Info] Total Bins 1288\n",
      "[LightGBM] [Info] Number of data points in the train set: 21645, number of used features: 587\n",
      "[LightGBM] [Info] [binary:BoostFromScore]: pavg=0.491106 -> initscore=-0.035578\n",
      "[LightGBM] [Info] Start training from score -0.035578\n",
      "[LightGBM] [Info] Number of positive: 10629, number of negative: 11016\n",
      "[LightGBM] [Info] Auto-choosing row-wise multi-threading, the overhead of testing was 0.078800 seconds.\n",
      "You can set `force_row_wise=true` to remove the overhead.\n",
      "And if memory is not enough, you can set `force_col_wise=true`.\n",
      "[LightGBM] [Info] Total Bins 1321\n",
      "[LightGBM] [Info] Number of data points in the train set: 21645, number of used features: 599\n",
      "[LightGBM] [Info] [binary:BoostFromScore]: pavg=0.491060 -> initscore=-0.035763\n",
      "[LightGBM] [Info] Start training from score -0.035763\n",
      "[LightGBM] [Info] Number of positive: 10629, number of negative: 11015\n",
      "[LightGBM] [Info] Auto-choosing row-wise multi-threading, the overhead of testing was 0.077008 seconds.\n",
      "You can set `force_row_wise=true` to remove the overhead.\n",
      "And if memory is not enough, you can set `force_col_wise=true`.\n",
      "[LightGBM] [Info] Total Bins 1288\n",
      "[LightGBM] [Info] Number of data points in the train set: 21644, number of used features: 591\n",
      "[LightGBM] [Info] [binary:BoostFromScore]: pavg=0.491083 -> initscore=-0.035672\n",
      "[LightGBM] [Info] Start training from score -0.035672\n",
      "[LightGBM] [Info] Number of positive: 10630, number of negative: 11015\n",
      "[LightGBM] [Info] Auto-choosing row-wise multi-threading, the overhead of testing was 0.081346 seconds.\n",
      "You can set `force_row_wise=true` to remove the overhead.\n",
      "And if memory is not enough, you can set `force_col_wise=true`.\n",
      "[LightGBM] [Info] Total Bins 1308\n",
      "[LightGBM] [Info] Number of data points in the train set: 21645, number of used features: 597\n",
      "[LightGBM] [Info] [binary:BoostFromScore]: pavg=0.491106 -> initscore=-0.035578\n",
      "[LightGBM] [Info] Start training from score -0.035578\n",
      "[LightGBM] [Info] Number of positive: 10630, number of negative: 11015\n",
      "[LightGBM] [Info] Auto-choosing row-wise multi-threading, the overhead of testing was 0.076578 seconds.\n",
      "You can set `force_row_wise=true` to remove the overhead.\n",
      "And if memory is not enough, you can set `force_col_wise=true`.\n",
      "[LightGBM] [Info] Total Bins 1295\n",
      "[LightGBM] [Info] Number of data points in the train set: 21645, number of used features: 590\n",
      "[LightGBM] [Info] [binary:BoostFromScore]: pavg=0.491106 -> initscore=-0.035578\n",
      "[LightGBM] [Info] Start training from score -0.035578\n",
      "[LightGBM] [Info] Number of positive: 10630, number of negative: 11015\n",
      "[LightGBM] [Info] Auto-choosing row-wise multi-threading, the overhead of testing was 0.077022 seconds.\n",
      "You can set `force_row_wise=true` to remove the overhead.\n",
      "And if memory is not enough, you can set `force_col_wise=true`.\n",
      "[LightGBM] [Info] Total Bins 1288\n",
      "[LightGBM] [Info] Number of data points in the train set: 21645, number of used features: 587\n",
      "[LightGBM] [Info] [binary:BoostFromScore]: pavg=0.491106 -> initscore=-0.035578\n",
      "[LightGBM] [Info] Start training from score -0.035578\n",
      "[LightGBM] [Info] Number of positive: 10629, number of negative: 11016\n",
      "[LightGBM] [Info] Auto-choosing row-wise multi-threading, the overhead of testing was 0.078677 seconds.\n",
      "You can set `force_row_wise=true` to remove the overhead.\n",
      "And if memory is not enough, you can set `force_col_wise=true`.\n",
      "[LightGBM] [Info] Total Bins 1321\n",
      "[LightGBM] [Info] Number of data points in the train set: 21645, number of used features: 599\n",
      "[LightGBM] [Info] [binary:BoostFromScore]: pavg=0.491060 -> initscore=-0.035763\n",
      "[LightGBM] [Info] Start training from score -0.035763\n",
      "[LightGBM] [Info] Number of positive: 10629, number of negative: 11015\n",
      "[LightGBM] [Info] Auto-choosing row-wise multi-threading, the overhead of testing was 0.077046 seconds.\n",
      "You can set `force_row_wise=true` to remove the overhead.\n",
      "And if memory is not enough, you can set `force_col_wise=true`.\n",
      "[LightGBM] [Info] Total Bins 1288\n",
      "[LightGBM] [Info] Number of data points in the train set: 21644, number of used features: 591\n",
      "[LightGBM] [Info] [binary:BoostFromScore]: pavg=0.491083 -> initscore=-0.035672\n",
      "[LightGBM] [Info] Start training from score -0.035672\n",
      "[LightGBM] [Info] Number of positive: 10630, number of negative: 11015\n",
      "[LightGBM] [Info] Auto-choosing row-wise multi-threading, the overhead of testing was 0.078623 seconds.\n",
      "You can set `force_row_wise=true` to remove the overhead.\n",
      "And if memory is not enough, you can set `force_col_wise=true`.\n",
      "[LightGBM] [Info] Total Bins 1308\n",
      "[LightGBM] [Info] Number of data points in the train set: 21645, number of used features: 597\n",
      "[LightGBM] [Info] [binary:BoostFromScore]: pavg=0.491106 -> initscore=-0.035578\n",
      "[LightGBM] [Info] Start training from score -0.035578\n",
      "[LightGBM] [Info] Number of positive: 10630, number of negative: 11015\n",
      "[LightGBM] [Info] Auto-choosing row-wise multi-threading, the overhead of testing was 0.077636 seconds.\n",
      "You can set `force_row_wise=true` to remove the overhead.\n",
      "And if memory is not enough, you can set `force_col_wise=true`.\n",
      "[LightGBM] [Info] Total Bins 1295\n",
      "[LightGBM] [Info] Number of data points in the train set: 21645, number of used features: 590\n",
      "[LightGBM] [Info] [binary:BoostFromScore]: pavg=0.491106 -> initscore=-0.035578\n",
      "[LightGBM] [Info] Start training from score -0.035578\n",
      "[LightGBM] [Info] Number of positive: 10630, number of negative: 11015\n",
      "[LightGBM] [Info] Auto-choosing row-wise multi-threading, the overhead of testing was 0.076066 seconds.\n",
      "You can set `force_row_wise=true` to remove the overhead.\n",
      "And if memory is not enough, you can set `force_col_wise=true`.\n",
      "[LightGBM] [Info] Total Bins 1288\n",
      "[LightGBM] [Info] Number of data points in the train set: 21645, number of used features: 587\n",
      "[LightGBM] [Info] [binary:BoostFromScore]: pavg=0.491106 -> initscore=-0.035578\n",
      "[LightGBM] [Info] Start training from score -0.035578\n",
      "[LightGBM] [Info] Number of positive: 10629, number of negative: 11016\n",
      "[LightGBM] [Info] Auto-choosing row-wise multi-threading, the overhead of testing was 0.079691 seconds.\n",
      "You can set `force_row_wise=true` to remove the overhead.\n",
      "And if memory is not enough, you can set `force_col_wise=true`.\n",
      "[LightGBM] [Info] Total Bins 1321\n",
      "[LightGBM] [Info] Number of data points in the train set: 21645, number of used features: 599\n",
      "[LightGBM] [Info] [binary:BoostFromScore]: pavg=0.491060 -> initscore=-0.035763\n",
      "[LightGBM] [Info] Start training from score -0.035763\n",
      "[LightGBM] [Info] Number of positive: 10629, number of negative: 11015\n",
      "[LightGBM] [Info] Auto-choosing row-wise multi-threading, the overhead of testing was 0.075955 seconds.\n",
      "You can set `force_row_wise=true` to remove the overhead.\n",
      "And if memory is not enough, you can set `force_col_wise=true`.\n",
      "[LightGBM] [Info] Total Bins 1288\n",
      "[LightGBM] [Info] Number of data points in the train set: 21644, number of used features: 591\n",
      "[LightGBM] [Info] [binary:BoostFromScore]: pavg=0.491083 -> initscore=-0.035672\n",
      "[LightGBM] [Info] Start training from score -0.035672\n",
      "[LightGBM] [Info] Number of positive: 10630, number of negative: 11015\n",
      "[LightGBM] [Info] Auto-choosing row-wise multi-threading, the overhead of testing was 0.078238 seconds.\n",
      "You can set `force_row_wise=true` to remove the overhead.\n",
      "And if memory is not enough, you can set `force_col_wise=true`.\n",
      "[LightGBM] [Info] Total Bins 1308\n",
      "[LightGBM] [Info] Number of data points in the train set: 21645, number of used features: 597\n",
      "[LightGBM] [Info] [binary:BoostFromScore]: pavg=0.491106 -> initscore=-0.035578\n",
      "[LightGBM] [Info] Start training from score -0.035578\n",
      "[LightGBM] [Info] Number of positive: 10630, number of negative: 11015\n",
      "[LightGBM] [Info] Auto-choosing row-wise multi-threading, the overhead of testing was 0.076353 seconds.\n",
      "You can set `force_row_wise=true` to remove the overhead.\n",
      "And if memory is not enough, you can set `force_col_wise=true`.\n",
      "[LightGBM] [Info] Total Bins 1295\n",
      "[LightGBM] [Info] Number of data points in the train set: 21645, number of used features: 590\n",
      "[LightGBM] [Info] [binary:BoostFromScore]: pavg=0.491106 -> initscore=-0.035578\n",
      "[LightGBM] [Info] Start training from score -0.035578\n",
      "[LightGBM] [Info] Number of positive: 10630, number of negative: 11015\n",
      "[LightGBM] [Info] Auto-choosing row-wise multi-threading, the overhead of testing was 0.076120 seconds.\n",
      "You can set `force_row_wise=true` to remove the overhead.\n",
      "And if memory is not enough, you can set `force_col_wise=true`.\n",
      "[LightGBM] [Info] Total Bins 1288\n",
      "[LightGBM] [Info] Number of data points in the train set: 21645, number of used features: 587\n",
      "[LightGBM] [Info] [binary:BoostFromScore]: pavg=0.491106 -> initscore=-0.035578\n",
      "[LightGBM] [Info] Start training from score -0.035578\n",
      "[LightGBM] [Info] Number of positive: 10629, number of negative: 11016\n",
      "[LightGBM] [Info] Auto-choosing row-wise multi-threading, the overhead of testing was 0.078473 seconds.\n",
      "You can set `force_row_wise=true` to remove the overhead.\n",
      "And if memory is not enough, you can set `force_col_wise=true`.\n",
      "[LightGBM] [Info] Total Bins 1321\n",
      "[LightGBM] [Info] Number of data points in the train set: 21645, number of used features: 599\n",
      "[LightGBM] [Info] [binary:BoostFromScore]: pavg=0.491060 -> initscore=-0.035763\n",
      "[LightGBM] [Info] Start training from score -0.035763\n",
      "[LightGBM] [Info] Number of positive: 10629, number of negative: 11015\n",
      "[LightGBM] [Info] Auto-choosing row-wise multi-threading, the overhead of testing was 0.076783 seconds.\n",
      "You can set `force_row_wise=true` to remove the overhead.\n",
      "And if memory is not enough, you can set `force_col_wise=true`.\n",
      "[LightGBM] [Info] Total Bins 1288\n",
      "[LightGBM] [Info] Number of data points in the train set: 21644, number of used features: 591\n",
      "[LightGBM] [Info] [binary:BoostFromScore]: pavg=0.491083 -> initscore=-0.035672\n",
      "[LightGBM] [Info] Start training from score -0.035672\n",
      "[LightGBM] [Info] Number of positive: 10630, number of negative: 11015\n",
      "[LightGBM] [Info] Auto-choosing row-wise multi-threading, the overhead of testing was 0.078817 seconds.\n",
      "You can set `force_row_wise=true` to remove the overhead.\n",
      "And if memory is not enough, you can set `force_col_wise=true`.\n",
      "[LightGBM] [Info] Total Bins 1308\n",
      "[LightGBM] [Info] Number of data points in the train set: 21645, number of used features: 597\n",
      "[LightGBM] [Info] [binary:BoostFromScore]: pavg=0.491106 -> initscore=-0.035578\n",
      "[LightGBM] [Info] Start training from score -0.035578\n",
      "[LightGBM] [Info] Number of positive: 10630, number of negative: 11015\n",
      "[LightGBM] [Info] Auto-choosing row-wise multi-threading, the overhead of testing was 0.076861 seconds.\n",
      "You can set `force_row_wise=true` to remove the overhead.\n",
      "And if memory is not enough, you can set `force_col_wise=true`.\n",
      "[LightGBM] [Info] Total Bins 1295\n",
      "[LightGBM] [Info] Number of data points in the train set: 21645, number of used features: 590\n",
      "[LightGBM] [Info] [binary:BoostFromScore]: pavg=0.491106 -> initscore=-0.035578\n",
      "[LightGBM] [Info] Start training from score -0.035578\n",
      "[LightGBM] [Info] Number of positive: 10630, number of negative: 11015\n",
      "[LightGBM] [Info] Auto-choosing row-wise multi-threading, the overhead of testing was 0.076456 seconds.\n",
      "You can set `force_row_wise=true` to remove the overhead.\n",
      "And if memory is not enough, you can set `force_col_wise=true`.\n",
      "[LightGBM] [Info] Total Bins 1288\n",
      "[LightGBM] [Info] Number of data points in the train set: 21645, number of used features: 587\n",
      "[LightGBM] [Info] [binary:BoostFromScore]: pavg=0.491106 -> initscore=-0.035578\n",
      "[LightGBM] [Info] Start training from score -0.035578\n",
      "[LightGBM] [Info] Number of positive: 10629, number of negative: 11016\n",
      "[LightGBM] [Info] Auto-choosing row-wise multi-threading, the overhead of testing was 0.078661 seconds.\n",
      "You can set `force_row_wise=true` to remove the overhead.\n",
      "And if memory is not enough, you can set `force_col_wise=true`.\n",
      "[LightGBM] [Info] Total Bins 1321\n",
      "[LightGBM] [Info] Number of data points in the train set: 21645, number of used features: 599\n",
      "[LightGBM] [Info] [binary:BoostFromScore]: pavg=0.491060 -> initscore=-0.035763\n",
      "[LightGBM] [Info] Start training from score -0.035763\n",
      "[LightGBM] [Info] Number of positive: 10629, number of negative: 11015\n",
      "[LightGBM] [Info] Auto-choosing row-wise multi-threading, the overhead of testing was 0.077256 seconds.\n",
      "You can set `force_row_wise=true` to remove the overhead.\n",
      "And if memory is not enough, you can set `force_col_wise=true`.\n",
      "[LightGBM] [Info] Total Bins 1288\n",
      "[LightGBM] [Info] Number of data points in the train set: 21644, number of used features: 591\n",
      "[LightGBM] [Info] [binary:BoostFromScore]: pavg=0.491083 -> initscore=-0.035672\n",
      "[LightGBM] [Info] Start training from score -0.035672\n",
      "[LightGBM] [Info] Number of positive: 10630, number of negative: 11015\n",
      "[LightGBM] [Info] Auto-choosing row-wise multi-threading, the overhead of testing was 0.076972 seconds.\n",
      "You can set `force_row_wise=true` to remove the overhead.\n",
      "And if memory is not enough, you can set `force_col_wise=true`.\n",
      "[LightGBM] [Info] Total Bins 1308\n",
      "[LightGBM] [Info] Number of data points in the train set: 21645, number of used features: 597\n",
      "[LightGBM] [Info] [binary:BoostFromScore]: pavg=0.491106 -> initscore=-0.035578\n",
      "[LightGBM] [Info] Start training from score -0.035578\n",
      "[LightGBM] [Info] Number of positive: 10630, number of negative: 11015\n",
      "[LightGBM] [Info] Auto-choosing row-wise multi-threading, the overhead of testing was 0.077509 seconds.\n",
      "You can set `force_row_wise=true` to remove the overhead.\n",
      "And if memory is not enough, you can set `force_col_wise=true`.\n",
      "[LightGBM] [Info] Total Bins 1295\n",
      "[LightGBM] [Info] Number of data points in the train set: 21645, number of used features: 590\n",
      "[LightGBM] [Info] [binary:BoostFromScore]: pavg=0.491106 -> initscore=-0.035578\n",
      "[LightGBM] [Info] Start training from score -0.035578\n",
      "[LightGBM] [Info] Number of positive: 10630, number of negative: 11015\n",
      "[LightGBM] [Info] Auto-choosing col-wise multi-threading, the overhead of testing was 0.076450 seconds.\n",
      "You can set `force_col_wise=true` to remove the overhead.\n",
      "[LightGBM] [Info] Total Bins 1288\n",
      "[LightGBM] [Info] Number of data points in the train set: 21645, number of used features: 587\n",
      "[LightGBM] [Info] [binary:BoostFromScore]: pavg=0.491106 -> initscore=-0.035578\n",
      "[LightGBM] [Info] Start training from score -0.035578\n",
      "[LightGBM] [Info] Number of positive: 10629, number of negative: 11016\n",
      "[LightGBM] [Info] Auto-choosing row-wise multi-threading, the overhead of testing was 0.078420 seconds.\n",
      "You can set `force_row_wise=true` to remove the overhead.\n",
      "And if memory is not enough, you can set `force_col_wise=true`.\n",
      "[LightGBM] [Info] Total Bins 1321\n",
      "[LightGBM] [Info] Number of data points in the train set: 21645, number of used features: 599\n",
      "[LightGBM] [Info] [binary:BoostFromScore]: pavg=0.491060 -> initscore=-0.035763\n",
      "[LightGBM] [Info] Start training from score -0.035763\n",
      "[LightGBM] [Info] Number of positive: 10629, number of negative: 11015\n",
      "[LightGBM] [Info] Auto-choosing row-wise multi-threading, the overhead of testing was 0.076907 seconds.\n",
      "You can set `force_row_wise=true` to remove the overhead.\n",
      "And if memory is not enough, you can set `force_col_wise=true`.\n",
      "[LightGBM] [Info] Total Bins 1288\n",
      "[LightGBM] [Info] Number of data points in the train set: 21644, number of used features: 591\n",
      "[LightGBM] [Info] [binary:BoostFromScore]: pavg=0.491083 -> initscore=-0.035672\n",
      "[LightGBM] [Info] Start training from score -0.035672\n",
      "[LightGBM] [Info] Number of positive: 10630, number of negative: 11015\n",
      "[LightGBM] [Info] Auto-choosing row-wise multi-threading, the overhead of testing was 0.078171 seconds.\n",
      "You can set `force_row_wise=true` to remove the overhead.\n",
      "And if memory is not enough, you can set `force_col_wise=true`.\n",
      "[LightGBM] [Info] Total Bins 1308\n",
      "[LightGBM] [Info] Number of data points in the train set: 21645, number of used features: 597\n",
      "[LightGBM] [Info] [binary:BoostFromScore]: pavg=0.491106 -> initscore=-0.035578\n",
      "[LightGBM] [Info] Start training from score -0.035578\n",
      "[LightGBM] [Info] Number of positive: 10630, number of negative: 11015\n",
      "[LightGBM] [Info] Auto-choosing row-wise multi-threading, the overhead of testing was 0.078523 seconds.\n",
      "You can set `force_row_wise=true` to remove the overhead.\n",
      "And if memory is not enough, you can set `force_col_wise=true`.\n",
      "[LightGBM] [Info] Total Bins 1295\n",
      "[LightGBM] [Info] Number of data points in the train set: 21645, number of used features: 590\n",
      "[LightGBM] [Info] [binary:BoostFromScore]: pavg=0.491106 -> initscore=-0.035578\n",
      "[LightGBM] [Info] Start training from score -0.035578\n",
      "[LightGBM] [Info] Number of positive: 10630, number of negative: 11015\n",
      "[LightGBM] [Info] Auto-choosing row-wise multi-threading, the overhead of testing was 0.076982 seconds.\n",
      "You can set `force_row_wise=true` to remove the overhead.\n",
      "And if memory is not enough, you can set `force_col_wise=true`.\n",
      "[LightGBM] [Info] Total Bins 1288\n",
      "[LightGBM] [Info] Number of data points in the train set: 21645, number of used features: 587\n",
      "[LightGBM] [Info] [binary:BoostFromScore]: pavg=0.491106 -> initscore=-0.035578\n",
      "[LightGBM] [Info] Start training from score -0.035578\n",
      "[LightGBM] [Info] Number of positive: 10629, number of negative: 11016\n",
      "[LightGBM] [Info] Auto-choosing row-wise multi-threading, the overhead of testing was 0.079299 seconds.\n",
      "You can set `force_row_wise=true` to remove the overhead.\n",
      "And if memory is not enough, you can set `force_col_wise=true`.\n",
      "[LightGBM] [Info] Total Bins 1321\n",
      "[LightGBM] [Info] Number of data points in the train set: 21645, number of used features: 599\n",
      "[LightGBM] [Info] [binary:BoostFromScore]: pavg=0.491060 -> initscore=-0.035763\n",
      "[LightGBM] [Info] Start training from score -0.035763\n",
      "[LightGBM] [Info] Number of positive: 10629, number of negative: 11015\n",
      "[LightGBM] [Info] Auto-choosing row-wise multi-threading, the overhead of testing was 0.076952 seconds.\n",
      "You can set `force_row_wise=true` to remove the overhead.\n",
      "And if memory is not enough, you can set `force_col_wise=true`.\n",
      "[LightGBM] [Info] Total Bins 1288\n",
      "[LightGBM] [Info] Number of data points in the train set: 21644, number of used features: 591\n",
      "[LightGBM] [Info] [binary:BoostFromScore]: pavg=0.491083 -> initscore=-0.035672\n",
      "[LightGBM] [Info] Start training from score -0.035672\n",
      "[LightGBM] [Info] Number of positive: 10630, number of negative: 11015\n",
      "[LightGBM] [Info] Auto-choosing row-wise multi-threading, the overhead of testing was 0.079536 seconds.\n",
      "You can set `force_row_wise=true` to remove the overhead.\n",
      "And if memory is not enough, you can set `force_col_wise=true`.\n",
      "[LightGBM] [Info] Total Bins 1308\n",
      "[LightGBM] [Info] Number of data points in the train set: 21645, number of used features: 597\n",
      "[LightGBM] [Info] [binary:BoostFromScore]: pavg=0.491106 -> initscore=-0.035578\n",
      "[LightGBM] [Info] Start training from score -0.035578\n",
      "[LightGBM] [Info] Number of positive: 10630, number of negative: 11015\n",
      "[LightGBM] [Info] Auto-choosing row-wise multi-threading, the overhead of testing was 0.078037 seconds.\n",
      "You can set `force_row_wise=true` to remove the overhead.\n",
      "And if memory is not enough, you can set `force_col_wise=true`.\n",
      "[LightGBM] [Info] Total Bins 1295\n",
      "[LightGBM] [Info] Number of data points in the train set: 21645, number of used features: 590\n",
      "[LightGBM] [Info] [binary:BoostFromScore]: pavg=0.491106 -> initscore=-0.035578\n",
      "[LightGBM] [Info] Start training from score -0.035578\n",
      "[LightGBM] [Info] Number of positive: 10630, number of negative: 11015\n",
      "[LightGBM] [Info] Auto-choosing row-wise multi-threading, the overhead of testing was 0.079865 seconds.\n",
      "You can set `force_row_wise=true` to remove the overhead.\n",
      "And if memory is not enough, you can set `force_col_wise=true`.\n",
      "[LightGBM] [Info] Total Bins 1288\n",
      "[LightGBM] [Info] Number of data points in the train set: 21645, number of used features: 587\n",
      "[LightGBM] [Info] [binary:BoostFromScore]: pavg=0.491106 -> initscore=-0.035578\n",
      "[LightGBM] [Info] Start training from score -0.035578\n",
      "[LightGBM] [Info] Number of positive: 10629, number of negative: 11016\n",
      "[LightGBM] [Info] Auto-choosing row-wise multi-threading, the overhead of testing was 0.121644 seconds.\n",
      "You can set `force_row_wise=true` to remove the overhead.\n",
      "And if memory is not enough, you can set `force_col_wise=true`.\n",
      "[LightGBM] [Info] Total Bins 1321\n",
      "[LightGBM] [Info] Number of data points in the train set: 21645, number of used features: 599\n",
      "[LightGBM] [Info] [binary:BoostFromScore]: pavg=0.491060 -> initscore=-0.035763\n",
      "[LightGBM] [Info] Start training from score -0.035763\n",
      "[LightGBM] [Info] Number of positive: 10629, number of negative: 11015\n",
      "[LightGBM] [Info] Auto-choosing row-wise multi-threading, the overhead of testing was 0.076688 seconds.\n",
      "You can set `force_row_wise=true` to remove the overhead.\n",
      "And if memory is not enough, you can set `force_col_wise=true`.\n",
      "[LightGBM] [Info] Total Bins 1288\n",
      "[LightGBM] [Info] Number of data points in the train set: 21644, number of used features: 591\n",
      "[LightGBM] [Info] [binary:BoostFromScore]: pavg=0.491083 -> initscore=-0.035672\n",
      "[LightGBM] [Info] Start training from score -0.035672\n",
      "[LightGBM] [Info] Number of positive: 10630, number of negative: 11015\n",
      "[LightGBM] [Info] Auto-choosing row-wise multi-threading, the overhead of testing was 0.077918 seconds.\n",
      "You can set `force_row_wise=true` to remove the overhead.\n",
      "And if memory is not enough, you can set `force_col_wise=true`.\n",
      "[LightGBM] [Info] Total Bins 1308\n",
      "[LightGBM] [Info] Number of data points in the train set: 21645, number of used features: 597\n",
      "[LightGBM] [Info] [binary:BoostFromScore]: pavg=0.491106 -> initscore=-0.035578\n",
      "[LightGBM] [Info] Start training from score -0.035578\n",
      "[LightGBM] [Info] Number of positive: 10630, number of negative: 11015\n",
      "[LightGBM] [Info] Auto-choosing col-wise multi-threading, the overhead of testing was 0.075242 seconds.\n",
      "You can set `force_col_wise=true` to remove the overhead.\n",
      "[LightGBM] [Info] Total Bins 1295\n",
      "[LightGBM] [Info] Number of data points in the train set: 21645, number of used features: 590\n",
      "[LightGBM] [Info] [binary:BoostFromScore]: pavg=0.491106 -> initscore=-0.035578\n",
      "[LightGBM] [Info] Start training from score -0.035578\n",
      "[LightGBM] [Info] Number of positive: 10630, number of negative: 11015\n",
      "[LightGBM] [Info] Auto-choosing row-wise multi-threading, the overhead of testing was 0.077958 seconds.\n",
      "You can set `force_row_wise=true` to remove the overhead.\n",
      "And if memory is not enough, you can set `force_col_wise=true`.\n",
      "[LightGBM] [Info] Total Bins 1288\n",
      "[LightGBM] [Info] Number of data points in the train set: 21645, number of used features: 587\n",
      "[LightGBM] [Info] [binary:BoostFromScore]: pavg=0.491106 -> initscore=-0.035578\n",
      "[LightGBM] [Info] Start training from score -0.035578\n",
      "[LightGBM] [Info] Number of positive: 10629, number of negative: 11016\n",
      "[LightGBM] [Info] Auto-choosing row-wise multi-threading, the overhead of testing was 0.078465 seconds.\n",
      "You can set `force_row_wise=true` to remove the overhead.\n",
      "And if memory is not enough, you can set `force_col_wise=true`.\n",
      "[LightGBM] [Info] Total Bins 1321\n",
      "[LightGBM] [Info] Number of data points in the train set: 21645, number of used features: 599\n",
      "[LightGBM] [Info] [binary:BoostFromScore]: pavg=0.491060 -> initscore=-0.035763\n",
      "[LightGBM] [Info] Start training from score -0.035763\n",
      "[LightGBM] [Info] Number of positive: 10629, number of negative: 11015\n",
      "[LightGBM] [Info] Auto-choosing row-wise multi-threading, the overhead of testing was 0.082570 seconds.\n",
      "You can set `force_row_wise=true` to remove the overhead.\n",
      "And if memory is not enough, you can set `force_col_wise=true`.\n",
      "[LightGBM] [Info] Total Bins 1288\n",
      "[LightGBM] [Info] Number of data points in the train set: 21644, number of used features: 591\n",
      "[LightGBM] [Info] [binary:BoostFromScore]: pavg=0.491083 -> initscore=-0.035672\n",
      "[LightGBM] [Info] Start training from score -0.035672\n",
      "[LightGBM] [Info] Number of positive: 10630, number of negative: 11015\n",
      "[LightGBM] [Info] Auto-choosing row-wise multi-threading, the overhead of testing was 0.079061 seconds.\n",
      "You can set `force_row_wise=true` to remove the overhead.\n",
      "And if memory is not enough, you can set `force_col_wise=true`.\n",
      "[LightGBM] [Info] Total Bins 1308\n",
      "[LightGBM] [Info] Number of data points in the train set: 21645, number of used features: 597\n",
      "[LightGBM] [Info] [binary:BoostFromScore]: pavg=0.491106 -> initscore=-0.035578\n",
      "[LightGBM] [Info] Start training from score -0.035578\n",
      "[LightGBM] [Info] Number of positive: 10630, number of negative: 11015\n",
      "[LightGBM] [Info] Auto-choosing row-wise multi-threading, the overhead of testing was 0.077061 seconds.\n",
      "You can set `force_row_wise=true` to remove the overhead.\n",
      "And if memory is not enough, you can set `force_col_wise=true`.\n",
      "[LightGBM] [Info] Total Bins 1295\n",
      "[LightGBM] [Info] Number of data points in the train set: 21645, number of used features: 590\n",
      "[LightGBM] [Info] [binary:BoostFromScore]: pavg=0.491106 -> initscore=-0.035578\n",
      "[LightGBM] [Info] Start training from score -0.035578\n",
      "[LightGBM] [Info] Number of positive: 10630, number of negative: 11015\n",
      "[LightGBM] [Info] Auto-choosing row-wise multi-threading, the overhead of testing was 0.076683 seconds.\n",
      "You can set `force_row_wise=true` to remove the overhead.\n",
      "And if memory is not enough, you can set `force_col_wise=true`.\n",
      "[LightGBM] [Info] Total Bins 1288\n",
      "[LightGBM] [Info] Number of data points in the train set: 21645, number of used features: 587\n",
      "[LightGBM] [Info] [binary:BoostFromScore]: pavg=0.491106 -> initscore=-0.035578\n",
      "[LightGBM] [Info] Start training from score -0.035578\n",
      "[LightGBM] [Info] Number of positive: 10629, number of negative: 11016\n",
      "[LightGBM] [Info] Auto-choosing row-wise multi-threading, the overhead of testing was 0.078797 seconds.\n",
      "You can set `force_row_wise=true` to remove the overhead.\n",
      "And if memory is not enough, you can set `force_col_wise=true`.\n",
      "[LightGBM] [Info] Total Bins 1321\n",
      "[LightGBM] [Info] Number of data points in the train set: 21645, number of used features: 599\n",
      "[LightGBM] [Info] [binary:BoostFromScore]: pavg=0.491060 -> initscore=-0.035763\n",
      "[LightGBM] [Info] Start training from score -0.035763\n",
      "[LightGBM] [Info] Number of positive: 13287, number of negative: 13769\n",
      "[LightGBM] [Info] Auto-choosing col-wise multi-threading, the overhead of testing was 0.133363 seconds.\n",
      "You can set `force_col_wise=true` to remove the overhead.\n",
      "[LightGBM] [Info] Total Bins 1783\n",
      "[LightGBM] [Info] Number of data points in the train set: 27056, number of used features: 815\n",
      "[LightGBM] [Info] [binary:BoostFromScore]: pavg=0.491093 -> initscore=-0.035634\n",
      "[LightGBM] [Info] Start training from score -0.035634\n"
     ]
    },
    {
     "data": {
      "text/plain": [
       "{'boosting_type': 'gbdt',\n",
       " 'learning_rate': 0.2,\n",
       " 'metric': 'binary_logloss',\n",
       " 'n_estimators': 200,\n",
       " 'num_leaves': 31,\n",
       " 'objective': 'binary'}"
      ]
     },
     "execution_count": 47,
     "metadata": {},
     "output_type": "execute_result"
    }
   ],
   "source": [
    "from lightgbm import LGBMClassifier\n",
    "\n",
    "param_grid_ = {\n",
    "    'num_leaves': [15, 31, 63],  \n",
    "    'learning_rate': [0.01, 0.1, 0.2],\n",
    "    'n_estimators': [50, 100, 200],  \n",
    "    'boosting_type': ['gbdt'], \n",
    "    'objective': ['binary'],  \n",
    "    'metric': ['binary_logloss'],\n",
    "}\n",
    "\n",
    "lightgbm_grid = GridSearchCV(\n",
    "    estimator= LGBMClassifier(),\n",
    "    param_grid=param_grid_,\n",
    "    cv=5, \n",
    "    scoring='accuracy',\n",
    "    verbose=0,\n",
    "    n_jobs=-1  \n",
    ")\n",
    "lightgbm_grid.fit(X_train_tfidf, y_train)\n",
    "\n",
    "lightgbm_grid.best_params_"
   ]
  },
  {
   "cell_type": "code",
   "execution_count": 48,
   "id": "d477a661",
   "metadata": {
    "execution": {
     "iopub.execute_input": "2024-12-18T10:10:54.974351Z",
     "iopub.status.busy": "2024-12-18T10:10:54.973907Z",
     "iopub.status.idle": "2024-12-18T10:10:55.372374Z",
     "shell.execute_reply": "2024-12-18T10:10:55.370762Z"
    },
    "papermill": {
     "duration": 0.426991,
     "end_time": "2024-12-18T10:10:55.374876",
     "exception": false,
     "start_time": "2024-12-18T10:10:54.947885",
     "status": "completed"
    },
    "tags": []
   },
   "outputs": [
    {
     "name": "stdout",
     "output_type": "stream",
     "text": [
      "-------------------> lightgbm\n",
      "Accuracy: 0.69\n",
      "F1-Score for each class:\n",
      "Positive: 0.67\n",
      "Negative: 0.71\n",
      "\n",
      "Classification Report:\n",
      "              precision    recall  f1-score   support\n",
      "\n",
      "    Positive       0.73      0.61      0.67      3443\n",
      "    Negative       0.66      0.76      0.71      3322\n",
      "\n",
      "    accuracy                           0.69      6765\n",
      "   macro avg       0.69      0.69      0.69      6765\n",
      "weighted avg       0.69      0.69      0.69      6765\n",
      "\n"
     ]
    },
    {
     "data": {
      "image/png": "[encoded data removed]",
      "text/plain": [
       "<Figure size 800x600 with 2 Axes>"
      ]
     },
     "metadata": {},
     "output_type": "display_data"
    }
   ],
   "source": [
    "y_hat = lightgbm_grid.best_estimator_.predict(X_test_tfidf)\n",
    "about_model(\"lightgbm\", y_test , y_hat)"
   ]
  },
  {
   "cell_type": "code",
   "execution_count": null,
   "id": "199fb666",
   "metadata": {
    "papermill": {
     "duration": 0.025762,
     "end_time": "2024-12-18T10:10:55.427499",
     "exception": false,
     "start_time": "2024-12-18T10:10:55.401737",
     "status": "completed"
    },
    "tags": []
   },
   "outputs": [],
   "source": []
  },
  {
   "cell_type": "code",
   "execution_count": null,
   "id": "96bc6949",
   "metadata": {
    "papermill": {
     "duration": 0.026652,
     "end_time": "2024-12-18T10:10:55.480336",
     "exception": false,
     "start_time": "2024-12-18T10:10:55.453684",
     "status": "completed"
    },
    "tags": []
   },
   "outputs": [],
   "source": []
  },
  {
   "cell_type": "code",
   "execution_count": null,
   "id": "1e06c6e8",
   "metadata": {
    "papermill": {
     "duration": 0.026977,
     "end_time": "2024-12-18T10:10:55.534908",
     "exception": false,
     "start_time": "2024-12-18T10:10:55.507931",
     "status": "completed"
    },
    "tags": []
   },
   "outputs": [],
   "source": []
  },
  {
   "cell_type": "code",
   "execution_count": null,
   "id": "f294f041",
   "metadata": {
    "papermill": {
     "duration": 0.026334,
     "end_time": "2024-12-18T10:10:55.587917",
     "exception": false,
     "start_time": "2024-12-18T10:10:55.561583",
     "status": "completed"
    },
    "tags": []
   },
   "outputs": [],
   "source": []
  }
 ],
 "metadata": {
  "kaggle": {
   "accelerator": "none",
   "dataSources": [
    {
     "datasetId": 6047175,
     "sourceId": 10210479,
     "sourceType": "datasetVersion"
    },
    {
     "datasetId": 6094692,
     "sourceId": 10210609,
     "sourceType": "datasetVersion"
    }
   ],
   "dockerImageVersionId": 30804,
   "isGpuEnabled": false,
   "isInternetEnabled": true,
   "language": "python",
   "sourceType": "notebook"
  },
  "kernelspec": {
   "display_name": "Python 3",
   "language": "python",
   "name": "python3"
  },
  "language_info": {
   "codemirror_mode": {
    "name": "ipython",
    "version": 3
   },
   "file_extension": ".py",
   "mimetype": "text/x-python",
   "name": "python",
   "nbconvert_exporter": "python",
   "pygments_lexer": "ipython3",
   "version": "3.10.14"
  },
  "papermill": {
   "default_parameters": {},
   "duration": 40081.880033,
   "end_time": "2024-12-18T10:10:58.335764",
   "environment_variables": {},
   "exception": null,
   "input_path": "__notebook__.ipynb",
   "output_path": "__notebook__.ipynb",
   "parameters": {},
   "start_time": "2024-12-17T23:02:56.455731",
   "version": "2.6.0"
  }
 },
 "nbformat": 4,
 "nbformat_minor": 5
}
