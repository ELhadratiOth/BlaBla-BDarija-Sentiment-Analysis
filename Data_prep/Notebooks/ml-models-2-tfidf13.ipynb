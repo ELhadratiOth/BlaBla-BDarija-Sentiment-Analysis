{
 "cells": [
  {
   "cell_type": "markdown",
   "id": "3a203bfe",
   "metadata": {
    "papermill": {
     "duration": 0.012195,
     "end_time": "2024-12-19T14:59:19.333133",
     "exception": false,
     "start_time": "2024-12-19T14:59:19.320938",
     "status": "completed"
    },
    "tags": []
   },
   "source": [
    "# Darija Text Classification using ML Algorithms\n"
   ]
  },
  {
   "cell_type": "markdown",
   "id": "aca285f9",
   "metadata": {
    "papermill": {
     "duration": 0.010461,
     "end_time": "2024-12-19T14:59:19.355701",
     "exception": false,
     "start_time": "2024-12-19T14:59:19.345240",
     "status": "completed"
    },
    "tags": []
   },
   "source": [
    "## Setup and Data Loading\n",
    "In this section, we:\n",
    "- Import required libraries\n",
    "- Load and prepare our Darija dataset\n",
    "- Set up configuration parameters"
   ]
  },
  {
   "cell_type": "code",
   "execution_count": 1,
   "id": "af587ade",
   "metadata": {
    "execution": {
     "iopub.execute_input": "2024-12-19T14:59:19.379226Z",
     "iopub.status.busy": "2024-12-19T14:59:19.378785Z",
     "iopub.status.idle": "2024-12-19T14:59:19.401538Z",
     "shell.execute_reply": "2024-12-19T14:59:19.400271Z"
    },
    "papermill": {
     "duration": 0.037585,
     "end_time": "2024-12-19T14:59:19.403990",
     "exception": false,
     "start_time": "2024-12-19T14:59:19.366405",
     "status": "completed"
    },
    "tags": []
   },
   "outputs": [
    {
     "name": "stdout",
     "output_type": "stream",
     "text": [
      "Current working directory: /kaggle/input/ma-datasets\n",
      "Directory contents: ['suf_pref_darija.json', 'stop_words_accum.json', 'set2.csv', 'set7.csv', 'set5.csv', 'darija_latin_ref.json', 'set4.csv', 'scaped_comments.csv', 'set3.csv', 'cleaned_clustered_data.csv', 'set1.csv']\n"
     ]
    }
   ],
   "source": [
    "import os \n",
    "os.chdir('/kaggle/input/ma-datasets') \n",
    "current_directory = os.getcwd()\n",
    "print(\"Current working directory:\", current_directory)\n",
    "contents = os.listdir()\n",
    "print(\"Directory contents:\", contents)"
   ]
  },
  {
   "cell_type": "code",
   "execution_count": 2,
   "id": "fa383473",
   "metadata": {
    "execution": {
     "iopub.execute_input": "2024-12-19T14:59:19.428154Z",
     "iopub.status.busy": "2024-12-19T14:59:19.427746Z",
     "iopub.status.idle": "2024-12-19T14:59:35.320874Z",
     "shell.execute_reply": "2024-12-19T14:59:35.319469Z"
    },
    "papermill": {
     "duration": 15.908515,
     "end_time": "2024-12-19T14:59:35.323420",
     "exception": false,
     "start_time": "2024-12-19T14:59:19.414905",
     "status": "completed"
    },
    "tags": []
   },
   "outputs": [
    {
     "name": "stdout",
     "output_type": "stream",
     "text": [
      "Requirement already satisfied: pandas in /opt/conda/lib/python3.10/site-packages (2.2.3)\r\n",
      "Requirement already satisfied: PyArabic in /opt/conda/lib/python3.10/site-packages (0.6.15)\r\n",
      "Collecting Tashaphyne\r\n",
      "  Downloading Tashaphyne-0.3.6-py3-none-any.whl.metadata (18 kB)\r\n",
      "Collecting pydoda\r\n",
      "  Downloading pydoda-1.2.1-py3-none-any.whl.metadata (5.8 kB)\r\n",
      "Collecting Arabic-Stopwords\r\n",
      "  Downloading Arabic_Stopwords-0.4.3-py3-none-any.whl.metadata (8.9 kB)\r\n",
      "Requirement already satisfied: seaborn in /opt/conda/lib/python3.10/site-packages (0.12.2)\r\n",
      "Requirement already satisfied: scikit-learn in /opt/conda/lib/python3.10/site-packages (1.2.2)\r\n",
      "Requirement already satisfied: emoji in /opt/conda/lib/python3.10/site-packages (2.14.0)\r\n",
      "Requirement already satisfied: xgboost in /opt/conda/lib/python3.10/site-packages (2.0.3)\r\n",
      "Requirement already satisfied: lightgbm in /opt/conda/lib/python3.10/site-packages (4.2.0)\r\n",
      "Requirement already satisfied: numpy>=1.22.4 in /opt/conda/lib/python3.10/site-packages (from pandas) (1.26.4)\r\n",
      "Requirement already satisfied: python-dateutil>=2.8.2 in /opt/conda/lib/python3.10/site-packages (from pandas) (2.9.0.post0)\r\n",
      "Requirement already satisfied: pytz>=2020.1 in /opt/conda/lib/python3.10/site-packages (from pandas) (2024.1)\r\n",
      "Requirement already satisfied: tzdata>=2022.7 in /opt/conda/lib/python3.10/site-packages (from pandas) (2024.1)\r\n",
      "Requirement already satisfied: six>=1.14.0 in /opt/conda/lib/python3.10/site-packages (from PyArabic) (1.16.0)\r\n",
      "Requirement already satisfied: matplotlib!=3.6.1,>=3.1 in /opt/conda/lib/python3.10/site-packages (from seaborn) (3.7.5)\r\n",
      "Requirement already satisfied: scipy>=1.3.2 in /opt/conda/lib/python3.10/site-packages (from scikit-learn) (1.14.1)\r\n",
      "Requirement already satisfied: joblib>=1.1.1 in /opt/conda/lib/python3.10/site-packages (from scikit-learn) (1.4.2)\r\n",
      "Requirement already satisfied: threadpoolctl>=2.0.0 in /opt/conda/lib/python3.10/site-packages (from scikit-learn) (3.5.0)\r\n",
      "Requirement already satisfied: contourpy>=1.0.1 in /opt/conda/lib/python3.10/site-packages (from matplotlib!=3.6.1,>=3.1->seaborn) (1.2.1)\r\n",
      "Requirement already satisfied: cycler>=0.10 in /opt/conda/lib/python3.10/site-packages (from matplotlib!=3.6.1,>=3.1->seaborn) (0.12.1)\r\n",
      "Requirement already satisfied: fonttools>=4.22.0 in /opt/conda/lib/python3.10/site-packages (from matplotlib!=3.6.1,>=3.1->seaborn) (4.53.0)\r\n",
      "Requirement already satisfied: kiwisolver>=1.0.1 in /opt/conda/lib/python3.10/site-packages (from matplotlib!=3.6.1,>=3.1->seaborn) (1.4.5)\r\n",
      "Requirement already satisfied: packaging>=20.0 in /opt/conda/lib/python3.10/site-packages (from matplotlib!=3.6.1,>=3.1->seaborn) (21.3)\r\n",
      "Requirement already satisfied: pillow>=6.2.0 in /opt/conda/lib/python3.10/site-packages (from matplotlib!=3.6.1,>=3.1->seaborn) (10.3.0)\r\n",
      "Requirement already satisfied: pyparsing>=2.3.1 in /opt/conda/lib/python3.10/site-packages (from matplotlib!=3.6.1,>=3.1->seaborn) (3.1.2)\r\n",
      "Downloading Tashaphyne-0.3.6-py3-none-any.whl (251 kB)\r\n",
      "\u001b[2K   \u001b[90m━━━━━━━━━━━━━━━━━━━━━━━━━━━━━━━━━━━━━━━━\u001b[0m \u001b[32m251.5/251.5 kB\u001b[0m \u001b[31m8.6 MB/s\u001b[0m eta \u001b[36m0:00:00\u001b[0m\r\n",
      "\u001b[?25hDownloading pydoda-1.2.1-py3-none-any.whl (4.1 MB)\r\n",
      "\u001b[2K   \u001b[90m━━━━━━━━━━━━━━━━━━━━━━━━━━━━━━━━━━━━━━━━\u001b[0m \u001b[32m4.1/4.1 MB\u001b[0m \u001b[31m29.1 MB/s\u001b[0m eta \u001b[36m0:00:00\u001b[0m\r\n",
      "\u001b[?25hDownloading Arabic_Stopwords-0.4.3-py3-none-any.whl (360 kB)\r\n",
      "\u001b[2K   \u001b[90m━━━━━━━━━━━━━━━━━━━━━━━━━━━━━━━━━━━━━━━━\u001b[0m \u001b[32m360.5/360.5 kB\u001b[0m \u001b[31m17.5 MB/s\u001b[0m eta \u001b[36m0:00:00\u001b[0m\r\n",
      "\u001b[?25hInstalling collected packages: Tashaphyne, Arabic-Stopwords, pydoda\r\n",
      "Successfully installed Arabic-Stopwords-0.4.3 Tashaphyne-0.3.6 pydoda-1.2.1\r\n"
     ]
    }
   ],
   "source": [
    "!pip install pandas PyArabic Tashaphyne pydoda Arabic-Stopwords seaborn scikit-learn emoji xgboost lightgbm "
   ]
  },
  {
   "cell_type": "code",
   "execution_count": 3,
   "id": "c3a2884a",
   "metadata": {
    "execution": {
     "iopub.execute_input": "2024-12-19T14:59:35.349969Z",
     "iopub.status.busy": "2024-12-19T14:59:35.349554Z",
     "iopub.status.idle": "2024-12-19T14:59:38.216027Z",
     "shell.execute_reply": "2024-12-19T14:59:38.214896Z"
    },
    "papermill": {
     "duration": 2.883153,
     "end_time": "2024-12-19T14:59:38.218618",
     "exception": false,
     "start_time": "2024-12-19T14:59:35.335465",
     "status": "completed"
    },
    "tags": []
   },
   "outputs": [],
   "source": [
    "import pandas as pd\n",
    "from sklearn.model_selection import GridSearchCV\n",
    "import re\n",
    "from tashaphyne.stemming import ArabicLightStemmer\n",
    "import json\n",
    "import emoji \n"
   ]
  },
  {
   "cell_type": "code",
   "execution_count": 4,
   "id": "ffffadab",
   "metadata": {
    "execution": {
     "iopub.execute_input": "2024-12-19T14:59:38.245190Z",
     "iopub.status.busy": "2024-12-19T14:59:38.244273Z",
     "iopub.status.idle": "2024-12-19T14:59:38.603850Z",
     "shell.execute_reply": "2024-12-19T14:59:38.602324Z"
    },
    "papermill": {
     "duration": 0.375443,
     "end_time": "2024-12-19T14:59:38.606723",
     "exception": false,
     "start_time": "2024-12-19T14:59:38.231280",
     "status": "completed"
    },
    "tags": []
   },
   "outputs": [],
   "source": [
    "df = pd.read_csv(\"/kaggle/input/dataset/dataset (18).csv\")"
   ]
  },
  {
   "cell_type": "code",
   "execution_count": 5,
   "id": "c8aaf1b6",
   "metadata": {
    "execution": {
     "iopub.execute_input": "2024-12-19T14:59:38.633489Z",
     "iopub.status.busy": "2024-12-19T14:59:38.633019Z",
     "iopub.status.idle": "2024-12-19T14:59:38.668054Z",
     "shell.execute_reply": "2024-12-19T14:59:38.666658Z"
    },
    "papermill": {
     "duration": 0.051436,
     "end_time": "2024-12-19T14:59:38.670463",
     "exception": false,
     "start_time": "2024-12-19T14:59:38.619027",
     "status": "completed"
    },
    "tags": []
   },
   "outputs": [
    {
     "name": "stderr",
     "output_type": "stream",
     "text": [
      "/tmp/ipykernel_17/1870643984.py:1: DeprecationWarning: DataFrameGroupBy.apply operated on the grouping columns. This behavior is deprecated, and in a future version of pandas the grouping columns will be excluded from the operation. Either pass `include_groups=False` to exclude the groupings or explicitly select the grouping columns after groupby to silence this warning.\n",
      "  df = df.groupby('target', group_keys=False).apply(\n"
     ]
    }
   ],
   "source": [
    "df = df.groupby('target', group_keys=False).apply(\n",
    "    lambda x: x.sample(frac=0.7)\n",
    ")"
   ]
  },
  {
   "cell_type": "code",
   "execution_count": 6,
   "id": "c7e82b56",
   "metadata": {
    "execution": {
     "iopub.execute_input": "2024-12-19T14:59:38.696426Z",
     "iopub.status.busy": "2024-12-19T14:59:38.696027Z",
     "iopub.status.idle": "2024-12-19T14:59:38.724303Z",
     "shell.execute_reply": "2024-12-19T14:59:38.722770Z"
    },
    "papermill": {
     "duration": 0.04455,
     "end_time": "2024-12-19T14:59:38.727049",
     "exception": false,
     "start_time": "2024-12-19T14:59:38.682499",
     "status": "completed"
    },
    "tags": []
   },
   "outputs": [
    {
     "name": "stdout",
     "output_type": "stream",
     "text": [
      "<class 'pandas.core.frame.DataFrame'>\n",
      "Index: 24500 entries, 32436 to 23512\n",
      "Data columns (total 3 columns):\n",
      " #   Column        Non-Null Count  Dtype \n",
      "---  ------        --------------  ----- \n",
      " 0   text          24500 non-null  object\n",
      " 1   target        24500 non-null  int64 \n",
      " 2   text_cleaned  23682 non-null  object\n",
      "dtypes: int64(1), object(2)\n",
      "memory usage: 765.6+ KB\n"
     ]
    }
   ],
   "source": [
    "df.info()"
   ]
  },
  {
   "cell_type": "markdown",
   "id": "12d6d27e",
   "metadata": {
    "papermill": {
     "duration": 0.012932,
     "end_time": "2024-12-19T14:59:38.752919",
     "exception": false,
     "start_time": "2024-12-19T14:59:38.739987",
     "status": "completed"
    },
    "tags": []
   },
   "source": [
    "## Data Preprocessing\n",
    "Key preprocessing steps for Darija text:\n",
    "- Text cleaning and normalization\n",
    "- Feature extraction\n",
    "- Train-test split\n"
   ]
  },
  {
   "cell_type": "code",
   "execution_count": 7,
   "id": "fdbe49de",
   "metadata": {
    "execution": {
     "iopub.execute_input": "2024-12-19T14:59:38.780413Z",
     "iopub.status.busy": "2024-12-19T14:59:38.779999Z",
     "iopub.status.idle": "2024-12-19T14:59:38.791829Z",
     "shell.execute_reply": "2024-12-19T14:59:38.790192Z"
    },
    "papermill": {
     "duration": 0.028696,
     "end_time": "2024-12-19T14:59:38.794220",
     "exception": false,
     "start_time": "2024-12-19T14:59:38.765524",
     "status": "completed"
    },
    "tags": []
   },
   "outputs": [],
   "source": [
    "darija_alphabet = {\n",
    "    \"gh\": \"غ\",\n",
    "    \"sh\": \"ش\",\n",
    "    \"ch\": \"ش\",\n",
    "    \"ss\": \"س\",\n",
    "    \"kh\": \"خ\",\n",
    "    \"ç\": \"س\",\n",
    "    \"ou\": \"و\",    \n",
    "    \"ei\": \"ي\",    \n",
    "    \"ay\": \"ي\",    \n",
    "    \"ae\": \"ي\",   \n",
    "    \"5\": \"خ\",     \n",
    "    \"2\": \"ا\",    \n",
    "    \"b\": \"ب\",\n",
    "    \"t\": \"ت\",\n",
    "    \"j\": \"ج\",\n",
    "    \"7\": \"ح\",\n",
    "    \"d\": \"د\",\n",
    "    \"r\": \"ر\",\n",
    "    \"z\": \"ز\",\n",
    "    \"s\": \"س\",\n",
    "    \"9\": \"ق\",\n",
    "    \"3\": \"ع\",\n",
    "    \"4\": \"غ\",\n",
    "    \"f\": \"ف\",\n",
    "    \"q\": \"ك\",\n",
    "    \"k\": \"ك\",\n",
    "    \"l\": \"ل\",\n",
    "    \"m\": \"م\",\n",
    "    \"n\": \"ن\",\n",
    "    \"h\": \"ه\",\n",
    "    \"w\": \"و\",\n",
    "    \"y\": \"ي\",\n",
    "    \"g\": \"ڭ\",\n",
    "    'i': 'ي',\n",
    "    'ee': 'ي',\n",
    "    'aa': 'ا',\n",
    "    'oo': 'و',\n",
    "    'o': 'و',\n",
    "    \"x\": \"ش\",\n",
    "}\n",
    "word_in = [\n",
    "    \"ء\", \"أ\", \"إ\", \"آ\", \"ؤ\", \"ئ\", \"ة\", \"ى\",\"-\", \"/\", \".\", \"،\", '\"', \"'\", \"\\\\\", \"?\", \"؟\", \"!\", \"،\", \"؛\",\":\",\"#\", \"@\", \"&\", \"=\", \"¥\", \"$\", \"%\", \"*\", \"+\", \"<\", \">\", \"|\", \"~\", \"^\", \n",
    "    \"\\n\", \"\\t\", \"\\r\", \" و\",\"ذ\", \"ظ\", \"ض\", \"ص\",\"(\", \")\", \"[\", \"]\", \"{\", \"}\", \"《\", \"》\", \"«\", \"»\"\n",
    "]\n",
    "\n",
    "replaced_by = [\n",
    "    \"ا\", \"ا\", \"ا\", \"ا\", \"ا\", \"ا\", \"ه\", \"ي\",\" \", \"\", \"\", \"\", \"\", \"\", \"\", \" ? \", \" ؟ \", \" ! \", \"\", \"\", \"\",\n",
    "    \"\", \"\", \"\", \"\", \"\", \"\", \"\", \"\", \"\", \"\", \"\", \"\", \"\", \"\",\" \", \" \", \" \", \"\",\n",
    "    \"د\", \"د\", \"د\", \"س\",\"\", \"\", \"\", \"\", \"\", \"\", \"\", \"\", \"\", \"\"\n",
    "]\n",
    "\n",
    "arabic_alphabet = \"ابتثجحخدذرزسشصضطظعغفقكلمنهوي\""
   ]
  },
  {
   "cell_type": "code",
   "execution_count": 8,
   "id": "378d32e5",
   "metadata": {
    "execution": {
     "iopub.execute_input": "2024-12-19T14:59:38.821017Z",
     "iopub.status.busy": "2024-12-19T14:59:38.820574Z",
     "iopub.status.idle": "2024-12-19T14:59:38.827158Z",
     "shell.execute_reply": "2024-12-19T14:59:38.825151Z"
    },
    "papermill": {
     "duration": 0.022813,
     "end_time": "2024-12-19T14:59:38.829826",
     "exception": false,
     "start_time": "2024-12-19T14:59:38.807013",
     "status": "completed"
    },
    "tags": []
   },
   "outputs": [],
   "source": [
    "from pyarabic.araby import strip_diacritics\n",
    "#remove tashkeel\n",
    "def removing_tashkeel(word): # useed\n",
    "          return strip_diacritics(word)"
   ]
  },
  {
   "cell_type": "code",
   "execution_count": 9,
   "id": "37035199",
   "metadata": {
    "execution": {
     "iopub.execute_input": "2024-12-19T14:59:38.857637Z",
     "iopub.status.busy": "2024-12-19T14:59:38.857169Z",
     "iopub.status.idle": "2024-12-19T14:59:38.862960Z",
     "shell.execute_reply": "2024-12-19T14:59:38.861708Z"
    },
    "papermill": {
     "duration": 0.023023,
     "end_time": "2024-12-19T14:59:38.865562",
     "exception": false,
     "start_time": "2024-12-19T14:59:38.842539",
     "status": "completed"
    },
    "tags": []
   },
   "outputs": [],
   "source": [
    "from pyarabic.araby import strip_tatweel\n",
    "\n",
    "#remove tatweel l2imdad\n",
    "def removing_tatweel(word): # useed\n",
    "          return strip_tatweel(word)"
   ]
  },
  {
   "cell_type": "code",
   "execution_count": 10,
   "id": "3c8fcf26",
   "metadata": {
    "execution": {
     "iopub.execute_input": "2024-12-19T14:59:38.895516Z",
     "iopub.status.busy": "2024-12-19T14:59:38.895081Z",
     "iopub.status.idle": "2024-12-19T14:59:38.902349Z",
     "shell.execute_reply": "2024-12-19T14:59:38.900801Z"
    },
    "papermill": {
     "duration": 0.024736,
     "end_time": "2024-12-19T14:59:38.904893",
     "exception": false,
     "start_time": "2024-12-19T14:59:38.880157",
     "status": "completed"
    },
    "tags": []
   },
   "outputs": [],
   "source": [
    "from pyarabic.araby import normalize_ligature\n",
    "\n",
    "#remove ligature hamza , alef \n",
    "def removing_ligature(word): # not used \n",
    "          return normalize_ligature(word)"
   ]
  },
  {
   "cell_type": "code",
   "execution_count": 11,
   "id": "68c554fa",
   "metadata": {
    "execution": {
     "iopub.execute_input": "2024-12-19T14:59:38.933447Z",
     "iopub.status.busy": "2024-12-19T14:59:38.933018Z",
     "iopub.status.idle": "2024-12-19T14:59:38.938298Z",
     "shell.execute_reply": "2024-12-19T14:59:38.937052Z"
    },
    "papermill": {
     "duration": 0.021991,
     "end_time": "2024-12-19T14:59:38.940672",
     "exception": false,
     "start_time": "2024-12-19T14:59:38.918681",
     "status": "completed"
    },
    "tags": []
   },
   "outputs": [],
   "source": [
    "# remove underscore\n",
    "def replace_underscore(word): # useed\n",
    "          return word.replace(\"_\", \" \")"
   ]
  },
  {
   "cell_type": "code",
   "execution_count": 12,
   "id": "3db0450e",
   "metadata": {
    "execution": {
     "iopub.execute_input": "2024-12-19T14:59:38.969174Z",
     "iopub.status.busy": "2024-12-19T14:59:38.968176Z",
     "iopub.status.idle": "2024-12-19T14:59:38.973757Z",
     "shell.execute_reply": "2024-12-19T14:59:38.972591Z"
    },
    "papermill": {
     "duration": 0.021213,
     "end_time": "2024-12-19T14:59:38.975990",
     "exception": false,
     "start_time": "2024-12-19T14:59:38.954777",
     "status": "completed"
    },
    "tags": []
   },
   "outputs": [],
   "source": [
    "import pyarabic.araby as araby\n",
    "\n",
    "# remove hamza ambiguity\n",
    "def remove_ambiguity_hamza(word): # useed\n",
    "          return araby.normalize_hamza(word)"
   ]
  },
  {
   "cell_type": "code",
   "execution_count": 13,
   "id": "9d0d8530",
   "metadata": {
    "execution": {
     "iopub.execute_input": "2024-12-19T14:59:39.003897Z",
     "iopub.status.busy": "2024-12-19T14:59:39.002536Z",
     "iopub.status.idle": "2024-12-19T14:59:39.008388Z",
     "shell.execute_reply": "2024-12-19T14:59:39.007151Z"
    },
    "papermill": {
     "duration": 0.022107,
     "end_time": "2024-12-19T14:59:39.011105",
     "exception": false,
     "start_time": "2024-12-19T14:59:38.988998",
     "status": "completed"
    },
    "tags": []
   },
   "outputs": [],
   "source": [
    "# romove \"AL\"\n",
    "def remove_AL(word): # useed\n",
    "          return re.sub(r'^ال', '', word)"
   ]
  },
  {
   "cell_type": "code",
   "execution_count": 14,
   "id": "2d2ccc55",
   "metadata": {
    "execution": {
     "iopub.execute_input": "2024-12-19T14:59:39.037505Z",
     "iopub.status.busy": "2024-12-19T14:59:39.037012Z",
     "iopub.status.idle": "2024-12-19T14:59:39.044706Z",
     "shell.execute_reply": "2024-12-19T14:59:39.043474Z"
    },
    "papermill": {
     "duration": 0.023752,
     "end_time": "2024-12-19T14:59:39.047219",
     "exception": false,
     "start_time": "2024-12-19T14:59:39.023467",
     "status": "completed"
    },
    "tags": []
   },
   "outputs": [],
   "source": [
    "# remove repeated characters      \n",
    "def word_remover(word): # useed\n",
    "            if len(word) == 1 or len(word) == 0 or len(word) >= 13:\n",
    "                return \"\"                \n",
    "            else :\n",
    "                # print(word)\n",
    "                for a7rf in arabic_alphabet:\n",
    "                    if a7rf == 'د' or a7rf == 'ه':\n",
    "                        word = re.sub(fr'{a7rf}{{3,}}', a7rf * 2, word).strip()\n",
    "                    else:\n",
    "                        word = re.sub(fr'{a7rf}+', a7rf, word).strip()\n",
    "                # print(word) \n",
    "                for i in range(len(word)):\n",
    "                    if word[i] in word_in:\n",
    "                        index = word_in.index(word[i])\n",
    "                        word = word[:i] + replaced_by[index] + word[i + 1:]\n",
    "\n",
    "                return word\n"
   ]
  },
  {
   "cell_type": "code",
   "execution_count": 15,
   "id": "08d130b3",
   "metadata": {
    "execution": {
     "iopub.execute_input": "2024-12-19T14:59:39.073852Z",
     "iopub.status.busy": "2024-12-19T14:59:39.073435Z",
     "iopub.status.idle": "2024-12-19T14:59:39.079247Z",
     "shell.execute_reply": "2024-12-19T14:59:39.077761Z"
    },
    "papermill": {
     "duration": 0.021804,
     "end_time": "2024-12-19T14:59:39.081671",
     "exception": false,
     "start_time": "2024-12-19T14:59:39.059867",
     "status": "completed"
    },
    "tags": []
   },
   "outputs": [],
   "source": [
    "# remove emails  \n",
    "def remove_url(text): # useed\n",
    "    text = re.sub(r'(https|http)?:\\/\\/(\\w|\\.|\\/|\\?|\\=|\\&|\\%)*\\b',\n",
    "                  '', text, flags=re.MULTILINE)\n",
    "    return text      \n",
    " "
   ]
  },
  {
   "cell_type": "code",
   "execution_count": 16,
   "id": "5e943faa",
   "metadata": {
    "execution": {
     "iopub.execute_input": "2024-12-19T14:59:39.108200Z",
     "iopub.status.busy": "2024-12-19T14:59:39.107773Z",
     "iopub.status.idle": "2024-12-19T14:59:39.113480Z",
     "shell.execute_reply": "2024-12-19T14:59:39.112397Z"
    },
    "papermill": {
     "duration": 0.02232,
     "end_time": "2024-12-19T14:59:39.115937",
     "exception": false,
     "start_time": "2024-12-19T14:59:39.093617",
     "status": "completed"
    },
    "tags": []
   },
   "outputs": [],
   "source": [
    " # remove emails     \n",
    "def remove_emails(text): # useed\n",
    "    text = re.sub(r'[a-zA-Z0-9._%+-]+@[a-zA-Z0-9.-]+\\.[a-zA-Z]{2,}', '', text, flags=re.MULTILINE)\n",
    "    return text  "
   ]
  },
  {
   "cell_type": "code",
   "execution_count": 17,
   "id": "7ede3e26",
   "metadata": {
    "execution": {
     "iopub.execute_input": "2024-12-19T14:59:39.142585Z",
     "iopub.status.busy": "2024-12-19T14:59:39.142153Z",
     "iopub.status.idle": "2024-12-19T14:59:39.147981Z",
     "shell.execute_reply": "2024-12-19T14:59:39.146897Z"
    },
    "papermill": {
     "duration": 0.021542,
     "end_time": "2024-12-19T14:59:39.150416",
     "exception": false,
     "start_time": "2024-12-19T14:59:39.128874",
     "status": "completed"
    },
    "tags": []
   },
   "outputs": [],
   "source": [
    "def special_tags_and_ponctuations(text):  # Function to clean special tags\n",
    "    text = re.sub(r'&amp;', '', text) \n",
    "    text = re.sub(r'&quot;', '', text)  \n",
    "    text = re.sub(r'!+', '!', text)\n",
    "    text = re.sub(r'\\?+', '?', text)\n",
    "    text = re.sub(r'\\.+', '.', text)\n",
    "\n",
    "    return text"
   ]
  },
  {
   "cell_type": "code",
   "execution_count": 18,
   "id": "949929bd",
   "metadata": {
    "execution": {
     "iopub.execute_input": "2024-12-19T14:59:39.177899Z",
     "iopub.status.busy": "2024-12-19T14:59:39.177491Z",
     "iopub.status.idle": "2024-12-19T14:59:39.182774Z",
     "shell.execute_reply": "2024-12-19T14:59:39.181457Z"
    },
    "papermill": {
     "duration": 0.022368,
     "end_time": "2024-12-19T14:59:39.185086",
     "exception": false,
     "start_time": "2024-12-19T14:59:39.162718",
     "status": "completed"
    },
    "tags": []
   },
   "outputs": [],
   "source": [
    "def remove_html_tags(text):\n",
    "    text = re.sub(r'<[^>]+>', '', text)\n",
    "    return text"
   ]
  },
  {
   "cell_type": "code",
   "execution_count": 19,
   "id": "57efd6d3",
   "metadata": {
    "execution": {
     "iopub.execute_input": "2024-12-19T14:59:39.212429Z",
     "iopub.status.busy": "2024-12-19T14:59:39.211279Z",
     "iopub.status.idle": "2024-12-19T14:59:39.217609Z",
     "shell.execute_reply": "2024-12-19T14:59:39.215961Z"
    },
    "papermill": {
     "duration": 0.022762,
     "end_time": "2024-12-19T14:59:39.220275",
     "exception": false,
     "start_time": "2024-12-19T14:59:39.197513",
     "status": "completed"
    },
    "tags": []
   },
   "outputs": [],
   "source": [
    "# hundle emojis\n",
    "def extend_spletting(items):  # helper function to split items\n",
    "    spletting = []\n",
    "    for item in items:\n",
    "        spletting.extend(item.split())\n",
    "    return spletting"
   ]
  },
  {
   "cell_type": "code",
   "execution_count": 20,
   "id": "3a7ddac1",
   "metadata": {
    "execution": {
     "iopub.execute_input": "2024-12-19T14:59:39.247372Z",
     "iopub.status.busy": "2024-12-19T14:59:39.246949Z",
     "iopub.status.idle": "2024-12-19T14:59:39.252671Z",
     "shell.execute_reply": "2024-12-19T14:59:39.251464Z"
    },
    "papermill": {
     "duration": 0.022146,
     "end_time": "2024-12-19T14:59:39.255192",
     "exception": false,
     "start_time": "2024-12-19T14:59:39.233046",
     "status": "completed"
    },
    "tags": []
   },
   "outputs": [],
   "source": [
    "def emoji_hundler(word):  # helper function to handle emojis\n",
    "    word = emoji.demojize(word, language='ar')\n",
    "    word = replace_underscore(word)[1:-1]\n",
    "    return word"
   ]
  },
  {
   "cell_type": "code",
   "execution_count": 21,
   "id": "c01a1deb",
   "metadata": {
    "execution": {
     "iopub.execute_input": "2024-12-19T14:59:39.281514Z",
     "iopub.status.busy": "2024-12-19T14:59:39.280904Z",
     "iopub.status.idle": "2024-12-19T14:59:39.289595Z",
     "shell.execute_reply": "2024-12-19T14:59:39.288539Z"
    },
    "papermill": {
     "duration": 0.024981,
     "end_time": "2024-12-19T14:59:39.292102",
     "exception": false,
     "start_time": "2024-12-19T14:59:39.267121",
     "status": "completed"
    },
    "tags": []
   },
   "outputs": [],
   "source": [
    "def is_an_emoji(word):\n",
    "    emoji_pattern = re.compile(\"[\"  \n",
    "                               u\"\\U0001F680-\\U0001F6FF\"  # transport and map unicods\n",
    "                               u\"\\U0001F1E0-\\U0001F1FF\"  # flags unicods\n",
    "                               \"]+\", flags=re.UNICODE)\n",
    "\n",
    "    if emoji.is_emoji(word):\n",
    "        word = emoji_pattern.sub(r'', word)\n",
    "        return extend_spletting([emoji_hundler(word)])\n",
    "\n",
    "    elif emoji.purely_emoji(word):\n",
    "        data_of_emojis = emoji.distinct_emoji_list(word)\n",
    "        data = [emoji_hundler(emoji_pattern.sub(r'', item)) for item in data_of_emojis]\n",
    "        return extend_spletting(data)\n",
    "\n",
    "    else:\n",
    "        text_only = re.sub(r'[^\\w\\s?!]', '', word)\n",
    "        data_of_emojis = emoji.distinct_emoji_list(word)\n",
    "        emojis = [emoji_hundler(emoji_pattern.sub(r'', item)) for item in data_of_emojis]\n",
    "        \n",
    "        return [text_only] + extend_spletting(emojis)\n"
   ]
  },
  {
   "cell_type": "code",
   "execution_count": 22,
   "id": "b48c3059",
   "metadata": {
    "execution": {
     "iopub.execute_input": "2024-12-19T14:59:39.317325Z",
     "iopub.status.busy": "2024-12-19T14:59:39.316933Z",
     "iopub.status.idle": "2024-12-19T14:59:39.323843Z",
     "shell.execute_reply": "2024-12-19T14:59:39.322756Z"
    },
    "papermill": {
     "duration": 0.022078,
     "end_time": "2024-12-19T14:59:39.325988",
     "exception": false,
     "start_time": "2024-12-19T14:59:39.303910",
     "status": "completed"
    },
    "tags": []
   },
   "outputs": [],
   "source": [
    "# tramslating darija(latin) to daruja(arabic)\n",
    "def translate_darija_to_arabic(word): # useed\n",
    "    # print(\"test\")\n",
    "    word = word.lower()\n",
    "    if  bool(re.compile(r\"[a-z0-9']+\").search(word)):\n",
    "        arabic_word = \"\"\n",
    "        i = 0\n",
    "        while i < len(word):\n",
    "            # print('sadd')\n",
    "            if i + 1 < len(word) and word[i:i+2] in darija_alphabet: # Check for 2 lettrs\n",
    "                arabic_word += darija_alphabet[word[i:i+2]]\n",
    "                i += 2\n",
    "            elif word[i] in darija_alphabet:\n",
    "                arabic_word += darija_alphabet[word[i]]\n",
    "                i += 1\n",
    "            else:\n",
    "                i += 1\n",
    "        return arabic_word\n",
    "    return word\n",
    "      "
   ]
  },
  {
   "cell_type": "code",
   "execution_count": 23,
   "id": "29ba1434",
   "metadata": {
    "execution": {
     "iopub.execute_input": "2024-12-19T14:59:39.351419Z",
     "iopub.status.busy": "2024-12-19T14:59:39.350987Z",
     "iopub.status.idle": "2024-12-19T14:59:39.356946Z",
     "shell.execute_reply": "2024-12-19T14:59:39.355788Z"
    },
    "papermill": {
     "duration": 0.021324,
     "end_time": "2024-12-19T14:59:39.359201",
     "exception": false,
     "start_time": "2024-12-19T14:59:39.337877",
     "status": "completed"
    },
    "tags": []
   },
   "outputs": [],
   "source": [
    "# remove  number arabic and latin\n",
    "def number_remov(listy): # useed\n",
    "    number_pattern = re.compile(r'^[0-9\\u0660-\\u0669]+$')\n",
    "    cleaned_list = [item for item in listy if not number_pattern.fullmatch(item)] \n",
    "    return cleaned_list   "
   ]
  },
  {
   "cell_type": "code",
   "execution_count": 24,
   "id": "fecb0654",
   "metadata": {
    "execution": {
     "iopub.execute_input": "2024-12-19T14:59:39.385292Z",
     "iopub.status.busy": "2024-12-19T14:59:39.384864Z",
     "iopub.status.idle": "2024-12-19T14:59:39.391396Z",
     "shell.execute_reply": "2024-12-19T14:59:39.390140Z"
    },
    "papermill": {
     "duration": 0.022619,
     "end_time": "2024-12-19T14:59:39.393640",
     "exception": false,
     "start_time": "2024-12-19T14:59:39.371021",
     "status": "completed"
    },
    "tags": []
   },
   "outputs": [],
   "source": [
    "#stemming arabic words     \n",
    "def stemming_darija(word):\n",
    "    # file = \"./Data_prep/suf_pref_darija.json\" # local run\n",
    "    file = \"suf_pref_darija.json\" \n",
    "\n",
    "    with open(file, 'r', encoding='utf-8') as json_file:\n",
    "        suf_pref = json.load(json_file)\n",
    "\n",
    "    ArListem = ArabicLightStemmer()\n",
    "    ArListem.set_prefix_list(suf_pref['darija_prefixes'])\n",
    "    ArListem.set_suffix_list(suf_pref['darija_suffixes'])\n",
    "    ArListem.light_stem(word)  \n",
    "    return ArListem.get_stem() "
   ]
  },
  {
   "cell_type": "code",
   "execution_count": 25,
   "id": "2e0b5f8d",
   "metadata": {
    "execution": {
     "iopub.execute_input": "2024-12-19T14:59:39.419700Z",
     "iopub.status.busy": "2024-12-19T14:59:39.419266Z",
     "iopub.status.idle": "2024-12-19T14:59:39.424577Z",
     "shell.execute_reply": "2024-12-19T14:59:39.423441Z"
    },
    "papermill": {
     "duration": 0.020698,
     "end_time": "2024-12-19T14:59:39.426900",
     "exception": false,
     "start_time": "2024-12-19T14:59:39.406202",
     "status": "completed"
    },
    "tags": []
   },
   "outputs": [],
   "source": [
    "# \"03:44\"\n",
    "def remove_yt_timers(text):\n",
    "    pattern = r'\\b\\d{1,2}:\\d{2,3}(:\\d{2,3})?\\b'\n",
    "    text = re.sub(pattern, '', text)\n",
    "    return text.strip()"
   ]
  },
  {
   "cell_type": "code",
   "execution_count": 26,
   "id": "cd473607",
   "metadata": {
    "execution": {
     "iopub.execute_input": "2024-12-19T14:59:39.452226Z",
     "iopub.status.busy": "2024-12-19T14:59:39.451820Z",
     "iopub.status.idle": "2024-12-19T14:59:39.457306Z",
     "shell.execute_reply": "2024-12-19T14:59:39.456329Z"
    },
    "papermill": {
     "duration": 0.021093,
     "end_time": "2024-12-19T14:59:39.459725",
     "exception": false,
     "start_time": "2024-12-19T14:59:39.438632",
     "status": "completed"
    },
    "tags": []
   },
   "outputs": [],
   "source": [
    "\n",
    "def preproc_arab_sentence(word): # main function for  arab processing tokens\n",
    "    word = removing_tashkeel(word)\n",
    "    word = removing_tatweel(word)\n",
    "    word = remove_AL(word)\n",
    "    # word = remove_ambiguity_hamza(word)\n",
    "    word = word_remover(word)\n",
    "    return word\n"
   ]
  },
  {
   "cell_type": "code",
   "execution_count": 27,
   "id": "5f98c805",
   "metadata": {
    "execution": {
     "iopub.execute_input": "2024-12-19T14:59:39.486183Z",
     "iopub.status.busy": "2024-12-19T14:59:39.485734Z",
     "iopub.status.idle": "2024-12-19T14:59:39.496146Z",
     "shell.execute_reply": "2024-12-19T14:59:39.494975Z"
    },
    "papermill": {
     "duration": 0.026782,
     "end_time": "2024-12-19T14:59:39.498389",
     "exception": false,
     "start_time": "2024-12-19T14:59:39.471607",
     "status": "completed"
    },
    "tags": []
   },
   "outputs": [],
   "source": [
    "from pyarabic.araby import tokenize\n",
    "def tokenize_arab_text(text):\n",
    "            # with open('./Data_prep/stop_words_accum.json', 'r', encoding='utf-8') as file: #  local run \n",
    "            with open('./stop_words_accum.json', 'r', encoding='utf-8') as file:\n",
    "\n",
    "                stop_words = json.load(file)\n",
    "\n",
    "            # with open('./Data_prep/darija_latin_ref.json', 'r', encoding='utf-8') as file: #  local run \n",
    "            with open('./darija_latin_ref.json', 'r', encoding='utf-8') as file:\n",
    "                \n",
    "                darija_latin_ref = json.load(file)\n",
    "          \n",
    "            #print(text)\n",
    "            text = remove_url(text)\n",
    "            text = remove_emails(text)\n",
    "            text = replace_underscore(text)\n",
    "            text = remove_html_tags(text)\n",
    "            text = remove_yt_timers(text)\n",
    "            text = special_tags_and_ponctuations(text)\n",
    "            #tokenization\n",
    "            print(text)\n",
    "            words = tokenize(text)\n",
    "            print(words)\n",
    "            words = [ translate_darija_to_arabic(word) for word in words if word not in darija_latin_ref]\n",
    "            print(words)\n",
    "            words = [is_an_emoji(word) for word in words] \n",
    "            words = [item for sublist in words for item in sublist if item]\n",
    "            words = list(set(words))\n",
    "            print(words)        \n",
    "            words = [word for word in words if word not in stop_words]\n",
    "            print(words)\n",
    "\n",
    "            words = [preproc_arab_sentence(word) for word in words]\n",
    "\n",
    "            # print(words)        \n",
    "            words = [stemming_darija(word) for word in words if word]\n",
    "            words = number_remov(words)\n",
    "\n",
    "\n",
    "            # print(words)\n",
    "            words = ' '.join(words) \n",
    "            return words"
   ]
  },
  {
   "cell_type": "code",
   "execution_count": 28,
   "id": "299a6edd",
   "metadata": {
    "execution": {
     "iopub.execute_input": "2024-12-19T14:59:39.524411Z",
     "iopub.status.busy": "2024-12-19T14:59:39.523917Z",
     "iopub.status.idle": "2024-12-19T14:59:39.540864Z",
     "shell.execute_reply": "2024-12-19T14:59:39.539812Z"
    },
    "papermill": {
     "duration": 0.032632,
     "end_time": "2024-12-19T14:59:39.543213",
     "exception": false,
     "start_time": "2024-12-19T14:59:39.510581",
     "status": "completed"
    },
    "tags": []
   },
   "outputs": [
    {
     "data": {
      "text/html": [
       "<div>\n",
       "<style scoped>\n",
       "    .dataframe tbody tr th:only-of-type {\n",
       "        vertical-align: middle;\n",
       "    }\n",
       "\n",
       "    .dataframe tbody tr th {\n",
       "        vertical-align: top;\n",
       "    }\n",
       "\n",
       "    .dataframe thead th {\n",
       "        text-align: right;\n",
       "    }\n",
       "</style>\n",
       "<table border=\"1\" class=\"dataframe\">\n",
       "  <thead>\n",
       "    <tr style=\"text-align: right;\">\n",
       "      <th></th>\n",
       "      <th>text</th>\n",
       "      <th>target</th>\n",
       "      <th>text_cleaned</th>\n",
       "    </tr>\n",
       "  </thead>\n",
       "  <tbody>\n",
       "    <tr>\n",
       "      <th>32436</th>\n",
       "      <td>الله يحسن عون الصحفيين قدرو يتحملوه نصف ساعة م...</td>\n",
       "      <td>0</td>\n",
       "      <td>مفيده قدرو مقنع سير ارباب حت طاعون امين تبا حم...</td>\n",
       "    </tr>\n",
       "    <tr>\n",
       "      <th>24008</th>\n",
       "      <td>كيفكر فالصحة البدنية للمواطن و لكن الصحة النفس...</td>\n",
       "      <td>0</td>\n",
       "      <td>لمواطن امتياز كيفكر حجم قبه ازمه فالسحه ادافه ...</td>\n",
       "    </tr>\n",
       "    <tr>\n",
       "      <th>19902</th>\n",
       "      <td>دابا يشوفو شي تخريجة باش يديرو لكل برلماني مسا...</td>\n",
       "      <td>0</td>\n",
       "      <td>تخريجه مساعد فيكوم بالعقل ياخود حزبه فيهوم اعد...</td>\n",
       "    </tr>\n",
       "    <tr>\n",
       "      <th>14813</th>\n",
       "      <td>وكان كانت المنتجات المغربيه ذات جوده وكتمر بمج...</td>\n",
       "      <td>0</td>\n",
       "      <td>بمجموعه نقاطعوهوم وعط خور جوده عور مغربيه وكتم...</td>\n",
       "    </tr>\n",
       "    <tr>\n",
       "      <th>27718</th>\n",
       "      <td>مكناش عارفين بلي خرا البرلمانيين مبدل على خرا ...</td>\n",
       "      <td>0</td>\n",
       "      <td>خرا تيتحول تياكلو والكافيار الماس مكناش خراا ل...</td>\n",
       "    </tr>\n",
       "  </tbody>\n",
       "</table>\n",
       "</div>"
      ],
      "text/plain": [
       "                                                    text  target  \\\n",
       "32436  الله يحسن عون الصحفيين قدرو يتحملوه نصف ساعة م...       0   \n",
       "24008  كيفكر فالصحة البدنية للمواطن و لكن الصحة النفس...       0   \n",
       "19902  دابا يشوفو شي تخريجة باش يديرو لكل برلماني مسا...       0   \n",
       "14813  وكان كانت المنتجات المغربيه ذات جوده وكتمر بمج...       0   \n",
       "27718  مكناش عارفين بلي خرا البرلمانيين مبدل على خرا ...       0   \n",
       "\n",
       "                                            text_cleaned  \n",
       "32436  مفيده قدرو مقنع سير ارباب حت طاعون امين تبا حم...  \n",
       "24008  لمواطن امتياز كيفكر حجم قبه ازمه فالسحه ادافه ...  \n",
       "19902  تخريجه مساعد فيكوم بالعقل ياخود حزبه فيهوم اعد...  \n",
       "14813  بمجموعه نقاطعوهوم وعط خور جوده عور مغربيه وكتم...  \n",
       "27718  خرا تيتحول تياكلو والكافيار الماس مكناش خراا ل...  "
      ]
     },
     "execution_count": 28,
     "metadata": {},
     "output_type": "execute_result"
    }
   ],
   "source": [
    "df.head()"
   ]
  },
  {
   "cell_type": "code",
   "execution_count": 29,
   "id": "7ad363ec",
   "metadata": {
    "execution": {
     "iopub.execute_input": "2024-12-19T14:59:39.569565Z",
     "iopub.status.busy": "2024-12-19T14:59:39.569157Z",
     "iopub.status.idle": "2024-12-19T14:59:39.587635Z",
     "shell.execute_reply": "2024-12-19T14:59:39.586292Z"
    },
    "papermill": {
     "duration": 0.034468,
     "end_time": "2024-12-19T14:59:39.590247",
     "exception": false,
     "start_time": "2024-12-19T14:59:39.555779",
     "status": "completed"
    },
    "tags": []
   },
   "outputs": [
    {
     "name": "stdout",
     "output_type": "stream",
     "text": [
      "<class 'pandas.core.frame.DataFrame'>\n",
      "Index: 24500 entries, 32436 to 23512\n",
      "Data columns (total 3 columns):\n",
      " #   Column        Non-Null Count  Dtype \n",
      "---  ------        --------------  ----- \n",
      " 0   text          24500 non-null  object\n",
      " 1   target        24500 non-null  int64 \n",
      " 2   text_cleaned  23682 non-null  object\n",
      "dtypes: int64(1), object(2)\n",
      "memory usage: 765.6+ KB\n"
     ]
    }
   ],
   "source": [
    "df.info()"
   ]
  },
  {
   "cell_type": "code",
   "execution_count": 30,
   "id": "3a945b4d",
   "metadata": {
    "execution": {
     "iopub.execute_input": "2024-12-19T14:59:39.617846Z",
     "iopub.status.busy": "2024-12-19T14:59:39.617459Z",
     "iopub.status.idle": "2024-12-19T14:59:39.635931Z",
     "shell.execute_reply": "2024-12-19T14:59:39.634770Z"
    },
    "papermill": {
     "duration": 0.034338,
     "end_time": "2024-12-19T14:59:39.638317",
     "exception": false,
     "start_time": "2024-12-19T14:59:39.603979",
     "status": "completed"
    },
    "tags": []
   },
   "outputs": [],
   "source": [
    "df.dropna(inplace=True)"
   ]
  },
  {
   "cell_type": "code",
   "execution_count": 31,
   "id": "81affd0a",
   "metadata": {
    "execution": {
     "iopub.execute_input": "2024-12-19T14:59:39.665815Z",
     "iopub.status.busy": "2024-12-19T14:59:39.664973Z",
     "iopub.status.idle": "2024-12-19T14:59:39.687520Z",
     "shell.execute_reply": "2024-12-19T14:59:39.686330Z"
    },
    "papermill": {
     "duration": 0.039264,
     "end_time": "2024-12-19T14:59:39.690212",
     "exception": false,
     "start_time": "2024-12-19T14:59:39.650948",
     "status": "completed"
    },
    "tags": []
   },
   "outputs": [],
   "source": [
    "from sklearn.model_selection import train_test_split\n",
    "\n",
    "X_train, X_test, y_train, y_test = train_test_split( df.drop(columns=[\"target\"]),df[\"target\"], test_size=0.2 , stratify=df['target'] ,shuffle=True , random_state=123)"
   ]
  },
  {
   "cell_type": "code",
   "execution_count": 32,
   "id": "2993f2db",
   "metadata": {
    "execution": {
     "iopub.execute_input": "2024-12-19T14:59:39.717043Z",
     "iopub.status.busy": "2024-12-19T14:59:39.716653Z",
     "iopub.status.idle": "2024-12-19T14:59:39.726777Z",
     "shell.execute_reply": "2024-12-19T14:59:39.725641Z"
    },
    "papermill": {
     "duration": 0.026058,
     "end_time": "2024-12-19T14:59:39.729059",
     "exception": false,
     "start_time": "2024-12-19T14:59:39.703001",
     "status": "completed"
    },
    "tags": []
   },
   "outputs": [
    {
     "data": {
      "text/plain": [
       "target\n",
       "0    2414\n",
       "1    2323\n",
       "Name: count, dtype: int64"
      ]
     },
     "execution_count": 32,
     "metadata": {},
     "output_type": "execute_result"
    }
   ],
   "source": [
    "y_test.value_counts()"
   ]
  },
  {
   "cell_type": "code",
   "execution_count": 33,
   "id": "3bdcf0cb",
   "metadata": {
    "execution": {
     "iopub.execute_input": "2024-12-19T14:59:39.757216Z",
     "iopub.status.busy": "2024-12-19T14:59:39.756840Z",
     "iopub.status.idle": "2024-12-19T14:59:39.763671Z",
     "shell.execute_reply": "2024-12-19T14:59:39.762575Z"
    },
    "papermill": {
     "duration": 0.024339,
     "end_time": "2024-12-19T14:59:39.765928",
     "exception": false,
     "start_time": "2024-12-19T14:59:39.741589",
     "status": "completed"
    },
    "tags": []
   },
   "outputs": [
    {
     "data": {
      "text/plain": [
       "(18945, 2)"
      ]
     },
     "execution_count": 33,
     "metadata": {},
     "output_type": "execute_result"
    }
   ],
   "source": [
    "X_train.shape"
   ]
  },
  {
   "cell_type": "markdown",
   "id": "622610b1",
   "metadata": {
    "papermill": {
     "duration": 0.012198,
     "end_time": "2024-12-19T14:59:39.791583",
     "exception": false,
     "start_time": "2024-12-19T14:59:39.779385",
     "status": "completed"
    },
    "tags": []
   },
   "source": [
    "## Useful Function"
   ]
  },
  {
   "cell_type": "code",
   "execution_count": 34,
   "id": "8f6fdbfd",
   "metadata": {
    "execution": {
     "iopub.execute_input": "2024-12-19T14:59:39.818067Z",
     "iopub.status.busy": "2024-12-19T14:59:39.817601Z",
     "iopub.status.idle": "2024-12-19T14:59:40.380500Z",
     "shell.execute_reply": "2024-12-19T14:59:40.379071Z"
    },
    "papermill": {
     "duration": 0.57924,
     "end_time": "2024-12-19T14:59:40.383133",
     "exception": false,
     "start_time": "2024-12-19T14:59:39.803893",
     "status": "completed"
    },
    "tags": []
   },
   "outputs": [],
   "source": [
    "import numpy as np\n",
    "from sklearn.metrics import accuracy_score, f1_score, classification_report, confusion_matrix\n",
    "import seaborn as sns\n",
    "import matplotlib.pyplot as plt\n",
    "\n",
    "def about_model(model_name , y_test, y_pred):\n",
    "    print('-------------------> ' + model_name )\n",
    "    accuracy = accuracy_score(y_test, y_pred)\n",
    "    print(f\"Accuracy: {accuracy:.2f}\")\n",
    "    \n",
    "    f1 = f1_score(y_test, y_pred, average=None)\n",
    "    print(\"F1-Score for each class:\")\n",
    "    class_labels = ['Positive', 'Negative']\n",
    "\n",
    "    for i, score in enumerate(f1):\n",
    "        print(f\"{class_labels[i]}: {score:.2f}\")\n",
    "    \n",
    "    print(\"\\nClassification Report:\")\n",
    "    print(classification_report(y_test, y_pred, target_names=class_labels, digits=2))\n",
    "    \n",
    "    conf_matrix = confusion_matrix(y_test, y_pred)\n",
    "    plt.figure(figsize=(8, 6))\n",
    "    sns.heatmap(conf_matrix, annot=True, fmt='d', cmap='Blues', \n",
    "                xticklabels=class_labels,\n",
    "                yticklabels=class_labels)\n",
    "    plt.xlabel(\"Predicted\")\n",
    "    plt.ylabel(\"Actual\")\n",
    "    plt.title(\"Confusion Matrix\")\n",
    "    plt.show()\n"
   ]
  },
  {
   "cell_type": "markdown",
   "id": "6800517e",
   "metadata": {
    "papermill": {
     "duration": 0.014341,
     "end_time": "2024-12-19T14:59:40.410899",
     "exception": false,
     "start_time": "2024-12-19T14:59:40.396558",
     "status": "completed"
    },
    "tags": []
   },
   "source": [
    "## Feature Engineering\n",
    "Converting text to vectors format:\n",
    "- TF-IDF Vectorization (ngram_range=(1, 3))"
   ]
  },
  {
   "cell_type": "code",
   "execution_count": 35,
   "id": "cf1cb4fd",
   "metadata": {
    "execution": {
     "iopub.execute_input": "2024-12-19T14:59:40.439619Z",
     "iopub.status.busy": "2024-12-19T14:59:40.439083Z",
     "iopub.status.idle": "2024-12-19T14:59:40.444338Z",
     "shell.execute_reply": "2024-12-19T14:59:40.443158Z"
    },
    "papermill": {
     "duration": 0.022117,
     "end_time": "2024-12-19T14:59:40.446745",
     "exception": false,
     "start_time": "2024-12-19T14:59:40.424628",
     "status": "completed"
    },
    "tags": []
   },
   "outputs": [],
   "source": [
    "#from sklearn.feature_extraction.text import TfidfVectorizer\n",
    "\n",
    "\n",
    "#tfidf_vectorizer = TfidfVectorizer(ngram_range=(1, 2))\n",
    "#X_train['text_cleaned'] = X_train['text_cleaned'].astype(str)\n",
    "#X_test['text_cleaned'] = X_test['text_cleaned'].astype(str)\n",
    "\n",
    "#X_train_tfidf = tfidf_vectorizer.fit_transform(X_train['text_cleaned'])\n",
    "#X_test_tfidf = tfidf_vectorizer.transform(X_test['text_cleaned'])\n",
    "\n"
   ]
  },
  {
   "cell_type": "code",
   "execution_count": 36,
   "id": "e40e8cc6",
   "metadata": {
    "execution": {
     "iopub.execute_input": "2024-12-19T14:59:40.473820Z",
     "iopub.status.busy": "2024-12-19T14:59:40.473431Z",
     "iopub.status.idle": "2024-12-19T14:59:42.591743Z",
     "shell.execute_reply": "2024-12-19T14:59:42.590209Z"
    },
    "papermill": {
     "duration": 2.135233,
     "end_time": "2024-12-19T14:59:42.594341",
     "exception": false,
     "start_time": "2024-12-19T14:59:40.459108",
     "status": "completed"
    },
    "tags": []
   },
   "outputs": [
    {
     "name": "stdout",
     "output_type": "stream",
     "text": [
      "all tokens:  195165\n",
      "reduced tokens:  195165\n"
     ]
    }
   ],
   "source": [
    "from sklearn.feature_extraction.text import TfidfVectorizer\n",
    "import numpy as np\n",
    "import pandas as pd\n",
    "\n",
    "\n",
    "tfidf_vectorizer = TfidfVectorizer(ngram_range=(1, 3))\n",
    "\n",
    "X_train['text_cleaned'] = X_train['text_cleaned'].astype(str)\n",
    "X_test['text_cleaned'] = X_test['text_cleaned'].astype(str)\n",
    "\n",
    "X_train_tfidf = tfidf_vectorizer.fit_transform(X_train['text_cleaned'])\n",
    "X_test_tfidf = tfidf_vectorizer.transform(X_test['text_cleaned'])\n",
    "\n",
    "words = tfidf_vectorizer.get_feature_names_out()\n",
    "print(\"all tokens: \" , len(words))\n",
    "tfidf_scores = np.asarray(X_train_tfidf.sum(axis=0)).flatten()\n",
    "\n",
    "sorted_indices = np.argsort(tfidf_scores)[::-1]\n",
    "\n",
    "cumulative_tfidf = np.cumsum(tfidf_scores[sorted_indices])\n",
    "\n",
    "total_tfidf = cumulative_tfidf[-1]\n",
    "threshold =  total_tfidf\n",
    "\n",
    "cutoff_index = np.where(cumulative_tfidf >= threshold)[0][0]\n",
    "\n",
    "selected_ngrams = words[sorted_indices][:cutoff_index + 1]\n",
    "\n",
    "selected_vocab = selected_ngrams.tolist()\n",
    "print(\"reduced tokens: \"  , len(selected_vocab))\n",
    "\n",
    "tfidf_vectorizer = TfidfVectorizer(vocabulary=selected_vocab)\n",
    "\n",
    "X_train_tfidf = tfidf_vectorizer.fit_transform(X_train['text_cleaned'])\n",
    "X_test_tfidf = tfidf_vectorizer.transform(X_test['text_cleaned'])\n"
   ]
  },
  {
   "cell_type": "code",
   "execution_count": 37,
   "id": "f833e52f",
   "metadata": {
    "execution": {
     "iopub.execute_input": "2024-12-19T14:59:42.622011Z",
     "iopub.status.busy": "2024-12-19T14:59:42.621579Z",
     "iopub.status.idle": "2024-12-19T14:59:42.775877Z",
     "shell.execute_reply": "2024-12-19T14:59:42.774671Z"
    },
    "papermill": {
     "duration": 0.171662,
     "end_time": "2024-12-19T14:59:42.778499",
     "exception": false,
     "start_time": "2024-12-19T14:59:42.606837",
     "status": "completed"
    },
    "tags": []
   },
   "outputs": [
    {
     "data": {
      "text/plain": [
       "array(['لا', 'ما', 'غير', 'هه', 'حمد', 'خير', 'مبروك', 'تفو', 'ماش',\n",
       "       'سير', 'هم', 'قلب', 'احسن', 'عداله', 'فرح', 'وفي', 'فكر', 'عديم',\n",
       "       'لم', 'قوه', 'طحن', 'تحيه', 'بدموع', 'تنميه', 'ليس', 'والو', 'سح',\n",
       "       'كورو', 'لاسف', 'عمار'], dtype=object)"
      ]
     },
     "execution_count": 37,
     "metadata": {},
     "output_type": "execute_result"
    }
   ],
   "source": [
    "tfidf_vectorizer.get_feature_names_out()[:30]"
   ]
  },
  {
   "cell_type": "code",
   "execution_count": 38,
   "id": "12b9dc23",
   "metadata": {
    "execution": {
     "iopub.execute_input": "2024-12-19T14:59:42.806993Z",
     "iopub.status.busy": "2024-12-19T14:59:42.806589Z",
     "iopub.status.idle": "2024-12-19T14:59:42.923280Z",
     "shell.execute_reply": "2024-12-19T14:59:42.922176Z"
    },
    "papermill": {
     "duration": 0.133437,
     "end_time": "2024-12-19T14:59:42.925982",
     "exception": false,
     "start_time": "2024-12-19T14:59:42.792545",
     "status": "completed"
    },
    "tags": []
   },
   "outputs": [
    {
     "data": {
      "text/plain": [
       "195165"
      ]
     },
     "execution_count": 38,
     "metadata": {},
     "output_type": "execute_result"
    }
   ],
   "source": [
    "len(tfidf_vectorizer.get_feature_names_out())"
   ]
  },
  {
   "cell_type": "markdown",
   "id": "3ef73667",
   "metadata": {
    "papermill": {
     "duration": 0.013881,
     "end_time": "2024-12-19T14:59:42.953834",
     "exception": false,
     "start_time": "2024-12-19T14:59:42.939953",
     "status": "completed"
    },
    "tags": []
   },
   "source": [
    "## Model Development\n"
   ]
  },
  {
   "cell_type": "markdown",
   "id": "e30ef3fc",
   "metadata": {
    "papermill": {
     "duration": 0.012585,
     "end_time": "2024-12-19T14:59:42.979836",
     "exception": false,
     "start_time": "2024-12-19T14:59:42.967251",
     "status": "completed"
    },
    "tags": []
   },
   "source": [
    "### Random Forest"
   ]
  },
  {
   "cell_type": "code",
   "execution_count": 39,
   "id": "7cd4d608",
   "metadata": {
    "execution": {
     "iopub.execute_input": "2024-12-19T14:59:43.008290Z",
     "iopub.status.busy": "2024-12-19T14:59:43.007877Z",
     "iopub.status.idle": "2024-12-19T15:09:29.541540Z",
     "shell.execute_reply": "2024-12-19T15:09:29.540223Z"
    },
    "papermill": {
     "duration": 586.56413,
     "end_time": "2024-12-19T15:09:29.557304",
     "exception": false,
     "start_time": "2024-12-19T14:59:42.993174",
     "status": "completed"
    },
    "tags": []
   },
   "outputs": [
    {
     "data": {
      "text/html": [
       "<style>#sk-container-id-1 {color: black;background-color: white;}#sk-container-id-1 pre{padding: 0;}#sk-container-id-1 div.sk-toggleable {background-color: white;}#sk-container-id-1 label.sk-toggleable__label {cursor: pointer;display: block;width: 100%;margin-bottom: 0;padding: 0.3em;box-sizing: border-box;text-align: center;}#sk-container-id-1 label.sk-toggleable__label-arrow:before {content: \"▸\";float: left;margin-right: 0.25em;color: #696969;}#sk-container-id-1 label.sk-toggleable__label-arrow:hover:before {color: black;}#sk-container-id-1 div.sk-estimator:hover label.sk-toggleable__label-arrow:before {color: black;}#sk-container-id-1 div.sk-toggleable__content {max-height: 0;max-width: 0;overflow: hidden;text-align: left;background-color: #f0f8ff;}#sk-container-id-1 div.sk-toggleable__content pre {margin: 0.2em;color: black;border-radius: 0.25em;background-color: #f0f8ff;}#sk-container-id-1 input.sk-toggleable__control:checked~div.sk-toggleable__content {max-height: 200px;max-width: 100%;overflow: auto;}#sk-container-id-1 input.sk-toggleable__control:checked~label.sk-toggleable__label-arrow:before {content: \"▾\";}#sk-container-id-1 div.sk-estimator input.sk-toggleable__control:checked~label.sk-toggleable__label {background-color: #d4ebff;}#sk-container-id-1 div.sk-label input.sk-toggleable__control:checked~label.sk-toggleable__label {background-color: #d4ebff;}#sk-container-id-1 input.sk-hidden--visually {border: 0;clip: rect(1px 1px 1px 1px);clip: rect(1px, 1px, 1px, 1px);height: 1px;margin: -1px;overflow: hidden;padding: 0;position: absolute;width: 1px;}#sk-container-id-1 div.sk-estimator {font-family: monospace;background-color: #f0f8ff;border: 1px dotted black;border-radius: 0.25em;box-sizing: border-box;margin-bottom: 0.5em;}#sk-container-id-1 div.sk-estimator:hover {background-color: #d4ebff;}#sk-container-id-1 div.sk-parallel-item::after {content: \"\";width: 100%;border-bottom: 1px solid gray;flex-grow: 1;}#sk-container-id-1 div.sk-label:hover label.sk-toggleable__label {background-color: #d4ebff;}#sk-container-id-1 div.sk-serial::before {content: \"\";position: absolute;border-left: 1px solid gray;box-sizing: border-box;top: 0;bottom: 0;left: 50%;z-index: 0;}#sk-container-id-1 div.sk-serial {display: flex;flex-direction: column;align-items: center;background-color: white;padding-right: 0.2em;padding-left: 0.2em;position: relative;}#sk-container-id-1 div.sk-item {position: relative;z-index: 1;}#sk-container-id-1 div.sk-parallel {display: flex;align-items: stretch;justify-content: center;background-color: white;position: relative;}#sk-container-id-1 div.sk-item::before, #sk-container-id-1 div.sk-parallel-item::before {content: \"\";position: absolute;border-left: 1px solid gray;box-sizing: border-box;top: 0;bottom: 0;left: 50%;z-index: -1;}#sk-container-id-1 div.sk-parallel-item {display: flex;flex-direction: column;z-index: 1;position: relative;background-color: white;}#sk-container-id-1 div.sk-parallel-item:first-child::after {align-self: flex-end;width: 50%;}#sk-container-id-1 div.sk-parallel-item:last-child::after {align-self: flex-start;width: 50%;}#sk-container-id-1 div.sk-parallel-item:only-child::after {width: 0;}#sk-container-id-1 div.sk-dashed-wrapped {border: 1px dashed gray;margin: 0 0.4em 0.5em 0.4em;box-sizing: border-box;padding-bottom: 0.4em;background-color: white;}#sk-container-id-1 div.sk-label label {font-family: monospace;font-weight: bold;display: inline-block;line-height: 1.2em;}#sk-container-id-1 div.sk-label-container {text-align: center;}#sk-container-id-1 div.sk-container {/* jupyter's `normalize.less` sets `[hidden] { display: none; }` but bootstrap.min.css set `[hidden] { display: none !important; }` so we also need the `!important` here to be able to override the default hidden behavior on the sphinx rendered scikit-learn.org. See: https://github.com/scikit-learn/scikit-learn/issues/21755 */display: inline-block !important;position: relative;}#sk-container-id-1 div.sk-text-repr-fallback {display: none;}</style><div id=\"sk-container-id-1\" class=\"sk-top-container\"><div class=\"sk-text-repr-fallback\"><pre>RandomForestClassifier()</pre><b>In a Jupyter environment, please rerun this cell to show the HTML representation or trust the notebook. <br />On GitHub, the HTML representation is unable to render, please try loading this page with nbviewer.org.</b></div><div class=\"sk-container\" hidden><div class=\"sk-item\"><div class=\"sk-estimator sk-toggleable\"><input class=\"sk-toggleable__control sk-hidden--visually\" id=\"sk-estimator-id-1\" type=\"checkbox\" checked><label for=\"sk-estimator-id-1\" class=\"sk-toggleable__label sk-toggleable__label-arrow\">RandomForestClassifier</label><div class=\"sk-toggleable__content\"><pre>RandomForestClassifier()</pre></div></div></div></div></div>"
      ],
      "text/plain": [
       "RandomForestClassifier()"
      ]
     },
     "execution_count": 39,
     "metadata": {},
     "output_type": "execute_result"
    }
   ],
   "source": [
    "from sklearn.ensemble import RandomForestClassifier\n",
    "randomforest_clf = RandomForestClassifier()\n",
    "randomforest_clf.fit(X_train_tfidf, y_train)"
   ]
  },
  {
   "cell_type": "code",
   "execution_count": 40,
   "id": "e4a91b3e",
   "metadata": {
    "execution": {
     "iopub.execute_input": "2024-12-19T15:09:29.586816Z",
     "iopub.status.busy": "2024-12-19T15:09:29.586334Z",
     "iopub.status.idle": "2024-12-19T15:09:32.249611Z",
     "shell.execute_reply": "2024-12-19T15:09:32.248393Z"
    },
    "papermill": {
     "duration": 2.681927,
     "end_time": "2024-12-19T15:09:32.252239",
     "exception": false,
     "start_time": "2024-12-19T15:09:29.570312",
     "status": "completed"
    },
    "tags": []
   },
   "outputs": [
    {
     "name": "stdout",
     "output_type": "stream",
     "text": [
      "-------------------> Random Forest\n",
      "Accuracy: 0.73\n",
      "F1-Score for each class:\n",
      "Positive: 0.70\n",
      "Negative: 0.75\n",
      "\n",
      "Classification Report:\n",
      "              precision    recall  f1-score   support\n",
      "\n",
      "    Positive       0.79      0.64      0.70      2414\n",
      "    Negative       0.68      0.82      0.75      2323\n",
      "\n",
      "    accuracy                           0.73      4737\n",
      "   macro avg       0.74      0.73      0.72      4737\n",
      "weighted avg       0.74      0.73      0.72      4737\n",
      "\n"
     ]
    },
    {
     "data": {
      "image/png": "[encoded data removed]",
      "text/plain": [
       "<Figure size 800x600 with 2 Axes>"
      ]
     },
     "metadata": {},
     "output_type": "display_data"
    }
   ],
   "source": [
    "y_hat = randomforest_clf.predict(X_test_tfidf) \n",
    "about_model(\"Random Forest\" , y_test, y_hat)"
   ]
  },
  {
   "cell_type": "markdown",
   "id": "6382eae4",
   "metadata": {
    "papermill": {
     "duration": 0.019417,
     "end_time": "2024-12-19T15:09:32.285536",
     "exception": false,
     "start_time": "2024-12-19T15:09:32.266119",
     "status": "completed"
    },
    "tags": []
   },
   "source": [
    "### Tuned Random Forest"
   ]
  },
  {
   "cell_type": "code",
   "execution_count": 41,
   "id": "233c033d",
   "metadata": {
    "execution": {
     "iopub.execute_input": "2024-12-19T15:09:32.315414Z",
     "iopub.status.busy": "2024-12-19T15:09:32.315003Z",
     "iopub.status.idle": "2024-12-19T23:20:00.336875Z",
     "shell.execute_reply": "2024-12-19T23:20:00.335063Z"
    },
    "papermill": {
     "duration": 29428.065297,
     "end_time": "2024-12-19T23:20:00.365047",
     "exception": false,
     "start_time": "2024-12-19T15:09:32.299750",
     "status": "completed"
    },
    "tags": []
   },
   "outputs": [
    {
     "name": "stdout",
     "output_type": "stream",
     "text": [
      "Fitting 5 folds for each of 108 candidates, totalling 540 fits\n"
     ]
    },
    {
     "data": {
      "text/plain": [
       "{'criterion': 'entropy',\n",
       " 'max_depth': None,\n",
       " 'max_features': 'log2',\n",
       " 'min_samples_split': 10,\n",
       " 'n_estimators': 200}"
      ]
     },
     "execution_count": 41,
     "metadata": {},
     "output_type": "execute_result"
    }
   ],
   "source": [
    "param_grid_ = {\n",
    "    'n_estimators': [10, 100, 200],\n",
    "    'max_features': ['sqrt', 'log2'],\n",
    "    'criterion': ['gini', 'entropy'], \n",
    "    'max_depth': [None, 10, 20],      \n",
    "    'min_samples_split': [2, 5, 10]   \n",
    "}\n",
    "\n",
    "randomforest_clf = GridSearchCV(estimator=RandomForestClassifier(n_jobs=-1),\n",
    "                                param_grid=param_grid_, \n",
    "                                cv=5, verbose=1 , \n",
    "                                scoring='accuracy',\n",
    "                                n_jobs=-1)\n",
    "randomforest_clf.fit(X_train_tfidf, y_train)\n",
    "randomforest_clf.best_params_\n"
   ]
  },
  {
   "cell_type": "code",
   "execution_count": 42,
   "id": "f47a7fda",
   "metadata": {
    "execution": {
     "iopub.execute_input": "2024-12-19T23:20:00.402273Z",
     "iopub.status.busy": "2024-12-19T23:20:00.401825Z",
     "iopub.status.idle": "2024-12-19T23:20:06.751173Z",
     "shell.execute_reply": "2024-12-19T23:20:06.750004Z"
    },
    "papermill": {
     "duration": 6.372182,
     "end_time": "2024-12-19T23:20:06.754414",
     "exception": false,
     "start_time": "2024-12-19T23:20:00.382232",
     "status": "completed"
    },
    "tags": []
   },
   "outputs": [
    {
     "name": "stdout",
     "output_type": "stream",
     "text": [
      "-------------------> Tuned Random Forest\n",
      "Accuracy: 0.74\n",
      "F1-Score for each class:\n",
      "Positive: 0.73\n",
      "Negative: 0.75\n",
      "\n",
      "Classification Report:\n",
      "              precision    recall  f1-score   support\n",
      "\n",
      "    Positive       0.77      0.70      0.73      2414\n",
      "    Negative       0.71      0.79      0.75      2323\n",
      "\n",
      "    accuracy                           0.74      4737\n",
      "   macro avg       0.74      0.74      0.74      4737\n",
      "weighted avg       0.74      0.74      0.74      4737\n",
      "\n"
     ]
    },
    {
     "data": {
      "image/png": "[encoded data removed]",
      "text/plain": [
       "<Figure size 800x600 with 2 Axes>"
      ]
     },
     "metadata": {},
     "output_type": "display_data"
    }
   ],
   "source": [
    "y_hat = randomforest_clf.predict(X_test_tfidf)\n",
    "about_model(\"Tuned Random Forest\" , y_test , y_hat)"
   ]
  },
  {
   "cell_type": "markdown",
   "id": "477ba749",
   "metadata": {
    "papermill": {
     "duration": 0.01644,
     "end_time": "2024-12-19T23:20:06.789266",
     "exception": false,
     "start_time": "2024-12-19T23:20:06.772826",
     "status": "completed"
    },
    "tags": []
   },
   "source": [
    "### SVM"
   ]
  },
  {
   "cell_type": "code",
   "execution_count": 43,
   "id": "b696c222",
   "metadata": {
    "execution": {
     "iopub.execute_input": "2024-12-19T23:20:06.822898Z",
     "iopub.status.busy": "2024-12-19T23:20:06.822480Z",
     "iopub.status.idle": "2024-12-19T23:25:40.641824Z",
     "shell.execute_reply": "2024-12-19T23:25:40.640600Z"
    },
    "papermill": {
     "duration": 333.856555,
     "end_time": "2024-12-19T23:25:40.661211",
     "exception": false,
     "start_time": "2024-12-19T23:20:06.804656",
     "status": "completed"
    },
    "tags": []
   },
   "outputs": [
    {
     "data": {
      "text/html": [
       "<style>#sk-container-id-2 {color: black;background-color: white;}#sk-container-id-2 pre{padding: 0;}#sk-container-id-2 div.sk-toggleable {background-color: white;}#sk-container-id-2 label.sk-toggleable__label {cursor: pointer;display: block;width: 100%;margin-bottom: 0;padding: 0.3em;box-sizing: border-box;text-align: center;}#sk-container-id-2 label.sk-toggleable__label-arrow:before {content: \"▸\";float: left;margin-right: 0.25em;color: #696969;}#sk-container-id-2 label.sk-toggleable__label-arrow:hover:before {color: black;}#sk-container-id-2 div.sk-estimator:hover label.sk-toggleable__label-arrow:before {color: black;}#sk-container-id-2 div.sk-toggleable__content {max-height: 0;max-width: 0;overflow: hidden;text-align: left;background-color: #f0f8ff;}#sk-container-id-2 div.sk-toggleable__content pre {margin: 0.2em;color: black;border-radius: 0.25em;background-color: #f0f8ff;}#sk-container-id-2 input.sk-toggleable__control:checked~div.sk-toggleable__content {max-height: 200px;max-width: 100%;overflow: auto;}#sk-container-id-2 input.sk-toggleable__control:checked~label.sk-toggleable__label-arrow:before {content: \"▾\";}#sk-container-id-2 div.sk-estimator input.sk-toggleable__control:checked~label.sk-toggleable__label {background-color: #d4ebff;}#sk-container-id-2 div.sk-label input.sk-toggleable__control:checked~label.sk-toggleable__label {background-color: #d4ebff;}#sk-container-id-2 input.sk-hidden--visually {border: 0;clip: rect(1px 1px 1px 1px);clip: rect(1px, 1px, 1px, 1px);height: 1px;margin: -1px;overflow: hidden;padding: 0;position: absolute;width: 1px;}#sk-container-id-2 div.sk-estimator {font-family: monospace;background-color: #f0f8ff;border: 1px dotted black;border-radius: 0.25em;box-sizing: border-box;margin-bottom: 0.5em;}#sk-container-id-2 div.sk-estimator:hover {background-color: #d4ebff;}#sk-container-id-2 div.sk-parallel-item::after {content: \"\";width: 100%;border-bottom: 1px solid gray;flex-grow: 1;}#sk-container-id-2 div.sk-label:hover label.sk-toggleable__label {background-color: #d4ebff;}#sk-container-id-2 div.sk-serial::before {content: \"\";position: absolute;border-left: 1px solid gray;box-sizing: border-box;top: 0;bottom: 0;left: 50%;z-index: 0;}#sk-container-id-2 div.sk-serial {display: flex;flex-direction: column;align-items: center;background-color: white;padding-right: 0.2em;padding-left: 0.2em;position: relative;}#sk-container-id-2 div.sk-item {position: relative;z-index: 1;}#sk-container-id-2 div.sk-parallel {display: flex;align-items: stretch;justify-content: center;background-color: white;position: relative;}#sk-container-id-2 div.sk-item::before, #sk-container-id-2 div.sk-parallel-item::before {content: \"\";position: absolute;border-left: 1px solid gray;box-sizing: border-box;top: 0;bottom: 0;left: 50%;z-index: -1;}#sk-container-id-2 div.sk-parallel-item {display: flex;flex-direction: column;z-index: 1;position: relative;background-color: white;}#sk-container-id-2 div.sk-parallel-item:first-child::after {align-self: flex-end;width: 50%;}#sk-container-id-2 div.sk-parallel-item:last-child::after {align-self: flex-start;width: 50%;}#sk-container-id-2 div.sk-parallel-item:only-child::after {width: 0;}#sk-container-id-2 div.sk-dashed-wrapped {border: 1px dashed gray;margin: 0 0.4em 0.5em 0.4em;box-sizing: border-box;padding-bottom: 0.4em;background-color: white;}#sk-container-id-2 div.sk-label label {font-family: monospace;font-weight: bold;display: inline-block;line-height: 1.2em;}#sk-container-id-2 div.sk-label-container {text-align: center;}#sk-container-id-2 div.sk-container {/* jupyter's `normalize.less` sets `[hidden] { display: none; }` but bootstrap.min.css set `[hidden] { display: none !important; }` so we also need the `!important` here to be able to override the default hidden behavior on the sphinx rendered scikit-learn.org. See: https://github.com/scikit-learn/scikit-learn/issues/21755 */display: inline-block !important;position: relative;}#sk-container-id-2 div.sk-text-repr-fallback {display: none;}</style><div id=\"sk-container-id-2\" class=\"sk-top-container\"><div class=\"sk-text-repr-fallback\"><pre>SVC(probability=True)</pre><b>In a Jupyter environment, please rerun this cell to show the HTML representation or trust the notebook. <br />On GitHub, the HTML representation is unable to render, please try loading this page with nbviewer.org.</b></div><div class=\"sk-container\" hidden><div class=\"sk-item\"><div class=\"sk-estimator sk-toggleable\"><input class=\"sk-toggleable__control sk-hidden--visually\" id=\"sk-estimator-id-2\" type=\"checkbox\" checked><label for=\"sk-estimator-id-2\" class=\"sk-toggleable__label sk-toggleable__label-arrow\">SVC</label><div class=\"sk-toggleable__content\"><pre>SVC(probability=True)</pre></div></div></div></div></div>"
      ],
      "text/plain": [
       "SVC(probability=True)"
      ]
     },
     "execution_count": 43,
     "metadata": {},
     "output_type": "execute_result"
    }
   ],
   "source": [
    "from sklearn.svm import SVC\n",
    "svm_clf = SVC(probability=True)\n",
    "svm_clf.fit(X_train_tfidf, y_train)"
   ]
  },
  {
   "cell_type": "code",
   "execution_count": 44,
   "id": "f23b5631",
   "metadata": {
    "execution": {
     "iopub.execute_input": "2024-12-19T23:25:40.694139Z",
     "iopub.status.busy": "2024-12-19T23:25:40.693305Z",
     "iopub.status.idle": "2024-12-19T23:25:46.820995Z",
     "shell.execute_reply": "2024-12-19T23:25:46.819724Z"
    },
    "papermill": {
     "duration": 6.145832,
     "end_time": "2024-12-19T23:25:46.823436",
     "exception": false,
     "start_time": "2024-12-19T23:25:40.677604",
     "status": "completed"
    },
    "tags": []
   },
   "outputs": [
    {
     "name": "stdout",
     "output_type": "stream",
     "text": [
      "-------------------> SVM\n",
      "Accuracy: 0.75\n",
      "F1-Score for each class:\n",
      "Positive: 0.77\n",
      "Negative: 0.74\n",
      "\n",
      "Classification Report:\n",
      "              precision    recall  f1-score   support\n",
      "\n",
      "    Positive       0.74      0.79      0.77      2414\n",
      "    Negative       0.77      0.72      0.74      2323\n",
      "\n",
      "    accuracy                           0.75      4737\n",
      "   macro avg       0.76      0.75      0.75      4737\n",
      "weighted avg       0.76      0.75      0.75      4737\n",
      "\n"
     ]
    },
    {
     "data": {
      "image/png": "[encoded data removed]",
      "text/plain": [
       "<Figure size 800x600 with 2 Axes>"
      ]
     },
     "metadata": {},
     "output_type": "display_data"
    }
   ],
   "source": [
    "y_hat = svm_clf.predict(X_test_tfidf) \n",
    "about_model(\"SVM\" , y_test, y_hat)"
   ]
  },
  {
   "cell_type": "markdown",
   "id": "76ea0cc5",
   "metadata": {
    "papermill": {
     "duration": 0.016633,
     "end_time": "2024-12-19T23:25:46.856322",
     "exception": false,
     "start_time": "2024-12-19T23:25:46.839689",
     "status": "completed"
    },
    "tags": []
   },
   "source": [
    "### Tuned SVM"
   ]
  },
  {
   "cell_type": "code",
   "execution_count": 45,
   "id": "4ffcda67",
   "metadata": {
    "execution": {
     "iopub.execute_input": "2024-12-19T23:25:46.888808Z",
     "iopub.status.busy": "2024-12-19T23:25:46.888423Z",
     "iopub.status.idle": "2024-12-20T01:10:18.625229Z",
     "shell.execute_reply": "2024-12-20T01:10:18.623567Z"
    },
    "papermill": {
     "duration": 6271.774103,
     "end_time": "2024-12-20T01:10:18.646095",
     "exception": false,
     "start_time": "2024-12-19T23:25:46.871992",
     "status": "completed"
    },
    "tags": []
   },
   "outputs": [
    {
     "name": "stdout",
     "output_type": "stream",
     "text": [
      "Fitting 5 folds for each of 75 candidates, totalling 375 fits\n"
     ]
    },
    {
     "data": {
      "text/plain": [
       "{'C': 1, 'gamma': 1, 'kernel': 'rbf'}"
      ]
     },
     "execution_count": 45,
     "metadata": {},
     "output_type": "execute_result"
    }
   ],
   "source": [
    "param_grid_ = {'kernel': ['rbf', 'linear', 'poly'],\n",
    "             'gamma': [0.01 , 0.1, 1, 10, 100],\n",
    "             'C': [0.1, 1,5, 10, 100]}\n",
    "svm_grid = GridSearchCV(estimator=SVC(), \n",
    "                        param_grid=param_grid_, \n",
    "                        cv=5, verbose=1 , \n",
    "                        scoring='accuracy' , \n",
    "                        n_jobs=-1)\n",
    "svm_grid.fit(X_train_tfidf, y_train)\n",
    "svm_grid.best_params_\n"
   ]
  },
  {
   "cell_type": "code",
   "execution_count": 46,
   "id": "4ff18c74",
   "metadata": {
    "execution": {
     "iopub.execute_input": "2024-12-20T01:10:18.678110Z",
     "iopub.status.busy": "2024-12-20T01:10:18.677680Z",
     "iopub.status.idle": "2024-12-20T01:10:25.149319Z",
     "shell.execute_reply": "2024-12-20T01:10:25.146109Z"
    },
    "papermill": {
     "duration": 6.491748,
     "end_time": "2024-12-20T01:10:25.152767",
     "exception": false,
     "start_time": "2024-12-20T01:10:18.661019",
     "status": "completed"
    },
    "tags": []
   },
   "outputs": [
    {
     "name": "stdout",
     "output_type": "stream",
     "text": [
      "-------------------> Tuned SVM\n",
      "Accuracy: 0.75\n",
      "F1-Score for each class:\n",
      "Positive: 0.77\n",
      "Negative: 0.74\n",
      "\n",
      "Classification Report:\n",
      "              precision    recall  f1-score   support\n",
      "\n",
      "    Positive       0.74      0.79      0.77      2414\n",
      "    Negative       0.77      0.72      0.74      2323\n",
      "\n",
      "    accuracy                           0.75      4737\n",
      "   macro avg       0.76      0.75      0.75      4737\n",
      "weighted avg       0.76      0.75      0.75      4737\n",
      "\n"
     ]
    },
    {
     "data": {
      "image/png": "[encoded data removed]",
      "text/plain": [
       "<Figure size 800x600 with 2 Axes>"
      ]
     },
     "metadata": {},
     "output_type": "display_data"
    }
   ],
   "source": [
    "y_hat = svm_grid.predict(X_test_tfidf)\n",
    "about_model(\"Tuned SVM\", y_test , y_hat) "
   ]
  },
  {
   "cell_type": "markdown",
   "id": "bfb3bc3f",
   "metadata": {
    "papermill": {
     "duration": 0.027456,
     "end_time": "2024-12-20T01:10:25.200767",
     "exception": false,
     "start_time": "2024-12-20T01:10:25.173311",
     "status": "completed"
    },
    "tags": []
   },
   "source": [
    "### lightgbm"
   ]
  },
  {
   "cell_type": "code",
   "execution_count": 47,
   "id": "342f4b02",
   "metadata": {
    "execution": {
     "iopub.execute_input": "2024-12-20T01:10:25.250722Z",
     "iopub.status.busy": "2024-12-20T01:10:25.250245Z",
     "iopub.status.idle": "2024-12-20T01:10:29.851619Z",
     "shell.execute_reply": "2024-12-20T01:10:29.850099Z"
    },
    "papermill": {
     "duration": 4.630825,
     "end_time": "2024-12-20T01:10:29.854486",
     "exception": false,
     "start_time": "2024-12-20T01:10:25.223661",
     "status": "completed"
    },
    "tags": []
   },
   "outputs": [],
   "source": [
    "import lightgbm as lgb\n",
    "\n",
    "\n",
    "d_train = lgb.Dataset(X_train_tfidf, label=y_train)\n",
    "d_test = lgb.Dataset(X_test_tfidf, label=y_test, reference=d_train)\n",
    "\n",
    "params = {\n",
    "    'objective': 'binary',  \n",
    "    'boosting_type': 'gbdt',\n",
    "    'metric': 'binary_logloss', \n",
    "    'num_leaves': 31,\n",
    "    'learning_rate': 0.1,\n",
    "    'verbose': 0\n",
    "}\n",
    "\n",
    "model = lgb.train(params, d_train, num_boost_round=100, valid_sets=[d_train, d_test])"
   ]
  },
  {
   "cell_type": "code",
   "execution_count": 48,
   "id": "2314103b",
   "metadata": {
    "execution": {
     "iopub.execute_input": "2024-12-20T01:10:29.890795Z",
     "iopub.status.busy": "2024-12-20T01:10:29.889577Z",
     "iopub.status.idle": "2024-12-20T01:10:30.301031Z",
     "shell.execute_reply": "2024-12-20T01:10:30.299770Z"
    },
    "papermill": {
     "duration": 0.432097,
     "end_time": "2024-12-20T01:10:30.303554",
     "exception": false,
     "start_time": "2024-12-20T01:10:29.871457",
     "status": "completed"
    },
    "tags": []
   },
   "outputs": [
    {
     "name": "stdout",
     "output_type": "stream",
     "text": [
      "-------------------> lightgbm\n",
      "Accuracy: 0.69\n",
      "F1-Score for each class:\n",
      "Positive: 0.64\n",
      "Negative: 0.72\n",
      "\n",
      "Classification Report:\n",
      "              precision    recall  f1-score   support\n",
      "\n",
      "    Positive       0.77      0.55      0.64      2414\n",
      "    Negative       0.64      0.83      0.72      2323\n",
      "\n",
      "    accuracy                           0.69      4737\n",
      "   macro avg       0.71      0.69      0.68      4737\n",
      "weighted avg       0.71      0.69      0.68      4737\n",
      "\n"
     ]
    },
    {
     "data": {
      "image/png": "[encoded data removed]",
      "text/plain": [
       "<Figure size 800x600 with 2 Axes>"
      ]
     },
     "metadata": {},
     "output_type": "display_data"
    }
   ],
   "source": [
    "y_hat = model.predict(X_test_tfidf)\n",
    "y_hat = (y_hat > 0.5).astype(int)\n",
    "about_model(\"lightgbm\", y_test, y_hat)\n"
   ]
  },
  {
   "cell_type": "markdown",
   "id": "d9f84c6f",
   "metadata": {
    "papermill": {
     "duration": 0.016924,
     "end_time": "2024-12-20T01:10:30.337397",
     "exception": false,
     "start_time": "2024-12-20T01:10:30.320473",
     "status": "completed"
    },
    "tags": []
   },
   "source": [
    "### Tuned lightgbm"
   ]
  },
  {
   "cell_type": "code",
   "execution_count": 49,
   "id": "4e92a7ee",
   "metadata": {
    "execution": {
     "iopub.execute_input": "2024-12-20T01:10:30.373057Z",
     "iopub.status.busy": "2024-12-20T01:10:30.372665Z",
     "iopub.status.idle": "2024-12-20T01:10:30.378865Z",
     "shell.execute_reply": "2024-12-20T01:10:30.377399Z"
    },
    "papermill": {
     "duration": 0.027786,
     "end_time": "2024-12-20T01:10:30.381791",
     "exception": false,
     "start_time": "2024-12-20T01:10:30.354005",
     "status": "completed"
    },
    "tags": []
   },
   "outputs": [],
   "source": [
    "#from lightgbm import LGBMClassifier\n",
    "\n",
    "#param_grid_ = {\n",
    "   # 'num_leaves': [15, 31, 63],  \n",
    "  #  'learning_rate': [0.01, 0.1, 0.2],\n",
    " #   'n_estimators': [50, 100, 200],  \n",
    "#    'boosting_type': ['gbdt'], \n",
    "  #  'objective': ['binary'],  \n",
    " #   'metric': ['binary_logloss'],\n",
    "#}\n",
    "\n",
    "#lightgbm_grid = GridSearchCV(\n",
    "    #estimator= LGBMClassifier(),\n",
    "   # param_grid=param_grid_,\n",
    "    #cv=5, \n",
    "   # scoring='accuracy',\n",
    "  #  verbose=0,\n",
    " #   n_jobs=-1  \n",
    "#)\n",
    "#lightgbm_grid.fit(X_train_tfidf, y_train)\n",
    "\n",
    "#lightgbm_grid.best_params_"
   ]
  },
  {
   "cell_type": "code",
   "execution_count": 50,
   "id": "0a308fd6",
   "metadata": {
    "execution": {
     "iopub.execute_input": "2024-12-20T01:10:30.417891Z",
     "iopub.status.busy": "2024-12-20T01:10:30.417507Z",
     "iopub.status.idle": "2024-12-20T01:10:30.424175Z",
     "shell.execute_reply": "2024-12-20T01:10:30.423073Z"
    },
    "papermill": {
     "duration": 0.027314,
     "end_time": "2024-12-20T01:10:30.426853",
     "exception": false,
     "start_time": "2024-12-20T01:10:30.399539",
     "status": "completed"
    },
    "tags": []
   },
   "outputs": [],
   "source": [
    "#y_hat = lightgbm_grid.best_estimator_.predict(X_test_tfidf)\n",
    "#about_model(\"lightgbm\", y_test , y_hat)"
   ]
  },
  {
   "cell_type": "code",
   "execution_count": null,
   "id": "e7402b80",
   "metadata": {
    "papermill": {
     "duration": 0.016204,
     "end_time": "2024-12-20T01:10:30.459608",
     "exception": false,
     "start_time": "2024-12-20T01:10:30.443404",
     "status": "completed"
    },
    "tags": []
   },
   "outputs": [],
   "source": []
  },
  {
   "cell_type": "code",
   "execution_count": null,
   "id": "3acc878a",
   "metadata": {
    "papermill": {
     "duration": 0.016115,
     "end_time": "2024-12-20T01:10:30.492219",
     "exception": false,
     "start_time": "2024-12-20T01:10:30.476104",
     "status": "completed"
    },
    "tags": []
   },
   "outputs": [],
   "source": []
  },
  {
   "cell_type": "code",
   "execution_count": null,
   "id": "945419ab",
   "metadata": {
    "papermill": {
     "duration": 0.016294,
     "end_time": "2024-12-20T01:10:30.525591",
     "exception": false,
     "start_time": "2024-12-20T01:10:30.509297",
     "status": "completed"
    },
    "tags": []
   },
   "outputs": [],
   "source": []
  },
  {
   "cell_type": "code",
   "execution_count": null,
   "id": "e9ca3d6b",
   "metadata": {
    "papermill": {
     "duration": 0.018919,
     "end_time": "2024-12-20T01:10:30.565942",
     "exception": false,
     "start_time": "2024-12-20T01:10:30.547023",
     "status": "completed"
    },
    "tags": []
   },
   "outputs": [],
   "source": []
  }
 ],
 "metadata": {
  "kaggle": {
   "accelerator": "none",
   "dataSources": [
    {
     "datasetId": 6047175,
     "sourceId": 10210479,
     "sourceType": "datasetVersion"
    },
    {
     "datasetId": 6094692,
     "sourceId": 10210609,
     "sourceType": "datasetVersion"
    }
   ],
   "dockerImageVersionId": 30804,
   "isGpuEnabled": false,
   "isInternetEnabled": true,
   "language": "python",
   "sourceType": "notebook"
  },
  "kernelspec": {
   "display_name": "Python 3",
   "language": "python",
   "name": "python3"
  },
  "language_info": {
   "codemirror_mode": {
    "name": "ipython",
    "version": 3
   },
   "file_extension": ".py",
   "mimetype": "text/x-python",
   "name": "python",
   "nbconvert_exporter": "python",
   "pygments_lexer": "ipython3",
   "version": "3.10.14"
  },
  "papermill": {
   "default_parameters": {},
   "duration": 36677.47891,
   "end_time": "2024-12-20T01:10:33.309380",
   "environment_variables": {},
   "exception": null,
   "input_path": "__notebook__.ipynb",
   "output_path": "__notebook__.ipynb",
   "parameters": {},
   "start_time": "2024-12-19T14:59:15.830470",
   "version": "2.6.0"
  }
 },
 "nbformat": 4,
 "nbformat_minor": 5
}
