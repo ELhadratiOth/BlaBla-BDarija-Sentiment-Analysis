{
 "cells": [
  {
   "cell_type": "markdown",
   "id": "0d728d5c",
   "metadata": {
    "papermill": {
     "duration": 0.011568,
     "end_time": "2024-12-19T15:01:12.656411",
     "exception": false,
     "start_time": "2024-12-19T15:01:12.644843",
     "status": "completed"
    },
    "tags": []
   },
   "source": [
    "# Darija Text Classification using ML Algorithms\n"
   ]
  },
  {
   "cell_type": "markdown",
   "id": "13a8fb02",
   "metadata": {
    "papermill": {
     "duration": 0.010194,
     "end_time": "2024-12-19T15:01:12.678398",
     "exception": false,
     "start_time": "2024-12-19T15:01:12.668204",
     "status": "completed"
    },
    "tags": []
   },
   "source": [
    "## Setup and Data Loading\n",
    "In this section, we:\n",
    "- Import required libraries\n",
    "- Load and prepare our Darija dataset\n",
    "- Set up configuration parameters"
   ]
  },
  {
   "cell_type": "code",
   "execution_count": 1,
   "id": "7f7e06b7",
   "metadata": {
    "execution": {
     "iopub.execute_input": "2024-12-19T15:01:12.700680Z",
     "iopub.status.busy": "2024-12-19T15:01:12.700252Z",
     "iopub.status.idle": "2024-12-19T15:01:12.719567Z",
     "shell.execute_reply": "2024-12-19T15:01:12.718520Z"
    },
    "papermill": {
     "duration": 0.032999,
     "end_time": "2024-12-19T15:01:12.721714",
     "exception": false,
     "start_time": "2024-12-19T15:01:12.688715",
     "status": "completed"
    },
    "tags": []
   },
   "outputs": [
    {
     "name": "stdout",
     "output_type": "stream",
     "text": [
      "Current working directory: /kaggle/input/ma-datasets\n",
      "Directory contents: ['suf_pref_darija.json', 'stop_words_accum.json', 'set2.csv', 'set7.csv', 'set5.csv', 'darija_latin_ref.json', 'set4.csv', 'scaped_comments.csv', 'set3.csv', 'cleaned_clustered_data.csv', 'set1.csv']\n"
     ]
    }
   ],
   "source": [
    "import os \n",
    "os.chdir('/kaggle/input/ma-datasets') \n",
    "current_directory = os.getcwd()\n",
    "print(\"Current working directory:\", current_directory)\n",
    "contents = os.listdir()\n",
    "print(\"Directory contents:\", contents)"
   ]
  },
  {
   "cell_type": "code",
   "execution_count": 2,
   "id": "72aa0411",
   "metadata": {
    "execution": {
     "iopub.execute_input": "2024-12-19T15:01:12.744752Z",
     "iopub.status.busy": "2024-12-19T15:01:12.743845Z",
     "iopub.status.idle": "2024-12-19T15:01:28.557680Z",
     "shell.execute_reply": "2024-12-19T15:01:28.556364Z"
    },
    "papermill": {
     "duration": 15.827764,
     "end_time": "2024-12-19T15:01:28.560113",
     "exception": false,
     "start_time": "2024-12-19T15:01:12.732349",
     "status": "completed"
    },
    "tags": []
   },
   "outputs": [
    {
     "name": "stdout",
     "output_type": "stream",
     "text": [
      "Requirement already satisfied: pandas in /opt/conda/lib/python3.10/site-packages (2.2.3)\r\n",
      "Requirement already satisfied: PyArabic in /opt/conda/lib/python3.10/site-packages (0.6.15)\r\n",
      "Collecting Tashaphyne\r\n",
      "  Downloading Tashaphyne-0.3.6-py3-none-any.whl.metadata (18 kB)\r\n",
      "Collecting pydoda\r\n",
      "  Downloading pydoda-1.2.1-py3-none-any.whl.metadata (5.8 kB)\r\n",
      "Collecting Arabic-Stopwords\r\n",
      "  Downloading Arabic_Stopwords-0.4.3-py3-none-any.whl.metadata (8.9 kB)\r\n",
      "Requirement already satisfied: seaborn in /opt/conda/lib/python3.10/site-packages (0.12.2)\r\n",
      "Requirement already satisfied: scikit-learn in /opt/conda/lib/python3.10/site-packages (1.2.2)\r\n",
      "Requirement already satisfied: emoji in /opt/conda/lib/python3.10/site-packages (2.14.0)\r\n",
      "Requirement already satisfied: xgboost in /opt/conda/lib/python3.10/site-packages (2.0.3)\r\n",
      "Requirement already satisfied: lightgbm in /opt/conda/lib/python3.10/site-packages (4.2.0)\r\n",
      "Requirement already satisfied: numpy>=1.22.4 in /opt/conda/lib/python3.10/site-packages (from pandas) (1.26.4)\r\n",
      "Requirement already satisfied: python-dateutil>=2.8.2 in /opt/conda/lib/python3.10/site-packages (from pandas) (2.9.0.post0)\r\n",
      "Requirement already satisfied: pytz>=2020.1 in /opt/conda/lib/python3.10/site-packages (from pandas) (2024.1)\r\n",
      "Requirement already satisfied: tzdata>=2022.7 in /opt/conda/lib/python3.10/site-packages (from pandas) (2024.1)\r\n",
      "Requirement already satisfied: six>=1.14.0 in /opt/conda/lib/python3.10/site-packages (from PyArabic) (1.16.0)\r\n",
      "Requirement already satisfied: matplotlib!=3.6.1,>=3.1 in /opt/conda/lib/python3.10/site-packages (from seaborn) (3.7.5)\r\n",
      "Requirement already satisfied: scipy>=1.3.2 in /opt/conda/lib/python3.10/site-packages (from scikit-learn) (1.14.1)\r\n",
      "Requirement already satisfied: joblib>=1.1.1 in /opt/conda/lib/python3.10/site-packages (from scikit-learn) (1.4.2)\r\n",
      "Requirement already satisfied: threadpoolctl>=2.0.0 in /opt/conda/lib/python3.10/site-packages (from scikit-learn) (3.5.0)\r\n",
      "Requirement already satisfied: contourpy>=1.0.1 in /opt/conda/lib/python3.10/site-packages (from matplotlib!=3.6.1,>=3.1->seaborn) (1.2.1)\r\n",
      "Requirement already satisfied: cycler>=0.10 in /opt/conda/lib/python3.10/site-packages (from matplotlib!=3.6.1,>=3.1->seaborn) (0.12.1)\r\n",
      "Requirement already satisfied: fonttools>=4.22.0 in /opt/conda/lib/python3.10/site-packages (from matplotlib!=3.6.1,>=3.1->seaborn) (4.53.0)\r\n",
      "Requirement already satisfied: kiwisolver>=1.0.1 in /opt/conda/lib/python3.10/site-packages (from matplotlib!=3.6.1,>=3.1->seaborn) (1.4.5)\r\n",
      "Requirement already satisfied: packaging>=20.0 in /opt/conda/lib/python3.10/site-packages (from matplotlib!=3.6.1,>=3.1->seaborn) (21.3)\r\n",
      "Requirement already satisfied: pillow>=6.2.0 in /opt/conda/lib/python3.10/site-packages (from matplotlib!=3.6.1,>=3.1->seaborn) (10.3.0)\r\n",
      "Requirement already satisfied: pyparsing>=2.3.1 in /opt/conda/lib/python3.10/site-packages (from matplotlib!=3.6.1,>=3.1->seaborn) (3.1.2)\r\n",
      "Downloading Tashaphyne-0.3.6-py3-none-any.whl (251 kB)\r\n",
      "\u001b[2K   \u001b[90m━━━━━━━━━━━━━━━━━━━━━━━━━━━━━━━━━━━━━━━━\u001b[0m \u001b[32m251.5/251.5 kB\u001b[0m \u001b[31m4.8 MB/s\u001b[0m eta \u001b[36m0:00:00\u001b[0m\r\n",
      "\u001b[?25hDownloading pydoda-1.2.1-py3-none-any.whl (4.1 MB)\r\n",
      "\u001b[2K   \u001b[90m━━━━━━━━━━━━━━━━━━━━━━━━━━━━━━━━━━━━━━━━\u001b[0m \u001b[32m4.1/4.1 MB\u001b[0m \u001b[31m14.1 MB/s\u001b[0m eta \u001b[36m0:00:00\u001b[0m\r\n",
      "\u001b[?25hDownloading Arabic_Stopwords-0.4.3-py3-none-any.whl (360 kB)\r\n",
      "\u001b[2K   \u001b[90m━━━━━━━━━━━━━━━━━━━━━━━━━━━━━━━━━━━━━━━━\u001b[0m \u001b[32m360.5/360.5 kB\u001b[0m \u001b[31m18.1 MB/s\u001b[0m eta \u001b[36m0:00:00\u001b[0m\r\n",
      "\u001b[?25hInstalling collected packages: Tashaphyne, Arabic-Stopwords, pydoda\r\n",
      "Successfully installed Arabic-Stopwords-0.4.3 Tashaphyne-0.3.6 pydoda-1.2.1\r\n"
     ]
    }
   ],
   "source": [
    "!pip install pandas PyArabic Tashaphyne pydoda Arabic-Stopwords seaborn scikit-learn emoji xgboost lightgbm "
   ]
  },
  {
   "cell_type": "code",
   "execution_count": 3,
   "id": "19037c50",
   "metadata": {
    "execution": {
     "iopub.execute_input": "2024-12-19T15:01:28.587426Z",
     "iopub.status.busy": "2024-12-19T15:01:28.587015Z",
     "iopub.status.idle": "2024-12-19T15:01:31.302211Z",
     "shell.execute_reply": "2024-12-19T15:01:31.301064Z"
    },
    "papermill": {
     "duration": 2.730908,
     "end_time": "2024-12-19T15:01:31.304629",
     "exception": false,
     "start_time": "2024-12-19T15:01:28.573721",
     "status": "completed"
    },
    "tags": []
   },
   "outputs": [],
   "source": [
    "import pandas as pd\n",
    "from sklearn.model_selection import GridSearchCV\n",
    "import re\n",
    "from tashaphyne.stemming import ArabicLightStemmer\n",
    "import json\n",
    "import emoji \n"
   ]
  },
  {
   "cell_type": "code",
   "execution_count": 4,
   "id": "eb919fee",
   "metadata": {
    "execution": {
     "iopub.execute_input": "2024-12-19T15:01:31.330443Z",
     "iopub.status.busy": "2024-12-19T15:01:31.329915Z",
     "iopub.status.idle": "2024-12-19T15:01:31.656631Z",
     "shell.execute_reply": "2024-12-19T15:01:31.655698Z"
    },
    "papermill": {
     "duration": 0.342285,
     "end_time": "2024-12-19T15:01:31.658974",
     "exception": false,
     "start_time": "2024-12-19T15:01:31.316689",
     "status": "completed"
    },
    "tags": []
   },
   "outputs": [],
   "source": [
    "df = pd.read_csv(\"/kaggle/input/dataset/dataset (18).csv\")"
   ]
  },
  {
   "cell_type": "code",
   "execution_count": 5,
   "id": "a3181bd4",
   "metadata": {
    "execution": {
     "iopub.execute_input": "2024-12-19T15:01:31.684425Z",
     "iopub.status.busy": "2024-12-19T15:01:31.683620Z",
     "iopub.status.idle": "2024-12-19T15:01:31.716064Z",
     "shell.execute_reply": "2024-12-19T15:01:31.715069Z"
    },
    "papermill": {
     "duration": 0.047917,
     "end_time": "2024-12-19T15:01:31.718649",
     "exception": false,
     "start_time": "2024-12-19T15:01:31.670732",
     "status": "completed"
    },
    "tags": []
   },
   "outputs": [
    {
     "name": "stderr",
     "output_type": "stream",
     "text": [
      "/tmp/ipykernel_17/177686370.py:1: DeprecationWarning: DataFrameGroupBy.apply operated on the grouping columns. This behavior is deprecated, and in a future version of pandas the grouping columns will be excluded from the operation. Either pass `include_groups=False` to exclude the groupings or explicitly select the grouping columns after groupby to silence this warning.\n",
      "  df = df.groupby('target', group_keys=False).apply(\n"
     ]
    }
   ],
   "source": [
    "df = df.groupby('target', group_keys=False).apply(\n",
    "    lambda x: x.sample(frac=0.5)\n",
    ")"
   ]
  },
  {
   "cell_type": "code",
   "execution_count": 6,
   "id": "ec503c1a",
   "metadata": {
    "execution": {
     "iopub.execute_input": "2024-12-19T15:01:31.744146Z",
     "iopub.status.busy": "2024-12-19T15:01:31.743524Z",
     "iopub.status.idle": "2024-12-19T15:01:31.769267Z",
     "shell.execute_reply": "2024-12-19T15:01:31.768137Z"
    },
    "papermill": {
     "duration": 0.0409,
     "end_time": "2024-12-19T15:01:31.771429",
     "exception": false,
     "start_time": "2024-12-19T15:01:31.730529",
     "status": "completed"
    },
    "tags": []
   },
   "outputs": [
    {
     "name": "stdout",
     "output_type": "stream",
     "text": [
      "<class 'pandas.core.frame.DataFrame'>\n",
      "Index: 17500 entries, 8528 to 2608\n",
      "Data columns (total 3 columns):\n",
      " #   Column        Non-Null Count  Dtype \n",
      "---  ------        --------------  ----- \n",
      " 0   text          17500 non-null  object\n",
      " 1   target        17500 non-null  int64 \n",
      " 2   text_cleaned  16905 non-null  object\n",
      "dtypes: int64(1), object(2)\n",
      "memory usage: 546.9+ KB\n"
     ]
    }
   ],
   "source": [
    "df.info()"
   ]
  },
  {
   "cell_type": "markdown",
   "id": "ec31e1fa",
   "metadata": {
    "papermill": {
     "duration": 0.011444,
     "end_time": "2024-12-19T15:01:31.794995",
     "exception": false,
     "start_time": "2024-12-19T15:01:31.783551",
     "status": "completed"
    },
    "tags": []
   },
   "source": [
    "## Data Preprocessing\n",
    "Key preprocessing steps for Darija text:\n",
    "- Text cleaning and normalization\n",
    "- Feature extraction\n",
    "- Train-test split\n"
   ]
  },
  {
   "cell_type": "code",
   "execution_count": 7,
   "id": "57ec83b6",
   "metadata": {
    "execution": {
     "iopub.execute_input": "2024-12-19T15:01:31.821440Z",
     "iopub.status.busy": "2024-12-19T15:01:31.820337Z",
     "iopub.status.idle": "2024-12-19T15:01:31.831249Z",
     "shell.execute_reply": "2024-12-19T15:01:31.830191Z"
    },
    "papermill": {
     "duration": 0.026305,
     "end_time": "2024-12-19T15:01:31.833466",
     "exception": false,
     "start_time": "2024-12-19T15:01:31.807161",
     "status": "completed"
    },
    "tags": []
   },
   "outputs": [],
   "source": [
    "darija_alphabet = {\n",
    "    \"gh\": \"غ\",\n",
    "    \"sh\": \"ش\",\n",
    "    \"ch\": \"ش\",\n",
    "    \"ss\": \"س\",\n",
    "    \"kh\": \"خ\",\n",
    "    \"ç\": \"س\",\n",
    "    \"ou\": \"و\",    \n",
    "    \"ei\": \"ي\",    \n",
    "    \"ay\": \"ي\",    \n",
    "    \"ae\": \"ي\",   \n",
    "    \"5\": \"خ\",     \n",
    "    \"2\": \"ا\",    \n",
    "    \"b\": \"ب\",\n",
    "    \"t\": \"ت\",\n",
    "    \"j\": \"ج\",\n",
    "    \"7\": \"ح\",\n",
    "    \"d\": \"د\",\n",
    "    \"r\": \"ر\",\n",
    "    \"z\": \"ز\",\n",
    "    \"s\": \"س\",\n",
    "    \"9\": \"ق\",\n",
    "    \"3\": \"ع\",\n",
    "    \"4\": \"غ\",\n",
    "    \"f\": \"ف\",\n",
    "    \"q\": \"ك\",\n",
    "    \"k\": \"ك\",\n",
    "    \"l\": \"ل\",\n",
    "    \"m\": \"م\",\n",
    "    \"n\": \"ن\",\n",
    "    \"h\": \"ه\",\n",
    "    \"w\": \"و\",\n",
    "    \"y\": \"ي\",\n",
    "    \"g\": \"ڭ\",\n",
    "    'i': 'ي',\n",
    "    'ee': 'ي',\n",
    "    'aa': 'ا',\n",
    "    'oo': 'و',\n",
    "    'o': 'و',\n",
    "    \"x\": \"ش\",\n",
    "}\n",
    "word_in = [\n",
    "    \"ء\", \"أ\", \"إ\", \"آ\", \"ؤ\", \"ئ\", \"ة\", \"ى\",\"-\", \"/\", \".\", \"،\", '\"', \"'\", \"\\\\\", \"?\", \"؟\", \"!\", \"،\", \"؛\",\":\",\"#\", \"@\", \"&\", \"=\", \"¥\", \"$\", \"%\", \"*\", \"+\", \"<\", \">\", \"|\", \"~\", \"^\", \n",
    "    \"\\n\", \"\\t\", \"\\r\", \" و\",\"ذ\", \"ظ\", \"ض\", \"ص\",\"(\", \")\", \"[\", \"]\", \"{\", \"}\", \"《\", \"》\", \"«\", \"»\"\n",
    "]\n",
    "\n",
    "replaced_by = [\n",
    "    \"ا\", \"ا\", \"ا\", \"ا\", \"ا\", \"ا\", \"ه\", \"ي\",\" \", \"\", \"\", \"\", \"\", \"\", \"\", \" ? \", \" ؟ \", \" ! \", \"\", \"\", \"\",\n",
    "    \"\", \"\", \"\", \"\", \"\", \"\", \"\", \"\", \"\", \"\", \"\", \"\", \"\", \"\",\" \", \" \", \" \", \"\",\n",
    "    \"د\", \"د\", \"د\", \"س\",\"\", \"\", \"\", \"\", \"\", \"\", \"\", \"\", \"\", \"\"\n",
    "]\n",
    "\n",
    "arabic_alphabet = \"ابتثجحخدذرزسشصضطظعغفقكلمنهوي\""
   ]
  },
  {
   "cell_type": "code",
   "execution_count": 8,
   "id": "b1227f07",
   "metadata": {
    "execution": {
     "iopub.execute_input": "2024-12-19T15:01:31.859096Z",
     "iopub.status.busy": "2024-12-19T15:01:31.858696Z",
     "iopub.status.idle": "2024-12-19T15:01:31.863720Z",
     "shell.execute_reply": "2024-12-19T15:01:31.862671Z"
    },
    "papermill": {
     "duration": 0.02022,
     "end_time": "2024-12-19T15:01:31.865689",
     "exception": false,
     "start_time": "2024-12-19T15:01:31.845469",
     "status": "completed"
    },
    "tags": []
   },
   "outputs": [],
   "source": [
    "from pyarabic.araby import strip_diacritics\n",
    "#remove tashkeel\n",
    "def removing_tashkeel(word): # useed\n",
    "          return strip_diacritics(word)"
   ]
  },
  {
   "cell_type": "code",
   "execution_count": 9,
   "id": "84fbe3d9",
   "metadata": {
    "execution": {
     "iopub.execute_input": "2024-12-19T15:01:31.891722Z",
     "iopub.status.busy": "2024-12-19T15:01:31.891059Z",
     "iopub.status.idle": "2024-12-19T15:01:31.896583Z",
     "shell.execute_reply": "2024-12-19T15:01:31.895250Z"
    },
    "papermill": {
     "duration": 0.020759,
     "end_time": "2024-12-19T15:01:31.898717",
     "exception": false,
     "start_time": "2024-12-19T15:01:31.877958",
     "status": "completed"
    },
    "tags": []
   },
   "outputs": [],
   "source": [
    "from pyarabic.araby import strip_tatweel\n",
    "\n",
    "#remove tatweel l2imdad\n",
    "def removing_tatweel(word): # useed\n",
    "          return strip_tatweel(word)"
   ]
  },
  {
   "cell_type": "code",
   "execution_count": 10,
   "id": "7d30104d",
   "metadata": {
    "execution": {
     "iopub.execute_input": "2024-12-19T15:01:31.924072Z",
     "iopub.status.busy": "2024-12-19T15:01:31.923663Z",
     "iopub.status.idle": "2024-12-19T15:01:31.928775Z",
     "shell.execute_reply": "2024-12-19T15:01:31.927644Z"
    },
    "papermill": {
     "duration": 0.020237,
     "end_time": "2024-12-19T15:01:31.930911",
     "exception": false,
     "start_time": "2024-12-19T15:01:31.910674",
     "status": "completed"
    },
    "tags": []
   },
   "outputs": [],
   "source": [
    "from pyarabic.araby import normalize_ligature\n",
    "\n",
    "#remove ligature hamza , alef \n",
    "def removing_ligature(word): # not used \n",
    "          return normalize_ligature(word)"
   ]
  },
  {
   "cell_type": "code",
   "execution_count": 11,
   "id": "171f3179",
   "metadata": {
    "execution": {
     "iopub.execute_input": "2024-12-19T15:01:31.957158Z",
     "iopub.status.busy": "2024-12-19T15:01:31.955798Z",
     "iopub.status.idle": "2024-12-19T15:01:31.961285Z",
     "shell.execute_reply": "2024-12-19T15:01:31.960214Z"
    },
    "papermill": {
     "duration": 0.02059,
     "end_time": "2024-12-19T15:01:31.963367",
     "exception": false,
     "start_time": "2024-12-19T15:01:31.942777",
     "status": "completed"
    },
    "tags": []
   },
   "outputs": [],
   "source": [
    "# remove underscore\n",
    "def replace_underscore(word): # useed\n",
    "          return word.replace(\"_\", \" \")"
   ]
  },
  {
   "cell_type": "code",
   "execution_count": 12,
   "id": "c99ae8ca",
   "metadata": {
    "execution": {
     "iopub.execute_input": "2024-12-19T15:01:31.989147Z",
     "iopub.status.busy": "2024-12-19T15:01:31.988214Z",
     "iopub.status.idle": "2024-12-19T15:01:31.993253Z",
     "shell.execute_reply": "2024-12-19T15:01:31.992204Z"
    },
    "papermill": {
     "duration": 0.020025,
     "end_time": "2024-12-19T15:01:31.995277",
     "exception": false,
     "start_time": "2024-12-19T15:01:31.975252",
     "status": "completed"
    },
    "tags": []
   },
   "outputs": [],
   "source": [
    "import pyarabic.araby as araby\n",
    "\n",
    "# remove hamza ambiguity\n",
    "def remove_ambiguity_hamza(word): # useed\n",
    "          return araby.normalize_hamza(word)"
   ]
  },
  {
   "cell_type": "code",
   "execution_count": 13,
   "id": "6f2eb56d",
   "metadata": {
    "execution": {
     "iopub.execute_input": "2024-12-19T15:01:32.020967Z",
     "iopub.status.busy": "2024-12-19T15:01:32.020258Z",
     "iopub.status.idle": "2024-12-19T15:01:32.025175Z",
     "shell.execute_reply": "2024-12-19T15:01:32.024053Z"
    },
    "papermill": {
     "duration": 0.020075,
     "end_time": "2024-12-19T15:01:32.027223",
     "exception": false,
     "start_time": "2024-12-19T15:01:32.007148",
     "status": "completed"
    },
    "tags": []
   },
   "outputs": [],
   "source": [
    "# romove \"AL\"\n",
    "def remove_AL(word): # useed\n",
    "          return re.sub(r'^ال', '', word)"
   ]
  },
  {
   "cell_type": "code",
   "execution_count": 14,
   "id": "95de4fab",
   "metadata": {
    "execution": {
     "iopub.execute_input": "2024-12-19T15:01:32.052841Z",
     "iopub.status.busy": "2024-12-19T15:01:32.052102Z",
     "iopub.status.idle": "2024-12-19T15:01:32.059271Z",
     "shell.execute_reply": "2024-12-19T15:01:32.058134Z"
    },
    "papermill": {
     "duration": 0.022474,
     "end_time": "2024-12-19T15:01:32.061589",
     "exception": false,
     "start_time": "2024-12-19T15:01:32.039115",
     "status": "completed"
    },
    "tags": []
   },
   "outputs": [],
   "source": [
    "# remove repeated characters      \n",
    "def word_remover(word): # useed\n",
    "            if len(word) == 1 or len(word) == 0 or len(word) >= 13:\n",
    "                return \"\"                \n",
    "            else :\n",
    "                # print(word)\n",
    "                for a7rf in arabic_alphabet:\n",
    "                    if a7rf == 'د' or a7rf == 'ه':\n",
    "                        word = re.sub(fr'{a7rf}{{3,}}', a7rf * 2, word).strip()\n",
    "                    else:\n",
    "                        word = re.sub(fr'{a7rf}+', a7rf, word).strip()\n",
    "                # print(word) \n",
    "                for i in range(len(word)):\n",
    "                    if word[i] in word_in:\n",
    "                        index = word_in.index(word[i])\n",
    "                        word = word[:i] + replaced_by[index] + word[i + 1:]\n",
    "\n",
    "                return word\n"
   ]
  },
  {
   "cell_type": "code",
   "execution_count": 15,
   "id": "1f3a3006",
   "metadata": {
    "execution": {
     "iopub.execute_input": "2024-12-19T15:01:32.087262Z",
     "iopub.status.busy": "2024-12-19T15:01:32.086883Z",
     "iopub.status.idle": "2024-12-19T15:01:32.092222Z",
     "shell.execute_reply": "2024-12-19T15:01:32.091340Z"
    },
    "papermill": {
     "duration": 0.020428,
     "end_time": "2024-12-19T15:01:32.094197",
     "exception": false,
     "start_time": "2024-12-19T15:01:32.073769",
     "status": "completed"
    },
    "tags": []
   },
   "outputs": [],
   "source": [
    "# remove emails  \n",
    "def remove_url(text): # useed\n",
    "    text = re.sub(r'(https|http)?:\\/\\/(\\w|\\.|\\/|\\?|\\=|\\&|\\%)*\\b',\n",
    "                  '', text, flags=re.MULTILINE)\n",
    "    return text      \n",
    " "
   ]
  },
  {
   "cell_type": "code",
   "execution_count": 16,
   "id": "ed5037bc",
   "metadata": {
    "execution": {
     "iopub.execute_input": "2024-12-19T15:01:32.120488Z",
     "iopub.status.busy": "2024-12-19T15:01:32.120087Z",
     "iopub.status.idle": "2024-12-19T15:01:32.125016Z",
     "shell.execute_reply": "2024-12-19T15:01:32.124044Z"
    },
    "papermill": {
     "duration": 0.020364,
     "end_time": "2024-12-19T15:01:32.127058",
     "exception": false,
     "start_time": "2024-12-19T15:01:32.106694",
     "status": "completed"
    },
    "tags": []
   },
   "outputs": [],
   "source": [
    " # remove emails     \n",
    "def remove_emails(text): # useed\n",
    "    text = re.sub(r'[a-zA-Z0-9._%+-]+@[a-zA-Z0-9.-]+\\.[a-zA-Z]{2,}', '', text, flags=re.MULTILINE)\n",
    "    return text  "
   ]
  },
  {
   "cell_type": "code",
   "execution_count": 17,
   "id": "d2fa1a73",
   "metadata": {
    "execution": {
     "iopub.execute_input": "2024-12-19T15:01:32.152425Z",
     "iopub.status.busy": "2024-12-19T15:01:32.152004Z",
     "iopub.status.idle": "2024-12-19T15:01:32.157442Z",
     "shell.execute_reply": "2024-12-19T15:01:32.156405Z"
    },
    "papermill": {
     "duration": 0.020513,
     "end_time": "2024-12-19T15:01:32.159521",
     "exception": false,
     "start_time": "2024-12-19T15:01:32.139008",
     "status": "completed"
    },
    "tags": []
   },
   "outputs": [],
   "source": [
    "def special_tags_and_ponctuations(text):  # Function to clean special tags\n",
    "    text = re.sub(r'&amp;', '', text) \n",
    "    text = re.sub(r'&quot;', '', text)  \n",
    "    text = re.sub(r'!+', '!', text)\n",
    "    text = re.sub(r'\\?+', '?', text)\n",
    "    text = re.sub(r'\\.+', '.', text)\n",
    "\n",
    "    return text"
   ]
  },
  {
   "cell_type": "code",
   "execution_count": 18,
   "id": "153cd5fb",
   "metadata": {
    "execution": {
     "iopub.execute_input": "2024-12-19T15:01:32.184873Z",
     "iopub.status.busy": "2024-12-19T15:01:32.184497Z",
     "iopub.status.idle": "2024-12-19T15:01:32.189408Z",
     "shell.execute_reply": "2024-12-19T15:01:32.188367Z"
    },
    "papermill": {
     "duration": 0.020008,
     "end_time": "2024-12-19T15:01:32.191541",
     "exception": false,
     "start_time": "2024-12-19T15:01:32.171533",
     "status": "completed"
    },
    "tags": []
   },
   "outputs": [],
   "source": [
    "def remove_html_tags(text):\n",
    "    text = re.sub(r'<[^>]+>', '', text)\n",
    "    return text"
   ]
  },
  {
   "cell_type": "code",
   "execution_count": 19,
   "id": "a50fb73a",
   "metadata": {
    "execution": {
     "iopub.execute_input": "2024-12-19T15:01:32.217228Z",
     "iopub.status.busy": "2024-12-19T15:01:32.216463Z",
     "iopub.status.idle": "2024-12-19T15:01:32.221517Z",
     "shell.execute_reply": "2024-12-19T15:01:32.220476Z"
    },
    "papermill": {
     "duration": 0.020205,
     "end_time": "2024-12-19T15:01:32.223485",
     "exception": false,
     "start_time": "2024-12-19T15:01:32.203280",
     "status": "completed"
    },
    "tags": []
   },
   "outputs": [],
   "source": [
    "# hundle emojis\n",
    "def extend_spletting(items):  # helper function to split items\n",
    "    spletting = []\n",
    "    for item in items:\n",
    "        spletting.extend(item.split())\n",
    "    return spletting"
   ]
  },
  {
   "cell_type": "code",
   "execution_count": 20,
   "id": "3ad87b8a",
   "metadata": {
    "execution": {
     "iopub.execute_input": "2024-12-19T15:01:32.248864Z",
     "iopub.status.busy": "2024-12-19T15:01:32.248466Z",
     "iopub.status.idle": "2024-12-19T15:01:32.253355Z",
     "shell.execute_reply": "2024-12-19T15:01:32.252397Z"
    },
    "papermill": {
     "duration": 0.019715,
     "end_time": "2024-12-19T15:01:32.255181",
     "exception": false,
     "start_time": "2024-12-19T15:01:32.235466",
     "status": "completed"
    },
    "tags": []
   },
   "outputs": [],
   "source": [
    "def emoji_hundler(word):  # helper function to handle emojis\n",
    "    word = emoji.demojize(word, language='ar')\n",
    "    word = replace_underscore(word)[1:-1]\n",
    "    return word"
   ]
  },
  {
   "cell_type": "code",
   "execution_count": 21,
   "id": "26089039",
   "metadata": {
    "execution": {
     "iopub.execute_input": "2024-12-19T15:01:32.280790Z",
     "iopub.status.busy": "2024-12-19T15:01:32.280403Z",
     "iopub.status.idle": "2024-12-19T15:01:32.287582Z",
     "shell.execute_reply": "2024-12-19T15:01:32.286644Z"
    },
    "papermill": {
     "duration": 0.022565,
     "end_time": "2024-12-19T15:01:32.289590",
     "exception": false,
     "start_time": "2024-12-19T15:01:32.267025",
     "status": "completed"
    },
    "tags": []
   },
   "outputs": [],
   "source": [
    "def is_an_emoji(word):\n",
    "    emoji_pattern = re.compile(\"[\"  \n",
    "                               u\"\\U0001F680-\\U0001F6FF\"  # transport and map unicods\n",
    "                               u\"\\U0001F1E0-\\U0001F1FF\"  # flags unicods\n",
    "                               \"]+\", flags=re.UNICODE)\n",
    "\n",
    "    if emoji.is_emoji(word):\n",
    "        word = emoji_pattern.sub(r'', word)\n",
    "        return extend_spletting([emoji_hundler(word)])\n",
    "\n",
    "    elif emoji.purely_emoji(word):\n",
    "        data_of_emojis = emoji.distinct_emoji_list(word)\n",
    "        data = [emoji_hundler(emoji_pattern.sub(r'', item)) for item in data_of_emojis]\n",
    "        return extend_spletting(data)\n",
    "\n",
    "    else:\n",
    "        text_only = re.sub(r'[^\\w\\s?!]', '', word)\n",
    "        data_of_emojis = emoji.distinct_emoji_list(word)\n",
    "        emojis = [emoji_hundler(emoji_pattern.sub(r'', item)) for item in data_of_emojis]\n",
    "        \n",
    "        return [text_only] + extend_spletting(emojis)\n"
   ]
  },
  {
   "cell_type": "code",
   "execution_count": 22,
   "id": "7f80bdec",
   "metadata": {
    "execution": {
     "iopub.execute_input": "2024-12-19T15:01:32.314941Z",
     "iopub.status.busy": "2024-12-19T15:01:32.314554Z",
     "iopub.status.idle": "2024-12-19T15:01:32.321323Z",
     "shell.execute_reply": "2024-12-19T15:01:32.320264Z"
    },
    "papermill": {
     "duration": 0.021629,
     "end_time": "2024-12-19T15:01:32.323280",
     "exception": false,
     "start_time": "2024-12-19T15:01:32.301651",
     "status": "completed"
    },
    "tags": []
   },
   "outputs": [],
   "source": [
    "# tramslating darija(latin) to daruja(arabic)\n",
    "def translate_darija_to_arabic(word): # useed\n",
    "    # print(\"test\")\n",
    "    word = word.lower()\n",
    "    if  bool(re.compile(r\"[a-z0-9']+\").search(word)):\n",
    "        arabic_word = \"\"\n",
    "        i = 0\n",
    "        while i < len(word):\n",
    "            # print('sadd')\n",
    "            if i + 1 < len(word) and word[i:i+2] in darija_alphabet: # Check for 2 lettrs\n",
    "                arabic_word += darija_alphabet[word[i:i+2]]\n",
    "                i += 2\n",
    "            elif word[i] in darija_alphabet:\n",
    "                arabic_word += darija_alphabet[word[i]]\n",
    "                i += 1\n",
    "            else:\n",
    "                i += 1\n",
    "        return arabic_word\n",
    "    return word\n",
    "      "
   ]
  },
  {
   "cell_type": "code",
   "execution_count": 23,
   "id": "af30cbb4",
   "metadata": {
    "execution": {
     "iopub.execute_input": "2024-12-19T15:01:32.348958Z",
     "iopub.status.busy": "2024-12-19T15:01:32.348546Z",
     "iopub.status.idle": "2024-12-19T15:01:32.353681Z",
     "shell.execute_reply": "2024-12-19T15:01:32.352676Z"
    },
    "papermill": {
     "duration": 0.020517,
     "end_time": "2024-12-19T15:01:32.355630",
     "exception": false,
     "start_time": "2024-12-19T15:01:32.335113",
     "status": "completed"
    },
    "tags": []
   },
   "outputs": [],
   "source": [
    "# remove  number arabic and latin\n",
    "def number_remov(listy): # useed\n",
    "    number_pattern = re.compile(r'^[0-9\\u0660-\\u0669]+$')\n",
    "    cleaned_list = [item for item in listy if not number_pattern.fullmatch(item)] \n",
    "    return cleaned_list   "
   ]
  },
  {
   "cell_type": "code",
   "execution_count": 24,
   "id": "fde862a0",
   "metadata": {
    "execution": {
     "iopub.execute_input": "2024-12-19T15:01:32.380836Z",
     "iopub.status.busy": "2024-12-19T15:01:32.380436Z",
     "iopub.status.idle": "2024-12-19T15:01:32.386132Z",
     "shell.execute_reply": "2024-12-19T15:01:32.385193Z"
    },
    "papermill": {
     "duration": 0.020502,
     "end_time": "2024-12-19T15:01:32.388055",
     "exception": false,
     "start_time": "2024-12-19T15:01:32.367553",
     "status": "completed"
    },
    "tags": []
   },
   "outputs": [],
   "source": [
    "#stemming arabic words     \n",
    "def stemming_darija(word):\n",
    "    # file = \"./Data_prep/suf_pref_darija.json\" # local run\n",
    "    file = \"suf_pref_darija.json\" \n",
    "\n",
    "    with open(file, 'r', encoding='utf-8') as json_file:\n",
    "        suf_pref = json.load(json_file)\n",
    "\n",
    "    ArListem = ArabicLightStemmer()\n",
    "    ArListem.set_prefix_list(suf_pref['darija_prefixes'])\n",
    "    ArListem.set_suffix_list(suf_pref['darija_suffixes'])\n",
    "    ArListem.light_stem(word)  \n",
    "    return ArListem.get_stem() "
   ]
  },
  {
   "cell_type": "code",
   "execution_count": 25,
   "id": "4b59c0ab",
   "metadata": {
    "execution": {
     "iopub.execute_input": "2024-12-19T15:01:32.413104Z",
     "iopub.status.busy": "2024-12-19T15:01:32.412711Z",
     "iopub.status.idle": "2024-12-19T15:01:32.417256Z",
     "shell.execute_reply": "2024-12-19T15:01:32.416398Z"
    },
    "papermill": {
     "duration": 0.019565,
     "end_time": "2024-12-19T15:01:32.419371",
     "exception": false,
     "start_time": "2024-12-19T15:01:32.399806",
     "status": "completed"
    },
    "tags": []
   },
   "outputs": [],
   "source": [
    "# \"03:44\"\n",
    "def remove_yt_timers(text):\n",
    "    pattern = r'\\b\\d{1,2}:\\d{2,3}(:\\d{2,3})?\\b'\n",
    "    text = re.sub(pattern, '', text)\n",
    "    return text.strip()"
   ]
  },
  {
   "cell_type": "code",
   "execution_count": 26,
   "id": "b978f74f",
   "metadata": {
    "execution": {
     "iopub.execute_input": "2024-12-19T15:01:32.444503Z",
     "iopub.status.busy": "2024-12-19T15:01:32.444114Z",
     "iopub.status.idle": "2024-12-19T15:01:32.449183Z",
     "shell.execute_reply": "2024-12-19T15:01:32.448200Z"
    },
    "papermill": {
     "duration": 0.019772,
     "end_time": "2024-12-19T15:01:32.451018",
     "exception": false,
     "start_time": "2024-12-19T15:01:32.431246",
     "status": "completed"
    },
    "tags": []
   },
   "outputs": [],
   "source": [
    "\n",
    "def preproc_arab_sentence(word): # main function for  arab processing tokens\n",
    "    word = removing_tashkeel(word)\n",
    "    word = removing_tatweel(word)\n",
    "    word = remove_AL(word)\n",
    "    # word = remove_ambiguity_hamza(word)\n",
    "    word = word_remover(word)\n",
    "    return word\n"
   ]
  },
  {
   "cell_type": "code",
   "execution_count": 27,
   "id": "fabd90c5",
   "metadata": {
    "execution": {
     "iopub.execute_input": "2024-12-19T15:01:32.476278Z",
     "iopub.status.busy": "2024-12-19T15:01:32.475893Z",
     "iopub.status.idle": "2024-12-19T15:01:32.485222Z",
     "shell.execute_reply": "2024-12-19T15:01:32.484350Z"
    },
    "papermill": {
     "duration": 0.024315,
     "end_time": "2024-12-19T15:01:32.487222",
     "exception": false,
     "start_time": "2024-12-19T15:01:32.462907",
     "status": "completed"
    },
    "tags": []
   },
   "outputs": [],
   "source": [
    "from pyarabic.araby import tokenize\n",
    "def tokenize_arab_text(text):\n",
    "            # with open('./Data_prep/stop_words_accum.json', 'r', encoding='utf-8') as file: #  local run \n",
    "            with open('./stop_words_accum.json', 'r', encoding='utf-8') as file:\n",
    "\n",
    "                stop_words = json.load(file)\n",
    "\n",
    "            # with open('./Data_prep/darija_latin_ref.json', 'r', encoding='utf-8') as file: #  local run \n",
    "            with open('./darija_latin_ref.json', 'r', encoding='utf-8') as file:\n",
    "                \n",
    "                darija_latin_ref = json.load(file)\n",
    "          \n",
    "            #print(text)\n",
    "            text = remove_url(text)\n",
    "            text = remove_emails(text)\n",
    "            text = replace_underscore(text)\n",
    "            text = remove_html_tags(text)\n",
    "            text = remove_yt_timers(text)\n",
    "            text = special_tags_and_ponctuations(text)\n",
    "            #tokenization\n",
    "            print(text)\n",
    "            words = tokenize(text)\n",
    "            print(words)\n",
    "            words = [ translate_darija_to_arabic(word) for word in words if word not in darija_latin_ref]\n",
    "            print(words)\n",
    "            words = [is_an_emoji(word) for word in words] \n",
    "            words = [item for sublist in words for item in sublist if item]\n",
    "            words = list(set(words))\n",
    "            print(words)        \n",
    "            words = [word for word in words if word not in stop_words]\n",
    "            print(words)\n",
    "\n",
    "            words = [preproc_arab_sentence(word) for word in words]\n",
    "\n",
    "            # print(words)        \n",
    "            words = [stemming_darija(word) for word in words if word]\n",
    "            words = number_remov(words)\n",
    "\n",
    "\n",
    "            # print(words)\n",
    "            words = ' '.join(words) \n",
    "            return words"
   ]
  },
  {
   "cell_type": "code",
   "execution_count": 28,
   "id": "165fee05",
   "metadata": {
    "execution": {
     "iopub.execute_input": "2024-12-19T15:01:32.512478Z",
     "iopub.status.busy": "2024-12-19T15:01:32.512067Z",
     "iopub.status.idle": "2024-12-19T15:01:32.527216Z",
     "shell.execute_reply": "2024-12-19T15:01:32.526148Z"
    },
    "papermill": {
     "duration": 0.030475,
     "end_time": "2024-12-19T15:01:32.529432",
     "exception": false,
     "start_time": "2024-12-19T15:01:32.498957",
     "status": "completed"
    },
    "tags": []
   },
   "outputs": [
    {
     "data": {
      "text/html": [
       "<div>\n",
       "<style scoped>\n",
       "    .dataframe tbody tr th:only-of-type {\n",
       "        vertical-align: middle;\n",
       "    }\n",
       "\n",
       "    .dataframe tbody tr th {\n",
       "        vertical-align: top;\n",
       "    }\n",
       "\n",
       "    .dataframe thead th {\n",
       "        text-align: right;\n",
       "    }\n",
       "</style>\n",
       "<table border=\"1\" class=\"dataframe\">\n",
       "  <thead>\n",
       "    <tr style=\"text-align: right;\">\n",
       "      <th></th>\n",
       "      <th>text</th>\n",
       "      <th>target</th>\n",
       "      <th>text_cleaned</th>\n",
       "    </tr>\n",
       "  </thead>\n",
       "  <tbody>\n",
       "    <tr>\n",
       "      <th>8528</th>\n",
       "      <td>المفروض  الحكومه  توقف الشركه  راغير  شخص  واح...</td>\n",
       "      <td>0</td>\n",
       "      <td>شركه تجمع تساب حكومه موف ماك راغير سالح عدو</td>\n",
       "    </tr>\n",
       "    <tr>\n",
       "      <th>28139</th>\n",
       "      <td>ان مشي بنت ان زمل هدشي لي كيقول هد لحمرا</td>\n",
       "      <td>0</td>\n",
       "      <td>مش لحمرا هدش زمل</td>\n",
       "    </tr>\n",
       "    <tr>\n",
       "      <th>15880</th>\n",
       "      <td>المجرم اللي نهار او مطال ونتا كتقلب عليه هاهو ...</td>\n",
       "      <td>0</td>\n",
       "      <td>مجرم</td>\n",
       "    </tr>\n",
       "    <tr>\n",
       "      <th>20000</th>\n",
       "      <td>بنت محنها صاحبها فوق الناموسيه وخرجات كتعرج باها</td>\n",
       "      <td>0</td>\n",
       "      <td>كتعرج محنها باها وخرج ناموسيه</td>\n",
       "    </tr>\n",
       "    <tr>\n",
       "      <th>14223</th>\n",
       "      <td>میکروب</td>\n",
       "      <td>0</td>\n",
       "      <td>میکروب</td>\n",
       "    </tr>\n",
       "  </tbody>\n",
       "</table>\n",
       "</div>"
      ],
      "text/plain": [
       "                                                    text  target  \\\n",
       "8528   المفروض  الحكومه  توقف الشركه  راغير  شخص  واح...       0   \n",
       "28139           ان مشي بنت ان زمل هدشي لي كيقول هد لحمرا       0   \n",
       "15880  المجرم اللي نهار او مطال ونتا كتقلب عليه هاهو ...       0   \n",
       "20000   بنت محنها صاحبها فوق الناموسيه وخرجات كتعرج باها       0   \n",
       "14223                                             میکروب       0   \n",
       "\n",
       "                                      text_cleaned  \n",
       "8528   شركه تجمع تساب حكومه موف ماك راغير سالح عدو  \n",
       "28139                             مش لحمرا هدش زمل  \n",
       "15880                                         مجرم  \n",
       "20000                كتعرج محنها باها وخرج ناموسيه  \n",
       "14223                                       میکروب  "
      ]
     },
     "execution_count": 28,
     "metadata": {},
     "output_type": "execute_result"
    }
   ],
   "source": [
    "df.head()"
   ]
  },
  {
   "cell_type": "code",
   "execution_count": 29,
   "id": "64f91529",
   "metadata": {
    "execution": {
     "iopub.execute_input": "2024-12-19T15:01:32.555272Z",
     "iopub.status.busy": "2024-12-19T15:01:32.554507Z",
     "iopub.status.idle": "2024-12-19T15:01:32.569874Z",
     "shell.execute_reply": "2024-12-19T15:01:32.568886Z"
    },
    "papermill": {
     "duration": 0.031701,
     "end_time": "2024-12-19T15:01:32.573033",
     "exception": false,
     "start_time": "2024-12-19T15:01:32.541332",
     "status": "completed"
    },
    "tags": []
   },
   "outputs": [
    {
     "name": "stdout",
     "output_type": "stream",
     "text": [
      "<class 'pandas.core.frame.DataFrame'>\n",
      "Index: 17500 entries, 8528 to 2608\n",
      "Data columns (total 3 columns):\n",
      " #   Column        Non-Null Count  Dtype \n",
      "---  ------        --------------  ----- \n",
      " 0   text          17500 non-null  object\n",
      " 1   target        17500 non-null  int64 \n",
      " 2   text_cleaned  16905 non-null  object\n",
      "dtypes: int64(1), object(2)\n",
      "memory usage: 546.9+ KB\n"
     ]
    }
   ],
   "source": [
    "df.info()"
   ]
  },
  {
   "cell_type": "code",
   "execution_count": 30,
   "id": "31d087aa",
   "metadata": {
    "execution": {
     "iopub.execute_input": "2024-12-19T15:01:32.599693Z",
     "iopub.status.busy": "2024-12-19T15:01:32.598919Z",
     "iopub.status.idle": "2024-12-19T15:01:32.613577Z",
     "shell.execute_reply": "2024-12-19T15:01:32.612509Z"
    },
    "papermill": {
     "duration": 0.030312,
     "end_time": "2024-12-19T15:01:32.615856",
     "exception": false,
     "start_time": "2024-12-19T15:01:32.585544",
     "status": "completed"
    },
    "tags": []
   },
   "outputs": [],
   "source": [
    "df.dropna(inplace=True)"
   ]
  },
  {
   "cell_type": "code",
   "execution_count": 31,
   "id": "31f343ec",
   "metadata": {
    "execution": {
     "iopub.execute_input": "2024-12-19T15:01:32.641594Z",
     "iopub.status.busy": "2024-12-19T15:01:32.641197Z",
     "iopub.status.idle": "2024-12-19T15:01:32.657392Z",
     "shell.execute_reply": "2024-12-19T15:01:32.656514Z"
    },
    "papermill": {
     "duration": 0.031717,
     "end_time": "2024-12-19T15:01:32.659637",
     "exception": false,
     "start_time": "2024-12-19T15:01:32.627920",
     "status": "completed"
    },
    "tags": []
   },
   "outputs": [],
   "source": [
    "from sklearn.model_selection import train_test_split\n",
    "\n",
    "X_train, X_test, y_train, y_test = train_test_split( df.drop(columns=[\"target\"]),df[\"target\"], test_size=0.2 , stratify=df['target'] ,shuffle=True , random_state=123)"
   ]
  },
  {
   "cell_type": "code",
   "execution_count": 32,
   "id": "2e0e3c92",
   "metadata": {
    "execution": {
     "iopub.execute_input": "2024-12-19T15:01:32.686089Z",
     "iopub.status.busy": "2024-12-19T15:01:32.685108Z",
     "iopub.status.idle": "2024-12-19T15:01:32.694486Z",
     "shell.execute_reply": "2024-12-19T15:01:32.693441Z"
    },
    "papermill": {
     "duration": 0.024554,
     "end_time": "2024-12-19T15:01:32.696421",
     "exception": false,
     "start_time": "2024-12-19T15:01:32.671867",
     "status": "completed"
    },
    "tags": []
   },
   "outputs": [
    {
     "data": {
      "text/plain": [
       "target\n",
       "0    1720\n",
       "1    1661\n",
       "Name: count, dtype: int64"
      ]
     },
     "execution_count": 32,
     "metadata": {},
     "output_type": "execute_result"
    }
   ],
   "source": [
    "y_test.value_counts()"
   ]
  },
  {
   "cell_type": "code",
   "execution_count": 33,
   "id": "e3e9e797",
   "metadata": {
    "execution": {
     "iopub.execute_input": "2024-12-19T15:01:32.723176Z",
     "iopub.status.busy": "2024-12-19T15:01:32.722350Z",
     "iopub.status.idle": "2024-12-19T15:01:32.729094Z",
     "shell.execute_reply": "2024-12-19T15:01:32.728022Z"
    },
    "papermill": {
     "duration": 0.02224,
     "end_time": "2024-12-19T15:01:32.731246",
     "exception": false,
     "start_time": "2024-12-19T15:01:32.709006",
     "status": "completed"
    },
    "tags": []
   },
   "outputs": [
    {
     "data": {
      "text/plain": [
       "(13524, 2)"
      ]
     },
     "execution_count": 33,
     "metadata": {},
     "output_type": "execute_result"
    }
   ],
   "source": [
    "X_train.shape"
   ]
  },
  {
   "cell_type": "markdown",
   "id": "6b65522d",
   "metadata": {
    "papermill": {
     "duration": 0.01197,
     "end_time": "2024-12-19T15:01:32.755673",
     "exception": false,
     "start_time": "2024-12-19T15:01:32.743703",
     "status": "completed"
    },
    "tags": []
   },
   "source": [
    "## Useful Function"
   ]
  },
  {
   "cell_type": "code",
   "execution_count": 34,
   "id": "97a91867",
   "metadata": {
    "execution": {
     "iopub.execute_input": "2024-12-19T15:01:32.782070Z",
     "iopub.status.busy": "2024-12-19T15:01:32.781706Z",
     "iopub.status.idle": "2024-12-19T15:01:33.312612Z",
     "shell.execute_reply": "2024-12-19T15:01:33.311569Z"
    },
    "papermill": {
     "duration": 0.546983,
     "end_time": "2024-12-19T15:01:33.315035",
     "exception": false,
     "start_time": "2024-12-19T15:01:32.768052",
     "status": "completed"
    },
    "tags": []
   },
   "outputs": [],
   "source": [
    "import numpy as np\n",
    "from sklearn.metrics import accuracy_score, f1_score, classification_report, confusion_matrix\n",
    "import seaborn as sns\n",
    "import matplotlib.pyplot as plt\n",
    "\n",
    "def about_model(model_name , y_test, y_pred):\n",
    "    print('-------------------> ' + model_name )\n",
    "    accuracy = accuracy_score(y_test, y_pred)\n",
    "    print(f\"Accuracy: {accuracy:.2f}\")\n",
    "    \n",
    "    f1 = f1_score(y_test, y_pred, average=None)\n",
    "    print(\"F1-Score for each class:\")\n",
    "    class_labels = ['Positive', 'Negative']\n",
    "\n",
    "    for i, score in enumerate(f1):\n",
    "        print(f\"{class_labels[i]}: {score:.2f}\")\n",
    "    \n",
    "    print(\"\\nClassification Report:\")\n",
    "    print(classification_report(y_test, y_pred, target_names=class_labels, digits=2))\n",
    "    \n",
    "    conf_matrix = confusion_matrix(y_test, y_pred)\n",
    "    plt.figure(figsize=(8, 6))\n",
    "    sns.heatmap(conf_matrix, annot=True, fmt='d', cmap='Blues', \n",
    "                xticklabels=class_labels,\n",
    "                yticklabels=class_labels)\n",
    "    plt.xlabel(\"Predicted\")\n",
    "    plt.ylabel(\"Actual\")\n",
    "    plt.title(\"Confusion Matrix\")\n",
    "    plt.show()\n"
   ]
  },
  {
   "cell_type": "markdown",
   "id": "27bd33b5",
   "metadata": {
    "papermill": {
     "duration": 0.012397,
     "end_time": "2024-12-19T15:01:33.340438",
     "exception": false,
     "start_time": "2024-12-19T15:01:33.328041",
     "status": "completed"
    },
    "tags": []
   },
   "source": [
    "## Feature Engineering\n",
    "Converting text to vectors format:\n",
    "- CountVectorizer (ngram_range=(1, 2))"
   ]
  },
  {
   "cell_type": "code",
   "execution_count": 35,
   "id": "cddc79f7",
   "metadata": {
    "execution": {
     "iopub.execute_input": "2024-12-19T15:01:33.368388Z",
     "iopub.status.busy": "2024-12-19T15:01:33.367887Z",
     "iopub.status.idle": "2024-12-19T15:01:33.372574Z",
     "shell.execute_reply": "2024-12-19T15:01:33.371669Z"
    },
    "papermill": {
     "duration": 0.020588,
     "end_time": "2024-12-19T15:01:33.374397",
     "exception": false,
     "start_time": "2024-12-19T15:01:33.353809",
     "status": "completed"
    },
    "tags": []
   },
   "outputs": [],
   "source": [
    "#from sklearn.feature_extraction.text import TfidfVectorizer\n",
    "\n",
    "\n",
    "#tfidf_vectorizer = TfidfVectorizer(ngram_range=(1, 2))\n",
    "#X_train['text_cleaned'] = X_train['text_cleaned'].astype(str)\n",
    "#X_test['text_cleaned'] = X_test['text_cleaned'].astype(str)\n",
    "\n",
    "#X_train_tfidf = tfidf_vectorizer.fit_transform(X_train['text_cleaned'])\n",
    "#X_test_tfidf = tfidf_vectorizer.transform(X_test['text_cleaned'])\n",
    "\n"
   ]
  },
  {
   "cell_type": "code",
   "execution_count": 36,
   "id": "ff910ea9",
   "metadata": {
    "execution": {
     "iopub.execute_input": "2024-12-19T15:01:33.401314Z",
     "iopub.status.busy": "2024-12-19T15:01:33.400369Z",
     "iopub.status.idle": "2024-12-19T15:01:34.347452Z",
     "shell.execute_reply": "2024-12-19T15:01:34.346342Z"
    },
    "papermill": {
     "duration": 0.963112,
     "end_time": "2024-12-19T15:01:34.349885",
     "exception": false,
     "start_time": "2024-12-19T15:01:33.386773",
     "status": "completed"
    },
    "tags": []
   },
   "outputs": [
    {
     "name": "stdout",
     "output_type": "stream",
     "text": [
      "all tokens:  91927\n",
      "reduced tokens:  91927\n"
     ]
    }
   ],
   "source": [
    "from sklearn.feature_extraction.text import CountVectorizer\n",
    "import numpy as np\n",
    "import pandas as pd\n",
    "\n",
    "\n",
    "tfidf_vectorizer = CountVectorizer(ngram_range=(1, 2))\n",
    "\n",
    "X_train['text_cleaned'] = X_train['text_cleaned'].astype(str)\n",
    "X_test['text_cleaned'] = X_test['text_cleaned'].astype(str)\n",
    "\n",
    "X_train_tfidf = tfidf_vectorizer.fit_transform(X_train['text_cleaned'])\n",
    "X_test_tfidf = tfidf_vectorizer.transform(X_test['text_cleaned'])\n",
    "\n",
    "words = tfidf_vectorizer.get_feature_names_out()\n",
    "print(\"all tokens: \" , len(words))\n",
    "tfidf_scores = np.asarray(X_train_tfidf.sum(axis=0)).flatten()\n",
    "\n",
    "sorted_indices = np.argsort(tfidf_scores)[::-1]\n",
    "\n",
    "cumulative_tfidf = np.cumsum(tfidf_scores[sorted_indices])\n",
    "\n",
    "total_tfidf = cumulative_tfidf[-1]\n",
    "threshold =  total_tfidf\n",
    "\n",
    "cutoff_index = np.where(cumulative_tfidf >= threshold)[0][0]\n",
    "\n",
    "selected_ngrams = words[sorted_indices][:cutoff_index + 1]\n",
    "\n",
    "selected_vocab = selected_ngrams.tolist()\n",
    "print(\"reduced tokens: \"  , len(selected_vocab))\n",
    "\n",
    "tfidf_vectorizer = CountVectorizer(vocabulary=selected_vocab)\n",
    "\n",
    "X_train_tfidf = tfidf_vectorizer.fit_transform(X_train['text_cleaned'])\n",
    "X_test_tfidf = tfidf_vectorizer.transform(X_test['text_cleaned'])\n"
   ]
  },
  {
   "cell_type": "code",
   "execution_count": 37,
   "id": "c6774802",
   "metadata": {
    "execution": {
     "iopub.execute_input": "2024-12-19T15:01:34.378939Z",
     "iopub.status.busy": "2024-12-19T15:01:34.378086Z",
     "iopub.status.idle": "2024-12-19T15:01:34.447991Z",
     "shell.execute_reply": "2024-12-19T15:01:34.446941Z"
    },
    "papermill": {
     "duration": 0.086905,
     "end_time": "2024-12-19T15:01:34.450466",
     "exception": false,
     "start_time": "2024-12-19T15:01:34.363561",
     "status": "completed"
    },
    "tags": []
   },
   "outputs": [
    {
     "data": {
      "text/plain": [
       "array(['لا', 'ما', 'غير', 'هه', 'ماش', 'خير', 'هم', 'قلب', 'سير', 'حمد',\n",
       "       'لم', 'تفو', 'فرح', 'عداله', 'قوه', 'احسن', 'ليس', 'عديم', 'فكر',\n",
       "       'مبروك', 'بدموع', 'سح', 'طحن', 'كورو', 'والو', 'وباا', 'تحيه',\n",
       "       'وفي', 'مش', 'تنميه'], dtype=object)"
      ]
     },
     "execution_count": 37,
     "metadata": {},
     "output_type": "execute_result"
    }
   ],
   "source": [
    "tfidf_vectorizer.get_feature_names_out()[:30]"
   ]
  },
  {
   "cell_type": "code",
   "execution_count": 38,
   "id": "ad580e9a",
   "metadata": {
    "execution": {
     "iopub.execute_input": "2024-12-19T15:01:34.477708Z",
     "iopub.status.busy": "2024-12-19T15:01:34.476787Z",
     "iopub.status.idle": "2024-12-19T15:01:34.539530Z",
     "shell.execute_reply": "2024-12-19T15:01:34.538467Z"
    },
    "papermill": {
     "duration": 0.078691,
     "end_time": "2024-12-19T15:01:34.541682",
     "exception": false,
     "start_time": "2024-12-19T15:01:34.462991",
     "status": "completed"
    },
    "tags": []
   },
   "outputs": [
    {
     "data": {
      "text/plain": [
       "91927"
      ]
     },
     "execution_count": 38,
     "metadata": {},
     "output_type": "execute_result"
    }
   ],
   "source": [
    "len(tfidf_vectorizer.get_feature_names_out())"
   ]
  },
  {
   "cell_type": "markdown",
   "id": "24571451",
   "metadata": {
    "papermill": {
     "duration": 0.012511,
     "end_time": "2024-12-19T15:01:34.567544",
     "exception": false,
     "start_time": "2024-12-19T15:01:34.555033",
     "status": "completed"
    },
    "tags": []
   },
   "source": [
    "## Model Development\n"
   ]
  },
  {
   "cell_type": "markdown",
   "id": "8f8614fb",
   "metadata": {
    "papermill": {
     "duration": 0.012636,
     "end_time": "2024-12-19T15:01:34.594521",
     "exception": false,
     "start_time": "2024-12-19T15:01:34.581885",
     "status": "completed"
    },
    "tags": []
   },
   "source": [
    "### Random Forest"
   ]
  },
  {
   "cell_type": "code",
   "execution_count": 39,
   "id": "46075d59",
   "metadata": {
    "execution": {
     "iopub.execute_input": "2024-12-19T15:01:34.620975Z",
     "iopub.status.busy": "2024-12-19T15:01:34.620559Z",
     "iopub.status.idle": "2024-12-19T15:04:44.814025Z",
     "shell.execute_reply": "2024-12-19T15:04:44.812986Z"
    },
    "papermill": {
     "duration": 190.222239,
     "end_time": "2024-12-19T15:04:44.829187",
     "exception": false,
     "start_time": "2024-12-19T15:01:34.606948",
     "status": "completed"
    },
    "tags": []
   },
   "outputs": [
    {
     "data": {
      "text/html": [
       "<style>#sk-container-id-1 {color: black;background-color: white;}#sk-container-id-1 pre{padding: 0;}#sk-container-id-1 div.sk-toggleable {background-color: white;}#sk-container-id-1 label.sk-toggleable__label {cursor: pointer;display: block;width: 100%;margin-bottom: 0;padding: 0.3em;box-sizing: border-box;text-align: center;}#sk-container-id-1 label.sk-toggleable__label-arrow:before {content: \"▸\";float: left;margin-right: 0.25em;color: #696969;}#sk-container-id-1 label.sk-toggleable__label-arrow:hover:before {color: black;}#sk-container-id-1 div.sk-estimator:hover label.sk-toggleable__label-arrow:before {color: black;}#sk-container-id-1 div.sk-toggleable__content {max-height: 0;max-width: 0;overflow: hidden;text-align: left;background-color: #f0f8ff;}#sk-container-id-1 div.sk-toggleable__content pre {margin: 0.2em;color: black;border-radius: 0.25em;background-color: #f0f8ff;}#sk-container-id-1 input.sk-toggleable__control:checked~div.sk-toggleable__content {max-height: 200px;max-width: 100%;overflow: auto;}#sk-container-id-1 input.sk-toggleable__control:checked~label.sk-toggleable__label-arrow:before {content: \"▾\";}#sk-container-id-1 div.sk-estimator input.sk-toggleable__control:checked~label.sk-toggleable__label {background-color: #d4ebff;}#sk-container-id-1 div.sk-label input.sk-toggleable__control:checked~label.sk-toggleable__label {background-color: #d4ebff;}#sk-container-id-1 input.sk-hidden--visually {border: 0;clip: rect(1px 1px 1px 1px);clip: rect(1px, 1px, 1px, 1px);height: 1px;margin: -1px;overflow: hidden;padding: 0;position: absolute;width: 1px;}#sk-container-id-1 div.sk-estimator {font-family: monospace;background-color: #f0f8ff;border: 1px dotted black;border-radius: 0.25em;box-sizing: border-box;margin-bottom: 0.5em;}#sk-container-id-1 div.sk-estimator:hover {background-color: #d4ebff;}#sk-container-id-1 div.sk-parallel-item::after {content: \"\";width: 100%;border-bottom: 1px solid gray;flex-grow: 1;}#sk-container-id-1 div.sk-label:hover label.sk-toggleable__label {background-color: #d4ebff;}#sk-container-id-1 div.sk-serial::before {content: \"\";position: absolute;border-left: 1px solid gray;box-sizing: border-box;top: 0;bottom: 0;left: 50%;z-index: 0;}#sk-container-id-1 div.sk-serial {display: flex;flex-direction: column;align-items: center;background-color: white;padding-right: 0.2em;padding-left: 0.2em;position: relative;}#sk-container-id-1 div.sk-item {position: relative;z-index: 1;}#sk-container-id-1 div.sk-parallel {display: flex;align-items: stretch;justify-content: center;background-color: white;position: relative;}#sk-container-id-1 div.sk-item::before, #sk-container-id-1 div.sk-parallel-item::before {content: \"\";position: absolute;border-left: 1px solid gray;box-sizing: border-box;top: 0;bottom: 0;left: 50%;z-index: -1;}#sk-container-id-1 div.sk-parallel-item {display: flex;flex-direction: column;z-index: 1;position: relative;background-color: white;}#sk-container-id-1 div.sk-parallel-item:first-child::after {align-self: flex-end;width: 50%;}#sk-container-id-1 div.sk-parallel-item:last-child::after {align-self: flex-start;width: 50%;}#sk-container-id-1 div.sk-parallel-item:only-child::after {width: 0;}#sk-container-id-1 div.sk-dashed-wrapped {border: 1px dashed gray;margin: 0 0.4em 0.5em 0.4em;box-sizing: border-box;padding-bottom: 0.4em;background-color: white;}#sk-container-id-1 div.sk-label label {font-family: monospace;font-weight: bold;display: inline-block;line-height: 1.2em;}#sk-container-id-1 div.sk-label-container {text-align: center;}#sk-container-id-1 div.sk-container {/* jupyter's `normalize.less` sets `[hidden] { display: none; }` but bootstrap.min.css set `[hidden] { display: none !important; }` so we also need the `!important` here to be able to override the default hidden behavior on the sphinx rendered scikit-learn.org. See: https://github.com/scikit-learn/scikit-learn/issues/21755 */display: inline-block !important;position: relative;}#sk-container-id-1 div.sk-text-repr-fallback {display: none;}</style><div id=\"sk-container-id-1\" class=\"sk-top-container\"><div class=\"sk-text-repr-fallback\"><pre>RandomForestClassifier()</pre><b>In a Jupyter environment, please rerun this cell to show the HTML representation or trust the notebook. <br />On GitHub, the HTML representation is unable to render, please try loading this page with nbviewer.org.</b></div><div class=\"sk-container\" hidden><div class=\"sk-item\"><div class=\"sk-estimator sk-toggleable\"><input class=\"sk-toggleable__control sk-hidden--visually\" id=\"sk-estimator-id-1\" type=\"checkbox\" checked><label for=\"sk-estimator-id-1\" class=\"sk-toggleable__label sk-toggleable__label-arrow\">RandomForestClassifier</label><div class=\"sk-toggleable__content\"><pre>RandomForestClassifier()</pre></div></div></div></div></div>"
      ],
      "text/plain": [
       "RandomForestClassifier()"
      ]
     },
     "execution_count": 39,
     "metadata": {},
     "output_type": "execute_result"
    }
   ],
   "source": [
    "from sklearn.ensemble import RandomForestClassifier\n",
    "randomforest_clf = RandomForestClassifier()\n",
    "randomforest_clf.fit(X_train_tfidf, y_train)"
   ]
  },
  {
   "cell_type": "code",
   "execution_count": 40,
   "id": "77f309cc",
   "metadata": {
    "execution": {
     "iopub.execute_input": "2024-12-19T15:04:44.856212Z",
     "iopub.status.busy": "2024-12-19T15:04:44.855825Z",
     "iopub.status.idle": "2024-12-19T15:04:46.592994Z",
     "shell.execute_reply": "2024-12-19T15:04:46.591941Z"
    },
    "papermill": {
     "duration": 1.753577,
     "end_time": "2024-12-19T15:04:46.595418",
     "exception": false,
     "start_time": "2024-12-19T15:04:44.841841",
     "status": "completed"
    },
    "tags": []
   },
   "outputs": [
    {
     "name": "stdout",
     "output_type": "stream",
     "text": [
      "-------------------> Random Forest\n",
      "Accuracy: 0.70\n",
      "F1-Score for each class:\n",
      "Positive: 0.66\n",
      "Negative: 0.73\n",
      "\n",
      "Classification Report:\n",
      "              precision    recall  f1-score   support\n",
      "\n",
      "    Positive       0.78      0.58      0.66      1720\n",
      "    Negative       0.66      0.83      0.73      1661\n",
      "\n",
      "    accuracy                           0.70      3381\n",
      "   macro avg       0.72      0.70      0.70      3381\n",
      "weighted avg       0.72      0.70      0.70      3381\n",
      "\n"
     ]
    },
    {
     "data": {
      "image/png": "[encoded data removed]",
      "text/plain": [
       "<Figure size 800x600 with 2 Axes>"
      ]
     },
     "metadata": {},
     "output_type": "display_data"
    }
   ],
   "source": [
    "y_hat = randomforest_clf.predict(X_test_tfidf) \n",
    "about_model(\"Random Forest\" , y_test, y_hat)"
   ]
  },
  {
   "cell_type": "markdown",
   "id": "69355ba7",
   "metadata": {
    "papermill": {
     "duration": 0.012819,
     "end_time": "2024-12-19T15:04:46.621777",
     "exception": false,
     "start_time": "2024-12-19T15:04:46.608958",
     "status": "completed"
    },
    "tags": []
   },
   "source": [
    "### Tuned Random Forest"
   ]
  },
  {
   "cell_type": "code",
   "execution_count": 41,
   "id": "c33a426e",
   "metadata": {
    "execution": {
     "iopub.execute_input": "2024-12-19T15:04:46.650204Z",
     "iopub.status.busy": "2024-12-19T15:04:46.649414Z",
     "iopub.status.idle": "2024-12-19T18:20:49.081293Z",
     "shell.execute_reply": "2024-12-19T18:20:49.080129Z"
    },
    "papermill": {
     "duration": 11762.464193,
     "end_time": "2024-12-19T18:20:49.099110",
     "exception": false,
     "start_time": "2024-12-19T15:04:46.634917",
     "status": "completed"
    },
    "tags": []
   },
   "outputs": [
    {
     "name": "stdout",
     "output_type": "stream",
     "text": [
      "Fitting 5 folds for each of 108 candidates, totalling 540 fits\n"
     ]
    },
    {
     "data": {
      "text/plain": [
       "{'criterion': 'entropy',\n",
       " 'max_depth': None,\n",
       " 'max_features': 'log2',\n",
       " 'min_samples_split': 10,\n",
       " 'n_estimators': 200}"
      ]
     },
     "execution_count": 41,
     "metadata": {},
     "output_type": "execute_result"
    }
   ],
   "source": [
    "param_grid_ = {\n",
    "    'n_estimators': [10, 100, 200],\n",
    "    'max_features': ['sqrt', 'log2'],\n",
    "    'criterion': ['gini', 'entropy'], \n",
    "    'max_depth': [None, 10, 20],      \n",
    "    'min_samples_split': [2, 5, 10]   \n",
    "}\n",
    "\n",
    "randomforest_clf = GridSearchCV(estimator=RandomForestClassifier(n_jobs=-1),\n",
    "                                param_grid=param_grid_, \n",
    "                                cv=5, verbose=1 , \n",
    "                                scoring='accuracy',\n",
    "                                n_jobs=-1)\n",
    "randomforest_clf.fit(X_train_tfidf, y_train)\n",
    "randomforest_clf.best_params_\n"
   ]
  },
  {
   "cell_type": "code",
   "execution_count": 42,
   "id": "503a6d25",
   "metadata": {
    "execution": {
     "iopub.execute_input": "2024-12-19T18:20:49.128270Z",
     "iopub.status.busy": "2024-12-19T18:20:49.127314Z",
     "iopub.status.idle": "2024-12-19T18:20:51.613667Z",
     "shell.execute_reply": "2024-12-19T18:20:51.612605Z"
    },
    "papermill": {
     "duration": 2.503404,
     "end_time": "2024-12-19T18:20:51.615697",
     "exception": false,
     "start_time": "2024-12-19T18:20:49.112293",
     "status": "completed"
    },
    "tags": []
   },
   "outputs": [
    {
     "name": "stdout",
     "output_type": "stream",
     "text": [
      "-------------------> Tuned Random Forest\n",
      "Accuracy: 0.73\n",
      "F1-Score for each class:\n",
      "Positive: 0.71\n",
      "Negative: 0.74\n",
      "\n",
      "Classification Report:\n",
      "              precision    recall  f1-score   support\n",
      "\n",
      "    Positive       0.78      0.65      0.71      1720\n",
      "    Negative       0.69      0.81      0.74      1661\n",
      "\n",
      "    accuracy                           0.73      3381\n",
      "   macro avg       0.73      0.73      0.73      3381\n",
      "weighted avg       0.73      0.73      0.73      3381\n",
      "\n"
     ]
    },
    {
     "data": {
      "image/png": "[encoded data removed]",
      "text/plain": [
       "<Figure size 800x600 with 2 Axes>"
      ]
     },
     "metadata": {},
     "output_type": "display_data"
    }
   ],
   "source": [
    "y_hat = randomforest_clf.predict(X_test_tfidf)\n",
    "about_model(\"Tuned Random Forest\" , y_test , y_hat)"
   ]
  },
  {
   "cell_type": "markdown",
   "id": "89fb8483",
   "metadata": {
    "papermill": {
     "duration": 0.013317,
     "end_time": "2024-12-19T18:20:51.642998",
     "exception": false,
     "start_time": "2024-12-19T18:20:51.629681",
     "status": "completed"
    },
    "tags": []
   },
   "source": [
    "### SVM"
   ]
  },
  {
   "cell_type": "code",
   "execution_count": 43,
   "id": "6ea664ea",
   "metadata": {
    "execution": {
     "iopub.execute_input": "2024-12-19T18:20:51.673023Z",
     "iopub.status.busy": "2024-12-19T18:20:51.672082Z",
     "iopub.status.idle": "2024-12-19T18:22:28.761973Z",
     "shell.execute_reply": "2024-12-19T18:22:28.760922Z"
    },
    "papermill": {
     "duration": 97.12141,
     "end_time": "2024-12-19T18:22:28.777957",
     "exception": false,
     "start_time": "2024-12-19T18:20:51.656547",
     "status": "completed"
    },
    "tags": []
   },
   "outputs": [
    {
     "data": {
      "text/html": [
       "<style>#sk-container-id-2 {color: black;background-color: white;}#sk-container-id-2 pre{padding: 0;}#sk-container-id-2 div.sk-toggleable {background-color: white;}#sk-container-id-2 label.sk-toggleable__label {cursor: pointer;display: block;width: 100%;margin-bottom: 0;padding: 0.3em;box-sizing: border-box;text-align: center;}#sk-container-id-2 label.sk-toggleable__label-arrow:before {content: \"▸\";float: left;margin-right: 0.25em;color: #696969;}#sk-container-id-2 label.sk-toggleable__label-arrow:hover:before {color: black;}#sk-container-id-2 div.sk-estimator:hover label.sk-toggleable__label-arrow:before {color: black;}#sk-container-id-2 div.sk-toggleable__content {max-height: 0;max-width: 0;overflow: hidden;text-align: left;background-color: #f0f8ff;}#sk-container-id-2 div.sk-toggleable__content pre {margin: 0.2em;color: black;border-radius: 0.25em;background-color: #f0f8ff;}#sk-container-id-2 input.sk-toggleable__control:checked~div.sk-toggleable__content {max-height: 200px;max-width: 100%;overflow: auto;}#sk-container-id-2 input.sk-toggleable__control:checked~label.sk-toggleable__label-arrow:before {content: \"▾\";}#sk-container-id-2 div.sk-estimator input.sk-toggleable__control:checked~label.sk-toggleable__label {background-color: #d4ebff;}#sk-container-id-2 div.sk-label input.sk-toggleable__control:checked~label.sk-toggleable__label {background-color: #d4ebff;}#sk-container-id-2 input.sk-hidden--visually {border: 0;clip: rect(1px 1px 1px 1px);clip: rect(1px, 1px, 1px, 1px);height: 1px;margin: -1px;overflow: hidden;padding: 0;position: absolute;width: 1px;}#sk-container-id-2 div.sk-estimator {font-family: monospace;background-color: #f0f8ff;border: 1px dotted black;border-radius: 0.25em;box-sizing: border-box;margin-bottom: 0.5em;}#sk-container-id-2 div.sk-estimator:hover {background-color: #d4ebff;}#sk-container-id-2 div.sk-parallel-item::after {content: \"\";width: 100%;border-bottom: 1px solid gray;flex-grow: 1;}#sk-container-id-2 div.sk-label:hover label.sk-toggleable__label {background-color: #d4ebff;}#sk-container-id-2 div.sk-serial::before {content: \"\";position: absolute;border-left: 1px solid gray;box-sizing: border-box;top: 0;bottom: 0;left: 50%;z-index: 0;}#sk-container-id-2 div.sk-serial {display: flex;flex-direction: column;align-items: center;background-color: white;padding-right: 0.2em;padding-left: 0.2em;position: relative;}#sk-container-id-2 div.sk-item {position: relative;z-index: 1;}#sk-container-id-2 div.sk-parallel {display: flex;align-items: stretch;justify-content: center;background-color: white;position: relative;}#sk-container-id-2 div.sk-item::before, #sk-container-id-2 div.sk-parallel-item::before {content: \"\";position: absolute;border-left: 1px solid gray;box-sizing: border-box;top: 0;bottom: 0;left: 50%;z-index: -1;}#sk-container-id-2 div.sk-parallel-item {display: flex;flex-direction: column;z-index: 1;position: relative;background-color: white;}#sk-container-id-2 div.sk-parallel-item:first-child::after {align-self: flex-end;width: 50%;}#sk-container-id-2 div.sk-parallel-item:last-child::after {align-self: flex-start;width: 50%;}#sk-container-id-2 div.sk-parallel-item:only-child::after {width: 0;}#sk-container-id-2 div.sk-dashed-wrapped {border: 1px dashed gray;margin: 0 0.4em 0.5em 0.4em;box-sizing: border-box;padding-bottom: 0.4em;background-color: white;}#sk-container-id-2 div.sk-label label {font-family: monospace;font-weight: bold;display: inline-block;line-height: 1.2em;}#sk-container-id-2 div.sk-label-container {text-align: center;}#sk-container-id-2 div.sk-container {/* jupyter's `normalize.less` sets `[hidden] { display: none; }` but bootstrap.min.css set `[hidden] { display: none !important; }` so we also need the `!important` here to be able to override the default hidden behavior on the sphinx rendered scikit-learn.org. See: https://github.com/scikit-learn/scikit-learn/issues/21755 */display: inline-block !important;position: relative;}#sk-container-id-2 div.sk-text-repr-fallback {display: none;}</style><div id=\"sk-container-id-2\" class=\"sk-top-container\"><div class=\"sk-text-repr-fallback\"><pre>SVC(probability=True)</pre><b>In a Jupyter environment, please rerun this cell to show the HTML representation or trust the notebook. <br />On GitHub, the HTML representation is unable to render, please try loading this page with nbviewer.org.</b></div><div class=\"sk-container\" hidden><div class=\"sk-item\"><div class=\"sk-estimator sk-toggleable\"><input class=\"sk-toggleable__control sk-hidden--visually\" id=\"sk-estimator-id-2\" type=\"checkbox\" checked><label for=\"sk-estimator-id-2\" class=\"sk-toggleable__label sk-toggleable__label-arrow\">SVC</label><div class=\"sk-toggleable__content\"><pre>SVC(probability=True)</pre></div></div></div></div></div>"
      ],
      "text/plain": [
       "SVC(probability=True)"
      ]
     },
     "execution_count": 43,
     "metadata": {},
     "output_type": "execute_result"
    }
   ],
   "source": [
    "from sklearn.svm import SVC\n",
    "svm_clf = SVC(probability=True)\n",
    "svm_clf.fit(X_train_tfidf, y_train)"
   ]
  },
  {
   "cell_type": "code",
   "execution_count": 44,
   "id": "392a5b46",
   "metadata": {
    "execution": {
     "iopub.execute_input": "2024-12-19T18:22:28.808107Z",
     "iopub.status.busy": "2024-12-19T18:22:28.807712Z",
     "iopub.status.idle": "2024-12-19T18:22:31.818587Z",
     "shell.execute_reply": "2024-12-19T18:22:31.817586Z"
    },
    "papermill": {
     "duration": 3.028449,
     "end_time": "2024-12-19T18:22:31.820658",
     "exception": false,
     "start_time": "2024-12-19T18:22:28.792209",
     "status": "completed"
    },
    "tags": []
   },
   "outputs": [
    {
     "name": "stdout",
     "output_type": "stream",
     "text": [
      "-------------------> SVM\n",
      "Accuracy: 0.72\n",
      "F1-Score for each class:\n",
      "Positive: 0.71\n",
      "Negative: 0.74\n",
      "\n",
      "Classification Report:\n",
      "              precision    recall  f1-score   support\n",
      "\n",
      "    Positive       0.77      0.65      0.71      1720\n",
      "    Negative       0.69      0.80      0.74      1661\n",
      "\n",
      "    accuracy                           0.72      3381\n",
      "   macro avg       0.73      0.72      0.72      3381\n",
      "weighted avg       0.73      0.72      0.72      3381\n",
      "\n"
     ]
    },
    {
     "data": {
      "image/png": "[encoded data removed]",
      "text/plain": [
       "<Figure size 800x600 with 2 Axes>"
      ]
     },
     "metadata": {},
     "output_type": "display_data"
    }
   ],
   "source": [
    "y_hat = svm_clf.predict(X_test_tfidf) \n",
    "about_model(\"SVM\" , y_test, y_hat)"
   ]
  },
  {
   "cell_type": "markdown",
   "id": "1811b5fb",
   "metadata": {
    "papermill": {
     "duration": 0.01448,
     "end_time": "2024-12-19T18:22:31.850179",
     "exception": false,
     "start_time": "2024-12-19T18:22:31.835699",
     "status": "completed"
    },
    "tags": []
   },
   "source": [
    "### Tuned SVM"
   ]
  },
  {
   "cell_type": "code",
   "execution_count": 45,
   "id": "77854374",
   "metadata": {
    "execution": {
     "iopub.execute_input": "2024-12-19T18:22:31.881661Z",
     "iopub.status.busy": "2024-12-19T18:22:31.880751Z",
     "iopub.status.idle": "2024-12-19T19:04:26.786251Z",
     "shell.execute_reply": "2024-12-19T19:04:26.785225Z"
    },
    "papermill": {
     "duration": 2514.939667,
     "end_time": "2024-12-19T19:04:26.804600",
     "exception": false,
     "start_time": "2024-12-19T18:22:31.864933",
     "status": "completed"
    },
    "tags": []
   },
   "outputs": [
    {
     "name": "stdout",
     "output_type": "stream",
     "text": [
      "Fitting 5 folds for each of 75 candidates, totalling 375 fits\n"
     ]
    },
    {
     "data": {
      "text/plain": [
       "{'C': 5, 'gamma': 0.1, 'kernel': 'rbf'}"
      ]
     },
     "execution_count": 45,
     "metadata": {},
     "output_type": "execute_result"
    }
   ],
   "source": [
    "param_grid_ = {'kernel': ['rbf', 'linear', 'poly'],\n",
    "             'gamma': [0.01 , 0.1, 1, 10, 100],\n",
    "             'C': [0.1, 1,5, 10, 100]}\n",
    "svm_grid = GridSearchCV(estimator=SVC(), \n",
    "                        param_grid=param_grid_, \n",
    "                        cv=5, verbose=1 , \n",
    "                        scoring='accuracy' , \n",
    "                        n_jobs=-1)\n",
    "svm_grid.fit(X_train_tfidf, y_train)\n",
    "svm_grid.best_params_\n"
   ]
  },
  {
   "cell_type": "code",
   "execution_count": 46,
   "id": "da681c57",
   "metadata": {
    "execution": {
     "iopub.execute_input": "2024-12-19T19:04:26.835810Z",
     "iopub.status.busy": "2024-12-19T19:04:26.835417Z",
     "iopub.status.idle": "2024-12-19T19:04:29.662078Z",
     "shell.execute_reply": "2024-12-19T19:04:29.661071Z"
    },
    "papermill": {
     "duration": 2.845343,
     "end_time": "2024-12-19T19:04:29.664555",
     "exception": false,
     "start_time": "2024-12-19T19:04:26.819212",
     "status": "completed"
    },
    "tags": []
   },
   "outputs": [
    {
     "name": "stdout",
     "output_type": "stream",
     "text": [
      "-------------------> Tuned SVM\n",
      "Accuracy: 0.73\n",
      "F1-Score for each class:\n",
      "Positive: 0.72\n",
      "Negative: 0.74\n",
      "\n",
      "Classification Report:\n",
      "              precision    recall  f1-score   support\n",
      "\n",
      "    Positive       0.77      0.67      0.72      1720\n",
      "    Negative       0.70      0.79      0.74      1661\n",
      "\n",
      "    accuracy                           0.73      3381\n",
      "   macro avg       0.73      0.73      0.73      3381\n",
      "weighted avg       0.73      0.73      0.73      3381\n",
      "\n"
     ]
    },
    {
     "data": {
      "image/png": "[encoded data removed]",
      "text/plain": [
       "<Figure size 800x600 with 2 Axes>"
      ]
     },
     "metadata": {},
     "output_type": "display_data"
    }
   ],
   "source": [
    "y_hat = svm_grid.predict(X_test_tfidf)\n",
    "about_model(\"Tuned SVM\", y_test , y_hat) "
   ]
  },
  {
   "cell_type": "markdown",
   "id": "45131318",
   "metadata": {
    "papermill": {
     "duration": 0.014834,
     "end_time": "2024-12-19T19:04:29.695096",
     "exception": false,
     "start_time": "2024-12-19T19:04:29.680262",
     "status": "completed"
    },
    "tags": []
   },
   "source": [
    "### lightgbm"
   ]
  },
  {
   "cell_type": "code",
   "execution_count": 47,
   "id": "6a95ea33",
   "metadata": {
    "execution": {
     "iopub.execute_input": "2024-12-19T19:04:29.726853Z",
     "iopub.status.busy": "2024-12-19T19:04:29.726470Z",
     "iopub.status.idle": "2024-12-19T19:04:32.902723Z",
     "shell.execute_reply": "2024-12-19T19:04:32.901847Z"
    },
    "papermill": {
     "duration": 3.195019,
     "end_time": "2024-12-19T19:04:32.905077",
     "exception": false,
     "start_time": "2024-12-19T19:04:29.710058",
     "status": "completed"
    },
    "tags": []
   },
   "outputs": [],
   "source": [
    "import lightgbm as lgb\n",
    "\n",
    "X_train_tfidf = X_train_tfidf.astype(np.float32)\n",
    "X_test_tfidf = X_test_tfidf.astype(np.float32)\n",
    "\n",
    "d_train = lgb.Dataset(X_train_tfidf, label=y_train)\n",
    "d_test = lgb.Dataset(X_test_tfidf, label=y_test, reference=d_train)\n",
    "\n",
    "params = {\n",
    "    'objective': 'binary',  \n",
    "    'boosting_type': 'gbdt',\n",
    "    'metric': 'binary_logloss', \n",
    "    'num_leaves': 31,\n",
    "    'learning_rate': 0.1,\n",
    "    'verbose': 0\n",
    "}\n",
    "\n",
    "model = lgb.train(params, d_train, num_boost_round=100, valid_sets=[d_train, d_test])"
   ]
  },
  {
   "cell_type": "code",
   "execution_count": 48,
   "id": "f1ddf194",
   "metadata": {
    "execution": {
     "iopub.execute_input": "2024-12-19T19:04:32.938166Z",
     "iopub.status.busy": "2024-12-19T19:04:32.937167Z",
     "iopub.status.idle": "2024-12-19T19:04:33.188986Z",
     "shell.execute_reply": "2024-12-19T19:04:33.187900Z"
    },
    "papermill": {
     "duration": 0.270655,
     "end_time": "2024-12-19T19:04:33.191289",
     "exception": false,
     "start_time": "2024-12-19T19:04:32.920634",
     "status": "completed"
    },
    "tags": []
   },
   "outputs": [
    {
     "name": "stdout",
     "output_type": "stream",
     "text": [
      "-------------------> lightgbm\n",
      "Accuracy: 0.66\n",
      "F1-Score for each class:\n",
      "Positive: 0.62\n",
      "Negative: 0.69\n",
      "\n",
      "Classification Report:\n",
      "              precision    recall  f1-score   support\n",
      "\n",
      "    Positive       0.71      0.56      0.62      1720\n",
      "    Negative       0.62      0.76      0.69      1661\n",
      "\n",
      "    accuracy                           0.66      3381\n",
      "   macro avg       0.67      0.66      0.66      3381\n",
      "weighted avg       0.67      0.66      0.65      3381\n",
      "\n"
     ]
    },
    {
     "data": {
      "image/png": "[encoded data removed]",
      "text/plain": [
       "<Figure size 800x600 with 2 Axes>"
      ]
     },
     "metadata": {},
     "output_type": "display_data"
    }
   ],
   "source": [
    "y_hat = model.predict(X_test_tfidf)\n",
    "y_hat = (y_hat > 0.5).astype(int)\n",
    "about_model(\"lightgbm\", y_test, y_hat)\n"
   ]
  },
  {
   "cell_type": "markdown",
   "id": "f2c7bbde",
   "metadata": {
    "papermill": {
     "duration": 0.015767,
     "end_time": "2024-12-19T19:04:33.223906",
     "exception": false,
     "start_time": "2024-12-19T19:04:33.208139",
     "status": "completed"
    },
    "tags": []
   },
   "source": [
    "### Tuned lightgbm"
   ]
  },
  {
   "cell_type": "code",
   "execution_count": 49,
   "id": "88398167",
   "metadata": {
    "execution": {
     "iopub.execute_input": "2024-12-19T19:04:33.257806Z",
     "iopub.status.busy": "2024-12-19T19:04:33.257436Z",
     "iopub.status.idle": "2024-12-19T19:04:33.262197Z",
     "shell.execute_reply": "2024-12-19T19:04:33.261148Z"
    },
    "papermill": {
     "duration": 0.024382,
     "end_time": "2024-12-19T19:04:33.264319",
     "exception": false,
     "start_time": "2024-12-19T19:04:33.239937",
     "status": "completed"
    },
    "tags": []
   },
   "outputs": [],
   "source": [
    "#from lightgbm import LGBMClassifier\n",
    "\n",
    "#param_grid_ = {\n",
    " #   'num_leaves': [15, 31, 63],  \n",
    "  #  'learning_rate': [0.01, 0.1, 0.2],\n",
    "  #  'n_estimators': [50, 100, 200],  \n",
    "  #  'boosting_type': ['gbdt'], \n",
    "  #  'objective': ['binary'],  \n",
    "  #  'metric': ['binary_logloss'],\n",
    "#}\n",
    "\n",
    "#lightgbm_grid = GridSearchCV(\n",
    " #   estimator= LGBMClassifier(),\n",
    "  #  param_grid=param_grid_,\n",
    " #   cv=5, \n",
    " #   scoring='accuracy',\n",
    "  #  verbose=0,\n",
    "   # n_jobs=-1  \n",
    "#)\n",
    "#lightgbm_grid.fit(X_train_tfidf, y_train)\n",
    "\n",
    "#lightgbm_grid.best_params_"
   ]
  },
  {
   "cell_type": "code",
   "execution_count": 50,
   "id": "81f324a8",
   "metadata": {
    "execution": {
     "iopub.execute_input": "2024-12-19T19:04:33.299699Z",
     "iopub.status.busy": "2024-12-19T19:04:33.298662Z",
     "iopub.status.idle": "2024-12-19T19:04:33.303119Z",
     "shell.execute_reply": "2024-12-19T19:04:33.302266Z"
    },
    "papermill": {
     "duration": 0.024138,
     "end_time": "2024-12-19T19:04:33.305055",
     "exception": false,
     "start_time": "2024-12-19T19:04:33.280917",
     "status": "completed"
    },
    "tags": []
   },
   "outputs": [],
   "source": [
    "#y_hat = lightgbm_grid.best_estimator_.predict(X_test_tfidf)\n",
    "#about_model(\"lightgbm\", y_test , y_hat)"
   ]
  },
  {
   "cell_type": "code",
   "execution_count": null,
   "id": "2f1c84fc",
   "metadata": {
    "papermill": {
     "duration": 0.016286,
     "end_time": "2024-12-19T19:04:33.337967",
     "exception": false,
     "start_time": "2024-12-19T19:04:33.321681",
     "status": "completed"
    },
    "tags": []
   },
   "outputs": [],
   "source": []
  },
  {
   "cell_type": "code",
   "execution_count": null,
   "id": "2670f080",
   "metadata": {
    "papermill": {
     "duration": 0.016174,
     "end_time": "2024-12-19T19:04:33.370809",
     "exception": false,
     "start_time": "2024-12-19T19:04:33.354635",
     "status": "completed"
    },
    "tags": []
   },
   "outputs": [],
   "source": []
  },
  {
   "cell_type": "code",
   "execution_count": null,
   "id": "a8a4f530",
   "metadata": {
    "papermill": {
     "duration": 0.015909,
     "end_time": "2024-12-19T19:04:33.403102",
     "exception": false,
     "start_time": "2024-12-19T19:04:33.387193",
     "status": "completed"
    },
    "tags": []
   },
   "outputs": [],
   "source": []
  },
  {
   "cell_type": "code",
   "execution_count": null,
   "id": "a9590899",
   "metadata": {
    "papermill": {
     "duration": 0.016294,
     "end_time": "2024-12-19T19:04:33.435888",
     "exception": false,
     "start_time": "2024-12-19T19:04:33.419594",
     "status": "completed"
    },
    "tags": []
   },
   "outputs": [],
   "source": []
  }
 ],
 "metadata": {
  "kaggle": {
   "accelerator": "none",
   "dataSources": [
    {
     "datasetId": 6047175,
     "sourceId": 10210479,
     "sourceType": "datasetVersion"
    },
    {
     "datasetId": 6094692,
     "sourceId": 10210609,
     "sourceType": "datasetVersion"
    }
   ],
   "dockerImageVersionId": 30804,
   "isGpuEnabled": false,
   "isInternetEnabled": true,
   "language": "python",
   "sourceType": "notebook"
  },
  "kernelspec": {
   "display_name": "Python 3",
   "language": "python",
   "name": "python3"
  },
  "language_info": {
   "codemirror_mode": {
    "name": "ipython",
    "version": 3
   },
   "file_extension": ".py",
   "mimetype": "text/x-python",
   "name": "python",
   "nbconvert_exporter": "python",
   "pygments_lexer": "ipython3",
   "version": "3.10.14"
  },
  "papermill": {
   "default_parameters": {},
   "duration": 14606.893037,
   "end_time": "2024-12-19T19:04:36.173985",
   "environment_variables": {},
   "exception": null,
   "input_path": "__notebook__.ipynb",
   "output_path": "__notebook__.ipynb",
   "parameters": {},
   "start_time": "2024-12-19T15:01:09.280948",
   "version": "2.6.0"
  }
 },
 "nbformat": 4,
 "nbformat_minor": 5
}
