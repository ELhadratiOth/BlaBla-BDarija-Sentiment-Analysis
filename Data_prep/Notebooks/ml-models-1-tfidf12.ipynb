{
 "cells": [
  {
   "cell_type": "markdown",
   "id": "dcb6f216",
   "metadata": {
    "papermill": {
     "duration": 0.008357,
     "end_time": "2024-12-14T00:19:21.912743",
     "exception": false,
     "start_time": "2024-12-14T00:19:21.904386",
     "status": "completed"
    },
    "tags": []
   },
   "source": [
    "# Darija Text Classification using ML Algorithms\n"
   ]
  },
  {
   "cell_type": "markdown",
   "id": "1ccc6b13",
   "metadata": {
    "papermill": {
     "duration": 0.007831,
     "end_time": "2024-12-14T00:19:21.927947",
     "exception": false,
     "start_time": "2024-12-14T00:19:21.920116",
     "status": "completed"
    },
    "tags": []
   },
   "source": [
    "## Setup and Data Loading\n",
    "In this section, we:\n",
    "- Import required libraries\n",
    "- Load and prepare our Darija dataset\n",
    "- Set up configuration parameters"
   ]
  },
  {
   "cell_type": "code",
   "execution_count": 1,
   "id": "0aba01b5",
   "metadata": {
    "execution": {
     "iopub.execute_input": "2024-12-14T00:19:21.943974Z",
     "iopub.status.busy": "2024-12-14T00:19:21.943662Z",
     "iopub.status.idle": "2024-12-14T00:19:21.960145Z",
     "shell.execute_reply": "2024-12-14T00:19:21.959238Z"
    },
    "papermill": {
     "duration": 0.026528,
     "end_time": "2024-12-14T00:19:21.961719",
     "exception": false,
     "start_time": "2024-12-14T00:19:21.935191",
     "status": "completed"
    },
    "tags": []
   },
   "outputs": [
    {
     "name": "stdout",
     "output_type": "stream",
     "text": [
      "Current working directory: /kaggle/input/ma-datasets\n",
      "Directory contents: ['suf_pref_darija.json', 'stop_words_accum.json', 'set2.csv', 'set7.csv', 'set5.csv', 'darija_latin_ref.json', 'set4.csv', 'scaped_comments.csv', 'set3.csv', 'cleaned_clustered_data.csv', 'set1.csv']\n"
     ]
    }
   ],
   "source": [
    "import os \n",
    "os.chdir('/kaggle/input/ma-datasets') \n",
    "current_directory = os.getcwd()\n",
    "print(\"Current working directory:\", current_directory)\n",
    "contents = os.listdir()\n",
    "print(\"Directory contents:\", contents)"
   ]
  },
  {
   "cell_type": "code",
   "execution_count": 2,
   "id": "71b3a3a7",
   "metadata": {
    "execution": {
     "iopub.execute_input": "2024-12-14T00:19:21.978393Z",
     "iopub.status.busy": "2024-12-14T00:19:21.978082Z",
     "iopub.status.idle": "2024-12-14T00:19:31.537697Z",
     "shell.execute_reply": "2024-12-14T00:19:31.536845Z"
    },
    "papermill": {
     "duration": 9.569859,
     "end_time": "2024-12-14T00:19:31.539454",
     "exception": false,
     "start_time": "2024-12-14T00:19:21.969595",
     "status": "completed"
    },
    "tags": []
   },
   "outputs": [
    {
     "name": "stdout",
     "output_type": "stream",
     "text": [
      "Requirement already satisfied: pandas in /opt/conda/lib/python3.10/site-packages (2.2.3)\r\n",
      "Requirement already satisfied: PyArabic in /opt/conda/lib/python3.10/site-packages (0.6.15)\r\n",
      "Collecting Tashaphyne\r\n",
      "  Downloading Tashaphyne-0.3.6-py3-none-any.whl.metadata (18 kB)\r\n",
      "Collecting pydoda\r\n",
      "  Downloading pydoda-1.2.1-py3-none-any.whl.metadata (5.8 kB)\r\n",
      "Collecting Arabic-Stopwords\r\n",
      "  Downloading Arabic_Stopwords-0.4.3-py3-none-any.whl.metadata (8.9 kB)\r\n",
      "Requirement already satisfied: seaborn in /opt/conda/lib/python3.10/site-packages (0.12.2)\r\n",
      "Requirement already satisfied: scikit-learn in /opt/conda/lib/python3.10/site-packages (1.2.2)\r\n",
      "Requirement already satisfied: emoji in /opt/conda/lib/python3.10/site-packages (2.13.2)\r\n",
      "Requirement already satisfied: xgboost in /opt/conda/lib/python3.10/site-packages (2.0.3)\r\n",
      "Requirement already satisfied: lightgbm in /opt/conda/lib/python3.10/site-packages (4.2.0)\r\n",
      "Requirement already satisfied: numpy>=1.22.4 in /opt/conda/lib/python3.10/site-packages (from pandas) (1.26.4)\r\n",
      "Requirement already satisfied: python-dateutil>=2.8.2 in /opt/conda/lib/python3.10/site-packages (from pandas) (2.9.0.post0)\r\n",
      "Requirement already satisfied: pytz>=2020.1 in /opt/conda/lib/python3.10/site-packages (from pandas) (2024.1)\r\n",
      "Requirement already satisfied: tzdata>=2022.7 in /opt/conda/lib/python3.10/site-packages (from pandas) (2024.1)\r\n",
      "Requirement already satisfied: six>=1.14.0 in /opt/conda/lib/python3.10/site-packages (from PyArabic) (1.16.0)\r\n",
      "Requirement already satisfied: matplotlib!=3.6.1,>=3.1 in /opt/conda/lib/python3.10/site-packages (from seaborn) (3.7.5)\r\n",
      "Requirement already satisfied: scipy>=1.3.2 in /opt/conda/lib/python3.10/site-packages (from scikit-learn) (1.14.1)\r\n",
      "Requirement already satisfied: joblib>=1.1.1 in /opt/conda/lib/python3.10/site-packages (from scikit-learn) (1.4.2)\r\n",
      "Requirement already satisfied: threadpoolctl>=2.0.0 in /opt/conda/lib/python3.10/site-packages (from scikit-learn) (3.5.0)\r\n",
      "Requirement already satisfied: contourpy>=1.0.1 in /opt/conda/lib/python3.10/site-packages (from matplotlib!=3.6.1,>=3.1->seaborn) (1.2.1)\r\n",
      "Requirement already satisfied: cycler>=0.10 in /opt/conda/lib/python3.10/site-packages (from matplotlib!=3.6.1,>=3.1->seaborn) (0.12.1)\r\n",
      "Requirement already satisfied: fonttools>=4.22.0 in /opt/conda/lib/python3.10/site-packages (from matplotlib!=3.6.1,>=3.1->seaborn) (4.53.0)\r\n",
      "Requirement already satisfied: kiwisolver>=1.0.1 in /opt/conda/lib/python3.10/site-packages (from matplotlib!=3.6.1,>=3.1->seaborn) (1.4.5)\r\n",
      "Requirement already satisfied: packaging>=20.0 in /opt/conda/lib/python3.10/site-packages (from matplotlib!=3.6.1,>=3.1->seaborn) (21.3)\r\n",
      "Requirement already satisfied: pillow>=6.2.0 in /opt/conda/lib/python3.10/site-packages (from matplotlib!=3.6.1,>=3.1->seaborn) (10.3.0)\r\n",
      "Requirement already satisfied: pyparsing>=2.3.1 in /opt/conda/lib/python3.10/site-packages (from matplotlib!=3.6.1,>=3.1->seaborn) (3.1.2)\r\n",
      "Downloading Tashaphyne-0.3.6-py3-none-any.whl (251 kB)\r\n",
      "\u001b[2K   \u001b[90m━━━━━━━━━━━━━━━━━━━━━━━━━━━━━━━━━━━━━━━━\u001b[0m \u001b[32m251.5/251.5 kB\u001b[0m \u001b[31m11.4 MB/s\u001b[0m eta \u001b[36m0:00:00\u001b[0m\r\n",
      "\u001b[?25hDownloading pydoda-1.2.1-py3-none-any.whl (4.1 MB)\r\n",
      "\u001b[2K   \u001b[90m━━━━━━━━━━━━━━━━━━━━━━━━━━━━━━━━━━━━━━━━\u001b[0m \u001b[32m4.1/4.1 MB\u001b[0m \u001b[31m76.2 MB/s\u001b[0m eta \u001b[36m0:00:00\u001b[0m\r\n",
      "\u001b[?25hDownloading Arabic_Stopwords-0.4.3-py3-none-any.whl (360 kB)\r\n",
      "\u001b[2K   \u001b[90m━━━━━━━━━━━━━━━━━━━━━━━━━━━━━━━━━━━━━━━━\u001b[0m \u001b[32m360.5/360.5 kB\u001b[0m \u001b[31m21.6 MB/s\u001b[0m eta \u001b[36m0:00:00\u001b[0m\r\n",
      "\u001b[?25hInstalling collected packages: Tashaphyne, Arabic-Stopwords, pydoda\r\n",
      "Successfully installed Arabic-Stopwords-0.4.3 Tashaphyne-0.3.6 pydoda-1.2.1\r\n"
     ]
    }
   ],
   "source": [
    "!pip install pandas PyArabic Tashaphyne pydoda Arabic-Stopwords seaborn scikit-learn emoji xgboost lightgbm "
   ]
  },
  {
   "cell_type": "code",
   "execution_count": 3,
   "id": "38921610",
   "metadata": {
    "execution": {
     "iopub.execute_input": "2024-12-14T00:19:31.557060Z",
     "iopub.status.busy": "2024-12-14T00:19:31.556755Z",
     "iopub.status.idle": "2024-12-14T00:19:33.350576Z",
     "shell.execute_reply": "2024-12-14T00:19:33.349792Z"
    },
    "papermill": {
     "duration": 1.804389,
     "end_time": "2024-12-14T00:19:33.352216",
     "exception": false,
     "start_time": "2024-12-14T00:19:31.547827",
     "status": "completed"
    },
    "tags": []
   },
   "outputs": [],
   "source": [
    "import pandas as pd\n",
    "from sklearn.model_selection import GridSearchCV\n",
    "import re\n",
    "from tashaphyne.stemming import ArabicLightStemmer\n",
    "import json\n",
    "import emoji \n"
   ]
  },
  {
   "cell_type": "code",
   "execution_count": 4,
   "id": "46f654c2",
   "metadata": {
    "execution": {
     "iopub.execute_input": "2024-12-14T00:19:33.369610Z",
     "iopub.status.busy": "2024-12-14T00:19:33.369248Z",
     "iopub.status.idle": "2024-12-14T00:19:33.605114Z",
     "shell.execute_reply": "2024-12-14T00:19:33.604434Z"
    },
    "papermill": {
     "duration": 0.246264,
     "end_time": "2024-12-14T00:19:33.606774",
     "exception": false,
     "start_time": "2024-12-14T00:19:33.360510",
     "status": "completed"
    },
    "tags": []
   },
   "outputs": [],
   "source": [
    "df = pd.read_csv(\"/kaggle/input/dataset/dataset (16).csv\")"
   ]
  },
  {
   "cell_type": "markdown",
   "id": "cfd8ad19",
   "metadata": {
    "papermill": {
     "duration": 0.007666,
     "end_time": "2024-12-14T00:19:33.622585",
     "exception": false,
     "start_time": "2024-12-14T00:19:33.614919",
     "status": "completed"
    },
    "tags": []
   },
   "source": [
    "## Data Preprocessing\n",
    "Key preprocessing steps for Darija text:\n",
    "- Text cleaning and normalization\n",
    "- Feature extraction\n",
    "- Train-test split\n"
   ]
  },
  {
   "cell_type": "code",
   "execution_count": 5,
   "id": "b012b541",
   "metadata": {
    "execution": {
     "iopub.execute_input": "2024-12-14T00:19:33.639511Z",
     "iopub.status.busy": "2024-12-14T00:19:33.639185Z",
     "iopub.status.idle": "2024-12-14T00:19:33.646130Z",
     "shell.execute_reply": "2024-12-14T00:19:33.645384Z"
    },
    "papermill": {
     "duration": 0.017227,
     "end_time": "2024-12-14T00:19:33.647598",
     "exception": false,
     "start_time": "2024-12-14T00:19:33.630371",
     "status": "completed"
    },
    "tags": []
   },
   "outputs": [],
   "source": [
    "darija_alphabet = {\n",
    "    \"gh\": \"غ\",\n",
    "    \"sh\": \"ش\",\n",
    "    \"ch\": \"ش\",\n",
    "    \"ss\": \"س\",\n",
    "    \"kh\": \"خ\",\n",
    "    \"ç\": \"س\",\n",
    "    \"ou\": \"و\",    \n",
    "    \"ei\": \"ي\",    \n",
    "    \"ay\": \"ي\",    \n",
    "    \"ae\": \"ي\",   \n",
    "    \"5\": \"خ\",     \n",
    "    \"2\": \"ا\",    \n",
    "    \"b\": \"ب\",\n",
    "    \"t\": \"ت\",\n",
    "    \"j\": \"ج\",\n",
    "    \"7\": \"ح\",\n",
    "    \"d\": \"د\",\n",
    "    \"r\": \"ر\",\n",
    "    \"z\": \"ز\",\n",
    "    \"s\": \"س\",\n",
    "    \"9\": \"ق\",\n",
    "    \"3\": \"ع\",\n",
    "    \"4\": \"غ\",\n",
    "    \"f\": \"ف\",\n",
    "    \"q\": \"ك\",\n",
    "    \"k\": \"ك\",\n",
    "    \"l\": \"ل\",\n",
    "    \"m\": \"م\",\n",
    "    \"n\": \"ن\",\n",
    "    \"h\": \"ه\",\n",
    "    \"w\": \"و\",\n",
    "    \"y\": \"ي\",\n",
    "    \"g\": \"ڭ\",\n",
    "    'i': 'ي',\n",
    "    'ee': 'ي',\n",
    "    'aa': 'ا',\n",
    "    'oo': 'و',\n",
    "    'o': 'و',\n",
    "    \"x\": \"ش\",\n",
    "}\n",
    "word_in = [\n",
    "    \"ء\", \"أ\", \"إ\", \"آ\", \"ؤ\", \"ئ\", \"ة\", \"ى\",\"-\", \"/\", \".\", \"،\", '\"', \"'\", \"\\\\\", \"?\", \"؟\", \"!\", \"،\", \"؛\",\":\",\"#\", \"@\", \"&\", \"=\", \"¥\", \"$\", \"%\", \"*\", \"+\", \"<\", \">\", \"|\", \"~\", \"^\", \n",
    "    \"\\n\", \"\\t\", \"\\r\", \" و\",\"ذ\", \"ظ\", \"ض\", \"ص\",\"(\", \")\", \"[\", \"]\", \"{\", \"}\", \"《\", \"》\", \"«\", \"»\"\n",
    "]\n",
    "\n",
    "replaced_by = [\n",
    "    \"ا\", \"ا\", \"ا\", \"ا\", \"ا\", \"ا\", \"ه\", \"ي\",\" \", \"\", \"\", \"\", \"\", \"\", \"\", \" ? \", \" ؟ \", \" ! \", \"\", \"\", \"\",\n",
    "    \"\", \"\", \"\", \"\", \"\", \"\", \"\", \"\", \"\", \"\", \"\", \"\", \"\", \"\",\" \", \" \", \" \", \"\",\n",
    "    \"د\", \"د\", \"د\", \"س\",\"\", \"\", \"\", \"\", \"\", \"\", \"\", \"\", \"\", \"\"\n",
    "]\n",
    "\n",
    "arabic_alphabet = \"ابتثجحخدذرزسشصضطظعغفقكلمنهوي\""
   ]
  },
  {
   "cell_type": "code",
   "execution_count": 6,
   "id": "68da96cc",
   "metadata": {
    "execution": {
     "iopub.execute_input": "2024-12-14T00:19:33.664657Z",
     "iopub.status.busy": "2024-12-14T00:19:33.664368Z",
     "iopub.status.idle": "2024-12-14T00:19:33.667965Z",
     "shell.execute_reply": "2024-12-14T00:19:33.667314Z"
    },
    "papermill": {
     "duration": 0.013392,
     "end_time": "2024-12-14T00:19:33.669258",
     "exception": false,
     "start_time": "2024-12-14T00:19:33.655866",
     "status": "completed"
    },
    "tags": []
   },
   "outputs": [],
   "source": [
    "from pyarabic.araby import strip_diacritics\n",
    "#remove tashkeel\n",
    "def removing_tashkeel(word): # useed\n",
    "          return strip_diacritics(word)"
   ]
  },
  {
   "cell_type": "code",
   "execution_count": 7,
   "id": "ad2e6c8c",
   "metadata": {
    "execution": {
     "iopub.execute_input": "2024-12-14T00:19:33.686108Z",
     "iopub.status.busy": "2024-12-14T00:19:33.685904Z",
     "iopub.status.idle": "2024-12-14T00:19:33.689283Z",
     "shell.execute_reply": "2024-12-14T00:19:33.688616Z"
    },
    "papermill": {
     "duration": 0.01335,
     "end_time": "2024-12-14T00:19:33.690633",
     "exception": false,
     "start_time": "2024-12-14T00:19:33.677283",
     "status": "completed"
    },
    "tags": []
   },
   "outputs": [],
   "source": [
    "from pyarabic.araby import strip_tatweel\n",
    "\n",
    "#remove tatweel l2imdad\n",
    "def removing_tatweel(word): # useed\n",
    "          return strip_tatweel(word)"
   ]
  },
  {
   "cell_type": "code",
   "execution_count": 8,
   "id": "87708248",
   "metadata": {
    "execution": {
     "iopub.execute_input": "2024-12-14T00:19:33.708377Z",
     "iopub.status.busy": "2024-12-14T00:19:33.708052Z",
     "iopub.status.idle": "2024-12-14T00:19:33.711755Z",
     "shell.execute_reply": "2024-12-14T00:19:33.711117Z"
    },
    "papermill": {
     "duration": 0.013795,
     "end_time": "2024-12-14T00:19:33.712986",
     "exception": false,
     "start_time": "2024-12-14T00:19:33.699191",
     "status": "completed"
    },
    "tags": []
   },
   "outputs": [],
   "source": [
    "from pyarabic.araby import normalize_ligature\n",
    "\n",
    "#remove ligature hamza , alef \n",
    "def removing_ligature(word): # not used \n",
    "          return normalize_ligature(word)"
   ]
  },
  {
   "cell_type": "code",
   "execution_count": 9,
   "id": "3bf4d8eb",
   "metadata": {
    "execution": {
     "iopub.execute_input": "2024-12-14T00:19:33.729829Z",
     "iopub.status.busy": "2024-12-14T00:19:33.729572Z",
     "iopub.status.idle": "2024-12-14T00:19:33.733066Z",
     "shell.execute_reply": "2024-12-14T00:19:33.732414Z"
    },
    "papermill": {
     "duration": 0.013432,
     "end_time": "2024-12-14T00:19:33.734364",
     "exception": false,
     "start_time": "2024-12-14T00:19:33.720932",
     "status": "completed"
    },
    "tags": []
   },
   "outputs": [],
   "source": [
    "# remove underscore\n",
    "def replace_underscore(word): # useed\n",
    "          return word.replace(\"_\", \" \")"
   ]
  },
  {
   "cell_type": "code",
   "execution_count": 10,
   "id": "382c01fc",
   "metadata": {
    "execution": {
     "iopub.execute_input": "2024-12-14T00:19:33.752149Z",
     "iopub.status.busy": "2024-12-14T00:19:33.751925Z",
     "iopub.status.idle": "2024-12-14T00:19:33.755420Z",
     "shell.execute_reply": "2024-12-14T00:19:33.754775Z"
    },
    "papermill": {
     "duration": 0.01355,
     "end_time": "2024-12-14T00:19:33.756683",
     "exception": false,
     "start_time": "2024-12-14T00:19:33.743133",
     "status": "completed"
    },
    "tags": []
   },
   "outputs": [],
   "source": [
    "import pyarabic.araby as araby\n",
    "\n",
    "# remove hamza ambiguity\n",
    "def remove_ambiguity_hamza(word): # useed\n",
    "          return araby.normalize_hamza(word)"
   ]
  },
  {
   "cell_type": "code",
   "execution_count": 11,
   "id": "f3cbae08",
   "metadata": {
    "execution": {
     "iopub.execute_input": "2024-12-14T00:19:33.773379Z",
     "iopub.status.busy": "2024-12-14T00:19:33.773172Z",
     "iopub.status.idle": "2024-12-14T00:19:33.776400Z",
     "shell.execute_reply": "2024-12-14T00:19:33.775738Z"
    },
    "papermill": {
     "duration": 0.013112,
     "end_time": "2024-12-14T00:19:33.777808",
     "exception": false,
     "start_time": "2024-12-14T00:19:33.764696",
     "status": "completed"
    },
    "tags": []
   },
   "outputs": [],
   "source": [
    "# romove \"AL\"\n",
    "def remove_AL(word): # useed\n",
    "          return re.sub(r'^ال', '', word)"
   ]
  },
  {
   "cell_type": "code",
   "execution_count": 12,
   "id": "1455bea5",
   "metadata": {
    "execution": {
     "iopub.execute_input": "2024-12-14T00:19:33.795527Z",
     "iopub.status.busy": "2024-12-14T00:19:33.795229Z",
     "iopub.status.idle": "2024-12-14T00:19:33.800395Z",
     "shell.execute_reply": "2024-12-14T00:19:33.799775Z"
    },
    "papermill": {
     "duration": 0.015074,
     "end_time": "2024-12-14T00:19:33.801657",
     "exception": false,
     "start_time": "2024-12-14T00:19:33.786583",
     "status": "completed"
    },
    "tags": []
   },
   "outputs": [],
   "source": [
    "# remove repeated characters      \n",
    "def word_remover(word): # useed\n",
    "            if len(word) == 1 or len(word) == 0 or len(word) >= 13:\n",
    "                return \"\"                \n",
    "            else :\n",
    "                # print(word)\n",
    "                for a7rf in arabic_alphabet:\n",
    "                    if a7rf == 'د' or a7rf == 'ه':\n",
    "                        word = re.sub(fr'{a7rf}{{3,}}', a7rf * 2, word).strip()\n",
    "                    else:\n",
    "                        word = re.sub(fr'{a7rf}+', a7rf, word).strip()\n",
    "                # print(word) \n",
    "                for i in range(len(word)):\n",
    "                    if word[i] in word_in:\n",
    "                        index = word_in.index(word[i])\n",
    "                        word = word[:i] + replaced_by[index] + word[i + 1:]\n",
    "\n",
    "                return word\n"
   ]
  },
  {
   "cell_type": "code",
   "execution_count": 13,
   "id": "ed891fc0",
   "metadata": {
    "execution": {
     "iopub.execute_input": "2024-12-14T00:19:33.818539Z",
     "iopub.status.busy": "2024-12-14T00:19:33.818296Z",
     "iopub.status.idle": "2024-12-14T00:19:33.821839Z",
     "shell.execute_reply": "2024-12-14T00:19:33.821208Z"
    },
    "papermill": {
     "duration": 0.013329,
     "end_time": "2024-12-14T00:19:33.823056",
     "exception": false,
     "start_time": "2024-12-14T00:19:33.809727",
     "status": "completed"
    },
    "tags": []
   },
   "outputs": [],
   "source": [
    "# remove emails  \n",
    "def remove_url(text): # useed\n",
    "    text = re.sub(r'(https|http)?:\\/\\/(\\w|\\.|\\/|\\?|\\=|\\&|\\%)*\\b',\n",
    "                  '', text, flags=re.MULTILINE)\n",
    "    return text      \n",
    " "
   ]
  },
  {
   "cell_type": "code",
   "execution_count": 14,
   "id": "11e3be25",
   "metadata": {
    "execution": {
     "iopub.execute_input": "2024-12-14T00:19:33.839889Z",
     "iopub.status.busy": "2024-12-14T00:19:33.839664Z",
     "iopub.status.idle": "2024-12-14T00:19:33.843221Z",
     "shell.execute_reply": "2024-12-14T00:19:33.842580Z"
    },
    "papermill": {
     "duration": 0.013697,
     "end_time": "2024-12-14T00:19:33.844652",
     "exception": false,
     "start_time": "2024-12-14T00:19:33.830955",
     "status": "completed"
    },
    "tags": []
   },
   "outputs": [],
   "source": [
    " # remove emails     \n",
    "def remove_emails(text): # useed\n",
    "    text = re.sub(r'[a-zA-Z0-9._%+-]+@[a-zA-Z0-9.-]+\\.[a-zA-Z]{2,}', '', text, flags=re.MULTILINE)\n",
    "    return text  "
   ]
  },
  {
   "cell_type": "code",
   "execution_count": 15,
   "id": "6b3a2cc1",
   "metadata": {
    "execution": {
     "iopub.execute_input": "2024-12-14T00:19:33.862734Z",
     "iopub.status.busy": "2024-12-14T00:19:33.862495Z",
     "iopub.status.idle": "2024-12-14T00:19:33.866744Z",
     "shell.execute_reply": "2024-12-14T00:19:33.866061Z"
    },
    "papermill": {
     "duration": 0.014569,
     "end_time": "2024-12-14T00:19:33.868079",
     "exception": false,
     "start_time": "2024-12-14T00:19:33.853510",
     "status": "completed"
    },
    "tags": []
   },
   "outputs": [],
   "source": [
    "def special_tags_and_ponctuations(text):  # Function to clean special tags\n",
    "    text = re.sub(r'&amp;', '', text) \n",
    "    text = re.sub(r'&quot;', '', text)  \n",
    "    text = re.sub(r'!+', '!', text)\n",
    "    text = re.sub(r'\\?+', '?', text)\n",
    "    text = re.sub(r'\\.+', '.', text)\n",
    "\n",
    "    return text"
   ]
  },
  {
   "cell_type": "code",
   "execution_count": 16,
   "id": "50f5c0c3",
   "metadata": {
    "execution": {
     "iopub.execute_input": "2024-12-14T00:19:33.887467Z",
     "iopub.status.busy": "2024-12-14T00:19:33.886731Z",
     "iopub.status.idle": "2024-12-14T00:19:33.890811Z",
     "shell.execute_reply": "2024-12-14T00:19:33.889954Z"
    },
    "papermill": {
     "duration": 0.015514,
     "end_time": "2024-12-14T00:19:33.892179",
     "exception": false,
     "start_time": "2024-12-14T00:19:33.876665",
     "status": "completed"
    },
    "tags": []
   },
   "outputs": [],
   "source": [
    "def remove_html_tags(text):\n",
    "    text = re.sub(r'<[^>]+>', '', text)\n",
    "    return text"
   ]
  },
  {
   "cell_type": "code",
   "execution_count": 17,
   "id": "5ea6f8b0",
   "metadata": {
    "execution": {
     "iopub.execute_input": "2024-12-14T00:19:33.909689Z",
     "iopub.status.busy": "2024-12-14T00:19:33.909390Z",
     "iopub.status.idle": "2024-12-14T00:19:33.913273Z",
     "shell.execute_reply": "2024-12-14T00:19:33.912610Z"
    },
    "papermill": {
     "duration": 0.014493,
     "end_time": "2024-12-14T00:19:33.915107",
     "exception": false,
     "start_time": "2024-12-14T00:19:33.900614",
     "status": "completed"
    },
    "tags": []
   },
   "outputs": [],
   "source": [
    "# hundle emojis\n",
    "def extend_spletting(items):  # helper function to split items\n",
    "    spletting = []\n",
    "    for item in items:\n",
    "        spletting.extend(item.split())\n",
    "    return spletting"
   ]
  },
  {
   "cell_type": "code",
   "execution_count": 18,
   "id": "8850a052",
   "metadata": {
    "execution": {
     "iopub.execute_input": "2024-12-14T00:19:33.932822Z",
     "iopub.status.busy": "2024-12-14T00:19:33.932598Z",
     "iopub.status.idle": "2024-12-14T00:19:33.936206Z",
     "shell.execute_reply": "2024-12-14T00:19:33.935586Z"
    },
    "papermill": {
     "duration": 0.013633,
     "end_time": "2024-12-14T00:19:33.937430",
     "exception": false,
     "start_time": "2024-12-14T00:19:33.923797",
     "status": "completed"
    },
    "tags": []
   },
   "outputs": [],
   "source": [
    "def emoji_hundler(word):  # helper function to handle emojis\n",
    "    word = emoji.demojize(word, language='ar')\n",
    "    word = replace_underscore(word)[1:-1]\n",
    "    return word"
   ]
  },
  {
   "cell_type": "code",
   "execution_count": 19,
   "id": "a5a401bc",
   "metadata": {
    "execution": {
     "iopub.execute_input": "2024-12-14T00:19:33.955060Z",
     "iopub.status.busy": "2024-12-14T00:19:33.954233Z",
     "iopub.status.idle": "2024-12-14T00:19:33.959729Z",
     "shell.execute_reply": "2024-12-14T00:19:33.959003Z"
    },
    "papermill": {
     "duration": 0.015626,
     "end_time": "2024-12-14T00:19:33.961069",
     "exception": false,
     "start_time": "2024-12-14T00:19:33.945443",
     "status": "completed"
    },
    "tags": []
   },
   "outputs": [],
   "source": [
    "def is_an_emoji(word):\n",
    "    emoji_pattern = re.compile(\"[\"  \n",
    "                               u\"\\U0001F680-\\U0001F6FF\"  # transport and map unicods\n",
    "                               u\"\\U0001F1E0-\\U0001F1FF\"  # flags unicods\n",
    "                               \"]+\", flags=re.UNICODE)\n",
    "\n",
    "    if emoji.is_emoji(word):\n",
    "        word = emoji_pattern.sub(r'', word)\n",
    "        return extend_spletting([emoji_hundler(word)])\n",
    "\n",
    "    elif emoji.purely_emoji(word):\n",
    "        data_of_emojis = emoji.distinct_emoji_list(word)\n",
    "        data = [emoji_hundler(emoji_pattern.sub(r'', item)) for item in data_of_emojis]\n",
    "        return extend_spletting(data)\n",
    "\n",
    "    else:\n",
    "        text_only = re.sub(r'[^\\w\\s?!]', '', word)\n",
    "        data_of_emojis = emoji.distinct_emoji_list(word)\n",
    "        emojis = [emoji_hundler(emoji_pattern.sub(r'', item)) for item in data_of_emojis]\n",
    "        \n",
    "        return [text_only] + extend_spletting(emojis)\n"
   ]
  },
  {
   "cell_type": "code",
   "execution_count": 20,
   "id": "38a85f8c",
   "metadata": {
    "execution": {
     "iopub.execute_input": "2024-12-14T00:19:33.977969Z",
     "iopub.status.busy": "2024-12-14T00:19:33.977716Z",
     "iopub.status.idle": "2024-12-14T00:19:33.982439Z",
     "shell.execute_reply": "2024-12-14T00:19:33.981720Z"
    },
    "papermill": {
     "duration": 0.014733,
     "end_time": "2024-12-14T00:19:33.983796",
     "exception": false,
     "start_time": "2024-12-14T00:19:33.969063",
     "status": "completed"
    },
    "tags": []
   },
   "outputs": [],
   "source": [
    "# tramslating darija(latin) to daruja(arabic)\n",
    "def translate_darija_to_arabic(word): # useed\n",
    "    # print(\"test\")\n",
    "    word = word.lower()\n",
    "    if  bool(re.compile(r\"[a-z0-9']+\").search(word)):\n",
    "        arabic_word = \"\"\n",
    "        i = 0\n",
    "        while i < len(word):\n",
    "            # print('sadd')\n",
    "            if i + 1 < len(word) and word[i:i+2] in darija_alphabet: # Check for 2 lettrs\n",
    "                arabic_word += darija_alphabet[word[i:i+2]]\n",
    "                i += 2\n",
    "            elif word[i] in darija_alphabet:\n",
    "                arabic_word += darija_alphabet[word[i]]\n",
    "                i += 1\n",
    "            else:\n",
    "                i += 1\n",
    "        return arabic_word\n",
    "    return word\n",
    "      "
   ]
  },
  {
   "cell_type": "code",
   "execution_count": 21,
   "id": "04025c15",
   "metadata": {
    "execution": {
     "iopub.execute_input": "2024-12-14T00:19:34.001172Z",
     "iopub.status.busy": "2024-12-14T00:19:34.000899Z",
     "iopub.status.idle": "2024-12-14T00:19:34.004785Z",
     "shell.execute_reply": "2024-12-14T00:19:34.003985Z"
    },
    "papermill": {
     "duration": 0.013897,
     "end_time": "2024-12-14T00:19:34.006002",
     "exception": false,
     "start_time": "2024-12-14T00:19:33.992105",
     "status": "completed"
    },
    "tags": []
   },
   "outputs": [],
   "source": [
    "# remove  number arabic and latin\n",
    "def number_remov(listy): # useed\n",
    "    number_pattern = re.compile(r'^[0-9\\u0660-\\u0669]+$')\n",
    "    cleaned_list = [item for item in listy if not number_pattern.fullmatch(item)] \n",
    "    return cleaned_list   "
   ]
  },
  {
   "cell_type": "code",
   "execution_count": 22,
   "id": "dff552cf",
   "metadata": {
    "execution": {
     "iopub.execute_input": "2024-12-14T00:19:34.022937Z",
     "iopub.status.busy": "2024-12-14T00:19:34.022316Z",
     "iopub.status.idle": "2024-12-14T00:19:34.026575Z",
     "shell.execute_reply": "2024-12-14T00:19:34.025953Z"
    },
    "papermill": {
     "duration": 0.014038,
     "end_time": "2024-12-14T00:19:34.027831",
     "exception": false,
     "start_time": "2024-12-14T00:19:34.013793",
     "status": "completed"
    },
    "tags": []
   },
   "outputs": [],
   "source": [
    "#stemming arabic words     \n",
    "def stemming_darija(word):\n",
    "    # file = \"./Data_prep/suf_pref_darija.json\" # local run\n",
    "    file = \"suf_pref_darija.json\" \n",
    "\n",
    "    with open(file, 'r', encoding='utf-8') as json_file:\n",
    "        suf_pref = json.load(json_file)\n",
    "\n",
    "    ArListem = ArabicLightStemmer()\n",
    "    ArListem.set_prefix_list(suf_pref['darija_prefixes'])\n",
    "    ArListem.set_suffix_list(suf_pref['darija_suffixes'])\n",
    "    ArListem.light_stem(word)  \n",
    "    return ArListem.get_stem() "
   ]
  },
  {
   "cell_type": "code",
   "execution_count": 23,
   "id": "249687fd",
   "metadata": {
    "execution": {
     "iopub.execute_input": "2024-12-14T00:19:34.044643Z",
     "iopub.status.busy": "2024-12-14T00:19:34.044385Z",
     "iopub.status.idle": "2024-12-14T00:19:34.048006Z",
     "shell.execute_reply": "2024-12-14T00:19:34.047274Z"
    },
    "papermill": {
     "duration": 0.013597,
     "end_time": "2024-12-14T00:19:34.049335",
     "exception": false,
     "start_time": "2024-12-14T00:19:34.035738",
     "status": "completed"
    },
    "tags": []
   },
   "outputs": [],
   "source": [
    "# \"03:44\"\n",
    "def remove_yt_timers(text):\n",
    "    pattern = r'\\b\\d{1,2}:\\d{2,3}(:\\d{2,3})?\\b'\n",
    "    text = re.sub(pattern, '', text)\n",
    "    return text.strip()"
   ]
  },
  {
   "cell_type": "code",
   "execution_count": 24,
   "id": "8f1f2d97",
   "metadata": {
    "execution": {
     "iopub.execute_input": "2024-12-14T00:19:34.066218Z",
     "iopub.status.busy": "2024-12-14T00:19:34.065959Z",
     "iopub.status.idle": "2024-12-14T00:19:34.069639Z",
     "shell.execute_reply": "2024-12-14T00:19:34.069006Z"
    },
    "papermill": {
     "duration": 0.014036,
     "end_time": "2024-12-14T00:19:34.071271",
     "exception": false,
     "start_time": "2024-12-14T00:19:34.057235",
     "status": "completed"
    },
    "tags": []
   },
   "outputs": [],
   "source": [
    "\n",
    "def preproc_arab_sentence(word): # main function for  arab processing tokens\n",
    "    word = removing_tashkeel(word)\n",
    "    word = removing_tatweel(word)\n",
    "    word = remove_AL(word)\n",
    "    # word = remove_ambiguity_hamza(word)\n",
    "    word = word_remover(word)\n",
    "    return word\n"
   ]
  },
  {
   "cell_type": "code",
   "execution_count": 25,
   "id": "c2bf5eef",
   "metadata": {
    "execution": {
     "iopub.execute_input": "2024-12-14T00:19:34.089080Z",
     "iopub.status.busy": "2024-12-14T00:19:34.088799Z",
     "iopub.status.idle": "2024-12-14T00:19:34.095193Z",
     "shell.execute_reply": "2024-12-14T00:19:34.094471Z"
    },
    "papermill": {
     "duration": 0.01657,
     "end_time": "2024-12-14T00:19:34.096542",
     "exception": false,
     "start_time": "2024-12-14T00:19:34.079972",
     "status": "completed"
    },
    "tags": []
   },
   "outputs": [],
   "source": [
    "from pyarabic.araby import tokenize\n",
    "def tokenize_arab_text(text):\n",
    "            # with open('./Data_prep/stop_words_accum.json', 'r', encoding='utf-8') as file: #  local run \n",
    "            with open('./stop_words_accum.json', 'r', encoding='utf-8') as file:\n",
    "\n",
    "                stop_words = json.load(file)\n",
    "\n",
    "            # with open('./Data_prep/darija_latin_ref.json', 'r', encoding='utf-8') as file: #  local run \n",
    "            with open('./darija_latin_ref.json', 'r', encoding='utf-8') as file:\n",
    "                \n",
    "                darija_latin_ref = json.load(file)\n",
    "          \n",
    "            #print(text)\n",
    "            text = remove_url(text)\n",
    "            text = remove_emails(text)\n",
    "            text = replace_underscore(text)\n",
    "            text = remove_html_tags(text)\n",
    "            text = remove_yt_timers(text)\n",
    "            text = special_tags_and_ponctuations(text)\n",
    "            #tokenization\n",
    "            print(text)\n",
    "            words = tokenize(text)\n",
    "            print(words)\n",
    "            words = [ translate_darija_to_arabic(word) for word in words if word not in darija_latin_ref]\n",
    "            print(words)\n",
    "            words = [is_an_emoji(word) for word in words] \n",
    "            words = [item for sublist in words for item in sublist if item]\n",
    "            words = list(set(words))\n",
    "            print(words)        \n",
    "            words = [word for word in words if word not in stop_words]\n",
    "            print(words)\n",
    "\n",
    "            words = [preproc_arab_sentence(word) for word in words]\n",
    "\n",
    "            # print(words)        \n",
    "            words = [stemming_darija(word) for word in words if word]\n",
    "            words = number_remov(words)\n",
    "\n",
    "\n",
    "            # print(words)\n",
    "            words = ' '.join(words) \n",
    "            return words"
   ]
  },
  {
   "cell_type": "code",
   "execution_count": 26,
   "id": "dce028f2",
   "metadata": {
    "execution": {
     "iopub.execute_input": "2024-12-14T00:19:34.113963Z",
     "iopub.status.busy": "2024-12-14T00:19:34.113691Z",
     "iopub.status.idle": "2024-12-14T00:19:34.126068Z",
     "shell.execute_reply": "2024-12-14T00:19:34.125445Z"
    },
    "papermill": {
     "duration": 0.022746,
     "end_time": "2024-12-14T00:19:34.127739",
     "exception": false,
     "start_time": "2024-12-14T00:19:34.104993",
     "status": "completed"
    },
    "tags": []
   },
   "outputs": [
    {
     "data": {
      "text/html": [
       "<div>\n",
       "<style scoped>\n",
       "    .dataframe tbody tr th:only-of-type {\n",
       "        vertical-align: middle;\n",
       "    }\n",
       "\n",
       "    .dataframe tbody tr th {\n",
       "        vertical-align: top;\n",
       "    }\n",
       "\n",
       "    .dataframe thead th {\n",
       "        text-align: right;\n",
       "    }\n",
       "</style>\n",
       "<table border=\"1\" class=\"dataframe\">\n",
       "  <thead>\n",
       "    <tr style=\"text-align: right;\">\n",
       "      <th></th>\n",
       "      <th>text</th>\n",
       "      <th>target</th>\n",
       "      <th>text_cleaned</th>\n",
       "    </tr>\n",
       "  </thead>\n",
       "  <tbody>\n",
       "    <tr>\n",
       "      <th>0</th>\n",
       "      <td>مكنفهمش انا علاش بنادم عوض يرض الادي ل لي عملو...</td>\n",
       "      <td>1</td>\n",
       "      <td>لراسو يرد اد كيردو مكنفهمش عملو</td>\n",
       "    </tr>\n",
       "    <tr>\n",
       "      <th>1</th>\n",
       "      <td>ماكين لا محمد السادس لا غيرو الرجا فالله أما ه...</td>\n",
       "      <td>0</td>\n",
       "      <td>لا واكل ماكين غيرو رزق</td>\n",
       "    </tr>\n",
       "    <tr>\n",
       "      <th>2</th>\n",
       "      <td>هادي هي طحن مو .طحنو الشعب وديروه كفتة احسن ما...</td>\n",
       "      <td>0</td>\n",
       "      <td>لبطانه طحن طحنو كفته احسن وديروه دبانه ما</td>\n",
       "    </tr>\n",
       "    <tr>\n",
       "      <th>3</th>\n",
       "      <td>ق.الجنائي الفرنسي كايعاقب فبحال هاد الحالات من...</td>\n",
       "      <td>1</td>\n",
       "      <td>ا اع جناا وتامل والقانون كايعاقب</td>\n",
       "    </tr>\n",
       "    <tr>\n",
       "      <th>4</th>\n",
       "      <td>ااصراحة كائن ثغير نوعا ما نتمى المزىد فى ظل ال...</td>\n",
       "      <td>1</td>\n",
       "      <td>اجديده نتم سد اسراحه ثغير والعافيه ما نوعا مزي...</td>\n",
       "    </tr>\n",
       "  </tbody>\n",
       "</table>\n",
       "</div>"
      ],
      "text/plain": [
       "                                                text  target  \\\n",
       "0  مكنفهمش انا علاش بنادم عوض يرض الادي ل لي عملو...       1   \n",
       "1  ماكين لا محمد السادس لا غيرو الرجا فالله أما ه...       0   \n",
       "2  هادي هي طحن مو .طحنو الشعب وديروه كفتة احسن ما...       0   \n",
       "3  ق.الجنائي الفرنسي كايعاقب فبحال هاد الحالات من...       1   \n",
       "4  ااصراحة كائن ثغير نوعا ما نتمى المزىد فى ظل ال...       1   \n",
       "\n",
       "                                        text_cleaned  \n",
       "0                    لراسو يرد اد كيردو مكنفهمش عملو  \n",
       "1                             لا واكل ماكين غيرو رزق  \n",
       "2          لبطانه طحن طحنو كفته احسن وديروه دبانه ما  \n",
       "3                   ا اع جناا وتامل والقانون كايعاقب  \n",
       "4  اجديده نتم سد اسراحه ثغير والعافيه ما نوعا مزي...  "
      ]
     },
     "execution_count": 26,
     "metadata": {},
     "output_type": "execute_result"
    }
   ],
   "source": [
    "df.head()"
   ]
  },
  {
   "cell_type": "code",
   "execution_count": 27,
   "id": "6adf5f77",
   "metadata": {
    "execution": {
     "iopub.execute_input": "2024-12-14T00:19:34.145780Z",
     "iopub.status.busy": "2024-12-14T00:19:34.145548Z",
     "iopub.status.idle": "2024-12-14T00:19:34.168017Z",
     "shell.execute_reply": "2024-12-14T00:19:34.167294Z"
    },
    "papermill": {
     "duration": 0.032762,
     "end_time": "2024-12-14T00:19:34.169318",
     "exception": false,
     "start_time": "2024-12-14T00:19:34.136556",
     "status": "completed"
    },
    "tags": []
   },
   "outputs": [
    {
     "name": "stdout",
     "output_type": "stream",
     "text": [
      "<class 'pandas.core.frame.DataFrame'>\n",
      "RangeIndex: 30000 entries, 0 to 29999\n",
      "Data columns (total 3 columns):\n",
      " #   Column        Non-Null Count  Dtype \n",
      "---  ------        --------------  ----- \n",
      " 0   text          30000 non-null  object\n",
      " 1   target        30000 non-null  int64 \n",
      " 2   text_cleaned  28978 non-null  object\n",
      "dtypes: int64(1), object(2)\n",
      "memory usage: 703.2+ KB\n"
     ]
    }
   ],
   "source": [
    "df.info()"
   ]
  },
  {
   "cell_type": "code",
   "execution_count": 28,
   "id": "74eae7ef",
   "metadata": {
    "execution": {
     "iopub.execute_input": "2024-12-14T00:19:34.186860Z",
     "iopub.status.busy": "2024-12-14T00:19:34.186646Z",
     "iopub.status.idle": "2024-12-14T00:19:34.198373Z",
     "shell.execute_reply": "2024-12-14T00:19:34.197772Z"
    },
    "papermill": {
     "duration": 0.02178,
     "end_time": "2024-12-14T00:19:34.199686",
     "exception": false,
     "start_time": "2024-12-14T00:19:34.177906",
     "status": "completed"
    },
    "tags": []
   },
   "outputs": [],
   "source": [
    "df.dropna(inplace=True)"
   ]
  },
  {
   "cell_type": "code",
   "execution_count": 29,
   "id": "eb76fa9d",
   "metadata": {
    "execution": {
     "iopub.execute_input": "2024-12-14T00:19:34.216660Z",
     "iopub.status.busy": "2024-12-14T00:19:34.216436Z",
     "iopub.status.idle": "2024-12-14T00:19:34.233080Z",
     "shell.execute_reply": "2024-12-14T00:19:34.232401Z"
    },
    "papermill": {
     "duration": 0.026648,
     "end_time": "2024-12-14T00:19:34.234371",
     "exception": false,
     "start_time": "2024-12-14T00:19:34.207723",
     "status": "completed"
    },
    "tags": []
   },
   "outputs": [],
   "source": [
    "from sklearn.model_selection import train_test_split\n",
    "\n",
    "X_train, X_test, y_train, y_test = train_test_split( df.drop(columns=[\"target\"]),df[\"target\"], test_size=0.2 , stratify=df['target'] ,shuffle=True , random_state=123)"
   ]
  },
  {
   "cell_type": "code",
   "execution_count": 30,
   "id": "dc394d2f",
   "metadata": {
    "execution": {
     "iopub.execute_input": "2024-12-14T00:19:34.252038Z",
     "iopub.status.busy": "2024-12-14T00:19:34.251322Z",
     "iopub.status.idle": "2024-12-14T00:19:34.257948Z",
     "shell.execute_reply": "2024-12-14T00:19:34.257228Z"
    },
    "papermill": {
     "duration": 0.016734,
     "end_time": "2024-12-14T00:19:34.259363",
     "exception": false,
     "start_time": "2024-12-14T00:19:34.242629",
     "status": "completed"
    },
    "tags": []
   },
   "outputs": [
    {
     "data": {
      "text/plain": [
       "target\n",
       "0    2949\n",
       "1    2847\n",
       "Name: count, dtype: int64"
      ]
     },
     "execution_count": 30,
     "metadata": {},
     "output_type": "execute_result"
    }
   ],
   "source": [
    "y_test.value_counts()"
   ]
  },
  {
   "cell_type": "code",
   "execution_count": 31,
   "id": "3fa5d926",
   "metadata": {
    "execution": {
     "iopub.execute_input": "2024-12-14T00:19:34.276792Z",
     "iopub.status.busy": "2024-12-14T00:19:34.276335Z",
     "iopub.status.idle": "2024-12-14T00:19:34.281494Z",
     "shell.execute_reply": "2024-12-14T00:19:34.280814Z"
    },
    "papermill": {
     "duration": 0.015246,
     "end_time": "2024-12-14T00:19:34.282818",
     "exception": false,
     "start_time": "2024-12-14T00:19:34.267572",
     "status": "completed"
    },
    "tags": []
   },
   "outputs": [
    {
     "data": {
      "text/plain": [
       "(23182, 2)"
      ]
     },
     "execution_count": 31,
     "metadata": {},
     "output_type": "execute_result"
    }
   ],
   "source": [
    "X_train.shape"
   ]
  },
  {
   "cell_type": "markdown",
   "id": "b8e00908",
   "metadata": {
    "papermill": {
     "duration": 0.008013,
     "end_time": "2024-12-14T00:19:34.299151",
     "exception": false,
     "start_time": "2024-12-14T00:19:34.291138",
     "status": "completed"
    },
    "tags": []
   },
   "source": [
    "## Useful Function"
   ]
  },
  {
   "cell_type": "code",
   "execution_count": 32,
   "id": "3053c2b0",
   "metadata": {
    "execution": {
     "iopub.execute_input": "2024-12-14T00:19:34.316955Z",
     "iopub.status.busy": "2024-12-14T00:19:34.316673Z",
     "iopub.status.idle": "2024-12-14T00:19:34.621423Z",
     "shell.execute_reply": "2024-12-14T00:19:34.620695Z"
    },
    "papermill": {
     "duration": 0.315848,
     "end_time": "2024-12-14T00:19:34.623170",
     "exception": false,
     "start_time": "2024-12-14T00:19:34.307322",
     "status": "completed"
    },
    "tags": []
   },
   "outputs": [],
   "source": [
    "import numpy as np\n",
    "from sklearn.metrics import accuracy_score, f1_score, classification_report, confusion_matrix\n",
    "import seaborn as sns\n",
    "import matplotlib.pyplot as plt\n",
    "\n",
    "def about_model(model_name , y_test, y_pred):\n",
    "    print('-------------------> ' + model_name )\n",
    "    accuracy = accuracy_score(y_test, y_pred)\n",
    "    print(f\"Accuracy: {accuracy:.2f}\")\n",
    "    \n",
    "    f1 = f1_score(y_test, y_pred, average=None)\n",
    "    print(\"F1-Score for each class:\")\n",
    "    class_labels = ['Positive', 'Negative']\n",
    "\n",
    "    for i, score in enumerate(f1):\n",
    "        print(f\"{class_labels[i]}: {score:.2f}\")\n",
    "    \n",
    "    print(\"\\nClassification Report:\")\n",
    "    print(classification_report(y_test, y_pred, target_names=class_labels, digits=2))\n",
    "    \n",
    "    conf_matrix = confusion_matrix(y_test, y_pred)\n",
    "    plt.figure(figsize=(8, 6))\n",
    "    sns.heatmap(conf_matrix, annot=True, fmt='d', cmap='Blues', \n",
    "                xticklabels=class_labels,\n",
    "                yticklabels=class_labels)\n",
    "    plt.xlabel(\"Predicted\")\n",
    "    plt.ylabel(\"Actual\")\n",
    "    plt.title(\"Confusion Matrix\")\n",
    "    plt.show()\n"
   ]
  },
  {
   "cell_type": "markdown",
   "id": "a3d5cdcb",
   "metadata": {
    "papermill": {
     "duration": 0.008182,
     "end_time": "2024-12-14T00:19:34.640059",
     "exception": false,
     "start_time": "2024-12-14T00:19:34.631877",
     "status": "completed"
    },
    "tags": []
   },
   "source": [
    "## Feature Engineering\n",
    "Converting text to vectors format:\n",
    "- TF-IDF Vectorization (ngram_range=(1, 2))"
   ]
  },
  {
   "cell_type": "code",
   "execution_count": 33,
   "id": "82ff86dd",
   "metadata": {
    "execution": {
     "iopub.execute_input": "2024-12-14T00:19:34.658096Z",
     "iopub.status.busy": "2024-12-14T00:19:34.657716Z",
     "iopub.status.idle": "2024-12-14T00:19:34.661325Z",
     "shell.execute_reply": "2024-12-14T00:19:34.660591Z"
    },
    "papermill": {
     "duration": 0.014355,
     "end_time": "2024-12-14T00:19:34.662635",
     "exception": false,
     "start_time": "2024-12-14T00:19:34.648280",
     "status": "completed"
    },
    "tags": []
   },
   "outputs": [],
   "source": [
    "#from sklearn.feature_extraction.text import TfidfVectorizer\n",
    "\n",
    "\n",
    "#tfidf_vectorizer = TfidfVectorizer(ngram_range=(1, 2))\n",
    "#X_train['text_cleaned'] = X_train['text_cleaned'].astype(str)\n",
    "#X_test['text_cleaned'] = X_test['text_cleaned'].astype(str)\n",
    "\n",
    "#X_train_tfidf = tfidf_vectorizer.fit_transform(X_train['text_cleaned'])\n",
    "#X_test_tfidf = tfidf_vectorizer.transform(X_test['text_cleaned'])\n",
    "\n"
   ]
  },
  {
   "cell_type": "code",
   "execution_count": 34,
   "id": "ef1dac16",
   "metadata": {
    "execution": {
     "iopub.execute_input": "2024-12-14T00:19:34.680157Z",
     "iopub.status.busy": "2024-12-14T00:19:34.679903Z",
     "iopub.status.idle": "2024-12-14T00:19:35.672262Z",
     "shell.execute_reply": "2024-12-14T00:19:35.671543Z"
    },
    "papermill": {
     "duration": 1.002823,
     "end_time": "2024-12-14T00:19:35.673698",
     "exception": false,
     "start_time": "2024-12-14T00:19:34.670875",
     "status": "completed"
    },
    "tags": []
   },
   "outputs": [
    {
     "name": "stdout",
     "output_type": "stream",
     "text": [
      "all tokens:  148139\n",
      "reduced tokens:  148139\n"
     ]
    },
    {
     "name": "stderr",
     "output_type": "stream",
     "text": [
      "/opt/conda/lib/python3.10/site-packages/sklearn/feature_extraction/text.py:1380: UserWarning: Upper case characters found in vocabulary while 'lowercase' is True. These entries will not be matched with any documents\n",
      "  warnings.warn(\n"
     ]
    }
   ],
   "source": [
    "from sklearn.feature_extraction.text import TfidfVectorizer\n",
    "import numpy as np\n",
    "import pandas as pd\n",
    "\n",
    "\n",
    "tfidf_vectorizer = TfidfVectorizer(ngram_range=(1, 2))\n",
    "\n",
    "X_train['text_cleaned'] = X_train['text_cleaned'].astype(str)\n",
    "X_test['text_cleaned'] = X_test['text_cleaned'].astype(str)\n",
    "\n",
    "X_train_tfidf = tfidf_vectorizer.fit_transform(X_train['text_cleaned'])\n",
    "X_test_tfidf = tfidf_vectorizer.transform(X_test['text_cleaned'])\n",
    "\n",
    "words = tfidf_vectorizer.get_feature_names_out()\n",
    "print(\"all tokens: \" , len(words))\n",
    "tfidf_scores = np.asarray(X_train_tfidf.sum(axis=0)).flatten()\n",
    "\n",
    "sorted_indices = np.argsort(tfidf_scores)[::-1]\n",
    "\n",
    "cumulative_tfidf = np.cumsum(tfidf_scores[sorted_indices])\n",
    "\n",
    "total_tfidf = cumulative_tfidf[-1]\n",
    "threshold =  total_tfidf\n",
    "\n",
    "cutoff_index = np.where(cumulative_tfidf >= threshold)[0][0]\n",
    "\n",
    "selected_ngrams = words[sorted_indices][:cutoff_index + 1]\n",
    "\n",
    "selected_vocab = selected_ngrams.tolist()\n",
    "print(\"reduced tokens: \"  , len(selected_vocab))\n",
    "\n",
    "tfidf_vectorizer = TfidfVectorizer(vocabulary=selected_vocab)\n",
    "\n",
    "X_train_tfidf = tfidf_vectorizer.fit_transform(X_train['text_cleaned'])\n",
    "X_test_tfidf = tfidf_vectorizer.transform(X_test['text_cleaned'])\n"
   ]
  },
  {
   "cell_type": "code",
   "execution_count": 35,
   "id": "d6376598",
   "metadata": {
    "execution": {
     "iopub.execute_input": "2024-12-14T00:19:35.691787Z",
     "iopub.status.busy": "2024-12-14T00:19:35.691512Z",
     "iopub.status.idle": "2024-12-14T00:19:35.769747Z",
     "shell.execute_reply": "2024-12-14T00:19:35.768921Z"
    },
    "papermill": {
     "duration": 0.089144,
     "end_time": "2024-12-14T00:19:35.771372",
     "exception": false,
     "start_time": "2024-12-14T00:19:35.682228",
     "status": "completed"
    },
    "tags": []
   },
   "outputs": [
    {
     "data": {
      "text/plain": [
       "array(['لا', 'ما', 'غير', 'هه', 'خير', 'حمد', 'مبروك', 'ماش', 'تفو',\n",
       "       'سير', 'هم', 'قلب', 'فرح', 'عداله', 'احسن', 'فكر', 'لم', 'وفي',\n",
       "       'قوه', 'عديم', 'بدموع', 'طحن', 'تحيه', 'تنميه', 'ليس', 'والو',\n",
       "       'سح', 'كورو', 'مزيان', 'تبارك'], dtype=object)"
      ]
     },
     "execution_count": 35,
     "metadata": {},
     "output_type": "execute_result"
    }
   ],
   "source": [
    "tfidf_vectorizer.get_feature_names_out()[:30]"
   ]
  },
  {
   "cell_type": "code",
   "execution_count": 36,
   "id": "6a1dd561",
   "metadata": {
    "execution": {
     "iopub.execute_input": "2024-12-14T00:19:35.789769Z",
     "iopub.status.busy": "2024-12-14T00:19:35.789500Z",
     "iopub.status.idle": "2024-12-14T00:19:35.869203Z",
     "shell.execute_reply": "2024-12-14T00:19:35.868521Z"
    },
    "papermill": {
     "duration": 0.090443,
     "end_time": "2024-12-14T00:19:35.870694",
     "exception": false,
     "start_time": "2024-12-14T00:19:35.780251",
     "status": "completed"
    },
    "tags": []
   },
   "outputs": [
    {
     "data": {
      "text/plain": [
       "148139"
      ]
     },
     "execution_count": 36,
     "metadata": {},
     "output_type": "execute_result"
    }
   ],
   "source": [
    "len(tfidf_vectorizer.get_feature_names_out())"
   ]
  },
  {
   "cell_type": "markdown",
   "id": "236d6b6b",
   "metadata": {
    "papermill": {
     "duration": 0.009494,
     "end_time": "2024-12-14T00:19:35.888979",
     "exception": false,
     "start_time": "2024-12-14T00:19:35.879485",
     "status": "completed"
    },
    "tags": []
   },
   "source": [
    "## Model Development\n"
   ]
  },
  {
   "cell_type": "markdown",
   "id": "bb0f75a5",
   "metadata": {
    "papermill": {
     "duration": 0.008229,
     "end_time": "2024-12-14T00:19:35.905775",
     "exception": false,
     "start_time": "2024-12-14T00:19:35.897546",
     "status": "completed"
    },
    "tags": []
   },
   "source": [
    "### Logistic Regression"
   ]
  },
  {
   "cell_type": "code",
   "execution_count": 37,
   "id": "24181282",
   "metadata": {
    "execution": {
     "iopub.execute_input": "2024-12-14T00:19:35.923978Z",
     "iopub.status.busy": "2024-12-14T00:19:35.923684Z",
     "iopub.status.idle": "2024-12-14T00:19:37.239561Z",
     "shell.execute_reply": "2024-12-14T00:19:37.238777Z"
    },
    "papermill": {
     "duration": 1.327112,
     "end_time": "2024-12-14T00:19:37.241252",
     "exception": false,
     "start_time": "2024-12-14T00:19:35.914140",
     "status": "completed"
    },
    "tags": []
   },
   "outputs": [
    {
     "data": {
      "text/html": [
       "<style>#sk-container-id-1 {color: black;background-color: white;}#sk-container-id-1 pre{padding: 0;}#sk-container-id-1 div.sk-toggleable {background-color: white;}#sk-container-id-1 label.sk-toggleable__label {cursor: pointer;display: block;width: 100%;margin-bottom: 0;padding: 0.3em;box-sizing: border-box;text-align: center;}#sk-container-id-1 label.sk-toggleable__label-arrow:before {content: \"▸\";float: left;margin-right: 0.25em;color: #696969;}#sk-container-id-1 label.sk-toggleable__label-arrow:hover:before {color: black;}#sk-container-id-1 div.sk-estimator:hover label.sk-toggleable__label-arrow:before {color: black;}#sk-container-id-1 div.sk-toggleable__content {max-height: 0;max-width: 0;overflow: hidden;text-align: left;background-color: #f0f8ff;}#sk-container-id-1 div.sk-toggleable__content pre {margin: 0.2em;color: black;border-radius: 0.25em;background-color: #f0f8ff;}#sk-container-id-1 input.sk-toggleable__control:checked~div.sk-toggleable__content {max-height: 200px;max-width: 100%;overflow: auto;}#sk-container-id-1 input.sk-toggleable__control:checked~label.sk-toggleable__label-arrow:before {content: \"▾\";}#sk-container-id-1 div.sk-estimator input.sk-toggleable__control:checked~label.sk-toggleable__label {background-color: #d4ebff;}#sk-container-id-1 div.sk-label input.sk-toggleable__control:checked~label.sk-toggleable__label {background-color: #d4ebff;}#sk-container-id-1 input.sk-hidden--visually {border: 0;clip: rect(1px 1px 1px 1px);clip: rect(1px, 1px, 1px, 1px);height: 1px;margin: -1px;overflow: hidden;padding: 0;position: absolute;width: 1px;}#sk-container-id-1 div.sk-estimator {font-family: monospace;background-color: #f0f8ff;border: 1px dotted black;border-radius: 0.25em;box-sizing: border-box;margin-bottom: 0.5em;}#sk-container-id-1 div.sk-estimator:hover {background-color: #d4ebff;}#sk-container-id-1 div.sk-parallel-item::after {content: \"\";width: 100%;border-bottom: 1px solid gray;flex-grow: 1;}#sk-container-id-1 div.sk-label:hover label.sk-toggleable__label {background-color: #d4ebff;}#sk-container-id-1 div.sk-serial::before {content: \"\";position: absolute;border-left: 1px solid gray;box-sizing: border-box;top: 0;bottom: 0;left: 50%;z-index: 0;}#sk-container-id-1 div.sk-serial {display: flex;flex-direction: column;align-items: center;background-color: white;padding-right: 0.2em;padding-left: 0.2em;position: relative;}#sk-container-id-1 div.sk-item {position: relative;z-index: 1;}#sk-container-id-1 div.sk-parallel {display: flex;align-items: stretch;justify-content: center;background-color: white;position: relative;}#sk-container-id-1 div.sk-item::before, #sk-container-id-1 div.sk-parallel-item::before {content: \"\";position: absolute;border-left: 1px solid gray;box-sizing: border-box;top: 0;bottom: 0;left: 50%;z-index: -1;}#sk-container-id-1 div.sk-parallel-item {display: flex;flex-direction: column;z-index: 1;position: relative;background-color: white;}#sk-container-id-1 div.sk-parallel-item:first-child::after {align-self: flex-end;width: 50%;}#sk-container-id-1 div.sk-parallel-item:last-child::after {align-self: flex-start;width: 50%;}#sk-container-id-1 div.sk-parallel-item:only-child::after {width: 0;}#sk-container-id-1 div.sk-dashed-wrapped {border: 1px dashed gray;margin: 0 0.4em 0.5em 0.4em;box-sizing: border-box;padding-bottom: 0.4em;background-color: white;}#sk-container-id-1 div.sk-label label {font-family: monospace;font-weight: bold;display: inline-block;line-height: 1.2em;}#sk-container-id-1 div.sk-label-container {text-align: center;}#sk-container-id-1 div.sk-container {/* jupyter's `normalize.less` sets `[hidden] { display: none; }` but bootstrap.min.css set `[hidden] { display: none !important; }` so we also need the `!important` here to be able to override the default hidden behavior on the sphinx rendered scikit-learn.org. See: https://github.com/scikit-learn/scikit-learn/issues/21755 */display: inline-block !important;position: relative;}#sk-container-id-1 div.sk-text-repr-fallback {display: none;}</style><div id=\"sk-container-id-1\" class=\"sk-top-container\"><div class=\"sk-text-repr-fallback\"><pre>LogisticRegression(max_iter=1000, n_jobs=-1)</pre><b>In a Jupyter environment, please rerun this cell to show the HTML representation or trust the notebook. <br />On GitHub, the HTML representation is unable to render, please try loading this page with nbviewer.org.</b></div><div class=\"sk-container\" hidden><div class=\"sk-item\"><div class=\"sk-estimator sk-toggleable\"><input class=\"sk-toggleable__control sk-hidden--visually\" id=\"sk-estimator-id-1\" type=\"checkbox\" checked><label for=\"sk-estimator-id-1\" class=\"sk-toggleable__label sk-toggleable__label-arrow\">LogisticRegression</label><div class=\"sk-toggleable__content\"><pre>LogisticRegression(max_iter=1000, n_jobs=-1)</pre></div></div></div></div></div>"
      ],
      "text/plain": [
       "LogisticRegression(max_iter=1000, n_jobs=-1)"
      ]
     },
     "execution_count": 37,
     "metadata": {},
     "output_type": "execute_result"
    }
   ],
   "source": [
    "from sklearn.linear_model import LogisticRegression # type: ignore\n",
    "clf = LogisticRegression(max_iter = 1000 ,  n_jobs=-1 )\n",
    "clf.fit(X_train_tfidf, y_train)"
   ]
  },
  {
   "cell_type": "code",
   "execution_count": 38,
   "id": "ebb95c97",
   "metadata": {
    "execution": {
     "iopub.execute_input": "2024-12-14T00:19:37.265014Z",
     "iopub.status.busy": "2024-12-14T00:19:37.264309Z",
     "iopub.status.idle": "2024-12-14T00:19:37.489751Z",
     "shell.execute_reply": "2024-12-14T00:19:37.489013Z"
    },
    "papermill": {
     "duration": 0.237541,
     "end_time": "2024-12-14T00:19:37.491566",
     "exception": false,
     "start_time": "2024-12-14T00:19:37.254025",
     "status": "completed"
    },
    "tags": []
   },
   "outputs": [
    {
     "name": "stdout",
     "output_type": "stream",
     "text": [
      "-------------------> Logistic Regression\n",
      "Accuracy: 0.75\n",
      "F1-Score for each class:\n",
      "Positive: 0.76\n",
      "Negative: 0.73\n",
      "\n",
      "Classification Report:\n",
      "              precision    recall  f1-score   support\n",
      "\n",
      "    Positive       0.73      0.80      0.76      2949\n",
      "    Negative       0.77      0.69      0.73      2847\n",
      "\n",
      "    accuracy                           0.75      5796\n",
      "   macro avg       0.75      0.74      0.74      5796\n",
      "weighted avg       0.75      0.75      0.74      5796\n",
      "\n"
     ]
    },
    {
     "data": {
      "image/png": "[encoded data removed]",
      "text/plain": [
       "<Figure size 800x600 with 2 Axes>"
      ]
     },
     "metadata": {},
     "output_type": "display_data"
    }
   ],
   "source": [
    "y_hat = clf.predict(X_test_tfidf)\n",
    "about_model(\"Logistic Regression\" ,y_test , y_hat)"
   ]
  },
  {
   "cell_type": "markdown",
   "id": "f15c4cef",
   "metadata": {
    "papermill": {
     "duration": 0.008902,
     "end_time": "2024-12-14T00:19:37.510355",
     "exception": false,
     "start_time": "2024-12-14T00:19:37.501453",
     "status": "completed"
    },
    "tags": []
   },
   "source": [
    "### Tuned Logistic Regression"
   ]
  },
  {
   "cell_type": "code",
   "execution_count": 39,
   "id": "3149768f",
   "metadata": {
    "execution": {
     "iopub.execute_input": "2024-12-14T00:19:37.529915Z",
     "iopub.status.busy": "2024-12-14T00:19:37.529621Z",
     "iopub.status.idle": "2024-12-14T00:19:37.565143Z",
     "shell.execute_reply": "2024-12-14T00:19:37.564460Z"
    },
    "papermill": {
     "duration": 0.047378,
     "end_time": "2024-12-14T00:19:37.566849",
     "exception": false,
     "start_time": "2024-12-14T00:19:37.519471",
     "status": "completed"
    },
    "tags": []
   },
   "outputs": [
    {
     "name": "stdout",
     "output_type": "stream",
     "text": [
      "\n",
      "[]\n",
      "[]\n",
      "[]\n",
      "[]\n",
      "\n"
     ]
    },
    {
     "data": {
      "text/plain": [
       "array([0])"
      ]
     },
     "execution_count": 39,
     "metadata": {},
     "output_type": "execute_result"
    }
   ],
   "source": [
    "text = tokenize_arab_text('')\n",
    "print(text)\n",
    "\n",
    "if isinstance(text, str):\n",
    "    text = [text]  \n",
    "\n",
    "text_vectorized = tfidf_vectorizer.transform(text)  \n",
    "text_vectorized = text_vectorized.reshape(1, -1)  \n",
    "clf.predict(text_vectorized)\n"
   ]
  },
  {
   "cell_type": "code",
   "execution_count": 40,
   "id": "cb75fe46",
   "metadata": {
    "execution": {
     "iopub.execute_input": "2024-12-14T00:19:37.586424Z",
     "iopub.status.busy": "2024-12-14T00:19:37.586121Z",
     "iopub.status.idle": "2024-12-14T01:30:30.275757Z",
     "shell.execute_reply": "2024-12-14T01:30:30.274867Z"
    },
    "papermill": {
     "duration": 4252.709741,
     "end_time": "2024-12-14T01:30:30.285983",
     "exception": false,
     "start_time": "2024-12-14T00:19:37.576242",
     "status": "completed"
    },
    "tags": []
   },
   "outputs": [
    {
     "name": "stdout",
     "output_type": "stream",
     "text": [
      "Fitting 5 folds for each of 12 candidates, totalling 60 fits\n"
     ]
    },
    {
     "data": {
      "text/plain": [
       "{'C': 1.0, 'penalty': 'l2', 'solver': 'saga'}"
      ]
     },
     "execution_count": 40,
     "metadata": {},
     "output_type": "execute_result"
    }
   ],
   "source": [
    "# Logistic Regression\n",
    "param_grid_ = {\n",
    "    'C': [1e-5, 1e-3, 1e-1, 1e0, 1e1, 1e2],  \n",
    "    'penalty': ['l1', 'l2'],                \n",
    "    'solver': ['saga'],                     \n",
    "}\n",
    "\n",
    "clf_grid = GridSearchCV(\n",
    "    estimator=LogisticRegression(max_iter=5000, n_jobs=-1),\n",
    "    param_grid=param_grid_,\n",
    "    cv=5,\n",
    "    verbose=1,\n",
    "    scoring='accuracy',\n",
    "    n_jobs=-1\n",
    ")\n",
    "\n",
    "clf_grid.fit(X_train_tfidf, y_train)\n",
    "clf_grid.best_params_\n"
   ]
  },
  {
   "cell_type": "code",
   "execution_count": 41,
   "id": "8f5bcaab",
   "metadata": {
    "execution": {
     "iopub.execute_input": "2024-12-14T01:30:30.305154Z",
     "iopub.status.busy": "2024-12-14T01:30:30.304852Z",
     "iopub.status.idle": "2024-12-14T01:30:30.492700Z",
     "shell.execute_reply": "2024-12-14T01:30:30.492032Z"
    },
    "papermill": {
     "duration": 0.19943,
     "end_time": "2024-12-14T01:30:30.494349",
     "exception": false,
     "start_time": "2024-12-14T01:30:30.294919",
     "status": "completed"
    },
    "tags": []
   },
   "outputs": [
    {
     "name": "stdout",
     "output_type": "stream",
     "text": [
      "-------------------> Tuned Logistic Regression\n",
      "Accuracy: 0.75\n",
      "F1-Score for each class:\n",
      "Positive: 0.76\n",
      "Negative: 0.73\n",
      "\n",
      "Classification Report:\n",
      "              precision    recall  f1-score   support\n",
      "\n",
      "    Positive       0.73      0.80      0.76      2949\n",
      "    Negative       0.77      0.69      0.73      2847\n",
      "\n",
      "    accuracy                           0.75      5796\n",
      "   macro avg       0.75      0.74      0.74      5796\n",
      "weighted avg       0.75      0.75      0.74      5796\n",
      "\n"
     ]
    },
    {
     "data": {
      "image/png": "[encoded data removed]",
      "text/plain": [
       "<Figure size 800x600 with 2 Axes>"
      ]
     },
     "metadata": {},
     "output_type": "display_data"
    }
   ],
   "source": [
    "y_hat = clf_grid.predict(X_test_tfidf)\n",
    "about_model(\"Tuned Logistic Regression\" , y_test , y_hat)"
   ]
  },
  {
   "cell_type": "markdown",
   "id": "51eb91a6",
   "metadata": {
    "papermill": {
     "duration": 0.009429,
     "end_time": "2024-12-14T01:30:30.513790",
     "exception": false,
     "start_time": "2024-12-14T01:30:30.504361",
     "status": "completed"
    },
    "tags": []
   },
   "source": [
    "## XGBoost"
   ]
  },
  {
   "cell_type": "code",
   "execution_count": 42,
   "id": "dec66349",
   "metadata": {
    "execution": {
     "iopub.execute_input": "2024-12-14T01:30:30.534045Z",
     "iopub.status.busy": "2024-12-14T01:30:30.533765Z",
     "iopub.status.idle": "2024-12-14T01:30:37.113275Z",
     "shell.execute_reply": "2024-12-14T01:30:37.112570Z"
    },
    "papermill": {
     "duration": 6.5914,
     "end_time": "2024-12-14T01:30:37.114604",
     "exception": false,
     "start_time": "2024-12-14T01:30:30.523204",
     "status": "completed"
    },
    "tags": []
   },
   "outputs": [
    {
     "data": {
      "text/html": [
       "<style>#sk-container-id-2 {color: black;background-color: white;}#sk-container-id-2 pre{padding: 0;}#sk-container-id-2 div.sk-toggleable {background-color: white;}#sk-container-id-2 label.sk-toggleable__label {cursor: pointer;display: block;width: 100%;margin-bottom: 0;padding: 0.3em;box-sizing: border-box;text-align: center;}#sk-container-id-2 label.sk-toggleable__label-arrow:before {content: \"▸\";float: left;margin-right: 0.25em;color: #696969;}#sk-container-id-2 label.sk-toggleable__label-arrow:hover:before {color: black;}#sk-container-id-2 div.sk-estimator:hover label.sk-toggleable__label-arrow:before {color: black;}#sk-container-id-2 div.sk-toggleable__content {max-height: 0;max-width: 0;overflow: hidden;text-align: left;background-color: #f0f8ff;}#sk-container-id-2 div.sk-toggleable__content pre {margin: 0.2em;color: black;border-radius: 0.25em;background-color: #f0f8ff;}#sk-container-id-2 input.sk-toggleable__control:checked~div.sk-toggleable__content {max-height: 200px;max-width: 100%;overflow: auto;}#sk-container-id-2 input.sk-toggleable__control:checked~label.sk-toggleable__label-arrow:before {content: \"▾\";}#sk-container-id-2 div.sk-estimator input.sk-toggleable__control:checked~label.sk-toggleable__label {background-color: #d4ebff;}#sk-container-id-2 div.sk-label input.sk-toggleable__control:checked~label.sk-toggleable__label {background-color: #d4ebff;}#sk-container-id-2 input.sk-hidden--visually {border: 0;clip: rect(1px 1px 1px 1px);clip: rect(1px, 1px, 1px, 1px);height: 1px;margin: -1px;overflow: hidden;padding: 0;position: absolute;width: 1px;}#sk-container-id-2 div.sk-estimator {font-family: monospace;background-color: #f0f8ff;border: 1px dotted black;border-radius: 0.25em;box-sizing: border-box;margin-bottom: 0.5em;}#sk-container-id-2 div.sk-estimator:hover {background-color: #d4ebff;}#sk-container-id-2 div.sk-parallel-item::after {content: \"\";width: 100%;border-bottom: 1px solid gray;flex-grow: 1;}#sk-container-id-2 div.sk-label:hover label.sk-toggleable__label {background-color: #d4ebff;}#sk-container-id-2 div.sk-serial::before {content: \"\";position: absolute;border-left: 1px solid gray;box-sizing: border-box;top: 0;bottom: 0;left: 50%;z-index: 0;}#sk-container-id-2 div.sk-serial {display: flex;flex-direction: column;align-items: center;background-color: white;padding-right: 0.2em;padding-left: 0.2em;position: relative;}#sk-container-id-2 div.sk-item {position: relative;z-index: 1;}#sk-container-id-2 div.sk-parallel {display: flex;align-items: stretch;justify-content: center;background-color: white;position: relative;}#sk-container-id-2 div.sk-item::before, #sk-container-id-2 div.sk-parallel-item::before {content: \"\";position: absolute;border-left: 1px solid gray;box-sizing: border-box;top: 0;bottom: 0;left: 50%;z-index: -1;}#sk-container-id-2 div.sk-parallel-item {display: flex;flex-direction: column;z-index: 1;position: relative;background-color: white;}#sk-container-id-2 div.sk-parallel-item:first-child::after {align-self: flex-end;width: 50%;}#sk-container-id-2 div.sk-parallel-item:last-child::after {align-self: flex-start;width: 50%;}#sk-container-id-2 div.sk-parallel-item:only-child::after {width: 0;}#sk-container-id-2 div.sk-dashed-wrapped {border: 1px dashed gray;margin: 0 0.4em 0.5em 0.4em;box-sizing: border-box;padding-bottom: 0.4em;background-color: white;}#sk-container-id-2 div.sk-label label {font-family: monospace;font-weight: bold;display: inline-block;line-height: 1.2em;}#sk-container-id-2 div.sk-label-container {text-align: center;}#sk-container-id-2 div.sk-container {/* jupyter's `normalize.less` sets `[hidden] { display: none; }` but bootstrap.min.css set `[hidden] { display: none !important; }` so we also need the `!important` here to be able to override the default hidden behavior on the sphinx rendered scikit-learn.org. See: https://github.com/scikit-learn/scikit-learn/issues/21755 */display: inline-block !important;position: relative;}#sk-container-id-2 div.sk-text-repr-fallback {display: none;}</style><div id=\"sk-container-id-2\" class=\"sk-top-container\"><div class=\"sk-text-repr-fallback\"><pre>XGBClassifier(base_score=None, booster=None, callbacks=None,\n",
       "              colsample_bylevel=None, colsample_bynode=None,\n",
       "              colsample_bytree=None, device=None, early_stopping_rounds=None,\n",
       "              enable_categorical=False, eval_metric=None, feature_types=None,\n",
       "              gamma=None, grow_policy=None, importance_type=None,\n",
       "              interaction_constraints=None, learning_rate=None, max_bin=None,\n",
       "              max_cat_threshold=None, max_cat_to_onehot=None,\n",
       "              max_delta_step=None, max_depth=None, max_leaves=None,\n",
       "              min_child_weight=None, missing=nan, monotone_constraints=None,\n",
       "              multi_strategy=None, n_estimators=None, n_jobs=None,\n",
       "              num_parallel_tree=None, random_state=None, ...)</pre><b>In a Jupyter environment, please rerun this cell to show the HTML representation or trust the notebook. <br />On GitHub, the HTML representation is unable to render, please try loading this page with nbviewer.org.</b></div><div class=\"sk-container\" hidden><div class=\"sk-item\"><div class=\"sk-estimator sk-toggleable\"><input class=\"sk-toggleable__control sk-hidden--visually\" id=\"sk-estimator-id-2\" type=\"checkbox\" checked><label for=\"sk-estimator-id-2\" class=\"sk-toggleable__label sk-toggleable__label-arrow\">XGBClassifier</label><div class=\"sk-toggleable__content\"><pre>XGBClassifier(base_score=None, booster=None, callbacks=None,\n",
       "              colsample_bylevel=None, colsample_bynode=None,\n",
       "              colsample_bytree=None, device=None, early_stopping_rounds=None,\n",
       "              enable_categorical=False, eval_metric=None, feature_types=None,\n",
       "              gamma=None, grow_policy=None, importance_type=None,\n",
       "              interaction_constraints=None, learning_rate=None, max_bin=None,\n",
       "              max_cat_threshold=None, max_cat_to_onehot=None,\n",
       "              max_delta_step=None, max_depth=None, max_leaves=None,\n",
       "              min_child_weight=None, missing=nan, monotone_constraints=None,\n",
       "              multi_strategy=None, n_estimators=None, n_jobs=None,\n",
       "              num_parallel_tree=None, random_state=None, ...)</pre></div></div></div></div></div>"
      ],
      "text/plain": [
       "XGBClassifier(base_score=None, booster=None, callbacks=None,\n",
       "              colsample_bylevel=None, colsample_bynode=None,\n",
       "              colsample_bytree=None, device=None, early_stopping_rounds=None,\n",
       "              enable_categorical=False, eval_metric=None, feature_types=None,\n",
       "              gamma=None, grow_policy=None, importance_type=None,\n",
       "              interaction_constraints=None, learning_rate=None, max_bin=None,\n",
       "              max_cat_threshold=None, max_cat_to_onehot=None,\n",
       "              max_delta_step=None, max_depth=None, max_leaves=None,\n",
       "              min_child_weight=None, missing=nan, monotone_constraints=None,\n",
       "              multi_strategy=None, n_estimators=None, n_jobs=None,\n",
       "              num_parallel_tree=None, random_state=None, ...)"
      ]
     },
     "execution_count": 42,
     "metadata": {},
     "output_type": "execute_result"
    }
   ],
   "source": [
    "from xgboost import XGBClassifier\n",
    "from sklearn.model_selection import GridSearchCV\n",
    "\n",
    "xgb = XGBClassifier()\n",
    "\n",
    "xgb.fit(X_train_tfidf, y_train)"
   ]
  },
  {
   "cell_type": "code",
   "execution_count": 43,
   "id": "692b31fd",
   "metadata": {
    "execution": {
     "iopub.execute_input": "2024-12-14T01:30:37.135179Z",
     "iopub.status.busy": "2024-12-14T01:30:37.134870Z",
     "iopub.status.idle": "2024-12-14T01:30:37.446695Z",
     "shell.execute_reply": "2024-12-14T01:30:37.446078Z"
    },
    "papermill": {
     "duration": 0.323576,
     "end_time": "2024-12-14T01:30:37.448116",
     "exception": false,
     "start_time": "2024-12-14T01:30:37.124540",
     "status": "completed"
    },
    "tags": []
   },
   "outputs": [
    {
     "name": "stdout",
     "output_type": "stream",
     "text": [
      "-------------------> XGBoost\n",
      "Accuracy: 0.67\n",
      "F1-Score for each class:\n",
      "Positive: 0.61\n",
      "Negative: 0.72\n",
      "\n",
      "Classification Report:\n",
      "              precision    recall  f1-score   support\n",
      "\n",
      "    Positive       0.77      0.51      0.61      2949\n",
      "    Negative       0.62      0.85      0.72      2847\n",
      "\n",
      "    accuracy                           0.67      5796\n",
      "   macro avg       0.70      0.68      0.66      5796\n",
      "weighted avg       0.70      0.67      0.66      5796\n",
      "\n"
     ]
    },
    {
     "data": {
      "image/png": "[encoded data removed]",
      "text/plain": [
       "<Figure size 800x600 with 2 Axes>"
      ]
     },
     "metadata": {},
     "output_type": "display_data"
    }
   ],
   "source": [
    "y_hat = xgb.predict(X_test_tfidf)\n",
    "about_model(\"XGBoost\" , y_test, y_hat) "
   ]
  },
  {
   "cell_type": "markdown",
   "id": "8a55b682",
   "metadata": {
    "papermill": {
     "duration": 0.010239,
     "end_time": "2024-12-14T01:30:37.469070",
     "exception": false,
     "start_time": "2024-12-14T01:30:37.458831",
     "status": "completed"
    },
    "tags": []
   },
   "source": [
    "### Tuned XGBoost"
   ]
  },
  {
   "cell_type": "code",
   "execution_count": 44,
   "id": "03cc8417",
   "metadata": {
    "execution": {
     "iopub.execute_input": "2024-12-14T01:30:37.490613Z",
     "iopub.status.busy": "2024-12-14T01:30:37.490305Z",
     "iopub.status.idle": "2024-12-14T02:24:25.980596Z",
     "shell.execute_reply": "2024-12-14T02:24:25.979680Z"
    },
    "papermill": {
     "duration": 3228.512978,
     "end_time": "2024-12-14T02:24:25.992204",
     "exception": false,
     "start_time": "2024-12-14T01:30:37.479226",
     "status": "completed"
    },
    "tags": []
   },
   "outputs": [
    {
     "name": "stdout",
     "output_type": "stream",
     "text": [
      "Fitting 5 folds for each of 54 candidates, totalling 270 fits\n"
     ]
    },
    {
     "data": {
      "text/plain": [
       "{'learning_rate': 0.3, 'max_depth': 10, 'n_estimators': 300, 'subsample': 1.0}"
      ]
     },
     "execution_count": 44,
     "metadata": {},
     "output_type": "execute_result"
    }
   ],
   "source": [
    "#XGBoost\n",
    "param_grid_ = {\n",
    "    'n_estimators': [100, 200, 300],                \n",
    "    'max_depth': [3, 7, 10],                     \n",
    "    'learning_rate': [0.01, 0.1, 0.3],              \n",
    "    'subsample': [0.7, 1.0],                   \n",
    "}\n",
    "\n",
    "xgb_grid = GridSearchCV(\n",
    "    estimator=XGBClassifier(      \n",
    "    ),\n",
    "    param_grid=param_grid_,\n",
    "    cv=5,                         \n",
    "    verbose=1,                    \n",
    "    scoring='accuracy'  , \n",
    "    n_jobs=-1,\n",
    ")\n",
    "\n",
    "xgb_grid.fit(X_train_tfidf, y_train)\n",
    "xgb_grid.best_params_"
   ]
  },
  {
   "cell_type": "code",
   "execution_count": 45,
   "id": "0ab06efd",
   "metadata": {
    "execution": {
     "iopub.execute_input": "2024-12-14T02:24:26.013697Z",
     "iopub.status.busy": "2024-12-14T02:24:26.013392Z",
     "iopub.status.idle": "2024-12-14T02:24:26.292381Z",
     "shell.execute_reply": "2024-12-14T02:24:26.291656Z"
    },
    "papermill": {
     "duration": 0.291596,
     "end_time": "2024-12-14T02:24:26.293796",
     "exception": false,
     "start_time": "2024-12-14T02:24:26.002200",
     "status": "completed"
    },
    "tags": []
   },
   "outputs": [
    {
     "name": "stdout",
     "output_type": "stream",
     "text": [
      "-------------------> Tuned XGBoost\n",
      "Accuracy: 0.71\n",
      "F1-Score for each class:\n",
      "Positive: 0.67\n",
      "Negative: 0.74\n",
      "\n",
      "Classification Report:\n",
      "              precision    recall  f1-score   support\n",
      "\n",
      "    Positive       0.78      0.59      0.67      2949\n",
      "    Negative       0.66      0.83      0.74      2847\n",
      "\n",
      "    accuracy                           0.71      5796\n",
      "   macro avg       0.72      0.71      0.71      5796\n",
      "weighted avg       0.72      0.71      0.71      5796\n",
      "\n"
     ]
    },
    {
     "data": {
      "image/png": "[encoded data removed]",
      "text/plain": [
       "<Figure size 800x600 with 2 Axes>"
      ]
     },
     "metadata": {},
     "output_type": "display_data"
    }
   ],
   "source": [
    "y_hat = xgb_grid.predict(X_test_tfidf) \n",
    "about_model(\"Tuned XGBoost\" , y_test, y_hat)\n"
   ]
  },
  {
   "cell_type": "markdown",
   "id": "ba87f818",
   "metadata": {
    "papermill": {
     "duration": 0.010353,
     "end_time": "2024-12-14T02:24:26.315272",
     "exception": false,
     "start_time": "2024-12-14T02:24:26.304919",
     "status": "completed"
    },
    "tags": []
   },
   "source": [
    "### Decision Tree"
   ]
  },
  {
   "cell_type": "code",
   "execution_count": 46,
   "id": "c62d7da8",
   "metadata": {
    "execution": {
     "iopub.execute_input": "2024-12-14T02:24:26.337249Z",
     "iopub.status.busy": "2024-12-14T02:24:26.336988Z",
     "iopub.status.idle": "2024-12-14T02:24:44.115802Z",
     "shell.execute_reply": "2024-12-14T02:24:44.115079Z"
    },
    "papermill": {
     "duration": 17.79159,
     "end_time": "2024-12-14T02:24:44.117294",
     "exception": false,
     "start_time": "2024-12-14T02:24:26.325704",
     "status": "completed"
    },
    "tags": []
   },
   "outputs": [
    {
     "data": {
      "text/html": [
       "<style>#sk-container-id-3 {color: black;background-color: white;}#sk-container-id-3 pre{padding: 0;}#sk-container-id-3 div.sk-toggleable {background-color: white;}#sk-container-id-3 label.sk-toggleable__label {cursor: pointer;display: block;width: 100%;margin-bottom: 0;padding: 0.3em;box-sizing: border-box;text-align: center;}#sk-container-id-3 label.sk-toggleable__label-arrow:before {content: \"▸\";float: left;margin-right: 0.25em;color: #696969;}#sk-container-id-3 label.sk-toggleable__label-arrow:hover:before {color: black;}#sk-container-id-3 div.sk-estimator:hover label.sk-toggleable__label-arrow:before {color: black;}#sk-container-id-3 div.sk-toggleable__content {max-height: 0;max-width: 0;overflow: hidden;text-align: left;background-color: #f0f8ff;}#sk-container-id-3 div.sk-toggleable__content pre {margin: 0.2em;color: black;border-radius: 0.25em;background-color: #f0f8ff;}#sk-container-id-3 input.sk-toggleable__control:checked~div.sk-toggleable__content {max-height: 200px;max-width: 100%;overflow: auto;}#sk-container-id-3 input.sk-toggleable__control:checked~label.sk-toggleable__label-arrow:before {content: \"▾\";}#sk-container-id-3 div.sk-estimator input.sk-toggleable__control:checked~label.sk-toggleable__label {background-color: #d4ebff;}#sk-container-id-3 div.sk-label input.sk-toggleable__control:checked~label.sk-toggleable__label {background-color: #d4ebff;}#sk-container-id-3 input.sk-hidden--visually {border: 0;clip: rect(1px 1px 1px 1px);clip: rect(1px, 1px, 1px, 1px);height: 1px;margin: -1px;overflow: hidden;padding: 0;position: absolute;width: 1px;}#sk-container-id-3 div.sk-estimator {font-family: monospace;background-color: #f0f8ff;border: 1px dotted black;border-radius: 0.25em;box-sizing: border-box;margin-bottom: 0.5em;}#sk-container-id-3 div.sk-estimator:hover {background-color: #d4ebff;}#sk-container-id-3 div.sk-parallel-item::after {content: \"\";width: 100%;border-bottom: 1px solid gray;flex-grow: 1;}#sk-container-id-3 div.sk-label:hover label.sk-toggleable__label {background-color: #d4ebff;}#sk-container-id-3 div.sk-serial::before {content: \"\";position: absolute;border-left: 1px solid gray;box-sizing: border-box;top: 0;bottom: 0;left: 50%;z-index: 0;}#sk-container-id-3 div.sk-serial {display: flex;flex-direction: column;align-items: center;background-color: white;padding-right: 0.2em;padding-left: 0.2em;position: relative;}#sk-container-id-3 div.sk-item {position: relative;z-index: 1;}#sk-container-id-3 div.sk-parallel {display: flex;align-items: stretch;justify-content: center;background-color: white;position: relative;}#sk-container-id-3 div.sk-item::before, #sk-container-id-3 div.sk-parallel-item::before {content: \"\";position: absolute;border-left: 1px solid gray;box-sizing: border-box;top: 0;bottom: 0;left: 50%;z-index: -1;}#sk-container-id-3 div.sk-parallel-item {display: flex;flex-direction: column;z-index: 1;position: relative;background-color: white;}#sk-container-id-3 div.sk-parallel-item:first-child::after {align-self: flex-end;width: 50%;}#sk-container-id-3 div.sk-parallel-item:last-child::after {align-self: flex-start;width: 50%;}#sk-container-id-3 div.sk-parallel-item:only-child::after {width: 0;}#sk-container-id-3 div.sk-dashed-wrapped {border: 1px dashed gray;margin: 0 0.4em 0.5em 0.4em;box-sizing: border-box;padding-bottom: 0.4em;background-color: white;}#sk-container-id-3 div.sk-label label {font-family: monospace;font-weight: bold;display: inline-block;line-height: 1.2em;}#sk-container-id-3 div.sk-label-container {text-align: center;}#sk-container-id-3 div.sk-container {/* jupyter's `normalize.less` sets `[hidden] { display: none; }` but bootstrap.min.css set `[hidden] { display: none !important; }` so we also need the `!important` here to be able to override the default hidden behavior on the sphinx rendered scikit-learn.org. See: https://github.com/scikit-learn/scikit-learn/issues/21755 */display: inline-block !important;position: relative;}#sk-container-id-3 div.sk-text-repr-fallback {display: none;}</style><div id=\"sk-container-id-3\" class=\"sk-top-container\"><div class=\"sk-text-repr-fallback\"><pre>DecisionTreeClassifier()</pre><b>In a Jupyter environment, please rerun this cell to show the HTML representation or trust the notebook. <br />On GitHub, the HTML representation is unable to render, please try loading this page with nbviewer.org.</b></div><div class=\"sk-container\" hidden><div class=\"sk-item\"><div class=\"sk-estimator sk-toggleable\"><input class=\"sk-toggleable__control sk-hidden--visually\" id=\"sk-estimator-id-3\" type=\"checkbox\" checked><label for=\"sk-estimator-id-3\" class=\"sk-toggleable__label sk-toggleable__label-arrow\">DecisionTreeClassifier</label><div class=\"sk-toggleable__content\"><pre>DecisionTreeClassifier()</pre></div></div></div></div></div>"
      ],
      "text/plain": [
       "DecisionTreeClassifier()"
      ]
     },
     "execution_count": 46,
     "metadata": {},
     "output_type": "execute_result"
    }
   ],
   "source": [
    "from sklearn.tree import DecisionTreeClassifier\n",
    "\n",
    "decision_tress_clf = DecisionTreeClassifier()\n",
    "decision_tress_clf.fit(X_train_tfidf, y_train)"
   ]
  },
  {
   "cell_type": "code",
   "execution_count": 47,
   "id": "54111b35",
   "metadata": {
    "execution": {
     "iopub.execute_input": "2024-12-14T02:24:44.141207Z",
     "iopub.status.busy": "2024-12-14T02:24:44.140923Z",
     "iopub.status.idle": "2024-12-14T02:24:44.338319Z",
     "shell.execute_reply": "2024-12-14T02:24:44.337638Z"
    },
    "papermill": {
     "duration": 0.210702,
     "end_time": "2024-12-14T02:24:44.339559",
     "exception": false,
     "start_time": "2024-12-14T02:24:44.128857",
     "status": "completed"
    },
    "tags": []
   },
   "outputs": [
    {
     "name": "stdout",
     "output_type": "stream",
     "text": [
      "-------------------> Decision Tree\n",
      "Accuracy: 0.70\n",
      "F1-Score for each class:\n",
      "Positive: 0.68\n",
      "Negative: 0.71\n",
      "\n",
      "Classification Report:\n",
      "              precision    recall  f1-score   support\n",
      "\n",
      "    Positive       0.74      0.62      0.68      2949\n",
      "    Negative       0.66      0.77      0.71      2847\n",
      "\n",
      "    accuracy                           0.70      5796\n",
      "   macro avg       0.70      0.70      0.70      5796\n",
      "weighted avg       0.70      0.70      0.70      5796\n",
      "\n"
     ]
    },
    {
     "data": {
      "image/png": "[encoded data removed]",
      "text/plain": [
       "<Figure size 800x600 with 2 Axes>"
      ]
     },
     "metadata": {},
     "output_type": "display_data"
    }
   ],
   "source": [
    "y_hat = decision_tress_clf.predict(X_test_tfidf) \n",
    "about_model(\"Decision Tree\" , y_test, y_hat)"
   ]
  },
  {
   "cell_type": "markdown",
   "id": "a43fb49a",
   "metadata": {
    "papermill": {
     "duration": 0.012078,
     "end_time": "2024-12-14T02:24:44.363401",
     "exception": false,
     "start_time": "2024-12-14T02:24:44.351323",
     "status": "completed"
    },
    "tags": []
   },
   "source": [
    "### Tuned Decision Tree"
   ]
  },
  {
   "cell_type": "code",
   "execution_count": 48,
   "id": "7d00e0d3",
   "metadata": {
    "execution": {
     "iopub.execute_input": "2024-12-14T02:24:44.388165Z",
     "iopub.status.busy": "2024-12-14T02:24:44.387282Z",
     "iopub.status.idle": "2024-12-14T02:38:33.139007Z",
     "shell.execute_reply": "2024-12-14T02:38:33.138221Z"
    },
    "papermill": {
     "duration": 828.776418,
     "end_time": "2024-12-14T02:38:33.151361",
     "exception": false,
     "start_time": "2024-12-14T02:24:44.374943",
     "status": "completed"
    },
    "tags": []
   },
   "outputs": [
    {
     "name": "stdout",
     "output_type": "stream",
     "text": [
      "Fitting 5 folds for each of 144 candidates, totalling 720 fits\n"
     ]
    },
    {
     "data": {
      "text/plain": [
       "{'criterion': 'entropy',\n",
       " 'max_depth': None,\n",
       " 'min_samples_leaf': 1,\n",
       " 'min_samples_split': 5,\n",
       " 'splitter': 'random'}"
      ]
     },
     "execution_count": 48,
     "metadata": {},
     "output_type": "execute_result"
    }
   ],
   "source": [
    "param_grid_ = {\n",
    "    'max_depth': [3, 5, 10, None],  \n",
    "    'min_samples_split': [2, 5, 10],  \n",
    "    'min_samples_leaf': [1, 2, 4], \n",
    "    'criterion': ['gini', 'entropy'], \n",
    "    'splitter': ['best', 'random'],  \n",
    "}\n",
    "\n",
    "decision_tress_grid= GridSearchCV(\n",
    "    estimator=DecisionTreeClassifier(),\n",
    "    param_grid=param_grid_,\n",
    "    cv=5, \n",
    "    verbose=1,  \n",
    "    scoring='accuracy' ,\n",
    "    n_jobs=-1\n",
    ")\n",
    "decision_tress_grid.fit(X_train_tfidf, y_train)\n",
    "decision_tress_grid.best_params_\n"
   ]
  },
  {
   "cell_type": "code",
   "execution_count": 49,
   "id": "c7b1e312",
   "metadata": {
    "execution": {
     "iopub.execute_input": "2024-12-14T02:38:33.175044Z",
     "iopub.status.busy": "2024-12-14T02:38:33.174770Z",
     "iopub.status.idle": "2024-12-14T02:38:33.341731Z",
     "shell.execute_reply": "2024-12-14T02:38:33.341141Z"
    },
    "papermill": {
     "duration": 0.180353,
     "end_time": "2024-12-14T02:38:33.343340",
     "exception": false,
     "start_time": "2024-12-14T02:38:33.162987",
     "status": "completed"
    },
    "tags": []
   },
   "outputs": [
    {
     "name": "stdout",
     "output_type": "stream",
     "text": [
      "-------------------> Tuned Decision Tree\n",
      "Accuracy: 0.70\n",
      "F1-Score for each class:\n",
      "Positive: 0.69\n",
      "Negative: 0.71\n",
      "\n",
      "Classification Report:\n",
      "              precision    recall  f1-score   support\n",
      "\n",
      "    Positive       0.73      0.64      0.69      2949\n",
      "    Negative       0.67      0.76      0.71      2847\n",
      "\n",
      "    accuracy                           0.70      5796\n",
      "   macro avg       0.70      0.70      0.70      5796\n",
      "weighted avg       0.70      0.70      0.70      5796\n",
      "\n"
     ]
    },
    {
     "data": {
      "image/png": "[encoded data removed]",
      "text/plain": [
       "<Figure size 800x600 with 2 Axes>"
      ]
     },
     "metadata": {},
     "output_type": "display_data"
    }
   ],
   "source": [
    "y_hat = decision_tress_grid.predict(X_test_tfidf)\n",
    "about_model(\"Tuned Decision Tree\" , y_test, y_hat)"
   ]
  },
  {
   "cell_type": "markdown",
   "id": "a6af085d",
   "metadata": {
    "papermill": {
     "duration": 0.011437,
     "end_time": "2024-12-14T02:38:33.374028",
     "exception": false,
     "start_time": "2024-12-14T02:38:33.362591",
     "status": "completed"
    },
    "tags": []
   },
   "source": [
    "Multinomial Naive Bayes"
   ]
  },
  {
   "cell_type": "code",
   "execution_count": 50,
   "id": "7c27bdb2",
   "metadata": {
    "execution": {
     "iopub.execute_input": "2024-12-14T02:38:33.398420Z",
     "iopub.status.busy": "2024-12-14T02:38:33.398129Z",
     "iopub.status.idle": "2024-12-14T02:38:33.413207Z",
     "shell.execute_reply": "2024-12-14T02:38:33.412376Z"
    },
    "papermill": {
     "duration": 0.029037,
     "end_time": "2024-12-14T02:38:33.414551",
     "exception": false,
     "start_time": "2024-12-14T02:38:33.385514",
     "status": "completed"
    },
    "tags": []
   },
   "outputs": [
    {
     "data": {
      "text/html": [
       "<style>#sk-container-id-4 {color: black;background-color: white;}#sk-container-id-4 pre{padding: 0;}#sk-container-id-4 div.sk-toggleable {background-color: white;}#sk-container-id-4 label.sk-toggleable__label {cursor: pointer;display: block;width: 100%;margin-bottom: 0;padding: 0.3em;box-sizing: border-box;text-align: center;}#sk-container-id-4 label.sk-toggleable__label-arrow:before {content: \"▸\";float: left;margin-right: 0.25em;color: #696969;}#sk-container-id-4 label.sk-toggleable__label-arrow:hover:before {color: black;}#sk-container-id-4 div.sk-estimator:hover label.sk-toggleable__label-arrow:before {color: black;}#sk-container-id-4 div.sk-toggleable__content {max-height: 0;max-width: 0;overflow: hidden;text-align: left;background-color: #f0f8ff;}#sk-container-id-4 div.sk-toggleable__content pre {margin: 0.2em;color: black;border-radius: 0.25em;background-color: #f0f8ff;}#sk-container-id-4 input.sk-toggleable__control:checked~div.sk-toggleable__content {max-height: 200px;max-width: 100%;overflow: auto;}#sk-container-id-4 input.sk-toggleable__control:checked~label.sk-toggleable__label-arrow:before {content: \"▾\";}#sk-container-id-4 div.sk-estimator input.sk-toggleable__control:checked~label.sk-toggleable__label {background-color: #d4ebff;}#sk-container-id-4 div.sk-label input.sk-toggleable__control:checked~label.sk-toggleable__label {background-color: #d4ebff;}#sk-container-id-4 input.sk-hidden--visually {border: 0;clip: rect(1px 1px 1px 1px);clip: rect(1px, 1px, 1px, 1px);height: 1px;margin: -1px;overflow: hidden;padding: 0;position: absolute;width: 1px;}#sk-container-id-4 div.sk-estimator {font-family: monospace;background-color: #f0f8ff;border: 1px dotted black;border-radius: 0.25em;box-sizing: border-box;margin-bottom: 0.5em;}#sk-container-id-4 div.sk-estimator:hover {background-color: #d4ebff;}#sk-container-id-4 div.sk-parallel-item::after {content: \"\";width: 100%;border-bottom: 1px solid gray;flex-grow: 1;}#sk-container-id-4 div.sk-label:hover label.sk-toggleable__label {background-color: #d4ebff;}#sk-container-id-4 div.sk-serial::before {content: \"\";position: absolute;border-left: 1px solid gray;box-sizing: border-box;top: 0;bottom: 0;left: 50%;z-index: 0;}#sk-container-id-4 div.sk-serial {display: flex;flex-direction: column;align-items: center;background-color: white;padding-right: 0.2em;padding-left: 0.2em;position: relative;}#sk-container-id-4 div.sk-item {position: relative;z-index: 1;}#sk-container-id-4 div.sk-parallel {display: flex;align-items: stretch;justify-content: center;background-color: white;position: relative;}#sk-container-id-4 div.sk-item::before, #sk-container-id-4 div.sk-parallel-item::before {content: \"\";position: absolute;border-left: 1px solid gray;box-sizing: border-box;top: 0;bottom: 0;left: 50%;z-index: -1;}#sk-container-id-4 div.sk-parallel-item {display: flex;flex-direction: column;z-index: 1;position: relative;background-color: white;}#sk-container-id-4 div.sk-parallel-item:first-child::after {align-self: flex-end;width: 50%;}#sk-container-id-4 div.sk-parallel-item:last-child::after {align-self: flex-start;width: 50%;}#sk-container-id-4 div.sk-parallel-item:only-child::after {width: 0;}#sk-container-id-4 div.sk-dashed-wrapped {border: 1px dashed gray;margin: 0 0.4em 0.5em 0.4em;box-sizing: border-box;padding-bottom: 0.4em;background-color: white;}#sk-container-id-4 div.sk-label label {font-family: monospace;font-weight: bold;display: inline-block;line-height: 1.2em;}#sk-container-id-4 div.sk-label-container {text-align: center;}#sk-container-id-4 div.sk-container {/* jupyter's `normalize.less` sets `[hidden] { display: none; }` but bootstrap.min.css set `[hidden] { display: none !important; }` so we also need the `!important` here to be able to override the default hidden behavior on the sphinx rendered scikit-learn.org. See: https://github.com/scikit-learn/scikit-learn/issues/21755 */display: inline-block !important;position: relative;}#sk-container-id-4 div.sk-text-repr-fallback {display: none;}</style><div id=\"sk-container-id-4\" class=\"sk-top-container\"><div class=\"sk-text-repr-fallback\"><pre>MultinomialNB()</pre><b>In a Jupyter environment, please rerun this cell to show the HTML representation or trust the notebook. <br />On GitHub, the HTML representation is unable to render, please try loading this page with nbviewer.org.</b></div><div class=\"sk-container\" hidden><div class=\"sk-item\"><div class=\"sk-estimator sk-toggleable\"><input class=\"sk-toggleable__control sk-hidden--visually\" id=\"sk-estimator-id-4\" type=\"checkbox\" checked><label for=\"sk-estimator-id-4\" class=\"sk-toggleable__label sk-toggleable__label-arrow\">MultinomialNB</label><div class=\"sk-toggleable__content\"><pre>MultinomialNB()</pre></div></div></div></div></div>"
      ],
      "text/plain": [
       "MultinomialNB()"
      ]
     },
     "execution_count": 50,
     "metadata": {},
     "output_type": "execute_result"
    }
   ],
   "source": [
    "from sklearn.naive_bayes import MultinomialNB\n",
    "multinomial_clf = MultinomialNB()\n",
    "multinomial_clf.fit(X_train_tfidf, y_train)"
   ]
  },
  {
   "cell_type": "code",
   "execution_count": 51,
   "id": "a6a65aae",
   "metadata": {
    "execution": {
     "iopub.execute_input": "2024-12-14T02:38:33.440371Z",
     "iopub.status.busy": "2024-12-14T02:38:33.440110Z",
     "iopub.status.idle": "2024-12-14T02:38:33.621759Z",
     "shell.execute_reply": "2024-12-14T02:38:33.620918Z"
    },
    "papermill": {
     "duration": 0.195808,
     "end_time": "2024-12-14T02:38:33.623114",
     "exception": false,
     "start_time": "2024-12-14T02:38:33.427306",
     "status": "completed"
    },
    "tags": []
   },
   "outputs": [
    {
     "name": "stdout",
     "output_type": "stream",
     "text": [
      "-------------------> Multinomial Naive Bayes\n",
      "Accuracy: 0.75\n",
      "F1-Score for each class:\n",
      "Positive: 0.77\n",
      "Negative: 0.73\n",
      "\n",
      "Classification Report:\n",
      "              precision    recall  f1-score   support\n",
      "\n",
      "    Positive       0.72      0.82      0.77      2949\n",
      "    Negative       0.78      0.68      0.73      2847\n",
      "\n",
      "    accuracy                           0.75      5796\n",
      "   macro avg       0.75      0.75      0.75      5796\n",
      "weighted avg       0.75      0.75      0.75      5796\n",
      "\n"
     ]
    },
    {
     "data": {
      "image/png": "[encoded data removed]",
      "text/plain": [
       "<Figure size 800x600 with 2 Axes>"
      ]
     },
     "metadata": {},
     "output_type": "display_data"
    }
   ],
   "source": [
    "y_hat = multinomial_clf.predict(X_test_tfidf) \n",
    "about_model(\"Multinomial Naive Bayes\" , y_test, y_hat)"
   ]
  },
  {
   "cell_type": "markdown",
   "id": "a83de0dc",
   "metadata": {
    "papermill": {
     "duration": 0.011905,
     "end_time": "2024-12-14T02:38:33.647467",
     "exception": false,
     "start_time": "2024-12-14T02:38:33.635562",
     "status": "completed"
    },
    "tags": []
   },
   "source": [
    "### Tuned Multinomial Naive Bayes"
   ]
  },
  {
   "cell_type": "code",
   "execution_count": 52,
   "id": "fb84b8ee",
   "metadata": {
    "execution": {
     "iopub.execute_input": "2024-12-14T02:38:33.672517Z",
     "iopub.status.busy": "2024-12-14T02:38:33.672200Z",
     "iopub.status.idle": "2024-12-14T02:38:33.865230Z",
     "shell.execute_reply": "2024-12-14T02:38:33.864553Z"
    },
    "papermill": {
     "duration": 0.207055,
     "end_time": "2024-12-14T02:38:33.866483",
     "exception": false,
     "start_time": "2024-12-14T02:38:33.659428",
     "status": "completed"
    },
    "tags": []
   },
   "outputs": [
    {
     "name": "stdout",
     "output_type": "stream",
     "text": [
      "Fitting 5 folds for each of 8 candidates, totalling 40 fits\n"
     ]
    },
    {
     "data": {
      "text/plain": [
       "{'alpha': 2.0, 'fit_prior': False}"
      ]
     },
     "execution_count": 52,
     "metadata": {},
     "output_type": "execute_result"
    }
   ],
   "source": [
    "param_grid_ = {\n",
    "    'alpha': [0.1, 0.5, 1.0, 2.0],  \n",
    "    'fit_prior': [True, False] \n",
    "}\n",
    "\n",
    "mn_grid = GridSearchCV(MultinomialNB(), \n",
    "                       param_grid= param_grid_, \n",
    "                       cv=5, verbose=1 , \n",
    "                       scoring='accuracy',\n",
    "                       n_jobs=-1,\n",
    "                      )\n",
    "mn_grid.fit(X_train_tfidf, y_train)\n",
    "mn_grid.best_params_"
   ]
  },
  {
   "cell_type": "code",
   "execution_count": 53,
   "id": "85bb644f",
   "metadata": {
    "execution": {
     "iopub.execute_input": "2024-12-14T02:38:33.891974Z",
     "iopub.status.busy": "2024-12-14T02:38:33.891718Z",
     "iopub.status.idle": "2024-12-14T02:38:34.074236Z",
     "shell.execute_reply": "2024-12-14T02:38:34.073599Z"
    },
    "papermill": {
     "duration": 0.196648,
     "end_time": "2024-12-14T02:38:34.075600",
     "exception": false,
     "start_time": "2024-12-14T02:38:33.878952",
     "status": "completed"
    },
    "tags": []
   },
   "outputs": [
    {
     "name": "stdout",
     "output_type": "stream",
     "text": [
      "-------------------> Tuned Multinomial Naive Bayes\n",
      "Accuracy: 0.75\n",
      "F1-Score for each class:\n",
      "Positive: 0.76\n",
      "Negative: 0.73\n",
      "\n",
      "Classification Report:\n",
      "              precision    recall  f1-score   support\n",
      "\n",
      "    Positive       0.73      0.81      0.76      2949\n",
      "    Negative       0.77      0.68      0.73      2847\n",
      "\n",
      "    accuracy                           0.75      5796\n",
      "   macro avg       0.75      0.74      0.74      5796\n",
      "weighted avg       0.75      0.75      0.74      5796\n",
      "\n"
     ]
    },
    {
     "data": {
      "image/png": "[encoded data removed]",
      "text/plain": [
       "<Figure size 800x600 with 2 Axes>"
      ]
     },
     "metadata": {},
     "output_type": "display_data"
    }
   ],
   "source": [
    "y_hat = mn_grid.predict(X_test_tfidf)\n",
    "about_model(\"Tuned Multinomial Naive Bayes\" ,y_test, y_hat)\n"
   ]
  },
  {
   "cell_type": "markdown",
   "id": "fb05ac7e",
   "metadata": {
    "execution": {
     "iopub.execute_input": "2024-12-09T15:57:38.274442Z",
     "iopub.status.busy": "2024-12-09T15:57:38.273474Z",
     "iopub.status.idle": "2024-12-09T15:57:38.294546Z",
     "shell.execute_reply": "2024-12-09T15:57:38.293367Z",
     "shell.execute_reply.started": "2024-12-09T15:57:38.274389Z"
    },
    "papermill": {
     "duration": 0.012631,
     "end_time": "2024-12-14T02:38:34.101537",
     "exception": false,
     "start_time": "2024-12-14T02:38:34.088906",
     "status": "completed"
    },
    "tags": []
   },
   "source": [
    "### Lightgbm"
   ]
  },
  {
   "cell_type": "code",
   "execution_count": 54,
   "id": "5e963b3f",
   "metadata": {
    "execution": {
     "iopub.execute_input": "2024-12-14T02:38:34.128113Z",
     "iopub.status.busy": "2024-12-14T02:38:34.127846Z",
     "iopub.status.idle": "2024-12-14T02:38:36.758270Z",
     "shell.execute_reply": "2024-12-14T02:38:36.757568Z"
    },
    "papermill": {
     "duration": 2.645825,
     "end_time": "2024-12-14T02:38:36.759914",
     "exception": false,
     "start_time": "2024-12-14T02:38:34.114089",
     "status": "completed"
    },
    "tags": []
   },
   "outputs": [],
   "source": [
    "import lightgbm as lgb\n",
    "d_train = lgb.Dataset(X_train_tfidf, label=y_train)\n",
    "d_test = lgb.Dataset(X_test_tfidf, label=y_test, reference=d_train)\n",
    "\n",
    "params = {\n",
    "    'objective': 'binary',  \n",
    "    'boosting_type': 'gbdt',\n",
    "    'metric': 'binary_logloss', \n",
    "    'num_leaves': 31,\n",
    "    'learning_rate': 0.1,\n",
    "    'verbose': 0\n",
    "}\n",
    "\n",
    "model = lgb.train(params, d_train, num_boost_round=100, valid_sets=[d_train, d_test])"
   ]
  },
  {
   "cell_type": "code",
   "execution_count": 55,
   "id": "41ee379a",
   "metadata": {
    "execution": {
     "iopub.execute_input": "2024-12-14T02:38:36.786474Z",
     "iopub.status.busy": "2024-12-14T02:38:36.786065Z",
     "iopub.status.idle": "2024-12-14T02:38:37.028557Z",
     "shell.execute_reply": "2024-12-14T02:38:37.027774Z"
    },
    "papermill": {
     "duration": 0.257133,
     "end_time": "2024-12-14T02:38:37.029875",
     "exception": false,
     "start_time": "2024-12-14T02:38:36.772742",
     "status": "completed"
    },
    "tags": []
   },
   "outputs": [
    {
     "name": "stdout",
     "output_type": "stream",
     "text": [
      "-------------------> lightgbm\n",
      "Accuracy: 0.68\n",
      "F1-Score for each class:\n",
      "Positive: 0.63\n",
      "Negative: 0.72\n",
      "\n",
      "Classification Report:\n",
      "              precision    recall  f1-score   support\n",
      "\n",
      "    Positive       0.77      0.53      0.63      2949\n",
      "    Negative       0.63      0.83      0.72      2847\n",
      "\n",
      "    accuracy                           0.68      5796\n",
      "   macro avg       0.70      0.68      0.67      5796\n",
      "weighted avg       0.70      0.68      0.67      5796\n",
      "\n"
     ]
    },
    {
     "data": {
      "image/png": "[encoded data removed]",
      "text/plain": [
       "<Figure size 800x600 with 2 Axes>"
      ]
     },
     "metadata": {},
     "output_type": "display_data"
    }
   ],
   "source": [
    "y_hat = model.predict(X_test_tfidf)\n",
    "y_hat = (y_hat > 0.5).astype(int)\n",
    "about_model(\"lightgbm\", y_test, y_hat)\n"
   ]
  },
  {
   "cell_type": "markdown",
   "id": "a54ddeaf",
   "metadata": {
    "papermill": {
     "duration": 0.012727,
     "end_time": "2024-12-14T02:38:37.056233",
     "exception": false,
     "start_time": "2024-12-14T02:38:37.043506",
     "status": "completed"
    },
    "tags": []
   },
   "source": [
    "### Tuned lightgbm"
   ]
  },
  {
   "cell_type": "code",
   "execution_count": 56,
   "id": "5e9d9865",
   "metadata": {
    "execution": {
     "iopub.execute_input": "2024-12-14T02:38:37.083969Z",
     "iopub.status.busy": "2024-12-14T02:38:37.083287Z",
     "iopub.status.idle": "2024-12-14T02:41:19.870732Z",
     "shell.execute_reply": "2024-12-14T02:41:19.869937Z"
    },
    "papermill": {
     "duration": 162.803003,
     "end_time": "2024-12-14T02:41:19.872328",
     "exception": false,
     "start_time": "2024-12-14T02:38:37.069325",
     "status": "completed"
    },
    "tags": []
   },
   "outputs": [
    {
     "name": "stdout",
     "output_type": "stream",
     "text": [
      "[LightGBM] [Info] Number of positive: 9111, number of negative: 9434\n",
      "[LightGBM] [Info] Auto-choosing row-wise multi-threading, the overhead of testing was 0.036946 seconds.\n",
      "You can set `force_row_wise=true` to remove the overhead.\n",
      "And if memory is not enough, you can set `force_col_wise=true`.\n",
      "[LightGBM] [Info] Total Bins 9343\n",
      "[LightGBM] [Info] Number of data points in the train set: 18545, number of used features: 472\n",
      "[LightGBM] [Info] [binary:BoostFromScore]: pavg=0.491291 -> initscore=-0.034838\n",
      "[LightGBM] [Info] Start training from score -0.034838\n",
      "[LightGBM] [Info] Number of positive: 9111, number of negative: 9434\n",
      "[LightGBM] [Info] Auto-choosing row-wise multi-threading, the overhead of testing was 0.037274 seconds.\n",
      "You can set `force_row_wise=true` to remove the overhead.\n",
      "And if memory is not enough, you can set `force_col_wise=true`.\n",
      "[LightGBM] [Info] Total Bins 9264\n",
      "[LightGBM] [Info] Number of data points in the train set: 18545, number of used features: 470\n",
      "[LightGBM] [Info] [binary:BoostFromScore]: pavg=0.491291 -> initscore=-0.034838\n",
      "[LightGBM] [Info] Start training from score -0.034838\n",
      "[LightGBM] [Info] Number of positive: 9112, number of negative: 9434\n",
      "[LightGBM] [Info] Auto-choosing row-wise multi-threading, the overhead of testing was 0.041994 seconds.\n",
      "You can set `force_row_wise=true` to remove the overhead.\n",
      "And if memory is not enough, you can set `force_col_wise=true`.\n",
      "[LightGBM] [Info] Total Bins 9352\n",
      "[LightGBM] [Info] Number of data points in the train set: 18546, number of used features: 470\n",
      "[LightGBM] [Info] [binary:BoostFromScore]: pavg=0.491319 -> initscore=-0.034728\n",
      "[LightGBM] [Info] Start training from score -0.034728\n",
      "[LightGBM] [Info] Number of positive: 9111, number of negative: 9435\n",
      "[LightGBM] [Info] Auto-choosing row-wise multi-threading, the overhead of testing was 0.037478 seconds.\n",
      "You can set `force_row_wise=true` to remove the overhead.\n",
      "And if memory is not enough, you can set `force_col_wise=true`.\n",
      "[LightGBM] [Info] Total Bins 9351\n",
      "[LightGBM] [Info] Number of data points in the train set: 18546, number of used features: 475\n",
      "[LightGBM] [Info] [binary:BoostFromScore]: pavg=0.491265 -> initscore=-0.034944\n",
      "[LightGBM] [Info] Start training from score -0.034944\n",
      "[LightGBM] [Info] Number of positive: 9111, number of negative: 9435\n",
      "[LightGBM] [Info] Auto-choosing row-wise multi-threading, the overhead of testing was 0.036303 seconds.\n",
      "You can set `force_row_wise=true` to remove the overhead.\n",
      "And if memory is not enough, you can set `force_col_wise=true`.\n",
      "[LightGBM] [Info] Total Bins 9206\n",
      "[LightGBM] [Info] Number of data points in the train set: 18546, number of used features: 459\n",
      "[LightGBM] [Info] [binary:BoostFromScore]: pavg=0.491265 -> initscore=-0.034944\n",
      "[LightGBM] [Info] Start training from score -0.034944\n",
      "[LightGBM] [Info] Number of positive: 9111, number of negative: 9434\n",
      "[LightGBM] [Info] Auto-choosing row-wise multi-threading, the overhead of testing was 0.038108 seconds.\n",
      "You can set `force_row_wise=true` to remove the overhead.\n",
      "And if memory is not enough, you can set `force_col_wise=true`.\n",
      "[LightGBM] [Info] Total Bins 9343\n",
      "[LightGBM] [Info] Number of data points in the train set: 18545, number of used features: 472\n",
      "[LightGBM] [Info] [binary:BoostFromScore]: pavg=0.491291 -> initscore=-0.034838\n",
      "[LightGBM] [Info] Start training from score -0.034838\n",
      "[LightGBM] [Info] Number of positive: 9111, number of negative: 9434\n",
      "[LightGBM] [Info] Auto-choosing row-wise multi-threading, the overhead of testing was 0.037471 seconds.\n",
      "You can set `force_row_wise=true` to remove the overhead.\n",
      "And if memory is not enough, you can set `force_col_wise=true`.\n",
      "[LightGBM] [Info] Total Bins 9264\n",
      "[LightGBM] [Info] Number of data points in the train set: 18545, number of used features: 470\n",
      "[LightGBM] [Info] [binary:BoostFromScore]: pavg=0.491291 -> initscore=-0.034838\n",
      "[LightGBM] [Info] Start training from score -0.034838\n",
      "[LightGBM] [Info] Number of positive: 9112, number of negative: 9434\n",
      "[LightGBM] [Info] Auto-choosing row-wise multi-threading, the overhead of testing was 0.037277 seconds.\n",
      "You can set `force_row_wise=true` to remove the overhead.\n",
      "And if memory is not enough, you can set `force_col_wise=true`.\n",
      "[LightGBM] [Info] Total Bins 9352\n",
      "[LightGBM] [Info] Number of data points in the train set: 18546, number of used features: 470\n",
      "[LightGBM] [Info] [binary:BoostFromScore]: pavg=0.491319 -> initscore=-0.034728\n",
      "[LightGBM] [Info] Start training from score -0.034728\n",
      "[LightGBM] [Info] Number of positive: 9111, number of negative: 9435\n",
      "[LightGBM] [Info] Auto-choosing row-wise multi-threading, the overhead of testing was 0.037718 seconds.\n",
      "You can set `force_row_wise=true` to remove the overhead.\n",
      "And if memory is not enough, you can set `force_col_wise=true`.\n",
      "[LightGBM] [Info] Total Bins 9351\n",
      "[LightGBM] [Info] Number of data points in the train set: 18546, number of used features: 475\n",
      "[LightGBM] [Info] [binary:BoostFromScore]: pavg=0.491265 -> initscore=-0.034944\n",
      "[LightGBM] [Info] Start training from score -0.034944\n",
      "[LightGBM] [Info] Number of positive: 9111, number of negative: 9435\n",
      "[LightGBM] [Info] Auto-choosing row-wise multi-threading, the overhead of testing was 0.036744 seconds.\n",
      "You can set `force_row_wise=true` to remove the overhead.\n",
      "And if memory is not enough, you can set `force_col_wise=true`.\n",
      "[LightGBM] [Info] Total Bins 9206\n",
      "[LightGBM] [Info] Number of data points in the train set: 18546, number of used features: 459\n",
      "[LightGBM] [Info] [binary:BoostFromScore]: pavg=0.491265 -> initscore=-0.034944\n",
      "[LightGBM] [Info] Start training from score -0.034944\n",
      "[LightGBM] [Info] Number of positive: 9111, number of negative: 9434\n",
      "[LightGBM] [Info] Auto-choosing row-wise multi-threading, the overhead of testing was 0.037413 seconds.\n",
      "You can set `force_row_wise=true` to remove the overhead.\n",
      "And if memory is not enough, you can set `force_col_wise=true`.\n",
      "[LightGBM] [Info] Total Bins 9343\n",
      "[LightGBM] [Info] Number of data points in the train set: 18545, number of used features: 472\n",
      "[LightGBM] [Info] [binary:BoostFromScore]: pavg=0.491291 -> initscore=-0.034838\n",
      "[LightGBM] [Info] Start training from score -0.034838\n",
      "[LightGBM] [Info] Number of positive: 9111, number of negative: 9434\n",
      "[LightGBM] [Info] Auto-choosing row-wise multi-threading, the overhead of testing was 0.037539 seconds.\n",
      "You can set `force_row_wise=true` to remove the overhead.\n",
      "And if memory is not enough, you can set `force_col_wise=true`.\n",
      "[LightGBM] [Info] Total Bins 9264\n",
      "[LightGBM] [Info] Number of data points in the train set: 18545, number of used features: 470\n",
      "[LightGBM] [Info] [binary:BoostFromScore]: pavg=0.491291 -> initscore=-0.034838\n",
      "[LightGBM] [Info] Start training from score -0.034838\n",
      "[LightGBM] [Info] Number of positive: 9112, number of negative: 9434\n",
      "[LightGBM] [Info] Auto-choosing row-wise multi-threading, the overhead of testing was 0.037436 seconds.\n",
      "You can set `force_row_wise=true` to remove the overhead.\n",
      "And if memory is not enough, you can set `force_col_wise=true`.\n",
      "[LightGBM] [Info] Total Bins 9352\n",
      "[LightGBM] [Info] Number of data points in the train set: 18546, number of used features: 470\n",
      "[LightGBM] [Info] [binary:BoostFromScore]: pavg=0.491319 -> initscore=-0.034728\n",
      "[LightGBM] [Info] Start training from score -0.034728\n",
      "[LightGBM] [Info] Number of positive: 9111, number of negative: 9435\n",
      "[LightGBM] [Info] Auto-choosing row-wise multi-threading, the overhead of testing was 0.038715 seconds.\n",
      "You can set `force_row_wise=true` to remove the overhead.\n",
      "And if memory is not enough, you can set `force_col_wise=true`.\n",
      "[LightGBM] [Info] Total Bins 9351\n",
      "[LightGBM] [Info] Number of data points in the train set: 18546, number of used features: 475\n",
      "[LightGBM] [Info] [binary:BoostFromScore]: pavg=0.491265 -> initscore=-0.034944\n",
      "[LightGBM] [Info] Start training from score -0.034944\n",
      "[LightGBM] [Info] Number of positive: 9111, number of negative: 9435\n",
      "[LightGBM] [Info] Auto-choosing row-wise multi-threading, the overhead of testing was 0.038069 seconds.\n",
      "You can set `force_row_wise=true` to remove the overhead.\n",
      "And if memory is not enough, you can set `force_col_wise=true`.\n",
      "[LightGBM] [Info] Total Bins 9206\n",
      "[LightGBM] [Info] Number of data points in the train set: 18546, number of used features: 459\n",
      "[LightGBM] [Info] [binary:BoostFromScore]: pavg=0.491265 -> initscore=-0.034944\n",
      "[LightGBM] [Info] Start training from score -0.034944\n",
      "[LightGBM] [Info] Number of positive: 9111, number of negative: 9434\n",
      "[LightGBM] [Info] Auto-choosing row-wise multi-threading, the overhead of testing was 0.038001 seconds.\n",
      "You can set `force_row_wise=true` to remove the overhead.\n",
      "And if memory is not enough, you can set `force_col_wise=true`.\n",
      "[LightGBM] [Info] Total Bins 9343\n",
      "[LightGBM] [Info] Number of data points in the train set: 18545, number of used features: 472\n",
      "[LightGBM] [Info] [binary:BoostFromScore]: pavg=0.491291 -> initscore=-0.034838\n",
      "[LightGBM] [Info] Start training from score -0.034838\n",
      "[LightGBM] [Info] Number of positive: 9111, number of negative: 9434\n",
      "[LightGBM] [Info] Auto-choosing row-wise multi-threading, the overhead of testing was 0.038404 seconds.\n",
      "You can set `force_row_wise=true` to remove the overhead.\n",
      "And if memory is not enough, you can set `force_col_wise=true`.\n",
      "[LightGBM] [Info] Total Bins 9264\n",
      "[LightGBM] [Info] Number of data points in the train set: 18545, number of used features: 470\n",
      "[LightGBM] [Info] [binary:BoostFromScore]: pavg=0.491291 -> initscore=-0.034838\n",
      "[LightGBM] [Info] Start training from score -0.034838\n",
      "[LightGBM] [Info] Number of positive: 9112, number of negative: 9434\n",
      "[LightGBM] [Info] Auto-choosing row-wise multi-threading, the overhead of testing was 0.037688 seconds.\n",
      "You can set `force_row_wise=true` to remove the overhead.\n",
      "And if memory is not enough, you can set `force_col_wise=true`.\n",
      "[LightGBM] [Info] Total Bins 9352\n",
      "[LightGBM] [Info] Number of data points in the train set: 18546, number of used features: 470\n",
      "[LightGBM] [Info] [binary:BoostFromScore]: pavg=0.491319 -> initscore=-0.034728\n",
      "[LightGBM] [Info] Start training from score -0.034728\n",
      "[LightGBM] [Info] Number of positive: 9111, number of negative: 9435\n",
      "[LightGBM] [Info] Auto-choosing row-wise multi-threading, the overhead of testing was 0.037951 seconds.\n",
      "You can set `force_row_wise=true` to remove the overhead.\n",
      "And if memory is not enough, you can set `force_col_wise=true`.\n",
      "[LightGBM] [Info] Total Bins 9351\n",
      "[LightGBM] [Info] Number of data points in the train set: 18546, number of used features: 475\n",
      "[LightGBM] [Info] [binary:BoostFromScore]: pavg=0.491265 -> initscore=-0.034944\n",
      "[LightGBM] [Info] Start training from score -0.034944\n",
      "[LightGBM] [Info] Number of positive: 9111, number of negative: 9435\n",
      "[LightGBM] [Info] Auto-choosing row-wise multi-threading, the overhead of testing was 0.036583 seconds.\n",
      "You can set `force_row_wise=true` to remove the overhead.\n",
      "And if memory is not enough, you can set `force_col_wise=true`.\n",
      "[LightGBM] [Info] Total Bins 9206\n",
      "[LightGBM] [Info] Number of data points in the train set: 18546, number of used features: 459\n",
      "[LightGBM] [Info] [binary:BoostFromScore]: pavg=0.491265 -> initscore=-0.034944\n",
      "[LightGBM] [Info] Start training from score -0.034944\n",
      "[LightGBM] [Info] Number of positive: 9111, number of negative: 9434\n",
      "[LightGBM] [Info] Auto-choosing row-wise multi-threading, the overhead of testing was 0.037621 seconds.\n",
      "You can set `force_row_wise=true` to remove the overhead.\n",
      "And if memory is not enough, you can set `force_col_wise=true`.\n",
      "[LightGBM] [Info] Total Bins 9343\n",
      "[LightGBM] [Info] Number of data points in the train set: 18545, number of used features: 472\n",
      "[LightGBM] [Info] [binary:BoostFromScore]: pavg=0.491291 -> initscore=-0.034838\n",
      "[LightGBM] [Info] Start training from score -0.034838\n",
      "[LightGBM] [Info] Number of positive: 9111, number of negative: 9434\n",
      "[LightGBM] [Info] Auto-choosing row-wise multi-threading, the overhead of testing was 0.037320 seconds.\n",
      "You can set `force_row_wise=true` to remove the overhead.\n",
      "And if memory is not enough, you can set `force_col_wise=true`.\n",
      "[LightGBM] [Info] Total Bins 9264\n",
      "[LightGBM] [Info] Number of data points in the train set: 18545, number of used features: 470\n",
      "[LightGBM] [Info] [binary:BoostFromScore]: pavg=0.491291 -> initscore=-0.034838\n",
      "[LightGBM] [Info] Start training from score -0.034838\n",
      "[LightGBM] [Info] Number of positive: 9112, number of negative: 9434\n",
      "[LightGBM] [Info] Auto-choosing row-wise multi-threading, the overhead of testing was 0.037492 seconds.\n",
      "You can set `force_row_wise=true` to remove the overhead.\n",
      "And if memory is not enough, you can set `force_col_wise=true`.\n",
      "[LightGBM] [Info] Total Bins 9352\n",
      "[LightGBM] [Info] Number of data points in the train set: 18546, number of used features: 470\n",
      "[LightGBM] [Info] [binary:BoostFromScore]: pavg=0.491319 -> initscore=-0.034728\n",
      "[LightGBM] [Info] Start training from score -0.034728\n",
      "[LightGBM] [Info] Number of positive: 9111, number of negative: 9435\n",
      "[LightGBM] [Info] Auto-choosing row-wise multi-threading, the overhead of testing was 0.037686 seconds.\n",
      "You can set `force_row_wise=true` to remove the overhead.\n",
      "And if memory is not enough, you can set `force_col_wise=true`.\n",
      "[LightGBM] [Info] Total Bins 9351\n",
      "[LightGBM] [Info] Number of data points in the train set: 18546, number of used features: 475\n",
      "[LightGBM] [Info] [binary:BoostFromScore]: pavg=0.491265 -> initscore=-0.034944\n",
      "[LightGBM] [Info] Start training from score -0.034944\n",
      "[LightGBM] [Info] Number of positive: 9111, number of negative: 9435\n",
      "[LightGBM] [Info] Auto-choosing row-wise multi-threading, the overhead of testing was 0.036441 seconds.\n",
      "You can set `force_row_wise=true` to remove the overhead.\n",
      "And if memory is not enough, you can set `force_col_wise=true`.\n",
      "[LightGBM] [Info] Total Bins 9206\n",
      "[LightGBM] [Info] Number of data points in the train set: 18546, number of used features: 459\n",
      "[LightGBM] [Info] [binary:BoostFromScore]: pavg=0.491265 -> initscore=-0.034944\n",
      "[LightGBM] [Info] Start training from score -0.034944\n",
      "[LightGBM] [Info] Number of positive: 9111, number of negative: 9434\n",
      "[LightGBM] [Info] Auto-choosing row-wise multi-threading, the overhead of testing was 0.037474 seconds.\n",
      "You can set `force_row_wise=true` to remove the overhead.\n",
      "And if memory is not enough, you can set `force_col_wise=true`.\n",
      "[LightGBM] [Info] Total Bins 9343\n",
      "[LightGBM] [Info] Number of data points in the train set: 18545, number of used features: 472\n",
      "[LightGBM] [Info] [binary:BoostFromScore]: pavg=0.491291 -> initscore=-0.034838\n",
      "[LightGBM] [Info] Start training from score -0.034838\n",
      "[LightGBM] [Info] Number of positive: 9111, number of negative: 9434\n",
      "[LightGBM] [Info] Auto-choosing row-wise multi-threading, the overhead of testing was 0.037160 seconds.\n",
      "You can set `force_row_wise=true` to remove the overhead.\n",
      "And if memory is not enough, you can set `force_col_wise=true`.\n",
      "[LightGBM] [Info] Total Bins 9264\n",
      "[LightGBM] [Info] Number of data points in the train set: 18545, number of used features: 470\n",
      "[LightGBM] [Info] [binary:BoostFromScore]: pavg=0.491291 -> initscore=-0.034838\n",
      "[LightGBM] [Info] Start training from score -0.034838\n",
      "[LightGBM] [Info] Number of positive: 9112, number of negative: 9434\n",
      "[LightGBM] [Info] Auto-choosing row-wise multi-threading, the overhead of testing was 0.037259 seconds.\n",
      "You can set `force_row_wise=true` to remove the overhead.\n",
      "And if memory is not enough, you can set `force_col_wise=true`.\n",
      "[LightGBM] [Info] Total Bins 9352\n",
      "[LightGBM] [Info] Number of data points in the train set: 18546, number of used features: 470\n",
      "[LightGBM] [Info] [binary:BoostFromScore]: pavg=0.491319 -> initscore=-0.034728\n",
      "[LightGBM] [Info] Start training from score -0.034728\n",
      "[LightGBM] [Info] Number of positive: 9111, number of negative: 9435\n",
      "[LightGBM] [Info] Auto-choosing row-wise multi-threading, the overhead of testing was 0.037622 seconds.\n",
      "You can set `force_row_wise=true` to remove the overhead.\n",
      "And if memory is not enough, you can set `force_col_wise=true`.\n",
      "[LightGBM] [Info] Total Bins 9351\n",
      "[LightGBM] [Info] Number of data points in the train set: 18546, number of used features: 475\n",
      "[LightGBM] [Info] [binary:BoostFromScore]: pavg=0.491265 -> initscore=-0.034944\n",
      "[LightGBM] [Info] Start training from score -0.034944\n",
      "[LightGBM] [Info] Number of positive: 9111, number of negative: 9435\n",
      "[LightGBM] [Info] Auto-choosing row-wise multi-threading, the overhead of testing was 0.036381 seconds.\n",
      "You can set `force_row_wise=true` to remove the overhead.\n",
      "And if memory is not enough, you can set `force_col_wise=true`.\n",
      "[LightGBM] [Info] Total Bins 9206\n",
      "[LightGBM] [Info] Number of data points in the train set: 18546, number of used features: 459\n",
      "[LightGBM] [Info] [binary:BoostFromScore]: pavg=0.491265 -> initscore=-0.034944\n",
      "[LightGBM] [Info] Start training from score -0.034944\n",
      "[LightGBM] [Info] Number of positive: 9111, number of negative: 9434\n",
      "[LightGBM] [Info] Auto-choosing row-wise multi-threading, the overhead of testing was 0.037463 seconds.\n",
      "You can set `force_row_wise=true` to remove the overhead.\n",
      "And if memory is not enough, you can set `force_col_wise=true`.\n",
      "[LightGBM] [Info] Total Bins 9343\n",
      "[LightGBM] [Info] Number of data points in the train set: 18545, number of used features: 472\n",
      "[LightGBM] [Info] [binary:BoostFromScore]: pavg=0.491291 -> initscore=-0.034838\n",
      "[LightGBM] [Info] Start training from score -0.034838\n",
      "[LightGBM] [Info] Number of positive: 9111, number of negative: 9434\n",
      "[LightGBM] [Info] Auto-choosing row-wise multi-threading, the overhead of testing was 0.037184 seconds.\n",
      "You can set `force_row_wise=true` to remove the overhead.\n",
      "And if memory is not enough, you can set `force_col_wise=true`.\n",
      "[LightGBM] [Info] Total Bins 9264\n",
      "[LightGBM] [Info] Number of data points in the train set: 18545, number of used features: 470\n",
      "[LightGBM] [Info] [binary:BoostFromScore]: pavg=0.491291 -> initscore=-0.034838\n",
      "[LightGBM] [Info] Start training from score -0.034838\n",
      "[LightGBM] [Info] Number of positive: 9112, number of negative: 9434\n",
      "[LightGBM] [Info] Auto-choosing col-wise multi-threading, the overhead of testing was 0.037319 seconds.\n",
      "You can set `force_col_wise=true` to remove the overhead.\n",
      "[LightGBM] [Info] Total Bins 9352\n",
      "[LightGBM] [Info] Number of data points in the train set: 18546, number of used features: 470\n",
      "[LightGBM] [Info] [binary:BoostFromScore]: pavg=0.491319 -> initscore=-0.034728\n",
      "[LightGBM] [Info] Start training from score -0.034728\n",
      "[LightGBM] [Info] Number of positive: 9111, number of negative: 9435\n",
      "[LightGBM] [Info] Auto-choosing row-wise multi-threading, the overhead of testing was 0.037653 seconds.\n",
      "You can set `force_row_wise=true` to remove the overhead.\n",
      "And if memory is not enough, you can set `force_col_wise=true`.\n",
      "[LightGBM] [Info] Total Bins 9351\n",
      "[LightGBM] [Info] Number of data points in the train set: 18546, number of used features: 475\n",
      "[LightGBM] [Info] [binary:BoostFromScore]: pavg=0.491265 -> initscore=-0.034944\n",
      "[LightGBM] [Info] Start training from score -0.034944\n",
      "[LightGBM] [Info] Number of positive: 9111, number of negative: 9435\n",
      "[LightGBM] [Info] Auto-choosing row-wise multi-threading, the overhead of testing was 0.037426 seconds.\n",
      "You can set `force_row_wise=true` to remove the overhead.\n",
      "And if memory is not enough, you can set `force_col_wise=true`.\n",
      "[LightGBM] [Info] Total Bins 9206\n",
      "[LightGBM] [Info] Number of data points in the train set: 18546, number of used features: 459\n",
      "[LightGBM] [Info] [binary:BoostFromScore]: pavg=0.491265 -> initscore=-0.034944\n",
      "[LightGBM] [Info] Start training from score -0.034944\n",
      "[LightGBM] [Info] Number of positive: 9111, number of negative: 9434\n",
      "[LightGBM] [Info] Auto-choosing row-wise multi-threading, the overhead of testing was 0.037513 seconds.\n",
      "You can set `force_row_wise=true` to remove the overhead.\n",
      "And if memory is not enough, you can set `force_col_wise=true`.\n",
      "[LightGBM] [Info] Total Bins 9343\n",
      "[LightGBM] [Info] Number of data points in the train set: 18545, number of used features: 472\n",
      "[LightGBM] [Info] [binary:BoostFromScore]: pavg=0.491291 -> initscore=-0.034838\n",
      "[LightGBM] [Info] Start training from score -0.034838\n",
      "[LightGBM] [Info] Number of positive: 9111, number of negative: 9434\n",
      "[LightGBM] [Info] Auto-choosing row-wise multi-threading, the overhead of testing was 0.037255 seconds.\n",
      "You can set `force_row_wise=true` to remove the overhead.\n",
      "And if memory is not enough, you can set `force_col_wise=true`.\n",
      "[LightGBM] [Info] Total Bins 9264\n",
      "[LightGBM] [Info] Number of data points in the train set: 18545, number of used features: 470\n",
      "[LightGBM] [Info] [binary:BoostFromScore]: pavg=0.491291 -> initscore=-0.034838\n",
      "[LightGBM] [Info] Start training from score -0.034838\n",
      "[LightGBM] [Info] Number of positive: 9112, number of negative: 9434\n",
      "[LightGBM] [Info] Auto-choosing row-wise multi-threading, the overhead of testing was 0.037742 seconds.\n",
      "You can set `force_row_wise=true` to remove the overhead.\n",
      "And if memory is not enough, you can set `force_col_wise=true`.\n",
      "[LightGBM] [Info] Total Bins 9352\n",
      "[LightGBM] [Info] Number of data points in the train set: 18546, number of used features: 470\n",
      "[LightGBM] [Info] [binary:BoostFromScore]: pavg=0.491319 -> initscore=-0.034728\n",
      "[LightGBM] [Info] Start training from score -0.034728\n",
      "[LightGBM] [Info] Number of positive: 9111, number of negative: 9435\n",
      "[LightGBM] [Info] Auto-choosing row-wise multi-threading, the overhead of testing was 0.037732 seconds.\n",
      "You can set `force_row_wise=true` to remove the overhead.\n",
      "And if memory is not enough, you can set `force_col_wise=true`.\n",
      "[LightGBM] [Info] Total Bins 9351\n",
      "[LightGBM] [Info] Number of data points in the train set: 18546, number of used features: 475\n",
      "[LightGBM] [Info] [binary:BoostFromScore]: pavg=0.491265 -> initscore=-0.034944\n",
      "[LightGBM] [Info] Start training from score -0.034944\n",
      "[LightGBM] [Info] Number of positive: 9111, number of negative: 9435\n",
      "[LightGBM] [Info] Auto-choosing row-wise multi-threading, the overhead of testing was 0.036542 seconds.\n",
      "You can set `force_row_wise=true` to remove the overhead.\n",
      "And if memory is not enough, you can set `force_col_wise=true`.\n",
      "[LightGBM] [Info] Total Bins 9206\n",
      "[LightGBM] [Info] Number of data points in the train set: 18546, number of used features: 459\n",
      "[LightGBM] [Info] [binary:BoostFromScore]: pavg=0.491265 -> initscore=-0.034944\n",
      "[LightGBM] [Info] Start training from score -0.034944\n",
      "[LightGBM] [Info] Number of positive: 9111, number of negative: 9434\n",
      "[LightGBM] [Info] Auto-choosing row-wise multi-threading, the overhead of testing was 0.037891 seconds.\n",
      "You can set `force_row_wise=true` to remove the overhead.\n",
      "And if memory is not enough, you can set `force_col_wise=true`.\n",
      "[LightGBM] [Info] Total Bins 9343\n",
      "[LightGBM] [Info] Number of data points in the train set: 18545, number of used features: 472\n",
      "[LightGBM] [Info] [binary:BoostFromScore]: pavg=0.491291 -> initscore=-0.034838\n",
      "[LightGBM] [Info] Start training from score -0.034838\n",
      "[LightGBM] [Info] Number of positive: 9111, number of negative: 9434\n",
      "[LightGBM] [Info] Auto-choosing row-wise multi-threading, the overhead of testing was 0.037127 seconds.\n",
      "You can set `force_row_wise=true` to remove the overhead.\n",
      "And if memory is not enough, you can set `force_col_wise=true`.\n",
      "[LightGBM] [Info] Total Bins 9264\n",
      "[LightGBM] [Info] Number of data points in the train set: 18545, number of used features: 470\n",
      "[LightGBM] [Info] [binary:BoostFromScore]: pavg=0.491291 -> initscore=-0.034838\n",
      "[LightGBM] [Info] Start training from score -0.034838\n",
      "[LightGBM] [Info] Number of positive: 9112, number of negative: 9434\n",
      "[LightGBM] [Info] Auto-choosing row-wise multi-threading, the overhead of testing was 0.037267 seconds.\n",
      "You can set `force_row_wise=true` to remove the overhead.\n",
      "And if memory is not enough, you can set `force_col_wise=true`.\n",
      "[LightGBM] [Info] Total Bins 9352\n",
      "[LightGBM] [Info] Number of data points in the train set: 18546, number of used features: 470\n",
      "[LightGBM] [Info] [binary:BoostFromScore]: pavg=0.491319 -> initscore=-0.034728\n",
      "[LightGBM] [Info] Start training from score -0.034728\n",
      "[LightGBM] [Info] Number of positive: 9111, number of negative: 9435\n",
      "[LightGBM] [Info] Auto-choosing row-wise multi-threading, the overhead of testing was 0.037671 seconds.\n",
      "You can set `force_row_wise=true` to remove the overhead.\n",
      "And if memory is not enough, you can set `force_col_wise=true`.\n",
      "[LightGBM] [Info] Total Bins 9351\n",
      "[LightGBM] [Info] Number of data points in the train set: 18546, number of used features: 475\n",
      "[LightGBM] [Info] [binary:BoostFromScore]: pavg=0.491265 -> initscore=-0.034944\n",
      "[LightGBM] [Info] Start training from score -0.034944\n",
      "[LightGBM] [Info] Number of positive: 9111, number of negative: 9435\n",
      "[LightGBM] [Info] Auto-choosing row-wise multi-threading, the overhead of testing was 0.036306 seconds.\n",
      "You can set `force_row_wise=true` to remove the overhead.\n",
      "And if memory is not enough, you can set `force_col_wise=true`.\n",
      "[LightGBM] [Info] Total Bins 9206\n",
      "[LightGBM] [Info] Number of data points in the train set: 18546, number of used features: 459\n",
      "[LightGBM] [Info] [binary:BoostFromScore]: pavg=0.491265 -> initscore=-0.034944\n",
      "[LightGBM] [Info] Start training from score -0.034944\n",
      "[LightGBM] [Info] Number of positive: 9111, number of negative: 9434\n",
      "[LightGBM] [Info] Auto-choosing row-wise multi-threading, the overhead of testing was 0.037356 seconds.\n",
      "You can set `force_row_wise=true` to remove the overhead.\n",
      "And if memory is not enough, you can set `force_col_wise=true`.\n",
      "[LightGBM] [Info] Total Bins 9343\n",
      "[LightGBM] [Info] Number of data points in the train set: 18545, number of used features: 472\n",
      "[LightGBM] [Info] [binary:BoostFromScore]: pavg=0.491291 -> initscore=-0.034838\n",
      "[LightGBM] [Info] Start training from score -0.034838\n",
      "[LightGBM] [Info] Number of positive: 9111, number of negative: 9434\n",
      "[LightGBM] [Info] Auto-choosing row-wise multi-threading, the overhead of testing was 0.037194 seconds.\n",
      "You can set `force_row_wise=true` to remove the overhead.\n",
      "And if memory is not enough, you can set `force_col_wise=true`.\n",
      "[LightGBM] [Info] Total Bins 9264\n",
      "[LightGBM] [Info] Number of data points in the train set: 18545, number of used features: 470\n",
      "[LightGBM] [Info] [binary:BoostFromScore]: pavg=0.491291 -> initscore=-0.034838\n",
      "[LightGBM] [Info] Start training from score -0.034838\n",
      "[LightGBM] [Info] Number of positive: 9112, number of negative: 9434\n",
      "[LightGBM] [Info] Auto-choosing row-wise multi-threading, the overhead of testing was 0.037099 seconds.\n",
      "You can set `force_row_wise=true` to remove the overhead.\n",
      "And if memory is not enough, you can set `force_col_wise=true`.\n",
      "[LightGBM] [Info] Total Bins 9352\n",
      "[LightGBM] [Info] Number of data points in the train set: 18546, number of used features: 470\n",
      "[LightGBM] [Info] [binary:BoostFromScore]: pavg=0.491319 -> initscore=-0.034728\n",
      "[LightGBM] [Info] Start training from score -0.034728\n",
      "[LightGBM] [Info] Number of positive: 9111, number of negative: 9435\n",
      "[LightGBM] [Info] Auto-choosing row-wise multi-threading, the overhead of testing was 0.037684 seconds.\n",
      "You can set `force_row_wise=true` to remove the overhead.\n",
      "And if memory is not enough, you can set `force_col_wise=true`.\n",
      "[LightGBM] [Info] Total Bins 9351\n",
      "[LightGBM] [Info] Number of data points in the train set: 18546, number of used features: 475\n",
      "[LightGBM] [Info] [binary:BoostFromScore]: pavg=0.491265 -> initscore=-0.034944\n",
      "[LightGBM] [Info] Start training from score -0.034944\n",
      "[LightGBM] [Info] Number of positive: 9111, number of negative: 9435\n",
      "[LightGBM] [Info] Auto-choosing row-wise multi-threading, the overhead of testing was 0.036175 seconds.\n",
      "You can set `force_row_wise=true` to remove the overhead.\n",
      "And if memory is not enough, you can set `force_col_wise=true`.\n",
      "[LightGBM] [Info] Total Bins 9206\n",
      "[LightGBM] [Info] Number of data points in the train set: 18546, number of used features: 459\n",
      "[LightGBM] [Info] [binary:BoostFromScore]: pavg=0.491265 -> initscore=-0.034944\n",
      "[LightGBM] [Info] Start training from score -0.034944\n",
      "[LightGBM] [Info] Number of positive: 9111, number of negative: 9434\n",
      "[LightGBM] [Info] Auto-choosing row-wise multi-threading, the overhead of testing was 0.037385 seconds.\n",
      "You can set `force_row_wise=true` to remove the overhead.\n",
      "And if memory is not enough, you can set `force_col_wise=true`.\n",
      "[LightGBM] [Info] Total Bins 9343\n",
      "[LightGBM] [Info] Number of data points in the train set: 18545, number of used features: 472\n",
      "[LightGBM] [Info] [binary:BoostFromScore]: pavg=0.491291 -> initscore=-0.034838\n",
      "[LightGBM] [Info] Start training from score -0.034838\n",
      "[LightGBM] [Info] Number of positive: 9111, number of negative: 9434\n",
      "[LightGBM] [Info] Auto-choosing row-wise multi-threading, the overhead of testing was 0.037053 seconds.\n",
      "You can set `force_row_wise=true` to remove the overhead.\n",
      "And if memory is not enough, you can set `force_col_wise=true`.\n",
      "[LightGBM] [Info] Total Bins 9264\n",
      "[LightGBM] [Info] Number of data points in the train set: 18545, number of used features: 470\n",
      "[LightGBM] [Info] [binary:BoostFromScore]: pavg=0.491291 -> initscore=-0.034838\n",
      "[LightGBM] [Info] Start training from score -0.034838\n",
      "[LightGBM] [Info] Number of positive: 9112, number of negative: 9434\n",
      "[LightGBM] [Info] Auto-choosing row-wise multi-threading, the overhead of testing was 0.037308 seconds.\n",
      "You can set `force_row_wise=true` to remove the overhead.\n",
      "And if memory is not enough, you can set `force_col_wise=true`.\n",
      "[LightGBM] [Info] Total Bins 9352\n",
      "[LightGBM] [Info] Number of data points in the train set: 18546, number of used features: 470\n",
      "[LightGBM] [Info] [binary:BoostFromScore]: pavg=0.491319 -> initscore=-0.034728\n",
      "[LightGBM] [Info] Start training from score -0.034728\n",
      "[LightGBM] [Info] Number of positive: 9111, number of negative: 9435\n",
      "[LightGBM] [Info] Auto-choosing row-wise multi-threading, the overhead of testing was 0.037625 seconds.\n",
      "You can set `force_row_wise=true` to remove the overhead.\n",
      "And if memory is not enough, you can set `force_col_wise=true`.\n",
      "[LightGBM] [Info] Total Bins 9351\n",
      "[LightGBM] [Info] Number of data points in the train set: 18546, number of used features: 475\n",
      "[LightGBM] [Info] [binary:BoostFromScore]: pavg=0.491265 -> initscore=-0.034944\n",
      "[LightGBM] [Info] Start training from score -0.034944\n",
      "[LightGBM] [Info] Number of positive: 9111, number of negative: 9435\n",
      "[LightGBM] [Info] Auto-choosing row-wise multi-threading, the overhead of testing was 0.036749 seconds.\n",
      "You can set `force_row_wise=true` to remove the overhead.\n",
      "And if memory is not enough, you can set `force_col_wise=true`.\n",
      "[LightGBM] [Info] Total Bins 9206\n",
      "[LightGBM] [Info] Number of data points in the train set: 18546, number of used features: 459\n",
      "[LightGBM] [Info] [binary:BoostFromScore]: pavg=0.491265 -> initscore=-0.034944\n",
      "[LightGBM] [Info] Start training from score -0.034944\n",
      "[LightGBM] [Info] Number of positive: 9111, number of negative: 9434\n",
      "[LightGBM] [Info] Auto-choosing row-wise multi-threading, the overhead of testing was 0.037409 seconds.\n",
      "You can set `force_row_wise=true` to remove the overhead.\n",
      "And if memory is not enough, you can set `force_col_wise=true`.\n",
      "[LightGBM] [Info] Total Bins 9343\n",
      "[LightGBM] [Info] Number of data points in the train set: 18545, number of used features: 472\n",
      "[LightGBM] [Info] [binary:BoostFromScore]: pavg=0.491291 -> initscore=-0.034838\n",
      "[LightGBM] [Info] Start training from score -0.034838\n",
      "[LightGBM] [Info] Number of positive: 9111, number of negative: 9434\n",
      "[LightGBM] [Info] Auto-choosing row-wise multi-threading, the overhead of testing was 0.037116 seconds.\n",
      "You can set `force_row_wise=true` to remove the overhead.\n",
      "And if memory is not enough, you can set `force_col_wise=true`.\n",
      "[LightGBM] [Info] Total Bins 9264\n",
      "[LightGBM] [Info] Number of data points in the train set: 18545, number of used features: 470\n",
      "[LightGBM] [Info] [binary:BoostFromScore]: pavg=0.491291 -> initscore=-0.034838\n",
      "[LightGBM] [Info] Start training from score -0.034838\n",
      "[LightGBM] [Info] Number of positive: 9112, number of negative: 9434\n",
      "[LightGBM] [Info] Auto-choosing row-wise multi-threading, the overhead of testing was 0.037030 seconds.\n",
      "You can set `force_row_wise=true` to remove the overhead.\n",
      "And if memory is not enough, you can set `force_col_wise=true`.\n",
      "[LightGBM] [Info] Total Bins 9352\n",
      "[LightGBM] [Info] Number of data points in the train set: 18546, number of used features: 470\n",
      "[LightGBM] [Info] [binary:BoostFromScore]: pavg=0.491319 -> initscore=-0.034728\n",
      "[LightGBM] [Info] Start training from score -0.034728\n",
      "[LightGBM] [Info] Number of positive: 9111, number of negative: 9435\n",
      "[LightGBM] [Info] Auto-choosing row-wise multi-threading, the overhead of testing was 0.038123 seconds.\n",
      "You can set `force_row_wise=true` to remove the overhead.\n",
      "And if memory is not enough, you can set `force_col_wise=true`.\n",
      "[LightGBM] [Info] Total Bins 9351\n",
      "[LightGBM] [Info] Number of data points in the train set: 18546, number of used features: 475\n",
      "[LightGBM] [Info] [binary:BoostFromScore]: pavg=0.491265 -> initscore=-0.034944\n",
      "[LightGBM] [Info] Start training from score -0.034944\n",
      "[LightGBM] [Info] Number of positive: 9111, number of negative: 9435\n",
      "[LightGBM] [Info] Auto-choosing row-wise multi-threading, the overhead of testing was 0.036523 seconds.\n",
      "You can set `force_row_wise=true` to remove the overhead.\n",
      "And if memory is not enough, you can set `force_col_wise=true`.\n",
      "[LightGBM] [Info] Total Bins 9206\n",
      "[LightGBM] [Info] Number of data points in the train set: 18546, number of used features: 459\n",
      "[LightGBM] [Info] [binary:BoostFromScore]: pavg=0.491265 -> initscore=-0.034944\n",
      "[LightGBM] [Info] Start training from score -0.034944\n",
      "[LightGBM] [Info] Number of positive: 9111, number of negative: 9434\n",
      "[LightGBM] [Info] Auto-choosing row-wise multi-threading, the overhead of testing was 0.037545 seconds.\n",
      "You can set `force_row_wise=true` to remove the overhead.\n",
      "And if memory is not enough, you can set `force_col_wise=true`.\n",
      "[LightGBM] [Info] Total Bins 9343\n",
      "[LightGBM] [Info] Number of data points in the train set: 18545, number of used features: 472\n",
      "[LightGBM] [Info] [binary:BoostFromScore]: pavg=0.491291 -> initscore=-0.034838\n",
      "[LightGBM] [Info] Start training from score -0.034838\n",
      "[LightGBM] [Info] Number of positive: 9111, number of negative: 9434\n",
      "[LightGBM] [Info] Auto-choosing row-wise multi-threading, the overhead of testing was 0.037527 seconds.\n",
      "You can set `force_row_wise=true` to remove the overhead.\n",
      "And if memory is not enough, you can set `force_col_wise=true`.\n",
      "[LightGBM] [Info] Total Bins 9264\n",
      "[LightGBM] [Info] Number of data points in the train set: 18545, number of used features: 470\n",
      "[LightGBM] [Info] [binary:BoostFromScore]: pavg=0.491291 -> initscore=-0.034838\n",
      "[LightGBM] [Info] Start training from score -0.034838\n",
      "[LightGBM] [Info] Number of positive: 9112, number of negative: 9434\n",
      "[LightGBM] [Info] Auto-choosing row-wise multi-threading, the overhead of testing was 0.037349 seconds.\n",
      "You can set `force_row_wise=true` to remove the overhead.\n",
      "And if memory is not enough, you can set `force_col_wise=true`.\n",
      "[LightGBM] [Info] Total Bins 9352\n",
      "[LightGBM] [Info] Number of data points in the train set: 18546, number of used features: 470\n",
      "[LightGBM] [Info] [binary:BoostFromScore]: pavg=0.491319 -> initscore=-0.034728\n",
      "[LightGBM] [Info] Start training from score -0.034728\n",
      "[LightGBM] [Info] Number of positive: 9111, number of negative: 9435\n",
      "[LightGBM] [Info] Auto-choosing row-wise multi-threading, the overhead of testing was 0.037575 seconds.\n",
      "You can set `force_row_wise=true` to remove the overhead.\n",
      "And if memory is not enough, you can set `force_col_wise=true`.\n",
      "[LightGBM] [Info] Total Bins 9351\n",
      "[LightGBM] [Info] Number of data points in the train set: 18546, number of used features: 475\n",
      "[LightGBM] [Info] [binary:BoostFromScore]: pavg=0.491265 -> initscore=-0.034944\n",
      "[LightGBM] [Info] Start training from score -0.034944\n",
      "[LightGBM] [Info] Number of positive: 9111, number of negative: 9435\n",
      "[LightGBM] [Info] Auto-choosing row-wise multi-threading, the overhead of testing was 0.036334 seconds.\n",
      "You can set `force_row_wise=true` to remove the overhead.\n",
      "And if memory is not enough, you can set `force_col_wise=true`.\n",
      "[LightGBM] [Info] Total Bins 9206\n",
      "[LightGBM] [Info] Number of data points in the train set: 18546, number of used features: 459\n",
      "[LightGBM] [Info] [binary:BoostFromScore]: pavg=0.491265 -> initscore=-0.034944\n",
      "[LightGBM] [Info] Start training from score -0.034944\n",
      "[LightGBM] [Info] Number of positive: 9111, number of negative: 9434\n",
      "[LightGBM] [Info] Auto-choosing row-wise multi-threading, the overhead of testing was 0.037304 seconds.\n",
      "You can set `force_row_wise=true` to remove the overhead.\n",
      "And if memory is not enough, you can set `force_col_wise=true`.\n",
      "[LightGBM] [Info] Total Bins 9343\n",
      "[LightGBM] [Info] Number of data points in the train set: 18545, number of used features: 472\n",
      "[LightGBM] [Info] [binary:BoostFromScore]: pavg=0.491291 -> initscore=-0.034838\n",
      "[LightGBM] [Info] Start training from score -0.034838\n",
      "[LightGBM] [Info] Number of positive: 9111, number of negative: 9434\n",
      "[LightGBM] [Info] Auto-choosing row-wise multi-threading, the overhead of testing was 0.037936 seconds.\n",
      "You can set `force_row_wise=true` to remove the overhead.\n",
      "And if memory is not enough, you can set `force_col_wise=true`.\n",
      "[LightGBM] [Info] Total Bins 9264\n",
      "[LightGBM] [Info] Number of data points in the train set: 18545, number of used features: 470\n",
      "[LightGBM] [Info] [binary:BoostFromScore]: pavg=0.491291 -> initscore=-0.034838\n",
      "[LightGBM] [Info] Start training from score -0.034838\n",
      "[LightGBM] [Info] Number of positive: 9112, number of negative: 9434\n",
      "[LightGBM] [Info] Auto-choosing row-wise multi-threading, the overhead of testing was 0.037314 seconds.\n",
      "You can set `force_row_wise=true` to remove the overhead.\n",
      "And if memory is not enough, you can set `force_col_wise=true`.\n",
      "[LightGBM] [Info] Total Bins 9352\n",
      "[LightGBM] [Info] Number of data points in the train set: 18546, number of used features: 470\n",
      "[LightGBM] [Info] [binary:BoostFromScore]: pavg=0.491319 -> initscore=-0.034728\n",
      "[LightGBM] [Info] Start training from score -0.034728\n",
      "[LightGBM] [Info] Number of positive: 9111, number of negative: 9435\n",
      "[LightGBM] [Info] Auto-choosing row-wise multi-threading, the overhead of testing was 0.037907 seconds.\n",
      "You can set `force_row_wise=true` to remove the overhead.\n",
      "And if memory is not enough, you can set `force_col_wise=true`.\n",
      "[LightGBM] [Info] Total Bins 9351\n",
      "[LightGBM] [Info] Number of data points in the train set: 18546, number of used features: 475\n",
      "[LightGBM] [Info] [binary:BoostFromScore]: pavg=0.491265 -> initscore=-0.034944\n",
      "[LightGBM] [Info] Start training from score -0.034944\n",
      "[LightGBM] [Info] Number of positive: 9111, number of negative: 9435\n",
      "[LightGBM] [Info] Auto-choosing row-wise multi-threading, the overhead of testing was 0.036755 seconds.\n",
      "You can set `force_row_wise=true` to remove the overhead.\n",
      "And if memory is not enough, you can set `force_col_wise=true`.\n",
      "[LightGBM] [Info] Total Bins 9206\n",
      "[LightGBM] [Info] Number of data points in the train set: 18546, number of used features: 459\n",
      "[LightGBM] [Info] [binary:BoostFromScore]: pavg=0.491265 -> initscore=-0.034944\n",
      "[LightGBM] [Info] Start training from score -0.034944\n",
      "[LightGBM] [Info] Number of positive: 9111, number of negative: 9434\n",
      "[LightGBM] [Info] Auto-choosing row-wise multi-threading, the overhead of testing was 0.037303 seconds.\n",
      "You can set `force_row_wise=true` to remove the overhead.\n",
      "And if memory is not enough, you can set `force_col_wise=true`.\n",
      "[LightGBM] [Info] Total Bins 9343\n",
      "[LightGBM] [Info] Number of data points in the train set: 18545, number of used features: 472\n",
      "[LightGBM] [Info] [binary:BoostFromScore]: pavg=0.491291 -> initscore=-0.034838\n",
      "[LightGBM] [Info] Start training from score -0.034838\n",
      "[LightGBM] [Info] Number of positive: 9111, number of negative: 9434\n",
      "[LightGBM] [Info] Auto-choosing row-wise multi-threading, the overhead of testing was 0.037318 seconds.\n",
      "You can set `force_row_wise=true` to remove the overhead.\n",
      "And if memory is not enough, you can set `force_col_wise=true`.\n",
      "[LightGBM] [Info] Total Bins 9264\n",
      "[LightGBM] [Info] Number of data points in the train set: 18545, number of used features: 470\n",
      "[LightGBM] [Info] [binary:BoostFromScore]: pavg=0.491291 -> initscore=-0.034838\n",
      "[LightGBM] [Info] Start training from score -0.034838\n",
      "[LightGBM] [Info] Number of positive: 9112, number of negative: 9434\n",
      "[LightGBM] [Info] Auto-choosing row-wise multi-threading, the overhead of testing was 0.037438 seconds.\n",
      "You can set `force_row_wise=true` to remove the overhead.\n",
      "And if memory is not enough, you can set `force_col_wise=true`.\n",
      "[LightGBM] [Info] Total Bins 9352\n",
      "[LightGBM] [Info] Number of data points in the train set: 18546, number of used features: 470\n",
      "[LightGBM] [Info] [binary:BoostFromScore]: pavg=0.491319 -> initscore=-0.034728\n",
      "[LightGBM] [Info] Start training from score -0.034728\n",
      "[LightGBM] [Info] Number of positive: 9111, number of negative: 9435\n",
      "[LightGBM] [Info] Auto-choosing row-wise multi-threading, the overhead of testing was 0.037326 seconds.\n",
      "You can set `force_row_wise=true` to remove the overhead.\n",
      "And if memory is not enough, you can set `force_col_wise=true`.\n",
      "[LightGBM] [Info] Total Bins 9351\n",
      "[LightGBM] [Info] Number of data points in the train set: 18546, number of used features: 475\n",
      "[LightGBM] [Info] [binary:BoostFromScore]: pavg=0.491265 -> initscore=-0.034944\n",
      "[LightGBM] [Info] Start training from score -0.034944\n",
      "[LightGBM] [Info] Number of positive: 9111, number of negative: 9435\n",
      "[LightGBM] [Info] Auto-choosing row-wise multi-threading, the overhead of testing was 0.036423 seconds.\n",
      "You can set `force_row_wise=true` to remove the overhead.\n",
      "And if memory is not enough, you can set `force_col_wise=true`.\n",
      "[LightGBM] [Info] Total Bins 9206\n",
      "[LightGBM] [Info] Number of data points in the train set: 18546, number of used features: 459\n",
      "[LightGBM] [Info] [binary:BoostFromScore]: pavg=0.491265 -> initscore=-0.034944\n",
      "[LightGBM] [Info] Start training from score -0.034944\n",
      "[LightGBM] [Info] Number of positive: 9111, number of negative: 9434\n",
      "[LightGBM] [Info] Auto-choosing row-wise multi-threading, the overhead of testing was 0.037209 seconds.\n",
      "You can set `force_row_wise=true` to remove the overhead.\n",
      "And if memory is not enough, you can set `force_col_wise=true`.\n",
      "[LightGBM] [Info] Total Bins 9343\n",
      "[LightGBM] [Info] Number of data points in the train set: 18545, number of used features: 472\n",
      "[LightGBM] [Info] [binary:BoostFromScore]: pavg=0.491291 -> initscore=-0.034838\n",
      "[LightGBM] [Info] Start training from score -0.034838\n",
      "[LightGBM] [Info] Number of positive: 9111, number of negative: 9434\n",
      "[LightGBM] [Info] Auto-choosing row-wise multi-threading, the overhead of testing was 0.037183 seconds.\n",
      "You can set `force_row_wise=true` to remove the overhead.\n",
      "And if memory is not enough, you can set `force_col_wise=true`.\n",
      "[LightGBM] [Info] Total Bins 9264\n",
      "[LightGBM] [Info] Number of data points in the train set: 18545, number of used features: 470\n",
      "[LightGBM] [Info] [binary:BoostFromScore]: pavg=0.491291 -> initscore=-0.034838\n",
      "[LightGBM] [Info] Start training from score -0.034838\n",
      "[LightGBM] [Info] Number of positive: 9112, number of negative: 9434\n",
      "[LightGBM] [Info] Auto-choosing row-wise multi-threading, the overhead of testing was 0.037149 seconds.\n",
      "You can set `force_row_wise=true` to remove the overhead.\n",
      "And if memory is not enough, you can set `force_col_wise=true`.\n",
      "[LightGBM] [Info] Total Bins 9352\n",
      "[LightGBM] [Info] Number of data points in the train set: 18546, number of used features: 470\n",
      "[LightGBM] [Info] [binary:BoostFromScore]: pavg=0.491319 -> initscore=-0.034728\n",
      "[LightGBM] [Info] Start training from score -0.034728\n",
      "[LightGBM] [Info] Number of positive: 9111, number of negative: 9435\n",
      "[LightGBM] [Info] Auto-choosing row-wise multi-threading, the overhead of testing was 0.037625 seconds.\n",
      "You can set `force_row_wise=true` to remove the overhead.\n",
      "And if memory is not enough, you can set `force_col_wise=true`.\n",
      "[LightGBM] [Info] Total Bins 9351\n",
      "[LightGBM] [Info] Number of data points in the train set: 18546, number of used features: 475\n",
      "[LightGBM] [Info] [binary:BoostFromScore]: pavg=0.491265 -> initscore=-0.034944\n",
      "[LightGBM] [Info] Start training from score -0.034944\n",
      "[LightGBM] [Info] Number of positive: 9111, number of negative: 9435\n",
      "[LightGBM] [Info] Auto-choosing row-wise multi-threading, the overhead of testing was 0.036310 seconds.\n",
      "You can set `force_row_wise=true` to remove the overhead.\n",
      "And if memory is not enough, you can set `force_col_wise=true`.\n",
      "[LightGBM] [Info] Total Bins 9206\n",
      "[LightGBM] [Info] Number of data points in the train set: 18546, number of used features: 459\n",
      "[LightGBM] [Info] [binary:BoostFromScore]: pavg=0.491265 -> initscore=-0.034944\n",
      "[LightGBM] [Info] Start training from score -0.034944\n",
      "[LightGBM] [Info] Number of positive: 9111, number of negative: 9434\n",
      "[LightGBM] [Info] Auto-choosing row-wise multi-threading, the overhead of testing was 0.037292 seconds.\n",
      "You can set `force_row_wise=true` to remove the overhead.\n",
      "And if memory is not enough, you can set `force_col_wise=true`.\n",
      "[LightGBM] [Info] Total Bins 9343\n",
      "[LightGBM] [Info] Number of data points in the train set: 18545, number of used features: 472\n",
      "[LightGBM] [Info] [binary:BoostFromScore]: pavg=0.491291 -> initscore=-0.034838\n",
      "[LightGBM] [Info] Start training from score -0.034838\n",
      "[LightGBM] [Info] Number of positive: 9111, number of negative: 9434\n",
      "[LightGBM] [Info] Auto-choosing row-wise multi-threading, the overhead of testing was 0.037500 seconds.\n",
      "You can set `force_row_wise=true` to remove the overhead.\n",
      "And if memory is not enough, you can set `force_col_wise=true`.\n",
      "[LightGBM] [Info] Total Bins 9264\n",
      "[LightGBM] [Info] Number of data points in the train set: 18545, number of used features: 470\n",
      "[LightGBM] [Info] [binary:BoostFromScore]: pavg=0.491291 -> initscore=-0.034838\n",
      "[LightGBM] [Info] Start training from score -0.034838\n",
      "[LightGBM] [Info] Number of positive: 9112, number of negative: 9434\n",
      "[LightGBM] [Info] Auto-choosing row-wise multi-threading, the overhead of testing was 0.037366 seconds.\n",
      "You can set `force_row_wise=true` to remove the overhead.\n",
      "And if memory is not enough, you can set `force_col_wise=true`.\n",
      "[LightGBM] [Info] Total Bins 9352\n",
      "[LightGBM] [Info] Number of data points in the train set: 18546, number of used features: 470\n",
      "[LightGBM] [Info] [binary:BoostFromScore]: pavg=0.491319 -> initscore=-0.034728\n",
      "[LightGBM] [Info] Start training from score -0.034728\n",
      "[LightGBM] [Info] Number of positive: 9111, number of negative: 9435\n",
      "[LightGBM] [Info] Auto-choosing row-wise multi-threading, the overhead of testing was 0.038266 seconds.\n",
      "You can set `force_row_wise=true` to remove the overhead.\n",
      "And if memory is not enough, you can set `force_col_wise=true`.\n",
      "[LightGBM] [Info] Total Bins 9351\n",
      "[LightGBM] [Info] Number of data points in the train set: 18546, number of used features: 475\n",
      "[LightGBM] [Info] [binary:BoostFromScore]: pavg=0.491265 -> initscore=-0.034944\n",
      "[LightGBM] [Info] Start training from score -0.034944\n",
      "[LightGBM] [Info] Number of positive: 9111, number of negative: 9435\n",
      "[LightGBM] [Info] Auto-choosing row-wise multi-threading, the overhead of testing was 0.036334 seconds.\n",
      "You can set `force_row_wise=true` to remove the overhead.\n",
      "And if memory is not enough, you can set `force_col_wise=true`.\n",
      "[LightGBM] [Info] Total Bins 9206\n",
      "[LightGBM] [Info] Number of data points in the train set: 18546, number of used features: 459\n",
      "[LightGBM] [Info] [binary:BoostFromScore]: pavg=0.491265 -> initscore=-0.034944\n",
      "[LightGBM] [Info] Start training from score -0.034944\n",
      "[LightGBM] [Info] Number of positive: 9111, number of negative: 9434\n",
      "[LightGBM] [Info] Auto-choosing row-wise multi-threading, the overhead of testing was 0.037867 seconds.\n",
      "You can set `force_row_wise=true` to remove the overhead.\n",
      "And if memory is not enough, you can set `force_col_wise=true`.\n",
      "[LightGBM] [Info] Total Bins 9343\n",
      "[LightGBM] [Info] Number of data points in the train set: 18545, number of used features: 472\n",
      "[LightGBM] [Info] [binary:BoostFromScore]: pavg=0.491291 -> initscore=-0.034838\n",
      "[LightGBM] [Info] Start training from score -0.034838\n",
      "[LightGBM] [Info] Number of positive: 9111, number of negative: 9434\n",
      "[LightGBM] [Info] Auto-choosing row-wise multi-threading, the overhead of testing was 0.037664 seconds.\n",
      "You can set `force_row_wise=true` to remove the overhead.\n",
      "And if memory is not enough, you can set `force_col_wise=true`.\n",
      "[LightGBM] [Info] Total Bins 9264\n",
      "[LightGBM] [Info] Number of data points in the train set: 18545, number of used features: 470\n",
      "[LightGBM] [Info] [binary:BoostFromScore]: pavg=0.491291 -> initscore=-0.034838\n",
      "[LightGBM] [Info] Start training from score -0.034838\n",
      "[LightGBM] [Info] Number of positive: 9112, number of negative: 9434\n",
      "[LightGBM] [Info] Auto-choosing row-wise multi-threading, the overhead of testing was 0.037146 seconds.\n",
      "You can set `force_row_wise=true` to remove the overhead.\n",
      "And if memory is not enough, you can set `force_col_wise=true`.\n",
      "[LightGBM] [Info] Total Bins 9352\n",
      "[LightGBM] [Info] Number of data points in the train set: 18546, number of used features: 470\n",
      "[LightGBM] [Info] [binary:BoostFromScore]: pavg=0.491319 -> initscore=-0.034728\n",
      "[LightGBM] [Info] Start training from score -0.034728\n",
      "[LightGBM] [Info] Number of positive: 9111, number of negative: 9435\n",
      "[LightGBM] [Info] Auto-choosing row-wise multi-threading, the overhead of testing was 0.037461 seconds.\n",
      "You can set `force_row_wise=true` to remove the overhead.\n",
      "And if memory is not enough, you can set `force_col_wise=true`.\n",
      "[LightGBM] [Info] Total Bins 9351\n",
      "[LightGBM] [Info] Number of data points in the train set: 18546, number of used features: 475\n",
      "[LightGBM] [Info] [binary:BoostFromScore]: pavg=0.491265 -> initscore=-0.034944\n",
      "[LightGBM] [Info] Start training from score -0.034944\n",
      "[LightGBM] [Info] Number of positive: 9111, number of negative: 9435\n",
      "[LightGBM] [Info] Auto-choosing row-wise multi-threading, the overhead of testing was 0.036213 seconds.\n",
      "You can set `force_row_wise=true` to remove the overhead.\n",
      "And if memory is not enough, you can set `force_col_wise=true`.\n",
      "[LightGBM] [Info] Total Bins 9206\n",
      "[LightGBM] [Info] Number of data points in the train set: 18546, number of used features: 459\n",
      "[LightGBM] [Info] [binary:BoostFromScore]: pavg=0.491265 -> initscore=-0.034944\n",
      "[LightGBM] [Info] Start training from score -0.034944\n",
      "[LightGBM] [Info] Number of positive: 9111, number of negative: 9434\n",
      "[LightGBM] [Info] Auto-choosing row-wise multi-threading, the overhead of testing was 0.037291 seconds.\n",
      "You can set `force_row_wise=true` to remove the overhead.\n",
      "And if memory is not enough, you can set `force_col_wise=true`.\n",
      "[LightGBM] [Info] Total Bins 9343\n",
      "[LightGBM] [Info] Number of data points in the train set: 18545, number of used features: 472\n",
      "[LightGBM] [Info] [binary:BoostFromScore]: pavg=0.491291 -> initscore=-0.034838\n",
      "[LightGBM] [Info] Start training from score -0.034838\n",
      "[LightGBM] [Info] Number of positive: 9111, number of negative: 9434\n",
      "[LightGBM] [Info] Auto-choosing row-wise multi-threading, the overhead of testing was 0.037854 seconds.\n",
      "You can set `force_row_wise=true` to remove the overhead.\n",
      "And if memory is not enough, you can set `force_col_wise=true`.\n",
      "[LightGBM] [Info] Total Bins 9264\n",
      "[LightGBM] [Info] Number of data points in the train set: 18545, number of used features: 470\n",
      "[LightGBM] [Info] [binary:BoostFromScore]: pavg=0.491291 -> initscore=-0.034838\n",
      "[LightGBM] [Info] Start training from score -0.034838\n",
      "[LightGBM] [Info] Number of positive: 9112, number of negative: 9434\n",
      "[LightGBM] [Info] Auto-choosing row-wise multi-threading, the overhead of testing was 0.038457 seconds.\n",
      "You can set `force_row_wise=true` to remove the overhead.\n",
      "And if memory is not enough, you can set `force_col_wise=true`.\n",
      "[LightGBM] [Info] Total Bins 9352\n",
      "[LightGBM] [Info] Number of data points in the train set: 18546, number of used features: 470\n",
      "[LightGBM] [Info] [binary:BoostFromScore]: pavg=0.491319 -> initscore=-0.034728\n",
      "[LightGBM] [Info] Start training from score -0.034728\n",
      "[LightGBM] [Info] Number of positive: 9111, number of negative: 9435\n",
      "[LightGBM] [Info] Auto-choosing row-wise multi-threading, the overhead of testing was 0.037930 seconds.\n",
      "You can set `force_row_wise=true` to remove the overhead.\n",
      "And if memory is not enough, you can set `force_col_wise=true`.\n",
      "[LightGBM] [Info] Total Bins 9351\n",
      "[LightGBM] [Info] Number of data points in the train set: 18546, number of used features: 475\n",
      "[LightGBM] [Info] [binary:BoostFromScore]: pavg=0.491265 -> initscore=-0.034944\n",
      "[LightGBM] [Info] Start training from score -0.034944\n",
      "[LightGBM] [Info] Number of positive: 9111, number of negative: 9435\n",
      "[LightGBM] [Info] Auto-choosing row-wise multi-threading, the overhead of testing was 0.037326 seconds.\n",
      "You can set `force_row_wise=true` to remove the overhead.\n",
      "And if memory is not enough, you can set `force_col_wise=true`.\n",
      "[LightGBM] [Info] Total Bins 9206\n",
      "[LightGBM] [Info] Number of data points in the train set: 18546, number of used features: 459\n",
      "[LightGBM] [Info] [binary:BoostFromScore]: pavg=0.491265 -> initscore=-0.034944\n",
      "[LightGBM] [Info] Start training from score -0.034944\n",
      "[LightGBM] [Info] Number of positive: 9111, number of negative: 9434\n",
      "[LightGBM] [Info] Auto-choosing row-wise multi-threading, the overhead of testing was 0.037274 seconds.\n",
      "You can set `force_row_wise=true` to remove the overhead.\n",
      "And if memory is not enough, you can set `force_col_wise=true`.\n",
      "[LightGBM] [Info] Total Bins 9343\n",
      "[LightGBM] [Info] Number of data points in the train set: 18545, number of used features: 472\n",
      "[LightGBM] [Info] [binary:BoostFromScore]: pavg=0.491291 -> initscore=-0.034838\n",
      "[LightGBM] [Info] Start training from score -0.034838\n",
      "[LightGBM] [Info] Number of positive: 9111, number of negative: 9434\n",
      "[LightGBM] [Info] Auto-choosing row-wise multi-threading, the overhead of testing was 0.037219 seconds.\n",
      "You can set `force_row_wise=true` to remove the overhead.\n",
      "And if memory is not enough, you can set `force_col_wise=true`.\n",
      "[LightGBM] [Info] Total Bins 9264\n",
      "[LightGBM] [Info] Number of data points in the train set: 18545, number of used features: 470\n",
      "[LightGBM] [Info] [binary:BoostFromScore]: pavg=0.491291 -> initscore=-0.034838\n",
      "[LightGBM] [Info] Start training from score -0.034838\n",
      "[LightGBM] [Info] Number of positive: 9112, number of negative: 9434\n",
      "[LightGBM] [Info] Auto-choosing row-wise multi-threading, the overhead of testing was 0.037163 seconds.\n",
      "You can set `force_row_wise=true` to remove the overhead.\n",
      "And if memory is not enough, you can set `force_col_wise=true`.\n",
      "[LightGBM] [Info] Total Bins 9352\n",
      "[LightGBM] [Info] Number of data points in the train set: 18546, number of used features: 470\n",
      "[LightGBM] [Info] [binary:BoostFromScore]: pavg=0.491319 -> initscore=-0.034728\n",
      "[LightGBM] [Info] Start training from score -0.034728\n",
      "[LightGBM] [Info] Number of positive: 9111, number of negative: 9435\n",
      "[LightGBM] [Info] Auto-choosing row-wise multi-threading, the overhead of testing was 0.037673 seconds.\n",
      "You can set `force_row_wise=true` to remove the overhead.\n",
      "And if memory is not enough, you can set `force_col_wise=true`.\n",
      "[LightGBM] [Info] Total Bins 9351\n",
      "[LightGBM] [Info] Number of data points in the train set: 18546, number of used features: 475\n",
      "[LightGBM] [Info] [binary:BoostFromScore]: pavg=0.491265 -> initscore=-0.034944\n",
      "[LightGBM] [Info] Start training from score -0.034944\n",
      "[LightGBM] [Info] Number of positive: 9111, number of negative: 9435\n",
      "[LightGBM] [Info] Auto-choosing row-wise multi-threading, the overhead of testing was 0.036138 seconds.\n",
      "You can set `force_row_wise=true` to remove the overhead.\n",
      "And if memory is not enough, you can set `force_col_wise=true`.\n",
      "[LightGBM] [Info] Total Bins 9206\n",
      "[LightGBM] [Info] Number of data points in the train set: 18546, number of used features: 459\n",
      "[LightGBM] [Info] [binary:BoostFromScore]: pavg=0.491265 -> initscore=-0.034944\n",
      "[LightGBM] [Info] Start training from score -0.034944\n",
      "[LightGBM] [Info] Number of positive: 9111, number of negative: 9434\n",
      "[LightGBM] [Info] Auto-choosing row-wise multi-threading, the overhead of testing was 0.037670 seconds.\n",
      "You can set `force_row_wise=true` to remove the overhead.\n",
      "And if memory is not enough, you can set `force_col_wise=true`.\n",
      "[LightGBM] [Info] Total Bins 9343\n",
      "[LightGBM] [Info] Number of data points in the train set: 18545, number of used features: 472\n",
      "[LightGBM] [Info] [binary:BoostFromScore]: pavg=0.491291 -> initscore=-0.034838\n",
      "[LightGBM] [Info] Start training from score -0.034838\n",
      "[LightGBM] [Info] Number of positive: 9111, number of negative: 9434\n",
      "[LightGBM] [Info] Auto-choosing row-wise multi-threading, the overhead of testing was 0.037985 seconds.\n",
      "You can set `force_row_wise=true` to remove the overhead.\n",
      "And if memory is not enough, you can set `force_col_wise=true`.\n",
      "[LightGBM] [Info] Total Bins 9264\n",
      "[LightGBM] [Info] Number of data points in the train set: 18545, number of used features: 470\n",
      "[LightGBM] [Info] [binary:BoostFromScore]: pavg=0.491291 -> initscore=-0.034838\n",
      "[LightGBM] [Info] Start training from score -0.034838\n",
      "[LightGBM] [Info] Number of positive: 9112, number of negative: 9434\n",
      "[LightGBM] [Info] Auto-choosing row-wise multi-threading, the overhead of testing was 0.037004 seconds.\n",
      "You can set `force_row_wise=true` to remove the overhead.\n",
      "And if memory is not enough, you can set `force_col_wise=true`.\n",
      "[LightGBM] [Info] Total Bins 9352\n",
      "[LightGBM] [Info] Number of data points in the train set: 18546, number of used features: 470\n",
      "[LightGBM] [Info] [binary:BoostFromScore]: pavg=0.491319 -> initscore=-0.034728\n",
      "[LightGBM] [Info] Start training from score -0.034728\n",
      "[LightGBM] [Info] Number of positive: 9111, number of negative: 9435\n",
      "[LightGBM] [Info] Auto-choosing row-wise multi-threading, the overhead of testing was 0.037758 seconds.\n",
      "You can set `force_row_wise=true` to remove the overhead.\n",
      "And if memory is not enough, you can set `force_col_wise=true`.\n",
      "[LightGBM] [Info] Total Bins 9351\n",
      "[LightGBM] [Info] Number of data points in the train set: 18546, number of used features: 475\n",
      "[LightGBM] [Info] [binary:BoostFromScore]: pavg=0.491265 -> initscore=-0.034944\n",
      "[LightGBM] [Info] Start training from score -0.034944\n",
      "[LightGBM] [Info] Number of positive: 9111, number of negative: 9435\n",
      "[LightGBM] [Info] Auto-choosing row-wise multi-threading, the overhead of testing was 0.037588 seconds.\n",
      "You can set `force_row_wise=true` to remove the overhead.\n",
      "And if memory is not enough, you can set `force_col_wise=true`.\n",
      "[LightGBM] [Info] Total Bins 9206\n",
      "[LightGBM] [Info] Number of data points in the train set: 18546, number of used features: 459\n",
      "[LightGBM] [Info] [binary:BoostFromScore]: pavg=0.491265 -> initscore=-0.034944\n",
      "[LightGBM] [Info] Start training from score -0.034944\n",
      "[LightGBM] [Info] Number of positive: 9111, number of negative: 9434\n",
      "[LightGBM] [Info] Auto-choosing row-wise multi-threading, the overhead of testing was 0.037575 seconds.\n",
      "You can set `force_row_wise=true` to remove the overhead.\n",
      "And if memory is not enough, you can set `force_col_wise=true`.\n",
      "[LightGBM] [Info] Total Bins 9343\n",
      "[LightGBM] [Info] Number of data points in the train set: 18545, number of used features: 472\n",
      "[LightGBM] [Info] [binary:BoostFromScore]: pavg=0.491291 -> initscore=-0.034838\n",
      "[LightGBM] [Info] Start training from score -0.034838\n",
      "[LightGBM] [Info] Number of positive: 9111, number of negative: 9434\n",
      "[LightGBM] [Info] Auto-choosing row-wise multi-threading, the overhead of testing was 0.037483 seconds.\n",
      "You can set `force_row_wise=true` to remove the overhead.\n",
      "And if memory is not enough, you can set `force_col_wise=true`.\n",
      "[LightGBM] [Info] Total Bins 9264\n",
      "[LightGBM] [Info] Number of data points in the train set: 18545, number of used features: 470\n",
      "[LightGBM] [Info] [binary:BoostFromScore]: pavg=0.491291 -> initscore=-0.034838\n",
      "[LightGBM] [Info] Start training from score -0.034838\n",
      "[LightGBM] [Info] Number of positive: 9112, number of negative: 9434\n",
      "[LightGBM] [Info] Auto-choosing row-wise multi-threading, the overhead of testing was 0.037112 seconds.\n",
      "You can set `force_row_wise=true` to remove the overhead.\n",
      "And if memory is not enough, you can set `force_col_wise=true`.\n",
      "[LightGBM] [Info] Total Bins 9352\n",
      "[LightGBM] [Info] Number of data points in the train set: 18546, number of used features: 470\n",
      "[LightGBM] [Info] [binary:BoostFromScore]: pavg=0.491319 -> initscore=-0.034728\n",
      "[LightGBM] [Info] Start training from score -0.034728\n",
      "[LightGBM] [Info] Number of positive: 9111, number of negative: 9435\n",
      "[LightGBM] [Info] Auto-choosing row-wise multi-threading, the overhead of testing was 0.037730 seconds.\n",
      "You can set `force_row_wise=true` to remove the overhead.\n",
      "And if memory is not enough, you can set `force_col_wise=true`.\n",
      "[LightGBM] [Info] Total Bins 9351\n",
      "[LightGBM] [Info] Number of data points in the train set: 18546, number of used features: 475\n",
      "[LightGBM] [Info] [binary:BoostFromScore]: pavg=0.491265 -> initscore=-0.034944\n",
      "[LightGBM] [Info] Start training from score -0.034944\n",
      "[LightGBM] [Info] Number of positive: 9111, number of negative: 9435\n",
      "[LightGBM] [Info] Auto-choosing row-wise multi-threading, the overhead of testing was 0.036187 seconds.\n",
      "You can set `force_row_wise=true` to remove the overhead.\n",
      "And if memory is not enough, you can set `force_col_wise=true`.\n",
      "[LightGBM] [Info] Total Bins 9206\n",
      "[LightGBM] [Info] Number of data points in the train set: 18546, number of used features: 459\n",
      "[LightGBM] [Info] [binary:BoostFromScore]: pavg=0.491265 -> initscore=-0.034944\n",
      "[LightGBM] [Info] Start training from score -0.034944\n",
      "[LightGBM] [Info] Number of positive: 9111, number of negative: 9434\n",
      "[LightGBM] [Info] Auto-choosing row-wise multi-threading, the overhead of testing was 0.037709 seconds.\n",
      "You can set `force_row_wise=true` to remove the overhead.\n",
      "And if memory is not enough, you can set `force_col_wise=true`.\n",
      "[LightGBM] [Info] Total Bins 9343\n",
      "[LightGBM] [Info] Number of data points in the train set: 18545, number of used features: 472\n",
      "[LightGBM] [Info] [binary:BoostFromScore]: pavg=0.491291 -> initscore=-0.034838\n",
      "[LightGBM] [Info] Start training from score -0.034838\n",
      "[LightGBM] [Info] Number of positive: 9111, number of negative: 9434\n",
      "[LightGBM] [Info] Auto-choosing row-wise multi-threading, the overhead of testing was 0.037331 seconds.\n",
      "You can set `force_row_wise=true` to remove the overhead.\n",
      "And if memory is not enough, you can set `force_col_wise=true`.\n",
      "[LightGBM] [Info] Total Bins 9264\n",
      "[LightGBM] [Info] Number of data points in the train set: 18545, number of used features: 470\n",
      "[LightGBM] [Info] [binary:BoostFromScore]: pavg=0.491291 -> initscore=-0.034838\n",
      "[LightGBM] [Info] Start training from score -0.034838\n",
      "[LightGBM] [Info] Number of positive: 9112, number of negative: 9434\n",
      "[LightGBM] [Info] Auto-choosing row-wise multi-threading, the overhead of testing was 0.037226 seconds.\n",
      "You can set `force_row_wise=true` to remove the overhead.\n",
      "And if memory is not enough, you can set `force_col_wise=true`.\n",
      "[LightGBM] [Info] Total Bins 9352\n",
      "[LightGBM] [Info] Number of data points in the train set: 18546, number of used features: 470\n",
      "[LightGBM] [Info] [binary:BoostFromScore]: pavg=0.491319 -> initscore=-0.034728\n",
      "[LightGBM] [Info] Start training from score -0.034728\n",
      "[LightGBM] [Info] Number of positive: 9111, number of negative: 9435\n",
      "[LightGBM] [Info] Auto-choosing row-wise multi-threading, the overhead of testing was 0.038912 seconds.\n",
      "You can set `force_row_wise=true` to remove the overhead.\n",
      "And if memory is not enough, you can set `force_col_wise=true`.\n",
      "[LightGBM] [Info] Total Bins 9351\n",
      "[LightGBM] [Info] Number of data points in the train set: 18546, number of used features: 475\n",
      "[LightGBM] [Info] [binary:BoostFromScore]: pavg=0.491265 -> initscore=-0.034944\n",
      "[LightGBM] [Info] Start training from score -0.034944\n",
      "[LightGBM] [Info] Number of positive: 9111, number of negative: 9435\n",
      "[LightGBM] [Info] Auto-choosing row-wise multi-threading, the overhead of testing was 0.037036 seconds.\n",
      "You can set `force_row_wise=true` to remove the overhead.\n",
      "And if memory is not enough, you can set `force_col_wise=true`.\n",
      "[LightGBM] [Info] Total Bins 9206\n",
      "[LightGBM] [Info] Number of data points in the train set: 18546, number of used features: 459\n",
      "[LightGBM] [Info] [binary:BoostFromScore]: pavg=0.491265 -> initscore=-0.034944\n",
      "[LightGBM] [Info] Start training from score -0.034944\n",
      "[LightGBM] [Info] Number of positive: 9111, number of negative: 9434\n",
      "[LightGBM] [Info] Auto-choosing row-wise multi-threading, the overhead of testing was 0.037227 seconds.\n",
      "You can set `force_row_wise=true` to remove the overhead.\n",
      "And if memory is not enough, you can set `force_col_wise=true`.\n",
      "[LightGBM] [Info] Total Bins 9343\n",
      "[LightGBM] [Info] Number of data points in the train set: 18545, number of used features: 472\n",
      "[LightGBM] [Info] [binary:BoostFromScore]: pavg=0.491291 -> initscore=-0.034838\n",
      "[LightGBM] [Info] Start training from score -0.034838\n",
      "[LightGBM] [Info] Number of positive: 9111, number of negative: 9434\n",
      "[LightGBM] [Info] Auto-choosing row-wise multi-threading, the overhead of testing was 0.037373 seconds.\n",
      "You can set `force_row_wise=true` to remove the overhead.\n",
      "And if memory is not enough, you can set `force_col_wise=true`.\n",
      "[LightGBM] [Info] Total Bins 9264\n",
      "[LightGBM] [Info] Number of data points in the train set: 18545, number of used features: 470\n",
      "[LightGBM] [Info] [binary:BoostFromScore]: pavg=0.491291 -> initscore=-0.034838\n",
      "[LightGBM] [Info] Start training from score -0.034838\n",
      "[LightGBM] [Info] Number of positive: 9112, number of negative: 9434\n",
      "[LightGBM] [Info] Auto-choosing row-wise multi-threading, the overhead of testing was 0.037242 seconds.\n",
      "You can set `force_row_wise=true` to remove the overhead.\n",
      "And if memory is not enough, you can set `force_col_wise=true`.\n",
      "[LightGBM] [Info] Total Bins 9352\n",
      "[LightGBM] [Info] Number of data points in the train set: 18546, number of used features: 470\n",
      "[LightGBM] [Info] [binary:BoostFromScore]: pavg=0.491319 -> initscore=-0.034728\n",
      "[LightGBM] [Info] Start training from score -0.034728\n",
      "[LightGBM] [Info] Number of positive: 9111, number of negative: 9435\n",
      "[LightGBM] [Info] Auto-choosing row-wise multi-threading, the overhead of testing was 0.037522 seconds.\n",
      "You can set `force_row_wise=true` to remove the overhead.\n",
      "And if memory is not enough, you can set `force_col_wise=true`.\n",
      "[LightGBM] [Info] Total Bins 9351\n",
      "[LightGBM] [Info] Number of data points in the train set: 18546, number of used features: 475\n",
      "[LightGBM] [Info] [binary:BoostFromScore]: pavg=0.491265 -> initscore=-0.034944\n",
      "[LightGBM] [Info] Start training from score -0.034944\n",
      "[LightGBM] [Info] Number of positive: 9111, number of negative: 9435\n",
      "[LightGBM] [Info] Auto-choosing row-wise multi-threading, the overhead of testing was 0.036416 seconds.\n",
      "You can set `force_row_wise=true` to remove the overhead.\n",
      "And if memory is not enough, you can set `force_col_wise=true`.\n",
      "[LightGBM] [Info] Total Bins 9206\n",
      "[LightGBM] [Info] Number of data points in the train set: 18546, number of used features: 459\n",
      "[LightGBM] [Info] [binary:BoostFromScore]: pavg=0.491265 -> initscore=-0.034944\n",
      "[LightGBM] [Info] Start training from score -0.034944\n",
      "[LightGBM] [Info] Number of positive: 9111, number of negative: 9434\n",
      "[LightGBM] [Info] Auto-choosing row-wise multi-threading, the overhead of testing was 0.037415 seconds.\n",
      "You can set `force_row_wise=true` to remove the overhead.\n",
      "And if memory is not enough, you can set `force_col_wise=true`.\n",
      "[LightGBM] [Info] Total Bins 9343\n",
      "[LightGBM] [Info] Number of data points in the train set: 18545, number of used features: 472\n",
      "[LightGBM] [Info] [binary:BoostFromScore]: pavg=0.491291 -> initscore=-0.034838\n",
      "[LightGBM] [Info] Start training from score -0.034838\n",
      "[LightGBM] [Info] Number of positive: 9111, number of negative: 9434\n",
      "[LightGBM] [Info] Auto-choosing row-wise multi-threading, the overhead of testing was 0.037069 seconds.\n",
      "You can set `force_row_wise=true` to remove the overhead.\n",
      "And if memory is not enough, you can set `force_col_wise=true`.\n",
      "[LightGBM] [Info] Total Bins 9264\n",
      "[LightGBM] [Info] Number of data points in the train set: 18545, number of used features: 470\n",
      "[LightGBM] [Info] [binary:BoostFromScore]: pavg=0.491291 -> initscore=-0.034838\n",
      "[LightGBM] [Info] Start training from score -0.034838\n",
      "[LightGBM] [Info] Number of positive: 9112, number of negative: 9434\n",
      "[LightGBM] [Info] Auto-choosing row-wise multi-threading, the overhead of testing was 0.037040 seconds.\n",
      "You can set `force_row_wise=true` to remove the overhead.\n",
      "And if memory is not enough, you can set `force_col_wise=true`.\n",
      "[LightGBM] [Info] Total Bins 9352\n",
      "[LightGBM] [Info] Number of data points in the train set: 18546, number of used features: 470\n",
      "[LightGBM] [Info] [binary:BoostFromScore]: pavg=0.491319 -> initscore=-0.034728\n",
      "[LightGBM] [Info] Start training from score -0.034728\n",
      "[LightGBM] [Info] Number of positive: 9111, number of negative: 9435\n",
      "[LightGBM] [Info] Auto-choosing row-wise multi-threading, the overhead of testing was 0.037603 seconds.\n",
      "You can set `force_row_wise=true` to remove the overhead.\n",
      "And if memory is not enough, you can set `force_col_wise=true`.\n",
      "[LightGBM] [Info] Total Bins 9351\n",
      "[LightGBM] [Info] Number of data points in the train set: 18546, number of used features: 475\n",
      "[LightGBM] [Info] [binary:BoostFromScore]: pavg=0.491265 -> initscore=-0.034944\n",
      "[LightGBM] [Info] Start training from score -0.034944\n",
      "[LightGBM] [Info] Number of positive: 9111, number of negative: 9435\n",
      "[LightGBM] [Info] Auto-choosing row-wise multi-threading, the overhead of testing was 0.037090 seconds.\n",
      "You can set `force_row_wise=true` to remove the overhead.\n",
      "And if memory is not enough, you can set `force_col_wise=true`.\n",
      "[LightGBM] [Info] Total Bins 9206\n",
      "[LightGBM] [Info] Number of data points in the train set: 18546, number of used features: 459\n",
      "[LightGBM] [Info] [binary:BoostFromScore]: pavg=0.491265 -> initscore=-0.034944\n",
      "[LightGBM] [Info] Start training from score -0.034944\n",
      "[LightGBM] [Info] Number of positive: 9111, number of negative: 9434\n",
      "[LightGBM] [Info] Auto-choosing row-wise multi-threading, the overhead of testing was 0.037454 seconds.\n",
      "You can set `force_row_wise=true` to remove the overhead.\n",
      "And if memory is not enough, you can set `force_col_wise=true`.\n",
      "[LightGBM] [Info] Total Bins 9343\n",
      "[LightGBM] [Info] Number of data points in the train set: 18545, number of used features: 472\n",
      "[LightGBM] [Info] [binary:BoostFromScore]: pavg=0.491291 -> initscore=-0.034838\n",
      "[LightGBM] [Info] Start training from score -0.034838\n",
      "[LightGBM] [Info] Number of positive: 9111, number of negative: 9434\n",
      "[LightGBM] [Info] Auto-choosing row-wise multi-threading, the overhead of testing was 0.037808 seconds.\n",
      "You can set `force_row_wise=true` to remove the overhead.\n",
      "And if memory is not enough, you can set `force_col_wise=true`.\n",
      "[LightGBM] [Info] Total Bins 9264\n",
      "[LightGBM] [Info] Number of data points in the train set: 18545, number of used features: 470\n",
      "[LightGBM] [Info] [binary:BoostFromScore]: pavg=0.491291 -> initscore=-0.034838\n",
      "[LightGBM] [Info] Start training from score -0.034838\n",
      "[LightGBM] [Info] Number of positive: 9112, number of negative: 9434\n",
      "[LightGBM] [Info] Auto-choosing row-wise multi-threading, the overhead of testing was 0.036987 seconds.\n",
      "You can set `force_row_wise=true` to remove the overhead.\n",
      "And if memory is not enough, you can set `force_col_wise=true`.\n",
      "[LightGBM] [Info] Total Bins 9352\n",
      "[LightGBM] [Info] Number of data points in the train set: 18546, number of used features: 470\n",
      "[LightGBM] [Info] [binary:BoostFromScore]: pavg=0.491319 -> initscore=-0.034728\n",
      "[LightGBM] [Info] Start training from score -0.034728\n",
      "[LightGBM] [Info] Number of positive: 9111, number of negative: 9435\n",
      "[LightGBM] [Info] Auto-choosing row-wise multi-threading, the overhead of testing was 0.037628 seconds.\n",
      "You can set `force_row_wise=true` to remove the overhead.\n",
      "And if memory is not enough, you can set `force_col_wise=true`.\n",
      "[LightGBM] [Info] Total Bins 9351\n",
      "[LightGBM] [Info] Number of data points in the train set: 18546, number of used features: 475\n",
      "[LightGBM] [Info] [binary:BoostFromScore]: pavg=0.491265 -> initscore=-0.034944\n",
      "[LightGBM] [Info] Start training from score -0.034944\n",
      "[LightGBM] [Info] Number of positive: 9111, number of negative: 9435\n",
      "[LightGBM] [Info] Auto-choosing row-wise multi-threading, the overhead of testing was 0.036621 seconds.\n",
      "You can set `force_row_wise=true` to remove the overhead.\n",
      "And if memory is not enough, you can set `force_col_wise=true`.\n",
      "[LightGBM] [Info] Total Bins 9206\n",
      "[LightGBM] [Info] Number of data points in the train set: 18546, number of used features: 459\n",
      "[LightGBM] [Info] [binary:BoostFromScore]: pavg=0.491265 -> initscore=-0.034944\n",
      "[LightGBM] [Info] Start training from score -0.034944\n",
      "[LightGBM] [Info] Number of positive: 9111, number of negative: 9434\n",
      "[LightGBM] [Info] Auto-choosing row-wise multi-threading, the overhead of testing was 0.037178 seconds.\n",
      "You can set `force_row_wise=true` to remove the overhead.\n",
      "And if memory is not enough, you can set `force_col_wise=true`.\n",
      "[LightGBM] [Info] Total Bins 9343\n",
      "[LightGBM] [Info] Number of data points in the train set: 18545, number of used features: 472\n",
      "[LightGBM] [Info] [binary:BoostFromScore]: pavg=0.491291 -> initscore=-0.034838\n",
      "[LightGBM] [Info] Start training from score -0.034838\n",
      "[LightGBM] [Info] Number of positive: 9111, number of negative: 9434\n",
      "[LightGBM] [Info] Auto-choosing row-wise multi-threading, the overhead of testing was 0.038579 seconds.\n",
      "You can set `force_row_wise=true` to remove the overhead.\n",
      "And if memory is not enough, you can set `force_col_wise=true`.\n",
      "[LightGBM] [Info] Total Bins 9264\n",
      "[LightGBM] [Info] Number of data points in the train set: 18545, number of used features: 470\n",
      "[LightGBM] [Info] [binary:BoostFromScore]: pavg=0.491291 -> initscore=-0.034838\n",
      "[LightGBM] [Info] Start training from score -0.034838\n",
      "[LightGBM] [Info] Number of positive: 9112, number of negative: 9434\n",
      "[LightGBM] [Info] Auto-choosing row-wise multi-threading, the overhead of testing was 0.037543 seconds.\n",
      "You can set `force_row_wise=true` to remove the overhead.\n",
      "And if memory is not enough, you can set `force_col_wise=true`.\n",
      "[LightGBM] [Info] Total Bins 9352\n",
      "[LightGBM] [Info] Number of data points in the train set: 18546, number of used features: 470\n",
      "[LightGBM] [Info] [binary:BoostFromScore]: pavg=0.491319 -> initscore=-0.034728\n",
      "[LightGBM] [Info] Start training from score -0.034728\n",
      "[LightGBM] [Info] Number of positive: 9111, number of negative: 9435\n",
      "[LightGBM] [Info] Auto-choosing row-wise multi-threading, the overhead of testing was 0.037476 seconds.\n",
      "You can set `force_row_wise=true` to remove the overhead.\n",
      "And if memory is not enough, you can set `force_col_wise=true`.\n",
      "[LightGBM] [Info] Total Bins 9351\n",
      "[LightGBM] [Info] Number of data points in the train set: 18546, number of used features: 475\n",
      "[LightGBM] [Info] [binary:BoostFromScore]: pavg=0.491265 -> initscore=-0.034944\n",
      "[LightGBM] [Info] Start training from score -0.034944\n",
      "[LightGBM] [Info] Number of positive: 9111, number of negative: 9435\n",
      "[LightGBM] [Info] Auto-choosing row-wise multi-threading, the overhead of testing was 0.036285 seconds.\n",
      "You can set `force_row_wise=true` to remove the overhead.\n",
      "And if memory is not enough, you can set `force_col_wise=true`.\n",
      "[LightGBM] [Info] Total Bins 9206\n",
      "[LightGBM] [Info] Number of data points in the train set: 18546, number of used features: 459\n",
      "[LightGBM] [Info] [binary:BoostFromScore]: pavg=0.491265 -> initscore=-0.034944\n",
      "[LightGBM] [Info] Start training from score -0.034944\n",
      "[LightGBM] [Info] Number of positive: 11389, number of negative: 11793\n",
      "[LightGBM] [Info] Auto-choosing row-wise multi-threading, the overhead of testing was 0.063561 seconds.\n",
      "You can set `force_row_wise=true` to remove the overhead.\n",
      "And if memory is not enough, you can set `force_col_wise=true`.\n",
      "[LightGBM] [Info] Total Bins 12647\n",
      "[LightGBM] [Info] Number of data points in the train set: 23182, number of used features: 637\n",
      "[LightGBM] [Info] [binary:BoostFromScore]: pavg=0.491286 -> initscore=-0.034858\n",
      "[LightGBM] [Info] Start training from score -0.034858\n"
     ]
    },
    {
     "data": {
      "text/plain": [
       "{'boosting_type': 'gbdt',\n",
       " 'learning_rate': 0.2,\n",
       " 'metric': 'binary_logloss',\n",
       " 'n_estimators': 100,\n",
       " 'num_leaves': 31,\n",
       " 'objective': 'binary'}"
      ]
     },
     "execution_count": 56,
     "metadata": {},
     "output_type": "execute_result"
    }
   ],
   "source": [
    "from lightgbm import LGBMClassifier\n",
    "\n",
    "param_grid_ = {\n",
    "    'num_leaves': [15, 31, 63],  \n",
    "    'learning_rate': [0.01, 0.1, 0.2],\n",
    "    'n_estimators': [50, 100, 200],  \n",
    "    'boosting_type': ['gbdt'], \n",
    "    'objective': ['binary'],  \n",
    "    'metric': ['binary_logloss'],\n",
    "}\n",
    "\n",
    "lightgbm_grid = GridSearchCV(\n",
    "    estimator= LGBMClassifier(),\n",
    "    param_grid=param_grid_,\n",
    "    cv=5, \n",
    "    scoring='accuracy',\n",
    "    verbose=0,\n",
    "    n_jobs=-1  \n",
    ")\n",
    "lightgbm_grid.fit(X_train_tfidf, y_train)\n",
    "\n",
    "lightgbm_grid.best_params_"
   ]
  },
  {
   "cell_type": "code",
   "execution_count": 57,
   "id": "0077689e",
   "metadata": {
    "execution": {
     "iopub.execute_input": "2024-12-14T02:41:19.911663Z",
     "iopub.status.busy": "2024-12-14T02:41:19.911338Z",
     "iopub.status.idle": "2024-12-14T02:41:20.256026Z",
     "shell.execute_reply": "2024-12-14T02:41:20.255171Z"
    },
    "papermill": {
     "duration": 0.366103,
     "end_time": "2024-12-14T02:41:20.257668",
     "exception": false,
     "start_time": "2024-12-14T02:41:19.891565",
     "status": "completed"
    },
    "tags": []
   },
   "outputs": [
    {
     "name": "stdout",
     "output_type": "stream",
     "text": [
      "-------------------> lightgbm\n",
      "Accuracy: 0.68\n",
      "F1-Score for each class:\n",
      "Positive: 0.64\n",
      "Negative: 0.72\n",
      "\n",
      "Classification Report:\n",
      "              precision    recall  f1-score   support\n",
      "\n",
      "    Positive       0.75      0.56      0.64      2949\n",
      "    Negative       0.64      0.81      0.72      2847\n",
      "\n",
      "    accuracy                           0.68      5796\n",
      "   macro avg       0.70      0.69      0.68      5796\n",
      "weighted avg       0.70      0.68      0.68      5796\n",
      "\n"
     ]
    },
    {
     "data": {
      "image/png": "[encoded data removed]",
      "text/plain": [
       "<Figure size 800x600 with 2 Axes>"
      ]
     },
     "metadata": {},
     "output_type": "display_data"
    }
   ],
   "source": [
    "y_hat = lightgbm_grid.best_estimator_.predict(X_test_tfidf)\n",
    "about_model(\"lightgbm\", y_test , y_hat)"
   ]
  }
 ],
 "metadata": {
  "kaggle": {
   "accelerator": "none",
   "dataSources": [
    {
     "datasetId": 6047175,
     "sourceId": 10133321,
     "sourceType": "datasetVersion"
    },
    {
     "datasetId": 6094692,
     "sourceId": 10133387,
     "sourceType": "datasetVersion"
    }
   ],
   "dockerImageVersionId": 30786,
   "isGpuEnabled": false,
   "isInternetEnabled": true,
   "language": "python",
   "sourceType": "notebook"
  },
  "kernelspec": {
   "display_name": "Python 3",
   "language": "python",
   "name": "python3"
  },
  "language_info": {
   "codemirror_mode": {
    "name": "ipython",
    "version": 3
   },
   "file_extension": ".py",
   "mimetype": "text/x-python",
   "name": "python",
   "nbconvert_exporter": "python",
   "pygments_lexer": "ipython3",
   "version": "3.10.14"
  },
  "papermill": {
   "default_parameters": {},
   "duration": 8522.928045,
   "end_time": "2024-12-14T02:41:22.894499",
   "environment_variables": {},
   "exception": null,
   "input_path": "__notebook__.ipynb",
   "output_path": "__notebook__.ipynb",
   "parameters": {},
   "start_time": "2024-12-14T00:19:19.966454",
   "version": "2.6.0"
  }
 },
 "nbformat": 4,
 "nbformat_minor": 5
}
