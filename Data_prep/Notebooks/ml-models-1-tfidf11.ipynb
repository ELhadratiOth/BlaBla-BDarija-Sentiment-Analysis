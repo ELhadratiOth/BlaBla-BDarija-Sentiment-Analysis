{
 "cells": [
  {
   "cell_type": "markdown",
   "id": "19f18a84",
   "metadata": {
    "papermill": {
     "duration": 0.013307,
     "end_time": "2024-12-14T00:14:55.432444",
     "exception": false,
     "start_time": "2024-12-14T00:14:55.419137",
     "status": "completed"
    },
    "tags": []
   },
   "source": [
    "# Darija Text Classification using ML Algorithms\n"
   ]
  },
  {
   "cell_type": "markdown",
   "id": "65008549",
   "metadata": {
    "papermill": {
     "duration": 0.011414,
     "end_time": "2024-12-14T00:14:55.455405",
     "exception": false,
     "start_time": "2024-12-14T00:14:55.443991",
     "status": "completed"
    },
    "tags": []
   },
   "source": [
    "## Setup and Data Loading\n",
    "In this section, we:\n",
    "- Import required libraries\n",
    "- Load and prepare our Darija dataset\n",
    "- Set up configuration parameters"
   ]
  },
  {
   "cell_type": "code",
   "execution_count": 1,
   "id": "e04ab13e",
   "metadata": {
    "execution": {
     "iopub.execute_input": "2024-12-14T00:14:55.480062Z",
     "iopub.status.busy": "2024-12-14T00:14:55.479336Z",
     "iopub.status.idle": "2024-12-14T00:14:55.494750Z",
     "shell.execute_reply": "2024-12-14T00:14:55.493767Z"
    },
    "papermill": {
     "duration": 0.030104,
     "end_time": "2024-12-14T00:14:55.496805",
     "exception": false,
     "start_time": "2024-12-14T00:14:55.466701",
     "status": "completed"
    },
    "tags": []
   },
   "outputs": [
    {
     "name": "stdout",
     "output_type": "stream",
     "text": [
      "Current working directory: /kaggle/input/ma-datasets\n",
      "Directory contents: ['suf_pref_darija.json', 'stop_words_accum.json', 'set2.csv', 'set7.csv', 'set5.csv', 'darija_latin_ref.json', 'set4.csv', 'scaped_comments.csv', 'set3.csv', 'cleaned_clustered_data.csv', 'set1.csv']\n"
     ]
    }
   ],
   "source": [
    "import os \n",
    "os.chdir('/kaggle/input/ma-datasets') \n",
    "current_directory = os.getcwd()\n",
    "print(\"Current working directory:\", current_directory)\n",
    "contents = os.listdir()\n",
    "print(\"Directory contents:\", contents)"
   ]
  },
  {
   "cell_type": "code",
   "execution_count": 2,
   "id": "f14c8a02",
   "metadata": {
    "execution": {
     "iopub.execute_input": "2024-12-14T00:14:55.520770Z",
     "iopub.status.busy": "2024-12-14T00:14:55.520371Z",
     "iopub.status.idle": "2024-12-14T00:15:09.906053Z",
     "shell.execute_reply": "2024-12-14T00:15:09.904755Z"
    },
    "papermill": {
     "duration": 14.40038,
     "end_time": "2024-12-14T00:15:09.908517",
     "exception": false,
     "start_time": "2024-12-14T00:14:55.508137",
     "status": "completed"
    },
    "tags": []
   },
   "outputs": [
    {
     "name": "stdout",
     "output_type": "stream",
     "text": [
      "Requirement already satisfied: pandas in /opt/conda/lib/python3.10/site-packages (2.2.3)\r\n",
      "Requirement already satisfied: PyArabic in /opt/conda/lib/python3.10/site-packages (0.6.15)\r\n",
      "Collecting Tashaphyne\r\n",
      "  Downloading Tashaphyne-0.3.6-py3-none-any.whl.metadata (18 kB)\r\n",
      "Collecting pydoda\r\n",
      "  Downloading pydoda-1.2.1-py3-none-any.whl.metadata (5.8 kB)\r\n",
      "Collecting Arabic-Stopwords\r\n",
      "  Downloading Arabic_Stopwords-0.4.3-py3-none-any.whl.metadata (8.9 kB)\r\n",
      "Requirement already satisfied: seaborn in /opt/conda/lib/python3.10/site-packages (0.12.2)\r\n",
      "Requirement already satisfied: scikit-learn in /opt/conda/lib/python3.10/site-packages (1.2.2)\r\n",
      "Requirement already satisfied: emoji in /opt/conda/lib/python3.10/site-packages (2.14.0)\r\n",
      "Requirement already satisfied: xgboost in /opt/conda/lib/python3.10/site-packages (2.0.3)\r\n",
      "Requirement already satisfied: lightgbm in /opt/conda/lib/python3.10/site-packages (4.2.0)\r\n",
      "Requirement already satisfied: numpy>=1.22.4 in /opt/conda/lib/python3.10/site-packages (from pandas) (1.26.4)\r\n",
      "Requirement already satisfied: python-dateutil>=2.8.2 in /opt/conda/lib/python3.10/site-packages (from pandas) (2.9.0.post0)\r\n",
      "Requirement already satisfied: pytz>=2020.1 in /opt/conda/lib/python3.10/site-packages (from pandas) (2024.1)\r\n",
      "Requirement already satisfied: tzdata>=2022.7 in /opt/conda/lib/python3.10/site-packages (from pandas) (2024.1)\r\n",
      "Requirement already satisfied: six>=1.14.0 in /opt/conda/lib/python3.10/site-packages (from PyArabic) (1.16.0)\r\n",
      "Requirement already satisfied: matplotlib!=3.6.1,>=3.1 in /opt/conda/lib/python3.10/site-packages (from seaborn) (3.7.5)\r\n",
      "Requirement already satisfied: scipy>=1.3.2 in /opt/conda/lib/python3.10/site-packages (from scikit-learn) (1.14.1)\r\n",
      "Requirement already satisfied: joblib>=1.1.1 in /opt/conda/lib/python3.10/site-packages (from scikit-learn) (1.4.2)\r\n",
      "Requirement already satisfied: threadpoolctl>=2.0.0 in /opt/conda/lib/python3.10/site-packages (from scikit-learn) (3.5.0)\r\n",
      "Requirement already satisfied: contourpy>=1.0.1 in /opt/conda/lib/python3.10/site-packages (from matplotlib!=3.6.1,>=3.1->seaborn) (1.2.1)\r\n",
      "Requirement already satisfied: cycler>=0.10 in /opt/conda/lib/python3.10/site-packages (from matplotlib!=3.6.1,>=3.1->seaborn) (0.12.1)\r\n",
      "Requirement already satisfied: fonttools>=4.22.0 in /opt/conda/lib/python3.10/site-packages (from matplotlib!=3.6.1,>=3.1->seaborn) (4.53.0)\r\n",
      "Requirement already satisfied: kiwisolver>=1.0.1 in /opt/conda/lib/python3.10/site-packages (from matplotlib!=3.6.1,>=3.1->seaborn) (1.4.5)\r\n",
      "Requirement already satisfied: packaging>=20.0 in /opt/conda/lib/python3.10/site-packages (from matplotlib!=3.6.1,>=3.1->seaborn) (21.3)\r\n",
      "Requirement already satisfied: pillow>=6.2.0 in /opt/conda/lib/python3.10/site-packages (from matplotlib!=3.6.1,>=3.1->seaborn) (10.3.0)\r\n",
      "Requirement already satisfied: pyparsing>=2.3.1 in /opt/conda/lib/python3.10/site-packages (from matplotlib!=3.6.1,>=3.1->seaborn) (3.1.2)\r\n",
      "Downloading Tashaphyne-0.3.6-py3-none-any.whl (251 kB)\r\n",
      "\u001b[2K   \u001b[90m━━━━━━━━━━━━━━━━━━━━━━━━━━━━━━━━━━━━━━━━\u001b[0m \u001b[32m251.5/251.5 kB\u001b[0m \u001b[31m5.4 MB/s\u001b[0m eta \u001b[36m0:00:00\u001b[0m\r\n",
      "\u001b[?25hDownloading pydoda-1.2.1-py3-none-any.whl (4.1 MB)\r\n",
      "\u001b[2K   \u001b[90m━━━━━━━━━━━━━━━━━━━━━━━━━━━━━━━━━━━━━━━━\u001b[0m \u001b[32m4.1/4.1 MB\u001b[0m \u001b[31m48.4 MB/s\u001b[0m eta \u001b[36m0:00:00\u001b[0m\r\n",
      "\u001b[?25hDownloading Arabic_Stopwords-0.4.3-py3-none-any.whl (360 kB)\r\n",
      "\u001b[2K   \u001b[90m━━━━━━━━━━━━━━━━━━━━━━━━━━━━━━━━━━━━━━━━\u001b[0m \u001b[32m360.5/360.5 kB\u001b[0m \u001b[31m18.3 MB/s\u001b[0m eta \u001b[36m0:00:00\u001b[0m\r\n",
      "\u001b[?25hInstalling collected packages: Tashaphyne, Arabic-Stopwords, pydoda\r\n",
      "Successfully installed Arabic-Stopwords-0.4.3 Tashaphyne-0.3.6 pydoda-1.2.1\r\n"
     ]
    }
   ],
   "source": [
    "!pip install pandas PyArabic Tashaphyne pydoda Arabic-Stopwords seaborn scikit-learn emoji xgboost lightgbm "
   ]
  },
  {
   "cell_type": "code",
   "execution_count": 3,
   "id": "dcb44282",
   "metadata": {
    "execution": {
     "iopub.execute_input": "2024-12-14T00:15:09.934884Z",
     "iopub.status.busy": "2024-12-14T00:15:09.934510Z",
     "iopub.status.idle": "2024-12-14T00:15:12.109192Z",
     "shell.execute_reply": "2024-12-14T00:15:12.108392Z"
    },
    "papermill": {
     "duration": 2.190554,
     "end_time": "2024-12-14T00:15:12.111330",
     "exception": false,
     "start_time": "2024-12-14T00:15:09.920776",
     "status": "completed"
    },
    "tags": []
   },
   "outputs": [],
   "source": [
    "import pandas as pd\n",
    "from sklearn.model_selection import GridSearchCV\n",
    "import re\n",
    "from tashaphyne.stemming import ArabicLightStemmer\n",
    "import json\n",
    "import emoji \n"
   ]
  },
  {
   "cell_type": "code",
   "execution_count": 4,
   "id": "28ef783a",
   "metadata": {
    "execution": {
     "iopub.execute_input": "2024-12-14T00:15:12.137570Z",
     "iopub.status.busy": "2024-12-14T00:15:12.137055Z",
     "iopub.status.idle": "2024-12-14T00:15:12.460790Z",
     "shell.execute_reply": "2024-12-14T00:15:12.459907Z"
    },
    "papermill": {
     "duration": 0.339289,
     "end_time": "2024-12-14T00:15:12.463092",
     "exception": false,
     "start_time": "2024-12-14T00:15:12.123803",
     "status": "completed"
    },
    "tags": []
   },
   "outputs": [],
   "source": [
    "df = pd.read_csv(\"/kaggle/input/dataset/dataset (16).csv\")"
   ]
  },
  {
   "cell_type": "markdown",
   "id": "288a568f",
   "metadata": {
    "papermill": {
     "duration": 0.011592,
     "end_time": "2024-12-14T00:15:12.486810",
     "exception": false,
     "start_time": "2024-12-14T00:15:12.475218",
     "status": "completed"
    },
    "tags": []
   },
   "source": [
    "## Data Preprocessing\n",
    "Key preprocessing steps for Darija text:\n",
    "- Text cleaning and normalization\n",
    "- Feature extraction\n",
    "- Train-test split\n"
   ]
  },
  {
   "cell_type": "code",
   "execution_count": 5,
   "id": "4b9cad81",
   "metadata": {
    "execution": {
     "iopub.execute_input": "2024-12-14T00:15:12.511941Z",
     "iopub.status.busy": "2024-12-14T00:15:12.511554Z",
     "iopub.status.idle": "2024-12-14T00:15:12.521049Z",
     "shell.execute_reply": "2024-12-14T00:15:12.520090Z"
    },
    "papermill": {
     "duration": 0.0246,
     "end_time": "2024-12-14T00:15:12.523069",
     "exception": false,
     "start_time": "2024-12-14T00:15:12.498469",
     "status": "completed"
    },
    "tags": []
   },
   "outputs": [],
   "source": [
    "darija_alphabet = {\n",
    "    \"gh\": \"غ\",\n",
    "    \"sh\": \"ش\",\n",
    "    \"ch\": \"ش\",\n",
    "    \"ss\": \"س\",\n",
    "    \"kh\": \"خ\",\n",
    "    \"ç\": \"س\",\n",
    "    \"ou\": \"و\",    \n",
    "    \"ei\": \"ي\",    \n",
    "    \"ay\": \"ي\",    \n",
    "    \"ae\": \"ي\",   \n",
    "    \"5\": \"خ\",     \n",
    "    \"2\": \"ا\",    \n",
    "    \"b\": \"ب\",\n",
    "    \"t\": \"ت\",\n",
    "    \"j\": \"ج\",\n",
    "    \"7\": \"ح\",\n",
    "    \"d\": \"د\",\n",
    "    \"r\": \"ر\",\n",
    "    \"z\": \"ز\",\n",
    "    \"s\": \"س\",\n",
    "    \"9\": \"ق\",\n",
    "    \"3\": \"ع\",\n",
    "    \"4\": \"غ\",\n",
    "    \"f\": \"ف\",\n",
    "    \"q\": \"ك\",\n",
    "    \"k\": \"ك\",\n",
    "    \"l\": \"ل\",\n",
    "    \"m\": \"م\",\n",
    "    \"n\": \"ن\",\n",
    "    \"h\": \"ه\",\n",
    "    \"w\": \"و\",\n",
    "    \"y\": \"ي\",\n",
    "    \"g\": \"ڭ\",\n",
    "    'i': 'ي',\n",
    "    'ee': 'ي',\n",
    "    'aa': 'ا',\n",
    "    'oo': 'و',\n",
    "    'o': 'و',\n",
    "    \"x\": \"ش\",\n",
    "}\n",
    "word_in = [\n",
    "    \"ء\", \"أ\", \"إ\", \"آ\", \"ؤ\", \"ئ\", \"ة\", \"ى\",\"-\", \"/\", \".\", \"،\", '\"', \"'\", \"\\\\\", \"?\", \"؟\", \"!\", \"،\", \"؛\",\":\",\"#\", \"@\", \"&\", \"=\", \"¥\", \"$\", \"%\", \"*\", \"+\", \"<\", \">\", \"|\", \"~\", \"^\", \n",
    "    \"\\n\", \"\\t\", \"\\r\", \" و\",\"ذ\", \"ظ\", \"ض\", \"ص\",\"(\", \")\", \"[\", \"]\", \"{\", \"}\", \"《\", \"》\", \"«\", \"»\"\n",
    "]\n",
    "\n",
    "replaced_by = [\n",
    "    \"ا\", \"ا\", \"ا\", \"ا\", \"ا\", \"ا\", \"ه\", \"ي\",\" \", \"\", \"\", \"\", \"\", \"\", \"\", \" ? \", \" ؟ \", \" ! \", \"\", \"\", \"\",\n",
    "    \"\", \"\", \"\", \"\", \"\", \"\", \"\", \"\", \"\", \"\", \"\", \"\", \"\", \"\",\" \", \" \", \" \", \"\",\n",
    "    \"د\", \"د\", \"د\", \"س\",\"\", \"\", \"\", \"\", \"\", \"\", \"\", \"\", \"\", \"\"\n",
    "]\n",
    "\n",
    "arabic_alphabet = \"ابتثجحخدذرزسشصضطظعغفقكلمنهوي\""
   ]
  },
  {
   "cell_type": "code",
   "execution_count": 6,
   "id": "33efc3f4",
   "metadata": {
    "execution": {
     "iopub.execute_input": "2024-12-14T00:15:12.552466Z",
     "iopub.status.busy": "2024-12-14T00:15:12.552050Z",
     "iopub.status.idle": "2024-12-14T00:15:12.556639Z",
     "shell.execute_reply": "2024-12-14T00:15:12.555676Z"
    },
    "papermill": {
     "duration": 0.022777,
     "end_time": "2024-12-14T00:15:12.558606",
     "exception": false,
     "start_time": "2024-12-14T00:15:12.535829",
     "status": "completed"
    },
    "tags": []
   },
   "outputs": [],
   "source": [
    "from pyarabic.araby import strip_diacritics\n",
    "#remove tashkeel\n",
    "def removing_tashkeel(word): # useed\n",
    "          return strip_diacritics(word)"
   ]
  },
  {
   "cell_type": "code",
   "execution_count": 7,
   "id": "ab3c464a",
   "metadata": {
    "execution": {
     "iopub.execute_input": "2024-12-14T00:15:12.584043Z",
     "iopub.status.busy": "2024-12-14T00:15:12.583659Z",
     "iopub.status.idle": "2024-12-14T00:15:12.588283Z",
     "shell.execute_reply": "2024-12-14T00:15:12.587312Z"
    },
    "papermill": {
     "duration": 0.019621,
     "end_time": "2024-12-14T00:15:12.590134",
     "exception": false,
     "start_time": "2024-12-14T00:15:12.570513",
     "status": "completed"
    },
    "tags": []
   },
   "outputs": [],
   "source": [
    "from pyarabic.araby import strip_tatweel\n",
    "\n",
    "#remove tatweel l2imdad\n",
    "def removing_tatweel(word): # useed\n",
    "          return strip_tatweel(word)"
   ]
  },
  {
   "cell_type": "code",
   "execution_count": 8,
   "id": "5c3bfb9f",
   "metadata": {
    "execution": {
     "iopub.execute_input": "2024-12-14T00:15:12.617097Z",
     "iopub.status.busy": "2024-12-14T00:15:12.616738Z",
     "iopub.status.idle": "2024-12-14T00:15:12.621212Z",
     "shell.execute_reply": "2024-12-14T00:15:12.620311Z"
    },
    "papermill": {
     "duration": 0.01941,
     "end_time": "2024-12-14T00:15:12.623156",
     "exception": false,
     "start_time": "2024-12-14T00:15:12.603746",
     "status": "completed"
    },
    "tags": []
   },
   "outputs": [],
   "source": [
    "from pyarabic.araby import normalize_ligature\n",
    "\n",
    "#remove ligature hamza , alef \n",
    "def removing_ligature(word): # not used \n",
    "          return normalize_ligature(word)"
   ]
  },
  {
   "cell_type": "code",
   "execution_count": 9,
   "id": "37d3d3fd",
   "metadata": {
    "execution": {
     "iopub.execute_input": "2024-12-14T00:15:12.648040Z",
     "iopub.status.busy": "2024-12-14T00:15:12.647696Z",
     "iopub.status.idle": "2024-12-14T00:15:12.652015Z",
     "shell.execute_reply": "2024-12-14T00:15:12.651206Z"
    },
    "papermill": {
     "duration": 0.01898,
     "end_time": "2024-12-14T00:15:12.653832",
     "exception": false,
     "start_time": "2024-12-14T00:15:12.634852",
     "status": "completed"
    },
    "tags": []
   },
   "outputs": [],
   "source": [
    "# remove underscore\n",
    "def replace_underscore(word): # useed\n",
    "          return word.replace(\"_\", \" \")"
   ]
  },
  {
   "cell_type": "code",
   "execution_count": 10,
   "id": "a267dc1b",
   "metadata": {
    "execution": {
     "iopub.execute_input": "2024-12-14T00:15:12.680010Z",
     "iopub.status.busy": "2024-12-14T00:15:12.679219Z",
     "iopub.status.idle": "2024-12-14T00:15:12.685501Z",
     "shell.execute_reply": "2024-12-14T00:15:12.684245Z"
    },
    "papermill": {
     "duration": 0.022088,
     "end_time": "2024-12-14T00:15:12.687519",
     "exception": false,
     "start_time": "2024-12-14T00:15:12.665431",
     "status": "completed"
    },
    "tags": []
   },
   "outputs": [],
   "source": [
    "import pyarabic.araby as araby\n",
    "\n",
    "# remove hamza ambiguity\n",
    "def remove_ambiguity_hamza(word): # useed\n",
    "          return araby.normalize_hamza(word)"
   ]
  },
  {
   "cell_type": "code",
   "execution_count": 11,
   "id": "86f39406",
   "metadata": {
    "execution": {
     "iopub.execute_input": "2024-12-14T00:15:12.726192Z",
     "iopub.status.busy": "2024-12-14T00:15:12.725722Z",
     "iopub.status.idle": "2024-12-14T00:15:12.731641Z",
     "shell.execute_reply": "2024-12-14T00:15:12.730331Z"
    },
    "papermill": {
     "duration": 0.029588,
     "end_time": "2024-12-14T00:15:12.733801",
     "exception": false,
     "start_time": "2024-12-14T00:15:12.704213",
     "status": "completed"
    },
    "tags": []
   },
   "outputs": [],
   "source": [
    "# romove \"AL\"\n",
    "def remove_AL(word): # useed\n",
    "          return re.sub(r'^ال', '', word)"
   ]
  },
  {
   "cell_type": "code",
   "execution_count": 12,
   "id": "1332342f",
   "metadata": {
    "execution": {
     "iopub.execute_input": "2024-12-14T00:15:12.767625Z",
     "iopub.status.busy": "2024-12-14T00:15:12.766926Z",
     "iopub.status.idle": "2024-12-14T00:15:12.773901Z",
     "shell.execute_reply": "2024-12-14T00:15:12.772926Z"
    },
    "papermill": {
     "duration": 0.028906,
     "end_time": "2024-12-14T00:15:12.775827",
     "exception": false,
     "start_time": "2024-12-14T00:15:12.746921",
     "status": "completed"
    },
    "tags": []
   },
   "outputs": [],
   "source": [
    "# remove repeated characters      \n",
    "def word_remover(word): # useed\n",
    "            if len(word) == 1 or len(word) == 0 or len(word) >= 13:\n",
    "                return \"\"                \n",
    "            else :\n",
    "                # print(word)\n",
    "                for a7rf in arabic_alphabet:\n",
    "                    if a7rf == 'د' or a7rf == 'ه':\n",
    "                        word = re.sub(fr'{a7rf}{{3,}}', a7rf * 2, word).strip()\n",
    "                    else:\n",
    "                        word = re.sub(fr'{a7rf}+', a7rf, word).strip()\n",
    "                # print(word) \n",
    "                for i in range(len(word)):\n",
    "                    if word[i] in word_in:\n",
    "                        index = word_in.index(word[i])\n",
    "                        word = word[:i] + replaced_by[index] + word[i + 1:]\n",
    "\n",
    "                return word\n"
   ]
  },
  {
   "cell_type": "code",
   "execution_count": 13,
   "id": "01a2a4f8",
   "metadata": {
    "execution": {
     "iopub.execute_input": "2024-12-14T00:15:12.801907Z",
     "iopub.status.busy": "2024-12-14T00:15:12.800891Z",
     "iopub.status.idle": "2024-12-14T00:15:12.805837Z",
     "shell.execute_reply": "2024-12-14T00:15:12.804896Z"
    },
    "papermill": {
     "duration": 0.01983,
     "end_time": "2024-12-14T00:15:12.807714",
     "exception": false,
     "start_time": "2024-12-14T00:15:12.787884",
     "status": "completed"
    },
    "tags": []
   },
   "outputs": [],
   "source": [
    "# remove emails  \n",
    "def remove_url(text): # useed\n",
    "    text = re.sub(r'(https|http)?:\\/\\/(\\w|\\.|\\/|\\?|\\=|\\&|\\%)*\\b',\n",
    "                  '', text, flags=re.MULTILINE)\n",
    "    return text      \n",
    " "
   ]
  },
  {
   "cell_type": "code",
   "execution_count": 14,
   "id": "c3b96ae5",
   "metadata": {
    "execution": {
     "iopub.execute_input": "2024-12-14T00:15:12.833007Z",
     "iopub.status.busy": "2024-12-14T00:15:12.832642Z",
     "iopub.status.idle": "2024-12-14T00:15:12.837341Z",
     "shell.execute_reply": "2024-12-14T00:15:12.836405Z"
    },
    "papermill": {
     "duration": 0.0196,
     "end_time": "2024-12-14T00:15:12.839295",
     "exception": false,
     "start_time": "2024-12-14T00:15:12.819695",
     "status": "completed"
    },
    "tags": []
   },
   "outputs": [],
   "source": [
    " # remove emails     \n",
    "def remove_emails(text): # useed\n",
    "    text = re.sub(r'[a-zA-Z0-9._%+-]+@[a-zA-Z0-9.-]+\\.[a-zA-Z]{2,}', '', text, flags=re.MULTILINE)\n",
    "    return text  "
   ]
  },
  {
   "cell_type": "code",
   "execution_count": 15,
   "id": "d7cbf53d",
   "metadata": {
    "execution": {
     "iopub.execute_input": "2024-12-14T00:15:12.864619Z",
     "iopub.status.busy": "2024-12-14T00:15:12.864247Z",
     "iopub.status.idle": "2024-12-14T00:15:12.869353Z",
     "shell.execute_reply": "2024-12-14T00:15:12.868426Z"
    },
    "papermill": {
     "duration": 0.019873,
     "end_time": "2024-12-14T00:15:12.871282",
     "exception": false,
     "start_time": "2024-12-14T00:15:12.851409",
     "status": "completed"
    },
    "tags": []
   },
   "outputs": [],
   "source": [
    "def special_tags_and_ponctuations(text):  # Function to clean special tags\n",
    "    text = re.sub(r'&amp;', '', text) \n",
    "    text = re.sub(r'&quot;', '', text)  \n",
    "    text = re.sub(r'!+', '!', text)\n",
    "    text = re.sub(r'\\?+', '?', text)\n",
    "    text = re.sub(r'\\.+', '.', text)\n",
    "\n",
    "    return text"
   ]
  },
  {
   "cell_type": "code",
   "execution_count": 16,
   "id": "8bc32718",
   "metadata": {
    "execution": {
     "iopub.execute_input": "2024-12-14T00:15:12.896043Z",
     "iopub.status.busy": "2024-12-14T00:15:12.895680Z",
     "iopub.status.idle": "2024-12-14T00:15:12.900118Z",
     "shell.execute_reply": "2024-12-14T00:15:12.899202Z"
    },
    "papermill": {
     "duration": 0.019273,
     "end_time": "2024-12-14T00:15:12.902056",
     "exception": false,
     "start_time": "2024-12-14T00:15:12.882783",
     "status": "completed"
    },
    "tags": []
   },
   "outputs": [],
   "source": [
    "def remove_html_tags(text):\n",
    "    text = re.sub(r'<[^>]+>', '', text)\n",
    "    return text"
   ]
  },
  {
   "cell_type": "code",
   "execution_count": 17,
   "id": "1ee1de90",
   "metadata": {
    "execution": {
     "iopub.execute_input": "2024-12-14T00:15:12.927388Z",
     "iopub.status.busy": "2024-12-14T00:15:12.926764Z",
     "iopub.status.idle": "2024-12-14T00:15:12.931523Z",
     "shell.execute_reply": "2024-12-14T00:15:12.930636Z"
    },
    "papermill": {
     "duration": 0.019862,
     "end_time": "2024-12-14T00:15:12.933467",
     "exception": false,
     "start_time": "2024-12-14T00:15:12.913605",
     "status": "completed"
    },
    "tags": []
   },
   "outputs": [],
   "source": [
    "# hundle emojis\n",
    "def extend_spletting(items):  # helper function to split items\n",
    "    spletting = []\n",
    "    for item in items:\n",
    "        spletting.extend(item.split())\n",
    "    return spletting"
   ]
  },
  {
   "cell_type": "code",
   "execution_count": 18,
   "id": "bf0497c1",
   "metadata": {
    "execution": {
     "iopub.execute_input": "2024-12-14T00:15:12.958364Z",
     "iopub.status.busy": "2024-12-14T00:15:12.957678Z",
     "iopub.status.idle": "2024-12-14T00:15:12.962442Z",
     "shell.execute_reply": "2024-12-14T00:15:12.961522Z"
    },
    "papermill": {
     "duration": 0.019219,
     "end_time": "2024-12-14T00:15:12.964264",
     "exception": false,
     "start_time": "2024-12-14T00:15:12.945045",
     "status": "completed"
    },
    "tags": []
   },
   "outputs": [],
   "source": [
    "def emoji_hundler(word):  # helper function to handle emojis\n",
    "    word = emoji.demojize(word, language='ar')\n",
    "    word = replace_underscore(word)[1:-1]\n",
    "    return word"
   ]
  },
  {
   "cell_type": "code",
   "execution_count": 19,
   "id": "c4b13dc6",
   "metadata": {
    "execution": {
     "iopub.execute_input": "2024-12-14T00:15:12.990250Z",
     "iopub.status.busy": "2024-12-14T00:15:12.989884Z",
     "iopub.status.idle": "2024-12-14T00:15:12.996445Z",
     "shell.execute_reply": "2024-12-14T00:15:12.995465Z"
    },
    "papermill": {
     "duration": 0.021984,
     "end_time": "2024-12-14T00:15:12.998321",
     "exception": false,
     "start_time": "2024-12-14T00:15:12.976337",
     "status": "completed"
    },
    "tags": []
   },
   "outputs": [],
   "source": [
    "def is_an_emoji(word):\n",
    "    emoji_pattern = re.compile(\"[\"  \n",
    "                               u\"\\U0001F680-\\U0001F6FF\"  # transport and map unicods\n",
    "                               u\"\\U0001F1E0-\\U0001F1FF\"  # flags unicods\n",
    "                               \"]+\", flags=re.UNICODE)\n",
    "\n",
    "    if emoji.is_emoji(word):\n",
    "        word = emoji_pattern.sub(r'', word)\n",
    "        return extend_spletting([emoji_hundler(word)])\n",
    "\n",
    "    elif emoji.purely_emoji(word):\n",
    "        data_of_emojis = emoji.distinct_emoji_list(word)\n",
    "        data = [emoji_hundler(emoji_pattern.sub(r'', item)) for item in data_of_emojis]\n",
    "        return extend_spletting(data)\n",
    "\n",
    "    else:\n",
    "        text_only = re.sub(r'[^\\w\\s?!]', '', word)\n",
    "        data_of_emojis = emoji.distinct_emoji_list(word)\n",
    "        emojis = [emoji_hundler(emoji_pattern.sub(r'', item)) for item in data_of_emojis]\n",
    "        \n",
    "        return [text_only] + extend_spletting(emojis)\n"
   ]
  },
  {
   "cell_type": "code",
   "execution_count": 20,
   "id": "db26e502",
   "metadata": {
    "execution": {
     "iopub.execute_input": "2024-12-14T00:15:13.023493Z",
     "iopub.status.busy": "2024-12-14T00:15:13.023082Z",
     "iopub.status.idle": "2024-12-14T00:15:13.029347Z",
     "shell.execute_reply": "2024-12-14T00:15:13.028426Z"
    },
    "papermill": {
     "duration": 0.021088,
     "end_time": "2024-12-14T00:15:13.031279",
     "exception": false,
     "start_time": "2024-12-14T00:15:13.010191",
     "status": "completed"
    },
    "tags": []
   },
   "outputs": [],
   "source": [
    "# tramslating darija(latin) to daruja(arabic)\n",
    "def translate_darija_to_arabic(word): # useed\n",
    "    # print(\"test\")\n",
    "    word = word.lower()\n",
    "    if  bool(re.compile(r\"[a-z0-9']+\").search(word)):\n",
    "        arabic_word = \"\"\n",
    "        i = 0\n",
    "        while i < len(word):\n",
    "            # print('sadd')\n",
    "            if i + 1 < len(word) and word[i:i+2] in darija_alphabet: # Check for 2 lettrs\n",
    "                arabic_word += darija_alphabet[word[i:i+2]]\n",
    "                i += 2\n",
    "            elif word[i] in darija_alphabet:\n",
    "                arabic_word += darija_alphabet[word[i]]\n",
    "                i += 1\n",
    "            else:\n",
    "                i += 1\n",
    "        return arabic_word\n",
    "    return word\n",
    "      "
   ]
  },
  {
   "cell_type": "code",
   "execution_count": 21,
   "id": "8c3198f5",
   "metadata": {
    "execution": {
     "iopub.execute_input": "2024-12-14T00:15:13.057192Z",
     "iopub.status.busy": "2024-12-14T00:15:13.056861Z",
     "iopub.status.idle": "2024-12-14T00:15:13.061767Z",
     "shell.execute_reply": "2024-12-14T00:15:13.060795Z"
    },
    "papermill": {
     "duration": 0.020322,
     "end_time": "2024-12-14T00:15:13.063723",
     "exception": false,
     "start_time": "2024-12-14T00:15:13.043401",
     "status": "completed"
    },
    "tags": []
   },
   "outputs": [],
   "source": [
    "# remove  number arabic and latin\n",
    "def number_remov(listy): # useed\n",
    "    number_pattern = re.compile(r'^[0-9\\u0660-\\u0669]+$')\n",
    "    cleaned_list = [item for item in listy if not number_pattern.fullmatch(item)] \n",
    "    return cleaned_list   "
   ]
  },
  {
   "cell_type": "code",
   "execution_count": 22,
   "id": "0dcee961",
   "metadata": {
    "execution": {
     "iopub.execute_input": "2024-12-14T00:15:13.088779Z",
     "iopub.status.busy": "2024-12-14T00:15:13.088017Z",
     "iopub.status.idle": "2024-12-14T00:15:13.093556Z",
     "shell.execute_reply": "2024-12-14T00:15:13.092600Z"
    },
    "papermill": {
     "duration": 0.02036,
     "end_time": "2024-12-14T00:15:13.095711",
     "exception": false,
     "start_time": "2024-12-14T00:15:13.075351",
     "status": "completed"
    },
    "tags": []
   },
   "outputs": [],
   "source": [
    "#stemming arabic words     \n",
    "def stemming_darija(word):\n",
    "    # file = \"./Data_prep/suf_pref_darija.json\" # local run\n",
    "    file = \"suf_pref_darija.json\" \n",
    "\n",
    "    with open(file, 'r', encoding='utf-8') as json_file:\n",
    "        suf_pref = json.load(json_file)\n",
    "\n",
    "    ArListem = ArabicLightStemmer()\n",
    "    ArListem.set_prefix_list(suf_pref['darija_prefixes'])\n",
    "    ArListem.set_suffix_list(suf_pref['darija_suffixes'])\n",
    "    ArListem.light_stem(word)  \n",
    "    return ArListem.get_stem() "
   ]
  },
  {
   "cell_type": "code",
   "execution_count": 23,
   "id": "c2b4efb0",
   "metadata": {
    "execution": {
     "iopub.execute_input": "2024-12-14T00:15:13.121116Z",
     "iopub.status.busy": "2024-12-14T00:15:13.120763Z",
     "iopub.status.idle": "2024-12-14T00:15:13.125410Z",
     "shell.execute_reply": "2024-12-14T00:15:13.124415Z"
    },
    "papermill": {
     "duration": 0.0198,
     "end_time": "2024-12-14T00:15:13.127391",
     "exception": false,
     "start_time": "2024-12-14T00:15:13.107591",
     "status": "completed"
    },
    "tags": []
   },
   "outputs": [],
   "source": [
    "# \"03:44\"\n",
    "def remove_yt_timers(text):\n",
    "    pattern = r'\\b\\d{1,2}:\\d{2,3}(:\\d{2,3})?\\b'\n",
    "    text = re.sub(pattern, '', text)\n",
    "    return text.strip()"
   ]
  },
  {
   "cell_type": "code",
   "execution_count": 24,
   "id": "8703353d",
   "metadata": {
    "execution": {
     "iopub.execute_input": "2024-12-14T00:15:13.152710Z",
     "iopub.status.busy": "2024-12-14T00:15:13.152286Z",
     "iopub.status.idle": "2024-12-14T00:15:13.157085Z",
     "shell.execute_reply": "2024-12-14T00:15:13.156273Z"
    },
    "papermill": {
     "duration": 0.019453,
     "end_time": "2024-12-14T00:15:13.158891",
     "exception": false,
     "start_time": "2024-12-14T00:15:13.139438",
     "status": "completed"
    },
    "tags": []
   },
   "outputs": [],
   "source": [
    "\n",
    "def preproc_arab_sentence(word): # main function for  arab processing tokens\n",
    "    word = removing_tashkeel(word)\n",
    "    word = removing_tatweel(word)\n",
    "    word = remove_AL(word)\n",
    "    # word = remove_ambiguity_hamza(word)\n",
    "    word = word_remover(word)\n",
    "    return word\n"
   ]
  },
  {
   "cell_type": "code",
   "execution_count": 25,
   "id": "220f5329",
   "metadata": {
    "execution": {
     "iopub.execute_input": "2024-12-14T00:15:13.184473Z",
     "iopub.status.busy": "2024-12-14T00:15:13.184087Z",
     "iopub.status.idle": "2024-12-14T00:15:13.192798Z",
     "shell.execute_reply": "2024-12-14T00:15:13.191820Z"
    },
    "papermill": {
     "duration": 0.023465,
     "end_time": "2024-12-14T00:15:13.194608",
     "exception": false,
     "start_time": "2024-12-14T00:15:13.171143",
     "status": "completed"
    },
    "tags": []
   },
   "outputs": [],
   "source": [
    "from pyarabic.araby import tokenize\n",
    "def tokenize_arab_text(text):\n",
    "            # with open('./Data_prep/stop_words_accum.json', 'r', encoding='utf-8') as file: #  local run \n",
    "            with open('./stop_words_accum.json', 'r', encoding='utf-8') as file:\n",
    "\n",
    "                stop_words = json.load(file)\n",
    "\n",
    "            # with open('./Data_prep/darija_latin_ref.json', 'r', encoding='utf-8') as file: #  local run \n",
    "            with open('./darija_latin_ref.json', 'r', encoding='utf-8') as file:\n",
    "                \n",
    "                darija_latin_ref = json.load(file)\n",
    "          \n",
    "            #print(text)\n",
    "            text = remove_url(text)\n",
    "            text = remove_emails(text)\n",
    "            text = replace_underscore(text)\n",
    "            text = remove_html_tags(text)\n",
    "            text = remove_yt_timers(text)\n",
    "            text = special_tags_and_ponctuations(text)\n",
    "            #tokenization\n",
    "            print(text)\n",
    "            words = tokenize(text)\n",
    "            print(words)\n",
    "            words = [ translate_darija_to_arabic(word) for word in words if word not in darija_latin_ref]\n",
    "            print(words)\n",
    "            words = [is_an_emoji(word) for word in words] \n",
    "            words = [item for sublist in words for item in sublist if item]\n",
    "            words = list(set(words))\n",
    "            print(words)        \n",
    "            words = [word for word in words if word not in stop_words]\n",
    "            print(words)\n",
    "\n",
    "            words = [preproc_arab_sentence(word) for word in words]\n",
    "\n",
    "            # print(words)        \n",
    "            words = [stemming_darija(word) for word in words if word]\n",
    "            words = number_remov(words)\n",
    "\n",
    "\n",
    "            # print(words)\n",
    "            words = ' '.join(words) \n",
    "            return words"
   ]
  },
  {
   "cell_type": "code",
   "execution_count": 26,
   "id": "0d2539a1",
   "metadata": {
    "execution": {
     "iopub.execute_input": "2024-12-14T00:15:13.219717Z",
     "iopub.status.busy": "2024-12-14T00:15:13.219313Z",
     "iopub.status.idle": "2024-12-14T00:15:13.235187Z",
     "shell.execute_reply": "2024-12-14T00:15:13.234261Z"
    },
    "papermill": {
     "duration": 0.030738,
     "end_time": "2024-12-14T00:15:13.237211",
     "exception": false,
     "start_time": "2024-12-14T00:15:13.206473",
     "status": "completed"
    },
    "tags": []
   },
   "outputs": [
    {
     "data": {
      "text/html": [
       "<div>\n",
       "<style scoped>\n",
       "    .dataframe tbody tr th:only-of-type {\n",
       "        vertical-align: middle;\n",
       "    }\n",
       "\n",
       "    .dataframe tbody tr th {\n",
       "        vertical-align: top;\n",
       "    }\n",
       "\n",
       "    .dataframe thead th {\n",
       "        text-align: right;\n",
       "    }\n",
       "</style>\n",
       "<table border=\"1\" class=\"dataframe\">\n",
       "  <thead>\n",
       "    <tr style=\"text-align: right;\">\n",
       "      <th></th>\n",
       "      <th>text</th>\n",
       "      <th>target</th>\n",
       "      <th>text_cleaned</th>\n",
       "    </tr>\n",
       "  </thead>\n",
       "  <tbody>\n",
       "    <tr>\n",
       "      <th>0</th>\n",
       "      <td>مكنفهمش انا علاش بنادم عوض يرض الادي ل لي عملو...</td>\n",
       "      <td>1</td>\n",
       "      <td>لراسو يرد اد كيردو مكنفهمش عملو</td>\n",
       "    </tr>\n",
       "    <tr>\n",
       "      <th>1</th>\n",
       "      <td>ماكين لا محمد السادس لا غيرو الرجا فالله أما ه...</td>\n",
       "      <td>0</td>\n",
       "      <td>لا واكل ماكين غيرو رزق</td>\n",
       "    </tr>\n",
       "    <tr>\n",
       "      <th>2</th>\n",
       "      <td>هادي هي طحن مو .طحنو الشعب وديروه كفتة احسن ما...</td>\n",
       "      <td>0</td>\n",
       "      <td>لبطانه طحن طحنو كفته احسن وديروه دبانه ما</td>\n",
       "    </tr>\n",
       "    <tr>\n",
       "      <th>3</th>\n",
       "      <td>ق.الجنائي الفرنسي كايعاقب فبحال هاد الحالات من...</td>\n",
       "      <td>1</td>\n",
       "      <td>ا اع جناا وتامل والقانون كايعاقب</td>\n",
       "    </tr>\n",
       "    <tr>\n",
       "      <th>4</th>\n",
       "      <td>ااصراحة كائن ثغير نوعا ما نتمى المزىد فى ظل ال...</td>\n",
       "      <td>1</td>\n",
       "      <td>اجديده نتم سد اسراحه ثغير والعافيه ما نوعا مزي...</td>\n",
       "    </tr>\n",
       "  </tbody>\n",
       "</table>\n",
       "</div>"
      ],
      "text/plain": [
       "                                                text  target  \\\n",
       "0  مكنفهمش انا علاش بنادم عوض يرض الادي ل لي عملو...       1   \n",
       "1  ماكين لا محمد السادس لا غيرو الرجا فالله أما ه...       0   \n",
       "2  هادي هي طحن مو .طحنو الشعب وديروه كفتة احسن ما...       0   \n",
       "3  ق.الجنائي الفرنسي كايعاقب فبحال هاد الحالات من...       1   \n",
       "4  ااصراحة كائن ثغير نوعا ما نتمى المزىد فى ظل ال...       1   \n",
       "\n",
       "                                        text_cleaned  \n",
       "0                    لراسو يرد اد كيردو مكنفهمش عملو  \n",
       "1                             لا واكل ماكين غيرو رزق  \n",
       "2          لبطانه طحن طحنو كفته احسن وديروه دبانه ما  \n",
       "3                   ا اع جناا وتامل والقانون كايعاقب  \n",
       "4  اجديده نتم سد اسراحه ثغير والعافيه ما نوعا مزي...  "
      ]
     },
     "execution_count": 26,
     "metadata": {},
     "output_type": "execute_result"
    }
   ],
   "source": [
    "df.head()"
   ]
  },
  {
   "cell_type": "code",
   "execution_count": 27,
   "id": "7a860f92",
   "metadata": {
    "execution": {
     "iopub.execute_input": "2024-12-14T00:15:13.263132Z",
     "iopub.status.busy": "2024-12-14T00:15:13.262773Z",
     "iopub.status.idle": "2024-12-14T00:15:13.289420Z",
     "shell.execute_reply": "2024-12-14T00:15:13.288554Z"
    },
    "papermill": {
     "duration": 0.042279,
     "end_time": "2024-12-14T00:15:13.291685",
     "exception": false,
     "start_time": "2024-12-14T00:15:13.249406",
     "status": "completed"
    },
    "tags": []
   },
   "outputs": [
    {
     "name": "stdout",
     "output_type": "stream",
     "text": [
      "<class 'pandas.core.frame.DataFrame'>\n",
      "RangeIndex: 30000 entries, 0 to 29999\n",
      "Data columns (total 3 columns):\n",
      " #   Column        Non-Null Count  Dtype \n",
      "---  ------        --------------  ----- \n",
      " 0   text          30000 non-null  object\n",
      " 1   target        30000 non-null  int64 \n",
      " 2   text_cleaned  28978 non-null  object\n",
      "dtypes: int64(1), object(2)\n",
      "memory usage: 703.2+ KB\n"
     ]
    }
   ],
   "source": [
    "df.info()"
   ]
  },
  {
   "cell_type": "code",
   "execution_count": 28,
   "id": "69ff529b",
   "metadata": {
    "execution": {
     "iopub.execute_input": "2024-12-14T00:15:13.318739Z",
     "iopub.status.busy": "2024-12-14T00:15:13.317765Z",
     "iopub.status.idle": "2024-12-14T00:15:13.332518Z",
     "shell.execute_reply": "2024-12-14T00:15:13.331762Z"
    },
    "papermill": {
     "duration": 0.03041,
     "end_time": "2024-12-14T00:15:13.334521",
     "exception": false,
     "start_time": "2024-12-14T00:15:13.304111",
     "status": "completed"
    },
    "tags": []
   },
   "outputs": [],
   "source": [
    "df.dropna(inplace=True)"
   ]
  },
  {
   "cell_type": "code",
   "execution_count": 29,
   "id": "0cc068c8",
   "metadata": {
    "execution": {
     "iopub.execute_input": "2024-12-14T00:15:13.360546Z",
     "iopub.status.busy": "2024-12-14T00:15:13.360163Z",
     "iopub.status.idle": "2024-12-14T00:15:13.382458Z",
     "shell.execute_reply": "2024-12-14T00:15:13.381705Z"
    },
    "papermill": {
     "duration": 0.037388,
     "end_time": "2024-12-14T00:15:13.384521",
     "exception": false,
     "start_time": "2024-12-14T00:15:13.347133",
     "status": "completed"
    },
    "tags": []
   },
   "outputs": [],
   "source": [
    "from sklearn.model_selection import train_test_split\n",
    "\n",
    "X_train, X_test, y_train, y_test = train_test_split( df.drop(columns=[\"target\"]),df[\"target\"], test_size=0.2 , stratify=df['target'] ,shuffle=True , random_state=123)"
   ]
  },
  {
   "cell_type": "code",
   "execution_count": 30,
   "id": "d115b832",
   "metadata": {
    "execution": {
     "iopub.execute_input": "2024-12-14T00:15:13.410600Z",
     "iopub.status.busy": "2024-12-14T00:15:13.410178Z",
     "iopub.status.idle": "2024-12-14T00:15:13.419615Z",
     "shell.execute_reply": "2024-12-14T00:15:13.418605Z"
    },
    "papermill": {
     "duration": 0.025074,
     "end_time": "2024-12-14T00:15:13.421550",
     "exception": false,
     "start_time": "2024-12-14T00:15:13.396476",
     "status": "completed"
    },
    "tags": []
   },
   "outputs": [
    {
     "data": {
      "text/plain": [
       "target\n",
       "0    2949\n",
       "1    2847\n",
       "Name: count, dtype: int64"
      ]
     },
     "execution_count": 30,
     "metadata": {},
     "output_type": "execute_result"
    }
   ],
   "source": [
    "y_test.value_counts()"
   ]
  },
  {
   "cell_type": "code",
   "execution_count": 31,
   "id": "009a023d",
   "metadata": {
    "execution": {
     "iopub.execute_input": "2024-12-14T00:15:13.447573Z",
     "iopub.status.busy": "2024-12-14T00:15:13.447146Z",
     "iopub.status.idle": "2024-12-14T00:15:13.453182Z",
     "shell.execute_reply": "2024-12-14T00:15:13.452234Z"
    },
    "papermill": {
     "duration": 0.021139,
     "end_time": "2024-12-14T00:15:13.455012",
     "exception": false,
     "start_time": "2024-12-14T00:15:13.433873",
     "status": "completed"
    },
    "tags": []
   },
   "outputs": [
    {
     "data": {
      "text/plain": [
       "(23182, 2)"
      ]
     },
     "execution_count": 31,
     "metadata": {},
     "output_type": "execute_result"
    }
   ],
   "source": [
    "X_train.shape"
   ]
  },
  {
   "cell_type": "markdown",
   "id": "82b03843",
   "metadata": {
    "papermill": {
     "duration": 0.011753,
     "end_time": "2024-12-14T00:15:13.478971",
     "exception": false,
     "start_time": "2024-12-14T00:15:13.467218",
     "status": "completed"
    },
    "tags": []
   },
   "source": [
    "## Useful Function"
   ]
  },
  {
   "cell_type": "code",
   "execution_count": 32,
   "id": "697cccce",
   "metadata": {
    "execution": {
     "iopub.execute_input": "2024-12-14T00:15:13.504668Z",
     "iopub.status.busy": "2024-12-14T00:15:13.504284Z",
     "iopub.status.idle": "2024-12-14T00:15:13.931768Z",
     "shell.execute_reply": "2024-12-14T00:15:13.930745Z"
    },
    "papermill": {
     "duration": 0.443139,
     "end_time": "2024-12-14T00:15:13.934209",
     "exception": false,
     "start_time": "2024-12-14T00:15:13.491070",
     "status": "completed"
    },
    "tags": []
   },
   "outputs": [],
   "source": [
    "import numpy as np\n",
    "from sklearn.metrics import accuracy_score, f1_score, classification_report, confusion_matrix\n",
    "import seaborn as sns\n",
    "import matplotlib.pyplot as plt\n",
    "\n",
    "def about_model(model_name , y_test, y_pred):\n",
    "    print('-------------------> ' + model_name )\n",
    "    accuracy = accuracy_score(y_test, y_pred)\n",
    "    print(f\"Accuracy: {accuracy:.2f}\")\n",
    "    \n",
    "    f1 = f1_score(y_test, y_pred, average=None)\n",
    "    print(\"F1-Score for each class:\")\n",
    "    class_labels = ['Positive', 'Negative']\n",
    "\n",
    "    for i, score in enumerate(f1):\n",
    "        print(f\"{class_labels[i]}: {score:.2f}\")\n",
    "    \n",
    "    print(\"\\nClassification Report:\")\n",
    "    print(classification_report(y_test, y_pred, target_names=class_labels, digits=2))\n",
    "    \n",
    "    conf_matrix = confusion_matrix(y_test, y_pred)\n",
    "    plt.figure(figsize=(8, 6))\n",
    "    sns.heatmap(conf_matrix, annot=True, fmt='d', cmap='Blues', \n",
    "                xticklabels=class_labels,\n",
    "                yticklabels=class_labels)\n",
    "    plt.xlabel(\"Predicted\")\n",
    "    plt.ylabel(\"Actual\")\n",
    "    plt.title(\"Confusion Matrix\")\n",
    "    plt.show()\n"
   ]
  },
  {
   "cell_type": "markdown",
   "id": "a699cb1c",
   "metadata": {
    "papermill": {
     "duration": 0.011895,
     "end_time": "2024-12-14T00:15:13.958783",
     "exception": false,
     "start_time": "2024-12-14T00:15:13.946888",
     "status": "completed"
    },
    "tags": []
   },
   "source": [
    "## Feature Engineering\n",
    "Converting text to vectors format:\n",
    "- TF-IDF Vectorization (ngram_range=(1, 2))"
   ]
  },
  {
   "cell_type": "code",
   "execution_count": 33,
   "id": "a6e6ade3",
   "metadata": {
    "execution": {
     "iopub.execute_input": "2024-12-14T00:15:13.985280Z",
     "iopub.status.busy": "2024-12-14T00:15:13.984494Z",
     "iopub.status.idle": "2024-12-14T00:15:13.989181Z",
     "shell.execute_reply": "2024-12-14T00:15:13.988211Z"
    },
    "papermill": {
     "duration": 0.020078,
     "end_time": "2024-12-14T00:15:13.991105",
     "exception": false,
     "start_time": "2024-12-14T00:15:13.971027",
     "status": "completed"
    },
    "tags": []
   },
   "outputs": [],
   "source": [
    "#from sklearn.feature_extraction.text import TfidfVectorizer\n",
    "\n",
    "\n",
    "#tfidf_vectorizer = TfidfVectorizer(ngram_range=(1, 2))\n",
    "#X_train['text_cleaned'] = X_train['text_cleaned'].astype(str)\n",
    "#X_test['text_cleaned'] = X_test['text_cleaned'].astype(str)\n",
    "\n",
    "#X_train_tfidf = tfidf_vectorizer.fit_transform(X_train['text_cleaned'])\n",
    "#X_test_tfidf = tfidf_vectorizer.transform(X_test['text_cleaned'])\n",
    "\n"
   ]
  },
  {
   "cell_type": "code",
   "execution_count": 34,
   "id": "564501ac",
   "metadata": {
    "execution": {
     "iopub.execute_input": "2024-12-14T00:15:14.017951Z",
     "iopub.status.busy": "2024-12-14T00:15:14.017088Z",
     "iopub.status.idle": "2024-12-14T00:15:14.768818Z",
     "shell.execute_reply": "2024-12-14T00:15:14.767776Z"
    },
    "papermill": {
     "duration": 0.767916,
     "end_time": "2024-12-14T00:15:14.771183",
     "exception": false,
     "start_time": "2024-12-14T00:15:14.003267",
     "status": "completed"
    },
    "tags": []
   },
   "outputs": [
    {
     "name": "stdout",
     "output_type": "stream",
     "text": [
      "all tokens:  46526\n",
      "reduced tokens:  46526\n"
     ]
    },
    {
     "name": "stderr",
     "output_type": "stream",
     "text": [
      "/opt/conda/lib/python3.10/site-packages/sklearn/feature_extraction/text.py:1380: UserWarning: Upper case characters found in vocabulary while 'lowercase' is True. These entries will not be matched with any documents\n",
      "  warnings.warn(\n"
     ]
    }
   ],
   "source": [
    "from sklearn.feature_extraction.text import TfidfVectorizer\n",
    "import numpy as np\n",
    "import pandas as pd\n",
    "\n",
    "\n",
    "tfidf_vectorizer = TfidfVectorizer(ngram_range=(1, 1))\n",
    "\n",
    "X_train['text_cleaned'] = X_train['text_cleaned'].astype(str)\n",
    "X_test['text_cleaned'] = X_test['text_cleaned'].astype(str)\n",
    "\n",
    "X_train_tfidf = tfidf_vectorizer.fit_transform(X_train['text_cleaned'])\n",
    "X_test_tfidf = tfidf_vectorizer.transform(X_test['text_cleaned'])\n",
    "\n",
    "words = tfidf_vectorizer.get_feature_names_out()\n",
    "print(\"all tokens: \" , len(words))\n",
    "tfidf_scores = np.asarray(X_train_tfidf.sum(axis=0)).flatten()\n",
    "\n",
    "sorted_indices = np.argsort(tfidf_scores)[::-1]\n",
    "\n",
    "cumulative_tfidf = np.cumsum(tfidf_scores[sorted_indices])\n",
    "\n",
    "total_tfidf = cumulative_tfidf[-1]\n",
    "threshold =  total_tfidf\n",
    "\n",
    "cutoff_index = np.where(cumulative_tfidf >= threshold)[0][0]\n",
    "\n",
    "selected_ngrams = words[sorted_indices][:cutoff_index + 1]\n",
    "\n",
    "selected_vocab = selected_ngrams.tolist()\n",
    "print(\"reduced tokens: \"  , len(selected_vocab))\n",
    "\n",
    "tfidf_vectorizer = TfidfVectorizer(vocabulary=selected_vocab)\n",
    "\n",
    "X_train_tfidf = tfidf_vectorizer.fit_transform(X_train['text_cleaned'])\n",
    "X_test_tfidf = tfidf_vectorizer.transform(X_test['text_cleaned'])\n"
   ]
  },
  {
   "cell_type": "code",
   "execution_count": 35,
   "id": "0a3b528b",
   "metadata": {
    "execution": {
     "iopub.execute_input": "2024-12-14T00:15:14.799354Z",
     "iopub.status.busy": "2024-12-14T00:15:14.798926Z",
     "iopub.status.idle": "2024-12-14T00:15:14.827593Z",
     "shell.execute_reply": "2024-12-14T00:15:14.826636Z"
    },
    "papermill": {
     "duration": 0.045046,
     "end_time": "2024-12-14T00:15:14.829797",
     "exception": false,
     "start_time": "2024-12-14T00:15:14.784751",
     "status": "completed"
    },
    "tags": []
   },
   "outputs": [
    {
     "data": {
      "text/plain": [
       "array(['لا', 'ما', 'غير', 'هه', 'خير', 'حمد', 'ماش', 'تفو', 'مبروك',\n",
       "       'قلب', 'هم', 'سير', 'فرح', 'عداله', 'احسن', 'قوه', 'فكر', 'لم',\n",
       "       'عديم', 'وفي', 'بدموع', 'طحن', 'تحيه', 'تنميه', 'ليس', 'والو',\n",
       "       'سح', 'كورو', 'دل', 'عمار'], dtype=object)"
      ]
     },
     "execution_count": 35,
     "metadata": {},
     "output_type": "execute_result"
    }
   ],
   "source": [
    "tfidf_vectorizer.get_feature_names_out()[:30]"
   ]
  },
  {
   "cell_type": "code",
   "execution_count": 36,
   "id": "eb099d64",
   "metadata": {
    "execution": {
     "iopub.execute_input": "2024-12-14T00:15:14.863468Z",
     "iopub.status.busy": "2024-12-14T00:15:14.863065Z",
     "iopub.status.idle": "2024-12-14T00:15:14.890651Z",
     "shell.execute_reply": "2024-12-14T00:15:14.889571Z"
    },
    "papermill": {
     "duration": 0.043597,
     "end_time": "2024-12-14T00:15:14.892729",
     "exception": false,
     "start_time": "2024-12-14T00:15:14.849132",
     "status": "completed"
    },
    "tags": []
   },
   "outputs": [
    {
     "data": {
      "text/plain": [
       "46526"
      ]
     },
     "execution_count": 36,
     "metadata": {},
     "output_type": "execute_result"
    }
   ],
   "source": [
    "len(tfidf_vectorizer.get_feature_names_out())"
   ]
  },
  {
   "cell_type": "markdown",
   "id": "c341aad6",
   "metadata": {
    "papermill": {
     "duration": 0.012768,
     "end_time": "2024-12-14T00:15:14.918864",
     "exception": false,
     "start_time": "2024-12-14T00:15:14.906096",
     "status": "completed"
    },
    "tags": []
   },
   "source": [
    "## Model Development\n"
   ]
  },
  {
   "cell_type": "markdown",
   "id": "65390ac7",
   "metadata": {
    "papermill": {
     "duration": 0.014223,
     "end_time": "2024-12-14T00:15:14.946042",
     "exception": false,
     "start_time": "2024-12-14T00:15:14.931819",
     "status": "completed"
    },
    "tags": []
   },
   "source": [
    "### Logistic Regression"
   ]
  },
  {
   "cell_type": "code",
   "execution_count": 37,
   "id": "86ca96d2",
   "metadata": {
    "execution": {
     "iopub.execute_input": "2024-12-14T00:15:14.973815Z",
     "iopub.status.busy": "2024-12-14T00:15:14.972715Z",
     "iopub.status.idle": "2024-12-14T00:15:16.575719Z",
     "shell.execute_reply": "2024-12-14T00:15:16.574511Z"
    },
    "papermill": {
     "duration": 1.619711,
     "end_time": "2024-12-14T00:15:16.578327",
     "exception": false,
     "start_time": "2024-12-14T00:15:14.958616",
     "status": "completed"
    },
    "tags": []
   },
   "outputs": [
    {
     "data": {
      "text/html": [
       "<style>#sk-container-id-1 {color: black;background-color: white;}#sk-container-id-1 pre{padding: 0;}#sk-container-id-1 div.sk-toggleable {background-color: white;}#sk-container-id-1 label.sk-toggleable__label {cursor: pointer;display: block;width: 100%;margin-bottom: 0;padding: 0.3em;box-sizing: border-box;text-align: center;}#sk-container-id-1 label.sk-toggleable__label-arrow:before {content: \"▸\";float: left;margin-right: 0.25em;color: #696969;}#sk-container-id-1 label.sk-toggleable__label-arrow:hover:before {color: black;}#sk-container-id-1 div.sk-estimator:hover label.sk-toggleable__label-arrow:before {color: black;}#sk-container-id-1 div.sk-toggleable__content {max-height: 0;max-width: 0;overflow: hidden;text-align: left;background-color: #f0f8ff;}#sk-container-id-1 div.sk-toggleable__content pre {margin: 0.2em;color: black;border-radius: 0.25em;background-color: #f0f8ff;}#sk-container-id-1 input.sk-toggleable__control:checked~div.sk-toggleable__content {max-height: 200px;max-width: 100%;overflow: auto;}#sk-container-id-1 input.sk-toggleable__control:checked~label.sk-toggleable__label-arrow:before {content: \"▾\";}#sk-container-id-1 div.sk-estimator input.sk-toggleable__control:checked~label.sk-toggleable__label {background-color: #d4ebff;}#sk-container-id-1 div.sk-label input.sk-toggleable__control:checked~label.sk-toggleable__label {background-color: #d4ebff;}#sk-container-id-1 input.sk-hidden--visually {border: 0;clip: rect(1px 1px 1px 1px);clip: rect(1px, 1px, 1px, 1px);height: 1px;margin: -1px;overflow: hidden;padding: 0;position: absolute;width: 1px;}#sk-container-id-1 div.sk-estimator {font-family: monospace;background-color: #f0f8ff;border: 1px dotted black;border-radius: 0.25em;box-sizing: border-box;margin-bottom: 0.5em;}#sk-container-id-1 div.sk-estimator:hover {background-color: #d4ebff;}#sk-container-id-1 div.sk-parallel-item::after {content: \"\";width: 100%;border-bottom: 1px solid gray;flex-grow: 1;}#sk-container-id-1 div.sk-label:hover label.sk-toggleable__label {background-color: #d4ebff;}#sk-container-id-1 div.sk-serial::before {content: \"\";position: absolute;border-left: 1px solid gray;box-sizing: border-box;top: 0;bottom: 0;left: 50%;z-index: 0;}#sk-container-id-1 div.sk-serial {display: flex;flex-direction: column;align-items: center;background-color: white;padding-right: 0.2em;padding-left: 0.2em;position: relative;}#sk-container-id-1 div.sk-item {position: relative;z-index: 1;}#sk-container-id-1 div.sk-parallel {display: flex;align-items: stretch;justify-content: center;background-color: white;position: relative;}#sk-container-id-1 div.sk-item::before, #sk-container-id-1 div.sk-parallel-item::before {content: \"\";position: absolute;border-left: 1px solid gray;box-sizing: border-box;top: 0;bottom: 0;left: 50%;z-index: -1;}#sk-container-id-1 div.sk-parallel-item {display: flex;flex-direction: column;z-index: 1;position: relative;background-color: white;}#sk-container-id-1 div.sk-parallel-item:first-child::after {align-self: flex-end;width: 50%;}#sk-container-id-1 div.sk-parallel-item:last-child::after {align-self: flex-start;width: 50%;}#sk-container-id-1 div.sk-parallel-item:only-child::after {width: 0;}#sk-container-id-1 div.sk-dashed-wrapped {border: 1px dashed gray;margin: 0 0.4em 0.5em 0.4em;box-sizing: border-box;padding-bottom: 0.4em;background-color: white;}#sk-container-id-1 div.sk-label label {font-family: monospace;font-weight: bold;display: inline-block;line-height: 1.2em;}#sk-container-id-1 div.sk-label-container {text-align: center;}#sk-container-id-1 div.sk-container {/* jupyter's `normalize.less` sets `[hidden] { display: none; }` but bootstrap.min.css set `[hidden] { display: none !important; }` so we also need the `!important` here to be able to override the default hidden behavior on the sphinx rendered scikit-learn.org. See: https://github.com/scikit-learn/scikit-learn/issues/21755 */display: inline-block !important;position: relative;}#sk-container-id-1 div.sk-text-repr-fallback {display: none;}</style><div id=\"sk-container-id-1\" class=\"sk-top-container\"><div class=\"sk-text-repr-fallback\"><pre>LogisticRegression(max_iter=1000, n_jobs=-1)</pre><b>In a Jupyter environment, please rerun this cell to show the HTML representation or trust the notebook. <br />On GitHub, the HTML representation is unable to render, please try loading this page with nbviewer.org.</b></div><div class=\"sk-container\" hidden><div class=\"sk-item\"><div class=\"sk-estimator sk-toggleable\"><input class=\"sk-toggleable__control sk-hidden--visually\" id=\"sk-estimator-id-1\" type=\"checkbox\" checked><label for=\"sk-estimator-id-1\" class=\"sk-toggleable__label sk-toggleable__label-arrow\">LogisticRegression</label><div class=\"sk-toggleable__content\"><pre>LogisticRegression(max_iter=1000, n_jobs=-1)</pre></div></div></div></div></div>"
      ],
      "text/plain": [
       "LogisticRegression(max_iter=1000, n_jobs=-1)"
      ]
     },
     "execution_count": 37,
     "metadata": {},
     "output_type": "execute_result"
    }
   ],
   "source": [
    "from sklearn.linear_model import LogisticRegression # type: ignore\n",
    "clf = LogisticRegression(max_iter = 1000 ,  n_jobs=-1 )\n",
    "clf.fit(X_train_tfidf, y_train)"
   ]
  },
  {
   "cell_type": "code",
   "execution_count": 38,
   "id": "6256f8d2",
   "metadata": {
    "execution": {
     "iopub.execute_input": "2024-12-14T00:15:16.611336Z",
     "iopub.status.busy": "2024-12-14T00:15:16.610505Z",
     "iopub.status.idle": "2024-12-14T00:15:16.948356Z",
     "shell.execute_reply": "2024-12-14T00:15:16.947429Z"
    },
    "papermill": {
     "duration": 0.355871,
     "end_time": "2024-12-14T00:15:16.950467",
     "exception": false,
     "start_time": "2024-12-14T00:15:16.594596",
     "status": "completed"
    },
    "tags": []
   },
   "outputs": [
    {
     "name": "stdout",
     "output_type": "stream",
     "text": [
      "-------------------> Logistic Regression\n",
      "Accuracy: 0.75\n",
      "F1-Score for each class:\n",
      "Positive: 0.76\n",
      "Negative: 0.73\n",
      "\n",
      "Classification Report:\n",
      "              precision    recall  f1-score   support\n",
      "\n",
      "    Positive       0.73      0.80      0.76      2949\n",
      "    Negative       0.77      0.69      0.73      2847\n",
      "\n",
      "    accuracy                           0.75      5796\n",
      "   macro avg       0.75      0.74      0.74      5796\n",
      "weighted avg       0.75      0.75      0.74      5796\n",
      "\n"
     ]
    },
    {
     "data": {
      "image/png": "[encoded data removed]",
      "text/plain": [
       "<Figure size 800x600 with 2 Axes>"
      ]
     },
     "metadata": {},
     "output_type": "display_data"
    }
   ],
   "source": [
    "y_hat = clf.predict(X_test_tfidf)\n",
    "about_model(\"Logistic Regression\" ,y_test , y_hat)"
   ]
  },
  {
   "cell_type": "markdown",
   "id": "bff89b0b",
   "metadata": {
    "papermill": {
     "duration": 0.013314,
     "end_time": "2024-12-14T00:15:16.977052",
     "exception": false,
     "start_time": "2024-12-14T00:15:16.963738",
     "status": "completed"
    },
    "tags": []
   },
   "source": [
    "### Tuned Logistic Regression"
   ]
  },
  {
   "cell_type": "code",
   "execution_count": 39,
   "id": "a8aba714",
   "metadata": {
    "execution": {
     "iopub.execute_input": "2024-12-14T00:15:17.005272Z",
     "iopub.status.busy": "2024-12-14T00:15:17.004514Z",
     "iopub.status.idle": "2024-12-14T00:15:17.042912Z",
     "shell.execute_reply": "2024-12-14T00:15:17.041880Z"
    },
    "papermill": {
     "duration": 0.054805,
     "end_time": "2024-12-14T00:15:17.044960",
     "exception": false,
     "start_time": "2024-12-14T00:15:16.990155",
     "status": "completed"
    },
    "tags": []
   },
   "outputs": [
    {
     "name": "stdout",
     "output_type": "stream",
     "text": [
      "\n",
      "[]\n",
      "[]\n",
      "[]\n",
      "[]\n",
      "\n"
     ]
    },
    {
     "data": {
      "text/plain": [
       "array([0])"
      ]
     },
     "execution_count": 39,
     "metadata": {},
     "output_type": "execute_result"
    }
   ],
   "source": [
    "text = tokenize_arab_text('')\n",
    "print(text)\n",
    "\n",
    "if isinstance(text, str):\n",
    "    text = [text]  \n",
    "\n",
    "text_vectorized = tfidf_vectorizer.transform(text)  \n",
    "text_vectorized = text_vectorized.reshape(1, -1)  \n",
    "clf.predict(text_vectorized)\n"
   ]
  },
  {
   "cell_type": "code",
   "execution_count": 40,
   "id": "d8e97e51",
   "metadata": {
    "execution": {
     "iopub.execute_input": "2024-12-14T00:15:17.074454Z",
     "iopub.status.busy": "2024-12-14T00:15:17.073403Z",
     "iopub.status.idle": "2024-12-14T02:19:26.738540Z",
     "shell.execute_reply": "2024-12-14T02:19:26.737296Z"
    },
    "papermill": {
     "duration": 7449.700584,
     "end_time": "2024-12-14T02:19:26.759450",
     "exception": false,
     "start_time": "2024-12-14T00:15:17.058866",
     "status": "completed"
    },
    "tags": []
   },
   "outputs": [
    {
     "name": "stdout",
     "output_type": "stream",
     "text": [
      "Fitting 5 folds for each of 12 candidates, totalling 60 fits\n"
     ]
    },
    {
     "data": {
      "text/plain": [
       "{'C': 1.0, 'penalty': 'l2', 'solver': 'saga'}"
      ]
     },
     "execution_count": 40,
     "metadata": {},
     "output_type": "execute_result"
    }
   ],
   "source": [
    "# Logistic Regression\n",
    "param_grid_ = {\n",
    "    'C': [1e-5, 1e-3, 1e-1, 1e0, 1e1, 1e2],  \n",
    "    'penalty': ['l1', 'l2'],                \n",
    "    'solver': ['saga'],                     \n",
    "}\n",
    "\n",
    "clf_grid = GridSearchCV(\n",
    "    estimator=LogisticRegression(max_iter=5000, n_jobs=-1),\n",
    "    param_grid=param_grid_,\n",
    "    cv=5,\n",
    "    verbose=1,\n",
    "    scoring='accuracy',\n",
    "    n_jobs=-1\n",
    ")\n",
    "\n",
    "clf_grid.fit(X_train_tfidf, y_train)\n",
    "clf_grid.best_params_\n"
   ]
  },
  {
   "cell_type": "code",
   "execution_count": 41,
   "id": "037179d9",
   "metadata": {
    "execution": {
     "iopub.execute_input": "2024-12-14T02:19:26.790154Z",
     "iopub.status.busy": "2024-12-14T02:19:26.789192Z",
     "iopub.status.idle": "2024-12-14T02:19:27.126858Z",
     "shell.execute_reply": "2024-12-14T02:19:27.125836Z"
    },
    "papermill": {
     "duration": 0.356005,
     "end_time": "2024-12-14T02:19:27.129131",
     "exception": false,
     "start_time": "2024-12-14T02:19:26.773126",
     "status": "completed"
    },
    "tags": []
   },
   "outputs": [
    {
     "name": "stdout",
     "output_type": "stream",
     "text": [
      "-------------------> Tuned Logistic Regression\n",
      "Accuracy: 0.75\n",
      "F1-Score for each class:\n",
      "Positive: 0.76\n",
      "Negative: 0.73\n",
      "\n",
      "Classification Report:\n",
      "              precision    recall  f1-score   support\n",
      "\n",
      "    Positive       0.73      0.80      0.76      2949\n",
      "    Negative       0.77      0.69      0.73      2847\n",
      "\n",
      "    accuracy                           0.75      5796\n",
      "   macro avg       0.75      0.74      0.74      5796\n",
      "weighted avg       0.75      0.75      0.74      5796\n",
      "\n"
     ]
    },
    {
     "data": {
      "image/png": "[encoded data removed]",
      "text/plain": [
       "<Figure size 800x600 with 2 Axes>"
      ]
     },
     "metadata": {},
     "output_type": "display_data"
    }
   ],
   "source": [
    "y_hat = clf_grid.predict(X_test_tfidf)\n",
    "about_model(\"Tuned Logistic Regression\" , y_test , y_hat)"
   ]
  },
  {
   "cell_type": "markdown",
   "id": "6a4459e9",
   "metadata": {
    "papermill": {
     "duration": 0.014315,
     "end_time": "2024-12-14T02:19:27.157963",
     "exception": false,
     "start_time": "2024-12-14T02:19:27.143648",
     "status": "completed"
    },
    "tags": []
   },
   "source": [
    "## XGBoost"
   ]
  },
  {
   "cell_type": "code",
   "execution_count": 42,
   "id": "2af599b8",
   "metadata": {
    "execution": {
     "iopub.execute_input": "2024-12-14T02:19:27.188332Z",
     "iopub.status.busy": "2024-12-14T02:19:27.187965Z",
     "iopub.status.idle": "2024-12-14T02:19:32.599975Z",
     "shell.execute_reply": "2024-12-14T02:19:32.598778Z"
    },
    "papermill": {
     "duration": 5.429778,
     "end_time": "2024-12-14T02:19:32.602128",
     "exception": false,
     "start_time": "2024-12-14T02:19:27.172350",
     "status": "completed"
    },
    "tags": []
   },
   "outputs": [
    {
     "data": {
      "text/html": [
       "<style>#sk-container-id-2 {color: black;background-color: white;}#sk-container-id-2 pre{padding: 0;}#sk-container-id-2 div.sk-toggleable {background-color: white;}#sk-container-id-2 label.sk-toggleable__label {cursor: pointer;display: block;width: 100%;margin-bottom: 0;padding: 0.3em;box-sizing: border-box;text-align: center;}#sk-container-id-2 label.sk-toggleable__label-arrow:before {content: \"▸\";float: left;margin-right: 0.25em;color: #696969;}#sk-container-id-2 label.sk-toggleable__label-arrow:hover:before {color: black;}#sk-container-id-2 div.sk-estimator:hover label.sk-toggleable__label-arrow:before {color: black;}#sk-container-id-2 div.sk-toggleable__content {max-height: 0;max-width: 0;overflow: hidden;text-align: left;background-color: #f0f8ff;}#sk-container-id-2 div.sk-toggleable__content pre {margin: 0.2em;color: black;border-radius: 0.25em;background-color: #f0f8ff;}#sk-container-id-2 input.sk-toggleable__control:checked~div.sk-toggleable__content {max-height: 200px;max-width: 100%;overflow: auto;}#sk-container-id-2 input.sk-toggleable__control:checked~label.sk-toggleable__label-arrow:before {content: \"▾\";}#sk-container-id-2 div.sk-estimator input.sk-toggleable__control:checked~label.sk-toggleable__label {background-color: #d4ebff;}#sk-container-id-2 div.sk-label input.sk-toggleable__control:checked~label.sk-toggleable__label {background-color: #d4ebff;}#sk-container-id-2 input.sk-hidden--visually {border: 0;clip: rect(1px 1px 1px 1px);clip: rect(1px, 1px, 1px, 1px);height: 1px;margin: -1px;overflow: hidden;padding: 0;position: absolute;width: 1px;}#sk-container-id-2 div.sk-estimator {font-family: monospace;background-color: #f0f8ff;border: 1px dotted black;border-radius: 0.25em;box-sizing: border-box;margin-bottom: 0.5em;}#sk-container-id-2 div.sk-estimator:hover {background-color: #d4ebff;}#sk-container-id-2 div.sk-parallel-item::after {content: \"\";width: 100%;border-bottom: 1px solid gray;flex-grow: 1;}#sk-container-id-2 div.sk-label:hover label.sk-toggleable__label {background-color: #d4ebff;}#sk-container-id-2 div.sk-serial::before {content: \"\";position: absolute;border-left: 1px solid gray;box-sizing: border-box;top: 0;bottom: 0;left: 50%;z-index: 0;}#sk-container-id-2 div.sk-serial {display: flex;flex-direction: column;align-items: center;background-color: white;padding-right: 0.2em;padding-left: 0.2em;position: relative;}#sk-container-id-2 div.sk-item {position: relative;z-index: 1;}#sk-container-id-2 div.sk-parallel {display: flex;align-items: stretch;justify-content: center;background-color: white;position: relative;}#sk-container-id-2 div.sk-item::before, #sk-container-id-2 div.sk-parallel-item::before {content: \"\";position: absolute;border-left: 1px solid gray;box-sizing: border-box;top: 0;bottom: 0;left: 50%;z-index: -1;}#sk-container-id-2 div.sk-parallel-item {display: flex;flex-direction: column;z-index: 1;position: relative;background-color: white;}#sk-container-id-2 div.sk-parallel-item:first-child::after {align-self: flex-end;width: 50%;}#sk-container-id-2 div.sk-parallel-item:last-child::after {align-self: flex-start;width: 50%;}#sk-container-id-2 div.sk-parallel-item:only-child::after {width: 0;}#sk-container-id-2 div.sk-dashed-wrapped {border: 1px dashed gray;margin: 0 0.4em 0.5em 0.4em;box-sizing: border-box;padding-bottom: 0.4em;background-color: white;}#sk-container-id-2 div.sk-label label {font-family: monospace;font-weight: bold;display: inline-block;line-height: 1.2em;}#sk-container-id-2 div.sk-label-container {text-align: center;}#sk-container-id-2 div.sk-container {/* jupyter's `normalize.less` sets `[hidden] { display: none; }` but bootstrap.min.css set `[hidden] { display: none !important; }` so we also need the `!important` here to be able to override the default hidden behavior on the sphinx rendered scikit-learn.org. See: https://github.com/scikit-learn/scikit-learn/issues/21755 */display: inline-block !important;position: relative;}#sk-container-id-2 div.sk-text-repr-fallback {display: none;}</style><div id=\"sk-container-id-2\" class=\"sk-top-container\"><div class=\"sk-text-repr-fallback\"><pre>XGBClassifier(base_score=None, booster=None, callbacks=None,\n",
       "              colsample_bylevel=None, colsample_bynode=None,\n",
       "              colsample_bytree=None, device=None, early_stopping_rounds=None,\n",
       "              enable_categorical=False, eval_metric=None, feature_types=None,\n",
       "              gamma=None, grow_policy=None, importance_type=None,\n",
       "              interaction_constraints=None, learning_rate=None, max_bin=None,\n",
       "              max_cat_threshold=None, max_cat_to_onehot=None,\n",
       "              max_delta_step=None, max_depth=None, max_leaves=None,\n",
       "              min_child_weight=None, missing=nan, monotone_constraints=None,\n",
       "              multi_strategy=None, n_estimators=None, n_jobs=None,\n",
       "              num_parallel_tree=None, random_state=None, ...)</pre><b>In a Jupyter environment, please rerun this cell to show the HTML representation or trust the notebook. <br />On GitHub, the HTML representation is unable to render, please try loading this page with nbviewer.org.</b></div><div class=\"sk-container\" hidden><div class=\"sk-item\"><div class=\"sk-estimator sk-toggleable\"><input class=\"sk-toggleable__control sk-hidden--visually\" id=\"sk-estimator-id-2\" type=\"checkbox\" checked><label for=\"sk-estimator-id-2\" class=\"sk-toggleable__label sk-toggleable__label-arrow\">XGBClassifier</label><div class=\"sk-toggleable__content\"><pre>XGBClassifier(base_score=None, booster=None, callbacks=None,\n",
       "              colsample_bylevel=None, colsample_bynode=None,\n",
       "              colsample_bytree=None, device=None, early_stopping_rounds=None,\n",
       "              enable_categorical=False, eval_metric=None, feature_types=None,\n",
       "              gamma=None, grow_policy=None, importance_type=None,\n",
       "              interaction_constraints=None, learning_rate=None, max_bin=None,\n",
       "              max_cat_threshold=None, max_cat_to_onehot=None,\n",
       "              max_delta_step=None, max_depth=None, max_leaves=None,\n",
       "              min_child_weight=None, missing=nan, monotone_constraints=None,\n",
       "              multi_strategy=None, n_estimators=None, n_jobs=None,\n",
       "              num_parallel_tree=None, random_state=None, ...)</pre></div></div></div></div></div>"
      ],
      "text/plain": [
       "XGBClassifier(base_score=None, booster=None, callbacks=None,\n",
       "              colsample_bylevel=None, colsample_bynode=None,\n",
       "              colsample_bytree=None, device=None, early_stopping_rounds=None,\n",
       "              enable_categorical=False, eval_metric=None, feature_types=None,\n",
       "              gamma=None, grow_policy=None, importance_type=None,\n",
       "              interaction_constraints=None, learning_rate=None, max_bin=None,\n",
       "              max_cat_threshold=None, max_cat_to_onehot=None,\n",
       "              max_delta_step=None, max_depth=None, max_leaves=None,\n",
       "              min_child_weight=None, missing=nan, monotone_constraints=None,\n",
       "              multi_strategy=None, n_estimators=None, n_jobs=None,\n",
       "              num_parallel_tree=None, random_state=None, ...)"
      ]
     },
     "execution_count": 42,
     "metadata": {},
     "output_type": "execute_result"
    }
   ],
   "source": [
    "from xgboost import XGBClassifier\n",
    "from sklearn.model_selection import GridSearchCV\n",
    "\n",
    "xgb = XGBClassifier()\n",
    "\n",
    "xgb.fit(X_train_tfidf, y_train)"
   ]
  },
  {
   "cell_type": "code",
   "execution_count": 43,
   "id": "241e624c",
   "metadata": {
    "execution": {
     "iopub.execute_input": "2024-12-14T02:19:32.634804Z",
     "iopub.status.busy": "2024-12-14T02:19:32.633853Z",
     "iopub.status.idle": "2024-12-14T02:19:33.158891Z",
     "shell.execute_reply": "2024-12-14T02:19:33.157829Z"
    },
    "papermill": {
     "duration": 0.543758,
     "end_time": "2024-12-14T02:19:33.161045",
     "exception": false,
     "start_time": "2024-12-14T02:19:32.617287",
     "status": "completed"
    },
    "tags": []
   },
   "outputs": [
    {
     "name": "stdout",
     "output_type": "stream",
     "text": [
      "-------------------> XGBoost\n",
      "Accuracy: 0.67\n",
      "F1-Score for each class:\n",
      "Positive: 0.61\n",
      "Negative: 0.72\n",
      "\n",
      "Classification Report:\n",
      "              precision    recall  f1-score   support\n",
      "\n",
      "    Positive       0.77      0.51      0.61      2949\n",
      "    Negative       0.62      0.85      0.72      2847\n",
      "\n",
      "    accuracy                           0.67      5796\n",
      "   macro avg       0.70      0.68      0.66      5796\n",
      "weighted avg       0.70      0.67      0.66      5796\n",
      "\n"
     ]
    },
    {
     "data": {
      "image/png": "[encoded data removed]",
      "text/plain": [
       "<Figure size 800x600 with 2 Axes>"
      ]
     },
     "metadata": {},
     "output_type": "display_data"
    }
   ],
   "source": [
    "y_hat = xgb.predict(X_test_tfidf)\n",
    "about_model(\"XGBoost\" , y_test, y_hat) "
   ]
  },
  {
   "cell_type": "markdown",
   "id": "abe1b67a",
   "metadata": {
    "papermill": {
     "duration": 0.01497,
     "end_time": "2024-12-14T02:19:33.191868",
     "exception": false,
     "start_time": "2024-12-14T02:19:33.176898",
     "status": "completed"
    },
    "tags": []
   },
   "source": [
    "### Tuned XGBoost"
   ]
  },
  {
   "cell_type": "code",
   "execution_count": 44,
   "id": "3c427cea",
   "metadata": {
    "execution": {
     "iopub.execute_input": "2024-12-14T02:19:33.223773Z",
     "iopub.status.busy": "2024-12-14T02:19:33.223343Z",
     "iopub.status.idle": "2024-12-14T02:55:21.097798Z",
     "shell.execute_reply": "2024-12-14T02:55:21.096457Z"
    },
    "papermill": {
     "duration": 2147.906874,
     "end_time": "2024-12-14T02:55:21.114113",
     "exception": false,
     "start_time": "2024-12-14T02:19:33.207239",
     "status": "completed"
    },
    "tags": []
   },
   "outputs": [
    {
     "name": "stdout",
     "output_type": "stream",
     "text": [
      "Fitting 5 folds for each of 54 candidates, totalling 270 fits\n"
     ]
    },
    {
     "data": {
      "text/plain": [
       "{'learning_rate': 0.3, 'max_depth': 10, 'n_estimators': 300, 'subsample': 1.0}"
      ]
     },
     "execution_count": 44,
     "metadata": {},
     "output_type": "execute_result"
    }
   ],
   "source": [
    "#XGBoost\n",
    "param_grid_ = {\n",
    "    'n_estimators': [100, 200, 300],                \n",
    "    'max_depth': [3, 7, 10],                     \n",
    "    'learning_rate': [0.01, 0.1, 0.3],              \n",
    "    'subsample': [0.7, 1.0],                   \n",
    "}\n",
    "\n",
    "xgb_grid = GridSearchCV(\n",
    "    estimator=XGBClassifier(      \n",
    "    ),\n",
    "    param_grid=param_grid_,\n",
    "    cv=5,                         \n",
    "    verbose=1,                    \n",
    "    scoring='accuracy'  , \n",
    "    n_jobs=-1,\n",
    ")\n",
    "\n",
    "xgb_grid.fit(X_train_tfidf, y_train)\n",
    "xgb_grid.best_params_"
   ]
  },
  {
   "cell_type": "code",
   "execution_count": 45,
   "id": "52b337ac",
   "metadata": {
    "execution": {
     "iopub.execute_input": "2024-12-14T02:55:21.147064Z",
     "iopub.status.busy": "2024-12-14T02:55:21.146660Z",
     "iopub.status.idle": "2024-12-14T02:55:21.521462Z",
     "shell.execute_reply": "2024-12-14T02:55:21.520430Z"
    },
    "papermill": {
     "duration": 0.394072,
     "end_time": "2024-12-14T02:55:21.523655",
     "exception": false,
     "start_time": "2024-12-14T02:55:21.129583",
     "status": "completed"
    },
    "tags": []
   },
   "outputs": [
    {
     "name": "stdout",
     "output_type": "stream",
     "text": [
      "-------------------> Tuned XGBoost\n",
      "Accuracy: 0.71\n",
      "F1-Score for each class:\n",
      "Positive: 0.67\n",
      "Negative: 0.74\n",
      "\n",
      "Classification Report:\n",
      "              precision    recall  f1-score   support\n",
      "\n",
      "    Positive       0.78      0.59      0.67      2949\n",
      "    Negative       0.66      0.83      0.74      2847\n",
      "\n",
      "    accuracy                           0.71      5796\n",
      "   macro avg       0.72      0.71      0.71      5796\n",
      "weighted avg       0.72      0.71      0.71      5796\n",
      "\n"
     ]
    },
    {
     "data": {
      "image/png": "[encoded data removed]",
      "text/plain": [
       "<Figure size 800x600 with 2 Axes>"
      ]
     },
     "metadata": {},
     "output_type": "display_data"
    }
   ],
   "source": [
    "y_hat = xgb_grid.predict(X_test_tfidf) \n",
    "about_model(\"Tuned XGBoost\" , y_test, y_hat)\n"
   ]
  },
  {
   "cell_type": "markdown",
   "id": "8e2bb6aa",
   "metadata": {
    "papermill": {
     "duration": 0.016054,
     "end_time": "2024-12-14T02:55:21.556341",
     "exception": false,
     "start_time": "2024-12-14T02:55:21.540287",
     "status": "completed"
    },
    "tags": []
   },
   "source": [
    "### Decision Tree"
   ]
  },
  {
   "cell_type": "code",
   "execution_count": 46,
   "id": "7c5531cf",
   "metadata": {
    "execution": {
     "iopub.execute_input": "2024-12-14T02:55:21.596143Z",
     "iopub.status.busy": "2024-12-14T02:55:21.595564Z",
     "iopub.status.idle": "2024-12-14T02:55:42.418775Z",
     "shell.execute_reply": "2024-12-14T02:55:42.417501Z"
    },
    "papermill": {
     "duration": 20.848022,
     "end_time": "2024-12-14T02:55:42.420759",
     "exception": false,
     "start_time": "2024-12-14T02:55:21.572737",
     "status": "completed"
    },
    "tags": []
   },
   "outputs": [
    {
     "data": {
      "text/html": [
       "<style>#sk-container-id-3 {color: black;background-color: white;}#sk-container-id-3 pre{padding: 0;}#sk-container-id-3 div.sk-toggleable {background-color: white;}#sk-container-id-3 label.sk-toggleable__label {cursor: pointer;display: block;width: 100%;margin-bottom: 0;padding: 0.3em;box-sizing: border-box;text-align: center;}#sk-container-id-3 label.sk-toggleable__label-arrow:before {content: \"▸\";float: left;margin-right: 0.25em;color: #696969;}#sk-container-id-3 label.sk-toggleable__label-arrow:hover:before {color: black;}#sk-container-id-3 div.sk-estimator:hover label.sk-toggleable__label-arrow:before {color: black;}#sk-container-id-3 div.sk-toggleable__content {max-height: 0;max-width: 0;overflow: hidden;text-align: left;background-color: #f0f8ff;}#sk-container-id-3 div.sk-toggleable__content pre {margin: 0.2em;color: black;border-radius: 0.25em;background-color: #f0f8ff;}#sk-container-id-3 input.sk-toggleable__control:checked~div.sk-toggleable__content {max-height: 200px;max-width: 100%;overflow: auto;}#sk-container-id-3 input.sk-toggleable__control:checked~label.sk-toggleable__label-arrow:before {content: \"▾\";}#sk-container-id-3 div.sk-estimator input.sk-toggleable__control:checked~label.sk-toggleable__label {background-color: #d4ebff;}#sk-container-id-3 div.sk-label input.sk-toggleable__control:checked~label.sk-toggleable__label {background-color: #d4ebff;}#sk-container-id-3 input.sk-hidden--visually {border: 0;clip: rect(1px 1px 1px 1px);clip: rect(1px, 1px, 1px, 1px);height: 1px;margin: -1px;overflow: hidden;padding: 0;position: absolute;width: 1px;}#sk-container-id-3 div.sk-estimator {font-family: monospace;background-color: #f0f8ff;border: 1px dotted black;border-radius: 0.25em;box-sizing: border-box;margin-bottom: 0.5em;}#sk-container-id-3 div.sk-estimator:hover {background-color: #d4ebff;}#sk-container-id-3 div.sk-parallel-item::after {content: \"\";width: 100%;border-bottom: 1px solid gray;flex-grow: 1;}#sk-container-id-3 div.sk-label:hover label.sk-toggleable__label {background-color: #d4ebff;}#sk-container-id-3 div.sk-serial::before {content: \"\";position: absolute;border-left: 1px solid gray;box-sizing: border-box;top: 0;bottom: 0;left: 50%;z-index: 0;}#sk-container-id-3 div.sk-serial {display: flex;flex-direction: column;align-items: center;background-color: white;padding-right: 0.2em;padding-left: 0.2em;position: relative;}#sk-container-id-3 div.sk-item {position: relative;z-index: 1;}#sk-container-id-3 div.sk-parallel {display: flex;align-items: stretch;justify-content: center;background-color: white;position: relative;}#sk-container-id-3 div.sk-item::before, #sk-container-id-3 div.sk-parallel-item::before {content: \"\";position: absolute;border-left: 1px solid gray;box-sizing: border-box;top: 0;bottom: 0;left: 50%;z-index: -1;}#sk-container-id-3 div.sk-parallel-item {display: flex;flex-direction: column;z-index: 1;position: relative;background-color: white;}#sk-container-id-3 div.sk-parallel-item:first-child::after {align-self: flex-end;width: 50%;}#sk-container-id-3 div.sk-parallel-item:last-child::after {align-self: flex-start;width: 50%;}#sk-container-id-3 div.sk-parallel-item:only-child::after {width: 0;}#sk-container-id-3 div.sk-dashed-wrapped {border: 1px dashed gray;margin: 0 0.4em 0.5em 0.4em;box-sizing: border-box;padding-bottom: 0.4em;background-color: white;}#sk-container-id-3 div.sk-label label {font-family: monospace;font-weight: bold;display: inline-block;line-height: 1.2em;}#sk-container-id-3 div.sk-label-container {text-align: center;}#sk-container-id-3 div.sk-container {/* jupyter's `normalize.less` sets `[hidden] { display: none; }` but bootstrap.min.css set `[hidden] { display: none !important; }` so we also need the `!important` here to be able to override the default hidden behavior on the sphinx rendered scikit-learn.org. See: https://github.com/scikit-learn/scikit-learn/issues/21755 */display: inline-block !important;position: relative;}#sk-container-id-3 div.sk-text-repr-fallback {display: none;}</style><div id=\"sk-container-id-3\" class=\"sk-top-container\"><div class=\"sk-text-repr-fallback\"><pre>DecisionTreeClassifier()</pre><b>In a Jupyter environment, please rerun this cell to show the HTML representation or trust the notebook. <br />On GitHub, the HTML representation is unable to render, please try loading this page with nbviewer.org.</b></div><div class=\"sk-container\" hidden><div class=\"sk-item\"><div class=\"sk-estimator sk-toggleable\"><input class=\"sk-toggleable__control sk-hidden--visually\" id=\"sk-estimator-id-3\" type=\"checkbox\" checked><label for=\"sk-estimator-id-3\" class=\"sk-toggleable__label sk-toggleable__label-arrow\">DecisionTreeClassifier</label><div class=\"sk-toggleable__content\"><pre>DecisionTreeClassifier()</pre></div></div></div></div></div>"
      ],
      "text/plain": [
       "DecisionTreeClassifier()"
      ]
     },
     "execution_count": 46,
     "metadata": {},
     "output_type": "execute_result"
    }
   ],
   "source": [
    "from sklearn.tree import DecisionTreeClassifier\n",
    "\n",
    "decision_tress_clf = DecisionTreeClassifier()\n",
    "decision_tress_clf.fit(X_train_tfidf, y_train)"
   ]
  },
  {
   "cell_type": "code",
   "execution_count": 47,
   "id": "9a1739cd",
   "metadata": {
    "execution": {
     "iopub.execute_input": "2024-12-14T02:55:42.455576Z",
     "iopub.status.busy": "2024-12-14T02:55:42.454768Z",
     "iopub.status.idle": "2024-12-14T02:55:42.799215Z",
     "shell.execute_reply": "2024-12-14T02:55:42.798129Z"
    },
    "papermill": {
     "duration": 0.364023,
     "end_time": "2024-12-14T02:55:42.801262",
     "exception": false,
     "start_time": "2024-12-14T02:55:42.437239",
     "status": "completed"
    },
    "tags": []
   },
   "outputs": [
    {
     "name": "stdout",
     "output_type": "stream",
     "text": [
      "-------------------> Decision Tree\n",
      "Accuracy: 0.70\n",
      "F1-Score for each class:\n",
      "Positive: 0.68\n",
      "Negative: 0.71\n",
      "\n",
      "Classification Report:\n",
      "              precision    recall  f1-score   support\n",
      "\n",
      "    Positive       0.74      0.63      0.68      2949\n",
      "    Negative       0.66      0.77      0.71      2847\n",
      "\n",
      "    accuracy                           0.70      5796\n",
      "   macro avg       0.70      0.70      0.69      5796\n",
      "weighted avg       0.70      0.70      0.69      5796\n",
      "\n"
     ]
    },
    {
     "data": {
      "image/png": "[encoded data removed]",
      "text/plain": [
       "<Figure size 800x600 with 2 Axes>"
      ]
     },
     "metadata": {},
     "output_type": "display_data"
    }
   ],
   "source": [
    "y_hat = decision_tress_clf.predict(X_test_tfidf) \n",
    "about_model(\"Decision Tree\" , y_test, y_hat)"
   ]
  },
  {
   "cell_type": "markdown",
   "id": "bf393aa4",
   "metadata": {
    "papermill": {
     "duration": 0.016619,
     "end_time": "2024-12-14T02:55:42.835314",
     "exception": false,
     "start_time": "2024-12-14T02:55:42.818695",
     "status": "completed"
    },
    "tags": []
   },
   "source": [
    "### Tuned Decision Tree"
   ]
  },
  {
   "cell_type": "code",
   "execution_count": 48,
   "id": "19d9d096",
   "metadata": {
    "execution": {
     "iopub.execute_input": "2024-12-14T02:55:42.871346Z",
     "iopub.status.busy": "2024-12-14T02:55:42.870593Z",
     "iopub.status.idle": "2024-12-14T03:16:42.597388Z",
     "shell.execute_reply": "2024-12-14T03:16:42.596293Z"
    },
    "papermill": {
     "duration": 1259.764501,
     "end_time": "2024-12-14T03:16:42.616792",
     "exception": false,
     "start_time": "2024-12-14T02:55:42.852291",
     "status": "completed"
    },
    "tags": []
   },
   "outputs": [
    {
     "name": "stdout",
     "output_type": "stream",
     "text": [
      "Fitting 5 folds for each of 144 candidates, totalling 720 fits\n"
     ]
    },
    {
     "data": {
      "text/plain": [
       "{'criterion': 'gini',\n",
       " 'max_depth': None,\n",
       " 'min_samples_leaf': 1,\n",
       " 'min_samples_split': 10,\n",
       " 'splitter': 'random'}"
      ]
     },
     "execution_count": 48,
     "metadata": {},
     "output_type": "execute_result"
    }
   ],
   "source": [
    "param_grid_ = {\n",
    "    'max_depth': [3, 5, 10, None],  \n",
    "    'min_samples_split': [2, 5, 10],  \n",
    "    'min_samples_leaf': [1, 2, 4], \n",
    "    'criterion': ['gini', 'entropy'], \n",
    "    'splitter': ['best', 'random'],  \n",
    "}\n",
    "\n",
    "decision_tress_grid= GridSearchCV(\n",
    "    estimator=DecisionTreeClassifier(),\n",
    "    param_grid=param_grid_,\n",
    "    cv=5, \n",
    "    verbose=1,  \n",
    "    scoring='accuracy' ,\n",
    "    n_jobs=-1\n",
    ")\n",
    "decision_tress_grid.fit(X_train_tfidf, y_train)\n",
    "decision_tress_grid.best_params_\n"
   ]
  },
  {
   "cell_type": "code",
   "execution_count": 49,
   "id": "ffc34d18",
   "metadata": {
    "execution": {
     "iopub.execute_input": "2024-12-14T03:16:42.653541Z",
     "iopub.status.busy": "2024-12-14T03:16:42.652788Z",
     "iopub.status.idle": "2024-12-14T03:16:42.931368Z",
     "shell.execute_reply": "2024-12-14T03:16:42.930324Z"
    },
    "papermill": {
     "duration": 0.299638,
     "end_time": "2024-12-14T03:16:42.933714",
     "exception": false,
     "start_time": "2024-12-14T03:16:42.634076",
     "status": "completed"
    },
    "tags": []
   },
   "outputs": [
    {
     "name": "stdout",
     "output_type": "stream",
     "text": [
      "-------------------> Tuned Decision Tree\n",
      "Accuracy: 0.71\n",
      "F1-Score for each class:\n",
      "Positive: 0.69\n",
      "Negative: 0.72\n",
      "\n",
      "Classification Report:\n",
      "              precision    recall  f1-score   support\n",
      "\n",
      "    Positive       0.74      0.64      0.69      2949\n",
      "    Negative       0.68      0.77      0.72      2847\n",
      "\n",
      "    accuracy                           0.71      5796\n",
      "   macro avg       0.71      0.71      0.71      5796\n",
      "weighted avg       0.71      0.71      0.70      5796\n",
      "\n"
     ]
    },
    {
     "data": {
      "image/png": "[encoded data removed]",
      "text/plain": [
       "<Figure size 800x600 with 2 Axes>"
      ]
     },
     "metadata": {},
     "output_type": "display_data"
    }
   ],
   "source": [
    "y_hat = decision_tress_grid.predict(X_test_tfidf)\n",
    "about_model(\"Tuned Decision Tree\" , y_test, y_hat)"
   ]
  },
  {
   "cell_type": "markdown",
   "id": "fa5deec2",
   "metadata": {
    "papermill": {
     "duration": 0.017448,
     "end_time": "2024-12-14T03:16:42.969297",
     "exception": false,
     "start_time": "2024-12-14T03:16:42.951849",
     "status": "completed"
    },
    "tags": []
   },
   "source": [
    "Multinomial Naive Bayes"
   ]
  },
  {
   "cell_type": "code",
   "execution_count": 50,
   "id": "376e2634",
   "metadata": {
    "execution": {
     "iopub.execute_input": "2024-12-14T03:16:43.007001Z",
     "iopub.status.busy": "2024-12-14T03:16:43.005979Z",
     "iopub.status.idle": "2024-12-14T03:16:43.026411Z",
     "shell.execute_reply": "2024-12-14T03:16:43.025383Z"
    },
    "papermill": {
     "duration": 0.041624,
     "end_time": "2024-12-14T03:16:43.028396",
     "exception": false,
     "start_time": "2024-12-14T03:16:42.986772",
     "status": "completed"
    },
    "tags": []
   },
   "outputs": [
    {
     "data": {
      "text/html": [
       "<style>#sk-container-id-4 {color: black;background-color: white;}#sk-container-id-4 pre{padding: 0;}#sk-container-id-4 div.sk-toggleable {background-color: white;}#sk-container-id-4 label.sk-toggleable__label {cursor: pointer;display: block;width: 100%;margin-bottom: 0;padding: 0.3em;box-sizing: border-box;text-align: center;}#sk-container-id-4 label.sk-toggleable__label-arrow:before {content: \"▸\";float: left;margin-right: 0.25em;color: #696969;}#sk-container-id-4 label.sk-toggleable__label-arrow:hover:before {color: black;}#sk-container-id-4 div.sk-estimator:hover label.sk-toggleable__label-arrow:before {color: black;}#sk-container-id-4 div.sk-toggleable__content {max-height: 0;max-width: 0;overflow: hidden;text-align: left;background-color: #f0f8ff;}#sk-container-id-4 div.sk-toggleable__content pre {margin: 0.2em;color: black;border-radius: 0.25em;background-color: #f0f8ff;}#sk-container-id-4 input.sk-toggleable__control:checked~div.sk-toggleable__content {max-height: 200px;max-width: 100%;overflow: auto;}#sk-container-id-4 input.sk-toggleable__control:checked~label.sk-toggleable__label-arrow:before {content: \"▾\";}#sk-container-id-4 div.sk-estimator input.sk-toggleable__control:checked~label.sk-toggleable__label {background-color: #d4ebff;}#sk-container-id-4 div.sk-label input.sk-toggleable__control:checked~label.sk-toggleable__label {background-color: #d4ebff;}#sk-container-id-4 input.sk-hidden--visually {border: 0;clip: rect(1px 1px 1px 1px);clip: rect(1px, 1px, 1px, 1px);height: 1px;margin: -1px;overflow: hidden;padding: 0;position: absolute;width: 1px;}#sk-container-id-4 div.sk-estimator {font-family: monospace;background-color: #f0f8ff;border: 1px dotted black;border-radius: 0.25em;box-sizing: border-box;margin-bottom: 0.5em;}#sk-container-id-4 div.sk-estimator:hover {background-color: #d4ebff;}#sk-container-id-4 div.sk-parallel-item::after {content: \"\";width: 100%;border-bottom: 1px solid gray;flex-grow: 1;}#sk-container-id-4 div.sk-label:hover label.sk-toggleable__label {background-color: #d4ebff;}#sk-container-id-4 div.sk-serial::before {content: \"\";position: absolute;border-left: 1px solid gray;box-sizing: border-box;top: 0;bottom: 0;left: 50%;z-index: 0;}#sk-container-id-4 div.sk-serial {display: flex;flex-direction: column;align-items: center;background-color: white;padding-right: 0.2em;padding-left: 0.2em;position: relative;}#sk-container-id-4 div.sk-item {position: relative;z-index: 1;}#sk-container-id-4 div.sk-parallel {display: flex;align-items: stretch;justify-content: center;background-color: white;position: relative;}#sk-container-id-4 div.sk-item::before, #sk-container-id-4 div.sk-parallel-item::before {content: \"\";position: absolute;border-left: 1px solid gray;box-sizing: border-box;top: 0;bottom: 0;left: 50%;z-index: -1;}#sk-container-id-4 div.sk-parallel-item {display: flex;flex-direction: column;z-index: 1;position: relative;background-color: white;}#sk-container-id-4 div.sk-parallel-item:first-child::after {align-self: flex-end;width: 50%;}#sk-container-id-4 div.sk-parallel-item:last-child::after {align-self: flex-start;width: 50%;}#sk-container-id-4 div.sk-parallel-item:only-child::after {width: 0;}#sk-container-id-4 div.sk-dashed-wrapped {border: 1px dashed gray;margin: 0 0.4em 0.5em 0.4em;box-sizing: border-box;padding-bottom: 0.4em;background-color: white;}#sk-container-id-4 div.sk-label label {font-family: monospace;font-weight: bold;display: inline-block;line-height: 1.2em;}#sk-container-id-4 div.sk-label-container {text-align: center;}#sk-container-id-4 div.sk-container {/* jupyter's `normalize.less` sets `[hidden] { display: none; }` but bootstrap.min.css set `[hidden] { display: none !important; }` so we also need the `!important` here to be able to override the default hidden behavior on the sphinx rendered scikit-learn.org. See: https://github.com/scikit-learn/scikit-learn/issues/21755 */display: inline-block !important;position: relative;}#sk-container-id-4 div.sk-text-repr-fallback {display: none;}</style><div id=\"sk-container-id-4\" class=\"sk-top-container\"><div class=\"sk-text-repr-fallback\"><pre>MultinomialNB()</pre><b>In a Jupyter environment, please rerun this cell to show the HTML representation or trust the notebook. <br />On GitHub, the HTML representation is unable to render, please try loading this page with nbviewer.org.</b></div><div class=\"sk-container\" hidden><div class=\"sk-item\"><div class=\"sk-estimator sk-toggleable\"><input class=\"sk-toggleable__control sk-hidden--visually\" id=\"sk-estimator-id-4\" type=\"checkbox\" checked><label for=\"sk-estimator-id-4\" class=\"sk-toggleable__label sk-toggleable__label-arrow\">MultinomialNB</label><div class=\"sk-toggleable__content\"><pre>MultinomialNB()</pre></div></div></div></div></div>"
      ],
      "text/plain": [
       "MultinomialNB()"
      ]
     },
     "execution_count": 50,
     "metadata": {},
     "output_type": "execute_result"
    }
   ],
   "source": [
    "from sklearn.naive_bayes import MultinomialNB\n",
    "multinomial_clf = MultinomialNB()\n",
    "multinomial_clf.fit(X_train_tfidf, y_train)"
   ]
  },
  {
   "cell_type": "code",
   "execution_count": 51,
   "id": "48741df9",
   "metadata": {
    "execution": {
     "iopub.execute_input": "2024-12-14T03:16:43.068038Z",
     "iopub.status.busy": "2024-12-14T03:16:43.067666Z",
     "iopub.status.idle": "2024-12-14T03:16:43.299055Z",
     "shell.execute_reply": "2024-12-14T03:16:43.298081Z"
    },
    "papermill": {
     "duration": 0.254327,
     "end_time": "2024-12-14T03:16:43.301230",
     "exception": false,
     "start_time": "2024-12-14T03:16:43.046903",
     "status": "completed"
    },
    "tags": []
   },
   "outputs": [
    {
     "name": "stdout",
     "output_type": "stream",
     "text": [
      "-------------------> Multinomial Naive Bayes\n",
      "Accuracy: 0.75\n",
      "F1-Score for each class:\n",
      "Positive: 0.76\n",
      "Negative: 0.73\n",
      "\n",
      "Classification Report:\n",
      "              precision    recall  f1-score   support\n",
      "\n",
      "    Positive       0.73      0.80      0.76      2949\n",
      "    Negative       0.77      0.69      0.73      2847\n",
      "\n",
      "    accuracy                           0.75      5796\n",
      "   macro avg       0.75      0.75      0.75      5796\n",
      "weighted avg       0.75      0.75      0.75      5796\n",
      "\n"
     ]
    },
    {
     "data": {
      "image/png": "[encoded data removed]",
      "text/plain": [
       "<Figure size 800x600 with 2 Axes>"
      ]
     },
     "metadata": {},
     "output_type": "display_data"
    }
   ],
   "source": [
    "y_hat = multinomial_clf.predict(X_test_tfidf) \n",
    "about_model(\"Multinomial Naive Bayes\" , y_test, y_hat)"
   ]
  },
  {
   "cell_type": "markdown",
   "id": "a70ee1d2",
   "metadata": {
    "papermill": {
     "duration": 0.018386,
     "end_time": "2024-12-14T03:16:43.340314",
     "exception": false,
     "start_time": "2024-12-14T03:16:43.321928",
     "status": "completed"
    },
    "tags": []
   },
   "source": [
    "### Tuned Multinomial Naive Bayes"
   ]
  },
  {
   "cell_type": "code",
   "execution_count": 52,
   "id": "5979e0a1",
   "metadata": {
    "execution": {
     "iopub.execute_input": "2024-12-14T03:16:43.454530Z",
     "iopub.status.busy": "2024-12-14T03:16:43.454095Z",
     "iopub.status.idle": "2024-12-14T03:16:43.729611Z",
     "shell.execute_reply": "2024-12-14T03:16:43.728609Z"
    },
    "papermill": {
     "duration": 0.372876,
     "end_time": "2024-12-14T03:16:43.731460",
     "exception": false,
     "start_time": "2024-12-14T03:16:43.358584",
     "status": "completed"
    },
    "tags": []
   },
   "outputs": [
    {
     "name": "stdout",
     "output_type": "stream",
     "text": [
      "Fitting 5 folds for each of 8 candidates, totalling 40 fits\n"
     ]
    },
    {
     "data": {
      "text/plain": [
       "{'alpha': 1.0, 'fit_prior': False}"
      ]
     },
     "execution_count": 52,
     "metadata": {},
     "output_type": "execute_result"
    }
   ],
   "source": [
    "param_grid_ = {\n",
    "    'alpha': [0.1, 0.5, 1.0, 2.0],  \n",
    "    'fit_prior': [True, False] \n",
    "}\n",
    "\n",
    "mn_grid = GridSearchCV(MultinomialNB(), \n",
    "                       param_grid= param_grid_, \n",
    "                       cv=5, verbose=1 , \n",
    "                       scoring='accuracy',\n",
    "                       n_jobs=-1,\n",
    "                      )\n",
    "mn_grid.fit(X_train_tfidf, y_train)\n",
    "mn_grid.best_params_"
   ]
  },
  {
   "cell_type": "code",
   "execution_count": 53,
   "id": "852dd70c",
   "metadata": {
    "execution": {
     "iopub.execute_input": "2024-12-14T03:16:43.771250Z",
     "iopub.status.busy": "2024-12-14T03:16:43.770813Z",
     "iopub.status.idle": "2024-12-14T03:16:44.006734Z",
     "shell.execute_reply": "2024-12-14T03:16:44.005627Z"
    },
    "papermill": {
     "duration": 0.258683,
     "end_time": "2024-12-14T03:16:44.008816",
     "exception": false,
     "start_time": "2024-12-14T03:16:43.750133",
     "status": "completed"
    },
    "tags": []
   },
   "outputs": [
    {
     "name": "stdout",
     "output_type": "stream",
     "text": [
      "-------------------> Tuned Multinomial Naive Bayes\n",
      "Accuracy: 0.75\n",
      "F1-Score for each class:\n",
      "Positive: 0.76\n",
      "Negative: 0.73\n",
      "\n",
      "Classification Report:\n",
      "              precision    recall  f1-score   support\n",
      "\n",
      "    Positive       0.73      0.79      0.76      2949\n",
      "    Negative       0.76      0.71      0.73      2847\n",
      "\n",
      "    accuracy                           0.75      5796\n",
      "   macro avg       0.75      0.75      0.75      5796\n",
      "weighted avg       0.75      0.75      0.75      5796\n",
      "\n"
     ]
    },
    {
     "data": {
      "image/png": "[encoded data removed]",
      "text/plain": [
       "<Figure size 800x600 with 2 Axes>"
      ]
     },
     "metadata": {},
     "output_type": "display_data"
    }
   ],
   "source": [
    "y_hat = mn_grid.predict(X_test_tfidf)\n",
    "about_model(\"Tuned Multinomial Naive Bayes\" ,y_test, y_hat)\n"
   ]
  },
  {
   "cell_type": "markdown",
   "id": "bbb0a246",
   "metadata": {
    "execution": {
     "iopub.execute_input": "2024-12-09T15:57:38.274442Z",
     "iopub.status.busy": "2024-12-09T15:57:38.273474Z",
     "iopub.status.idle": "2024-12-09T15:57:38.294546Z",
     "shell.execute_reply": "2024-12-09T15:57:38.293367Z",
     "shell.execute_reply.started": "2024-12-09T15:57:38.274389Z"
    },
    "papermill": {
     "duration": 0.019573,
     "end_time": "2024-12-14T03:16:44.048350",
     "exception": false,
     "start_time": "2024-12-14T03:16:44.028777",
     "status": "completed"
    },
    "tags": []
   },
   "source": [
    "### Lightgbm"
   ]
  },
  {
   "cell_type": "code",
   "execution_count": 54,
   "id": "70ebee36",
   "metadata": {
    "execution": {
     "iopub.execute_input": "2024-12-14T03:16:44.089582Z",
     "iopub.status.busy": "2024-12-14T03:16:44.089178Z",
     "iopub.status.idle": "2024-12-14T03:16:47.004988Z",
     "shell.execute_reply": "2024-12-14T03:16:47.003982Z"
    },
    "papermill": {
     "duration": 2.939106,
     "end_time": "2024-12-14T03:16:47.007346",
     "exception": false,
     "start_time": "2024-12-14T03:16:44.068240",
     "status": "completed"
    },
    "tags": []
   },
   "outputs": [],
   "source": [
    "import lightgbm as lgb\n",
    "d_train = lgb.Dataset(X_train_tfidf, label=y_train)\n",
    "d_test = lgb.Dataset(X_test_tfidf, label=y_test, reference=d_train)\n",
    "\n",
    "params = {\n",
    "    'objective': 'binary',  \n",
    "    'boosting_type': 'gbdt',\n",
    "    'metric': 'binary_logloss', \n",
    "    'num_leaves': 31,\n",
    "    'learning_rate': 0.1,\n",
    "    'verbose': 0\n",
    "}\n",
    "\n",
    "model = lgb.train(params, d_train, num_boost_round=100, valid_sets=[d_train, d_test])"
   ]
  },
  {
   "cell_type": "code",
   "execution_count": 55,
   "id": "c9a665e4",
   "metadata": {
    "execution": {
     "iopub.execute_input": "2024-12-14T03:16:47.048843Z",
     "iopub.status.busy": "2024-12-14T03:16:47.048002Z",
     "iopub.status.idle": "2024-12-14T03:16:47.366635Z",
     "shell.execute_reply": "2024-12-14T03:16:47.365617Z"
    },
    "papermill": {
     "duration": 0.341738,
     "end_time": "2024-12-14T03:16:47.368947",
     "exception": false,
     "start_time": "2024-12-14T03:16:47.027209",
     "status": "completed"
    },
    "tags": []
   },
   "outputs": [
    {
     "name": "stdout",
     "output_type": "stream",
     "text": [
      "-------------------> lightgbm\n",
      "Accuracy: 0.68\n",
      "F1-Score for each class:\n",
      "Positive: 0.63\n",
      "Negative: 0.72\n",
      "\n",
      "Classification Report:\n",
      "              precision    recall  f1-score   support\n",
      "\n",
      "    Positive       0.77      0.53      0.63      2949\n",
      "    Negative       0.63      0.83      0.72      2847\n",
      "\n",
      "    accuracy                           0.68      5796\n",
      "   macro avg       0.70      0.68      0.67      5796\n",
      "weighted avg       0.70      0.68      0.67      5796\n",
      "\n"
     ]
    },
    {
     "data": {
      "image/png": "[encoded data removed]",
      "text/plain": [
       "<Figure size 800x600 with 2 Axes>"
      ]
     },
     "metadata": {},
     "output_type": "display_data"
    }
   ],
   "source": [
    "y_hat = model.predict(X_test_tfidf)\n",
    "y_hat = (y_hat > 0.5).astype(int)\n",
    "about_model(\"lightgbm\", y_test, y_hat)\n"
   ]
  },
  {
   "cell_type": "markdown",
   "id": "29875757",
   "metadata": {
    "papermill": {
     "duration": 0.020257,
     "end_time": "2024-12-14T03:16:47.410068",
     "exception": false,
     "start_time": "2024-12-14T03:16:47.389811",
     "status": "completed"
    },
    "tags": []
   },
   "source": [
    "### Tuned lightgbm"
   ]
  },
  {
   "cell_type": "code",
   "execution_count": 56,
   "id": "1c192dfa",
   "metadata": {
    "execution": {
     "iopub.execute_input": "2024-12-14T03:16:47.451719Z",
     "iopub.status.busy": "2024-12-14T03:16:47.451306Z",
     "iopub.status.idle": "2024-12-14T03:19:29.959000Z",
     "shell.execute_reply": "2024-12-14T03:19:29.957895Z"
    },
    "papermill": {
     "duration": 162.531487,
     "end_time": "2024-12-14T03:19:29.961656",
     "exception": false,
     "start_time": "2024-12-14T03:16:47.430169",
     "status": "completed"
    },
    "tags": []
   },
   "outputs": [
    {
     "name": "stdout",
     "output_type": "stream",
     "text": [
      "[LightGBM] [Info] Number of positive: 9111, number of negative: 9434\n",
      "[LightGBM] [Info] Auto-choosing row-wise multi-threading, the overhead of testing was 0.051465 seconds.\n",
      "You can set `force_row_wise=true` to remove the overhead.\n",
      "And if memory is not enough, you can set `force_col_wise=true`.\n",
      "[LightGBM] [Info] Total Bins 9343\n",
      "[LightGBM] [Info] Number of data points in the train set: 18545, number of used features: 472\n",
      "[LightGBM] [Info] [binary:BoostFromScore]: pavg=0.491291 -> initscore=-0.034838\n",
      "[LightGBM] [Info] Start training from score -0.034838\n",
      "[LightGBM] [Info] Number of positive: 9111, number of negative: 9434\n",
      "[LightGBM] [Info] Auto-choosing row-wise multi-threading, the overhead of testing was 0.051666 seconds.\n",
      "You can set `force_row_wise=true` to remove the overhead.\n",
      "And if memory is not enough, you can set `force_col_wise=true`.\n",
      "[LightGBM] [Info] Total Bins 9264\n",
      "[LightGBM] [Info] Number of data points in the train set: 18545, number of used features: 470\n",
      "[LightGBM] [Info] [binary:BoostFromScore]: pavg=0.491291 -> initscore=-0.034838\n",
      "[LightGBM] [Info] Start training from score -0.034838\n",
      "[LightGBM] [Info] Number of positive: 9112, number of negative: 9434\n",
      "[LightGBM] [Info] Auto-choosing row-wise multi-threading, the overhead of testing was 0.052221 seconds.\n",
      "You can set `force_row_wise=true` to remove the overhead.\n",
      "And if memory is not enough, you can set `force_col_wise=true`.\n",
      "[LightGBM] [Info] Total Bins 9352\n",
      "[LightGBM] [Info] Number of data points in the train set: 18546, number of used features: 470\n",
      "[LightGBM] [Info] [binary:BoostFromScore]: pavg=0.491319 -> initscore=-0.034728\n",
      "[LightGBM] [Info] Start training from score -0.034728\n",
      "[LightGBM] [Info] Number of positive: 9111, number of negative: 9435\n",
      "[LightGBM] [Info] Auto-choosing row-wise multi-threading, the overhead of testing was 0.053339 seconds.\n",
      "You can set `force_row_wise=true` to remove the overhead.\n",
      "And if memory is not enough, you can set `force_col_wise=true`.\n",
      "[LightGBM] [Info] Total Bins 9351\n",
      "[LightGBM] [Info] Number of data points in the train set: 18546, number of used features: 475\n",
      "[LightGBM] [Info] [binary:BoostFromScore]: pavg=0.491265 -> initscore=-0.034944\n",
      "[LightGBM] [Info] Start training from score -0.034944\n",
      "[LightGBM] [Info] Number of positive: 9111, number of negative: 9435\n",
      "[LightGBM] [Info] Auto-choosing row-wise multi-threading, the overhead of testing was 0.051622 seconds.\n",
      "You can set `force_row_wise=true` to remove the overhead.\n",
      "And if memory is not enough, you can set `force_col_wise=true`.\n",
      "[LightGBM] [Info] Total Bins 9206\n",
      "[LightGBM] [Info] Number of data points in the train set: 18546, number of used features: 459\n",
      "[LightGBM] [Info] [binary:BoostFromScore]: pavg=0.491265 -> initscore=-0.034944\n",
      "[LightGBM] [Info] Start training from score -0.034944\n",
      "[LightGBM] [Info] Number of positive: 9111, number of negative: 9434\n",
      "[LightGBM] [Info] Auto-choosing row-wise multi-threading, the overhead of testing was 0.052624 seconds.\n",
      "You can set `force_row_wise=true` to remove the overhead.\n",
      "And if memory is not enough, you can set `force_col_wise=true`.\n",
      "[LightGBM] [Info] Total Bins 9343\n",
      "[LightGBM] [Info] Number of data points in the train set: 18545, number of used features: 472\n",
      "[LightGBM] [Info] [binary:BoostFromScore]: pavg=0.491291 -> initscore=-0.034838\n",
      "[LightGBM] [Info] Start training from score -0.034838\n",
      "[LightGBM] [Info] Number of positive: 9111, number of negative: 9434\n",
      "[LightGBM] [Info] Auto-choosing row-wise multi-threading, the overhead of testing was 0.052682 seconds.\n",
      "You can set `force_row_wise=true` to remove the overhead.\n",
      "And if memory is not enough, you can set `force_col_wise=true`.\n",
      "[LightGBM] [Info] Total Bins 9264\n",
      "[LightGBM] [Info] Number of data points in the train set: 18545, number of used features: 470\n",
      "[LightGBM] [Info] [binary:BoostFromScore]: pavg=0.491291 -> initscore=-0.034838\n",
      "[LightGBM] [Info] Start training from score -0.034838\n",
      "[LightGBM] [Info] Number of positive: 9112, number of negative: 9434\n",
      "[LightGBM] [Info] Auto-choosing col-wise multi-threading, the overhead of testing was 0.051860 seconds.\n",
      "You can set `force_col_wise=true` to remove the overhead.\n",
      "[LightGBM] [Info] Total Bins 9352\n",
      "[LightGBM] [Info] Number of data points in the train set: 18546, number of used features: 470\n",
      "[LightGBM] [Info] [binary:BoostFromScore]: pavg=0.491319 -> initscore=-0.034728\n",
      "[LightGBM] [Info] Start training from score -0.034728\n",
      "[LightGBM] [Info] Number of positive: 9111, number of negative: 9435\n",
      "[LightGBM] [Info] Auto-choosing row-wise multi-threading, the overhead of testing was 0.052766 seconds.\n",
      "You can set `force_row_wise=true` to remove the overhead.\n",
      "And if memory is not enough, you can set `force_col_wise=true`.\n",
      "[LightGBM] [Info] Total Bins 9351\n",
      "[LightGBM] [Info] Number of data points in the train set: 18546, number of used features: 475\n",
      "[LightGBM] [Info] [binary:BoostFromScore]: pavg=0.491265 -> initscore=-0.034944\n",
      "[LightGBM] [Info] Start training from score -0.034944\n",
      "[LightGBM] [Info] Number of positive: 9111, number of negative: 9435\n",
      "[LightGBM] [Info] Auto-choosing row-wise multi-threading, the overhead of testing was 0.050817 seconds.\n",
      "You can set `force_row_wise=true` to remove the overhead.\n",
      "And if memory is not enough, you can set `force_col_wise=true`.\n",
      "[LightGBM] [Info] Total Bins 9206\n",
      "[LightGBM] [Info] Number of data points in the train set: 18546, number of used features: 459\n",
      "[LightGBM] [Info] [binary:BoostFromScore]: pavg=0.491265 -> initscore=-0.034944\n",
      "[LightGBM] [Info] Start training from score -0.034944\n",
      "[LightGBM] [Info] Number of positive: 9111, number of negative: 9434\n",
      "[LightGBM] [Info] Auto-choosing row-wise multi-threading, the overhead of testing was 0.052242 seconds.\n",
      "You can set `force_row_wise=true` to remove the overhead.\n",
      "And if memory is not enough, you can set `force_col_wise=true`.\n",
      "[LightGBM] [Info] Total Bins 9343\n",
      "[LightGBM] [Info] Number of data points in the train set: 18545, number of used features: 472\n",
      "[LightGBM] [Info] [binary:BoostFromScore]: pavg=0.491291 -> initscore=-0.034838\n",
      "[LightGBM] [Info] Start training from score -0.034838\n",
      "[LightGBM] [Info] Number of positive: 9111, number of negative: 9434\n",
      "[LightGBM] [Info] Auto-choosing row-wise multi-threading, the overhead of testing was 0.051842 seconds.\n",
      "You can set `force_row_wise=true` to remove the overhead.\n",
      "And if memory is not enough, you can set `force_col_wise=true`.\n",
      "[LightGBM] [Info] Total Bins 9264\n",
      "[LightGBM] [Info] Number of data points in the train set: 18545, number of used features: 470\n",
      "[LightGBM] [Info] [binary:BoostFromScore]: pavg=0.491291 -> initscore=-0.034838\n",
      "[LightGBM] [Info] Start training from score -0.034838\n",
      "[LightGBM] [Info] Number of positive: 9112, number of negative: 9434\n",
      "[LightGBM] [Info] Auto-choosing col-wise multi-threading, the overhead of testing was 0.051569 seconds.\n",
      "You can set `force_col_wise=true` to remove the overhead.\n",
      "[LightGBM] [Info] Total Bins 9352\n",
      "[LightGBM] [Info] Number of data points in the train set: 18546, number of used features: 470\n",
      "[LightGBM] [Info] [binary:BoostFromScore]: pavg=0.491319 -> initscore=-0.034728\n",
      "[LightGBM] [Info] Start training from score -0.034728\n",
      "[LightGBM] [Info] Number of positive: 9111, number of negative: 9435\n",
      "[LightGBM] [Info] Auto-choosing row-wise multi-threading, the overhead of testing was 0.052509 seconds.\n",
      "You can set `force_row_wise=true` to remove the overhead.\n",
      "And if memory is not enough, you can set `force_col_wise=true`.\n",
      "[LightGBM] [Info] Total Bins 9351\n",
      "[LightGBM] [Info] Number of data points in the train set: 18546, number of used features: 475\n",
      "[LightGBM] [Info] [binary:BoostFromScore]: pavg=0.491265 -> initscore=-0.034944\n",
      "[LightGBM] [Info] Start training from score -0.034944\n",
      "[LightGBM] [Info] Number of positive: 9111, number of negative: 9435\n",
      "[LightGBM] [Info] Auto-choosing row-wise multi-threading, the overhead of testing was 0.051639 seconds.\n",
      "You can set `force_row_wise=true` to remove the overhead.\n",
      "And if memory is not enough, you can set `force_col_wise=true`.\n",
      "[LightGBM] [Info] Total Bins 9206\n",
      "[LightGBM] [Info] Number of data points in the train set: 18546, number of used features: 459\n",
      "[LightGBM] [Info] [binary:BoostFromScore]: pavg=0.491265 -> initscore=-0.034944\n",
      "[LightGBM] [Info] Start training from score -0.034944\n",
      "[LightGBM] [Info] Number of positive: 9111, number of negative: 9434\n",
      "[LightGBM] [Info] Auto-choosing row-wise multi-threading, the overhead of testing was 0.052155 seconds.\n",
      "You can set `force_row_wise=true` to remove the overhead.\n",
      "And if memory is not enough, you can set `force_col_wise=true`.\n",
      "[LightGBM] [Info] Total Bins 9343\n",
      "[LightGBM] [Info] Number of data points in the train set: 18545, number of used features: 472\n",
      "[LightGBM] [Info] [binary:BoostFromScore]: pavg=0.491291 -> initscore=-0.034838\n",
      "[LightGBM] [Info] Start training from score -0.034838\n",
      "[LightGBM] [Info] Number of positive: 9111, number of negative: 9434\n",
      "[LightGBM] [Info] Auto-choosing row-wise multi-threading, the overhead of testing was 0.055389 seconds.\n",
      "You can set `force_row_wise=true` to remove the overhead.\n",
      "And if memory is not enough, you can set `force_col_wise=true`.\n",
      "[LightGBM] [Info] Total Bins 9264\n",
      "[LightGBM] [Info] Number of data points in the train set: 18545, number of used features: 470\n",
      "[LightGBM] [Info] [binary:BoostFromScore]: pavg=0.491291 -> initscore=-0.034838\n",
      "[LightGBM] [Info] Start training from score -0.034838\n",
      "[LightGBM] [Info] Number of positive: 9112, number of negative: 9434\n",
      "[LightGBM] [Info] Auto-choosing row-wise multi-threading, the overhead of testing was 0.051975 seconds.\n",
      "You can set `force_row_wise=true` to remove the overhead.\n",
      "And if memory is not enough, you can set `force_col_wise=true`.\n",
      "[LightGBM] [Info] Total Bins 9352\n",
      "[LightGBM] [Info] Number of data points in the train set: 18546, number of used features: 470\n",
      "[LightGBM] [Info] [binary:BoostFromScore]: pavg=0.491319 -> initscore=-0.034728\n",
      "[LightGBM] [Info] Start training from score -0.034728\n",
      "[LightGBM] [Info] Number of positive: 9111, number of negative: 9435\n",
      "[LightGBM] [Info] Auto-choosing row-wise multi-threading, the overhead of testing was 0.052654 seconds.\n",
      "You can set `force_row_wise=true` to remove the overhead.\n",
      "And if memory is not enough, you can set `force_col_wise=true`.\n",
      "[LightGBM] [Info] Total Bins 9351\n",
      "[LightGBM] [Info] Number of data points in the train set: 18546, number of used features: 475\n",
      "[LightGBM] [Info] [binary:BoostFromScore]: pavg=0.491265 -> initscore=-0.034944\n",
      "[LightGBM] [Info] Start training from score -0.034944\n",
      "[LightGBM] [Info] Number of positive: 9111, number of negative: 9435\n",
      "[LightGBM] [Info] Auto-choosing row-wise multi-threading, the overhead of testing was 0.050885 seconds.\n",
      "You can set `force_row_wise=true` to remove the overhead.\n",
      "And if memory is not enough, you can set `force_col_wise=true`.\n",
      "[LightGBM] [Info] Total Bins 9206\n",
      "[LightGBM] [Info] Number of data points in the train set: 18546, number of used features: 459\n",
      "[LightGBM] [Info] [binary:BoostFromScore]: pavg=0.491265 -> initscore=-0.034944\n",
      "[LightGBM] [Info] Start training from score -0.034944\n",
      "[LightGBM] [Info] Number of positive: 9111, number of negative: 9434\n",
      "[LightGBM] [Info] Auto-choosing col-wise multi-threading, the overhead of testing was 0.051843 seconds.\n",
      "You can set `force_col_wise=true` to remove the overhead.\n",
      "[LightGBM] [Info] Total Bins 9343\n",
      "[LightGBM] [Info] Number of data points in the train set: 18545, number of used features: 472\n",
      "[LightGBM] [Info] [binary:BoostFromScore]: pavg=0.491291 -> initscore=-0.034838\n",
      "[LightGBM] [Info] Start training from score -0.034838\n",
      "[LightGBM] [Info] Number of positive: 9111, number of negative: 9434\n",
      "[LightGBM] [Info] Auto-choosing col-wise multi-threading, the overhead of testing was 0.051166 seconds.\n",
      "You can set `force_col_wise=true` to remove the overhead.\n",
      "[LightGBM] [Info] Total Bins 9264\n",
      "[LightGBM] [Info] Number of data points in the train set: 18545, number of used features: 470\n",
      "[LightGBM] [Info] [binary:BoostFromScore]: pavg=0.491291 -> initscore=-0.034838\n",
      "[LightGBM] [Info] Start training from score -0.034838\n",
      "[LightGBM] [Info] Number of positive: 9112, number of negative: 9434\n",
      "[LightGBM] [Info] Auto-choosing row-wise multi-threading, the overhead of testing was 0.051570 seconds.\n",
      "You can set `force_row_wise=true` to remove the overhead.\n",
      "And if memory is not enough, you can set `force_col_wise=true`.\n",
      "[LightGBM] [Info] Total Bins 9352\n",
      "[LightGBM] [Info] Number of data points in the train set: 18546, number of used features: 470\n",
      "[LightGBM] [Info] [binary:BoostFromScore]: pavg=0.491319 -> initscore=-0.034728\n",
      "[LightGBM] [Info] Start training from score -0.034728\n",
      "[LightGBM] [Info] Number of positive: 9111, number of negative: 9435\n",
      "[LightGBM] [Info] Auto-choosing col-wise multi-threading, the overhead of testing was 0.052637 seconds.\n",
      "You can set `force_col_wise=true` to remove the overhead.\n",
      "[LightGBM] [Info] Total Bins 9351\n",
      "[LightGBM] [Info] Number of data points in the train set: 18546, number of used features: 475\n",
      "[LightGBM] [Info] [binary:BoostFromScore]: pavg=0.491265 -> initscore=-0.034944\n",
      "[LightGBM] [Info] Start training from score -0.034944\n",
      "[LightGBM] [Info] Number of positive: 9111, number of negative: 9435\n",
      "[LightGBM] [Info] Auto-choosing row-wise multi-threading, the overhead of testing was 0.051076 seconds.\n",
      "You can set `force_row_wise=true` to remove the overhead.\n",
      "And if memory is not enough, you can set `force_col_wise=true`.\n",
      "[LightGBM] [Info] Total Bins 9206\n",
      "[LightGBM] [Info] Number of data points in the train set: 18546, number of used features: 459\n",
      "[LightGBM] [Info] [binary:BoostFromScore]: pavg=0.491265 -> initscore=-0.034944\n",
      "[LightGBM] [Info] Start training from score -0.034944\n",
      "[LightGBM] [Info] Number of positive: 9111, number of negative: 9434\n",
      "[LightGBM] [Info] Auto-choosing row-wise multi-threading, the overhead of testing was 0.052221 seconds.\n",
      "You can set `force_row_wise=true` to remove the overhead.\n",
      "And if memory is not enough, you can set `force_col_wise=true`.\n",
      "[LightGBM] [Info] Total Bins 9343\n",
      "[LightGBM] [Info] Number of data points in the train set: 18545, number of used features: 472\n",
      "[LightGBM] [Info] [binary:BoostFromScore]: pavg=0.491291 -> initscore=-0.034838\n",
      "[LightGBM] [Info] Start training from score -0.034838\n",
      "[LightGBM] [Info] Number of positive: 9111, number of negative: 9434\n",
      "[LightGBM] [Info] Auto-choosing row-wise multi-threading, the overhead of testing was 0.052316 seconds.\n",
      "You can set `force_row_wise=true` to remove the overhead.\n",
      "And if memory is not enough, you can set `force_col_wise=true`.\n",
      "[LightGBM] [Info] Total Bins 9264\n",
      "[LightGBM] [Info] Number of data points in the train set: 18545, number of used features: 470\n",
      "[LightGBM] [Info] [binary:BoostFromScore]: pavg=0.491291 -> initscore=-0.034838\n",
      "[LightGBM] [Info] Start training from score -0.034838\n",
      "[LightGBM] [Info] Number of positive: 9112, number of negative: 9434\n",
      "[LightGBM] [Info] Auto-choosing row-wise multi-threading, the overhead of testing was 0.054488 seconds.\n",
      "You can set `force_row_wise=true` to remove the overhead.\n",
      "And if memory is not enough, you can set `force_col_wise=true`.\n",
      "[LightGBM] [Info] Total Bins 9352\n",
      "[LightGBM] [Info] Number of data points in the train set: 18546, number of used features: 470\n",
      "[LightGBM] [Info] [binary:BoostFromScore]: pavg=0.491319 -> initscore=-0.034728\n",
      "[LightGBM] [Info] Start training from score -0.034728\n",
      "[LightGBM] [Info] Number of positive: 9111, number of negative: 9435\n",
      "[LightGBM] [Info] Auto-choosing row-wise multi-threading, the overhead of testing was 0.054219 seconds.\n",
      "You can set `force_row_wise=true` to remove the overhead.\n",
      "And if memory is not enough, you can set `force_col_wise=true`.\n",
      "[LightGBM] [Info] Total Bins 9351\n",
      "[LightGBM] [Info] Number of data points in the train set: 18546, number of used features: 475\n",
      "[LightGBM] [Info] [binary:BoostFromScore]: pavg=0.491265 -> initscore=-0.034944\n",
      "[LightGBM] [Info] Start training from score -0.034944\n",
      "[LightGBM] [Info] Number of positive: 9111, number of negative: 9435\n",
      "[LightGBM] [Info] Auto-choosing col-wise multi-threading, the overhead of testing was 0.051202 seconds.\n",
      "You can set `force_col_wise=true` to remove the overhead.\n",
      "[LightGBM] [Info] Total Bins 9206\n",
      "[LightGBM] [Info] Number of data points in the train set: 18546, number of used features: 459\n",
      "[LightGBM] [Info] [binary:BoostFromScore]: pavg=0.491265 -> initscore=-0.034944\n",
      "[LightGBM] [Info] Start training from score -0.034944\n",
      "[LightGBM] [Info] Number of positive: 9111, number of negative: 9434\n",
      "[LightGBM] [Info] Auto-choosing row-wise multi-threading, the overhead of testing was 0.052290 seconds.\n",
      "You can set `force_row_wise=true` to remove the overhead.\n",
      "And if memory is not enough, you can set `force_col_wise=true`.\n",
      "[LightGBM] [Info] Total Bins 9343\n",
      "[LightGBM] [Info] Number of data points in the train set: 18545, number of used features: 472\n",
      "[LightGBM] [Info] [binary:BoostFromScore]: pavg=0.491291 -> initscore=-0.034838\n",
      "[LightGBM] [Info] Start training from score -0.034838\n",
      "[LightGBM] [Info] Number of positive: 9111, number of negative: 9434\n",
      "[LightGBM] [Info] Auto-choosing row-wise multi-threading, the overhead of testing was 0.051663 seconds.\n",
      "You can set `force_row_wise=true` to remove the overhead.\n",
      "And if memory is not enough, you can set `force_col_wise=true`.\n",
      "[LightGBM] [Info] Total Bins 9264\n",
      "[LightGBM] [Info] Number of data points in the train set: 18545, number of used features: 470\n",
      "[LightGBM] [Info] [binary:BoostFromScore]: pavg=0.491291 -> initscore=-0.034838\n",
      "[LightGBM] [Info] Start training from score -0.034838\n",
      "[LightGBM] [Info] Number of positive: 9112, number of negative: 9434\n",
      "[LightGBM] [Info] Auto-choosing row-wise multi-threading, the overhead of testing was 0.052796 seconds.\n",
      "You can set `force_row_wise=true` to remove the overhead.\n",
      "And if memory is not enough, you can set `force_col_wise=true`.\n",
      "[LightGBM] [Info] Total Bins 9352\n",
      "[LightGBM] [Info] Number of data points in the train set: 18546, number of used features: 470\n",
      "[LightGBM] [Info] [binary:BoostFromScore]: pavg=0.491319 -> initscore=-0.034728\n",
      "[LightGBM] [Info] Start training from score -0.034728\n",
      "[LightGBM] [Info] Number of positive: 9111, number of negative: 9435\n",
      "[LightGBM] [Info] Auto-choosing col-wise multi-threading, the overhead of testing was 0.054714 seconds.\n",
      "You can set `force_col_wise=true` to remove the overhead.\n",
      "[LightGBM] [Info] Total Bins 9351\n",
      "[LightGBM] [Info] Number of data points in the train set: 18546, number of used features: 475\n",
      "[LightGBM] [Info] [binary:BoostFromScore]: pavg=0.491265 -> initscore=-0.034944\n",
      "[LightGBM] [Info] Start training from score -0.034944\n",
      "[LightGBM] [Info] Number of positive: 9111, number of negative: 9435\n",
      "[LightGBM] [Info] Auto-choosing row-wise multi-threading, the overhead of testing was 0.051703 seconds.\n",
      "You can set `force_row_wise=true` to remove the overhead.\n",
      "And if memory is not enough, you can set `force_col_wise=true`.\n",
      "[LightGBM] [Info] Total Bins 9206\n",
      "[LightGBM] [Info] Number of data points in the train set: 18546, number of used features: 459\n",
      "[LightGBM] [Info] [binary:BoostFromScore]: pavg=0.491265 -> initscore=-0.034944\n",
      "[LightGBM] [Info] Start training from score -0.034944\n",
      "[LightGBM] [Info] Number of positive: 9111, number of negative: 9434\n",
      "[LightGBM] [Info] Auto-choosing row-wise multi-threading, the overhead of testing was 0.052542 seconds.\n",
      "You can set `force_row_wise=true` to remove the overhead.\n",
      "And if memory is not enough, you can set `force_col_wise=true`.\n",
      "[LightGBM] [Info] Total Bins 9343\n",
      "[LightGBM] [Info] Number of data points in the train set: 18545, number of used features: 472\n",
      "[LightGBM] [Info] [binary:BoostFromScore]: pavg=0.491291 -> initscore=-0.034838\n",
      "[LightGBM] [Info] Start training from score -0.034838\n",
      "[LightGBM] [Info] Number of positive: 9111, number of negative: 9434\n",
      "[LightGBM] [Info] Auto-choosing row-wise multi-threading, the overhead of testing was 0.053120 seconds.\n",
      "You can set `force_row_wise=true` to remove the overhead.\n",
      "And if memory is not enough, you can set `force_col_wise=true`.\n",
      "[LightGBM] [Info] Total Bins 9264\n",
      "[LightGBM] [Info] Number of data points in the train set: 18545, number of used features: 470\n",
      "[LightGBM] [Info] [binary:BoostFromScore]: pavg=0.491291 -> initscore=-0.034838\n",
      "[LightGBM] [Info] Start training from score -0.034838\n",
      "[LightGBM] [Info] Number of positive: 9112, number of negative: 9434\n",
      "[LightGBM] [Info] Auto-choosing row-wise multi-threading, the overhead of testing was 0.052239 seconds.\n",
      "You can set `force_row_wise=true` to remove the overhead.\n",
      "And if memory is not enough, you can set `force_col_wise=true`.\n",
      "[LightGBM] [Info] Total Bins 9352\n",
      "[LightGBM] [Info] Number of data points in the train set: 18546, number of used features: 470\n",
      "[LightGBM] [Info] [binary:BoostFromScore]: pavg=0.491319 -> initscore=-0.034728\n",
      "[LightGBM] [Info] Start training from score -0.034728\n",
      "[LightGBM] [Info] Number of positive: 9111, number of negative: 9435\n",
      "[LightGBM] [Info] Auto-choosing row-wise multi-threading, the overhead of testing was 0.052664 seconds.\n",
      "You can set `force_row_wise=true` to remove the overhead.\n",
      "And if memory is not enough, you can set `force_col_wise=true`.\n",
      "[LightGBM] [Info] Total Bins 9351\n",
      "[LightGBM] [Info] Number of data points in the train set: 18546, number of used features: 475\n",
      "[LightGBM] [Info] [binary:BoostFromScore]: pavg=0.491265 -> initscore=-0.034944\n",
      "[LightGBM] [Info] Start training from score -0.034944\n",
      "[LightGBM] [Info] Number of positive: 9111, number of negative: 9435\n",
      "[LightGBM] [Info] Auto-choosing row-wise multi-threading, the overhead of testing was 0.052312 seconds.\n",
      "You can set `force_row_wise=true` to remove the overhead.\n",
      "And if memory is not enough, you can set `force_col_wise=true`.\n",
      "[LightGBM] [Info] Total Bins 9206\n",
      "[LightGBM] [Info] Number of data points in the train set: 18546, number of used features: 459\n",
      "[LightGBM] [Info] [binary:BoostFromScore]: pavg=0.491265 -> initscore=-0.034944\n",
      "[LightGBM] [Info] Start training from score -0.034944\n",
      "[LightGBM] [Info] Number of positive: 9111, number of negative: 9434\n",
      "[LightGBM] [Info] Auto-choosing row-wise multi-threading, the overhead of testing was 0.052368 seconds.\n",
      "You can set `force_row_wise=true` to remove the overhead.\n",
      "And if memory is not enough, you can set `force_col_wise=true`.\n",
      "[LightGBM] [Info] Total Bins 9343\n",
      "[LightGBM] [Info] Number of data points in the train set: 18545, number of used features: 472\n",
      "[LightGBM] [Info] [binary:BoostFromScore]: pavg=0.491291 -> initscore=-0.034838\n",
      "[LightGBM] [Info] Start training from score -0.034838\n",
      "[LightGBM] [Info] Number of positive: 9111, number of negative: 9434\n",
      "[LightGBM] [Info] Auto-choosing row-wise multi-threading, the overhead of testing was 0.058693 seconds.\n",
      "You can set `force_row_wise=true` to remove the overhead.\n",
      "And if memory is not enough, you can set `force_col_wise=true`.\n",
      "[LightGBM] [Info] Total Bins 9264\n",
      "[LightGBM] [Info] Number of data points in the train set: 18545, number of used features: 470\n",
      "[LightGBM] [Info] [binary:BoostFromScore]: pavg=0.491291 -> initscore=-0.034838\n",
      "[LightGBM] [Info] Start training from score -0.034838\n",
      "[LightGBM] [Info] Number of positive: 9112, number of negative: 9434\n",
      "[LightGBM] [Info] Auto-choosing row-wise multi-threading, the overhead of testing was 0.051923 seconds.\n",
      "You can set `force_row_wise=true` to remove the overhead.\n",
      "And if memory is not enough, you can set `force_col_wise=true`.\n",
      "[LightGBM] [Info] Total Bins 9352\n",
      "[LightGBM] [Info] Number of data points in the train set: 18546, number of used features: 470\n",
      "[LightGBM] [Info] [binary:BoostFromScore]: pavg=0.491319 -> initscore=-0.034728\n",
      "[LightGBM] [Info] Start training from score -0.034728\n",
      "[LightGBM] [Info] Number of positive: 9111, number of negative: 9435\n",
      "[LightGBM] [Info] Auto-choosing col-wise multi-threading, the overhead of testing was 0.052064 seconds.\n",
      "You can set `force_col_wise=true` to remove the overhead.\n",
      "[LightGBM] [Info] Total Bins 9351\n",
      "[LightGBM] [Info] Number of data points in the train set: 18546, number of used features: 475\n",
      "[LightGBM] [Info] [binary:BoostFromScore]: pavg=0.491265 -> initscore=-0.034944\n",
      "[LightGBM] [Info] Start training from score -0.034944\n",
      "[LightGBM] [Info] Number of positive: 9111, number of negative: 9435\n",
      "[LightGBM] [Info] Auto-choosing row-wise multi-threading, the overhead of testing was 0.051352 seconds.\n",
      "You can set `force_row_wise=true` to remove the overhead.\n",
      "And if memory is not enough, you can set `force_col_wise=true`.\n",
      "[LightGBM] [Info] Total Bins 9206\n",
      "[LightGBM] [Info] Number of data points in the train set: 18546, number of used features: 459\n",
      "[LightGBM] [Info] [binary:BoostFromScore]: pavg=0.491265 -> initscore=-0.034944\n",
      "[LightGBM] [Info] Start training from score -0.034944\n",
      "[LightGBM] [Info] Number of positive: 9111, number of negative: 9434\n",
      "[LightGBM] [Info] Auto-choosing row-wise multi-threading, the overhead of testing was 0.053222 seconds.\n",
      "You can set `force_row_wise=true` to remove the overhead.\n",
      "And if memory is not enough, you can set `force_col_wise=true`.\n",
      "[LightGBM] [Info] Total Bins 9343\n",
      "[LightGBM] [Info] Number of data points in the train set: 18545, number of used features: 472\n",
      "[LightGBM] [Info] [binary:BoostFromScore]: pavg=0.491291 -> initscore=-0.034838\n",
      "[LightGBM] [Info] Start training from score -0.034838\n",
      "[LightGBM] [Info] Number of positive: 9111, number of negative: 9434\n",
      "[LightGBM] [Info] Auto-choosing row-wise multi-threading, the overhead of testing was 0.052104 seconds.\n",
      "You can set `force_row_wise=true` to remove the overhead.\n",
      "And if memory is not enough, you can set `force_col_wise=true`.\n",
      "[LightGBM] [Info] Total Bins 9264\n",
      "[LightGBM] [Info] Number of data points in the train set: 18545, number of used features: 470\n",
      "[LightGBM] [Info] [binary:BoostFromScore]: pavg=0.491291 -> initscore=-0.034838\n",
      "[LightGBM] [Info] Start training from score -0.034838\n",
      "[LightGBM] [Info] Number of positive: 9112, number of negative: 9434\n",
      "[LightGBM] [Info] Auto-choosing row-wise multi-threading, the overhead of testing was 0.052863 seconds.\n",
      "You can set `force_row_wise=true` to remove the overhead.\n",
      "And if memory is not enough, you can set `force_col_wise=true`.\n",
      "[LightGBM] [Info] Total Bins 9352\n",
      "[LightGBM] [Info] Number of data points in the train set: 18546, number of used features: 470\n",
      "[LightGBM] [Info] [binary:BoostFromScore]: pavg=0.491319 -> initscore=-0.034728\n",
      "[LightGBM] [Info] Start training from score -0.034728\n",
      "[LightGBM] [Info] Number of positive: 9111, number of negative: 9435\n",
      "[LightGBM] [Info] Auto-choosing row-wise multi-threading, the overhead of testing was 0.052506 seconds.\n",
      "You can set `force_row_wise=true` to remove the overhead.\n",
      "And if memory is not enough, you can set `force_col_wise=true`.\n",
      "[LightGBM] [Info] Total Bins 9351\n",
      "[LightGBM] [Info] Number of data points in the train set: 18546, number of used features: 475\n",
      "[LightGBM] [Info] [binary:BoostFromScore]: pavg=0.491265 -> initscore=-0.034944\n",
      "[LightGBM] [Info] Start training from score -0.034944\n",
      "[LightGBM] [Info] Number of positive: 9111, number of negative: 9435\n",
      "[LightGBM] [Info] Auto-choosing col-wise multi-threading, the overhead of testing was 0.050709 seconds.\n",
      "You can set `force_col_wise=true` to remove the overhead.\n",
      "[LightGBM] [Info] Total Bins 9206\n",
      "[LightGBM] [Info] Number of data points in the train set: 18546, number of used features: 459\n",
      "[LightGBM] [Info] [binary:BoostFromScore]: pavg=0.491265 -> initscore=-0.034944\n",
      "[LightGBM] [Info] Start training from score -0.034944\n",
      "[LightGBM] [Info] Number of positive: 9111, number of negative: 9434\n",
      "[LightGBM] [Info] Auto-choosing row-wise multi-threading, the overhead of testing was 0.052565 seconds.\n",
      "You can set `force_row_wise=true` to remove the overhead.\n",
      "And if memory is not enough, you can set `force_col_wise=true`.\n",
      "[LightGBM] [Info] Total Bins 9343\n",
      "[LightGBM] [Info] Number of data points in the train set: 18545, number of used features: 472\n",
      "[LightGBM] [Info] [binary:BoostFromScore]: pavg=0.491291 -> initscore=-0.034838\n",
      "[LightGBM] [Info] Start training from score -0.034838\n",
      "[LightGBM] [Info] Number of positive: 9111, number of negative: 9434\n",
      "[LightGBM] [Info] Auto-choosing row-wise multi-threading, the overhead of testing was 0.052249 seconds.\n",
      "You can set `force_row_wise=true` to remove the overhead.\n",
      "And if memory is not enough, you can set `force_col_wise=true`.\n",
      "[LightGBM] [Info] Total Bins 9264\n",
      "[LightGBM] [Info] Number of data points in the train set: 18545, number of used features: 470\n",
      "[LightGBM] [Info] [binary:BoostFromScore]: pavg=0.491291 -> initscore=-0.034838\n",
      "[LightGBM] [Info] Start training from score -0.034838\n",
      "[LightGBM] [Info] Number of positive: 9112, number of negative: 9434\n",
      "[LightGBM] [Info] Auto-choosing row-wise multi-threading, the overhead of testing was 0.052021 seconds.\n",
      "You can set `force_row_wise=true` to remove the overhead.\n",
      "And if memory is not enough, you can set `force_col_wise=true`.\n",
      "[LightGBM] [Info] Total Bins 9352\n",
      "[LightGBM] [Info] Number of data points in the train set: 18546, number of used features: 470\n",
      "[LightGBM] [Info] [binary:BoostFromScore]: pavg=0.491319 -> initscore=-0.034728\n",
      "[LightGBM] [Info] Start training from score -0.034728\n",
      "[LightGBM] [Info] Number of positive: 9111, number of negative: 9435\n",
      "[LightGBM] [Info] Auto-choosing row-wise multi-threading, the overhead of testing was 0.052670 seconds.\n",
      "You can set `force_row_wise=true` to remove the overhead.\n",
      "And if memory is not enough, you can set `force_col_wise=true`.\n",
      "[LightGBM] [Info] Total Bins 9351\n",
      "[LightGBM] [Info] Number of data points in the train set: 18546, number of used features: 475\n",
      "[LightGBM] [Info] [binary:BoostFromScore]: pavg=0.491265 -> initscore=-0.034944\n",
      "[LightGBM] [Info] Start training from score -0.034944\n",
      "[LightGBM] [Info] Number of positive: 9111, number of negative: 9435\n",
      "[LightGBM] [Info] Auto-choosing row-wise multi-threading, the overhead of testing was 0.052194 seconds.\n",
      "You can set `force_row_wise=true` to remove the overhead.\n",
      "And if memory is not enough, you can set `force_col_wise=true`.\n",
      "[LightGBM] [Info] Total Bins 9206\n",
      "[LightGBM] [Info] Number of data points in the train set: 18546, number of used features: 459\n",
      "[LightGBM] [Info] [binary:BoostFromScore]: pavg=0.491265 -> initscore=-0.034944\n",
      "[LightGBM] [Info] Start training from score -0.034944\n",
      "[LightGBM] [Info] Number of positive: 9111, number of negative: 9434\n",
      "[LightGBM] [Info] Auto-choosing row-wise multi-threading, the overhead of testing was 0.052737 seconds.\n",
      "You can set `force_row_wise=true` to remove the overhead.\n",
      "And if memory is not enough, you can set `force_col_wise=true`.\n",
      "[LightGBM] [Info] Total Bins 9343\n",
      "[LightGBM] [Info] Number of data points in the train set: 18545, number of used features: 472\n",
      "[LightGBM] [Info] [binary:BoostFromScore]: pavg=0.491291 -> initscore=-0.034838\n",
      "[LightGBM] [Info] Start training from score -0.034838\n",
      "[LightGBM] [Info] Number of positive: 9111, number of negative: 9434\n",
      "[LightGBM] [Info] Auto-choosing row-wise multi-threading, the overhead of testing was 0.052098 seconds.\n",
      "You can set `force_row_wise=true` to remove the overhead.\n",
      "And if memory is not enough, you can set `force_col_wise=true`.\n",
      "[LightGBM] [Info] Total Bins 9264\n",
      "[LightGBM] [Info] Number of data points in the train set: 18545, number of used features: 470\n",
      "[LightGBM] [Info] [binary:BoostFromScore]: pavg=0.491291 -> initscore=-0.034838\n",
      "[LightGBM] [Info] Start training from score -0.034838\n",
      "[LightGBM] [Info] Number of positive: 9112, number of negative: 9434\n",
      "[LightGBM] [Info] Auto-choosing row-wise multi-threading, the overhead of testing was 0.052027 seconds.\n",
      "You can set `force_row_wise=true` to remove the overhead.\n",
      "And if memory is not enough, you can set `force_col_wise=true`.\n",
      "[LightGBM] [Info] Total Bins 9352\n",
      "[LightGBM] [Info] Number of data points in the train set: 18546, number of used features: 470\n",
      "[LightGBM] [Info] [binary:BoostFromScore]: pavg=0.491319 -> initscore=-0.034728\n",
      "[LightGBM] [Info] Start training from score -0.034728\n",
      "[LightGBM] [Info] Number of positive: 9111, number of negative: 9435\n",
      "[LightGBM] [Info] Auto-choosing row-wise multi-threading, the overhead of testing was 0.053474 seconds.\n",
      "You can set `force_row_wise=true` to remove the overhead.\n",
      "And if memory is not enough, you can set `force_col_wise=true`.\n",
      "[LightGBM] [Info] Total Bins 9351\n",
      "[LightGBM] [Info] Number of data points in the train set: 18546, number of used features: 475\n",
      "[LightGBM] [Info] [binary:BoostFromScore]: pavg=0.491265 -> initscore=-0.034944\n",
      "[LightGBM] [Info] Start training from score -0.034944\n",
      "[LightGBM] [Info] Number of positive: 9111, number of negative: 9435\n",
      "[LightGBM] [Info] Auto-choosing row-wise multi-threading, the overhead of testing was 0.051799 seconds.\n",
      "You can set `force_row_wise=true` to remove the overhead.\n",
      "And if memory is not enough, you can set `force_col_wise=true`.\n",
      "[LightGBM] [Info] Total Bins 9206\n",
      "[LightGBM] [Info] Number of data points in the train set: 18546, number of used features: 459\n",
      "[LightGBM] [Info] [binary:BoostFromScore]: pavg=0.491265 -> initscore=-0.034944\n",
      "[LightGBM] [Info] Start training from score -0.034944\n",
      "[LightGBM] [Info] Number of positive: 9111, number of negative: 9434\n",
      "[LightGBM] [Info] Auto-choosing col-wise multi-threading, the overhead of testing was 0.053404 seconds.\n",
      "You can set `force_col_wise=true` to remove the overhead.\n",
      "[LightGBM] [Info] Total Bins 9343\n",
      "[LightGBM] [Info] Number of data points in the train set: 18545, number of used features: 472\n",
      "[LightGBM] [Info] [binary:BoostFromScore]: pavg=0.491291 -> initscore=-0.034838\n",
      "[LightGBM] [Info] Start training from score -0.034838\n",
      "[LightGBM] [Info] Number of positive: 9111, number of negative: 9434\n",
      "[LightGBM] [Info] Auto-choosing row-wise multi-threading, the overhead of testing was 0.052083 seconds.\n",
      "You can set `force_row_wise=true` to remove the overhead.\n",
      "And if memory is not enough, you can set `force_col_wise=true`.\n",
      "[LightGBM] [Info] Total Bins 9264\n",
      "[LightGBM] [Info] Number of data points in the train set: 18545, number of used features: 470\n",
      "[LightGBM] [Info] [binary:BoostFromScore]: pavg=0.491291 -> initscore=-0.034838\n",
      "[LightGBM] [Info] Start training from score -0.034838\n",
      "[LightGBM] [Info] Number of positive: 9112, number of negative: 9434\n",
      "[LightGBM] [Info] Auto-choosing row-wise multi-threading, the overhead of testing was 0.052448 seconds.\n",
      "You can set `force_row_wise=true` to remove the overhead.\n",
      "And if memory is not enough, you can set `force_col_wise=true`.\n",
      "[LightGBM] [Info] Total Bins 9352\n",
      "[LightGBM] [Info] Number of data points in the train set: 18546, number of used features: 470\n",
      "[LightGBM] [Info] [binary:BoostFromScore]: pavg=0.491319 -> initscore=-0.034728\n",
      "[LightGBM] [Info] Start training from score -0.034728\n",
      "[LightGBM] [Info] Number of positive: 9111, number of negative: 9435\n",
      "[LightGBM] [Info] Auto-choosing col-wise multi-threading, the overhead of testing was 0.052316 seconds.\n",
      "You can set `force_col_wise=true` to remove the overhead.\n",
      "[LightGBM] [Info] Total Bins 9351\n",
      "[LightGBM] [Info] Number of data points in the train set: 18546, number of used features: 475\n",
      "[LightGBM] [Info] [binary:BoostFromScore]: pavg=0.491265 -> initscore=-0.034944\n",
      "[LightGBM] [Info] Start training from score -0.034944\n",
      "[LightGBM] [Info] Number of positive: 9111, number of negative: 9435\n",
      "[LightGBM] [Info] Auto-choosing row-wise multi-threading, the overhead of testing was 0.052143 seconds.\n",
      "You can set `force_row_wise=true` to remove the overhead.\n",
      "And if memory is not enough, you can set `force_col_wise=true`.\n",
      "[LightGBM] [Info] Total Bins 9206\n",
      "[LightGBM] [Info] Number of data points in the train set: 18546, number of used features: 459\n",
      "[LightGBM] [Info] [binary:BoostFromScore]: pavg=0.491265 -> initscore=-0.034944\n",
      "[LightGBM] [Info] Start training from score -0.034944\n",
      "[LightGBM] [Info] Number of positive: 9111, number of negative: 9434\n",
      "[LightGBM] [Info] Auto-choosing row-wise multi-threading, the overhead of testing was 0.053899 seconds.\n",
      "You can set `force_row_wise=true` to remove the overhead.\n",
      "And if memory is not enough, you can set `force_col_wise=true`.\n",
      "[LightGBM] [Info] Total Bins 9343\n",
      "[LightGBM] [Info] Number of data points in the train set: 18545, number of used features: 472\n",
      "[LightGBM] [Info] [binary:BoostFromScore]: pavg=0.491291 -> initscore=-0.034838\n",
      "[LightGBM] [Info] Start training from score -0.034838\n",
      "[LightGBM] [Info] Number of positive: 9111, number of negative: 9434\n",
      "[LightGBM] [Info] Auto-choosing col-wise multi-threading, the overhead of testing was 0.053817 seconds.\n",
      "You can set `force_col_wise=true` to remove the overhead.\n",
      "[LightGBM] [Info] Total Bins 9264\n",
      "[LightGBM] [Info] Number of data points in the train set: 18545, number of used features: 470\n",
      "[LightGBM] [Info] [binary:BoostFromScore]: pavg=0.491291 -> initscore=-0.034838\n",
      "[LightGBM] [Info] Start training from score -0.034838\n",
      "[LightGBM] [Info] Number of positive: 9112, number of negative: 9434\n",
      "[LightGBM] [Info] Auto-choosing col-wise multi-threading, the overhead of testing was 0.051932 seconds.\n",
      "You can set `force_col_wise=true` to remove the overhead.\n",
      "[LightGBM] [Info] Total Bins 9352\n",
      "[LightGBM] [Info] Number of data points in the train set: 18546, number of used features: 470\n",
      "[LightGBM] [Info] [binary:BoostFromScore]: pavg=0.491319 -> initscore=-0.034728\n",
      "[LightGBM] [Info] Start training from score -0.034728\n",
      "[LightGBM] [Info] Number of positive: 9111, number of negative: 9435\n",
      "[LightGBM] [Info] Auto-choosing row-wise multi-threading, the overhead of testing was 0.054455 seconds.\n",
      "You can set `force_row_wise=true` to remove the overhead.\n",
      "And if memory is not enough, you can set `force_col_wise=true`.\n",
      "[LightGBM] [Info] Total Bins 9351\n",
      "[LightGBM] [Info] Number of data points in the train set: 18546, number of used features: 475\n",
      "[LightGBM] [Info] [binary:BoostFromScore]: pavg=0.491265 -> initscore=-0.034944\n",
      "[LightGBM] [Info] Start training from score -0.034944\n",
      "[LightGBM] [Info] Number of positive: 9111, number of negative: 9435\n",
      "[LightGBM] [Info] Auto-choosing row-wise multi-threading, the overhead of testing was 0.051003 seconds.\n",
      "You can set `force_row_wise=true` to remove the overhead.\n",
      "And if memory is not enough, you can set `force_col_wise=true`.\n",
      "[LightGBM] [Info] Total Bins 9206\n",
      "[LightGBM] [Info] Number of data points in the train set: 18546, number of used features: 459\n",
      "[LightGBM] [Info] [binary:BoostFromScore]: pavg=0.491265 -> initscore=-0.034944\n",
      "[LightGBM] [Info] Start training from score -0.034944\n",
      "[LightGBM] [Info] Number of positive: 9111, number of negative: 9434\n",
      "[LightGBM] [Info] Auto-choosing row-wise multi-threading, the overhead of testing was 0.052279 seconds.\n",
      "You can set `force_row_wise=true` to remove the overhead.\n",
      "And if memory is not enough, you can set `force_col_wise=true`.\n",
      "[LightGBM] [Info] Total Bins 9343\n",
      "[LightGBM] [Info] Number of data points in the train set: 18545, number of used features: 472\n",
      "[LightGBM] [Info] [binary:BoostFromScore]: pavg=0.491291 -> initscore=-0.034838\n",
      "[LightGBM] [Info] Start training from score -0.034838\n",
      "[LightGBM] [Info] Number of positive: 9111, number of negative: 9434\n",
      "[LightGBM] [Info] Auto-choosing row-wise multi-threading, the overhead of testing was 0.052224 seconds.\n",
      "You can set `force_row_wise=true` to remove the overhead.\n",
      "And if memory is not enough, you can set `force_col_wise=true`.\n",
      "[LightGBM] [Info] Total Bins 9264\n",
      "[LightGBM] [Info] Number of data points in the train set: 18545, number of used features: 470\n",
      "[LightGBM] [Info] [binary:BoostFromScore]: pavg=0.491291 -> initscore=-0.034838\n",
      "[LightGBM] [Info] Start training from score -0.034838\n",
      "[LightGBM] [Info] Number of positive: 9112, number of negative: 9434\n",
      "[LightGBM] [Info] Auto-choosing row-wise multi-threading, the overhead of testing was 0.052180 seconds.\n",
      "You can set `force_row_wise=true` to remove the overhead.\n",
      "And if memory is not enough, you can set `force_col_wise=true`.\n",
      "[LightGBM] [Info] Total Bins 9352\n",
      "[LightGBM] [Info] Number of data points in the train set: 18546, number of used features: 470\n",
      "[LightGBM] [Info] [binary:BoostFromScore]: pavg=0.491319 -> initscore=-0.034728\n",
      "[LightGBM] [Info] Start training from score -0.034728\n",
      "[LightGBM] [Info] Number of positive: 9111, number of negative: 9435\n",
      "[LightGBM] [Info] Auto-choosing row-wise multi-threading, the overhead of testing was 0.052217 seconds.\n",
      "You can set `force_row_wise=true` to remove the overhead.\n",
      "And if memory is not enough, you can set `force_col_wise=true`.\n",
      "[LightGBM] [Info] Total Bins 9351\n",
      "[LightGBM] [Info] Number of data points in the train set: 18546, number of used features: 475\n",
      "[LightGBM] [Info] [binary:BoostFromScore]: pavg=0.491265 -> initscore=-0.034944\n",
      "[LightGBM] [Info] Start training from score -0.034944\n",
      "[LightGBM] [Info] Number of positive: 9111, number of negative: 9435\n",
      "[LightGBM] [Info] Auto-choosing row-wise multi-threading, the overhead of testing was 0.050756 seconds.\n",
      "You can set `force_row_wise=true` to remove the overhead.\n",
      "And if memory is not enough, you can set `force_col_wise=true`.\n",
      "[LightGBM] [Info] Total Bins 9206\n",
      "[LightGBM] [Info] Number of data points in the train set: 18546, number of used features: 459\n",
      "[LightGBM] [Info] [binary:BoostFromScore]: pavg=0.491265 -> initscore=-0.034944\n",
      "[LightGBM] [Info] Start training from score -0.034944\n",
      "[LightGBM] [Info] Number of positive: 9111, number of negative: 9434\n",
      "[LightGBM] [Info] Auto-choosing row-wise multi-threading, the overhead of testing was 0.052643 seconds.\n",
      "You can set `force_row_wise=true` to remove the overhead.\n",
      "And if memory is not enough, you can set `force_col_wise=true`.\n",
      "[LightGBM] [Info] Total Bins 9343\n",
      "[LightGBM] [Info] Number of data points in the train set: 18545, number of used features: 472\n",
      "[LightGBM] [Info] [binary:BoostFromScore]: pavg=0.491291 -> initscore=-0.034838\n",
      "[LightGBM] [Info] Start training from score -0.034838\n",
      "[LightGBM] [Info] Number of positive: 9111, number of negative: 9434\n",
      "[LightGBM] [Info] Auto-choosing col-wise multi-threading, the overhead of testing was 0.051547 seconds.\n",
      "You can set `force_col_wise=true` to remove the overhead.\n",
      "[LightGBM] [Info] Total Bins 9264\n",
      "[LightGBM] [Info] Number of data points in the train set: 18545, number of used features: 470\n",
      "[LightGBM] [Info] [binary:BoostFromScore]: pavg=0.491291 -> initscore=-0.034838\n",
      "[LightGBM] [Info] Start training from score -0.034838\n",
      "[LightGBM] [Info] Number of positive: 9112, number of negative: 9434\n",
      "[LightGBM] [Info] Auto-choosing row-wise multi-threading, the overhead of testing was 0.052434 seconds.\n",
      "You can set `force_row_wise=true` to remove the overhead.\n",
      "And if memory is not enough, you can set `force_col_wise=true`.\n",
      "[LightGBM] [Info] Total Bins 9352\n",
      "[LightGBM] [Info] Number of data points in the train set: 18546, number of used features: 470\n",
      "[LightGBM] [Info] [binary:BoostFromScore]: pavg=0.491319 -> initscore=-0.034728\n",
      "[LightGBM] [Info] Start training from score -0.034728\n",
      "[LightGBM] [Info] Number of positive: 9111, number of negative: 9435\n",
      "[LightGBM] [Info] Auto-choosing row-wise multi-threading, the overhead of testing was 0.052471 seconds.\n",
      "You can set `force_row_wise=true` to remove the overhead.\n",
      "And if memory is not enough, you can set `force_col_wise=true`.\n",
      "[LightGBM] [Info] Total Bins 9351\n",
      "[LightGBM] [Info] Number of data points in the train set: 18546, number of used features: 475\n",
      "[LightGBM] [Info] [binary:BoostFromScore]: pavg=0.491265 -> initscore=-0.034944\n",
      "[LightGBM] [Info] Start training from score -0.034944\n",
      "[LightGBM] [Info] Number of positive: 9111, number of negative: 9435\n",
      "[LightGBM] [Info] Auto-choosing row-wise multi-threading, the overhead of testing was 0.050839 seconds.\n",
      "You can set `force_row_wise=true` to remove the overhead.\n",
      "And if memory is not enough, you can set `force_col_wise=true`.\n",
      "[LightGBM] [Info] Total Bins 9206\n",
      "[LightGBM] [Info] Number of data points in the train set: 18546, number of used features: 459\n",
      "[LightGBM] [Info] [binary:BoostFromScore]: pavg=0.491265 -> initscore=-0.034944\n",
      "[LightGBM] [Info] Start training from score -0.034944\n",
      "[LightGBM] [Info] Number of positive: 9111, number of negative: 9434\n",
      "[LightGBM] [Info] Auto-choosing col-wise multi-threading, the overhead of testing was 0.052324 seconds.\n",
      "You can set `force_col_wise=true` to remove the overhead.\n",
      "[LightGBM] [Info] Total Bins 9343\n",
      "[LightGBM] [Info] Number of data points in the train set: 18545, number of used features: 472\n",
      "[LightGBM] [Info] [binary:BoostFromScore]: pavg=0.491291 -> initscore=-0.034838\n",
      "[LightGBM] [Info] Start training from score -0.034838\n",
      "[LightGBM] [Info] Number of positive: 9111, number of negative: 9434\n",
      "[LightGBM] [Info] Auto-choosing row-wise multi-threading, the overhead of testing was 0.051933 seconds.\n",
      "You can set `force_row_wise=true` to remove the overhead.\n",
      "And if memory is not enough, you can set `force_col_wise=true`.\n",
      "[LightGBM] [Info] Total Bins 9264\n",
      "[LightGBM] [Info] Number of data points in the train set: 18545, number of used features: 470\n",
      "[LightGBM] [Info] [binary:BoostFromScore]: pavg=0.491291 -> initscore=-0.034838\n",
      "[LightGBM] [Info] Start training from score -0.034838\n",
      "[LightGBM] [Info] Number of positive: 9112, number of negative: 9434\n",
      "[LightGBM] [Info] Auto-choosing row-wise multi-threading, the overhead of testing was 0.052002 seconds.\n",
      "You can set `force_row_wise=true` to remove the overhead.\n",
      "And if memory is not enough, you can set `force_col_wise=true`.\n",
      "[LightGBM] [Info] Total Bins 9352\n",
      "[LightGBM] [Info] Number of data points in the train set: 18546, number of used features: 470\n",
      "[LightGBM] [Info] [binary:BoostFromScore]: pavg=0.491319 -> initscore=-0.034728\n",
      "[LightGBM] [Info] Start training from score -0.034728\n",
      "[LightGBM] [Info] Number of positive: 9111, number of negative: 9435\n",
      "[LightGBM] [Info] Auto-choosing col-wise multi-threading, the overhead of testing was 0.054472 seconds.\n",
      "You can set `force_col_wise=true` to remove the overhead.\n",
      "[LightGBM] [Info] Total Bins 9351\n",
      "[LightGBM] [Info] Number of data points in the train set: 18546, number of used features: 475\n",
      "[LightGBM] [Info] [binary:BoostFromScore]: pavg=0.491265 -> initscore=-0.034944\n",
      "[LightGBM] [Info] Start training from score -0.034944\n",
      "[LightGBM] [Info] Number of positive: 9111, number of negative: 9435\n",
      "[LightGBM] [Info] Auto-choosing row-wise multi-threading, the overhead of testing was 0.051285 seconds.\n",
      "You can set `force_row_wise=true` to remove the overhead.\n",
      "And if memory is not enough, you can set `force_col_wise=true`.\n",
      "[LightGBM] [Info] Total Bins 9206\n",
      "[LightGBM] [Info] Number of data points in the train set: 18546, number of used features: 459\n",
      "[LightGBM] [Info] [binary:BoostFromScore]: pavg=0.491265 -> initscore=-0.034944\n",
      "[LightGBM] [Info] Start training from score -0.034944\n",
      "[LightGBM] [Info] Number of positive: 9111, number of negative: 9434\n",
      "[LightGBM] [Info] Auto-choosing row-wise multi-threading, the overhead of testing was 0.052398 seconds.\n",
      "You can set `force_row_wise=true` to remove the overhead.\n",
      "And if memory is not enough, you can set `force_col_wise=true`.\n",
      "[LightGBM] [Info] Total Bins 9343\n",
      "[LightGBM] [Info] Number of data points in the train set: 18545, number of used features: 472\n",
      "[LightGBM] [Info] [binary:BoostFromScore]: pavg=0.491291 -> initscore=-0.034838\n",
      "[LightGBM] [Info] Start training from score -0.034838\n",
      "[LightGBM] [Info] Number of positive: 9111, number of negative: 9434\n",
      "[LightGBM] [Info] Auto-choosing row-wise multi-threading, the overhead of testing was 0.051927 seconds.\n",
      "You can set `force_row_wise=true` to remove the overhead.\n",
      "And if memory is not enough, you can set `force_col_wise=true`.\n",
      "[LightGBM] [Info] Total Bins 9264\n",
      "[LightGBM] [Info] Number of data points in the train set: 18545, number of used features: 470\n",
      "[LightGBM] [Info] [binary:BoostFromScore]: pavg=0.491291 -> initscore=-0.034838\n",
      "[LightGBM] [Info] Start training from score -0.034838\n",
      "[LightGBM] [Info] Number of positive: 9112, number of negative: 9434\n",
      "[LightGBM] [Info] Auto-choosing row-wise multi-threading, the overhead of testing was 0.052243 seconds.\n",
      "You can set `force_row_wise=true` to remove the overhead.\n",
      "And if memory is not enough, you can set `force_col_wise=true`.\n",
      "[LightGBM] [Info] Total Bins 9352\n",
      "[LightGBM] [Info] Number of data points in the train set: 18546, number of used features: 470\n",
      "[LightGBM] [Info] [binary:BoostFromScore]: pavg=0.491319 -> initscore=-0.034728\n",
      "[LightGBM] [Info] Start training from score -0.034728\n",
      "[LightGBM] [Info] Number of positive: 9111, number of negative: 9435\n",
      "[LightGBM] [Info] Auto-choosing row-wise multi-threading, the overhead of testing was 0.052673 seconds.\n",
      "You can set `force_row_wise=true` to remove the overhead.\n",
      "And if memory is not enough, you can set `force_col_wise=true`.\n",
      "[LightGBM] [Info] Total Bins 9351\n",
      "[LightGBM] [Info] Number of data points in the train set: 18546, number of used features: 475\n",
      "[LightGBM] [Info] [binary:BoostFromScore]: pavg=0.491265 -> initscore=-0.034944\n",
      "[LightGBM] [Info] Start training from score -0.034944\n",
      "[LightGBM] [Info] Number of positive: 9111, number of negative: 9435\n",
      "[LightGBM] [Info] Auto-choosing row-wise multi-threading, the overhead of testing was 0.050885 seconds.\n",
      "You can set `force_row_wise=true` to remove the overhead.\n",
      "And if memory is not enough, you can set `force_col_wise=true`.\n",
      "[LightGBM] [Info] Total Bins 9206\n",
      "[LightGBM] [Info] Number of data points in the train set: 18546, number of used features: 459\n",
      "[LightGBM] [Info] [binary:BoostFromScore]: pavg=0.491265 -> initscore=-0.034944\n",
      "[LightGBM] [Info] Start training from score -0.034944\n",
      "[LightGBM] [Info] Number of positive: 9111, number of negative: 9434\n",
      "[LightGBM] [Info] Auto-choosing row-wise multi-threading, the overhead of testing was 0.052498 seconds.\n",
      "You can set `force_row_wise=true` to remove the overhead.\n",
      "And if memory is not enough, you can set `force_col_wise=true`.\n",
      "[LightGBM] [Info] Total Bins 9343\n",
      "[LightGBM] [Info] Number of data points in the train set: 18545, number of used features: 472\n",
      "[LightGBM] [Info] [binary:BoostFromScore]: pavg=0.491291 -> initscore=-0.034838\n",
      "[LightGBM] [Info] Start training from score -0.034838\n",
      "[LightGBM] [Info] Number of positive: 9111, number of negative: 9434\n",
      "[LightGBM] [Info] Auto-choosing row-wise multi-threading, the overhead of testing was 0.052293 seconds.\n",
      "You can set `force_row_wise=true` to remove the overhead.\n",
      "And if memory is not enough, you can set `force_col_wise=true`.\n",
      "[LightGBM] [Info] Total Bins 9264\n",
      "[LightGBM] [Info] Number of data points in the train set: 18545, number of used features: 470\n",
      "[LightGBM] [Info] [binary:BoostFromScore]: pavg=0.491291 -> initscore=-0.034838\n",
      "[LightGBM] [Info] Start training from score -0.034838\n",
      "[LightGBM] [Info] Number of positive: 9112, number of negative: 9434\n",
      "[LightGBM] [Info] Auto-choosing row-wise multi-threading, the overhead of testing was 0.052462 seconds.\n",
      "You can set `force_row_wise=true` to remove the overhead.\n",
      "And if memory is not enough, you can set `force_col_wise=true`.\n",
      "[LightGBM] [Info] Total Bins 9352\n",
      "[LightGBM] [Info] Number of data points in the train set: 18546, number of used features: 470\n",
      "[LightGBM] [Info] [binary:BoostFromScore]: pavg=0.491319 -> initscore=-0.034728\n",
      "[LightGBM] [Info] Start training from score -0.034728\n",
      "[LightGBM] [Info] Number of positive: 9111, number of negative: 9435\n",
      "[LightGBM] [Info] Auto-choosing row-wise multi-threading, the overhead of testing was 0.053423 seconds.\n",
      "You can set `force_row_wise=true` to remove the overhead.\n",
      "And if memory is not enough, you can set `force_col_wise=true`.\n",
      "[LightGBM] [Info] Total Bins 9351\n",
      "[LightGBM] [Info] Number of data points in the train set: 18546, number of used features: 475\n",
      "[LightGBM] [Info] [binary:BoostFromScore]: pavg=0.491265 -> initscore=-0.034944\n",
      "[LightGBM] [Info] Start training from score -0.034944\n",
      "[LightGBM] [Info] Number of positive: 9111, number of negative: 9435\n",
      "[LightGBM] [Info] Auto-choosing row-wise multi-threading, the overhead of testing was 0.050395 seconds.\n",
      "You can set `force_row_wise=true` to remove the overhead.\n",
      "And if memory is not enough, you can set `force_col_wise=true`.\n",
      "[LightGBM] [Info] Total Bins 9206\n",
      "[LightGBM] [Info] Number of data points in the train set: 18546, number of used features: 459\n",
      "[LightGBM] [Info] [binary:BoostFromScore]: pavg=0.491265 -> initscore=-0.034944\n",
      "[LightGBM] [Info] Start training from score -0.034944\n",
      "[LightGBM] [Info] Number of positive: 9111, number of negative: 9434\n",
      "[LightGBM] [Info] Auto-choosing row-wise multi-threading, the overhead of testing was 0.052501 seconds.\n",
      "You can set `force_row_wise=true` to remove the overhead.\n",
      "And if memory is not enough, you can set `force_col_wise=true`.\n",
      "[LightGBM] [Info] Total Bins 9343\n",
      "[LightGBM] [Info] Number of data points in the train set: 18545, number of used features: 472\n",
      "[LightGBM] [Info] [binary:BoostFromScore]: pavg=0.491291 -> initscore=-0.034838\n",
      "[LightGBM] [Info] Start training from score -0.034838\n",
      "[LightGBM] [Info] Number of positive: 9111, number of negative: 9434\n",
      "[LightGBM] [Info] Auto-choosing row-wise multi-threading, the overhead of testing was 0.051918 seconds.\n",
      "You can set `force_row_wise=true` to remove the overhead.\n",
      "And if memory is not enough, you can set `force_col_wise=true`.\n",
      "[LightGBM] [Info] Total Bins 9264\n",
      "[LightGBM] [Info] Number of data points in the train set: 18545, number of used features: 470\n",
      "[LightGBM] [Info] [binary:BoostFromScore]: pavg=0.491291 -> initscore=-0.034838\n",
      "[LightGBM] [Info] Start training from score -0.034838\n",
      "[LightGBM] [Info] Number of positive: 9112, number of negative: 9434\n",
      "[LightGBM] [Info] Auto-choosing row-wise multi-threading, the overhead of testing was 0.052488 seconds.\n",
      "You can set `force_row_wise=true` to remove the overhead.\n",
      "And if memory is not enough, you can set `force_col_wise=true`.\n",
      "[LightGBM] [Info] Total Bins 9352\n",
      "[LightGBM] [Info] Number of data points in the train set: 18546, number of used features: 470\n",
      "[LightGBM] [Info] [binary:BoostFromScore]: pavg=0.491319 -> initscore=-0.034728\n",
      "[LightGBM] [Info] Start training from score -0.034728\n",
      "[LightGBM] [Info] Number of positive: 9111, number of negative: 9435\n",
      "[LightGBM] [Info] Auto-choosing row-wise multi-threading, the overhead of testing was 0.053277 seconds.\n",
      "You can set `force_row_wise=true` to remove the overhead.\n",
      "And if memory is not enough, you can set `force_col_wise=true`.\n",
      "[LightGBM] [Info] Total Bins 9351\n",
      "[LightGBM] [Info] Number of data points in the train set: 18546, number of used features: 475\n",
      "[LightGBM] [Info] [binary:BoostFromScore]: pavg=0.491265 -> initscore=-0.034944\n",
      "[LightGBM] [Info] Start training from score -0.034944\n",
      "[LightGBM] [Info] Number of positive: 9111, number of negative: 9435\n",
      "[LightGBM] [Info] Auto-choosing col-wise multi-threading, the overhead of testing was 0.060978 seconds.\n",
      "You can set `force_col_wise=true` to remove the overhead.\n",
      "[LightGBM] [Info] Total Bins 9206\n",
      "[LightGBM] [Info] Number of data points in the train set: 18546, number of used features: 459\n",
      "[LightGBM] [Info] [binary:BoostFromScore]: pavg=0.491265 -> initscore=-0.034944\n",
      "[LightGBM] [Info] Start training from score -0.034944\n",
      "[LightGBM] [Info] Number of positive: 9111, number of negative: 9434\n",
      "[LightGBM] [Info] Auto-choosing row-wise multi-threading, the overhead of testing was 0.052450 seconds.\n",
      "You can set `force_row_wise=true` to remove the overhead.\n",
      "And if memory is not enough, you can set `force_col_wise=true`.\n",
      "[LightGBM] [Info] Total Bins 9343\n",
      "[LightGBM] [Info] Number of data points in the train set: 18545, number of used features: 472\n",
      "[LightGBM] [Info] [binary:BoostFromScore]: pavg=0.491291 -> initscore=-0.034838\n",
      "[LightGBM] [Info] Start training from score -0.034838\n",
      "[LightGBM] [Info] Number of positive: 9111, number of negative: 9434\n",
      "[LightGBM] [Info] Auto-choosing row-wise multi-threading, the overhead of testing was 0.051415 seconds.\n",
      "You can set `force_row_wise=true` to remove the overhead.\n",
      "And if memory is not enough, you can set `force_col_wise=true`.\n",
      "[LightGBM] [Info] Total Bins 9264\n",
      "[LightGBM] [Info] Number of data points in the train set: 18545, number of used features: 470\n",
      "[LightGBM] [Info] [binary:BoostFromScore]: pavg=0.491291 -> initscore=-0.034838\n",
      "[LightGBM] [Info] Start training from score -0.034838\n",
      "[LightGBM] [Info] Number of positive: 9112, number of negative: 9434\n",
      "[LightGBM] [Info] Auto-choosing row-wise multi-threading, the overhead of testing was 0.051888 seconds.\n",
      "You can set `force_row_wise=true` to remove the overhead.\n",
      "And if memory is not enough, you can set `force_col_wise=true`.\n",
      "[LightGBM] [Info] Total Bins 9352\n",
      "[LightGBM] [Info] Number of data points in the train set: 18546, number of used features: 470\n",
      "[LightGBM] [Info] [binary:BoostFromScore]: pavg=0.491319 -> initscore=-0.034728\n",
      "[LightGBM] [Info] Start training from score -0.034728\n",
      "[LightGBM] [Info] Number of positive: 9111, number of negative: 9435\n",
      "[LightGBM] [Info] Auto-choosing col-wise multi-threading, the overhead of testing was 0.052287 seconds.\n",
      "You can set `force_col_wise=true` to remove the overhead.\n",
      "[LightGBM] [Info] Total Bins 9351\n",
      "[LightGBM] [Info] Number of data points in the train set: 18546, number of used features: 475\n",
      "[LightGBM] [Info] [binary:BoostFromScore]: pavg=0.491265 -> initscore=-0.034944\n",
      "[LightGBM] [Info] Start training from score -0.034944\n",
      "[LightGBM] [Info] Number of positive: 9111, number of negative: 9435\n",
      "[LightGBM] [Info] Auto-choosing row-wise multi-threading, the overhead of testing was 0.050981 seconds.\n",
      "You can set `force_row_wise=true` to remove the overhead.\n",
      "And if memory is not enough, you can set `force_col_wise=true`.\n",
      "[LightGBM] [Info] Total Bins 9206\n",
      "[LightGBM] [Info] Number of data points in the train set: 18546, number of used features: 459\n",
      "[LightGBM] [Info] [binary:BoostFromScore]: pavg=0.491265 -> initscore=-0.034944\n",
      "[LightGBM] [Info] Start training from score -0.034944\n",
      "[LightGBM] [Info] Number of positive: 9111, number of negative: 9434\n",
      "[LightGBM] [Info] Auto-choosing row-wise multi-threading, the overhead of testing was 0.053552 seconds.\n",
      "You can set `force_row_wise=true` to remove the overhead.\n",
      "And if memory is not enough, you can set `force_col_wise=true`.\n",
      "[LightGBM] [Info] Total Bins 9343\n",
      "[LightGBM] [Info] Number of data points in the train set: 18545, number of used features: 472\n",
      "[LightGBM] [Info] [binary:BoostFromScore]: pavg=0.491291 -> initscore=-0.034838\n",
      "[LightGBM] [Info] Start training from score -0.034838\n",
      "[LightGBM] [Info] Number of positive: 9111, number of negative: 9434\n",
      "[LightGBM] [Info] Auto-choosing row-wise multi-threading, the overhead of testing was 0.052937 seconds.\n",
      "You can set `force_row_wise=true` to remove the overhead.\n",
      "And if memory is not enough, you can set `force_col_wise=true`.\n",
      "[LightGBM] [Info] Total Bins 9264\n",
      "[LightGBM] [Info] Number of data points in the train set: 18545, number of used features: 470\n",
      "[LightGBM] [Info] [binary:BoostFromScore]: pavg=0.491291 -> initscore=-0.034838\n",
      "[LightGBM] [Info] Start training from score -0.034838\n",
      "[LightGBM] [Info] Number of positive: 9112, number of negative: 9434\n",
      "[LightGBM] [Info] Auto-choosing row-wise multi-threading, the overhead of testing was 0.051843 seconds.\n",
      "You can set `force_row_wise=true` to remove the overhead.\n",
      "And if memory is not enough, you can set `force_col_wise=true`.\n",
      "[LightGBM] [Info] Total Bins 9352\n",
      "[LightGBM] [Info] Number of data points in the train set: 18546, number of used features: 470\n",
      "[LightGBM] [Info] [binary:BoostFromScore]: pavg=0.491319 -> initscore=-0.034728\n",
      "[LightGBM] [Info] Start training from score -0.034728\n",
      "[LightGBM] [Info] Number of positive: 9111, number of negative: 9435\n",
      "[LightGBM] [Info] Auto-choosing row-wise multi-threading, the overhead of testing was 0.052259 seconds.\n",
      "You can set `force_row_wise=true` to remove the overhead.\n",
      "And if memory is not enough, you can set `force_col_wise=true`.\n",
      "[LightGBM] [Info] Total Bins 9351\n",
      "[LightGBM] [Info] Number of data points in the train set: 18546, number of used features: 475\n",
      "[LightGBM] [Info] [binary:BoostFromScore]: pavg=0.491265 -> initscore=-0.034944\n",
      "[LightGBM] [Info] Start training from score -0.034944\n",
      "[LightGBM] [Info] Number of positive: 9111, number of negative: 9435\n",
      "[LightGBM] [Info] Auto-choosing col-wise multi-threading, the overhead of testing was 0.050860 seconds.\n",
      "You can set `force_col_wise=true` to remove the overhead.\n",
      "[LightGBM] [Info] Total Bins 9206\n",
      "[LightGBM] [Info] Number of data points in the train set: 18546, number of used features: 459\n",
      "[LightGBM] [Info] [binary:BoostFromScore]: pavg=0.491265 -> initscore=-0.034944\n",
      "[LightGBM] [Info] Start training from score -0.034944\n",
      "[LightGBM] [Info] Number of positive: 9111, number of negative: 9434\n",
      "[LightGBM] [Info] Auto-choosing row-wise multi-threading, the overhead of testing was 0.052309 seconds.\n",
      "You can set `force_row_wise=true` to remove the overhead.\n",
      "And if memory is not enough, you can set `force_col_wise=true`.\n",
      "[LightGBM] [Info] Total Bins 9343\n",
      "[LightGBM] [Info] Number of data points in the train set: 18545, number of used features: 472\n",
      "[LightGBM] [Info] [binary:BoostFromScore]: pavg=0.491291 -> initscore=-0.034838\n",
      "[LightGBM] [Info] Start training from score -0.034838\n",
      "[LightGBM] [Info] Number of positive: 9111, number of negative: 9434\n",
      "[LightGBM] [Info] Auto-choosing row-wise multi-threading, the overhead of testing was 0.055247 seconds.\n",
      "You can set `force_row_wise=true` to remove the overhead.\n",
      "And if memory is not enough, you can set `force_col_wise=true`.\n",
      "[LightGBM] [Info] Total Bins 9264\n",
      "[LightGBM] [Info] Number of data points in the train set: 18545, number of used features: 470\n",
      "[LightGBM] [Info] [binary:BoostFromScore]: pavg=0.491291 -> initscore=-0.034838\n",
      "[LightGBM] [Info] Start training from score -0.034838\n",
      "[LightGBM] [Info] Number of positive: 9112, number of negative: 9434\n",
      "[LightGBM] [Info] Auto-choosing row-wise multi-threading, the overhead of testing was 0.052097 seconds.\n",
      "You can set `force_row_wise=true` to remove the overhead.\n",
      "And if memory is not enough, you can set `force_col_wise=true`.\n",
      "[LightGBM] [Info] Total Bins 9352\n",
      "[LightGBM] [Info] Number of data points in the train set: 18546, number of used features: 470\n",
      "[LightGBM] [Info] [binary:BoostFromScore]: pavg=0.491319 -> initscore=-0.034728\n",
      "[LightGBM] [Info] Start training from score -0.034728\n",
      "[LightGBM] [Info] Number of positive: 9111, number of negative: 9435\n",
      "[LightGBM] [Info] Auto-choosing row-wise multi-threading, the overhead of testing was 0.053186 seconds.\n",
      "You can set `force_row_wise=true` to remove the overhead.\n",
      "And if memory is not enough, you can set `force_col_wise=true`.\n",
      "[LightGBM] [Info] Total Bins 9351\n",
      "[LightGBM] [Info] Number of data points in the train set: 18546, number of used features: 475\n",
      "[LightGBM] [Info] [binary:BoostFromScore]: pavg=0.491265 -> initscore=-0.034944\n",
      "[LightGBM] [Info] Start training from score -0.034944\n",
      "[LightGBM] [Info] Number of positive: 9111, number of negative: 9435\n",
      "[LightGBM] [Info] Auto-choosing row-wise multi-threading, the overhead of testing was 0.050880 seconds.\n",
      "You can set `force_row_wise=true` to remove the overhead.\n",
      "And if memory is not enough, you can set `force_col_wise=true`.\n",
      "[LightGBM] [Info] Total Bins 9206\n",
      "[LightGBM] [Info] Number of data points in the train set: 18546, number of used features: 459\n",
      "[LightGBM] [Info] [binary:BoostFromScore]: pavg=0.491265 -> initscore=-0.034944\n",
      "[LightGBM] [Info] Start training from score -0.034944\n",
      "[LightGBM] [Info] Number of positive: 9111, number of negative: 9434\n",
      "[LightGBM] [Info] Auto-choosing row-wise multi-threading, the overhead of testing was 0.052165 seconds.\n",
      "You can set `force_row_wise=true` to remove the overhead.\n",
      "And if memory is not enough, you can set `force_col_wise=true`.\n",
      "[LightGBM] [Info] Total Bins 9343\n",
      "[LightGBM] [Info] Number of data points in the train set: 18545, number of used features: 472\n",
      "[LightGBM] [Info] [binary:BoostFromScore]: pavg=0.491291 -> initscore=-0.034838\n",
      "[LightGBM] [Info] Start training from score -0.034838\n",
      "[LightGBM] [Info] Number of positive: 9111, number of negative: 9434\n",
      "[LightGBM] [Info] Auto-choosing row-wise multi-threading, the overhead of testing was 0.052499 seconds.\n",
      "You can set `force_row_wise=true` to remove the overhead.\n",
      "And if memory is not enough, you can set `force_col_wise=true`.\n",
      "[LightGBM] [Info] Total Bins 9264\n",
      "[LightGBM] [Info] Number of data points in the train set: 18545, number of used features: 470\n",
      "[LightGBM] [Info] [binary:BoostFromScore]: pavg=0.491291 -> initscore=-0.034838\n",
      "[LightGBM] [Info] Start training from score -0.034838\n",
      "[LightGBM] [Info] Number of positive: 9112, number of negative: 9434\n",
      "[LightGBM] [Info] Auto-choosing row-wise multi-threading, the overhead of testing was 0.051948 seconds.\n",
      "You can set `force_row_wise=true` to remove the overhead.\n",
      "And if memory is not enough, you can set `force_col_wise=true`.\n",
      "[LightGBM] [Info] Total Bins 9352\n",
      "[LightGBM] [Info] Number of data points in the train set: 18546, number of used features: 470\n",
      "[LightGBM] [Info] [binary:BoostFromScore]: pavg=0.491319 -> initscore=-0.034728\n",
      "[LightGBM] [Info] Start training from score -0.034728\n",
      "[LightGBM] [Info] Number of positive: 9111, number of negative: 9435\n",
      "[LightGBM] [Info] Auto-choosing row-wise multi-threading, the overhead of testing was 0.052731 seconds.\n",
      "You can set `force_row_wise=true` to remove the overhead.\n",
      "And if memory is not enough, you can set `force_col_wise=true`.\n",
      "[LightGBM] [Info] Total Bins 9351\n",
      "[LightGBM] [Info] Number of data points in the train set: 18546, number of used features: 475\n",
      "[LightGBM] [Info] [binary:BoostFromScore]: pavg=0.491265 -> initscore=-0.034944\n",
      "[LightGBM] [Info] Start training from score -0.034944\n",
      "[LightGBM] [Info] Number of positive: 9111, number of negative: 9435\n",
      "[LightGBM] [Info] Auto-choosing row-wise multi-threading, the overhead of testing was 0.051621 seconds.\n",
      "You can set `force_row_wise=true` to remove the overhead.\n",
      "And if memory is not enough, you can set `force_col_wise=true`.\n",
      "[LightGBM] [Info] Total Bins 9206\n",
      "[LightGBM] [Info] Number of data points in the train set: 18546, number of used features: 459\n",
      "[LightGBM] [Info] [binary:BoostFromScore]: pavg=0.491265 -> initscore=-0.034944\n",
      "[LightGBM] [Info] Start training from score -0.034944\n",
      "[LightGBM] [Info] Number of positive: 9111, number of negative: 9434\n",
      "[LightGBM] [Info] Auto-choosing col-wise multi-threading, the overhead of testing was 0.052482 seconds.\n",
      "You can set `force_col_wise=true` to remove the overhead.\n",
      "[LightGBM] [Info] Total Bins 9343\n",
      "[LightGBM] [Info] Number of data points in the train set: 18545, number of used features: 472\n",
      "[LightGBM] [Info] [binary:BoostFromScore]: pavg=0.491291 -> initscore=-0.034838\n",
      "[LightGBM] [Info] Start training from score -0.034838\n",
      "[LightGBM] [Info] Number of positive: 9111, number of negative: 9434\n",
      "[LightGBM] [Info] Auto-choosing row-wise multi-threading, the overhead of testing was 0.052661 seconds.\n",
      "You can set `force_row_wise=true` to remove the overhead.\n",
      "And if memory is not enough, you can set `force_col_wise=true`.\n",
      "[LightGBM] [Info] Total Bins 9264\n",
      "[LightGBM] [Info] Number of data points in the train set: 18545, number of used features: 470\n",
      "[LightGBM] [Info] [binary:BoostFromScore]: pavg=0.491291 -> initscore=-0.034838\n",
      "[LightGBM] [Info] Start training from score -0.034838\n",
      "[LightGBM] [Info] Number of positive: 9112, number of negative: 9434\n",
      "[LightGBM] [Info] Auto-choosing row-wise multi-threading, the overhead of testing was 0.052718 seconds.\n",
      "You can set `force_row_wise=true` to remove the overhead.\n",
      "And if memory is not enough, you can set `force_col_wise=true`.\n",
      "[LightGBM] [Info] Total Bins 9352\n",
      "[LightGBM] [Info] Number of data points in the train set: 18546, number of used features: 470\n",
      "[LightGBM] [Info] [binary:BoostFromScore]: pavg=0.491319 -> initscore=-0.034728\n",
      "[LightGBM] [Info] Start training from score -0.034728\n",
      "[LightGBM] [Info] Number of positive: 9111, number of negative: 9435\n",
      "[LightGBM] [Info] Auto-choosing row-wise multi-threading, the overhead of testing was 0.053071 seconds.\n",
      "You can set `force_row_wise=true` to remove the overhead.\n",
      "And if memory is not enough, you can set `force_col_wise=true`.\n",
      "[LightGBM] [Info] Total Bins 9351\n",
      "[LightGBM] [Info] Number of data points in the train set: 18546, number of used features: 475\n",
      "[LightGBM] [Info] [binary:BoostFromScore]: pavg=0.491265 -> initscore=-0.034944\n",
      "[LightGBM] [Info] Start training from score -0.034944\n",
      "[LightGBM] [Info] Number of positive: 9111, number of negative: 9435\n",
      "[LightGBM] [Info] Auto-choosing row-wise multi-threading, the overhead of testing was 0.051425 seconds.\n",
      "You can set `force_row_wise=true` to remove the overhead.\n",
      "And if memory is not enough, you can set `force_col_wise=true`.\n",
      "[LightGBM] [Info] Total Bins 9206\n",
      "[LightGBM] [Info] Number of data points in the train set: 18546, number of used features: 459\n",
      "[LightGBM] [Info] [binary:BoostFromScore]: pavg=0.491265 -> initscore=-0.034944\n",
      "[LightGBM] [Info] Start training from score -0.034944\n",
      "[LightGBM] [Info] Number of positive: 9111, number of negative: 9434\n",
      "[LightGBM] [Info] Auto-choosing row-wise multi-threading, the overhead of testing was 0.052384 seconds.\n",
      "You can set `force_row_wise=true` to remove the overhead.\n",
      "And if memory is not enough, you can set `force_col_wise=true`.\n",
      "[LightGBM] [Info] Total Bins 9343\n",
      "[LightGBM] [Info] Number of data points in the train set: 18545, number of used features: 472\n",
      "[LightGBM] [Info] [binary:BoostFromScore]: pavg=0.491291 -> initscore=-0.034838\n",
      "[LightGBM] [Info] Start training from score -0.034838\n",
      "[LightGBM] [Info] Number of positive: 9111, number of negative: 9434\n",
      "[LightGBM] [Info] Auto-choosing row-wise multi-threading, the overhead of testing was 0.051934 seconds.\n",
      "You can set `force_row_wise=true` to remove the overhead.\n",
      "And if memory is not enough, you can set `force_col_wise=true`.\n",
      "[LightGBM] [Info] Total Bins 9264\n",
      "[LightGBM] [Info] Number of data points in the train set: 18545, number of used features: 470\n",
      "[LightGBM] [Info] [binary:BoostFromScore]: pavg=0.491291 -> initscore=-0.034838\n",
      "[LightGBM] [Info] Start training from score -0.034838\n",
      "[LightGBM] [Info] Number of positive: 9112, number of negative: 9434\n",
      "[LightGBM] [Info] Auto-choosing col-wise multi-threading, the overhead of testing was 0.051654 seconds.\n",
      "You can set `force_col_wise=true` to remove the overhead.\n",
      "[LightGBM] [Info] Total Bins 9352\n",
      "[LightGBM] [Info] Number of data points in the train set: 18546, number of used features: 470\n",
      "[LightGBM] [Info] [binary:BoostFromScore]: pavg=0.491319 -> initscore=-0.034728\n",
      "[LightGBM] [Info] Start training from score -0.034728\n",
      "[LightGBM] [Info] Number of positive: 9111, number of negative: 9435\n",
      "[LightGBM] [Info] Auto-choosing row-wise multi-threading, the overhead of testing was 0.053114 seconds.\n",
      "You can set `force_row_wise=true` to remove the overhead.\n",
      "And if memory is not enough, you can set `force_col_wise=true`.\n",
      "[LightGBM] [Info] Total Bins 9351\n",
      "[LightGBM] [Info] Number of data points in the train set: 18546, number of used features: 475\n",
      "[LightGBM] [Info] [binary:BoostFromScore]: pavg=0.491265 -> initscore=-0.034944\n",
      "[LightGBM] [Info] Start training from score -0.034944\n",
      "[LightGBM] [Info] Number of positive: 9111, number of negative: 9435\n",
      "[LightGBM] [Info] Auto-choosing row-wise multi-threading, the overhead of testing was 0.051118 seconds.\n",
      "You can set `force_row_wise=true` to remove the overhead.\n",
      "And if memory is not enough, you can set `force_col_wise=true`.\n",
      "[LightGBM] [Info] Total Bins 9206\n",
      "[LightGBM] [Info] Number of data points in the train set: 18546, number of used features: 459\n",
      "[LightGBM] [Info] [binary:BoostFromScore]: pavg=0.491265 -> initscore=-0.034944\n",
      "[LightGBM] [Info] Start training from score -0.034944\n",
      "[LightGBM] [Info] Number of positive: 9111, number of negative: 9434\n",
      "[LightGBM] [Info] Auto-choosing row-wise multi-threading, the overhead of testing was 0.052127 seconds.\n",
      "You can set `force_row_wise=true` to remove the overhead.\n",
      "And if memory is not enough, you can set `force_col_wise=true`.\n",
      "[LightGBM] [Info] Total Bins 9343\n",
      "[LightGBM] [Info] Number of data points in the train set: 18545, number of used features: 472\n",
      "[LightGBM] [Info] [binary:BoostFromScore]: pavg=0.491291 -> initscore=-0.034838\n",
      "[LightGBM] [Info] Start training from score -0.034838\n",
      "[LightGBM] [Info] Number of positive: 9111, number of negative: 9434\n",
      "[LightGBM] [Info] Auto-choosing row-wise multi-threading, the overhead of testing was 0.052446 seconds.\n",
      "You can set `force_row_wise=true` to remove the overhead.\n",
      "And if memory is not enough, you can set `force_col_wise=true`.\n",
      "[LightGBM] [Info] Total Bins 9264\n",
      "[LightGBM] [Info] Number of data points in the train set: 18545, number of used features: 470\n",
      "[LightGBM] [Info] [binary:BoostFromScore]: pavg=0.491291 -> initscore=-0.034838\n",
      "[LightGBM] [Info] Start training from score -0.034838\n",
      "[LightGBM] [Info] Number of positive: 9112, number of negative: 9434\n",
      "[LightGBM] [Info] Auto-choosing col-wise multi-threading, the overhead of testing was 0.051638 seconds.\n",
      "You can set `force_col_wise=true` to remove the overhead.\n",
      "[LightGBM] [Info] Total Bins 9352\n",
      "[LightGBM] [Info] Number of data points in the train set: 18546, number of used features: 470\n",
      "[LightGBM] [Info] [binary:BoostFromScore]: pavg=0.491319 -> initscore=-0.034728\n",
      "[LightGBM] [Info] Start training from score -0.034728\n",
      "[LightGBM] [Info] Number of positive: 9111, number of negative: 9435\n",
      "[LightGBM] [Info] Auto-choosing row-wise multi-threading, the overhead of testing was 0.053800 seconds.\n",
      "You can set `force_row_wise=true` to remove the overhead.\n",
      "And if memory is not enough, you can set `force_col_wise=true`.\n",
      "[LightGBM] [Info] Total Bins 9351\n",
      "[LightGBM] [Info] Number of data points in the train set: 18546, number of used features: 475\n",
      "[LightGBM] [Info] [binary:BoostFromScore]: pavg=0.491265 -> initscore=-0.034944\n",
      "[LightGBM] [Info] Start training from score -0.034944\n",
      "[LightGBM] [Info] Number of positive: 9111, number of negative: 9435\n",
      "[LightGBM] [Info] Auto-choosing row-wise multi-threading, the overhead of testing was 0.051480 seconds.\n",
      "You can set `force_row_wise=true` to remove the overhead.\n",
      "And if memory is not enough, you can set `force_col_wise=true`.\n",
      "[LightGBM] [Info] Total Bins 9206\n",
      "[LightGBM] [Info] Number of data points in the train set: 18546, number of used features: 459\n",
      "[LightGBM] [Info] [binary:BoostFromScore]: pavg=0.491265 -> initscore=-0.034944\n",
      "[LightGBM] [Info] Start training from score -0.034944\n",
      "[LightGBM] [Info] Number of positive: 11389, number of negative: 11793\n",
      "[LightGBM] [Info] Auto-choosing row-wise multi-threading, the overhead of testing was 0.088863 seconds.\n",
      "You can set `force_row_wise=true` to remove the overhead.\n",
      "And if memory is not enough, you can set `force_col_wise=true`.\n",
      "[LightGBM] [Info] Total Bins 12647\n",
      "[LightGBM] [Info] Number of data points in the train set: 23182, number of used features: 637\n",
      "[LightGBM] [Info] [binary:BoostFromScore]: pavg=0.491286 -> initscore=-0.034858\n",
      "[LightGBM] [Info] Start training from score -0.034858\n"
     ]
    },
    {
     "data": {
      "text/plain": [
       "{'boosting_type': 'gbdt',\n",
       " 'learning_rate': 0.2,\n",
       " 'metric': 'binary_logloss',\n",
       " 'n_estimators': 100,\n",
       " 'num_leaves': 31,\n",
       " 'objective': 'binary'}"
      ]
     },
     "execution_count": 56,
     "metadata": {},
     "output_type": "execute_result"
    }
   ],
   "source": [
    "from lightgbm import LGBMClassifier\n",
    "\n",
    "param_grid_ = {\n",
    "    'num_leaves': [15, 31, 63],  \n",
    "    'learning_rate': [0.01, 0.1, 0.2],\n",
    "    'n_estimators': [50, 100, 200],  \n",
    "    'boosting_type': ['gbdt'], \n",
    "    'objective': ['binary'],  \n",
    "    'metric': ['binary_logloss'],\n",
    "}\n",
    "\n",
    "lightgbm_grid = GridSearchCV(\n",
    "    estimator= LGBMClassifier(),\n",
    "    param_grid=param_grid_,\n",
    "    cv=5, \n",
    "    scoring='accuracy',\n",
    "    verbose=0,\n",
    "    n_jobs=-1  \n",
    ")\n",
    "lightgbm_grid.fit(X_train_tfidf, y_train)\n",
    "\n",
    "lightgbm_grid.best_params_"
   ]
  },
  {
   "cell_type": "code",
   "execution_count": 57,
   "id": "d5f73bda",
   "metadata": {
    "execution": {
     "iopub.execute_input": "2024-12-14T03:19:30.031829Z",
     "iopub.status.busy": "2024-12-14T03:19:30.030693Z",
     "iopub.status.idle": "2024-12-14T03:19:30.457634Z",
     "shell.execute_reply": "2024-12-14T03:19:30.456426Z"
    },
    "papermill": {
     "duration": 0.463089,
     "end_time": "2024-12-14T03:19:30.460024",
     "exception": false,
     "start_time": "2024-12-14T03:19:29.996935",
     "status": "completed"
    },
    "tags": []
   },
   "outputs": [
    {
     "name": "stdout",
     "output_type": "stream",
     "text": [
      "-------------------> lightgbm\n",
      "Accuracy: 0.68\n",
      "F1-Score for each class:\n",
      "Positive: 0.64\n",
      "Negative: 0.72\n",
      "\n",
      "Classification Report:\n",
      "              precision    recall  f1-score   support\n",
      "\n",
      "    Positive       0.75      0.56      0.64      2949\n",
      "    Negative       0.64      0.81      0.72      2847\n",
      "\n",
      "    accuracy                           0.68      5796\n",
      "   macro avg       0.70      0.69      0.68      5796\n",
      "weighted avg       0.70      0.68      0.68      5796\n",
      "\n"
     ]
    },
    {
     "data": {
      "image/png": "[encoded data removed]",
      "text/plain": [
       "<Figure size 800x600 with 2 Axes>"
      ]
     },
     "metadata": {},
     "output_type": "display_data"
    }
   ],
   "source": [
    "y_hat = lightgbm_grid.best_estimator_.predict(X_test_tfidf)\n",
    "about_model(\"lightgbm\", y_test , y_hat)"
   ]
  }
 ],
 "metadata": {
  "kaggle": {
   "accelerator": "none",
   "dataSources": [
    {
     "datasetId": 6047175,
     "sourceId": 10133321,
     "sourceType": "datasetVersion"
    },
    {
     "datasetId": 6094692,
     "sourceId": 10133387,
     "sourceType": "datasetVersion"
    }
   ],
   "isGpuEnabled": false,
   "isInternetEnabled": true,
   "language": "python",
   "sourceType": "notebook"
  },
  "kernelspec": {
   "display_name": "Python 3",
   "language": "python",
   "name": "python3"
  },
  "language_info": {
   "codemirror_mode": {
    "name": "ipython",
    "version": 3
   },
   "file_extension": ".py",
   "mimetype": "text/x-python",
   "name": "python",
   "nbconvert_exporter": "python",
   "pygments_lexer": "ipython3",
   "version": "3.10.14"
  },
  "papermill": {
   "default_parameters": {},
   "duration": 11080.234935,
   "end_time": "2024-12-14T03:19:33.111529",
   "environment_variables": {},
   "exception": null,
   "input_path": "__notebook__.ipynb",
   "output_path": "__notebook__.ipynb",
   "parameters": {},
   "start_time": "2024-12-14T00:14:52.876594",
   "version": "2.6.0"
  }
 },
 "nbformat": 4,
 "nbformat_minor": 5
}
