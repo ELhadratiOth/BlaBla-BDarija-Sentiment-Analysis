{
 "cells": [
  {
   "cell_type": "markdown",
   "id": "393e23ed",
   "metadata": {
    "papermill": {
     "duration": 0.010076,
     "end_time": "2024-12-15T14:06:09.672425",
     "exception": false,
     "start_time": "2024-12-15T14:06:09.662349",
     "status": "completed"
    },
    "tags": []
   },
   "source": [
    "# Darija Text Classification using ML Algorithms\n"
   ]
  },
  {
   "cell_type": "markdown",
   "id": "c991814b",
   "metadata": {
    "papermill": {
     "duration": 0.007743,
     "end_time": "2024-12-15T14:06:09.688386",
     "exception": false,
     "start_time": "2024-12-15T14:06:09.680643",
     "status": "completed"
    },
    "tags": []
   },
   "source": [
    "## Setup and Data Loading\n",
    "In this section, we:\n",
    "- Import required libraries\n",
    "- Load and prepare our Darija dataset\n",
    "- Set up configuration parameters"
   ]
  },
  {
   "cell_type": "code",
   "execution_count": 1,
   "id": "39cf99a8",
   "metadata": {
    "execution": {
     "iopub.execute_input": "2024-12-15T14:06:09.705635Z",
     "iopub.status.busy": "2024-12-15T14:06:09.705328Z",
     "iopub.status.idle": "2024-12-15T14:06:09.724263Z",
     "shell.execute_reply": "2024-12-15T14:06:09.722895Z"
    },
    "papermill": {
     "duration": 0.030085,
     "end_time": "2024-12-15T14:06:09.726377",
     "exception": false,
     "start_time": "2024-12-15T14:06:09.696292",
     "status": "completed"
    },
    "tags": []
   },
   "outputs": [
    {
     "name": "stdout",
     "output_type": "stream",
     "text": [
      "Current working directory: /kaggle/input/ma-datasets\n",
      "Directory contents: ['suf_pref_darija.json', 'stop_words_accum.json', 'set2.csv', 'set7.csv', 'set5.csv', 'darija_latin_ref.json', 'set4.csv', 'scaped_comments.csv', 'set3.csv', 'cleaned_clustered_data.csv', 'set1.csv']\n"
     ]
    }
   ],
   "source": [
    "import os \n",
    "os.chdir('/kaggle/input/ma-datasets') \n",
    "current_directory = os.getcwd()\n",
    "print(\"Current working directory:\", current_directory)\n",
    "contents = os.listdir()\n",
    "print(\"Directory contents:\", contents)"
   ]
  },
  {
   "cell_type": "code",
   "execution_count": 2,
   "id": "8956230e",
   "metadata": {
    "execution": {
     "iopub.execute_input": "2024-12-15T14:06:09.744366Z",
     "iopub.status.busy": "2024-12-15T14:06:09.744086Z",
     "iopub.status.idle": "2024-12-15T14:06:22.331998Z",
     "shell.execute_reply": "2024-12-15T14:06:22.331014Z"
    },
    "papermill": {
     "duration": 12.599192,
     "end_time": "2024-12-15T14:06:22.334021",
     "exception": false,
     "start_time": "2024-12-15T14:06:09.734829",
     "status": "completed"
    },
    "tags": []
   },
   "outputs": [
    {
     "name": "stdout",
     "output_type": "stream",
     "text": [
      "Requirement already satisfied: pandas in /opt/conda/lib/python3.10/site-packages (2.2.3)\r\n",
      "Requirement already satisfied: PyArabic in /opt/conda/lib/python3.10/site-packages (0.6.15)\r\n",
      "Collecting Tashaphyne\r\n",
      "  Downloading Tashaphyne-0.3.6-py3-none-any.whl.metadata (18 kB)\r\n",
      "Collecting pydoda\r\n",
      "  Downloading pydoda-1.2.1-py3-none-any.whl.metadata (5.8 kB)\r\n",
      "Collecting Arabic-Stopwords\r\n",
      "  Downloading Arabic_Stopwords-0.4.3-py3-none-any.whl.metadata (8.9 kB)\r\n",
      "Requirement already satisfied: seaborn in /opt/conda/lib/python3.10/site-packages (0.12.2)\r\n",
      "Requirement already satisfied: scikit-learn in /opt/conda/lib/python3.10/site-packages (1.2.2)\r\n",
      "Requirement already satisfied: emoji in /opt/conda/lib/python3.10/site-packages (2.14.0)\r\n",
      "Requirement already satisfied: xgboost in /opt/conda/lib/python3.10/site-packages (2.0.3)\r\n",
      "Requirement already satisfied: lightgbm in /opt/conda/lib/python3.10/site-packages (4.2.0)\r\n",
      "Requirement already satisfied: numpy>=1.22.4 in /opt/conda/lib/python3.10/site-packages (from pandas) (1.26.4)\r\n",
      "Requirement already satisfied: python-dateutil>=2.8.2 in /opt/conda/lib/python3.10/site-packages (from pandas) (2.9.0.post0)\r\n",
      "Requirement already satisfied: pytz>=2020.1 in /opt/conda/lib/python3.10/site-packages (from pandas) (2024.1)\r\n",
      "Requirement already satisfied: tzdata>=2022.7 in /opt/conda/lib/python3.10/site-packages (from pandas) (2024.1)\r\n",
      "Requirement already satisfied: six>=1.14.0 in /opt/conda/lib/python3.10/site-packages (from PyArabic) (1.16.0)\r\n",
      "Requirement already satisfied: matplotlib!=3.6.1,>=3.1 in /opt/conda/lib/python3.10/site-packages (from seaborn) (3.7.5)\r\n",
      "Requirement already satisfied: scipy>=1.3.2 in /opt/conda/lib/python3.10/site-packages (from scikit-learn) (1.14.1)\r\n",
      "Requirement already satisfied: joblib>=1.1.1 in /opt/conda/lib/python3.10/site-packages (from scikit-learn) (1.4.2)\r\n",
      "Requirement already satisfied: threadpoolctl>=2.0.0 in /opt/conda/lib/python3.10/site-packages (from scikit-learn) (3.5.0)\r\n",
      "Requirement already satisfied: contourpy>=1.0.1 in /opt/conda/lib/python3.10/site-packages (from matplotlib!=3.6.1,>=3.1->seaborn) (1.2.1)\r\n",
      "Requirement already satisfied: cycler>=0.10 in /opt/conda/lib/python3.10/site-packages (from matplotlib!=3.6.1,>=3.1->seaborn) (0.12.1)\r\n",
      "Requirement already satisfied: fonttools>=4.22.0 in /opt/conda/lib/python3.10/site-packages (from matplotlib!=3.6.1,>=3.1->seaborn) (4.53.0)\r\n",
      "Requirement already satisfied: kiwisolver>=1.0.1 in /opt/conda/lib/python3.10/site-packages (from matplotlib!=3.6.1,>=3.1->seaborn) (1.4.5)\r\n",
      "Requirement already satisfied: packaging>=20.0 in /opt/conda/lib/python3.10/site-packages (from matplotlib!=3.6.1,>=3.1->seaborn) (21.3)\r\n",
      "Requirement already satisfied: pillow>=6.2.0 in /opt/conda/lib/python3.10/site-packages (from matplotlib!=3.6.1,>=3.1->seaborn) (10.3.0)\r\n",
      "Requirement already satisfied: pyparsing>=2.3.1 in /opt/conda/lib/python3.10/site-packages (from matplotlib!=3.6.1,>=3.1->seaborn) (3.1.2)\r\n",
      "Downloading Tashaphyne-0.3.6-py3-none-any.whl (251 kB)\r\n",
      "\u001b[2K   \u001b[90m━━━━━━━━━━━━━━━━━━━━━━━━━━━━━━━━━━━━━━━━\u001b[0m \u001b[32m251.5/251.5 kB\u001b[0m \u001b[31m4.9 MB/s\u001b[0m eta \u001b[36m0:00:00\u001b[0m\r\n",
      "\u001b[?25hDownloading pydoda-1.2.1-py3-none-any.whl (4.1 MB)\r\n",
      "\u001b[2K   \u001b[90m━━━━━━━━━━━━━━━━━━━━━━━━━━━━━━━━━━━━━━━━\u001b[0m \u001b[32m4.1/4.1 MB\u001b[0m \u001b[31m42.3 MB/s\u001b[0m eta \u001b[36m0:00:00\u001b[0m\r\n",
      "\u001b[?25hDownloading Arabic_Stopwords-0.4.3-py3-none-any.whl (360 kB)\r\n",
      "\u001b[2K   \u001b[90m━━━━━━━━━━━━━━━━━━━━━━━━━━━━━━━━━━━━━━━━\u001b[0m \u001b[32m360.5/360.5 kB\u001b[0m \u001b[31m12.9 MB/s\u001b[0m eta \u001b[36m0:00:00\u001b[0m\r\n",
      "\u001b[?25hInstalling collected packages: Tashaphyne, Arabic-Stopwords, pydoda\r\n",
      "Successfully installed Arabic-Stopwords-0.4.3 Tashaphyne-0.3.6 pydoda-1.2.1\r\n"
     ]
    }
   ],
   "source": [
    "!pip install pandas PyArabic Tashaphyne pydoda Arabic-Stopwords seaborn scikit-learn emoji xgboost lightgbm "
   ]
  },
  {
   "cell_type": "code",
   "execution_count": 3,
   "id": "76a0bb31",
   "metadata": {
    "execution": {
     "iopub.execute_input": "2024-12-15T14:06:22.353209Z",
     "iopub.status.busy": "2024-12-15T14:06:22.352873Z",
     "iopub.status.idle": "2024-12-15T14:06:25.404291Z",
     "shell.execute_reply": "2024-12-15T14:06:25.402985Z"
    },
    "papermill": {
     "duration": 3.063309,
     "end_time": "2024-12-15T14:06:25.406241",
     "exception": false,
     "start_time": "2024-12-15T14:06:22.342932",
     "status": "completed"
    },
    "tags": []
   },
   "outputs": [],
   "source": [
    "import pandas as pd\n",
    "from sklearn.model_selection import GridSearchCV\n",
    "import re\n",
    "from tashaphyne.stemming import ArabicLightStemmer\n",
    "import json\n",
    "import emoji \n"
   ]
  },
  {
   "cell_type": "code",
   "execution_count": 4,
   "id": "fd786857",
   "metadata": {
    "execution": {
     "iopub.execute_input": "2024-12-15T14:06:25.425347Z",
     "iopub.status.busy": "2024-12-15T14:06:25.424888Z",
     "iopub.status.idle": "2024-12-15T14:06:25.718593Z",
     "shell.execute_reply": "2024-12-15T14:06:25.717533Z"
    },
    "papermill": {
     "duration": 0.305356,
     "end_time": "2024-12-15T14:06:25.720522",
     "exception": false,
     "start_time": "2024-12-15T14:06:25.415166",
     "status": "completed"
    },
    "tags": []
   },
   "outputs": [],
   "source": [
    "df = pd.read_csv(\"/kaggle/input/dataset/dataset (16).csv\")"
   ]
  },
  {
   "cell_type": "markdown",
   "id": "a81a8a63",
   "metadata": {
    "papermill": {
     "duration": 0.008526,
     "end_time": "2024-12-15T14:06:25.738049",
     "exception": false,
     "start_time": "2024-12-15T14:06:25.729523",
     "status": "completed"
    },
    "tags": []
   },
   "source": [
    "## Data Preprocessing\n",
    "Key preprocessing steps for Darija text:\n",
    "- Text cleaning and normalization\n",
    "- Feature extraction\n",
    "- Train-test split\n"
   ]
  },
  {
   "cell_type": "code",
   "execution_count": 5,
   "id": "2929a46c",
   "metadata": {
    "execution": {
     "iopub.execute_input": "2024-12-15T14:06:25.756893Z",
     "iopub.status.busy": "2024-12-15T14:06:25.756555Z",
     "iopub.status.idle": "2024-12-15T14:06:25.764091Z",
     "shell.execute_reply": "2024-12-15T14:06:25.763130Z"
    },
    "papermill": {
     "duration": 0.019385,
     "end_time": "2024-12-15T14:06:25.766202",
     "exception": false,
     "start_time": "2024-12-15T14:06:25.746817",
     "status": "completed"
    },
    "tags": []
   },
   "outputs": [],
   "source": [
    "darija_alphabet = {\n",
    "    \"gh\": \"غ\",\n",
    "    \"sh\": \"ش\",\n",
    "    \"ch\": \"ش\",\n",
    "    \"ss\": \"س\",\n",
    "    \"kh\": \"خ\",\n",
    "    \"ç\": \"س\",\n",
    "    \"ou\": \"و\",    \n",
    "    \"ei\": \"ي\",    \n",
    "    \"ay\": \"ي\",    \n",
    "    \"ae\": \"ي\",   \n",
    "    \"5\": \"خ\",     \n",
    "    \"2\": \"ا\",    \n",
    "    \"b\": \"ب\",\n",
    "    \"t\": \"ت\",\n",
    "    \"j\": \"ج\",\n",
    "    \"7\": \"ح\",\n",
    "    \"d\": \"د\",\n",
    "    \"r\": \"ر\",\n",
    "    \"z\": \"ز\",\n",
    "    \"s\": \"س\",\n",
    "    \"9\": \"ق\",\n",
    "    \"3\": \"ع\",\n",
    "    \"4\": \"غ\",\n",
    "    \"f\": \"ف\",\n",
    "    \"q\": \"ك\",\n",
    "    \"k\": \"ك\",\n",
    "    \"l\": \"ل\",\n",
    "    \"m\": \"م\",\n",
    "    \"n\": \"ن\",\n",
    "    \"h\": \"ه\",\n",
    "    \"w\": \"و\",\n",
    "    \"y\": \"ي\",\n",
    "    \"g\": \"ڭ\",\n",
    "    'i': 'ي',\n",
    "    'ee': 'ي',\n",
    "    'aa': 'ا',\n",
    "    'oo': 'و',\n",
    "    'o': 'و',\n",
    "    \"x\": \"ش\",\n",
    "}\n",
    "word_in = [\n",
    "    \"ء\", \"أ\", \"إ\", \"آ\", \"ؤ\", \"ئ\", \"ة\", \"ى\",\"-\", \"/\", \".\", \"،\", '\"', \"'\", \"\\\\\", \"?\", \"؟\", \"!\", \"،\", \"؛\",\":\",\"#\", \"@\", \"&\", \"=\", \"¥\", \"$\", \"%\", \"*\", \"+\", \"<\", \">\", \"|\", \"~\", \"^\", \n",
    "    \"\\n\", \"\\t\", \"\\r\", \" و\",\"ذ\", \"ظ\", \"ض\", \"ص\",\"(\", \")\", \"[\", \"]\", \"{\", \"}\", \"《\", \"》\", \"«\", \"»\"\n",
    "]\n",
    "\n",
    "replaced_by = [\n",
    "    \"ا\", \"ا\", \"ا\", \"ا\", \"ا\", \"ا\", \"ه\", \"ي\",\" \", \"\", \"\", \"\", \"\", \"\", \"\", \" ? \", \" ؟ \", \" ! \", \"\", \"\", \"\",\n",
    "    \"\", \"\", \"\", \"\", \"\", \"\", \"\", \"\", \"\", \"\", \"\", \"\", \"\", \"\",\" \", \" \", \" \", \"\",\n",
    "    \"د\", \"د\", \"د\", \"س\",\"\", \"\", \"\", \"\", \"\", \"\", \"\", \"\", \"\", \"\"\n",
    "]\n",
    "\n",
    "arabic_alphabet = \"ابتثجحخدذرزسشصضطظعغفقكلمنهوي\""
   ]
  },
  {
   "cell_type": "code",
   "execution_count": 6,
   "id": "75e7f26d",
   "metadata": {
    "execution": {
     "iopub.execute_input": "2024-12-15T14:06:25.784717Z",
     "iopub.status.busy": "2024-12-15T14:06:25.784391Z",
     "iopub.status.idle": "2024-12-15T14:06:25.789118Z",
     "shell.execute_reply": "2024-12-15T14:06:25.787943Z"
    },
    "papermill": {
     "duration": 0.016421,
     "end_time": "2024-12-15T14:06:25.791333",
     "exception": false,
     "start_time": "2024-12-15T14:06:25.774912",
     "status": "completed"
    },
    "tags": []
   },
   "outputs": [],
   "source": [
    "from pyarabic.araby import strip_diacritics\n",
    "#remove tashkeel\n",
    "def removing_tashkeel(word): # useed\n",
    "          return strip_diacritics(word)"
   ]
  },
  {
   "cell_type": "code",
   "execution_count": 7,
   "id": "095d55de",
   "metadata": {
    "execution": {
     "iopub.execute_input": "2024-12-15T14:06:25.810247Z",
     "iopub.status.busy": "2024-12-15T14:06:25.809906Z",
     "iopub.status.idle": "2024-12-15T14:06:25.814546Z",
     "shell.execute_reply": "2024-12-15T14:06:25.813311Z"
    },
    "papermill": {
     "duration": 0.016214,
     "end_time": "2024-12-15T14:06:25.816568",
     "exception": false,
     "start_time": "2024-12-15T14:06:25.800354",
     "status": "completed"
    },
    "tags": []
   },
   "outputs": [],
   "source": [
    "from pyarabic.araby import strip_tatweel\n",
    "\n",
    "#remove tatweel l2imdad\n",
    "def removing_tatweel(word): # useed\n",
    "          return strip_tatweel(word)"
   ]
  },
  {
   "cell_type": "code",
   "execution_count": 8,
   "id": "1b7f1600",
   "metadata": {
    "execution": {
     "iopub.execute_input": "2024-12-15T14:06:25.836849Z",
     "iopub.status.busy": "2024-12-15T14:06:25.836505Z",
     "iopub.status.idle": "2024-12-15T14:06:25.841370Z",
     "shell.execute_reply": "2024-12-15T14:06:25.840452Z"
    },
    "papermill": {
     "duration": 0.017189,
     "end_time": "2024-12-15T14:06:25.843198",
     "exception": false,
     "start_time": "2024-12-15T14:06:25.826009",
     "status": "completed"
    },
    "tags": []
   },
   "outputs": [],
   "source": [
    "from pyarabic.araby import normalize_ligature\n",
    "\n",
    "#remove ligature hamza , alef \n",
    "def removing_ligature(word): # not used \n",
    "          return normalize_ligature(word)"
   ]
  },
  {
   "cell_type": "code",
   "execution_count": 9,
   "id": "2468fab0",
   "metadata": {
    "execution": {
     "iopub.execute_input": "2024-12-15T14:06:25.863133Z",
     "iopub.status.busy": "2024-12-15T14:06:25.862848Z",
     "iopub.status.idle": "2024-12-15T14:06:25.867787Z",
     "shell.execute_reply": "2024-12-15T14:06:25.866483Z"
    },
    "papermill": {
     "duration": 0.017553,
     "end_time": "2024-12-15T14:06:25.869714",
     "exception": false,
     "start_time": "2024-12-15T14:06:25.852161",
     "status": "completed"
    },
    "tags": []
   },
   "outputs": [],
   "source": [
    "# remove underscore\n",
    "def replace_underscore(word): # useed\n",
    "          return word.replace(\"_\", \" \")"
   ]
  },
  {
   "cell_type": "code",
   "execution_count": 10,
   "id": "4df16c00",
   "metadata": {
    "execution": {
     "iopub.execute_input": "2024-12-15T14:06:25.889145Z",
     "iopub.status.busy": "2024-12-15T14:06:25.888835Z",
     "iopub.status.idle": "2024-12-15T14:06:25.893344Z",
     "shell.execute_reply": "2024-12-15T14:06:25.892519Z"
    },
    "papermill": {
     "duration": 0.016801,
     "end_time": "2024-12-15T14:06:25.895334",
     "exception": false,
     "start_time": "2024-12-15T14:06:25.878533",
     "status": "completed"
    },
    "tags": []
   },
   "outputs": [],
   "source": [
    "import pyarabic.araby as araby\n",
    "\n",
    "# remove hamza ambiguity\n",
    "def remove_ambiguity_hamza(word): # useed\n",
    "          return araby.normalize_hamza(word)"
   ]
  },
  {
   "cell_type": "code",
   "execution_count": 11,
   "id": "cfb0685d",
   "metadata": {
    "execution": {
     "iopub.execute_input": "2024-12-15T14:06:25.915606Z",
     "iopub.status.busy": "2024-12-15T14:06:25.915023Z",
     "iopub.status.idle": "2024-12-15T14:06:25.919582Z",
     "shell.execute_reply": "2024-12-15T14:06:25.918586Z"
    },
    "papermill": {
     "duration": 0.017069,
     "end_time": "2024-12-15T14:06:25.921606",
     "exception": false,
     "start_time": "2024-12-15T14:06:25.904537",
     "status": "completed"
    },
    "tags": []
   },
   "outputs": [],
   "source": [
    "# romove \"AL\"\n",
    "def remove_AL(word): # useed\n",
    "          return re.sub(r'^ال', '', word)"
   ]
  },
  {
   "cell_type": "code",
   "execution_count": 12,
   "id": "7211507a",
   "metadata": {
    "execution": {
     "iopub.execute_input": "2024-12-15T14:06:25.940931Z",
     "iopub.status.busy": "2024-12-15T14:06:25.940585Z",
     "iopub.status.idle": "2024-12-15T14:06:25.946866Z",
     "shell.execute_reply": "2024-12-15T14:06:25.945925Z"
    },
    "papermill": {
     "duration": 0.017663,
     "end_time": "2024-12-15T14:06:25.948297",
     "exception": false,
     "start_time": "2024-12-15T14:06:25.930634",
     "status": "completed"
    },
    "tags": []
   },
   "outputs": [],
   "source": [
    "# remove repeated characters      \n",
    "def word_remover(word): # useed\n",
    "            if len(word) == 1 or len(word) == 0 or len(word) >= 13:\n",
    "                return \"\"                \n",
    "            else :\n",
    "                # print(word)\n",
    "                for a7rf in arabic_alphabet:\n",
    "                    if a7rf == 'د' or a7rf == 'ه':\n",
    "                        word = re.sub(fr'{a7rf}{{3,}}', a7rf * 2, word).strip()\n",
    "                    else:\n",
    "                        word = re.sub(fr'{a7rf}+', a7rf, word).strip()\n",
    "                # print(word) \n",
    "                for i in range(len(word)):\n",
    "                    if word[i] in word_in:\n",
    "                        index = word_in.index(word[i])\n",
    "                        word = word[:i] + replaced_by[index] + word[i + 1:]\n",
    "\n",
    "                return word\n"
   ]
  },
  {
   "cell_type": "code",
   "execution_count": 13,
   "id": "397f0a58",
   "metadata": {
    "execution": {
     "iopub.execute_input": "2024-12-15T14:06:25.968306Z",
     "iopub.status.busy": "2024-12-15T14:06:25.967999Z",
     "iopub.status.idle": "2024-12-15T14:06:25.971696Z",
     "shell.execute_reply": "2024-12-15T14:06:25.971112Z"
    },
    "papermill": {
     "duration": 0.016124,
     "end_time": "2024-12-15T14:06:25.973317",
     "exception": false,
     "start_time": "2024-12-15T14:06:25.957193",
     "status": "completed"
    },
    "tags": []
   },
   "outputs": [],
   "source": [
    "# remove emails  \n",
    "def remove_url(text): # useed\n",
    "    text = re.sub(r'(https|http)?:\\/\\/(\\w|\\.|\\/|\\?|\\=|\\&|\\%)*\\b',\n",
    "                  '', text, flags=re.MULTILINE)\n",
    "    return text      \n",
    " "
   ]
  },
  {
   "cell_type": "code",
   "execution_count": 14,
   "id": "0b51bb37",
   "metadata": {
    "execution": {
     "iopub.execute_input": "2024-12-15T14:06:25.992812Z",
     "iopub.status.busy": "2024-12-15T14:06:25.992491Z",
     "iopub.status.idle": "2024-12-15T14:06:25.996664Z",
     "shell.execute_reply": "2024-12-15T14:06:25.995892Z"
    },
    "papermill": {
     "duration": 0.015798,
     "end_time": "2024-12-15T14:06:25.998195",
     "exception": false,
     "start_time": "2024-12-15T14:06:25.982397",
     "status": "completed"
    },
    "tags": []
   },
   "outputs": [],
   "source": [
    " # remove emails     \n",
    "def remove_emails(text): # useed\n",
    "    text = re.sub(r'[a-zA-Z0-9._%+-]+@[a-zA-Z0-9.-]+\\.[a-zA-Z]{2,}', '', text, flags=re.MULTILINE)\n",
    "    return text  "
   ]
  },
  {
   "cell_type": "code",
   "execution_count": 15,
   "id": "1fcf188b",
   "metadata": {
    "execution": {
     "iopub.execute_input": "2024-12-15T14:06:26.017171Z",
     "iopub.status.busy": "2024-12-15T14:06:26.016838Z",
     "iopub.status.idle": "2024-12-15T14:06:26.021474Z",
     "shell.execute_reply": "2024-12-15T14:06:26.020557Z"
    },
    "papermill": {
     "duration": 0.015908,
     "end_time": "2024-12-15T14:06:26.022988",
     "exception": false,
     "start_time": "2024-12-15T14:06:26.007080",
     "status": "completed"
    },
    "tags": []
   },
   "outputs": [],
   "source": [
    "def special_tags_and_ponctuations(text):  # Function to clean special tags\n",
    "    text = re.sub(r'&amp;', '', text) \n",
    "    text = re.sub(r'&quot;', '', text)  \n",
    "    text = re.sub(r'!+', '!', text)\n",
    "    text = re.sub(r'\\?+', '?', text)\n",
    "    text = re.sub(r'\\.+', '.', text)\n",
    "\n",
    "    return text"
   ]
  },
  {
   "cell_type": "code",
   "execution_count": 16,
   "id": "c0c155f2",
   "metadata": {
    "execution": {
     "iopub.execute_input": "2024-12-15T14:06:26.041782Z",
     "iopub.status.busy": "2024-12-15T14:06:26.041430Z",
     "iopub.status.idle": "2024-12-15T14:06:26.045668Z",
     "shell.execute_reply": "2024-12-15T14:06:26.044973Z"
    },
    "papermill": {
     "duration": 0.015128,
     "end_time": "2024-12-15T14:06:26.047027",
     "exception": false,
     "start_time": "2024-12-15T14:06:26.031899",
     "status": "completed"
    },
    "tags": []
   },
   "outputs": [],
   "source": [
    "def remove_html_tags(text):\n",
    "    text = re.sub(r'<[^>]+>', '', text)\n",
    "    return text"
   ]
  },
  {
   "cell_type": "code",
   "execution_count": 17,
   "id": "3a2f5ed9",
   "metadata": {
    "execution": {
     "iopub.execute_input": "2024-12-15T14:06:26.065667Z",
     "iopub.status.busy": "2024-12-15T14:06:26.065348Z",
     "iopub.status.idle": "2024-12-15T14:06:26.069831Z",
     "shell.execute_reply": "2024-12-15T14:06:26.068945Z"
    },
    "papermill": {
     "duration": 0.015775,
     "end_time": "2024-12-15T14:06:26.071410",
     "exception": false,
     "start_time": "2024-12-15T14:06:26.055635",
     "status": "completed"
    },
    "tags": []
   },
   "outputs": [],
   "source": [
    "# hundle emojis\n",
    "def extend_spletting(items):  # helper function to split items\n",
    "    spletting = []\n",
    "    for item in items:\n",
    "        spletting.extend(item.split())\n",
    "    return spletting"
   ]
  },
  {
   "cell_type": "code",
   "execution_count": 18,
   "id": "692987cb",
   "metadata": {
    "execution": {
     "iopub.execute_input": "2024-12-15T14:06:26.091499Z",
     "iopub.status.busy": "2024-12-15T14:06:26.091201Z",
     "iopub.status.idle": "2024-12-15T14:06:26.096178Z",
     "shell.execute_reply": "2024-12-15T14:06:26.094853Z"
    },
    "papermill": {
     "duration": 0.017869,
     "end_time": "2024-12-15T14:06:26.098123",
     "exception": false,
     "start_time": "2024-12-15T14:06:26.080254",
     "status": "completed"
    },
    "tags": []
   },
   "outputs": [],
   "source": [
    "def emoji_hundler(word):  # helper function to handle emojis\n",
    "    word = emoji.demojize(word, language='ar')\n",
    "    word = replace_underscore(word)[1:-1]\n",
    "    return word"
   ]
  },
  {
   "cell_type": "code",
   "execution_count": 19,
   "id": "912f92e1",
   "metadata": {
    "execution": {
     "iopub.execute_input": "2024-12-15T14:06:26.118399Z",
     "iopub.status.busy": "2024-12-15T14:06:26.118079Z",
     "iopub.status.idle": "2024-12-15T14:06:26.124420Z",
     "shell.execute_reply": "2024-12-15T14:06:26.123282Z"
    },
    "papermill": {
     "duration": 0.018274,
     "end_time": "2024-12-15T14:06:26.126322",
     "exception": false,
     "start_time": "2024-12-15T14:06:26.108048",
     "status": "completed"
    },
    "tags": []
   },
   "outputs": [],
   "source": [
    "def is_an_emoji(word):\n",
    "    emoji_pattern = re.compile(\"[\"  \n",
    "                               u\"\\U0001F680-\\U0001F6FF\"  # transport and map unicods\n",
    "                               u\"\\U0001F1E0-\\U0001F1FF\"  # flags unicods\n",
    "                               \"]+\", flags=re.UNICODE)\n",
    "\n",
    "    if emoji.is_emoji(word):\n",
    "        word = emoji_pattern.sub(r'', word)\n",
    "        return extend_spletting([emoji_hundler(word)])\n",
    "\n",
    "    elif emoji.purely_emoji(word):\n",
    "        data_of_emojis = emoji.distinct_emoji_list(word)\n",
    "        data = [emoji_hundler(emoji_pattern.sub(r'', item)) for item in data_of_emojis]\n",
    "        return extend_spletting(data)\n",
    "\n",
    "    else:\n",
    "        text_only = re.sub(r'[^\\w\\s?!]', '', word)\n",
    "        data_of_emojis = emoji.distinct_emoji_list(word)\n",
    "        emojis = [emoji_hundler(emoji_pattern.sub(r'', item)) for item in data_of_emojis]\n",
    "        \n",
    "        return [text_only] + extend_spletting(emojis)\n"
   ]
  },
  {
   "cell_type": "code",
   "execution_count": 20,
   "id": "f22d42d7",
   "metadata": {
    "execution": {
     "iopub.execute_input": "2024-12-15T14:06:26.145223Z",
     "iopub.status.busy": "2024-12-15T14:06:26.144900Z",
     "iopub.status.idle": "2024-12-15T14:06:26.151193Z",
     "shell.execute_reply": "2024-12-15T14:06:26.150049Z"
    },
    "papermill": {
     "duration": 0.017938,
     "end_time": "2024-12-15T14:06:26.153141",
     "exception": false,
     "start_time": "2024-12-15T14:06:26.135203",
     "status": "completed"
    },
    "tags": []
   },
   "outputs": [],
   "source": [
    "# tramslating darija(latin) to daruja(arabic)\n",
    "def translate_darija_to_arabic(word): # useed\n",
    "    # print(\"test\")\n",
    "    word = word.lower()\n",
    "    if  bool(re.compile(r\"[a-z0-9']+\").search(word)):\n",
    "        arabic_word = \"\"\n",
    "        i = 0\n",
    "        while i < len(word):\n",
    "            # print('sadd')\n",
    "            if i + 1 < len(word) and word[i:i+2] in darija_alphabet: # Check for 2 lettrs\n",
    "                arabic_word += darija_alphabet[word[i:i+2]]\n",
    "                i += 2\n",
    "            elif word[i] in darija_alphabet:\n",
    "                arabic_word += darija_alphabet[word[i]]\n",
    "                i += 1\n",
    "            else:\n",
    "                i += 1\n",
    "        return arabic_word\n",
    "    return word\n",
    "      "
   ]
  },
  {
   "cell_type": "code",
   "execution_count": 21,
   "id": "0c6e5548",
   "metadata": {
    "execution": {
     "iopub.execute_input": "2024-12-15T14:06:26.175189Z",
     "iopub.status.busy": "2024-12-15T14:06:26.174841Z",
     "iopub.status.idle": "2024-12-15T14:06:26.179874Z",
     "shell.execute_reply": "2024-12-15T14:06:26.178914Z"
    },
    "papermill": {
     "duration": 0.018024,
     "end_time": "2024-12-15T14:06:26.181448",
     "exception": false,
     "start_time": "2024-12-15T14:06:26.163424",
     "status": "completed"
    },
    "tags": []
   },
   "outputs": [],
   "source": [
    "# remove  number arabic and latin\n",
    "def number_remov(listy): # useed\n",
    "    number_pattern = re.compile(r'^[0-9\\u0660-\\u0669]+$')\n",
    "    cleaned_list = [item for item in listy if not number_pattern.fullmatch(item)] \n",
    "    return cleaned_list   "
   ]
  },
  {
   "cell_type": "code",
   "execution_count": 22,
   "id": "6d49ffd5",
   "metadata": {
    "execution": {
     "iopub.execute_input": "2024-12-15T14:06:26.200864Z",
     "iopub.status.busy": "2024-12-15T14:06:26.200528Z",
     "iopub.status.idle": "2024-12-15T14:06:26.205884Z",
     "shell.execute_reply": "2024-12-15T14:06:26.204870Z"
    },
    "papermill": {
     "duration": 0.016705,
     "end_time": "2024-12-15T14:06:26.207270",
     "exception": false,
     "start_time": "2024-12-15T14:06:26.190565",
     "status": "completed"
    },
    "tags": []
   },
   "outputs": [],
   "source": [
    "#stemming arabic words     \n",
    "def stemming_darija(word):\n",
    "    # file = \"./Data_prep/suf_pref_darija.json\" # local run\n",
    "    file = \"suf_pref_darija.json\" \n",
    "\n",
    "    with open(file, 'r', encoding='utf-8') as json_file:\n",
    "        suf_pref = json.load(json_file)\n",
    "\n",
    "    ArListem = ArabicLightStemmer()\n",
    "    ArListem.set_prefix_list(suf_pref['darija_prefixes'])\n",
    "    ArListem.set_suffix_list(suf_pref['darija_suffixes'])\n",
    "    ArListem.light_stem(word)  \n",
    "    return ArListem.get_stem() "
   ]
  },
  {
   "cell_type": "code",
   "execution_count": 23,
   "id": "c06435c1",
   "metadata": {
    "execution": {
     "iopub.execute_input": "2024-12-15T14:06:26.225671Z",
     "iopub.status.busy": "2024-12-15T14:06:26.225372Z",
     "iopub.status.idle": "2024-12-15T14:06:26.229776Z",
     "shell.execute_reply": "2024-12-15T14:06:26.228951Z"
    },
    "papermill": {
     "duration": 0.01526,
     "end_time": "2024-12-15T14:06:26.231201",
     "exception": false,
     "start_time": "2024-12-15T14:06:26.215941",
     "status": "completed"
    },
    "tags": []
   },
   "outputs": [],
   "source": [
    "# \"03:44\"\n",
    "def remove_yt_timers(text):\n",
    "    pattern = r'\\b\\d{1,2}:\\d{2,3}(:\\d{2,3})?\\b'\n",
    "    text = re.sub(pattern, '', text)\n",
    "    return text.strip()"
   ]
  },
  {
   "cell_type": "code",
   "execution_count": 24,
   "id": "acfa5c2e",
   "metadata": {
    "execution": {
     "iopub.execute_input": "2024-12-15T14:06:26.250099Z",
     "iopub.status.busy": "2024-12-15T14:06:26.249787Z",
     "iopub.status.idle": "2024-12-15T14:06:26.254457Z",
     "shell.execute_reply": "2024-12-15T14:06:26.253379Z"
    },
    "papermill": {
     "duration": 0.016687,
     "end_time": "2024-12-15T14:06:26.256649",
     "exception": false,
     "start_time": "2024-12-15T14:06:26.239962",
     "status": "completed"
    },
    "tags": []
   },
   "outputs": [],
   "source": [
    "\n",
    "def preproc_arab_sentence(word): # main function for  arab processing tokens\n",
    "    word = removing_tashkeel(word)\n",
    "    word = removing_tatweel(word)\n",
    "    word = remove_AL(word)\n",
    "    # word = remove_ambiguity_hamza(word)\n",
    "    word = word_remover(word)\n",
    "    return word\n"
   ]
  },
  {
   "cell_type": "code",
   "execution_count": 25,
   "id": "94072890",
   "metadata": {
    "execution": {
     "iopub.execute_input": "2024-12-15T14:06:26.275295Z",
     "iopub.status.busy": "2024-12-15T14:06:26.274995Z",
     "iopub.status.idle": "2024-12-15T14:06:26.282131Z",
     "shell.execute_reply": "2024-12-15T14:06:26.281402Z"
    },
    "papermill": {
     "duration": 0.018616,
     "end_time": "2024-12-15T14:06:26.284075",
     "exception": false,
     "start_time": "2024-12-15T14:06:26.265459",
     "status": "completed"
    },
    "tags": []
   },
   "outputs": [],
   "source": [
    "from pyarabic.araby import tokenize\n",
    "def tokenize_arab_text(text):\n",
    "            # with open('./Data_prep/stop_words_accum.json', 'r', encoding='utf-8') as file: #  local run \n",
    "            with open('./stop_words_accum.json', 'r', encoding='utf-8') as file:\n",
    "\n",
    "                stop_words = json.load(file)\n",
    "\n",
    "            # with open('./Data_prep/darija_latin_ref.json', 'r', encoding='utf-8') as file: #  local run \n",
    "            with open('./darija_latin_ref.json', 'r', encoding='utf-8') as file:\n",
    "                \n",
    "                darija_latin_ref = json.load(file)\n",
    "          \n",
    "            #print(text)\n",
    "            text = remove_url(text)\n",
    "            text = remove_emails(text)\n",
    "            text = replace_underscore(text)\n",
    "            text = remove_html_tags(text)\n",
    "            text = remove_yt_timers(text)\n",
    "            text = special_tags_and_ponctuations(text)\n",
    "            #tokenization\n",
    "            print(text)\n",
    "            words = tokenize(text)\n",
    "            print(words)\n",
    "            words = [ translate_darija_to_arabic(word) for word in words if word not in darija_latin_ref]\n",
    "            print(words)\n",
    "            words = [is_an_emoji(word) for word in words] \n",
    "            words = [item for sublist in words for item in sublist if item]\n",
    "            words = list(set(words))\n",
    "            print(words)        \n",
    "            words = [word for word in words if word not in stop_words]\n",
    "            print(words)\n",
    "\n",
    "            words = [preproc_arab_sentence(word) for word in words]\n",
    "\n",
    "            # print(words)        \n",
    "            words = [stemming_darija(word) for word in words if word]\n",
    "            words = number_remov(words)\n",
    "\n",
    "\n",
    "            # print(words)\n",
    "            words = ' '.join(words) \n",
    "            return words"
   ]
  },
  {
   "cell_type": "code",
   "execution_count": 26,
   "id": "017c9615",
   "metadata": {
    "execution": {
     "iopub.execute_input": "2024-12-15T14:06:26.303130Z",
     "iopub.status.busy": "2024-12-15T14:06:26.302827Z",
     "iopub.status.idle": "2024-12-15T14:06:26.319603Z",
     "shell.execute_reply": "2024-12-15T14:06:26.318649Z"
    },
    "papermill": {
     "duration": 0.028545,
     "end_time": "2024-12-15T14:06:26.321552",
     "exception": false,
     "start_time": "2024-12-15T14:06:26.293007",
     "status": "completed"
    },
    "tags": []
   },
   "outputs": [
    {
     "data": {
      "text/html": [
       "<div>\n",
       "<style scoped>\n",
       "    .dataframe tbody tr th:only-of-type {\n",
       "        vertical-align: middle;\n",
       "    }\n",
       "\n",
       "    .dataframe tbody tr th {\n",
       "        vertical-align: top;\n",
       "    }\n",
       "\n",
       "    .dataframe thead th {\n",
       "        text-align: right;\n",
       "    }\n",
       "</style>\n",
       "<table border=\"1\" class=\"dataframe\">\n",
       "  <thead>\n",
       "    <tr style=\"text-align: right;\">\n",
       "      <th></th>\n",
       "      <th>text</th>\n",
       "      <th>target</th>\n",
       "      <th>text_cleaned</th>\n",
       "    </tr>\n",
       "  </thead>\n",
       "  <tbody>\n",
       "    <tr>\n",
       "      <th>0</th>\n",
       "      <td>مكنفهمش انا علاش بنادم عوض يرض الادي ل لي عملو...</td>\n",
       "      <td>1</td>\n",
       "      <td>لراسو يرد اد كيردو مكنفهمش عملو</td>\n",
       "    </tr>\n",
       "    <tr>\n",
       "      <th>1</th>\n",
       "      <td>ماكين لا محمد السادس لا غيرو الرجا فالله أما ه...</td>\n",
       "      <td>0</td>\n",
       "      <td>لا واكل ماكين غيرو رزق</td>\n",
       "    </tr>\n",
       "    <tr>\n",
       "      <th>2</th>\n",
       "      <td>هادي هي طحن مو .طحنو الشعب وديروه كفتة احسن ما...</td>\n",
       "      <td>0</td>\n",
       "      <td>لبطانه طحن طحنو كفته احسن وديروه دبانه ما</td>\n",
       "    </tr>\n",
       "    <tr>\n",
       "      <th>3</th>\n",
       "      <td>ق.الجنائي الفرنسي كايعاقب فبحال هاد الحالات من...</td>\n",
       "      <td>1</td>\n",
       "      <td>ا اع جناا وتامل والقانون كايعاقب</td>\n",
       "    </tr>\n",
       "    <tr>\n",
       "      <th>4</th>\n",
       "      <td>ااصراحة كائن ثغير نوعا ما نتمى المزىد فى ظل ال...</td>\n",
       "      <td>1</td>\n",
       "      <td>اجديده نتم سد اسراحه ثغير والعافيه ما نوعا مزي...</td>\n",
       "    </tr>\n",
       "  </tbody>\n",
       "</table>\n",
       "</div>"
      ],
      "text/plain": [
       "                                                text  target  \\\n",
       "0  مكنفهمش انا علاش بنادم عوض يرض الادي ل لي عملو...       1   \n",
       "1  ماكين لا محمد السادس لا غيرو الرجا فالله أما ه...       0   \n",
       "2  هادي هي طحن مو .طحنو الشعب وديروه كفتة احسن ما...       0   \n",
       "3  ق.الجنائي الفرنسي كايعاقب فبحال هاد الحالات من...       1   \n",
       "4  ااصراحة كائن ثغير نوعا ما نتمى المزىد فى ظل ال...       1   \n",
       "\n",
       "                                        text_cleaned  \n",
       "0                    لراسو يرد اد كيردو مكنفهمش عملو  \n",
       "1                             لا واكل ماكين غيرو رزق  \n",
       "2          لبطانه طحن طحنو كفته احسن وديروه دبانه ما  \n",
       "3                   ا اع جناا وتامل والقانون كايعاقب  \n",
       "4  اجديده نتم سد اسراحه ثغير والعافيه ما نوعا مزي...  "
      ]
     },
     "execution_count": 26,
     "metadata": {},
     "output_type": "execute_result"
    }
   ],
   "source": [
    "df.head()"
   ]
  },
  {
   "cell_type": "code",
   "execution_count": 27,
   "id": "e0f96584",
   "metadata": {
    "execution": {
     "iopub.execute_input": "2024-12-15T14:06:26.340357Z",
     "iopub.status.busy": "2024-12-15T14:06:26.340045Z",
     "iopub.status.idle": "2024-12-15T14:06:26.372937Z",
     "shell.execute_reply": "2024-12-15T14:06:26.371636Z"
    },
    "papermill": {
     "duration": 0.044277,
     "end_time": "2024-12-15T14:06:26.374637",
     "exception": false,
     "start_time": "2024-12-15T14:06:26.330360",
     "status": "completed"
    },
    "tags": []
   },
   "outputs": [
    {
     "name": "stdout",
     "output_type": "stream",
     "text": [
      "<class 'pandas.core.frame.DataFrame'>\n",
      "RangeIndex: 30000 entries, 0 to 29999\n",
      "Data columns (total 3 columns):\n",
      " #   Column        Non-Null Count  Dtype \n",
      "---  ------        --------------  ----- \n",
      " 0   text          30000 non-null  object\n",
      " 1   target        30000 non-null  int64 \n",
      " 2   text_cleaned  28978 non-null  object\n",
      "dtypes: int64(1), object(2)\n",
      "memory usage: 703.2+ KB\n"
     ]
    }
   ],
   "source": [
    "df.info()"
   ]
  },
  {
   "cell_type": "code",
   "execution_count": 28,
   "id": "d4190b5a",
   "metadata": {
    "execution": {
     "iopub.execute_input": "2024-12-15T14:06:26.394501Z",
     "iopub.status.busy": "2024-12-15T14:06:26.393623Z",
     "iopub.status.idle": "2024-12-15T14:06:26.411621Z",
     "shell.execute_reply": "2024-12-15T14:06:26.410670Z"
    },
    "papermill": {
     "duration": 0.02993,
     "end_time": "2024-12-15T14:06:26.413586",
     "exception": false,
     "start_time": "2024-12-15T14:06:26.383656",
     "status": "completed"
    },
    "tags": []
   },
   "outputs": [],
   "source": [
    "df.dropna(inplace=True)"
   ]
  },
  {
   "cell_type": "code",
   "execution_count": 29,
   "id": "73ff0120",
   "metadata": {
    "execution": {
     "iopub.execute_input": "2024-12-15T14:06:26.433061Z",
     "iopub.status.busy": "2024-12-15T14:06:26.432701Z",
     "iopub.status.idle": "2024-12-15T14:06:26.456297Z",
     "shell.execute_reply": "2024-12-15T14:06:26.454928Z"
    },
    "papermill": {
     "duration": 0.035567,
     "end_time": "2024-12-15T14:06:26.458388",
     "exception": false,
     "start_time": "2024-12-15T14:06:26.422821",
     "status": "completed"
    },
    "tags": []
   },
   "outputs": [],
   "source": [
    "from sklearn.model_selection import train_test_split\n",
    "\n",
    "X_train, X_test, y_train, y_test = train_test_split( df.drop(columns=[\"target\"]),df[\"target\"], test_size=0.2 , stratify=df['target'] ,shuffle=True , random_state=123)"
   ]
  },
  {
   "cell_type": "code",
   "execution_count": 30,
   "id": "b27a2ac0",
   "metadata": {
    "execution": {
     "iopub.execute_input": "2024-12-15T14:06:26.477248Z",
     "iopub.status.busy": "2024-12-15T14:06:26.476936Z",
     "iopub.status.idle": "2024-12-15T14:06:26.487421Z",
     "shell.execute_reply": "2024-12-15T14:06:26.486422Z"
    },
    "papermill": {
     "duration": 0.022315,
     "end_time": "2024-12-15T14:06:26.489660",
     "exception": false,
     "start_time": "2024-12-15T14:06:26.467345",
     "status": "completed"
    },
    "tags": []
   },
   "outputs": [
    {
     "data": {
      "text/plain": [
       "target\n",
       "0    2949\n",
       "1    2847\n",
       "Name: count, dtype: int64"
      ]
     },
     "execution_count": 30,
     "metadata": {},
     "output_type": "execute_result"
    }
   ],
   "source": [
    "y_test.value_counts()"
   ]
  },
  {
   "cell_type": "code",
   "execution_count": 31,
   "id": "6b931025",
   "metadata": {
    "execution": {
     "iopub.execute_input": "2024-12-15T14:06:26.509462Z",
     "iopub.status.busy": "2024-12-15T14:06:26.509148Z",
     "iopub.status.idle": "2024-12-15T14:06:26.514984Z",
     "shell.execute_reply": "2024-12-15T14:06:26.514149Z"
    },
    "papermill": {
     "duration": 0.017524,
     "end_time": "2024-12-15T14:06:26.516431",
     "exception": false,
     "start_time": "2024-12-15T14:06:26.498907",
     "status": "completed"
    },
    "tags": []
   },
   "outputs": [
    {
     "data": {
      "text/plain": [
       "(23182, 2)"
      ]
     },
     "execution_count": 31,
     "metadata": {},
     "output_type": "execute_result"
    }
   ],
   "source": [
    "X_train.shape"
   ]
  },
  {
   "cell_type": "markdown",
   "id": "ff10c559",
   "metadata": {
    "papermill": {
     "duration": 0.008638,
     "end_time": "2024-12-15T14:06:26.533989",
     "exception": false,
     "start_time": "2024-12-15T14:06:26.525351",
     "status": "completed"
    },
    "tags": []
   },
   "source": [
    "## Useful Function"
   ]
  },
  {
   "cell_type": "code",
   "execution_count": 32,
   "id": "183045c3",
   "metadata": {
    "execution": {
     "iopub.execute_input": "2024-12-15T14:06:26.556037Z",
     "iopub.status.busy": "2024-12-15T14:06:26.555688Z",
     "iopub.status.idle": "2024-12-15T14:06:27.031343Z",
     "shell.execute_reply": "2024-12-15T14:06:27.030484Z"
    },
    "papermill": {
     "duration": 0.488791,
     "end_time": "2024-12-15T14:06:27.033216",
     "exception": false,
     "start_time": "2024-12-15T14:06:26.544425",
     "status": "completed"
    },
    "tags": []
   },
   "outputs": [],
   "source": [
    "import numpy as np\n",
    "from sklearn.metrics import accuracy_score, f1_score, classification_report, confusion_matrix\n",
    "import seaborn as sns\n",
    "import matplotlib.pyplot as plt\n",
    "\n",
    "def about_model(model_name , y_test, y_pred):\n",
    "    print('-------------------> ' + model_name )\n",
    "    accuracy = accuracy_score(y_test, y_pred)\n",
    "    print(f\"Accuracy: {accuracy:.2f}\")\n",
    "    \n",
    "    f1 = f1_score(y_test, y_pred, average=None)\n",
    "    print(\"F1-Score for each class:\")\n",
    "    class_labels = ['Positive', 'Negative']\n",
    "\n",
    "    for i, score in enumerate(f1):\n",
    "        print(f\"{class_labels[i]}: {score:.2f}\")\n",
    "    \n",
    "    print(\"\\nClassification Report:\")\n",
    "    print(classification_report(y_test, y_pred, target_names=class_labels, digits=2))\n",
    "    \n",
    "    conf_matrix = confusion_matrix(y_test, y_pred)\n",
    "    plt.figure(figsize=(8, 6))\n",
    "    sns.heatmap(conf_matrix, annot=True, fmt='d', cmap='Blues', \n",
    "                xticklabels=class_labels,\n",
    "                yticklabels=class_labels)\n",
    "    plt.xlabel(\"Predicted\")\n",
    "    plt.ylabel(\"Actual\")\n",
    "    plt.title(\"Confusion Matrix\")\n",
    "    plt.show()\n"
   ]
  },
  {
   "cell_type": "markdown",
   "id": "56370537",
   "metadata": {
    "papermill": {
     "duration": 0.008629,
     "end_time": "2024-12-15T14:06:27.050960",
     "exception": false,
     "start_time": "2024-12-15T14:06:27.042331",
     "status": "completed"
    },
    "tags": []
   },
   "source": [
    "## Feature Engineering\n",
    "Converting text to vectors format:\n",
    "- CountVectorizer(ngram_range=(1, 1) , binary=True)"
   ]
  },
  {
   "cell_type": "code",
   "execution_count": 33,
   "id": "9d938540",
   "metadata": {
    "execution": {
     "iopub.execute_input": "2024-12-15T14:06:27.070467Z",
     "iopub.status.busy": "2024-12-15T14:06:27.070069Z",
     "iopub.status.idle": "2024-12-15T14:06:27.074390Z",
     "shell.execute_reply": "2024-12-15T14:06:27.073207Z"
    },
    "papermill": {
     "duration": 0.016533,
     "end_time": "2024-12-15T14:06:27.076380",
     "exception": false,
     "start_time": "2024-12-15T14:06:27.059847",
     "status": "completed"
    },
    "tags": []
   },
   "outputs": [],
   "source": [
    "#from sklearn.feature_extraction.text import TfidfVectorizer\n",
    "\n",
    "\n",
    "#tfidf_vectorizer = TfidfVectorizer(ngram_range=(1, 2))\n",
    "#X_train['text_cleaned'] = X_train['text_cleaned'].astype(str)\n",
    "#X_test['text_cleaned'] = X_test['text_cleaned'].astype(str)\n",
    "\n",
    "#X_train_tfidf = tfidf_vectorizer.fit_transform(X_train['text_cleaned'])\n",
    "#X_test_tfidf = tfidf_vectorizer.transform(X_test['text_cleaned'])\n",
    "\n"
   ]
  },
  {
   "cell_type": "code",
   "execution_count": 34,
   "id": "eb275cc0",
   "metadata": {
    "execution": {
     "iopub.execute_input": "2024-12-15T14:06:27.095984Z",
     "iopub.status.busy": "2024-12-15T14:06:27.095597Z",
     "iopub.status.idle": "2024-12-15T14:06:27.660655Z",
     "shell.execute_reply": "2024-12-15T14:06:27.659613Z"
    },
    "papermill": {
     "duration": 0.576786,
     "end_time": "2024-12-15T14:06:27.662425",
     "exception": false,
     "start_time": "2024-12-15T14:06:27.085639",
     "status": "completed"
    },
    "tags": []
   },
   "outputs": [
    {
     "name": "stdout",
     "output_type": "stream",
     "text": [
      "all tokens:  46526\n",
      "reduced tokens:  46526\n"
     ]
    },
    {
     "name": "stderr",
     "output_type": "stream",
     "text": [
      "/opt/conda/lib/python3.10/site-packages/sklearn/feature_extraction/text.py:1380: UserWarning: Upper case characters found in vocabulary while 'lowercase' is True. These entries will not be matched with any documents\n",
      "  warnings.warn(\n"
     ]
    }
   ],
   "source": [
    "from sklearn.feature_extraction.text import CountVectorizer\n",
    "import numpy as np\n",
    "import pandas as pd\n",
    "\n",
    "\n",
    "tfidf_vectorizer = CountVectorizer(ngram_range=(1, 1) , binary=True)\n",
    "\n",
    "X_train['text_cleaned'] = X_train['text_cleaned'].astype(str)\n",
    "X_test['text_cleaned'] = X_test['text_cleaned'].astype(str)\n",
    "\n",
    "X_train_tfidf = tfidf_vectorizer.fit_transform(X_train['text_cleaned'])\n",
    "X_test_tfidf = tfidf_vectorizer.transform(X_test['text_cleaned'])\n",
    "\n",
    "words = tfidf_vectorizer.get_feature_names_out()\n",
    "print(\"all tokens: \" , len(words))\n",
    "tfidf_scores = np.asarray(X_train_tfidf.sum(axis=0)).flatten()\n",
    "\n",
    "sorted_indices = np.argsort(tfidf_scores)[::-1]\n",
    "\n",
    "cumulative_tfidf = np.cumsum(tfidf_scores[sorted_indices])\n",
    "\n",
    "total_tfidf = cumulative_tfidf[-1]\n",
    "threshold =  total_tfidf\n",
    "\n",
    "cutoff_index = np.where(cumulative_tfidf >= threshold)[0][0]\n",
    "\n",
    "selected_ngrams = words[sorted_indices][:cutoff_index + 1]\n",
    "\n",
    "selected_vocab = selected_ngrams.tolist()\n",
    "print(\"reduced tokens: \"  , len(selected_vocab))\n",
    "\n",
    "tfidf_vectorizer = CountVectorizer(vocabulary=selected_vocab , binary=True)\n",
    "\n",
    "X_train_tfidf = tfidf_vectorizer.fit_transform(X_train['text_cleaned'])\n",
    "X_test_tfidf = tfidf_vectorizer.transform(X_test['text_cleaned'])\n"
   ]
  },
  {
   "cell_type": "code",
   "execution_count": 35,
   "id": "de0a8c2b",
   "metadata": {
    "execution": {
     "iopub.execute_input": "2024-12-15T14:06:27.685045Z",
     "iopub.status.busy": "2024-12-15T14:06:27.684706Z",
     "iopub.status.idle": "2024-12-15T14:06:27.727450Z",
     "shell.execute_reply": "2024-12-15T14:06:27.726216Z"
    },
    "papermill": {
     "duration": 0.057501,
     "end_time": "2024-12-15T14:06:27.729565",
     "exception": false,
     "start_time": "2024-12-15T14:06:27.672064",
     "status": "completed"
    },
    "tags": []
   },
   "outputs": [
    {
     "data": {
      "text/plain": [
       "array(['لا', 'غير', 'ما', 'هه', 'ماش', 'خير', 'هم', 'سير', 'قلب', 'تفو',\n",
       "       'حمد', 'لم', 'فرح', 'عداله', 'قوه', 'فكر', 'عديم', 'احسن', 'مبروك',\n",
       "       'بدموع', 'سح', 'والو', 'ليس', 'كورو', 'تحيه', 'طحن', 'وفي',\n",
       "       'تنميه', 'حكومه', 'وباا'], dtype=object)"
      ]
     },
     "execution_count": 35,
     "metadata": {},
     "output_type": "execute_result"
    }
   ],
   "source": [
    "tfidf_vectorizer.get_feature_names_out()[:30]"
   ]
  },
  {
   "cell_type": "code",
   "execution_count": 36,
   "id": "bff13d2d",
   "metadata": {
    "execution": {
     "iopub.execute_input": "2024-12-15T14:06:27.749413Z",
     "iopub.status.busy": "2024-12-15T14:06:27.749130Z",
     "iopub.status.idle": "2024-12-15T14:06:27.782347Z",
     "shell.execute_reply": "2024-12-15T14:06:27.781519Z"
    },
    "papermill": {
     "duration": 0.044934,
     "end_time": "2024-12-15T14:06:27.783933",
     "exception": false,
     "start_time": "2024-12-15T14:06:27.738999",
     "status": "completed"
    },
    "tags": []
   },
   "outputs": [
    {
     "data": {
      "text/plain": [
       "46526"
      ]
     },
     "execution_count": 36,
     "metadata": {},
     "output_type": "execute_result"
    }
   ],
   "source": [
    "len(tfidf_vectorizer.get_feature_names_out())"
   ]
  },
  {
   "cell_type": "markdown",
   "id": "a6904f9f",
   "metadata": {
    "papermill": {
     "duration": 0.008856,
     "end_time": "2024-12-15T14:06:27.802167",
     "exception": false,
     "start_time": "2024-12-15T14:06:27.793311",
     "status": "completed"
    },
    "tags": []
   },
   "source": [
    "## Model Development\n"
   ]
  },
  {
   "cell_type": "markdown",
   "id": "e6db07e9",
   "metadata": {
    "papermill": {
     "duration": 0.00949,
     "end_time": "2024-12-15T14:06:27.820783",
     "exception": false,
     "start_time": "2024-12-15T14:06:27.811293",
     "status": "completed"
    },
    "tags": []
   },
   "source": [
    "### Logistic Regression"
   ]
  },
  {
   "cell_type": "code",
   "execution_count": 37,
   "id": "8df577a5",
   "metadata": {
    "execution": {
     "iopub.execute_input": "2024-12-15T14:06:27.840445Z",
     "iopub.status.busy": "2024-12-15T14:06:27.840101Z",
     "iopub.status.idle": "2024-12-15T14:06:29.341389Z",
     "shell.execute_reply": "2024-12-15T14:06:29.340216Z"
    },
    "papermill": {
     "duration": 1.51316,
     "end_time": "2024-12-15T14:06:29.343146",
     "exception": false,
     "start_time": "2024-12-15T14:06:27.829986",
     "status": "completed"
    },
    "tags": []
   },
   "outputs": [
    {
     "data": {
      "text/html": [
       "<style>#sk-container-id-1 {color: black;background-color: white;}#sk-container-id-1 pre{padding: 0;}#sk-container-id-1 div.sk-toggleable {background-color: white;}#sk-container-id-1 label.sk-toggleable__label {cursor: pointer;display: block;width: 100%;margin-bottom: 0;padding: 0.3em;box-sizing: border-box;text-align: center;}#sk-container-id-1 label.sk-toggleable__label-arrow:before {content: \"▸\";float: left;margin-right: 0.25em;color: #696969;}#sk-container-id-1 label.sk-toggleable__label-arrow:hover:before {color: black;}#sk-container-id-1 div.sk-estimator:hover label.sk-toggleable__label-arrow:before {color: black;}#sk-container-id-1 div.sk-toggleable__content {max-height: 0;max-width: 0;overflow: hidden;text-align: left;background-color: #f0f8ff;}#sk-container-id-1 div.sk-toggleable__content pre {margin: 0.2em;color: black;border-radius: 0.25em;background-color: #f0f8ff;}#sk-container-id-1 input.sk-toggleable__control:checked~div.sk-toggleable__content {max-height: 200px;max-width: 100%;overflow: auto;}#sk-container-id-1 input.sk-toggleable__control:checked~label.sk-toggleable__label-arrow:before {content: \"▾\";}#sk-container-id-1 div.sk-estimator input.sk-toggleable__control:checked~label.sk-toggleable__label {background-color: #d4ebff;}#sk-container-id-1 div.sk-label input.sk-toggleable__control:checked~label.sk-toggleable__label {background-color: #d4ebff;}#sk-container-id-1 input.sk-hidden--visually {border: 0;clip: rect(1px 1px 1px 1px);clip: rect(1px, 1px, 1px, 1px);height: 1px;margin: -1px;overflow: hidden;padding: 0;position: absolute;width: 1px;}#sk-container-id-1 div.sk-estimator {font-family: monospace;background-color: #f0f8ff;border: 1px dotted black;border-radius: 0.25em;box-sizing: border-box;margin-bottom: 0.5em;}#sk-container-id-1 div.sk-estimator:hover {background-color: #d4ebff;}#sk-container-id-1 div.sk-parallel-item::after {content: \"\";width: 100%;border-bottom: 1px solid gray;flex-grow: 1;}#sk-container-id-1 div.sk-label:hover label.sk-toggleable__label {background-color: #d4ebff;}#sk-container-id-1 div.sk-serial::before {content: \"\";position: absolute;border-left: 1px solid gray;box-sizing: border-box;top: 0;bottom: 0;left: 50%;z-index: 0;}#sk-container-id-1 div.sk-serial {display: flex;flex-direction: column;align-items: center;background-color: white;padding-right: 0.2em;padding-left: 0.2em;position: relative;}#sk-container-id-1 div.sk-item {position: relative;z-index: 1;}#sk-container-id-1 div.sk-parallel {display: flex;align-items: stretch;justify-content: center;background-color: white;position: relative;}#sk-container-id-1 div.sk-item::before, #sk-container-id-1 div.sk-parallel-item::before {content: \"\";position: absolute;border-left: 1px solid gray;box-sizing: border-box;top: 0;bottom: 0;left: 50%;z-index: -1;}#sk-container-id-1 div.sk-parallel-item {display: flex;flex-direction: column;z-index: 1;position: relative;background-color: white;}#sk-container-id-1 div.sk-parallel-item:first-child::after {align-self: flex-end;width: 50%;}#sk-container-id-1 div.sk-parallel-item:last-child::after {align-self: flex-start;width: 50%;}#sk-container-id-1 div.sk-parallel-item:only-child::after {width: 0;}#sk-container-id-1 div.sk-dashed-wrapped {border: 1px dashed gray;margin: 0 0.4em 0.5em 0.4em;box-sizing: border-box;padding-bottom: 0.4em;background-color: white;}#sk-container-id-1 div.sk-label label {font-family: monospace;font-weight: bold;display: inline-block;line-height: 1.2em;}#sk-container-id-1 div.sk-label-container {text-align: center;}#sk-container-id-1 div.sk-container {/* jupyter's `normalize.less` sets `[hidden] { display: none; }` but bootstrap.min.css set `[hidden] { display: none !important; }` so we also need the `!important` here to be able to override the default hidden behavior on the sphinx rendered scikit-learn.org. See: https://github.com/scikit-learn/scikit-learn/issues/21755 */display: inline-block !important;position: relative;}#sk-container-id-1 div.sk-text-repr-fallback {display: none;}</style><div id=\"sk-container-id-1\" class=\"sk-top-container\"><div class=\"sk-text-repr-fallback\"><pre>LogisticRegression(max_iter=1000, n_jobs=-1)</pre><b>In a Jupyter environment, please rerun this cell to show the HTML representation or trust the notebook. <br />On GitHub, the HTML representation is unable to render, please try loading this page with nbviewer.org.</b></div><div class=\"sk-container\" hidden><div class=\"sk-item\"><div class=\"sk-estimator sk-toggleable\"><input class=\"sk-toggleable__control sk-hidden--visually\" id=\"sk-estimator-id-1\" type=\"checkbox\" checked><label for=\"sk-estimator-id-1\" class=\"sk-toggleable__label sk-toggleable__label-arrow\">LogisticRegression</label><div class=\"sk-toggleable__content\"><pre>LogisticRegression(max_iter=1000, n_jobs=-1)</pre></div></div></div></div></div>"
      ],
      "text/plain": [
       "LogisticRegression(max_iter=1000, n_jobs=-1)"
      ]
     },
     "execution_count": 37,
     "metadata": {},
     "output_type": "execute_result"
    }
   ],
   "source": [
    "from sklearn.linear_model import LogisticRegression # type: ignore\n",
    "clf = LogisticRegression(max_iter = 1000 ,  n_jobs=-1 )\n",
    "clf.fit(X_train_tfidf, y_train)"
   ]
  },
  {
   "cell_type": "code",
   "execution_count": 38,
   "id": "fd2cf492",
   "metadata": {
    "execution": {
     "iopub.execute_input": "2024-12-15T14:06:29.363585Z",
     "iopub.status.busy": "2024-12-15T14:06:29.363265Z",
     "iopub.status.idle": "2024-12-15T14:06:29.615231Z",
     "shell.execute_reply": "2024-12-15T14:06:29.614247Z"
    },
    "papermill": {
     "duration": 0.264663,
     "end_time": "2024-12-15T14:06:29.617351",
     "exception": false,
     "start_time": "2024-12-15T14:06:29.352688",
     "status": "completed"
    },
    "tags": []
   },
   "outputs": [
    {
     "name": "stdout",
     "output_type": "stream",
     "text": [
      "-------------------> Logistic Regression\n",
      "Accuracy: 0.75\n",
      "F1-Score for each class:\n",
      "Positive: 0.74\n",
      "Negative: 0.75\n",
      "\n",
      "Classification Report:\n",
      "              precision    recall  f1-score   support\n",
      "\n",
      "    Positive       0.77      0.72      0.74      2949\n",
      "    Negative       0.73      0.77      0.75      2847\n",
      "\n",
      "    accuracy                           0.75      5796\n",
      "   macro avg       0.75      0.75      0.75      5796\n",
      "weighted avg       0.75      0.75      0.75      5796\n",
      "\n"
     ]
    },
    {
     "data": {
      "image/png": "[encoded data removed]",
      "text/plain": [
       "<Figure size 800x600 with 2 Axes>"
      ]
     },
     "metadata": {},
     "output_type": "display_data"
    }
   ],
   "source": [
    "y_hat = clf.predict(X_test_tfidf)\n",
    "about_model(\"Logistic Regression\" ,y_test , y_hat)"
   ]
  },
  {
   "cell_type": "markdown",
   "id": "07dfff20",
   "metadata": {
    "papermill": {
     "duration": 0.009383,
     "end_time": "2024-12-15T14:06:29.636627",
     "exception": false,
     "start_time": "2024-12-15T14:06:29.627244",
     "status": "completed"
    },
    "tags": []
   },
   "source": [
    "### Tuned Logistic Regression"
   ]
  },
  {
   "cell_type": "code",
   "execution_count": 39,
   "id": "2a3f27a9",
   "metadata": {
    "execution": {
     "iopub.execute_input": "2024-12-15T14:06:29.657589Z",
     "iopub.status.busy": "2024-12-15T14:06:29.657271Z",
     "iopub.status.idle": "2024-12-15T14:06:29.700489Z",
     "shell.execute_reply": "2024-12-15T14:06:29.699765Z"
    },
    "papermill": {
     "duration": 0.055714,
     "end_time": "2024-12-15T14:06:29.702045",
     "exception": false,
     "start_time": "2024-12-15T14:06:29.646331",
     "status": "completed"
    },
    "tags": []
   },
   "outputs": [
    {
     "name": "stdout",
     "output_type": "stream",
     "text": [
      "\n",
      "[]\n",
      "[]\n",
      "[]\n",
      "[]\n",
      "\n"
     ]
    },
    {
     "data": {
      "text/plain": [
       "array([1])"
      ]
     },
     "execution_count": 39,
     "metadata": {},
     "output_type": "execute_result"
    }
   ],
   "source": [
    "text = tokenize_arab_text('')\n",
    "print(text)\n",
    "\n",
    "if isinstance(text, str):\n",
    "    text = [text]  \n",
    "\n",
    "text_vectorized = tfidf_vectorizer.transform(text)  \n",
    "text_vectorized = text_vectorized.reshape(1, -1)  \n",
    "clf.predict(text_vectorized)\n"
   ]
  },
  {
   "cell_type": "code",
   "execution_count": 40,
   "id": "f3334c2d",
   "metadata": {
    "execution": {
     "iopub.execute_input": "2024-12-15T14:06:29.722486Z",
     "iopub.status.busy": "2024-12-15T14:06:29.722176Z",
     "iopub.status.idle": "2024-12-15T17:47:56.081878Z",
     "shell.execute_reply": "2024-12-15T17:47:56.080656Z"
    },
    "papermill": {
     "duration": 13286.386296,
     "end_time": "2024-12-15T17:47:56.098055",
     "exception": false,
     "start_time": "2024-12-15T14:06:29.711759",
     "status": "completed"
    },
    "tags": []
   },
   "outputs": [
    {
     "name": "stdout",
     "output_type": "stream",
     "text": [
      "Fitting 5 folds for each of 12 candidates, totalling 60 fits\n"
     ]
    },
    {
     "name": "stderr",
     "output_type": "stream",
     "text": [
      "/opt/conda/lib/python3.10/site-packages/sklearn/linear_model/_sag.py:350: ConvergenceWarning: The max_iter was reached which means the coef_ did not converge\n",
      "  warnings.warn(\n"
     ]
    },
    {
     "data": {
      "text/plain": [
       "{'C': 1.0, 'penalty': 'l2', 'solver': 'saga'}"
      ]
     },
     "execution_count": 40,
     "metadata": {},
     "output_type": "execute_result"
    }
   ],
   "source": [
    "# Logistic Regression\n",
    "param_grid_ = {\n",
    "    'C': [1e-5, 1e-3, 1e-1, 1e0, 1e1, 1e2],  \n",
    "    'penalty': ['l1', 'l2'],                \n",
    "    'solver': ['saga'],                     \n",
    "}\n",
    "\n",
    "clf_grid = GridSearchCV(\n",
    "    estimator=LogisticRegression(max_iter=5000, n_jobs=-1),\n",
    "    param_grid=param_grid_,\n",
    "    cv=5,\n",
    "    verbose=1,\n",
    "    scoring='accuracy',\n",
    "    n_jobs=-1\n",
    ")\n",
    "\n",
    "clf_grid.fit(X_train_tfidf, y_train)\n",
    "clf_grid.best_params_\n"
   ]
  },
  {
   "cell_type": "code",
   "execution_count": 41,
   "id": "ddca4526",
   "metadata": {
    "execution": {
     "iopub.execute_input": "2024-12-15T17:47:56.118627Z",
     "iopub.status.busy": "2024-12-15T17:47:56.118313Z",
     "iopub.status.idle": "2024-12-15T17:47:56.312570Z",
     "shell.execute_reply": "2024-12-15T17:47:56.311879Z"
    },
    "papermill": {
     "duration": 0.206721,
     "end_time": "2024-12-15T17:47:56.313995",
     "exception": false,
     "start_time": "2024-12-15T17:47:56.107274",
     "status": "completed"
    },
    "tags": []
   },
   "outputs": [
    {
     "name": "stdout",
     "output_type": "stream",
     "text": [
      "-------------------> Tuned Logistic Regression\n",
      "Accuracy: 0.75\n",
      "F1-Score for each class:\n",
      "Positive: 0.74\n",
      "Negative: 0.75\n",
      "\n",
      "Classification Report:\n",
      "              precision    recall  f1-score   support\n",
      "\n",
      "    Positive       0.77      0.72      0.74      2949\n",
      "    Negative       0.73      0.77      0.75      2847\n",
      "\n",
      "    accuracy                           0.75      5796\n",
      "   macro avg       0.75      0.75      0.75      5796\n",
      "weighted avg       0.75      0.75      0.75      5796\n",
      "\n"
     ]
    },
    {
     "data": {
      "image/png": "[encoded data removed]",
      "text/plain": [
       "<Figure size 800x600 with 2 Axes>"
      ]
     },
     "metadata": {},
     "output_type": "display_data"
    }
   ],
   "source": [
    "y_hat = clf_grid.predict(X_test_tfidf)\n",
    "about_model(\"Tuned Logistic Regression\" , y_test , y_hat)"
   ]
  },
  {
   "cell_type": "markdown",
   "id": "7078f843",
   "metadata": {
    "papermill": {
     "duration": 0.00994,
     "end_time": "2024-12-15T17:47:56.334330",
     "exception": false,
     "start_time": "2024-12-15T17:47:56.324390",
     "status": "completed"
    },
    "tags": []
   },
   "source": [
    "### XGBoost"
   ]
  },
  {
   "cell_type": "code",
   "execution_count": 42,
   "id": "eb64fd54",
   "metadata": {
    "execution": {
     "iopub.execute_input": "2024-12-15T17:47:56.354608Z",
     "iopub.status.busy": "2024-12-15T17:47:56.354357Z",
     "iopub.status.idle": "2024-12-15T17:47:58.240310Z",
     "shell.execute_reply": "2024-12-15T17:47:58.239659Z"
    },
    "papermill": {
     "duration": 1.897621,
     "end_time": "2024-12-15T17:47:58.241593",
     "exception": false,
     "start_time": "2024-12-15T17:47:56.343972",
     "status": "completed"
    },
    "tags": []
   },
   "outputs": [
    {
     "data": {
      "text/html": [
       "<style>#sk-container-id-2 {color: black;background-color: white;}#sk-container-id-2 pre{padding: 0;}#sk-container-id-2 div.sk-toggleable {background-color: white;}#sk-container-id-2 label.sk-toggleable__label {cursor: pointer;display: block;width: 100%;margin-bottom: 0;padding: 0.3em;box-sizing: border-box;text-align: center;}#sk-container-id-2 label.sk-toggleable__label-arrow:before {content: \"▸\";float: left;margin-right: 0.25em;color: #696969;}#sk-container-id-2 label.sk-toggleable__label-arrow:hover:before {color: black;}#sk-container-id-2 div.sk-estimator:hover label.sk-toggleable__label-arrow:before {color: black;}#sk-container-id-2 div.sk-toggleable__content {max-height: 0;max-width: 0;overflow: hidden;text-align: left;background-color: #f0f8ff;}#sk-container-id-2 div.sk-toggleable__content pre {margin: 0.2em;color: black;border-radius: 0.25em;background-color: #f0f8ff;}#sk-container-id-2 input.sk-toggleable__control:checked~div.sk-toggleable__content {max-height: 200px;max-width: 100%;overflow: auto;}#sk-container-id-2 input.sk-toggleable__control:checked~label.sk-toggleable__label-arrow:before {content: \"▾\";}#sk-container-id-2 div.sk-estimator input.sk-toggleable__control:checked~label.sk-toggleable__label {background-color: #d4ebff;}#sk-container-id-2 div.sk-label input.sk-toggleable__control:checked~label.sk-toggleable__label {background-color: #d4ebff;}#sk-container-id-2 input.sk-hidden--visually {border: 0;clip: rect(1px 1px 1px 1px);clip: rect(1px, 1px, 1px, 1px);height: 1px;margin: -1px;overflow: hidden;padding: 0;position: absolute;width: 1px;}#sk-container-id-2 div.sk-estimator {font-family: monospace;background-color: #f0f8ff;border: 1px dotted black;border-radius: 0.25em;box-sizing: border-box;margin-bottom: 0.5em;}#sk-container-id-2 div.sk-estimator:hover {background-color: #d4ebff;}#sk-container-id-2 div.sk-parallel-item::after {content: \"\";width: 100%;border-bottom: 1px solid gray;flex-grow: 1;}#sk-container-id-2 div.sk-label:hover label.sk-toggleable__label {background-color: #d4ebff;}#sk-container-id-2 div.sk-serial::before {content: \"\";position: absolute;border-left: 1px solid gray;box-sizing: border-box;top: 0;bottom: 0;left: 50%;z-index: 0;}#sk-container-id-2 div.sk-serial {display: flex;flex-direction: column;align-items: center;background-color: white;padding-right: 0.2em;padding-left: 0.2em;position: relative;}#sk-container-id-2 div.sk-item {position: relative;z-index: 1;}#sk-container-id-2 div.sk-parallel {display: flex;align-items: stretch;justify-content: center;background-color: white;position: relative;}#sk-container-id-2 div.sk-item::before, #sk-container-id-2 div.sk-parallel-item::before {content: \"\";position: absolute;border-left: 1px solid gray;box-sizing: border-box;top: 0;bottom: 0;left: 50%;z-index: -1;}#sk-container-id-2 div.sk-parallel-item {display: flex;flex-direction: column;z-index: 1;position: relative;background-color: white;}#sk-container-id-2 div.sk-parallel-item:first-child::after {align-self: flex-end;width: 50%;}#sk-container-id-2 div.sk-parallel-item:last-child::after {align-self: flex-start;width: 50%;}#sk-container-id-2 div.sk-parallel-item:only-child::after {width: 0;}#sk-container-id-2 div.sk-dashed-wrapped {border: 1px dashed gray;margin: 0 0.4em 0.5em 0.4em;box-sizing: border-box;padding-bottom: 0.4em;background-color: white;}#sk-container-id-2 div.sk-label label {font-family: monospace;font-weight: bold;display: inline-block;line-height: 1.2em;}#sk-container-id-2 div.sk-label-container {text-align: center;}#sk-container-id-2 div.sk-container {/* jupyter's `normalize.less` sets `[hidden] { display: none; }` but bootstrap.min.css set `[hidden] { display: none !important; }` so we also need the `!important` here to be able to override the default hidden behavior on the sphinx rendered scikit-learn.org. See: https://github.com/scikit-learn/scikit-learn/issues/21755 */display: inline-block !important;position: relative;}#sk-container-id-2 div.sk-text-repr-fallback {display: none;}</style><div id=\"sk-container-id-2\" class=\"sk-top-container\"><div class=\"sk-text-repr-fallback\"><pre>XGBClassifier(base_score=None, booster=None, callbacks=None,\n",
       "              colsample_bylevel=None, colsample_bynode=None,\n",
       "              colsample_bytree=None, device=None, early_stopping_rounds=None,\n",
       "              enable_categorical=False, eval_metric=None, feature_types=None,\n",
       "              gamma=None, grow_policy=None, importance_type=None,\n",
       "              interaction_constraints=None, learning_rate=None, max_bin=None,\n",
       "              max_cat_threshold=None, max_cat_to_onehot=None,\n",
       "              max_delta_step=None, max_depth=None, max_leaves=None,\n",
       "              min_child_weight=None, missing=nan, monotone_constraints=None,\n",
       "              multi_strategy=None, n_estimators=None, n_jobs=None,\n",
       "              num_parallel_tree=None, random_state=None, ...)</pre><b>In a Jupyter environment, please rerun this cell to show the HTML representation or trust the notebook. <br />On GitHub, the HTML representation is unable to render, please try loading this page with nbviewer.org.</b></div><div class=\"sk-container\" hidden><div class=\"sk-item\"><div class=\"sk-estimator sk-toggleable\"><input class=\"sk-toggleable__control sk-hidden--visually\" id=\"sk-estimator-id-2\" type=\"checkbox\" checked><label for=\"sk-estimator-id-2\" class=\"sk-toggleable__label sk-toggleable__label-arrow\">XGBClassifier</label><div class=\"sk-toggleable__content\"><pre>XGBClassifier(base_score=None, booster=None, callbacks=None,\n",
       "              colsample_bylevel=None, colsample_bynode=None,\n",
       "              colsample_bytree=None, device=None, early_stopping_rounds=None,\n",
       "              enable_categorical=False, eval_metric=None, feature_types=None,\n",
       "              gamma=None, grow_policy=None, importance_type=None,\n",
       "              interaction_constraints=None, learning_rate=None, max_bin=None,\n",
       "              max_cat_threshold=None, max_cat_to_onehot=None,\n",
       "              max_delta_step=None, max_depth=None, max_leaves=None,\n",
       "              min_child_weight=None, missing=nan, monotone_constraints=None,\n",
       "              multi_strategy=None, n_estimators=None, n_jobs=None,\n",
       "              num_parallel_tree=None, random_state=None, ...)</pre></div></div></div></div></div>"
      ],
      "text/plain": [
       "XGBClassifier(base_score=None, booster=None, callbacks=None,\n",
       "              colsample_bylevel=None, colsample_bynode=None,\n",
       "              colsample_bytree=None, device=None, early_stopping_rounds=None,\n",
       "              enable_categorical=False, eval_metric=None, feature_types=None,\n",
       "              gamma=None, grow_policy=None, importance_type=None,\n",
       "              interaction_constraints=None, learning_rate=None, max_bin=None,\n",
       "              max_cat_threshold=None, max_cat_to_onehot=None,\n",
       "              max_delta_step=None, max_depth=None, max_leaves=None,\n",
       "              min_child_weight=None, missing=nan, monotone_constraints=None,\n",
       "              multi_strategy=None, n_estimators=None, n_jobs=None,\n",
       "              num_parallel_tree=None, random_state=None, ...)"
      ]
     },
     "execution_count": 42,
     "metadata": {},
     "output_type": "execute_result"
    }
   ],
   "source": [
    "from xgboost import XGBClassifier\n",
    "from sklearn.model_selection import GridSearchCV\n",
    "\n",
    "xgb = XGBClassifier()\n",
    "\n",
    "xgb.fit(X_train_tfidf, y_train)"
   ]
  },
  {
   "cell_type": "code",
   "execution_count": 43,
   "id": "90567105",
   "metadata": {
    "execution": {
     "iopub.execute_input": "2024-12-15T17:47:58.264089Z",
     "iopub.status.busy": "2024-12-15T17:47:58.263788Z",
     "iopub.status.idle": "2024-12-15T17:47:58.568137Z",
     "shell.execute_reply": "2024-12-15T17:47:58.567426Z"
    },
    "papermill": {
     "duration": 0.317338,
     "end_time": "2024-12-15T17:47:58.569466",
     "exception": false,
     "start_time": "2024-12-15T17:47:58.252128",
     "status": "completed"
    },
    "tags": []
   },
   "outputs": [
    {
     "name": "stdout",
     "output_type": "stream",
     "text": [
      "-------------------> XGBoost\n",
      "Accuracy: 0.68\n",
      "F1-Score for each class:\n",
      "Positive: 0.62\n",
      "Negative: 0.72\n",
      "\n",
      "Classification Report:\n",
      "              precision    recall  f1-score   support\n",
      "\n",
      "    Positive       0.78      0.51      0.62      2949\n",
      "    Negative       0.63      0.86      0.72      2847\n",
      "\n",
      "    accuracy                           0.68      5796\n",
      "   macro avg       0.71      0.68      0.67      5796\n",
      "weighted avg       0.71      0.68      0.67      5796\n",
      "\n"
     ]
    },
    {
     "data": {
      "image/png": "[encoded data removed]",
      "text/plain": [
       "<Figure size 800x600 with 2 Axes>"
      ]
     },
     "metadata": {},
     "output_type": "display_data"
    }
   ],
   "source": [
    "y_hat = xgb.predict(X_test_tfidf)\n",
    "about_model(\"XGBoost\" , y_test, y_hat) "
   ]
  },
  {
   "cell_type": "markdown",
   "id": "0641bd1d",
   "metadata": {
    "papermill": {
     "duration": 0.009984,
     "end_time": "2024-12-15T17:47:58.590387",
     "exception": false,
     "start_time": "2024-12-15T17:47:58.580403",
     "status": "completed"
    },
    "tags": []
   },
   "source": [
    "### Tuned XGBoost"
   ]
  },
  {
   "cell_type": "code",
   "execution_count": 44,
   "id": "90579632",
   "metadata": {
    "execution": {
     "iopub.execute_input": "2024-12-15T17:47:58.611724Z",
     "iopub.status.busy": "2024-12-15T17:47:58.611458Z",
     "iopub.status.idle": "2024-12-15T18:00:19.007963Z",
     "shell.execute_reply": "2024-12-15T18:00:19.006984Z"
    },
    "papermill": {
     "duration": 740.418851,
     "end_time": "2024-12-15T18:00:19.019278",
     "exception": false,
     "start_time": "2024-12-15T17:47:58.600427",
     "status": "completed"
    },
    "tags": []
   },
   "outputs": [
    {
     "name": "stdout",
     "output_type": "stream",
     "text": [
      "Fitting 5 folds for each of 54 candidates, totalling 270 fits\n"
     ]
    },
    {
     "data": {
      "text/plain": [
       "{'learning_rate': 0.3, 'max_depth': 10, 'n_estimators': 300, 'subsample': 1.0}"
      ]
     },
     "execution_count": 44,
     "metadata": {},
     "output_type": "execute_result"
    }
   ],
   "source": [
    "#XGBoost\n",
    "param_grid_ = {\n",
    "    'n_estimators': [100, 200, 300],                \n",
    "    'max_depth': [3, 7, 10],                     \n",
    "    'learning_rate': [0.01, 0.1, 0.3],              \n",
    "    'subsample': [0.7, 1.0],                   \n",
    "}\n",
    "\n",
    "xgb_grid = GridSearchCV(\n",
    "    estimator=XGBClassifier(      \n",
    "    ),\n",
    "    param_grid=param_grid_,\n",
    "    cv=5,                         \n",
    "    verbose=1,                    \n",
    "    scoring='accuracy'  , \n",
    "    n_jobs=-1,\n",
    ")\n",
    "\n",
    "xgb_grid.fit(X_train_tfidf, y_train)\n",
    "xgb_grid.best_params_"
   ]
  },
  {
   "cell_type": "code",
   "execution_count": 45,
   "id": "399f96dc",
   "metadata": {
    "execution": {
     "iopub.execute_input": "2024-12-15T18:00:19.040973Z",
     "iopub.status.busy": "2024-12-15T18:00:19.040621Z",
     "iopub.status.idle": "2024-12-15T18:00:19.276095Z",
     "shell.execute_reply": "2024-12-15T18:00:19.275344Z"
    },
    "papermill": {
     "duration": 0.248034,
     "end_time": "2024-12-15T18:00:19.277473",
     "exception": false,
     "start_time": "2024-12-15T18:00:19.029439",
     "status": "completed"
    },
    "tags": []
   },
   "outputs": [
    {
     "name": "stdout",
     "output_type": "stream",
     "text": [
      "-------------------> Tuned XGBoost\n",
      "Accuracy: 0.72\n",
      "F1-Score for each class:\n",
      "Positive: 0.70\n",
      "Negative: 0.74\n",
      "\n",
      "Classification Report:\n",
      "              precision    recall  f1-score   support\n",
      "\n",
      "    Positive       0.78      0.63      0.70      2949\n",
      "    Negative       0.68      0.81      0.74      2847\n",
      "\n",
      "    accuracy                           0.72      5796\n",
      "   macro avg       0.73      0.72      0.72      5796\n",
      "weighted avg       0.73      0.72      0.72      5796\n",
      "\n"
     ]
    },
    {
     "data": {
      "image/png": "[encoded data removed]",
      "text/plain": [
       "<Figure size 800x600 with 2 Axes>"
      ]
     },
     "metadata": {},
     "output_type": "display_data"
    }
   ],
   "source": [
    "y_hat = xgb_grid.predict(X_test_tfidf) \n",
    "about_model(\"Tuned XGBoost\" , y_test, y_hat)\n"
   ]
  },
  {
   "cell_type": "markdown",
   "id": "df329ff4",
   "metadata": {
    "papermill": {
     "duration": 0.010532,
     "end_time": "2024-12-15T18:00:19.299770",
     "exception": false,
     "start_time": "2024-12-15T18:00:19.289238",
     "status": "completed"
    },
    "tags": []
   },
   "source": [
    "### Decision Tree"
   ]
  },
  {
   "cell_type": "code",
   "execution_count": 46,
   "id": "169837a6",
   "metadata": {
    "execution": {
     "iopub.execute_input": "2024-12-15T18:00:19.322230Z",
     "iopub.status.busy": "2024-12-15T18:00:19.321941Z",
     "iopub.status.idle": "2024-12-15T18:00:32.121173Z",
     "shell.execute_reply": "2024-12-15T18:00:32.120448Z"
    },
    "papermill": {
     "duration": 12.812007,
     "end_time": "2024-12-15T18:00:32.122443",
     "exception": false,
     "start_time": "2024-12-15T18:00:19.310436",
     "status": "completed"
    },
    "tags": []
   },
   "outputs": [
    {
     "data": {
      "text/html": [
       "<style>#sk-container-id-3 {color: black;background-color: white;}#sk-container-id-3 pre{padding: 0;}#sk-container-id-3 div.sk-toggleable {background-color: white;}#sk-container-id-3 label.sk-toggleable__label {cursor: pointer;display: block;width: 100%;margin-bottom: 0;padding: 0.3em;box-sizing: border-box;text-align: center;}#sk-container-id-3 label.sk-toggleable__label-arrow:before {content: \"▸\";float: left;margin-right: 0.25em;color: #696969;}#sk-container-id-3 label.sk-toggleable__label-arrow:hover:before {color: black;}#sk-container-id-3 div.sk-estimator:hover label.sk-toggleable__label-arrow:before {color: black;}#sk-container-id-3 div.sk-toggleable__content {max-height: 0;max-width: 0;overflow: hidden;text-align: left;background-color: #f0f8ff;}#sk-container-id-3 div.sk-toggleable__content pre {margin: 0.2em;color: black;border-radius: 0.25em;background-color: #f0f8ff;}#sk-container-id-3 input.sk-toggleable__control:checked~div.sk-toggleable__content {max-height: 200px;max-width: 100%;overflow: auto;}#sk-container-id-3 input.sk-toggleable__control:checked~label.sk-toggleable__label-arrow:before {content: \"▾\";}#sk-container-id-3 div.sk-estimator input.sk-toggleable__control:checked~label.sk-toggleable__label {background-color: #d4ebff;}#sk-container-id-3 div.sk-label input.sk-toggleable__control:checked~label.sk-toggleable__label {background-color: #d4ebff;}#sk-container-id-3 input.sk-hidden--visually {border: 0;clip: rect(1px 1px 1px 1px);clip: rect(1px, 1px, 1px, 1px);height: 1px;margin: -1px;overflow: hidden;padding: 0;position: absolute;width: 1px;}#sk-container-id-3 div.sk-estimator {font-family: monospace;background-color: #f0f8ff;border: 1px dotted black;border-radius: 0.25em;box-sizing: border-box;margin-bottom: 0.5em;}#sk-container-id-3 div.sk-estimator:hover {background-color: #d4ebff;}#sk-container-id-3 div.sk-parallel-item::after {content: \"\";width: 100%;border-bottom: 1px solid gray;flex-grow: 1;}#sk-container-id-3 div.sk-label:hover label.sk-toggleable__label {background-color: #d4ebff;}#sk-container-id-3 div.sk-serial::before {content: \"\";position: absolute;border-left: 1px solid gray;box-sizing: border-box;top: 0;bottom: 0;left: 50%;z-index: 0;}#sk-container-id-3 div.sk-serial {display: flex;flex-direction: column;align-items: center;background-color: white;padding-right: 0.2em;padding-left: 0.2em;position: relative;}#sk-container-id-3 div.sk-item {position: relative;z-index: 1;}#sk-container-id-3 div.sk-parallel {display: flex;align-items: stretch;justify-content: center;background-color: white;position: relative;}#sk-container-id-3 div.sk-item::before, #sk-container-id-3 div.sk-parallel-item::before {content: \"\";position: absolute;border-left: 1px solid gray;box-sizing: border-box;top: 0;bottom: 0;left: 50%;z-index: -1;}#sk-container-id-3 div.sk-parallel-item {display: flex;flex-direction: column;z-index: 1;position: relative;background-color: white;}#sk-container-id-3 div.sk-parallel-item:first-child::after {align-self: flex-end;width: 50%;}#sk-container-id-3 div.sk-parallel-item:last-child::after {align-self: flex-start;width: 50%;}#sk-container-id-3 div.sk-parallel-item:only-child::after {width: 0;}#sk-container-id-3 div.sk-dashed-wrapped {border: 1px dashed gray;margin: 0 0.4em 0.5em 0.4em;box-sizing: border-box;padding-bottom: 0.4em;background-color: white;}#sk-container-id-3 div.sk-label label {font-family: monospace;font-weight: bold;display: inline-block;line-height: 1.2em;}#sk-container-id-3 div.sk-label-container {text-align: center;}#sk-container-id-3 div.sk-container {/* jupyter's `normalize.less` sets `[hidden] { display: none; }` but bootstrap.min.css set `[hidden] { display: none !important; }` so we also need the `!important` here to be able to override the default hidden behavior on the sphinx rendered scikit-learn.org. See: https://github.com/scikit-learn/scikit-learn/issues/21755 */display: inline-block !important;position: relative;}#sk-container-id-3 div.sk-text-repr-fallback {display: none;}</style><div id=\"sk-container-id-3\" class=\"sk-top-container\"><div class=\"sk-text-repr-fallback\"><pre>DecisionTreeClassifier()</pre><b>In a Jupyter environment, please rerun this cell to show the HTML representation or trust the notebook. <br />On GitHub, the HTML representation is unable to render, please try loading this page with nbviewer.org.</b></div><div class=\"sk-container\" hidden><div class=\"sk-item\"><div class=\"sk-estimator sk-toggleable\"><input class=\"sk-toggleable__control sk-hidden--visually\" id=\"sk-estimator-id-3\" type=\"checkbox\" checked><label for=\"sk-estimator-id-3\" class=\"sk-toggleable__label sk-toggleable__label-arrow\">DecisionTreeClassifier</label><div class=\"sk-toggleable__content\"><pre>DecisionTreeClassifier()</pre></div></div></div></div></div>"
      ],
      "text/plain": [
       "DecisionTreeClassifier()"
      ]
     },
     "execution_count": 46,
     "metadata": {},
     "output_type": "execute_result"
    }
   ],
   "source": [
    "from sklearn.tree import DecisionTreeClassifier\n",
    "\n",
    "decision_tress_clf = DecisionTreeClassifier()\n",
    "decision_tress_clf.fit(X_train_tfidf, y_train)"
   ]
  },
  {
   "cell_type": "code",
   "execution_count": 47,
   "id": "46836579",
   "metadata": {
    "execution": {
     "iopub.execute_input": "2024-12-15T18:00:32.145801Z",
     "iopub.status.busy": "2024-12-15T18:00:32.145462Z",
     "iopub.status.idle": "2024-12-15T18:00:32.326483Z",
     "shell.execute_reply": "2024-12-15T18:00:32.325807Z"
    },
    "papermill": {
     "duration": 0.194328,
     "end_time": "2024-12-15T18:00:32.328011",
     "exception": false,
     "start_time": "2024-12-15T18:00:32.133683",
     "status": "completed"
    },
    "tags": []
   },
   "outputs": [
    {
     "name": "stdout",
     "output_type": "stream",
     "text": [
      "-------------------> Decision Tree\n",
      "Accuracy: 0.70\n",
      "F1-Score for each class:\n",
      "Positive: 0.67\n",
      "Negative: 0.72\n",
      "\n",
      "Classification Report:\n",
      "              precision    recall  f1-score   support\n",
      "\n",
      "    Positive       0.76      0.60      0.67      2949\n",
      "    Negative       0.66      0.80      0.72      2847\n",
      "\n",
      "    accuracy                           0.70      5796\n",
      "   macro avg       0.71      0.70      0.70      5796\n",
      "weighted avg       0.71      0.70      0.70      5796\n",
      "\n"
     ]
    },
    {
     "data": {
      "image/png": "[encoded data removed]",
      "text/plain": [
       "<Figure size 800x600 with 2 Axes>"
      ]
     },
     "metadata": {},
     "output_type": "display_data"
    }
   ],
   "source": [
    "y_hat = decision_tress_clf.predict(X_test_tfidf) \n",
    "about_model(\"Decision Tree\" , y_test, y_hat)"
   ]
  },
  {
   "cell_type": "markdown",
   "id": "3c19c370",
   "metadata": {
    "papermill": {
     "duration": 0.010951,
     "end_time": "2024-12-15T18:00:32.354366",
     "exception": false,
     "start_time": "2024-12-15T18:00:32.343415",
     "status": "completed"
    },
    "tags": []
   },
   "source": [
    "### Tuned Decision Tree"
   ]
  },
  {
   "cell_type": "code",
   "execution_count": 48,
   "id": "a2e042a8",
   "metadata": {
    "execution": {
     "iopub.execute_input": "2024-12-15T18:00:32.377798Z",
     "iopub.status.busy": "2024-12-15T18:00:32.377494Z",
     "iopub.status.idle": "2024-12-15T18:10:26.070483Z",
     "shell.execute_reply": "2024-12-15T18:10:26.069503Z"
    },
    "papermill": {
     "duration": 593.717601,
     "end_time": "2024-12-15T18:10:26.083136",
     "exception": false,
     "start_time": "2024-12-15T18:00:32.365535",
     "status": "completed"
    },
    "tags": []
   },
   "outputs": [
    {
     "name": "stdout",
     "output_type": "stream",
     "text": [
      "Fitting 5 folds for each of 144 candidates, totalling 720 fits\n"
     ]
    },
    {
     "data": {
      "text/plain": [
       "{'criterion': 'entropy',\n",
       " 'max_depth': None,\n",
       " 'min_samples_leaf': 1,\n",
       " 'min_samples_split': 5,\n",
       " 'splitter': 'best'}"
      ]
     },
     "execution_count": 48,
     "metadata": {},
     "output_type": "execute_result"
    }
   ],
   "source": [
    "param_grid_ = {\n",
    "    'max_depth': [3, 5, 10, None],  \n",
    "    'min_samples_split': [2, 5, 10],  \n",
    "    'min_samples_leaf': [1, 2, 4], \n",
    "    'criterion': ['gini', 'entropy'], \n",
    "    'splitter': ['best', 'random'],  \n",
    "}\n",
    "\n",
    "decision_tress_grid= GridSearchCV(\n",
    "    estimator=DecisionTreeClassifier(),\n",
    "    param_grid=param_grid_,\n",
    "    cv=5, \n",
    "    verbose=1,  \n",
    "    scoring='accuracy' ,\n",
    "    n_jobs=-1\n",
    ")\n",
    "decision_tress_grid.fit(X_train_tfidf, y_train)\n",
    "decision_tress_grid.best_params_\n"
   ]
  },
  {
   "cell_type": "code",
   "execution_count": 49,
   "id": "fce15080",
   "metadata": {
    "execution": {
     "iopub.execute_input": "2024-12-15T18:10:26.108104Z",
     "iopub.status.busy": "2024-12-15T18:10:26.107876Z",
     "iopub.status.idle": "2024-12-15T18:10:26.284023Z",
     "shell.execute_reply": "2024-12-15T18:10:26.283240Z"
    },
    "papermill": {
     "duration": 0.190362,
     "end_time": "2024-12-15T18:10:26.285863",
     "exception": false,
     "start_time": "2024-12-15T18:10:26.095501",
     "status": "completed"
    },
    "tags": []
   },
   "outputs": [
    {
     "name": "stdout",
     "output_type": "stream",
     "text": [
      "-------------------> Tuned Decision Tree\n",
      "Accuracy: 0.70\n",
      "F1-Score for each class:\n",
      "Positive: 0.68\n",
      "Negative: 0.72\n",
      "\n",
      "Classification Report:\n",
      "              precision    recall  f1-score   support\n",
      "\n",
      "    Positive       0.75      0.62      0.68      2949\n",
      "    Negative       0.67      0.78      0.72      2847\n",
      "\n",
      "    accuracy                           0.70      5796\n",
      "   macro avg       0.71      0.70      0.70      5796\n",
      "weighted avg       0.71      0.70      0.70      5796\n",
      "\n"
     ]
    },
    {
     "data": {
      "image/png": "[encoded data removed]",
      "text/plain": [
       "<Figure size 800x600 with 2 Axes>"
      ]
     },
     "metadata": {},
     "output_type": "display_data"
    }
   ],
   "source": [
    "y_hat = decision_tress_grid.predict(X_test_tfidf)\n",
    "about_model(\"Tuned Decision Tree\" , y_test, y_hat)"
   ]
  },
  {
   "cell_type": "markdown",
   "id": "c2ddbd63",
   "metadata": {
    "papermill": {
     "duration": 0.011769,
     "end_time": "2024-12-15T18:10:26.315456",
     "exception": false,
     "start_time": "2024-12-15T18:10:26.303687",
     "status": "completed"
    },
    "tags": []
   },
   "source": [
    "Multinomial Naive Bayes"
   ]
  },
  {
   "cell_type": "code",
   "execution_count": 50,
   "id": "81ccafa8",
   "metadata": {
    "execution": {
     "iopub.execute_input": "2024-12-15T18:10:26.340212Z",
     "iopub.status.busy": "2024-12-15T18:10:26.339927Z",
     "iopub.status.idle": "2024-12-15T18:10:26.355758Z",
     "shell.execute_reply": "2024-12-15T18:10:26.354916Z"
    },
    "papermill": {
     "duration": 0.029916,
     "end_time": "2024-12-15T18:10:26.357196",
     "exception": false,
     "start_time": "2024-12-15T18:10:26.327280",
     "status": "completed"
    },
    "tags": []
   },
   "outputs": [
    {
     "data": {
      "text/html": [
       "<style>#sk-container-id-4 {color: black;background-color: white;}#sk-container-id-4 pre{padding: 0;}#sk-container-id-4 div.sk-toggleable {background-color: white;}#sk-container-id-4 label.sk-toggleable__label {cursor: pointer;display: block;width: 100%;margin-bottom: 0;padding: 0.3em;box-sizing: border-box;text-align: center;}#sk-container-id-4 label.sk-toggleable__label-arrow:before {content: \"▸\";float: left;margin-right: 0.25em;color: #696969;}#sk-container-id-4 label.sk-toggleable__label-arrow:hover:before {color: black;}#sk-container-id-4 div.sk-estimator:hover label.sk-toggleable__label-arrow:before {color: black;}#sk-container-id-4 div.sk-toggleable__content {max-height: 0;max-width: 0;overflow: hidden;text-align: left;background-color: #f0f8ff;}#sk-container-id-4 div.sk-toggleable__content pre {margin: 0.2em;color: black;border-radius: 0.25em;background-color: #f0f8ff;}#sk-container-id-4 input.sk-toggleable__control:checked~div.sk-toggleable__content {max-height: 200px;max-width: 100%;overflow: auto;}#sk-container-id-4 input.sk-toggleable__control:checked~label.sk-toggleable__label-arrow:before {content: \"▾\";}#sk-container-id-4 div.sk-estimator input.sk-toggleable__control:checked~label.sk-toggleable__label {background-color: #d4ebff;}#sk-container-id-4 div.sk-label input.sk-toggleable__control:checked~label.sk-toggleable__label {background-color: #d4ebff;}#sk-container-id-4 input.sk-hidden--visually {border: 0;clip: rect(1px 1px 1px 1px);clip: rect(1px, 1px, 1px, 1px);height: 1px;margin: -1px;overflow: hidden;padding: 0;position: absolute;width: 1px;}#sk-container-id-4 div.sk-estimator {font-family: monospace;background-color: #f0f8ff;border: 1px dotted black;border-radius: 0.25em;box-sizing: border-box;margin-bottom: 0.5em;}#sk-container-id-4 div.sk-estimator:hover {background-color: #d4ebff;}#sk-container-id-4 div.sk-parallel-item::after {content: \"\";width: 100%;border-bottom: 1px solid gray;flex-grow: 1;}#sk-container-id-4 div.sk-label:hover label.sk-toggleable__label {background-color: #d4ebff;}#sk-container-id-4 div.sk-serial::before {content: \"\";position: absolute;border-left: 1px solid gray;box-sizing: border-box;top: 0;bottom: 0;left: 50%;z-index: 0;}#sk-container-id-4 div.sk-serial {display: flex;flex-direction: column;align-items: center;background-color: white;padding-right: 0.2em;padding-left: 0.2em;position: relative;}#sk-container-id-4 div.sk-item {position: relative;z-index: 1;}#sk-container-id-4 div.sk-parallel {display: flex;align-items: stretch;justify-content: center;background-color: white;position: relative;}#sk-container-id-4 div.sk-item::before, #sk-container-id-4 div.sk-parallel-item::before {content: \"\";position: absolute;border-left: 1px solid gray;box-sizing: border-box;top: 0;bottom: 0;left: 50%;z-index: -1;}#sk-container-id-4 div.sk-parallel-item {display: flex;flex-direction: column;z-index: 1;position: relative;background-color: white;}#sk-container-id-4 div.sk-parallel-item:first-child::after {align-self: flex-end;width: 50%;}#sk-container-id-4 div.sk-parallel-item:last-child::after {align-self: flex-start;width: 50%;}#sk-container-id-4 div.sk-parallel-item:only-child::after {width: 0;}#sk-container-id-4 div.sk-dashed-wrapped {border: 1px dashed gray;margin: 0 0.4em 0.5em 0.4em;box-sizing: border-box;padding-bottom: 0.4em;background-color: white;}#sk-container-id-4 div.sk-label label {font-family: monospace;font-weight: bold;display: inline-block;line-height: 1.2em;}#sk-container-id-4 div.sk-label-container {text-align: center;}#sk-container-id-4 div.sk-container {/* jupyter's `normalize.less` sets `[hidden] { display: none; }` but bootstrap.min.css set `[hidden] { display: none !important; }` so we also need the `!important` here to be able to override the default hidden behavior on the sphinx rendered scikit-learn.org. See: https://github.com/scikit-learn/scikit-learn/issues/21755 */display: inline-block !important;position: relative;}#sk-container-id-4 div.sk-text-repr-fallback {display: none;}</style><div id=\"sk-container-id-4\" class=\"sk-top-container\"><div class=\"sk-text-repr-fallback\"><pre>MultinomialNB()</pre><b>In a Jupyter environment, please rerun this cell to show the HTML representation or trust the notebook. <br />On GitHub, the HTML representation is unable to render, please try loading this page with nbviewer.org.</b></div><div class=\"sk-container\" hidden><div class=\"sk-item\"><div class=\"sk-estimator sk-toggleable\"><input class=\"sk-toggleable__control sk-hidden--visually\" id=\"sk-estimator-id-4\" type=\"checkbox\" checked><label for=\"sk-estimator-id-4\" class=\"sk-toggleable__label sk-toggleable__label-arrow\">MultinomialNB</label><div class=\"sk-toggleable__content\"><pre>MultinomialNB()</pre></div></div></div></div></div>"
      ],
      "text/plain": [
       "MultinomialNB()"
      ]
     },
     "execution_count": 50,
     "metadata": {},
     "output_type": "execute_result"
    }
   ],
   "source": [
    "from sklearn.naive_bayes import MultinomialNB\n",
    "multinomial_clf = MultinomialNB()\n",
    "multinomial_clf.fit(X_train_tfidf, y_train)"
   ]
  },
  {
   "cell_type": "code",
   "execution_count": 51,
   "id": "54d1fd6f",
   "metadata": {
    "execution": {
     "iopub.execute_input": "2024-12-15T18:10:26.383327Z",
     "iopub.status.busy": "2024-12-15T18:10:26.383089Z",
     "iopub.status.idle": "2024-12-15T18:10:26.565901Z",
     "shell.execute_reply": "2024-12-15T18:10:26.564803Z"
    },
    "papermill": {
     "duration": 0.1976,
     "end_time": "2024-12-15T18:10:26.567683",
     "exception": false,
     "start_time": "2024-12-15T18:10:26.370083",
     "status": "completed"
    },
    "tags": []
   },
   "outputs": [
    {
     "name": "stdout",
     "output_type": "stream",
     "text": [
      "-------------------> Multinomial Naive Bayes\n",
      "Accuracy: 0.75\n",
      "F1-Score for each class:\n",
      "Positive: 0.76\n",
      "Negative: 0.73\n",
      "\n",
      "Classification Report:\n",
      "              precision    recall  f1-score   support\n",
      "\n",
      "    Positive       0.72      0.81      0.76      2949\n",
      "    Negative       0.78      0.68      0.73      2847\n",
      "\n",
      "    accuracy                           0.75      5796\n",
      "   macro avg       0.75      0.75      0.75      5796\n",
      "weighted avg       0.75      0.75      0.75      5796\n",
      "\n"
     ]
    },
    {
     "data": {
      "image/png": "[encoded data removed]",
      "text/plain": [
       "<Figure size 800x600 with 2 Axes>"
      ]
     },
     "metadata": {},
     "output_type": "display_data"
    }
   ],
   "source": [
    "y_hat = multinomial_clf.predict(X_test_tfidf) \n",
    "about_model(\"Multinomial Naive Bayes\" , y_test, y_hat)"
   ]
  },
  {
   "cell_type": "markdown",
   "id": "976f5f52",
   "metadata": {
    "papermill": {
     "duration": 0.012489,
     "end_time": "2024-12-15T18:10:26.593643",
     "exception": false,
     "start_time": "2024-12-15T18:10:26.581154",
     "status": "completed"
    },
    "tags": []
   },
   "source": [
    "### Tuned Multinomial Naive Bayes"
   ]
  },
  {
   "cell_type": "code",
   "execution_count": 52,
   "id": "2e9df70d",
   "metadata": {
    "execution": {
     "iopub.execute_input": "2024-12-15T18:10:26.690719Z",
     "iopub.status.busy": "2024-12-15T18:10:26.690452Z",
     "iopub.status.idle": "2024-12-15T18:10:26.862960Z",
     "shell.execute_reply": "2024-12-15T18:10:26.861947Z"
    },
    "papermill": {
     "duration": 0.18769,
     "end_time": "2024-12-15T18:10:26.864385",
     "exception": false,
     "start_time": "2024-12-15T18:10:26.676695",
     "status": "completed"
    },
    "tags": []
   },
   "outputs": [
    {
     "name": "stdout",
     "output_type": "stream",
     "text": [
      "Fitting 5 folds for each of 8 candidates, totalling 40 fits\n"
     ]
    },
    {
     "data": {
      "text/plain": [
       "{'alpha': 2.0, 'fit_prior': False}"
      ]
     },
     "execution_count": 52,
     "metadata": {},
     "output_type": "execute_result"
    }
   ],
   "source": [
    "param_grid_ = {\n",
    "    'alpha': [0.1, 0.5, 1.0, 2.0],  \n",
    "    'fit_prior': [True, False] \n",
    "}\n",
    "\n",
    "mn_grid = GridSearchCV(MultinomialNB(), \n",
    "                       param_grid= param_grid_, \n",
    "                       cv=5, verbose=1 , \n",
    "                       scoring='accuracy',\n",
    "                       n_jobs=-1,\n",
    "                      )\n",
    "mn_grid.fit(X_train_tfidf, y_train)\n",
    "mn_grid.best_params_"
   ]
  },
  {
   "cell_type": "code",
   "execution_count": 53,
   "id": "680ca94a",
   "metadata": {
    "execution": {
     "iopub.execute_input": "2024-12-15T18:10:26.893172Z",
     "iopub.status.busy": "2024-12-15T18:10:26.892889Z",
     "iopub.status.idle": "2024-12-15T18:10:27.085060Z",
     "shell.execute_reply": "2024-12-15T18:10:27.084153Z"
    },
    "papermill": {
     "duration": 0.207438,
     "end_time": "2024-12-15T18:10:27.086459",
     "exception": false,
     "start_time": "2024-12-15T18:10:26.879021",
     "status": "completed"
    },
    "tags": []
   },
   "outputs": [
    {
     "name": "stdout",
     "output_type": "stream",
     "text": [
      "-------------------> Tuned Multinomial Naive Bayes\n",
      "Accuracy: 0.75\n",
      "F1-Score for each class:\n",
      "Positive: 0.77\n",
      "Negative: 0.72\n",
      "\n",
      "Classification Report:\n",
      "              precision    recall  f1-score   support\n",
      "\n",
      "    Positive       0.72      0.82      0.77      2949\n",
      "    Negative       0.78      0.67      0.72      2847\n",
      "\n",
      "    accuracy                           0.75      5796\n",
      "   macro avg       0.75      0.75      0.74      5796\n",
      "weighted avg       0.75      0.75      0.75      5796\n",
      "\n"
     ]
    },
    {
     "data": {
      "image/png": "[encoded data removed]",
      "text/plain": [
       "<Figure size 800x600 with 2 Axes>"
      ]
     },
     "metadata": {},
     "output_type": "display_data"
    }
   ],
   "source": [
    "y_hat = mn_grid.predict(X_test_tfidf)\n",
    "about_model(\"Tuned Multinomial Naive Bayes\" ,y_test, y_hat)\n"
   ]
  },
  {
   "cell_type": "markdown",
   "id": "10231a9a",
   "metadata": {
    "execution": {
     "iopub.execute_input": "2024-12-09T15:57:38.274442Z",
     "iopub.status.busy": "2024-12-09T15:57:38.273474Z",
     "iopub.status.idle": "2024-12-09T15:57:38.294546Z",
     "shell.execute_reply": "2024-12-09T15:57:38.293367Z",
     "shell.execute_reply.started": "2024-12-09T15:57:38.274389Z"
    },
    "papermill": {
     "duration": 0.012802,
     "end_time": "2024-12-15T18:10:27.112831",
     "exception": false,
     "start_time": "2024-12-15T18:10:27.100029",
     "status": "completed"
    },
    "tags": []
   },
   "source": [
    "### Lightgbm"
   ]
  },
  {
   "cell_type": "code",
   "execution_count": 54,
   "id": "26c3e627",
   "metadata": {
    "execution": {
     "iopub.execute_input": "2024-12-15T18:10:27.140055Z",
     "iopub.status.busy": "2024-12-15T18:10:27.139799Z",
     "iopub.status.idle": "2024-12-15T18:10:29.340685Z",
     "shell.execute_reply": "2024-12-15T18:10:29.340106Z"
    },
    "papermill": {
     "duration": 2.216796,
     "end_time": "2024-12-15T18:10:29.342386",
     "exception": false,
     "start_time": "2024-12-15T18:10:27.125590",
     "status": "completed"
    },
    "tags": []
   },
   "outputs": [],
   "source": [
    "import lightgbm as lgb\n",
    "\n",
    "X_train_tfidf = X_train_tfidf.astype(np.float32)\n",
    "X_test_tfidf = X_test_tfidf.astype(np.float32)\n",
    "\n",
    "d_train = lgb.Dataset(X_train_tfidf, label=y_train)\n",
    "d_test = lgb.Dataset(X_test_tfidf, label=y_test, reference=d_train)\n",
    "\n",
    "params = {\n",
    "    'objective': 'binary',  \n",
    "    'boosting_type': 'gbdt',\n",
    "    'metric': 'binary_logloss', \n",
    "    'num_leaves': 31,\n",
    "    'learning_rate': 0.1,\n",
    "    'verbose': 0\n",
    "}\n",
    "\n",
    "model = lgb.train(params, d_train, num_boost_round=100, valid_sets=[d_train, d_test])"
   ]
  },
  {
   "cell_type": "code",
   "execution_count": 55,
   "id": "42b1517e",
   "metadata": {
    "execution": {
     "iopub.execute_input": "2024-12-15T18:10:29.369558Z",
     "iopub.status.busy": "2024-12-15T18:10:29.369181Z",
     "iopub.status.idle": "2024-12-15T18:10:29.573253Z",
     "shell.execute_reply": "2024-12-15T18:10:29.572439Z"
    },
    "papermill": {
     "duration": 0.219303,
     "end_time": "2024-12-15T18:10:29.574937",
     "exception": false,
     "start_time": "2024-12-15T18:10:29.355634",
     "status": "completed"
    },
    "tags": []
   },
   "outputs": [
    {
     "name": "stdout",
     "output_type": "stream",
     "text": [
      "-------------------> lightgbm\n",
      "Accuracy: 0.68\n",
      "F1-Score for each class:\n",
      "Positive: 0.64\n",
      "Negative: 0.71\n",
      "\n",
      "Classification Report:\n",
      "              precision    recall  f1-score   support\n",
      "\n",
      "    Positive       0.75      0.56      0.64      2949\n",
      "    Negative       0.64      0.81      0.71      2847\n",
      "\n",
      "    accuracy                           0.68      5796\n",
      "   macro avg       0.69      0.68      0.67      5796\n",
      "weighted avg       0.69      0.68      0.67      5796\n",
      "\n"
     ]
    },
    {
     "data": {
      "image/png": "[encoded data removed]",
      "text/plain": [
       "<Figure size 800x600 with 2 Axes>"
      ]
     },
     "metadata": {},
     "output_type": "display_data"
    }
   ],
   "source": [
    "y_hat = model.predict(X_test_tfidf)\n",
    "y_hat = (y_hat > 0.5).astype(int)\n",
    "about_model(\"lightgbm\", y_test, y_hat)\n"
   ]
  },
  {
   "cell_type": "markdown",
   "id": "53ea6c97",
   "metadata": {
    "papermill": {
     "duration": 0.013083,
     "end_time": "2024-12-15T18:10:29.602070",
     "exception": false,
     "start_time": "2024-12-15T18:10:29.588987",
     "status": "completed"
    },
    "tags": []
   },
   "source": [
    "### Tuned lightgbm"
   ]
  },
  {
   "cell_type": "code",
   "execution_count": 56,
   "id": "3e569132",
   "metadata": {
    "execution": {
     "iopub.execute_input": "2024-12-15T18:10:29.630042Z",
     "iopub.status.busy": "2024-12-15T18:10:29.629732Z",
     "iopub.status.idle": "2024-12-15T18:11:52.551457Z",
     "shell.execute_reply": "2024-12-15T18:11:52.550782Z"
    },
    "papermill": {
     "duration": 82.937285,
     "end_time": "2024-12-15T18:11:52.552707",
     "exception": false,
     "start_time": "2024-12-15T18:10:29.615422",
     "status": "completed"
    },
    "tags": []
   },
   "outputs": [
    {
     "name": "stdout",
     "output_type": "stream",
     "text": [
      "[LightGBM] [Info] Number of positive: 9111, number of negative: 9434\n",
      "[LightGBM] [Info] Auto-choosing row-wise multi-threading, the overhead of testing was 0.036324 seconds.\n",
      "You can set `force_row_wise=true` to remove the overhead.\n",
      "And if memory is not enough, you can set `force_col_wise=true`.\n",
      "[LightGBM] [Info] Total Bins 944\n",
      "[LightGBM] [Info] Number of data points in the train set: 18545, number of used features: 472\n",
      "[LightGBM] [Info] [binary:BoostFromScore]: pavg=0.491291 -> initscore=-0.034838\n",
      "[LightGBM] [Info] Start training from score -0.034838\n",
      "[LightGBM] [Info] Number of positive: 9111, number of negative: 9434\n",
      "[LightGBM] [Info] Auto-choosing row-wise multi-threading, the overhead of testing was 0.037490 seconds.\n",
      "You can set `force_row_wise=true` to remove the overhead.\n",
      "And if memory is not enough, you can set `force_col_wise=true`.\n",
      "[LightGBM] [Info] Total Bins 940\n",
      "[LightGBM] [Info] Number of data points in the train set: 18545, number of used features: 470\n",
      "[LightGBM] [Info] [binary:BoostFromScore]: pavg=0.491291 -> initscore=-0.034838\n",
      "[LightGBM] [Info] Start training from score -0.034838\n",
      "[LightGBM] [Info] Number of positive: 9112, number of negative: 9434\n",
      "[LightGBM] [Info] Auto-choosing row-wise multi-threading, the overhead of testing was 0.036794 seconds.\n",
      "You can set `force_row_wise=true` to remove the overhead.\n",
      "And if memory is not enough, you can set `force_col_wise=true`.\n",
      "[LightGBM] [Info] Total Bins 940\n",
      "[LightGBM] [Info] Number of data points in the train set: 18546, number of used features: 470\n",
      "[LightGBM] [Info] [binary:BoostFromScore]: pavg=0.491319 -> initscore=-0.034728\n",
      "[LightGBM] [Info] Start training from score -0.034728\n",
      "[LightGBM] [Info] Number of positive: 9111, number of negative: 9435\n",
      "[LightGBM] [Info] Auto-choosing row-wise multi-threading, the overhead of testing was 0.037450 seconds.\n",
      "You can set `force_row_wise=true` to remove the overhead.\n",
      "And if memory is not enough, you can set `force_col_wise=true`.\n",
      "[LightGBM] [Info] Total Bins 950\n",
      "[LightGBM] [Info] Number of data points in the train set: 18546, number of used features: 475\n",
      "[LightGBM] [Info] [binary:BoostFromScore]: pavg=0.491265 -> initscore=-0.034944\n",
      "[LightGBM] [Info] Start training from score -0.034944\n",
      "[LightGBM] [Info] Number of positive: 9111, number of negative: 9435\n",
      "[LightGBM] [Info] Auto-choosing col-wise multi-threading, the overhead of testing was 0.035458 seconds.\n",
      "You can set `force_col_wise=true` to remove the overhead.\n",
      "[LightGBM] [Info] Total Bins 918\n",
      "[LightGBM] [Info] Number of data points in the train set: 18546, number of used features: 459\n",
      "[LightGBM] [Info] [binary:BoostFromScore]: pavg=0.491265 -> initscore=-0.034944\n",
      "[LightGBM] [Info] Start training from score -0.034944\n",
      "[LightGBM] [Info] Number of positive: 9111, number of negative: 9434\n",
      "[LightGBM] [Info] Auto-choosing row-wise multi-threading, the overhead of testing was 0.036898 seconds.\n",
      "You can set `force_row_wise=true` to remove the overhead.\n",
      "And if memory is not enough, you can set `force_col_wise=true`.\n",
      "[LightGBM] [Info] Total Bins 944\n",
      "[LightGBM] [Info] Number of data points in the train set: 18545, number of used features: 472\n",
      "[LightGBM] [Info] [binary:BoostFromScore]: pavg=0.491291 -> initscore=-0.034838\n",
      "[LightGBM] [Info] Start training from score -0.034838\n",
      "[LightGBM] [Info] Number of positive: 9111, number of negative: 9434\n",
      "[LightGBM] [Info] Auto-choosing row-wise multi-threading, the overhead of testing was 0.037100 seconds.\n",
      "You can set `force_row_wise=true` to remove the overhead.\n",
      "And if memory is not enough, you can set `force_col_wise=true`.\n",
      "[LightGBM] [Info] Total Bins 940\n",
      "[LightGBM] [Info] Number of data points in the train set: 18545, number of used features: 470\n",
      "[LightGBM] [Info] [binary:BoostFromScore]: pavg=0.491291 -> initscore=-0.034838\n",
      "[LightGBM] [Info] Start training from score -0.034838\n",
      "[LightGBM] [Info] Number of positive: 9112, number of negative: 9434\n",
      "[LightGBM] [Info] Auto-choosing row-wise multi-threading, the overhead of testing was 0.037826 seconds.\n",
      "You can set `force_row_wise=true` to remove the overhead.\n",
      "And if memory is not enough, you can set `force_col_wise=true`.\n",
      "[LightGBM] [Info] Total Bins 940\n",
      "[LightGBM] [Info] Number of data points in the train set: 18546, number of used features: 470\n",
      "[LightGBM] [Info] [binary:BoostFromScore]: pavg=0.491319 -> initscore=-0.034728\n",
      "[LightGBM] [Info] Start training from score -0.034728\n",
      "[LightGBM] [Info] Number of positive: 9111, number of negative: 9435\n",
      "[LightGBM] [Info] Auto-choosing row-wise multi-threading, the overhead of testing was 0.037390 seconds.\n",
      "You can set `force_row_wise=true` to remove the overhead.\n",
      "And if memory is not enough, you can set `force_col_wise=true`.\n",
      "[LightGBM] [Info] Total Bins 950\n",
      "[LightGBM] [Info] Number of data points in the train set: 18546, number of used features: 475\n",
      "[LightGBM] [Info] [binary:BoostFromScore]: pavg=0.491265 -> initscore=-0.034944\n",
      "[LightGBM] [Info] Start training from score -0.034944\n",
      "[LightGBM] [Info] Number of positive: 9111, number of negative: 9435\n",
      "[LightGBM] [Info] Auto-choosing row-wise multi-threading, the overhead of testing was 0.035815 seconds.\n",
      "You can set `force_row_wise=true` to remove the overhead.\n",
      "And if memory is not enough, you can set `force_col_wise=true`.\n",
      "[LightGBM] [Info] Total Bins 918\n",
      "[LightGBM] [Info] Number of data points in the train set: 18546, number of used features: 459\n",
      "[LightGBM] [Info] [binary:BoostFromScore]: pavg=0.491265 -> initscore=-0.034944\n",
      "[LightGBM] [Info] Start training from score -0.034944\n",
      "[LightGBM] [Info] Number of positive: 9111, number of negative: 9434\n",
      "[LightGBM] [Info] Auto-choosing row-wise multi-threading, the overhead of testing was 0.037502 seconds.\n",
      "You can set `force_row_wise=true` to remove the overhead.\n",
      "And if memory is not enough, you can set `force_col_wise=true`.\n",
      "[LightGBM] [Info] Total Bins 944\n",
      "[LightGBM] [Info] Number of data points in the train set: 18545, number of used features: 472\n",
      "[LightGBM] [Info] [binary:BoostFromScore]: pavg=0.491291 -> initscore=-0.034838\n",
      "[LightGBM] [Info] Start training from score -0.034838\n",
      "[LightGBM] [Info] Number of positive: 9111, number of negative: 9434\n",
      "[LightGBM] [Info] Auto-choosing row-wise multi-threading, the overhead of testing was 0.036974 seconds.\n",
      "You can set `force_row_wise=true` to remove the overhead.\n",
      "And if memory is not enough, you can set `force_col_wise=true`.\n",
      "[LightGBM] [Info] Total Bins 940\n",
      "[LightGBM] [Info] Number of data points in the train set: 18545, number of used features: 470\n",
      "[LightGBM] [Info] [binary:BoostFromScore]: pavg=0.491291 -> initscore=-0.034838\n",
      "[LightGBM] [Info] Start training from score -0.034838\n",
      "[LightGBM] [Info] Number of positive: 9112, number of negative: 9434\n",
      "[LightGBM] [Info] Auto-choosing row-wise multi-threading, the overhead of testing was 0.037431 seconds.\n",
      "You can set `force_row_wise=true` to remove the overhead.\n",
      "And if memory is not enough, you can set `force_col_wise=true`.\n",
      "[LightGBM] [Info] Total Bins 940\n",
      "[LightGBM] [Info] Number of data points in the train set: 18546, number of used features: 470\n",
      "[LightGBM] [Info] [binary:BoostFromScore]: pavg=0.491319 -> initscore=-0.034728\n",
      "[LightGBM] [Info] Start training from score -0.034728\n",
      "[LightGBM] [Info] Number of positive: 9111, number of negative: 9435\n",
      "[LightGBM] [Info] Auto-choosing row-wise multi-threading, the overhead of testing was 0.037468 seconds.\n",
      "You can set `force_row_wise=true` to remove the overhead.\n",
      "And if memory is not enough, you can set `force_col_wise=true`.\n",
      "[LightGBM] [Info] Total Bins 950\n",
      "[LightGBM] [Info] Number of data points in the train set: 18546, number of used features: 475\n",
      "[LightGBM] [Info] [binary:BoostFromScore]: pavg=0.491265 -> initscore=-0.034944\n",
      "[LightGBM] [Info] Start training from score -0.034944\n",
      "[LightGBM] [Info] Number of positive: 9111, number of negative: 9435\n",
      "[LightGBM] [Info] Auto-choosing row-wise multi-threading, the overhead of testing was 0.036537 seconds.\n",
      "You can set `force_row_wise=true` to remove the overhead.\n",
      "And if memory is not enough, you can set `force_col_wise=true`.\n",
      "[LightGBM] [Info] Total Bins 918\n",
      "[LightGBM] [Info] Number of data points in the train set: 18546, number of used features: 459\n",
      "[LightGBM] [Info] [binary:BoostFromScore]: pavg=0.491265 -> initscore=-0.034944\n",
      "[LightGBM] [Info] Start training from score -0.034944\n",
      "[LightGBM] [Info] Number of positive: 9111, number of negative: 9434\n",
      "[LightGBM] [Info] Auto-choosing row-wise multi-threading, the overhead of testing was 0.037338 seconds.\n",
      "You can set `force_row_wise=true` to remove the overhead.\n",
      "And if memory is not enough, you can set `force_col_wise=true`.\n",
      "[LightGBM] [Info] Total Bins 944\n",
      "[LightGBM] [Info] Number of data points in the train set: 18545, number of used features: 472\n",
      "[LightGBM] [Info] [binary:BoostFromScore]: pavg=0.491291 -> initscore=-0.034838\n",
      "[LightGBM] [Info] Start training from score -0.034838\n",
      "[LightGBM] [Info] Number of positive: 9111, number of negative: 9434\n",
      "[LightGBM] [Info] Auto-choosing row-wise multi-threading, the overhead of testing was 0.037124 seconds.\n",
      "You can set `force_row_wise=true` to remove the overhead.\n",
      "And if memory is not enough, you can set `force_col_wise=true`.\n",
      "[LightGBM] [Info] Total Bins 940\n",
      "[LightGBM] [Info] Number of data points in the train set: 18545, number of used features: 470\n",
      "[LightGBM] [Info] [binary:BoostFromScore]: pavg=0.491291 -> initscore=-0.034838\n",
      "[LightGBM] [Info] Start training from score -0.034838\n",
      "[LightGBM] [Info] Number of positive: 9112, number of negative: 9434\n",
      "[LightGBM] [Info] Auto-choosing row-wise multi-threading, the overhead of testing was 0.037151 seconds.\n",
      "You can set `force_row_wise=true` to remove the overhead.\n",
      "And if memory is not enough, you can set `force_col_wise=true`.\n",
      "[LightGBM] [Info] Total Bins 940\n",
      "[LightGBM] [Info] Number of data points in the train set: 18546, number of used features: 470\n",
      "[LightGBM] [Info] [binary:BoostFromScore]: pavg=0.491319 -> initscore=-0.034728\n",
      "[LightGBM] [Info] Start training from score -0.034728\n",
      "[LightGBM] [Info] Number of positive: 9111, number of negative: 9435\n",
      "[LightGBM] [Info] Auto-choosing row-wise multi-threading, the overhead of testing was 0.037493 seconds.\n",
      "You can set `force_row_wise=true` to remove the overhead.\n",
      "And if memory is not enough, you can set `force_col_wise=true`.\n",
      "[LightGBM] [Info] Total Bins 950\n",
      "[LightGBM] [Info] Number of data points in the train set: 18546, number of used features: 475\n",
      "[LightGBM] [Info] [binary:BoostFromScore]: pavg=0.491265 -> initscore=-0.034944\n",
      "[LightGBM] [Info] Start training from score -0.034944\n",
      "[LightGBM] [Info] Number of positive: 9111, number of negative: 9435\n",
      "[LightGBM] [Info] Auto-choosing row-wise multi-threading, the overhead of testing was 0.035723 seconds.\n",
      "You can set `force_row_wise=true` to remove the overhead.\n",
      "And if memory is not enough, you can set `force_col_wise=true`.\n",
      "[LightGBM] [Info] Total Bins 918\n",
      "[LightGBM] [Info] Number of data points in the train set: 18546, number of used features: 459\n",
      "[LightGBM] [Info] [binary:BoostFromScore]: pavg=0.491265 -> initscore=-0.034944\n",
      "[LightGBM] [Info] Start training from score -0.034944\n",
      "[LightGBM] [Info] Number of positive: 9111, number of negative: 9434\n",
      "[LightGBM] [Info] Auto-choosing row-wise multi-threading, the overhead of testing was 0.037182 seconds.\n",
      "You can set `force_row_wise=true` to remove the overhead.\n",
      "And if memory is not enough, you can set `force_col_wise=true`.\n",
      "[LightGBM] [Info] Total Bins 944\n",
      "[LightGBM] [Info] Number of data points in the train set: 18545, number of used features: 472\n",
      "[LightGBM] [Info] [binary:BoostFromScore]: pavg=0.491291 -> initscore=-0.034838\n",
      "[LightGBM] [Info] Start training from score -0.034838\n",
      "[LightGBM] [Info] Number of positive: 9111, number of negative: 9434\n",
      "[LightGBM] [Info] Auto-choosing row-wise multi-threading, the overhead of testing was 0.036780 seconds.\n",
      "You can set `force_row_wise=true` to remove the overhead.\n",
      "And if memory is not enough, you can set `force_col_wise=true`.\n",
      "[LightGBM] [Info] Total Bins 940\n",
      "[LightGBM] [Info] Number of data points in the train set: 18545, number of used features: 470\n",
      "[LightGBM] [Info] [binary:BoostFromScore]: pavg=0.491291 -> initscore=-0.034838\n",
      "[LightGBM] [Info] Start training from score -0.034838\n",
      "[LightGBM] [Info] Number of positive: 9112, number of negative: 9434\n",
      "[LightGBM] [Info] Auto-choosing row-wise multi-threading, the overhead of testing was 0.036785 seconds.\n",
      "You can set `force_row_wise=true` to remove the overhead.\n",
      "And if memory is not enough, you can set `force_col_wise=true`.\n",
      "[LightGBM] [Info] Total Bins 940\n",
      "[LightGBM] [Info] Number of data points in the train set: 18546, number of used features: 470\n",
      "[LightGBM] [Info] [binary:BoostFromScore]: pavg=0.491319 -> initscore=-0.034728\n",
      "[LightGBM] [Info] Start training from score -0.034728\n",
      "[LightGBM] [Info] Number of positive: 9111, number of negative: 9435\n",
      "[LightGBM] [Info] Auto-choosing row-wise multi-threading, the overhead of testing was 0.037125 seconds.\n",
      "You can set `force_row_wise=true` to remove the overhead.\n",
      "And if memory is not enough, you can set `force_col_wise=true`.\n",
      "[LightGBM] [Info] Total Bins 950\n",
      "[LightGBM] [Info] Number of data points in the train set: 18546, number of used features: 475\n",
      "[LightGBM] [Info] [binary:BoostFromScore]: pavg=0.491265 -> initscore=-0.034944\n",
      "[LightGBM] [Info] Start training from score -0.034944\n",
      "[LightGBM] [Info] Number of positive: 9111, number of negative: 9435\n",
      "[LightGBM] [Info] Auto-choosing row-wise multi-threading, the overhead of testing was 0.035552 seconds.\n",
      "You can set `force_row_wise=true` to remove the overhead.\n",
      "And if memory is not enough, you can set `force_col_wise=true`.\n",
      "[LightGBM] [Info] Total Bins 918\n",
      "[LightGBM] [Info] Number of data points in the train set: 18546, number of used features: 459\n",
      "[LightGBM] [Info] [binary:BoostFromScore]: pavg=0.491265 -> initscore=-0.034944\n",
      "[LightGBM] [Info] Start training from score -0.034944\n",
      "[LightGBM] [Info] Number of positive: 9111, number of negative: 9434\n",
      "[LightGBM] [Info] Auto-choosing row-wise multi-threading, the overhead of testing was 0.037177 seconds.\n",
      "You can set `force_row_wise=true` to remove the overhead.\n",
      "And if memory is not enough, you can set `force_col_wise=true`.\n",
      "[LightGBM] [Info] Total Bins 944\n",
      "[LightGBM] [Info] Number of data points in the train set: 18545, number of used features: 472\n",
      "[LightGBM] [Info] [binary:BoostFromScore]: pavg=0.491291 -> initscore=-0.034838\n",
      "[LightGBM] [Info] Start training from score -0.034838\n",
      "[LightGBM] [Info] Number of positive: 9111, number of negative: 9434\n",
      "[LightGBM] [Info] Auto-choosing col-wise multi-threading, the overhead of testing was 0.036433 seconds.\n",
      "You can set `force_col_wise=true` to remove the overhead.\n",
      "[LightGBM] [Info] Total Bins 940\n",
      "[LightGBM] [Info] Number of data points in the train set: 18545, number of used features: 470\n",
      "[LightGBM] [Info] [binary:BoostFromScore]: pavg=0.491291 -> initscore=-0.034838\n",
      "[LightGBM] [Info] Start training from score -0.034838\n",
      "[LightGBM] [Info] Number of positive: 9112, number of negative: 9434\n",
      "[LightGBM] [Info] Auto-choosing row-wise multi-threading, the overhead of testing was 0.036640 seconds.\n",
      "You can set `force_row_wise=true` to remove the overhead.\n",
      "And if memory is not enough, you can set `force_col_wise=true`.\n",
      "[LightGBM] [Info] Total Bins 940\n",
      "[LightGBM] [Info] Number of data points in the train set: 18546, number of used features: 470\n",
      "[LightGBM] [Info] [binary:BoostFromScore]: pavg=0.491319 -> initscore=-0.034728\n",
      "[LightGBM] [Info] Start training from score -0.034728\n",
      "[LightGBM] [Info] Number of positive: 9111, number of negative: 9435\n",
      "[LightGBM] [Info] Auto-choosing row-wise multi-threading, the overhead of testing was 0.037100 seconds.\n",
      "You can set `force_row_wise=true` to remove the overhead.\n",
      "And if memory is not enough, you can set `force_col_wise=true`.\n",
      "[LightGBM] [Info] Total Bins 950\n",
      "[LightGBM] [Info] Number of data points in the train set: 18546, number of used features: 475\n",
      "[LightGBM] [Info] [binary:BoostFromScore]: pavg=0.491265 -> initscore=-0.034944\n",
      "[LightGBM] [Info] Start training from score -0.034944\n",
      "[LightGBM] [Info] Number of positive: 9111, number of negative: 9435\n",
      "[LightGBM] [Info] Auto-choosing row-wise multi-threading, the overhead of testing was 0.035783 seconds.\n",
      "You can set `force_row_wise=true` to remove the overhead.\n",
      "And if memory is not enough, you can set `force_col_wise=true`.\n",
      "[LightGBM] [Info] Total Bins 918\n",
      "[LightGBM] [Info] Number of data points in the train set: 18546, number of used features: 459\n",
      "[LightGBM] [Info] [binary:BoostFromScore]: pavg=0.491265 -> initscore=-0.034944\n",
      "[LightGBM] [Info] Start training from score -0.034944\n",
      "[LightGBM] [Info] Number of positive: 9111, number of negative: 9434\n",
      "[LightGBM] [Info] Auto-choosing row-wise multi-threading, the overhead of testing was 0.036930 seconds.\n",
      "You can set `force_row_wise=true` to remove the overhead.\n",
      "And if memory is not enough, you can set `force_col_wise=true`.\n",
      "[LightGBM] [Info] Total Bins 944\n",
      "[LightGBM] [Info] Number of data points in the train set: 18545, number of used features: 472\n",
      "[LightGBM] [Info] [binary:BoostFromScore]: pavg=0.491291 -> initscore=-0.034838\n",
      "[LightGBM] [Info] Start training from score -0.034838\n",
      "[LightGBM] [Info] Number of positive: 9111, number of negative: 9434\n",
      "[LightGBM] [Info] Auto-choosing row-wise multi-threading, the overhead of testing was 0.036842 seconds.\n",
      "You can set `force_row_wise=true` to remove the overhead.\n",
      "And if memory is not enough, you can set `force_col_wise=true`.\n",
      "[LightGBM] [Info] Total Bins 940\n",
      "[LightGBM] [Info] Number of data points in the train set: 18545, number of used features: 470\n",
      "[LightGBM] [Info] [binary:BoostFromScore]: pavg=0.491291 -> initscore=-0.034838\n",
      "[LightGBM] [Info] Start training from score -0.034838\n",
      "[LightGBM] [Info] Number of positive: 9112, number of negative: 9434\n",
      "[LightGBM] [Info] Auto-choosing row-wise multi-threading, the overhead of testing was 0.036983 seconds.\n",
      "You can set `force_row_wise=true` to remove the overhead.\n",
      "And if memory is not enough, you can set `force_col_wise=true`.\n",
      "[LightGBM] [Info] Total Bins 940\n",
      "[LightGBM] [Info] Number of data points in the train set: 18546, number of used features: 470\n",
      "[LightGBM] [Info] [binary:BoostFromScore]: pavg=0.491319 -> initscore=-0.034728\n",
      "[LightGBM] [Info] Start training from score -0.034728\n",
      "[LightGBM] [Info] Number of positive: 9111, number of negative: 9435\n",
      "[LightGBM] [Info] Auto-choosing row-wise multi-threading, the overhead of testing was 0.037071 seconds.\n",
      "You can set `force_row_wise=true` to remove the overhead.\n",
      "And if memory is not enough, you can set `force_col_wise=true`.\n",
      "[LightGBM] [Info] Total Bins 950\n",
      "[LightGBM] [Info] Number of data points in the train set: 18546, number of used features: 475\n",
      "[LightGBM] [Info] [binary:BoostFromScore]: pavg=0.491265 -> initscore=-0.034944\n",
      "[LightGBM] [Info] Start training from score -0.034944\n",
      "[LightGBM] [Info] Number of positive: 9111, number of negative: 9435\n",
      "[LightGBM] [Info] Auto-choosing row-wise multi-threading, the overhead of testing was 0.037163 seconds.\n",
      "You can set `force_row_wise=true` to remove the overhead.\n",
      "And if memory is not enough, you can set `force_col_wise=true`.\n",
      "[LightGBM] [Info] Total Bins 918\n",
      "[LightGBM] [Info] Number of data points in the train set: 18546, number of used features: 459\n",
      "[LightGBM] [Info] [binary:BoostFromScore]: pavg=0.491265 -> initscore=-0.034944\n",
      "[LightGBM] [Info] Start training from score -0.034944\n",
      "[LightGBM] [Info] Number of positive: 9111, number of negative: 9434\n",
      "[LightGBM] [Info] Auto-choosing row-wise multi-threading, the overhead of testing was 0.036842 seconds.\n",
      "You can set `force_row_wise=true` to remove the overhead.\n",
      "And if memory is not enough, you can set `force_col_wise=true`.\n",
      "[LightGBM] [Info] Total Bins 944\n",
      "[LightGBM] [Info] Number of data points in the train set: 18545, number of used features: 472\n",
      "[LightGBM] [Info] [binary:BoostFromScore]: pavg=0.491291 -> initscore=-0.034838\n",
      "[LightGBM] [Info] Start training from score -0.034838\n",
      "[LightGBM] [Info] Number of positive: 9111, number of negative: 9434\n",
      "[LightGBM] [Info] Auto-choosing row-wise multi-threading, the overhead of testing was 0.036927 seconds.\n",
      "You can set `force_row_wise=true` to remove the overhead.\n",
      "And if memory is not enough, you can set `force_col_wise=true`.\n",
      "[LightGBM] [Info] Total Bins 940\n",
      "[LightGBM] [Info] Number of data points in the train set: 18545, number of used features: 470\n",
      "[LightGBM] [Info] [binary:BoostFromScore]: pavg=0.491291 -> initscore=-0.034838\n",
      "[LightGBM] [Info] Start training from score -0.034838\n",
      "[LightGBM] [Info] Number of positive: 9112, number of negative: 9434\n",
      "[LightGBM] [Info] Auto-choosing row-wise multi-threading, the overhead of testing was 0.036505 seconds.\n",
      "You can set `force_row_wise=true` to remove the overhead.\n",
      "And if memory is not enough, you can set `force_col_wise=true`.\n",
      "[LightGBM] [Info] Total Bins 940\n",
      "[LightGBM] [Info] Number of data points in the train set: 18546, number of used features: 470\n",
      "[LightGBM] [Info] [binary:BoostFromScore]: pavg=0.491319 -> initscore=-0.034728\n",
      "[LightGBM] [Info] Start training from score -0.034728\n",
      "[LightGBM] [Info] Number of positive: 9111, number of negative: 9435\n",
      "[LightGBM] [Info] Auto-choosing row-wise multi-threading, the overhead of testing was 0.037274 seconds.\n",
      "You can set `force_row_wise=true` to remove the overhead.\n",
      "And if memory is not enough, you can set `force_col_wise=true`.\n",
      "[LightGBM] [Info] Total Bins 950\n",
      "[LightGBM] [Info] Number of data points in the train set: 18546, number of used features: 475\n",
      "[LightGBM] [Info] [binary:BoostFromScore]: pavg=0.491265 -> initscore=-0.034944\n",
      "[LightGBM] [Info] Start training from score -0.034944\n",
      "[LightGBM] [Info] Number of positive: 9111, number of negative: 9435\n",
      "[LightGBM] [Info] Auto-choosing row-wise multi-threading, the overhead of testing was 0.036255 seconds.\n",
      "You can set `force_row_wise=true` to remove the overhead.\n",
      "And if memory is not enough, you can set `force_col_wise=true`.\n",
      "[LightGBM] [Info] Total Bins 918\n",
      "[LightGBM] [Info] Number of data points in the train set: 18546, number of used features: 459\n",
      "[LightGBM] [Info] [binary:BoostFromScore]: pavg=0.491265 -> initscore=-0.034944\n",
      "[LightGBM] [Info] Start training from score -0.034944\n",
      "[LightGBM] [Info] Number of positive: 9111, number of negative: 9434\n",
      "[LightGBM] [Info] Auto-choosing row-wise multi-threading, the overhead of testing was 0.036940 seconds.\n",
      "You can set `force_row_wise=true` to remove the overhead.\n",
      "And if memory is not enough, you can set `force_col_wise=true`.\n",
      "[LightGBM] [Info] Total Bins 944\n",
      "[LightGBM] [Info] Number of data points in the train set: 18545, number of used features: 472\n",
      "[LightGBM] [Info] [binary:BoostFromScore]: pavg=0.491291 -> initscore=-0.034838\n",
      "[LightGBM] [Info] Start training from score -0.034838\n",
      "[LightGBM] [Info] Number of positive: 9111, number of negative: 9434\n",
      "[LightGBM] [Info] Auto-choosing row-wise multi-threading, the overhead of testing was 0.036678 seconds.\n",
      "You can set `force_row_wise=true` to remove the overhead.\n",
      "And if memory is not enough, you can set `force_col_wise=true`.\n",
      "[LightGBM] [Info] Total Bins 940\n",
      "[LightGBM] [Info] Number of data points in the train set: 18545, number of used features: 470\n",
      "[LightGBM] [Info] [binary:BoostFromScore]: pavg=0.491291 -> initscore=-0.034838\n",
      "[LightGBM] [Info] Start training from score -0.034838\n",
      "[LightGBM] [Info] Number of positive: 9112, number of negative: 9434\n",
      "[LightGBM] [Info] Auto-choosing row-wise multi-threading, the overhead of testing was 0.036998 seconds.\n",
      "You can set `force_row_wise=true` to remove the overhead.\n",
      "And if memory is not enough, you can set `force_col_wise=true`.\n",
      "[LightGBM] [Info] Total Bins 940\n",
      "[LightGBM] [Info] Number of data points in the train set: 18546, number of used features: 470\n",
      "[LightGBM] [Info] [binary:BoostFromScore]: pavg=0.491319 -> initscore=-0.034728\n",
      "[LightGBM] [Info] Start training from score -0.034728\n",
      "[LightGBM] [Info] Number of positive: 9111, number of negative: 9435\n",
      "[LightGBM] [Info] Auto-choosing row-wise multi-threading, the overhead of testing was 0.037199 seconds.\n",
      "You can set `force_row_wise=true` to remove the overhead.\n",
      "And if memory is not enough, you can set `force_col_wise=true`.\n",
      "[LightGBM] [Info] Total Bins 950\n",
      "[LightGBM] [Info] Number of data points in the train set: 18546, number of used features: 475\n",
      "[LightGBM] [Info] [binary:BoostFromScore]: pavg=0.491265 -> initscore=-0.034944\n",
      "[LightGBM] [Info] Start training from score -0.034944\n",
      "[LightGBM] [Info] Number of positive: 9111, number of negative: 9435\n",
      "[LightGBM] [Info] Auto-choosing row-wise multi-threading, the overhead of testing was 0.035642 seconds.\n",
      "You can set `force_row_wise=true` to remove the overhead.\n",
      "And if memory is not enough, you can set `force_col_wise=true`.\n",
      "[LightGBM] [Info] Total Bins 918\n",
      "[LightGBM] [Info] Number of data points in the train set: 18546, number of used features: 459\n",
      "[LightGBM] [Info] [binary:BoostFromScore]: pavg=0.491265 -> initscore=-0.034944\n",
      "[LightGBM] [Info] Start training from score -0.034944\n",
      "[LightGBM] [Info] Number of positive: 9111, number of negative: 9434\n",
      "[LightGBM] [Info] Auto-choosing row-wise multi-threading, the overhead of testing was 0.037041 seconds.\n",
      "You can set `force_row_wise=true` to remove the overhead.\n",
      "And if memory is not enough, you can set `force_col_wise=true`.\n",
      "[LightGBM] [Info] Total Bins 944\n",
      "[LightGBM] [Info] Number of data points in the train set: 18545, number of used features: 472\n",
      "[LightGBM] [Info] [binary:BoostFromScore]: pavg=0.491291 -> initscore=-0.034838\n",
      "[LightGBM] [Info] Start training from score -0.034838\n",
      "[LightGBM] [Info] Number of positive: 9111, number of negative: 9434\n",
      "[LightGBM] [Info] Auto-choosing row-wise multi-threading, the overhead of testing was 0.037323 seconds.\n",
      "You can set `force_row_wise=true` to remove the overhead.\n",
      "And if memory is not enough, you can set `force_col_wise=true`.\n",
      "[LightGBM] [Info] Total Bins 940\n",
      "[LightGBM] [Info] Number of data points in the train set: 18545, number of used features: 470\n",
      "[LightGBM] [Info] [binary:BoostFromScore]: pavg=0.491291 -> initscore=-0.034838\n",
      "[LightGBM] [Info] Start training from score -0.034838\n",
      "[LightGBM] [Info] Number of positive: 9112, number of negative: 9434\n",
      "[LightGBM] [Info] Auto-choosing row-wise multi-threading, the overhead of testing was 0.036724 seconds.\n",
      "You can set `force_row_wise=true` to remove the overhead.\n",
      "And if memory is not enough, you can set `force_col_wise=true`.\n",
      "[LightGBM] [Info] Total Bins 940\n",
      "[LightGBM] [Info] Number of data points in the train set: 18546, number of used features: 470\n",
      "[LightGBM] [Info] [binary:BoostFromScore]: pavg=0.491319 -> initscore=-0.034728\n",
      "[LightGBM] [Info] Start training from score -0.034728\n",
      "[LightGBM] [Info] Number of positive: 9111, number of negative: 9435\n",
      "[LightGBM] [Info] Auto-choosing row-wise multi-threading, the overhead of testing was 0.037330 seconds.\n",
      "You can set `force_row_wise=true` to remove the overhead.\n",
      "And if memory is not enough, you can set `force_col_wise=true`.\n",
      "[LightGBM] [Info] Total Bins 950\n",
      "[LightGBM] [Info] Number of data points in the train set: 18546, number of used features: 475\n",
      "[LightGBM] [Info] [binary:BoostFromScore]: pavg=0.491265 -> initscore=-0.034944\n",
      "[LightGBM] [Info] Start training from score -0.034944\n",
      "[LightGBM] [Info] Number of positive: 9111, number of negative: 9435\n",
      "[LightGBM] [Info] Auto-choosing row-wise multi-threading, the overhead of testing was 0.036510 seconds.\n",
      "You can set `force_row_wise=true` to remove the overhead.\n",
      "And if memory is not enough, you can set `force_col_wise=true`.\n",
      "[LightGBM] [Info] Total Bins 918\n",
      "[LightGBM] [Info] Number of data points in the train set: 18546, number of used features: 459\n",
      "[LightGBM] [Info] [binary:BoostFromScore]: pavg=0.491265 -> initscore=-0.034944\n",
      "[LightGBM] [Info] Start training from score -0.034944\n",
      "[LightGBM] [Info] Number of positive: 9111, number of negative: 9434\n",
      "[LightGBM] [Info] Auto-choosing row-wise multi-threading, the overhead of testing was 0.036814 seconds.\n",
      "You can set `force_row_wise=true` to remove the overhead.\n",
      "And if memory is not enough, you can set `force_col_wise=true`.\n",
      "[LightGBM] [Info] Total Bins 944\n",
      "[LightGBM] [Info] Number of data points in the train set: 18545, number of used features: 472\n",
      "[LightGBM] [Info] [binary:BoostFromScore]: pavg=0.491291 -> initscore=-0.034838\n",
      "[LightGBM] [Info] Start training from score -0.034838\n",
      "[LightGBM] [Info] Number of positive: 9111, number of negative: 9434\n",
      "[LightGBM] [Info] Auto-choosing row-wise multi-threading, the overhead of testing was 0.036709 seconds.\n",
      "You can set `force_row_wise=true` to remove the overhead.\n",
      "And if memory is not enough, you can set `force_col_wise=true`.\n",
      "[LightGBM] [Info] Total Bins 940\n",
      "[LightGBM] [Info] Number of data points in the train set: 18545, number of used features: 470\n",
      "[LightGBM] [Info] [binary:BoostFromScore]: pavg=0.491291 -> initscore=-0.034838\n",
      "[LightGBM] [Info] Start training from score -0.034838\n",
      "[LightGBM] [Info] Number of positive: 9112, number of negative: 9434\n",
      "[LightGBM] [Info] Auto-choosing row-wise multi-threading, the overhead of testing was 0.036794 seconds.\n",
      "You can set `force_row_wise=true` to remove the overhead.\n",
      "And if memory is not enough, you can set `force_col_wise=true`.\n",
      "[LightGBM] [Info] Total Bins 940\n",
      "[LightGBM] [Info] Number of data points in the train set: 18546, number of used features: 470\n",
      "[LightGBM] [Info] [binary:BoostFromScore]: pavg=0.491319 -> initscore=-0.034728\n",
      "[LightGBM] [Info] Start training from score -0.034728\n",
      "[LightGBM] [Info] Number of positive: 9111, number of negative: 9435\n",
      "[LightGBM] [Info] Auto-choosing row-wise multi-threading, the overhead of testing was 0.037314 seconds.\n",
      "You can set `force_row_wise=true` to remove the overhead.\n",
      "And if memory is not enough, you can set `force_col_wise=true`.\n",
      "[LightGBM] [Info] Total Bins 950\n",
      "[LightGBM] [Info] Number of data points in the train set: 18546, number of used features: 475\n",
      "[LightGBM] [Info] [binary:BoostFromScore]: pavg=0.491265 -> initscore=-0.034944\n",
      "[LightGBM] [Info] Start training from score -0.034944\n",
      "[LightGBM] [Info] Number of positive: 9111, number of negative: 9435\n",
      "[LightGBM] [Info] Auto-choosing row-wise multi-threading, the overhead of testing was 0.036163 seconds.\n",
      "You can set `force_row_wise=true` to remove the overhead.\n",
      "And if memory is not enough, you can set `force_col_wise=true`.\n",
      "[LightGBM] [Info] Total Bins 918\n",
      "[LightGBM] [Info] Number of data points in the train set: 18546, number of used features: 459\n",
      "[LightGBM] [Info] [binary:BoostFromScore]: pavg=0.491265 -> initscore=-0.034944\n",
      "[LightGBM] [Info] Start training from score -0.034944\n",
      "[LightGBM] [Info] Number of positive: 9111, number of negative: 9434\n",
      "[LightGBM] [Info] Auto-choosing row-wise multi-threading, the overhead of testing was 0.036842 seconds.\n",
      "You can set `force_row_wise=true` to remove the overhead.\n",
      "And if memory is not enough, you can set `force_col_wise=true`.\n",
      "[LightGBM] [Info] Total Bins 944\n",
      "[LightGBM] [Info] Number of data points in the train set: 18545, number of used features: 472\n",
      "[LightGBM] [Info] [binary:BoostFromScore]: pavg=0.491291 -> initscore=-0.034838\n",
      "[LightGBM] [Info] Start training from score -0.034838\n",
      "[LightGBM] [Info] Number of positive: 9111, number of negative: 9434\n",
      "[LightGBM] [Info] Auto-choosing row-wise multi-threading, the overhead of testing was 0.036766 seconds.\n",
      "You can set `force_row_wise=true` to remove the overhead.\n",
      "And if memory is not enough, you can set `force_col_wise=true`.\n",
      "[LightGBM] [Info] Total Bins 940\n",
      "[LightGBM] [Info] Number of data points in the train set: 18545, number of used features: 470\n",
      "[LightGBM] [Info] [binary:BoostFromScore]: pavg=0.491291 -> initscore=-0.034838\n",
      "[LightGBM] [Info] Start training from score -0.034838\n",
      "[LightGBM] [Info] Number of positive: 9112, number of negative: 9434\n",
      "[LightGBM] [Info] Auto-choosing row-wise multi-threading, the overhead of testing was 0.036582 seconds.\n",
      "You can set `force_row_wise=true` to remove the overhead.\n",
      "And if memory is not enough, you can set `force_col_wise=true`.\n",
      "[LightGBM] [Info] Total Bins 940\n",
      "[LightGBM] [Info] Number of data points in the train set: 18546, number of used features: 470\n",
      "[LightGBM] [Info] [binary:BoostFromScore]: pavg=0.491319 -> initscore=-0.034728\n",
      "[LightGBM] [Info] Start training from score -0.034728\n",
      "[LightGBM] [Info] Number of positive: 9111, number of negative: 9435\n",
      "[LightGBM] [Info] Auto-choosing row-wise multi-threading, the overhead of testing was 0.037509 seconds.\n",
      "You can set `force_row_wise=true` to remove the overhead.\n",
      "And if memory is not enough, you can set `force_col_wise=true`.\n",
      "[LightGBM] [Info] Total Bins 950\n",
      "[LightGBM] [Info] Number of data points in the train set: 18546, number of used features: 475\n",
      "[LightGBM] [Info] [binary:BoostFromScore]: pavg=0.491265 -> initscore=-0.034944\n",
      "[LightGBM] [Info] Start training from score -0.034944\n",
      "[LightGBM] [Info] Number of positive: 9111, number of negative: 9435\n",
      "[LightGBM] [Info] Auto-choosing row-wise multi-threading, the overhead of testing was 0.036059 seconds.\n",
      "You can set `force_row_wise=true` to remove the overhead.\n",
      "And if memory is not enough, you can set `force_col_wise=true`.\n",
      "[LightGBM] [Info] Total Bins 918\n",
      "[LightGBM] [Info] Number of data points in the train set: 18546, number of used features: 459\n",
      "[LightGBM] [Info] [binary:BoostFromScore]: pavg=0.491265 -> initscore=-0.034944\n",
      "[LightGBM] [Info] Start training from score -0.034944\n",
      "[LightGBM] [Info] Number of positive: 9111, number of negative: 9434\n",
      "[LightGBM] [Info] Auto-choosing row-wise multi-threading, the overhead of testing was 0.036766 seconds.\n",
      "You can set `force_row_wise=true` to remove the overhead.\n",
      "And if memory is not enough, you can set `force_col_wise=true`.\n",
      "[LightGBM] [Info] Total Bins 944\n",
      "[LightGBM] [Info] Number of data points in the train set: 18545, number of used features: 472\n",
      "[LightGBM] [Info] [binary:BoostFromScore]: pavg=0.491291 -> initscore=-0.034838\n",
      "[LightGBM] [Info] Start training from score -0.034838\n",
      "[LightGBM] [Info] Number of positive: 9111, number of negative: 9434\n",
      "[LightGBM] [Info] Auto-choosing row-wise multi-threading, the overhead of testing was 0.036779 seconds.\n",
      "You can set `force_row_wise=true` to remove the overhead.\n",
      "And if memory is not enough, you can set `force_col_wise=true`.\n",
      "[LightGBM] [Info] Total Bins 940\n",
      "[LightGBM] [Info] Number of data points in the train set: 18545, number of used features: 470\n",
      "[LightGBM] [Info] [binary:BoostFromScore]: pavg=0.491291 -> initscore=-0.034838\n",
      "[LightGBM] [Info] Start training from score -0.034838\n",
      "[LightGBM] [Info] Number of positive: 9112, number of negative: 9434\n",
      "[LightGBM] [Info] Auto-choosing row-wise multi-threading, the overhead of testing was 0.036756 seconds.\n",
      "You can set `force_row_wise=true` to remove the overhead.\n",
      "And if memory is not enough, you can set `force_col_wise=true`.\n",
      "[LightGBM] [Info] Total Bins 940\n",
      "[LightGBM] [Info] Number of data points in the train set: 18546, number of used features: 470\n",
      "[LightGBM] [Info] [binary:BoostFromScore]: pavg=0.491319 -> initscore=-0.034728\n",
      "[LightGBM] [Info] Start training from score -0.034728\n",
      "[LightGBM] [Info] Number of positive: 9111, number of negative: 9435\n",
      "[LightGBM] [Info] Auto-choosing row-wise multi-threading, the overhead of testing was 0.037470 seconds.\n",
      "You can set `force_row_wise=true` to remove the overhead.\n",
      "And if memory is not enough, you can set `force_col_wise=true`.\n",
      "[LightGBM] [Info] Total Bins 950\n",
      "[LightGBM] [Info] Number of data points in the train set: 18546, number of used features: 475\n",
      "[LightGBM] [Info] [binary:BoostFromScore]: pavg=0.491265 -> initscore=-0.034944\n",
      "[LightGBM] [Info] Start training from score -0.034944\n",
      "[LightGBM] [Info] Number of positive: 9111, number of negative: 9435\n",
      "[LightGBM] [Info] Auto-choosing row-wise multi-threading, the overhead of testing was 0.035741 seconds.\n",
      "You can set `force_row_wise=true` to remove the overhead.\n",
      "And if memory is not enough, you can set `force_col_wise=true`.\n",
      "[LightGBM] [Info] Total Bins 918\n",
      "[LightGBM] [Info] Number of data points in the train set: 18546, number of used features: 459\n",
      "[LightGBM] [Info] [binary:BoostFromScore]: pavg=0.491265 -> initscore=-0.034944\n",
      "[LightGBM] [Info] Start training from score -0.034944\n",
      "[LightGBM] [Info] Number of positive: 9111, number of negative: 9434\n",
      "[LightGBM] [Info] Auto-choosing row-wise multi-threading, the overhead of testing was 0.036856 seconds.\n",
      "You can set `force_row_wise=true` to remove the overhead.\n",
      "And if memory is not enough, you can set `force_col_wise=true`.\n",
      "[LightGBM] [Info] Total Bins 944\n",
      "[LightGBM] [Info] Number of data points in the train set: 18545, number of used features: 472\n",
      "[LightGBM] [Info] [binary:BoostFromScore]: pavg=0.491291 -> initscore=-0.034838\n",
      "[LightGBM] [Info] Start training from score -0.034838\n",
      "[LightGBM] [Info] Number of positive: 9111, number of negative: 9434\n",
      "[LightGBM] [Info] Auto-choosing row-wise multi-threading, the overhead of testing was 0.036771 seconds.\n",
      "You can set `force_row_wise=true` to remove the overhead.\n",
      "And if memory is not enough, you can set `force_col_wise=true`.\n",
      "[LightGBM] [Info] Total Bins 940\n",
      "[LightGBM] [Info] Number of data points in the train set: 18545, number of used features: 470\n",
      "[LightGBM] [Info] [binary:BoostFromScore]: pavg=0.491291 -> initscore=-0.034838\n",
      "[LightGBM] [Info] Start training from score -0.034838\n",
      "[LightGBM] [Info] Number of positive: 9112, number of negative: 9434\n",
      "[LightGBM] [Info] Auto-choosing row-wise multi-threading, the overhead of testing was 0.036882 seconds.\n",
      "You can set `force_row_wise=true` to remove the overhead.\n",
      "And if memory is not enough, you can set `force_col_wise=true`.\n",
      "[LightGBM] [Info] Total Bins 940\n",
      "[LightGBM] [Info] Number of data points in the train set: 18546, number of used features: 470\n",
      "[LightGBM] [Info] [binary:BoostFromScore]: pavg=0.491319 -> initscore=-0.034728\n",
      "[LightGBM] [Info] Start training from score -0.034728\n",
      "[LightGBM] [Info] Number of positive: 9111, number of negative: 9435\n",
      "[LightGBM] [Info] Auto-choosing row-wise multi-threading, the overhead of testing was 0.036935 seconds.\n",
      "You can set `force_row_wise=true` to remove the overhead.\n",
      "And if memory is not enough, you can set `force_col_wise=true`.\n",
      "[LightGBM] [Info] Total Bins 950\n",
      "[LightGBM] [Info] Number of data points in the train set: 18546, number of used features: 475\n",
      "[LightGBM] [Info] [binary:BoostFromScore]: pavg=0.491265 -> initscore=-0.034944\n",
      "[LightGBM] [Info] Start training from score -0.034944\n",
      "[LightGBM] [Info] Number of positive: 9111, number of negative: 9435\n",
      "[LightGBM] [Info] Auto-choosing row-wise multi-threading, the overhead of testing was 0.036490 seconds.\n",
      "You can set `force_row_wise=true` to remove the overhead.\n",
      "And if memory is not enough, you can set `force_col_wise=true`.\n",
      "[LightGBM] [Info] Total Bins 918\n",
      "[LightGBM] [Info] Number of data points in the train set: 18546, number of used features: 459\n",
      "[LightGBM] [Info] [binary:BoostFromScore]: pavg=0.491265 -> initscore=-0.034944\n",
      "[LightGBM] [Info] Start training from score -0.034944\n",
      "[LightGBM] [Info] Number of positive: 9111, number of negative: 9434\n",
      "[LightGBM] [Info] Auto-choosing row-wise multi-threading, the overhead of testing was 0.036825 seconds.\n",
      "You can set `force_row_wise=true` to remove the overhead.\n",
      "And if memory is not enough, you can set `force_col_wise=true`.\n",
      "[LightGBM] [Info] Total Bins 944\n",
      "[LightGBM] [Info] Number of data points in the train set: 18545, number of used features: 472\n",
      "[LightGBM] [Info] [binary:BoostFromScore]: pavg=0.491291 -> initscore=-0.034838\n",
      "[LightGBM] [Info] Start training from score -0.034838\n",
      "[LightGBM] [Info] Number of positive: 9111, number of negative: 9434\n",
      "[LightGBM] [Info] Auto-choosing row-wise multi-threading, the overhead of testing was 0.036670 seconds.\n",
      "You can set `force_row_wise=true` to remove the overhead.\n",
      "And if memory is not enough, you can set `force_col_wise=true`.\n",
      "[LightGBM] [Info] Total Bins 940\n",
      "[LightGBM] [Info] Number of data points in the train set: 18545, number of used features: 470\n",
      "[LightGBM] [Info] [binary:BoostFromScore]: pavg=0.491291 -> initscore=-0.034838\n",
      "[LightGBM] [Info] Start training from score -0.034838\n",
      "[LightGBM] [Info] Number of positive: 9112, number of negative: 9434\n",
      "[LightGBM] [Info] Auto-choosing row-wise multi-threading, the overhead of testing was 0.037068 seconds.\n",
      "You can set `force_row_wise=true` to remove the overhead.\n",
      "And if memory is not enough, you can set `force_col_wise=true`.\n",
      "[LightGBM] [Info] Total Bins 940\n",
      "[LightGBM] [Info] Number of data points in the train set: 18546, number of used features: 470\n",
      "[LightGBM] [Info] [binary:BoostFromScore]: pavg=0.491319 -> initscore=-0.034728\n",
      "[LightGBM] [Info] Start training from score -0.034728\n",
      "[LightGBM] [Info] Number of positive: 9111, number of negative: 9435\n",
      "[LightGBM] [Info] Auto-choosing row-wise multi-threading, the overhead of testing was 0.037141 seconds.\n",
      "You can set `force_row_wise=true` to remove the overhead.\n",
      "And if memory is not enough, you can set `force_col_wise=true`.\n",
      "[LightGBM] [Info] Total Bins 950\n",
      "[LightGBM] [Info] Number of data points in the train set: 18546, number of used features: 475\n",
      "[LightGBM] [Info] [binary:BoostFromScore]: pavg=0.491265 -> initscore=-0.034944\n",
      "[LightGBM] [Info] Start training from score -0.034944\n",
      "[LightGBM] [Info] Number of positive: 9111, number of negative: 9435\n",
      "[LightGBM] [Info] Auto-choosing row-wise multi-threading, the overhead of testing was 0.035863 seconds.\n",
      "You can set `force_row_wise=true` to remove the overhead.\n",
      "And if memory is not enough, you can set `force_col_wise=true`.\n",
      "[LightGBM] [Info] Total Bins 918\n",
      "[LightGBM] [Info] Number of data points in the train set: 18546, number of used features: 459\n",
      "[LightGBM] [Info] [binary:BoostFromScore]: pavg=0.491265 -> initscore=-0.034944\n",
      "[LightGBM] [Info] Start training from score -0.034944\n",
      "[LightGBM] [Info] Number of positive: 9111, number of negative: 9434\n",
      "[LightGBM] [Info] Auto-choosing row-wise multi-threading, the overhead of testing was 0.037027 seconds.\n",
      "You can set `force_row_wise=true` to remove the overhead.\n",
      "And if memory is not enough, you can set `force_col_wise=true`.\n",
      "[LightGBM] [Info] Total Bins 944\n",
      "[LightGBM] [Info] Number of data points in the train set: 18545, number of used features: 472\n",
      "[LightGBM] [Info] [binary:BoostFromScore]: pavg=0.491291 -> initscore=-0.034838\n",
      "[LightGBM] [Info] Start training from score -0.034838\n",
      "[LightGBM] [Info] Number of positive: 9111, number of negative: 9434\n",
      "[LightGBM] [Info] Auto-choosing row-wise multi-threading, the overhead of testing was 0.036867 seconds.\n",
      "You can set `force_row_wise=true` to remove the overhead.\n",
      "And if memory is not enough, you can set `force_col_wise=true`.\n",
      "[LightGBM] [Info] Total Bins 940\n",
      "[LightGBM] [Info] Number of data points in the train set: 18545, number of used features: 470\n",
      "[LightGBM] [Info] [binary:BoostFromScore]: pavg=0.491291 -> initscore=-0.034838\n",
      "[LightGBM] [Info] Start training from score -0.034838\n",
      "[LightGBM] [Info] Number of positive: 9112, number of negative: 9434\n",
      "[LightGBM] [Info] Auto-choosing row-wise multi-threading, the overhead of testing was 0.037141 seconds.\n",
      "You can set `force_row_wise=true` to remove the overhead.\n",
      "And if memory is not enough, you can set `force_col_wise=true`.\n",
      "[LightGBM] [Info] Total Bins 940\n",
      "[LightGBM] [Info] Number of data points in the train set: 18546, number of used features: 470\n",
      "[LightGBM] [Info] [binary:BoostFromScore]: pavg=0.491319 -> initscore=-0.034728\n",
      "[LightGBM] [Info] Start training from score -0.034728\n",
      "[LightGBM] [Info] Number of positive: 9111, number of negative: 9435\n",
      "[LightGBM] [Info] Auto-choosing row-wise multi-threading, the overhead of testing was 0.036940 seconds.\n",
      "You can set `force_row_wise=true` to remove the overhead.\n",
      "And if memory is not enough, you can set `force_col_wise=true`.\n",
      "[LightGBM] [Info] Total Bins 950\n",
      "[LightGBM] [Info] Number of data points in the train set: 18546, number of used features: 475\n",
      "[LightGBM] [Info] [binary:BoostFromScore]: pavg=0.491265 -> initscore=-0.034944\n",
      "[LightGBM] [Info] Start training from score -0.034944\n",
      "[LightGBM] [Info] Number of positive: 9111, number of negative: 9435\n",
      "[LightGBM] [Info] Auto-choosing row-wise multi-threading, the overhead of testing was 0.035724 seconds.\n",
      "You can set `force_row_wise=true` to remove the overhead.\n",
      "And if memory is not enough, you can set `force_col_wise=true`.\n",
      "[LightGBM] [Info] Total Bins 918\n",
      "[LightGBM] [Info] Number of data points in the train set: 18546, number of used features: 459\n",
      "[LightGBM] [Info] [binary:BoostFromScore]: pavg=0.491265 -> initscore=-0.034944\n",
      "[LightGBM] [Info] Start training from score -0.034944\n",
      "[LightGBM] [Info] Number of positive: 9111, number of negative: 9434\n",
      "[LightGBM] [Info] Auto-choosing row-wise multi-threading, the overhead of testing was 0.036841 seconds.\n",
      "You can set `force_row_wise=true` to remove the overhead.\n",
      "And if memory is not enough, you can set `force_col_wise=true`.\n",
      "[LightGBM] [Info] Total Bins 944\n",
      "[LightGBM] [Info] Number of data points in the train set: 18545, number of used features: 472\n",
      "[LightGBM] [Info] [binary:BoostFromScore]: pavg=0.491291 -> initscore=-0.034838\n",
      "[LightGBM] [Info] Start training from score -0.034838\n",
      "[LightGBM] [Info] Number of positive: 9111, number of negative: 9434\n",
      "[LightGBM] [Info] Auto-choosing row-wise multi-threading, the overhead of testing was 0.037081 seconds.\n",
      "You can set `force_row_wise=true` to remove the overhead.\n",
      "And if memory is not enough, you can set `force_col_wise=true`.\n",
      "[LightGBM] [Info] Total Bins 940\n",
      "[LightGBM] [Info] Number of data points in the train set: 18545, number of used features: 470\n",
      "[LightGBM] [Info] [binary:BoostFromScore]: pavg=0.491291 -> initscore=-0.034838\n",
      "[LightGBM] [Info] Start training from score -0.034838\n",
      "[LightGBM] [Info] Number of positive: 9112, number of negative: 9434\n",
      "[LightGBM] [Info] Auto-choosing row-wise multi-threading, the overhead of testing was 0.037068 seconds.\n",
      "You can set `force_row_wise=true` to remove the overhead.\n",
      "And if memory is not enough, you can set `force_col_wise=true`.\n",
      "[LightGBM] [Info] Total Bins 940\n",
      "[LightGBM] [Info] Number of data points in the train set: 18546, number of used features: 470\n",
      "[LightGBM] [Info] [binary:BoostFromScore]: pavg=0.491319 -> initscore=-0.034728\n",
      "[LightGBM] [Info] Start training from score -0.034728\n",
      "[LightGBM] [Info] Number of positive: 9111, number of negative: 9435\n",
      "[LightGBM] [Info] Auto-choosing row-wise multi-threading, the overhead of testing was 0.037028 seconds.\n",
      "You can set `force_row_wise=true` to remove the overhead.\n",
      "And if memory is not enough, you can set `force_col_wise=true`.\n",
      "[LightGBM] [Info] Total Bins 950\n",
      "[LightGBM] [Info] Number of data points in the train set: 18546, number of used features: 475\n",
      "[LightGBM] [Info] [binary:BoostFromScore]: pavg=0.491265 -> initscore=-0.034944\n",
      "[LightGBM] [Info] Start training from score -0.034944\n",
      "[LightGBM] [Info] Number of positive: 9111, number of negative: 9435\n",
      "[LightGBM] [Info] Auto-choosing row-wise multi-threading, the overhead of testing was 0.036574 seconds.\n",
      "You can set `force_row_wise=true` to remove the overhead.\n",
      "And if memory is not enough, you can set `force_col_wise=true`.\n",
      "[LightGBM] [Info] Total Bins 918\n",
      "[LightGBM] [Info] Number of data points in the train set: 18546, number of used features: 459\n",
      "[LightGBM] [Info] [binary:BoostFromScore]: pavg=0.491265 -> initscore=-0.034944\n",
      "[LightGBM] [Info] Start training from score -0.034944\n",
      "[LightGBM] [Info] Number of positive: 9111, number of negative: 9434\n",
      "[LightGBM] [Info] Auto-choosing row-wise multi-threading, the overhead of testing was 0.037401 seconds.\n",
      "You can set `force_row_wise=true` to remove the overhead.\n",
      "And if memory is not enough, you can set `force_col_wise=true`.\n",
      "[LightGBM] [Info] Total Bins 944\n",
      "[LightGBM] [Info] Number of data points in the train set: 18545, number of used features: 472\n",
      "[LightGBM] [Info] [binary:BoostFromScore]: pavg=0.491291 -> initscore=-0.034838\n",
      "[LightGBM] [Info] Start training from score -0.034838\n",
      "[LightGBM] [Info] Number of positive: 9111, number of negative: 9434\n",
      "[LightGBM] [Info] Auto-choosing row-wise multi-threading, the overhead of testing was 0.037082 seconds.\n",
      "You can set `force_row_wise=true` to remove the overhead.\n",
      "And if memory is not enough, you can set `force_col_wise=true`.\n",
      "[LightGBM] [Info] Total Bins 940\n",
      "[LightGBM] [Info] Number of data points in the train set: 18545, number of used features: 470\n",
      "[LightGBM] [Info] [binary:BoostFromScore]: pavg=0.491291 -> initscore=-0.034838\n",
      "[LightGBM] [Info] Start training from score -0.034838\n",
      "[LightGBM] [Info] Number of positive: 9112, number of negative: 9434\n",
      "[LightGBM] [Info] Auto-choosing row-wise multi-threading, the overhead of testing was 0.037505 seconds.\n",
      "You can set `force_row_wise=true` to remove the overhead.\n",
      "And if memory is not enough, you can set `force_col_wise=true`.\n",
      "[LightGBM] [Info] Total Bins 940\n",
      "[LightGBM] [Info] Number of data points in the train set: 18546, number of used features: 470\n",
      "[LightGBM] [Info] [binary:BoostFromScore]: pavg=0.491319 -> initscore=-0.034728\n",
      "[LightGBM] [Info] Start training from score -0.034728\n",
      "[LightGBM] [Info] Number of positive: 9111, number of negative: 9435\n",
      "[LightGBM] [Info] Auto-choosing row-wise multi-threading, the overhead of testing was 0.038331 seconds.\n",
      "You can set `force_row_wise=true` to remove the overhead.\n",
      "And if memory is not enough, you can set `force_col_wise=true`.\n",
      "[LightGBM] [Info] Total Bins 950\n",
      "[LightGBM] [Info] Number of data points in the train set: 18546, number of used features: 475\n",
      "[LightGBM] [Info] [binary:BoostFromScore]: pavg=0.491265 -> initscore=-0.034944\n",
      "[LightGBM] [Info] Start training from score -0.034944\n",
      "[LightGBM] [Info] Number of positive: 9111, number of negative: 9435\n",
      "[LightGBM] [Info] Auto-choosing row-wise multi-threading, the overhead of testing was 0.035519 seconds.\n",
      "You can set `force_row_wise=true` to remove the overhead.\n",
      "And if memory is not enough, you can set `force_col_wise=true`.\n",
      "[LightGBM] [Info] Total Bins 918\n",
      "[LightGBM] [Info] Number of data points in the train set: 18546, number of used features: 459\n",
      "[LightGBM] [Info] [binary:BoostFromScore]: pavg=0.491265 -> initscore=-0.034944\n",
      "[LightGBM] [Info] Start training from score -0.034944\n",
      "[LightGBM] [Info] Number of positive: 9111, number of negative: 9434\n",
      "[LightGBM] [Info] Auto-choosing row-wise multi-threading, the overhead of testing was 0.036952 seconds.\n",
      "You can set `force_row_wise=true` to remove the overhead.\n",
      "And if memory is not enough, you can set `force_col_wise=true`.\n",
      "[LightGBM] [Info] Total Bins 944\n",
      "[LightGBM] [Info] Number of data points in the train set: 18545, number of used features: 472\n",
      "[LightGBM] [Info] [binary:BoostFromScore]: pavg=0.491291 -> initscore=-0.034838\n",
      "[LightGBM] [Info] Start training from score -0.034838\n",
      "[LightGBM] [Info] Number of positive: 9111, number of negative: 9434\n",
      "[LightGBM] [Info] Auto-choosing row-wise multi-threading, the overhead of testing was 0.036609 seconds.\n",
      "You can set `force_row_wise=true` to remove the overhead.\n",
      "And if memory is not enough, you can set `force_col_wise=true`.\n",
      "[LightGBM] [Info] Total Bins 940\n",
      "[LightGBM] [Info] Number of data points in the train set: 18545, number of used features: 470\n",
      "[LightGBM] [Info] [binary:BoostFromScore]: pavg=0.491291 -> initscore=-0.034838\n",
      "[LightGBM] [Info] Start training from score -0.034838\n",
      "[LightGBM] [Info] Number of positive: 9112, number of negative: 9434\n",
      "[LightGBM] [Info] Auto-choosing row-wise multi-threading, the overhead of testing was 0.036650 seconds.\n",
      "You can set `force_row_wise=true` to remove the overhead.\n",
      "And if memory is not enough, you can set `force_col_wise=true`.\n",
      "[LightGBM] [Info] Total Bins 940\n",
      "[LightGBM] [Info] Number of data points in the train set: 18546, number of used features: 470\n",
      "[LightGBM] [Info] [binary:BoostFromScore]: pavg=0.491319 -> initscore=-0.034728\n",
      "[LightGBM] [Info] Start training from score -0.034728\n",
      "[LightGBM] [Info] Number of positive: 9111, number of negative: 9435\n",
      "[LightGBM] [Info] Auto-choosing row-wise multi-threading, the overhead of testing was 0.036962 seconds.\n",
      "You can set `force_row_wise=true` to remove the overhead.\n",
      "And if memory is not enough, you can set `force_col_wise=true`.\n",
      "[LightGBM] [Info] Total Bins 950\n",
      "[LightGBM] [Info] Number of data points in the train set: 18546, number of used features: 475\n",
      "[LightGBM] [Info] [binary:BoostFromScore]: pavg=0.491265 -> initscore=-0.034944\n",
      "[LightGBM] [Info] Start training from score -0.034944\n",
      "[LightGBM] [Info] Number of positive: 9111, number of negative: 9435\n",
      "[LightGBM] [Info] Auto-choosing row-wise multi-threading, the overhead of testing was 0.035750 seconds.\n",
      "You can set `force_row_wise=true` to remove the overhead.\n",
      "And if memory is not enough, you can set `force_col_wise=true`.\n",
      "[LightGBM] [Info] Total Bins 918\n",
      "[LightGBM] [Info] Number of data points in the train set: 18546, number of used features: 459\n",
      "[LightGBM] [Info] [binary:BoostFromScore]: pavg=0.491265 -> initscore=-0.034944\n",
      "[LightGBM] [Info] Start training from score -0.034944\n",
      "[LightGBM] [Info] Number of positive: 9111, number of negative: 9434\n",
      "[LightGBM] [Info] Auto-choosing row-wise multi-threading, the overhead of testing was 0.037700 seconds.\n",
      "You can set `force_row_wise=true` to remove the overhead.\n",
      "And if memory is not enough, you can set `force_col_wise=true`.\n",
      "[LightGBM] [Info] Total Bins 944\n",
      "[LightGBM] [Info] Number of data points in the train set: 18545, number of used features: 472\n",
      "[LightGBM] [Info] [binary:BoostFromScore]: pavg=0.491291 -> initscore=-0.034838\n",
      "[LightGBM] [Info] Start training from score -0.034838\n",
      "[LightGBM] [Info] Number of positive: 9111, number of negative: 9434\n",
      "[LightGBM] [Info] Auto-choosing row-wise multi-threading, the overhead of testing was 0.036701 seconds.\n",
      "You can set `force_row_wise=true` to remove the overhead.\n",
      "And if memory is not enough, you can set `force_col_wise=true`.\n",
      "[LightGBM] [Info] Total Bins 940\n",
      "[LightGBM] [Info] Number of data points in the train set: 18545, number of used features: 470\n",
      "[LightGBM] [Info] [binary:BoostFromScore]: pavg=0.491291 -> initscore=-0.034838\n",
      "[LightGBM] [Info] Start training from score -0.034838\n",
      "[LightGBM] [Info] Number of positive: 9112, number of negative: 9434\n",
      "[LightGBM] [Info] Auto-choosing row-wise multi-threading, the overhead of testing was 0.036577 seconds.\n",
      "You can set `force_row_wise=true` to remove the overhead.\n",
      "And if memory is not enough, you can set `force_col_wise=true`.\n",
      "[LightGBM] [Info] Total Bins 940\n",
      "[LightGBM] [Info] Number of data points in the train set: 18546, number of used features: 470\n",
      "[LightGBM] [Info] [binary:BoostFromScore]: pavg=0.491319 -> initscore=-0.034728\n",
      "[LightGBM] [Info] Start training from score -0.034728\n",
      "[LightGBM] [Info] Number of positive: 9111, number of negative: 9435\n",
      "[LightGBM] [Info] Auto-choosing row-wise multi-threading, the overhead of testing was 0.037992 seconds.\n",
      "You can set `force_row_wise=true` to remove the overhead.\n",
      "And if memory is not enough, you can set `force_col_wise=true`.\n",
      "[LightGBM] [Info] Total Bins 950\n",
      "[LightGBM] [Info] Number of data points in the train set: 18546, number of used features: 475\n",
      "[LightGBM] [Info] [binary:BoostFromScore]: pavg=0.491265 -> initscore=-0.034944\n",
      "[LightGBM] [Info] Start training from score -0.034944\n",
      "[LightGBM] [Info] Number of positive: 9111, number of negative: 9435\n",
      "[LightGBM] [Info] Auto-choosing row-wise multi-threading, the overhead of testing was 0.035648 seconds.\n",
      "You can set `force_row_wise=true` to remove the overhead.\n",
      "And if memory is not enough, you can set `force_col_wise=true`.\n",
      "[LightGBM] [Info] Total Bins 918\n",
      "[LightGBM] [Info] Number of data points in the train set: 18546, number of used features: 459\n",
      "[LightGBM] [Info] [binary:BoostFromScore]: pavg=0.491265 -> initscore=-0.034944\n",
      "[LightGBM] [Info] Start training from score -0.034944\n",
      "[LightGBM] [Info] Number of positive: 9111, number of negative: 9434\n",
      "[LightGBM] [Info] Auto-choosing row-wise multi-threading, the overhead of testing was 0.039278 seconds.\n",
      "You can set `force_row_wise=true` to remove the overhead.\n",
      "And if memory is not enough, you can set `force_col_wise=true`.\n",
      "[LightGBM] [Info] Total Bins 944\n",
      "[LightGBM] [Info] Number of data points in the train set: 18545, number of used features: 472\n",
      "[LightGBM] [Info] [binary:BoostFromScore]: pavg=0.491291 -> initscore=-0.034838\n",
      "[LightGBM] [Info] Start training from score -0.034838\n",
      "[LightGBM] [Info] Number of positive: 9111, number of negative: 9434\n",
      "[LightGBM] [Info] Auto-choosing row-wise multi-threading, the overhead of testing was 0.036516 seconds.\n",
      "You can set `force_row_wise=true` to remove the overhead.\n",
      "And if memory is not enough, you can set `force_col_wise=true`.\n",
      "[LightGBM] [Info] Total Bins 940\n",
      "[LightGBM] [Info] Number of data points in the train set: 18545, number of used features: 470\n",
      "[LightGBM] [Info] [binary:BoostFromScore]: pavg=0.491291 -> initscore=-0.034838\n",
      "[LightGBM] [Info] Start training from score -0.034838\n",
      "[LightGBM] [Info] Number of positive: 9112, number of negative: 9434\n",
      "[LightGBM] [Info] Auto-choosing row-wise multi-threading, the overhead of testing was 0.036681 seconds.\n",
      "You can set `force_row_wise=true` to remove the overhead.\n",
      "And if memory is not enough, you can set `force_col_wise=true`.\n",
      "[LightGBM] [Info] Total Bins 940\n",
      "[LightGBM] [Info] Number of data points in the train set: 18546, number of used features: 470\n",
      "[LightGBM] [Info] [binary:BoostFromScore]: pavg=0.491319 -> initscore=-0.034728\n",
      "[LightGBM] [Info] Start training from score -0.034728\n",
      "[LightGBM] [Info] Number of positive: 9111, number of negative: 9435\n",
      "[LightGBM] [Info] Auto-choosing row-wise multi-threading, the overhead of testing was 0.037201 seconds.\n",
      "You can set `force_row_wise=true` to remove the overhead.\n",
      "And if memory is not enough, you can set `force_col_wise=true`.\n",
      "[LightGBM] [Info] Total Bins 950\n",
      "[LightGBM] [Info] Number of data points in the train set: 18546, number of used features: 475\n",
      "[LightGBM] [Info] [binary:BoostFromScore]: pavg=0.491265 -> initscore=-0.034944\n",
      "[LightGBM] [Info] Start training from score -0.034944\n",
      "[LightGBM] [Info] Number of positive: 9111, number of negative: 9435\n",
      "[LightGBM] [Info] Auto-choosing col-wise multi-threading, the overhead of testing was 0.035573 seconds.\n",
      "You can set `force_col_wise=true` to remove the overhead.\n",
      "[LightGBM] [Info] Total Bins 918\n",
      "[LightGBM] [Info] Number of data points in the train set: 18546, number of used features: 459\n",
      "[LightGBM] [Info] [binary:BoostFromScore]: pavg=0.491265 -> initscore=-0.034944\n",
      "[LightGBM] [Info] Start training from score -0.034944\n",
      "[LightGBM] [Info] Number of positive: 9111, number of negative: 9434\n",
      "[LightGBM] [Info] Auto-choosing row-wise multi-threading, the overhead of testing was 0.037047 seconds.\n",
      "You can set `force_row_wise=true` to remove the overhead.\n",
      "And if memory is not enough, you can set `force_col_wise=true`.\n",
      "[LightGBM] [Info] Total Bins 944\n",
      "[LightGBM] [Info] Number of data points in the train set: 18545, number of used features: 472\n",
      "[LightGBM] [Info] [binary:BoostFromScore]: pavg=0.491291 -> initscore=-0.034838\n",
      "[LightGBM] [Info] Start training from score -0.034838\n",
      "[LightGBM] [Info] Number of positive: 9111, number of negative: 9434\n",
      "[LightGBM] [Info] Auto-choosing row-wise multi-threading, the overhead of testing was 0.037251 seconds.\n",
      "You can set `force_row_wise=true` to remove the overhead.\n",
      "And if memory is not enough, you can set `force_col_wise=true`.\n",
      "[LightGBM] [Info] Total Bins 940\n",
      "[LightGBM] [Info] Number of data points in the train set: 18545, number of used features: 470\n",
      "[LightGBM] [Info] [binary:BoostFromScore]: pavg=0.491291 -> initscore=-0.034838\n",
      "[LightGBM] [Info] Start training from score -0.034838\n",
      "[LightGBM] [Info] Number of positive: 9112, number of negative: 9434\n",
      "[LightGBM] [Info] Auto-choosing row-wise multi-threading, the overhead of testing was 0.036811 seconds.\n",
      "You can set `force_row_wise=true` to remove the overhead.\n",
      "And if memory is not enough, you can set `force_col_wise=true`.\n",
      "[LightGBM] [Info] Total Bins 940\n",
      "[LightGBM] [Info] Number of data points in the train set: 18546, number of used features: 470\n",
      "[LightGBM] [Info] [binary:BoostFromScore]: pavg=0.491319 -> initscore=-0.034728\n",
      "[LightGBM] [Info] Start training from score -0.034728\n",
      "[LightGBM] [Info] Number of positive: 9111, number of negative: 9435\n",
      "[LightGBM] [Info] Auto-choosing row-wise multi-threading, the overhead of testing was 0.037115 seconds.\n",
      "You can set `force_row_wise=true` to remove the overhead.\n",
      "And if memory is not enough, you can set `force_col_wise=true`.\n",
      "[LightGBM] [Info] Total Bins 950\n",
      "[LightGBM] [Info] Number of data points in the train set: 18546, number of used features: 475\n",
      "[LightGBM] [Info] [binary:BoostFromScore]: pavg=0.491265 -> initscore=-0.034944\n",
      "[LightGBM] [Info] Start training from score -0.034944\n",
      "[LightGBM] [Info] Number of positive: 9111, number of negative: 9435\n",
      "[LightGBM] [Info] Auto-choosing row-wise multi-threading, the overhead of testing was 0.036147 seconds.\n",
      "You can set `force_row_wise=true` to remove the overhead.\n",
      "And if memory is not enough, you can set `force_col_wise=true`.\n",
      "[LightGBM] [Info] Total Bins 918\n",
      "[LightGBM] [Info] Number of data points in the train set: 18546, number of used features: 459\n",
      "[LightGBM] [Info] [binary:BoostFromScore]: pavg=0.491265 -> initscore=-0.034944\n",
      "[LightGBM] [Info] Start training from score -0.034944\n",
      "[LightGBM] [Info] Number of positive: 9111, number of negative: 9434\n",
      "[LightGBM] [Info] Auto-choosing row-wise multi-threading, the overhead of testing was 0.036901 seconds.\n",
      "You can set `force_row_wise=true` to remove the overhead.\n",
      "And if memory is not enough, you can set `force_col_wise=true`.\n",
      "[LightGBM] [Info] Total Bins 944\n",
      "[LightGBM] [Info] Number of data points in the train set: 18545, number of used features: 472\n",
      "[LightGBM] [Info] [binary:BoostFromScore]: pavg=0.491291 -> initscore=-0.034838\n",
      "[LightGBM] [Info] Start training from score -0.034838\n",
      "[LightGBM] [Info] Number of positive: 9111, number of negative: 9434\n",
      "[LightGBM] [Info] Auto-choosing row-wise multi-threading, the overhead of testing was 0.036817 seconds.\n",
      "You can set `force_row_wise=true` to remove the overhead.\n",
      "And if memory is not enough, you can set `force_col_wise=true`.\n",
      "[LightGBM] [Info] Total Bins 940\n",
      "[LightGBM] [Info] Number of data points in the train set: 18545, number of used features: 470\n",
      "[LightGBM] [Info] [binary:BoostFromScore]: pavg=0.491291 -> initscore=-0.034838\n",
      "[LightGBM] [Info] Start training from score -0.034838\n",
      "[LightGBM] [Info] Number of positive: 9112, number of negative: 9434\n",
      "[LightGBM] [Info] Auto-choosing row-wise multi-threading, the overhead of testing was 0.036711 seconds.\n",
      "You can set `force_row_wise=true` to remove the overhead.\n",
      "And if memory is not enough, you can set `force_col_wise=true`.\n",
      "[LightGBM] [Info] Total Bins 940\n",
      "[LightGBM] [Info] Number of data points in the train set: 18546, number of used features: 470\n",
      "[LightGBM] [Info] [binary:BoostFromScore]: pavg=0.491319 -> initscore=-0.034728\n",
      "[LightGBM] [Info] Start training from score -0.034728\n",
      "[LightGBM] [Info] Number of positive: 9111, number of negative: 9435\n",
      "[LightGBM] [Info] Auto-choosing row-wise multi-threading, the overhead of testing was 0.037437 seconds.\n",
      "You can set `force_row_wise=true` to remove the overhead.\n",
      "And if memory is not enough, you can set `force_col_wise=true`.\n",
      "[LightGBM] [Info] Total Bins 950\n",
      "[LightGBM] [Info] Number of data points in the train set: 18546, number of used features: 475\n",
      "[LightGBM] [Info] [binary:BoostFromScore]: pavg=0.491265 -> initscore=-0.034944\n",
      "[LightGBM] [Info] Start training from score -0.034944\n",
      "[LightGBM] [Info] Number of positive: 9111, number of negative: 9435\n",
      "[LightGBM] [Info] Auto-choosing row-wise multi-threading, the overhead of testing was 0.035755 seconds.\n",
      "You can set `force_row_wise=true` to remove the overhead.\n",
      "And if memory is not enough, you can set `force_col_wise=true`.\n",
      "[LightGBM] [Info] Total Bins 918\n",
      "[LightGBM] [Info] Number of data points in the train set: 18546, number of used features: 459\n",
      "[LightGBM] [Info] [binary:BoostFromScore]: pavg=0.491265 -> initscore=-0.034944\n",
      "[LightGBM] [Info] Start training from score -0.034944\n",
      "[LightGBM] [Info] Number of positive: 9111, number of negative: 9434\n",
      "[LightGBM] [Info] Auto-choosing row-wise multi-threading, the overhead of testing was 0.036944 seconds.\n",
      "You can set `force_row_wise=true` to remove the overhead.\n",
      "And if memory is not enough, you can set `force_col_wise=true`.\n",
      "[LightGBM] [Info] Total Bins 944\n",
      "[LightGBM] [Info] Number of data points in the train set: 18545, number of used features: 472\n",
      "[LightGBM] [Info] [binary:BoostFromScore]: pavg=0.491291 -> initscore=-0.034838\n",
      "[LightGBM] [Info] Start training from score -0.034838\n",
      "[LightGBM] [Info] Number of positive: 9111, number of negative: 9434\n",
      "[LightGBM] [Info] Auto-choosing row-wise multi-threading, the overhead of testing was 0.036884 seconds.\n",
      "You can set `force_row_wise=true` to remove the overhead.\n",
      "And if memory is not enough, you can set `force_col_wise=true`.\n",
      "[LightGBM] [Info] Total Bins 940\n",
      "[LightGBM] [Info] Number of data points in the train set: 18545, number of used features: 470\n",
      "[LightGBM] [Info] [binary:BoostFromScore]: pavg=0.491291 -> initscore=-0.034838\n",
      "[LightGBM] [Info] Start training from score -0.034838\n",
      "[LightGBM] [Info] Number of positive: 9112, number of negative: 9434\n",
      "[LightGBM] [Info] Auto-choosing row-wise multi-threading, the overhead of testing was 0.036863 seconds.\n",
      "You can set `force_row_wise=true` to remove the overhead.\n",
      "And if memory is not enough, you can set `force_col_wise=true`.\n",
      "[LightGBM] [Info] Total Bins 940\n",
      "[LightGBM] [Info] Number of data points in the train set: 18546, number of used features: 470\n",
      "[LightGBM] [Info] [binary:BoostFromScore]: pavg=0.491319 -> initscore=-0.034728\n",
      "[LightGBM] [Info] Start training from score -0.034728\n",
      "[LightGBM] [Info] Number of positive: 9111, number of negative: 9435\n",
      "[LightGBM] [Info] Auto-choosing col-wise multi-threading, the overhead of testing was 0.037190 seconds.\n",
      "You can set `force_col_wise=true` to remove the overhead.\n",
      "[LightGBM] [Info] Total Bins 950\n",
      "[LightGBM] [Info] Number of data points in the train set: 18546, number of used features: 475\n",
      "[LightGBM] [Info] [binary:BoostFromScore]: pavg=0.491265 -> initscore=-0.034944\n",
      "[LightGBM] [Info] Start training from score -0.034944\n",
      "[LightGBM] [Info] Number of positive: 9111, number of negative: 9435\n",
      "[LightGBM] [Info] Auto-choosing row-wise multi-threading, the overhead of testing was 0.035797 seconds.\n",
      "You can set `force_row_wise=true` to remove the overhead.\n",
      "And if memory is not enough, you can set `force_col_wise=true`.\n",
      "[LightGBM] [Info] Total Bins 918\n",
      "[LightGBM] [Info] Number of data points in the train set: 18546, number of used features: 459\n",
      "[LightGBM] [Info] [binary:BoostFromScore]: pavg=0.491265 -> initscore=-0.034944\n",
      "[LightGBM] [Info] Start training from score -0.034944\n",
      "[LightGBM] [Info] Number of positive: 9111, number of negative: 9434\n",
      "[LightGBM] [Info] Auto-choosing row-wise multi-threading, the overhead of testing was 0.037017 seconds.\n",
      "You can set `force_row_wise=true` to remove the overhead.\n",
      "And if memory is not enough, you can set `force_col_wise=true`.\n",
      "[LightGBM] [Info] Total Bins 944\n",
      "[LightGBM] [Info] Number of data points in the train set: 18545, number of used features: 472\n",
      "[LightGBM] [Info] [binary:BoostFromScore]: pavg=0.491291 -> initscore=-0.034838\n",
      "[LightGBM] [Info] Start training from score -0.034838\n",
      "[LightGBM] [Info] Number of positive: 9111, number of negative: 9434\n",
      "[LightGBM] [Info] Auto-choosing row-wise multi-threading, the overhead of testing was 0.037330 seconds.\n",
      "You can set `force_row_wise=true` to remove the overhead.\n",
      "And if memory is not enough, you can set `force_col_wise=true`.\n",
      "[LightGBM] [Info] Total Bins 940\n",
      "[LightGBM] [Info] Number of data points in the train set: 18545, number of used features: 470\n",
      "[LightGBM] [Info] [binary:BoostFromScore]: pavg=0.491291 -> initscore=-0.034838\n",
      "[LightGBM] [Info] Start training from score -0.034838\n",
      "[LightGBM] [Info] Number of positive: 9112, number of negative: 9434\n",
      "[LightGBM] [Info] Auto-choosing row-wise multi-threading, the overhead of testing was 0.037372 seconds.\n",
      "You can set `force_row_wise=true` to remove the overhead.\n",
      "And if memory is not enough, you can set `force_col_wise=true`.\n",
      "[LightGBM] [Info] Total Bins 940\n",
      "[LightGBM] [Info] Number of data points in the train set: 18546, number of used features: 470\n",
      "[LightGBM] [Info] [binary:BoostFromScore]: pavg=0.491319 -> initscore=-0.034728\n",
      "[LightGBM] [Info] Start training from score -0.034728\n",
      "[LightGBM] [Info] Number of positive: 9111, number of negative: 9435\n",
      "[LightGBM] [Info] Auto-choosing row-wise multi-threading, the overhead of testing was 0.037095 seconds.\n",
      "You can set `force_row_wise=true` to remove the overhead.\n",
      "And if memory is not enough, you can set `force_col_wise=true`.\n",
      "[LightGBM] [Info] Total Bins 950\n",
      "[LightGBM] [Info] Number of data points in the train set: 18546, number of used features: 475\n",
      "[LightGBM] [Info] [binary:BoostFromScore]: pavg=0.491265 -> initscore=-0.034944\n",
      "[LightGBM] [Info] Start training from score -0.034944\n",
      "[LightGBM] [Info] Number of positive: 9111, number of negative: 9435\n",
      "[LightGBM] [Info] Auto-choosing row-wise multi-threading, the overhead of testing was 0.037427 seconds.\n",
      "You can set `force_row_wise=true` to remove the overhead.\n",
      "And if memory is not enough, you can set `force_col_wise=true`.\n",
      "[LightGBM] [Info] Total Bins 918\n",
      "[LightGBM] [Info] Number of data points in the train set: 18546, number of used features: 459\n",
      "[LightGBM] [Info] [binary:BoostFromScore]: pavg=0.491265 -> initscore=-0.034944\n",
      "[LightGBM] [Info] Start training from score -0.034944\n",
      "[LightGBM] [Info] Number of positive: 9111, number of negative: 9434\n",
      "[LightGBM] [Info] Auto-choosing row-wise multi-threading, the overhead of testing was 0.036863 seconds.\n",
      "You can set `force_row_wise=true` to remove the overhead.\n",
      "And if memory is not enough, you can set `force_col_wise=true`.\n",
      "[LightGBM] [Info] Total Bins 944\n",
      "[LightGBM] [Info] Number of data points in the train set: 18545, number of used features: 472\n",
      "[LightGBM] [Info] [binary:BoostFromScore]: pavg=0.491291 -> initscore=-0.034838\n",
      "[LightGBM] [Info] Start training from score -0.034838\n",
      "[LightGBM] [Info] Number of positive: 9111, number of negative: 9434\n",
      "[LightGBM] [Info] Auto-choosing row-wise multi-threading, the overhead of testing was 0.036624 seconds.\n",
      "You can set `force_row_wise=true` to remove the overhead.\n",
      "And if memory is not enough, you can set `force_col_wise=true`.\n",
      "[LightGBM] [Info] Total Bins 940\n",
      "[LightGBM] [Info] Number of data points in the train set: 18545, number of used features: 470\n",
      "[LightGBM] [Info] [binary:BoostFromScore]: pavg=0.491291 -> initscore=-0.034838\n",
      "[LightGBM] [Info] Start training from score -0.034838\n",
      "[LightGBM] [Info] Number of positive: 9112, number of negative: 9434\n",
      "[LightGBM] [Info] Auto-choosing row-wise multi-threading, the overhead of testing was 0.036645 seconds.\n",
      "You can set `force_row_wise=true` to remove the overhead.\n",
      "And if memory is not enough, you can set `force_col_wise=true`.\n",
      "[LightGBM] [Info] Total Bins 940\n",
      "[LightGBM] [Info] Number of data points in the train set: 18546, number of used features: 470\n",
      "[LightGBM] [Info] [binary:BoostFromScore]: pavg=0.491319 -> initscore=-0.034728\n",
      "[LightGBM] [Info] Start training from score -0.034728\n",
      "[LightGBM] [Info] Number of positive: 9111, number of negative: 9435\n",
      "[LightGBM] [Info] Auto-choosing row-wise multi-threading, the overhead of testing was 0.037883 seconds.\n",
      "You can set `force_row_wise=true` to remove the overhead.\n",
      "And if memory is not enough, you can set `force_col_wise=true`.\n",
      "[LightGBM] [Info] Total Bins 950\n",
      "[LightGBM] [Info] Number of data points in the train set: 18546, number of used features: 475\n",
      "[LightGBM] [Info] [binary:BoostFromScore]: pavg=0.491265 -> initscore=-0.034944\n",
      "[LightGBM] [Info] Start training from score -0.034944\n",
      "[LightGBM] [Info] Number of positive: 9111, number of negative: 9435\n",
      "[LightGBM] [Info] Auto-choosing row-wise multi-threading, the overhead of testing was 0.035789 seconds.\n",
      "You can set `force_row_wise=true` to remove the overhead.\n",
      "And if memory is not enough, you can set `force_col_wise=true`.\n",
      "[LightGBM] [Info] Total Bins 918\n",
      "[LightGBM] [Info] Number of data points in the train set: 18546, number of used features: 459\n",
      "[LightGBM] [Info] [binary:BoostFromScore]: pavg=0.491265 -> initscore=-0.034944\n",
      "[LightGBM] [Info] Start training from score -0.034944\n",
      "[LightGBM] [Info] Number of positive: 9111, number of negative: 9434\n",
      "[LightGBM] [Info] Auto-choosing row-wise multi-threading, the overhead of testing was 0.037013 seconds.\n",
      "You can set `force_row_wise=true` to remove the overhead.\n",
      "And if memory is not enough, you can set `force_col_wise=true`.\n",
      "[LightGBM] [Info] Total Bins 944\n",
      "[LightGBM] [Info] Number of data points in the train set: 18545, number of used features: 472\n",
      "[LightGBM] [Info] [binary:BoostFromScore]: pavg=0.491291 -> initscore=-0.034838\n",
      "[LightGBM] [Info] Start training from score -0.034838\n",
      "[LightGBM] [Info] Number of positive: 9111, number of negative: 9434\n",
      "[LightGBM] [Info] Auto-choosing row-wise multi-threading, the overhead of testing was 0.038093 seconds.\n",
      "You can set `force_row_wise=true` to remove the overhead.\n",
      "And if memory is not enough, you can set `force_col_wise=true`.\n",
      "[LightGBM] [Info] Total Bins 940\n",
      "[LightGBM] [Info] Number of data points in the train set: 18545, number of used features: 470\n",
      "[LightGBM] [Info] [binary:BoostFromScore]: pavg=0.491291 -> initscore=-0.034838\n",
      "[LightGBM] [Info] Start training from score -0.034838\n",
      "[LightGBM] [Info] Number of positive: 9112, number of negative: 9434\n",
      "[LightGBM] [Info] Auto-choosing row-wise multi-threading, the overhead of testing was 0.036833 seconds.\n",
      "You can set `force_row_wise=true` to remove the overhead.\n",
      "And if memory is not enough, you can set `force_col_wise=true`.\n",
      "[LightGBM] [Info] Total Bins 940\n",
      "[LightGBM] [Info] Number of data points in the train set: 18546, number of used features: 470\n",
      "[LightGBM] [Info] [binary:BoostFromScore]: pavg=0.491319 -> initscore=-0.034728\n",
      "[LightGBM] [Info] Start training from score -0.034728\n",
      "[LightGBM] [Info] Number of positive: 9111, number of negative: 9435\n",
      "[LightGBM] [Info] Auto-choosing row-wise multi-threading, the overhead of testing was 0.037616 seconds.\n",
      "You can set `force_row_wise=true` to remove the overhead.\n",
      "And if memory is not enough, you can set `force_col_wise=true`.\n",
      "[LightGBM] [Info] Total Bins 950\n",
      "[LightGBM] [Info] Number of data points in the train set: 18546, number of used features: 475\n",
      "[LightGBM] [Info] [binary:BoostFromScore]: pavg=0.491265 -> initscore=-0.034944\n",
      "[LightGBM] [Info] Start training from score -0.034944\n",
      "[LightGBM] [Info] Number of positive: 9111, number of negative: 9435\n",
      "[LightGBM] [Info] Auto-choosing row-wise multi-threading, the overhead of testing was 0.035908 seconds.\n",
      "You can set `force_row_wise=true` to remove the overhead.\n",
      "And if memory is not enough, you can set `force_col_wise=true`.\n",
      "[LightGBM] [Info] Total Bins 918\n",
      "[LightGBM] [Info] Number of data points in the train set: 18546, number of used features: 459\n",
      "[LightGBM] [Info] [binary:BoostFromScore]: pavg=0.491265 -> initscore=-0.034944\n",
      "[LightGBM] [Info] Start training from score -0.034944\n",
      "[LightGBM] [Info] Number of positive: 11389, number of negative: 11793\n",
      "[LightGBM] [Info] Auto-choosing row-wise multi-threading, the overhead of testing was 0.063095 seconds.\n",
      "You can set `force_row_wise=true` to remove the overhead.\n",
      "And if memory is not enough, you can set `force_col_wise=true`.\n",
      "[LightGBM] [Info] Total Bins 1274\n",
      "[LightGBM] [Info] Number of data points in the train set: 23182, number of used features: 637\n",
      "[LightGBM] [Info] [binary:BoostFromScore]: pavg=0.491286 -> initscore=-0.034858\n",
      "[LightGBM] [Info] Start training from score -0.034858\n"
     ]
    },
    {
     "data": {
      "text/plain": [
       "{'boosting_type': 'gbdt',\n",
       " 'learning_rate': 0.2,\n",
       " 'metric': 'binary_logloss',\n",
       " 'n_estimators': 100,\n",
       " 'num_leaves': 15,\n",
       " 'objective': 'binary'}"
      ]
     },
     "execution_count": 56,
     "metadata": {},
     "output_type": "execute_result"
    }
   ],
   "source": [
    "from lightgbm import LGBMClassifier\n",
    "\n",
    "param_grid_ = {\n",
    "    'num_leaves': [15, 31, 63],  \n",
    "    'learning_rate': [0.01, 0.1, 0.2],\n",
    "    'n_estimators': [50, 100, 200],  \n",
    "    'boosting_type': ['gbdt'], \n",
    "    'objective': ['binary'],  \n",
    "    'metric': ['binary_logloss'],\n",
    "}\n",
    "\n",
    "lightgbm_grid = GridSearchCV(\n",
    "    estimator= LGBMClassifier(),\n",
    "    param_grid=param_grid_,\n",
    "    cv=5, \n",
    "    scoring='accuracy',\n",
    "    verbose=0,\n",
    "    n_jobs=-1  \n",
    ")\n",
    "lightgbm_grid.fit(X_train_tfidf, y_train)\n",
    "\n",
    "lightgbm_grid.best_params_"
   ]
  },
  {
   "cell_type": "code",
   "execution_count": 57,
   "id": "65bd8864",
   "metadata": {
    "execution": {
     "iopub.execute_input": "2024-12-15T18:11:52.592022Z",
     "iopub.status.busy": "2024-12-15T18:11:52.591672Z",
     "iopub.status.idle": "2024-12-15T18:11:52.802848Z",
     "shell.execute_reply": "2024-12-15T18:11:52.802181Z"
    },
    "papermill": {
     "duration": 0.231998,
     "end_time": "2024-12-15T18:11:52.804127",
     "exception": false,
     "start_time": "2024-12-15T18:11:52.572129",
     "status": "completed"
    },
    "tags": []
   },
   "outputs": [
    {
     "name": "stdout",
     "output_type": "stream",
     "text": [
      "-------------------> lightgbm\n",
      "Accuracy: 0.68\n",
      "F1-Score for each class:\n",
      "Positive: 0.64\n",
      "Negative: 0.71\n",
      "\n",
      "Classification Report:\n",
      "              precision    recall  f1-score   support\n",
      "\n",
      "    Positive       0.74      0.56      0.64      2949\n",
      "    Negative       0.64      0.80      0.71      2847\n",
      "\n",
      "    accuracy                           0.68      5796\n",
      "   macro avg       0.69      0.68      0.67      5796\n",
      "weighted avg       0.69      0.68      0.67      5796\n",
      "\n"
     ]
    },
    {
     "data": {
      "image/png": "[encoded data removed]",
      "text/plain": [
       "<Figure size 800x600 with 2 Axes>"
      ]
     },
     "metadata": {},
     "output_type": "display_data"
    }
   ],
   "source": [
    "y_hat = lightgbm_grid.best_estimator_.predict(X_test_tfidf)\n",
    "about_model(\"lightgbm\", y_test , y_hat)"
   ]
  }
 ],
 "metadata": {
  "kaggle": {
   "accelerator": "none",
   "dataSources": [
    {
     "datasetId": 6047175,
     "sourceId": 10133321,
     "sourceType": "datasetVersion"
    },
    {
     "datasetId": 6094692,
     "sourceId": 10181710,
     "sourceType": "datasetVersion"
    }
   ],
   "dockerImageVersionId": 30804,
   "isGpuEnabled": false,
   "isInternetEnabled": true,
   "language": "python",
   "sourceType": "notebook"
  },
  "kernelspec": {
   "display_name": "Python 3",
   "language": "python",
   "name": "python3"
  },
  "language_info": {
   "codemirror_mode": {
    "name": "ipython",
    "version": 3
   },
   "file_extension": ".py",
   "mimetype": "text/x-python",
   "name": "python",
   "nbconvert_exporter": "python",
   "pygments_lexer": "ipython3",
   "version": "3.10.14"
  },
  "papermill": {
   "default_parameters": {},
   "duration": 14748.273162,
   "end_time": "2024-12-15T18:11:55.441693",
   "environment_variables": {},
   "exception": null,
   "input_path": "__notebook__.ipynb",
   "output_path": "__notebook__.ipynb",
   "parameters": {},
   "start_time": "2024-12-15T14:06:07.168531",
   "version": "2.6.0"
  }
 },
 "nbformat": 4,
 "nbformat_minor": 5
}
