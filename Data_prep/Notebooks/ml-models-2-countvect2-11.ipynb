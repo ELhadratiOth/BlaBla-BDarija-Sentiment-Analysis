{
 "cells": [
  {
   "cell_type": "markdown",
   "id": "e8c74091",
   "metadata": {
    "papermill": {
     "duration": 0.01133,
     "end_time": "2024-12-19T15:10:55.578111",
     "exception": false,
     "start_time": "2024-12-19T15:10:55.566781",
     "status": "completed"
    },
    "tags": []
   },
   "source": [
    "# Darija Text Classification using ML Algorithms\n"
   ]
  },
  {
   "cell_type": "markdown",
   "id": "41f0ca07",
   "metadata": {
    "papermill": {
     "duration": 0.009765,
     "end_time": "2024-12-19T15:10:55.599519",
     "exception": false,
     "start_time": "2024-12-19T15:10:55.589754",
     "status": "completed"
    },
    "tags": []
   },
   "source": [
    "## Setup and Data Loading\n",
    "In this section, we:\n",
    "- Import required libraries\n",
    "- Load and prepare our Darija dataset\n",
    "- Set up configuration parameters"
   ]
  },
  {
   "cell_type": "code",
   "execution_count": 1,
   "id": "abf808ce",
   "metadata": {
    "execution": {
     "iopub.execute_input": "2024-12-19T15:10:55.620682Z",
     "iopub.status.busy": "2024-12-19T15:10:55.620284Z",
     "iopub.status.idle": "2024-12-19T15:10:55.637346Z",
     "shell.execute_reply": "2024-12-19T15:10:55.636256Z"
    },
    "papermill": {
     "duration": 0.029997,
     "end_time": "2024-12-19T15:10:55.639392",
     "exception": false,
     "start_time": "2024-12-19T15:10:55.609395",
     "status": "completed"
    },
    "tags": []
   },
   "outputs": [
    {
     "name": "stdout",
     "output_type": "stream",
     "text": [
      "Current working directory: /kaggle/input/ma-datasets\n",
      "Directory contents: ['suf_pref_darija.json', 'stop_words_accum.json', 'set2.csv', 'set7.csv', 'set5.csv', 'darija_latin_ref.json', 'set4.csv', 'scaped_comments.csv', 'set3.csv', 'cleaned_clustered_data.csv', 'set1.csv']\n"
     ]
    }
   ],
   "source": [
    "import os \n",
    "os.chdir('/kaggle/input/ma-datasets') \n",
    "current_directory = os.getcwd()\n",
    "print(\"Current working directory:\", current_directory)\n",
    "contents = os.listdir()\n",
    "print(\"Directory contents:\", contents)"
   ]
  },
  {
   "cell_type": "code",
   "execution_count": 2,
   "id": "d4fc6e2c",
   "metadata": {
    "execution": {
     "iopub.execute_input": "2024-12-19T15:10:55.661771Z",
     "iopub.status.busy": "2024-12-19T15:10:55.660909Z",
     "iopub.status.idle": "2024-12-19T15:11:09.098598Z",
     "shell.execute_reply": "2024-12-19T15:11:09.097590Z"
    },
    "papermill": {
     "duration": 13.451237,
     "end_time": "2024-12-19T15:11:09.100975",
     "exception": false,
     "start_time": "2024-12-19T15:10:55.649738",
     "status": "completed"
    },
    "tags": []
   },
   "outputs": [
    {
     "name": "stdout",
     "output_type": "stream",
     "text": [
      "Requirement already satisfied: pandas in /opt/conda/lib/python3.10/site-packages (2.2.3)\r\n",
      "Requirement already satisfied: PyArabic in /opt/conda/lib/python3.10/site-packages (0.6.15)\r\n",
      "Collecting Tashaphyne\r\n",
      "  Downloading Tashaphyne-0.3.6-py3-none-any.whl.metadata (18 kB)\r\n",
      "Collecting pydoda\r\n",
      "  Downloading pydoda-1.2.1-py3-none-any.whl.metadata (5.8 kB)\r\n",
      "Collecting Arabic-Stopwords\r\n",
      "  Downloading Arabic_Stopwords-0.4.3-py3-none-any.whl.metadata (8.9 kB)\r\n",
      "Requirement already satisfied: seaborn in /opt/conda/lib/python3.10/site-packages (0.12.2)\r\n",
      "Requirement already satisfied: scikit-learn in /opt/conda/lib/python3.10/site-packages (1.2.2)\r\n",
      "Requirement already satisfied: emoji in /opt/conda/lib/python3.10/site-packages (2.14.0)\r\n",
      "Requirement already satisfied: xgboost in /opt/conda/lib/python3.10/site-packages (2.0.3)\r\n",
      "Requirement already satisfied: lightgbm in /opt/conda/lib/python3.10/site-packages (4.2.0)\r\n",
      "Requirement already satisfied: numpy>=1.22.4 in /opt/conda/lib/python3.10/site-packages (from pandas) (1.26.4)\r\n",
      "Requirement already satisfied: python-dateutil>=2.8.2 in /opt/conda/lib/python3.10/site-packages (from pandas) (2.9.0.post0)\r\n",
      "Requirement already satisfied: pytz>=2020.1 in /opt/conda/lib/python3.10/site-packages (from pandas) (2024.1)\r\n",
      "Requirement already satisfied: tzdata>=2022.7 in /opt/conda/lib/python3.10/site-packages (from pandas) (2024.1)\r\n",
      "Requirement already satisfied: six>=1.14.0 in /opt/conda/lib/python3.10/site-packages (from PyArabic) (1.16.0)\r\n",
      "Requirement already satisfied: matplotlib!=3.6.1,>=3.1 in /opt/conda/lib/python3.10/site-packages (from seaborn) (3.7.5)\r\n",
      "Requirement already satisfied: scipy>=1.3.2 in /opt/conda/lib/python3.10/site-packages (from scikit-learn) (1.14.1)\r\n",
      "Requirement already satisfied: joblib>=1.1.1 in /opt/conda/lib/python3.10/site-packages (from scikit-learn) (1.4.2)\r\n",
      "Requirement already satisfied: threadpoolctl>=2.0.0 in /opt/conda/lib/python3.10/site-packages (from scikit-learn) (3.5.0)\r\n",
      "Requirement already satisfied: contourpy>=1.0.1 in /opt/conda/lib/python3.10/site-packages (from matplotlib!=3.6.1,>=3.1->seaborn) (1.2.1)\r\n",
      "Requirement already satisfied: cycler>=0.10 in /opt/conda/lib/python3.10/site-packages (from matplotlib!=3.6.1,>=3.1->seaborn) (0.12.1)\r\n",
      "Requirement already satisfied: fonttools>=4.22.0 in /opt/conda/lib/python3.10/site-packages (from matplotlib!=3.6.1,>=3.1->seaborn) (4.53.0)\r\n",
      "Requirement already satisfied: kiwisolver>=1.0.1 in /opt/conda/lib/python3.10/site-packages (from matplotlib!=3.6.1,>=3.1->seaborn) (1.4.5)\r\n",
      "Requirement already satisfied: packaging>=20.0 in /opt/conda/lib/python3.10/site-packages (from matplotlib!=3.6.1,>=3.1->seaborn) (21.3)\r\n",
      "Requirement already satisfied: pillow>=6.2.0 in /opt/conda/lib/python3.10/site-packages (from matplotlib!=3.6.1,>=3.1->seaborn) (10.3.0)\r\n",
      "Requirement already satisfied: pyparsing>=2.3.1 in /opt/conda/lib/python3.10/site-packages (from matplotlib!=3.6.1,>=3.1->seaborn) (3.1.2)\r\n",
      "Downloading Tashaphyne-0.3.6-py3-none-any.whl (251 kB)\r\n",
      "\u001b[2K   \u001b[90m━━━━━━━━━━━━━━━━━━━━━━━━━━━━━━━━━━━━━━━━\u001b[0m \u001b[32m251.5/251.5 kB\u001b[0m \u001b[31m5.8 MB/s\u001b[0m eta \u001b[36m0:00:00\u001b[0m\r\n",
      "\u001b[?25hDownloading pydoda-1.2.1-py3-none-any.whl (4.1 MB)\r\n",
      "\u001b[2K   \u001b[90m━━━━━━━━━━━━━━━━━━━━━━━━━━━━━━━━━━━━━━━━\u001b[0m \u001b[32m4.1/4.1 MB\u001b[0m \u001b[31m55.2 MB/s\u001b[0m eta \u001b[36m0:00:00\u001b[0m\r\n",
      "\u001b[?25hDownloading Arabic_Stopwords-0.4.3-py3-none-any.whl (360 kB)\r\n",
      "\u001b[2K   \u001b[90m━━━━━━━━━━━━━━━━━━━━━━━━━━━━━━━━━━━━━━━━\u001b[0m \u001b[32m360.5/360.5 kB\u001b[0m \u001b[31m21.2 MB/s\u001b[0m eta \u001b[36m0:00:00\u001b[0m\r\n",
      "\u001b[?25hInstalling collected packages: Tashaphyne, Arabic-Stopwords, pydoda\r\n",
      "Successfully installed Arabic-Stopwords-0.4.3 Tashaphyne-0.3.6 pydoda-1.2.1\r\n"
     ]
    }
   ],
   "source": [
    "!pip install pandas PyArabic Tashaphyne pydoda Arabic-Stopwords seaborn scikit-learn emoji xgboost lightgbm "
   ]
  },
  {
   "cell_type": "code",
   "execution_count": 3,
   "id": "643b43f9",
   "metadata": {
    "execution": {
     "iopub.execute_input": "2024-12-19T15:11:09.125273Z",
     "iopub.status.busy": "2024-12-19T15:11:09.124375Z",
     "iopub.status.idle": "2024-12-19T15:11:11.350087Z",
     "shell.execute_reply": "2024-12-19T15:11:11.349044Z"
    },
    "papermill": {
     "duration": 2.240302,
     "end_time": "2024-12-19T15:11:11.352421",
     "exception": false,
     "start_time": "2024-12-19T15:11:09.112119",
     "status": "completed"
    },
    "tags": []
   },
   "outputs": [],
   "source": [
    "import pandas as pd\n",
    "from sklearn.model_selection import GridSearchCV\n",
    "import re\n",
    "from tashaphyne.stemming import ArabicLightStemmer\n",
    "import json\n",
    "import emoji \n"
   ]
  },
  {
   "cell_type": "code",
   "execution_count": 4,
   "id": "7831d4aa",
   "metadata": {
    "execution": {
     "iopub.execute_input": "2024-12-19T15:11:11.376024Z",
     "iopub.status.busy": "2024-12-19T15:11:11.375486Z",
     "iopub.status.idle": "2024-12-19T15:11:11.671460Z",
     "shell.execute_reply": "2024-12-19T15:11:11.670572Z"
    },
    "papermill": {
     "duration": 0.310246,
     "end_time": "2024-12-19T15:11:11.673747",
     "exception": false,
     "start_time": "2024-12-19T15:11:11.363501",
     "status": "completed"
    },
    "tags": []
   },
   "outputs": [],
   "source": [
    "df = pd.read_csv(\"/kaggle/input/dataset/dataset (18).csv\")"
   ]
  },
  {
   "cell_type": "code",
   "execution_count": 5,
   "id": "072cacb6",
   "metadata": {
    "execution": {
     "iopub.execute_input": "2024-12-19T15:11:11.697321Z",
     "iopub.status.busy": "2024-12-19T15:11:11.696933Z",
     "iopub.status.idle": "2024-12-19T15:11:11.725778Z",
     "shell.execute_reply": "2024-12-19T15:11:11.724828Z"
    },
    "papermill": {
     "duration": 0.043108,
     "end_time": "2024-12-19T15:11:11.728012",
     "exception": false,
     "start_time": "2024-12-19T15:11:11.684904",
     "status": "completed"
    },
    "tags": []
   },
   "outputs": [
    {
     "name": "stderr",
     "output_type": "stream",
     "text": [
      "/tmp/ipykernel_17/177686370.py:1: DeprecationWarning: DataFrameGroupBy.apply operated on the grouping columns. This behavior is deprecated, and in a future version of pandas the grouping columns will be excluded from the operation. Either pass `include_groups=False` to exclude the groupings or explicitly select the grouping columns after groupby to silence this warning.\n",
      "  df = df.groupby('target', group_keys=False).apply(\n"
     ]
    }
   ],
   "source": [
    "df = df.groupby('target', group_keys=False).apply(\n",
    "    lambda x: x.sample(frac=0.5)\n",
    ")"
   ]
  },
  {
   "cell_type": "code",
   "execution_count": 6,
   "id": "1da547ed",
   "metadata": {
    "execution": {
     "iopub.execute_input": "2024-12-19T15:11:11.751853Z",
     "iopub.status.busy": "2024-12-19T15:11:11.751487Z",
     "iopub.status.idle": "2024-12-19T15:11:11.773663Z",
     "shell.execute_reply": "2024-12-19T15:11:11.772704Z"
    },
    "papermill": {
     "duration": 0.036592,
     "end_time": "2024-12-19T15:11:11.775806",
     "exception": false,
     "start_time": "2024-12-19T15:11:11.739214",
     "status": "completed"
    },
    "tags": []
   },
   "outputs": [
    {
     "name": "stdout",
     "output_type": "stream",
     "text": [
      "<class 'pandas.core.frame.DataFrame'>\n",
      "Index: 17500 entries, 33962 to 4503\n",
      "Data columns (total 3 columns):\n",
      " #   Column        Non-Null Count  Dtype \n",
      "---  ------        --------------  ----- \n",
      " 0   text          17500 non-null  object\n",
      " 1   target        17500 non-null  int64 \n",
      " 2   text_cleaned  16901 non-null  object\n",
      "dtypes: int64(1), object(2)\n",
      "memory usage: 546.9+ KB\n"
     ]
    }
   ],
   "source": [
    "df.info()"
   ]
  },
  {
   "cell_type": "markdown",
   "id": "29339cd5",
   "metadata": {
    "papermill": {
     "duration": 0.010767,
     "end_time": "2024-12-19T15:11:11.797945",
     "exception": false,
     "start_time": "2024-12-19T15:11:11.787178",
     "status": "completed"
    },
    "tags": []
   },
   "source": [
    "## Data Preprocessing\n",
    "Key preprocessing steps for Darija text:\n",
    "- Text cleaning and normalization\n",
    "- Feature extraction\n",
    "- Train-test split\n"
   ]
  },
  {
   "cell_type": "code",
   "execution_count": 7,
   "id": "f0dff482",
   "metadata": {
    "execution": {
     "iopub.execute_input": "2024-12-19T15:11:11.822044Z",
     "iopub.status.busy": "2024-12-19T15:11:11.821388Z",
     "iopub.status.idle": "2024-12-19T15:11:11.831356Z",
     "shell.execute_reply": "2024-12-19T15:11:11.830376Z"
    },
    "papermill": {
     "duration": 0.024502,
     "end_time": "2024-12-19T15:11:11.833486",
     "exception": false,
     "start_time": "2024-12-19T15:11:11.808984",
     "status": "completed"
    },
    "tags": []
   },
   "outputs": [],
   "source": [
    "darija_alphabet = {\n",
    "    \"gh\": \"غ\",\n",
    "    \"sh\": \"ش\",\n",
    "    \"ch\": \"ش\",\n",
    "    \"ss\": \"س\",\n",
    "    \"kh\": \"خ\",\n",
    "    \"ç\": \"س\",\n",
    "    \"ou\": \"و\",    \n",
    "    \"ei\": \"ي\",    \n",
    "    \"ay\": \"ي\",    \n",
    "    \"ae\": \"ي\",   \n",
    "    \"5\": \"خ\",     \n",
    "    \"2\": \"ا\",    \n",
    "    \"b\": \"ب\",\n",
    "    \"t\": \"ت\",\n",
    "    \"j\": \"ج\",\n",
    "    \"7\": \"ح\",\n",
    "    \"d\": \"د\",\n",
    "    \"r\": \"ر\",\n",
    "    \"z\": \"ز\",\n",
    "    \"s\": \"س\",\n",
    "    \"9\": \"ق\",\n",
    "    \"3\": \"ع\",\n",
    "    \"4\": \"غ\",\n",
    "    \"f\": \"ف\",\n",
    "    \"q\": \"ك\",\n",
    "    \"k\": \"ك\",\n",
    "    \"l\": \"ل\",\n",
    "    \"m\": \"م\",\n",
    "    \"n\": \"ن\",\n",
    "    \"h\": \"ه\",\n",
    "    \"w\": \"و\",\n",
    "    \"y\": \"ي\",\n",
    "    \"g\": \"ڭ\",\n",
    "    'i': 'ي',\n",
    "    'ee': 'ي',\n",
    "    'aa': 'ا',\n",
    "    'oo': 'و',\n",
    "    'o': 'و',\n",
    "    \"x\": \"ش\",\n",
    "}\n",
    "word_in = [\n",
    "    \"ء\", \"أ\", \"إ\", \"آ\", \"ؤ\", \"ئ\", \"ة\", \"ى\",\"-\", \"/\", \".\", \"،\", '\"', \"'\", \"\\\\\", \"?\", \"؟\", \"!\", \"،\", \"؛\",\":\",\"#\", \"@\", \"&\", \"=\", \"¥\", \"$\", \"%\", \"*\", \"+\", \"<\", \">\", \"|\", \"~\", \"^\", \n",
    "    \"\\n\", \"\\t\", \"\\r\", \" و\",\"ذ\", \"ظ\", \"ض\", \"ص\",\"(\", \")\", \"[\", \"]\", \"{\", \"}\", \"《\", \"》\", \"«\", \"»\"\n",
    "]\n",
    "\n",
    "replaced_by = [\n",
    "    \"ا\", \"ا\", \"ا\", \"ا\", \"ا\", \"ا\", \"ه\", \"ي\",\" \", \"\", \"\", \"\", \"\", \"\", \"\", \" ? \", \" ؟ \", \" ! \", \"\", \"\", \"\",\n",
    "    \"\", \"\", \"\", \"\", \"\", \"\", \"\", \"\", \"\", \"\", \"\", \"\", \"\", \"\",\" \", \" \", \" \", \"\",\n",
    "    \"د\", \"د\", \"د\", \"س\",\"\", \"\", \"\", \"\", \"\", \"\", \"\", \"\", \"\", \"\"\n",
    "]\n",
    "\n",
    "arabic_alphabet = \"ابتثجحخدذرزسشصضطظعغفقكلمنهوي\""
   ]
  },
  {
   "cell_type": "code",
   "execution_count": 8,
   "id": "3608973d",
   "metadata": {
    "execution": {
     "iopub.execute_input": "2024-12-19T15:11:11.857762Z",
     "iopub.status.busy": "2024-12-19T15:11:11.856797Z",
     "iopub.status.idle": "2024-12-19T15:11:11.861620Z",
     "shell.execute_reply": "2024-12-19T15:11:11.860667Z"
    },
    "papermill": {
     "duration": 0.01898,
     "end_time": "2024-12-19T15:11:11.863682",
     "exception": false,
     "start_time": "2024-12-19T15:11:11.844702",
     "status": "completed"
    },
    "tags": []
   },
   "outputs": [],
   "source": [
    "from pyarabic.araby import strip_diacritics\n",
    "#remove tashkeel\n",
    "def removing_tashkeel(word): # useed\n",
    "          return strip_diacritics(word)"
   ]
  },
  {
   "cell_type": "code",
   "execution_count": 9,
   "id": "f25d5791",
   "metadata": {
    "execution": {
     "iopub.execute_input": "2024-12-19T15:11:11.887606Z",
     "iopub.status.busy": "2024-12-19T15:11:11.886959Z",
     "iopub.status.idle": "2024-12-19T15:11:11.891441Z",
     "shell.execute_reply": "2024-12-19T15:11:11.890520Z"
    },
    "papermill": {
     "duration": 0.018635,
     "end_time": "2024-12-19T15:11:11.893362",
     "exception": false,
     "start_time": "2024-12-19T15:11:11.874727",
     "status": "completed"
    },
    "tags": []
   },
   "outputs": [],
   "source": [
    "from pyarabic.araby import strip_tatweel\n",
    "\n",
    "#remove tatweel l2imdad\n",
    "def removing_tatweel(word): # useed\n",
    "          return strip_tatweel(word)"
   ]
  },
  {
   "cell_type": "code",
   "execution_count": 10,
   "id": "25a50cc8",
   "metadata": {
    "execution": {
     "iopub.execute_input": "2024-12-19T15:11:11.918021Z",
     "iopub.status.busy": "2024-12-19T15:11:11.917211Z",
     "iopub.status.idle": "2024-12-19T15:11:11.922063Z",
     "shell.execute_reply": "2024-12-19T15:11:11.921114Z"
    },
    "papermill": {
     "duration": 0.019175,
     "end_time": "2024-12-19T15:11:11.923927",
     "exception": false,
     "start_time": "2024-12-19T15:11:11.904752",
     "status": "completed"
    },
    "tags": []
   },
   "outputs": [],
   "source": [
    "from pyarabic.araby import normalize_ligature\n",
    "\n",
    "#remove ligature hamza , alef \n",
    "def removing_ligature(word): # not used \n",
    "          return normalize_ligature(word)"
   ]
  },
  {
   "cell_type": "code",
   "execution_count": 11,
   "id": "e2f80b8e",
   "metadata": {
    "execution": {
     "iopub.execute_input": "2024-12-19T15:11:11.948374Z",
     "iopub.status.busy": "2024-12-19T15:11:11.947627Z",
     "iopub.status.idle": "2024-12-19T15:11:11.952058Z",
     "shell.execute_reply": "2024-12-19T15:11:11.951146Z"
    },
    "papermill": {
     "duration": 0.018934,
     "end_time": "2024-12-19T15:11:11.954084",
     "exception": false,
     "start_time": "2024-12-19T15:11:11.935150",
     "status": "completed"
    },
    "tags": []
   },
   "outputs": [],
   "source": [
    "# remove underscore\n",
    "def replace_underscore(word): # useed\n",
    "          return word.replace(\"_\", \" \")"
   ]
  },
  {
   "cell_type": "code",
   "execution_count": 12,
   "id": "c8133fd9",
   "metadata": {
    "execution": {
     "iopub.execute_input": "2024-12-19T15:11:11.980014Z",
     "iopub.status.busy": "2024-12-19T15:11:11.979384Z",
     "iopub.status.idle": "2024-12-19T15:11:11.984027Z",
     "shell.execute_reply": "2024-12-19T15:11:11.983125Z"
    },
    "papermill": {
     "duration": 0.019029,
     "end_time": "2024-12-19T15:11:11.985886",
     "exception": false,
     "start_time": "2024-12-19T15:11:11.966857",
     "status": "completed"
    },
    "tags": []
   },
   "outputs": [],
   "source": [
    "import pyarabic.araby as araby\n",
    "\n",
    "# remove hamza ambiguity\n",
    "def remove_ambiguity_hamza(word): # useed\n",
    "          return araby.normalize_hamza(word)"
   ]
  },
  {
   "cell_type": "code",
   "execution_count": 13,
   "id": "30d815f8",
   "metadata": {
    "execution": {
     "iopub.execute_input": "2024-12-19T15:11:12.009721Z",
     "iopub.status.busy": "2024-12-19T15:11:12.009311Z",
     "iopub.status.idle": "2024-12-19T15:11:12.013912Z",
     "shell.execute_reply": "2024-12-19T15:11:12.012946Z"
    },
    "papermill": {
     "duration": 0.018726,
     "end_time": "2024-12-19T15:11:12.015826",
     "exception": false,
     "start_time": "2024-12-19T15:11:11.997100",
     "status": "completed"
    },
    "tags": []
   },
   "outputs": [],
   "source": [
    "# romove \"AL\"\n",
    "def remove_AL(word): # useed\n",
    "          return re.sub(r'^ال', '', word)"
   ]
  },
  {
   "cell_type": "code",
   "execution_count": 14,
   "id": "b0982804",
   "metadata": {
    "execution": {
     "iopub.execute_input": "2024-12-19T15:11:12.039604Z",
     "iopub.status.busy": "2024-12-19T15:11:12.039191Z",
     "iopub.status.idle": "2024-12-19T15:11:12.045944Z",
     "shell.execute_reply": "2024-12-19T15:11:12.044986Z"
    },
    "papermill": {
     "duration": 0.020872,
     "end_time": "2024-12-19T15:11:12.047933",
     "exception": false,
     "start_time": "2024-12-19T15:11:12.027061",
     "status": "completed"
    },
    "tags": []
   },
   "outputs": [],
   "source": [
    "# remove repeated characters      \n",
    "def word_remover(word): # useed\n",
    "            if len(word) == 1 or len(word) == 0 or len(word) >= 13:\n",
    "                return \"\"                \n",
    "            else :\n",
    "                # print(word)\n",
    "                for a7rf in arabic_alphabet:\n",
    "                    if a7rf == 'د' or a7rf == 'ه':\n",
    "                        word = re.sub(fr'{a7rf}{{3,}}', a7rf * 2, word).strip()\n",
    "                    else:\n",
    "                        word = re.sub(fr'{a7rf}+', a7rf, word).strip()\n",
    "                # print(word) \n",
    "                for i in range(len(word)):\n",
    "                    if word[i] in word_in:\n",
    "                        index = word_in.index(word[i])\n",
    "                        word = word[:i] + replaced_by[index] + word[i + 1:]\n",
    "\n",
    "                return word\n"
   ]
  },
  {
   "cell_type": "code",
   "execution_count": 15,
   "id": "d11fe1ed",
   "metadata": {
    "execution": {
     "iopub.execute_input": "2024-12-19T15:11:12.072368Z",
     "iopub.status.busy": "2024-12-19T15:11:12.071502Z",
     "iopub.status.idle": "2024-12-19T15:11:12.076289Z",
     "shell.execute_reply": "2024-12-19T15:11:12.075399Z"
    },
    "papermill": {
     "duration": 0.019191,
     "end_time": "2024-12-19T15:11:12.078321",
     "exception": false,
     "start_time": "2024-12-19T15:11:12.059130",
     "status": "completed"
    },
    "tags": []
   },
   "outputs": [],
   "source": [
    "# remove emails  \n",
    "def remove_url(text): # useed\n",
    "    text = re.sub(r'(https|http)?:\\/\\/(\\w|\\.|\\/|\\?|\\=|\\&|\\%)*\\b',\n",
    "                  '', text, flags=re.MULTILINE)\n",
    "    return text      \n",
    " "
   ]
  },
  {
   "cell_type": "code",
   "execution_count": 16,
   "id": "6d3fa400",
   "metadata": {
    "execution": {
     "iopub.execute_input": "2024-12-19T15:11:12.102844Z",
     "iopub.status.busy": "2024-12-19T15:11:12.101957Z",
     "iopub.status.idle": "2024-12-19T15:11:12.106923Z",
     "shell.execute_reply": "2024-12-19T15:11:12.105897Z"
    },
    "papermill": {
     "duration": 0.019341,
     "end_time": "2024-12-19T15:11:12.108944",
     "exception": false,
     "start_time": "2024-12-19T15:11:12.089603",
     "status": "completed"
    },
    "tags": []
   },
   "outputs": [],
   "source": [
    " # remove emails     \n",
    "def remove_emails(text): # useed\n",
    "    text = re.sub(r'[a-zA-Z0-9._%+-]+@[a-zA-Z0-9.-]+\\.[a-zA-Z]{2,}', '', text, flags=re.MULTILINE)\n",
    "    return text  "
   ]
  },
  {
   "cell_type": "code",
   "execution_count": 17,
   "id": "d4e77a54",
   "metadata": {
    "execution": {
     "iopub.execute_input": "2024-12-19T15:11:12.133315Z",
     "iopub.status.busy": "2024-12-19T15:11:12.132585Z",
     "iopub.status.idle": "2024-12-19T15:11:12.137813Z",
     "shell.execute_reply": "2024-12-19T15:11:12.136897Z"
    },
    "papermill": {
     "duration": 0.019399,
     "end_time": "2024-12-19T15:11:12.139611",
     "exception": false,
     "start_time": "2024-12-19T15:11:12.120212",
     "status": "completed"
    },
    "tags": []
   },
   "outputs": [],
   "source": [
    "def special_tags_and_ponctuations(text):  # Function to clean special tags\n",
    "    text = re.sub(r'&amp;', '', text) \n",
    "    text = re.sub(r'&quot;', '', text)  \n",
    "    text = re.sub(r'!+', '!', text)\n",
    "    text = re.sub(r'\\?+', '?', text)\n",
    "    text = re.sub(r'\\.+', '.', text)\n",
    "\n",
    "    return text"
   ]
  },
  {
   "cell_type": "code",
   "execution_count": 18,
   "id": "db2899fb",
   "metadata": {
    "execution": {
     "iopub.execute_input": "2024-12-19T15:11:12.163958Z",
     "iopub.status.busy": "2024-12-19T15:11:12.163074Z",
     "iopub.status.idle": "2024-12-19T15:11:12.167808Z",
     "shell.execute_reply": "2024-12-19T15:11:12.166854Z"
    },
    "papermill": {
     "duration": 0.018916,
     "end_time": "2024-12-19T15:11:12.169809",
     "exception": false,
     "start_time": "2024-12-19T15:11:12.150893",
     "status": "completed"
    },
    "tags": []
   },
   "outputs": [],
   "source": [
    "def remove_html_tags(text):\n",
    "    text = re.sub(r'<[^>]+>', '', text)\n",
    "    return text"
   ]
  },
  {
   "cell_type": "code",
   "execution_count": 19,
   "id": "7cea88bc",
   "metadata": {
    "execution": {
     "iopub.execute_input": "2024-12-19T15:11:12.194210Z",
     "iopub.status.busy": "2024-12-19T15:11:12.193530Z",
     "iopub.status.idle": "2024-12-19T15:11:12.198242Z",
     "shell.execute_reply": "2024-12-19T15:11:12.197411Z"
    },
    "papermill": {
     "duration": 0.01886,
     "end_time": "2024-12-19T15:11:12.200082",
     "exception": false,
     "start_time": "2024-12-19T15:11:12.181222",
     "status": "completed"
    },
    "tags": []
   },
   "outputs": [],
   "source": [
    "# hundle emojis\n",
    "def extend_spletting(items):  # helper function to split items\n",
    "    spletting = []\n",
    "    for item in items:\n",
    "        spletting.extend(item.split())\n",
    "    return spletting"
   ]
  },
  {
   "cell_type": "code",
   "execution_count": 20,
   "id": "1e09a70b",
   "metadata": {
    "execution": {
     "iopub.execute_input": "2024-12-19T15:11:12.223965Z",
     "iopub.status.busy": "2024-12-19T15:11:12.223582Z",
     "iopub.status.idle": "2024-12-19T15:11:12.228308Z",
     "shell.execute_reply": "2024-12-19T15:11:12.227385Z"
    },
    "papermill": {
     "duration": 0.019002,
     "end_time": "2024-12-19T15:11:12.230205",
     "exception": false,
     "start_time": "2024-12-19T15:11:12.211203",
     "status": "completed"
    },
    "tags": []
   },
   "outputs": [],
   "source": [
    "def emoji_hundler(word):  # helper function to handle emojis\n",
    "    word = emoji.demojize(word, language='ar')\n",
    "    word = replace_underscore(word)[1:-1]\n",
    "    return word"
   ]
  },
  {
   "cell_type": "code",
   "execution_count": 21,
   "id": "fc08c3fe",
   "metadata": {
    "execution": {
     "iopub.execute_input": "2024-12-19T15:11:12.254423Z",
     "iopub.status.busy": "2024-12-19T15:11:12.253699Z",
     "iopub.status.idle": "2024-12-19T15:11:12.260402Z",
     "shell.execute_reply": "2024-12-19T15:11:12.259421Z"
    },
    "papermill": {
     "duration": 0.020877,
     "end_time": "2024-12-19T15:11:12.262285",
     "exception": false,
     "start_time": "2024-12-19T15:11:12.241408",
     "status": "completed"
    },
    "tags": []
   },
   "outputs": [],
   "source": [
    "def is_an_emoji(word):\n",
    "    emoji_pattern = re.compile(\"[\"  \n",
    "                               u\"\\U0001F680-\\U0001F6FF\"  # transport and map unicods\n",
    "                               u\"\\U0001F1E0-\\U0001F1FF\"  # flags unicods\n",
    "                               \"]+\", flags=re.UNICODE)\n",
    "\n",
    "    if emoji.is_emoji(word):\n",
    "        word = emoji_pattern.sub(r'', word)\n",
    "        return extend_spletting([emoji_hundler(word)])\n",
    "\n",
    "    elif emoji.purely_emoji(word):\n",
    "        data_of_emojis = emoji.distinct_emoji_list(word)\n",
    "        data = [emoji_hundler(emoji_pattern.sub(r'', item)) for item in data_of_emojis]\n",
    "        return extend_spletting(data)\n",
    "\n",
    "    else:\n",
    "        text_only = re.sub(r'[^\\w\\s?!]', '', word)\n",
    "        data_of_emojis = emoji.distinct_emoji_list(word)\n",
    "        emojis = [emoji_hundler(emoji_pattern.sub(r'', item)) for item in data_of_emojis]\n",
    "        \n",
    "        return [text_only] + extend_spletting(emojis)\n"
   ]
  },
  {
   "cell_type": "code",
   "execution_count": 22,
   "id": "91319f20",
   "metadata": {
    "execution": {
     "iopub.execute_input": "2024-12-19T15:11:12.286598Z",
     "iopub.status.busy": "2024-12-19T15:11:12.286186Z",
     "iopub.status.idle": "2024-12-19T15:11:12.292601Z",
     "shell.execute_reply": "2024-12-19T15:11:12.291699Z"
    },
    "papermill": {
     "duration": 0.020819,
     "end_time": "2024-12-19T15:11:12.294764",
     "exception": false,
     "start_time": "2024-12-19T15:11:12.273945",
     "status": "completed"
    },
    "tags": []
   },
   "outputs": [],
   "source": [
    "# tramslating darija(latin) to daruja(arabic)\n",
    "def translate_darija_to_arabic(word): # useed\n",
    "    # print(\"test\")\n",
    "    word = word.lower()\n",
    "    if  bool(re.compile(r\"[a-z0-9']+\").search(word)):\n",
    "        arabic_word = \"\"\n",
    "        i = 0\n",
    "        while i < len(word):\n",
    "            # print('sadd')\n",
    "            if i + 1 < len(word) and word[i:i+2] in darija_alphabet: # Check for 2 lettrs\n",
    "                arabic_word += darija_alphabet[word[i:i+2]]\n",
    "                i += 2\n",
    "            elif word[i] in darija_alphabet:\n",
    "                arabic_word += darija_alphabet[word[i]]\n",
    "                i += 1\n",
    "            else:\n",
    "                i += 1\n",
    "        return arabic_word\n",
    "    return word\n",
    "      "
   ]
  },
  {
   "cell_type": "code",
   "execution_count": 23,
   "id": "8fe61b99",
   "metadata": {
    "execution": {
     "iopub.execute_input": "2024-12-19T15:11:12.319008Z",
     "iopub.status.busy": "2024-12-19T15:11:12.318257Z",
     "iopub.status.idle": "2024-12-19T15:11:12.323188Z",
     "shell.execute_reply": "2024-12-19T15:11:12.322141Z"
    },
    "papermill": {
     "duration": 0.019022,
     "end_time": "2024-12-19T15:11:12.325042",
     "exception": false,
     "start_time": "2024-12-19T15:11:12.306020",
     "status": "completed"
    },
    "tags": []
   },
   "outputs": [],
   "source": [
    "# remove  number arabic and latin\n",
    "def number_remov(listy): # useed\n",
    "    number_pattern = re.compile(r'^[0-9\\u0660-\\u0669]+$')\n",
    "    cleaned_list = [item for item in listy if not number_pattern.fullmatch(item)] \n",
    "    return cleaned_list   "
   ]
  },
  {
   "cell_type": "code",
   "execution_count": 24,
   "id": "905806af",
   "metadata": {
    "execution": {
     "iopub.execute_input": "2024-12-19T15:11:12.349158Z",
     "iopub.status.busy": "2024-12-19T15:11:12.348481Z",
     "iopub.status.idle": "2024-12-19T15:11:12.354239Z",
     "shell.execute_reply": "2024-12-19T15:11:12.353321Z"
    },
    "papermill": {
     "duration": 0.019864,
     "end_time": "2024-12-19T15:11:12.356089",
     "exception": false,
     "start_time": "2024-12-19T15:11:12.336225",
     "status": "completed"
    },
    "tags": []
   },
   "outputs": [],
   "source": [
    "#stemming arabic words     \n",
    "def stemming_darija(word):\n",
    "    # file = \"./Data_prep/suf_pref_darija.json\" # local run\n",
    "    file = \"suf_pref_darija.json\" \n",
    "\n",
    "    with open(file, 'r', encoding='utf-8') as json_file:\n",
    "        suf_pref = json.load(json_file)\n",
    "\n",
    "    ArListem = ArabicLightStemmer()\n",
    "    ArListem.set_prefix_list(suf_pref['darija_prefixes'])\n",
    "    ArListem.set_suffix_list(suf_pref['darija_suffixes'])\n",
    "    ArListem.light_stem(word)  \n",
    "    return ArListem.get_stem() "
   ]
  },
  {
   "cell_type": "code",
   "execution_count": 25,
   "id": "e2f579f4",
   "metadata": {
    "execution": {
     "iopub.execute_input": "2024-12-19T15:11:12.380031Z",
     "iopub.status.busy": "2024-12-19T15:11:12.379296Z",
     "iopub.status.idle": "2024-12-19T15:11:12.384106Z",
     "shell.execute_reply": "2024-12-19T15:11:12.383161Z"
    },
    "papermill": {
     "duration": 0.018803,
     "end_time": "2024-12-19T15:11:12.385990",
     "exception": false,
     "start_time": "2024-12-19T15:11:12.367187",
     "status": "completed"
    },
    "tags": []
   },
   "outputs": [],
   "source": [
    "# \"03:44\"\n",
    "def remove_yt_timers(text):\n",
    "    pattern = r'\\b\\d{1,2}:\\d{2,3}(:\\d{2,3})?\\b'\n",
    "    text = re.sub(pattern, '', text)\n",
    "    return text.strip()"
   ]
  },
  {
   "cell_type": "code",
   "execution_count": 26,
   "id": "efdb6801",
   "metadata": {
    "execution": {
     "iopub.execute_input": "2024-12-19T15:11:12.410819Z",
     "iopub.status.busy": "2024-12-19T15:11:12.409967Z",
     "iopub.status.idle": "2024-12-19T15:11:12.414787Z",
     "shell.execute_reply": "2024-12-19T15:11:12.413980Z"
    },
    "papermill": {
     "duration": 0.019106,
     "end_time": "2024-12-19T15:11:12.416558",
     "exception": false,
     "start_time": "2024-12-19T15:11:12.397452",
     "status": "completed"
    },
    "tags": []
   },
   "outputs": [],
   "source": [
    "\n",
    "def preproc_arab_sentence(word): # main function for  arab processing tokens\n",
    "    word = removing_tashkeel(word)\n",
    "    word = removing_tatweel(word)\n",
    "    word = remove_AL(word)\n",
    "    # word = remove_ambiguity_hamza(word)\n",
    "    word = word_remover(word)\n",
    "    return word\n"
   ]
  },
  {
   "cell_type": "code",
   "execution_count": 27,
   "id": "af49b9fe",
   "metadata": {
    "execution": {
     "iopub.execute_input": "2024-12-19T15:11:12.440478Z",
     "iopub.status.busy": "2024-12-19T15:11:12.439659Z",
     "iopub.status.idle": "2024-12-19T15:11:12.447966Z",
     "shell.execute_reply": "2024-12-19T15:11:12.447028Z"
    },
    "papermill": {
     "duration": 0.022398,
     "end_time": "2024-12-19T15:11:12.450000",
     "exception": false,
     "start_time": "2024-12-19T15:11:12.427602",
     "status": "completed"
    },
    "tags": []
   },
   "outputs": [],
   "source": [
    "from pyarabic.araby import tokenize\n",
    "def tokenize_arab_text(text):\n",
    "            # with open('./Data_prep/stop_words_accum.json', 'r', encoding='utf-8') as file: #  local run \n",
    "            with open('./stop_words_accum.json', 'r', encoding='utf-8') as file:\n",
    "\n",
    "                stop_words = json.load(file)\n",
    "\n",
    "            # with open('./Data_prep/darija_latin_ref.json', 'r', encoding='utf-8') as file: #  local run \n",
    "            with open('./darija_latin_ref.json', 'r', encoding='utf-8') as file:\n",
    "                \n",
    "                darija_latin_ref = json.load(file)\n",
    "          \n",
    "            #print(text)\n",
    "            text = remove_url(text)\n",
    "            text = remove_emails(text)\n",
    "            text = replace_underscore(text)\n",
    "            text = remove_html_tags(text)\n",
    "            text = remove_yt_timers(text)\n",
    "            text = special_tags_and_ponctuations(text)\n",
    "            #tokenization\n",
    "            print(text)\n",
    "            words = tokenize(text)\n",
    "            print(words)\n",
    "            words = [ translate_darija_to_arabic(word) for word in words if word not in darija_latin_ref]\n",
    "            print(words)\n",
    "            words = [is_an_emoji(word) for word in words] \n",
    "            words = [item for sublist in words for item in sublist if item]\n",
    "            words = list(set(words))\n",
    "            print(words)        \n",
    "            words = [word for word in words if word not in stop_words]\n",
    "            print(words)\n",
    "\n",
    "            words = [preproc_arab_sentence(word) for word in words]\n",
    "\n",
    "            # print(words)        \n",
    "            words = [stemming_darija(word) for word in words if word]\n",
    "            words = number_remov(words)\n",
    "\n",
    "\n",
    "            # print(words)\n",
    "            words = ' '.join(words) \n",
    "            return words"
   ]
  },
  {
   "cell_type": "code",
   "execution_count": 28,
   "id": "f11c99c2",
   "metadata": {
    "execution": {
     "iopub.execute_input": "2024-12-19T15:11:12.474108Z",
     "iopub.status.busy": "2024-12-19T15:11:12.473387Z",
     "iopub.status.idle": "2024-12-19T15:11:12.487491Z",
     "shell.execute_reply": "2024-12-19T15:11:12.486569Z"
    },
    "papermill": {
     "duration": 0.028216,
     "end_time": "2024-12-19T15:11:12.489326",
     "exception": false,
     "start_time": "2024-12-19T15:11:12.461110",
     "status": "completed"
    },
    "tags": []
   },
   "outputs": [
    {
     "data": {
      "text/html": [
       "<div>\n",
       "<style scoped>\n",
       "    .dataframe tbody tr th:only-of-type {\n",
       "        vertical-align: middle;\n",
       "    }\n",
       "\n",
       "    .dataframe tbody tr th {\n",
       "        vertical-align: top;\n",
       "    }\n",
       "\n",
       "    .dataframe thead th {\n",
       "        text-align: right;\n",
       "    }\n",
       "</style>\n",
       "<table border=\"1\" class=\"dataframe\">\n",
       "  <thead>\n",
       "    <tr style=\"text-align: right;\">\n",
       "      <th></th>\n",
       "      <th>text</th>\n",
       "      <th>target</th>\n",
       "      <th>text_cleaned</th>\n",
       "    </tr>\n",
       "  </thead>\n",
       "  <tbody>\n",
       "    <tr>\n",
       "      <th>33962</th>\n",
       "      <td>الضحيه هيه الطفله لاحول ولاقوه الا بالله شكون ...</td>\n",
       "      <td>0</td>\n",
       "      <td>لا حسنه ولاقوه تربيه غيربيها طفله دحيه مبانش ه...</td>\n",
       "    </tr>\n",
       "    <tr>\n",
       "      <th>26086</th>\n",
       "      <td>اخنوش اكبر شفار فتاريخ المغرب</td>\n",
       "      <td>0</td>\n",
       "      <td>NaN</td>\n",
       "    </tr>\n",
       "    <tr>\n",
       "      <th>1274</th>\n",
       "      <td>تماما بعض المرات كثرة الهرج و المرج لا تفيد</td>\n",
       "      <td>0</td>\n",
       "      <td>لا</td>\n",
       "    </tr>\n",
       "    <tr>\n",
       "      <th>31432</th>\n",
       "      <td>وخا يكتاشفو مناجم الذهب وكل يوم طن من الذهب وا...</td>\n",
       "      <td>0</td>\n",
       "      <td>شيا ما لن مناجم طن يكتاشفو اشباح</td>\n",
       "    </tr>\n",
       "    <tr>\n",
       "      <th>15069</th>\n",
       "      <td>اللعنة عليكم ياكلاب ولصوص وفاسدين. قالك الحكوم...</td>\n",
       "      <td>0</td>\n",
       "      <td>وفاسدين ودم يلعنكم يازباله عن ياكلاب ولسوس</td>\n",
       "    </tr>\n",
       "  </tbody>\n",
       "</table>\n",
       "</div>"
      ],
      "text/plain": [
       "                                                    text  target  \\\n",
       "33962  الضحيه هيه الطفله لاحول ولاقوه الا بالله شكون ...       0   \n",
       "26086                      اخنوش اكبر شفار فتاريخ المغرب       0   \n",
       "1274         تماما بعض المرات كثرة الهرج و المرج لا تفيد       0   \n",
       "31432  وخا يكتاشفو مناجم الذهب وكل يوم طن من الذهب وا...       0   \n",
       "15069  اللعنة عليكم ياكلاب ولصوص وفاسدين. قالك الحكوم...       0   \n",
       "\n",
       "                                            text_cleaned  \n",
       "33962  لا حسنه ولاقوه تربيه غيربيها طفله دحيه مبانش ه...  \n",
       "26086                                                NaN  \n",
       "1274                                                  لا  \n",
       "31432                   شيا ما لن مناجم طن يكتاشفو اشباح  \n",
       "15069         وفاسدين ودم يلعنكم يازباله عن ياكلاب ولسوس  "
      ]
     },
     "execution_count": 28,
     "metadata": {},
     "output_type": "execute_result"
    }
   ],
   "source": [
    "df.head()"
   ]
  },
  {
   "cell_type": "code",
   "execution_count": 29,
   "id": "4883b831",
   "metadata": {
    "execution": {
     "iopub.execute_input": "2024-12-19T15:11:12.514316Z",
     "iopub.status.busy": "2024-12-19T15:11:12.513459Z",
     "iopub.status.idle": "2024-12-19T15:11:12.529364Z",
     "shell.execute_reply": "2024-12-19T15:11:12.528363Z"
    },
    "papermill": {
     "duration": 0.030637,
     "end_time": "2024-12-19T15:11:12.531560",
     "exception": false,
     "start_time": "2024-12-19T15:11:12.500923",
     "status": "completed"
    },
    "tags": []
   },
   "outputs": [
    {
     "name": "stdout",
     "output_type": "stream",
     "text": [
      "<class 'pandas.core.frame.DataFrame'>\n",
      "Index: 17500 entries, 33962 to 4503\n",
      "Data columns (total 3 columns):\n",
      " #   Column        Non-Null Count  Dtype \n",
      "---  ------        --------------  ----- \n",
      " 0   text          17500 non-null  object\n",
      " 1   target        17500 non-null  int64 \n",
      " 2   text_cleaned  16901 non-null  object\n",
      "dtypes: int64(1), object(2)\n",
      "memory usage: 546.9+ KB\n"
     ]
    }
   ],
   "source": [
    "df.info()"
   ]
  },
  {
   "cell_type": "code",
   "execution_count": 30,
   "id": "3cd080eb",
   "metadata": {
    "execution": {
     "iopub.execute_input": "2024-12-19T15:11:12.557467Z",
     "iopub.status.busy": "2024-12-19T15:11:12.556503Z",
     "iopub.status.idle": "2024-12-19T15:11:12.570294Z",
     "shell.execute_reply": "2024-12-19T15:11:12.569398Z"
    },
    "papermill": {
     "duration": 0.028868,
     "end_time": "2024-12-19T15:11:12.572500",
     "exception": false,
     "start_time": "2024-12-19T15:11:12.543632",
     "status": "completed"
    },
    "tags": []
   },
   "outputs": [],
   "source": [
    "df.dropna(inplace=True)"
   ]
  },
  {
   "cell_type": "code",
   "execution_count": 31,
   "id": "c86f23d7",
   "metadata": {
    "execution": {
     "iopub.execute_input": "2024-12-19T15:11:12.597186Z",
     "iopub.status.busy": "2024-12-19T15:11:12.596834Z",
     "iopub.status.idle": "2024-12-19T15:11:12.612873Z",
     "shell.execute_reply": "2024-12-19T15:11:12.612035Z"
    },
    "papermill": {
     "duration": 0.030847,
     "end_time": "2024-12-19T15:11:12.615015",
     "exception": false,
     "start_time": "2024-12-19T15:11:12.584168",
     "status": "completed"
    },
    "tags": []
   },
   "outputs": [],
   "source": [
    "from sklearn.model_selection import train_test_split\n",
    "\n",
    "X_train, X_test, y_train, y_test = train_test_split( df.drop(columns=[\"target\"]),df[\"target\"], test_size=0.2 , stratify=df['target'] ,shuffle=True , random_state=123)"
   ]
  },
  {
   "cell_type": "code",
   "execution_count": 32,
   "id": "5468deda",
   "metadata": {
    "execution": {
     "iopub.execute_input": "2024-12-19T15:11:12.639181Z",
     "iopub.status.busy": "2024-12-19T15:11:12.638822Z",
     "iopub.status.idle": "2024-12-19T15:11:12.647418Z",
     "shell.execute_reply": "2024-12-19T15:11:12.646453Z"
    },
    "papermill": {
     "duration": 0.022762,
     "end_time": "2024-12-19T15:11:12.649205",
     "exception": false,
     "start_time": "2024-12-19T15:11:12.626443",
     "status": "completed"
    },
    "tags": []
   },
   "outputs": [
    {
     "data": {
      "text/plain": [
       "target\n",
       "0    1720\n",
       "1    1661\n",
       "Name: count, dtype: int64"
      ]
     },
     "execution_count": 32,
     "metadata": {},
     "output_type": "execute_result"
    }
   ],
   "source": [
    "y_test.value_counts()"
   ]
  },
  {
   "cell_type": "code",
   "execution_count": 33,
   "id": "fe205766",
   "metadata": {
    "execution": {
     "iopub.execute_input": "2024-12-19T15:11:12.673537Z",
     "iopub.status.busy": "2024-12-19T15:11:12.673159Z",
     "iopub.status.idle": "2024-12-19T15:11:12.678919Z",
     "shell.execute_reply": "2024-12-19T15:11:12.678077Z"
    },
    "papermill": {
     "duration": 0.020239,
     "end_time": "2024-12-19T15:11:12.680885",
     "exception": false,
     "start_time": "2024-12-19T15:11:12.660646",
     "status": "completed"
    },
    "tags": []
   },
   "outputs": [
    {
     "data": {
      "text/plain": [
       "(13520, 2)"
      ]
     },
     "execution_count": 33,
     "metadata": {},
     "output_type": "execute_result"
    }
   ],
   "source": [
    "X_train.shape"
   ]
  },
  {
   "cell_type": "markdown",
   "id": "51930231",
   "metadata": {
    "papermill": {
     "duration": 0.011207,
     "end_time": "2024-12-19T15:11:12.703715",
     "exception": false,
     "start_time": "2024-12-19T15:11:12.692508",
     "status": "completed"
    },
    "tags": []
   },
   "source": [
    "## Useful Function"
   ]
  },
  {
   "cell_type": "code",
   "execution_count": 34,
   "id": "2bd34ee5",
   "metadata": {
    "execution": {
     "iopub.execute_input": "2024-12-19T15:11:12.728446Z",
     "iopub.status.busy": "2024-12-19T15:11:12.728058Z",
     "iopub.status.idle": "2024-12-19T15:11:13.173986Z",
     "shell.execute_reply": "2024-12-19T15:11:13.173154Z"
    },
    "papermill": {
     "duration": 0.460699,
     "end_time": "2024-12-19T15:11:13.176108",
     "exception": false,
     "start_time": "2024-12-19T15:11:12.715409",
     "status": "completed"
    },
    "tags": []
   },
   "outputs": [],
   "source": [
    "import numpy as np\n",
    "from sklearn.metrics import accuracy_score, f1_score, classification_report, confusion_matrix\n",
    "import seaborn as sns\n",
    "import matplotlib.pyplot as plt\n",
    "\n",
    "def about_model(model_name , y_test, y_pred):\n",
    "    print('-------------------> ' + model_name )\n",
    "    accuracy = accuracy_score(y_test, y_pred)\n",
    "    print(f\"Accuracy: {accuracy:.2f}\")\n",
    "    \n",
    "    f1 = f1_score(y_test, y_pred, average=None)\n",
    "    print(\"F1-Score for each class:\")\n",
    "    class_labels = ['Positive', 'Negative']\n",
    "\n",
    "    for i, score in enumerate(f1):\n",
    "        print(f\"{class_labels[i]}: {score:.2f}\")\n",
    "    \n",
    "    print(\"\\nClassification Report:\")\n",
    "    print(classification_report(y_test, y_pred, target_names=class_labels, digits=2))\n",
    "    \n",
    "    conf_matrix = confusion_matrix(y_test, y_pred)\n",
    "    plt.figure(figsize=(8, 6))\n",
    "    sns.heatmap(conf_matrix, annot=True, fmt='d', cmap='Blues', \n",
    "                xticklabels=class_labels,\n",
    "                yticklabels=class_labels)\n",
    "    plt.xlabel(\"Predicted\")\n",
    "    plt.ylabel(\"Actual\")\n",
    "    plt.title(\"Confusion Matrix\")\n",
    "    plt.show()\n"
   ]
  },
  {
   "cell_type": "markdown",
   "id": "379b7abb",
   "metadata": {
    "papermill": {
     "duration": 0.010987,
     "end_time": "2024-12-19T15:11:13.198695",
     "exception": false,
     "start_time": "2024-12-19T15:11:13.187708",
     "status": "completed"
    },
    "tags": []
   },
   "source": [
    "## Feature Engineering\n",
    "Converting text to vectors format:\n",
    "- CountVectorizer (ngram_range=(1, 1) , binary = True)"
   ]
  },
  {
   "cell_type": "code",
   "execution_count": 35,
   "id": "5993de65",
   "metadata": {
    "execution": {
     "iopub.execute_input": "2024-12-19T15:11:13.222936Z",
     "iopub.status.busy": "2024-12-19T15:11:13.222470Z",
     "iopub.status.idle": "2024-12-19T15:11:13.227003Z",
     "shell.execute_reply": "2024-12-19T15:11:13.226084Z"
    },
    "papermill": {
     "duration": 0.018844,
     "end_time": "2024-12-19T15:11:13.228923",
     "exception": false,
     "start_time": "2024-12-19T15:11:13.210079",
     "status": "completed"
    },
    "tags": []
   },
   "outputs": [],
   "source": [
    "#from sklearn.feature_extraction.text import TfidfVectorizer\n",
    "\n",
    "\n",
    "#tfidf_vectorizer = TfidfVectorizer(ngram_range=(1, 2))\n",
    "#X_train['text_cleaned'] = X_train['text_cleaned'].astype(str)\n",
    "#X_test['text_cleaned'] = X_test['text_cleaned'].astype(str)\n",
    "\n",
    "#X_train_tfidf = tfidf_vectorizer.fit_transform(X_train['text_cleaned'])\n",
    "#X_test_tfidf = tfidf_vectorizer.transform(X_test['text_cleaned'])\n",
    "\n"
   ]
  },
  {
   "cell_type": "code",
   "execution_count": 36,
   "id": "fff10f8f",
   "metadata": {
    "execution": {
     "iopub.execute_input": "2024-12-19T15:11:13.253553Z",
     "iopub.status.busy": "2024-12-19T15:11:13.253040Z",
     "iopub.status.idle": "2024-12-19T15:11:13.678823Z",
     "shell.execute_reply": "2024-12-19T15:11:13.677611Z"
    },
    "papermill": {
     "duration": 0.440606,
     "end_time": "2024-12-19T15:11:13.680932",
     "exception": false,
     "start_time": "2024-12-19T15:11:13.240326",
     "status": "completed"
    },
    "tags": []
   },
   "outputs": [
    {
     "name": "stdout",
     "output_type": "stream",
     "text": [
      "all tokens:  31957\n",
      "reduced tokens:  31957\n"
     ]
    }
   ],
   "source": [
    "from sklearn.feature_extraction.text import CountVectorizer\n",
    "import numpy as np\n",
    "import pandas as pd\n",
    "\n",
    "\n",
    "tfidf_vectorizer = CountVectorizer(ngram_range=(1, 1) , binary=True)\n",
    "\n",
    "X_train['text_cleaned'] = X_train['text_cleaned'].astype(str)\n",
    "X_test['text_cleaned'] = X_test['text_cleaned'].astype(str)\n",
    "\n",
    "X_train_tfidf = tfidf_vectorizer.fit_transform(X_train['text_cleaned'])\n",
    "X_test_tfidf = tfidf_vectorizer.transform(X_test['text_cleaned'])\n",
    "\n",
    "words = tfidf_vectorizer.get_feature_names_out()\n",
    "print(\"all tokens: \" , len(words))\n",
    "tfidf_scores = np.asarray(X_train_tfidf.sum(axis=0)).flatten()\n",
    "\n",
    "sorted_indices = np.argsort(tfidf_scores)[::-1]\n",
    "\n",
    "cumulative_tfidf = np.cumsum(tfidf_scores[sorted_indices])\n",
    "\n",
    "total_tfidf = cumulative_tfidf[-1]\n",
    "threshold =  total_tfidf\n",
    "\n",
    "cutoff_index = np.where(cumulative_tfidf >= threshold)[0][0]\n",
    "\n",
    "selected_ngrams = words[sorted_indices][:cutoff_index + 1]\n",
    "\n",
    "selected_vocab = selected_ngrams.tolist()\n",
    "print(\"reduced tokens: \"  , len(selected_vocab))\n",
    "\n",
    "tfidf_vectorizer = CountVectorizer(vocabulary=selected_vocab)\n",
    "\n",
    "X_train_tfidf = tfidf_vectorizer.fit_transform(X_train['text_cleaned'])\n",
    "X_test_tfidf = tfidf_vectorizer.transform(X_test['text_cleaned'])\n"
   ]
  },
  {
   "cell_type": "code",
   "execution_count": 37,
   "id": "dc32c477",
   "metadata": {
    "execution": {
     "iopub.execute_input": "2024-12-19T15:11:13.707029Z",
     "iopub.status.busy": "2024-12-19T15:11:13.706259Z",
     "iopub.status.idle": "2024-12-19T15:11:13.724992Z",
     "shell.execute_reply": "2024-12-19T15:11:13.724099Z"
    },
    "papermill": {
     "duration": 0.033145,
     "end_time": "2024-12-19T15:11:13.726859",
     "exception": false,
     "start_time": "2024-12-19T15:11:13.693714",
     "status": "completed"
    },
    "tags": []
   },
   "outputs": [
    {
     "data": {
      "text/plain": [
       "array(['لا', 'غير', 'ما', 'هه', 'ماش', 'حمد', 'قلب', 'سير', 'هم', 'خير',\n",
       "       'تفو', 'فرح', 'لم', 'عداله', 'احسن', 'مبروك', 'فكر', 'بدموع',\n",
       "       'عديم', 'قوه', 'والو', 'ليس', 'كورو', 'سح', 'تحيه', 'طحن', 'مش',\n",
       "       'عمار', 'وفي', 'بدون'], dtype=object)"
      ]
     },
     "execution_count": 37,
     "metadata": {},
     "output_type": "execute_result"
    }
   ],
   "source": [
    "tfidf_vectorizer.get_feature_names_out()[:30]"
   ]
  },
  {
   "cell_type": "code",
   "execution_count": 38,
   "id": "cb1e7686",
   "metadata": {
    "execution": {
     "iopub.execute_input": "2024-12-19T15:11:13.751752Z",
     "iopub.status.busy": "2024-12-19T15:11:13.751071Z",
     "iopub.status.idle": "2024-12-19T15:11:13.771020Z",
     "shell.execute_reply": "2024-12-19T15:11:13.770116Z"
    },
    "papermill": {
     "duration": 0.034605,
     "end_time": "2024-12-19T15:11:13.773029",
     "exception": false,
     "start_time": "2024-12-19T15:11:13.738424",
     "status": "completed"
    },
    "tags": []
   },
   "outputs": [
    {
     "data": {
      "text/plain": [
       "31957"
      ]
     },
     "execution_count": 38,
     "metadata": {},
     "output_type": "execute_result"
    }
   ],
   "source": [
    "len(tfidf_vectorizer.get_feature_names_out())"
   ]
  },
  {
   "cell_type": "markdown",
   "id": "ee7c8c92",
   "metadata": {
    "papermill": {
     "duration": 0.011294,
     "end_time": "2024-12-19T15:11:13.796278",
     "exception": false,
     "start_time": "2024-12-19T15:11:13.784984",
     "status": "completed"
    },
    "tags": []
   },
   "source": [
    "## Model Development\n"
   ]
  },
  {
   "cell_type": "markdown",
   "id": "cb738a06",
   "metadata": {
    "papermill": {
     "duration": 0.011237,
     "end_time": "2024-12-19T15:11:13.819037",
     "exception": false,
     "start_time": "2024-12-19T15:11:13.807800",
     "status": "completed"
    },
    "tags": []
   },
   "source": [
    "### Random Forest"
   ]
  },
  {
   "cell_type": "code",
   "execution_count": 39,
   "id": "05a430ac",
   "metadata": {
    "execution": {
     "iopub.execute_input": "2024-12-19T15:11:13.844052Z",
     "iopub.status.busy": "2024-12-19T15:11:13.843187Z",
     "iopub.status.idle": "2024-12-19T15:11:50.343860Z",
     "shell.execute_reply": "2024-12-19T15:11:50.342795Z"
    },
    "papermill": {
     "duration": 36.527524,
     "end_time": "2024-12-19T15:11:50.358084",
     "exception": false,
     "start_time": "2024-12-19T15:11:13.830560",
     "status": "completed"
    },
    "tags": []
   },
   "outputs": [
    {
     "data": {
      "text/html": [
       "<style>#sk-container-id-1 {color: black;background-color: white;}#sk-container-id-1 pre{padding: 0;}#sk-container-id-1 div.sk-toggleable {background-color: white;}#sk-container-id-1 label.sk-toggleable__label {cursor: pointer;display: block;width: 100%;margin-bottom: 0;padding: 0.3em;box-sizing: border-box;text-align: center;}#sk-container-id-1 label.sk-toggleable__label-arrow:before {content: \"▸\";float: left;margin-right: 0.25em;color: #696969;}#sk-container-id-1 label.sk-toggleable__label-arrow:hover:before {color: black;}#sk-container-id-1 div.sk-estimator:hover label.sk-toggleable__label-arrow:before {color: black;}#sk-container-id-1 div.sk-toggleable__content {max-height: 0;max-width: 0;overflow: hidden;text-align: left;background-color: #f0f8ff;}#sk-container-id-1 div.sk-toggleable__content pre {margin: 0.2em;color: black;border-radius: 0.25em;background-color: #f0f8ff;}#sk-container-id-1 input.sk-toggleable__control:checked~div.sk-toggleable__content {max-height: 200px;max-width: 100%;overflow: auto;}#sk-container-id-1 input.sk-toggleable__control:checked~label.sk-toggleable__label-arrow:before {content: \"▾\";}#sk-container-id-1 div.sk-estimator input.sk-toggleable__control:checked~label.sk-toggleable__label {background-color: #d4ebff;}#sk-container-id-1 div.sk-label input.sk-toggleable__control:checked~label.sk-toggleable__label {background-color: #d4ebff;}#sk-container-id-1 input.sk-hidden--visually {border: 0;clip: rect(1px 1px 1px 1px);clip: rect(1px, 1px, 1px, 1px);height: 1px;margin: -1px;overflow: hidden;padding: 0;position: absolute;width: 1px;}#sk-container-id-1 div.sk-estimator {font-family: monospace;background-color: #f0f8ff;border: 1px dotted black;border-radius: 0.25em;box-sizing: border-box;margin-bottom: 0.5em;}#sk-container-id-1 div.sk-estimator:hover {background-color: #d4ebff;}#sk-container-id-1 div.sk-parallel-item::after {content: \"\";width: 100%;border-bottom: 1px solid gray;flex-grow: 1;}#sk-container-id-1 div.sk-label:hover label.sk-toggleable__label {background-color: #d4ebff;}#sk-container-id-1 div.sk-serial::before {content: \"\";position: absolute;border-left: 1px solid gray;box-sizing: border-box;top: 0;bottom: 0;left: 50%;z-index: 0;}#sk-container-id-1 div.sk-serial {display: flex;flex-direction: column;align-items: center;background-color: white;padding-right: 0.2em;padding-left: 0.2em;position: relative;}#sk-container-id-1 div.sk-item {position: relative;z-index: 1;}#sk-container-id-1 div.sk-parallel {display: flex;align-items: stretch;justify-content: center;background-color: white;position: relative;}#sk-container-id-1 div.sk-item::before, #sk-container-id-1 div.sk-parallel-item::before {content: \"\";position: absolute;border-left: 1px solid gray;box-sizing: border-box;top: 0;bottom: 0;left: 50%;z-index: -1;}#sk-container-id-1 div.sk-parallel-item {display: flex;flex-direction: column;z-index: 1;position: relative;background-color: white;}#sk-container-id-1 div.sk-parallel-item:first-child::after {align-self: flex-end;width: 50%;}#sk-container-id-1 div.sk-parallel-item:last-child::after {align-self: flex-start;width: 50%;}#sk-container-id-1 div.sk-parallel-item:only-child::after {width: 0;}#sk-container-id-1 div.sk-dashed-wrapped {border: 1px dashed gray;margin: 0 0.4em 0.5em 0.4em;box-sizing: border-box;padding-bottom: 0.4em;background-color: white;}#sk-container-id-1 div.sk-label label {font-family: monospace;font-weight: bold;display: inline-block;line-height: 1.2em;}#sk-container-id-1 div.sk-label-container {text-align: center;}#sk-container-id-1 div.sk-container {/* jupyter's `normalize.less` sets `[hidden] { display: none; }` but bootstrap.min.css set `[hidden] { display: none !important; }` so we also need the `!important` here to be able to override the default hidden behavior on the sphinx rendered scikit-learn.org. See: https://github.com/scikit-learn/scikit-learn/issues/21755 */display: inline-block !important;position: relative;}#sk-container-id-1 div.sk-text-repr-fallback {display: none;}</style><div id=\"sk-container-id-1\" class=\"sk-top-container\"><div class=\"sk-text-repr-fallback\"><pre>RandomForestClassifier()</pre><b>In a Jupyter environment, please rerun this cell to show the HTML representation or trust the notebook. <br />On GitHub, the HTML representation is unable to render, please try loading this page with nbviewer.org.</b></div><div class=\"sk-container\" hidden><div class=\"sk-item\"><div class=\"sk-estimator sk-toggleable\"><input class=\"sk-toggleable__control sk-hidden--visually\" id=\"sk-estimator-id-1\" type=\"checkbox\" checked><label for=\"sk-estimator-id-1\" class=\"sk-toggleable__label sk-toggleable__label-arrow\">RandomForestClassifier</label><div class=\"sk-toggleable__content\"><pre>RandomForestClassifier()</pre></div></div></div></div></div>"
      ],
      "text/plain": [
       "RandomForestClassifier()"
      ]
     },
     "execution_count": 39,
     "metadata": {},
     "output_type": "execute_result"
    }
   ],
   "source": [
    "from sklearn.ensemble import RandomForestClassifier\n",
    "randomforest_clf = RandomForestClassifier()\n",
    "randomforest_clf.fit(X_train_tfidf, y_train)"
   ]
  },
  {
   "cell_type": "code",
   "execution_count": 40,
   "id": "354062f7",
   "metadata": {
    "execution": {
     "iopub.execute_input": "2024-12-19T15:11:50.383705Z",
     "iopub.status.busy": "2024-12-19T15:11:50.383315Z",
     "iopub.status.idle": "2024-12-19T15:11:51.824309Z",
     "shell.execute_reply": "2024-12-19T15:11:51.823318Z"
    },
    "papermill": {
     "duration": 1.456431,
     "end_time": "2024-12-19T15:11:51.826552",
     "exception": false,
     "start_time": "2024-12-19T15:11:50.370121",
     "status": "completed"
    },
    "tags": []
   },
   "outputs": [
    {
     "name": "stdout",
     "output_type": "stream",
     "text": [
      "-------------------> Random Forest\n",
      "Accuracy: 0.68\n",
      "F1-Score for each class:\n",
      "Positive: 0.64\n",
      "Negative: 0.72\n",
      "\n",
      "Classification Report:\n",
      "              precision    recall  f1-score   support\n",
      "\n",
      "    Positive       0.77      0.54      0.64      1720\n",
      "    Negative       0.64      0.83      0.72      1661\n",
      "\n",
      "    accuracy                           0.68      3381\n",
      "   macro avg       0.70      0.69      0.68      3381\n",
      "weighted avg       0.71      0.68      0.68      3381\n",
      "\n"
     ]
    },
    {
     "data": {
      "image/png": "[encoded data removed]",
      "text/plain": [
       "<Figure size 800x600 with 2 Axes>"
      ]
     },
     "metadata": {},
     "output_type": "display_data"
    }
   ],
   "source": [
    "y_hat = randomforest_clf.predict(X_test_tfidf) \n",
    "about_model(\"Random Forest\" , y_test, y_hat)"
   ]
  },
  {
   "cell_type": "markdown",
   "id": "a6ceca45",
   "metadata": {
    "papermill": {
     "duration": 0.012248,
     "end_time": "2024-12-19T15:11:51.851638",
     "exception": false,
     "start_time": "2024-12-19T15:11:51.839390",
     "status": "completed"
    },
    "tags": []
   },
   "source": [
    "### Tuned Random Forest"
   ]
  },
  {
   "cell_type": "code",
   "execution_count": 41,
   "id": "f76ff9a3",
   "metadata": {
    "execution": {
     "iopub.execute_input": "2024-12-19T15:11:51.878228Z",
     "iopub.status.busy": "2024-12-19T15:11:51.877859Z",
     "iopub.status.idle": "2024-12-19T16:53:16.378495Z",
     "shell.execute_reply": "2024-12-19T16:53:16.377199Z"
    },
    "papermill": {
     "duration": 6084.534898,
     "end_time": "2024-12-19T16:53:16.398999",
     "exception": false,
     "start_time": "2024-12-19T15:11:51.864101",
     "status": "completed"
    },
    "tags": []
   },
   "outputs": [
    {
     "name": "stdout",
     "output_type": "stream",
     "text": [
      "Fitting 5 folds for each of 108 candidates, totalling 540 fits\n"
     ]
    },
    {
     "data": {
      "text/plain": [
       "{'criterion': 'gini',\n",
       " 'max_depth': None,\n",
       " 'max_features': 'log2',\n",
       " 'min_samples_split': 10,\n",
       " 'n_estimators': 200}"
      ]
     },
     "execution_count": 41,
     "metadata": {},
     "output_type": "execute_result"
    }
   ],
   "source": [
    "param_grid_ = {\n",
    "    'n_estimators': [10, 100, 200],\n",
    "    'max_features': ['sqrt', 'log2'],\n",
    "    'criterion': ['gini', 'entropy'], \n",
    "    'max_depth': [None, 10, 20],      \n",
    "    'min_samples_split': [2, 5, 10]   \n",
    "}\n",
    "\n",
    "randomforest_clf = GridSearchCV(estimator=RandomForestClassifier(n_jobs=-1),\n",
    "                                param_grid=param_grid_, \n",
    "                                cv=5, verbose=1 , \n",
    "                                scoring='accuracy',\n",
    "                                n_jobs=-1)\n",
    "randomforest_clf.fit(X_train_tfidf, y_train)\n",
    "randomforest_clf.best_params_\n"
   ]
  },
  {
   "cell_type": "code",
   "execution_count": 42,
   "id": "2029367e",
   "metadata": {
    "execution": {
     "iopub.execute_input": "2024-12-19T16:53:16.427040Z",
     "iopub.status.busy": "2024-12-19T16:53:16.426678Z",
     "iopub.status.idle": "2024-12-19T16:53:18.439222Z",
     "shell.execute_reply": "2024-12-19T16:53:18.438416Z"
    },
    "papermill": {
     "duration": 2.029563,
     "end_time": "2024-12-19T16:53:18.441484",
     "exception": false,
     "start_time": "2024-12-19T16:53:16.411921",
     "status": "completed"
    },
    "tags": []
   },
   "outputs": [
    {
     "name": "stdout",
     "output_type": "stream",
     "text": [
      "-------------------> Tuned Random Forest\n",
      "Accuracy: 0.72\n",
      "F1-Score for each class:\n",
      "Positive: 0.69\n",
      "Negative: 0.74\n",
      "\n",
      "Classification Report:\n",
      "              precision    recall  f1-score   support\n",
      "\n",
      "    Positive       0.79      0.61      0.69      1720\n",
      "    Negative       0.67      0.83      0.74      1661\n",
      "\n",
      "    accuracy                           0.72      3381\n",
      "   macro avg       0.73      0.72      0.72      3381\n",
      "weighted avg       0.73      0.72      0.72      3381\n",
      "\n"
     ]
    },
    {
     "data": {
      "image/png": "[encoded data removed]",
      "text/plain": [
       "<Figure size 800x600 with 2 Axes>"
      ]
     },
     "metadata": {},
     "output_type": "display_data"
    }
   ],
   "source": [
    "y_hat = randomforest_clf.predict(X_test_tfidf)\n",
    "about_model(\"Tuned Random Forest\" , y_test , y_hat)"
   ]
  },
  {
   "cell_type": "markdown",
   "id": "f76a3f80",
   "metadata": {
    "papermill": {
     "duration": 0.012976,
     "end_time": "2024-12-19T16:53:18.468028",
     "exception": false,
     "start_time": "2024-12-19T16:53:18.455052",
     "status": "completed"
    },
    "tags": []
   },
   "source": [
    "### SVM"
   ]
  },
  {
   "cell_type": "code",
   "execution_count": 43,
   "id": "2a3f2fcf",
   "metadata": {
    "execution": {
     "iopub.execute_input": "2024-12-19T16:53:18.496475Z",
     "iopub.status.busy": "2024-12-19T16:53:18.495817Z",
     "iopub.status.idle": "2024-12-19T16:54:47.626865Z",
     "shell.execute_reply": "2024-12-19T16:54:47.625693Z"
    },
    "papermill": {
     "duration": 89.161154,
     "end_time": "2024-12-19T16:54:47.642566",
     "exception": false,
     "start_time": "2024-12-19T16:53:18.481412",
     "status": "completed"
    },
    "tags": []
   },
   "outputs": [
    {
     "data": {
      "text/html": [
       "<style>#sk-container-id-2 {color: black;background-color: white;}#sk-container-id-2 pre{padding: 0;}#sk-container-id-2 div.sk-toggleable {background-color: white;}#sk-container-id-2 label.sk-toggleable__label {cursor: pointer;display: block;width: 100%;margin-bottom: 0;padding: 0.3em;box-sizing: border-box;text-align: center;}#sk-container-id-2 label.sk-toggleable__label-arrow:before {content: \"▸\";float: left;margin-right: 0.25em;color: #696969;}#sk-container-id-2 label.sk-toggleable__label-arrow:hover:before {color: black;}#sk-container-id-2 div.sk-estimator:hover label.sk-toggleable__label-arrow:before {color: black;}#sk-container-id-2 div.sk-toggleable__content {max-height: 0;max-width: 0;overflow: hidden;text-align: left;background-color: #f0f8ff;}#sk-container-id-2 div.sk-toggleable__content pre {margin: 0.2em;color: black;border-radius: 0.25em;background-color: #f0f8ff;}#sk-container-id-2 input.sk-toggleable__control:checked~div.sk-toggleable__content {max-height: 200px;max-width: 100%;overflow: auto;}#sk-container-id-2 input.sk-toggleable__control:checked~label.sk-toggleable__label-arrow:before {content: \"▾\";}#sk-container-id-2 div.sk-estimator input.sk-toggleable__control:checked~label.sk-toggleable__label {background-color: #d4ebff;}#sk-container-id-2 div.sk-label input.sk-toggleable__control:checked~label.sk-toggleable__label {background-color: #d4ebff;}#sk-container-id-2 input.sk-hidden--visually {border: 0;clip: rect(1px 1px 1px 1px);clip: rect(1px, 1px, 1px, 1px);height: 1px;margin: -1px;overflow: hidden;padding: 0;position: absolute;width: 1px;}#sk-container-id-2 div.sk-estimator {font-family: monospace;background-color: #f0f8ff;border: 1px dotted black;border-radius: 0.25em;box-sizing: border-box;margin-bottom: 0.5em;}#sk-container-id-2 div.sk-estimator:hover {background-color: #d4ebff;}#sk-container-id-2 div.sk-parallel-item::after {content: \"\";width: 100%;border-bottom: 1px solid gray;flex-grow: 1;}#sk-container-id-2 div.sk-label:hover label.sk-toggleable__label {background-color: #d4ebff;}#sk-container-id-2 div.sk-serial::before {content: \"\";position: absolute;border-left: 1px solid gray;box-sizing: border-box;top: 0;bottom: 0;left: 50%;z-index: 0;}#sk-container-id-2 div.sk-serial {display: flex;flex-direction: column;align-items: center;background-color: white;padding-right: 0.2em;padding-left: 0.2em;position: relative;}#sk-container-id-2 div.sk-item {position: relative;z-index: 1;}#sk-container-id-2 div.sk-parallel {display: flex;align-items: stretch;justify-content: center;background-color: white;position: relative;}#sk-container-id-2 div.sk-item::before, #sk-container-id-2 div.sk-parallel-item::before {content: \"\";position: absolute;border-left: 1px solid gray;box-sizing: border-box;top: 0;bottom: 0;left: 50%;z-index: -1;}#sk-container-id-2 div.sk-parallel-item {display: flex;flex-direction: column;z-index: 1;position: relative;background-color: white;}#sk-container-id-2 div.sk-parallel-item:first-child::after {align-self: flex-end;width: 50%;}#sk-container-id-2 div.sk-parallel-item:last-child::after {align-self: flex-start;width: 50%;}#sk-container-id-2 div.sk-parallel-item:only-child::after {width: 0;}#sk-container-id-2 div.sk-dashed-wrapped {border: 1px dashed gray;margin: 0 0.4em 0.5em 0.4em;box-sizing: border-box;padding-bottom: 0.4em;background-color: white;}#sk-container-id-2 div.sk-label label {font-family: monospace;font-weight: bold;display: inline-block;line-height: 1.2em;}#sk-container-id-2 div.sk-label-container {text-align: center;}#sk-container-id-2 div.sk-container {/* jupyter's `normalize.less` sets `[hidden] { display: none; }` but bootstrap.min.css set `[hidden] { display: none !important; }` so we also need the `!important` here to be able to override the default hidden behavior on the sphinx rendered scikit-learn.org. See: https://github.com/scikit-learn/scikit-learn/issues/21755 */display: inline-block !important;position: relative;}#sk-container-id-2 div.sk-text-repr-fallback {display: none;}</style><div id=\"sk-container-id-2\" class=\"sk-top-container\"><div class=\"sk-text-repr-fallback\"><pre>SVC(probability=True)</pre><b>In a Jupyter environment, please rerun this cell to show the HTML representation or trust the notebook. <br />On GitHub, the HTML representation is unable to render, please try loading this page with nbviewer.org.</b></div><div class=\"sk-container\" hidden><div class=\"sk-item\"><div class=\"sk-estimator sk-toggleable\"><input class=\"sk-toggleable__control sk-hidden--visually\" id=\"sk-estimator-id-2\" type=\"checkbox\" checked><label for=\"sk-estimator-id-2\" class=\"sk-toggleable__label sk-toggleable__label-arrow\">SVC</label><div class=\"sk-toggleable__content\"><pre>SVC(probability=True)</pre></div></div></div></div></div>"
      ],
      "text/plain": [
       "SVC(probability=True)"
      ]
     },
     "execution_count": 43,
     "metadata": {},
     "output_type": "execute_result"
    }
   ],
   "source": [
    "from sklearn.svm import SVC\n",
    "svm_clf = SVC(probability=True)\n",
    "svm_clf.fit(X_train_tfidf, y_train)"
   ]
  },
  {
   "cell_type": "code",
   "execution_count": 44,
   "id": "e11ad472",
   "metadata": {
    "execution": {
     "iopub.execute_input": "2024-12-19T16:54:47.671694Z",
     "iopub.status.busy": "2024-12-19T16:54:47.670813Z",
     "iopub.status.idle": "2024-12-19T16:54:50.629855Z",
     "shell.execute_reply": "2024-12-19T16:54:50.628790Z"
    },
    "papermill": {
     "duration": 2.976127,
     "end_time": "2024-12-19T16:54:50.632189",
     "exception": false,
     "start_time": "2024-12-19T16:54:47.656062",
     "status": "completed"
    },
    "tags": []
   },
   "outputs": [
    {
     "name": "stdout",
     "output_type": "stream",
     "text": [
      "-------------------> SVM\n",
      "Accuracy: 0.71\n",
      "F1-Score for each class:\n",
      "Positive: 0.69\n",
      "Negative: 0.73\n",
      "\n",
      "Classification Report:\n",
      "              precision    recall  f1-score   support\n",
      "\n",
      "    Positive       0.76      0.63      0.69      1720\n",
      "    Negative       0.68      0.79      0.73      1661\n",
      "\n",
      "    accuracy                           0.71      3381\n",
      "   macro avg       0.72      0.71      0.71      3381\n",
      "weighted avg       0.72      0.71      0.71      3381\n",
      "\n"
     ]
    },
    {
     "data": {
      "image/png": "[encoded data removed]",
      "text/plain": [
       "<Figure size 800x600 with 2 Axes>"
      ]
     },
     "metadata": {},
     "output_type": "display_data"
    }
   ],
   "source": [
    "y_hat = svm_clf.predict(X_test_tfidf) \n",
    "about_model(\"SVM\" , y_test, y_hat)"
   ]
  },
  {
   "cell_type": "markdown",
   "id": "c3ef0fa1",
   "metadata": {
    "papermill": {
     "duration": 0.013746,
     "end_time": "2024-12-19T16:54:50.660279",
     "exception": false,
     "start_time": "2024-12-19T16:54:50.646533",
     "status": "completed"
    },
    "tags": []
   },
   "source": [
    "### Tuned SVM"
   ]
  },
  {
   "cell_type": "code",
   "execution_count": 45,
   "id": "1b96f591",
   "metadata": {
    "execution": {
     "iopub.execute_input": "2024-12-19T16:54:50.690206Z",
     "iopub.status.busy": "2024-12-19T16:54:50.689459Z",
     "iopub.status.idle": "2024-12-19T17:34:25.515937Z",
     "shell.execute_reply": "2024-12-19T17:34:25.514709Z"
    },
    "papermill": {
     "duration": 2374.858625,
     "end_time": "2024-12-19T17:34:25.532883",
     "exception": false,
     "start_time": "2024-12-19T16:54:50.674258",
     "status": "completed"
    },
    "tags": []
   },
   "outputs": [
    {
     "name": "stdout",
     "output_type": "stream",
     "text": [
      "Fitting 5 folds for each of 75 candidates, totalling 375 fits\n"
     ]
    },
    {
     "name": "stderr",
     "output_type": "stream",
     "text": [
      "/opt/conda/lib/python3.10/site-packages/joblib/externals/loky/process_executor.py:752: UserWarning: A worker stopped while some jobs were given to the executor. This can be caused by a too short worker timeout or by a memory leak.\n",
      "  warnings.warn(\n"
     ]
    },
    {
     "data": {
      "text/plain": [
       "{'C': 5, 'gamma': 0.1, 'kernel': 'rbf'}"
      ]
     },
     "execution_count": 45,
     "metadata": {},
     "output_type": "execute_result"
    }
   ],
   "source": [
    "param_grid_ = {'kernel': ['rbf', 'linear', 'poly'],\n",
    "             'gamma': [0.01 , 0.1, 1, 10, 100],\n",
    "             'C': [0.1, 1,5, 10, 100]}\n",
    "svm_grid = GridSearchCV(estimator=SVC(), \n",
    "                        param_grid=param_grid_, \n",
    "                        cv=5, verbose=1 , \n",
    "                        scoring='accuracy' , \n",
    "                        n_jobs=-1)\n",
    "svm_grid.fit(X_train_tfidf, y_train)\n",
    "svm_grid.best_params_\n"
   ]
  },
  {
   "cell_type": "code",
   "execution_count": 46,
   "id": "7008ceb3",
   "metadata": {
    "execution": {
     "iopub.execute_input": "2024-12-19T17:34:25.563776Z",
     "iopub.status.busy": "2024-12-19T17:34:25.563372Z",
     "iopub.status.idle": "2024-12-19T17:34:28.302701Z",
     "shell.execute_reply": "2024-12-19T17:34:28.301717Z"
    },
    "papermill": {
     "duration": 2.757474,
     "end_time": "2024-12-19T17:34:28.304847",
     "exception": false,
     "start_time": "2024-12-19T17:34:25.547373",
     "status": "completed"
    },
    "tags": []
   },
   "outputs": [
    {
     "name": "stdout",
     "output_type": "stream",
     "text": [
      "-------------------> Tuned SVM\n",
      "Accuracy: 0.72\n",
      "F1-Score for each class:\n",
      "Positive: 0.70\n",
      "Negative: 0.74\n",
      "\n",
      "Classification Report:\n",
      "              precision    recall  f1-score   support\n",
      "\n",
      "    Positive       0.77      0.64      0.70      1720\n",
      "    Negative       0.68      0.80      0.74      1661\n",
      "\n",
      "    accuracy                           0.72      3381\n",
      "   macro avg       0.73      0.72      0.72      3381\n",
      "weighted avg       0.73      0.72      0.72      3381\n",
      "\n"
     ]
    },
    {
     "data": {
      "image/png": "[encoded data removed]",
      "text/plain": [
       "<Figure size 800x600 with 2 Axes>"
      ]
     },
     "metadata": {},
     "output_type": "display_data"
    }
   ],
   "source": [
    "y_hat = svm_grid.predict(X_test_tfidf)\n",
    "about_model(\"Tuned SVM\", y_test , y_hat) "
   ]
  },
  {
   "cell_type": "markdown",
   "id": "465d504a",
   "metadata": {
    "papermill": {
     "duration": 0.014511,
     "end_time": "2024-12-19T17:34:28.334370",
     "exception": false,
     "start_time": "2024-12-19T17:34:28.319859",
     "status": "completed"
    },
    "tags": []
   },
   "source": [
    "### lightgbm"
   ]
  },
  {
   "cell_type": "code",
   "execution_count": 47,
   "id": "282da22f",
   "metadata": {
    "execution": {
     "iopub.execute_input": "2024-12-19T17:34:28.366646Z",
     "iopub.status.busy": "2024-12-19T17:34:28.365276Z",
     "iopub.status.idle": "2024-12-19T17:34:30.698994Z",
     "shell.execute_reply": "2024-12-19T17:34:30.698094Z"
    },
    "papermill": {
     "duration": 2.352209,
     "end_time": "2024-12-19T17:34:30.701278",
     "exception": false,
     "start_time": "2024-12-19T17:34:28.349069",
     "status": "completed"
    },
    "tags": []
   },
   "outputs": [],
   "source": [
    "import lightgbm as lgb\n",
    "\n",
    "X_train_tfidf = X_train_tfidf.astype(np.float32)\n",
    "X_test_tfidf = X_test_tfidf.astype(np.float32)\n",
    "\n",
    "d_train = lgb.Dataset(X_train_tfidf, label=y_train)\n",
    "d_test = lgb.Dataset(X_test_tfidf, label=y_test, reference=d_train)\n",
    "\n",
    "params = {\n",
    "    'objective': 'binary',  \n",
    "    'boosting_type': 'gbdt',\n",
    "    'metric': 'binary_logloss', \n",
    "    'num_leaves': 31,\n",
    "    'learning_rate': 0.1,\n",
    "    'verbose': 0\n",
    "}\n",
    "\n",
    "model = lgb.train(params, d_train, num_boost_round=100, valid_sets=[d_train, d_test])"
   ]
  },
  {
   "cell_type": "code",
   "execution_count": 48,
   "id": "48d665f4",
   "metadata": {
    "execution": {
     "iopub.execute_input": "2024-12-19T17:34:30.735648Z",
     "iopub.status.busy": "2024-12-19T17:34:30.734785Z",
     "iopub.status.idle": "2024-12-19T17:34:31.001217Z",
     "shell.execute_reply": "2024-12-19T17:34:31.000178Z"
    },
    "papermill": {
     "duration": 0.286095,
     "end_time": "2024-12-19T17:34:31.003577",
     "exception": false,
     "start_time": "2024-12-19T17:34:30.717482",
     "status": "completed"
    },
    "tags": []
   },
   "outputs": [
    {
     "name": "stdout",
     "output_type": "stream",
     "text": [
      "-------------------> lightgbm\n",
      "Accuracy: 0.65\n",
      "F1-Score for each class:\n",
      "Positive: 0.61\n",
      "Negative: 0.69\n",
      "\n",
      "Classification Report:\n",
      "              precision    recall  f1-score   support\n",
      "\n",
      "    Positive       0.71      0.53      0.61      1720\n",
      "    Negative       0.61      0.78      0.69      1661\n",
      "\n",
      "    accuracy                           0.65      3381\n",
      "   macro avg       0.66      0.65      0.65      3381\n",
      "weighted avg       0.66      0.65      0.65      3381\n",
      "\n"
     ]
    },
    {
     "data": {
      "image/png": "[encoded data removed]",
      "text/plain": [
       "<Figure size 800x600 with 2 Axes>"
      ]
     },
     "metadata": {},
     "output_type": "display_data"
    }
   ],
   "source": [
    "y_hat = model.predict(X_test_tfidf)\n",
    "y_hat = (y_hat > 0.5).astype(int)\n",
    "about_model(\"lightgbm\", y_test, y_hat)\n"
   ]
  },
  {
   "cell_type": "markdown",
   "id": "7aaca932",
   "metadata": {
    "papermill": {
     "duration": 0.015225,
     "end_time": "2024-12-19T17:34:31.034978",
     "exception": false,
     "start_time": "2024-12-19T17:34:31.019753",
     "status": "completed"
    },
    "tags": []
   },
   "source": [
    "### Tuned lightgbm"
   ]
  },
  {
   "cell_type": "code",
   "execution_count": 49,
   "id": "d8d750e8",
   "metadata": {
    "execution": {
     "iopub.execute_input": "2024-12-19T17:34:31.067508Z",
     "iopub.status.busy": "2024-12-19T17:34:31.067109Z",
     "iopub.status.idle": "2024-12-19T17:34:31.072434Z",
     "shell.execute_reply": "2024-12-19T17:34:31.071182Z"
    },
    "papermill": {
     "duration": 0.02443,
     "end_time": "2024-12-19T17:34:31.074857",
     "exception": false,
     "start_time": "2024-12-19T17:34:31.050427",
     "status": "completed"
    },
    "tags": []
   },
   "outputs": [],
   "source": [
    "#from lightgbm import LGBMClassifier\n",
    "\n",
    "#param_grid_ = {\n",
    " #   'num_leaves': [15, 31, 63],  \n",
    "  #  'learning_rate': [0.01, 0.1, 0.2],\n",
    "   # 'n_estimators': [50, 100, 200],  \n",
    "    #'boosting_type': ['gbdt'], \n",
    " #   'objective': ['binary'],  \n",
    "  #  'metric': ['binary_logloss'],\n",
    "#}\n",
    "\n",
    "#lightgbm_grid = GridSearchCV(\n",
    " #   estimator= LGBMClassifier(),\n",
    "  #  param_grid=param_grid_,\n",
    "   # cv=5, \n",
    "   # scoring='accuracy',\n",
    "  #  verbose=0,\n",
    "  #  n_jobs=-1  \n",
    "#)\n",
    "#lightgbm_grid.fit(X_train_tfidf, y_train)\n",
    "\n",
    "#lightgbm_grid.best_params_"
   ]
  },
  {
   "cell_type": "code",
   "execution_count": 50,
   "id": "4de3fd62",
   "metadata": {
    "execution": {
     "iopub.execute_input": "2024-12-19T17:34:31.107989Z",
     "iopub.status.busy": "2024-12-19T17:34:31.107640Z",
     "iopub.status.idle": "2024-12-19T17:34:31.113257Z",
     "shell.execute_reply": "2024-12-19T17:34:31.112267Z"
    },
    "papermill": {
     "duration": 0.024603,
     "end_time": "2024-12-19T17:34:31.115421",
     "exception": false,
     "start_time": "2024-12-19T17:34:31.090818",
     "status": "completed"
    },
    "tags": []
   },
   "outputs": [],
   "source": [
    "#y_hat = lightgbm_grid.best_estimator_.predict(X_test_tfidf)\n",
    "#about_model(\"lightgbm\", y_test , y_hat)"
   ]
  },
  {
   "cell_type": "code",
   "execution_count": null,
   "id": "8b84c963",
   "metadata": {
    "papermill": {
     "duration": 0.015244,
     "end_time": "2024-12-19T17:34:31.146774",
     "exception": false,
     "start_time": "2024-12-19T17:34:31.131530",
     "status": "completed"
    },
    "tags": []
   },
   "outputs": [],
   "source": []
  },
  {
   "cell_type": "code",
   "execution_count": null,
   "id": "ec6524a4",
   "metadata": {
    "papermill": {
     "duration": 0.015221,
     "end_time": "2024-12-19T17:34:31.177749",
     "exception": false,
     "start_time": "2024-12-19T17:34:31.162528",
     "status": "completed"
    },
    "tags": []
   },
   "outputs": [],
   "source": []
  },
  {
   "cell_type": "code",
   "execution_count": null,
   "id": "70b3d5d9",
   "metadata": {
    "papermill": {
     "duration": 0.015395,
     "end_time": "2024-12-19T17:34:31.208834",
     "exception": false,
     "start_time": "2024-12-19T17:34:31.193439",
     "status": "completed"
    },
    "tags": []
   },
   "outputs": [],
   "source": []
  },
  {
   "cell_type": "code",
   "execution_count": null,
   "id": "54232b1d",
   "metadata": {
    "papermill": {
     "duration": 0.015115,
     "end_time": "2024-12-19T17:34:31.239211",
     "exception": false,
     "start_time": "2024-12-19T17:34:31.224096",
     "status": "completed"
    },
    "tags": []
   },
   "outputs": [],
   "source": []
  }
 ],
 "metadata": {
  "kaggle": {
   "accelerator": "none",
   "dataSources": [
    {
     "datasetId": 6047175,
     "sourceId": 10210479,
     "sourceType": "datasetVersion"
    },
    {
     "datasetId": 6094692,
     "sourceId": 10210609,
     "sourceType": "datasetVersion"
    }
   ],
   "dockerImageVersionId": 30804,
   "isGpuEnabled": false,
   "isInternetEnabled": true,
   "language": "python",
   "sourceType": "notebook"
  },
  "kernelspec": {
   "display_name": "Python 3",
   "language": "python",
   "name": "python3"
  },
  "language_info": {
   "codemirror_mode": {
    "name": "ipython",
    "version": 3
   },
   "file_extension": ".py",
   "mimetype": "text/x-python",
   "name": "python",
   "nbconvert_exporter": "python",
   "pygments_lexer": "ipython3",
   "version": "3.10.14"
  },
  "papermill": {
   "default_parameters": {},
   "duration": 8621.04058,
   "end_time": "2024-12-19T17:34:33.877243",
   "environment_variables": {},
   "exception": null,
   "input_path": "__notebook__.ipynb",
   "output_path": "__notebook__.ipynb",
   "parameters": {},
   "start_time": "2024-12-19T15:10:52.836663",
   "version": "2.6.0"
  }
 },
 "nbformat": 4,
 "nbformat_minor": 5
}
