{
 "cells": [
  {
   "cell_type": "markdown",
   "id": "bff1377c",
   "metadata": {
    "papermill": {
     "duration": 0.011361,
     "end_time": "2024-12-16T16:09:55.035825",
     "exception": false,
     "start_time": "2024-12-16T16:09:55.024464",
     "status": "completed"
    },
    "tags": []
   },
   "source": [
    "# Darija Text Classification using ML Algorithms\n"
   ]
  },
  {
   "cell_type": "markdown",
   "id": "9b86ab88",
   "metadata": {
    "papermill": {
     "duration": 0.00995,
     "end_time": "2024-12-16T16:09:55.058902",
     "exception": false,
     "start_time": "2024-12-16T16:09:55.048952",
     "status": "completed"
    },
    "tags": []
   },
   "source": [
    "## Setup and Data Loading\n",
    "In this section, we:\n",
    "- Import required libraries\n",
    "- Load and prepare our Darija dataset\n",
    "- Set up configuration parameters"
   ]
  },
  {
   "cell_type": "code",
   "execution_count": 1,
   "id": "2e0a8e07",
   "metadata": {
    "execution": {
     "iopub.execute_input": "2024-12-16T16:09:55.081387Z",
     "iopub.status.busy": "2024-12-16T16:09:55.080988Z",
     "iopub.status.idle": "2024-12-16T16:09:55.103544Z",
     "shell.execute_reply": "2024-12-16T16:09:55.102422Z"
    },
    "papermill": {
     "duration": 0.03662,
     "end_time": "2024-12-16T16:09:55.105778",
     "exception": false,
     "start_time": "2024-12-16T16:09:55.069158",
     "status": "completed"
    },
    "tags": []
   },
   "outputs": [
    {
     "name": "stdout",
     "output_type": "stream",
     "text": [
      "Current working directory: /kaggle/input/ma-datasets\n",
      "Directory contents: ['suf_pref_darija.json', 'stop_words_accum.json', 'set2.csv', 'set7.csv', 'set5.csv', 'darija_latin_ref.json', 'set4.csv', 'scaped_comments.csv', 'set3.csv', 'cleaned_clustered_data.csv', 'set1.csv']\n"
     ]
    }
   ],
   "source": [
    "import os \n",
    "os.chdir('/kaggle/input/ma-datasets') \n",
    "current_directory = os.getcwd()\n",
    "print(\"Current working directory:\", current_directory)\n",
    "contents = os.listdir()\n",
    "print(\"Directory contents:\", contents)"
   ]
  },
  {
   "cell_type": "code",
   "execution_count": 2,
   "id": "23575941",
   "metadata": {
    "execution": {
     "iopub.execute_input": "2024-12-16T16:09:55.128585Z",
     "iopub.status.busy": "2024-12-16T16:09:55.128237Z",
     "iopub.status.idle": "2024-12-16T16:10:09.666370Z",
     "shell.execute_reply": "2024-12-16T16:10:09.665263Z"
    },
    "papermill": {
     "duration": 14.552191,
     "end_time": "2024-12-16T16:10:09.668751",
     "exception": false,
     "start_time": "2024-12-16T16:09:55.116560",
     "status": "completed"
    },
    "tags": []
   },
   "outputs": [
    {
     "name": "stdout",
     "output_type": "stream",
     "text": [
      "Requirement already satisfied: pandas in /opt/conda/lib/python3.10/site-packages (2.2.3)\r\n",
      "Requirement already satisfied: PyArabic in /opt/conda/lib/python3.10/site-packages (0.6.15)\r\n",
      "Collecting Tashaphyne\r\n",
      "  Downloading Tashaphyne-0.3.6-py3-none-any.whl.metadata (18 kB)\r\n",
      "Collecting pydoda\r\n",
      "  Downloading pydoda-1.2.1-py3-none-any.whl.metadata (5.8 kB)\r\n",
      "Collecting Arabic-Stopwords\r\n",
      "  Downloading Arabic_Stopwords-0.4.3-py3-none-any.whl.metadata (8.9 kB)\r\n",
      "Requirement already satisfied: seaborn in /opt/conda/lib/python3.10/site-packages (0.12.2)\r\n",
      "Requirement already satisfied: scikit-learn in /opt/conda/lib/python3.10/site-packages (1.2.2)\r\n",
      "Requirement already satisfied: emoji in /opt/conda/lib/python3.10/site-packages (2.14.0)\r\n",
      "Requirement already satisfied: xgboost in /opt/conda/lib/python3.10/site-packages (2.0.3)\r\n",
      "Requirement already satisfied: lightgbm in /opt/conda/lib/python3.10/site-packages (4.2.0)\r\n",
      "Requirement already satisfied: numpy>=1.22.4 in /opt/conda/lib/python3.10/site-packages (from pandas) (1.26.4)\r\n",
      "Requirement already satisfied: python-dateutil>=2.8.2 in /opt/conda/lib/python3.10/site-packages (from pandas) (2.9.0.post0)\r\n",
      "Requirement already satisfied: pytz>=2020.1 in /opt/conda/lib/python3.10/site-packages (from pandas) (2024.1)\r\n",
      "Requirement already satisfied: tzdata>=2022.7 in /opt/conda/lib/python3.10/site-packages (from pandas) (2024.1)\r\n",
      "Requirement already satisfied: six>=1.14.0 in /opt/conda/lib/python3.10/site-packages (from PyArabic) (1.16.0)\r\n",
      "Requirement already satisfied: matplotlib!=3.6.1,>=3.1 in /opt/conda/lib/python3.10/site-packages (from seaborn) (3.7.5)\r\n",
      "Requirement already satisfied: scipy>=1.3.2 in /opt/conda/lib/python3.10/site-packages (from scikit-learn) (1.14.1)\r\n",
      "Requirement already satisfied: joblib>=1.1.1 in /opt/conda/lib/python3.10/site-packages (from scikit-learn) (1.4.2)\r\n",
      "Requirement already satisfied: threadpoolctl>=2.0.0 in /opt/conda/lib/python3.10/site-packages (from scikit-learn) (3.5.0)\r\n",
      "Requirement already satisfied: contourpy>=1.0.1 in /opt/conda/lib/python3.10/site-packages (from matplotlib!=3.6.1,>=3.1->seaborn) (1.2.1)\r\n",
      "Requirement already satisfied: cycler>=0.10 in /opt/conda/lib/python3.10/site-packages (from matplotlib!=3.6.1,>=3.1->seaborn) (0.12.1)\r\n",
      "Requirement already satisfied: fonttools>=4.22.0 in /opt/conda/lib/python3.10/site-packages (from matplotlib!=3.6.1,>=3.1->seaborn) (4.53.0)\r\n",
      "Requirement already satisfied: kiwisolver>=1.0.1 in /opt/conda/lib/python3.10/site-packages (from matplotlib!=3.6.1,>=3.1->seaborn) (1.4.5)\r\n",
      "Requirement already satisfied: packaging>=20.0 in /opt/conda/lib/python3.10/site-packages (from matplotlib!=3.6.1,>=3.1->seaborn) (21.3)\r\n",
      "Requirement already satisfied: pillow>=6.2.0 in /opt/conda/lib/python3.10/site-packages (from matplotlib!=3.6.1,>=3.1->seaborn) (10.3.0)\r\n",
      "Requirement already satisfied: pyparsing>=2.3.1 in /opt/conda/lib/python3.10/site-packages (from matplotlib!=3.6.1,>=3.1->seaborn) (3.1.2)\r\n",
      "Downloading Tashaphyne-0.3.6-py3-none-any.whl (251 kB)\r\n",
      "\u001b[2K   \u001b[90m━━━━━━━━━━━━━━━━━━━━━━━━━━━━━━━━━━━━━━━━\u001b[0m \u001b[32m251.5/251.5 kB\u001b[0m \u001b[31m5.6 MB/s\u001b[0m eta \u001b[36m0:00:00\u001b[0m\r\n",
      "\u001b[?25hDownloading pydoda-1.2.1-py3-none-any.whl (4.1 MB)\r\n",
      "\u001b[2K   \u001b[90m━━━━━━━━━━━━━━━━━━━━━━━━━━━━━━━━━━━━━━━━\u001b[0m \u001b[32m4.1/4.1 MB\u001b[0m \u001b[31m21.2 MB/s\u001b[0m eta \u001b[36m0:00:00\u001b[0m\r\n",
      "\u001b[?25hDownloading Arabic_Stopwords-0.4.3-py3-none-any.whl (360 kB)\r\n",
      "\u001b[2K   \u001b[90m━━━━━━━━━━━━━━━━━━━━━━━━━━━━━━━━━━━━━━━━\u001b[0m \u001b[32m360.5/360.5 kB\u001b[0m \u001b[31m22.6 MB/s\u001b[0m eta \u001b[36m0:00:00\u001b[0m\r\n",
      "\u001b[?25hInstalling collected packages: Tashaphyne, Arabic-Stopwords, pydoda\r\n",
      "Successfully installed Arabic-Stopwords-0.4.3 Tashaphyne-0.3.6 pydoda-1.2.1\r\n"
     ]
    }
   ],
   "source": [
    "!pip install pandas PyArabic Tashaphyne pydoda Arabic-Stopwords seaborn scikit-learn emoji xgboost lightgbm "
   ]
  },
  {
   "cell_type": "code",
   "execution_count": 3,
   "id": "3e1c8b60",
   "metadata": {
    "execution": {
     "iopub.execute_input": "2024-12-16T16:10:09.694134Z",
     "iopub.status.busy": "2024-12-16T16:10:09.693665Z",
     "iopub.status.idle": "2024-12-16T16:10:12.123875Z",
     "shell.execute_reply": "2024-12-16T16:10:12.122931Z"
    },
    "papermill": {
     "duration": 2.445499,
     "end_time": "2024-12-16T16:10:12.126198",
     "exception": false,
     "start_time": "2024-12-16T16:10:09.680699",
     "status": "completed"
    },
    "tags": []
   },
   "outputs": [],
   "source": [
    "import pandas as pd\n",
    "from sklearn.model_selection import GridSearchCV\n",
    "import re\n",
    "from tashaphyne.stemming import ArabicLightStemmer\n",
    "import json\n",
    "import emoji \n"
   ]
  },
  {
   "cell_type": "code",
   "execution_count": 4,
   "id": "8624fafa",
   "metadata": {
    "execution": {
     "iopub.execute_input": "2024-12-16T16:10:12.151296Z",
     "iopub.status.busy": "2024-12-16T16:10:12.150733Z",
     "iopub.status.idle": "2024-12-16T16:10:12.488440Z",
     "shell.execute_reply": "2024-12-16T16:10:12.487238Z"
    },
    "papermill": {
     "duration": 0.352819,
     "end_time": "2024-12-16T16:10:12.490732",
     "exception": false,
     "start_time": "2024-12-16T16:10:12.137913",
     "status": "completed"
    },
    "tags": []
   },
   "outputs": [],
   "source": [
    "df = pd.read_csv(\"/kaggle/input/dataset/dataset (18).csv\")"
   ]
  },
  {
   "cell_type": "markdown",
   "id": "abba674e",
   "metadata": {
    "papermill": {
     "duration": 0.01114,
     "end_time": "2024-12-16T16:10:12.513503",
     "exception": false,
     "start_time": "2024-12-16T16:10:12.502363",
     "status": "completed"
    },
    "tags": []
   },
   "source": [
    "## Data Preprocessing\n",
    "Key preprocessing steps for Darija text:\n",
    "- Text cleaning and normalization\n",
    "- Feature extraction\n",
    "- Train-test split\n"
   ]
  },
  {
   "cell_type": "code",
   "execution_count": 5,
   "id": "f5c7b9ca",
   "metadata": {
    "execution": {
     "iopub.execute_input": "2024-12-16T16:10:12.538575Z",
     "iopub.status.busy": "2024-12-16T16:10:12.537685Z",
     "iopub.status.idle": "2024-12-16T16:10:12.547920Z",
     "shell.execute_reply": "2024-12-16T16:10:12.546933Z"
    },
    "papermill": {
     "duration": 0.0249,
     "end_time": "2024-12-16T16:10:12.549893",
     "exception": false,
     "start_time": "2024-12-16T16:10:12.524993",
     "status": "completed"
    },
    "tags": []
   },
   "outputs": [],
   "source": [
    "darija_alphabet = {\n",
    "    \"gh\": \"غ\",\n",
    "    \"sh\": \"ش\",\n",
    "    \"ch\": \"ش\",\n",
    "    \"ss\": \"س\",\n",
    "    \"kh\": \"خ\",\n",
    "    \"ç\": \"س\",\n",
    "    \"ou\": \"و\",    \n",
    "    \"ei\": \"ي\",    \n",
    "    \"ay\": \"ي\",    \n",
    "    \"ae\": \"ي\",   \n",
    "    \"5\": \"خ\",     \n",
    "    \"2\": \"ا\",    \n",
    "    \"b\": \"ب\",\n",
    "    \"t\": \"ت\",\n",
    "    \"j\": \"ج\",\n",
    "    \"7\": \"ح\",\n",
    "    \"d\": \"د\",\n",
    "    \"r\": \"ر\",\n",
    "    \"z\": \"ز\",\n",
    "    \"s\": \"س\",\n",
    "    \"9\": \"ق\",\n",
    "    \"3\": \"ع\",\n",
    "    \"4\": \"غ\",\n",
    "    \"f\": \"ف\",\n",
    "    \"q\": \"ك\",\n",
    "    \"k\": \"ك\",\n",
    "    \"l\": \"ل\",\n",
    "    \"m\": \"م\",\n",
    "    \"n\": \"ن\",\n",
    "    \"h\": \"ه\",\n",
    "    \"w\": \"و\",\n",
    "    \"y\": \"ي\",\n",
    "    \"g\": \"ڭ\",\n",
    "    'i': 'ي',\n",
    "    'ee': 'ي',\n",
    "    'aa': 'ا',\n",
    "    'oo': 'و',\n",
    "    'o': 'و',\n",
    "    \"x\": \"ش\",\n",
    "}\n",
    "word_in = [\n",
    "    \"ء\", \"أ\", \"إ\", \"آ\", \"ؤ\", \"ئ\", \"ة\", \"ى\",\"-\", \"/\", \".\", \"،\", '\"', \"'\", \"\\\\\", \"?\", \"؟\", \"!\", \"،\", \"؛\",\":\",\"#\", \"@\", \"&\", \"=\", \"¥\", \"$\", \"%\", \"*\", \"+\", \"<\", \">\", \"|\", \"~\", \"^\", \n",
    "    \"\\n\", \"\\t\", \"\\r\", \" و\",\"ذ\", \"ظ\", \"ض\", \"ص\",\"(\", \")\", \"[\", \"]\", \"{\", \"}\", \"《\", \"》\", \"«\", \"»\"\n",
    "]\n",
    "\n",
    "replaced_by = [\n",
    "    \"ا\", \"ا\", \"ا\", \"ا\", \"ا\", \"ا\", \"ه\", \"ي\",\" \", \"\", \"\", \"\", \"\", \"\", \"\", \" ? \", \" ؟ \", \" ! \", \"\", \"\", \"\",\n",
    "    \"\", \"\", \"\", \"\", \"\", \"\", \"\", \"\", \"\", \"\", \"\", \"\", \"\", \"\",\" \", \" \", \" \", \"\",\n",
    "    \"د\", \"د\", \"د\", \"س\",\"\", \"\", \"\", \"\", \"\", \"\", \"\", \"\", \"\", \"\"\n",
    "]\n",
    "\n",
    "arabic_alphabet = \"ابتثجحخدذرزسشصضطظعغفقكلمنهوي\""
   ]
  },
  {
   "cell_type": "code",
   "execution_count": 6,
   "id": "e1f94786",
   "metadata": {
    "execution": {
     "iopub.execute_input": "2024-12-16T16:10:12.574422Z",
     "iopub.status.busy": "2024-12-16T16:10:12.574029Z",
     "iopub.status.idle": "2024-12-16T16:10:12.578930Z",
     "shell.execute_reply": "2024-12-16T16:10:12.577910Z"
    },
    "papermill": {
     "duration": 0.019423,
     "end_time": "2024-12-16T16:10:12.580938",
     "exception": false,
     "start_time": "2024-12-16T16:10:12.561515",
     "status": "completed"
    },
    "tags": []
   },
   "outputs": [],
   "source": [
    "from pyarabic.araby import strip_diacritics\n",
    "#remove tashkeel\n",
    "def removing_tashkeel(word): # useed\n",
    "          return strip_diacritics(word)"
   ]
  },
  {
   "cell_type": "code",
   "execution_count": 7,
   "id": "50fdf8a3",
   "metadata": {
    "execution": {
     "iopub.execute_input": "2024-12-16T16:10:12.605504Z",
     "iopub.status.busy": "2024-12-16T16:10:12.605128Z",
     "iopub.status.idle": "2024-12-16T16:10:12.610203Z",
     "shell.execute_reply": "2024-12-16T16:10:12.609109Z"
    },
    "papermill": {
     "duration": 0.019678,
     "end_time": "2024-12-16T16:10:12.612193",
     "exception": false,
     "start_time": "2024-12-16T16:10:12.592515",
     "status": "completed"
    },
    "tags": []
   },
   "outputs": [],
   "source": [
    "from pyarabic.araby import strip_tatweel\n",
    "\n",
    "#remove tatweel l2imdad\n",
    "def removing_tatweel(word): # useed\n",
    "          return strip_tatweel(word)"
   ]
  },
  {
   "cell_type": "code",
   "execution_count": 8,
   "id": "f490e442",
   "metadata": {
    "execution": {
     "iopub.execute_input": "2024-12-16T16:10:12.636572Z",
     "iopub.status.busy": "2024-12-16T16:10:12.636185Z",
     "iopub.status.idle": "2024-12-16T16:10:12.641583Z",
     "shell.execute_reply": "2024-12-16T16:10:12.640549Z"
    },
    "papermill": {
     "duration": 0.020117,
     "end_time": "2024-12-16T16:10:12.643642",
     "exception": false,
     "start_time": "2024-12-16T16:10:12.623525",
     "status": "completed"
    },
    "tags": []
   },
   "outputs": [],
   "source": [
    "from pyarabic.araby import normalize_ligature\n",
    "\n",
    "#remove ligature hamza , alef \n",
    "def removing_ligature(word): # not used \n",
    "          return normalize_ligature(word)"
   ]
  },
  {
   "cell_type": "code",
   "execution_count": 9,
   "id": "9d852fe1",
   "metadata": {
    "execution": {
     "iopub.execute_input": "2024-12-16T16:10:12.668420Z",
     "iopub.status.busy": "2024-12-16T16:10:12.667580Z",
     "iopub.status.idle": "2024-12-16T16:10:12.672523Z",
     "shell.execute_reply": "2024-12-16T16:10:12.671510Z"
    },
    "papermill": {
     "duration": 0.019426,
     "end_time": "2024-12-16T16:10:12.674517",
     "exception": false,
     "start_time": "2024-12-16T16:10:12.655091",
     "status": "completed"
    },
    "tags": []
   },
   "outputs": [],
   "source": [
    "# remove underscore\n",
    "def replace_underscore(word): # useed\n",
    "          return word.replace(\"_\", \" \")"
   ]
  },
  {
   "cell_type": "code",
   "execution_count": 10,
   "id": "df8b8e1a",
   "metadata": {
    "execution": {
     "iopub.execute_input": "2024-12-16T16:10:12.698904Z",
     "iopub.status.busy": "2024-12-16T16:10:12.698519Z",
     "iopub.status.idle": "2024-12-16T16:10:12.703402Z",
     "shell.execute_reply": "2024-12-16T16:10:12.702302Z"
    },
    "papermill": {
     "duration": 0.019525,
     "end_time": "2024-12-16T16:10:12.705466",
     "exception": false,
     "start_time": "2024-12-16T16:10:12.685941",
     "status": "completed"
    },
    "tags": []
   },
   "outputs": [],
   "source": [
    "import pyarabic.araby as araby\n",
    "\n",
    "# remove hamza ambiguity\n",
    "def remove_ambiguity_hamza(word): # useed\n",
    "          return araby.normalize_hamza(word)"
   ]
  },
  {
   "cell_type": "code",
   "execution_count": 11,
   "id": "a55f76f7",
   "metadata": {
    "execution": {
     "iopub.execute_input": "2024-12-16T16:10:12.730375Z",
     "iopub.status.busy": "2024-12-16T16:10:12.729642Z",
     "iopub.status.idle": "2024-12-16T16:10:12.734537Z",
     "shell.execute_reply": "2024-12-16T16:10:12.733522Z"
    },
    "papermill": {
     "duration": 0.019853,
     "end_time": "2024-12-16T16:10:12.736799",
     "exception": false,
     "start_time": "2024-12-16T16:10:12.716946",
     "status": "completed"
    },
    "tags": []
   },
   "outputs": [],
   "source": [
    "# romove \"AL\"\n",
    "def remove_AL(word): # useed\n",
    "          return re.sub(r'^ال', '', word)"
   ]
  },
  {
   "cell_type": "code",
   "execution_count": 12,
   "id": "e8be1888",
   "metadata": {
    "execution": {
     "iopub.execute_input": "2024-12-16T16:10:12.761665Z",
     "iopub.status.busy": "2024-12-16T16:10:12.760832Z",
     "iopub.status.idle": "2024-12-16T16:10:12.768014Z",
     "shell.execute_reply": "2024-12-16T16:10:12.766904Z"
    },
    "papermill": {
     "duration": 0.021839,
     "end_time": "2024-12-16T16:10:12.770161",
     "exception": false,
     "start_time": "2024-12-16T16:10:12.748322",
     "status": "completed"
    },
    "tags": []
   },
   "outputs": [],
   "source": [
    "# remove repeated characters      \n",
    "def word_remover(word): # useed\n",
    "            if len(word) == 1 or len(word) == 0 or len(word) >= 13:\n",
    "                return \"\"                \n",
    "            else :\n",
    "                # print(word)\n",
    "                for a7rf in arabic_alphabet:\n",
    "                    if a7rf == 'د' or a7rf == 'ه':\n",
    "                        word = re.sub(fr'{a7rf}{{3,}}', a7rf * 2, word).strip()\n",
    "                    else:\n",
    "                        word = re.sub(fr'{a7rf}+', a7rf, word).strip()\n",
    "                # print(word) \n",
    "                for i in range(len(word)):\n",
    "                    if word[i] in word_in:\n",
    "                        index = word_in.index(word[i])\n",
    "                        word = word[:i] + replaced_by[index] + word[i + 1:]\n",
    "\n",
    "                return word\n"
   ]
  },
  {
   "cell_type": "code",
   "execution_count": 13,
   "id": "64f15a4c",
   "metadata": {
    "execution": {
     "iopub.execute_input": "2024-12-16T16:10:12.794577Z",
     "iopub.status.busy": "2024-12-16T16:10:12.794181Z",
     "iopub.status.idle": "2024-12-16T16:10:12.799393Z",
     "shell.execute_reply": "2024-12-16T16:10:12.798371Z"
    },
    "papermill": {
     "duration": 0.019988,
     "end_time": "2024-12-16T16:10:12.801590",
     "exception": false,
     "start_time": "2024-12-16T16:10:12.781602",
     "status": "completed"
    },
    "tags": []
   },
   "outputs": [],
   "source": [
    "# remove emails  \n",
    "def remove_url(text): # useed\n",
    "    text = re.sub(r'(https|http)?:\\/\\/(\\w|\\.|\\/|\\?|\\=|\\&|\\%)*\\b',\n",
    "                  '', text, flags=re.MULTILINE)\n",
    "    return text      \n",
    " "
   ]
  },
  {
   "cell_type": "code",
   "execution_count": 14,
   "id": "b3962d44",
   "metadata": {
    "execution": {
     "iopub.execute_input": "2024-12-16T16:10:12.826397Z",
     "iopub.status.busy": "2024-12-16T16:10:12.826009Z",
     "iopub.status.idle": "2024-12-16T16:10:12.831351Z",
     "shell.execute_reply": "2024-12-16T16:10:12.830231Z"
    },
    "papermill": {
     "duration": 0.020504,
     "end_time": "2024-12-16T16:10:12.833733",
     "exception": false,
     "start_time": "2024-12-16T16:10:12.813229",
     "status": "completed"
    },
    "tags": []
   },
   "outputs": [],
   "source": [
    " # remove emails     \n",
    "def remove_emails(text): # useed\n",
    "    text = re.sub(r'[a-zA-Z0-9._%+-]+@[a-zA-Z0-9.-]+\\.[a-zA-Z]{2,}', '', text, flags=re.MULTILINE)\n",
    "    return text  "
   ]
  },
  {
   "cell_type": "code",
   "execution_count": 15,
   "id": "5b3fa03a",
   "metadata": {
    "execution": {
     "iopub.execute_input": "2024-12-16T16:10:12.859809Z",
     "iopub.status.busy": "2024-12-16T16:10:12.859395Z",
     "iopub.status.idle": "2024-12-16T16:10:12.865529Z",
     "shell.execute_reply": "2024-12-16T16:10:12.864464Z"
    },
    "papermill": {
     "duration": 0.022215,
     "end_time": "2024-12-16T16:10:12.867577",
     "exception": false,
     "start_time": "2024-12-16T16:10:12.845362",
     "status": "completed"
    },
    "tags": []
   },
   "outputs": [],
   "source": [
    "def special_tags_and_ponctuations(text):  # Function to clean special tags\n",
    "    text = re.sub(r'&amp;', '', text) \n",
    "    text = re.sub(r'&quot;', '', text)  \n",
    "    text = re.sub(r'!+', '!', text)\n",
    "    text = re.sub(r'\\?+', '?', text)\n",
    "    text = re.sub(r'\\.+', '.', text)\n",
    "\n",
    "    return text"
   ]
  },
  {
   "cell_type": "code",
   "execution_count": 16,
   "id": "1bf3c042",
   "metadata": {
    "execution": {
     "iopub.execute_input": "2024-12-16T16:10:12.892344Z",
     "iopub.status.busy": "2024-12-16T16:10:12.891920Z",
     "iopub.status.idle": "2024-12-16T16:10:12.897260Z",
     "shell.execute_reply": "2024-12-16T16:10:12.896044Z"
    },
    "papermill": {
     "duration": 0.020165,
     "end_time": "2024-12-16T16:10:12.899466",
     "exception": false,
     "start_time": "2024-12-16T16:10:12.879301",
     "status": "completed"
    },
    "tags": []
   },
   "outputs": [],
   "source": [
    "def remove_html_tags(text):\n",
    "    text = re.sub(r'<[^>]+>', '', text)\n",
    "    return text"
   ]
  },
  {
   "cell_type": "code",
   "execution_count": 17,
   "id": "aec2011e",
   "metadata": {
    "execution": {
     "iopub.execute_input": "2024-12-16T16:10:12.924403Z",
     "iopub.status.busy": "2024-12-16T16:10:12.924005Z",
     "iopub.status.idle": "2024-12-16T16:10:12.929043Z",
     "shell.execute_reply": "2024-12-16T16:10:12.928040Z"
    },
    "papermill": {
     "duration": 0.020061,
     "end_time": "2024-12-16T16:10:12.931160",
     "exception": false,
     "start_time": "2024-12-16T16:10:12.911099",
     "status": "completed"
    },
    "tags": []
   },
   "outputs": [],
   "source": [
    "# hundle emojis\n",
    "def extend_spletting(items):  # helper function to split items\n",
    "    spletting = []\n",
    "    for item in items:\n",
    "        spletting.extend(item.split())\n",
    "    return spletting"
   ]
  },
  {
   "cell_type": "code",
   "execution_count": 18,
   "id": "470be4cb",
   "metadata": {
    "execution": {
     "iopub.execute_input": "2024-12-16T16:10:12.955703Z",
     "iopub.status.busy": "2024-12-16T16:10:12.955270Z",
     "iopub.status.idle": "2024-12-16T16:10:12.960484Z",
     "shell.execute_reply": "2024-12-16T16:10:12.959417Z"
    },
    "papermill": {
     "duration": 0.019932,
     "end_time": "2024-12-16T16:10:12.962554",
     "exception": false,
     "start_time": "2024-12-16T16:10:12.942622",
     "status": "completed"
    },
    "tags": []
   },
   "outputs": [],
   "source": [
    "def emoji_hundler(word):  # helper function to handle emojis\n",
    "    word = emoji.demojize(word, language='ar')\n",
    "    word = replace_underscore(word)[1:-1]\n",
    "    return word"
   ]
  },
  {
   "cell_type": "code",
   "execution_count": 19,
   "id": "8ead25c1",
   "metadata": {
    "execution": {
     "iopub.execute_input": "2024-12-16T16:10:12.988244Z",
     "iopub.status.busy": "2024-12-16T16:10:12.987664Z",
     "iopub.status.idle": "2024-12-16T16:10:12.995509Z",
     "shell.execute_reply": "2024-12-16T16:10:12.994219Z"
    },
    "papermill": {
     "duration": 0.023144,
     "end_time": "2024-12-16T16:10:12.997604",
     "exception": false,
     "start_time": "2024-12-16T16:10:12.974460",
     "status": "completed"
    },
    "tags": []
   },
   "outputs": [],
   "source": [
    "def is_an_emoji(word):\n",
    "    emoji_pattern = re.compile(\"[\"  \n",
    "                               u\"\\U0001F680-\\U0001F6FF\"  # transport and map unicods\n",
    "                               u\"\\U0001F1E0-\\U0001F1FF\"  # flags unicods\n",
    "                               \"]+\", flags=re.UNICODE)\n",
    "\n",
    "    if emoji.is_emoji(word):\n",
    "        word = emoji_pattern.sub(r'', word)\n",
    "        return extend_spletting([emoji_hundler(word)])\n",
    "\n",
    "    elif emoji.purely_emoji(word):\n",
    "        data_of_emojis = emoji.distinct_emoji_list(word)\n",
    "        data = [emoji_hundler(emoji_pattern.sub(r'', item)) for item in data_of_emojis]\n",
    "        return extend_spletting(data)\n",
    "\n",
    "    else:\n",
    "        text_only = re.sub(r'[^\\w\\s?!]', '', word)\n",
    "        data_of_emojis = emoji.distinct_emoji_list(word)\n",
    "        emojis = [emoji_hundler(emoji_pattern.sub(r'', item)) for item in data_of_emojis]\n",
    "        \n",
    "        return [text_only] + extend_spletting(emojis)\n"
   ]
  },
  {
   "cell_type": "code",
   "execution_count": 20,
   "id": "b55c1d55",
   "metadata": {
    "execution": {
     "iopub.execute_input": "2024-12-16T16:10:13.022463Z",
     "iopub.status.busy": "2024-12-16T16:10:13.022047Z",
     "iopub.status.idle": "2024-12-16T16:10:13.029116Z",
     "shell.execute_reply": "2024-12-16T16:10:13.027939Z"
    },
    "papermill": {
     "duration": 0.021956,
     "end_time": "2024-12-16T16:10:13.031230",
     "exception": false,
     "start_time": "2024-12-16T16:10:13.009274",
     "status": "completed"
    },
    "tags": []
   },
   "outputs": [],
   "source": [
    "# tramslating darija(latin) to daruja(arabic)\n",
    "def translate_darija_to_arabic(word): # useed\n",
    "    # print(\"test\")\n",
    "    word = word.lower()\n",
    "    if  bool(re.compile(r\"[a-z0-9']+\").search(word)):\n",
    "        arabic_word = \"\"\n",
    "        i = 0\n",
    "        while i < len(word):\n",
    "            # print('sadd')\n",
    "            if i + 1 < len(word) and word[i:i+2] in darija_alphabet: # Check for 2 lettrs\n",
    "                arabic_word += darija_alphabet[word[i:i+2]]\n",
    "                i += 2\n",
    "            elif word[i] in darija_alphabet:\n",
    "                arabic_word += darija_alphabet[word[i]]\n",
    "                i += 1\n",
    "            else:\n",
    "                i += 1\n",
    "        return arabic_word\n",
    "    return word\n",
    "      "
   ]
  },
  {
   "cell_type": "code",
   "execution_count": 21,
   "id": "ec83d8fb",
   "metadata": {
    "execution": {
     "iopub.execute_input": "2024-12-16T16:10:13.056038Z",
     "iopub.status.busy": "2024-12-16T16:10:13.055599Z",
     "iopub.status.idle": "2024-12-16T16:10:13.061785Z",
     "shell.execute_reply": "2024-12-16T16:10:13.060576Z"
    },
    "papermill": {
     "duration": 0.021367,
     "end_time": "2024-12-16T16:10:13.064178",
     "exception": false,
     "start_time": "2024-12-16T16:10:13.042811",
     "status": "completed"
    },
    "tags": []
   },
   "outputs": [],
   "source": [
    "# remove  number arabic and latin\n",
    "def number_remov(listy): # useed\n",
    "    number_pattern = re.compile(r'^[0-9\\u0660-\\u0669]+$')\n",
    "    cleaned_list = [item for item in listy if not number_pattern.fullmatch(item)] \n",
    "    return cleaned_list   "
   ]
  },
  {
   "cell_type": "code",
   "execution_count": 22,
   "id": "6cc4134d",
   "metadata": {
    "execution": {
     "iopub.execute_input": "2024-12-16T16:10:13.089975Z",
     "iopub.status.busy": "2024-12-16T16:10:13.089521Z",
     "iopub.status.idle": "2024-12-16T16:10:13.096096Z",
     "shell.execute_reply": "2024-12-16T16:10:13.095031Z"
    },
    "papermill": {
     "duration": 0.022561,
     "end_time": "2024-12-16T16:10:13.098401",
     "exception": false,
     "start_time": "2024-12-16T16:10:13.075840",
     "status": "completed"
    },
    "tags": []
   },
   "outputs": [],
   "source": [
    "#stemming arabic words     \n",
    "def stemming_darija(word):\n",
    "    # file = \"./Data_prep/suf_pref_darija.json\" # local run\n",
    "    file = \"suf_pref_darija.json\" \n",
    "\n",
    "    with open(file, 'r', encoding='utf-8') as json_file:\n",
    "        suf_pref = json.load(json_file)\n",
    "\n",
    "    ArListem = ArabicLightStemmer()\n",
    "    ArListem.set_prefix_list(suf_pref['darija_prefixes'])\n",
    "    ArListem.set_suffix_list(suf_pref['darija_suffixes'])\n",
    "    ArListem.light_stem(word)  \n",
    "    return ArListem.get_stem() "
   ]
  },
  {
   "cell_type": "code",
   "execution_count": 23,
   "id": "1c64ffdc",
   "metadata": {
    "execution": {
     "iopub.execute_input": "2024-12-16T16:10:13.124274Z",
     "iopub.status.busy": "2024-12-16T16:10:13.123815Z",
     "iopub.status.idle": "2024-12-16T16:10:13.129658Z",
     "shell.execute_reply": "2024-12-16T16:10:13.128535Z"
    },
    "papermill": {
     "duration": 0.021665,
     "end_time": "2024-12-16T16:10:13.132026",
     "exception": false,
     "start_time": "2024-12-16T16:10:13.110361",
     "status": "completed"
    },
    "tags": []
   },
   "outputs": [],
   "source": [
    "# \"03:44\"\n",
    "def remove_yt_timers(text):\n",
    "    pattern = r'\\b\\d{1,2}:\\d{2,3}(:\\d{2,3})?\\b'\n",
    "    text = re.sub(pattern, '', text)\n",
    "    return text.strip()"
   ]
  },
  {
   "cell_type": "code",
   "execution_count": 24,
   "id": "82aa6163",
   "metadata": {
    "execution": {
     "iopub.execute_input": "2024-12-16T16:10:13.157521Z",
     "iopub.status.busy": "2024-12-16T16:10:13.156698Z",
     "iopub.status.idle": "2024-12-16T16:10:13.162243Z",
     "shell.execute_reply": "2024-12-16T16:10:13.160944Z"
    },
    "papermill": {
     "duration": 0.020686,
     "end_time": "2024-12-16T16:10:13.164490",
     "exception": false,
     "start_time": "2024-12-16T16:10:13.143804",
     "status": "completed"
    },
    "tags": []
   },
   "outputs": [],
   "source": [
    "\n",
    "def preproc_arab_sentence(word): # main function for  arab processing tokens\n",
    "    word = removing_tashkeel(word)\n",
    "    word = removing_tatweel(word)\n",
    "    word = remove_AL(word)\n",
    "    # word = remove_ambiguity_hamza(word)\n",
    "    word = word_remover(word)\n",
    "    return word\n"
   ]
  },
  {
   "cell_type": "code",
   "execution_count": 25,
   "id": "e415724e",
   "metadata": {
    "execution": {
     "iopub.execute_input": "2024-12-16T16:10:13.190651Z",
     "iopub.status.busy": "2024-12-16T16:10:13.190258Z",
     "iopub.status.idle": "2024-12-16T16:10:13.200065Z",
     "shell.execute_reply": "2024-12-16T16:10:13.198915Z"
    },
    "papermill": {
     "duration": 0.025939,
     "end_time": "2024-12-16T16:10:13.202079",
     "exception": false,
     "start_time": "2024-12-16T16:10:13.176140",
     "status": "completed"
    },
    "tags": []
   },
   "outputs": [],
   "source": [
    "from pyarabic.araby import tokenize\n",
    "def tokenize_arab_text(text):\n",
    "            # with open('./Data_prep/stop_words_accum.json', 'r', encoding='utf-8') as file: #  local run \n",
    "            with open('./stop_words_accum.json', 'r', encoding='utf-8') as file:\n",
    "\n",
    "                stop_words = json.load(file)\n",
    "\n",
    "            # with open('./Data_prep/darija_latin_ref.json', 'r', encoding='utf-8') as file: #  local run \n",
    "            with open('./darija_latin_ref.json', 'r', encoding='utf-8') as file:\n",
    "                \n",
    "                darija_latin_ref = json.load(file)\n",
    "          \n",
    "            #print(text)\n",
    "            text = remove_url(text)\n",
    "            text = remove_emails(text)\n",
    "            text = replace_underscore(text)\n",
    "            text = remove_html_tags(text)\n",
    "            text = remove_yt_timers(text)\n",
    "            text = special_tags_and_ponctuations(text)\n",
    "            #tokenization\n",
    "            print(text)\n",
    "            words = tokenize(text)\n",
    "            print(words)\n",
    "            words = [ translate_darija_to_arabic(word) for word in words if word not in darija_latin_ref]\n",
    "            print(words)\n",
    "            words = [is_an_emoji(word) for word in words] \n",
    "            words = [item for sublist in words for item in sublist if item]\n",
    "            words = list(set(words))\n",
    "            print(words)        \n",
    "            words = [word for word in words if word not in stop_words]\n",
    "            print(words)\n",
    "\n",
    "            words = [preproc_arab_sentence(word) for word in words]\n",
    "\n",
    "            # print(words)        \n",
    "            words = [stemming_darija(word) for word in words if word]\n",
    "            words = number_remov(words)\n",
    "\n",
    "\n",
    "            # print(words)\n",
    "            words = ' '.join(words) \n",
    "            return words"
   ]
  },
  {
   "cell_type": "code",
   "execution_count": 26,
   "id": "5eb69ca9",
   "metadata": {
    "execution": {
     "iopub.execute_input": "2024-12-16T16:10:13.227743Z",
     "iopub.status.busy": "2024-12-16T16:10:13.227324Z",
     "iopub.status.idle": "2024-12-16T16:10:13.246173Z",
     "shell.execute_reply": "2024-12-16T16:10:13.245098Z"
    },
    "papermill": {
     "duration": 0.034767,
     "end_time": "2024-12-16T16:10:13.248464",
     "exception": false,
     "start_time": "2024-12-16T16:10:13.213697",
     "status": "completed"
    },
    "tags": []
   },
   "outputs": [
    {
     "data": {
      "text/html": [
       "<div>\n",
       "<style scoped>\n",
       "    .dataframe tbody tr th:only-of-type {\n",
       "        vertical-align: middle;\n",
       "    }\n",
       "\n",
       "    .dataframe tbody tr th {\n",
       "        vertical-align: top;\n",
       "    }\n",
       "\n",
       "    .dataframe thead th {\n",
       "        text-align: right;\n",
       "    }\n",
       "</style>\n",
       "<table border=\"1\" class=\"dataframe\">\n",
       "  <thead>\n",
       "    <tr style=\"text-align: right;\">\n",
       "      <th></th>\n",
       "      <th>text</th>\n",
       "      <th>target</th>\n",
       "      <th>text_cleaned</th>\n",
       "    </tr>\n",
       "  </thead>\n",
       "  <tbody>\n",
       "    <tr>\n",
       "      <th>0</th>\n",
       "      <td>كما هو الشان بكل المدن العثيقه باليونان مدن قد...</td>\n",
       "      <td>1</td>\n",
       "      <td>شان عثيقه قديمه جميله محلاتوبيوت عباره ديافه</td>\n",
       "    </tr>\n",
       "    <tr>\n",
       "      <th>1</th>\n",
       "      <td>عدد الكشوفات لازالت قليلة</td>\n",
       "      <td>0</td>\n",
       "      <td>كشوف</td>\n",
       "    </tr>\n",
       "    <tr>\n",
       "      <th>2</th>\n",
       "      <td>اش هانكلو لخرا</td>\n",
       "      <td>0</td>\n",
       "      <td>لخرا هانكلو</td>\n",
       "    </tr>\n",
       "    <tr>\n",
       "      <th>3</th>\n",
       "      <td>الله يمسخكم مباغينش ترجعو  لطريق الله الى جهنم...</td>\n",
       "      <td>0</td>\n",
       "      <td>جهنم وباس مباغينش يمسخكم مسير ترجعو</td>\n",
       "    </tr>\n",
       "    <tr>\n",
       "      <th>4</th>\n",
       "      <td>تفو عليك وعلي اليوم الي عرفتك فيه</td>\n",
       "      <td>0</td>\n",
       "      <td>تفو</td>\n",
       "    </tr>\n",
       "  </tbody>\n",
       "</table>\n",
       "</div>"
      ],
      "text/plain": [
       "                                                text  target  \\\n",
       "0  كما هو الشان بكل المدن العثيقه باليونان مدن قد...       1   \n",
       "1                          عدد الكشوفات لازالت قليلة       0   \n",
       "2                                     اش هانكلو لخرا       0   \n",
       "3  الله يمسخكم مباغينش ترجعو  لطريق الله الى جهنم...       0   \n",
       "4                  تفو عليك وعلي اليوم الي عرفتك فيه       0   \n",
       "\n",
       "                                   text_cleaned  \n",
       "0  شان عثيقه قديمه جميله محلاتوبيوت عباره ديافه  \n",
       "1                                          كشوف  \n",
       "2                                   لخرا هانكلو  \n",
       "3           جهنم وباس مباغينش يمسخكم مسير ترجعو  \n",
       "4                                           تفو  "
      ]
     },
     "execution_count": 26,
     "metadata": {},
     "output_type": "execute_result"
    }
   ],
   "source": [
    "df.head()"
   ]
  },
  {
   "cell_type": "code",
   "execution_count": 27,
   "id": "9ad6cce9",
   "metadata": {
    "execution": {
     "iopub.execute_input": "2024-12-16T16:10:13.273757Z",
     "iopub.status.busy": "2024-12-16T16:10:13.273314Z",
     "iopub.status.idle": "2024-12-16T16:10:13.305008Z",
     "shell.execute_reply": "2024-12-16T16:10:13.303923Z"
    },
    "papermill": {
     "duration": 0.047103,
     "end_time": "2024-12-16T16:10:13.307332",
     "exception": false,
     "start_time": "2024-12-16T16:10:13.260229",
     "status": "completed"
    },
    "tags": []
   },
   "outputs": [
    {
     "name": "stdout",
     "output_type": "stream",
     "text": [
      "<class 'pandas.core.frame.DataFrame'>\n",
      "RangeIndex: 35000 entries, 0 to 34999\n",
      "Data columns (total 3 columns):\n",
      " #   Column        Non-Null Count  Dtype \n",
      "---  ------        --------------  ----- \n",
      " 0   text          35000 non-null  object\n",
      " 1   target        35000 non-null  int64 \n",
      " 2   text_cleaned  33821 non-null  object\n",
      "dtypes: int64(1), object(2)\n",
      "memory usage: 820.4+ KB\n"
     ]
    }
   ],
   "source": [
    "df.info()"
   ]
  },
  {
   "cell_type": "code",
   "execution_count": 28,
   "id": "d28594ff",
   "metadata": {
    "execution": {
     "iopub.execute_input": "2024-12-16T16:10:13.332629Z",
     "iopub.status.busy": "2024-12-16T16:10:13.332198Z",
     "iopub.status.idle": "2024-12-16T16:10:13.349004Z",
     "shell.execute_reply": "2024-12-16T16:10:13.347811Z"
    },
    "papermill": {
     "duration": 0.032283,
     "end_time": "2024-12-16T16:10:13.351506",
     "exception": false,
     "start_time": "2024-12-16T16:10:13.319223",
     "status": "completed"
    },
    "tags": []
   },
   "outputs": [],
   "source": [
    "df.dropna(inplace=True)"
   ]
  },
  {
   "cell_type": "code",
   "execution_count": 29,
   "id": "0f07ec31",
   "metadata": {
    "execution": {
     "iopub.execute_input": "2024-12-16T16:10:13.376916Z",
     "iopub.status.busy": "2024-12-16T16:10:13.376494Z",
     "iopub.status.idle": "2024-12-16T16:10:13.405232Z",
     "shell.execute_reply": "2024-12-16T16:10:13.404203Z"
    },
    "papermill": {
     "duration": 0.04428,
     "end_time": "2024-12-16T16:10:13.407628",
     "exception": false,
     "start_time": "2024-12-16T16:10:13.363348",
     "status": "completed"
    },
    "tags": []
   },
   "outputs": [],
   "source": [
    "from sklearn.model_selection import train_test_split\n",
    "\n",
    "X_train, X_test, y_train, y_test = train_test_split( df.drop(columns=[\"target\"]),df[\"target\"], test_size=0.2 , stratify=df['target'] ,shuffle=True , random_state=123)"
   ]
  },
  {
   "cell_type": "code",
   "execution_count": 30,
   "id": "b22e3c3d",
   "metadata": {
    "execution": {
     "iopub.execute_input": "2024-12-16T16:10:13.434580Z",
     "iopub.status.busy": "2024-12-16T16:10:13.433058Z",
     "iopub.status.idle": "2024-12-16T16:10:13.443347Z",
     "shell.execute_reply": "2024-12-16T16:10:13.442358Z"
    },
    "papermill": {
     "duration": 0.026374,
     "end_time": "2024-12-16T16:10:13.445878",
     "exception": false,
     "start_time": "2024-12-16T16:10:13.419504",
     "status": "completed"
    },
    "tags": []
   },
   "outputs": [
    {
     "data": {
      "text/plain": [
       "target\n",
       "0    3443\n",
       "1    3322\n",
       "Name: count, dtype: int64"
      ]
     },
     "execution_count": 30,
     "metadata": {},
     "output_type": "execute_result"
    }
   ],
   "source": [
    "y_test.value_counts()"
   ]
  },
  {
   "cell_type": "code",
   "execution_count": 31,
   "id": "007581c8",
   "metadata": {
    "execution": {
     "iopub.execute_input": "2024-12-16T16:10:13.472497Z",
     "iopub.status.busy": "2024-12-16T16:10:13.472091Z",
     "iopub.status.idle": "2024-12-16T16:10:13.479051Z",
     "shell.execute_reply": "2024-12-16T16:10:13.477943Z"
    },
    "papermill": {
     "duration": 0.022831,
     "end_time": "2024-12-16T16:10:13.481379",
     "exception": false,
     "start_time": "2024-12-16T16:10:13.458548",
     "status": "completed"
    },
    "tags": []
   },
   "outputs": [
    {
     "data": {
      "text/plain": [
       "(27056, 2)"
      ]
     },
     "execution_count": 31,
     "metadata": {},
     "output_type": "execute_result"
    }
   ],
   "source": [
    "X_train.shape"
   ]
  },
  {
   "cell_type": "markdown",
   "id": "a6aa9cf0",
   "metadata": {
    "papermill": {
     "duration": 0.011635,
     "end_time": "2024-12-16T16:10:13.505144",
     "exception": false,
     "start_time": "2024-12-16T16:10:13.493509",
     "status": "completed"
    },
    "tags": []
   },
   "source": [
    "## Useful Function"
   ]
  },
  {
   "cell_type": "code",
   "execution_count": 32,
   "id": "f0dbe2de",
   "metadata": {
    "execution": {
     "iopub.execute_input": "2024-12-16T16:10:13.530733Z",
     "iopub.status.busy": "2024-12-16T16:10:13.530352Z",
     "iopub.status.idle": "2024-12-16T16:10:14.028993Z",
     "shell.execute_reply": "2024-12-16T16:10:14.027930Z"
    },
    "papermill": {
     "duration": 0.514232,
     "end_time": "2024-12-16T16:10:14.031384",
     "exception": false,
     "start_time": "2024-12-16T16:10:13.517152",
     "status": "completed"
    },
    "tags": []
   },
   "outputs": [],
   "source": [
    "import numpy as np\n",
    "from sklearn.metrics import accuracy_score, f1_score, classification_report, confusion_matrix\n",
    "import seaborn as sns\n",
    "import matplotlib.pyplot as plt\n",
    "\n",
    "def about_model(model_name , y_test, y_pred):\n",
    "    print('-------------------> ' + model_name )\n",
    "    accuracy = accuracy_score(y_test, y_pred)\n",
    "    print(f\"Accuracy: {accuracy:.2f}\")\n",
    "    \n",
    "    f1 = f1_score(y_test, y_pred, average=None)\n",
    "    print(\"F1-Score for each class:\")\n",
    "    class_labels = ['Positive', 'Negative']\n",
    "\n",
    "    for i, score in enumerate(f1):\n",
    "        print(f\"{class_labels[i]}: {score:.2f}\")\n",
    "    \n",
    "    print(\"\\nClassification Report:\")\n",
    "    print(classification_report(y_test, y_pred, target_names=class_labels, digits=2))\n",
    "    \n",
    "    conf_matrix = confusion_matrix(y_test, y_pred)\n",
    "    plt.figure(figsize=(8, 6))\n",
    "    sns.heatmap(conf_matrix, annot=True, fmt='d', cmap='Blues', \n",
    "                xticklabels=class_labels,\n",
    "                yticklabels=class_labels)\n",
    "    plt.xlabel(\"Predicted\")\n",
    "    plt.ylabel(\"Actual\")\n",
    "    plt.title(\"Confusion Matrix\")\n",
    "    plt.show()\n"
   ]
  },
  {
   "cell_type": "markdown",
   "id": "0dab5771",
   "metadata": {
    "papermill": {
     "duration": 0.012722,
     "end_time": "2024-12-16T16:10:14.056251",
     "exception": false,
     "start_time": "2024-12-16T16:10:14.043529",
     "status": "completed"
    },
    "tags": []
   },
   "source": [
    "## Feature Engineering\n",
    "Converting text to vectors format:\n",
    "- TF-IDF Vectorization (ngram_range=(1, 1))"
   ]
  },
  {
   "cell_type": "code",
   "execution_count": 33,
   "id": "eed7db5f",
   "metadata": {
    "execution": {
     "iopub.execute_input": "2024-12-16T16:10:14.082918Z",
     "iopub.status.busy": "2024-12-16T16:10:14.082363Z",
     "iopub.status.idle": "2024-12-16T16:10:14.088143Z",
     "shell.execute_reply": "2024-12-16T16:10:14.086784Z"
    },
    "papermill": {
     "duration": 0.021555,
     "end_time": "2024-12-16T16:10:14.090471",
     "exception": false,
     "start_time": "2024-12-16T16:10:14.068916",
     "status": "completed"
    },
    "tags": []
   },
   "outputs": [],
   "source": [
    "#from sklearn.feature_extraction.text import TfidfVectorizer\n",
    "\n",
    "\n",
    "#tfidf_vectorizer = TfidfVectorizer(ngram_range=(1, 2))\n",
    "#X_train['text_cleaned'] = X_train['text_cleaned'].astype(str)\n",
    "#X_test['text_cleaned'] = X_test['text_cleaned'].astype(str)\n",
    "\n",
    "#X_train_tfidf = tfidf_vectorizer.fit_transform(X_train['text_cleaned'])\n",
    "#X_test_tfidf = tfidf_vectorizer.transform(X_test['text_cleaned'])\n",
    "\n"
   ]
  },
  {
   "cell_type": "code",
   "execution_count": 34,
   "id": "1e0608b5",
   "metadata": {
    "execution": {
     "iopub.execute_input": "2024-12-16T16:10:14.116260Z",
     "iopub.status.busy": "2024-12-16T16:10:14.115827Z",
     "iopub.status.idle": "2024-12-16T16:10:15.023254Z",
     "shell.execute_reply": "2024-12-16T16:10:15.022171Z"
    },
    "papermill": {
     "duration": 0.923484,
     "end_time": "2024-12-16T16:10:15.025877",
     "exception": false,
     "start_time": "2024-12-16T16:10:14.102393",
     "status": "completed"
    },
    "tags": []
   },
   "outputs": [
    {
     "name": "stdout",
     "output_type": "stream",
     "text": [
      "all tokens:  51981\n",
      "reduced tokens:  51981\n"
     ]
    },
    {
     "name": "stderr",
     "output_type": "stream",
     "text": [
      "/opt/conda/lib/python3.10/site-packages/sklearn/feature_extraction/text.py:1380: UserWarning: Upper case characters found in vocabulary while 'lowercase' is True. These entries will not be matched with any documents\n",
      "  warnings.warn(\n"
     ]
    }
   ],
   "source": [
    "from sklearn.feature_extraction.text import TfidfVectorizer\n",
    "import numpy as np\n",
    "import pandas as pd\n",
    "\n",
    "\n",
    "tfidf_vectorizer = TfidfVectorizer(ngram_range=(1, 1))\n",
    "\n",
    "X_train['text_cleaned'] = X_train['text_cleaned'].astype(str)\n",
    "X_test['text_cleaned'] = X_test['text_cleaned'].astype(str)\n",
    "\n",
    "X_train_tfidf = tfidf_vectorizer.fit_transform(X_train['text_cleaned'])\n",
    "X_test_tfidf = tfidf_vectorizer.transform(X_test['text_cleaned'])\n",
    "\n",
    "words = tfidf_vectorizer.get_feature_names_out()\n",
    "print(\"all tokens: \" , len(words))\n",
    "tfidf_scores = np.asarray(X_train_tfidf.sum(axis=0)).flatten()\n",
    "\n",
    "sorted_indices = np.argsort(tfidf_scores)[::-1]\n",
    "\n",
    "cumulative_tfidf = np.cumsum(tfidf_scores[sorted_indices])\n",
    "\n",
    "total_tfidf = cumulative_tfidf[-1]\n",
    "threshold =  total_tfidf\n",
    "\n",
    "cutoff_index = np.where(cumulative_tfidf >= threshold)[0][0]\n",
    "\n",
    "selected_ngrams = words[sorted_indices][:cutoff_index + 1]\n",
    "\n",
    "selected_vocab = selected_ngrams.tolist()\n",
    "print(\"reduced tokens: \"  , len(selected_vocab))\n",
    "\n",
    "tfidf_vectorizer = TfidfVectorizer(vocabulary=selected_vocab)\n",
    "\n",
    "X_train_tfidf = tfidf_vectorizer.fit_transform(X_train['text_cleaned'])\n",
    "X_test_tfidf = tfidf_vectorizer.transform(X_test['text_cleaned'])\n"
   ]
  },
  {
   "cell_type": "code",
   "execution_count": 35,
   "id": "2de1c93b",
   "metadata": {
    "execution": {
     "iopub.execute_input": "2024-12-16T16:10:15.053295Z",
     "iopub.status.busy": "2024-12-16T16:10:15.052870Z",
     "iopub.status.idle": "2024-12-16T16:10:15.092159Z",
     "shell.execute_reply": "2024-12-16T16:10:15.091126Z"
    },
    "papermill": {
     "duration": 0.056249,
     "end_time": "2024-12-16T16:10:15.094458",
     "exception": false,
     "start_time": "2024-12-16T16:10:15.038209",
     "status": "completed"
    },
    "tags": []
   },
   "outputs": [
    {
     "data": {
      "text/plain": [
       "array(['لا', 'ما', 'غير', 'هه', 'خير', 'حمد', 'ماش', 'مبروك', 'تفو',\n",
       "       'سير', 'هم', 'قلب', 'فرح', 'عداله', 'احسن', 'لم', 'قوه', 'عديم',\n",
       "       'فكر', 'وفي', 'بدموع', 'تنميه', 'ليس', 'تحيه', 'طحن', 'والو', 'سح',\n",
       "       'كورو', 'عمار', 'دل'], dtype=object)"
      ]
     },
     "execution_count": 35,
     "metadata": {},
     "output_type": "execute_result"
    }
   ],
   "source": [
    "tfidf_vectorizer.get_feature_names_out()[:30]"
   ]
  },
  {
   "cell_type": "code",
   "execution_count": 36,
   "id": "68c994a5",
   "metadata": {
    "execution": {
     "iopub.execute_input": "2024-12-16T16:10:15.121566Z",
     "iopub.status.busy": "2024-12-16T16:10:15.120761Z",
     "iopub.status.idle": "2024-12-16T16:10:15.155418Z",
     "shell.execute_reply": "2024-12-16T16:10:15.154241Z"
    },
    "papermill": {
     "duration": 0.050796,
     "end_time": "2024-12-16T16:10:15.157439",
     "exception": false,
     "start_time": "2024-12-16T16:10:15.106643",
     "status": "completed"
    },
    "tags": []
   },
   "outputs": [
    {
     "data": {
      "text/plain": [
       "51981"
      ]
     },
     "execution_count": 36,
     "metadata": {},
     "output_type": "execute_result"
    }
   ],
   "source": [
    "len(tfidf_vectorizer.get_feature_names_out())"
   ]
  },
  {
   "cell_type": "markdown",
   "id": "623661b7",
   "metadata": {
    "papermill": {
     "duration": 0.012533,
     "end_time": "2024-12-16T16:10:15.182259",
     "exception": false,
     "start_time": "2024-12-16T16:10:15.169726",
     "status": "completed"
    },
    "tags": []
   },
   "source": [
    "## Model Development\n"
   ]
  },
  {
   "cell_type": "markdown",
   "id": "521eb51a",
   "metadata": {
    "papermill": {
     "duration": 0.012635,
     "end_time": "2024-12-16T16:10:15.208532",
     "exception": false,
     "start_time": "2024-12-16T16:10:15.195897",
     "status": "completed"
    },
    "tags": []
   },
   "source": [
    "### Random Forest"
   ]
  },
  {
   "cell_type": "code",
   "execution_count": 37,
   "id": "45a5433b",
   "metadata": {
    "execution": {
     "iopub.execute_input": "2024-12-16T16:10:15.234730Z",
     "iopub.status.busy": "2024-12-16T16:10:15.234320Z",
     "iopub.status.idle": "2024-12-16T16:12:20.452356Z",
     "shell.execute_reply": "2024-12-16T16:12:20.451247Z"
    },
    "papermill": {
     "duration": 125.246852,
     "end_time": "2024-12-16T16:12:20.467688",
     "exception": false,
     "start_time": "2024-12-16T16:10:15.220836",
     "status": "completed"
    },
    "tags": []
   },
   "outputs": [
    {
     "data": {
      "text/html": [
       "<style>#sk-container-id-1 {color: black;background-color: white;}#sk-container-id-1 pre{padding: 0;}#sk-container-id-1 div.sk-toggleable {background-color: white;}#sk-container-id-1 label.sk-toggleable__label {cursor: pointer;display: block;width: 100%;margin-bottom: 0;padding: 0.3em;box-sizing: border-box;text-align: center;}#sk-container-id-1 label.sk-toggleable__label-arrow:before {content: \"▸\";float: left;margin-right: 0.25em;color: #696969;}#sk-container-id-1 label.sk-toggleable__label-arrow:hover:before {color: black;}#sk-container-id-1 div.sk-estimator:hover label.sk-toggleable__label-arrow:before {color: black;}#sk-container-id-1 div.sk-toggleable__content {max-height: 0;max-width: 0;overflow: hidden;text-align: left;background-color: #f0f8ff;}#sk-container-id-1 div.sk-toggleable__content pre {margin: 0.2em;color: black;border-radius: 0.25em;background-color: #f0f8ff;}#sk-container-id-1 input.sk-toggleable__control:checked~div.sk-toggleable__content {max-height: 200px;max-width: 100%;overflow: auto;}#sk-container-id-1 input.sk-toggleable__control:checked~label.sk-toggleable__label-arrow:before {content: \"▾\";}#sk-container-id-1 div.sk-estimator input.sk-toggleable__control:checked~label.sk-toggleable__label {background-color: #d4ebff;}#sk-container-id-1 div.sk-label input.sk-toggleable__control:checked~label.sk-toggleable__label {background-color: #d4ebff;}#sk-container-id-1 input.sk-hidden--visually {border: 0;clip: rect(1px 1px 1px 1px);clip: rect(1px, 1px, 1px, 1px);height: 1px;margin: -1px;overflow: hidden;padding: 0;position: absolute;width: 1px;}#sk-container-id-1 div.sk-estimator {font-family: monospace;background-color: #f0f8ff;border: 1px dotted black;border-radius: 0.25em;box-sizing: border-box;margin-bottom: 0.5em;}#sk-container-id-1 div.sk-estimator:hover {background-color: #d4ebff;}#sk-container-id-1 div.sk-parallel-item::after {content: \"\";width: 100%;border-bottom: 1px solid gray;flex-grow: 1;}#sk-container-id-1 div.sk-label:hover label.sk-toggleable__label {background-color: #d4ebff;}#sk-container-id-1 div.sk-serial::before {content: \"\";position: absolute;border-left: 1px solid gray;box-sizing: border-box;top: 0;bottom: 0;left: 50%;z-index: 0;}#sk-container-id-1 div.sk-serial {display: flex;flex-direction: column;align-items: center;background-color: white;padding-right: 0.2em;padding-left: 0.2em;position: relative;}#sk-container-id-1 div.sk-item {position: relative;z-index: 1;}#sk-container-id-1 div.sk-parallel {display: flex;align-items: stretch;justify-content: center;background-color: white;position: relative;}#sk-container-id-1 div.sk-item::before, #sk-container-id-1 div.sk-parallel-item::before {content: \"\";position: absolute;border-left: 1px solid gray;box-sizing: border-box;top: 0;bottom: 0;left: 50%;z-index: -1;}#sk-container-id-1 div.sk-parallel-item {display: flex;flex-direction: column;z-index: 1;position: relative;background-color: white;}#sk-container-id-1 div.sk-parallel-item:first-child::after {align-self: flex-end;width: 50%;}#sk-container-id-1 div.sk-parallel-item:last-child::after {align-self: flex-start;width: 50%;}#sk-container-id-1 div.sk-parallel-item:only-child::after {width: 0;}#sk-container-id-1 div.sk-dashed-wrapped {border: 1px dashed gray;margin: 0 0.4em 0.5em 0.4em;box-sizing: border-box;padding-bottom: 0.4em;background-color: white;}#sk-container-id-1 div.sk-label label {font-family: monospace;font-weight: bold;display: inline-block;line-height: 1.2em;}#sk-container-id-1 div.sk-label-container {text-align: center;}#sk-container-id-1 div.sk-container {/* jupyter's `normalize.less` sets `[hidden] { display: none; }` but bootstrap.min.css set `[hidden] { display: none !important; }` so we also need the `!important` here to be able to override the default hidden behavior on the sphinx rendered scikit-learn.org. See: https://github.com/scikit-learn/scikit-learn/issues/21755 */display: inline-block !important;position: relative;}#sk-container-id-1 div.sk-text-repr-fallback {display: none;}</style><div id=\"sk-container-id-1\" class=\"sk-top-container\"><div class=\"sk-text-repr-fallback\"><pre>RandomForestClassifier()</pre><b>In a Jupyter environment, please rerun this cell to show the HTML representation or trust the notebook. <br />On GitHub, the HTML representation is unable to render, please try loading this page with nbviewer.org.</b></div><div class=\"sk-container\" hidden><div class=\"sk-item\"><div class=\"sk-estimator sk-toggleable\"><input class=\"sk-toggleable__control sk-hidden--visually\" id=\"sk-estimator-id-1\" type=\"checkbox\" checked><label for=\"sk-estimator-id-1\" class=\"sk-toggleable__label sk-toggleable__label-arrow\">RandomForestClassifier</label><div class=\"sk-toggleable__content\"><pre>RandomForestClassifier()</pre></div></div></div></div></div>"
      ],
      "text/plain": [
       "RandomForestClassifier()"
      ]
     },
     "execution_count": 37,
     "metadata": {},
     "output_type": "execute_result"
    }
   ],
   "source": [
    "from sklearn.ensemble import RandomForestClassifier\n",
    "randomforest_clf = RandomForestClassifier()\n",
    "randomforest_clf.fit(X_train_tfidf, y_train)"
   ]
  },
  {
   "cell_type": "code",
   "execution_count": 38,
   "id": "06ee566d",
   "metadata": {
    "execution": {
     "iopub.execute_input": "2024-12-16T16:12:20.495133Z",
     "iopub.status.busy": "2024-12-16T16:12:20.494215Z",
     "iopub.status.idle": "2024-12-16T16:12:23.718698Z",
     "shell.execute_reply": "2024-12-16T16:12:23.717507Z"
    },
    "papermill": {
     "duration": 3.240572,
     "end_time": "2024-12-16T16:12:23.720773",
     "exception": false,
     "start_time": "2024-12-16T16:12:20.480201",
     "status": "completed"
    },
    "tags": []
   },
   "outputs": [
    {
     "name": "stdout",
     "output_type": "stream",
     "text": [
      "-------------------> Random Forest\n",
      "Accuracy: 0.73\n",
      "F1-Score for each class:\n",
      "Positive: 0.71\n",
      "Negative: 0.74\n",
      "\n",
      "Classification Report:\n",
      "              precision    recall  f1-score   support\n",
      "\n",
      "    Positive       0.77      0.66      0.71      3443\n",
      "    Negative       0.69      0.79      0.74      3322\n",
      "\n",
      "    accuracy                           0.73      6765\n",
      "   macro avg       0.73      0.73      0.72      6765\n",
      "weighted avg       0.73      0.73      0.72      6765\n",
      "\n"
     ]
    },
    {
     "data": {
      "image/png": "[encoded data removed]",
      "text/plain": [
       "<Figure size 800x600 with 2 Axes>"
      ]
     },
     "metadata": {},
     "output_type": "display_data"
    }
   ],
   "source": [
    "y_hat = randomforest_clf.predict(X_test_tfidf) \n",
    "about_model(\"Random Forest\" , y_test, y_hat)"
   ]
  },
  {
   "cell_type": "markdown",
   "id": "efb5fa6d",
   "metadata": {
    "papermill": {
     "duration": 0.012779,
     "end_time": "2024-12-16T16:12:23.746613",
     "exception": false,
     "start_time": "2024-12-16T16:12:23.733834",
     "status": "completed"
    },
    "tags": []
   },
   "source": [
    "### Tuned Random Forest"
   ]
  },
  {
   "cell_type": "code",
   "execution_count": 39,
   "id": "9cd58da0",
   "metadata": {
    "execution": {
     "iopub.execute_input": "2024-12-16T16:12:23.774013Z",
     "iopub.status.busy": "2024-12-16T16:12:23.773564Z",
     "iopub.status.idle": "2024-12-16T21:58:46.396019Z",
     "shell.execute_reply": "2024-12-16T21:58:46.394542Z"
    },
    "papermill": {
     "duration": 20782.651782,
     "end_time": "2024-12-16T21:58:46.411208",
     "exception": false,
     "start_time": "2024-12-16T16:12:23.759426",
     "status": "completed"
    },
    "tags": []
   },
   "outputs": [
    {
     "name": "stdout",
     "output_type": "stream",
     "text": [
      "Fitting 5 folds for each of 108 candidates, totalling 540 fits\n"
     ]
    },
    {
     "data": {
      "text/plain": [
       "{'criterion': 'entropy',\n",
       " 'max_depth': None,\n",
       " 'max_features': 'log2',\n",
       " 'min_samples_split': 10,\n",
       " 'n_estimators': 200}"
      ]
     },
     "execution_count": 39,
     "metadata": {},
     "output_type": "execute_result"
    }
   ],
   "source": [
    "param_grid_ = {\n",
    "    'n_estimators': [10, 100, 200],\n",
    "    'max_features': ['sqrt', 'log2'],\n",
    "    'criterion': ['gini', 'entropy'], \n",
    "    'max_depth': [None, 10, 20],      \n",
    "    'min_samples_split': [2, 5, 10]   \n",
    "}\n",
    "\n",
    "randomforest_clf = GridSearchCV(estimator=RandomForestClassifier(n_jobs=-1),\n",
    "                                param_grid=param_grid_, \n",
    "                                cv=5, verbose=1 , \n",
    "                                scoring='accuracy',\n",
    "                                n_jobs=-1)\n",
    "randomforest_clf.fit(X_train_tfidf, y_train)\n",
    "randomforest_clf.best_params_\n"
   ]
  },
  {
   "cell_type": "code",
   "execution_count": 40,
   "id": "0f6ca6fc",
   "metadata": {
    "execution": {
     "iopub.execute_input": "2024-12-16T21:58:46.441066Z",
     "iopub.status.busy": "2024-12-16T21:58:46.440623Z",
     "iopub.status.idle": "2024-12-16T21:58:52.249201Z",
     "shell.execute_reply": "2024-12-16T21:58:52.247890Z"
    },
    "papermill": {
     "duration": 5.826581,
     "end_time": "2024-12-16T21:58:52.251630",
     "exception": false,
     "start_time": "2024-12-16T21:58:46.425049",
     "status": "completed"
    },
    "tags": []
   },
   "outputs": [
    {
     "name": "stdout",
     "output_type": "stream",
     "text": [
      "-------------------> Tuned Random Forest\n",
      "Accuracy: 0.75\n",
      "F1-Score for each class:\n",
      "Positive: 0.74\n",
      "Negative: 0.75\n",
      "\n",
      "Classification Report:\n",
      "              precision    recall  f1-score   support\n",
      "\n",
      "    Positive       0.78      0.70      0.74      3443\n",
      "    Negative       0.72      0.79      0.75      3322\n",
      "\n",
      "    accuracy                           0.75      6765\n",
      "   macro avg       0.75      0.75      0.75      6765\n",
      "weighted avg       0.75      0.75      0.75      6765\n",
      "\n"
     ]
    },
    {
     "data": {
      "image/png": "[encoded data removed]",
      "text/plain": [
       "<Figure size 800x600 with 2 Axes>"
      ]
     },
     "metadata": {},
     "output_type": "display_data"
    }
   ],
   "source": [
    "y_hat = randomforest_clf.predict(X_test_tfidf)\n",
    "about_model(\"Tuned Random Forest\" , y_test , y_hat)"
   ]
  },
  {
   "cell_type": "markdown",
   "id": "577bba1c",
   "metadata": {
    "papermill": {
     "duration": 0.014577,
     "end_time": "2024-12-16T21:58:52.282055",
     "exception": false,
     "start_time": "2024-12-16T21:58:52.267478",
     "status": "completed"
    },
    "tags": []
   },
   "source": [
    "### SVM"
   ]
  },
  {
   "cell_type": "code",
   "execution_count": 41,
   "id": "dff01e02",
   "metadata": {
    "execution": {
     "iopub.execute_input": "2024-12-16T21:58:52.313583Z",
     "iopub.status.busy": "2024-12-16T21:58:52.313193Z",
     "iopub.status.idle": "2024-12-16T22:12:08.062090Z",
     "shell.execute_reply": "2024-12-16T22:12:08.060352Z"
    },
    "papermill": {
     "duration": 795.784801,
     "end_time": "2024-12-16T22:12:08.082252",
     "exception": false,
     "start_time": "2024-12-16T21:58:52.297451",
     "status": "completed"
    },
    "tags": []
   },
   "outputs": [
    {
     "data": {
      "text/html": [
       "<style>#sk-container-id-2 {color: black;background-color: white;}#sk-container-id-2 pre{padding: 0;}#sk-container-id-2 div.sk-toggleable {background-color: white;}#sk-container-id-2 label.sk-toggleable__label {cursor: pointer;display: block;width: 100%;margin-bottom: 0;padding: 0.3em;box-sizing: border-box;text-align: center;}#sk-container-id-2 label.sk-toggleable__label-arrow:before {content: \"▸\";float: left;margin-right: 0.25em;color: #696969;}#sk-container-id-2 label.sk-toggleable__label-arrow:hover:before {color: black;}#sk-container-id-2 div.sk-estimator:hover label.sk-toggleable__label-arrow:before {color: black;}#sk-container-id-2 div.sk-toggleable__content {max-height: 0;max-width: 0;overflow: hidden;text-align: left;background-color: #f0f8ff;}#sk-container-id-2 div.sk-toggleable__content pre {margin: 0.2em;color: black;border-radius: 0.25em;background-color: #f0f8ff;}#sk-container-id-2 input.sk-toggleable__control:checked~div.sk-toggleable__content {max-height: 200px;max-width: 100%;overflow: auto;}#sk-container-id-2 input.sk-toggleable__control:checked~label.sk-toggleable__label-arrow:before {content: \"▾\";}#sk-container-id-2 div.sk-estimator input.sk-toggleable__control:checked~label.sk-toggleable__label {background-color: #d4ebff;}#sk-container-id-2 div.sk-label input.sk-toggleable__control:checked~label.sk-toggleable__label {background-color: #d4ebff;}#sk-container-id-2 input.sk-hidden--visually {border: 0;clip: rect(1px 1px 1px 1px);clip: rect(1px, 1px, 1px, 1px);height: 1px;margin: -1px;overflow: hidden;padding: 0;position: absolute;width: 1px;}#sk-container-id-2 div.sk-estimator {font-family: monospace;background-color: #f0f8ff;border: 1px dotted black;border-radius: 0.25em;box-sizing: border-box;margin-bottom: 0.5em;}#sk-container-id-2 div.sk-estimator:hover {background-color: #d4ebff;}#sk-container-id-2 div.sk-parallel-item::after {content: \"\";width: 100%;border-bottom: 1px solid gray;flex-grow: 1;}#sk-container-id-2 div.sk-label:hover label.sk-toggleable__label {background-color: #d4ebff;}#sk-container-id-2 div.sk-serial::before {content: \"\";position: absolute;border-left: 1px solid gray;box-sizing: border-box;top: 0;bottom: 0;left: 50%;z-index: 0;}#sk-container-id-2 div.sk-serial {display: flex;flex-direction: column;align-items: center;background-color: white;padding-right: 0.2em;padding-left: 0.2em;position: relative;}#sk-container-id-2 div.sk-item {position: relative;z-index: 1;}#sk-container-id-2 div.sk-parallel {display: flex;align-items: stretch;justify-content: center;background-color: white;position: relative;}#sk-container-id-2 div.sk-item::before, #sk-container-id-2 div.sk-parallel-item::before {content: \"\";position: absolute;border-left: 1px solid gray;box-sizing: border-box;top: 0;bottom: 0;left: 50%;z-index: -1;}#sk-container-id-2 div.sk-parallel-item {display: flex;flex-direction: column;z-index: 1;position: relative;background-color: white;}#sk-container-id-2 div.sk-parallel-item:first-child::after {align-self: flex-end;width: 50%;}#sk-container-id-2 div.sk-parallel-item:last-child::after {align-self: flex-start;width: 50%;}#sk-container-id-2 div.sk-parallel-item:only-child::after {width: 0;}#sk-container-id-2 div.sk-dashed-wrapped {border: 1px dashed gray;margin: 0 0.4em 0.5em 0.4em;box-sizing: border-box;padding-bottom: 0.4em;background-color: white;}#sk-container-id-2 div.sk-label label {font-family: monospace;font-weight: bold;display: inline-block;line-height: 1.2em;}#sk-container-id-2 div.sk-label-container {text-align: center;}#sk-container-id-2 div.sk-container {/* jupyter's `normalize.less` sets `[hidden] { display: none; }` but bootstrap.min.css set `[hidden] { display: none !important; }` so we also need the `!important` here to be able to override the default hidden behavior on the sphinx rendered scikit-learn.org. See: https://github.com/scikit-learn/scikit-learn/issues/21755 */display: inline-block !important;position: relative;}#sk-container-id-2 div.sk-text-repr-fallback {display: none;}</style><div id=\"sk-container-id-2\" class=\"sk-top-container\"><div class=\"sk-text-repr-fallback\"><pre>SVC(probability=True)</pre><b>In a Jupyter environment, please rerun this cell to show the HTML representation or trust the notebook. <br />On GitHub, the HTML representation is unable to render, please try loading this page with nbviewer.org.</b></div><div class=\"sk-container\" hidden><div class=\"sk-item\"><div class=\"sk-estimator sk-toggleable\"><input class=\"sk-toggleable__control sk-hidden--visually\" id=\"sk-estimator-id-2\" type=\"checkbox\" checked><label for=\"sk-estimator-id-2\" class=\"sk-toggleable__label sk-toggleable__label-arrow\">SVC</label><div class=\"sk-toggleable__content\"><pre>SVC(probability=True)</pre></div></div></div></div></div>"
      ],
      "text/plain": [
       "SVC(probability=True)"
      ]
     },
     "execution_count": 41,
     "metadata": {},
     "output_type": "execute_result"
    }
   ],
   "source": [
    "from sklearn.svm import SVC\n",
    "svm_clf = SVC(probability=True)\n",
    "svm_clf.fit(X_train_tfidf, y_train)"
   ]
  },
  {
   "cell_type": "code",
   "execution_count": 42,
   "id": "ed8ac03d",
   "metadata": {
    "execution": {
     "iopub.execute_input": "2024-12-16T22:12:08.113502Z",
     "iopub.status.busy": "2024-12-16T22:12:08.113110Z",
     "iopub.status.idle": "2024-12-16T22:12:20.803199Z",
     "shell.execute_reply": "2024-12-16T22:12:20.802090Z"
    },
    "papermill": {
     "duration": 12.708002,
     "end_time": "2024-12-16T22:12:20.805479",
     "exception": false,
     "start_time": "2024-12-16T22:12:08.097477",
     "status": "completed"
    },
    "tags": []
   },
   "outputs": [
    {
     "name": "stdout",
     "output_type": "stream",
     "text": [
      "-------------------> SVM\n",
      "Accuracy: 0.77\n",
      "F1-Score for each class:\n",
      "Positive: 0.78\n",
      "Negative: 0.76\n",
      "\n",
      "Classification Report:\n",
      "              precision    recall  f1-score   support\n",
      "\n",
      "    Positive       0.76      0.79      0.78      3443\n",
      "    Negative       0.77      0.74      0.76      3322\n",
      "\n",
      "    accuracy                           0.77      6765\n",
      "   macro avg       0.77      0.77      0.77      6765\n",
      "weighted avg       0.77      0.77      0.77      6765\n",
      "\n"
     ]
    },
    {
     "data": {
      "image/png": "[encoded data removed]",
      "text/plain": [
       "<Figure size 800x600 with 2 Axes>"
      ]
     },
     "metadata": {},
     "output_type": "display_data"
    }
   ],
   "source": [
    "y_hat = svm_clf.predict(X_test_tfidf) \n",
    "about_model(\"SVM\" , y_test, y_hat)"
   ]
  },
  {
   "cell_type": "markdown",
   "id": "7c0147cc",
   "metadata": {
    "papermill": {
     "duration": 0.01501,
     "end_time": "2024-12-16T22:12:20.836072",
     "exception": false,
     "start_time": "2024-12-16T22:12:20.821062",
     "status": "completed"
    },
    "tags": []
   },
   "source": [
    "### Tuned SVM"
   ]
  },
  {
   "cell_type": "code",
   "execution_count": 43,
   "id": "c11aa230",
   "metadata": {
    "execution": {
     "iopub.execute_input": "2024-12-16T22:12:20.868941Z",
     "iopub.status.busy": "2024-12-16T22:12:20.868490Z",
     "iopub.status.idle": "2024-12-17T01:54:43.725265Z",
     "shell.execute_reply": "2024-12-17T01:54:43.724088Z"
    },
    "papermill": {
     "duration": 13342.889224,
     "end_time": "2024-12-17T01:54:43.740745",
     "exception": false,
     "start_time": "2024-12-16T22:12:20.851521",
     "status": "completed"
    },
    "tags": []
   },
   "outputs": [
    {
     "name": "stdout",
     "output_type": "stream",
     "text": [
      "Fitting 5 folds for each of 75 candidates, totalling 375 fits\n"
     ]
    },
    {
     "data": {
      "text/plain": [
       "{'C': 5, 'gamma': 1, 'kernel': 'rbf'}"
      ]
     },
     "execution_count": 43,
     "metadata": {},
     "output_type": "execute_result"
    }
   ],
   "source": [
    "param_grid_ = {'kernel': ['rbf', 'linear', 'poly'],\n",
    "             'gamma': [0.01 , 0.1, 1, 10, 100],\n",
    "             'C': [0.1, 1,5, 10, 100]}\n",
    "svm_grid = GridSearchCV(estimator=SVC(), \n",
    "                        param_grid=param_grid_, \n",
    "                        cv=5, verbose=1 , \n",
    "                        scoring='accuracy' , \n",
    "                        n_jobs=-1)\n",
    "svm_grid.fit(X_train_tfidf, y_train)\n",
    "svm_grid.best_params_\n"
   ]
  },
  {
   "cell_type": "code",
   "execution_count": 44,
   "id": "b867d8c3",
   "metadata": {
    "execution": {
     "iopub.execute_input": "2024-12-17T01:54:43.771588Z",
     "iopub.status.busy": "2024-12-17T01:54:43.771195Z",
     "iopub.status.idle": "2024-12-17T01:54:54.866146Z",
     "shell.execute_reply": "2024-12-17T01:54:54.865148Z"
    },
    "papermill": {
     "duration": 11.113189,
     "end_time": "2024-12-17T01:54:54.868413",
     "exception": false,
     "start_time": "2024-12-17T01:54:43.755224",
     "status": "completed"
    },
    "tags": []
   },
   "outputs": [
    {
     "name": "stdout",
     "output_type": "stream",
     "text": [
      "-------------------> Tuned SVM\n",
      "Accuracy: 0.76\n",
      "F1-Score for each class:\n",
      "Positive: 0.77\n",
      "Negative: 0.76\n",
      "\n",
      "Classification Report:\n",
      "              precision    recall  f1-score   support\n",
      "\n",
      "    Positive       0.77      0.76      0.77      3443\n",
      "    Negative       0.76      0.76      0.76      3322\n",
      "\n",
      "    accuracy                           0.76      6765\n",
      "   macro avg       0.76      0.76      0.76      6765\n",
      "weighted avg       0.76      0.76      0.76      6765\n",
      "\n"
     ]
    },
    {
     "data": {
      "image/png": "[encoded data removed]",
      "text/plain": [
       "<Figure size 800x600 with 2 Axes>"
      ]
     },
     "metadata": {},
     "output_type": "display_data"
    }
   ],
   "source": [
    "y_hat = svm_grid.predict(X_test_tfidf)\n",
    "about_model(\"Tuned SVM\", y_test , y_hat) "
   ]
  },
  {
   "cell_type": "markdown",
   "id": "5f06ed31",
   "metadata": {
    "papermill": {
     "duration": 0.014678,
     "end_time": "2024-12-17T01:54:54.898425",
     "exception": false,
     "start_time": "2024-12-17T01:54:54.883747",
     "status": "completed"
    },
    "tags": []
   },
   "source": [
    "### lightgbm"
   ]
  },
  {
   "cell_type": "code",
   "execution_count": 45,
   "id": "cb911c11",
   "metadata": {
    "execution": {
     "iopub.execute_input": "2024-12-17T01:54:54.931472Z",
     "iopub.status.busy": "2024-12-17T01:54:54.930650Z",
     "iopub.status.idle": "2024-12-17T01:54:58.547794Z",
     "shell.execute_reply": "2024-12-17T01:54:58.546560Z"
    },
    "papermill": {
     "duration": 3.636838,
     "end_time": "2024-12-17T01:54:58.550204",
     "exception": false,
     "start_time": "2024-12-17T01:54:54.913366",
     "status": "completed"
    },
    "tags": []
   },
   "outputs": [],
   "source": [
    "import lightgbm as lgb\n",
    "d_train = lgb.Dataset(X_train_tfidf, label=y_train)\n",
    "d_test = lgb.Dataset(X_test_tfidf, label=y_test, reference=d_train)\n",
    "\n",
    "params = {\n",
    "    'objective': 'binary',  \n",
    "    'boosting_type': 'gbdt',\n",
    "    'metric': 'binary_logloss', \n",
    "    'num_leaves': 31,\n",
    "    'learning_rate': 0.1,\n",
    "    'verbose': 0\n",
    "}\n",
    "\n",
    "model = lgb.train(params, d_train, num_boost_round=100, valid_sets=[d_train, d_test])"
   ]
  },
  {
   "cell_type": "code",
   "execution_count": 46,
   "id": "40f89b20",
   "metadata": {
    "execution": {
     "iopub.execute_input": "2024-12-17T01:54:58.583489Z",
     "iopub.status.busy": "2024-12-17T01:54:58.582697Z",
     "iopub.status.idle": "2024-12-17T01:54:58.945352Z",
     "shell.execute_reply": "2024-12-17T01:54:58.944111Z"
    },
    "papermill": {
     "duration": 0.381845,
     "end_time": "2024-12-17T01:54:58.947512",
     "exception": false,
     "start_time": "2024-12-17T01:54:58.565667",
     "status": "completed"
    },
    "tags": []
   },
   "outputs": [
    {
     "name": "stdout",
     "output_type": "stream",
     "text": [
      "-------------------> lightgbm\n",
      "Accuracy: 0.70\n",
      "F1-Score for each class:\n",
      "Positive: 0.65\n",
      "Negative: 0.73\n",
      "\n",
      "Classification Report:\n",
      "              precision    recall  f1-score   support\n",
      "\n",
      "    Positive       0.78      0.56      0.65      3443\n",
      "    Negative       0.65      0.84      0.73      3322\n",
      "\n",
      "    accuracy                           0.70      6765\n",
      "   macro avg       0.71      0.70      0.69      6765\n",
      "weighted avg       0.72      0.70      0.69      6765\n",
      "\n"
     ]
    },
    {
     "data": {
      "image/png": "[encoded data removed]",
      "text/plain": [
       "<Figure size 800x600 with 2 Axes>"
      ]
     },
     "metadata": {},
     "output_type": "display_data"
    }
   ],
   "source": [
    "y_hat = model.predict(X_test_tfidf)\n",
    "y_hat = (y_hat > 0.5).astype(int)\n",
    "about_model(\"lightgbm\", y_test, y_hat)\n"
   ]
  },
  {
   "cell_type": "markdown",
   "id": "563389cc",
   "metadata": {
    "papermill": {
     "duration": 0.016518,
     "end_time": "2024-12-17T01:54:58.980774",
     "exception": false,
     "start_time": "2024-12-17T01:54:58.964256",
     "status": "completed"
    },
    "tags": []
   },
   "source": [
    "### Tuned lightgbm"
   ]
  },
  {
   "cell_type": "code",
   "execution_count": 47,
   "id": "1edd893b",
   "metadata": {
    "execution": {
     "iopub.execute_input": "2024-12-17T01:54:59.016217Z",
     "iopub.status.busy": "2024-12-17T01:54:59.015696Z",
     "iopub.status.idle": "2024-12-17T01:58:24.073244Z",
     "shell.execute_reply": "2024-12-17T01:58:24.072067Z"
    },
    "papermill": {
     "duration": 205.077556,
     "end_time": "2024-12-17T01:58:24.075249",
     "exception": false,
     "start_time": "2024-12-17T01:54:58.997693",
     "status": "completed"
    },
    "tags": []
   },
   "outputs": [
    {
     "name": "stdout",
     "output_type": "stream",
     "text": [
      "[LightGBM] [Info] Number of positive: 10629, number of negative: 11015\n",
      "[LightGBM] [Info] Auto-choosing col-wise multi-threading, the overhead of testing was 0.122632 seconds.\n",
      "You can set `force_col_wise=true` to remove the overhead.\n",
      "[LightGBM] [Info] Total Bins 11656\n",
      "[LightGBM] [Info] Number of data points in the train set: 21644, number of used features: 591\n",
      "[LightGBM] [Info] [binary:BoostFromScore]: pavg=0.491083 -> initscore=-0.035672\n",
      "[LightGBM] [Info] Start training from score -0.035672\n",
      "[LightGBM] [Info] Number of positive: 10630, number of negative: 11015\n",
      "[LightGBM] [Info] Auto-choosing col-wise multi-threading, the overhead of testing was 0.076429 seconds.\n",
      "You can set `force_col_wise=true` to remove the overhead.\n",
      "[LightGBM] [Info] Total Bins 11743\n",
      "[LightGBM] [Info] Number of data points in the train set: 21645, number of used features: 597\n",
      "[LightGBM] [Info] [binary:BoostFromScore]: pavg=0.491106 -> initscore=-0.035578\n",
      "[LightGBM] [Info] Start training from score -0.035578\n",
      "[LightGBM] [Info] Number of positive: 10630, number of negative: 11015\n",
      "[LightGBM] [Info] Auto-choosing row-wise multi-threading, the overhead of testing was 0.077513 seconds.\n",
      "You can set `force_row_wise=true` to remove the overhead.\n",
      "And if memory is not enough, you can set `force_col_wise=true`.\n",
      "[LightGBM] [Info] Total Bins 11643\n",
      "[LightGBM] [Info] Number of data points in the train set: 21645, number of used features: 590\n",
      "[LightGBM] [Info] [binary:BoostFromScore]: pavg=0.491106 -> initscore=-0.035578\n",
      "[LightGBM] [Info] Start training from score -0.035578\n",
      "[LightGBM] [Info] Number of positive: 10630, number of negative: 11015\n",
      "[LightGBM] [Info] Auto-choosing row-wise multi-threading, the overhead of testing was 0.076186 seconds.\n",
      "You can set `force_row_wise=true` to remove the overhead.\n",
      "And if memory is not enough, you can set `force_col_wise=true`.\n",
      "[LightGBM] [Info] Total Bins 11622\n",
      "[LightGBM] [Info] Number of data points in the train set: 21645, number of used features: 587\n",
      "[LightGBM] [Info] [binary:BoostFromScore]: pavg=0.491106 -> initscore=-0.035578\n",
      "[LightGBM] [Info] Start training from score -0.035578\n",
      "[LightGBM] [Info] Number of positive: 10629, number of negative: 11016\n",
      "[LightGBM] [Info] Auto-choosing row-wise multi-threading, the overhead of testing was 0.078208 seconds.\n",
      "You can set `force_row_wise=true` to remove the overhead.\n",
      "And if memory is not enough, you can set `force_col_wise=true`.\n",
      "[LightGBM] [Info] Total Bins 11731\n",
      "[LightGBM] [Info] Number of data points in the train set: 21645, number of used features: 599\n",
      "[LightGBM] [Info] [binary:BoostFromScore]: pavg=0.491060 -> initscore=-0.035763\n",
      "[LightGBM] [Info] Start training from score -0.035763\n",
      "[LightGBM] [Info] Number of positive: 10629, number of negative: 11015\n",
      "[LightGBM] [Info] Auto-choosing col-wise multi-threading, the overhead of testing was 0.076011 seconds.\n",
      "You can set `force_col_wise=true` to remove the overhead.\n",
      "[LightGBM] [Info] Total Bins 11656\n",
      "[LightGBM] [Info] Number of data points in the train set: 21644, number of used features: 591\n",
      "[LightGBM] [Info] [binary:BoostFromScore]: pavg=0.491083 -> initscore=-0.035672\n",
      "[LightGBM] [Info] Start training from score -0.035672\n",
      "[LightGBM] [Info] Number of positive: 10630, number of negative: 11015\n",
      "[LightGBM] [Info] Auto-choosing row-wise multi-threading, the overhead of testing was 0.077195 seconds.\n",
      "You can set `force_row_wise=true` to remove the overhead.\n",
      "And if memory is not enough, you can set `force_col_wise=true`.\n",
      "[LightGBM] [Info] Total Bins 11743\n",
      "[LightGBM] [Info] Number of data points in the train set: 21645, number of used features: 597\n",
      "[LightGBM] [Info] [binary:BoostFromScore]: pavg=0.491106 -> initscore=-0.035578\n",
      "[LightGBM] [Info] Start training from score -0.035578\n",
      "[LightGBM] [Info] Number of positive: 10630, number of negative: 11015\n",
      "[LightGBM] [Info] Auto-choosing row-wise multi-threading, the overhead of testing was 0.076349 seconds.\n",
      "You can set `force_row_wise=true` to remove the overhead.\n",
      "And if memory is not enough, you can set `force_col_wise=true`.\n",
      "[LightGBM] [Info] Total Bins 11643\n",
      "[LightGBM] [Info] Number of data points in the train set: 21645, number of used features: 590\n",
      "[LightGBM] [Info] [binary:BoostFromScore]: pavg=0.491106 -> initscore=-0.035578\n",
      "[LightGBM] [Info] Start training from score -0.035578\n",
      "[LightGBM] [Info] Number of positive: 10630, number of negative: 11015\n",
      "[LightGBM] [Info] Auto-choosing row-wise multi-threading, the overhead of testing was 0.076136 seconds.\n",
      "You can set `force_row_wise=true` to remove the overhead.\n",
      "And if memory is not enough, you can set `force_col_wise=true`.\n",
      "[LightGBM] [Info] Total Bins 11622\n",
      "[LightGBM] [Info] Number of data points in the train set: 21645, number of used features: 587\n",
      "[LightGBM] [Info] [binary:BoostFromScore]: pavg=0.491106 -> initscore=-0.035578\n",
      "[LightGBM] [Info] Start training from score -0.035578\n",
      "[LightGBM] [Info] Number of positive: 10629, number of negative: 11016\n",
      "[LightGBM] [Info] Auto-choosing row-wise multi-threading, the overhead of testing was 0.078492 seconds.\n",
      "You can set `force_row_wise=true` to remove the overhead.\n",
      "And if memory is not enough, you can set `force_col_wise=true`.\n",
      "[LightGBM] [Info] Total Bins 11731\n",
      "[LightGBM] [Info] Number of data points in the train set: 21645, number of used features: 599\n",
      "[LightGBM] [Info] [binary:BoostFromScore]: pavg=0.491060 -> initscore=-0.035763\n",
      "[LightGBM] [Info] Start training from score -0.035763\n",
      "[LightGBM] [Info] Number of positive: 10629, number of negative: 11015\n",
      "[LightGBM] [Info] Auto-choosing col-wise multi-threading, the overhead of testing was 0.076305 seconds.\n",
      "You can set `force_col_wise=true` to remove the overhead.\n",
      "[LightGBM] [Info] Total Bins 11656\n",
      "[LightGBM] [Info] Number of data points in the train set: 21644, number of used features: 591\n",
      "[LightGBM] [Info] [binary:BoostFromScore]: pavg=0.491083 -> initscore=-0.035672\n",
      "[LightGBM] [Info] Start training from score -0.035672\n",
      "[LightGBM] [Info] Number of positive: 10630, number of negative: 11015\n",
      "[LightGBM] [Info] Auto-choosing row-wise multi-threading, the overhead of testing was 0.077628 seconds.\n",
      "You can set `force_row_wise=true` to remove the overhead.\n",
      "And if memory is not enough, you can set `force_col_wise=true`.\n",
      "[LightGBM] [Info] Total Bins 11743\n",
      "[LightGBM] [Info] Number of data points in the train set: 21645, number of used features: 597\n",
      "[LightGBM] [Info] [binary:BoostFromScore]: pavg=0.491106 -> initscore=-0.035578\n",
      "[LightGBM] [Info] Start training from score -0.035578\n",
      "[LightGBM] [Info] Number of positive: 10630, number of negative: 11015\n",
      "[LightGBM] [Info] Auto-choosing col-wise multi-threading, the overhead of testing was 0.075208 seconds.\n",
      "You can set `force_col_wise=true` to remove the overhead.\n",
      "[LightGBM] [Info] Total Bins 11643\n",
      "[LightGBM] [Info] Number of data points in the train set: 21645, number of used features: 590\n",
      "[LightGBM] [Info] [binary:BoostFromScore]: pavg=0.491106 -> initscore=-0.035578\n",
      "[LightGBM] [Info] Start training from score -0.035578\n",
      "[LightGBM] [Info] Number of positive: 10630, number of negative: 11015\n",
      "[LightGBM] [Info] Auto-choosing row-wise multi-threading, the overhead of testing was 0.075936 seconds.\n",
      "You can set `force_row_wise=true` to remove the overhead.\n",
      "And if memory is not enough, you can set `force_col_wise=true`.\n",
      "[LightGBM] [Info] Total Bins 11622\n",
      "[LightGBM] [Info] Number of data points in the train set: 21645, number of used features: 587\n",
      "[LightGBM] [Info] [binary:BoostFromScore]: pavg=0.491106 -> initscore=-0.035578\n",
      "[LightGBM] [Info] Start training from score -0.035578\n",
      "[LightGBM] [Info] Number of positive: 10629, number of negative: 11016\n",
      "[LightGBM] [Info] Auto-choosing row-wise multi-threading, the overhead of testing was 0.077458 seconds.\n",
      "You can set `force_row_wise=true` to remove the overhead.\n",
      "And if memory is not enough, you can set `force_col_wise=true`.\n",
      "[LightGBM] [Info] Total Bins 11731\n",
      "[LightGBM] [Info] Number of data points in the train set: 21645, number of used features: 599\n",
      "[LightGBM] [Info] [binary:BoostFromScore]: pavg=0.491060 -> initscore=-0.035763\n",
      "[LightGBM] [Info] Start training from score -0.035763\n",
      "[LightGBM] [Info] Number of positive: 10629, number of negative: 11015\n",
      "[LightGBM] [Info] Auto-choosing col-wise multi-threading, the overhead of testing was 0.075833 seconds.\n",
      "You can set `force_col_wise=true` to remove the overhead.\n",
      "[LightGBM] [Info] Total Bins 11656\n",
      "[LightGBM] [Info] Number of data points in the train set: 21644, number of used features: 591\n",
      "[LightGBM] [Info] [binary:BoostFromScore]: pavg=0.491083 -> initscore=-0.035672\n",
      "[LightGBM] [Info] Start training from score -0.035672\n",
      "[LightGBM] [Info] Number of positive: 10630, number of negative: 11015\n",
      "[LightGBM] [Info] Auto-choosing col-wise multi-threading, the overhead of testing was 0.076985 seconds.\n",
      "You can set `force_col_wise=true` to remove the overhead.\n",
      "[LightGBM] [Info] Total Bins 11743\n",
      "[LightGBM] [Info] Number of data points in the train set: 21645, number of used features: 597\n",
      "[LightGBM] [Info] [binary:BoostFromScore]: pavg=0.491106 -> initscore=-0.035578\n",
      "[LightGBM] [Info] Start training from score -0.035578\n",
      "[LightGBM] [Info] Number of positive: 10630, number of negative: 11015\n",
      "[LightGBM] [Info] Auto-choosing row-wise multi-threading, the overhead of testing was 0.076960 seconds.\n",
      "You can set `force_row_wise=true` to remove the overhead.\n",
      "And if memory is not enough, you can set `force_col_wise=true`.\n",
      "[LightGBM] [Info] Total Bins 11643\n",
      "[LightGBM] [Info] Number of data points in the train set: 21645, number of used features: 590\n",
      "[LightGBM] [Info] [binary:BoostFromScore]: pavg=0.491106 -> initscore=-0.035578\n",
      "[LightGBM] [Info] Start training from score -0.035578\n",
      "[LightGBM] [Info] Number of positive: 10630, number of negative: 11015\n",
      "[LightGBM] [Info] Auto-choosing col-wise multi-threading, the overhead of testing was 0.075309 seconds.\n",
      "You can set `force_col_wise=true` to remove the overhead.\n",
      "[LightGBM] [Info] Total Bins 11622\n",
      "[LightGBM] [Info] Number of data points in the train set: 21645, number of used features: 587\n",
      "[LightGBM] [Info] [binary:BoostFromScore]: pavg=0.491106 -> initscore=-0.035578\n",
      "[LightGBM] [Info] Start training from score -0.035578\n",
      "[LightGBM] [Info] Number of positive: 10629, number of negative: 11016\n",
      "[LightGBM] [Info] Auto-choosing col-wise multi-threading, the overhead of testing was 0.076525 seconds.\n",
      "You can set `force_col_wise=true` to remove the overhead.\n",
      "[LightGBM] [Info] Total Bins 11731\n",
      "[LightGBM] [Info] Number of data points in the train set: 21645, number of used features: 599\n",
      "[LightGBM] [Info] [binary:BoostFromScore]: pavg=0.491060 -> initscore=-0.035763\n",
      "[LightGBM] [Info] Start training from score -0.035763\n",
      "[LightGBM] [Info] Number of positive: 10629, number of negative: 11015\n",
      "[LightGBM] [Info] Auto-choosing row-wise multi-threading, the overhead of testing was 0.076476 seconds.\n",
      "You can set `force_row_wise=true` to remove the overhead.\n",
      "And if memory is not enough, you can set `force_col_wise=true`.\n",
      "[LightGBM] [Info] Total Bins 11656\n",
      "[LightGBM] [Info] Number of data points in the train set: 21644, number of used features: 591\n",
      "[LightGBM] [Info] [binary:BoostFromScore]: pavg=0.491083 -> initscore=-0.035672\n",
      "[LightGBM] [Info] Start training from score -0.035672\n",
      "[LightGBM] [Info] Number of positive: 10630, number of negative: 11015\n",
      "[LightGBM] [Info] Auto-choosing row-wise multi-threading, the overhead of testing was 0.076970 seconds.\n",
      "You can set `force_row_wise=true` to remove the overhead.\n",
      "And if memory is not enough, you can set `force_col_wise=true`.\n",
      "[LightGBM] [Info] Total Bins 11743\n",
      "[LightGBM] [Info] Number of data points in the train set: 21645, number of used features: 597\n",
      "[LightGBM] [Info] [binary:BoostFromScore]: pavg=0.491106 -> initscore=-0.035578\n",
      "[LightGBM] [Info] Start training from score -0.035578\n",
      "[LightGBM] [Info] Number of positive: 10630, number of negative: 11015\n",
      "[LightGBM] [Info] Auto-choosing row-wise multi-threading, the overhead of testing was 0.077770 seconds.\n",
      "You can set `force_row_wise=true` to remove the overhead.\n",
      "And if memory is not enough, you can set `force_col_wise=true`.\n",
      "[LightGBM] [Info] Total Bins 11643\n",
      "[LightGBM] [Info] Number of data points in the train set: 21645, number of used features: 590\n",
      "[LightGBM] [Info] [binary:BoostFromScore]: pavg=0.491106 -> initscore=-0.035578\n",
      "[LightGBM] [Info] Start training from score -0.035578\n",
      "[LightGBM] [Info] Number of positive: 10630, number of negative: 11015\n",
      "[LightGBM] [Info] Auto-choosing col-wise multi-threading, the overhead of testing was 0.074564 seconds.\n",
      "You can set `force_col_wise=true` to remove the overhead.\n",
      "[LightGBM] [Info] Total Bins 11622\n",
      "[LightGBM] [Info] Number of data points in the train set: 21645, number of used features: 587\n",
      "[LightGBM] [Info] [binary:BoostFromScore]: pavg=0.491106 -> initscore=-0.035578\n",
      "[LightGBM] [Info] Start training from score -0.035578\n",
      "[LightGBM] [Info] Number of positive: 10629, number of negative: 11016\n",
      "[LightGBM] [Info] Auto-choosing row-wise multi-threading, the overhead of testing was 0.077470 seconds.\n",
      "You can set `force_row_wise=true` to remove the overhead.\n",
      "And if memory is not enough, you can set `force_col_wise=true`.\n",
      "[LightGBM] [Info] Total Bins 11731\n",
      "[LightGBM] [Info] Number of data points in the train set: 21645, number of used features: 599\n",
      "[LightGBM] [Info] [binary:BoostFromScore]: pavg=0.491060 -> initscore=-0.035763\n",
      "[LightGBM] [Info] Start training from score -0.035763\n",
      "[LightGBM] [Info] Number of positive: 10629, number of negative: 11015\n",
      "[LightGBM] [Info] Auto-choosing row-wise multi-threading, the overhead of testing was 0.078599 seconds.\n",
      "You can set `force_row_wise=true` to remove the overhead.\n",
      "And if memory is not enough, you can set `force_col_wise=true`.\n",
      "[LightGBM] [Info] Total Bins 11656\n",
      "[LightGBM] [Info] Number of data points in the train set: 21644, number of used features: 591\n",
      "[LightGBM] [Info] [binary:BoostFromScore]: pavg=0.491083 -> initscore=-0.035672\n",
      "[LightGBM] [Info] Start training from score -0.035672\n",
      "[LightGBM] [Info] Number of positive: 10630, number of negative: 11015\n",
      "[LightGBM] [Info] Auto-choosing row-wise multi-threading, the overhead of testing was 0.077463 seconds.\n",
      "You can set `force_row_wise=true` to remove the overhead.\n",
      "And if memory is not enough, you can set `force_col_wise=true`.\n",
      "[LightGBM] [Info] Total Bins 11743\n",
      "[LightGBM] [Info] Number of data points in the train set: 21645, number of used features: 597\n",
      "[LightGBM] [Info] [binary:BoostFromScore]: pavg=0.491106 -> initscore=-0.035578\n",
      "[LightGBM] [Info] Start training from score -0.035578\n",
      "[LightGBM] [Info] Number of positive: 10630, number of negative: 11015\n",
      "[LightGBM] [Info] Auto-choosing row-wise multi-threading, the overhead of testing was 0.076434 seconds.\n",
      "You can set `force_row_wise=true` to remove the overhead.\n",
      "And if memory is not enough, you can set `force_col_wise=true`.\n",
      "[LightGBM] [Info] Total Bins 11643\n",
      "[LightGBM] [Info] Number of data points in the train set: 21645, number of used features: 590\n",
      "[LightGBM] [Info] [binary:BoostFromScore]: pavg=0.491106 -> initscore=-0.035578\n",
      "[LightGBM] [Info] Start training from score -0.035578\n",
      "[LightGBM] [Info] Number of positive: 10630, number of negative: 11015\n",
      "[LightGBM] [Info] Auto-choosing col-wise multi-threading, the overhead of testing was 0.074842 seconds.\n",
      "You can set `force_col_wise=true` to remove the overhead.\n",
      "[LightGBM] [Info] Total Bins 11622\n",
      "[LightGBM] [Info] Number of data points in the train set: 21645, number of used features: 587\n",
      "[LightGBM] [Info] [binary:BoostFromScore]: pavg=0.491106 -> initscore=-0.035578\n",
      "[LightGBM] [Info] Start training from score -0.035578\n",
      "[LightGBM] [Info] Number of positive: 10629, number of negative: 11016\n",
      "[LightGBM] [Info] Auto-choosing row-wise multi-threading, the overhead of testing was 0.077425 seconds.\n",
      "You can set `force_row_wise=true` to remove the overhead.\n",
      "And if memory is not enough, you can set `force_col_wise=true`.\n",
      "[LightGBM] [Info] Total Bins 11731\n",
      "[LightGBM] [Info] Number of data points in the train set: 21645, number of used features: 599\n",
      "[LightGBM] [Info] [binary:BoostFromScore]: pavg=0.491060 -> initscore=-0.035763\n",
      "[LightGBM] [Info] Start training from score -0.035763\n",
      "[LightGBM] [Info] Number of positive: 10629, number of negative: 11015\n",
      "[LightGBM] [Info] Auto-choosing row-wise multi-threading, the overhead of testing was 0.076362 seconds.\n",
      "You can set `force_row_wise=true` to remove the overhead.\n",
      "And if memory is not enough, you can set `force_col_wise=true`.\n",
      "[LightGBM] [Info] Total Bins 11656\n",
      "[LightGBM] [Info] Number of data points in the train set: 21644, number of used features: 591\n",
      "[LightGBM] [Info] [binary:BoostFromScore]: pavg=0.491083 -> initscore=-0.035672\n",
      "[LightGBM] [Info] Start training from score -0.035672\n",
      "[LightGBM] [Info] Number of positive: 10630, number of negative: 11015\n",
      "[LightGBM] [Info] Auto-choosing row-wise multi-threading, the overhead of testing was 0.079064 seconds.\n",
      "You can set `force_row_wise=true` to remove the overhead.\n",
      "And if memory is not enough, you can set `force_col_wise=true`.\n",
      "[LightGBM] [Info] Total Bins 11743\n",
      "[LightGBM] [Info] Number of data points in the train set: 21645, number of used features: 597\n",
      "[LightGBM] [Info] [binary:BoostFromScore]: pavg=0.491106 -> initscore=-0.035578\n",
      "[LightGBM] [Info] Start training from score -0.035578\n",
      "[LightGBM] [Info] Number of positive: 10630, number of negative: 11015\n",
      "[LightGBM] [Info] Auto-choosing row-wise multi-threading, the overhead of testing was 0.076303 seconds.\n",
      "You can set `force_row_wise=true` to remove the overhead.\n",
      "And if memory is not enough, you can set `force_col_wise=true`.\n",
      "[LightGBM] [Info] Total Bins 11643\n",
      "[LightGBM] [Info] Number of data points in the train set: 21645, number of used features: 590\n",
      "[LightGBM] [Info] [binary:BoostFromScore]: pavg=0.491106 -> initscore=-0.035578\n",
      "[LightGBM] [Info] Start training from score -0.035578\n",
      "[LightGBM] [Info] Number of positive: 10630, number of negative: 11015\n",
      "[LightGBM] [Info] Auto-choosing row-wise multi-threading, the overhead of testing was 0.075834 seconds.\n",
      "You can set `force_row_wise=true` to remove the overhead.\n",
      "And if memory is not enough, you can set `force_col_wise=true`.\n",
      "[LightGBM] [Info] Total Bins 11622\n",
      "[LightGBM] [Info] Number of data points in the train set: 21645, number of used features: 587\n",
      "[LightGBM] [Info] [binary:BoostFromScore]: pavg=0.491106 -> initscore=-0.035578\n",
      "[LightGBM] [Info] Start training from score -0.035578\n",
      "[LightGBM] [Info] Number of positive: 10629, number of negative: 11016\n",
      "[LightGBM] [Info] Auto-choosing row-wise multi-threading, the overhead of testing was 0.078154 seconds.\n",
      "You can set `force_row_wise=true` to remove the overhead.\n",
      "And if memory is not enough, you can set `force_col_wise=true`.\n",
      "[LightGBM] [Info] Total Bins 11731\n",
      "[LightGBM] [Info] Number of data points in the train set: 21645, number of used features: 599\n",
      "[LightGBM] [Info] [binary:BoostFromScore]: pavg=0.491060 -> initscore=-0.035763\n",
      "[LightGBM] [Info] Start training from score -0.035763\n",
      "[LightGBM] [Info] Number of positive: 10629, number of negative: 11015\n",
      "[LightGBM] [Info] Auto-choosing row-wise multi-threading, the overhead of testing was 0.076283 seconds.\n",
      "You can set `force_row_wise=true` to remove the overhead.\n",
      "And if memory is not enough, you can set `force_col_wise=true`.\n",
      "[LightGBM] [Info] Total Bins 11656\n",
      "[LightGBM] [Info] Number of data points in the train set: 21644, number of used features: 591\n",
      "[LightGBM] [Info] [binary:BoostFromScore]: pavg=0.491083 -> initscore=-0.035672\n",
      "[LightGBM] [Info] Start training from score -0.035672\n",
      "[LightGBM] [Info] Number of positive: 10630, number of negative: 11015\n",
      "[LightGBM] [Info] Auto-choosing row-wise multi-threading, the overhead of testing was 0.077087 seconds.\n",
      "You can set `force_row_wise=true` to remove the overhead.\n",
      "And if memory is not enough, you can set `force_col_wise=true`.\n",
      "[LightGBM] [Info] Total Bins 11743\n",
      "[LightGBM] [Info] Number of data points in the train set: 21645, number of used features: 597\n",
      "[LightGBM] [Info] [binary:BoostFromScore]: pavg=0.491106 -> initscore=-0.035578\n",
      "[LightGBM] [Info] Start training from score -0.035578\n",
      "[LightGBM] [Info] Number of positive: 10630, number of negative: 11015\n",
      "[LightGBM] [Info] Auto-choosing row-wise multi-threading, the overhead of testing was 0.076579 seconds.\n",
      "You can set `force_row_wise=true` to remove the overhead.\n",
      "And if memory is not enough, you can set `force_col_wise=true`.\n",
      "[LightGBM] [Info] Total Bins 11643\n",
      "[LightGBM] [Info] Number of data points in the train set: 21645, number of used features: 590\n",
      "[LightGBM] [Info] [binary:BoostFromScore]: pavg=0.491106 -> initscore=-0.035578\n",
      "[LightGBM] [Info] Start training from score -0.035578\n",
      "[LightGBM] [Info] Number of positive: 10630, number of negative: 11015\n",
      "[LightGBM] [Info] Auto-choosing col-wise multi-threading, the overhead of testing was 0.074651 seconds.\n",
      "You can set `force_col_wise=true` to remove the overhead.\n",
      "[LightGBM] [Info] Total Bins 11622\n",
      "[LightGBM] [Info] Number of data points in the train set: 21645, number of used features: 587\n",
      "[LightGBM] [Info] [binary:BoostFromScore]: pavg=0.491106 -> initscore=-0.035578\n",
      "[LightGBM] [Info] Start training from score -0.035578\n",
      "[LightGBM] [Info] Number of positive: 10629, number of negative: 11016\n",
      "[LightGBM] [Info] Auto-choosing col-wise multi-threading, the overhead of testing was 0.077123 seconds.\n",
      "You can set `force_col_wise=true` to remove the overhead.\n",
      "[LightGBM] [Info] Total Bins 11731\n",
      "[LightGBM] [Info] Number of data points in the train set: 21645, number of used features: 599\n",
      "[LightGBM] [Info] [binary:BoostFromScore]: pavg=0.491060 -> initscore=-0.035763\n",
      "[LightGBM] [Info] Start training from score -0.035763\n",
      "[LightGBM] [Info] Number of positive: 10629, number of negative: 11015\n",
      "[LightGBM] [Info] Auto-choosing col-wise multi-threading, the overhead of testing was 0.075883 seconds.\n",
      "You can set `force_col_wise=true` to remove the overhead.\n",
      "[LightGBM] [Info] Total Bins 11656\n",
      "[LightGBM] [Info] Number of data points in the train set: 21644, number of used features: 591\n",
      "[LightGBM] [Info] [binary:BoostFromScore]: pavg=0.491083 -> initscore=-0.035672\n",
      "[LightGBM] [Info] Start training from score -0.035672\n",
      "[LightGBM] [Info] Number of positive: 10630, number of negative: 11015\n",
      "[LightGBM] [Info] Auto-choosing row-wise multi-threading, the overhead of testing was 0.077166 seconds.\n",
      "You can set `force_row_wise=true` to remove the overhead.\n",
      "And if memory is not enough, you can set `force_col_wise=true`.\n",
      "[LightGBM] [Info] Total Bins 11743\n",
      "[LightGBM] [Info] Number of data points in the train set: 21645, number of used features: 597\n",
      "[LightGBM] [Info] [binary:BoostFromScore]: pavg=0.491106 -> initscore=-0.035578\n",
      "[LightGBM] [Info] Start training from score -0.035578\n",
      "[LightGBM] [Info] Number of positive: 10630, number of negative: 11015\n",
      "[LightGBM] [Info] Auto-choosing col-wise multi-threading, the overhead of testing was 0.075462 seconds.\n",
      "You can set `force_col_wise=true` to remove the overhead.\n",
      "[LightGBM] [Info] Total Bins 11643\n",
      "[LightGBM] [Info] Number of data points in the train set: 21645, number of used features: 590\n",
      "[LightGBM] [Info] [binary:BoostFromScore]: pavg=0.491106 -> initscore=-0.035578\n",
      "[LightGBM] [Info] Start training from score -0.035578\n",
      "[LightGBM] [Info] Number of positive: 10630, number of negative: 11015\n",
      "[LightGBM] [Info] Auto-choosing col-wise multi-threading, the overhead of testing was 0.077105 seconds.\n",
      "You can set `force_col_wise=true` to remove the overhead.\n",
      "[LightGBM] [Info] Total Bins 11622\n",
      "[LightGBM] [Info] Number of data points in the train set: 21645, number of used features: 587\n",
      "[LightGBM] [Info] [binary:BoostFromScore]: pavg=0.491106 -> initscore=-0.035578\n",
      "[LightGBM] [Info] Start training from score -0.035578\n",
      "[LightGBM] [Info] Number of positive: 10629, number of negative: 11016\n",
      "[LightGBM] [Info] Auto-choosing row-wise multi-threading, the overhead of testing was 0.077810 seconds.\n",
      "You can set `force_row_wise=true` to remove the overhead.\n",
      "And if memory is not enough, you can set `force_col_wise=true`.\n",
      "[LightGBM] [Info] Total Bins 11731\n",
      "[LightGBM] [Info] Number of data points in the train set: 21645, number of used features: 599\n",
      "[LightGBM] [Info] [binary:BoostFromScore]: pavg=0.491060 -> initscore=-0.035763\n",
      "[LightGBM] [Info] Start training from score -0.035763\n",
      "[LightGBM] [Info] Number of positive: 10629, number of negative: 11015\n",
      "[LightGBM] [Info] Auto-choosing row-wise multi-threading, the overhead of testing was 0.077205 seconds.\n",
      "You can set `force_row_wise=true` to remove the overhead.\n",
      "And if memory is not enough, you can set `force_col_wise=true`.\n",
      "[LightGBM] [Info] Total Bins 11656\n",
      "[LightGBM] [Info] Number of data points in the train set: 21644, number of used features: 591\n",
      "[LightGBM] [Info] [binary:BoostFromScore]: pavg=0.491083 -> initscore=-0.035672\n",
      "[LightGBM] [Info] Start training from score -0.035672\n",
      "[LightGBM] [Info] Number of positive: 10630, number of negative: 11015\n",
      "[LightGBM] [Info] Auto-choosing row-wise multi-threading, the overhead of testing was 0.077407 seconds.\n",
      "You can set `force_row_wise=true` to remove the overhead.\n",
      "And if memory is not enough, you can set `force_col_wise=true`.\n",
      "[LightGBM] [Info] Total Bins 11743\n",
      "[LightGBM] [Info] Number of data points in the train set: 21645, number of used features: 597\n",
      "[LightGBM] [Info] [binary:BoostFromScore]: pavg=0.491106 -> initscore=-0.035578\n",
      "[LightGBM] [Info] Start training from score -0.035578\n",
      "[LightGBM] [Info] Number of positive: 10630, number of negative: 11015\n",
      "[LightGBM] [Info] Auto-choosing row-wise multi-threading, the overhead of testing was 0.076884 seconds.\n",
      "You can set `force_row_wise=true` to remove the overhead.\n",
      "And if memory is not enough, you can set `force_col_wise=true`.\n",
      "[LightGBM] [Info] Total Bins 11643\n",
      "[LightGBM] [Info] Number of data points in the train set: 21645, number of used features: 590\n",
      "[LightGBM] [Info] [binary:BoostFromScore]: pavg=0.491106 -> initscore=-0.035578\n",
      "[LightGBM] [Info] Start training from score -0.035578\n",
      "[LightGBM] [Info] Number of positive: 10630, number of negative: 11015\n",
      "[LightGBM] [Info] Auto-choosing row-wise multi-threading, the overhead of testing was 0.076619 seconds.\n",
      "You can set `force_row_wise=true` to remove the overhead.\n",
      "And if memory is not enough, you can set `force_col_wise=true`.\n",
      "[LightGBM] [Info] Total Bins 11622\n",
      "[LightGBM] [Info] Number of data points in the train set: 21645, number of used features: 587\n",
      "[LightGBM] [Info] [binary:BoostFromScore]: pavg=0.491106 -> initscore=-0.035578\n",
      "[LightGBM] [Info] Start training from score -0.035578\n",
      "[LightGBM] [Info] Number of positive: 10629, number of negative: 11016\n",
      "[LightGBM] [Info] Auto-choosing row-wise multi-threading, the overhead of testing was 0.077634 seconds.\n",
      "You can set `force_row_wise=true` to remove the overhead.\n",
      "And if memory is not enough, you can set `force_col_wise=true`.\n",
      "[LightGBM] [Info] Total Bins 11731\n",
      "[LightGBM] [Info] Number of data points in the train set: 21645, number of used features: 599\n",
      "[LightGBM] [Info] [binary:BoostFromScore]: pavg=0.491060 -> initscore=-0.035763\n",
      "[LightGBM] [Info] Start training from score -0.035763\n",
      "[LightGBM] [Info] Number of positive: 10629, number of negative: 11015\n",
      "[LightGBM] [Info] Auto-choosing row-wise multi-threading, the overhead of testing was 0.076974 seconds.\n",
      "You can set `force_row_wise=true` to remove the overhead.\n",
      "And if memory is not enough, you can set `force_col_wise=true`.\n",
      "[LightGBM] [Info] Total Bins 11656\n",
      "[LightGBM] [Info] Number of data points in the train set: 21644, number of used features: 591\n",
      "[LightGBM] [Info] [binary:BoostFromScore]: pavg=0.491083 -> initscore=-0.035672\n",
      "[LightGBM] [Info] Start training from score -0.035672\n",
      "[LightGBM] [Info] Number of positive: 10630, number of negative: 11015\n",
      "[LightGBM] [Info] Auto-choosing col-wise multi-threading, the overhead of testing was 0.076901 seconds.\n",
      "You can set `force_col_wise=true` to remove the overhead.\n",
      "[LightGBM] [Info] Total Bins 11743\n",
      "[LightGBM] [Info] Number of data points in the train set: 21645, number of used features: 597\n",
      "[LightGBM] [Info] [binary:BoostFromScore]: pavg=0.491106 -> initscore=-0.035578\n",
      "[LightGBM] [Info] Start training from score -0.035578\n",
      "[LightGBM] [Info] Number of positive: 10630, number of negative: 11015\n",
      "[LightGBM] [Info] Auto-choosing col-wise multi-threading, the overhead of testing was 0.076143 seconds.\n",
      "You can set `force_col_wise=true` to remove the overhead.\n",
      "[LightGBM] [Info] Total Bins 11643\n",
      "[LightGBM] [Info] Number of data points in the train set: 21645, number of used features: 590\n",
      "[LightGBM] [Info] [binary:BoostFromScore]: pavg=0.491106 -> initscore=-0.035578\n",
      "[LightGBM] [Info] Start training from score -0.035578\n",
      "[LightGBM] [Info] Number of positive: 10630, number of negative: 11015\n",
      "[LightGBM] [Info] Auto-choosing row-wise multi-threading, the overhead of testing was 0.076302 seconds.\n",
      "You can set `force_row_wise=true` to remove the overhead.\n",
      "And if memory is not enough, you can set `force_col_wise=true`.\n",
      "[LightGBM] [Info] Total Bins 11622\n",
      "[LightGBM] [Info] Number of data points in the train set: 21645, number of used features: 587\n",
      "[LightGBM] [Info] [binary:BoostFromScore]: pavg=0.491106 -> initscore=-0.035578\n",
      "[LightGBM] [Info] Start training from score -0.035578\n",
      "[LightGBM] [Info] Number of positive: 10629, number of negative: 11016\n",
      "[LightGBM] [Info] Auto-choosing col-wise multi-threading, the overhead of testing was 0.076635 seconds.\n",
      "You can set `force_col_wise=true` to remove the overhead.\n",
      "[LightGBM] [Info] Total Bins 11731\n",
      "[LightGBM] [Info] Number of data points in the train set: 21645, number of used features: 599\n",
      "[LightGBM] [Info] [binary:BoostFromScore]: pavg=0.491060 -> initscore=-0.035763\n",
      "[LightGBM] [Info] Start training from score -0.035763\n",
      "[LightGBM] [Info] Number of positive: 10629, number of negative: 11015\n",
      "[LightGBM] [Info] Auto-choosing row-wise multi-threading, the overhead of testing was 0.078174 seconds.\n",
      "You can set `force_row_wise=true` to remove the overhead.\n",
      "And if memory is not enough, you can set `force_col_wise=true`.\n",
      "[LightGBM] [Info] Total Bins 11656\n",
      "[LightGBM] [Info] Number of data points in the train set: 21644, number of used features: 591\n",
      "[LightGBM] [Info] [binary:BoostFromScore]: pavg=0.491083 -> initscore=-0.035672\n",
      "[LightGBM] [Info] Start training from score -0.035672\n",
      "[LightGBM] [Info] Number of positive: 10630, number of negative: 11015\n",
      "[LightGBM] [Info] Auto-choosing row-wise multi-threading, the overhead of testing was 0.077190 seconds.\n",
      "You can set `force_row_wise=true` to remove the overhead.\n",
      "And if memory is not enough, you can set `force_col_wise=true`.\n",
      "[LightGBM] [Info] Total Bins 11743\n",
      "[LightGBM] [Info] Number of data points in the train set: 21645, number of used features: 597\n",
      "[LightGBM] [Info] [binary:BoostFromScore]: pavg=0.491106 -> initscore=-0.035578\n",
      "[LightGBM] [Info] Start training from score -0.035578\n",
      "[LightGBM] [Info] Number of positive: 10630, number of negative: 11015\n",
      "[LightGBM] [Info] Auto-choosing row-wise multi-threading, the overhead of testing was 0.076667 seconds.\n",
      "You can set `force_row_wise=true` to remove the overhead.\n",
      "And if memory is not enough, you can set `force_col_wise=true`.\n",
      "[LightGBM] [Info] Total Bins 11643\n",
      "[LightGBM] [Info] Number of data points in the train set: 21645, number of used features: 590\n",
      "[LightGBM] [Info] [binary:BoostFromScore]: pavg=0.491106 -> initscore=-0.035578\n",
      "[LightGBM] [Info] Start training from score -0.035578\n",
      "[LightGBM] [Info] Number of positive: 10630, number of negative: 11015\n",
      "[LightGBM] [Info] Auto-choosing col-wise multi-threading, the overhead of testing was 0.076263 seconds.\n",
      "You can set `force_col_wise=true` to remove the overhead.\n",
      "[LightGBM] [Info] Total Bins 11622\n",
      "[LightGBM] [Info] Number of data points in the train set: 21645, number of used features: 587\n",
      "[LightGBM] [Info] [binary:BoostFromScore]: pavg=0.491106 -> initscore=-0.035578\n",
      "[LightGBM] [Info] Start training from score -0.035578\n",
      "[LightGBM] [Info] Number of positive: 10629, number of negative: 11016\n",
      "[LightGBM] [Info] Auto-choosing row-wise multi-threading, the overhead of testing was 0.077495 seconds.\n",
      "You can set `force_row_wise=true` to remove the overhead.\n",
      "And if memory is not enough, you can set `force_col_wise=true`.\n",
      "[LightGBM] [Info] Total Bins 11731\n",
      "[LightGBM] [Info] Number of data points in the train set: 21645, number of used features: 599\n",
      "[LightGBM] [Info] [binary:BoostFromScore]: pavg=0.491060 -> initscore=-0.035763\n",
      "[LightGBM] [Info] Start training from score -0.035763\n",
      "[LightGBM] [Info] Number of positive: 10629, number of negative: 11015\n",
      "[LightGBM] [Info] Auto-choosing row-wise multi-threading, the overhead of testing was 0.077069 seconds.\n",
      "You can set `force_row_wise=true` to remove the overhead.\n",
      "And if memory is not enough, you can set `force_col_wise=true`.\n",
      "[LightGBM] [Info] Total Bins 11656\n",
      "[LightGBM] [Info] Number of data points in the train set: 21644, number of used features: 591\n",
      "[LightGBM] [Info] [binary:BoostFromScore]: pavg=0.491083 -> initscore=-0.035672\n",
      "[LightGBM] [Info] Start training from score -0.035672\n",
      "[LightGBM] [Info] Number of positive: 10630, number of negative: 11015\n",
      "[LightGBM] [Info] Auto-choosing col-wise multi-threading, the overhead of testing was 0.076313 seconds.\n",
      "You can set `force_col_wise=true` to remove the overhead.\n",
      "[LightGBM] [Info] Total Bins 11743\n",
      "[LightGBM] [Info] Number of data points in the train set: 21645, number of used features: 597\n",
      "[LightGBM] [Info] [binary:BoostFromScore]: pavg=0.491106 -> initscore=-0.035578\n",
      "[LightGBM] [Info] Start training from score -0.035578\n",
      "[LightGBM] [Info] Number of positive: 10630, number of negative: 11015\n",
      "[LightGBM] [Info] Auto-choosing row-wise multi-threading, the overhead of testing was 0.077411 seconds.\n",
      "You can set `force_row_wise=true` to remove the overhead.\n",
      "And if memory is not enough, you can set `force_col_wise=true`.\n",
      "[LightGBM] [Info] Total Bins 11643\n",
      "[LightGBM] [Info] Number of data points in the train set: 21645, number of used features: 590\n",
      "[LightGBM] [Info] [binary:BoostFromScore]: pavg=0.491106 -> initscore=-0.035578\n",
      "[LightGBM] [Info] Start training from score -0.035578\n",
      "[LightGBM] [Info] Number of positive: 10630, number of negative: 11015\n",
      "[LightGBM] [Info] Auto-choosing row-wise multi-threading, the overhead of testing was 0.076128 seconds.\n",
      "You can set `force_row_wise=true` to remove the overhead.\n",
      "And if memory is not enough, you can set `force_col_wise=true`.\n",
      "[LightGBM] [Info] Total Bins 11622\n",
      "[LightGBM] [Info] Number of data points in the train set: 21645, number of used features: 587\n",
      "[LightGBM] [Info] [binary:BoostFromScore]: pavg=0.491106 -> initscore=-0.035578\n",
      "[LightGBM] [Info] Start training from score -0.035578\n",
      "[LightGBM] [Info] Number of positive: 10629, number of negative: 11016\n",
      "[LightGBM] [Info] Auto-choosing row-wise multi-threading, the overhead of testing was 0.077545 seconds.\n",
      "You can set `force_row_wise=true` to remove the overhead.\n",
      "And if memory is not enough, you can set `force_col_wise=true`.\n",
      "[LightGBM] [Info] Total Bins 11731\n",
      "[LightGBM] [Info] Number of data points in the train set: 21645, number of used features: 599\n",
      "[LightGBM] [Info] [binary:BoostFromScore]: pavg=0.491060 -> initscore=-0.035763\n",
      "[LightGBM] [Info] Start training from score -0.035763\n",
      "[LightGBM] [Info] Number of positive: 10629, number of negative: 11015\n",
      "[LightGBM] [Info] Auto-choosing row-wise multi-threading, the overhead of testing was 0.078181 seconds.\n",
      "You can set `force_row_wise=true` to remove the overhead.\n",
      "And if memory is not enough, you can set `force_col_wise=true`.\n",
      "[LightGBM] [Info] Total Bins 11656\n",
      "[LightGBM] [Info] Number of data points in the train set: 21644, number of used features: 591\n",
      "[LightGBM] [Info] [binary:BoostFromScore]: pavg=0.491083 -> initscore=-0.035672\n",
      "[LightGBM] [Info] Start training from score -0.035672\n",
      "[LightGBM] [Info] Number of positive: 10630, number of negative: 11015\n",
      "[LightGBM] [Info] Auto-choosing row-wise multi-threading, the overhead of testing was 0.077673 seconds.\n",
      "You can set `force_row_wise=true` to remove the overhead.\n",
      "And if memory is not enough, you can set `force_col_wise=true`.\n",
      "[LightGBM] [Info] Total Bins 11743\n",
      "[LightGBM] [Info] Number of data points in the train set: 21645, number of used features: 597\n",
      "[LightGBM] [Info] [binary:BoostFromScore]: pavg=0.491106 -> initscore=-0.035578\n",
      "[LightGBM] [Info] Start training from score -0.035578\n",
      "[LightGBM] [Info] Number of positive: 10630, number of negative: 11015\n",
      "[LightGBM] [Info] Auto-choosing row-wise multi-threading, the overhead of testing was 0.076841 seconds.\n",
      "You can set `force_row_wise=true` to remove the overhead.\n",
      "And if memory is not enough, you can set `force_col_wise=true`.\n",
      "[LightGBM] [Info] Total Bins 11643\n",
      "[LightGBM] [Info] Number of data points in the train set: 21645, number of used features: 590\n",
      "[LightGBM] [Info] [binary:BoostFromScore]: pavg=0.491106 -> initscore=-0.035578\n",
      "[LightGBM] [Info] Start training from score -0.035578\n",
      "[LightGBM] [Info] Number of positive: 10630, number of negative: 11015\n",
      "[LightGBM] [Info] Auto-choosing row-wise multi-threading, the overhead of testing was 0.082481 seconds.\n",
      "You can set `force_row_wise=true` to remove the overhead.\n",
      "And if memory is not enough, you can set `force_col_wise=true`.\n",
      "[LightGBM] [Info] Total Bins 11622\n",
      "[LightGBM] [Info] Number of data points in the train set: 21645, number of used features: 587\n",
      "[LightGBM] [Info] [binary:BoostFromScore]: pavg=0.491106 -> initscore=-0.035578\n",
      "[LightGBM] [Info] Start training from score -0.035578\n",
      "[LightGBM] [Info] Number of positive: 10629, number of negative: 11016\n",
      "[LightGBM] [Info] Auto-choosing col-wise multi-threading, the overhead of testing was 0.077474 seconds.\n",
      "You can set `force_col_wise=true` to remove the overhead.\n",
      "[LightGBM] [Info] Total Bins 11731\n",
      "[LightGBM] [Info] Number of data points in the train set: 21645, number of used features: 599\n",
      "[LightGBM] [Info] [binary:BoostFromScore]: pavg=0.491060 -> initscore=-0.035763\n",
      "[LightGBM] [Info] Start training from score -0.035763\n",
      "[LightGBM] [Info] Number of positive: 10629, number of negative: 11015\n",
      "[LightGBM] [Info] Auto-choosing row-wise multi-threading, the overhead of testing was 0.077463 seconds.\n",
      "You can set `force_row_wise=true` to remove the overhead.\n",
      "And if memory is not enough, you can set `force_col_wise=true`.\n",
      "[LightGBM] [Info] Total Bins 11656\n",
      "[LightGBM] [Info] Number of data points in the train set: 21644, number of used features: 591\n",
      "[LightGBM] [Info] [binary:BoostFromScore]: pavg=0.491083 -> initscore=-0.035672\n",
      "[LightGBM] [Info] Start training from score -0.035672\n",
      "[LightGBM] [Info] Number of positive: 10630, number of negative: 11015\n",
      "[LightGBM] [Info] Auto-choosing row-wise multi-threading, the overhead of testing was 0.077117 seconds.\n",
      "You can set `force_row_wise=true` to remove the overhead.\n",
      "And if memory is not enough, you can set `force_col_wise=true`.\n",
      "[LightGBM] [Info] Total Bins 11743\n",
      "[LightGBM] [Info] Number of data points in the train set: 21645, number of used features: 597\n",
      "[LightGBM] [Info] [binary:BoostFromScore]: pavg=0.491106 -> initscore=-0.035578\n",
      "[LightGBM] [Info] Start training from score -0.035578\n",
      "[LightGBM] [Info] Number of positive: 10630, number of negative: 11015\n",
      "[LightGBM] [Info] Auto-choosing row-wise multi-threading, the overhead of testing was 0.076251 seconds.\n",
      "You can set `force_row_wise=true` to remove the overhead.\n",
      "And if memory is not enough, you can set `force_col_wise=true`.\n",
      "[LightGBM] [Info] Total Bins 11643\n",
      "[LightGBM] [Info] Number of data points in the train set: 21645, number of used features: 590\n",
      "[LightGBM] [Info] [binary:BoostFromScore]: pavg=0.491106 -> initscore=-0.035578\n",
      "[LightGBM] [Info] Start training from score -0.035578\n",
      "[LightGBM] [Info] Number of positive: 10630, number of negative: 11015\n",
      "[LightGBM] [Info] Auto-choosing row-wise multi-threading, the overhead of testing was 0.076134 seconds.\n",
      "You can set `force_row_wise=true` to remove the overhead.\n",
      "And if memory is not enough, you can set `force_col_wise=true`.\n",
      "[LightGBM] [Info] Total Bins 11622\n",
      "[LightGBM] [Info] Number of data points in the train set: 21645, number of used features: 587\n",
      "[LightGBM] [Info] [binary:BoostFromScore]: pavg=0.491106 -> initscore=-0.035578\n",
      "[LightGBM] [Info] Start training from score -0.035578\n",
      "[LightGBM] [Info] Number of positive: 10629, number of negative: 11016\n",
      "[LightGBM] [Info] Auto-choosing row-wise multi-threading, the overhead of testing was 0.078231 seconds.\n",
      "You can set `force_row_wise=true` to remove the overhead.\n",
      "And if memory is not enough, you can set `force_col_wise=true`.\n",
      "[LightGBM] [Info] Total Bins 11731\n",
      "[LightGBM] [Info] Number of data points in the train set: 21645, number of used features: 599\n",
      "[LightGBM] [Info] [binary:BoostFromScore]: pavg=0.491060 -> initscore=-0.035763\n",
      "[LightGBM] [Info] Start training from score -0.035763\n",
      "[LightGBM] [Info] Number of positive: 10629, number of negative: 11015\n",
      "[LightGBM] [Info] Auto-choosing row-wise multi-threading, the overhead of testing was 0.077047 seconds.\n",
      "You can set `force_row_wise=true` to remove the overhead.\n",
      "And if memory is not enough, you can set `force_col_wise=true`.\n",
      "[LightGBM] [Info] Total Bins 11656\n",
      "[LightGBM] [Info] Number of data points in the train set: 21644, number of used features: 591\n",
      "[LightGBM] [Info] [binary:BoostFromScore]: pavg=0.491083 -> initscore=-0.035672\n",
      "[LightGBM] [Info] Start training from score -0.035672\n",
      "[LightGBM] [Info] Number of positive: 10630, number of negative: 11015\n",
      "[LightGBM] [Info] Auto-choosing row-wise multi-threading, the overhead of testing was 0.077197 seconds.\n",
      "You can set `force_row_wise=true` to remove the overhead.\n",
      "And if memory is not enough, you can set `force_col_wise=true`.\n",
      "[LightGBM] [Info] Total Bins 11743\n",
      "[LightGBM] [Info] Number of data points in the train set: 21645, number of used features: 597\n",
      "[LightGBM] [Info] [binary:BoostFromScore]: pavg=0.491106 -> initscore=-0.035578\n",
      "[LightGBM] [Info] Start training from score -0.035578\n",
      "[LightGBM] [Info] Number of positive: 10630, number of negative: 11015\n",
      "[LightGBM] [Info] Auto-choosing col-wise multi-threading, the overhead of testing was 0.077196 seconds.\n",
      "You can set `force_col_wise=true` to remove the overhead.\n",
      "[LightGBM] [Info] Total Bins 11643\n",
      "[LightGBM] [Info] Number of data points in the train set: 21645, number of used features: 590\n",
      "[LightGBM] [Info] [binary:BoostFromScore]: pavg=0.491106 -> initscore=-0.035578\n",
      "[LightGBM] [Info] Start training from score -0.035578\n",
      "[LightGBM] [Info] Number of positive: 10630, number of negative: 11015\n",
      "[LightGBM] [Info] Auto-choosing col-wise multi-threading, the overhead of testing was 0.074844 seconds.\n",
      "You can set `force_col_wise=true` to remove the overhead.\n",
      "[LightGBM] [Info] Total Bins 11622\n",
      "[LightGBM] [Info] Number of data points in the train set: 21645, number of used features: 587\n",
      "[LightGBM] [Info] [binary:BoostFromScore]: pavg=0.491106 -> initscore=-0.035578\n",
      "[LightGBM] [Info] Start training from score -0.035578\n",
      "[LightGBM] [Info] Number of positive: 10629, number of negative: 11016\n",
      "[LightGBM] [Info] Auto-choosing col-wise multi-threading, the overhead of testing was 0.077085 seconds.\n",
      "You can set `force_col_wise=true` to remove the overhead.\n",
      "[LightGBM] [Info] Total Bins 11731\n",
      "[LightGBM] [Info] Number of data points in the train set: 21645, number of used features: 599\n",
      "[LightGBM] [Info] [binary:BoostFromScore]: pavg=0.491060 -> initscore=-0.035763\n",
      "[LightGBM] [Info] Start training from score -0.035763\n",
      "[LightGBM] [Info] Number of positive: 10629, number of negative: 11015\n",
      "[LightGBM] [Info] Auto-choosing row-wise multi-threading, the overhead of testing was 0.077100 seconds.\n",
      "You can set `force_row_wise=true` to remove the overhead.\n",
      "And if memory is not enough, you can set `force_col_wise=true`.\n",
      "[LightGBM] [Info] Total Bins 11656\n",
      "[LightGBM] [Info] Number of data points in the train set: 21644, number of used features: 591\n",
      "[LightGBM] [Info] [binary:BoostFromScore]: pavg=0.491083 -> initscore=-0.035672\n",
      "[LightGBM] [Info] Start training from score -0.035672\n",
      "[LightGBM] [Info] Number of positive: 10630, number of negative: 11015\n",
      "[LightGBM] [Info] Auto-choosing row-wise multi-threading, the overhead of testing was 0.077268 seconds.\n",
      "You can set `force_row_wise=true` to remove the overhead.\n",
      "And if memory is not enough, you can set `force_col_wise=true`.\n",
      "[LightGBM] [Info] Total Bins 11743\n",
      "[LightGBM] [Info] Number of data points in the train set: 21645, number of used features: 597\n",
      "[LightGBM] [Info] [binary:BoostFromScore]: pavg=0.491106 -> initscore=-0.035578\n",
      "[LightGBM] [Info] Start training from score -0.035578\n",
      "[LightGBM] [Info] Number of positive: 10630, number of negative: 11015\n",
      "[LightGBM] [Info] Auto-choosing row-wise multi-threading, the overhead of testing was 0.077949 seconds.\n",
      "You can set `force_row_wise=true` to remove the overhead.\n",
      "And if memory is not enough, you can set `force_col_wise=true`.\n",
      "[LightGBM] [Info] Total Bins 11643\n",
      "[LightGBM] [Info] Number of data points in the train set: 21645, number of used features: 590\n",
      "[LightGBM] [Info] [binary:BoostFromScore]: pavg=0.491106 -> initscore=-0.035578\n",
      "[LightGBM] [Info] Start training from score -0.035578\n",
      "[LightGBM] [Info] Number of positive: 10630, number of negative: 11015\n",
      "[LightGBM] [Info] Auto-choosing row-wise multi-threading, the overhead of testing was 0.075984 seconds.\n",
      "You can set `force_row_wise=true` to remove the overhead.\n",
      "And if memory is not enough, you can set `force_col_wise=true`.\n",
      "[LightGBM] [Info] Total Bins 11622\n",
      "[LightGBM] [Info] Number of data points in the train set: 21645, number of used features: 587\n",
      "[LightGBM] [Info] [binary:BoostFromScore]: pavg=0.491106 -> initscore=-0.035578\n",
      "[LightGBM] [Info] Start training from score -0.035578\n",
      "[LightGBM] [Info] Number of positive: 10629, number of negative: 11016\n",
      "[LightGBM] [Info] Auto-choosing col-wise multi-threading, the overhead of testing was 0.077085 seconds.\n",
      "You can set `force_col_wise=true` to remove the overhead.\n",
      "[LightGBM] [Info] Total Bins 11731\n",
      "[LightGBM] [Info] Number of data points in the train set: 21645, number of used features: 599\n",
      "[LightGBM] [Info] [binary:BoostFromScore]: pavg=0.491060 -> initscore=-0.035763\n",
      "[LightGBM] [Info] Start training from score -0.035763\n",
      "[LightGBM] [Info] Number of positive: 10629, number of negative: 11015\n",
      "[LightGBM] [Info] Auto-choosing row-wise multi-threading, the overhead of testing was 0.078668 seconds.\n",
      "You can set `force_row_wise=true` to remove the overhead.\n",
      "And if memory is not enough, you can set `force_col_wise=true`.\n",
      "[LightGBM] [Info] Total Bins 11656\n",
      "[LightGBM] [Info] Number of data points in the train set: 21644, number of used features: 591\n",
      "[LightGBM] [Info] [binary:BoostFromScore]: pavg=0.491083 -> initscore=-0.035672\n",
      "[LightGBM] [Info] Start training from score -0.035672\n",
      "[LightGBM] [Info] Number of positive: 10630, number of negative: 11015\n",
      "[LightGBM] [Info] Auto-choosing col-wise multi-threading, the overhead of testing was 0.076202 seconds.\n",
      "You can set `force_col_wise=true` to remove the overhead.\n",
      "[LightGBM] [Info] Total Bins 11743\n",
      "[LightGBM] [Info] Number of data points in the train set: 21645, number of used features: 597\n",
      "[LightGBM] [Info] [binary:BoostFromScore]: pavg=0.491106 -> initscore=-0.035578\n",
      "[LightGBM] [Info] Start training from score -0.035578\n",
      "[LightGBM] [Info] Number of positive: 10630, number of negative: 11015\n",
      "[LightGBM] [Info] Auto-choosing row-wise multi-threading, the overhead of testing was 0.078051 seconds.\n",
      "You can set `force_row_wise=true` to remove the overhead.\n",
      "And if memory is not enough, you can set `force_col_wise=true`.\n",
      "[LightGBM] [Info] Total Bins 11643\n",
      "[LightGBM] [Info] Number of data points in the train set: 21645, number of used features: 590\n",
      "[LightGBM] [Info] [binary:BoostFromScore]: pavg=0.491106 -> initscore=-0.035578\n",
      "[LightGBM] [Info] Start training from score -0.035578\n",
      "[LightGBM] [Info] Number of positive: 10630, number of negative: 11015\n",
      "[LightGBM] [Info] Auto-choosing row-wise multi-threading, the overhead of testing was 0.076198 seconds.\n",
      "You can set `force_row_wise=true` to remove the overhead.\n",
      "And if memory is not enough, you can set `force_col_wise=true`.\n",
      "[LightGBM] [Info] Total Bins 11622\n",
      "[LightGBM] [Info] Number of data points in the train set: 21645, number of used features: 587\n",
      "[LightGBM] [Info] [binary:BoostFromScore]: pavg=0.491106 -> initscore=-0.035578\n",
      "[LightGBM] [Info] Start training from score -0.035578\n",
      "[LightGBM] [Info] Number of positive: 10629, number of negative: 11016\n",
      "[LightGBM] [Info] Auto-choosing row-wise multi-threading, the overhead of testing was 0.078015 seconds.\n",
      "You can set `force_row_wise=true` to remove the overhead.\n",
      "And if memory is not enough, you can set `force_col_wise=true`.\n",
      "[LightGBM] [Info] Total Bins 11731\n",
      "[LightGBM] [Info] Number of data points in the train set: 21645, number of used features: 599\n",
      "[LightGBM] [Info] [binary:BoostFromScore]: pavg=0.491060 -> initscore=-0.035763\n",
      "[LightGBM] [Info] Start training from score -0.035763\n",
      "[LightGBM] [Info] Number of positive: 10629, number of negative: 11015\n",
      "[LightGBM] [Info] Auto-choosing row-wise multi-threading, the overhead of testing was 0.076607 seconds.\n",
      "You can set `force_row_wise=true` to remove the overhead.\n",
      "And if memory is not enough, you can set `force_col_wise=true`.\n",
      "[LightGBM] [Info] Total Bins 11656\n",
      "[LightGBM] [Info] Number of data points in the train set: 21644, number of used features: 591\n",
      "[LightGBM] [Info] [binary:BoostFromScore]: pavg=0.491083 -> initscore=-0.035672\n",
      "[LightGBM] [Info] Start training from score -0.035672\n",
      "[LightGBM] [Info] Number of positive: 10630, number of negative: 11015\n",
      "[LightGBM] [Info] Auto-choosing row-wise multi-threading, the overhead of testing was 0.077723 seconds.\n",
      "You can set `force_row_wise=true` to remove the overhead.\n",
      "And if memory is not enough, you can set `force_col_wise=true`.\n",
      "[LightGBM] [Info] Total Bins 11743\n",
      "[LightGBM] [Info] Number of data points in the train set: 21645, number of used features: 597\n",
      "[LightGBM] [Info] [binary:BoostFromScore]: pavg=0.491106 -> initscore=-0.035578\n",
      "[LightGBM] [Info] Start training from score -0.035578\n",
      "[LightGBM] [Info] Number of positive: 10630, number of negative: 11015\n",
      "[LightGBM] [Info] Auto-choosing col-wise multi-threading, the overhead of testing was 0.076176 seconds.\n",
      "You can set `force_col_wise=true` to remove the overhead.\n",
      "[LightGBM] [Info] Total Bins 11643\n",
      "[LightGBM] [Info] Number of data points in the train set: 21645, number of used features: 590\n",
      "[LightGBM] [Info] [binary:BoostFromScore]: pavg=0.491106 -> initscore=-0.035578\n",
      "[LightGBM] [Info] Start training from score -0.035578\n",
      "[LightGBM] [Info] Number of positive: 10630, number of negative: 11015\n",
      "[LightGBM] [Info] Auto-choosing row-wise multi-threading, the overhead of testing was 0.076285 seconds.\n",
      "You can set `force_row_wise=true` to remove the overhead.\n",
      "And if memory is not enough, you can set `force_col_wise=true`.\n",
      "[LightGBM] [Info] Total Bins 11622\n",
      "[LightGBM] [Info] Number of data points in the train set: 21645, number of used features: 587\n",
      "[LightGBM] [Info] [binary:BoostFromScore]: pavg=0.491106 -> initscore=-0.035578\n",
      "[LightGBM] [Info] Start training from score -0.035578\n",
      "[LightGBM] [Info] Number of positive: 10629, number of negative: 11016\n",
      "[LightGBM] [Info] Auto-choosing row-wise multi-threading, the overhead of testing was 0.079112 seconds.\n",
      "You can set `force_row_wise=true` to remove the overhead.\n",
      "And if memory is not enough, you can set `force_col_wise=true`.\n",
      "[LightGBM] [Info] Total Bins 11731\n",
      "[LightGBM] [Info] Number of data points in the train set: 21645, number of used features: 599\n",
      "[LightGBM] [Info] [binary:BoostFromScore]: pavg=0.491060 -> initscore=-0.035763\n",
      "[LightGBM] [Info] Start training from score -0.035763\n",
      "[LightGBM] [Info] Number of positive: 10629, number of negative: 11015\n",
      "[LightGBM] [Info] Auto-choosing row-wise multi-threading, the overhead of testing was 0.076847 seconds.\n",
      "You can set `force_row_wise=true` to remove the overhead.\n",
      "And if memory is not enough, you can set `force_col_wise=true`.\n",
      "[LightGBM] [Info] Total Bins 11656\n",
      "[LightGBM] [Info] Number of data points in the train set: 21644, number of used features: 591\n",
      "[LightGBM] [Info] [binary:BoostFromScore]: pavg=0.491083 -> initscore=-0.035672\n",
      "[LightGBM] [Info] Start training from score -0.035672\n",
      "[LightGBM] [Info] Number of positive: 10630, number of negative: 11015\n",
      "[LightGBM] [Info] Auto-choosing row-wise multi-threading, the overhead of testing was 0.077224 seconds.\n",
      "You can set `force_row_wise=true` to remove the overhead.\n",
      "And if memory is not enough, you can set `force_col_wise=true`.\n",
      "[LightGBM] [Info] Total Bins 11743\n",
      "[LightGBM] [Info] Number of data points in the train set: 21645, number of used features: 597\n",
      "[LightGBM] [Info] [binary:BoostFromScore]: pavg=0.491106 -> initscore=-0.035578\n",
      "[LightGBM] [Info] Start training from score -0.035578\n",
      "[LightGBM] [Info] Number of positive: 10630, number of negative: 11015\n",
      "[LightGBM] [Info] Auto-choosing row-wise multi-threading, the overhead of testing was 0.076762 seconds.\n",
      "You can set `force_row_wise=true` to remove the overhead.\n",
      "And if memory is not enough, you can set `force_col_wise=true`.\n",
      "[LightGBM] [Info] Total Bins 11643\n",
      "[LightGBM] [Info] Number of data points in the train set: 21645, number of used features: 590\n",
      "[LightGBM] [Info] [binary:BoostFromScore]: pavg=0.491106 -> initscore=-0.035578\n",
      "[LightGBM] [Info] Start training from score -0.035578\n",
      "[LightGBM] [Info] Number of positive: 10630, number of negative: 11015\n",
      "[LightGBM] [Info] Auto-choosing col-wise multi-threading, the overhead of testing was 0.075923 seconds.\n",
      "You can set `force_col_wise=true` to remove the overhead.\n",
      "[LightGBM] [Info] Total Bins 11622\n",
      "[LightGBM] [Info] Number of data points in the train set: 21645, number of used features: 587\n",
      "[LightGBM] [Info] [binary:BoostFromScore]: pavg=0.491106 -> initscore=-0.035578\n",
      "[LightGBM] [Info] Start training from score -0.035578\n",
      "[LightGBM] [Info] Number of positive: 10629, number of negative: 11016\n",
      "[LightGBM] [Info] Auto-choosing row-wise multi-threading, the overhead of testing was 0.077804 seconds.\n",
      "You can set `force_row_wise=true` to remove the overhead.\n",
      "And if memory is not enough, you can set `force_col_wise=true`.\n",
      "[LightGBM] [Info] Total Bins 11731\n",
      "[LightGBM] [Info] Number of data points in the train set: 21645, number of used features: 599\n",
      "[LightGBM] [Info] [binary:BoostFromScore]: pavg=0.491060 -> initscore=-0.035763\n",
      "[LightGBM] [Info] Start training from score -0.035763\n",
      "[LightGBM] [Info] Number of positive: 10629, number of negative: 11015\n",
      "[LightGBM] [Info] Auto-choosing row-wise multi-threading, the overhead of testing was 0.078379 seconds.\n",
      "You can set `force_row_wise=true` to remove the overhead.\n",
      "And if memory is not enough, you can set `force_col_wise=true`.\n",
      "[LightGBM] [Info] Total Bins 11656\n",
      "[LightGBM] [Info] Number of data points in the train set: 21644, number of used features: 591\n",
      "[LightGBM] [Info] [binary:BoostFromScore]: pavg=0.491083 -> initscore=-0.035672\n",
      "[LightGBM] [Info] Start training from score -0.035672\n",
      "[LightGBM] [Info] Number of positive: 10630, number of negative: 11015\n",
      "[LightGBM] [Info] Auto-choosing row-wise multi-threading, the overhead of testing was 0.077827 seconds.\n",
      "You can set `force_row_wise=true` to remove the overhead.\n",
      "And if memory is not enough, you can set `force_col_wise=true`.\n",
      "[LightGBM] [Info] Total Bins 11743\n",
      "[LightGBM] [Info] Number of data points in the train set: 21645, number of used features: 597\n",
      "[LightGBM] [Info] [binary:BoostFromScore]: pavg=0.491106 -> initscore=-0.035578\n",
      "[LightGBM] [Info] Start training from score -0.035578\n",
      "[LightGBM] [Info] Number of positive: 10630, number of negative: 11015\n",
      "[LightGBM] [Info] Auto-choosing row-wise multi-threading, the overhead of testing was 0.076206 seconds.\n",
      "You can set `force_row_wise=true` to remove the overhead.\n",
      "And if memory is not enough, you can set `force_col_wise=true`.\n",
      "[LightGBM] [Info] Total Bins 11643\n",
      "[LightGBM] [Info] Number of data points in the train set: 21645, number of used features: 590\n",
      "[LightGBM] [Info] [binary:BoostFromScore]: pavg=0.491106 -> initscore=-0.035578\n",
      "[LightGBM] [Info] Start training from score -0.035578\n",
      "[LightGBM] [Info] Number of positive: 10630, number of negative: 11015\n",
      "[LightGBM] [Info] Auto-choosing row-wise multi-threading, the overhead of testing was 0.075943 seconds.\n",
      "You can set `force_row_wise=true` to remove the overhead.\n",
      "And if memory is not enough, you can set `force_col_wise=true`.\n",
      "[LightGBM] [Info] Total Bins 11622\n",
      "[LightGBM] [Info] Number of data points in the train set: 21645, number of used features: 587\n",
      "[LightGBM] [Info] [binary:BoostFromScore]: pavg=0.491106 -> initscore=-0.035578\n",
      "[LightGBM] [Info] Start training from score -0.035578\n",
      "[LightGBM] [Info] Number of positive: 10629, number of negative: 11016\n",
      "[LightGBM] [Info] Auto-choosing col-wise multi-threading, the overhead of testing was 0.077132 seconds.\n",
      "You can set `force_col_wise=true` to remove the overhead.\n",
      "[LightGBM] [Info] Total Bins 11731\n",
      "[LightGBM] [Info] Number of data points in the train set: 21645, number of used features: 599\n",
      "[LightGBM] [Info] [binary:BoostFromScore]: pavg=0.491060 -> initscore=-0.035763\n",
      "[LightGBM] [Info] Start training from score -0.035763\n",
      "[LightGBM] [Info] Number of positive: 10629, number of negative: 11015\n",
      "[LightGBM] [Info] Auto-choosing col-wise multi-threading, the overhead of testing was 0.075525 seconds.\n",
      "You can set `force_col_wise=true` to remove the overhead.\n",
      "[LightGBM] [Info] Total Bins 11656\n",
      "[LightGBM] [Info] Number of data points in the train set: 21644, number of used features: 591\n",
      "[LightGBM] [Info] [binary:BoostFromScore]: pavg=0.491083 -> initscore=-0.035672\n",
      "[LightGBM] [Info] Start training from score -0.035672\n",
      "[LightGBM] [Info] Number of positive: 10630, number of negative: 11015\n",
      "[LightGBM] [Info] Auto-choosing row-wise multi-threading, the overhead of testing was 0.083023 seconds.\n",
      "You can set `force_row_wise=true` to remove the overhead.\n",
      "And if memory is not enough, you can set `force_col_wise=true`.\n",
      "[LightGBM] [Info] Total Bins 11743\n",
      "[LightGBM] [Info] Number of data points in the train set: 21645, number of used features: 597\n",
      "[LightGBM] [Info] [binary:BoostFromScore]: pavg=0.491106 -> initscore=-0.035578\n",
      "[LightGBM] [Info] Start training from score -0.035578\n",
      "[LightGBM] [Info] Number of positive: 10630, number of negative: 11015\n",
      "[LightGBM] [Info] Auto-choosing row-wise multi-threading, the overhead of testing was 0.077380 seconds.\n",
      "You can set `force_row_wise=true` to remove the overhead.\n",
      "And if memory is not enough, you can set `force_col_wise=true`.\n",
      "[LightGBM] [Info] Total Bins 11643\n",
      "[LightGBM] [Info] Number of data points in the train set: 21645, number of used features: 590\n",
      "[LightGBM] [Info] [binary:BoostFromScore]: pavg=0.491106 -> initscore=-0.035578\n",
      "[LightGBM] [Info] Start training from score -0.035578\n",
      "[LightGBM] [Info] Number of positive: 10630, number of negative: 11015\n",
      "[LightGBM] [Info] Auto-choosing row-wise multi-threading, the overhead of testing was 0.075634 seconds.\n",
      "You can set `force_row_wise=true` to remove the overhead.\n",
      "And if memory is not enough, you can set `force_col_wise=true`.\n",
      "[LightGBM] [Info] Total Bins 11622\n",
      "[LightGBM] [Info] Number of data points in the train set: 21645, number of used features: 587\n",
      "[LightGBM] [Info] [binary:BoostFromScore]: pavg=0.491106 -> initscore=-0.035578\n",
      "[LightGBM] [Info] Start training from score -0.035578\n",
      "[LightGBM] [Info] Number of positive: 10629, number of negative: 11016\n",
      "[LightGBM] [Info] Auto-choosing row-wise multi-threading, the overhead of testing was 0.077295 seconds.\n",
      "You can set `force_row_wise=true` to remove the overhead.\n",
      "And if memory is not enough, you can set `force_col_wise=true`.\n",
      "[LightGBM] [Info] Total Bins 11731\n",
      "[LightGBM] [Info] Number of data points in the train set: 21645, number of used features: 599\n",
      "[LightGBM] [Info] [binary:BoostFromScore]: pavg=0.491060 -> initscore=-0.035763\n",
      "[LightGBM] [Info] Start training from score -0.035763\n",
      "[LightGBM] [Info] Number of positive: 10629, number of negative: 11015\n",
      "[LightGBM] [Info] Auto-choosing row-wise multi-threading, the overhead of testing was 0.076385 seconds.\n",
      "You can set `force_row_wise=true` to remove the overhead.\n",
      "And if memory is not enough, you can set `force_col_wise=true`.\n",
      "[LightGBM] [Info] Total Bins 11656\n",
      "[LightGBM] [Info] Number of data points in the train set: 21644, number of used features: 591\n",
      "[LightGBM] [Info] [binary:BoostFromScore]: pavg=0.491083 -> initscore=-0.035672\n",
      "[LightGBM] [Info] Start training from score -0.035672\n",
      "[LightGBM] [Info] Number of positive: 10630, number of negative: 11015\n",
      "[LightGBM] [Info] Auto-choosing row-wise multi-threading, the overhead of testing was 0.076981 seconds.\n",
      "You can set `force_row_wise=true` to remove the overhead.\n",
      "And if memory is not enough, you can set `force_col_wise=true`.\n",
      "[LightGBM] [Info] Total Bins 11743\n",
      "[LightGBM] [Info] Number of data points in the train set: 21645, number of used features: 597\n",
      "[LightGBM] [Info] [binary:BoostFromScore]: pavg=0.491106 -> initscore=-0.035578\n",
      "[LightGBM] [Info] Start training from score -0.035578\n",
      "[LightGBM] [Info] Number of positive: 10630, number of negative: 11015\n",
      "[LightGBM] [Info] Auto-choosing row-wise multi-threading, the overhead of testing was 0.123123 seconds.\n",
      "You can set `force_row_wise=true` to remove the overhead.\n",
      "And if memory is not enough, you can set `force_col_wise=true`.\n",
      "[LightGBM] [Info] Total Bins 11643\n",
      "[LightGBM] [Info] Number of data points in the train set: 21645, number of used features: 590\n",
      "[LightGBM] [Info] [binary:BoostFromScore]: pavg=0.491106 -> initscore=-0.035578\n",
      "[LightGBM] [Info] Start training from score -0.035578\n",
      "[LightGBM] [Info] Number of positive: 10630, number of negative: 11015\n",
      "[LightGBM] [Info] Auto-choosing col-wise multi-threading, the overhead of testing was 0.075207 seconds.\n",
      "You can set `force_col_wise=true` to remove the overhead.\n",
      "[LightGBM] [Info] Total Bins 11622\n",
      "[LightGBM] [Info] Number of data points in the train set: 21645, number of used features: 587\n",
      "[LightGBM] [Info] [binary:BoostFromScore]: pavg=0.491106 -> initscore=-0.035578\n",
      "[LightGBM] [Info] Start training from score -0.035578\n",
      "[LightGBM] [Info] Number of positive: 10629, number of negative: 11016\n",
      "[LightGBM] [Info] Auto-choosing col-wise multi-threading, the overhead of testing was 0.076539 seconds.\n",
      "You can set `force_col_wise=true` to remove the overhead.\n",
      "[LightGBM] [Info] Total Bins 11731\n",
      "[LightGBM] [Info] Number of data points in the train set: 21645, number of used features: 599\n",
      "[LightGBM] [Info] [binary:BoostFromScore]: pavg=0.491060 -> initscore=-0.035763\n",
      "[LightGBM] [Info] Start training from score -0.035763\n",
      "[LightGBM] [Info] Number of positive: 10629, number of negative: 11015\n",
      "[LightGBM] [Info] Auto-choosing col-wise multi-threading, the overhead of testing was 0.075407 seconds.\n",
      "You can set `force_col_wise=true` to remove the overhead.\n",
      "[LightGBM] [Info] Total Bins 11656\n",
      "[LightGBM] [Info] Number of data points in the train set: 21644, number of used features: 591\n",
      "[LightGBM] [Info] [binary:BoostFromScore]: pavg=0.491083 -> initscore=-0.035672\n",
      "[LightGBM] [Info] Start training from score -0.035672\n",
      "[LightGBM] [Info] Number of positive: 10630, number of negative: 11015\n",
      "[LightGBM] [Info] Auto-choosing col-wise multi-threading, the overhead of testing was 0.075838 seconds.\n",
      "You can set `force_col_wise=true` to remove the overhead.\n",
      "[LightGBM] [Info] Total Bins 11743\n",
      "[LightGBM] [Info] Number of data points in the train set: 21645, number of used features: 597\n",
      "[LightGBM] [Info] [binary:BoostFromScore]: pavg=0.491106 -> initscore=-0.035578\n",
      "[LightGBM] [Info] Start training from score -0.035578\n",
      "[LightGBM] [Info] Number of positive: 10630, number of negative: 11015\n",
      "[LightGBM] [Info] Auto-choosing col-wise multi-threading, the overhead of testing was 0.076029 seconds.\n",
      "You can set `force_col_wise=true` to remove the overhead.\n",
      "[LightGBM] [Info] Total Bins 11643\n",
      "[LightGBM] [Info] Number of data points in the train set: 21645, number of used features: 590\n",
      "[LightGBM] [Info] [binary:BoostFromScore]: pavg=0.491106 -> initscore=-0.035578\n",
      "[LightGBM] [Info] Start training from score -0.035578\n",
      "[LightGBM] [Info] Number of positive: 10630, number of negative: 11015\n",
      "[LightGBM] [Info] Auto-choosing row-wise multi-threading, the overhead of testing was 0.079381 seconds.\n",
      "You can set `force_row_wise=true` to remove the overhead.\n",
      "And if memory is not enough, you can set `force_col_wise=true`.\n",
      "[LightGBM] [Info] Total Bins 11622\n",
      "[LightGBM] [Info] Number of data points in the train set: 21645, number of used features: 587\n",
      "[LightGBM] [Info] [binary:BoostFromScore]: pavg=0.491106 -> initscore=-0.035578\n",
      "[LightGBM] [Info] Start training from score -0.035578\n",
      "[LightGBM] [Info] Number of positive: 10629, number of negative: 11016\n",
      "[LightGBM] [Info] Auto-choosing row-wise multi-threading, the overhead of testing was 0.077110 seconds.\n",
      "You can set `force_row_wise=true` to remove the overhead.\n",
      "And if memory is not enough, you can set `force_col_wise=true`.\n",
      "[LightGBM] [Info] Total Bins 11731\n",
      "[LightGBM] [Info] Number of data points in the train set: 21645, number of used features: 599\n",
      "[LightGBM] [Info] [binary:BoostFromScore]: pavg=0.491060 -> initscore=-0.035763\n",
      "[LightGBM] [Info] Start training from score -0.035763\n",
      "[LightGBM] [Info] Number of positive: 10629, number of negative: 11015\n",
      "[LightGBM] [Info] Auto-choosing col-wise multi-threading, the overhead of testing was 0.075265 seconds.\n",
      "You can set `force_col_wise=true` to remove the overhead.\n",
      "[LightGBM] [Info] Total Bins 11656\n",
      "[LightGBM] [Info] Number of data points in the train set: 21644, number of used features: 591\n",
      "[LightGBM] [Info] [binary:BoostFromScore]: pavg=0.491083 -> initscore=-0.035672\n",
      "[LightGBM] [Info] Start training from score -0.035672\n",
      "[LightGBM] [Info] Number of positive: 10630, number of negative: 11015\n",
      "[LightGBM] [Info] Auto-choosing row-wise multi-threading, the overhead of testing was 0.077103 seconds.\n",
      "You can set `force_row_wise=true` to remove the overhead.\n",
      "And if memory is not enough, you can set `force_col_wise=true`.\n",
      "[LightGBM] [Info] Total Bins 11743\n",
      "[LightGBM] [Info] Number of data points in the train set: 21645, number of used features: 597\n",
      "[LightGBM] [Info] [binary:BoostFromScore]: pavg=0.491106 -> initscore=-0.035578\n",
      "[LightGBM] [Info] Start training from score -0.035578\n",
      "[LightGBM] [Info] Number of positive: 10630, number of negative: 11015\n",
      "[LightGBM] [Info] Auto-choosing row-wise multi-threading, the overhead of testing was 0.076573 seconds.\n",
      "You can set `force_row_wise=true` to remove the overhead.\n",
      "And if memory is not enough, you can set `force_col_wise=true`.\n",
      "[LightGBM] [Info] Total Bins 11643\n",
      "[LightGBM] [Info] Number of data points in the train set: 21645, number of used features: 590\n",
      "[LightGBM] [Info] [binary:BoostFromScore]: pavg=0.491106 -> initscore=-0.035578\n",
      "[LightGBM] [Info] Start training from score -0.035578\n",
      "[LightGBM] [Info] Number of positive: 10630, number of negative: 11015\n",
      "[LightGBM] [Info] Auto-choosing col-wise multi-threading, the overhead of testing was 0.074988 seconds.\n",
      "You can set `force_col_wise=true` to remove the overhead.\n",
      "[LightGBM] [Info] Total Bins 11622\n",
      "[LightGBM] [Info] Number of data points in the train set: 21645, number of used features: 587\n",
      "[LightGBM] [Info] [binary:BoostFromScore]: pavg=0.491106 -> initscore=-0.035578\n",
      "[LightGBM] [Info] Start training from score -0.035578\n",
      "[LightGBM] [Info] Number of positive: 10629, number of negative: 11016\n",
      "[LightGBM] [Info] Auto-choosing row-wise multi-threading, the overhead of testing was 0.077695 seconds.\n",
      "You can set `force_row_wise=true` to remove the overhead.\n",
      "And if memory is not enough, you can set `force_col_wise=true`.\n",
      "[LightGBM] [Info] Total Bins 11731\n",
      "[LightGBM] [Info] Number of data points in the train set: 21645, number of used features: 599\n",
      "[LightGBM] [Info] [binary:BoostFromScore]: pavg=0.491060 -> initscore=-0.035763\n",
      "[LightGBM] [Info] Start training from score -0.035763\n",
      "[LightGBM] [Info] Number of positive: 10629, number of negative: 11015\n",
      "[LightGBM] [Info] Auto-choosing col-wise multi-threading, the overhead of testing was 0.076646 seconds.\n",
      "You can set `force_col_wise=true` to remove the overhead.\n",
      "[LightGBM] [Info] Total Bins 11656\n",
      "[LightGBM] [Info] Number of data points in the train set: 21644, number of used features: 591\n",
      "[LightGBM] [Info] [binary:BoostFromScore]: pavg=0.491083 -> initscore=-0.035672\n",
      "[LightGBM] [Info] Start training from score -0.035672\n",
      "[LightGBM] [Info] Number of positive: 10630, number of negative: 11015\n",
      "[LightGBM] [Info] Auto-choosing col-wise multi-threading, the overhead of testing was 0.077163 seconds.\n",
      "You can set `force_col_wise=true` to remove the overhead.\n",
      "[LightGBM] [Info] Total Bins 11743\n",
      "[LightGBM] [Info] Number of data points in the train set: 21645, number of used features: 597\n",
      "[LightGBM] [Info] [binary:BoostFromScore]: pavg=0.491106 -> initscore=-0.035578\n",
      "[LightGBM] [Info] Start training from score -0.035578\n",
      "[LightGBM] [Info] Number of positive: 10630, number of negative: 11015\n",
      "[LightGBM] [Info] Auto-choosing col-wise multi-threading, the overhead of testing was 0.076632 seconds.\n",
      "You can set `force_col_wise=true` to remove the overhead.\n",
      "[LightGBM] [Info] Total Bins 11643\n",
      "[LightGBM] [Info] Number of data points in the train set: 21645, number of used features: 590\n",
      "[LightGBM] [Info] [binary:BoostFromScore]: pavg=0.491106 -> initscore=-0.035578\n",
      "[LightGBM] [Info] Start training from score -0.035578\n",
      "[LightGBM] [Info] Number of positive: 10630, number of negative: 11015\n",
      "[LightGBM] [Info] Auto-choosing row-wise multi-threading, the overhead of testing was 0.076039 seconds.\n",
      "You can set `force_row_wise=true` to remove the overhead.\n",
      "And if memory is not enough, you can set `force_col_wise=true`.\n",
      "[LightGBM] [Info] Total Bins 11622\n",
      "[LightGBM] [Info] Number of data points in the train set: 21645, number of used features: 587\n",
      "[LightGBM] [Info] [binary:BoostFromScore]: pavg=0.491106 -> initscore=-0.035578\n",
      "[LightGBM] [Info] Start training from score -0.035578\n",
      "[LightGBM] [Info] Number of positive: 10629, number of negative: 11016\n",
      "[LightGBM] [Info] Auto-choosing row-wise multi-threading, the overhead of testing was 0.077988 seconds.\n",
      "You can set `force_row_wise=true` to remove the overhead.\n",
      "And if memory is not enough, you can set `force_col_wise=true`.\n",
      "[LightGBM] [Info] Total Bins 11731\n",
      "[LightGBM] [Info] Number of data points in the train set: 21645, number of used features: 599\n",
      "[LightGBM] [Info] [binary:BoostFromScore]: pavg=0.491060 -> initscore=-0.035763\n",
      "[LightGBM] [Info] Start training from score -0.035763\n",
      "[LightGBM] [Info] Number of positive: 10629, number of negative: 11015\n",
      "[LightGBM] [Info] Auto-choosing row-wise multi-threading, the overhead of testing was 0.076654 seconds.\n",
      "You can set `force_row_wise=true` to remove the overhead.\n",
      "And if memory is not enough, you can set `force_col_wise=true`.\n",
      "[LightGBM] [Info] Total Bins 11656\n",
      "[LightGBM] [Info] Number of data points in the train set: 21644, number of used features: 591\n",
      "[LightGBM] [Info] [binary:BoostFromScore]: pavg=0.491083 -> initscore=-0.035672\n",
      "[LightGBM] [Info] Start training from score -0.035672\n",
      "[LightGBM] [Info] Number of positive: 10630, number of negative: 11015\n",
      "[LightGBM] [Info] Auto-choosing col-wise multi-threading, the overhead of testing was 0.123369 seconds.\n",
      "You can set `force_col_wise=true` to remove the overhead.\n",
      "[LightGBM] [Info] Total Bins 11743\n",
      "[LightGBM] [Info] Number of data points in the train set: 21645, number of used features: 597\n",
      "[LightGBM] [Info] [binary:BoostFromScore]: pavg=0.491106 -> initscore=-0.035578\n",
      "[LightGBM] [Info] Start training from score -0.035578\n",
      "[LightGBM] [Info] Number of positive: 10630, number of negative: 11015\n",
      "[LightGBM] [Info] Auto-choosing row-wise multi-threading, the overhead of testing was 0.076553 seconds.\n",
      "You can set `force_row_wise=true` to remove the overhead.\n",
      "And if memory is not enough, you can set `force_col_wise=true`.\n",
      "[LightGBM] [Info] Total Bins 11643\n",
      "[LightGBM] [Info] Number of data points in the train set: 21645, number of used features: 590\n",
      "[LightGBM] [Info] [binary:BoostFromScore]: pavg=0.491106 -> initscore=-0.035578\n",
      "[LightGBM] [Info] Start training from score -0.035578\n",
      "[LightGBM] [Info] Number of positive: 10630, number of negative: 11015\n",
      "[LightGBM] [Info] Auto-choosing row-wise multi-threading, the overhead of testing was 0.077215 seconds.\n",
      "You can set `force_row_wise=true` to remove the overhead.\n",
      "And if memory is not enough, you can set `force_col_wise=true`.\n",
      "[LightGBM] [Info] Total Bins 11622\n",
      "[LightGBM] [Info] Number of data points in the train set: 21645, number of used features: 587\n",
      "[LightGBM] [Info] [binary:BoostFromScore]: pavg=0.491106 -> initscore=-0.035578\n",
      "[LightGBM] [Info] Start training from score -0.035578\n",
      "[LightGBM] [Info] Number of positive: 10629, number of negative: 11016\n",
      "[LightGBM] [Info] Auto-choosing row-wise multi-threading, the overhead of testing was 0.077671 seconds.\n",
      "You can set `force_row_wise=true` to remove the overhead.\n",
      "And if memory is not enough, you can set `force_col_wise=true`.\n",
      "[LightGBM] [Info] Total Bins 11731\n",
      "[LightGBM] [Info] Number of data points in the train set: 21645, number of used features: 599\n",
      "[LightGBM] [Info] [binary:BoostFromScore]: pavg=0.491060 -> initscore=-0.035763\n",
      "[LightGBM] [Info] Start training from score -0.035763\n",
      "[LightGBM] [Info] Number of positive: 13287, number of negative: 13769\n",
      "[LightGBM] [Info] Auto-choosing row-wise multi-threading, the overhead of testing was 0.130858 seconds.\n",
      "You can set `force_row_wise=true` to remove the overhead.\n",
      "And if memory is not enough, you can set `force_col_wise=true`.\n",
      "[LightGBM] [Info] Total Bins 16020\n",
      "[LightGBM] [Info] Number of data points in the train set: 27056, number of used features: 815\n",
      "[LightGBM] [Info] [binary:BoostFromScore]: pavg=0.491093 -> initscore=-0.035634\n",
      "[LightGBM] [Info] Start training from score -0.035634\n"
     ]
    },
    {
     "data": {
      "text/plain": [
       "{'boosting_type': 'gbdt',\n",
       " 'learning_rate': 0.2,\n",
       " 'metric': 'binary_logloss',\n",
       " 'n_estimators': 50,\n",
       " 'num_leaves': 63,\n",
       " 'objective': 'binary'}"
      ]
     },
     "execution_count": 47,
     "metadata": {},
     "output_type": "execute_result"
    }
   ],
   "source": [
    "from lightgbm import LGBMClassifier\n",
    "\n",
    "param_grid_ = {\n",
    "    'num_leaves': [15, 31, 63],  \n",
    "    'learning_rate': [0.01, 0.1, 0.2],\n",
    "    'n_estimators': [50, 100, 200],  \n",
    "    'boosting_type': ['gbdt'], \n",
    "    'objective': ['binary'],  \n",
    "    'metric': ['binary_logloss'],\n",
    "}\n",
    "\n",
    "lightgbm_grid = GridSearchCV(\n",
    "    estimator= LGBMClassifier(),\n",
    "    param_grid=param_grid_,\n",
    "    cv=5, \n",
    "    scoring='accuracy',\n",
    "    verbose=0,\n",
    "    n_jobs=-1  \n",
    ")\n",
    "lightgbm_grid.fit(X_train_tfidf, y_train)\n",
    "\n",
    "lightgbm_grid.best_params_"
   ]
  },
  {
   "cell_type": "code",
   "execution_count": 48,
   "id": "f94d4331",
   "metadata": {
    "execution": {
     "iopub.execute_input": "2024-12-17T01:58:24.125623Z",
     "iopub.status.busy": "2024-12-17T01:58:24.125266Z",
     "iopub.status.idle": "2024-12-17T01:58:24.418044Z",
     "shell.execute_reply": "2024-12-17T01:58:24.416907Z"
    },
    "papermill": {
     "duration": 0.320258,
     "end_time": "2024-12-17T01:58:24.420064",
     "exception": false,
     "start_time": "2024-12-17T01:58:24.099806",
     "status": "completed"
    },
    "tags": []
   },
   "outputs": [
    {
     "name": "stdout",
     "output_type": "stream",
     "text": [
      "-------------------> lightgbm\n",
      "Accuracy: 0.70\n",
      "F1-Score for each class:\n",
      "Positive: 0.66\n",
      "Negative: 0.72\n",
      "\n",
      "Classification Report:\n",
      "              precision    recall  f1-score   support\n",
      "\n",
      "    Positive       0.76      0.59      0.66      3443\n",
      "    Negative       0.65      0.81      0.72      3322\n",
      "\n",
      "    accuracy                           0.70      6765\n",
      "   macro avg       0.71      0.70      0.69      6765\n",
      "weighted avg       0.71      0.70      0.69      6765\n",
      "\n"
     ]
    },
    {
     "data": {
      "image/png": "[encoded data removed]",
      "text/plain": [
       "<Figure size 800x600 with 2 Axes>"
      ]
     },
     "metadata": {},
     "output_type": "display_data"
    }
   ],
   "source": [
    "y_hat = lightgbm_grid.best_estimator_.predict(X_test_tfidf)\n",
    "about_model(\"lightgbm\", y_test , y_hat)"
   ]
  },
  {
   "cell_type": "code",
   "execution_count": null,
   "id": "6692b102",
   "metadata": {
    "papermill": {
     "duration": 0.024172,
     "end_time": "2024-12-17T01:58:24.469068",
     "exception": false,
     "start_time": "2024-12-17T01:58:24.444896",
     "status": "completed"
    },
    "tags": []
   },
   "outputs": [],
   "source": []
  },
  {
   "cell_type": "code",
   "execution_count": null,
   "id": "0577b0ec",
   "metadata": {
    "papermill": {
     "duration": 0.024293,
     "end_time": "2024-12-17T01:58:24.519120",
     "exception": false,
     "start_time": "2024-12-17T01:58:24.494827",
     "status": "completed"
    },
    "tags": []
   },
   "outputs": [],
   "source": []
  },
  {
   "cell_type": "code",
   "execution_count": null,
   "id": "d36c3abc",
   "metadata": {
    "papermill": {
     "duration": 0.078585,
     "end_time": "2024-12-17T01:58:24.622397",
     "exception": false,
     "start_time": "2024-12-17T01:58:24.543812",
     "status": "completed"
    },
    "tags": []
   },
   "outputs": [],
   "source": []
  },
  {
   "cell_type": "code",
   "execution_count": null,
   "id": "4c92c196",
   "metadata": {
    "papermill": {
     "duration": 0.024323,
     "end_time": "2024-12-17T01:58:24.671504",
     "exception": false,
     "start_time": "2024-12-17T01:58:24.647181",
     "status": "completed"
    },
    "tags": []
   },
   "outputs": [],
   "source": []
  }
 ],
 "metadata": {
  "kaggle": {
   "accelerator": "none",
   "dataSources": [
    {
     "datasetId": 6047175,
     "sourceId": 10133321,
     "sourceType": "datasetVersion"
    },
    {
     "datasetId": 6094692,
     "sourceId": 10181710,
     "sourceType": "datasetVersion"
    }
   ],
   "dockerImageVersionId": 30804,
   "isGpuEnabled": false,
   "isInternetEnabled": true,
   "language": "python",
   "sourceType": "notebook"
  },
  "kernelspec": {
   "display_name": "Python 3",
   "language": "python",
   "name": "python3"
  },
  "language_info": {
   "codemirror_mode": {
    "name": "ipython",
    "version": 3
   },
   "file_extension": ".py",
   "mimetype": "text/x-python",
   "name": "python",
   "nbconvert_exporter": "python",
   "pygments_lexer": "ipython3",
   "version": "3.10.14"
  },
  "papermill": {
   "default_parameters": {},
   "duration": 35314.945125,
   "end_time": "2024-12-17T01:58:27.315866",
   "environment_variables": {},
   "exception": null,
   "input_path": "__notebook__.ipynb",
   "output_path": "__notebook__.ipynb",
   "parameters": {},
   "start_time": "2024-12-16T16:09:52.370741",
   "version": "2.6.0"
  }
 },
 "nbformat": 4,
 "nbformat_minor": 5
}
