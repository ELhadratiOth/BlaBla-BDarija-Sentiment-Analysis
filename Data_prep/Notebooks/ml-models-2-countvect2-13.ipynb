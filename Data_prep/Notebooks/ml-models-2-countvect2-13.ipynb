{
 "cells": [
  {
   "cell_type": "markdown",
   "id": "e8044d9b",
   "metadata": {
    "papermill": {
     "duration": 0.011908,
     "end_time": "2024-12-20T15:24:20.533482",
     "exception": false,
     "start_time": "2024-12-20T15:24:20.521574",
     "status": "completed"
    },
    "tags": []
   },
   "source": [
    "# Darija Text Classification using ML Algorithms\n"
   ]
  },
  {
   "cell_type": "markdown",
   "id": "862bbd9e",
   "metadata": {
    "papermill": {
     "duration": 0.010447,
     "end_time": "2024-12-20T15:24:20.555932",
     "exception": false,
     "start_time": "2024-12-20T15:24:20.545485",
     "status": "completed"
    },
    "tags": []
   },
   "source": [
    "## Setup and Data Loading\n",
    "In this section, we:\n",
    "- Import required libraries\n",
    "- Load and prepare our Darija dataset\n",
    "- Set up configuration parameters"
   ]
  },
  {
   "cell_type": "code",
   "execution_count": 1,
   "id": "ad6035c6",
   "metadata": {
    "execution": {
     "iopub.execute_input": "2024-12-20T15:24:20.578880Z",
     "iopub.status.busy": "2024-12-20T15:24:20.578474Z",
     "iopub.status.idle": "2024-12-20T15:24:20.593688Z",
     "shell.execute_reply": "2024-12-20T15:24:20.592541Z"
    },
    "papermill": {
     "duration": 0.029448,
     "end_time": "2024-12-20T15:24:20.595896",
     "exception": false,
     "start_time": "2024-12-20T15:24:20.566448",
     "status": "completed"
    },
    "tags": []
   },
   "outputs": [
    {
     "name": "stdout",
     "output_type": "stream",
     "text": [
      "Current working directory: /kaggle/input/ma-datasets\n",
      "Directory contents: ['suf_pref_darija.json', 'stop_words_accum.json', 'set2.csv', 'set7.csv', 'set5.csv', 'darija_latin_ref.json', 'set4.csv', 'scaped_comments.csv', 'set3.csv', 'cleaned_clustered_data.csv', 'set1.csv']\n"
     ]
    }
   ],
   "source": [
    "import os \n",
    "os.chdir('/kaggle/input/ma-datasets') \n",
    "current_directory = os.getcwd()\n",
    "print(\"Current working directory:\", current_directory)\n",
    "contents = os.listdir()\n",
    "print(\"Directory contents:\", contents)"
   ]
  },
  {
   "cell_type": "code",
   "execution_count": 2,
   "id": "093b7287",
   "metadata": {
    "execution": {
     "iopub.execute_input": "2024-12-20T15:24:20.619115Z",
     "iopub.status.busy": "2024-12-20T15:24:20.618705Z",
     "iopub.status.idle": "2024-12-20T15:24:36.862767Z",
     "shell.execute_reply": "2024-12-20T15:24:36.861448Z"
    },
    "papermill": {
     "duration": 16.258646,
     "end_time": "2024-12-20T15:24:36.865426",
     "exception": false,
     "start_time": "2024-12-20T15:24:20.606780",
     "status": "completed"
    },
    "tags": []
   },
   "outputs": [
    {
     "name": "stdout",
     "output_type": "stream",
     "text": [
      "Requirement already satisfied: pandas in /opt/conda/lib/python3.10/site-packages (2.2.3)\r\n",
      "Requirement already satisfied: PyArabic in /opt/conda/lib/python3.10/site-packages (0.6.15)\r\n",
      "Collecting Tashaphyne\r\n",
      "  Downloading Tashaphyne-0.3.6-py3-none-any.whl.metadata (18 kB)\r\n",
      "Collecting pydoda\r\n",
      "  Downloading pydoda-1.2.1-py3-none-any.whl.metadata (5.8 kB)\r\n",
      "Collecting Arabic-Stopwords\r\n",
      "  Downloading Arabic_Stopwords-0.4.3-py3-none-any.whl.metadata (8.9 kB)\r\n",
      "Requirement already satisfied: seaborn in /opt/conda/lib/python3.10/site-packages (0.12.2)\r\n",
      "Requirement already satisfied: scikit-learn in /opt/conda/lib/python3.10/site-packages (1.2.2)\r\n",
      "Requirement already satisfied: emoji in /opt/conda/lib/python3.10/site-packages (2.14.0)\r\n",
      "Requirement already satisfied: xgboost in /opt/conda/lib/python3.10/site-packages (2.0.3)\r\n",
      "Requirement already satisfied: lightgbm in /opt/conda/lib/python3.10/site-packages (4.2.0)\r\n",
      "Requirement already satisfied: numpy>=1.22.4 in /opt/conda/lib/python3.10/site-packages (from pandas) (1.26.4)\r\n",
      "Requirement already satisfied: python-dateutil>=2.8.2 in /opt/conda/lib/python3.10/site-packages (from pandas) (2.9.0.post0)\r\n",
      "Requirement already satisfied: pytz>=2020.1 in /opt/conda/lib/python3.10/site-packages (from pandas) (2024.1)\r\n",
      "Requirement already satisfied: tzdata>=2022.7 in /opt/conda/lib/python3.10/site-packages (from pandas) (2024.1)\r\n",
      "Requirement already satisfied: six>=1.14.0 in /opt/conda/lib/python3.10/site-packages (from PyArabic) (1.16.0)\r\n",
      "Requirement already satisfied: matplotlib!=3.6.1,>=3.1 in /opt/conda/lib/python3.10/site-packages (from seaborn) (3.7.5)\r\n",
      "Requirement already satisfied: scipy>=1.3.2 in /opt/conda/lib/python3.10/site-packages (from scikit-learn) (1.14.1)\r\n",
      "Requirement already satisfied: joblib>=1.1.1 in /opt/conda/lib/python3.10/site-packages (from scikit-learn) (1.4.2)\r\n",
      "Requirement already satisfied: threadpoolctl>=2.0.0 in /opt/conda/lib/python3.10/site-packages (from scikit-learn) (3.5.0)\r\n",
      "Requirement already satisfied: contourpy>=1.0.1 in /opt/conda/lib/python3.10/site-packages (from matplotlib!=3.6.1,>=3.1->seaborn) (1.2.1)\r\n",
      "Requirement already satisfied: cycler>=0.10 in /opt/conda/lib/python3.10/site-packages (from matplotlib!=3.6.1,>=3.1->seaborn) (0.12.1)\r\n",
      "Requirement already satisfied: fonttools>=4.22.0 in /opt/conda/lib/python3.10/site-packages (from matplotlib!=3.6.1,>=3.1->seaborn) (4.53.0)\r\n",
      "Requirement already satisfied: kiwisolver>=1.0.1 in /opt/conda/lib/python3.10/site-packages (from matplotlib!=3.6.1,>=3.1->seaborn) (1.4.5)\r\n",
      "Requirement already satisfied: packaging>=20.0 in /opt/conda/lib/python3.10/site-packages (from matplotlib!=3.6.1,>=3.1->seaborn) (21.3)\r\n",
      "Requirement already satisfied: pillow>=6.2.0 in /opt/conda/lib/python3.10/site-packages (from matplotlib!=3.6.1,>=3.1->seaborn) (10.3.0)\r\n",
      "Requirement already satisfied: pyparsing>=2.3.1 in /opt/conda/lib/python3.10/site-packages (from matplotlib!=3.6.1,>=3.1->seaborn) (3.1.2)\r\n",
      "Downloading Tashaphyne-0.3.6-py3-none-any.whl (251 kB)\r\n",
      "\u001b[2K   \u001b[90m━━━━━━━━━━━━━━━━━━━━━━━━━━━━━━━━━━━━━━━━\u001b[0m \u001b[32m251.5/251.5 kB\u001b[0m \u001b[31m12.3 MB/s\u001b[0m eta \u001b[36m0:00:00\u001b[0m\r\n",
      "\u001b[?25hDownloading pydoda-1.2.1-py3-none-any.whl (4.1 MB)\r\n",
      "\u001b[2K   \u001b[90m━━━━━━━━━━━━━━━━━━━━━━━━━━━━━━━━━━━━━━━━\u001b[0m \u001b[32m4.1/4.1 MB\u001b[0m \u001b[31m15.8 MB/s\u001b[0m eta \u001b[36m0:00:00\u001b[0m\r\n",
      "\u001b[?25hDownloading Arabic_Stopwords-0.4.3-py3-none-any.whl (360 kB)\r\n",
      "\u001b[2K   \u001b[90m━━━━━━━━━━━━━━━━━━━━━━━━━━━━━━━━━━━━━━━━\u001b[0m \u001b[32m360.5/360.5 kB\u001b[0m \u001b[31m23.5 MB/s\u001b[0m eta \u001b[36m0:00:00\u001b[0m\r\n",
      "\u001b[?25hInstalling collected packages: Tashaphyne, Arabic-Stopwords, pydoda\r\n",
      "Successfully installed Arabic-Stopwords-0.4.3 Tashaphyne-0.3.6 pydoda-1.2.1\r\n"
     ]
    }
   ],
   "source": [
    "!pip install pandas PyArabic Tashaphyne pydoda Arabic-Stopwords seaborn scikit-learn emoji xgboost lightgbm "
   ]
  },
  {
   "cell_type": "code",
   "execution_count": 3,
   "id": "e6514502",
   "metadata": {
    "execution": {
     "iopub.execute_input": "2024-12-20T15:24:36.891910Z",
     "iopub.status.busy": "2024-12-20T15:24:36.891503Z",
     "iopub.status.idle": "2024-12-20T15:24:39.328893Z",
     "shell.execute_reply": "2024-12-20T15:24:39.327632Z"
    },
    "papermill": {
     "duration": 2.453929,
     "end_time": "2024-12-20T15:24:39.331367",
     "exception": false,
     "start_time": "2024-12-20T15:24:36.877438",
     "status": "completed"
    },
    "tags": []
   },
   "outputs": [],
   "source": [
    "import pandas as pd\n",
    "from sklearn.model_selection import GridSearchCV\n",
    "import re\n",
    "from tashaphyne.stemming import ArabicLightStemmer\n",
    "import json\n",
    "import emoji \n"
   ]
  },
  {
   "cell_type": "code",
   "execution_count": 4,
   "id": "94c95cdc",
   "metadata": {
    "execution": {
     "iopub.execute_input": "2024-12-20T15:24:39.358881Z",
     "iopub.status.busy": "2024-12-20T15:24:39.358363Z",
     "iopub.status.idle": "2024-12-20T15:24:39.745779Z",
     "shell.execute_reply": "2024-12-20T15:24:39.744689Z"
    },
    "papermill": {
     "duration": 0.404456,
     "end_time": "2024-12-20T15:24:39.748235",
     "exception": false,
     "start_time": "2024-12-20T15:24:39.343779",
     "status": "completed"
    },
    "tags": []
   },
   "outputs": [],
   "source": [
    "df = pd.read_csv(\"/kaggle/input/dataset/dataset (18).csv\")"
   ]
  },
  {
   "cell_type": "code",
   "execution_count": 5,
   "id": "ddc2954f",
   "metadata": {
    "execution": {
     "iopub.execute_input": "2024-12-20T15:24:39.773967Z",
     "iopub.status.busy": "2024-12-20T15:24:39.773544Z",
     "iopub.status.idle": "2024-12-20T15:24:39.803892Z",
     "shell.execute_reply": "2024-12-20T15:24:39.802747Z"
    },
    "papermill": {
     "duration": 0.045935,
     "end_time": "2024-12-20T15:24:39.806269",
     "exception": false,
     "start_time": "2024-12-20T15:24:39.760334",
     "status": "completed"
    },
    "tags": []
   },
   "outputs": [
    {
     "name": "stderr",
     "output_type": "stream",
     "text": [
      "/tmp/ipykernel_17/177686370.py:1: DeprecationWarning: DataFrameGroupBy.apply operated on the grouping columns. This behavior is deprecated, and in a future version of pandas the grouping columns will be excluded from the operation. Either pass `include_groups=False` to exclude the groupings or explicitly select the grouping columns after groupby to silence this warning.\n",
      "  df = df.groupby('target', group_keys=False).apply(\n"
     ]
    }
   ],
   "source": [
    "df = df.groupby('target', group_keys=False).apply(\n",
    "    lambda x: x.sample(frac=0.5)\n",
    ")"
   ]
  },
  {
   "cell_type": "code",
   "execution_count": 6,
   "id": "4375ab01",
   "metadata": {
    "execution": {
     "iopub.execute_input": "2024-12-20T15:24:39.832213Z",
     "iopub.status.busy": "2024-12-20T15:24:39.831764Z",
     "iopub.status.idle": "2024-12-20T15:24:39.855678Z",
     "shell.execute_reply": "2024-12-20T15:24:39.854349Z"
    },
    "papermill": {
     "duration": 0.039727,
     "end_time": "2024-12-20T15:24:39.858148",
     "exception": false,
     "start_time": "2024-12-20T15:24:39.818421",
     "status": "completed"
    },
    "tags": []
   },
   "outputs": [
    {
     "name": "stdout",
     "output_type": "stream",
     "text": [
      "<class 'pandas.core.frame.DataFrame'>\n",
      "Index: 17500 entries, 33108 to 1703\n",
      "Data columns (total 3 columns):\n",
      " #   Column        Non-Null Count  Dtype \n",
      "---  ------        --------------  ----- \n",
      " 0   text          17500 non-null  object\n",
      " 1   target        17500 non-null  int64 \n",
      " 2   text_cleaned  16908 non-null  object\n",
      "dtypes: int64(1), object(2)\n",
      "memory usage: 546.9+ KB\n"
     ]
    }
   ],
   "source": [
    "df.info()"
   ]
  },
  {
   "cell_type": "markdown",
   "id": "3ead8751",
   "metadata": {
    "papermill": {
     "duration": 0.012127,
     "end_time": "2024-12-20T15:24:39.882486",
     "exception": false,
     "start_time": "2024-12-20T15:24:39.870359",
     "status": "completed"
    },
    "tags": []
   },
   "source": [
    "## Data Preprocessing\n",
    "Key preprocessing steps for Darija text:\n",
    "- Text cleaning and normalization\n",
    "- Feature extraction\n",
    "- Train-test split\n"
   ]
  },
  {
   "cell_type": "code",
   "execution_count": 7,
   "id": "eebd4bdb",
   "metadata": {
    "execution": {
     "iopub.execute_input": "2024-12-20T15:24:39.908784Z",
     "iopub.status.busy": "2024-12-20T15:24:39.907960Z",
     "iopub.status.idle": "2024-12-20T15:24:39.918592Z",
     "shell.execute_reply": "2024-12-20T15:24:39.917573Z"
    },
    "papermill": {
     "duration": 0.026364,
     "end_time": "2024-12-20T15:24:39.920864",
     "exception": false,
     "start_time": "2024-12-20T15:24:39.894500",
     "status": "completed"
    },
    "tags": []
   },
   "outputs": [],
   "source": [
    "darija_alphabet = {\n",
    "    \"gh\": \"غ\",\n",
    "    \"sh\": \"ش\",\n",
    "    \"ch\": \"ش\",\n",
    "    \"ss\": \"س\",\n",
    "    \"kh\": \"خ\",\n",
    "    \"ç\": \"س\",\n",
    "    \"ou\": \"و\",    \n",
    "    \"ei\": \"ي\",    \n",
    "    \"ay\": \"ي\",    \n",
    "    \"ae\": \"ي\",   \n",
    "    \"5\": \"خ\",     \n",
    "    \"2\": \"ا\",    \n",
    "    \"b\": \"ب\",\n",
    "    \"t\": \"ت\",\n",
    "    \"j\": \"ج\",\n",
    "    \"7\": \"ح\",\n",
    "    \"d\": \"د\",\n",
    "    \"r\": \"ر\",\n",
    "    \"z\": \"ز\",\n",
    "    \"s\": \"س\",\n",
    "    \"9\": \"ق\",\n",
    "    \"3\": \"ع\",\n",
    "    \"4\": \"غ\",\n",
    "    \"f\": \"ف\",\n",
    "    \"q\": \"ك\",\n",
    "    \"k\": \"ك\",\n",
    "    \"l\": \"ل\",\n",
    "    \"m\": \"م\",\n",
    "    \"n\": \"ن\",\n",
    "    \"h\": \"ه\",\n",
    "    \"w\": \"و\",\n",
    "    \"y\": \"ي\",\n",
    "    \"g\": \"ڭ\",\n",
    "    'i': 'ي',\n",
    "    'ee': 'ي',\n",
    "    'aa': 'ا',\n",
    "    'oo': 'و',\n",
    "    'o': 'و',\n",
    "    \"x\": \"ش\",\n",
    "}\n",
    "word_in = [\n",
    "    \"ء\", \"أ\", \"إ\", \"آ\", \"ؤ\", \"ئ\", \"ة\", \"ى\",\"-\", \"/\", \".\", \"،\", '\"', \"'\", \"\\\\\", \"?\", \"؟\", \"!\", \"،\", \"؛\",\":\",\"#\", \"@\", \"&\", \"=\", \"¥\", \"$\", \"%\", \"*\", \"+\", \"<\", \">\", \"|\", \"~\", \"^\", \n",
    "    \"\\n\", \"\\t\", \"\\r\", \" و\",\"ذ\", \"ظ\", \"ض\", \"ص\",\"(\", \")\", \"[\", \"]\", \"{\", \"}\", \"《\", \"》\", \"«\", \"»\"\n",
    "]\n",
    "\n",
    "replaced_by = [\n",
    "    \"ا\", \"ا\", \"ا\", \"ا\", \"ا\", \"ا\", \"ه\", \"ي\",\" \", \"\", \"\", \"\", \"\", \"\", \"\", \" ? \", \" ؟ \", \" ! \", \"\", \"\", \"\",\n",
    "    \"\", \"\", \"\", \"\", \"\", \"\", \"\", \"\", \"\", \"\", \"\", \"\", \"\", \"\",\" \", \" \", \" \", \"\",\n",
    "    \"د\", \"د\", \"د\", \"س\",\"\", \"\", \"\", \"\", \"\", \"\", \"\", \"\", \"\", \"\"\n",
    "]\n",
    "\n",
    "arabic_alphabet = \"ابتثجحخدذرزسشصضطظعغفقكلمنهوي\""
   ]
  },
  {
   "cell_type": "code",
   "execution_count": 8,
   "id": "ed92a063",
   "metadata": {
    "execution": {
     "iopub.execute_input": "2024-12-20T15:24:39.946580Z",
     "iopub.status.busy": "2024-12-20T15:24:39.946168Z",
     "iopub.status.idle": "2024-12-20T15:24:39.951291Z",
     "shell.execute_reply": "2024-12-20T15:24:39.950228Z"
    },
    "papermill": {
     "duration": 0.020514,
     "end_time": "2024-12-20T15:24:39.953425",
     "exception": false,
     "start_time": "2024-12-20T15:24:39.932911",
     "status": "completed"
    },
    "tags": []
   },
   "outputs": [],
   "source": [
    "from pyarabic.araby import strip_diacritics\n",
    "#remove tashkeel\n",
    "def removing_tashkeel(word): # useed\n",
    "          return strip_diacritics(word)"
   ]
  },
  {
   "cell_type": "code",
   "execution_count": 9,
   "id": "6a9e1cea",
   "metadata": {
    "execution": {
     "iopub.execute_input": "2024-12-20T15:24:39.979564Z",
     "iopub.status.busy": "2024-12-20T15:24:39.979142Z",
     "iopub.status.idle": "2024-12-20T15:24:39.984443Z",
     "shell.execute_reply": "2024-12-20T15:24:39.983257Z"
    },
    "papermill": {
     "duration": 0.021194,
     "end_time": "2024-12-20T15:24:39.986713",
     "exception": false,
     "start_time": "2024-12-20T15:24:39.965519",
     "status": "completed"
    },
    "tags": []
   },
   "outputs": [],
   "source": [
    "from pyarabic.araby import strip_tatweel\n",
    "\n",
    "#remove tatweel l2imdad\n",
    "def removing_tatweel(word): # useed\n",
    "          return strip_tatweel(word)"
   ]
  },
  {
   "cell_type": "code",
   "execution_count": 10,
   "id": "efc35a0f",
   "metadata": {
    "execution": {
     "iopub.execute_input": "2024-12-20T15:24:40.012613Z",
     "iopub.status.busy": "2024-12-20T15:24:40.012244Z",
     "iopub.status.idle": "2024-12-20T15:24:40.017178Z",
     "shell.execute_reply": "2024-12-20T15:24:40.016182Z"
    },
    "papermill": {
     "duration": 0.020351,
     "end_time": "2024-12-20T15:24:40.019119",
     "exception": false,
     "start_time": "2024-12-20T15:24:39.998768",
     "status": "completed"
    },
    "tags": []
   },
   "outputs": [],
   "source": [
    "from pyarabic.araby import normalize_ligature\n",
    "\n",
    "#remove ligature hamza , alef \n",
    "def removing_ligature(word): # not used \n",
    "          return normalize_ligature(word)"
   ]
  },
  {
   "cell_type": "code",
   "execution_count": 11,
   "id": "de8b9b42",
   "metadata": {
    "execution": {
     "iopub.execute_input": "2024-12-20T15:24:40.044481Z",
     "iopub.status.busy": "2024-12-20T15:24:40.044099Z",
     "iopub.status.idle": "2024-12-20T15:24:40.049138Z",
     "shell.execute_reply": "2024-12-20T15:24:40.048116Z"
    },
    "papermill": {
     "duration": 0.020083,
     "end_time": "2024-12-20T15:24:40.051148",
     "exception": false,
     "start_time": "2024-12-20T15:24:40.031065",
     "status": "completed"
    },
    "tags": []
   },
   "outputs": [],
   "source": [
    "# remove underscore\n",
    "def replace_underscore(word): # useed\n",
    "          return word.replace(\"_\", \" \")"
   ]
  },
  {
   "cell_type": "code",
   "execution_count": 12,
   "id": "2571c014",
   "metadata": {
    "execution": {
     "iopub.execute_input": "2024-12-20T15:24:40.077107Z",
     "iopub.status.busy": "2024-12-20T15:24:40.076656Z",
     "iopub.status.idle": "2024-12-20T15:24:40.081632Z",
     "shell.execute_reply": "2024-12-20T15:24:40.080621Z"
    },
    "papermill": {
     "duration": 0.020572,
     "end_time": "2024-12-20T15:24:40.084175",
     "exception": false,
     "start_time": "2024-12-20T15:24:40.063603",
     "status": "completed"
    },
    "tags": []
   },
   "outputs": [],
   "source": [
    "import pyarabic.araby as araby\n",
    "\n",
    "# remove hamza ambiguity\n",
    "def remove_ambiguity_hamza(word): # useed\n",
    "          return araby.normalize_hamza(word)"
   ]
  },
  {
   "cell_type": "code",
   "execution_count": 13,
   "id": "7f9d4a90",
   "metadata": {
    "execution": {
     "iopub.execute_input": "2024-12-20T15:24:40.110203Z",
     "iopub.status.busy": "2024-12-20T15:24:40.109783Z",
     "iopub.status.idle": "2024-12-20T15:24:40.114810Z",
     "shell.execute_reply": "2024-12-20T15:24:40.113774Z"
    },
    "papermill": {
     "duration": 0.020688,
     "end_time": "2024-12-20T15:24:40.117099",
     "exception": false,
     "start_time": "2024-12-20T15:24:40.096411",
     "status": "completed"
    },
    "tags": []
   },
   "outputs": [],
   "source": [
    "# romove \"AL\"\n",
    "def remove_AL(word): # useed\n",
    "          return re.sub(r'^ال', '', word)"
   ]
  },
  {
   "cell_type": "code",
   "execution_count": 14,
   "id": "b39473d9",
   "metadata": {
    "execution": {
     "iopub.execute_input": "2024-12-20T15:24:40.142633Z",
     "iopub.status.busy": "2024-12-20T15:24:40.142237Z",
     "iopub.status.idle": "2024-12-20T15:24:40.149645Z",
     "shell.execute_reply": "2024-12-20T15:24:40.148522Z"
    },
    "papermill": {
     "duration": 0.022681,
     "end_time": "2024-12-20T15:24:40.151800",
     "exception": false,
     "start_time": "2024-12-20T15:24:40.129119",
     "status": "completed"
    },
    "tags": []
   },
   "outputs": [],
   "source": [
    "# remove repeated characters      \n",
    "def word_remover(word): # useed\n",
    "            if len(word) == 1 or len(word) == 0 or len(word) >= 13:\n",
    "                return \"\"                \n",
    "            else :\n",
    "                # print(word)\n",
    "                for a7rf in arabic_alphabet:\n",
    "                    if a7rf == 'د' or a7rf == 'ه':\n",
    "                        word = re.sub(fr'{a7rf}{{3,}}', a7rf * 2, word).strip()\n",
    "                    else:\n",
    "                        word = re.sub(fr'{a7rf}+', a7rf, word).strip()\n",
    "                # print(word) \n",
    "                for i in range(len(word)):\n",
    "                    if word[i] in word_in:\n",
    "                        index = word_in.index(word[i])\n",
    "                        word = word[:i] + replaced_by[index] + word[i + 1:]\n",
    "\n",
    "                return word\n"
   ]
  },
  {
   "cell_type": "code",
   "execution_count": 15,
   "id": "e7727b7f",
   "metadata": {
    "execution": {
     "iopub.execute_input": "2024-12-20T15:24:40.178326Z",
     "iopub.status.busy": "2024-12-20T15:24:40.177763Z",
     "iopub.status.idle": "2024-12-20T15:24:40.183138Z",
     "shell.execute_reply": "2024-12-20T15:24:40.182022Z"
    },
    "papermill": {
     "duration": 0.021386,
     "end_time": "2024-12-20T15:24:40.185277",
     "exception": false,
     "start_time": "2024-12-20T15:24:40.163891",
     "status": "completed"
    },
    "tags": []
   },
   "outputs": [],
   "source": [
    "# remove emails  \n",
    "def remove_url(text): # useed\n",
    "    text = re.sub(r'(https|http)?:\\/\\/(\\w|\\.|\\/|\\?|\\=|\\&|\\%)*\\b',\n",
    "                  '', text, flags=re.MULTILINE)\n",
    "    return text      \n",
    " "
   ]
  },
  {
   "cell_type": "code",
   "execution_count": 16,
   "id": "04690efe",
   "metadata": {
    "execution": {
     "iopub.execute_input": "2024-12-20T15:24:40.211802Z",
     "iopub.status.busy": "2024-12-20T15:24:40.210725Z",
     "iopub.status.idle": "2024-12-20T15:24:40.216241Z",
     "shell.execute_reply": "2024-12-20T15:24:40.215144Z"
    },
    "papermill": {
     "duration": 0.021084,
     "end_time": "2024-12-20T15:24:40.218483",
     "exception": false,
     "start_time": "2024-12-20T15:24:40.197399",
     "status": "completed"
    },
    "tags": []
   },
   "outputs": [],
   "source": [
    " # remove emails     \n",
    "def remove_emails(text): # useed\n",
    "    text = re.sub(r'[a-zA-Z0-9._%+-]+@[a-zA-Z0-9.-]+\\.[a-zA-Z]{2,}', '', text, flags=re.MULTILINE)\n",
    "    return text  "
   ]
  },
  {
   "cell_type": "code",
   "execution_count": 17,
   "id": "a81e8b9e",
   "metadata": {
    "execution": {
     "iopub.execute_input": "2024-12-20T15:24:40.244115Z",
     "iopub.status.busy": "2024-12-20T15:24:40.243699Z",
     "iopub.status.idle": "2024-12-20T15:24:40.249427Z",
     "shell.execute_reply": "2024-12-20T15:24:40.248381Z"
    },
    "papermill": {
     "duration": 0.021014,
     "end_time": "2024-12-20T15:24:40.251454",
     "exception": false,
     "start_time": "2024-12-20T15:24:40.230440",
     "status": "completed"
    },
    "tags": []
   },
   "outputs": [],
   "source": [
    "def special_tags_and_ponctuations(text):  # Function to clean special tags\n",
    "    text = re.sub(r'&amp;', '', text) \n",
    "    text = re.sub(r'&quot;', '', text)  \n",
    "    text = re.sub(r'!+', '!', text)\n",
    "    text = re.sub(r'\\?+', '?', text)\n",
    "    text = re.sub(r'\\.+', '.', text)\n",
    "\n",
    "    return text"
   ]
  },
  {
   "cell_type": "code",
   "execution_count": 18,
   "id": "ccca834f",
   "metadata": {
    "execution": {
     "iopub.execute_input": "2024-12-20T15:24:40.277242Z",
     "iopub.status.busy": "2024-12-20T15:24:40.276815Z",
     "iopub.status.idle": "2024-12-20T15:24:40.281952Z",
     "shell.execute_reply": "2024-12-20T15:24:40.280696Z"
    },
    "papermill": {
     "duration": 0.020641,
     "end_time": "2024-12-20T15:24:40.284152",
     "exception": false,
     "start_time": "2024-12-20T15:24:40.263511",
     "status": "completed"
    },
    "tags": []
   },
   "outputs": [],
   "source": [
    "def remove_html_tags(text):\n",
    "    text = re.sub(r'<[^>]+>', '', text)\n",
    "    return text"
   ]
  },
  {
   "cell_type": "code",
   "execution_count": 19,
   "id": "48a4ea0f",
   "metadata": {
    "execution": {
     "iopub.execute_input": "2024-12-20T15:24:40.309808Z",
     "iopub.status.busy": "2024-12-20T15:24:40.309440Z",
     "iopub.status.idle": "2024-12-20T15:24:40.314473Z",
     "shell.execute_reply": "2024-12-20T15:24:40.313386Z"
    },
    "papermill": {
     "duration": 0.020203,
     "end_time": "2024-12-20T15:24:40.316528",
     "exception": false,
     "start_time": "2024-12-20T15:24:40.296325",
     "status": "completed"
    },
    "tags": []
   },
   "outputs": [],
   "source": [
    "# hundle emojis\n",
    "def extend_spletting(items):  # helper function to split items\n",
    "    spletting = []\n",
    "    for item in items:\n",
    "        spletting.extend(item.split())\n",
    "    return spletting"
   ]
  },
  {
   "cell_type": "code",
   "execution_count": 20,
   "id": "b086e679",
   "metadata": {
    "execution": {
     "iopub.execute_input": "2024-12-20T15:24:40.342414Z",
     "iopub.status.busy": "2024-12-20T15:24:40.342000Z",
     "iopub.status.idle": "2024-12-20T15:24:40.347309Z",
     "shell.execute_reply": "2024-12-20T15:24:40.346254Z"
    },
    "papermill": {
     "duration": 0.020337,
     "end_time": "2024-12-20T15:24:40.349209",
     "exception": false,
     "start_time": "2024-12-20T15:24:40.328872",
     "status": "completed"
    },
    "tags": []
   },
   "outputs": [],
   "source": [
    "def emoji_hundler(word):  # helper function to handle emojis\n",
    "    word = emoji.demojize(word, language='ar')\n",
    "    word = replace_underscore(word)[1:-1]\n",
    "    return word"
   ]
  },
  {
   "cell_type": "code",
   "execution_count": 21,
   "id": "159a265f",
   "metadata": {
    "execution": {
     "iopub.execute_input": "2024-12-20T15:24:40.375263Z",
     "iopub.status.busy": "2024-12-20T15:24:40.374865Z",
     "iopub.status.idle": "2024-12-20T15:24:40.382022Z",
     "shell.execute_reply": "2024-12-20T15:24:40.381022Z"
    },
    "papermill": {
     "duration": 0.022617,
     "end_time": "2024-12-20T15:24:40.384025",
     "exception": false,
     "start_time": "2024-12-20T15:24:40.361408",
     "status": "completed"
    },
    "tags": []
   },
   "outputs": [],
   "source": [
    "def is_an_emoji(word):\n",
    "    emoji_pattern = re.compile(\"[\"  \n",
    "                               u\"\\U0001F680-\\U0001F6FF\"  # transport and map unicods\n",
    "                               u\"\\U0001F1E0-\\U0001F1FF\"  # flags unicods\n",
    "                               \"]+\", flags=re.UNICODE)\n",
    "\n",
    "    if emoji.is_emoji(word):\n",
    "        word = emoji_pattern.sub(r'', word)\n",
    "        return extend_spletting([emoji_hundler(word)])\n",
    "\n",
    "    elif emoji.purely_emoji(word):\n",
    "        data_of_emojis = emoji.distinct_emoji_list(word)\n",
    "        data = [emoji_hundler(emoji_pattern.sub(r'', item)) for item in data_of_emojis]\n",
    "        return extend_spletting(data)\n",
    "\n",
    "    else:\n",
    "        text_only = re.sub(r'[^\\w\\s?!]', '', word)\n",
    "        data_of_emojis = emoji.distinct_emoji_list(word)\n",
    "        emojis = [emoji_hundler(emoji_pattern.sub(r'', item)) for item in data_of_emojis]\n",
    "        \n",
    "        return [text_only] + extend_spletting(emojis)\n"
   ]
  },
  {
   "cell_type": "code",
   "execution_count": 22,
   "id": "16ea1bc5",
   "metadata": {
    "execution": {
     "iopub.execute_input": "2024-12-20T15:24:40.410519Z",
     "iopub.status.busy": "2024-12-20T15:24:40.410129Z",
     "iopub.status.idle": "2024-12-20T15:24:40.417265Z",
     "shell.execute_reply": "2024-12-20T15:24:40.416144Z"
    },
    "papermill": {
     "duration": 0.023161,
     "end_time": "2024-12-20T15:24:40.419342",
     "exception": false,
     "start_time": "2024-12-20T15:24:40.396181",
     "status": "completed"
    },
    "tags": []
   },
   "outputs": [],
   "source": [
    "# tramslating darija(latin) to daruja(arabic)\n",
    "def translate_darija_to_arabic(word): # useed\n",
    "    # print(\"test\")\n",
    "    word = word.lower()\n",
    "    if  bool(re.compile(r\"[a-z0-9']+\").search(word)):\n",
    "        arabic_word = \"\"\n",
    "        i = 0\n",
    "        while i < len(word):\n",
    "            # print('sadd')\n",
    "            if i + 1 < len(word) and word[i:i+2] in darija_alphabet: # Check for 2 lettrs\n",
    "                arabic_word += darija_alphabet[word[i:i+2]]\n",
    "                i += 2\n",
    "            elif word[i] in darija_alphabet:\n",
    "                arabic_word += darija_alphabet[word[i]]\n",
    "                i += 1\n",
    "            else:\n",
    "                i += 1\n",
    "        return arabic_word\n",
    "    return word\n",
    "      "
   ]
  },
  {
   "cell_type": "code",
   "execution_count": 23,
   "id": "ea3cd177",
   "metadata": {
    "execution": {
     "iopub.execute_input": "2024-12-20T15:24:40.446764Z",
     "iopub.status.busy": "2024-12-20T15:24:40.446372Z",
     "iopub.status.idle": "2024-12-20T15:24:40.451885Z",
     "shell.execute_reply": "2024-12-20T15:24:40.450822Z"
    },
    "papermill": {
     "duration": 0.021178,
     "end_time": "2024-12-20T15:24:40.454083",
     "exception": false,
     "start_time": "2024-12-20T15:24:40.432905",
     "status": "completed"
    },
    "tags": []
   },
   "outputs": [],
   "source": [
    "# remove  number arabic and latin\n",
    "def number_remov(listy): # useed\n",
    "    number_pattern = re.compile(r'^[0-9\\u0660-\\u0669]+$')\n",
    "    cleaned_list = [item for item in listy if not number_pattern.fullmatch(item)] \n",
    "    return cleaned_list   "
   ]
  },
  {
   "cell_type": "code",
   "execution_count": 24,
   "id": "09a74cef",
   "metadata": {
    "execution": {
     "iopub.execute_input": "2024-12-20T15:24:40.479686Z",
     "iopub.status.busy": "2024-12-20T15:24:40.479288Z",
     "iopub.status.idle": "2024-12-20T15:24:40.485571Z",
     "shell.execute_reply": "2024-12-20T15:24:40.484426Z"
    },
    "papermill": {
     "duration": 0.021667,
     "end_time": "2024-12-20T15:24:40.487847",
     "exception": false,
     "start_time": "2024-12-20T15:24:40.466180",
     "status": "completed"
    },
    "tags": []
   },
   "outputs": [],
   "source": [
    "#stemming arabic words     \n",
    "def stemming_darija(word):\n",
    "    # file = \"./Data_prep/suf_pref_darija.json\" # local run\n",
    "    file = \"suf_pref_darija.json\" \n",
    "\n",
    "    with open(file, 'r', encoding='utf-8') as json_file:\n",
    "        suf_pref = json.load(json_file)\n",
    "\n",
    "    ArListem = ArabicLightStemmer()\n",
    "    ArListem.set_prefix_list(suf_pref['darija_prefixes'])\n",
    "    ArListem.set_suffix_list(suf_pref['darija_suffixes'])\n",
    "    ArListem.light_stem(word)  \n",
    "    return ArListem.get_stem() "
   ]
  },
  {
   "cell_type": "code",
   "execution_count": 25,
   "id": "20f38bad",
   "metadata": {
    "execution": {
     "iopub.execute_input": "2024-12-20T15:24:40.514124Z",
     "iopub.status.busy": "2024-12-20T15:24:40.513685Z",
     "iopub.status.idle": "2024-12-20T15:24:40.519115Z",
     "shell.execute_reply": "2024-12-20T15:24:40.517971Z"
    },
    "papermill": {
     "duration": 0.021406,
     "end_time": "2024-12-20T15:24:40.521417",
     "exception": false,
     "start_time": "2024-12-20T15:24:40.500011",
     "status": "completed"
    },
    "tags": []
   },
   "outputs": [],
   "source": [
    "# \"03:44\"\n",
    "def remove_yt_timers(text):\n",
    "    pattern = r'\\b\\d{1,2}:\\d{2,3}(:\\d{2,3})?\\b'\n",
    "    text = re.sub(pattern, '', text)\n",
    "    return text.strip()"
   ]
  },
  {
   "cell_type": "code",
   "execution_count": 26,
   "id": "44d94f95",
   "metadata": {
    "execution": {
     "iopub.execute_input": "2024-12-20T15:24:40.547713Z",
     "iopub.status.busy": "2024-12-20T15:24:40.546941Z",
     "iopub.status.idle": "2024-12-20T15:24:40.552070Z",
     "shell.execute_reply": "2024-12-20T15:24:40.551070Z"
    },
    "papermill": {
     "duration": 0.020124,
     "end_time": "2024-12-20T15:24:40.553923",
     "exception": false,
     "start_time": "2024-12-20T15:24:40.533799",
     "status": "completed"
    },
    "tags": []
   },
   "outputs": [],
   "source": [
    "\n",
    "def preproc_arab_sentence(word): # main function for  arab processing tokens\n",
    "    word = removing_tashkeel(word)\n",
    "    word = removing_tatweel(word)\n",
    "    word = remove_AL(word)\n",
    "    # word = remove_ambiguity_hamza(word)\n",
    "    word = word_remover(word)\n",
    "    return word\n"
   ]
  },
  {
   "cell_type": "code",
   "execution_count": 27,
   "id": "6adc3b64",
   "metadata": {
    "execution": {
     "iopub.execute_input": "2024-12-20T15:24:40.579436Z",
     "iopub.status.busy": "2024-12-20T15:24:40.579009Z",
     "iopub.status.idle": "2024-12-20T15:24:40.588571Z",
     "shell.execute_reply": "2024-12-20T15:24:40.587354Z"
    },
    "papermill": {
     "duration": 0.024885,
     "end_time": "2024-12-20T15:24:40.590738",
     "exception": false,
     "start_time": "2024-12-20T15:24:40.565853",
     "status": "completed"
    },
    "tags": []
   },
   "outputs": [],
   "source": [
    "from pyarabic.araby import tokenize\n",
    "def tokenize_arab_text(text):\n",
    "            # with open('./Data_prep/stop_words_accum.json', 'r', encoding='utf-8') as file: #  local run \n",
    "            with open('./stop_words_accum.json', 'r', encoding='utf-8') as file:\n",
    "\n",
    "                stop_words = json.load(file)\n",
    "\n",
    "            # with open('./Data_prep/darija_latin_ref.json', 'r', encoding='utf-8') as file: #  local run \n",
    "            with open('./darija_latin_ref.json', 'r', encoding='utf-8') as file:\n",
    "                \n",
    "                darija_latin_ref = json.load(file)\n",
    "          \n",
    "            #print(text)\n",
    "            text = remove_url(text)\n",
    "            text = remove_emails(text)\n",
    "            text = replace_underscore(text)\n",
    "            text = remove_html_tags(text)\n",
    "            text = remove_yt_timers(text)\n",
    "            text = special_tags_and_ponctuations(text)\n",
    "            #tokenization\n",
    "            print(text)\n",
    "            words = tokenize(text)\n",
    "            print(words)\n",
    "            words = [ translate_darija_to_arabic(word) for word in words if word not in darija_latin_ref]\n",
    "            print(words)\n",
    "            words = [is_an_emoji(word) for word in words] \n",
    "            words = [item for sublist in words for item in sublist if item]\n",
    "            words = list(set(words))\n",
    "            print(words)        \n",
    "            words = [word for word in words if word not in stop_words]\n",
    "            print(words)\n",
    "\n",
    "            words = [preproc_arab_sentence(word) for word in words]\n",
    "\n",
    "            # print(words)        \n",
    "            words = [stemming_darija(word) for word in words if word]\n",
    "            words = number_remov(words)\n",
    "\n",
    "\n",
    "            # print(words)\n",
    "            words = ' '.join(words) \n",
    "            return words"
   ]
  },
  {
   "cell_type": "code",
   "execution_count": 28,
   "id": "05298a7e",
   "metadata": {
    "execution": {
     "iopub.execute_input": "2024-12-20T15:24:40.617731Z",
     "iopub.status.busy": "2024-12-20T15:24:40.617348Z",
     "iopub.status.idle": "2024-12-20T15:24:40.633326Z",
     "shell.execute_reply": "2024-12-20T15:24:40.632247Z"
    },
    "papermill": {
     "duration": 0.032048,
     "end_time": "2024-12-20T15:24:40.635551",
     "exception": false,
     "start_time": "2024-12-20T15:24:40.603503",
     "status": "completed"
    },
    "tags": []
   },
   "outputs": [
    {
     "data": {
      "text/html": [
       "<div>\n",
       "<style scoped>\n",
       "    .dataframe tbody tr th:only-of-type {\n",
       "        vertical-align: middle;\n",
       "    }\n",
       "\n",
       "    .dataframe tbody tr th {\n",
       "        vertical-align: top;\n",
       "    }\n",
       "\n",
       "    .dataframe thead th {\n",
       "        text-align: right;\n",
       "    }\n",
       "</style>\n",
       "<table border=\"1\" class=\"dataframe\">\n",
       "  <thead>\n",
       "    <tr style=\"text-align: right;\">\n",
       "      <th></th>\n",
       "      <th>text</th>\n",
       "      <th>target</th>\n",
       "      <th>text_cleaned</th>\n",
       "    </tr>\n",
       "  </thead>\n",
       "  <tbody>\n",
       "    <tr>\n",
       "      <th>33108</th>\n",
       "      <td>للاسف الملك محمد السادس والمخزن يتاجرون بالمغا...</td>\n",
       "      <td>0</td>\n",
       "      <td>لمغاربه مشاهد كرامه لدغط كيكرهوكم يتاجرون اورو...</td>\n",
       "    </tr>\n",
       "    <tr>\n",
       "      <th>15517</th>\n",
       "      <td>ان كنت تخاف الله حقا ابتعد السياسية.فإنها أمان...</td>\n",
       "      <td>0</td>\n",
       "      <td>ابتعد امانه ندامه خز</td>\n",
       "    </tr>\n",
       "    <tr>\n",
       "      <th>4894</th>\n",
       "      <td>جنهم ديركت يا حطب جهنم</td>\n",
       "      <td>0</td>\n",
       "      <td>حطب جنهم جهنم ديرك</td>\n",
       "    </tr>\n",
       "    <tr>\n",
       "      <th>16948</th>\n",
       "      <td>سوف نرى تمرد الشعب الغيور على بلاده إذا تصدرت ...</td>\n",
       "      <td>0</td>\n",
       "      <td>تسدر غيور</td>\n",
       "    </tr>\n",
       "    <tr>\n",
       "      <th>12616</th>\n",
       "      <td>اللغه العربيه في خطر</td>\n",
       "      <td>0</td>\n",
       "      <td>لغه عربيه خطر</td>\n",
       "    </tr>\n",
       "  </tbody>\n",
       "</table>\n",
       "</div>"
      ],
      "text/plain": [
       "                                                    text  target  \\\n",
       "33108  للاسف الملك محمد السادس والمخزن يتاجرون بالمغا...       0   \n",
       "15517  ان كنت تخاف الله حقا ابتعد السياسية.فإنها أمان...       0   \n",
       "4894                              جنهم ديركت يا حطب جهنم       0   \n",
       "16948  سوف نرى تمرد الشعب الغيور على بلاده إذا تصدرت ...       0   \n",
       "12616                               اللغه العربيه في خطر       0   \n",
       "\n",
       "                                            text_cleaned  \n",
       "33108  لمغاربه مشاهد كرامه لدغط كيكرهوكم يتاجرون اورو...  \n",
       "15517                               ابتعد امانه ندامه خز  \n",
       "4894                                  حطب جنهم جهنم ديرك  \n",
       "16948                                          تسدر غيور  \n",
       "12616                                      لغه عربيه خطر  "
      ]
     },
     "execution_count": 28,
     "metadata": {},
     "output_type": "execute_result"
    }
   ],
   "source": [
    "df.head()"
   ]
  },
  {
   "cell_type": "code",
   "execution_count": 29,
   "id": "db947eef",
   "metadata": {
    "execution": {
     "iopub.execute_input": "2024-12-20T15:24:40.661802Z",
     "iopub.status.busy": "2024-12-20T15:24:40.661408Z",
     "iopub.status.idle": "2024-12-20T15:24:40.677273Z",
     "shell.execute_reply": "2024-12-20T15:24:40.676114Z"
    },
    "papermill": {
     "duration": 0.031565,
     "end_time": "2024-12-20T15:24:40.679457",
     "exception": false,
     "start_time": "2024-12-20T15:24:40.647892",
     "status": "completed"
    },
    "tags": []
   },
   "outputs": [
    {
     "name": "stdout",
     "output_type": "stream",
     "text": [
      "<class 'pandas.core.frame.DataFrame'>\n",
      "Index: 17500 entries, 33108 to 1703\n",
      "Data columns (total 3 columns):\n",
      " #   Column        Non-Null Count  Dtype \n",
      "---  ------        --------------  ----- \n",
      " 0   text          17500 non-null  object\n",
      " 1   target        17500 non-null  int64 \n",
      " 2   text_cleaned  16908 non-null  object\n",
      "dtypes: int64(1), object(2)\n",
      "memory usage: 546.9+ KB\n"
     ]
    }
   ],
   "source": [
    "df.info()"
   ]
  },
  {
   "cell_type": "code",
   "execution_count": 30,
   "id": "415e315f",
   "metadata": {
    "execution": {
     "iopub.execute_input": "2024-12-20T15:24:40.706174Z",
     "iopub.status.busy": "2024-12-20T15:24:40.705207Z",
     "iopub.status.idle": "2024-12-20T15:24:40.719523Z",
     "shell.execute_reply": "2024-12-20T15:24:40.718641Z"
    },
    "papermill": {
     "duration": 0.029975,
     "end_time": "2024-12-20T15:24:40.721686",
     "exception": false,
     "start_time": "2024-12-20T15:24:40.691711",
     "status": "completed"
    },
    "tags": []
   },
   "outputs": [],
   "source": [
    "df.dropna(inplace=True)"
   ]
  },
  {
   "cell_type": "code",
   "execution_count": 31,
   "id": "9415c6d1",
   "metadata": {
    "execution": {
     "iopub.execute_input": "2024-12-20T15:24:40.748602Z",
     "iopub.status.busy": "2024-12-20T15:24:40.747869Z",
     "iopub.status.idle": "2024-12-20T15:24:40.766045Z",
     "shell.execute_reply": "2024-12-20T15:24:40.765103Z"
    },
    "papermill": {
     "duration": 0.034305,
     "end_time": "2024-12-20T15:24:40.768488",
     "exception": false,
     "start_time": "2024-12-20T15:24:40.734183",
     "status": "completed"
    },
    "tags": []
   },
   "outputs": [],
   "source": [
    "from sklearn.model_selection import train_test_split\n",
    "\n",
    "X_train, X_test, y_train, y_test = train_test_split( df.drop(columns=[\"target\"]),df[\"target\"], test_size=0.2 , stratify=df['target'] ,shuffle=True , random_state=123)"
   ]
  },
  {
   "cell_type": "code",
   "execution_count": 32,
   "id": "f40b5b65",
   "metadata": {
    "execution": {
     "iopub.execute_input": "2024-12-20T15:24:40.795105Z",
     "iopub.status.busy": "2024-12-20T15:24:40.794655Z",
     "iopub.status.idle": "2024-12-20T15:24:40.804287Z",
     "shell.execute_reply": "2024-12-20T15:24:40.803114Z"
    },
    "papermill": {
     "duration": 0.025278,
     "end_time": "2024-12-20T15:24:40.806466",
     "exception": false,
     "start_time": "2024-12-20T15:24:40.781188",
     "status": "completed"
    },
    "tags": []
   },
   "outputs": [
    {
     "data": {
      "text/plain": [
       "target\n",
       "0    1720\n",
       "1    1662\n",
       "Name: count, dtype: int64"
      ]
     },
     "execution_count": 32,
     "metadata": {},
     "output_type": "execute_result"
    }
   ],
   "source": [
    "y_test.value_counts()"
   ]
  },
  {
   "cell_type": "code",
   "execution_count": 33,
   "id": "89ebcc0a",
   "metadata": {
    "execution": {
     "iopub.execute_input": "2024-12-20T15:24:40.833130Z",
     "iopub.status.busy": "2024-12-20T15:24:40.832094Z",
     "iopub.status.idle": "2024-12-20T15:24:40.838552Z",
     "shell.execute_reply": "2024-12-20T15:24:40.837525Z"
    },
    "papermill": {
     "duration": 0.021832,
     "end_time": "2024-12-20T15:24:40.840577",
     "exception": false,
     "start_time": "2024-12-20T15:24:40.818745",
     "status": "completed"
    },
    "tags": []
   },
   "outputs": [
    {
     "data": {
      "text/plain": [
       "(13526, 2)"
      ]
     },
     "execution_count": 33,
     "metadata": {},
     "output_type": "execute_result"
    }
   ],
   "source": [
    "X_train.shape"
   ]
  },
  {
   "cell_type": "markdown",
   "id": "e573969d",
   "metadata": {
    "papermill": {
     "duration": 0.011971,
     "end_time": "2024-12-20T15:24:40.865371",
     "exception": false,
     "start_time": "2024-12-20T15:24:40.853400",
     "status": "completed"
    },
    "tags": []
   },
   "source": [
    "## Useful Function"
   ]
  },
  {
   "cell_type": "code",
   "execution_count": 34,
   "id": "00adc868",
   "metadata": {
    "execution": {
     "iopub.execute_input": "2024-12-20T15:24:40.891737Z",
     "iopub.status.busy": "2024-12-20T15:24:40.891358Z",
     "iopub.status.idle": "2024-12-20T15:24:41.452079Z",
     "shell.execute_reply": "2024-12-20T15:24:41.450911Z"
    },
    "papermill": {
     "duration": 0.576973,
     "end_time": "2024-12-20T15:24:41.454558",
     "exception": false,
     "start_time": "2024-12-20T15:24:40.877585",
     "status": "completed"
    },
    "tags": []
   },
   "outputs": [],
   "source": [
    "import numpy as np\n",
    "from sklearn.metrics import accuracy_score, f1_score, classification_report, confusion_matrix\n",
    "import seaborn as sns\n",
    "import matplotlib.pyplot as plt\n",
    "\n",
    "def about_model(model_name , y_test, y_pred):\n",
    "    print('-------------------> ' + model_name )\n",
    "    accuracy = accuracy_score(y_test, y_pred)\n",
    "    print(f\"Accuracy: {accuracy:.2f}\")\n",
    "    \n",
    "    f1 = f1_score(y_test, y_pred, average=None)\n",
    "    print(\"F1-Score for each class:\")\n",
    "    class_labels = ['Positive', 'Negative']\n",
    "\n",
    "    for i, score in enumerate(f1):\n",
    "        print(f\"{class_labels[i]}: {score:.2f}\")\n",
    "    \n",
    "    print(\"\\nClassification Report:\")\n",
    "    print(classification_report(y_test, y_pred, target_names=class_labels, digits=2))\n",
    "    \n",
    "    conf_matrix = confusion_matrix(y_test, y_pred)\n",
    "    plt.figure(figsize=(8, 6))\n",
    "    sns.heatmap(conf_matrix, annot=True, fmt='d', cmap='Blues', \n",
    "                xticklabels=class_labels,\n",
    "                yticklabels=class_labels)\n",
    "    plt.xlabel(\"Predicted\")\n",
    "    plt.ylabel(\"Actual\")\n",
    "    plt.title(\"Confusion Matrix\")\n",
    "    plt.show()\n"
   ]
  },
  {
   "cell_type": "markdown",
   "id": "488181d1",
   "metadata": {
    "papermill": {
     "duration": 0.012335,
     "end_time": "2024-12-20T15:24:41.479767",
     "exception": false,
     "start_time": "2024-12-20T15:24:41.467432",
     "status": "completed"
    },
    "tags": []
   },
   "source": [
    "## Feature Engineering\n",
    "Converting text to vectors format:\n",
    "- CountVectorizer (ngram_range=(1, 3) , binary=True)"
   ]
  },
  {
   "cell_type": "code",
   "execution_count": 35,
   "id": "8780d6ee",
   "metadata": {
    "execution": {
     "iopub.execute_input": "2024-12-20T15:24:41.507725Z",
     "iopub.status.busy": "2024-12-20T15:24:41.506454Z",
     "iopub.status.idle": "2024-12-20T15:24:41.512459Z",
     "shell.execute_reply": "2024-12-20T15:24:41.511119Z"
    },
    "papermill": {
     "duration": 0.022226,
     "end_time": "2024-12-20T15:24:41.514516",
     "exception": false,
     "start_time": "2024-12-20T15:24:41.492290",
     "status": "completed"
    },
    "tags": []
   },
   "outputs": [],
   "source": [
    "#from sklearn.feature_extraction.text import TfidfVectorizer\n",
    "\n",
    "\n",
    "#tfidf_vectorizer = TfidfVectorizer(ngram_range=(1, 2))\n",
    "#X_train['text_cleaned'] = X_train['text_cleaned'].astype(str)\n",
    "#X_test['text_cleaned'] = X_test['text_cleaned'].astype(str)\n",
    "\n",
    "#X_train_tfidf = tfidf_vectorizer.fit_transform(X_train['text_cleaned'])\n",
    "#X_test_tfidf = tfidf_vectorizer.transform(X_test['text_cleaned'])\n",
    "\n"
   ]
  },
  {
   "cell_type": "code",
   "execution_count": 36,
   "id": "1adeda22",
   "metadata": {
    "execution": {
     "iopub.execute_input": "2024-12-20T15:24:41.547160Z",
     "iopub.status.busy": "2024-12-20T15:24:41.546018Z",
     "iopub.status.idle": "2024-12-20T15:24:42.845097Z",
     "shell.execute_reply": "2024-12-20T15:24:42.844028Z"
    },
    "papermill": {
     "duration": 1.317131,
     "end_time": "2024-12-20T15:24:42.847240",
     "exception": false,
     "start_time": "2024-12-20T15:24:41.530109",
     "status": "completed"
    },
    "tags": []
   },
   "outputs": [
    {
     "name": "stdout",
     "output_type": "stream",
     "text": [
      "all tokens:  143119\n",
      "reduced tokens:  143119\n"
     ]
    },
    {
     "name": "stderr",
     "output_type": "stream",
     "text": [
      "/opt/conda/lib/python3.10/site-packages/sklearn/feature_extraction/text.py:1380: UserWarning: Upper case characters found in vocabulary while 'lowercase' is True. These entries will not be matched with any documents\n",
      "  warnings.warn(\n"
     ]
    }
   ],
   "source": [
    "from sklearn.feature_extraction.text import CountVectorizer\n",
    "import numpy as np\n",
    "import pandas as pd\n",
    "\n",
    "\n",
    "tfidf_vectorizer = CountVectorizer(ngram_range=(1, 3), binary=True)\n",
    "\n",
    "X_train['text_cleaned'] = X_train['text_cleaned'].astype(str)\n",
    "X_test['text_cleaned'] = X_test['text_cleaned'].astype(str)\n",
    "\n",
    "X_train_tfidf = tfidf_vectorizer.fit_transform(X_train['text_cleaned'])\n",
    "X_test_tfidf = tfidf_vectorizer.transform(X_test['text_cleaned'])\n",
    "\n",
    "words = tfidf_vectorizer.get_feature_names_out()\n",
    "print(\"all tokens: \" , len(words))\n",
    "tfidf_scores = np.asarray(X_train_tfidf.sum(axis=0)).flatten()\n",
    "\n",
    "sorted_indices = np.argsort(tfidf_scores)[::-1]\n",
    "\n",
    "cumulative_tfidf = np.cumsum(tfidf_scores[sorted_indices])\n",
    "\n",
    "total_tfidf = cumulative_tfidf[-1]\n",
    "threshold =  total_tfidf\n",
    "\n",
    "cutoff_index = np.where(cumulative_tfidf >= threshold)[0][0]\n",
    "\n",
    "selected_ngrams = words[sorted_indices][:cutoff_index + 1]\n",
    "\n",
    "selected_vocab = selected_ngrams.tolist()\n",
    "print(\"reduced tokens: \"  , len(selected_vocab))\n",
    "\n",
    "tfidf_vectorizer = CountVectorizer(vocabulary=selected_vocab)\n",
    "\n",
    "X_train_tfidf = tfidf_vectorizer.fit_transform(X_train['text_cleaned'])\n",
    "X_test_tfidf = tfidf_vectorizer.transform(X_test['text_cleaned'])\n"
   ]
  },
  {
   "cell_type": "code",
   "execution_count": 37,
   "id": "90988fca",
   "metadata": {
    "execution": {
     "iopub.execute_input": "2024-12-20T15:24:42.876369Z",
     "iopub.status.busy": "2024-12-20T15:24:42.875578Z",
     "iopub.status.idle": "2024-12-20T15:24:42.978382Z",
     "shell.execute_reply": "2024-12-20T15:24:42.977288Z"
    },
    "papermill": {
     "duration": 0.120666,
     "end_time": "2024-12-20T15:24:42.980683",
     "exception": false,
     "start_time": "2024-12-20T15:24:42.860017",
     "status": "completed"
    },
    "tags": []
   },
   "outputs": [
    {
     "data": {
      "text/plain": [
       "array(['لا', 'غير', 'ما', 'هه', 'ماش', 'سير', 'خير', 'هم', 'حمد', 'قلب',\n",
       "       'تفو', 'لم', 'فرح', 'عداله', 'قوه', 'عديم', 'فكر', 'احسن', 'مبروك',\n",
       "       'تحيه', 'ليس', 'والو', 'بدموع', 'كورو', 'وباا', 'سح', 'وفي', 'طحن',\n",
       "       'تنميه', 'بدون'], dtype=object)"
      ]
     },
     "execution_count": 37,
     "metadata": {},
     "output_type": "execute_result"
    }
   ],
   "source": [
    "tfidf_vectorizer.get_feature_names_out()[:30]"
   ]
  },
  {
   "cell_type": "code",
   "execution_count": 38,
   "id": "c7930045",
   "metadata": {
    "execution": {
     "iopub.execute_input": "2024-12-20T15:24:43.007878Z",
     "iopub.status.busy": "2024-12-20T15:24:43.007472Z",
     "iopub.status.idle": "2024-12-20T15:24:43.102357Z",
     "shell.execute_reply": "2024-12-20T15:24:43.101313Z"
    },
    "papermill": {
     "duration": 0.11095,
     "end_time": "2024-12-20T15:24:43.104472",
     "exception": false,
     "start_time": "2024-12-20T15:24:42.993522",
     "status": "completed"
    },
    "tags": []
   },
   "outputs": [
    {
     "data": {
      "text/plain": [
       "143119"
      ]
     },
     "execution_count": 38,
     "metadata": {},
     "output_type": "execute_result"
    }
   ],
   "source": [
    "len(tfidf_vectorizer.get_feature_names_out())"
   ]
  },
  {
   "cell_type": "markdown",
   "id": "3e9ae023",
   "metadata": {
    "papermill": {
     "duration": 0.01238,
     "end_time": "2024-12-20T15:24:43.129706",
     "exception": false,
     "start_time": "2024-12-20T15:24:43.117326",
     "status": "completed"
    },
    "tags": []
   },
   "source": [
    "## Model Development\n"
   ]
  },
  {
   "cell_type": "markdown",
   "id": "9ad287c6",
   "metadata": {
    "papermill": {
     "duration": 0.013391,
     "end_time": "2024-12-20T15:24:43.155954",
     "exception": false,
     "start_time": "2024-12-20T15:24:43.142563",
     "status": "completed"
    },
    "tags": []
   },
   "source": [
    "### Random Forest"
   ]
  },
  {
   "cell_type": "code",
   "execution_count": 39,
   "id": "36c19765",
   "metadata": {
    "execution": {
     "iopub.execute_input": "2024-12-20T15:24:43.183436Z",
     "iopub.status.busy": "2024-12-20T15:24:43.182989Z",
     "iopub.status.idle": "2024-12-20T15:29:19.673028Z",
     "shell.execute_reply": "2024-12-20T15:29:19.671920Z"
    },
    "papermill": {
     "duration": 276.518421,
     "end_time": "2024-12-20T15:29:19.687481",
     "exception": false,
     "start_time": "2024-12-20T15:24:43.169060",
     "status": "completed"
    },
    "tags": []
   },
   "outputs": [
    {
     "data": {
      "text/html": [
       "<style>#sk-container-id-1 {color: black;background-color: white;}#sk-container-id-1 pre{padding: 0;}#sk-container-id-1 div.sk-toggleable {background-color: white;}#sk-container-id-1 label.sk-toggleable__label {cursor: pointer;display: block;width: 100%;margin-bottom: 0;padding: 0.3em;box-sizing: border-box;text-align: center;}#sk-container-id-1 label.sk-toggleable__label-arrow:before {content: \"▸\";float: left;margin-right: 0.25em;color: #696969;}#sk-container-id-1 label.sk-toggleable__label-arrow:hover:before {color: black;}#sk-container-id-1 div.sk-estimator:hover label.sk-toggleable__label-arrow:before {color: black;}#sk-container-id-1 div.sk-toggleable__content {max-height: 0;max-width: 0;overflow: hidden;text-align: left;background-color: #f0f8ff;}#sk-container-id-1 div.sk-toggleable__content pre {margin: 0.2em;color: black;border-radius: 0.25em;background-color: #f0f8ff;}#sk-container-id-1 input.sk-toggleable__control:checked~div.sk-toggleable__content {max-height: 200px;max-width: 100%;overflow: auto;}#sk-container-id-1 input.sk-toggleable__control:checked~label.sk-toggleable__label-arrow:before {content: \"▾\";}#sk-container-id-1 div.sk-estimator input.sk-toggleable__control:checked~label.sk-toggleable__label {background-color: #d4ebff;}#sk-container-id-1 div.sk-label input.sk-toggleable__control:checked~label.sk-toggleable__label {background-color: #d4ebff;}#sk-container-id-1 input.sk-hidden--visually {border: 0;clip: rect(1px 1px 1px 1px);clip: rect(1px, 1px, 1px, 1px);height: 1px;margin: -1px;overflow: hidden;padding: 0;position: absolute;width: 1px;}#sk-container-id-1 div.sk-estimator {font-family: monospace;background-color: #f0f8ff;border: 1px dotted black;border-radius: 0.25em;box-sizing: border-box;margin-bottom: 0.5em;}#sk-container-id-1 div.sk-estimator:hover {background-color: #d4ebff;}#sk-container-id-1 div.sk-parallel-item::after {content: \"\";width: 100%;border-bottom: 1px solid gray;flex-grow: 1;}#sk-container-id-1 div.sk-label:hover label.sk-toggleable__label {background-color: #d4ebff;}#sk-container-id-1 div.sk-serial::before {content: \"\";position: absolute;border-left: 1px solid gray;box-sizing: border-box;top: 0;bottom: 0;left: 50%;z-index: 0;}#sk-container-id-1 div.sk-serial {display: flex;flex-direction: column;align-items: center;background-color: white;padding-right: 0.2em;padding-left: 0.2em;position: relative;}#sk-container-id-1 div.sk-item {position: relative;z-index: 1;}#sk-container-id-1 div.sk-parallel {display: flex;align-items: stretch;justify-content: center;background-color: white;position: relative;}#sk-container-id-1 div.sk-item::before, #sk-container-id-1 div.sk-parallel-item::before {content: \"\";position: absolute;border-left: 1px solid gray;box-sizing: border-box;top: 0;bottom: 0;left: 50%;z-index: -1;}#sk-container-id-1 div.sk-parallel-item {display: flex;flex-direction: column;z-index: 1;position: relative;background-color: white;}#sk-container-id-1 div.sk-parallel-item:first-child::after {align-self: flex-end;width: 50%;}#sk-container-id-1 div.sk-parallel-item:last-child::after {align-self: flex-start;width: 50%;}#sk-container-id-1 div.sk-parallel-item:only-child::after {width: 0;}#sk-container-id-1 div.sk-dashed-wrapped {border: 1px dashed gray;margin: 0 0.4em 0.5em 0.4em;box-sizing: border-box;padding-bottom: 0.4em;background-color: white;}#sk-container-id-1 div.sk-label label {font-family: monospace;font-weight: bold;display: inline-block;line-height: 1.2em;}#sk-container-id-1 div.sk-label-container {text-align: center;}#sk-container-id-1 div.sk-container {/* jupyter's `normalize.less` sets `[hidden] { display: none; }` but bootstrap.min.css set `[hidden] { display: none !important; }` so we also need the `!important` here to be able to override the default hidden behavior on the sphinx rendered scikit-learn.org. See: https://github.com/scikit-learn/scikit-learn/issues/21755 */display: inline-block !important;position: relative;}#sk-container-id-1 div.sk-text-repr-fallback {display: none;}</style><div id=\"sk-container-id-1\" class=\"sk-top-container\"><div class=\"sk-text-repr-fallback\"><pre>RandomForestClassifier()</pre><b>In a Jupyter environment, please rerun this cell to show the HTML representation or trust the notebook. <br />On GitHub, the HTML representation is unable to render, please try loading this page with nbviewer.org.</b></div><div class=\"sk-container\" hidden><div class=\"sk-item\"><div class=\"sk-estimator sk-toggleable\"><input class=\"sk-toggleable__control sk-hidden--visually\" id=\"sk-estimator-id-1\" type=\"checkbox\" checked><label for=\"sk-estimator-id-1\" class=\"sk-toggleable__label sk-toggleable__label-arrow\">RandomForestClassifier</label><div class=\"sk-toggleable__content\"><pre>RandomForestClassifier()</pre></div></div></div></div></div>"
      ],
      "text/plain": [
       "RandomForestClassifier()"
      ]
     },
     "execution_count": 39,
     "metadata": {},
     "output_type": "execute_result"
    }
   ],
   "source": [
    "from sklearn.ensemble import RandomForestClassifier\n",
    "randomforest_clf = RandomForestClassifier()\n",
    "randomforest_clf.fit(X_train_tfidf, y_train)"
   ]
  },
  {
   "cell_type": "code",
   "execution_count": 40,
   "id": "4884dc15",
   "metadata": {
    "execution": {
     "iopub.execute_input": "2024-12-20T15:29:19.715293Z",
     "iopub.status.busy": "2024-12-20T15:29:19.714293Z",
     "iopub.status.idle": "2024-12-20T15:29:21.531884Z",
     "shell.execute_reply": "2024-12-20T15:29:21.530912Z"
    },
    "papermill": {
     "duration": 1.833593,
     "end_time": "2024-12-20T15:29:21.533873",
     "exception": false,
     "start_time": "2024-12-20T15:29:19.700280",
     "status": "completed"
    },
    "tags": []
   },
   "outputs": [
    {
     "name": "stdout",
     "output_type": "stream",
     "text": [
      "-------------------> Random Forest\n",
      "Accuracy: 0.70\n",
      "F1-Score for each class:\n",
      "Positive: 0.65\n",
      "Negative: 0.73\n",
      "\n",
      "Classification Report:\n",
      "              precision    recall  f1-score   support\n",
      "\n",
      "    Positive       0.78      0.57      0.65      1720\n",
      "    Negative       0.65      0.83      0.73      1662\n",
      "\n",
      "    accuracy                           0.70      3382\n",
      "   macro avg       0.71      0.70      0.69      3382\n",
      "weighted avg       0.71      0.70      0.69      3382\n",
      "\n"
     ]
    },
    {
     "data": {
      "image/png": "[encoded data removed]",
      "text/plain": [
       "<Figure size 800x600 with 2 Axes>"
      ]
     },
     "metadata": {},
     "output_type": "display_data"
    }
   ],
   "source": [
    "y_hat = randomforest_clf.predict(X_test_tfidf) \n",
    "about_model(\"Random Forest\" , y_test, y_hat)"
   ]
  },
  {
   "cell_type": "markdown",
   "id": "c9b8fc19",
   "metadata": {
    "papermill": {
     "duration": 0.013094,
     "end_time": "2024-12-20T15:29:21.560581",
     "exception": false,
     "start_time": "2024-12-20T15:29:21.547487",
     "status": "completed"
    },
    "tags": []
   },
   "source": [
    "### Tuned Random Forest"
   ]
  },
  {
   "cell_type": "code",
   "execution_count": 41,
   "id": "c52a3d32",
   "metadata": {
    "execution": {
     "iopub.execute_input": "2024-12-20T15:29:21.588902Z",
     "iopub.status.busy": "2024-12-20T15:29:21.588507Z",
     "iopub.status.idle": "2024-12-20T19:55:39.078828Z",
     "shell.execute_reply": "2024-12-20T19:55:39.077631Z"
    },
    "papermill": {
     "duration": 15977.525123,
     "end_time": "2024-12-20T19:55:39.098909",
     "exception": false,
     "start_time": "2024-12-20T15:29:21.573786",
     "status": "completed"
    },
    "tags": []
   },
   "outputs": [
    {
     "name": "stdout",
     "output_type": "stream",
     "text": [
      "Fitting 5 folds for each of 108 candidates, totalling 540 fits\n"
     ]
    },
    {
     "data": {
      "text/plain": [
       "{'criterion': 'entropy',\n",
       " 'max_depth': None,\n",
       " 'max_features': 'log2',\n",
       " 'min_samples_split': 10,\n",
       " 'n_estimators': 100}"
      ]
     },
     "execution_count": 41,
     "metadata": {},
     "output_type": "execute_result"
    }
   ],
   "source": [
    "param_grid_ = {\n",
    "    'n_estimators': [10, 100, 200],\n",
    "    'max_features': ['sqrt', 'log2'],\n",
    "    'criterion': ['gini', 'entropy'], \n",
    "    'max_depth': [None, 10, 20],      \n",
    "    'min_samples_split': [2, 5, 10]   \n",
    "}\n",
    "\n",
    "randomforest_clf = GridSearchCV(estimator=RandomForestClassifier(n_jobs=-1),\n",
    "                                param_grid=param_grid_, \n",
    "                                cv=5, verbose=1 , \n",
    "                                scoring='accuracy',\n",
    "                                n_jobs=-1)\n",
    "randomforest_clf.fit(X_train_tfidf, y_train)\n",
    "randomforest_clf.best_params_\n"
   ]
  },
  {
   "cell_type": "code",
   "execution_count": 42,
   "id": "3f79c20f",
   "metadata": {
    "execution": {
     "iopub.execute_input": "2024-12-20T19:55:39.129391Z",
     "iopub.status.busy": "2024-12-20T19:55:39.128954Z",
     "iopub.status.idle": "2024-12-20T19:55:40.558857Z",
     "shell.execute_reply": "2024-12-20T19:55:40.557783Z"
    },
    "papermill": {
     "duration": 1.447646,
     "end_time": "2024-12-20T19:55:40.560839",
     "exception": false,
     "start_time": "2024-12-20T19:55:39.113193",
     "status": "completed"
    },
    "tags": []
   },
   "outputs": [
    {
     "name": "stdout",
     "output_type": "stream",
     "text": [
      "-------------------> Tuned Random Forest\n",
      "Accuracy: 0.73\n",
      "F1-Score for each class:\n",
      "Positive: 0.70\n",
      "Negative: 0.75\n",
      "\n",
      "Classification Report:\n",
      "              precision    recall  f1-score   support\n",
      "\n",
      "    Positive       0.78      0.63      0.70      1720\n",
      "    Negative       0.68      0.82      0.75      1662\n",
      "\n",
      "    accuracy                           0.73      3382\n",
      "   macro avg       0.73      0.73      0.72      3382\n",
      "weighted avg       0.73      0.73      0.72      3382\n",
      "\n"
     ]
    },
    {
     "data": {
      "image/png": "[encoded data removed]",
      "text/plain": [
       "<Figure size 800x600 with 2 Axes>"
      ]
     },
     "metadata": {},
     "output_type": "display_data"
    }
   ],
   "source": [
    "y_hat = randomforest_clf.predict(X_test_tfidf)\n",
    "about_model(\"Tuned Random Forest\" , y_test , y_hat)"
   ]
  },
  {
   "cell_type": "markdown",
   "id": "00c3cf57",
   "metadata": {
    "papermill": {
     "duration": 0.014354,
     "end_time": "2024-12-20T19:55:40.589530",
     "exception": false,
     "start_time": "2024-12-20T19:55:40.575176",
     "status": "completed"
    },
    "tags": []
   },
   "source": [
    "### SVM"
   ]
  },
  {
   "cell_type": "code",
   "execution_count": 43,
   "id": "1df16a96",
   "metadata": {
    "execution": {
     "iopub.execute_input": "2024-12-20T19:55:40.620228Z",
     "iopub.status.busy": "2024-12-20T19:55:40.619798Z",
     "iopub.status.idle": "2024-12-20T19:57:14.028287Z",
     "shell.execute_reply": "2024-12-20T19:57:14.027107Z"
    },
    "papermill": {
     "duration": 93.44107,
     "end_time": "2024-12-20T19:57:14.045337",
     "exception": false,
     "start_time": "2024-12-20T19:55:40.604267",
     "status": "completed"
    },
    "tags": []
   },
   "outputs": [
    {
     "data": {
      "text/html": [
       "<style>#sk-container-id-2 {color: black;background-color: white;}#sk-container-id-2 pre{padding: 0;}#sk-container-id-2 div.sk-toggleable {background-color: white;}#sk-container-id-2 label.sk-toggleable__label {cursor: pointer;display: block;width: 100%;margin-bottom: 0;padding: 0.3em;box-sizing: border-box;text-align: center;}#sk-container-id-2 label.sk-toggleable__label-arrow:before {content: \"▸\";float: left;margin-right: 0.25em;color: #696969;}#sk-container-id-2 label.sk-toggleable__label-arrow:hover:before {color: black;}#sk-container-id-2 div.sk-estimator:hover label.sk-toggleable__label-arrow:before {color: black;}#sk-container-id-2 div.sk-toggleable__content {max-height: 0;max-width: 0;overflow: hidden;text-align: left;background-color: #f0f8ff;}#sk-container-id-2 div.sk-toggleable__content pre {margin: 0.2em;color: black;border-radius: 0.25em;background-color: #f0f8ff;}#sk-container-id-2 input.sk-toggleable__control:checked~div.sk-toggleable__content {max-height: 200px;max-width: 100%;overflow: auto;}#sk-container-id-2 input.sk-toggleable__control:checked~label.sk-toggleable__label-arrow:before {content: \"▾\";}#sk-container-id-2 div.sk-estimator input.sk-toggleable__control:checked~label.sk-toggleable__label {background-color: #d4ebff;}#sk-container-id-2 div.sk-label input.sk-toggleable__control:checked~label.sk-toggleable__label {background-color: #d4ebff;}#sk-container-id-2 input.sk-hidden--visually {border: 0;clip: rect(1px 1px 1px 1px);clip: rect(1px, 1px, 1px, 1px);height: 1px;margin: -1px;overflow: hidden;padding: 0;position: absolute;width: 1px;}#sk-container-id-2 div.sk-estimator {font-family: monospace;background-color: #f0f8ff;border: 1px dotted black;border-radius: 0.25em;box-sizing: border-box;margin-bottom: 0.5em;}#sk-container-id-2 div.sk-estimator:hover {background-color: #d4ebff;}#sk-container-id-2 div.sk-parallel-item::after {content: \"\";width: 100%;border-bottom: 1px solid gray;flex-grow: 1;}#sk-container-id-2 div.sk-label:hover label.sk-toggleable__label {background-color: #d4ebff;}#sk-container-id-2 div.sk-serial::before {content: \"\";position: absolute;border-left: 1px solid gray;box-sizing: border-box;top: 0;bottom: 0;left: 50%;z-index: 0;}#sk-container-id-2 div.sk-serial {display: flex;flex-direction: column;align-items: center;background-color: white;padding-right: 0.2em;padding-left: 0.2em;position: relative;}#sk-container-id-2 div.sk-item {position: relative;z-index: 1;}#sk-container-id-2 div.sk-parallel {display: flex;align-items: stretch;justify-content: center;background-color: white;position: relative;}#sk-container-id-2 div.sk-item::before, #sk-container-id-2 div.sk-parallel-item::before {content: \"\";position: absolute;border-left: 1px solid gray;box-sizing: border-box;top: 0;bottom: 0;left: 50%;z-index: -1;}#sk-container-id-2 div.sk-parallel-item {display: flex;flex-direction: column;z-index: 1;position: relative;background-color: white;}#sk-container-id-2 div.sk-parallel-item:first-child::after {align-self: flex-end;width: 50%;}#sk-container-id-2 div.sk-parallel-item:last-child::after {align-self: flex-start;width: 50%;}#sk-container-id-2 div.sk-parallel-item:only-child::after {width: 0;}#sk-container-id-2 div.sk-dashed-wrapped {border: 1px dashed gray;margin: 0 0.4em 0.5em 0.4em;box-sizing: border-box;padding-bottom: 0.4em;background-color: white;}#sk-container-id-2 div.sk-label label {font-family: monospace;font-weight: bold;display: inline-block;line-height: 1.2em;}#sk-container-id-2 div.sk-label-container {text-align: center;}#sk-container-id-2 div.sk-container {/* jupyter's `normalize.less` sets `[hidden] { display: none; }` but bootstrap.min.css set `[hidden] { display: none !important; }` so we also need the `!important` here to be able to override the default hidden behavior on the sphinx rendered scikit-learn.org. See: https://github.com/scikit-learn/scikit-learn/issues/21755 */display: inline-block !important;position: relative;}#sk-container-id-2 div.sk-text-repr-fallback {display: none;}</style><div id=\"sk-container-id-2\" class=\"sk-top-container\"><div class=\"sk-text-repr-fallback\"><pre>SVC(probability=True)</pre><b>In a Jupyter environment, please rerun this cell to show the HTML representation or trust the notebook. <br />On GitHub, the HTML representation is unable to render, please try loading this page with nbviewer.org.</b></div><div class=\"sk-container\" hidden><div class=\"sk-item\"><div class=\"sk-estimator sk-toggleable\"><input class=\"sk-toggleable__control sk-hidden--visually\" id=\"sk-estimator-id-2\" type=\"checkbox\" checked><label for=\"sk-estimator-id-2\" class=\"sk-toggleable__label sk-toggleable__label-arrow\">SVC</label><div class=\"sk-toggleable__content\"><pre>SVC(probability=True)</pre></div></div></div></div></div>"
      ],
      "text/plain": [
       "SVC(probability=True)"
      ]
     },
     "execution_count": 43,
     "metadata": {},
     "output_type": "execute_result"
    }
   ],
   "source": [
    "from sklearn.svm import SVC\n",
    "svm_clf = SVC(probability=True)\n",
    "svm_clf.fit(X_train_tfidf, y_train)"
   ]
  },
  {
   "cell_type": "code",
   "execution_count": 44,
   "id": "fdb5b18f",
   "metadata": {
    "execution": {
     "iopub.execute_input": "2024-12-20T19:57:14.077174Z",
     "iopub.status.busy": "2024-12-20T19:57:14.076761Z",
     "iopub.status.idle": "2024-12-20T19:57:17.200229Z",
     "shell.execute_reply": "2024-12-20T19:57:17.199119Z"
    },
    "papermill": {
     "duration": 3.14225,
     "end_time": "2024-12-20T19:57:17.202421",
     "exception": false,
     "start_time": "2024-12-20T19:57:14.060171",
     "status": "completed"
    },
    "tags": []
   },
   "outputs": [
    {
     "name": "stdout",
     "output_type": "stream",
     "text": [
      "-------------------> SVM\n",
      "Accuracy: 0.71\n",
      "F1-Score for each class:\n",
      "Positive: 0.69\n",
      "Negative: 0.73\n",
      "\n",
      "Classification Report:\n",
      "              precision    recall  f1-score   support\n",
      "\n",
      "    Positive       0.76      0.62      0.69      1720\n",
      "    Negative       0.67      0.80      0.73      1662\n",
      "\n",
      "    accuracy                           0.71      3382\n",
      "   macro avg       0.72      0.71      0.71      3382\n",
      "weighted avg       0.72      0.71      0.71      3382\n",
      "\n"
     ]
    },
    {
     "data": {
      "image/png": "[encoded data removed]",
      "text/plain": [
       "<Figure size 800x600 with 2 Axes>"
      ]
     },
     "metadata": {},
     "output_type": "display_data"
    }
   ],
   "source": [
    "y_hat = svm_clf.predict(X_test_tfidf) \n",
    "about_model(\"SVM\" , y_test, y_hat)"
   ]
  },
  {
   "cell_type": "markdown",
   "id": "d8542653",
   "metadata": {
    "papermill": {
     "duration": 0.015094,
     "end_time": "2024-12-20T19:57:17.233185",
     "exception": false,
     "start_time": "2024-12-20T19:57:17.218091",
     "status": "completed"
    },
    "tags": []
   },
   "source": [
    "### Tuned SVM"
   ]
  },
  {
   "cell_type": "code",
   "execution_count": 45,
   "id": "3b3a033a",
   "metadata": {
    "execution": {
     "iopub.execute_input": "2024-12-20T19:57:17.265348Z",
     "iopub.status.busy": "2024-12-20T19:57:17.264939Z",
     "iopub.status.idle": "2024-12-20T20:37:52.568269Z",
     "shell.execute_reply": "2024-12-20T20:37:52.566872Z"
    },
    "papermill": {
     "duration": 2435.3377,
     "end_time": "2024-12-20T20:37:52.586336",
     "exception": false,
     "start_time": "2024-12-20T19:57:17.248636",
     "status": "completed"
    },
    "tags": []
   },
   "outputs": [
    {
     "name": "stdout",
     "output_type": "stream",
     "text": [
      "Fitting 5 folds for each of 75 candidates, totalling 375 fits\n"
     ]
    },
    {
     "name": "stderr",
     "output_type": "stream",
     "text": [
      "/opt/conda/lib/python3.10/site-packages/joblib/externals/loky/process_executor.py:752: UserWarning: A worker stopped while some jobs were given to the executor. This can be caused by a too short worker timeout or by a memory leak.\n",
      "  warnings.warn(\n"
     ]
    },
    {
     "data": {
      "text/plain": [
       "{'C': 5, 'gamma': 0.1, 'kernel': 'rbf'}"
      ]
     },
     "execution_count": 45,
     "metadata": {},
     "output_type": "execute_result"
    }
   ],
   "source": [
    "param_grid_ = {'kernel': ['rbf', 'linear', 'poly'],\n",
    "             'gamma': [0.01 , 0.1, 1, 10, 100],\n",
    "             'C': [0.1, 1,5, 10, 100]}\n",
    "svm_grid = GridSearchCV(estimator=SVC(), \n",
    "                        param_grid=param_grid_, \n",
    "                        cv=5, verbose=1 , \n",
    "                        scoring='accuracy' , \n",
    "                        n_jobs=-1)\n",
    "svm_grid.fit(X_train_tfidf, y_train)\n",
    "svm_grid.best_params_\n"
   ]
  },
  {
   "cell_type": "code",
   "execution_count": 46,
   "id": "0c191824",
   "metadata": {
    "execution": {
     "iopub.execute_input": "2024-12-20T20:37:52.618643Z",
     "iopub.status.busy": "2024-12-20T20:37:52.618237Z",
     "iopub.status.idle": "2024-12-20T20:37:55.510084Z",
     "shell.execute_reply": "2024-12-20T20:37:55.508820Z"
    },
    "papermill": {
     "duration": 2.912025,
     "end_time": "2024-12-20T20:37:55.513422",
     "exception": false,
     "start_time": "2024-12-20T20:37:52.601397",
     "status": "completed"
    },
    "tags": []
   },
   "outputs": [
    {
     "name": "stdout",
     "output_type": "stream",
     "text": [
      "-------------------> Tuned SVM\n",
      "Accuracy: 0.72\n",
      "F1-Score for each class:\n",
      "Positive: 0.70\n",
      "Negative: 0.74\n",
      "\n",
      "Classification Report:\n",
      "              precision    recall  f1-score   support\n",
      "\n",
      "    Positive       0.77      0.65      0.70      1720\n",
      "    Negative       0.69      0.80      0.74      1662\n",
      "\n",
      "    accuracy                           0.72      3382\n",
      "   macro avg       0.73      0.72      0.72      3382\n",
      "weighted avg       0.73      0.72      0.72      3382\n",
      "\n"
     ]
    },
    {
     "data": {
      "image/png": "[encoded data removed]",
      "text/plain": [
       "<Figure size 800x600 with 2 Axes>"
      ]
     },
     "metadata": {},
     "output_type": "display_data"
    }
   ],
   "source": [
    "y_hat = svm_grid.predict(X_test_tfidf)\n",
    "about_model(\"Tuned SVM\", y_test , y_hat) "
   ]
  },
  {
   "cell_type": "markdown",
   "id": "fa357011",
   "metadata": {
    "papermill": {
     "duration": 0.020665,
     "end_time": "2024-12-20T20:37:55.554100",
     "exception": false,
     "start_time": "2024-12-20T20:37:55.533435",
     "status": "completed"
    },
    "tags": []
   },
   "source": [
    "### lightgbm"
   ]
  },
  {
   "cell_type": "code",
   "execution_count": 47,
   "id": "832581da",
   "metadata": {
    "execution": {
     "iopub.execute_input": "2024-12-20T20:37:55.588253Z",
     "iopub.status.busy": "2024-12-20T20:37:55.587816Z",
     "iopub.status.idle": "2024-12-20T20:37:58.633702Z",
     "shell.execute_reply": "2024-12-20T20:37:58.632567Z"
    },
    "papermill": {
     "duration": 3.065618,
     "end_time": "2024-12-20T20:37:58.636102",
     "exception": false,
     "start_time": "2024-12-20T20:37:55.570484",
     "status": "completed"
    },
    "tags": []
   },
   "outputs": [],
   "source": [
    "import lightgbm as lgb\n",
    "\n",
    "X_train_tfidf = X_train_tfidf.astype(np.float32)\n",
    "X_test_tfidf = X_test_tfidf.astype(np.float32)\n",
    "\n",
    "d_train = lgb.Dataset(X_train_tfidf, label=y_train)\n",
    "d_test = lgb.Dataset(X_test_tfidf, label=y_test, reference=d_train)\n",
    "\n",
    "params = {\n",
    "    'objective': 'binary',  \n",
    "    'boosting_type': 'gbdt',\n",
    "    'metric': 'binary_logloss', \n",
    "    'num_leaves': 31,\n",
    "    'learning_rate': 0.1,\n",
    "    'verbose': 0\n",
    "}\n",
    "\n",
    "model = lgb.train(params, d_train, num_boost_round=100, valid_sets=[d_train, d_test])"
   ]
  },
  {
   "cell_type": "code",
   "execution_count": 48,
   "id": "81205296",
   "metadata": {
    "execution": {
     "iopub.execute_input": "2024-12-20T20:37:58.671191Z",
     "iopub.status.busy": "2024-12-20T20:37:58.670112Z",
     "iopub.status.idle": "2024-12-20T20:37:58.982579Z",
     "shell.execute_reply": "2024-12-20T20:37:58.981386Z"
    },
    "papermill": {
     "duration": 0.332613,
     "end_time": "2024-12-20T20:37:58.984879",
     "exception": false,
     "start_time": "2024-12-20T20:37:58.652266",
     "status": "completed"
    },
    "tags": []
   },
   "outputs": [
    {
     "name": "stdout",
     "output_type": "stream",
     "text": [
      "-------------------> lightgbm\n",
      "Accuracy: 0.65\n",
      "F1-Score for each class:\n",
      "Positive: 0.62\n",
      "Negative: 0.68\n",
      "\n",
      "Classification Report:\n",
      "              precision    recall  f1-score   support\n",
      "\n",
      "    Positive       0.70      0.55      0.62      1720\n",
      "    Negative       0.62      0.76      0.68      1662\n",
      "\n",
      "    accuracy                           0.65      3382\n",
      "   macro avg       0.66      0.66      0.65      3382\n",
      "weighted avg       0.66      0.65      0.65      3382\n",
      "\n"
     ]
    },
    {
     "data": {
      "image/png": "[encoded data removed]",
      "text/plain": [
       "<Figure size 800x600 with 2 Axes>"
      ]
     },
     "metadata": {},
     "output_type": "display_data"
    }
   ],
   "source": [
    "y_hat = model.predict(X_test_tfidf)\n",
    "y_hat = (y_hat > 0.5).astype(int)\n",
    "about_model(\"lightgbm\", y_test, y_hat)\n"
   ]
  },
  {
   "cell_type": "markdown",
   "id": "2371e200",
   "metadata": {
    "papermill": {
     "duration": 0.016347,
     "end_time": "2024-12-20T20:37:59.018083",
     "exception": false,
     "start_time": "2024-12-20T20:37:59.001736",
     "status": "completed"
    },
    "tags": []
   },
   "source": [
    "### Tuned lightgbm"
   ]
  },
  {
   "cell_type": "code",
   "execution_count": 49,
   "id": "b59f86a7",
   "metadata": {
    "execution": {
     "iopub.execute_input": "2024-12-20T20:37:59.054765Z",
     "iopub.status.busy": "2024-12-20T20:37:59.054315Z",
     "iopub.status.idle": "2024-12-20T20:40:40.302638Z",
     "shell.execute_reply": "2024-12-20T20:40:40.301474Z"
    },
    "papermill": {
     "duration": 161.269183,
     "end_time": "2024-12-20T20:40:40.304896",
     "exception": false,
     "start_time": "2024-12-20T20:37:59.035713",
     "status": "completed"
    },
    "tags": []
   },
   "outputs": [
    {
     "name": "stdout",
     "output_type": "stream",
     "text": [
      "[LightGBM] [Info] Number of positive: 5316, number of negative: 5504\n",
      "[LightGBM] [Info] Auto-choosing row-wise multi-threading, the overhead of testing was 0.013935 seconds.\n",
      "You can set `force_row_wise=true` to remove the overhead.\n",
      "And if memory is not enough, you can set `force_col_wise=true`.\n",
      "[LightGBM] [Info] Total Bins 487\n",
      "[LightGBM] [Info] Number of data points in the train set: 10820, number of used features: 223\n",
      "[LightGBM] [Info] [binary:BoostFromScore]: pavg=0.491312 -> initscore=-0.034754\n",
      "[LightGBM] [Info] Start training from score -0.034754\n",
      "[LightGBM] [Info] Number of positive: 5317, number of negative: 5504\n",
      "[LightGBM] [Info] Auto-choosing row-wise multi-threading, the overhead of testing was 0.014207 seconds.\n",
      "You can set `force_row_wise=true` to remove the overhead.\n",
      "And if memory is not enough, you can set `force_col_wise=true`.\n",
      "[LightGBM] [Info] Total Bins 480\n",
      "[LightGBM] [Info] Number of data points in the train set: 10821, number of used features: 222\n",
      "[LightGBM] [Info] [binary:BoostFromScore]: pavg=0.491359 -> initscore=-0.034566\n",
      "[LightGBM] [Info] Start training from score -0.034566\n",
      "[LightGBM] [Info] Number of positive: 5317, number of negative: 5504\n",
      "[LightGBM] [Info] Auto-choosing row-wise multi-threading, the overhead of testing was 0.014675 seconds.\n",
      "You can set `force_row_wise=true` to remove the overhead.\n",
      "And if memory is not enough, you can set `force_col_wise=true`.\n",
      "[LightGBM] [Info] Total Bins 504\n",
      "[LightGBM] [Info] Number of data points in the train set: 10821, number of used features: 233\n",
      "[LightGBM] [Info] [binary:BoostFromScore]: pavg=0.491359 -> initscore=-0.034566\n",
      "[LightGBM] [Info] Start training from score -0.034566\n",
      "[LightGBM] [Info] Number of positive: 5317, number of negative: 5504\n",
      "[LightGBM] [Info] Auto-choosing row-wise multi-threading, the overhead of testing was 0.015390 seconds.\n",
      "You can set `force_row_wise=true` to remove the overhead.\n",
      "And if memory is not enough, you can set `force_col_wise=true`.\n",
      "[LightGBM] [Info] Total Bins 513\n",
      "[LightGBM] [Info] Number of data points in the train set: 10821, number of used features: 236\n",
      "[LightGBM] [Info] [binary:BoostFromScore]: pavg=0.491359 -> initscore=-0.034566\n",
      "[LightGBM] [Info] Start training from score -0.034566\n",
      "[LightGBM] [Info] Number of positive: 5317, number of negative: 5504\n",
      "[LightGBM] [Info] Auto-choosing row-wise multi-threading, the overhead of testing was 0.014307 seconds.\n",
      "You can set `force_row_wise=true` to remove the overhead.\n",
      "And if memory is not enough, you can set `force_col_wise=true`.\n",
      "[LightGBM] [Info] Total Bins 500\n",
      "[LightGBM] [Info] Number of data points in the train set: 10821, number of used features: 230\n",
      "[LightGBM] [Info] [binary:BoostFromScore]: pavg=0.491359 -> initscore=-0.034566\n",
      "[LightGBM] [Info] Start training from score -0.034566\n",
      "[LightGBM] [Info] Number of positive: 5316, number of negative: 5504\n",
      "[LightGBM] [Info] Auto-choosing row-wise multi-threading, the overhead of testing was 0.014281 seconds.\n",
      "You can set `force_row_wise=true` to remove the overhead.\n",
      "And if memory is not enough, you can set `force_col_wise=true`.\n",
      "[LightGBM] [Info] Total Bins 487\n",
      "[LightGBM] [Info] Number of data points in the train set: 10820, number of used features: 223\n",
      "[LightGBM] [Info] [binary:BoostFromScore]: pavg=0.491312 -> initscore=-0.034754\n",
      "[LightGBM] [Info] Start training from score -0.034754\n",
      "[LightGBM] [Info] Number of positive: 5317, number of negative: 5504\n",
      "[LightGBM] [Info] Auto-choosing row-wise multi-threading, the overhead of testing was 0.014012 seconds.\n",
      "You can set `force_row_wise=true` to remove the overhead.\n",
      "And if memory is not enough, you can set `force_col_wise=true`.\n",
      "[LightGBM] [Info] Total Bins 480\n",
      "[LightGBM] [Info] Number of data points in the train set: 10821, number of used features: 222\n",
      "[LightGBM] [Info] [binary:BoostFromScore]: pavg=0.491359 -> initscore=-0.034566\n",
      "[LightGBM] [Info] Start training from score -0.034566\n",
      "[LightGBM] [Info] Number of positive: 5317, number of negative: 5504\n",
      "[LightGBM] [Info] Auto-choosing row-wise multi-threading, the overhead of testing was 0.014762 seconds.\n",
      "You can set `force_row_wise=true` to remove the overhead.\n",
      "And if memory is not enough, you can set `force_col_wise=true`.\n",
      "[LightGBM] [Info] Total Bins 504\n",
      "[LightGBM] [Info] Number of data points in the train set: 10821, number of used features: 233\n",
      "[LightGBM] [Info] [binary:BoostFromScore]: pavg=0.491359 -> initscore=-0.034566\n",
      "[LightGBM] [Info] Start training from score -0.034566\n",
      "[LightGBM] [Info] Number of positive: 5317, number of negative: 5504\n",
      "[LightGBM] [Info] Auto-choosing row-wise multi-threading, the overhead of testing was 0.015577 seconds.\n",
      "You can set `force_row_wise=true` to remove the overhead.\n",
      "And if memory is not enough, you can set `force_col_wise=true`.\n",
      "[LightGBM] [Info] Total Bins 513\n",
      "[LightGBM] [Info] Number of data points in the train set: 10821, number of used features: 236\n",
      "[LightGBM] [Info] [binary:BoostFromScore]: pavg=0.491359 -> initscore=-0.034566\n",
      "[LightGBM] [Info] Start training from score -0.034566\n",
      "[LightGBM] [Info] Number of positive: 5317, number of negative: 5504\n",
      "[LightGBM] [Info] Auto-choosing row-wise multi-threading, the overhead of testing was 0.014458 seconds.\n",
      "You can set `force_row_wise=true` to remove the overhead.\n",
      "And if memory is not enough, you can set `force_col_wise=true`.\n",
      "[LightGBM] [Info] Total Bins 500\n",
      "[LightGBM] [Info] Number of data points in the train set: 10821, number of used features: 230\n",
      "[LightGBM] [Info] [binary:BoostFromScore]: pavg=0.491359 -> initscore=-0.034566\n",
      "[LightGBM] [Info] Start training from score -0.034566\n",
      "[LightGBM] [Info] Number of positive: 5316, number of negative: 5504\n",
      "[LightGBM] [Info] Auto-choosing row-wise multi-threading, the overhead of testing was 0.014773 seconds.\n",
      "You can set `force_row_wise=true` to remove the overhead.\n",
      "And if memory is not enough, you can set `force_col_wise=true`.\n",
      "[LightGBM] [Info] Total Bins 487\n",
      "[LightGBM] [Info] Number of data points in the train set: 10820, number of used features: 223\n",
      "[LightGBM] [Info] [binary:BoostFromScore]: pavg=0.491312 -> initscore=-0.034754\n",
      "[LightGBM] [Info] Start training from score -0.034754\n",
      "[LightGBM] [Info] Number of positive: 5317, number of negative: 5504\n",
      "[LightGBM] [Info] Auto-choosing col-wise multi-threading, the overhead of testing was 0.014131 seconds.\n",
      "You can set `force_col_wise=true` to remove the overhead.\n",
      "[LightGBM] [Info] Total Bins 480\n",
      "[LightGBM] [Info] Number of data points in the train set: 10821, number of used features: 222\n",
      "[LightGBM] [Info] [binary:BoostFromScore]: pavg=0.491359 -> initscore=-0.034566\n",
      "[LightGBM] [Info] Start training from score -0.034566\n",
      "[LightGBM] [Info] Number of positive: 5317, number of negative: 5504\n",
      "[LightGBM] [Info] Auto-choosing row-wise multi-threading, the overhead of testing was 0.014720 seconds.\n",
      "You can set `force_row_wise=true` to remove the overhead.\n",
      "And if memory is not enough, you can set `force_col_wise=true`.\n",
      "[LightGBM] [Info] Total Bins 504\n",
      "[LightGBM] [Info] Number of data points in the train set: 10821, number of used features: 233\n",
      "[LightGBM] [Info] [binary:BoostFromScore]: pavg=0.491359 -> initscore=-0.034566\n",
      "[LightGBM] [Info] Start training from score -0.034566\n",
      "[LightGBM] [Info] Number of positive: 5317, number of negative: 5504\n",
      "[LightGBM] [Info] Auto-choosing row-wise multi-threading, the overhead of testing was 0.014982 seconds.\n",
      "You can set `force_row_wise=true` to remove the overhead.\n",
      "And if memory is not enough, you can set `force_col_wise=true`.\n",
      "[LightGBM] [Info] Total Bins 513\n",
      "[LightGBM] [Info] Number of data points in the train set: 10821, number of used features: 236\n",
      "[LightGBM] [Info] [binary:BoostFromScore]: pavg=0.491359 -> initscore=-0.034566\n",
      "[LightGBM] [Info] Start training from score -0.034566\n",
      "[LightGBM] [Info] Number of positive: 5317, number of negative: 5504\n",
      "[LightGBM] [Info] Auto-choosing row-wise multi-threading, the overhead of testing was 0.014230 seconds.\n",
      "You can set `force_row_wise=true` to remove the overhead.\n",
      "And if memory is not enough, you can set `force_col_wise=true`.\n",
      "[LightGBM] [Info] Total Bins 500\n",
      "[LightGBM] [Info] Number of data points in the train set: 10821, number of used features: 230\n",
      "[LightGBM] [Info] [binary:BoostFromScore]: pavg=0.491359 -> initscore=-0.034566\n",
      "[LightGBM] [Info] Start training from score -0.034566\n",
      "[LightGBM] [Info] Number of positive: 5316, number of negative: 5504\n",
      "[LightGBM] [Info] Auto-choosing row-wise multi-threading, the overhead of testing was 0.014251 seconds.\n",
      "You can set `force_row_wise=true` to remove the overhead.\n",
      "And if memory is not enough, you can set `force_col_wise=true`.\n",
      "[LightGBM] [Info] Total Bins 487\n",
      "[LightGBM] [Info] Number of data points in the train set: 10820, number of used features: 223\n",
      "[LightGBM] [Info] [binary:BoostFromScore]: pavg=0.491312 -> initscore=-0.034754\n",
      "[LightGBM] [Info] Start training from score -0.034754\n",
      "[LightGBM] [Info] Number of positive: 5317, number of negative: 5504\n",
      "[LightGBM] [Info] Auto-choosing row-wise multi-threading, the overhead of testing was 0.014002 seconds.\n",
      "You can set `force_row_wise=true` to remove the overhead.\n",
      "And if memory is not enough, you can set `force_col_wise=true`.\n",
      "[LightGBM] [Info] Total Bins 480\n",
      "[LightGBM] [Info] Number of data points in the train set: 10821, number of used features: 222\n",
      "[LightGBM] [Info] [binary:BoostFromScore]: pavg=0.491359 -> initscore=-0.034566\n",
      "[LightGBM] [Info] Start training from score -0.034566\n",
      "[LightGBM] [Info] Number of positive: 5317, number of negative: 5504\n",
      "[LightGBM] [Info] Auto-choosing row-wise multi-threading, the overhead of testing was 0.020047 seconds.\n",
      "You can set `force_row_wise=true` to remove the overhead.\n",
      "And if memory is not enough, you can set `force_col_wise=true`.\n",
      "[LightGBM] [Info] Total Bins 504\n",
      "[LightGBM] [Info] Number of data points in the train set: 10821, number of used features: 233\n",
      "[LightGBM] [Info] [binary:BoostFromScore]: pavg=0.491359 -> initscore=-0.034566\n",
      "[LightGBM] [Info] Start training from score -0.034566\n",
      "[LightGBM] [Info] Number of positive: 5317, number of negative: 5504\n",
      "[LightGBM] [Info] Auto-choosing row-wise multi-threading, the overhead of testing was 0.015034 seconds.\n",
      "You can set `force_row_wise=true` to remove the overhead.\n",
      "And if memory is not enough, you can set `force_col_wise=true`.\n",
      "[LightGBM] [Info] Total Bins 513\n",
      "[LightGBM] [Info] Number of data points in the train set: 10821, number of used features: 236\n",
      "[LightGBM] [Info] [binary:BoostFromScore]: pavg=0.491359 -> initscore=-0.034566\n",
      "[LightGBM] [Info] Start training from score -0.034566\n",
      "[LightGBM] [Info] Number of positive: 5317, number of negative: 5504\n",
      "[LightGBM] [Info] Auto-choosing row-wise multi-threading, the overhead of testing was 0.014594 seconds.\n",
      "You can set `force_row_wise=true` to remove the overhead.\n",
      "And if memory is not enough, you can set `force_col_wise=true`.\n",
      "[LightGBM] [Info] Total Bins 500\n",
      "[LightGBM] [Info] Number of data points in the train set: 10821, number of used features: 230\n",
      "[LightGBM] [Info] [binary:BoostFromScore]: pavg=0.491359 -> initscore=-0.034566\n",
      "[LightGBM] [Info] Start training from score -0.034566\n",
      "[LightGBM] [Info] Number of positive: 5316, number of negative: 5504\n",
      "[LightGBM] [Info] Auto-choosing row-wise multi-threading, the overhead of testing was 0.013913 seconds.\n",
      "You can set `force_row_wise=true` to remove the overhead.\n",
      "And if memory is not enough, you can set `force_col_wise=true`.\n",
      "[LightGBM] [Info] Total Bins 487\n",
      "[LightGBM] [Info] Number of data points in the train set: 10820, number of used features: 223\n",
      "[LightGBM] [Info] [binary:BoostFromScore]: pavg=0.491312 -> initscore=-0.034754\n",
      "[LightGBM] [Info] Start training from score -0.034754\n",
      "[LightGBM] [Info] Number of positive: 5317, number of negative: 5504\n",
      "[LightGBM] [Info] Auto-choosing row-wise multi-threading, the overhead of testing was 0.013983 seconds.\n",
      "You can set `force_row_wise=true` to remove the overhead.\n",
      "And if memory is not enough, you can set `force_col_wise=true`.\n",
      "[LightGBM] [Info] Total Bins 480\n",
      "[LightGBM] [Info] Number of data points in the train set: 10821, number of used features: 222\n",
      "[LightGBM] [Info] [binary:BoostFromScore]: pavg=0.491359 -> initscore=-0.034566\n",
      "[LightGBM] [Info] Start training from score -0.034566\n",
      "[LightGBM] [Info] Number of positive: 5317, number of negative: 5504\n",
      "[LightGBM] [Info] Auto-choosing row-wise multi-threading, the overhead of testing was 0.014615 seconds.\n",
      "You can set `force_row_wise=true` to remove the overhead.\n",
      "And if memory is not enough, you can set `force_col_wise=true`.\n",
      "[LightGBM] [Info] Total Bins 504\n",
      "[LightGBM] [Info] Number of data points in the train set: 10821, number of used features: 233\n",
      "[LightGBM] [Info] [binary:BoostFromScore]: pavg=0.491359 -> initscore=-0.034566\n",
      "[LightGBM] [Info] Start training from score -0.034566\n",
      "[LightGBM] [Info] Number of positive: 5317, number of negative: 5504\n",
      "[LightGBM] [Info] Auto-choosing row-wise multi-threading, the overhead of testing was 0.015085 seconds.\n",
      "You can set `force_row_wise=true` to remove the overhead.\n",
      "And if memory is not enough, you can set `force_col_wise=true`.\n",
      "[LightGBM] [Info] Total Bins 513\n",
      "[LightGBM] [Info] Number of data points in the train set: 10821, number of used features: 236\n",
      "[LightGBM] [Info] [binary:BoostFromScore]: pavg=0.491359 -> initscore=-0.034566\n",
      "[LightGBM] [Info] Start training from score -0.034566\n",
      "[LightGBM] [Info] Number of positive: 5317, number of negative: 5504\n",
      "[LightGBM] [Info] Auto-choosing row-wise multi-threading, the overhead of testing was 0.015033 seconds.\n",
      "You can set `force_row_wise=true` to remove the overhead.\n",
      "And if memory is not enough, you can set `force_col_wise=true`.\n",
      "[LightGBM] [Info] Total Bins 500\n",
      "[LightGBM] [Info] Number of data points in the train set: 10821, number of used features: 230\n",
      "[LightGBM] [Info] [binary:BoostFromScore]: pavg=0.491359 -> initscore=-0.034566\n",
      "[LightGBM] [Info] Start training from score -0.034566\n",
      "[LightGBM] [Info] Number of positive: 5316, number of negative: 5504\n",
      "[LightGBM] [Info] Auto-choosing row-wise multi-threading, the overhead of testing was 0.014698 seconds.\n",
      "You can set `force_row_wise=true` to remove the overhead.\n",
      "And if memory is not enough, you can set `force_col_wise=true`.\n",
      "[LightGBM] [Info] Total Bins 487\n",
      "[LightGBM] [Info] Number of data points in the train set: 10820, number of used features: 223\n",
      "[LightGBM] [Info] [binary:BoostFromScore]: pavg=0.491312 -> initscore=-0.034754\n",
      "[LightGBM] [Info] Start training from score -0.034754\n",
      "[LightGBM] [Info] Number of positive: 5317, number of negative: 5504\n",
      "[LightGBM] [Info] Auto-choosing row-wise multi-threading, the overhead of testing was 0.013980 seconds.\n",
      "You can set `force_row_wise=true` to remove the overhead.\n",
      "And if memory is not enough, you can set `force_col_wise=true`.\n",
      "[LightGBM] [Info] Total Bins 480\n",
      "[LightGBM] [Info] Number of data points in the train set: 10821, number of used features: 222\n",
      "[LightGBM] [Info] [binary:BoostFromScore]: pavg=0.491359 -> initscore=-0.034566\n",
      "[LightGBM] [Info] Start training from score -0.034566\n",
      "[LightGBM] [Info] Number of positive: 5317, number of negative: 5504\n",
      "[LightGBM] [Info] Auto-choosing row-wise multi-threading, the overhead of testing was 0.015117 seconds.\n",
      "You can set `force_row_wise=true` to remove the overhead.\n",
      "And if memory is not enough, you can set `force_col_wise=true`.\n",
      "[LightGBM] [Info] Total Bins 504\n",
      "[LightGBM] [Info] Number of data points in the train set: 10821, number of used features: 233\n",
      "[LightGBM] [Info] [binary:BoostFromScore]: pavg=0.491359 -> initscore=-0.034566\n",
      "[LightGBM] [Info] Start training from score -0.034566\n",
      "[LightGBM] [Info] Number of positive: 5317, number of negative: 5504\n",
      "[LightGBM] [Info] Auto-choosing row-wise multi-threading, the overhead of testing was 0.015103 seconds.\n",
      "You can set `force_row_wise=true` to remove the overhead.\n",
      "And if memory is not enough, you can set `force_col_wise=true`.\n",
      "[LightGBM] [Info] Total Bins 513\n",
      "[LightGBM] [Info] Number of data points in the train set: 10821, number of used features: 236\n",
      "[LightGBM] [Info] [binary:BoostFromScore]: pavg=0.491359 -> initscore=-0.034566\n",
      "[LightGBM] [Info] Start training from score -0.034566\n",
      "[LightGBM] [Info] Number of positive: 5317, number of negative: 5504\n",
      "[LightGBM] [Info] Auto-choosing row-wise multi-threading, the overhead of testing was 0.014507 seconds.\n",
      "You can set `force_row_wise=true` to remove the overhead.\n",
      "And if memory is not enough, you can set `force_col_wise=true`.\n",
      "[LightGBM] [Info] Total Bins 500\n",
      "[LightGBM] [Info] Number of data points in the train set: 10821, number of used features: 230\n",
      "[LightGBM] [Info] [binary:BoostFromScore]: pavg=0.491359 -> initscore=-0.034566\n",
      "[LightGBM] [Info] Start training from score -0.034566\n",
      "[LightGBM] [Info] Number of positive: 5316, number of negative: 5504\n",
      "[LightGBM] [Info] Auto-choosing row-wise multi-threading, the overhead of testing was 0.014209 seconds.\n",
      "You can set `force_row_wise=true` to remove the overhead.\n",
      "And if memory is not enough, you can set `force_col_wise=true`.\n",
      "[LightGBM] [Info] Total Bins 487\n",
      "[LightGBM] [Info] Number of data points in the train set: 10820, number of used features: 223\n",
      "[LightGBM] [Info] [binary:BoostFromScore]: pavg=0.491312 -> initscore=-0.034754\n",
      "[LightGBM] [Info] Start training from score -0.034754\n",
      "[LightGBM] [Info] Number of positive: 5317, number of negative: 5504\n",
      "[LightGBM] [Info] Auto-choosing row-wise multi-threading, the overhead of testing was 0.014111 seconds.\n",
      "You can set `force_row_wise=true` to remove the overhead.\n",
      "And if memory is not enough, you can set `force_col_wise=true`.\n",
      "[LightGBM] [Info] Total Bins 480\n",
      "[LightGBM] [Info] Number of data points in the train set: 10821, number of used features: 222\n",
      "[LightGBM] [Info] [binary:BoostFromScore]: pavg=0.491359 -> initscore=-0.034566\n",
      "[LightGBM] [Info] Start training from score -0.034566\n",
      "[LightGBM] [Info] Number of positive: 5317, number of negative: 5504\n",
      "[LightGBM] [Info] Auto-choosing row-wise multi-threading, the overhead of testing was 0.014741 seconds.\n",
      "You can set `force_row_wise=true` to remove the overhead.\n",
      "And if memory is not enough, you can set `force_col_wise=true`.\n",
      "[LightGBM] [Info] Total Bins 504\n",
      "[LightGBM] [Info] Number of data points in the train set: 10821, number of used features: 233\n",
      "[LightGBM] [Info] [binary:BoostFromScore]: pavg=0.491359 -> initscore=-0.034566\n",
      "[LightGBM] [Info] Start training from score -0.034566\n",
      "[LightGBM] [Info] Number of positive: 5317, number of negative: 5504\n",
      "[LightGBM] [Info] Auto-choosing row-wise multi-threading, the overhead of testing was 0.015108 seconds.\n",
      "You can set `force_row_wise=true` to remove the overhead.\n",
      "And if memory is not enough, you can set `force_col_wise=true`.\n",
      "[LightGBM] [Info] Total Bins 513\n",
      "[LightGBM] [Info] Number of data points in the train set: 10821, number of used features: 236\n",
      "[LightGBM] [Info] [binary:BoostFromScore]: pavg=0.491359 -> initscore=-0.034566\n",
      "[LightGBM] [Info] Start training from score -0.034566\n",
      "[LightGBM] [Info] Number of positive: 5317, number of negative: 5504\n",
      "[LightGBM] [Info] Auto-choosing row-wise multi-threading, the overhead of testing was 0.014522 seconds.\n",
      "You can set `force_row_wise=true` to remove the overhead.\n",
      "And if memory is not enough, you can set `force_col_wise=true`.\n",
      "[LightGBM] [Info] Total Bins 500\n",
      "[LightGBM] [Info] Number of data points in the train set: 10821, number of used features: 230\n",
      "[LightGBM] [Info] [binary:BoostFromScore]: pavg=0.491359 -> initscore=-0.034566\n",
      "[LightGBM] [Info] Start training from score -0.034566\n",
      "[LightGBM] [Info] Number of positive: 5316, number of negative: 5504\n",
      "[LightGBM] [Info] Auto-choosing row-wise multi-threading, the overhead of testing was 0.014091 seconds.\n",
      "You can set `force_row_wise=true` to remove the overhead.\n",
      "And if memory is not enough, you can set `force_col_wise=true`.\n",
      "[LightGBM] [Info] Total Bins 487\n",
      "[LightGBM] [Info] Number of data points in the train set: 10820, number of used features: 223\n",
      "[LightGBM] [Info] [binary:BoostFromScore]: pavg=0.491312 -> initscore=-0.034754\n",
      "[LightGBM] [Info] Start training from score -0.034754\n",
      "[LightGBM] [Info] Number of positive: 5317, number of negative: 5504\n",
      "[LightGBM] [Info] Auto-choosing row-wise multi-threading, the overhead of testing was 0.013861 seconds.\n",
      "You can set `force_row_wise=true` to remove the overhead.\n",
      "And if memory is not enough, you can set `force_col_wise=true`.\n",
      "[LightGBM] [Info] Total Bins 480\n",
      "[LightGBM] [Info] Number of data points in the train set: 10821, number of used features: 222\n",
      "[LightGBM] [Info] [binary:BoostFromScore]: pavg=0.491359 -> initscore=-0.034566\n",
      "[LightGBM] [Info] Start training from score -0.034566\n",
      "[LightGBM] [Info] Number of positive: 5317, number of negative: 5504\n",
      "[LightGBM] [Info] Auto-choosing row-wise multi-threading, the overhead of testing was 0.014848 seconds.\n",
      "You can set `force_row_wise=true` to remove the overhead.\n",
      "And if memory is not enough, you can set `force_col_wise=true`.\n",
      "[LightGBM] [Info] Total Bins 504\n",
      "[LightGBM] [Info] Number of data points in the train set: 10821, number of used features: 233\n",
      "[LightGBM] [Info] [binary:BoostFromScore]: pavg=0.491359 -> initscore=-0.034566\n",
      "[LightGBM] [Info] Start training from score -0.034566\n",
      "[LightGBM] [Info] Number of positive: 5317, number of negative: 5504\n",
      "[LightGBM] [Info] Auto-choosing row-wise multi-threading, the overhead of testing was 0.014980 seconds.\n",
      "You can set `force_row_wise=true` to remove the overhead.\n",
      "And if memory is not enough, you can set `force_col_wise=true`.\n",
      "[LightGBM] [Info] Total Bins 513\n",
      "[LightGBM] [Info] Number of data points in the train set: 10821, number of used features: 236\n",
      "[LightGBM] [Info] [binary:BoostFromScore]: pavg=0.491359 -> initscore=-0.034566\n",
      "[LightGBM] [Info] Start training from score -0.034566\n",
      "[LightGBM] [Info] Number of positive: 5317, number of negative: 5504\n",
      "[LightGBM] [Info] Auto-choosing row-wise multi-threading, the overhead of testing was 0.014990 seconds.\n",
      "You can set `force_row_wise=true` to remove the overhead.\n",
      "And if memory is not enough, you can set `force_col_wise=true`.\n",
      "[LightGBM] [Info] Total Bins 500\n",
      "[LightGBM] [Info] Number of data points in the train set: 10821, number of used features: 230\n",
      "[LightGBM] [Info] [binary:BoostFromScore]: pavg=0.491359 -> initscore=-0.034566\n",
      "[LightGBM] [Info] Start training from score -0.034566\n",
      "[LightGBM] [Info] Number of positive: 5316, number of negative: 5504\n",
      "[LightGBM] [Info] Auto-choosing row-wise multi-threading, the overhead of testing was 0.013950 seconds.\n",
      "You can set `force_row_wise=true` to remove the overhead.\n",
      "And if memory is not enough, you can set `force_col_wise=true`.\n",
      "[LightGBM] [Info] Total Bins 487\n",
      "[LightGBM] [Info] Number of data points in the train set: 10820, number of used features: 223\n",
      "[LightGBM] [Info] [binary:BoostFromScore]: pavg=0.491312 -> initscore=-0.034754\n",
      "[LightGBM] [Info] Start training from score -0.034754\n",
      "[LightGBM] [Info] Number of positive: 5317, number of negative: 5504\n",
      "[LightGBM] [Info] Auto-choosing row-wise multi-threading, the overhead of testing was 0.013831 seconds.\n",
      "You can set `force_row_wise=true` to remove the overhead.\n",
      "And if memory is not enough, you can set `force_col_wise=true`.\n",
      "[LightGBM] [Info] Total Bins 480\n",
      "[LightGBM] [Info] Number of data points in the train set: 10821, number of used features: 222\n",
      "[LightGBM] [Info] [binary:BoostFromScore]: pavg=0.491359 -> initscore=-0.034566\n",
      "[LightGBM] [Info] Start training from score -0.034566\n",
      "[LightGBM] [Info] Number of positive: 5317, number of negative: 5504\n",
      "[LightGBM] [Info] Auto-choosing row-wise multi-threading, the overhead of testing was 0.014709 seconds.\n",
      "You can set `force_row_wise=true` to remove the overhead.\n",
      "And if memory is not enough, you can set `force_col_wise=true`.\n",
      "[LightGBM] [Info] Total Bins 504\n",
      "[LightGBM] [Info] Number of data points in the train set: 10821, number of used features: 233\n",
      "[LightGBM] [Info] [binary:BoostFromScore]: pavg=0.491359 -> initscore=-0.034566\n",
      "[LightGBM] [Info] Start training from score -0.034566\n",
      "[LightGBM] [Info] Number of positive: 5317, number of negative: 5504\n",
      "[LightGBM] [Info] Auto-choosing row-wise multi-threading, the overhead of testing was 0.015865 seconds.\n",
      "You can set `force_row_wise=true` to remove the overhead.\n",
      "And if memory is not enough, you can set `force_col_wise=true`.\n",
      "[LightGBM] [Info] Total Bins 513\n",
      "[LightGBM] [Info] Number of data points in the train set: 10821, number of used features: 236\n",
      "[LightGBM] [Info] [binary:BoostFromScore]: pavg=0.491359 -> initscore=-0.034566\n",
      "[LightGBM] [Info] Start training from score -0.034566\n",
      "[LightGBM] [Info] Number of positive: 5317, number of negative: 5504\n",
      "[LightGBM] [Info] Auto-choosing row-wise multi-threading, the overhead of testing was 0.014806 seconds.\n",
      "You can set `force_row_wise=true` to remove the overhead.\n",
      "And if memory is not enough, you can set `force_col_wise=true`.\n",
      "[LightGBM] [Info] Total Bins 500\n",
      "[LightGBM] [Info] Number of data points in the train set: 10821, number of used features: 230\n",
      "[LightGBM] [Info] [binary:BoostFromScore]: pavg=0.491359 -> initscore=-0.034566\n",
      "[LightGBM] [Info] Start training from score -0.034566\n",
      "[LightGBM] [Info] Number of positive: 5316, number of negative: 5504\n",
      "[LightGBM] [Info] Auto-choosing row-wise multi-threading, the overhead of testing was 0.014103 seconds.\n",
      "You can set `force_row_wise=true` to remove the overhead.\n",
      "And if memory is not enough, you can set `force_col_wise=true`.\n",
      "[LightGBM] [Info] Total Bins 487\n",
      "[LightGBM] [Info] Number of data points in the train set: 10820, number of used features: 223\n",
      "[LightGBM] [Info] [binary:BoostFromScore]: pavg=0.491312 -> initscore=-0.034754\n",
      "[LightGBM] [Info] Start training from score -0.034754\n",
      "[LightGBM] [Info] Number of positive: 5317, number of negative: 5504\n",
      "[LightGBM] [Info] Auto-choosing row-wise multi-threading, the overhead of testing was 0.013967 seconds.\n",
      "You can set `force_row_wise=true` to remove the overhead.\n",
      "And if memory is not enough, you can set `force_col_wise=true`.\n",
      "[LightGBM] [Info] Total Bins 480\n",
      "[LightGBM] [Info] Number of data points in the train set: 10821, number of used features: 222\n",
      "[LightGBM] [Info] [binary:BoostFromScore]: pavg=0.491359 -> initscore=-0.034566\n",
      "[LightGBM] [Info] Start training from score -0.034566\n",
      "[LightGBM] [Info] Number of positive: 5317, number of negative: 5504\n",
      "[LightGBM] [Info] Auto-choosing row-wise multi-threading, the overhead of testing was 0.023864 seconds.\n",
      "You can set `force_row_wise=true` to remove the overhead.\n",
      "And if memory is not enough, you can set `force_col_wise=true`.\n",
      "[LightGBM] [Info] Total Bins 504\n",
      "[LightGBM] [Info] Number of data points in the train set: 10821, number of used features: 233\n",
      "[LightGBM] [Info] [binary:BoostFromScore]: pavg=0.491359 -> initscore=-0.034566\n",
      "[LightGBM] [Info] Start training from score -0.034566\n",
      "[LightGBM] [Info] Number of positive: 5317, number of negative: 5504\n",
      "[LightGBM] [Info] Auto-choosing row-wise multi-threading, the overhead of testing was 0.014926 seconds.\n",
      "You can set `force_row_wise=true` to remove the overhead.\n",
      "And if memory is not enough, you can set `force_col_wise=true`.\n",
      "[LightGBM] [Info] Total Bins 513\n",
      "[LightGBM] [Info] Number of data points in the train set: 10821, number of used features: 236\n",
      "[LightGBM] [Info] [binary:BoostFromScore]: pavg=0.491359 -> initscore=-0.034566\n",
      "[LightGBM] [Info] Start training from score -0.034566\n",
      "[LightGBM] [Info] Number of positive: 5317, number of negative: 5504\n",
      "[LightGBM] [Info] Auto-choosing row-wise multi-threading, the overhead of testing was 0.014771 seconds.\n",
      "You can set `force_row_wise=true` to remove the overhead.\n",
      "And if memory is not enough, you can set `force_col_wise=true`.\n",
      "[LightGBM] [Info] Total Bins 500\n",
      "[LightGBM] [Info] Number of data points in the train set: 10821, number of used features: 230\n",
      "[LightGBM] [Info] [binary:BoostFromScore]: pavg=0.491359 -> initscore=-0.034566\n",
      "[LightGBM] [Info] Start training from score -0.034566\n",
      "[LightGBM] [Info] Number of positive: 5316, number of negative: 5504\n",
      "[LightGBM] [Info] Auto-choosing row-wise multi-threading, the overhead of testing was 0.014087 seconds.\n",
      "You can set `force_row_wise=true` to remove the overhead.\n",
      "And if memory is not enough, you can set `force_col_wise=true`.\n",
      "[LightGBM] [Info] Total Bins 487\n",
      "[LightGBM] [Info] Number of data points in the train set: 10820, number of used features: 223\n",
      "[LightGBM] [Info] [binary:BoostFromScore]: pavg=0.491312 -> initscore=-0.034754\n",
      "[LightGBM] [Info] Start training from score -0.034754\n",
      "[LightGBM] [Info] Number of positive: 5317, number of negative: 5504\n",
      "[LightGBM] [Info] Auto-choosing col-wise multi-threading, the overhead of testing was 0.013780 seconds.\n",
      "You can set `force_col_wise=true` to remove the overhead.\n",
      "[LightGBM] [Info] Total Bins 480\n",
      "[LightGBM] [Info] Number of data points in the train set: 10821, number of used features: 222\n",
      "[LightGBM] [Info] [binary:BoostFromScore]: pavg=0.491359 -> initscore=-0.034566\n",
      "[LightGBM] [Info] Start training from score -0.034566\n",
      "[LightGBM] [Info] Number of positive: 5317, number of negative: 5504\n",
      "[LightGBM] [Info] Auto-choosing row-wise multi-threading, the overhead of testing was 0.015469 seconds.\n",
      "You can set `force_row_wise=true` to remove the overhead.\n",
      "And if memory is not enough, you can set `force_col_wise=true`.\n",
      "[LightGBM] [Info] Total Bins 504\n",
      "[LightGBM] [Info] Number of data points in the train set: 10821, number of used features: 233\n",
      "[LightGBM] [Info] [binary:BoostFromScore]: pavg=0.491359 -> initscore=-0.034566\n",
      "[LightGBM] [Info] Start training from score -0.034566\n",
      "[LightGBM] [Info] Number of positive: 5317, number of negative: 5504\n",
      "[LightGBM] [Info] Auto-choosing row-wise multi-threading, the overhead of testing was 0.014936 seconds.\n",
      "You can set `force_row_wise=true` to remove the overhead.\n",
      "And if memory is not enough, you can set `force_col_wise=true`.\n",
      "[LightGBM] [Info] Total Bins 513\n",
      "[LightGBM] [Info] Number of data points in the train set: 10821, number of used features: 236\n",
      "[LightGBM] [Info] [binary:BoostFromScore]: pavg=0.491359 -> initscore=-0.034566\n",
      "[LightGBM] [Info] Start training from score -0.034566\n",
      "[LightGBM] [Info] Number of positive: 5317, number of negative: 5504\n",
      "[LightGBM] [Info] Auto-choosing row-wise multi-threading, the overhead of testing was 0.014489 seconds.\n",
      "You can set `force_row_wise=true` to remove the overhead.\n",
      "And if memory is not enough, you can set `force_col_wise=true`.\n",
      "[LightGBM] [Info] Total Bins 500\n",
      "[LightGBM] [Info] Number of data points in the train set: 10821, number of used features: 230\n",
      "[LightGBM] [Info] [binary:BoostFromScore]: pavg=0.491359 -> initscore=-0.034566\n",
      "[LightGBM] [Info] Start training from score -0.034566\n",
      "[LightGBM] [Info] Number of positive: 5316, number of negative: 5504\n",
      "[LightGBM] [Info] Auto-choosing row-wise multi-threading, the overhead of testing was 0.013975 seconds.\n",
      "You can set `force_row_wise=true` to remove the overhead.\n",
      "And if memory is not enough, you can set `force_col_wise=true`.\n",
      "[LightGBM] [Info] Total Bins 487\n",
      "[LightGBM] [Info] Number of data points in the train set: 10820, number of used features: 223\n",
      "[LightGBM] [Info] [binary:BoostFromScore]: pavg=0.491312 -> initscore=-0.034754\n",
      "[LightGBM] [Info] Start training from score -0.034754\n",
      "[LightGBM] [Info] Number of positive: 5317, number of negative: 5504\n",
      "[LightGBM] [Info] Auto-choosing row-wise multi-threading, the overhead of testing was 0.014422 seconds.\n",
      "You can set `force_row_wise=true` to remove the overhead.\n",
      "And if memory is not enough, you can set `force_col_wise=true`.\n",
      "[LightGBM] [Info] Total Bins 480\n",
      "[LightGBM] [Info] Number of data points in the train set: 10821, number of used features: 222\n",
      "[LightGBM] [Info] [binary:BoostFromScore]: pavg=0.491359 -> initscore=-0.034566\n",
      "[LightGBM] [Info] Start training from score -0.034566\n",
      "[LightGBM] [Info] Number of positive: 5317, number of negative: 5504\n",
      "[LightGBM] [Info] Auto-choosing row-wise multi-threading, the overhead of testing was 0.014911 seconds.\n",
      "You can set `force_row_wise=true` to remove the overhead.\n",
      "And if memory is not enough, you can set `force_col_wise=true`.\n",
      "[LightGBM] [Info] Total Bins 504\n",
      "[LightGBM] [Info] Number of data points in the train set: 10821, number of used features: 233\n",
      "[LightGBM] [Info] [binary:BoostFromScore]: pavg=0.491359 -> initscore=-0.034566\n",
      "[LightGBM] [Info] Start training from score -0.034566\n",
      "[LightGBM] [Info] Number of positive: 5317, number of negative: 5504\n",
      "[LightGBM] [Info] Auto-choosing row-wise multi-threading, the overhead of testing was 0.015008 seconds.\n",
      "You can set `force_row_wise=true` to remove the overhead.\n",
      "And if memory is not enough, you can set `force_col_wise=true`.\n",
      "[LightGBM] [Info] Total Bins 513\n",
      "[LightGBM] [Info] Number of data points in the train set: 10821, number of used features: 236\n",
      "[LightGBM] [Info] [binary:BoostFromScore]: pavg=0.491359 -> initscore=-0.034566\n",
      "[LightGBM] [Info] Start training from score -0.034566\n",
      "[LightGBM] [Info] Number of positive: 5317, number of negative: 5504\n",
      "[LightGBM] [Info] Auto-choosing col-wise multi-threading, the overhead of testing was 0.014567 seconds.\n",
      "You can set `force_col_wise=true` to remove the overhead.\n",
      "[LightGBM] [Info] Total Bins 500\n",
      "[LightGBM] [Info] Number of data points in the train set: 10821, number of used features: 230\n",
      "[LightGBM] [Info] [binary:BoostFromScore]: pavg=0.491359 -> initscore=-0.034566\n",
      "[LightGBM] [Info] Start training from score -0.034566\n",
      "[LightGBM] [Info] Number of positive: 5316, number of negative: 5504\n",
      "[LightGBM] [Info] Auto-choosing row-wise multi-threading, the overhead of testing was 0.013890 seconds.\n",
      "You can set `force_row_wise=true` to remove the overhead.\n",
      "And if memory is not enough, you can set `force_col_wise=true`.\n",
      "[LightGBM] [Info] Total Bins 487\n",
      "[LightGBM] [Info] Number of data points in the train set: 10820, number of used features: 223\n",
      "[LightGBM] [Info] [binary:BoostFromScore]: pavg=0.491312 -> initscore=-0.034754\n",
      "[LightGBM] [Info] Start training from score -0.034754\n",
      "[LightGBM] [Info] Number of positive: 5317, number of negative: 5504\n",
      "[LightGBM] [Info] Auto-choosing row-wise multi-threading, the overhead of testing was 0.013889 seconds.\n",
      "You can set `force_row_wise=true` to remove the overhead.\n",
      "And if memory is not enough, you can set `force_col_wise=true`.\n",
      "[LightGBM] [Info] Total Bins 480\n",
      "[LightGBM] [Info] Number of data points in the train set: 10821, number of used features: 222\n",
      "[LightGBM] [Info] [binary:BoostFromScore]: pavg=0.491359 -> initscore=-0.034566\n",
      "[LightGBM] [Info] Start training from score -0.034566\n",
      "[LightGBM] [Info] Number of positive: 5317, number of negative: 5504\n",
      "[LightGBM] [Info] Auto-choosing row-wise multi-threading, the overhead of testing was 0.014400 seconds.\n",
      "You can set `force_row_wise=true` to remove the overhead.\n",
      "And if memory is not enough, you can set `force_col_wise=true`.\n",
      "[LightGBM] [Info] Total Bins 504\n",
      "[LightGBM] [Info] Number of data points in the train set: 10821, number of used features: 233\n",
      "[LightGBM] [Info] [binary:BoostFromScore]: pavg=0.491359 -> initscore=-0.034566\n",
      "[LightGBM] [Info] Start training from score -0.034566\n",
      "[LightGBM] [Info] Number of positive: 5317, number of negative: 5504\n",
      "[LightGBM] [Info] Auto-choosing row-wise multi-threading, the overhead of testing was 0.014740 seconds.\n",
      "You can set `force_row_wise=true` to remove the overhead.\n",
      "And if memory is not enough, you can set `force_col_wise=true`.\n",
      "[LightGBM] [Info] Total Bins 513\n",
      "[LightGBM] [Info] Number of data points in the train set: 10821, number of used features: 236\n",
      "[LightGBM] [Info] [binary:BoostFromScore]: pavg=0.491359 -> initscore=-0.034566\n",
      "[LightGBM] [Info] Start training from score -0.034566\n",
      "[LightGBM] [Info] Number of positive: 5317, number of negative: 5504\n",
      "[LightGBM] [Info] Auto-choosing row-wise multi-threading, the overhead of testing was 0.014220 seconds.\n",
      "You can set `force_row_wise=true` to remove the overhead.\n",
      "And if memory is not enough, you can set `force_col_wise=true`.\n",
      "[LightGBM] [Info] Total Bins 500\n",
      "[LightGBM] [Info] Number of data points in the train set: 10821, number of used features: 230\n",
      "[LightGBM] [Info] [binary:BoostFromScore]: pavg=0.491359 -> initscore=-0.034566\n",
      "[LightGBM] [Info] Start training from score -0.034566\n",
      "[LightGBM] [Info] Number of positive: 5316, number of negative: 5504\n",
      "[LightGBM] [Info] Auto-choosing row-wise multi-threading, the overhead of testing was 0.014328 seconds.\n",
      "You can set `force_row_wise=true` to remove the overhead.\n",
      "And if memory is not enough, you can set `force_col_wise=true`.\n",
      "[LightGBM] [Info] Total Bins 487\n",
      "[LightGBM] [Info] Number of data points in the train set: 10820, number of used features: 223\n",
      "[LightGBM] [Info] [binary:BoostFromScore]: pavg=0.491312 -> initscore=-0.034754\n",
      "[LightGBM] [Info] Start training from score -0.034754\n",
      "[LightGBM] [Info] Number of positive: 5317, number of negative: 5504\n",
      "[LightGBM] [Info] Auto-choosing row-wise multi-threading, the overhead of testing was 0.013786 seconds.\n",
      "You can set `force_row_wise=true` to remove the overhead.\n",
      "And if memory is not enough, you can set `force_col_wise=true`.\n",
      "[LightGBM] [Info] Total Bins 480\n",
      "[LightGBM] [Info] Number of data points in the train set: 10821, number of used features: 222\n",
      "[LightGBM] [Info] [binary:BoostFromScore]: pavg=0.491359 -> initscore=-0.034566\n",
      "[LightGBM] [Info] Start training from score -0.034566\n",
      "[LightGBM] [Info] Number of positive: 5317, number of negative: 5504\n",
      "[LightGBM] [Info] Auto-choosing row-wise multi-threading, the overhead of testing was 0.015012 seconds.\n",
      "You can set `force_row_wise=true` to remove the overhead.\n",
      "And if memory is not enough, you can set `force_col_wise=true`.\n",
      "[LightGBM] [Info] Total Bins 504\n",
      "[LightGBM] [Info] Number of data points in the train set: 10821, number of used features: 233\n",
      "[LightGBM] [Info] [binary:BoostFromScore]: pavg=0.491359 -> initscore=-0.034566\n",
      "[LightGBM] [Info] Start training from score -0.034566\n",
      "[LightGBM] [Info] Number of positive: 5317, number of negative: 5504\n",
      "[LightGBM] [Info] Auto-choosing row-wise multi-threading, the overhead of testing was 0.014779 seconds.\n",
      "You can set `force_row_wise=true` to remove the overhead.\n",
      "And if memory is not enough, you can set `force_col_wise=true`.\n",
      "[LightGBM] [Info] Total Bins 513\n",
      "[LightGBM] [Info] Number of data points in the train set: 10821, number of used features: 236\n",
      "[LightGBM] [Info] [binary:BoostFromScore]: pavg=0.491359 -> initscore=-0.034566\n",
      "[LightGBM] [Info] Start training from score -0.034566\n",
      "[LightGBM] [Info] Number of positive: 5317, number of negative: 5504\n",
      "[LightGBM] [Info] Auto-choosing row-wise multi-threading, the overhead of testing was 0.014484 seconds.\n",
      "You can set `force_row_wise=true` to remove the overhead.\n",
      "And if memory is not enough, you can set `force_col_wise=true`.\n",
      "[LightGBM] [Info] Total Bins 500\n",
      "[LightGBM] [Info] Number of data points in the train set: 10821, number of used features: 230\n",
      "[LightGBM] [Info] [binary:BoostFromScore]: pavg=0.491359 -> initscore=-0.034566\n",
      "[LightGBM] [Info] Start training from score -0.034566\n",
      "[LightGBM] [Info] Number of positive: 5316, number of negative: 5504\n",
      "[LightGBM] [Info] Auto-choosing row-wise multi-threading, the overhead of testing was 0.014253 seconds.\n",
      "You can set `force_row_wise=true` to remove the overhead.\n",
      "And if memory is not enough, you can set `force_col_wise=true`.\n",
      "[LightGBM] [Info] Total Bins 487\n",
      "[LightGBM] [Info] Number of data points in the train set: 10820, number of used features: 223\n",
      "[LightGBM] [Info] [binary:BoostFromScore]: pavg=0.491312 -> initscore=-0.034754\n",
      "[LightGBM] [Info] Start training from score -0.034754\n",
      "[LightGBM] [Info] Number of positive: 5317, number of negative: 5504\n",
      "[LightGBM] [Info] Auto-choosing row-wise multi-threading, the overhead of testing was 0.014064 seconds.\n",
      "You can set `force_row_wise=true` to remove the overhead.\n",
      "And if memory is not enough, you can set `force_col_wise=true`.\n",
      "[LightGBM] [Info] Total Bins 480\n",
      "[LightGBM] [Info] Number of data points in the train set: 10821, number of used features: 222\n",
      "[LightGBM] [Info] [binary:BoostFromScore]: pavg=0.491359 -> initscore=-0.034566\n",
      "[LightGBM] [Info] Start training from score -0.034566\n",
      "[LightGBM] [Info] Number of positive: 5317, number of negative: 5504\n",
      "[LightGBM] [Info] Auto-choosing row-wise multi-threading, the overhead of testing was 0.015045 seconds.\n",
      "You can set `force_row_wise=true` to remove the overhead.\n",
      "And if memory is not enough, you can set `force_col_wise=true`.\n",
      "[LightGBM] [Info] Total Bins 504\n",
      "[LightGBM] [Info] Number of data points in the train set: 10821, number of used features: 233\n",
      "[LightGBM] [Info] [binary:BoostFromScore]: pavg=0.491359 -> initscore=-0.034566\n",
      "[LightGBM] [Info] Start training from score -0.034566\n",
      "[LightGBM] [Info] Number of positive: 5317, number of negative: 5504\n",
      "[LightGBM] [Info] Auto-choosing row-wise multi-threading, the overhead of testing was 0.014993 seconds.\n",
      "You can set `force_row_wise=true` to remove the overhead.\n",
      "And if memory is not enough, you can set `force_col_wise=true`.\n",
      "[LightGBM] [Info] Total Bins 513\n",
      "[LightGBM] [Info] Number of data points in the train set: 10821, number of used features: 236\n",
      "[LightGBM] [Info] [binary:BoostFromScore]: pavg=0.491359 -> initscore=-0.034566\n",
      "[LightGBM] [Info] Start training from score -0.034566\n",
      "[LightGBM] [Info] Number of positive: 5317, number of negative: 5504\n",
      "[LightGBM] [Info] Auto-choosing row-wise multi-threading, the overhead of testing was 0.014309 seconds.\n",
      "You can set `force_row_wise=true` to remove the overhead.\n",
      "And if memory is not enough, you can set `force_col_wise=true`.\n",
      "[LightGBM] [Info] Total Bins 500\n",
      "[LightGBM] [Info] Number of data points in the train set: 10821, number of used features: 230\n",
      "[LightGBM] [Info] [binary:BoostFromScore]: pavg=0.491359 -> initscore=-0.034566\n",
      "[LightGBM] [Info] Start training from score -0.034566\n",
      "[LightGBM] [Info] Number of positive: 5316, number of negative: 5504\n",
      "[LightGBM] [Info] Auto-choosing row-wise multi-threading, the overhead of testing was 0.014055 seconds.\n",
      "You can set `force_row_wise=true` to remove the overhead.\n",
      "And if memory is not enough, you can set `force_col_wise=true`.\n",
      "[LightGBM] [Info] Total Bins 487\n",
      "[LightGBM] [Info] Number of data points in the train set: 10820, number of used features: 223\n",
      "[LightGBM] [Info] [binary:BoostFromScore]: pavg=0.491312 -> initscore=-0.034754\n",
      "[LightGBM] [Info] Start training from score -0.034754\n",
      "[LightGBM] [Info] Number of positive: 5317, number of negative: 5504\n",
      "[LightGBM] [Info] Auto-choosing row-wise multi-threading, the overhead of testing was 0.013832 seconds.\n",
      "You can set `force_row_wise=true` to remove the overhead.\n",
      "And if memory is not enough, you can set `force_col_wise=true`.\n",
      "[LightGBM] [Info] Total Bins 480\n",
      "[LightGBM] [Info] Number of data points in the train set: 10821, number of used features: 222\n",
      "[LightGBM] [Info] [binary:BoostFromScore]: pavg=0.491359 -> initscore=-0.034566\n",
      "[LightGBM] [Info] Start training from score -0.034566\n",
      "[LightGBM] [Info] Number of positive: 5317, number of negative: 5504\n",
      "[LightGBM] [Info] Auto-choosing row-wise multi-threading, the overhead of testing was 0.014669 seconds.\n",
      "You can set `force_row_wise=true` to remove the overhead.\n",
      "And if memory is not enough, you can set `force_col_wise=true`.\n",
      "[LightGBM] [Info] Total Bins 504\n",
      "[LightGBM] [Info] Number of data points in the train set: 10821, number of used features: 233\n",
      "[LightGBM] [Info] [binary:BoostFromScore]: pavg=0.491359 -> initscore=-0.034566\n",
      "[LightGBM] [Info] Start training from score -0.034566\n",
      "[LightGBM] [Info] Number of positive: 5317, number of negative: 5504\n",
      "[LightGBM] [Info] Auto-choosing row-wise multi-threading, the overhead of testing was 0.015343 seconds.\n",
      "You can set `force_row_wise=true` to remove the overhead.\n",
      "And if memory is not enough, you can set `force_col_wise=true`.\n",
      "[LightGBM] [Info] Total Bins 513\n",
      "[LightGBM] [Info] Number of data points in the train set: 10821, number of used features: 236\n",
      "[LightGBM] [Info] [binary:BoostFromScore]: pavg=0.491359 -> initscore=-0.034566\n",
      "[LightGBM] [Info] Start training from score -0.034566\n",
      "[LightGBM] [Info] Number of positive: 5317, number of negative: 5504\n",
      "[LightGBM] [Info] Auto-choosing row-wise multi-threading, the overhead of testing was 0.014556 seconds.\n",
      "You can set `force_row_wise=true` to remove the overhead.\n",
      "And if memory is not enough, you can set `force_col_wise=true`.\n",
      "[LightGBM] [Info] Total Bins 500\n",
      "[LightGBM] [Info] Number of data points in the train set: 10821, number of used features: 230\n",
      "[LightGBM] [Info] [binary:BoostFromScore]: pavg=0.491359 -> initscore=-0.034566\n",
      "[LightGBM] [Info] Start training from score -0.034566\n",
      "[LightGBM] [Info] Number of positive: 5316, number of negative: 5504\n",
      "[LightGBM] [Info] Auto-choosing row-wise multi-threading, the overhead of testing was 0.013954 seconds.\n",
      "You can set `force_row_wise=true` to remove the overhead.\n",
      "And if memory is not enough, you can set `force_col_wise=true`.\n",
      "[LightGBM] [Info] Total Bins 487\n",
      "[LightGBM] [Info] Number of data points in the train set: 10820, number of used features: 223\n",
      "[LightGBM] [Info] [binary:BoostFromScore]: pavg=0.491312 -> initscore=-0.034754\n",
      "[LightGBM] [Info] Start training from score -0.034754\n",
      "[LightGBM] [Info] Number of positive: 5317, number of negative: 5504\n",
      "[LightGBM] [Info] Auto-choosing row-wise multi-threading, the overhead of testing was 0.013877 seconds.\n",
      "You can set `force_row_wise=true` to remove the overhead.\n",
      "And if memory is not enough, you can set `force_col_wise=true`.\n",
      "[LightGBM] [Info] Total Bins 480\n",
      "[LightGBM] [Info] Number of data points in the train set: 10821, number of used features: 222\n",
      "[LightGBM] [Info] [binary:BoostFromScore]: pavg=0.491359 -> initscore=-0.034566\n",
      "[LightGBM] [Info] Start training from score -0.034566\n",
      "[LightGBM] [Info] Number of positive: 5317, number of negative: 5504\n",
      "[LightGBM] [Info] Auto-choosing row-wise multi-threading, the overhead of testing was 0.014727 seconds.\n",
      "You can set `force_row_wise=true` to remove the overhead.\n",
      "And if memory is not enough, you can set `force_col_wise=true`.\n",
      "[LightGBM] [Info] Total Bins 504\n",
      "[LightGBM] [Info] Number of data points in the train set: 10821, number of used features: 233\n",
      "[LightGBM] [Info] [binary:BoostFromScore]: pavg=0.491359 -> initscore=-0.034566\n",
      "[LightGBM] [Info] Start training from score -0.034566\n",
      "[LightGBM] [Info] Number of positive: 5317, number of negative: 5504\n",
      "[LightGBM] [Info] Auto-choosing row-wise multi-threading, the overhead of testing was 0.014901 seconds.\n",
      "You can set `force_row_wise=true` to remove the overhead.\n",
      "And if memory is not enough, you can set `force_col_wise=true`.\n",
      "[LightGBM] [Info] Total Bins 513\n",
      "[LightGBM] [Info] Number of data points in the train set: 10821, number of used features: 236\n",
      "[LightGBM] [Info] [binary:BoostFromScore]: pavg=0.491359 -> initscore=-0.034566\n",
      "[LightGBM] [Info] Start training from score -0.034566\n",
      "[LightGBM] [Info] Number of positive: 5317, number of negative: 5504\n",
      "[LightGBM] [Info] Auto-choosing row-wise multi-threading, the overhead of testing was 0.020939 seconds.\n",
      "You can set `force_row_wise=true` to remove the overhead.\n",
      "And if memory is not enough, you can set `force_col_wise=true`.\n",
      "[LightGBM] [Info] Total Bins 500\n",
      "[LightGBM] [Info] Number of data points in the train set: 10821, number of used features: 230\n",
      "[LightGBM] [Info] [binary:BoostFromScore]: pavg=0.491359 -> initscore=-0.034566\n",
      "[LightGBM] [Info] Start training from score -0.034566\n",
      "[LightGBM] [Info] Number of positive: 5316, number of negative: 5504\n",
      "[LightGBM] [Info] Auto-choosing row-wise multi-threading, the overhead of testing was 0.014208 seconds.\n",
      "You can set `force_row_wise=true` to remove the overhead.\n",
      "And if memory is not enough, you can set `force_col_wise=true`.\n",
      "[LightGBM] [Info] Total Bins 487\n",
      "[LightGBM] [Info] Number of data points in the train set: 10820, number of used features: 223\n",
      "[LightGBM] [Info] [binary:BoostFromScore]: pavg=0.491312 -> initscore=-0.034754\n",
      "[LightGBM] [Info] Start training from score -0.034754\n",
      "[LightGBM] [Info] Number of positive: 5317, number of negative: 5504\n",
      "[LightGBM] [Info] Auto-choosing row-wise multi-threading, the overhead of testing was 0.013927 seconds.\n",
      "You can set `force_row_wise=true` to remove the overhead.\n",
      "And if memory is not enough, you can set `force_col_wise=true`.\n",
      "[LightGBM] [Info] Total Bins 480\n",
      "[LightGBM] [Info] Number of data points in the train set: 10821, number of used features: 222\n",
      "[LightGBM] [Info] [binary:BoostFromScore]: pavg=0.491359 -> initscore=-0.034566\n",
      "[LightGBM] [Info] Start training from score -0.034566\n",
      "[LightGBM] [Info] Number of positive: 5317, number of negative: 5504\n",
      "[LightGBM] [Info] Auto-choosing row-wise multi-threading, the overhead of testing was 0.014666 seconds.\n",
      "You can set `force_row_wise=true` to remove the overhead.\n",
      "And if memory is not enough, you can set `force_col_wise=true`.\n",
      "[LightGBM] [Info] Total Bins 504\n",
      "[LightGBM] [Info] Number of data points in the train set: 10821, number of used features: 233\n",
      "[LightGBM] [Info] [binary:BoostFromScore]: pavg=0.491359 -> initscore=-0.034566\n",
      "[LightGBM] [Info] Start training from score -0.034566\n",
      "[LightGBM] [Info] Number of positive: 5317, number of negative: 5504\n",
      "[LightGBM] [Info] Auto-choosing row-wise multi-threading, the overhead of testing was 0.014603 seconds.\n",
      "You can set `force_row_wise=true` to remove the overhead.\n",
      "And if memory is not enough, you can set `force_col_wise=true`.\n",
      "[LightGBM] [Info] Total Bins 513\n",
      "[LightGBM] [Info] Number of data points in the train set: 10821, number of used features: 236\n",
      "[LightGBM] [Info] [binary:BoostFromScore]: pavg=0.491359 -> initscore=-0.034566\n",
      "[LightGBM] [Info] Start training from score -0.034566\n",
      "[LightGBM] [Info] Number of positive: 5317, number of negative: 5504\n",
      "[LightGBM] [Info] Auto-choosing row-wise multi-threading, the overhead of testing was 0.014580 seconds.\n",
      "You can set `force_row_wise=true` to remove the overhead.\n",
      "And if memory is not enough, you can set `force_col_wise=true`.\n",
      "[LightGBM] [Info] Total Bins 500\n",
      "[LightGBM] [Info] Number of data points in the train set: 10821, number of used features: 230\n",
      "[LightGBM] [Info] [binary:BoostFromScore]: pavg=0.491359 -> initscore=-0.034566\n",
      "[LightGBM] [Info] Start training from score -0.034566\n",
      "[LightGBM] [Info] Number of positive: 5316, number of negative: 5504\n",
      "[LightGBM] [Info] Auto-choosing row-wise multi-threading, the overhead of testing was 0.013820 seconds.\n",
      "You can set `force_row_wise=true` to remove the overhead.\n",
      "And if memory is not enough, you can set `force_col_wise=true`.\n",
      "[LightGBM] [Info] Total Bins 487\n",
      "[LightGBM] [Info] Number of data points in the train set: 10820, number of used features: 223\n",
      "[LightGBM] [Info] [binary:BoostFromScore]: pavg=0.491312 -> initscore=-0.034754\n",
      "[LightGBM] [Info] Start training from score -0.034754\n",
      "[LightGBM] [Info] Number of positive: 5317, number of negative: 5504\n",
      "[LightGBM] [Info] Auto-choosing col-wise multi-threading, the overhead of testing was 0.013681 seconds.\n",
      "You can set `force_col_wise=true` to remove the overhead.\n",
      "[LightGBM] [Info] Total Bins 480\n",
      "[LightGBM] [Info] Number of data points in the train set: 10821, number of used features: 222\n",
      "[LightGBM] [Info] [binary:BoostFromScore]: pavg=0.491359 -> initscore=-0.034566\n",
      "[LightGBM] [Info] Start training from score -0.034566\n",
      "[LightGBM] [Info] Number of positive: 5317, number of negative: 5504\n",
      "[LightGBM] [Info] Auto-choosing row-wise multi-threading, the overhead of testing was 0.014739 seconds.\n",
      "You can set `force_row_wise=true` to remove the overhead.\n",
      "And if memory is not enough, you can set `force_col_wise=true`.\n",
      "[LightGBM] [Info] Total Bins 504\n",
      "[LightGBM] [Info] Number of data points in the train set: 10821, number of used features: 233\n",
      "[LightGBM] [Info] [binary:BoostFromScore]: pavg=0.491359 -> initscore=-0.034566\n",
      "[LightGBM] [Info] Start training from score -0.034566\n",
      "[LightGBM] [Info] Number of positive: 5317, number of negative: 5504\n",
      "[LightGBM] [Info] Auto-choosing row-wise multi-threading, the overhead of testing was 0.014610 seconds.\n",
      "You can set `force_row_wise=true` to remove the overhead.\n",
      "And if memory is not enough, you can set `force_col_wise=true`.\n",
      "[LightGBM] [Info] Total Bins 513\n",
      "[LightGBM] [Info] Number of data points in the train set: 10821, number of used features: 236\n",
      "[LightGBM] [Info] [binary:BoostFromScore]: pavg=0.491359 -> initscore=-0.034566\n",
      "[LightGBM] [Info] Start training from score -0.034566\n",
      "[LightGBM] [Info] Number of positive: 5317, number of negative: 5504\n",
      "[LightGBM] [Info] Auto-choosing row-wise multi-threading, the overhead of testing was 0.014487 seconds.\n",
      "You can set `force_row_wise=true` to remove the overhead.\n",
      "And if memory is not enough, you can set `force_col_wise=true`.\n",
      "[LightGBM] [Info] Total Bins 500\n",
      "[LightGBM] [Info] Number of data points in the train set: 10821, number of used features: 230\n",
      "[LightGBM] [Info] [binary:BoostFromScore]: pavg=0.491359 -> initscore=-0.034566\n",
      "[LightGBM] [Info] Start training from score -0.034566\n",
      "[LightGBM] [Info] Number of positive: 5316, number of negative: 5504\n",
      "[LightGBM] [Info] Auto-choosing row-wise multi-threading, the overhead of testing was 0.014065 seconds.\n",
      "You can set `force_row_wise=true` to remove the overhead.\n",
      "And if memory is not enough, you can set `force_col_wise=true`.\n",
      "[LightGBM] [Info] Total Bins 487\n",
      "[LightGBM] [Info] Number of data points in the train set: 10820, number of used features: 223\n",
      "[LightGBM] [Info] [binary:BoostFromScore]: pavg=0.491312 -> initscore=-0.034754\n",
      "[LightGBM] [Info] Start training from score -0.034754\n",
      "[LightGBM] [Info] Number of positive: 5317, number of negative: 5504\n",
      "[LightGBM] [Info] Auto-choosing row-wise multi-threading, the overhead of testing was 0.014501 seconds.\n",
      "You can set `force_row_wise=true` to remove the overhead.\n",
      "And if memory is not enough, you can set `force_col_wise=true`.\n",
      "[LightGBM] [Info] Total Bins 480\n",
      "[LightGBM] [Info] Number of data points in the train set: 10821, number of used features: 222\n",
      "[LightGBM] [Info] [binary:BoostFromScore]: pavg=0.491359 -> initscore=-0.034566\n",
      "[LightGBM] [Info] Start training from score -0.034566\n",
      "[LightGBM] [Info] Number of positive: 5317, number of negative: 5504\n",
      "[LightGBM] [Info] Auto-choosing row-wise multi-threading, the overhead of testing was 0.014661 seconds.\n",
      "You can set `force_row_wise=true` to remove the overhead.\n",
      "And if memory is not enough, you can set `force_col_wise=true`.\n",
      "[LightGBM] [Info] Total Bins 504\n",
      "[LightGBM] [Info] Number of data points in the train set: 10821, number of used features: 233\n",
      "[LightGBM] [Info] [binary:BoostFromScore]: pavg=0.491359 -> initscore=-0.034566\n",
      "[LightGBM] [Info] Start training from score -0.034566\n",
      "[LightGBM] [Info] Number of positive: 5317, number of negative: 5504\n",
      "[LightGBM] [Info] Auto-choosing col-wise multi-threading, the overhead of testing was 0.014586 seconds.\n",
      "You can set `force_col_wise=true` to remove the overhead.\n",
      "[LightGBM] [Info] Total Bins 513\n",
      "[LightGBM] [Info] Number of data points in the train set: 10821, number of used features: 236\n",
      "[LightGBM] [Info] [binary:BoostFromScore]: pavg=0.491359 -> initscore=-0.034566\n",
      "[LightGBM] [Info] Start training from score -0.034566\n",
      "[LightGBM] [Info] Number of positive: 5317, number of negative: 5504\n",
      "[LightGBM] [Info] Auto-choosing row-wise multi-threading, the overhead of testing was 0.014448 seconds.\n",
      "You can set `force_row_wise=true` to remove the overhead.\n",
      "And if memory is not enough, you can set `force_col_wise=true`.\n",
      "[LightGBM] [Info] Total Bins 500\n",
      "[LightGBM] [Info] Number of data points in the train set: 10821, number of used features: 230\n",
      "[LightGBM] [Info] [binary:BoostFromScore]: pavg=0.491359 -> initscore=-0.034566\n",
      "[LightGBM] [Info] Start training from score -0.034566\n",
      "[LightGBM] [Info] Number of positive: 5316, number of negative: 5504\n",
      "[LightGBM] [Info] Auto-choosing row-wise multi-threading, the overhead of testing was 0.013943 seconds.\n",
      "You can set `force_row_wise=true` to remove the overhead.\n",
      "And if memory is not enough, you can set `force_col_wise=true`.\n",
      "[LightGBM] [Info] Total Bins 487\n",
      "[LightGBM] [Info] Number of data points in the train set: 10820, number of used features: 223\n",
      "[LightGBM] [Info] [binary:BoostFromScore]: pavg=0.491312 -> initscore=-0.034754\n",
      "[LightGBM] [Info] Start training from score -0.034754\n",
      "[LightGBM] [Info] Number of positive: 5317, number of negative: 5504\n",
      "[LightGBM] [Info] Auto-choosing row-wise multi-threading, the overhead of testing was 0.013707 seconds.\n",
      "You can set `force_row_wise=true` to remove the overhead.\n",
      "And if memory is not enough, you can set `force_col_wise=true`.\n",
      "[LightGBM] [Info] Total Bins 480\n",
      "[LightGBM] [Info] Number of data points in the train set: 10821, number of used features: 222\n",
      "[LightGBM] [Info] [binary:BoostFromScore]: pavg=0.491359 -> initscore=-0.034566\n",
      "[LightGBM] [Info] Start training from score -0.034566\n",
      "[LightGBM] [Info] Number of positive: 5317, number of negative: 5504\n",
      "[LightGBM] [Info] Auto-choosing row-wise multi-threading, the overhead of testing was 0.014549 seconds.\n",
      "You can set `force_row_wise=true` to remove the overhead.\n",
      "And if memory is not enough, you can set `force_col_wise=true`.\n",
      "[LightGBM] [Info] Total Bins 504\n",
      "[LightGBM] [Info] Number of data points in the train set: 10821, number of used features: 233\n",
      "[LightGBM] [Info] [binary:BoostFromScore]: pavg=0.491359 -> initscore=-0.034566\n",
      "[LightGBM] [Info] Start training from score -0.034566\n",
      "[LightGBM] [Info] Number of positive: 5317, number of negative: 5504\n",
      "[LightGBM] [Info] Auto-choosing row-wise multi-threading, the overhead of testing was 0.014702 seconds.\n",
      "You can set `force_row_wise=true` to remove the overhead.\n",
      "And if memory is not enough, you can set `force_col_wise=true`.\n",
      "[LightGBM] [Info] Total Bins 513\n",
      "[LightGBM] [Info] Number of data points in the train set: 10821, number of used features: 236\n",
      "[LightGBM] [Info] [binary:BoostFromScore]: pavg=0.491359 -> initscore=-0.034566\n",
      "[LightGBM] [Info] Start training from score -0.034566\n",
      "[LightGBM] [Info] Number of positive: 5317, number of negative: 5504\n",
      "[LightGBM] [Info] Auto-choosing row-wise multi-threading, the overhead of testing was 0.023024 seconds.\n",
      "You can set `force_row_wise=true` to remove the overhead.\n",
      "And if memory is not enough, you can set `force_col_wise=true`.\n",
      "[LightGBM] [Info] Total Bins 500\n",
      "[LightGBM] [Info] Number of data points in the train set: 10821, number of used features: 230\n",
      "[LightGBM] [Info] [binary:BoostFromScore]: pavg=0.491359 -> initscore=-0.034566\n",
      "[LightGBM] [Info] Start training from score -0.034566\n",
      "[LightGBM] [Info] Number of positive: 5316, number of negative: 5504\n",
      "[LightGBM] [Info] Auto-choosing row-wise multi-threading, the overhead of testing was 0.014016 seconds.\n",
      "You can set `force_row_wise=true` to remove the overhead.\n",
      "And if memory is not enough, you can set `force_col_wise=true`.\n",
      "[LightGBM] [Info] Total Bins 487\n",
      "[LightGBM] [Info] Number of data points in the train set: 10820, number of used features: 223\n",
      "[LightGBM] [Info] [binary:BoostFromScore]: pavg=0.491312 -> initscore=-0.034754\n",
      "[LightGBM] [Info] Start training from score -0.034754\n",
      "[LightGBM] [Info] Number of positive: 5317, number of negative: 5504\n",
      "[LightGBM] [Info] Auto-choosing row-wise multi-threading, the overhead of testing was 0.013860 seconds.\n",
      "You can set `force_row_wise=true` to remove the overhead.\n",
      "And if memory is not enough, you can set `force_col_wise=true`.\n",
      "[LightGBM] [Info] Total Bins 480\n",
      "[LightGBM] [Info] Number of data points in the train set: 10821, number of used features: 222\n",
      "[LightGBM] [Info] [binary:BoostFromScore]: pavg=0.491359 -> initscore=-0.034566\n",
      "[LightGBM] [Info] Start training from score -0.034566\n",
      "[LightGBM] [Info] Number of positive: 5317, number of negative: 5504\n",
      "[LightGBM] [Info] Auto-choosing row-wise multi-threading, the overhead of testing was 0.014711 seconds.\n",
      "You can set `force_row_wise=true` to remove the overhead.\n",
      "And if memory is not enough, you can set `force_col_wise=true`.\n",
      "[LightGBM] [Info] Total Bins 504\n",
      "[LightGBM] [Info] Number of data points in the train set: 10821, number of used features: 233\n",
      "[LightGBM] [Info] [binary:BoostFromScore]: pavg=0.491359 -> initscore=-0.034566\n",
      "[LightGBM] [Info] Start training from score -0.034566\n",
      "[LightGBM] [Info] Number of positive: 5317, number of negative: 5504\n",
      "[LightGBM] [Info] Auto-choosing row-wise multi-threading, the overhead of testing was 0.014913 seconds.\n",
      "You can set `force_row_wise=true` to remove the overhead.\n",
      "And if memory is not enough, you can set `force_col_wise=true`.\n",
      "[LightGBM] [Info] Total Bins 513\n",
      "[LightGBM] [Info] Number of data points in the train set: 10821, number of used features: 236\n",
      "[LightGBM] [Info] [binary:BoostFromScore]: pavg=0.491359 -> initscore=-0.034566\n",
      "[LightGBM] [Info] Start training from score -0.034566\n",
      "[LightGBM] [Info] Number of positive: 5317, number of negative: 5504\n",
      "[LightGBM] [Info] Auto-choosing row-wise multi-threading, the overhead of testing was 0.014196 seconds.\n",
      "You can set `force_row_wise=true` to remove the overhead.\n",
      "And if memory is not enough, you can set `force_col_wise=true`.\n",
      "[LightGBM] [Info] Total Bins 500\n",
      "[LightGBM] [Info] Number of data points in the train set: 10821, number of used features: 230\n",
      "[LightGBM] [Info] [binary:BoostFromScore]: pavg=0.491359 -> initscore=-0.034566\n",
      "[LightGBM] [Info] Start training from score -0.034566\n",
      "[LightGBM] [Info] Number of positive: 5316, number of negative: 5504\n",
      "[LightGBM] [Info] Auto-choosing row-wise multi-threading, the overhead of testing was 0.013870 seconds.\n",
      "You can set `force_row_wise=true` to remove the overhead.\n",
      "And if memory is not enough, you can set `force_col_wise=true`.\n",
      "[LightGBM] [Info] Total Bins 487\n",
      "[LightGBM] [Info] Number of data points in the train set: 10820, number of used features: 223\n",
      "[LightGBM] [Info] [binary:BoostFromScore]: pavg=0.491312 -> initscore=-0.034754\n",
      "[LightGBM] [Info] Start training from score -0.034754\n",
      "[LightGBM] [Info] Number of positive: 5317, number of negative: 5504\n",
      "[LightGBM] [Info] Auto-choosing row-wise multi-threading, the overhead of testing was 0.014014 seconds.\n",
      "You can set `force_row_wise=true` to remove the overhead.\n",
      "And if memory is not enough, you can set `force_col_wise=true`.\n",
      "[LightGBM] [Info] Total Bins 480\n",
      "[LightGBM] [Info] Number of data points in the train set: 10821, number of used features: 222\n",
      "[LightGBM] [Info] [binary:BoostFromScore]: pavg=0.491359 -> initscore=-0.034566\n",
      "[LightGBM] [Info] Start training from score -0.034566\n",
      "[LightGBM] [Info] Number of positive: 5317, number of negative: 5504\n",
      "[LightGBM] [Info] Auto-choosing row-wise multi-threading, the overhead of testing was 0.014678 seconds.\n",
      "You can set `force_row_wise=true` to remove the overhead.\n",
      "And if memory is not enough, you can set `force_col_wise=true`.\n",
      "[LightGBM] [Info] Total Bins 504\n",
      "[LightGBM] [Info] Number of data points in the train set: 10821, number of used features: 233\n",
      "[LightGBM] [Info] [binary:BoostFromScore]: pavg=0.491359 -> initscore=-0.034566\n",
      "[LightGBM] [Info] Start training from score -0.034566\n",
      "[LightGBM] [Info] Number of positive: 5317, number of negative: 5504\n",
      "[LightGBM] [Info] Auto-choosing row-wise multi-threading, the overhead of testing was 0.014861 seconds.\n",
      "You can set `force_row_wise=true` to remove the overhead.\n",
      "And if memory is not enough, you can set `force_col_wise=true`.\n",
      "[LightGBM] [Info] Total Bins 513\n",
      "[LightGBM] [Info] Number of data points in the train set: 10821, number of used features: 236\n",
      "[LightGBM] [Info] [binary:BoostFromScore]: pavg=0.491359 -> initscore=-0.034566\n",
      "[LightGBM] [Info] Start training from score -0.034566\n",
      "[LightGBM] [Info] Number of positive: 5317, number of negative: 5504\n",
      "[LightGBM] [Info] Auto-choosing row-wise multi-threading, the overhead of testing was 0.014618 seconds.\n",
      "You can set `force_row_wise=true` to remove the overhead.\n",
      "And if memory is not enough, you can set `force_col_wise=true`.\n",
      "[LightGBM] [Info] Total Bins 500\n",
      "[LightGBM] [Info] Number of data points in the train set: 10821, number of used features: 230\n",
      "[LightGBM] [Info] [binary:BoostFromScore]: pavg=0.491359 -> initscore=-0.034566\n",
      "[LightGBM] [Info] Start training from score -0.034566\n",
      "[LightGBM] [Info] Number of positive: 5316, number of negative: 5504\n",
      "[LightGBM] [Info] Auto-choosing row-wise multi-threading, the overhead of testing was 0.013904 seconds.\n",
      "You can set `force_row_wise=true` to remove the overhead.\n",
      "And if memory is not enough, you can set `force_col_wise=true`.\n",
      "[LightGBM] [Info] Total Bins 487\n",
      "[LightGBM] [Info] Number of data points in the train set: 10820, number of used features: 223\n",
      "[LightGBM] [Info] [binary:BoostFromScore]: pavg=0.491312 -> initscore=-0.034754\n",
      "[LightGBM] [Info] Start training from score -0.034754\n",
      "[LightGBM] [Info] Number of positive: 5317, number of negative: 5504\n",
      "[LightGBM] [Info] Auto-choosing row-wise multi-threading, the overhead of testing was 0.013858 seconds.\n",
      "You can set `force_row_wise=true` to remove the overhead.\n",
      "And if memory is not enough, you can set `force_col_wise=true`.\n",
      "[LightGBM] [Info] Total Bins 480\n",
      "[LightGBM] [Info] Number of data points in the train set: 10821, number of used features: 222\n",
      "[LightGBM] [Info] [binary:BoostFromScore]: pavg=0.491359 -> initscore=-0.034566\n",
      "[LightGBM] [Info] Start training from score -0.034566\n",
      "[LightGBM] [Info] Number of positive: 5317, number of negative: 5504\n",
      "[LightGBM] [Info] Auto-choosing row-wise multi-threading, the overhead of testing was 0.014549 seconds.\n",
      "You can set `force_row_wise=true` to remove the overhead.\n",
      "And if memory is not enough, you can set `force_col_wise=true`.\n",
      "[LightGBM] [Info] Total Bins 504\n",
      "[LightGBM] [Info] Number of data points in the train set: 10821, number of used features: 233\n",
      "[LightGBM] [Info] [binary:BoostFromScore]: pavg=0.491359 -> initscore=-0.034566\n",
      "[LightGBM] [Info] Start training from score -0.034566\n",
      "[LightGBM] [Info] Number of positive: 5317, number of negative: 5504\n",
      "[LightGBM] [Info] Auto-choosing row-wise multi-threading, the overhead of testing was 0.015210 seconds.\n",
      "You can set `force_row_wise=true` to remove the overhead.\n",
      "And if memory is not enough, you can set `force_col_wise=true`.\n",
      "[LightGBM] [Info] Total Bins 513\n",
      "[LightGBM] [Info] Number of data points in the train set: 10821, number of used features: 236\n",
      "[LightGBM] [Info] [binary:BoostFromScore]: pavg=0.491359 -> initscore=-0.034566\n",
      "[LightGBM] [Info] Start training from score -0.034566\n",
      "[LightGBM] [Info] Number of positive: 5317, number of negative: 5504\n",
      "[LightGBM] [Info] Auto-choosing row-wise multi-threading, the overhead of testing was 0.014363 seconds.\n",
      "You can set `force_row_wise=true` to remove the overhead.\n",
      "And if memory is not enough, you can set `force_col_wise=true`.\n",
      "[LightGBM] [Info] Total Bins 500\n",
      "[LightGBM] [Info] Number of data points in the train set: 10821, number of used features: 230\n",
      "[LightGBM] [Info] [binary:BoostFromScore]: pavg=0.491359 -> initscore=-0.034566\n",
      "[LightGBM] [Info] Start training from score -0.034566\n",
      "[LightGBM] [Info] Number of positive: 5316, number of negative: 5504\n",
      "[LightGBM] [Info] Auto-choosing row-wise multi-threading, the overhead of testing was 0.014016 seconds.\n",
      "You can set `force_row_wise=true` to remove the overhead.\n",
      "And if memory is not enough, you can set `force_col_wise=true`.\n",
      "[LightGBM] [Info] Total Bins 487\n",
      "[LightGBM] [Info] Number of data points in the train set: 10820, number of used features: 223\n",
      "[LightGBM] [Info] [binary:BoostFromScore]: pavg=0.491312 -> initscore=-0.034754\n",
      "[LightGBM] [Info] Start training from score -0.034754\n",
      "[LightGBM] [Info] Number of positive: 5317, number of negative: 5504\n",
      "[LightGBM] [Info] Auto-choosing row-wise multi-threading, the overhead of testing was 0.013818 seconds.\n",
      "You can set `force_row_wise=true` to remove the overhead.\n",
      "And if memory is not enough, you can set `force_col_wise=true`.\n",
      "[LightGBM] [Info] Total Bins 480\n",
      "[LightGBM] [Info] Number of data points in the train set: 10821, number of used features: 222\n",
      "[LightGBM] [Info] [binary:BoostFromScore]: pavg=0.491359 -> initscore=-0.034566\n",
      "[LightGBM] [Info] Start training from score -0.034566\n",
      "[LightGBM] [Info] Number of positive: 5317, number of negative: 5504\n",
      "[LightGBM] [Info] Auto-choosing row-wise multi-threading, the overhead of testing was 0.014675 seconds.\n",
      "You can set `force_row_wise=true` to remove the overhead.\n",
      "And if memory is not enough, you can set `force_col_wise=true`.\n",
      "[LightGBM] [Info] Total Bins 504\n",
      "[LightGBM] [Info] Number of data points in the train set: 10821, number of used features: 233\n",
      "[LightGBM] [Info] [binary:BoostFromScore]: pavg=0.491359 -> initscore=-0.034566\n",
      "[LightGBM] [Info] Start training from score -0.034566\n",
      "[LightGBM] [Info] Number of positive: 5317, number of negative: 5504\n",
      "[LightGBM] [Info] Auto-choosing row-wise multi-threading, the overhead of testing was 0.014633 seconds.\n",
      "You can set `force_row_wise=true` to remove the overhead.\n",
      "And if memory is not enough, you can set `force_col_wise=true`.\n",
      "[LightGBM] [Info] Total Bins 513\n",
      "[LightGBM] [Info] Number of data points in the train set: 10821, number of used features: 236\n",
      "[LightGBM] [Info] [binary:BoostFromScore]: pavg=0.491359 -> initscore=-0.034566\n",
      "[LightGBM] [Info] Start training from score -0.034566\n",
      "[LightGBM] [Info] Number of positive: 5317, number of negative: 5504\n",
      "[LightGBM] [Info] Auto-choosing row-wise multi-threading, the overhead of testing was 0.014570 seconds.\n",
      "You can set `force_row_wise=true` to remove the overhead.\n",
      "And if memory is not enough, you can set `force_col_wise=true`.\n",
      "[LightGBM] [Info] Total Bins 500\n",
      "[LightGBM] [Info] Number of data points in the train set: 10821, number of used features: 230\n",
      "[LightGBM] [Info] [binary:BoostFromScore]: pavg=0.491359 -> initscore=-0.034566\n",
      "[LightGBM] [Info] Start training from score -0.034566\n",
      "[LightGBM] [Info] Number of positive: 5316, number of negative: 5504\n",
      "[LightGBM] [Info] Auto-choosing row-wise multi-threading, the overhead of testing was 0.014155 seconds.\n",
      "You can set `force_row_wise=true` to remove the overhead.\n",
      "And if memory is not enough, you can set `force_col_wise=true`.\n",
      "[LightGBM] [Info] Total Bins 487\n",
      "[LightGBM] [Info] Number of data points in the train set: 10820, number of used features: 223\n",
      "[LightGBM] [Info] [binary:BoostFromScore]: pavg=0.491312 -> initscore=-0.034754\n",
      "[LightGBM] [Info] Start training from score -0.034754\n",
      "[LightGBM] [Info] Number of positive: 5317, number of negative: 5504\n",
      "[LightGBM] [Info] Auto-choosing row-wise multi-threading, the overhead of testing was 0.013844 seconds.\n",
      "You can set `force_row_wise=true` to remove the overhead.\n",
      "And if memory is not enough, you can set `force_col_wise=true`.\n",
      "[LightGBM] [Info] Total Bins 480\n",
      "[LightGBM] [Info] Number of data points in the train set: 10821, number of used features: 222\n",
      "[LightGBM] [Info] [binary:BoostFromScore]: pavg=0.491359 -> initscore=-0.034566\n",
      "[LightGBM] [Info] Start training from score -0.034566\n",
      "[LightGBM] [Info] Number of positive: 5317, number of negative: 5504\n",
      "[LightGBM] [Info] Auto-choosing col-wise multi-threading, the overhead of testing was 0.015596 seconds.\n",
      "You can set `force_col_wise=true` to remove the overhead.\n",
      "[LightGBM] [Info] Total Bins 504\n",
      "[LightGBM] [Info] Number of data points in the train set: 10821, number of used features: 233\n",
      "[LightGBM] [Info] [binary:BoostFromScore]: pavg=0.491359 -> initscore=-0.034566\n",
      "[LightGBM] [Info] Start training from score -0.034566\n",
      "[LightGBM] [Info] Number of positive: 5317, number of negative: 5504\n",
      "[LightGBM] [Info] Auto-choosing row-wise multi-threading, the overhead of testing was 0.014703 seconds.\n",
      "You can set `force_row_wise=true` to remove the overhead.\n",
      "And if memory is not enough, you can set `force_col_wise=true`.\n",
      "[LightGBM] [Info] Total Bins 513\n",
      "[LightGBM] [Info] Number of data points in the train set: 10821, number of used features: 236\n",
      "[LightGBM] [Info] [binary:BoostFromScore]: pavg=0.491359 -> initscore=-0.034566\n",
      "[LightGBM] [Info] Start training from score -0.034566\n",
      "[LightGBM] [Info] Number of positive: 5317, number of negative: 5504\n",
      "[LightGBM] [Info] Auto-choosing row-wise multi-threading, the overhead of testing was 0.014711 seconds.\n",
      "You can set `force_row_wise=true` to remove the overhead.\n",
      "And if memory is not enough, you can set `force_col_wise=true`.\n",
      "[LightGBM] [Info] Total Bins 500\n",
      "[LightGBM] [Info] Number of data points in the train set: 10821, number of used features: 230\n",
      "[LightGBM] [Info] [binary:BoostFromScore]: pavg=0.491359 -> initscore=-0.034566\n",
      "[LightGBM] [Info] Start training from score -0.034566\n",
      "[LightGBM] [Info] Number of positive: 5316, number of negative: 5504\n",
      "[LightGBM] [Info] Auto-choosing row-wise multi-threading, the overhead of testing was 0.014157 seconds.\n",
      "You can set `force_row_wise=true` to remove the overhead.\n",
      "And if memory is not enough, you can set `force_col_wise=true`.\n",
      "[LightGBM] [Info] Total Bins 487\n",
      "[LightGBM] [Info] Number of data points in the train set: 10820, number of used features: 223\n",
      "[LightGBM] [Info] [binary:BoostFromScore]: pavg=0.491312 -> initscore=-0.034754\n",
      "[LightGBM] [Info] Start training from score -0.034754\n",
      "[LightGBM] [Info] Number of positive: 5317, number of negative: 5504\n",
      "[LightGBM] [Info] Auto-choosing row-wise multi-threading, the overhead of testing was 0.013850 seconds.\n",
      "You can set `force_row_wise=true` to remove the overhead.\n",
      "And if memory is not enough, you can set `force_col_wise=true`.\n",
      "[LightGBM] [Info] Total Bins 480\n",
      "[LightGBM] [Info] Number of data points in the train set: 10821, number of used features: 222\n",
      "[LightGBM] [Info] [binary:BoostFromScore]: pavg=0.491359 -> initscore=-0.034566\n",
      "[LightGBM] [Info] Start training from score -0.034566\n",
      "[LightGBM] [Info] Number of positive: 5317, number of negative: 5504\n",
      "[LightGBM] [Info] Auto-choosing row-wise multi-threading, the overhead of testing was 0.014539 seconds.\n",
      "You can set `force_row_wise=true` to remove the overhead.\n",
      "And if memory is not enough, you can set `force_col_wise=true`.\n",
      "[LightGBM] [Info] Total Bins 504\n",
      "[LightGBM] [Info] Number of data points in the train set: 10821, number of used features: 233\n",
      "[LightGBM] [Info] [binary:BoostFromScore]: pavg=0.491359 -> initscore=-0.034566\n",
      "[LightGBM] [Info] Start training from score -0.034566\n",
      "[LightGBM] [Info] Number of positive: 5317, number of negative: 5504\n",
      "[LightGBM] [Info] Auto-choosing row-wise multi-threading, the overhead of testing was 0.014955 seconds.\n",
      "You can set `force_row_wise=true` to remove the overhead.\n",
      "And if memory is not enough, you can set `force_col_wise=true`.\n",
      "[LightGBM] [Info] Total Bins 513\n",
      "[LightGBM] [Info] Number of data points in the train set: 10821, number of used features: 236\n",
      "[LightGBM] [Info] [binary:BoostFromScore]: pavg=0.491359 -> initscore=-0.034566\n",
      "[LightGBM] [Info] Start training from score -0.034566\n",
      "[LightGBM] [Info] Number of positive: 5317, number of negative: 5504\n",
      "[LightGBM] [Info] Auto-choosing row-wise multi-threading, the overhead of testing was 0.014504 seconds.\n",
      "You can set `force_row_wise=true` to remove the overhead.\n",
      "And if memory is not enough, you can set `force_col_wise=true`.\n",
      "[LightGBM] [Info] Total Bins 500\n",
      "[LightGBM] [Info] Number of data points in the train set: 10821, number of used features: 230\n",
      "[LightGBM] [Info] [binary:BoostFromScore]: pavg=0.491359 -> initscore=-0.034566\n",
      "[LightGBM] [Info] Start training from score -0.034566\n",
      "[LightGBM] [Info] Number of positive: 6646, number of negative: 6880\n",
      "[LightGBM] [Info] Auto-choosing row-wise multi-threading, the overhead of testing was 0.025240 seconds.\n",
      "You can set `force_row_wise=true` to remove the overhead.\n",
      "And if memory is not enough, you can set `force_col_wise=true`.\n",
      "[LightGBM] [Info] Total Bins 669\n",
      "[LightGBM] [Info] Number of data points in the train set: 13526, number of used features: 307\n",
      "[LightGBM] [Info] [binary:BoostFromScore]: pavg=0.491350 -> initscore=-0.034603\n",
      "[LightGBM] [Info] Start training from score -0.034603\n"
     ]
    },
    {
     "data": {
      "text/plain": [
       "{'boosting_type': 'gbdt',\n",
       " 'learning_rate': 0.1,\n",
       " 'metric': 'binary_logloss',\n",
       " 'n_estimators': 200,\n",
       " 'num_leaves': 31,\n",
       " 'objective': 'binary'}"
      ]
     },
     "execution_count": 49,
     "metadata": {},
     "output_type": "execute_result"
    }
   ],
   "source": [
    "from lightgbm import LGBMClassifier\n",
    "\n",
    "param_grid_ = {\n",
    "    'num_leaves': [15, 31, 63],  \n",
    "    'learning_rate': [0.01, 0.1, 0.2],\n",
    "    'n_estimators': [50, 100, 200],  \n",
    "    'boosting_type': ['gbdt'], \n",
    "    'objective': ['binary'],  \n",
    "    'metric': ['binary_logloss'],\n",
    "}\n",
    "\n",
    "lightgbm_grid = GridSearchCV(\n",
    "    estimator= LGBMClassifier(),\n",
    "    param_grid=param_grid_,\n",
    "    cv=5, \n",
    "    scoring='accuracy',\n",
    "    verbose=0,\n",
    "    n_jobs=-1  \n",
    ")\n",
    "lightgbm_grid.fit(X_train_tfidf, y_train)\n",
    "\n",
    "lightgbm_grid.best_params_"
   ]
  },
  {
   "cell_type": "code",
   "execution_count": 50,
   "id": "da1aa40e",
   "metadata": {
    "execution": {
     "iopub.execute_input": "2024-12-20T20:40:40.356842Z",
     "iopub.status.busy": "2024-12-20T20:40:40.355839Z",
     "iopub.status.idle": "2024-12-20T20:40:40.999736Z",
     "shell.execute_reply": "2024-12-20T20:40:40.998626Z"
    },
    "papermill": {
     "duration": 0.672463,
     "end_time": "2024-12-20T20:40:41.002202",
     "exception": false,
     "start_time": "2024-12-20T20:40:40.329739",
     "status": "completed"
    },
    "tags": []
   },
   "outputs": [
    {
     "name": "stdout",
     "output_type": "stream",
     "text": [
      "-------------------> lightgbm\n",
      "Accuracy: 0.66\n",
      "F1-Score for each class:\n",
      "Positive: 0.62\n",
      "Negative: 0.68\n",
      "\n",
      "Classification Report:\n",
      "              precision    recall  f1-score   support\n",
      "\n",
      "    Positive       0.70      0.56      0.62      1720\n",
      "    Negative       0.62      0.76      0.68      1662\n",
      "\n",
      "    accuracy                           0.66      3382\n",
      "   macro avg       0.66      0.66      0.65      3382\n",
      "weighted avg       0.66      0.66      0.65      3382\n",
      "\n"
     ]
    },
    {
     "data": {
      "image/png": "[encoded data removed]",
      "text/plain": [
       "<Figure size 800x600 with 2 Axes>"
      ]
     },
     "metadata": {},
     "output_type": "display_data"
    }
   ],
   "source": [
    "y_hat = lightgbm_grid.best_estimator_.predict(X_test_tfidf)\n",
    "about_model(\"lightgbm\", y_test , y_hat)"
   ]
  },
  {
   "cell_type": "code",
   "execution_count": null,
   "id": "8c6a9b7d",
   "metadata": {
    "papermill": {
     "duration": 0.026415,
     "end_time": "2024-12-20T20:40:41.054488",
     "exception": false,
     "start_time": "2024-12-20T20:40:41.028073",
     "status": "completed"
    },
    "tags": []
   },
   "outputs": [],
   "source": []
  },
  {
   "cell_type": "code",
   "execution_count": null,
   "id": "2a82cd52",
   "metadata": {
    "papermill": {
     "duration": 0.111473,
     "end_time": "2024-12-20T20:40:41.191887",
     "exception": false,
     "start_time": "2024-12-20T20:40:41.080414",
     "status": "completed"
    },
    "tags": []
   },
   "outputs": [],
   "source": []
  },
  {
   "cell_type": "code",
   "execution_count": null,
   "id": "bdb307e1",
   "metadata": {
    "papermill": {
     "duration": 0.026241,
     "end_time": "2024-12-20T20:40:41.243702",
     "exception": false,
     "start_time": "2024-12-20T20:40:41.217461",
     "status": "completed"
    },
    "tags": []
   },
   "outputs": [],
   "source": []
  },
  {
   "cell_type": "code",
   "execution_count": null,
   "id": "e4711e83",
   "metadata": {
    "papermill": {
     "duration": 0.025274,
     "end_time": "2024-12-20T20:40:41.294500",
     "exception": false,
     "start_time": "2024-12-20T20:40:41.269226",
     "status": "completed"
    },
    "tags": []
   },
   "outputs": [],
   "source": []
  }
 ],
 "metadata": {
  "kaggle": {
   "accelerator": "none",
   "dataSources": [
    {
     "datasetId": 6047175,
     "sourceId": 10210479,
     "sourceType": "datasetVersion"
    },
    {
     "datasetId": 6094692,
     "sourceId": 10210609,
     "sourceType": "datasetVersion"
    }
   ],
   "dockerImageVersionId": 30804,
   "isGpuEnabled": false,
   "isInternetEnabled": true,
   "language": "python",
   "sourceType": "notebook"
  },
  "kernelspec": {
   "display_name": "Python 3",
   "language": "python",
   "name": "python3"
  },
  "language_info": {
   "codemirror_mode": {
    "name": "ipython",
    "version": 3
   },
   "file_extension": ".py",
   "mimetype": "text/x-python",
   "name": "python",
   "nbconvert_exporter": "python",
   "pygments_lexer": "ipython3",
   "version": "3.10.14"
  },
  "papermill": {
   "default_parameters": {},
   "duration": 18986.445215,
   "end_time": "2024-12-20T20:40:43.945863",
   "environment_variables": {},
   "exception": null,
   "input_path": "__notebook__.ipynb",
   "output_path": "__notebook__.ipynb",
   "parameters": {},
   "start_time": "2024-12-20T15:24:17.500648",
   "version": "2.6.0"
  }
 },
 "nbformat": 4,
 "nbformat_minor": 5
}
