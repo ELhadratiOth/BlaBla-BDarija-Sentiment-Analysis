{
 "cells": [
  {
   "cell_type": "markdown",
   "id": "0489f8ce",
   "metadata": {
    "papermill": {
     "duration": 0.014043,
     "end_time": "2024-12-15T13:54:39.386191",
     "exception": false,
     "start_time": "2024-12-15T13:54:39.372148",
     "status": "completed"
    },
    "tags": []
   },
   "source": [
    "# Darija Text Classification using ML Algorithms\n"
   ]
  },
  {
   "cell_type": "markdown",
   "id": "4455c3ee",
   "metadata": {
    "papermill": {
     "duration": 0.010933,
     "end_time": "2024-12-15T13:54:39.408633",
     "exception": false,
     "start_time": "2024-12-15T13:54:39.397700",
     "status": "completed"
    },
    "tags": []
   },
   "source": [
    "## Setup and Data Loading\n",
    "In this section, we:\n",
    "- Import required libraries\n",
    "- Load and prepare our Darija dataset\n",
    "- Set up configuration parameters"
   ]
  },
  {
   "cell_type": "code",
   "execution_count": 1,
   "id": "4de534b5",
   "metadata": {
    "execution": {
     "iopub.execute_input": "2024-12-15T13:54:39.433268Z",
     "iopub.status.busy": "2024-12-15T13:54:39.432875Z",
     "iopub.status.idle": "2024-12-15T13:54:39.451711Z",
     "shell.execute_reply": "2024-12-15T13:54:39.450699Z"
    },
    "papermill": {
     "duration": 0.033432,
     "end_time": "2024-12-15T13:54:39.453801",
     "exception": false,
     "start_time": "2024-12-15T13:54:39.420369",
     "status": "completed"
    },
    "tags": []
   },
   "outputs": [
    {
     "name": "stdout",
     "output_type": "stream",
     "text": [
      "Current working directory: /kaggle/input/ma-datasets\n",
      "Directory contents: ['suf_pref_darija.json', 'stop_words_accum.json', 'set2.csv', 'set7.csv', 'set5.csv', 'darija_latin_ref.json', 'set4.csv', 'scaped_comments.csv', 'set3.csv', 'cleaned_clustered_data.csv', 'set1.csv']\n"
     ]
    }
   ],
   "source": [
    "import os \n",
    "os.chdir('/kaggle/input/ma-datasets') \n",
    "current_directory = os.getcwd()\n",
    "print(\"Current working directory:\", current_directory)\n",
    "contents = os.listdir()\n",
    "print(\"Directory contents:\", contents)"
   ]
  },
  {
   "cell_type": "code",
   "execution_count": 2,
   "id": "81498952",
   "metadata": {
    "execution": {
     "iopub.execute_input": "2024-12-15T13:54:39.478303Z",
     "iopub.status.busy": "2024-12-15T13:54:39.477919Z",
     "iopub.status.idle": "2024-12-15T13:54:53.721645Z",
     "shell.execute_reply": "2024-12-15T13:54:53.720564Z"
    },
    "papermill": {
     "duration": 14.258617,
     "end_time": "2024-12-15T13:54:53.723953",
     "exception": false,
     "start_time": "2024-12-15T13:54:39.465336",
     "status": "completed"
    },
    "tags": []
   },
   "outputs": [
    {
     "name": "stdout",
     "output_type": "stream",
     "text": [
      "Requirement already satisfied: pandas in /opt/conda/lib/python3.10/site-packages (2.2.3)\r\n",
      "Requirement already satisfied: PyArabic in /opt/conda/lib/python3.10/site-packages (0.6.15)\r\n",
      "Collecting Tashaphyne\r\n",
      "  Downloading Tashaphyne-0.3.6-py3-none-any.whl.metadata (18 kB)\r\n",
      "Collecting pydoda\r\n",
      "  Downloading pydoda-1.2.1-py3-none-any.whl.metadata (5.8 kB)\r\n",
      "Collecting Arabic-Stopwords\r\n",
      "  Downloading Arabic_Stopwords-0.4.3-py3-none-any.whl.metadata (8.9 kB)\r\n",
      "Requirement already satisfied: seaborn in /opt/conda/lib/python3.10/site-packages (0.12.2)\r\n",
      "Requirement already satisfied: scikit-learn in /opt/conda/lib/python3.10/site-packages (1.2.2)\r\n",
      "Requirement already satisfied: emoji in /opt/conda/lib/python3.10/site-packages (2.14.0)\r\n",
      "Requirement already satisfied: xgboost in /opt/conda/lib/python3.10/site-packages (2.0.3)\r\n",
      "Requirement already satisfied: lightgbm in /opt/conda/lib/python3.10/site-packages (4.2.0)\r\n",
      "Requirement already satisfied: numpy>=1.22.4 in /opt/conda/lib/python3.10/site-packages (from pandas) (1.26.4)\r\n",
      "Requirement already satisfied: python-dateutil>=2.8.2 in /opt/conda/lib/python3.10/site-packages (from pandas) (2.9.0.post0)\r\n",
      "Requirement already satisfied: pytz>=2020.1 in /opt/conda/lib/python3.10/site-packages (from pandas) (2024.1)\r\n",
      "Requirement already satisfied: tzdata>=2022.7 in /opt/conda/lib/python3.10/site-packages (from pandas) (2024.1)\r\n",
      "Requirement already satisfied: six>=1.14.0 in /opt/conda/lib/python3.10/site-packages (from PyArabic) (1.16.0)\r\n",
      "Requirement already satisfied: matplotlib!=3.6.1,>=3.1 in /opt/conda/lib/python3.10/site-packages (from seaborn) (3.7.5)\r\n",
      "Requirement already satisfied: scipy>=1.3.2 in /opt/conda/lib/python3.10/site-packages (from scikit-learn) (1.14.1)\r\n",
      "Requirement already satisfied: joblib>=1.1.1 in /opt/conda/lib/python3.10/site-packages (from scikit-learn) (1.4.2)\r\n",
      "Requirement already satisfied: threadpoolctl>=2.0.0 in /opt/conda/lib/python3.10/site-packages (from scikit-learn) (3.5.0)\r\n",
      "Requirement already satisfied: contourpy>=1.0.1 in /opt/conda/lib/python3.10/site-packages (from matplotlib!=3.6.1,>=3.1->seaborn) (1.2.1)\r\n",
      "Requirement already satisfied: cycler>=0.10 in /opt/conda/lib/python3.10/site-packages (from matplotlib!=3.6.1,>=3.1->seaborn) (0.12.1)\r\n",
      "Requirement already satisfied: fonttools>=4.22.0 in /opt/conda/lib/python3.10/site-packages (from matplotlib!=3.6.1,>=3.1->seaborn) (4.53.0)\r\n",
      "Requirement already satisfied: kiwisolver>=1.0.1 in /opt/conda/lib/python3.10/site-packages (from matplotlib!=3.6.1,>=3.1->seaborn) (1.4.5)\r\n",
      "Requirement already satisfied: packaging>=20.0 in /opt/conda/lib/python3.10/site-packages (from matplotlib!=3.6.1,>=3.1->seaborn) (21.3)\r\n",
      "Requirement already satisfied: pillow>=6.2.0 in /opt/conda/lib/python3.10/site-packages (from matplotlib!=3.6.1,>=3.1->seaborn) (10.3.0)\r\n",
      "Requirement already satisfied: pyparsing>=2.3.1 in /opt/conda/lib/python3.10/site-packages (from matplotlib!=3.6.1,>=3.1->seaborn) (3.1.2)\r\n",
      "Downloading Tashaphyne-0.3.6-py3-none-any.whl (251 kB)\r\n",
      "\u001b[2K   \u001b[90m━━━━━━━━━━━━━━━━━━━━━━━━━━━━━━━━━━━━━━━━\u001b[0m \u001b[32m251.5/251.5 kB\u001b[0m \u001b[31m6.2 MB/s\u001b[0m eta \u001b[36m0:00:00\u001b[0m\r\n",
      "\u001b[?25hDownloading pydoda-1.2.1-py3-none-any.whl (4.1 MB)\r\n",
      "\u001b[2K   \u001b[90m━━━━━━━━━━━━━━━━━━━━━━━━━━━━━━━━━━━━━━━━\u001b[0m \u001b[32m4.1/4.1 MB\u001b[0m \u001b[31m55.4 MB/s\u001b[0m eta \u001b[36m0:00:00\u001b[0m\r\n",
      "\u001b[?25hDownloading Arabic_Stopwords-0.4.3-py3-none-any.whl (360 kB)\r\n",
      "\u001b[2K   \u001b[90m━━━━━━━━━━━━━━━━━━━━━━━━━━━━━━━━━━━━━━━━\u001b[0m \u001b[32m360.5/360.5 kB\u001b[0m \u001b[31m17.1 MB/s\u001b[0m eta \u001b[36m0:00:00\u001b[0m\r\n",
      "\u001b[?25hInstalling collected packages: Tashaphyne, Arabic-Stopwords, pydoda\r\n",
      "Successfully installed Arabic-Stopwords-0.4.3 Tashaphyne-0.3.6 pydoda-1.2.1\r\n"
     ]
    }
   ],
   "source": [
    "!pip install pandas PyArabic Tashaphyne pydoda Arabic-Stopwords seaborn scikit-learn emoji xgboost lightgbm "
   ]
  },
  {
   "cell_type": "code",
   "execution_count": 3,
   "id": "7fb91957",
   "metadata": {
    "execution": {
     "iopub.execute_input": "2024-12-15T13:54:53.750449Z",
     "iopub.status.busy": "2024-12-15T13:54:53.750058Z",
     "iopub.status.idle": "2024-12-15T13:54:56.052386Z",
     "shell.execute_reply": "2024-12-15T13:54:56.051541Z"
    },
    "papermill": {
     "duration": 2.318311,
     "end_time": "2024-12-15T13:54:56.054715",
     "exception": false,
     "start_time": "2024-12-15T13:54:53.736404",
     "status": "completed"
    },
    "tags": []
   },
   "outputs": [],
   "source": [
    "import pandas as pd\n",
    "from sklearn.model_selection import GridSearchCV\n",
    "import re\n",
    "from tashaphyne.stemming import ArabicLightStemmer\n",
    "import json\n",
    "import emoji \n"
   ]
  },
  {
   "cell_type": "code",
   "execution_count": 4,
   "id": "9374bf53",
   "metadata": {
    "execution": {
     "iopub.execute_input": "2024-12-15T13:54:56.081726Z",
     "iopub.status.busy": "2024-12-15T13:54:56.080847Z",
     "iopub.status.idle": "2024-12-15T13:54:56.365209Z",
     "shell.execute_reply": "2024-12-15T13:54:56.364083Z"
    },
    "papermill": {
     "duration": 0.300422,
     "end_time": "2024-12-15T13:54:56.367840",
     "exception": false,
     "start_time": "2024-12-15T13:54:56.067418",
     "status": "completed"
    },
    "tags": []
   },
   "outputs": [],
   "source": [
    "df = pd.read_csv(\"/kaggle/input/dataset/dataset (16).csv\")"
   ]
  },
  {
   "cell_type": "markdown",
   "id": "cf08dbaa",
   "metadata": {
    "papermill": {
     "duration": 0.012678,
     "end_time": "2024-12-15T13:54:56.393873",
     "exception": false,
     "start_time": "2024-12-15T13:54:56.381195",
     "status": "completed"
    },
    "tags": []
   },
   "source": [
    "## Data Preprocessing\n",
    "Key preprocessing steps for Darija text:\n",
    "- Text cleaning and normalization\n",
    "- Feature extraction\n",
    "- Train-test split\n"
   ]
  },
  {
   "cell_type": "code",
   "execution_count": 5,
   "id": "84234849",
   "metadata": {
    "execution": {
     "iopub.execute_input": "2024-12-15T13:54:56.420904Z",
     "iopub.status.busy": "2024-12-15T13:54:56.420408Z",
     "iopub.status.idle": "2024-12-15T13:54:56.430542Z",
     "shell.execute_reply": "2024-12-15T13:54:56.429440Z"
    },
    "papermill": {
     "duration": 0.026031,
     "end_time": "2024-12-15T13:54:56.432466",
     "exception": false,
     "start_time": "2024-12-15T13:54:56.406435",
     "status": "completed"
    },
    "tags": []
   },
   "outputs": [],
   "source": [
    "darija_alphabet = {\n",
    "    \"gh\": \"غ\",\n",
    "    \"sh\": \"ش\",\n",
    "    \"ch\": \"ش\",\n",
    "    \"ss\": \"س\",\n",
    "    \"kh\": \"خ\",\n",
    "    \"ç\": \"س\",\n",
    "    \"ou\": \"و\",    \n",
    "    \"ei\": \"ي\",    \n",
    "    \"ay\": \"ي\",    \n",
    "    \"ae\": \"ي\",   \n",
    "    \"5\": \"خ\",     \n",
    "    \"2\": \"ا\",    \n",
    "    \"b\": \"ب\",\n",
    "    \"t\": \"ت\",\n",
    "    \"j\": \"ج\",\n",
    "    \"7\": \"ح\",\n",
    "    \"d\": \"د\",\n",
    "    \"r\": \"ر\",\n",
    "    \"z\": \"ز\",\n",
    "    \"s\": \"س\",\n",
    "    \"9\": \"ق\",\n",
    "    \"3\": \"ع\",\n",
    "    \"4\": \"غ\",\n",
    "    \"f\": \"ف\",\n",
    "    \"q\": \"ك\",\n",
    "    \"k\": \"ك\",\n",
    "    \"l\": \"ل\",\n",
    "    \"m\": \"م\",\n",
    "    \"n\": \"ن\",\n",
    "    \"h\": \"ه\",\n",
    "    \"w\": \"و\",\n",
    "    \"y\": \"ي\",\n",
    "    \"g\": \"ڭ\",\n",
    "    'i': 'ي',\n",
    "    'ee': 'ي',\n",
    "    'aa': 'ا',\n",
    "    'oo': 'و',\n",
    "    'o': 'و',\n",
    "    \"x\": \"ش\",\n",
    "}\n",
    "word_in = [\n",
    "    \"ء\", \"أ\", \"إ\", \"آ\", \"ؤ\", \"ئ\", \"ة\", \"ى\",\"-\", \"/\", \".\", \"،\", '\"', \"'\", \"\\\\\", \"?\", \"؟\", \"!\", \"،\", \"؛\",\":\",\"#\", \"@\", \"&\", \"=\", \"¥\", \"$\", \"%\", \"*\", \"+\", \"<\", \">\", \"|\", \"~\", \"^\", \n",
    "    \"\\n\", \"\\t\", \"\\r\", \" و\",\"ذ\", \"ظ\", \"ض\", \"ص\",\"(\", \")\", \"[\", \"]\", \"{\", \"}\", \"《\", \"》\", \"«\", \"»\"\n",
    "]\n",
    "\n",
    "replaced_by = [\n",
    "    \"ا\", \"ا\", \"ا\", \"ا\", \"ا\", \"ا\", \"ه\", \"ي\",\" \", \"\", \"\", \"\", \"\", \"\", \"\", \" ? \", \" ؟ \", \" ! \", \"\", \"\", \"\",\n",
    "    \"\", \"\", \"\", \"\", \"\", \"\", \"\", \"\", \"\", \"\", \"\", \"\", \"\", \"\",\" \", \" \", \" \", \"\",\n",
    "    \"د\", \"د\", \"د\", \"س\",\"\", \"\", \"\", \"\", \"\", \"\", \"\", \"\", \"\", \"\"\n",
    "]\n",
    "\n",
    "arabic_alphabet = \"ابتثجحخدذرزسشصضطظعغفقكلمنهوي\""
   ]
  },
  {
   "cell_type": "code",
   "execution_count": 6,
   "id": "58b2d7f8",
   "metadata": {
    "execution": {
     "iopub.execute_input": "2024-12-15T13:54:56.458611Z",
     "iopub.status.busy": "2024-12-15T13:54:56.458217Z",
     "iopub.status.idle": "2024-12-15T13:54:56.463082Z",
     "shell.execute_reply": "2024-12-15T13:54:56.462072Z"
    },
    "papermill": {
     "duration": 0.020108,
     "end_time": "2024-12-15T13:54:56.464971",
     "exception": false,
     "start_time": "2024-12-15T13:54:56.444863",
     "status": "completed"
    },
    "tags": []
   },
   "outputs": [],
   "source": [
    "from pyarabic.araby import strip_diacritics\n",
    "#remove tashkeel\n",
    "def removing_tashkeel(word): # useed\n",
    "          return strip_diacritics(word)"
   ]
  },
  {
   "cell_type": "code",
   "execution_count": 7,
   "id": "e700a06a",
   "metadata": {
    "execution": {
     "iopub.execute_input": "2024-12-15T13:54:56.491119Z",
     "iopub.status.busy": "2024-12-15T13:54:56.490718Z",
     "iopub.status.idle": "2024-12-15T13:54:56.495644Z",
     "shell.execute_reply": "2024-12-15T13:54:56.494650Z"
    },
    "papermill": {
     "duration": 0.020247,
     "end_time": "2024-12-15T13:54:56.497571",
     "exception": false,
     "start_time": "2024-12-15T13:54:56.477324",
     "status": "completed"
    },
    "tags": []
   },
   "outputs": [],
   "source": [
    "from pyarabic.araby import strip_tatweel\n",
    "\n",
    "#remove tatweel l2imdad\n",
    "def removing_tatweel(word): # useed\n",
    "          return strip_tatweel(word)"
   ]
  },
  {
   "cell_type": "code",
   "execution_count": 8,
   "id": "f319bb84",
   "metadata": {
    "execution": {
     "iopub.execute_input": "2024-12-15T13:54:56.524365Z",
     "iopub.status.busy": "2024-12-15T13:54:56.523704Z",
     "iopub.status.idle": "2024-12-15T13:54:56.528690Z",
     "shell.execute_reply": "2024-12-15T13:54:56.527642Z"
    },
    "papermill": {
     "duration": 0.02078,
     "end_time": "2024-12-15T13:54:56.530859",
     "exception": false,
     "start_time": "2024-12-15T13:54:56.510079",
     "status": "completed"
    },
    "tags": []
   },
   "outputs": [],
   "source": [
    "from pyarabic.araby import normalize_ligature\n",
    "\n",
    "#remove ligature hamza , alef \n",
    "def removing_ligature(word): # not used \n",
    "          return normalize_ligature(word)"
   ]
  },
  {
   "cell_type": "code",
   "execution_count": 9,
   "id": "e9ac7bb9",
   "metadata": {
    "execution": {
     "iopub.execute_input": "2024-12-15T13:54:56.557548Z",
     "iopub.status.busy": "2024-12-15T13:54:56.556427Z",
     "iopub.status.idle": "2024-12-15T13:54:56.561355Z",
     "shell.execute_reply": "2024-12-15T13:54:56.560378Z"
    },
    "papermill": {
     "duration": 0.020145,
     "end_time": "2024-12-15T13:54:56.563309",
     "exception": false,
     "start_time": "2024-12-15T13:54:56.543164",
     "status": "completed"
    },
    "tags": []
   },
   "outputs": [],
   "source": [
    "# remove underscore\n",
    "def replace_underscore(word): # useed\n",
    "          return word.replace(\"_\", \" \")"
   ]
  },
  {
   "cell_type": "code",
   "execution_count": 10,
   "id": "cca1af42",
   "metadata": {
    "execution": {
     "iopub.execute_input": "2024-12-15T13:54:56.589931Z",
     "iopub.status.busy": "2024-12-15T13:54:56.589536Z",
     "iopub.status.idle": "2024-12-15T13:54:56.594412Z",
     "shell.execute_reply": "2024-12-15T13:54:56.593420Z"
    },
    "papermill": {
     "duration": 0.020608,
     "end_time": "2024-12-15T13:54:56.596263",
     "exception": false,
     "start_time": "2024-12-15T13:54:56.575655",
     "status": "completed"
    },
    "tags": []
   },
   "outputs": [],
   "source": [
    "import pyarabic.araby as araby\n",
    "\n",
    "# remove hamza ambiguity\n",
    "def remove_ambiguity_hamza(word): # useed\n",
    "          return araby.normalize_hamza(word)"
   ]
  },
  {
   "cell_type": "code",
   "execution_count": 11,
   "id": "125e8656",
   "metadata": {
    "execution": {
     "iopub.execute_input": "2024-12-15T13:54:56.622283Z",
     "iopub.status.busy": "2024-12-15T13:54:56.621886Z",
     "iopub.status.idle": "2024-12-15T13:54:56.626459Z",
     "shell.execute_reply": "2024-12-15T13:54:56.625557Z"
    },
    "papermill": {
     "duration": 0.019785,
     "end_time": "2024-12-15T13:54:56.628363",
     "exception": false,
     "start_time": "2024-12-15T13:54:56.608578",
     "status": "completed"
    },
    "tags": []
   },
   "outputs": [],
   "source": [
    "# romove \"AL\"\n",
    "def remove_AL(word): # useed\n",
    "          return re.sub(r'^ال', '', word)"
   ]
  },
  {
   "cell_type": "code",
   "execution_count": 12,
   "id": "af100496",
   "metadata": {
    "execution": {
     "iopub.execute_input": "2024-12-15T13:54:56.654463Z",
     "iopub.status.busy": "2024-12-15T13:54:56.653616Z",
     "iopub.status.idle": "2024-12-15T13:54:56.660693Z",
     "shell.execute_reply": "2024-12-15T13:54:56.659697Z"
    },
    "papermill": {
     "duration": 0.022206,
     "end_time": "2024-12-15T13:54:56.662649",
     "exception": false,
     "start_time": "2024-12-15T13:54:56.640443",
     "status": "completed"
    },
    "tags": []
   },
   "outputs": [],
   "source": [
    "# remove repeated characters      \n",
    "def word_remover(word): # useed\n",
    "            if len(word) == 1 or len(word) == 0 or len(word) >= 13:\n",
    "                return \"\"                \n",
    "            else :\n",
    "                # print(word)\n",
    "                for a7rf in arabic_alphabet:\n",
    "                    if a7rf == 'د' or a7rf == 'ه':\n",
    "                        word = re.sub(fr'{a7rf}{{3,}}', a7rf * 2, word).strip()\n",
    "                    else:\n",
    "                        word = re.sub(fr'{a7rf}+', a7rf, word).strip()\n",
    "                # print(word) \n",
    "                for i in range(len(word)):\n",
    "                    if word[i] in word_in:\n",
    "                        index = word_in.index(word[i])\n",
    "                        word = word[:i] + replaced_by[index] + word[i + 1:]\n",
    "\n",
    "                return word\n"
   ]
  },
  {
   "cell_type": "code",
   "execution_count": 13,
   "id": "39b30300",
   "metadata": {
    "execution": {
     "iopub.execute_input": "2024-12-15T13:54:56.688452Z",
     "iopub.status.busy": "2024-12-15T13:54:56.687793Z",
     "iopub.status.idle": "2024-12-15T13:54:56.692747Z",
     "shell.execute_reply": "2024-12-15T13:54:56.691805Z"
    },
    "papermill": {
     "duration": 0.019895,
     "end_time": "2024-12-15T13:54:56.694618",
     "exception": false,
     "start_time": "2024-12-15T13:54:56.674723",
     "status": "completed"
    },
    "tags": []
   },
   "outputs": [],
   "source": [
    "# remove emails  \n",
    "def remove_url(text): # useed\n",
    "    text = re.sub(r'(https|http)?:\\/\\/(\\w|\\.|\\/|\\?|\\=|\\&|\\%)*\\b',\n",
    "                  '', text, flags=re.MULTILINE)\n",
    "    return text      \n",
    " "
   ]
  },
  {
   "cell_type": "code",
   "execution_count": 14,
   "id": "7fdc7a3f",
   "metadata": {
    "execution": {
     "iopub.execute_input": "2024-12-15T13:54:56.720476Z",
     "iopub.status.busy": "2024-12-15T13:54:56.720091Z",
     "iopub.status.idle": "2024-12-15T13:54:56.724922Z",
     "shell.execute_reply": "2024-12-15T13:54:56.723990Z"
    },
    "papermill": {
     "duration": 0.019843,
     "end_time": "2024-12-15T13:54:56.726773",
     "exception": false,
     "start_time": "2024-12-15T13:54:56.706930",
     "status": "completed"
    },
    "tags": []
   },
   "outputs": [],
   "source": [
    " # remove emails     \n",
    "def remove_emails(text): # useed\n",
    "    text = re.sub(r'[a-zA-Z0-9._%+-]+@[a-zA-Z0-9.-]+\\.[a-zA-Z]{2,}', '', text, flags=re.MULTILINE)\n",
    "    return text  "
   ]
  },
  {
   "cell_type": "code",
   "execution_count": 15,
   "id": "54bc915b",
   "metadata": {
    "execution": {
     "iopub.execute_input": "2024-12-15T13:54:56.752491Z",
     "iopub.status.busy": "2024-12-15T13:54:56.752130Z",
     "iopub.status.idle": "2024-12-15T13:54:56.757496Z",
     "shell.execute_reply": "2024-12-15T13:54:56.756504Z"
    },
    "papermill": {
     "duration": 0.020769,
     "end_time": "2024-12-15T13:54:56.759587",
     "exception": false,
     "start_time": "2024-12-15T13:54:56.738818",
     "status": "completed"
    },
    "tags": []
   },
   "outputs": [],
   "source": [
    "def special_tags_and_ponctuations(text):  # Function to clean special tags\n",
    "    text = re.sub(r'&amp;', '', text) \n",
    "    text = re.sub(r'&quot;', '', text)  \n",
    "    text = re.sub(r'!+', '!', text)\n",
    "    text = re.sub(r'\\?+', '?', text)\n",
    "    text = re.sub(r'\\.+', '.', text)\n",
    "\n",
    "    return text"
   ]
  },
  {
   "cell_type": "code",
   "execution_count": 16,
   "id": "5413d5b7",
   "metadata": {
    "execution": {
     "iopub.execute_input": "2024-12-15T13:54:56.785296Z",
     "iopub.status.busy": "2024-12-15T13:54:56.784912Z",
     "iopub.status.idle": "2024-12-15T13:54:56.789458Z",
     "shell.execute_reply": "2024-12-15T13:54:56.788563Z"
    },
    "papermill": {
     "duration": 0.019613,
     "end_time": "2024-12-15T13:54:56.791378",
     "exception": false,
     "start_time": "2024-12-15T13:54:56.771765",
     "status": "completed"
    },
    "tags": []
   },
   "outputs": [],
   "source": [
    "def remove_html_tags(text):\n",
    "    text = re.sub(r'<[^>]+>', '', text)\n",
    "    return text"
   ]
  },
  {
   "cell_type": "code",
   "execution_count": 17,
   "id": "e20e6dc4",
   "metadata": {
    "execution": {
     "iopub.execute_input": "2024-12-15T13:54:56.816930Z",
     "iopub.status.busy": "2024-12-15T13:54:56.816589Z",
     "iopub.status.idle": "2024-12-15T13:54:56.821644Z",
     "shell.execute_reply": "2024-12-15T13:54:56.820653Z"
    },
    "papermill": {
     "duration": 0.020145,
     "end_time": "2024-12-15T13:54:56.823665",
     "exception": false,
     "start_time": "2024-12-15T13:54:56.803520",
     "status": "completed"
    },
    "tags": []
   },
   "outputs": [],
   "source": [
    "# hundle emojis\n",
    "def extend_spletting(items):  # helper function to split items\n",
    "    spletting = []\n",
    "    for item in items:\n",
    "        spletting.extend(item.split())\n",
    "    return spletting"
   ]
  },
  {
   "cell_type": "code",
   "execution_count": 18,
   "id": "b9d1be1f",
   "metadata": {
    "execution": {
     "iopub.execute_input": "2024-12-15T13:54:56.849031Z",
     "iopub.status.busy": "2024-12-15T13:54:56.848666Z",
     "iopub.status.idle": "2024-12-15T13:54:56.853629Z",
     "shell.execute_reply": "2024-12-15T13:54:56.852678Z"
    },
    "papermill": {
     "duration": 0.020148,
     "end_time": "2024-12-15T13:54:56.855776",
     "exception": false,
     "start_time": "2024-12-15T13:54:56.835628",
     "status": "completed"
    },
    "tags": []
   },
   "outputs": [],
   "source": [
    "def emoji_hundler(word):  # helper function to handle emojis\n",
    "    word = emoji.demojize(word, language='ar')\n",
    "    word = replace_underscore(word)[1:-1]\n",
    "    return word"
   ]
  },
  {
   "cell_type": "code",
   "execution_count": 19,
   "id": "b3278fd7",
   "metadata": {
    "execution": {
     "iopub.execute_input": "2024-12-15T13:54:56.882504Z",
     "iopub.status.busy": "2024-12-15T13:54:56.882141Z",
     "iopub.status.idle": "2024-12-15T13:54:56.889364Z",
     "shell.execute_reply": "2024-12-15T13:54:56.888335Z"
    },
    "papermill": {
     "duration": 0.022994,
     "end_time": "2024-12-15T13:54:56.891370",
     "exception": false,
     "start_time": "2024-12-15T13:54:56.868376",
     "status": "completed"
    },
    "tags": []
   },
   "outputs": [],
   "source": [
    "def is_an_emoji(word):\n",
    "    emoji_pattern = re.compile(\"[\"  \n",
    "                               u\"\\U0001F680-\\U0001F6FF\"  # transport and map unicods\n",
    "                               u\"\\U0001F1E0-\\U0001F1FF\"  # flags unicods\n",
    "                               \"]+\", flags=re.UNICODE)\n",
    "\n",
    "    if emoji.is_emoji(word):\n",
    "        word = emoji_pattern.sub(r'', word)\n",
    "        return extend_spletting([emoji_hundler(word)])\n",
    "\n",
    "    elif emoji.purely_emoji(word):\n",
    "        data_of_emojis = emoji.distinct_emoji_list(word)\n",
    "        data = [emoji_hundler(emoji_pattern.sub(r'', item)) for item in data_of_emojis]\n",
    "        return extend_spletting(data)\n",
    "\n",
    "    else:\n",
    "        text_only = re.sub(r'[^\\w\\s?!]', '', word)\n",
    "        data_of_emojis = emoji.distinct_emoji_list(word)\n",
    "        emojis = [emoji_hundler(emoji_pattern.sub(r'', item)) for item in data_of_emojis]\n",
    "        \n",
    "        return [text_only] + extend_spletting(emojis)\n"
   ]
  },
  {
   "cell_type": "code",
   "execution_count": 20,
   "id": "8a588ebf",
   "metadata": {
    "execution": {
     "iopub.execute_input": "2024-12-15T13:54:56.917629Z",
     "iopub.status.busy": "2024-12-15T13:54:56.916940Z",
     "iopub.status.idle": "2024-12-15T13:54:56.923228Z",
     "shell.execute_reply": "2024-12-15T13:54:56.922288Z"
    },
    "papermill": {
     "duration": 0.021616,
     "end_time": "2024-12-15T13:54:56.925189",
     "exception": false,
     "start_time": "2024-12-15T13:54:56.903573",
     "status": "completed"
    },
    "tags": []
   },
   "outputs": [],
   "source": [
    "# tramslating darija(latin) to daruja(arabic)\n",
    "def translate_darija_to_arabic(word): # useed\n",
    "    # print(\"test\")\n",
    "    word = word.lower()\n",
    "    if  bool(re.compile(r\"[a-z0-9']+\").search(word)):\n",
    "        arabic_word = \"\"\n",
    "        i = 0\n",
    "        while i < len(word):\n",
    "            # print('sadd')\n",
    "            if i + 1 < len(word) and word[i:i+2] in darija_alphabet: # Check for 2 lettrs\n",
    "                arabic_word += darija_alphabet[word[i:i+2]]\n",
    "                i += 2\n",
    "            elif word[i] in darija_alphabet:\n",
    "                arabic_word += darija_alphabet[word[i]]\n",
    "                i += 1\n",
    "            else:\n",
    "                i += 1\n",
    "        return arabic_word\n",
    "    return word\n",
    "      "
   ]
  },
  {
   "cell_type": "code",
   "execution_count": 21,
   "id": "9effc8a6",
   "metadata": {
    "execution": {
     "iopub.execute_input": "2024-12-15T13:54:56.951164Z",
     "iopub.status.busy": "2024-12-15T13:54:56.950805Z",
     "iopub.status.idle": "2024-12-15T13:54:56.955779Z",
     "shell.execute_reply": "2024-12-15T13:54:56.954848Z"
    },
    "papermill": {
     "duration": 0.020292,
     "end_time": "2024-12-15T13:54:56.957642",
     "exception": false,
     "start_time": "2024-12-15T13:54:56.937350",
     "status": "completed"
    },
    "tags": []
   },
   "outputs": [],
   "source": [
    "# remove  number arabic and latin\n",
    "def number_remov(listy): # useed\n",
    "    number_pattern = re.compile(r'^[0-9\\u0660-\\u0669]+$')\n",
    "    cleaned_list = [item for item in listy if not number_pattern.fullmatch(item)] \n",
    "    return cleaned_list   "
   ]
  },
  {
   "cell_type": "code",
   "execution_count": 22,
   "id": "6afdab44",
   "metadata": {
    "execution": {
     "iopub.execute_input": "2024-12-15T13:54:56.983866Z",
     "iopub.status.busy": "2024-12-15T13:54:56.983246Z",
     "iopub.status.idle": "2024-12-15T13:54:56.988879Z",
     "shell.execute_reply": "2024-12-15T13:54:56.987872Z"
    },
    "papermill": {
     "duration": 0.020957,
     "end_time": "2024-12-15T13:54:56.990773",
     "exception": false,
     "start_time": "2024-12-15T13:54:56.969816",
     "status": "completed"
    },
    "tags": []
   },
   "outputs": [],
   "source": [
    "#stemming arabic words     \n",
    "def stemming_darija(word):\n",
    "    # file = \"./Data_prep/suf_pref_darija.json\" # local run\n",
    "    file = \"suf_pref_darija.json\" \n",
    "\n",
    "    with open(file, 'r', encoding='utf-8') as json_file:\n",
    "        suf_pref = json.load(json_file)\n",
    "\n",
    "    ArListem = ArabicLightStemmer()\n",
    "    ArListem.set_prefix_list(suf_pref['darija_prefixes'])\n",
    "    ArListem.set_suffix_list(suf_pref['darija_suffixes'])\n",
    "    ArListem.light_stem(word)  \n",
    "    return ArListem.get_stem() "
   ]
  },
  {
   "cell_type": "code",
   "execution_count": 23,
   "id": "5e51a35b",
   "metadata": {
    "execution": {
     "iopub.execute_input": "2024-12-15T13:54:57.016398Z",
     "iopub.status.busy": "2024-12-15T13:54:57.015995Z",
     "iopub.status.idle": "2024-12-15T13:54:57.021060Z",
     "shell.execute_reply": "2024-12-15T13:54:57.020072Z"
    },
    "papermill": {
     "duration": 0.020287,
     "end_time": "2024-12-15T13:54:57.023121",
     "exception": false,
     "start_time": "2024-12-15T13:54:57.002834",
     "status": "completed"
    },
    "tags": []
   },
   "outputs": [],
   "source": [
    "# \"03:44\"\n",
    "def remove_yt_timers(text):\n",
    "    pattern = r'\\b\\d{1,2}:\\d{2,3}(:\\d{2,3})?\\b'\n",
    "    text = re.sub(pattern, '', text)\n",
    "    return text.strip()"
   ]
  },
  {
   "cell_type": "code",
   "execution_count": 24,
   "id": "120e2b72",
   "metadata": {
    "execution": {
     "iopub.execute_input": "2024-12-15T13:54:57.048984Z",
     "iopub.status.busy": "2024-12-15T13:54:57.048314Z",
     "iopub.status.idle": "2024-12-15T13:54:57.052970Z",
     "shell.execute_reply": "2024-12-15T13:54:57.052097Z"
    },
    "papermill": {
     "duration": 0.019694,
     "end_time": "2024-12-15T13:54:57.054995",
     "exception": false,
     "start_time": "2024-12-15T13:54:57.035301",
     "status": "completed"
    },
    "tags": []
   },
   "outputs": [],
   "source": [
    "\n",
    "def preproc_arab_sentence(word): # main function for  arab processing tokens\n",
    "    word = removing_tashkeel(word)\n",
    "    word = removing_tatweel(word)\n",
    "    word = remove_AL(word)\n",
    "    # word = remove_ambiguity_hamza(word)\n",
    "    word = word_remover(word)\n",
    "    return word\n"
   ]
  },
  {
   "cell_type": "code",
   "execution_count": 25,
   "id": "b33a7aa8",
   "metadata": {
    "execution": {
     "iopub.execute_input": "2024-12-15T13:54:57.081297Z",
     "iopub.status.busy": "2024-12-15T13:54:57.080429Z",
     "iopub.status.idle": "2024-12-15T13:54:57.089318Z",
     "shell.execute_reply": "2024-12-15T13:54:57.088338Z"
    },
    "papermill": {
     "duration": 0.02435,
     "end_time": "2024-12-15T13:54:57.091307",
     "exception": false,
     "start_time": "2024-12-15T13:54:57.066957",
     "status": "completed"
    },
    "tags": []
   },
   "outputs": [],
   "source": [
    "from pyarabic.araby import tokenize\n",
    "def tokenize_arab_text(text):\n",
    "            # with open('./Data_prep/stop_words_accum.json', 'r', encoding='utf-8') as file: #  local run \n",
    "            with open('./stop_words_accum.json', 'r', encoding='utf-8') as file:\n",
    "\n",
    "                stop_words = json.load(file)\n",
    "\n",
    "            # with open('./Data_prep/darija_latin_ref.json', 'r', encoding='utf-8') as file: #  local run \n",
    "            with open('./darija_latin_ref.json', 'r', encoding='utf-8') as file:\n",
    "                \n",
    "                darija_latin_ref = json.load(file)\n",
    "          \n",
    "            #print(text)\n",
    "            text = remove_url(text)\n",
    "            text = remove_emails(text)\n",
    "            text = replace_underscore(text)\n",
    "            text = remove_html_tags(text)\n",
    "            text = remove_yt_timers(text)\n",
    "            text = special_tags_and_ponctuations(text)\n",
    "            #tokenization\n",
    "            print(text)\n",
    "            words = tokenize(text)\n",
    "            print(words)\n",
    "            words = [ translate_darija_to_arabic(word) for word in words if word not in darija_latin_ref]\n",
    "            print(words)\n",
    "            words = [is_an_emoji(word) for word in words] \n",
    "            words = [item for sublist in words for item in sublist if item]\n",
    "            words = list(set(words))\n",
    "            print(words)        \n",
    "            words = [word for word in words if word not in stop_words]\n",
    "            print(words)\n",
    "\n",
    "            words = [preproc_arab_sentence(word) for word in words]\n",
    "\n",
    "            # print(words)        \n",
    "            words = [stemming_darija(word) for word in words if word]\n",
    "            words = number_remov(words)\n",
    "\n",
    "\n",
    "            # print(words)\n",
    "            words = ' '.join(words) \n",
    "            return words"
   ]
  },
  {
   "cell_type": "code",
   "execution_count": 26,
   "id": "ad94edbe",
   "metadata": {
    "execution": {
     "iopub.execute_input": "2024-12-15T13:54:57.117546Z",
     "iopub.status.busy": "2024-12-15T13:54:57.116795Z",
     "iopub.status.idle": "2024-12-15T13:54:57.133494Z",
     "shell.execute_reply": "2024-12-15T13:54:57.132475Z"
    },
    "papermill": {
     "duration": 0.032128,
     "end_time": "2024-12-15T13:54:57.135447",
     "exception": false,
     "start_time": "2024-12-15T13:54:57.103319",
     "status": "completed"
    },
    "tags": []
   },
   "outputs": [
    {
     "data": {
      "text/html": [
       "<div>\n",
       "<style scoped>\n",
       "    .dataframe tbody tr th:only-of-type {\n",
       "        vertical-align: middle;\n",
       "    }\n",
       "\n",
       "    .dataframe tbody tr th {\n",
       "        vertical-align: top;\n",
       "    }\n",
       "\n",
       "    .dataframe thead th {\n",
       "        text-align: right;\n",
       "    }\n",
       "</style>\n",
       "<table border=\"1\" class=\"dataframe\">\n",
       "  <thead>\n",
       "    <tr style=\"text-align: right;\">\n",
       "      <th></th>\n",
       "      <th>text</th>\n",
       "      <th>target</th>\n",
       "      <th>text_cleaned</th>\n",
       "    </tr>\n",
       "  </thead>\n",
       "  <tbody>\n",
       "    <tr>\n",
       "      <th>0</th>\n",
       "      <td>مكنفهمش انا علاش بنادم عوض يرض الادي ل لي عملو...</td>\n",
       "      <td>1</td>\n",
       "      <td>لراسو يرد اد كيردو مكنفهمش عملو</td>\n",
       "    </tr>\n",
       "    <tr>\n",
       "      <th>1</th>\n",
       "      <td>ماكين لا محمد السادس لا غيرو الرجا فالله أما ه...</td>\n",
       "      <td>0</td>\n",
       "      <td>لا واكل ماكين غيرو رزق</td>\n",
       "    </tr>\n",
       "    <tr>\n",
       "      <th>2</th>\n",
       "      <td>هادي هي طحن مو .طحنو الشعب وديروه كفتة احسن ما...</td>\n",
       "      <td>0</td>\n",
       "      <td>لبطانه طحن طحنو كفته احسن وديروه دبانه ما</td>\n",
       "    </tr>\n",
       "    <tr>\n",
       "      <th>3</th>\n",
       "      <td>ق.الجنائي الفرنسي كايعاقب فبحال هاد الحالات من...</td>\n",
       "      <td>1</td>\n",
       "      <td>ا اع جناا وتامل والقانون كايعاقب</td>\n",
       "    </tr>\n",
       "    <tr>\n",
       "      <th>4</th>\n",
       "      <td>ااصراحة كائن ثغير نوعا ما نتمى المزىد فى ظل ال...</td>\n",
       "      <td>1</td>\n",
       "      <td>اجديده نتم سد اسراحه ثغير والعافيه ما نوعا مزي...</td>\n",
       "    </tr>\n",
       "  </tbody>\n",
       "</table>\n",
       "</div>"
      ],
      "text/plain": [
       "                                                text  target  \\\n",
       "0  مكنفهمش انا علاش بنادم عوض يرض الادي ل لي عملو...       1   \n",
       "1  ماكين لا محمد السادس لا غيرو الرجا فالله أما ه...       0   \n",
       "2  هادي هي طحن مو .طحنو الشعب وديروه كفتة احسن ما...       0   \n",
       "3  ق.الجنائي الفرنسي كايعاقب فبحال هاد الحالات من...       1   \n",
       "4  ااصراحة كائن ثغير نوعا ما نتمى المزىد فى ظل ال...       1   \n",
       "\n",
       "                                        text_cleaned  \n",
       "0                    لراسو يرد اد كيردو مكنفهمش عملو  \n",
       "1                             لا واكل ماكين غيرو رزق  \n",
       "2          لبطانه طحن طحنو كفته احسن وديروه دبانه ما  \n",
       "3                   ا اع جناا وتامل والقانون كايعاقب  \n",
       "4  اجديده نتم سد اسراحه ثغير والعافيه ما نوعا مزي...  "
      ]
     },
     "execution_count": 26,
     "metadata": {},
     "output_type": "execute_result"
    }
   ],
   "source": [
    "df.head()"
   ]
  },
  {
   "cell_type": "code",
   "execution_count": 27,
   "id": "909decd1",
   "metadata": {
    "execution": {
     "iopub.execute_input": "2024-12-15T13:54:57.162197Z",
     "iopub.status.busy": "2024-12-15T13:54:57.161352Z",
     "iopub.status.idle": "2024-12-15T13:54:57.190224Z",
     "shell.execute_reply": "2024-12-15T13:54:57.189130Z"
    },
    "papermill": {
     "duration": 0.044618,
     "end_time": "2024-12-15T13:54:57.192520",
     "exception": false,
     "start_time": "2024-12-15T13:54:57.147902",
     "status": "completed"
    },
    "tags": []
   },
   "outputs": [
    {
     "name": "stdout",
     "output_type": "stream",
     "text": [
      "<class 'pandas.core.frame.DataFrame'>\n",
      "RangeIndex: 30000 entries, 0 to 29999\n",
      "Data columns (total 3 columns):\n",
      " #   Column        Non-Null Count  Dtype \n",
      "---  ------        --------------  ----- \n",
      " 0   text          30000 non-null  object\n",
      " 1   target        30000 non-null  int64 \n",
      " 2   text_cleaned  28978 non-null  object\n",
      "dtypes: int64(1), object(2)\n",
      "memory usage: 703.2+ KB\n"
     ]
    }
   ],
   "source": [
    "df.info()"
   ]
  },
  {
   "cell_type": "code",
   "execution_count": 28,
   "id": "03ad4f82",
   "metadata": {
    "execution": {
     "iopub.execute_input": "2024-12-15T13:54:57.219235Z",
     "iopub.status.busy": "2024-12-15T13:54:57.218798Z",
     "iopub.status.idle": "2024-12-15T13:54:57.233920Z",
     "shell.execute_reply": "2024-12-15T13:54:57.233059Z"
    },
    "papermill": {
     "duration": 0.030908,
     "end_time": "2024-12-15T13:54:57.236023",
     "exception": false,
     "start_time": "2024-12-15T13:54:57.205115",
     "status": "completed"
    },
    "tags": []
   },
   "outputs": [],
   "source": [
    "df.dropna(inplace=True)"
   ]
  },
  {
   "cell_type": "code",
   "execution_count": 29,
   "id": "987fef5a",
   "metadata": {
    "execution": {
     "iopub.execute_input": "2024-12-15T13:54:57.262552Z",
     "iopub.status.busy": "2024-12-15T13:54:57.261790Z",
     "iopub.status.idle": "2024-12-15T13:54:57.285090Z",
     "shell.execute_reply": "2024-12-15T13:54:57.284021Z"
    },
    "papermill": {
     "duration": 0.039195,
     "end_time": "2024-12-15T13:54:57.287647",
     "exception": false,
     "start_time": "2024-12-15T13:54:57.248452",
     "status": "completed"
    },
    "tags": []
   },
   "outputs": [],
   "source": [
    "from sklearn.model_selection import train_test_split\n",
    "\n",
    "X_train, X_test, y_train, y_test = train_test_split( df.drop(columns=[\"target\"]),df[\"target\"], test_size=0.2 , stratify=df['target'] ,shuffle=True , random_state=123)"
   ]
  },
  {
   "cell_type": "code",
   "execution_count": 30,
   "id": "de3dd650",
   "metadata": {
    "execution": {
     "iopub.execute_input": "2024-12-15T13:54:57.315027Z",
     "iopub.status.busy": "2024-12-15T13:54:57.314612Z",
     "iopub.status.idle": "2024-12-15T13:54:57.324461Z",
     "shell.execute_reply": "2024-12-15T13:54:57.323445Z"
    },
    "papermill": {
     "duration": 0.026006,
     "end_time": "2024-12-15T13:54:57.326551",
     "exception": false,
     "start_time": "2024-12-15T13:54:57.300545",
     "status": "completed"
    },
    "tags": []
   },
   "outputs": [
    {
     "data": {
      "text/plain": [
       "target\n",
       "0    2949\n",
       "1    2847\n",
       "Name: count, dtype: int64"
      ]
     },
     "execution_count": 30,
     "metadata": {},
     "output_type": "execute_result"
    }
   ],
   "source": [
    "y_test.value_counts()"
   ]
  },
  {
   "cell_type": "code",
   "execution_count": 31,
   "id": "07f2fe4b",
   "metadata": {
    "execution": {
     "iopub.execute_input": "2024-12-15T13:54:57.353963Z",
     "iopub.status.busy": "2024-12-15T13:54:57.352885Z",
     "iopub.status.idle": "2024-12-15T13:54:57.359483Z",
     "shell.execute_reply": "2024-12-15T13:54:57.358484Z"
    },
    "papermill": {
     "duration": 0.022052,
     "end_time": "2024-12-15T13:54:57.361324",
     "exception": false,
     "start_time": "2024-12-15T13:54:57.339272",
     "status": "completed"
    },
    "tags": []
   },
   "outputs": [
    {
     "data": {
      "text/plain": [
       "(23182, 2)"
      ]
     },
     "execution_count": 31,
     "metadata": {},
     "output_type": "execute_result"
    }
   ],
   "source": [
    "X_train.shape"
   ]
  },
  {
   "cell_type": "markdown",
   "id": "9c8348a3",
   "metadata": {
    "papermill": {
     "duration": 0.012181,
     "end_time": "2024-12-15T13:54:57.386351",
     "exception": false,
     "start_time": "2024-12-15T13:54:57.374170",
     "status": "completed"
    },
    "tags": []
   },
   "source": [
    "## Useful Function"
   ]
  },
  {
   "cell_type": "code",
   "execution_count": 32,
   "id": "e13e8ced",
   "metadata": {
    "execution": {
     "iopub.execute_input": "2024-12-15T13:54:57.413270Z",
     "iopub.status.busy": "2024-12-15T13:54:57.412584Z",
     "iopub.status.idle": "2024-12-15T13:54:57.880983Z",
     "shell.execute_reply": "2024-12-15T13:54:57.879882Z"
    },
    "papermill": {
     "duration": 0.48433,
     "end_time": "2024-12-15T13:54:57.883454",
     "exception": false,
     "start_time": "2024-12-15T13:54:57.399124",
     "status": "completed"
    },
    "tags": []
   },
   "outputs": [],
   "source": [
    "import numpy as np\n",
    "from sklearn.metrics import accuracy_score, f1_score, classification_report, confusion_matrix\n",
    "import seaborn as sns\n",
    "import matplotlib.pyplot as plt\n",
    "\n",
    "def about_model(model_name , y_test, y_pred):\n",
    "    print('-------------------> ' + model_name )\n",
    "    accuracy = accuracy_score(y_test, y_pred)\n",
    "    print(f\"Accuracy: {accuracy:.2f}\")\n",
    "    \n",
    "    f1 = f1_score(y_test, y_pred, average=None)\n",
    "    print(\"F1-Score for each class:\")\n",
    "    class_labels = ['Positive', 'Negative']\n",
    "\n",
    "    for i, score in enumerate(f1):\n",
    "        print(f\"{class_labels[i]}: {score:.2f}\")\n",
    "    \n",
    "    print(\"\\nClassification Report:\")\n",
    "    print(classification_report(y_test, y_pred, target_names=class_labels, digits=2))\n",
    "    \n",
    "    conf_matrix = confusion_matrix(y_test, y_pred)\n",
    "    plt.figure(figsize=(8, 6))\n",
    "    sns.heatmap(conf_matrix, annot=True, fmt='d', cmap='Blues', \n",
    "                xticklabels=class_labels,\n",
    "                yticklabels=class_labels)\n",
    "    plt.xlabel(\"Predicted\")\n",
    "    plt.ylabel(\"Actual\")\n",
    "    plt.title(\"Confusion Matrix\")\n",
    "    plt.show()\n"
   ]
  },
  {
   "cell_type": "markdown",
   "id": "962b4342",
   "metadata": {
    "papermill": {
     "duration": 0.012105,
     "end_time": "2024-12-15T13:54:57.908376",
     "exception": false,
     "start_time": "2024-12-15T13:54:57.896271",
     "status": "completed"
    },
    "tags": []
   },
   "source": [
    "## Feature Engineering\n",
    "Converting text to vectors format:\n",
    "- CountVectorizer(ngram_range=(1, 2) , binary=True)"
   ]
  },
  {
   "cell_type": "code",
   "execution_count": 33,
   "id": "1313f46e",
   "metadata": {
    "execution": {
     "iopub.execute_input": "2024-12-15T13:54:57.935500Z",
     "iopub.status.busy": "2024-12-15T13:54:57.934980Z",
     "iopub.status.idle": "2024-12-15T13:54:57.939705Z",
     "shell.execute_reply": "2024-12-15T13:54:57.938767Z"
    },
    "papermill": {
     "duration": 0.020279,
     "end_time": "2024-12-15T13:54:57.941511",
     "exception": false,
     "start_time": "2024-12-15T13:54:57.921232",
     "status": "completed"
    },
    "tags": []
   },
   "outputs": [],
   "source": [
    "#from sklearn.feature_extraction.text import TfidfVectorizer\n",
    "\n",
    "\n",
    "#tfidf_vectorizer = TfidfVectorizer(ngram_range=(1, 2))\n",
    "#X_train['text_cleaned'] = X_train['text_cleaned'].astype(str)\n",
    "#X_test['text_cleaned'] = X_test['text_cleaned'].astype(str)\n",
    "\n",
    "#X_train_tfidf = tfidf_vectorizer.fit_transform(X_train['text_cleaned'])\n",
    "#X_test_tfidf = tfidf_vectorizer.transform(X_test['text_cleaned'])\n",
    "\n"
   ]
  },
  {
   "cell_type": "code",
   "execution_count": 34,
   "id": "b3803348",
   "metadata": {
    "execution": {
     "iopub.execute_input": "2024-12-15T13:54:57.968891Z",
     "iopub.status.busy": "2024-12-15T13:54:57.967979Z",
     "iopub.status.idle": "2024-12-15T13:54:59.447621Z",
     "shell.execute_reply": "2024-12-15T13:54:59.446763Z"
    },
    "papermill": {
     "duration": 1.495544,
     "end_time": "2024-12-15T13:54:59.449899",
     "exception": false,
     "start_time": "2024-12-15T13:54:57.954355",
     "status": "completed"
    },
    "tags": []
   },
   "outputs": [
    {
     "name": "stdout",
     "output_type": "stream",
     "text": [
      "all tokens:  148139\n",
      "reduced tokens:  148139\n"
     ]
    },
    {
     "name": "stderr",
     "output_type": "stream",
     "text": [
      "/opt/conda/lib/python3.10/site-packages/sklearn/feature_extraction/text.py:1380: UserWarning: Upper case characters found in vocabulary while 'lowercase' is True. These entries will not be matched with any documents\n",
      "  warnings.warn(\n"
     ]
    }
   ],
   "source": [
    "from sklearn.feature_extraction.text import CountVectorizer\n",
    "import numpy as np\n",
    "import pandas as pd\n",
    "\n",
    "\n",
    "tfidf_vectorizer = CountVectorizer(ngram_range=(1, 2) , binary=True)\n",
    "\n",
    "X_train['text_cleaned'] = X_train['text_cleaned'].astype(str)\n",
    "X_test['text_cleaned'] = X_test['text_cleaned'].astype(str)\n",
    "\n",
    "X_train_tfidf = tfidf_vectorizer.fit_transform(X_train['text_cleaned'])\n",
    "X_test_tfidf = tfidf_vectorizer.transform(X_test['text_cleaned'])\n",
    "\n",
    "words = tfidf_vectorizer.get_feature_names_out()\n",
    "print(\"all tokens: \" , len(words))\n",
    "tfidf_scores = np.asarray(X_train_tfidf.sum(axis=0)).flatten()\n",
    "\n",
    "sorted_indices = np.argsort(tfidf_scores)[::-1]\n",
    "\n",
    "cumulative_tfidf = np.cumsum(tfidf_scores[sorted_indices])\n",
    "\n",
    "total_tfidf = cumulative_tfidf[-1]\n",
    "threshold =  total_tfidf\n",
    "\n",
    "cutoff_index = np.where(cumulative_tfidf >= threshold)[0][0]\n",
    "\n",
    "selected_ngrams = words[sorted_indices][:cutoff_index + 1]\n",
    "\n",
    "selected_vocab = selected_ngrams.tolist()\n",
    "print(\"reduced tokens: \"  , len(selected_vocab))\n",
    "\n",
    "tfidf_vectorizer = CountVectorizer(vocabulary=selected_vocab, binary=True)\n",
    "\n",
    "X_train_tfidf = tfidf_vectorizer.fit_transform(X_train['text_cleaned'])\n",
    "X_test_tfidf = tfidf_vectorizer.transform(X_test['text_cleaned'])\n"
   ]
  },
  {
   "cell_type": "code",
   "execution_count": 35,
   "id": "3a0f258f",
   "metadata": {
    "execution": {
     "iopub.execute_input": "2024-12-15T13:54:59.479184Z",
     "iopub.status.busy": "2024-12-15T13:54:59.478380Z",
     "iopub.status.idle": "2024-12-15T13:54:59.581698Z",
     "shell.execute_reply": "2024-12-15T13:54:59.580581Z"
    },
    "papermill": {
     "duration": 0.120857,
     "end_time": "2024-12-15T13:54:59.583765",
     "exception": false,
     "start_time": "2024-12-15T13:54:59.462908",
     "status": "completed"
    },
    "tags": []
   },
   "outputs": [
    {
     "data": {
      "text/plain": [
       "array(['لا', 'غير', 'ما', 'هه', 'ماش', 'خير', 'هم', 'سير', 'قلب', 'تفو',\n",
       "       'حمد', 'لم', 'فرح', 'عداله', 'قوه', 'فكر', 'عديم', 'احسن', 'مبروك',\n",
       "       'بدموع', 'سح', 'والو', 'ليس', 'كورو', 'تحيه', 'طحن', 'وفي',\n",
       "       'تنميه', 'حكومه', 'وباا'], dtype=object)"
      ]
     },
     "execution_count": 35,
     "metadata": {},
     "output_type": "execute_result"
    }
   ],
   "source": [
    "tfidf_vectorizer.get_feature_names_out()[:30]"
   ]
  },
  {
   "cell_type": "code",
   "execution_count": 36,
   "id": "6165a2b4",
   "metadata": {
    "execution": {
     "iopub.execute_input": "2024-12-15T13:54:59.611877Z",
     "iopub.status.busy": "2024-12-15T13:54:59.611044Z",
     "iopub.status.idle": "2024-12-15T13:54:59.706889Z",
     "shell.execute_reply": "2024-12-15T13:54:59.705852Z"
    },
    "papermill": {
     "duration": 0.112087,
     "end_time": "2024-12-15T13:54:59.709062",
     "exception": false,
     "start_time": "2024-12-15T13:54:59.596975",
     "status": "completed"
    },
    "tags": []
   },
   "outputs": [
    {
     "data": {
      "text/plain": [
       "148139"
      ]
     },
     "execution_count": 36,
     "metadata": {},
     "output_type": "execute_result"
    }
   ],
   "source": [
    "len(tfidf_vectorizer.get_feature_names_out())"
   ]
  },
  {
   "cell_type": "markdown",
   "id": "65f9d440",
   "metadata": {
    "papermill": {
     "duration": 0.012583,
     "end_time": "2024-12-15T13:54:59.734806",
     "exception": false,
     "start_time": "2024-12-15T13:54:59.722223",
     "status": "completed"
    },
    "tags": []
   },
   "source": [
    "## Model Development\n"
   ]
  },
  {
   "cell_type": "markdown",
   "id": "108c5417",
   "metadata": {
    "papermill": {
     "duration": 0.012602,
     "end_time": "2024-12-15T13:54:59.760217",
     "exception": false,
     "start_time": "2024-12-15T13:54:59.747615",
     "status": "completed"
    },
    "tags": []
   },
   "source": [
    "### Logistic Regression"
   ]
  },
  {
   "cell_type": "code",
   "execution_count": 37,
   "id": "c5117d5f",
   "metadata": {
    "execution": {
     "iopub.execute_input": "2024-12-15T13:54:59.787210Z",
     "iopub.status.busy": "2024-12-15T13:54:59.786827Z",
     "iopub.status.idle": "2024-12-15T13:55:03.550749Z",
     "shell.execute_reply": "2024-12-15T13:55:03.549522Z"
    },
    "papermill": {
     "duration": 3.7805,
     "end_time": "2024-12-15T13:55:03.553361",
     "exception": false,
     "start_time": "2024-12-15T13:54:59.772861",
     "status": "completed"
    },
    "tags": []
   },
   "outputs": [
    {
     "data": {
      "text/html": [
       "<style>#sk-container-id-1 {color: black;background-color: white;}#sk-container-id-1 pre{padding: 0;}#sk-container-id-1 div.sk-toggleable {background-color: white;}#sk-container-id-1 label.sk-toggleable__label {cursor: pointer;display: block;width: 100%;margin-bottom: 0;padding: 0.3em;box-sizing: border-box;text-align: center;}#sk-container-id-1 label.sk-toggleable__label-arrow:before {content: \"▸\";float: left;margin-right: 0.25em;color: #696969;}#sk-container-id-1 label.sk-toggleable__label-arrow:hover:before {color: black;}#sk-container-id-1 div.sk-estimator:hover label.sk-toggleable__label-arrow:before {color: black;}#sk-container-id-1 div.sk-toggleable__content {max-height: 0;max-width: 0;overflow: hidden;text-align: left;background-color: #f0f8ff;}#sk-container-id-1 div.sk-toggleable__content pre {margin: 0.2em;color: black;border-radius: 0.25em;background-color: #f0f8ff;}#sk-container-id-1 input.sk-toggleable__control:checked~div.sk-toggleable__content {max-height: 200px;max-width: 100%;overflow: auto;}#sk-container-id-1 input.sk-toggleable__control:checked~label.sk-toggleable__label-arrow:before {content: \"▾\";}#sk-container-id-1 div.sk-estimator input.sk-toggleable__control:checked~label.sk-toggleable__label {background-color: #d4ebff;}#sk-container-id-1 div.sk-label input.sk-toggleable__control:checked~label.sk-toggleable__label {background-color: #d4ebff;}#sk-container-id-1 input.sk-hidden--visually {border: 0;clip: rect(1px 1px 1px 1px);clip: rect(1px, 1px, 1px, 1px);height: 1px;margin: -1px;overflow: hidden;padding: 0;position: absolute;width: 1px;}#sk-container-id-1 div.sk-estimator {font-family: monospace;background-color: #f0f8ff;border: 1px dotted black;border-radius: 0.25em;box-sizing: border-box;margin-bottom: 0.5em;}#sk-container-id-1 div.sk-estimator:hover {background-color: #d4ebff;}#sk-container-id-1 div.sk-parallel-item::after {content: \"\";width: 100%;border-bottom: 1px solid gray;flex-grow: 1;}#sk-container-id-1 div.sk-label:hover label.sk-toggleable__label {background-color: #d4ebff;}#sk-container-id-1 div.sk-serial::before {content: \"\";position: absolute;border-left: 1px solid gray;box-sizing: border-box;top: 0;bottom: 0;left: 50%;z-index: 0;}#sk-container-id-1 div.sk-serial {display: flex;flex-direction: column;align-items: center;background-color: white;padding-right: 0.2em;padding-left: 0.2em;position: relative;}#sk-container-id-1 div.sk-item {position: relative;z-index: 1;}#sk-container-id-1 div.sk-parallel {display: flex;align-items: stretch;justify-content: center;background-color: white;position: relative;}#sk-container-id-1 div.sk-item::before, #sk-container-id-1 div.sk-parallel-item::before {content: \"\";position: absolute;border-left: 1px solid gray;box-sizing: border-box;top: 0;bottom: 0;left: 50%;z-index: -1;}#sk-container-id-1 div.sk-parallel-item {display: flex;flex-direction: column;z-index: 1;position: relative;background-color: white;}#sk-container-id-1 div.sk-parallel-item:first-child::after {align-self: flex-end;width: 50%;}#sk-container-id-1 div.sk-parallel-item:last-child::after {align-self: flex-start;width: 50%;}#sk-container-id-1 div.sk-parallel-item:only-child::after {width: 0;}#sk-container-id-1 div.sk-dashed-wrapped {border: 1px dashed gray;margin: 0 0.4em 0.5em 0.4em;box-sizing: border-box;padding-bottom: 0.4em;background-color: white;}#sk-container-id-1 div.sk-label label {font-family: monospace;font-weight: bold;display: inline-block;line-height: 1.2em;}#sk-container-id-1 div.sk-label-container {text-align: center;}#sk-container-id-1 div.sk-container {/* jupyter's `normalize.less` sets `[hidden] { display: none; }` but bootstrap.min.css set `[hidden] { display: none !important; }` so we also need the `!important` here to be able to override the default hidden behavior on the sphinx rendered scikit-learn.org. See: https://github.com/scikit-learn/scikit-learn/issues/21755 */display: inline-block !important;position: relative;}#sk-container-id-1 div.sk-text-repr-fallback {display: none;}</style><div id=\"sk-container-id-1\" class=\"sk-top-container\"><div class=\"sk-text-repr-fallback\"><pre>LogisticRegression(max_iter=1000, n_jobs=-1)</pre><b>In a Jupyter environment, please rerun this cell to show the HTML representation or trust the notebook. <br />On GitHub, the HTML representation is unable to render, please try loading this page with nbviewer.org.</b></div><div class=\"sk-container\" hidden><div class=\"sk-item\"><div class=\"sk-estimator sk-toggleable\"><input class=\"sk-toggleable__control sk-hidden--visually\" id=\"sk-estimator-id-1\" type=\"checkbox\" checked><label for=\"sk-estimator-id-1\" class=\"sk-toggleable__label sk-toggleable__label-arrow\">LogisticRegression</label><div class=\"sk-toggleable__content\"><pre>LogisticRegression(max_iter=1000, n_jobs=-1)</pre></div></div></div></div></div>"
      ],
      "text/plain": [
       "LogisticRegression(max_iter=1000, n_jobs=-1)"
      ]
     },
     "execution_count": 37,
     "metadata": {},
     "output_type": "execute_result"
    }
   ],
   "source": [
    "from sklearn.linear_model import LogisticRegression # type: ignore\n",
    "clf = LogisticRegression(max_iter = 1000 ,  n_jobs=-1 )\n",
    "clf.fit(X_train_tfidf, y_train)"
   ]
  },
  {
   "cell_type": "code",
   "execution_count": 38,
   "id": "155a2fa6",
   "metadata": {
    "execution": {
     "iopub.execute_input": "2024-12-15T13:55:03.585326Z",
     "iopub.status.busy": "2024-12-15T13:55:03.584916Z",
     "iopub.status.idle": "2024-12-15T13:55:03.926941Z",
     "shell.execute_reply": "2024-12-15T13:55:03.925851Z"
    },
    "papermill": {
     "duration": 0.358703,
     "end_time": "2024-12-15T13:55:03.928950",
     "exception": false,
     "start_time": "2024-12-15T13:55:03.570247",
     "status": "completed"
    },
    "tags": []
   },
   "outputs": [
    {
     "name": "stdout",
     "output_type": "stream",
     "text": [
      "-------------------> Logistic Regression\n",
      "Accuracy: 0.75\n",
      "F1-Score for each class:\n",
      "Positive: 0.74\n",
      "Negative: 0.75\n",
      "\n",
      "Classification Report:\n",
      "              precision    recall  f1-score   support\n",
      "\n",
      "    Positive       0.77      0.72      0.74      2949\n",
      "    Negative       0.73      0.77      0.75      2847\n",
      "\n",
      "    accuracy                           0.75      5796\n",
      "   macro avg       0.75      0.75      0.75      5796\n",
      "weighted avg       0.75      0.75      0.75      5796\n",
      "\n"
     ]
    },
    {
     "data": {
      "image/png": "[encoded data removed]",
      "text/plain": [
       "<Figure size 800x600 with 2 Axes>"
      ]
     },
     "metadata": {},
     "output_type": "display_data"
    }
   ],
   "source": [
    "y_hat = clf.predict(X_test_tfidf)\n",
    "about_model(\"Logistic Regression\" ,y_test , y_hat)"
   ]
  },
  {
   "cell_type": "markdown",
   "id": "2d931c01",
   "metadata": {
    "papermill": {
     "duration": 0.013165,
     "end_time": "2024-12-15T13:55:03.955805",
     "exception": false,
     "start_time": "2024-12-15T13:55:03.942640",
     "status": "completed"
    },
    "tags": []
   },
   "source": [
    "### Tuned Logistic Regression"
   ]
  },
  {
   "cell_type": "code",
   "execution_count": 39,
   "id": "58648351",
   "metadata": {
    "execution": {
     "iopub.execute_input": "2024-12-15T13:55:03.984278Z",
     "iopub.status.busy": "2024-12-15T13:55:03.983865Z",
     "iopub.status.idle": "2024-12-15T13:55:04.026606Z",
     "shell.execute_reply": "2024-12-15T13:55:04.025416Z"
    },
    "papermill": {
     "duration": 0.059394,
     "end_time": "2024-12-15T13:55:04.028667",
     "exception": false,
     "start_time": "2024-12-15T13:55:03.969273",
     "status": "completed"
    },
    "tags": []
   },
   "outputs": [
    {
     "name": "stdout",
     "output_type": "stream",
     "text": [
      "\n",
      "[]\n",
      "[]\n",
      "[]\n",
      "[]\n",
      "\n"
     ]
    },
    {
     "data": {
      "text/plain": [
       "array([1])"
      ]
     },
     "execution_count": 39,
     "metadata": {},
     "output_type": "execute_result"
    }
   ],
   "source": [
    "text = tokenize_arab_text('')\n",
    "print(text)\n",
    "\n",
    "if isinstance(text, str):\n",
    "    text = [text]  \n",
    "\n",
    "text_vectorized = tfidf_vectorizer.transform(text)  \n",
    "text_vectorized = text_vectorized.reshape(1, -1)  \n",
    "clf.predict(text_vectorized)\n"
   ]
  },
  {
   "cell_type": "code",
   "execution_count": 40,
   "id": "f10ae0a5",
   "metadata": {
    "execution": {
     "iopub.execute_input": "2024-12-15T13:55:04.057969Z",
     "iopub.status.busy": "2024-12-15T13:55:04.057574Z",
     "iopub.status.idle": "2024-12-15T20:24:36.855350Z",
     "shell.execute_reply": "2024-12-15T20:24:36.853993Z"
    },
    "papermill": {
     "duration": 23372.82843,
     "end_time": "2024-12-15T20:24:36.870864",
     "exception": false,
     "start_time": "2024-12-15T13:55:04.042434",
     "status": "completed"
    },
    "tags": []
   },
   "outputs": [
    {
     "name": "stdout",
     "output_type": "stream",
     "text": [
      "Fitting 5 folds for each of 12 candidates, totalling 60 fits\n"
     ]
    },
    {
     "name": "stderr",
     "output_type": "stream",
     "text": [
      "/opt/conda/lib/python3.10/site-packages/sklearn/linear_model/_sag.py:350: ConvergenceWarning: The max_iter was reached which means the coef_ did not converge\n",
      "  warnings.warn(\n"
     ]
    },
    {
     "data": {
      "text/plain": [
       "{'C': 1.0, 'penalty': 'l2', 'solver': 'saga'}"
      ]
     },
     "execution_count": 40,
     "metadata": {},
     "output_type": "execute_result"
    }
   ],
   "source": [
    "# Logistic Regression\n",
    "param_grid_ = {\n",
    "    'C': [1e-5, 1e-3, 1e-1, 1e0, 1e1, 1e2],  \n",
    "    'penalty': ['l1', 'l2'],                \n",
    "    'solver': ['saga'],                     \n",
    "}\n",
    "\n",
    "clf_grid = GridSearchCV(\n",
    "    estimator=LogisticRegression(max_iter=5000, n_jobs=-1),\n",
    "    param_grid=param_grid_,\n",
    "    cv=5,\n",
    "    verbose=1,\n",
    "    scoring='accuracy',\n",
    "    n_jobs=-1\n",
    ")\n",
    "\n",
    "clf_grid.fit(X_train_tfidf, y_train)\n",
    "clf_grid.best_params_\n"
   ]
  },
  {
   "cell_type": "code",
   "execution_count": 41,
   "id": "608c7c7b",
   "metadata": {
    "execution": {
     "iopub.execute_input": "2024-12-15T20:24:36.900862Z",
     "iopub.status.busy": "2024-12-15T20:24:36.900311Z",
     "iopub.status.idle": "2024-12-15T20:24:37.137026Z",
     "shell.execute_reply": "2024-12-15T20:24:37.136014Z"
    },
    "papermill": {
     "duration": 0.25426,
     "end_time": "2024-12-15T20:24:37.139026",
     "exception": false,
     "start_time": "2024-12-15T20:24:36.884766",
     "status": "completed"
    },
    "tags": []
   },
   "outputs": [
    {
     "name": "stdout",
     "output_type": "stream",
     "text": [
      "-------------------> Tuned Logistic Regression\n",
      "Accuracy: 0.75\n",
      "F1-Score for each class:\n",
      "Positive: 0.74\n",
      "Negative: 0.75\n",
      "\n",
      "Classification Report:\n",
      "              precision    recall  f1-score   support\n",
      "\n",
      "    Positive       0.77      0.72      0.74      2949\n",
      "    Negative       0.73      0.77      0.75      2847\n",
      "\n",
      "    accuracy                           0.75      5796\n",
      "   macro avg       0.75      0.75      0.75      5796\n",
      "weighted avg       0.75      0.75      0.75      5796\n",
      "\n"
     ]
    },
    {
     "data": {
      "image/png": "[encoded data removed]",
      "text/plain": [
       "<Figure size 800x600 with 2 Axes>"
      ]
     },
     "metadata": {},
     "output_type": "display_data"
    }
   ],
   "source": [
    "y_hat = clf_grid.predict(X_test_tfidf)\n",
    "about_model(\"Tuned Logistic Regression\" , y_test , y_hat)"
   ]
  },
  {
   "cell_type": "markdown",
   "id": "02e53703",
   "metadata": {
    "papermill": {
     "duration": 0.014706,
     "end_time": "2024-12-15T20:24:37.168700",
     "exception": false,
     "start_time": "2024-12-15T20:24:37.153994",
     "status": "completed"
    },
    "tags": []
   },
   "source": [
    "## XGBoost"
   ]
  },
  {
   "cell_type": "code",
   "execution_count": 42,
   "id": "f3ce37ee",
   "metadata": {
    "execution": {
     "iopub.execute_input": "2024-12-15T20:24:37.200259Z",
     "iopub.status.busy": "2024-12-15T20:24:37.199325Z",
     "iopub.status.idle": "2024-12-15T20:24:45.192337Z",
     "shell.execute_reply": "2024-12-15T20:24:45.191314Z"
    },
    "papermill": {
     "duration": 8.011734,
     "end_time": "2024-12-15T20:24:45.195144",
     "exception": false,
     "start_time": "2024-12-15T20:24:37.183410",
     "status": "completed"
    },
    "tags": []
   },
   "outputs": [
    {
     "data": {
      "text/html": [
       "<style>#sk-container-id-2 {color: black;background-color: white;}#sk-container-id-2 pre{padding: 0;}#sk-container-id-2 div.sk-toggleable {background-color: white;}#sk-container-id-2 label.sk-toggleable__label {cursor: pointer;display: block;width: 100%;margin-bottom: 0;padding: 0.3em;box-sizing: border-box;text-align: center;}#sk-container-id-2 label.sk-toggleable__label-arrow:before {content: \"▸\";float: left;margin-right: 0.25em;color: #696969;}#sk-container-id-2 label.sk-toggleable__label-arrow:hover:before {color: black;}#sk-container-id-2 div.sk-estimator:hover label.sk-toggleable__label-arrow:before {color: black;}#sk-container-id-2 div.sk-toggleable__content {max-height: 0;max-width: 0;overflow: hidden;text-align: left;background-color: #f0f8ff;}#sk-container-id-2 div.sk-toggleable__content pre {margin: 0.2em;color: black;border-radius: 0.25em;background-color: #f0f8ff;}#sk-container-id-2 input.sk-toggleable__control:checked~div.sk-toggleable__content {max-height: 200px;max-width: 100%;overflow: auto;}#sk-container-id-2 input.sk-toggleable__control:checked~label.sk-toggleable__label-arrow:before {content: \"▾\";}#sk-container-id-2 div.sk-estimator input.sk-toggleable__control:checked~label.sk-toggleable__label {background-color: #d4ebff;}#sk-container-id-2 div.sk-label input.sk-toggleable__control:checked~label.sk-toggleable__label {background-color: #d4ebff;}#sk-container-id-2 input.sk-hidden--visually {border: 0;clip: rect(1px 1px 1px 1px);clip: rect(1px, 1px, 1px, 1px);height: 1px;margin: -1px;overflow: hidden;padding: 0;position: absolute;width: 1px;}#sk-container-id-2 div.sk-estimator {font-family: monospace;background-color: #f0f8ff;border: 1px dotted black;border-radius: 0.25em;box-sizing: border-box;margin-bottom: 0.5em;}#sk-container-id-2 div.sk-estimator:hover {background-color: #d4ebff;}#sk-container-id-2 div.sk-parallel-item::after {content: \"\";width: 100%;border-bottom: 1px solid gray;flex-grow: 1;}#sk-container-id-2 div.sk-label:hover label.sk-toggleable__label {background-color: #d4ebff;}#sk-container-id-2 div.sk-serial::before {content: \"\";position: absolute;border-left: 1px solid gray;box-sizing: border-box;top: 0;bottom: 0;left: 50%;z-index: 0;}#sk-container-id-2 div.sk-serial {display: flex;flex-direction: column;align-items: center;background-color: white;padding-right: 0.2em;padding-left: 0.2em;position: relative;}#sk-container-id-2 div.sk-item {position: relative;z-index: 1;}#sk-container-id-2 div.sk-parallel {display: flex;align-items: stretch;justify-content: center;background-color: white;position: relative;}#sk-container-id-2 div.sk-item::before, #sk-container-id-2 div.sk-parallel-item::before {content: \"\";position: absolute;border-left: 1px solid gray;box-sizing: border-box;top: 0;bottom: 0;left: 50%;z-index: -1;}#sk-container-id-2 div.sk-parallel-item {display: flex;flex-direction: column;z-index: 1;position: relative;background-color: white;}#sk-container-id-2 div.sk-parallel-item:first-child::after {align-self: flex-end;width: 50%;}#sk-container-id-2 div.sk-parallel-item:last-child::after {align-self: flex-start;width: 50%;}#sk-container-id-2 div.sk-parallel-item:only-child::after {width: 0;}#sk-container-id-2 div.sk-dashed-wrapped {border: 1px dashed gray;margin: 0 0.4em 0.5em 0.4em;box-sizing: border-box;padding-bottom: 0.4em;background-color: white;}#sk-container-id-2 div.sk-label label {font-family: monospace;font-weight: bold;display: inline-block;line-height: 1.2em;}#sk-container-id-2 div.sk-label-container {text-align: center;}#sk-container-id-2 div.sk-container {/* jupyter's `normalize.less` sets `[hidden] { display: none; }` but bootstrap.min.css set `[hidden] { display: none !important; }` so we also need the `!important` here to be able to override the default hidden behavior on the sphinx rendered scikit-learn.org. See: https://github.com/scikit-learn/scikit-learn/issues/21755 */display: inline-block !important;position: relative;}#sk-container-id-2 div.sk-text-repr-fallback {display: none;}</style><div id=\"sk-container-id-2\" class=\"sk-top-container\"><div class=\"sk-text-repr-fallback\"><pre>XGBClassifier(base_score=None, booster=None, callbacks=None,\n",
       "              colsample_bylevel=None, colsample_bynode=None,\n",
       "              colsample_bytree=None, device=None, early_stopping_rounds=None,\n",
       "              enable_categorical=False, eval_metric=None, feature_types=None,\n",
       "              gamma=None, grow_policy=None, importance_type=None,\n",
       "              interaction_constraints=None, learning_rate=None, max_bin=None,\n",
       "              max_cat_threshold=None, max_cat_to_onehot=None,\n",
       "              max_delta_step=None, max_depth=None, max_leaves=None,\n",
       "              min_child_weight=None, missing=nan, monotone_constraints=None,\n",
       "              multi_strategy=None, n_estimators=None, n_jobs=None,\n",
       "              num_parallel_tree=None, random_state=None, ...)</pre><b>In a Jupyter environment, please rerun this cell to show the HTML representation or trust the notebook. <br />On GitHub, the HTML representation is unable to render, please try loading this page with nbviewer.org.</b></div><div class=\"sk-container\" hidden><div class=\"sk-item\"><div class=\"sk-estimator sk-toggleable\"><input class=\"sk-toggleable__control sk-hidden--visually\" id=\"sk-estimator-id-2\" type=\"checkbox\" checked><label for=\"sk-estimator-id-2\" class=\"sk-toggleable__label sk-toggleable__label-arrow\">XGBClassifier</label><div class=\"sk-toggleable__content\"><pre>XGBClassifier(base_score=None, booster=None, callbacks=None,\n",
       "              colsample_bylevel=None, colsample_bynode=None,\n",
       "              colsample_bytree=None, device=None, early_stopping_rounds=None,\n",
       "              enable_categorical=False, eval_metric=None, feature_types=None,\n",
       "              gamma=None, grow_policy=None, importance_type=None,\n",
       "              interaction_constraints=None, learning_rate=None, max_bin=None,\n",
       "              max_cat_threshold=None, max_cat_to_onehot=None,\n",
       "              max_delta_step=None, max_depth=None, max_leaves=None,\n",
       "              min_child_weight=None, missing=nan, monotone_constraints=None,\n",
       "              multi_strategy=None, n_estimators=None, n_jobs=None,\n",
       "              num_parallel_tree=None, random_state=None, ...)</pre></div></div></div></div></div>"
      ],
      "text/plain": [
       "XGBClassifier(base_score=None, booster=None, callbacks=None,\n",
       "              colsample_bylevel=None, colsample_bynode=None,\n",
       "              colsample_bytree=None, device=None, early_stopping_rounds=None,\n",
       "              enable_categorical=False, eval_metric=None, feature_types=None,\n",
       "              gamma=None, grow_policy=None, importance_type=None,\n",
       "              interaction_constraints=None, learning_rate=None, max_bin=None,\n",
       "              max_cat_threshold=None, max_cat_to_onehot=None,\n",
       "              max_delta_step=None, max_depth=None, max_leaves=None,\n",
       "              min_child_weight=None, missing=nan, monotone_constraints=None,\n",
       "              multi_strategy=None, n_estimators=None, n_jobs=None,\n",
       "              num_parallel_tree=None, random_state=None, ...)"
      ]
     },
     "execution_count": 42,
     "metadata": {},
     "output_type": "execute_result"
    }
   ],
   "source": [
    "from xgboost import XGBClassifier\n",
    "from sklearn.model_selection import GridSearchCV\n",
    "\n",
    "xgb = XGBClassifier()\n",
    "\n",
    "xgb.fit(X_train_tfidf, y_train)"
   ]
  },
  {
   "cell_type": "code",
   "execution_count": 43,
   "id": "f2ac3865",
   "metadata": {
    "execution": {
     "iopub.execute_input": "2024-12-15T20:24:45.226878Z",
     "iopub.status.busy": "2024-12-15T20:24:45.226028Z",
     "iopub.status.idle": "2024-12-15T20:24:45.762361Z",
     "shell.execute_reply": "2024-12-15T20:24:45.761121Z"
    },
    "papermill": {
     "duration": 0.554372,
     "end_time": "2024-12-15T20:24:45.764480",
     "exception": false,
     "start_time": "2024-12-15T20:24:45.210108",
     "status": "completed"
    },
    "tags": []
   },
   "outputs": [
    {
     "name": "stdout",
     "output_type": "stream",
     "text": [
      "-------------------> XGBoost\n",
      "Accuracy: 0.68\n",
      "F1-Score for each class:\n",
      "Positive: 0.62\n",
      "Negative: 0.72\n",
      "\n",
      "Classification Report:\n",
      "              precision    recall  f1-score   support\n",
      "\n",
      "    Positive       0.78      0.51      0.62      2949\n",
      "    Negative       0.63      0.86      0.72      2847\n",
      "\n",
      "    accuracy                           0.68      5796\n",
      "   macro avg       0.71      0.68      0.67      5796\n",
      "weighted avg       0.71      0.68      0.67      5796\n",
      "\n"
     ]
    },
    {
     "data": {
      "image/png": "[encoded data removed]",
      "text/plain": [
       "<Figure size 800x600 with 2 Axes>"
      ]
     },
     "metadata": {},
     "output_type": "display_data"
    }
   ],
   "source": [
    "y_hat = xgb.predict(X_test_tfidf)\n",
    "about_model(\"XGBoost\" , y_test, y_hat) "
   ]
  },
  {
   "cell_type": "markdown",
   "id": "8bd8c726",
   "metadata": {
    "papermill": {
     "duration": 0.015179,
     "end_time": "2024-12-15T20:24:45.795318",
     "exception": false,
     "start_time": "2024-12-15T20:24:45.780139",
     "status": "completed"
    },
    "tags": []
   },
   "source": [
    "### Tuned XGBoost"
   ]
  },
  {
   "cell_type": "code",
   "execution_count": 44,
   "id": "88c4ca29",
   "metadata": {
    "execution": {
     "iopub.execute_input": "2024-12-15T20:24:45.827576Z",
     "iopub.status.busy": "2024-12-15T20:24:45.827184Z",
     "iopub.status.idle": "2024-12-15T21:28:55.512660Z",
     "shell.execute_reply": "2024-12-15T21:28:55.511430Z"
    },
    "papermill": {
     "duration": 3849.72517,
     "end_time": "2024-12-15T21:28:55.535734",
     "exception": false,
     "start_time": "2024-12-15T20:24:45.810564",
     "status": "completed"
    },
    "tags": []
   },
   "outputs": [
    {
     "name": "stdout",
     "output_type": "stream",
     "text": [
      "Fitting 5 folds for each of 54 candidates, totalling 270 fits\n"
     ]
    },
    {
     "data": {
      "text/plain": [
       "{'learning_rate': 0.3, 'max_depth': 10, 'n_estimators': 300, 'subsample': 1.0}"
      ]
     },
     "execution_count": 44,
     "metadata": {},
     "output_type": "execute_result"
    }
   ],
   "source": [
    "#XGBoost\n",
    "param_grid_ = {\n",
    "    'n_estimators': [100, 200, 300],                \n",
    "    'max_depth': [3, 7, 10],                     \n",
    "    'learning_rate': [0.01, 0.1, 0.3],              \n",
    "    'subsample': [0.7, 1.0],                   \n",
    "}\n",
    "\n",
    "xgb_grid = GridSearchCV(\n",
    "    estimator=XGBClassifier(      \n",
    "    ),\n",
    "    param_grid=param_grid_,\n",
    "    cv=5,                         \n",
    "    verbose=1,                    \n",
    "    scoring='accuracy'  , \n",
    "    n_jobs=-1,\n",
    ")\n",
    "\n",
    "xgb_grid.fit(X_train_tfidf, y_train)\n",
    "xgb_grid.best_params_"
   ]
  },
  {
   "cell_type": "code",
   "execution_count": 45,
   "id": "9b47ebeb",
   "metadata": {
    "execution": {
     "iopub.execute_input": "2024-12-15T21:28:55.587303Z",
     "iopub.status.busy": "2024-12-15T21:28:55.586722Z",
     "iopub.status.idle": "2024-12-15T21:28:56.028687Z",
     "shell.execute_reply": "2024-12-15T21:28:56.027697Z"
    },
    "papermill": {
     "duration": 0.472868,
     "end_time": "2024-12-15T21:28:56.030672",
     "exception": false,
     "start_time": "2024-12-15T21:28:55.557804",
     "status": "completed"
    },
    "tags": []
   },
   "outputs": [
    {
     "name": "stdout",
     "output_type": "stream",
     "text": [
      "-------------------> Tuned XGBoost\n",
      "Accuracy: 0.72\n",
      "F1-Score for each class:\n",
      "Positive: 0.70\n",
      "Negative: 0.74\n",
      "\n",
      "Classification Report:\n",
      "              precision    recall  f1-score   support\n",
      "\n",
      "    Positive       0.78      0.63      0.70      2949\n",
      "    Negative       0.68      0.81      0.74      2847\n",
      "\n",
      "    accuracy                           0.72      5796\n",
      "   macro avg       0.73      0.72      0.72      5796\n",
      "weighted avg       0.73      0.72      0.72      5796\n",
      "\n"
     ]
    },
    {
     "data": {
      "image/png": "[encoded data removed]",
      "text/plain": [
       "<Figure size 800x600 with 2 Axes>"
      ]
     },
     "metadata": {},
     "output_type": "display_data"
    }
   ],
   "source": [
    "y_hat = xgb_grid.predict(X_test_tfidf) \n",
    "about_model(\"Tuned XGBoost\" , y_test, y_hat)\n"
   ]
  },
  {
   "cell_type": "markdown",
   "id": "e1f62796",
   "metadata": {
    "papermill": {
     "duration": 0.016024,
     "end_time": "2024-12-15T21:28:56.063234",
     "exception": false,
     "start_time": "2024-12-15T21:28:56.047210",
     "status": "completed"
    },
    "tags": []
   },
   "source": [
    "### Decision Tree"
   ]
  },
  {
   "cell_type": "code",
   "execution_count": 46,
   "id": "12cb332f",
   "metadata": {
    "execution": {
     "iopub.execute_input": "2024-12-15T21:28:56.097454Z",
     "iopub.status.busy": "2024-12-15T21:28:56.097099Z",
     "iopub.status.idle": "2024-12-15T21:29:42.296123Z",
     "shell.execute_reply": "2024-12-15T21:29:42.295048Z"
    },
    "papermill": {
     "duration": 46.235215,
     "end_time": "2024-12-15T21:29:42.314741",
     "exception": false,
     "start_time": "2024-12-15T21:28:56.079526",
     "status": "completed"
    },
    "tags": []
   },
   "outputs": [
    {
     "data": {
      "text/html": [
       "<style>#sk-container-id-3 {color: black;background-color: white;}#sk-container-id-3 pre{padding: 0;}#sk-container-id-3 div.sk-toggleable {background-color: white;}#sk-container-id-3 label.sk-toggleable__label {cursor: pointer;display: block;width: 100%;margin-bottom: 0;padding: 0.3em;box-sizing: border-box;text-align: center;}#sk-container-id-3 label.sk-toggleable__label-arrow:before {content: \"▸\";float: left;margin-right: 0.25em;color: #696969;}#sk-container-id-3 label.sk-toggleable__label-arrow:hover:before {color: black;}#sk-container-id-3 div.sk-estimator:hover label.sk-toggleable__label-arrow:before {color: black;}#sk-container-id-3 div.sk-toggleable__content {max-height: 0;max-width: 0;overflow: hidden;text-align: left;background-color: #f0f8ff;}#sk-container-id-3 div.sk-toggleable__content pre {margin: 0.2em;color: black;border-radius: 0.25em;background-color: #f0f8ff;}#sk-container-id-3 input.sk-toggleable__control:checked~div.sk-toggleable__content {max-height: 200px;max-width: 100%;overflow: auto;}#sk-container-id-3 input.sk-toggleable__control:checked~label.sk-toggleable__label-arrow:before {content: \"▾\";}#sk-container-id-3 div.sk-estimator input.sk-toggleable__control:checked~label.sk-toggleable__label {background-color: #d4ebff;}#sk-container-id-3 div.sk-label input.sk-toggleable__control:checked~label.sk-toggleable__label {background-color: #d4ebff;}#sk-container-id-3 input.sk-hidden--visually {border: 0;clip: rect(1px 1px 1px 1px);clip: rect(1px, 1px, 1px, 1px);height: 1px;margin: -1px;overflow: hidden;padding: 0;position: absolute;width: 1px;}#sk-container-id-3 div.sk-estimator {font-family: monospace;background-color: #f0f8ff;border: 1px dotted black;border-radius: 0.25em;box-sizing: border-box;margin-bottom: 0.5em;}#sk-container-id-3 div.sk-estimator:hover {background-color: #d4ebff;}#sk-container-id-3 div.sk-parallel-item::after {content: \"\";width: 100%;border-bottom: 1px solid gray;flex-grow: 1;}#sk-container-id-3 div.sk-label:hover label.sk-toggleable__label {background-color: #d4ebff;}#sk-container-id-3 div.sk-serial::before {content: \"\";position: absolute;border-left: 1px solid gray;box-sizing: border-box;top: 0;bottom: 0;left: 50%;z-index: 0;}#sk-container-id-3 div.sk-serial {display: flex;flex-direction: column;align-items: center;background-color: white;padding-right: 0.2em;padding-left: 0.2em;position: relative;}#sk-container-id-3 div.sk-item {position: relative;z-index: 1;}#sk-container-id-3 div.sk-parallel {display: flex;align-items: stretch;justify-content: center;background-color: white;position: relative;}#sk-container-id-3 div.sk-item::before, #sk-container-id-3 div.sk-parallel-item::before {content: \"\";position: absolute;border-left: 1px solid gray;box-sizing: border-box;top: 0;bottom: 0;left: 50%;z-index: -1;}#sk-container-id-3 div.sk-parallel-item {display: flex;flex-direction: column;z-index: 1;position: relative;background-color: white;}#sk-container-id-3 div.sk-parallel-item:first-child::after {align-self: flex-end;width: 50%;}#sk-container-id-3 div.sk-parallel-item:last-child::after {align-self: flex-start;width: 50%;}#sk-container-id-3 div.sk-parallel-item:only-child::after {width: 0;}#sk-container-id-3 div.sk-dashed-wrapped {border: 1px dashed gray;margin: 0 0.4em 0.5em 0.4em;box-sizing: border-box;padding-bottom: 0.4em;background-color: white;}#sk-container-id-3 div.sk-label label {font-family: monospace;font-weight: bold;display: inline-block;line-height: 1.2em;}#sk-container-id-3 div.sk-label-container {text-align: center;}#sk-container-id-3 div.sk-container {/* jupyter's `normalize.less` sets `[hidden] { display: none; }` but bootstrap.min.css set `[hidden] { display: none !important; }` so we also need the `!important` here to be able to override the default hidden behavior on the sphinx rendered scikit-learn.org. See: https://github.com/scikit-learn/scikit-learn/issues/21755 */display: inline-block !important;position: relative;}#sk-container-id-3 div.sk-text-repr-fallback {display: none;}</style><div id=\"sk-container-id-3\" class=\"sk-top-container\"><div class=\"sk-text-repr-fallback\"><pre>DecisionTreeClassifier()</pre><b>In a Jupyter environment, please rerun this cell to show the HTML representation or trust the notebook. <br />On GitHub, the HTML representation is unable to render, please try loading this page with nbviewer.org.</b></div><div class=\"sk-container\" hidden><div class=\"sk-item\"><div class=\"sk-estimator sk-toggleable\"><input class=\"sk-toggleable__control sk-hidden--visually\" id=\"sk-estimator-id-3\" type=\"checkbox\" checked><label for=\"sk-estimator-id-3\" class=\"sk-toggleable__label sk-toggleable__label-arrow\">DecisionTreeClassifier</label><div class=\"sk-toggleable__content\"><pre>DecisionTreeClassifier()</pre></div></div></div></div></div>"
      ],
      "text/plain": [
       "DecisionTreeClassifier()"
      ]
     },
     "execution_count": 46,
     "metadata": {},
     "output_type": "execute_result"
    }
   ],
   "source": [
    "from sklearn.tree import DecisionTreeClassifier\n",
    "\n",
    "decision_tress_clf = DecisionTreeClassifier()\n",
    "decision_tress_clf.fit(X_train_tfidf, y_train)"
   ]
  },
  {
   "cell_type": "code",
   "execution_count": 47,
   "id": "79de44d9",
   "metadata": {
    "execution": {
     "iopub.execute_input": "2024-12-15T21:29:42.350666Z",
     "iopub.status.busy": "2024-12-15T21:29:42.350265Z",
     "iopub.status.idle": "2024-12-15T21:29:42.686042Z",
     "shell.execute_reply": "2024-12-15T21:29:42.684905Z"
    },
    "papermill": {
     "duration": 0.356465,
     "end_time": "2024-12-15T21:29:42.688329",
     "exception": false,
     "start_time": "2024-12-15T21:29:42.331864",
     "status": "completed"
    },
    "tags": []
   },
   "outputs": [
    {
     "name": "stdout",
     "output_type": "stream",
     "text": [
      "-------------------> Decision Tree\n",
      "Accuracy: 0.70\n",
      "F1-Score for each class:\n",
      "Positive: 0.67\n",
      "Negative: 0.72\n",
      "\n",
      "Classification Report:\n",
      "              precision    recall  f1-score   support\n",
      "\n",
      "    Positive       0.75      0.60      0.67      2949\n",
      "    Negative       0.66      0.79      0.72      2847\n",
      "\n",
      "    accuracy                           0.70      5796\n",
      "   macro avg       0.70      0.70      0.69      5796\n",
      "weighted avg       0.71      0.70      0.69      5796\n",
      "\n"
     ]
    },
    {
     "data": {
      "image/png": "[encoded data removed]",
      "text/plain": [
       "<Figure size 800x600 with 2 Axes>"
      ]
     },
     "metadata": {},
     "output_type": "display_data"
    }
   ],
   "source": [
    "y_hat = decision_tress_clf.predict(X_test_tfidf) \n",
    "about_model(\"Decision Tree\" , y_test, y_hat)"
   ]
  },
  {
   "cell_type": "markdown",
   "id": "428acb84",
   "metadata": {
    "papermill": {
     "duration": 0.016827,
     "end_time": "2024-12-15T21:29:42.722384",
     "exception": false,
     "start_time": "2024-12-15T21:29:42.705557",
     "status": "completed"
    },
    "tags": []
   },
   "source": [
    "### Tuned Decision Tree"
   ]
  },
  {
   "cell_type": "code",
   "execution_count": 48,
   "id": "38898807",
   "metadata": {
    "execution": {
     "iopub.execute_input": "2024-12-15T21:29:42.758202Z",
     "iopub.status.busy": "2024-12-15T21:29:42.757801Z",
     "iopub.status.idle": "2024-12-15T22:02:59.756822Z",
     "shell.execute_reply": "2024-12-15T22:02:59.755657Z"
    },
    "papermill": {
     "duration": 1997.036737,
     "end_time": "2024-12-15T22:02:59.776143",
     "exception": false,
     "start_time": "2024-12-15T21:29:42.739406",
     "status": "completed"
    },
    "tags": []
   },
   "outputs": [
    {
     "name": "stdout",
     "output_type": "stream",
     "text": [
      "Fitting 5 folds for each of 144 candidates, totalling 720 fits\n"
     ]
    },
    {
     "data": {
      "text/plain": [
       "{'criterion': 'entropy',\n",
       " 'max_depth': None,\n",
       " 'min_samples_leaf': 1,\n",
       " 'min_samples_split': 10,\n",
       " 'splitter': 'random'}"
      ]
     },
     "execution_count": 48,
     "metadata": {},
     "output_type": "execute_result"
    }
   ],
   "source": [
    "param_grid_ = {\n",
    "    'max_depth': [3, 5, 10, None],  \n",
    "    'min_samples_split': [2, 5, 10],  \n",
    "    'min_samples_leaf': [1, 2, 4], \n",
    "    'criterion': ['gini', 'entropy'], \n",
    "    'splitter': ['best', 'random'],  \n",
    "}\n",
    "\n",
    "decision_tress_grid= GridSearchCV(\n",
    "    estimator=DecisionTreeClassifier(),\n",
    "    param_grid=param_grid_,\n",
    "    cv=5, \n",
    "    verbose=1,  \n",
    "    scoring='accuracy' ,\n",
    "    n_jobs=-1\n",
    ")\n",
    "decision_tress_grid.fit(X_train_tfidf, y_train)\n",
    "decision_tress_grid.best_params_\n"
   ]
  },
  {
   "cell_type": "code",
   "execution_count": 49,
   "id": "d5245f90",
   "metadata": {
    "execution": {
     "iopub.execute_input": "2024-12-15T22:02:59.812594Z",
     "iopub.status.busy": "2024-12-15T22:02:59.812215Z",
     "iopub.status.idle": "2024-12-15T22:03:00.141495Z",
     "shell.execute_reply": "2024-12-15T22:03:00.140450Z"
    },
    "papermill": {
     "duration": 0.35059,
     "end_time": "2024-12-15T22:03:00.143772",
     "exception": false,
     "start_time": "2024-12-15T22:02:59.793182",
     "status": "completed"
    },
    "tags": []
   },
   "outputs": [
    {
     "name": "stdout",
     "output_type": "stream",
     "text": [
      "-------------------> Tuned Decision Tree\n",
      "Accuracy: 0.71\n",
      "F1-Score for each class:\n",
      "Positive: 0.68\n",
      "Negative: 0.72\n",
      "\n",
      "Classification Report:\n",
      "              precision    recall  f1-score   support\n",
      "\n",
      "    Positive       0.75      0.63      0.68      2949\n",
      "    Negative       0.67      0.79      0.72      2847\n",
      "\n",
      "    accuracy                           0.71      5796\n",
      "   macro avg       0.71      0.71      0.70      5796\n",
      "weighted avg       0.71      0.71      0.70      5796\n",
      "\n"
     ]
    },
    {
     "data": {
      "image/png": "[encoded data removed]",
      "text/plain": [
       "<Figure size 800x600 with 2 Axes>"
      ]
     },
     "metadata": {},
     "output_type": "display_data"
    }
   ],
   "source": [
    "y_hat = decision_tress_grid.predict(X_test_tfidf)\n",
    "about_model(\"Tuned Decision Tree\" , y_test, y_hat)"
   ]
  },
  {
   "cell_type": "markdown",
   "id": "0b048869",
   "metadata": {
    "papermill": {
     "duration": 0.017424,
     "end_time": "2024-12-15T22:03:00.179266",
     "exception": false,
     "start_time": "2024-12-15T22:03:00.161842",
     "status": "completed"
    },
    "tags": []
   },
   "source": [
    "Multinomial Naive Bayes"
   ]
  },
  {
   "cell_type": "code",
   "execution_count": 50,
   "id": "c2e1c48e",
   "metadata": {
    "execution": {
     "iopub.execute_input": "2024-12-15T22:03:00.218112Z",
     "iopub.status.busy": "2024-12-15T22:03:00.217698Z",
     "iopub.status.idle": "2024-12-15T22:03:00.245763Z",
     "shell.execute_reply": "2024-12-15T22:03:00.244811Z"
    },
    "papermill": {
     "duration": 0.050728,
     "end_time": "2024-12-15T22:03:00.247874",
     "exception": false,
     "start_time": "2024-12-15T22:03:00.197146",
     "status": "completed"
    },
    "tags": []
   },
   "outputs": [
    {
     "data": {
      "text/html": [
       "<style>#sk-container-id-4 {color: black;background-color: white;}#sk-container-id-4 pre{padding: 0;}#sk-container-id-4 div.sk-toggleable {background-color: white;}#sk-container-id-4 label.sk-toggleable__label {cursor: pointer;display: block;width: 100%;margin-bottom: 0;padding: 0.3em;box-sizing: border-box;text-align: center;}#sk-container-id-4 label.sk-toggleable__label-arrow:before {content: \"▸\";float: left;margin-right: 0.25em;color: #696969;}#sk-container-id-4 label.sk-toggleable__label-arrow:hover:before {color: black;}#sk-container-id-4 div.sk-estimator:hover label.sk-toggleable__label-arrow:before {color: black;}#sk-container-id-4 div.sk-toggleable__content {max-height: 0;max-width: 0;overflow: hidden;text-align: left;background-color: #f0f8ff;}#sk-container-id-4 div.sk-toggleable__content pre {margin: 0.2em;color: black;border-radius: 0.25em;background-color: #f0f8ff;}#sk-container-id-4 input.sk-toggleable__control:checked~div.sk-toggleable__content {max-height: 200px;max-width: 100%;overflow: auto;}#sk-container-id-4 input.sk-toggleable__control:checked~label.sk-toggleable__label-arrow:before {content: \"▾\";}#sk-container-id-4 div.sk-estimator input.sk-toggleable__control:checked~label.sk-toggleable__label {background-color: #d4ebff;}#sk-container-id-4 div.sk-label input.sk-toggleable__control:checked~label.sk-toggleable__label {background-color: #d4ebff;}#sk-container-id-4 input.sk-hidden--visually {border: 0;clip: rect(1px 1px 1px 1px);clip: rect(1px, 1px, 1px, 1px);height: 1px;margin: -1px;overflow: hidden;padding: 0;position: absolute;width: 1px;}#sk-container-id-4 div.sk-estimator {font-family: monospace;background-color: #f0f8ff;border: 1px dotted black;border-radius: 0.25em;box-sizing: border-box;margin-bottom: 0.5em;}#sk-container-id-4 div.sk-estimator:hover {background-color: #d4ebff;}#sk-container-id-4 div.sk-parallel-item::after {content: \"\";width: 100%;border-bottom: 1px solid gray;flex-grow: 1;}#sk-container-id-4 div.sk-label:hover label.sk-toggleable__label {background-color: #d4ebff;}#sk-container-id-4 div.sk-serial::before {content: \"\";position: absolute;border-left: 1px solid gray;box-sizing: border-box;top: 0;bottom: 0;left: 50%;z-index: 0;}#sk-container-id-4 div.sk-serial {display: flex;flex-direction: column;align-items: center;background-color: white;padding-right: 0.2em;padding-left: 0.2em;position: relative;}#sk-container-id-4 div.sk-item {position: relative;z-index: 1;}#sk-container-id-4 div.sk-parallel {display: flex;align-items: stretch;justify-content: center;background-color: white;position: relative;}#sk-container-id-4 div.sk-item::before, #sk-container-id-4 div.sk-parallel-item::before {content: \"\";position: absolute;border-left: 1px solid gray;box-sizing: border-box;top: 0;bottom: 0;left: 50%;z-index: -1;}#sk-container-id-4 div.sk-parallel-item {display: flex;flex-direction: column;z-index: 1;position: relative;background-color: white;}#sk-container-id-4 div.sk-parallel-item:first-child::after {align-self: flex-end;width: 50%;}#sk-container-id-4 div.sk-parallel-item:last-child::after {align-self: flex-start;width: 50%;}#sk-container-id-4 div.sk-parallel-item:only-child::after {width: 0;}#sk-container-id-4 div.sk-dashed-wrapped {border: 1px dashed gray;margin: 0 0.4em 0.5em 0.4em;box-sizing: border-box;padding-bottom: 0.4em;background-color: white;}#sk-container-id-4 div.sk-label label {font-family: monospace;font-weight: bold;display: inline-block;line-height: 1.2em;}#sk-container-id-4 div.sk-label-container {text-align: center;}#sk-container-id-4 div.sk-container {/* jupyter's `normalize.less` sets `[hidden] { display: none; }` but bootstrap.min.css set `[hidden] { display: none !important; }` so we also need the `!important` here to be able to override the default hidden behavior on the sphinx rendered scikit-learn.org. See: https://github.com/scikit-learn/scikit-learn/issues/21755 */display: inline-block !important;position: relative;}#sk-container-id-4 div.sk-text-repr-fallback {display: none;}</style><div id=\"sk-container-id-4\" class=\"sk-top-container\"><div class=\"sk-text-repr-fallback\"><pre>MultinomialNB()</pre><b>In a Jupyter environment, please rerun this cell to show the HTML representation or trust the notebook. <br />On GitHub, the HTML representation is unable to render, please try loading this page with nbviewer.org.</b></div><div class=\"sk-container\" hidden><div class=\"sk-item\"><div class=\"sk-estimator sk-toggleable\"><input class=\"sk-toggleable__control sk-hidden--visually\" id=\"sk-estimator-id-4\" type=\"checkbox\" checked><label for=\"sk-estimator-id-4\" class=\"sk-toggleable__label sk-toggleable__label-arrow\">MultinomialNB</label><div class=\"sk-toggleable__content\"><pre>MultinomialNB()</pre></div></div></div></div></div>"
      ],
      "text/plain": [
       "MultinomialNB()"
      ]
     },
     "execution_count": 50,
     "metadata": {},
     "output_type": "execute_result"
    }
   ],
   "source": [
    "from sklearn.naive_bayes import MultinomialNB\n",
    "multinomial_clf = MultinomialNB()\n",
    "multinomial_clf.fit(X_train_tfidf, y_train)"
   ]
  },
  {
   "cell_type": "code",
   "execution_count": 51,
   "id": "4c685c0c",
   "metadata": {
    "execution": {
     "iopub.execute_input": "2024-12-15T22:03:00.285862Z",
     "iopub.status.busy": "2024-12-15T22:03:00.285415Z",
     "iopub.status.idle": "2024-12-15T22:03:00.580236Z",
     "shell.execute_reply": "2024-12-15T22:03:00.579367Z"
    },
    "papermill": {
     "duration": 0.316533,
     "end_time": "2024-12-15T22:03:00.582530",
     "exception": false,
     "start_time": "2024-12-15T22:03:00.265997",
     "status": "completed"
    },
    "tags": []
   },
   "outputs": [
    {
     "name": "stdout",
     "output_type": "stream",
     "text": [
      "-------------------> Multinomial Naive Bayes\n",
      "Accuracy: 0.75\n",
      "F1-Score for each class:\n",
      "Positive: 0.77\n",
      "Negative: 0.72\n",
      "\n",
      "Classification Report:\n",
      "              precision    recall  f1-score   support\n",
      "\n",
      "    Positive       0.71      0.84      0.77      2949\n",
      "    Negative       0.79      0.65      0.72      2847\n",
      "\n",
      "    accuracy                           0.75      5796\n",
      "   macro avg       0.75      0.74      0.74      5796\n",
      "weighted avg       0.75      0.75      0.74      5796\n",
      "\n"
     ]
    },
    {
     "data": {
      "image/png": "[encoded data removed]",
      "text/plain": [
       "<Figure size 800x600 with 2 Axes>"
      ]
     },
     "metadata": {},
     "output_type": "display_data"
    }
   ],
   "source": [
    "y_hat = multinomial_clf.predict(X_test_tfidf) \n",
    "about_model(\"Multinomial Naive Bayes\" , y_test, y_hat)"
   ]
  },
  {
   "cell_type": "markdown",
   "id": "33be8e81",
   "metadata": {
    "papermill": {
     "duration": 0.018697,
     "end_time": "2024-12-15T22:03:00.676266",
     "exception": false,
     "start_time": "2024-12-15T22:03:00.657569",
     "status": "completed"
    },
    "tags": []
   },
   "source": [
    "### Tuned Multinomial Naive Bayes"
   ]
  },
  {
   "cell_type": "code",
   "execution_count": 52,
   "id": "26bf2e2d",
   "metadata": {
    "execution": {
     "iopub.execute_input": "2024-12-15T22:03:00.715076Z",
     "iopub.status.busy": "2024-12-15T22:03:00.714666Z",
     "iopub.status.idle": "2024-12-15T22:03:01.069719Z",
     "shell.execute_reply": "2024-12-15T22:03:01.068619Z"
    },
    "papermill": {
     "duration": 0.376858,
     "end_time": "2024-12-15T22:03:01.071634",
     "exception": false,
     "start_time": "2024-12-15T22:03:00.694776",
     "status": "completed"
    },
    "tags": []
   },
   "outputs": [
    {
     "name": "stdout",
     "output_type": "stream",
     "text": [
      "Fitting 5 folds for each of 8 candidates, totalling 40 fits\n"
     ]
    },
    {
     "data": {
      "text/plain": [
       "{'alpha': 2.0, 'fit_prior': False}"
      ]
     },
     "execution_count": 52,
     "metadata": {},
     "output_type": "execute_result"
    }
   ],
   "source": [
    "param_grid_ = {\n",
    "    'alpha': [0.1, 0.5, 1.0, 2.0],  \n",
    "    'fit_prior': [True, False] \n",
    "}\n",
    "\n",
    "mn_grid = GridSearchCV(MultinomialNB(), \n",
    "                       param_grid= param_grid_, \n",
    "                       cv=5, verbose=1 , \n",
    "                       scoring='accuracy',\n",
    "                       n_jobs=-1,\n",
    "                      )\n",
    "mn_grid.fit(X_train_tfidf, y_train)\n",
    "mn_grid.best_params_"
   ]
  },
  {
   "cell_type": "code",
   "execution_count": 53,
   "id": "f79c180e",
   "metadata": {
    "execution": {
     "iopub.execute_input": "2024-12-15T22:03:01.112153Z",
     "iopub.status.busy": "2024-12-15T22:03:01.111684Z",
     "iopub.status.idle": "2024-12-15T22:03:01.403190Z",
     "shell.execute_reply": "2024-12-15T22:03:01.402193Z"
    },
    "papermill": {
     "duration": 0.314316,
     "end_time": "2024-12-15T22:03:01.405160",
     "exception": false,
     "start_time": "2024-12-15T22:03:01.090844",
     "status": "completed"
    },
    "tags": []
   },
   "outputs": [
    {
     "name": "stdout",
     "output_type": "stream",
     "text": [
      "-------------------> Tuned Multinomial Naive Bayes\n",
      "Accuracy: 0.75\n",
      "F1-Score for each class:\n",
      "Positive: 0.77\n",
      "Negative: 0.72\n",
      "\n",
      "Classification Report:\n",
      "              precision    recall  f1-score   support\n",
      "\n",
      "    Positive       0.71      0.84      0.77      2949\n",
      "    Negative       0.80      0.65      0.72      2847\n",
      "\n",
      "    accuracy                           0.75      5796\n",
      "   macro avg       0.76      0.75      0.75      5796\n",
      "weighted avg       0.76      0.75      0.75      5796\n",
      "\n"
     ]
    },
    {
     "data": {
      "image/png": "[encoded data removed]",
      "text/plain": [
       "<Figure size 800x600 with 2 Axes>"
      ]
     },
     "metadata": {},
     "output_type": "display_data"
    }
   ],
   "source": [
    "y_hat = mn_grid.predict(X_test_tfidf)\n",
    "about_model(\"Tuned Multinomial Naive Bayes\" ,y_test, y_hat)\n"
   ]
  },
  {
   "cell_type": "markdown",
   "id": "cb5a3e52",
   "metadata": {
    "execution": {
     "iopub.execute_input": "2024-12-09T15:57:38.274442Z",
     "iopub.status.busy": "2024-12-09T15:57:38.273474Z",
     "iopub.status.idle": "2024-12-09T15:57:38.294546Z",
     "shell.execute_reply": "2024-12-09T15:57:38.293367Z",
     "shell.execute_reply.started": "2024-12-09T15:57:38.274389Z"
    },
    "papermill": {
     "duration": 0.019371,
     "end_time": "2024-12-15T22:03:01.444218",
     "exception": false,
     "start_time": "2024-12-15T22:03:01.424847",
     "status": "completed"
    },
    "tags": []
   },
   "source": [
    "### Lightgbm"
   ]
  },
  {
   "cell_type": "code",
   "execution_count": 54,
   "id": "3fcdcd2c",
   "metadata": {
    "execution": {
     "iopub.execute_input": "2024-12-15T22:03:01.485088Z",
     "iopub.status.busy": "2024-12-15T22:03:01.484687Z",
     "iopub.status.idle": "2024-12-15T22:03:05.556478Z",
     "shell.execute_reply": "2024-12-15T22:03:05.554998Z"
    },
    "papermill": {
     "duration": 4.095974,
     "end_time": "2024-12-15T22:03:05.559576",
     "exception": false,
     "start_time": "2024-12-15T22:03:01.463602",
     "status": "completed"
    },
    "tags": []
   },
   "outputs": [],
   "source": [
    "import lightgbm as lgb\n",
    "\n",
    "X_train_tfidf = X_train_tfidf.astype(np.float32)\n",
    "X_test_tfidf = X_test_tfidf.astype(np.float32)\n",
    "\n",
    "d_train = lgb.Dataset(X_train_tfidf, label=y_train)\n",
    "d_test = lgb.Dataset(X_test_tfidf, label=y_test, reference=d_train)\n",
    "\n",
    "params = {\n",
    "    'objective': 'binary',  \n",
    "    'boosting_type': 'gbdt',\n",
    "    'metric': 'binary_logloss', \n",
    "    'num_leaves': 31,\n",
    "    'learning_rate': 0.1,\n",
    "    'verbose': 0\n",
    "}\n",
    "\n",
    "model = lgb.train(params, d_train, num_boost_round=100, valid_sets=[d_train, d_test])"
   ]
  },
  {
   "cell_type": "code",
   "execution_count": 55,
   "id": "e25f0c95",
   "metadata": {
    "execution": {
     "iopub.execute_input": "2024-12-15T22:03:05.620634Z",
     "iopub.status.busy": "2024-12-15T22:03:05.619458Z",
     "iopub.status.idle": "2024-12-15T22:03:05.986648Z",
     "shell.execute_reply": "2024-12-15T22:03:05.985492Z"
    },
    "papermill": {
     "duration": 0.396013,
     "end_time": "2024-12-15T22:03:05.989169",
     "exception": false,
     "start_time": "2024-12-15T22:03:05.593156",
     "status": "completed"
    },
    "tags": []
   },
   "outputs": [
    {
     "name": "stdout",
     "output_type": "stream",
     "text": [
      "-------------------> lightgbm\n",
      "Accuracy: 0.68\n",
      "F1-Score for each class:\n",
      "Positive: 0.64\n",
      "Negative: 0.71\n",
      "\n",
      "Classification Report:\n",
      "              precision    recall  f1-score   support\n",
      "\n",
      "    Positive       0.75      0.56      0.64      2949\n",
      "    Negative       0.64      0.81      0.71      2847\n",
      "\n",
      "    accuracy                           0.68      5796\n",
      "   macro avg       0.69      0.68      0.67      5796\n",
      "weighted avg       0.69      0.68      0.67      5796\n",
      "\n"
     ]
    },
    {
     "data": {
      "image/png": "[encoded data removed]",
      "text/plain": [
       "<Figure size 800x600 with 2 Axes>"
      ]
     },
     "metadata": {},
     "output_type": "display_data"
    }
   ],
   "source": [
    "y_hat = model.predict(X_test_tfidf)\n",
    "y_hat = (y_hat > 0.5).astype(int)\n",
    "about_model(\"lightgbm\", y_test, y_hat)\n"
   ]
  },
  {
   "cell_type": "markdown",
   "id": "d97e0835",
   "metadata": {
    "papermill": {
     "duration": 0.020366,
     "end_time": "2024-12-15T22:03:06.030845",
     "exception": false,
     "start_time": "2024-12-15T22:03:06.010479",
     "status": "completed"
    },
    "tags": []
   },
   "source": [
    "### Tuned lightgbm"
   ]
  },
  {
   "cell_type": "code",
   "execution_count": 56,
   "id": "21a69be3",
   "metadata": {
    "execution": {
     "iopub.execute_input": "2024-12-15T22:03:06.075112Z",
     "iopub.status.busy": "2024-12-15T22:03:06.074061Z",
     "iopub.status.idle": "2024-12-15T22:06:48.208118Z",
     "shell.execute_reply": "2024-12-15T22:06:48.207048Z"
    },
    "papermill": {
     "duration": 222.158603,
     "end_time": "2024-12-15T22:06:48.210338",
     "exception": false,
     "start_time": "2024-12-15T22:03:06.051735",
     "status": "completed"
    },
    "tags": []
   },
   "outputs": [
    {
     "name": "stdout",
     "output_type": "stream",
     "text": [
      "[LightGBM] [Info] Number of positive: 9111, number of negative: 9434\n",
      "[LightGBM] [Info] Auto-choosing row-wise multi-threading, the overhead of testing was 0.051875 seconds.\n",
      "You can set `force_row_wise=true` to remove the overhead.\n",
      "And if memory is not enough, you can set `force_col_wise=true`.\n",
      "[LightGBM] [Info] Total Bins 944\n",
      "[LightGBM] [Info] Number of data points in the train set: 18545, number of used features: 472\n",
      "[LightGBM] [Info] [binary:BoostFromScore]: pavg=0.491291 -> initscore=-0.034838\n",
      "[LightGBM] [Info] Start training from score -0.034838\n",
      "[LightGBM] [Info] Number of positive: 9111, number of negative: 9434\n",
      "[LightGBM] [Info] Auto-choosing row-wise multi-threading, the overhead of testing was 0.052623 seconds.\n",
      "You can set `force_row_wise=true` to remove the overhead.\n",
      "And if memory is not enough, you can set `force_col_wise=true`.\n",
      "[LightGBM] [Info] Total Bins 940\n",
      "[LightGBM] [Info] Number of data points in the train set: 18545, number of used features: 470\n",
      "[LightGBM] [Info] [binary:BoostFromScore]: pavg=0.491291 -> initscore=-0.034838\n",
      "[LightGBM] [Info] Start training from score -0.034838\n",
      "[LightGBM] [Info] Number of positive: 9112, number of negative: 9434\n",
      "[LightGBM] [Info] Auto-choosing row-wise multi-threading, the overhead of testing was 0.052021 seconds.\n",
      "You can set `force_row_wise=true` to remove the overhead.\n",
      "And if memory is not enough, you can set `force_col_wise=true`.\n",
      "[LightGBM] [Info] Total Bins 940\n",
      "[LightGBM] [Info] Number of data points in the train set: 18546, number of used features: 470\n",
      "[LightGBM] [Info] [binary:BoostFromScore]: pavg=0.491319 -> initscore=-0.034728\n",
      "[LightGBM] [Info] Start training from score -0.034728\n",
      "[LightGBM] [Info] Number of positive: 9111, number of negative: 9435\n",
      "[LightGBM] [Info] Auto-choosing row-wise multi-threading, the overhead of testing was 0.052917 seconds.\n",
      "You can set `force_row_wise=true` to remove the overhead.\n",
      "And if memory is not enough, you can set `force_col_wise=true`.\n",
      "[LightGBM] [Info] Total Bins 950\n",
      "[LightGBM] [Info] Number of data points in the train set: 18546, number of used features: 475\n",
      "[LightGBM] [Info] [binary:BoostFromScore]: pavg=0.491265 -> initscore=-0.034944\n",
      "[LightGBM] [Info] Start training from score -0.034944\n",
      "[LightGBM] [Info] Number of positive: 9111, number of negative: 9435\n",
      "[LightGBM] [Info] Auto-choosing row-wise multi-threading, the overhead of testing was 0.050798 seconds.\n",
      "You can set `force_row_wise=true` to remove the overhead.\n",
      "And if memory is not enough, you can set `force_col_wise=true`.\n",
      "[LightGBM] [Info] Total Bins 918\n",
      "[LightGBM] [Info] Number of data points in the train set: 18546, number of used features: 459\n",
      "[LightGBM] [Info] [binary:BoostFromScore]: pavg=0.491265 -> initscore=-0.034944\n",
      "[LightGBM] [Info] Start training from score -0.034944\n",
      "[LightGBM] [Info] Number of positive: 9111, number of negative: 9434\n",
      "[LightGBM] [Info] Auto-choosing row-wise multi-threading, the overhead of testing was 0.054708 seconds.\n",
      "You can set `force_row_wise=true` to remove the overhead.\n",
      "And if memory is not enough, you can set `force_col_wise=true`.\n",
      "[LightGBM] [Info] Total Bins 944\n",
      "[LightGBM] [Info] Number of data points in the train set: 18545, number of used features: 472\n",
      "[LightGBM] [Info] [binary:BoostFromScore]: pavg=0.491291 -> initscore=-0.034838\n",
      "[LightGBM] [Info] Start training from score -0.034838\n",
      "[LightGBM] [Info] Number of positive: 9111, number of negative: 9434\n",
      "[LightGBM] [Info] Auto-choosing row-wise multi-threading, the overhead of testing was 0.053176 seconds.\n",
      "You can set `force_row_wise=true` to remove the overhead.\n",
      "And if memory is not enough, you can set `force_col_wise=true`.\n",
      "[LightGBM] [Info] Total Bins 940\n",
      "[LightGBM] [Info] Number of data points in the train set: 18545, number of used features: 470\n",
      "[LightGBM] [Info] [binary:BoostFromScore]: pavg=0.491291 -> initscore=-0.034838\n",
      "[LightGBM] [Info] Start training from score -0.034838\n",
      "[LightGBM] [Info] Number of positive: 9112, number of negative: 9434\n",
      "[LightGBM] [Info] Auto-choosing row-wise multi-threading, the overhead of testing was 0.051767 seconds.\n",
      "You can set `force_row_wise=true` to remove the overhead.\n",
      "And if memory is not enough, you can set `force_col_wise=true`.\n",
      "[LightGBM] [Info] Total Bins 940\n",
      "[LightGBM] [Info] Number of data points in the train set: 18546, number of used features: 470\n",
      "[LightGBM] [Info] [binary:BoostFromScore]: pavg=0.491319 -> initscore=-0.034728\n",
      "[LightGBM] [Info] Start training from score -0.034728\n",
      "[LightGBM] [Info] Number of positive: 9111, number of negative: 9435\n",
      "[LightGBM] [Info] Auto-choosing row-wise multi-threading, the overhead of testing was 0.055110 seconds.\n",
      "You can set `force_row_wise=true` to remove the overhead.\n",
      "And if memory is not enough, you can set `force_col_wise=true`.\n",
      "[LightGBM] [Info] Total Bins 950\n",
      "[LightGBM] [Info] Number of data points in the train set: 18546, number of used features: 475\n",
      "[LightGBM] [Info] [binary:BoostFromScore]: pavg=0.491265 -> initscore=-0.034944\n",
      "[LightGBM] [Info] Start training from score -0.034944\n",
      "[LightGBM] [Info] Number of positive: 9111, number of negative: 9435\n",
      "[LightGBM] [Info] Auto-choosing row-wise multi-threading, the overhead of testing was 0.051281 seconds.\n",
      "You can set `force_row_wise=true` to remove the overhead.\n",
      "And if memory is not enough, you can set `force_col_wise=true`.\n",
      "[LightGBM] [Info] Total Bins 918\n",
      "[LightGBM] [Info] Number of data points in the train set: 18546, number of used features: 459\n",
      "[LightGBM] [Info] [binary:BoostFromScore]: pavg=0.491265 -> initscore=-0.034944\n",
      "[LightGBM] [Info] Start training from score -0.034944\n",
      "[LightGBM] [Info] Number of positive: 9111, number of negative: 9434\n",
      "[LightGBM] [Info] Auto-choosing row-wise multi-threading, the overhead of testing was 0.052593 seconds.\n",
      "You can set `force_row_wise=true` to remove the overhead.\n",
      "And if memory is not enough, you can set `force_col_wise=true`.\n",
      "[LightGBM] [Info] Total Bins 944\n",
      "[LightGBM] [Info] Number of data points in the train set: 18545, number of used features: 472\n",
      "[LightGBM] [Info] [binary:BoostFromScore]: pavg=0.491291 -> initscore=-0.034838\n",
      "[LightGBM] [Info] Start training from score -0.034838\n",
      "[LightGBM] [Info] Number of positive: 9111, number of negative: 9434\n",
      "[LightGBM] [Info] Auto-choosing row-wise multi-threading, the overhead of testing was 0.051825 seconds.\n",
      "You can set `force_row_wise=true` to remove the overhead.\n",
      "And if memory is not enough, you can set `force_col_wise=true`.\n",
      "[LightGBM] [Info] Total Bins 940\n",
      "[LightGBM] [Info] Number of data points in the train set: 18545, number of used features: 470\n",
      "[LightGBM] [Info] [binary:BoostFromScore]: pavg=0.491291 -> initscore=-0.034838\n",
      "[LightGBM] [Info] Start training from score -0.034838\n",
      "[LightGBM] [Info] Number of positive: 9112, number of negative: 9434\n",
      "[LightGBM] [Info] Auto-choosing row-wise multi-threading, the overhead of testing was 0.052570 seconds.\n",
      "You can set `force_row_wise=true` to remove the overhead.\n",
      "And if memory is not enough, you can set `force_col_wise=true`.\n",
      "[LightGBM] [Info] Total Bins 940\n",
      "[LightGBM] [Info] Number of data points in the train set: 18546, number of used features: 470\n",
      "[LightGBM] [Info] [binary:BoostFromScore]: pavg=0.491319 -> initscore=-0.034728\n",
      "[LightGBM] [Info] Start training from score -0.034728\n",
      "[LightGBM] [Info] Number of positive: 9111, number of negative: 9435\n",
      "[LightGBM] [Info] Auto-choosing row-wise multi-threading, the overhead of testing was 0.052404 seconds.\n",
      "You can set `force_row_wise=true` to remove the overhead.\n",
      "And if memory is not enough, you can set `force_col_wise=true`.\n",
      "[LightGBM] [Info] Total Bins 950\n",
      "[LightGBM] [Info] Number of data points in the train set: 18546, number of used features: 475\n",
      "[LightGBM] [Info] [binary:BoostFromScore]: pavg=0.491265 -> initscore=-0.034944\n",
      "[LightGBM] [Info] Start training from score -0.034944\n",
      "[LightGBM] [Info] Number of positive: 9111, number of negative: 9435\n",
      "[LightGBM] [Info] Auto-choosing row-wise multi-threading, the overhead of testing was 0.051205 seconds.\n",
      "You can set `force_row_wise=true` to remove the overhead.\n",
      "And if memory is not enough, you can set `force_col_wise=true`.\n",
      "[LightGBM] [Info] Total Bins 918\n",
      "[LightGBM] [Info] Number of data points in the train set: 18546, number of used features: 459\n",
      "[LightGBM] [Info] [binary:BoostFromScore]: pavg=0.491265 -> initscore=-0.034944\n",
      "[LightGBM] [Info] Start training from score -0.034944\n",
      "[LightGBM] [Info] Number of positive: 9111, number of negative: 9434\n",
      "[LightGBM] [Info] Auto-choosing col-wise multi-threading, the overhead of testing was 0.051834 seconds.\n",
      "You can set `force_col_wise=true` to remove the overhead.\n",
      "[LightGBM] [Info] Total Bins 944\n",
      "[LightGBM] [Info] Number of data points in the train set: 18545, number of used features: 472\n",
      "[LightGBM] [Info] [binary:BoostFromScore]: pavg=0.491291 -> initscore=-0.034838\n",
      "[LightGBM] [Info] Start training from score -0.034838\n",
      "[LightGBM] [Info] Number of positive: 9111, number of negative: 9434\n",
      "[LightGBM] [Info] Auto-choosing row-wise multi-threading, the overhead of testing was 0.057862 seconds.\n",
      "You can set `force_row_wise=true` to remove the overhead.\n",
      "And if memory is not enough, you can set `force_col_wise=true`.\n",
      "[LightGBM] [Info] Total Bins 940\n",
      "[LightGBM] [Info] Number of data points in the train set: 18545, number of used features: 470\n",
      "[LightGBM] [Info] [binary:BoostFromScore]: pavg=0.491291 -> initscore=-0.034838\n",
      "[LightGBM] [Info] Start training from score -0.034838\n",
      "[LightGBM] [Info] Number of positive: 9112, number of negative: 9434\n",
      "[LightGBM] [Info] Auto-choosing row-wise multi-threading, the overhead of testing was 0.052020 seconds.\n",
      "You can set `force_row_wise=true` to remove the overhead.\n",
      "And if memory is not enough, you can set `force_col_wise=true`.\n",
      "[LightGBM] [Info] Total Bins 940\n",
      "[LightGBM] [Info] Number of data points in the train set: 18546, number of used features: 470\n",
      "[LightGBM] [Info] [binary:BoostFromScore]: pavg=0.491319 -> initscore=-0.034728\n",
      "[LightGBM] [Info] Start training from score -0.034728\n",
      "[LightGBM] [Info] Number of positive: 9111, number of negative: 9435\n",
      "[LightGBM] [Info] Auto-choosing row-wise multi-threading, the overhead of testing was 0.053316 seconds.\n",
      "You can set `force_row_wise=true` to remove the overhead.\n",
      "And if memory is not enough, you can set `force_col_wise=true`.\n",
      "[LightGBM] [Info] Total Bins 950\n",
      "[LightGBM] [Info] Number of data points in the train set: 18546, number of used features: 475\n",
      "[LightGBM] [Info] [binary:BoostFromScore]: pavg=0.491265 -> initscore=-0.034944\n",
      "[LightGBM] [Info] Start training from score -0.034944\n",
      "[LightGBM] [Info] Number of positive: 9111, number of negative: 9435\n",
      "[LightGBM] [Info] Auto-choosing row-wise multi-threading, the overhead of testing was 0.050431 seconds.\n",
      "You can set `force_row_wise=true` to remove the overhead.\n",
      "And if memory is not enough, you can set `force_col_wise=true`.\n",
      "[LightGBM] [Info] Total Bins 918\n",
      "[LightGBM] [Info] Number of data points in the train set: 18546, number of used features: 459\n",
      "[LightGBM] [Info] [binary:BoostFromScore]: pavg=0.491265 -> initscore=-0.034944\n",
      "[LightGBM] [Info] Start training from score -0.034944\n",
      "[LightGBM] [Info] Number of positive: 9111, number of negative: 9434\n",
      "[LightGBM] [Info] Auto-choosing row-wise multi-threading, the overhead of testing was 0.052986 seconds.\n",
      "You can set `force_row_wise=true` to remove the overhead.\n",
      "And if memory is not enough, you can set `force_col_wise=true`.\n",
      "[LightGBM] [Info] Total Bins 944\n",
      "[LightGBM] [Info] Number of data points in the train set: 18545, number of used features: 472\n",
      "[LightGBM] [Info] [binary:BoostFromScore]: pavg=0.491291 -> initscore=-0.034838\n",
      "[LightGBM] [Info] Start training from score -0.034838\n",
      "[LightGBM] [Info] Number of positive: 9111, number of negative: 9434\n",
      "[LightGBM] [Info] Auto-choosing row-wise multi-threading, the overhead of testing was 0.052188 seconds.\n",
      "You can set `force_row_wise=true` to remove the overhead.\n",
      "And if memory is not enough, you can set `force_col_wise=true`.\n",
      "[LightGBM] [Info] Total Bins 940\n",
      "[LightGBM] [Info] Number of data points in the train set: 18545, number of used features: 470\n",
      "[LightGBM] [Info] [binary:BoostFromScore]: pavg=0.491291 -> initscore=-0.034838\n",
      "[LightGBM] [Info] Start training from score -0.034838\n",
      "[LightGBM] [Info] Number of positive: 9112, number of negative: 9434\n",
      "[LightGBM] [Info] Auto-choosing row-wise multi-threading, the overhead of testing was 0.051891 seconds.\n",
      "You can set `force_row_wise=true` to remove the overhead.\n",
      "And if memory is not enough, you can set `force_col_wise=true`.\n",
      "[LightGBM] [Info] Total Bins 940\n",
      "[LightGBM] [Info] Number of data points in the train set: 18546, number of used features: 470\n",
      "[LightGBM] [Info] [binary:BoostFromScore]: pavg=0.491319 -> initscore=-0.034728\n",
      "[LightGBM] [Info] Start training from score -0.034728\n",
      "[LightGBM] [Info] Number of positive: 9111, number of negative: 9435\n",
      "[LightGBM] [Info] Auto-choosing row-wise multi-threading, the overhead of testing was 0.053991 seconds.\n",
      "You can set `force_row_wise=true` to remove the overhead.\n",
      "And if memory is not enough, you can set `force_col_wise=true`.\n",
      "[LightGBM] [Info] Total Bins 950\n",
      "[LightGBM] [Info] Number of data points in the train set: 18546, number of used features: 475\n",
      "[LightGBM] [Info] [binary:BoostFromScore]: pavg=0.491265 -> initscore=-0.034944\n",
      "[LightGBM] [Info] Start training from score -0.034944\n",
      "[LightGBM] [Info] Number of positive: 9111, number of negative: 9435\n",
      "[LightGBM] [Info] Auto-choosing row-wise multi-threading, the overhead of testing was 0.052092 seconds.\n",
      "You can set `force_row_wise=true` to remove the overhead.\n",
      "And if memory is not enough, you can set `force_col_wise=true`.\n",
      "[LightGBM] [Info] Total Bins 918\n",
      "[LightGBM] [Info] Number of data points in the train set: 18546, number of used features: 459\n",
      "[LightGBM] [Info] [binary:BoostFromScore]: pavg=0.491265 -> initscore=-0.034944\n",
      "[LightGBM] [Info] Start training from score -0.034944\n",
      "[LightGBM] [Info] Number of positive: 9111, number of negative: 9434\n",
      "[LightGBM] [Info] Auto-choosing row-wise multi-threading, the overhead of testing was 0.052225 seconds.\n",
      "You can set `force_row_wise=true` to remove the overhead.\n",
      "And if memory is not enough, you can set `force_col_wise=true`.\n",
      "[LightGBM] [Info] Total Bins 944\n",
      "[LightGBM] [Info] Number of data points in the train set: 18545, number of used features: 472\n",
      "[LightGBM] [Info] [binary:BoostFromScore]: pavg=0.491291 -> initscore=-0.034838\n",
      "[LightGBM] [Info] Start training from score -0.034838\n",
      "[LightGBM] [Info] Number of positive: 9111, number of negative: 9434\n",
      "[LightGBM] [Info] Auto-choosing row-wise multi-threading, the overhead of testing was 0.052195 seconds.\n",
      "You can set `force_row_wise=true` to remove the overhead.\n",
      "And if memory is not enough, you can set `force_col_wise=true`.\n",
      "[LightGBM] [Info] Total Bins 940\n",
      "[LightGBM] [Info] Number of data points in the train set: 18545, number of used features: 470\n",
      "[LightGBM] [Info] [binary:BoostFromScore]: pavg=0.491291 -> initscore=-0.034838\n",
      "[LightGBM] [Info] Start training from score -0.034838\n",
      "[LightGBM] [Info] Number of positive: 9112, number of negative: 9434\n",
      "[LightGBM] [Info] Auto-choosing row-wise multi-threading, the overhead of testing was 0.052272 seconds.\n",
      "You can set `force_row_wise=true` to remove the overhead.\n",
      "And if memory is not enough, you can set `force_col_wise=true`.\n",
      "[LightGBM] [Info] Total Bins 940\n",
      "[LightGBM] [Info] Number of data points in the train set: 18546, number of used features: 470\n",
      "[LightGBM] [Info] [binary:BoostFromScore]: pavg=0.491319 -> initscore=-0.034728\n",
      "[LightGBM] [Info] Start training from score -0.034728\n",
      "[LightGBM] [Info] Number of positive: 9111, number of negative: 9435\n",
      "[LightGBM] [Info] Auto-choosing row-wise multi-threading, the overhead of testing was 0.053045 seconds.\n",
      "You can set `force_row_wise=true` to remove the overhead.\n",
      "And if memory is not enough, you can set `force_col_wise=true`.\n",
      "[LightGBM] [Info] Total Bins 950\n",
      "[LightGBM] [Info] Number of data points in the train set: 18546, number of used features: 475\n",
      "[LightGBM] [Info] [binary:BoostFromScore]: pavg=0.491265 -> initscore=-0.034944\n",
      "[LightGBM] [Info] Start training from score -0.034944\n",
      "[LightGBM] [Info] Number of positive: 9111, number of negative: 9435\n",
      "[LightGBM] [Info] Auto-choosing row-wise multi-threading, the overhead of testing was 0.051018 seconds.\n",
      "You can set `force_row_wise=true` to remove the overhead.\n",
      "And if memory is not enough, you can set `force_col_wise=true`.\n",
      "[LightGBM] [Info] Total Bins 918\n",
      "[LightGBM] [Info] Number of data points in the train set: 18546, number of used features: 459\n",
      "[LightGBM] [Info] [binary:BoostFromScore]: pavg=0.491265 -> initscore=-0.034944\n",
      "[LightGBM] [Info] Start training from score -0.034944\n",
      "[LightGBM] [Info] Number of positive: 9111, number of negative: 9434\n",
      "[LightGBM] [Info] Auto-choosing row-wise multi-threading, the overhead of testing was 0.054250 seconds.\n",
      "You can set `force_row_wise=true` to remove the overhead.\n",
      "And if memory is not enough, you can set `force_col_wise=true`.\n",
      "[LightGBM] [Info] Total Bins 944\n",
      "[LightGBM] [Info] Number of data points in the train set: 18545, number of used features: 472\n",
      "[LightGBM] [Info] [binary:BoostFromScore]: pavg=0.491291 -> initscore=-0.034838\n",
      "[LightGBM] [Info] Start training from score -0.034838\n",
      "[LightGBM] [Info] Number of positive: 9111, number of negative: 9434\n",
      "[LightGBM] [Info] Auto-choosing row-wise multi-threading, the overhead of testing was 0.052260 seconds.\n",
      "You can set `force_row_wise=true` to remove the overhead.\n",
      "And if memory is not enough, you can set `force_col_wise=true`.\n",
      "[LightGBM] [Info] Total Bins 940\n",
      "[LightGBM] [Info] Number of data points in the train set: 18545, number of used features: 470\n",
      "[LightGBM] [Info] [binary:BoostFromScore]: pavg=0.491291 -> initscore=-0.034838\n",
      "[LightGBM] [Info] Start training from score -0.034838\n",
      "[LightGBM] [Info] Number of positive: 9112, number of negative: 9434\n",
      "[LightGBM] [Info] Auto-choosing row-wise multi-threading, the overhead of testing was 0.053791 seconds.\n",
      "You can set `force_row_wise=true` to remove the overhead.\n",
      "And if memory is not enough, you can set `force_col_wise=true`.\n",
      "[LightGBM] [Info] Total Bins 940\n",
      "[LightGBM] [Info] Number of data points in the train set: 18546, number of used features: 470\n",
      "[LightGBM] [Info] [binary:BoostFromScore]: pavg=0.491319 -> initscore=-0.034728\n",
      "[LightGBM] [Info] Start training from score -0.034728\n",
      "[LightGBM] [Info] Number of positive: 9111, number of negative: 9435\n",
      "[LightGBM] [Info] Auto-choosing row-wise multi-threading, the overhead of testing was 0.052416 seconds.\n",
      "You can set `force_row_wise=true` to remove the overhead.\n",
      "And if memory is not enough, you can set `force_col_wise=true`.\n",
      "[LightGBM] [Info] Total Bins 950\n",
      "[LightGBM] [Info] Number of data points in the train set: 18546, number of used features: 475\n",
      "[LightGBM] [Info] [binary:BoostFromScore]: pavg=0.491265 -> initscore=-0.034944\n",
      "[LightGBM] [Info] Start training from score -0.034944\n",
      "[LightGBM] [Info] Number of positive: 9111, number of negative: 9435\n",
      "[LightGBM] [Info] Auto-choosing row-wise multi-threading, the overhead of testing was 0.051070 seconds.\n",
      "You can set `force_row_wise=true` to remove the overhead.\n",
      "And if memory is not enough, you can set `force_col_wise=true`.\n",
      "[LightGBM] [Info] Total Bins 918\n",
      "[LightGBM] [Info] Number of data points in the train set: 18546, number of used features: 459\n",
      "[LightGBM] [Info] [binary:BoostFromScore]: pavg=0.491265 -> initscore=-0.034944\n",
      "[LightGBM] [Info] Start training from score -0.034944\n",
      "[LightGBM] [Info] Number of positive: 9111, number of negative: 9434\n",
      "[LightGBM] [Info] Auto-choosing row-wise multi-threading, the overhead of testing was 0.052192 seconds.\n",
      "You can set `force_row_wise=true` to remove the overhead.\n",
      "And if memory is not enough, you can set `force_col_wise=true`.\n",
      "[LightGBM] [Info] Total Bins 944\n",
      "[LightGBM] [Info] Number of data points in the train set: 18545, number of used features: 472\n",
      "[LightGBM] [Info] [binary:BoostFromScore]: pavg=0.491291 -> initscore=-0.034838\n",
      "[LightGBM] [Info] Start training from score -0.034838\n",
      "[LightGBM] [Info] Number of positive: 9111, number of negative: 9434\n",
      "[LightGBM] [Info] Auto-choosing row-wise multi-threading, the overhead of testing was 0.052465 seconds.\n",
      "You can set `force_row_wise=true` to remove the overhead.\n",
      "And if memory is not enough, you can set `force_col_wise=true`.\n",
      "[LightGBM] [Info] Total Bins 940\n",
      "[LightGBM] [Info] Number of data points in the train set: 18545, number of used features: 470\n",
      "[LightGBM] [Info] [binary:BoostFromScore]: pavg=0.491291 -> initscore=-0.034838\n",
      "[LightGBM] [Info] Start training from score -0.034838\n",
      "[LightGBM] [Info] Number of positive: 9112, number of negative: 9434\n",
      "[LightGBM] [Info] Auto-choosing row-wise multi-threading, the overhead of testing was 0.052061 seconds.\n",
      "You can set `force_row_wise=true` to remove the overhead.\n",
      "And if memory is not enough, you can set `force_col_wise=true`.\n",
      "[LightGBM] [Info] Total Bins 940\n",
      "[LightGBM] [Info] Number of data points in the train set: 18546, number of used features: 470\n",
      "[LightGBM] [Info] [binary:BoostFromScore]: pavg=0.491319 -> initscore=-0.034728\n",
      "[LightGBM] [Info] Start training from score -0.034728\n",
      "[LightGBM] [Info] Number of positive: 9111, number of negative: 9435\n",
      "[LightGBM] [Info] Auto-choosing row-wise multi-threading, the overhead of testing was 0.052523 seconds.\n",
      "You can set `force_row_wise=true` to remove the overhead.\n",
      "And if memory is not enough, you can set `force_col_wise=true`.\n",
      "[LightGBM] [Info] Total Bins 950\n",
      "[LightGBM] [Info] Number of data points in the train set: 18546, number of used features: 475\n",
      "[LightGBM] [Info] [binary:BoostFromScore]: pavg=0.491265 -> initscore=-0.034944\n",
      "[LightGBM] [Info] Start training from score -0.034944\n",
      "[LightGBM] [Info] Number of positive: 9111, number of negative: 9435\n",
      "[LightGBM] [Info] Auto-choosing row-wise multi-threading, the overhead of testing was 0.051102 seconds.\n",
      "You can set `force_row_wise=true` to remove the overhead.\n",
      "And if memory is not enough, you can set `force_col_wise=true`.\n",
      "[LightGBM] [Info] Total Bins 918\n",
      "[LightGBM] [Info] Number of data points in the train set: 18546, number of used features: 459\n",
      "[LightGBM] [Info] [binary:BoostFromScore]: pavg=0.491265 -> initscore=-0.034944\n",
      "[LightGBM] [Info] Start training from score -0.034944\n",
      "[LightGBM] [Info] Number of positive: 9111, number of negative: 9434\n",
      "[LightGBM] [Info] Auto-choosing row-wise multi-threading, the overhead of testing was 0.052190 seconds.\n",
      "You can set `force_row_wise=true` to remove the overhead.\n",
      "And if memory is not enough, you can set `force_col_wise=true`.\n",
      "[LightGBM] [Info] Total Bins 944\n",
      "[LightGBM] [Info] Number of data points in the train set: 18545, number of used features: 472\n",
      "[LightGBM] [Info] [binary:BoostFromScore]: pavg=0.491291 -> initscore=-0.034838\n",
      "[LightGBM] [Info] Start training from score -0.034838\n",
      "[LightGBM] [Info] Number of positive: 9111, number of negative: 9434\n",
      "[LightGBM] [Info] Auto-choosing row-wise multi-threading, the overhead of testing was 0.090087 seconds.\n",
      "You can set `force_row_wise=true` to remove the overhead.\n",
      "And if memory is not enough, you can set `force_col_wise=true`.\n",
      "[LightGBM] [Info] Total Bins 940\n",
      "[LightGBM] [Info] Number of data points in the train set: 18545, number of used features: 470\n",
      "[LightGBM] [Info] [binary:BoostFromScore]: pavg=0.491291 -> initscore=-0.034838\n",
      "[LightGBM] [Info] Start training from score -0.034838\n",
      "[LightGBM] [Info] Number of positive: 9112, number of negative: 9434\n",
      "[LightGBM] [Info] Auto-choosing row-wise multi-threading, the overhead of testing was 0.052901 seconds.\n",
      "You can set `force_row_wise=true` to remove the overhead.\n",
      "And if memory is not enough, you can set `force_col_wise=true`.\n",
      "[LightGBM] [Info] Total Bins 940\n",
      "[LightGBM] [Info] Number of data points in the train set: 18546, number of used features: 470\n",
      "[LightGBM] [Info] [binary:BoostFromScore]: pavg=0.491319 -> initscore=-0.034728\n",
      "[LightGBM] [Info] Start training from score -0.034728\n",
      "[LightGBM] [Info] Number of positive: 9111, number of negative: 9435\n",
      "[LightGBM] [Info] Auto-choosing row-wise multi-threading, the overhead of testing was 0.052956 seconds.\n",
      "You can set `force_row_wise=true` to remove the overhead.\n",
      "And if memory is not enough, you can set `force_col_wise=true`.\n",
      "[LightGBM] [Info] Total Bins 950\n",
      "[LightGBM] [Info] Number of data points in the train set: 18546, number of used features: 475\n",
      "[LightGBM] [Info] [binary:BoostFromScore]: pavg=0.491265 -> initscore=-0.034944\n",
      "[LightGBM] [Info] Start training from score -0.034944\n",
      "[LightGBM] [Info] Number of positive: 9111, number of negative: 9435\n",
      "[LightGBM] [Info] Auto-choosing row-wise multi-threading, the overhead of testing was 0.051625 seconds.\n",
      "You can set `force_row_wise=true` to remove the overhead.\n",
      "And if memory is not enough, you can set `force_col_wise=true`.\n",
      "[LightGBM] [Info] Total Bins 918\n",
      "[LightGBM] [Info] Number of data points in the train set: 18546, number of used features: 459\n",
      "[LightGBM] [Info] [binary:BoostFromScore]: pavg=0.491265 -> initscore=-0.034944\n",
      "[LightGBM] [Info] Start training from score -0.034944\n",
      "[LightGBM] [Info] Number of positive: 9111, number of negative: 9434\n",
      "[LightGBM] [Info] Auto-choosing row-wise multi-threading, the overhead of testing was 0.053536 seconds.\n",
      "You can set `force_row_wise=true` to remove the overhead.\n",
      "And if memory is not enough, you can set `force_col_wise=true`.\n",
      "[LightGBM] [Info] Total Bins 944\n",
      "[LightGBM] [Info] Number of data points in the train set: 18545, number of used features: 472\n",
      "[LightGBM] [Info] [binary:BoostFromScore]: pavg=0.491291 -> initscore=-0.034838\n",
      "[LightGBM] [Info] Start training from score -0.034838\n",
      "[LightGBM] [Info] Number of positive: 9111, number of negative: 9434\n",
      "[LightGBM] [Info] Auto-choosing row-wise multi-threading, the overhead of testing was 0.051886 seconds.\n",
      "You can set `force_row_wise=true` to remove the overhead.\n",
      "And if memory is not enough, you can set `force_col_wise=true`.\n",
      "[LightGBM] [Info] Total Bins 940\n",
      "[LightGBM] [Info] Number of data points in the train set: 18545, number of used features: 470\n",
      "[LightGBM] [Info] [binary:BoostFromScore]: pavg=0.491291 -> initscore=-0.034838\n",
      "[LightGBM] [Info] Start training from score -0.034838\n",
      "[LightGBM] [Info] Number of positive: 9112, number of negative: 9434\n",
      "[LightGBM] [Info] Auto-choosing row-wise multi-threading, the overhead of testing was 0.052060 seconds.\n",
      "You can set `force_row_wise=true` to remove the overhead.\n",
      "And if memory is not enough, you can set `force_col_wise=true`.\n",
      "[LightGBM] [Info] Total Bins 940\n",
      "[LightGBM] [Info] Number of data points in the train set: 18546, number of used features: 470\n",
      "[LightGBM] [Info] [binary:BoostFromScore]: pavg=0.491319 -> initscore=-0.034728\n",
      "[LightGBM] [Info] Start training from score -0.034728\n",
      "[LightGBM] [Info] Number of positive: 9111, number of negative: 9435\n",
      "[LightGBM] [Info] Auto-choosing row-wise multi-threading, the overhead of testing was 0.053214 seconds.\n",
      "You can set `force_row_wise=true` to remove the overhead.\n",
      "And if memory is not enough, you can set `force_col_wise=true`.\n",
      "[LightGBM] [Info] Total Bins 950\n",
      "[LightGBM] [Info] Number of data points in the train set: 18546, number of used features: 475\n",
      "[LightGBM] [Info] [binary:BoostFromScore]: pavg=0.491265 -> initscore=-0.034944\n",
      "[LightGBM] [Info] Start training from score -0.034944\n",
      "[LightGBM] [Info] Number of positive: 9111, number of negative: 9435\n",
      "[LightGBM] [Info] Auto-choosing row-wise multi-threading, the overhead of testing was 0.050856 seconds.\n",
      "You can set `force_row_wise=true` to remove the overhead.\n",
      "And if memory is not enough, you can set `force_col_wise=true`.\n",
      "[LightGBM] [Info] Total Bins 918\n",
      "[LightGBM] [Info] Number of data points in the train set: 18546, number of used features: 459\n",
      "[LightGBM] [Info] [binary:BoostFromScore]: pavg=0.491265 -> initscore=-0.034944\n",
      "[LightGBM] [Info] Start training from score -0.034944\n",
      "[LightGBM] [Info] Number of positive: 9111, number of negative: 9434\n",
      "[LightGBM] [Info] Auto-choosing row-wise multi-threading, the overhead of testing was 0.052314 seconds.\n",
      "You can set `force_row_wise=true` to remove the overhead.\n",
      "And if memory is not enough, you can set `force_col_wise=true`.\n",
      "[LightGBM] [Info] Total Bins 944\n",
      "[LightGBM] [Info] Number of data points in the train set: 18545, number of used features: 472\n",
      "[LightGBM] [Info] [binary:BoostFromScore]: pavg=0.491291 -> initscore=-0.034838\n",
      "[LightGBM] [Info] Start training from score -0.034838\n",
      "[LightGBM] [Info] Number of positive: 9111, number of negative: 9434\n",
      "[LightGBM] [Info] Auto-choosing row-wise multi-threading, the overhead of testing was 0.052159 seconds.\n",
      "You can set `force_row_wise=true` to remove the overhead.\n",
      "And if memory is not enough, you can set `force_col_wise=true`.\n",
      "[LightGBM] [Info] Total Bins 940\n",
      "[LightGBM] [Info] Number of data points in the train set: 18545, number of used features: 470\n",
      "[LightGBM] [Info] [binary:BoostFromScore]: pavg=0.491291 -> initscore=-0.034838\n",
      "[LightGBM] [Info] Start training from score -0.034838\n",
      "[LightGBM] [Info] Number of positive: 9112, number of negative: 9434\n",
      "[LightGBM] [Info] Auto-choosing row-wise multi-threading, the overhead of testing was 0.051943 seconds.\n",
      "You can set `force_row_wise=true` to remove the overhead.\n",
      "And if memory is not enough, you can set `force_col_wise=true`.\n",
      "[LightGBM] [Info] Total Bins 940\n",
      "[LightGBM] [Info] Number of data points in the train set: 18546, number of used features: 470\n",
      "[LightGBM] [Info] [binary:BoostFromScore]: pavg=0.491319 -> initscore=-0.034728\n",
      "[LightGBM] [Info] Start training from score -0.034728\n",
      "[LightGBM] [Info] Number of positive: 9111, number of negative: 9435\n",
      "[LightGBM] [Info] Auto-choosing row-wise multi-threading, the overhead of testing was 0.053121 seconds.\n",
      "You can set `force_row_wise=true` to remove the overhead.\n",
      "And if memory is not enough, you can set `force_col_wise=true`.\n",
      "[LightGBM] [Info] Total Bins 950\n",
      "[LightGBM] [Info] Number of data points in the train set: 18546, number of used features: 475\n",
      "[LightGBM] [Info] [binary:BoostFromScore]: pavg=0.491265 -> initscore=-0.034944\n",
      "[LightGBM] [Info] Start training from score -0.034944\n",
      "[LightGBM] [Info] Number of positive: 9111, number of negative: 9435\n",
      "[LightGBM] [Info] Auto-choosing row-wise multi-threading, the overhead of testing was 0.050543 seconds.\n",
      "You can set `force_row_wise=true` to remove the overhead.\n",
      "And if memory is not enough, you can set `force_col_wise=true`.\n",
      "[LightGBM] [Info] Total Bins 918\n",
      "[LightGBM] [Info] Number of data points in the train set: 18546, number of used features: 459\n",
      "[LightGBM] [Info] [binary:BoostFromScore]: pavg=0.491265 -> initscore=-0.034944\n",
      "[LightGBM] [Info] Start training from score -0.034944\n",
      "[LightGBM] [Info] Number of positive: 9111, number of negative: 9434\n",
      "[LightGBM] [Info] Auto-choosing row-wise multi-threading, the overhead of testing was 0.052202 seconds.\n",
      "You can set `force_row_wise=true` to remove the overhead.\n",
      "And if memory is not enough, you can set `force_col_wise=true`.\n",
      "[LightGBM] [Info] Total Bins 944\n",
      "[LightGBM] [Info] Number of data points in the train set: 18545, number of used features: 472\n",
      "[LightGBM] [Info] [binary:BoostFromScore]: pavg=0.491291 -> initscore=-0.034838\n",
      "[LightGBM] [Info] Start training from score -0.034838\n",
      "[LightGBM] [Info] Number of positive: 9111, number of negative: 9434\n",
      "[LightGBM] [Info] Auto-choosing row-wise multi-threading, the overhead of testing was 0.051944 seconds.\n",
      "You can set `force_row_wise=true` to remove the overhead.\n",
      "And if memory is not enough, you can set `force_col_wise=true`.\n",
      "[LightGBM] [Info] Total Bins 940\n",
      "[LightGBM] [Info] Number of data points in the train set: 18545, number of used features: 470\n",
      "[LightGBM] [Info] [binary:BoostFromScore]: pavg=0.491291 -> initscore=-0.034838\n",
      "[LightGBM] [Info] Start training from score -0.034838\n",
      "[LightGBM] [Info] Number of positive: 9112, number of negative: 9434\n",
      "[LightGBM] [Info] Auto-choosing row-wise multi-threading, the overhead of testing was 0.052429 seconds.\n",
      "You can set `force_row_wise=true` to remove the overhead.\n",
      "And if memory is not enough, you can set `force_col_wise=true`.\n",
      "[LightGBM] [Info] Total Bins 940\n",
      "[LightGBM] [Info] Number of data points in the train set: 18546, number of used features: 470\n",
      "[LightGBM] [Info] [binary:BoostFromScore]: pavg=0.491319 -> initscore=-0.034728\n",
      "[LightGBM] [Info] Start training from score -0.034728\n",
      "[LightGBM] [Info] Number of positive: 9111, number of negative: 9435\n",
      "[LightGBM] [Info] Auto-choosing row-wise multi-threading, the overhead of testing was 0.052754 seconds.\n",
      "You can set `force_row_wise=true` to remove the overhead.\n",
      "And if memory is not enough, you can set `force_col_wise=true`.\n",
      "[LightGBM] [Info] Total Bins 950\n",
      "[LightGBM] [Info] Number of data points in the train set: 18546, number of used features: 475\n",
      "[LightGBM] [Info] [binary:BoostFromScore]: pavg=0.491265 -> initscore=-0.034944\n",
      "[LightGBM] [Info] Start training from score -0.034944\n",
      "[LightGBM] [Info] Number of positive: 9111, number of negative: 9435\n",
      "[LightGBM] [Info] Auto-choosing col-wise multi-threading, the overhead of testing was 0.051476 seconds.\n",
      "You can set `force_col_wise=true` to remove the overhead.\n",
      "[LightGBM] [Info] Total Bins 918\n",
      "[LightGBM] [Info] Number of data points in the train set: 18546, number of used features: 459\n",
      "[LightGBM] [Info] [binary:BoostFromScore]: pavg=0.491265 -> initscore=-0.034944\n",
      "[LightGBM] [Info] Start training from score -0.034944\n",
      "[LightGBM] [Info] Number of positive: 9111, number of negative: 9434\n",
      "[LightGBM] [Info] Auto-choosing row-wise multi-threading, the overhead of testing was 0.052842 seconds.\n",
      "You can set `force_row_wise=true` to remove the overhead.\n",
      "And if memory is not enough, you can set `force_col_wise=true`.\n",
      "[LightGBM] [Info] Total Bins 944\n",
      "[LightGBM] [Info] Number of data points in the train set: 18545, number of used features: 472\n",
      "[LightGBM] [Info] [binary:BoostFromScore]: pavg=0.491291 -> initscore=-0.034838\n",
      "[LightGBM] [Info] Start training from score -0.034838\n",
      "[LightGBM] [Info] Number of positive: 9111, number of negative: 9434\n",
      "[LightGBM] [Info] Auto-choosing row-wise multi-threading, the overhead of testing was 0.051791 seconds.\n",
      "You can set `force_row_wise=true` to remove the overhead.\n",
      "And if memory is not enough, you can set `force_col_wise=true`.\n",
      "[LightGBM] [Info] Total Bins 940\n",
      "[LightGBM] [Info] Number of data points in the train set: 18545, number of used features: 470\n",
      "[LightGBM] [Info] [binary:BoostFromScore]: pavg=0.491291 -> initscore=-0.034838\n",
      "[LightGBM] [Info] Start training from score -0.034838\n",
      "[LightGBM] [Info] Number of positive: 9112, number of negative: 9434\n",
      "[LightGBM] [Info] Auto-choosing col-wise multi-threading, the overhead of testing was 0.082225 seconds.\n",
      "You can set `force_col_wise=true` to remove the overhead.\n",
      "[LightGBM] [Info] Total Bins 940\n",
      "[LightGBM] [Info] Number of data points in the train set: 18546, number of used features: 470\n",
      "[LightGBM] [Info] [binary:BoostFromScore]: pavg=0.491319 -> initscore=-0.034728\n",
      "[LightGBM] [Info] Start training from score -0.034728\n",
      "[LightGBM] [Info] Number of positive: 9111, number of negative: 9435\n",
      "[LightGBM] [Info] Auto-choosing row-wise multi-threading, the overhead of testing was 0.052414 seconds.\n",
      "You can set `force_row_wise=true` to remove the overhead.\n",
      "And if memory is not enough, you can set `force_col_wise=true`.\n",
      "[LightGBM] [Info] Total Bins 950\n",
      "[LightGBM] [Info] Number of data points in the train set: 18546, number of used features: 475\n",
      "[LightGBM] [Info] [binary:BoostFromScore]: pavg=0.491265 -> initscore=-0.034944\n",
      "[LightGBM] [Info] Start training from score -0.034944\n",
      "[LightGBM] [Info] Number of positive: 9111, number of negative: 9435\n",
      "[LightGBM] [Info] Auto-choosing row-wise multi-threading, the overhead of testing was 0.051872 seconds.\n",
      "You can set `force_row_wise=true` to remove the overhead.\n",
      "And if memory is not enough, you can set `force_col_wise=true`.\n",
      "[LightGBM] [Info] Total Bins 918\n",
      "[LightGBM] [Info] Number of data points in the train set: 18546, number of used features: 459\n",
      "[LightGBM] [Info] [binary:BoostFromScore]: pavg=0.491265 -> initscore=-0.034944\n",
      "[LightGBM] [Info] Start training from score -0.034944\n",
      "[LightGBM] [Info] Number of positive: 9111, number of negative: 9434\n",
      "[LightGBM] [Info] Auto-choosing row-wise multi-threading, the overhead of testing was 0.052811 seconds.\n",
      "You can set `force_row_wise=true` to remove the overhead.\n",
      "And if memory is not enough, you can set `force_col_wise=true`.\n",
      "[LightGBM] [Info] Total Bins 944\n",
      "[LightGBM] [Info] Number of data points in the train set: 18545, number of used features: 472\n",
      "[LightGBM] [Info] [binary:BoostFromScore]: pavg=0.491291 -> initscore=-0.034838\n",
      "[LightGBM] [Info] Start training from score -0.034838\n",
      "[LightGBM] [Info] Number of positive: 9111, number of negative: 9434\n",
      "[LightGBM] [Info] Auto-choosing row-wise multi-threading, the overhead of testing was 0.052029 seconds.\n",
      "You can set `force_row_wise=true` to remove the overhead.\n",
      "And if memory is not enough, you can set `force_col_wise=true`.\n",
      "[LightGBM] [Info] Total Bins 940\n",
      "[LightGBM] [Info] Number of data points in the train set: 18545, number of used features: 470\n",
      "[LightGBM] [Info] [binary:BoostFromScore]: pavg=0.491291 -> initscore=-0.034838\n",
      "[LightGBM] [Info] Start training from score -0.034838\n",
      "[LightGBM] [Info] Number of positive: 9112, number of negative: 9434\n",
      "[LightGBM] [Info] Auto-choosing col-wise multi-threading, the overhead of testing was 0.053470 seconds.\n",
      "You can set `force_col_wise=true` to remove the overhead.\n",
      "[LightGBM] [Info] Total Bins 940\n",
      "[LightGBM] [Info] Number of data points in the train set: 18546, number of used features: 470\n",
      "[LightGBM] [Info] [binary:BoostFromScore]: pavg=0.491319 -> initscore=-0.034728\n",
      "[LightGBM] [Info] Start training from score -0.034728\n",
      "[LightGBM] [Info] Number of positive: 9111, number of negative: 9435\n",
      "[LightGBM] [Info] Auto-choosing row-wise multi-threading, the overhead of testing was 0.053377 seconds.\n",
      "You can set `force_row_wise=true` to remove the overhead.\n",
      "And if memory is not enough, you can set `force_col_wise=true`.\n",
      "[LightGBM] [Info] Total Bins 950\n",
      "[LightGBM] [Info] Number of data points in the train set: 18546, number of used features: 475\n",
      "[LightGBM] [Info] [binary:BoostFromScore]: pavg=0.491265 -> initscore=-0.034944\n",
      "[LightGBM] [Info] Start training from score -0.034944\n",
      "[LightGBM] [Info] Number of positive: 9111, number of negative: 9435\n",
      "[LightGBM] [Info] Auto-choosing row-wise multi-threading, the overhead of testing was 0.050656 seconds.\n",
      "You can set `force_row_wise=true` to remove the overhead.\n",
      "And if memory is not enough, you can set `force_col_wise=true`.\n",
      "[LightGBM] [Info] Total Bins 918\n",
      "[LightGBM] [Info] Number of data points in the train set: 18546, number of used features: 459\n",
      "[LightGBM] [Info] [binary:BoostFromScore]: pavg=0.491265 -> initscore=-0.034944\n",
      "[LightGBM] [Info] Start training from score -0.034944\n",
      "[LightGBM] [Info] Number of positive: 9111, number of negative: 9434\n",
      "[LightGBM] [Info] Auto-choosing row-wise multi-threading, the overhead of testing was 0.052258 seconds.\n",
      "You can set `force_row_wise=true` to remove the overhead.\n",
      "And if memory is not enough, you can set `force_col_wise=true`.\n",
      "[LightGBM] [Info] Total Bins 944\n",
      "[LightGBM] [Info] Number of data points in the train set: 18545, number of used features: 472\n",
      "[LightGBM] [Info] [binary:BoostFromScore]: pavg=0.491291 -> initscore=-0.034838\n",
      "[LightGBM] [Info] Start training from score -0.034838\n",
      "[LightGBM] [Info] Number of positive: 9111, number of negative: 9434\n",
      "[LightGBM] [Info] Auto-choosing row-wise multi-threading, the overhead of testing was 0.052149 seconds.\n",
      "You can set `force_row_wise=true` to remove the overhead.\n",
      "And if memory is not enough, you can set `force_col_wise=true`.\n",
      "[LightGBM] [Info] Total Bins 940\n",
      "[LightGBM] [Info] Number of data points in the train set: 18545, number of used features: 470\n",
      "[LightGBM] [Info] [binary:BoostFromScore]: pavg=0.491291 -> initscore=-0.034838\n",
      "[LightGBM] [Info] Start training from score -0.034838\n",
      "[LightGBM] [Info] Number of positive: 9112, number of negative: 9434\n",
      "[LightGBM] [Info] Auto-choosing row-wise multi-threading, the overhead of testing was 0.052604 seconds.\n",
      "You can set `force_row_wise=true` to remove the overhead.\n",
      "And if memory is not enough, you can set `force_col_wise=true`.\n",
      "[LightGBM] [Info] Total Bins 940\n",
      "[LightGBM] [Info] Number of data points in the train set: 18546, number of used features: 470\n",
      "[LightGBM] [Info] [binary:BoostFromScore]: pavg=0.491319 -> initscore=-0.034728\n",
      "[LightGBM] [Info] Start training from score -0.034728\n",
      "[LightGBM] [Info] Number of positive: 9111, number of negative: 9435\n",
      "[LightGBM] [Info] Auto-choosing row-wise multi-threading, the overhead of testing was 0.052334 seconds.\n",
      "You can set `force_row_wise=true` to remove the overhead.\n",
      "And if memory is not enough, you can set `force_col_wise=true`.\n",
      "[LightGBM] [Info] Total Bins 950\n",
      "[LightGBM] [Info] Number of data points in the train set: 18546, number of used features: 475\n",
      "[LightGBM] [Info] [binary:BoostFromScore]: pavg=0.491265 -> initscore=-0.034944\n",
      "[LightGBM] [Info] Start training from score -0.034944\n",
      "[LightGBM] [Info] Number of positive: 9111, number of negative: 9435\n",
      "[LightGBM] [Info] Auto-choosing row-wise multi-threading, the overhead of testing was 0.051414 seconds.\n",
      "You can set `force_row_wise=true` to remove the overhead.\n",
      "And if memory is not enough, you can set `force_col_wise=true`.\n",
      "[LightGBM] [Info] Total Bins 918\n",
      "[LightGBM] [Info] Number of data points in the train set: 18546, number of used features: 459\n",
      "[LightGBM] [Info] [binary:BoostFromScore]: pavg=0.491265 -> initscore=-0.034944\n",
      "[LightGBM] [Info] Start training from score -0.034944\n",
      "[LightGBM] [Info] Number of positive: 9111, number of negative: 9434\n",
      "[LightGBM] [Info] Auto-choosing row-wise multi-threading, the overhead of testing was 0.053001 seconds.\n",
      "You can set `force_row_wise=true` to remove the overhead.\n",
      "And if memory is not enough, you can set `force_col_wise=true`.\n",
      "[LightGBM] [Info] Total Bins 944\n",
      "[LightGBM] [Info] Number of data points in the train set: 18545, number of used features: 472\n",
      "[LightGBM] [Info] [binary:BoostFromScore]: pavg=0.491291 -> initscore=-0.034838\n",
      "[LightGBM] [Info] Start training from score -0.034838\n",
      "[LightGBM] [Info] Number of positive: 9111, number of negative: 9434\n",
      "[LightGBM] [Info] Auto-choosing row-wise multi-threading, the overhead of testing was 0.052271 seconds.\n",
      "You can set `force_row_wise=true` to remove the overhead.\n",
      "And if memory is not enough, you can set `force_col_wise=true`.\n",
      "[LightGBM] [Info] Total Bins 940\n",
      "[LightGBM] [Info] Number of data points in the train set: 18545, number of used features: 470\n",
      "[LightGBM] [Info] [binary:BoostFromScore]: pavg=0.491291 -> initscore=-0.034838\n",
      "[LightGBM] [Info] Start training from score -0.034838\n",
      "[LightGBM] [Info] Number of positive: 9112, number of negative: 9434\n",
      "[LightGBM] [Info] Auto-choosing row-wise multi-threading, the overhead of testing was 0.052187 seconds.\n",
      "You can set `force_row_wise=true` to remove the overhead.\n",
      "And if memory is not enough, you can set `force_col_wise=true`.\n",
      "[LightGBM] [Info] Total Bins 940\n",
      "[LightGBM] [Info] Number of data points in the train set: 18546, number of used features: 470\n",
      "[LightGBM] [Info] [binary:BoostFromScore]: pavg=0.491319 -> initscore=-0.034728\n",
      "[LightGBM] [Info] Start training from score -0.034728\n",
      "[LightGBM] [Info] Number of positive: 9111, number of negative: 9435\n",
      "[LightGBM] [Info] Auto-choosing row-wise multi-threading, the overhead of testing was 0.052858 seconds.\n",
      "You can set `force_row_wise=true` to remove the overhead.\n",
      "And if memory is not enough, you can set `force_col_wise=true`.\n",
      "[LightGBM] [Info] Total Bins 950\n",
      "[LightGBM] [Info] Number of data points in the train set: 18546, number of used features: 475\n",
      "[LightGBM] [Info] [binary:BoostFromScore]: pavg=0.491265 -> initscore=-0.034944\n",
      "[LightGBM] [Info] Start training from score -0.034944\n",
      "[LightGBM] [Info] Number of positive: 9111, number of negative: 9435\n",
      "[LightGBM] [Info] Auto-choosing row-wise multi-threading, the overhead of testing was 0.050929 seconds.\n",
      "You can set `force_row_wise=true` to remove the overhead.\n",
      "And if memory is not enough, you can set `force_col_wise=true`.\n",
      "[LightGBM] [Info] Total Bins 918\n",
      "[LightGBM] [Info] Number of data points in the train set: 18546, number of used features: 459\n",
      "[LightGBM] [Info] [binary:BoostFromScore]: pavg=0.491265 -> initscore=-0.034944\n",
      "[LightGBM] [Info] Start training from score -0.034944\n",
      "[LightGBM] [Info] Number of positive: 9111, number of negative: 9434\n",
      "[LightGBM] [Info] Auto-choosing row-wise multi-threading, the overhead of testing was 0.052139 seconds.\n",
      "You can set `force_row_wise=true` to remove the overhead.\n",
      "And if memory is not enough, you can set `force_col_wise=true`.\n",
      "[LightGBM] [Info] Total Bins 944\n",
      "[LightGBM] [Info] Number of data points in the train set: 18545, number of used features: 472\n",
      "[LightGBM] [Info] [binary:BoostFromScore]: pavg=0.491291 -> initscore=-0.034838\n",
      "[LightGBM] [Info] Start training from score -0.034838\n",
      "[LightGBM] [Info] Number of positive: 9111, number of negative: 9434\n",
      "[LightGBM] [Info] Auto-choosing row-wise multi-threading, the overhead of testing was 0.051932 seconds.\n",
      "You can set `force_row_wise=true` to remove the overhead.\n",
      "And if memory is not enough, you can set `force_col_wise=true`.\n",
      "[LightGBM] [Info] Total Bins 940\n",
      "[LightGBM] [Info] Number of data points in the train set: 18545, number of used features: 470\n",
      "[LightGBM] [Info] [binary:BoostFromScore]: pavg=0.491291 -> initscore=-0.034838\n",
      "[LightGBM] [Info] Start training from score -0.034838\n",
      "[LightGBM] [Info] Number of positive: 9112, number of negative: 9434\n",
      "[LightGBM] [Info] Auto-choosing row-wise multi-threading, the overhead of testing was 0.084855 seconds.\n",
      "You can set `force_row_wise=true` to remove the overhead.\n",
      "And if memory is not enough, you can set `force_col_wise=true`.\n",
      "[LightGBM] [Info] Total Bins 940\n",
      "[LightGBM] [Info] Number of data points in the train set: 18546, number of used features: 470\n",
      "[LightGBM] [Info] [binary:BoostFromScore]: pavg=0.491319 -> initscore=-0.034728\n",
      "[LightGBM] [Info] Start training from score -0.034728\n",
      "[LightGBM] [Info] Number of positive: 9111, number of negative: 9435\n",
      "[LightGBM] [Info] Auto-choosing row-wise multi-threading, the overhead of testing was 0.052685 seconds.\n",
      "You can set `force_row_wise=true` to remove the overhead.\n",
      "And if memory is not enough, you can set `force_col_wise=true`.\n",
      "[LightGBM] [Info] Total Bins 950\n",
      "[LightGBM] [Info] Number of data points in the train set: 18546, number of used features: 475\n",
      "[LightGBM] [Info] [binary:BoostFromScore]: pavg=0.491265 -> initscore=-0.034944\n",
      "[LightGBM] [Info] Start training from score -0.034944\n",
      "[LightGBM] [Info] Number of positive: 9111, number of negative: 9435\n",
      "[LightGBM] [Info] Auto-choosing row-wise multi-threading, the overhead of testing was 0.050715 seconds.\n",
      "You can set `force_row_wise=true` to remove the overhead.\n",
      "And if memory is not enough, you can set `force_col_wise=true`.\n",
      "[LightGBM] [Info] Total Bins 918\n",
      "[LightGBM] [Info] Number of data points in the train set: 18546, number of used features: 459\n",
      "[LightGBM] [Info] [binary:BoostFromScore]: pavg=0.491265 -> initscore=-0.034944\n",
      "[LightGBM] [Info] Start training from score -0.034944\n",
      "[LightGBM] [Info] Number of positive: 9111, number of negative: 9434\n",
      "[LightGBM] [Info] Auto-choosing row-wise multi-threading, the overhead of testing was 0.052358 seconds.\n",
      "You can set `force_row_wise=true` to remove the overhead.\n",
      "And if memory is not enough, you can set `force_col_wise=true`.\n",
      "[LightGBM] [Info] Total Bins 944\n",
      "[LightGBM] [Info] Number of data points in the train set: 18545, number of used features: 472\n",
      "[LightGBM] [Info] [binary:BoostFromScore]: pavg=0.491291 -> initscore=-0.034838\n",
      "[LightGBM] [Info] Start training from score -0.034838\n",
      "[LightGBM] [Info] Number of positive: 9111, number of negative: 9434\n",
      "[LightGBM] [Info] Auto-choosing row-wise multi-threading, the overhead of testing was 0.051784 seconds.\n",
      "You can set `force_row_wise=true` to remove the overhead.\n",
      "And if memory is not enough, you can set `force_col_wise=true`.\n",
      "[LightGBM] [Info] Total Bins 940\n",
      "[LightGBM] [Info] Number of data points in the train set: 18545, number of used features: 470\n",
      "[LightGBM] [Info] [binary:BoostFromScore]: pavg=0.491291 -> initscore=-0.034838\n",
      "[LightGBM] [Info] Start training from score -0.034838\n",
      "[LightGBM] [Info] Number of positive: 9112, number of negative: 9434\n",
      "[LightGBM] [Info] Auto-choosing row-wise multi-threading, the overhead of testing was 0.052444 seconds.\n",
      "You can set `force_row_wise=true` to remove the overhead.\n",
      "And if memory is not enough, you can set `force_col_wise=true`.\n",
      "[LightGBM] [Info] Total Bins 940\n",
      "[LightGBM] [Info] Number of data points in the train set: 18546, number of used features: 470\n",
      "[LightGBM] [Info] [binary:BoostFromScore]: pavg=0.491319 -> initscore=-0.034728\n",
      "[LightGBM] [Info] Start training from score -0.034728\n",
      "[LightGBM] [Info] Number of positive: 9111, number of negative: 9435\n",
      "[LightGBM] [Info] Auto-choosing row-wise multi-threading, the overhead of testing was 0.052554 seconds.\n",
      "You can set `force_row_wise=true` to remove the overhead.\n",
      "And if memory is not enough, you can set `force_col_wise=true`.\n",
      "[LightGBM] [Info] Total Bins 950\n",
      "[LightGBM] [Info] Number of data points in the train set: 18546, number of used features: 475\n",
      "[LightGBM] [Info] [binary:BoostFromScore]: pavg=0.491265 -> initscore=-0.034944\n",
      "[LightGBM] [Info] Start training from score -0.034944\n",
      "[LightGBM] [Info] Number of positive: 9111, number of negative: 9435\n",
      "[LightGBM] [Info] Auto-choosing row-wise multi-threading, the overhead of testing was 0.051278 seconds.\n",
      "You can set `force_row_wise=true` to remove the overhead.\n",
      "And if memory is not enough, you can set `force_col_wise=true`.\n",
      "[LightGBM] [Info] Total Bins 918\n",
      "[LightGBM] [Info] Number of data points in the train set: 18546, number of used features: 459\n",
      "[LightGBM] [Info] [binary:BoostFromScore]: pavg=0.491265 -> initscore=-0.034944\n",
      "[LightGBM] [Info] Start training from score -0.034944\n",
      "[LightGBM] [Info] Number of positive: 9111, number of negative: 9434\n",
      "[LightGBM] [Info] Auto-choosing row-wise multi-threading, the overhead of testing was 0.052549 seconds.\n",
      "You can set `force_row_wise=true` to remove the overhead.\n",
      "And if memory is not enough, you can set `force_col_wise=true`.\n",
      "[LightGBM] [Info] Total Bins 944\n",
      "[LightGBM] [Info] Number of data points in the train set: 18545, number of used features: 472\n",
      "[LightGBM] [Info] [binary:BoostFromScore]: pavg=0.491291 -> initscore=-0.034838\n",
      "[LightGBM] [Info] Start training from score -0.034838\n",
      "[LightGBM] [Info] Number of positive: 9111, number of negative: 9434\n",
      "[LightGBM] [Info] Auto-choosing row-wise multi-threading, the overhead of testing was 0.054020 seconds.\n",
      "You can set `force_row_wise=true` to remove the overhead.\n",
      "And if memory is not enough, you can set `force_col_wise=true`.\n",
      "[LightGBM] [Info] Total Bins 940\n",
      "[LightGBM] [Info] Number of data points in the train set: 18545, number of used features: 470\n",
      "[LightGBM] [Info] [binary:BoostFromScore]: pavg=0.491291 -> initscore=-0.034838\n",
      "[LightGBM] [Info] Start training from score -0.034838\n",
      "[LightGBM] [Info] Number of positive: 9112, number of negative: 9434\n",
      "[LightGBM] [Info] Auto-choosing row-wise multi-threading, the overhead of testing was 0.054315 seconds.\n",
      "You can set `force_row_wise=true` to remove the overhead.\n",
      "And if memory is not enough, you can set `force_col_wise=true`.\n",
      "[LightGBM] [Info] Total Bins 940\n",
      "[LightGBM] [Info] Number of data points in the train set: 18546, number of used features: 470\n",
      "[LightGBM] [Info] [binary:BoostFromScore]: pavg=0.491319 -> initscore=-0.034728\n",
      "[LightGBM] [Info] Start training from score -0.034728\n",
      "[LightGBM] [Info] Number of positive: 9111, number of negative: 9435\n",
      "[LightGBM] [Info] Auto-choosing col-wise multi-threading, the overhead of testing was 0.052937 seconds.\n",
      "You can set `force_col_wise=true` to remove the overhead.\n",
      "[LightGBM] [Info] Total Bins 950\n",
      "[LightGBM] [Info] Number of data points in the train set: 18546, number of used features: 475\n",
      "[LightGBM] [Info] [binary:BoostFromScore]: pavg=0.491265 -> initscore=-0.034944\n",
      "[LightGBM] [Info] Start training from score -0.034944\n",
      "[LightGBM] [Info] Number of positive: 9111, number of negative: 9435\n",
      "[LightGBM] [Info] Auto-choosing row-wise multi-threading, the overhead of testing was 0.051337 seconds.\n",
      "You can set `force_row_wise=true` to remove the overhead.\n",
      "And if memory is not enough, you can set `force_col_wise=true`.\n",
      "[LightGBM] [Info] Total Bins 918\n",
      "[LightGBM] [Info] Number of data points in the train set: 18546, number of used features: 459\n",
      "[LightGBM] [Info] [binary:BoostFromScore]: pavg=0.491265 -> initscore=-0.034944\n",
      "[LightGBM] [Info] Start training from score -0.034944\n",
      "[LightGBM] [Info] Number of positive: 9111, number of negative: 9434\n",
      "[LightGBM] [Info] Auto-choosing row-wise multi-threading, the overhead of testing was 0.052656 seconds.\n",
      "You can set `force_row_wise=true` to remove the overhead.\n",
      "And if memory is not enough, you can set `force_col_wise=true`.\n",
      "[LightGBM] [Info] Total Bins 944\n",
      "[LightGBM] [Info] Number of data points in the train set: 18545, number of used features: 472\n",
      "[LightGBM] [Info] [binary:BoostFromScore]: pavg=0.491291 -> initscore=-0.034838\n",
      "[LightGBM] [Info] Start training from score -0.034838\n",
      "[LightGBM] [Info] Number of positive: 9111, number of negative: 9434\n",
      "[LightGBM] [Info] Auto-choosing row-wise multi-threading, the overhead of testing was 0.054011 seconds.\n",
      "You can set `force_row_wise=true` to remove the overhead.\n",
      "And if memory is not enough, you can set `force_col_wise=true`.\n",
      "[LightGBM] [Info] Total Bins 940\n",
      "[LightGBM] [Info] Number of data points in the train set: 18545, number of used features: 470\n",
      "[LightGBM] [Info] [binary:BoostFromScore]: pavg=0.491291 -> initscore=-0.034838\n",
      "[LightGBM] [Info] Start training from score -0.034838\n",
      "[LightGBM] [Info] Number of positive: 9112, number of negative: 9434\n",
      "[LightGBM] [Info] Auto-choosing col-wise multi-threading, the overhead of testing was 0.051885 seconds.\n",
      "You can set `force_col_wise=true` to remove the overhead.\n",
      "[LightGBM] [Info] Total Bins 940\n",
      "[LightGBM] [Info] Number of data points in the train set: 18546, number of used features: 470\n",
      "[LightGBM] [Info] [binary:BoostFromScore]: pavg=0.491319 -> initscore=-0.034728\n",
      "[LightGBM] [Info] Start training from score -0.034728\n",
      "[LightGBM] [Info] Number of positive: 9111, number of negative: 9435\n",
      "[LightGBM] [Info] Auto-choosing row-wise multi-threading, the overhead of testing was 0.052785 seconds.\n",
      "You can set `force_row_wise=true` to remove the overhead.\n",
      "And if memory is not enough, you can set `force_col_wise=true`.\n",
      "[LightGBM] [Info] Total Bins 950\n",
      "[LightGBM] [Info] Number of data points in the train set: 18546, number of used features: 475\n",
      "[LightGBM] [Info] [binary:BoostFromScore]: pavg=0.491265 -> initscore=-0.034944\n",
      "[LightGBM] [Info] Start training from score -0.034944\n",
      "[LightGBM] [Info] Number of positive: 9111, number of negative: 9435\n",
      "[LightGBM] [Info] Auto-choosing row-wise multi-threading, the overhead of testing was 0.051808 seconds.\n",
      "You can set `force_row_wise=true` to remove the overhead.\n",
      "And if memory is not enough, you can set `force_col_wise=true`.\n",
      "[LightGBM] [Info] Total Bins 918\n",
      "[LightGBM] [Info] Number of data points in the train set: 18546, number of used features: 459\n",
      "[LightGBM] [Info] [binary:BoostFromScore]: pavg=0.491265 -> initscore=-0.034944\n",
      "[LightGBM] [Info] Start training from score -0.034944\n",
      "[LightGBM] [Info] Number of positive: 9111, number of negative: 9434\n",
      "[LightGBM] [Info] Auto-choosing row-wise multi-threading, the overhead of testing was 0.054274 seconds.\n",
      "You can set `force_row_wise=true` to remove the overhead.\n",
      "And if memory is not enough, you can set `force_col_wise=true`.\n",
      "[LightGBM] [Info] Total Bins 944\n",
      "[LightGBM] [Info] Number of data points in the train set: 18545, number of used features: 472\n",
      "[LightGBM] [Info] [binary:BoostFromScore]: pavg=0.491291 -> initscore=-0.034838\n",
      "[LightGBM] [Info] Start training from score -0.034838\n",
      "[LightGBM] [Info] Number of positive: 9111, number of negative: 9434\n",
      "[LightGBM] [Info] Auto-choosing row-wise multi-threading, the overhead of testing was 0.055133 seconds.\n",
      "You can set `force_row_wise=true` to remove the overhead.\n",
      "And if memory is not enough, you can set `force_col_wise=true`.\n",
      "[LightGBM] [Info] Total Bins 940\n",
      "[LightGBM] [Info] Number of data points in the train set: 18545, number of used features: 470\n",
      "[LightGBM] [Info] [binary:BoostFromScore]: pavg=0.491291 -> initscore=-0.034838\n",
      "[LightGBM] [Info] Start training from score -0.034838\n",
      "[LightGBM] [Info] Number of positive: 9112, number of negative: 9434\n",
      "[LightGBM] [Info] Auto-choosing row-wise multi-threading, the overhead of testing was 0.053157 seconds.\n",
      "You can set `force_row_wise=true` to remove the overhead.\n",
      "And if memory is not enough, you can set `force_col_wise=true`.\n",
      "[LightGBM] [Info] Total Bins 940\n",
      "[LightGBM] [Info] Number of data points in the train set: 18546, number of used features: 470\n",
      "[LightGBM] [Info] [binary:BoostFromScore]: pavg=0.491319 -> initscore=-0.034728\n",
      "[LightGBM] [Info] Start training from score -0.034728\n",
      "[LightGBM] [Info] Number of positive: 9111, number of negative: 9435\n",
      "[LightGBM] [Info] Auto-choosing row-wise multi-threading, the overhead of testing was 0.052717 seconds.\n",
      "You can set `force_row_wise=true` to remove the overhead.\n",
      "And if memory is not enough, you can set `force_col_wise=true`.\n",
      "[LightGBM] [Info] Total Bins 950\n",
      "[LightGBM] [Info] Number of data points in the train set: 18546, number of used features: 475\n",
      "[LightGBM] [Info] [binary:BoostFromScore]: pavg=0.491265 -> initscore=-0.034944\n",
      "[LightGBM] [Info] Start training from score -0.034944\n",
      "[LightGBM] [Info] Number of positive: 9111, number of negative: 9435\n",
      "[LightGBM] [Info] Auto-choosing row-wise multi-threading, the overhead of testing was 0.050874 seconds.\n",
      "You can set `force_row_wise=true` to remove the overhead.\n",
      "And if memory is not enough, you can set `force_col_wise=true`.\n",
      "[LightGBM] [Info] Total Bins 918\n",
      "[LightGBM] [Info] Number of data points in the train set: 18546, number of used features: 459\n",
      "[LightGBM] [Info] [binary:BoostFromScore]: pavg=0.491265 -> initscore=-0.034944\n",
      "[LightGBM] [Info] Start training from score -0.034944\n",
      "[LightGBM] [Info] Number of positive: 9111, number of negative: 9434\n",
      "[LightGBM] [Info] Auto-choosing row-wise multi-threading, the overhead of testing was 0.053056 seconds.\n",
      "You can set `force_row_wise=true` to remove the overhead.\n",
      "And if memory is not enough, you can set `force_col_wise=true`.\n",
      "[LightGBM] [Info] Total Bins 944\n",
      "[LightGBM] [Info] Number of data points in the train set: 18545, number of used features: 472\n",
      "[LightGBM] [Info] [binary:BoostFromScore]: pavg=0.491291 -> initscore=-0.034838\n",
      "[LightGBM] [Info] Start training from score -0.034838\n",
      "[LightGBM] [Info] Number of positive: 9111, number of negative: 9434\n",
      "[LightGBM] [Info] Auto-choosing row-wise multi-threading, the overhead of testing was 0.051876 seconds.\n",
      "You can set `force_row_wise=true` to remove the overhead.\n",
      "And if memory is not enough, you can set `force_col_wise=true`.\n",
      "[LightGBM] [Info] Total Bins 940\n",
      "[LightGBM] [Info] Number of data points in the train set: 18545, number of used features: 470\n",
      "[LightGBM] [Info] [binary:BoostFromScore]: pavg=0.491291 -> initscore=-0.034838\n",
      "[LightGBM] [Info] Start training from score -0.034838\n",
      "[LightGBM] [Info] Number of positive: 9112, number of negative: 9434\n",
      "[LightGBM] [Info] Auto-choosing row-wise multi-threading, the overhead of testing was 0.052364 seconds.\n",
      "You can set `force_row_wise=true` to remove the overhead.\n",
      "And if memory is not enough, you can set `force_col_wise=true`.\n",
      "[LightGBM] [Info] Total Bins 940\n",
      "[LightGBM] [Info] Number of data points in the train set: 18546, number of used features: 470\n",
      "[LightGBM] [Info] [binary:BoostFromScore]: pavg=0.491319 -> initscore=-0.034728\n",
      "[LightGBM] [Info] Start training from score -0.034728\n",
      "[LightGBM] [Info] Number of positive: 9111, number of negative: 9435\n",
      "[LightGBM] [Info] Auto-choosing row-wise multi-threading, the overhead of testing was 0.052655 seconds.\n",
      "You can set `force_row_wise=true` to remove the overhead.\n",
      "And if memory is not enough, you can set `force_col_wise=true`.\n",
      "[LightGBM] [Info] Total Bins 950\n",
      "[LightGBM] [Info] Number of data points in the train set: 18546, number of used features: 475\n",
      "[LightGBM] [Info] [binary:BoostFromScore]: pavg=0.491265 -> initscore=-0.034944\n",
      "[LightGBM] [Info] Start training from score -0.034944\n",
      "[LightGBM] [Info] Number of positive: 9111, number of negative: 9435\n",
      "[LightGBM] [Info] Auto-choosing row-wise multi-threading, the overhead of testing was 0.050818 seconds.\n",
      "You can set `force_row_wise=true` to remove the overhead.\n",
      "And if memory is not enough, you can set `force_col_wise=true`.\n",
      "[LightGBM] [Info] Total Bins 918\n",
      "[LightGBM] [Info] Number of data points in the train set: 18546, number of used features: 459\n",
      "[LightGBM] [Info] [binary:BoostFromScore]: pavg=0.491265 -> initscore=-0.034944\n",
      "[LightGBM] [Info] Start training from score -0.034944\n",
      "[LightGBM] [Info] Number of positive: 9111, number of negative: 9434\n",
      "[LightGBM] [Info] Auto-choosing row-wise multi-threading, the overhead of testing was 0.053275 seconds.\n",
      "You can set `force_row_wise=true` to remove the overhead.\n",
      "And if memory is not enough, you can set `force_col_wise=true`.\n",
      "[LightGBM] [Info] Total Bins 944\n",
      "[LightGBM] [Info] Number of data points in the train set: 18545, number of used features: 472\n",
      "[LightGBM] [Info] [binary:BoostFromScore]: pavg=0.491291 -> initscore=-0.034838\n",
      "[LightGBM] [Info] Start training from score -0.034838\n",
      "[LightGBM] [Info] Number of positive: 9111, number of negative: 9434\n",
      "[LightGBM] [Info] Auto-choosing row-wise multi-threading, the overhead of testing was 0.052829 seconds.\n",
      "You can set `force_row_wise=true` to remove the overhead.\n",
      "And if memory is not enough, you can set `force_col_wise=true`.\n",
      "[LightGBM] [Info] Total Bins 940\n",
      "[LightGBM] [Info] Number of data points in the train set: 18545, number of used features: 470\n",
      "[LightGBM] [Info] [binary:BoostFromScore]: pavg=0.491291 -> initscore=-0.034838\n",
      "[LightGBM] [Info] Start training from score -0.034838\n",
      "[LightGBM] [Info] Number of positive: 9112, number of negative: 9434\n",
      "[LightGBM] [Info] Auto-choosing row-wise multi-threading, the overhead of testing was 0.053160 seconds.\n",
      "You can set `force_row_wise=true` to remove the overhead.\n",
      "And if memory is not enough, you can set `force_col_wise=true`.\n",
      "[LightGBM] [Info] Total Bins 940\n",
      "[LightGBM] [Info] Number of data points in the train set: 18546, number of used features: 470\n",
      "[LightGBM] [Info] [binary:BoostFromScore]: pavg=0.491319 -> initscore=-0.034728\n",
      "[LightGBM] [Info] Start training from score -0.034728\n",
      "[LightGBM] [Info] Number of positive: 9111, number of negative: 9435\n",
      "[LightGBM] [Info] Auto-choosing row-wise multi-threading, the overhead of testing was 0.052404 seconds.\n",
      "You can set `force_row_wise=true` to remove the overhead.\n",
      "And if memory is not enough, you can set `force_col_wise=true`.\n",
      "[LightGBM] [Info] Total Bins 950\n",
      "[LightGBM] [Info] Number of data points in the train set: 18546, number of used features: 475\n",
      "[LightGBM] [Info] [binary:BoostFromScore]: pavg=0.491265 -> initscore=-0.034944\n",
      "[LightGBM] [Info] Start training from score -0.034944\n",
      "[LightGBM] [Info] Number of positive: 9111, number of negative: 9435\n",
      "[LightGBM] [Info] Auto-choosing row-wise multi-threading, the overhead of testing was 0.050979 seconds.\n",
      "You can set `force_row_wise=true` to remove the overhead.\n",
      "And if memory is not enough, you can set `force_col_wise=true`.\n",
      "[LightGBM] [Info] Total Bins 918\n",
      "[LightGBM] [Info] Number of data points in the train set: 18546, number of used features: 459\n",
      "[LightGBM] [Info] [binary:BoostFromScore]: pavg=0.491265 -> initscore=-0.034944\n",
      "[LightGBM] [Info] Start training from score -0.034944\n",
      "[LightGBM] [Info] Number of positive: 9111, number of negative: 9434\n",
      "[LightGBM] [Info] Auto-choosing row-wise multi-threading, the overhead of testing was 0.052394 seconds.\n",
      "You can set `force_row_wise=true` to remove the overhead.\n",
      "And if memory is not enough, you can set `force_col_wise=true`.\n",
      "[LightGBM] [Info] Total Bins 944\n",
      "[LightGBM] [Info] Number of data points in the train set: 18545, number of used features: 472\n",
      "[LightGBM] [Info] [binary:BoostFromScore]: pavg=0.491291 -> initscore=-0.034838\n",
      "[LightGBM] [Info] Start training from score -0.034838\n",
      "[LightGBM] [Info] Number of positive: 9111, number of negative: 9434\n",
      "[LightGBM] [Info] Auto-choosing col-wise multi-threading, the overhead of testing was 0.051679 seconds.\n",
      "You can set `force_col_wise=true` to remove the overhead.\n",
      "[LightGBM] [Info] Total Bins 940\n",
      "[LightGBM] [Info] Number of data points in the train set: 18545, number of used features: 470\n",
      "[LightGBM] [Info] [binary:BoostFromScore]: pavg=0.491291 -> initscore=-0.034838\n",
      "[LightGBM] [Info] Start training from score -0.034838\n",
      "[LightGBM] [Info] Number of positive: 9112, number of negative: 9434\n",
      "[LightGBM] [Info] Auto-choosing row-wise multi-threading, the overhead of testing was 0.052350 seconds.\n",
      "You can set `force_row_wise=true` to remove the overhead.\n",
      "And if memory is not enough, you can set `force_col_wise=true`.\n",
      "[LightGBM] [Info] Total Bins 940\n",
      "[LightGBM] [Info] Number of data points in the train set: 18546, number of used features: 470\n",
      "[LightGBM] [Info] [binary:BoostFromScore]: pavg=0.491319 -> initscore=-0.034728\n",
      "[LightGBM] [Info] Start training from score -0.034728\n",
      "[LightGBM] [Info] Number of positive: 9111, number of negative: 9435\n",
      "[LightGBM] [Info] Auto-choosing row-wise multi-threading, the overhead of testing was 0.052464 seconds.\n",
      "You can set `force_row_wise=true` to remove the overhead.\n",
      "And if memory is not enough, you can set `force_col_wise=true`.\n",
      "[LightGBM] [Info] Total Bins 950\n",
      "[LightGBM] [Info] Number of data points in the train set: 18546, number of used features: 475\n",
      "[LightGBM] [Info] [binary:BoostFromScore]: pavg=0.491265 -> initscore=-0.034944\n",
      "[LightGBM] [Info] Start training from score -0.034944\n",
      "[LightGBM] [Info] Number of positive: 9111, number of negative: 9435\n",
      "[LightGBM] [Info] Auto-choosing row-wise multi-threading, the overhead of testing was 0.051397 seconds.\n",
      "You can set `force_row_wise=true` to remove the overhead.\n",
      "And if memory is not enough, you can set `force_col_wise=true`.\n",
      "[LightGBM] [Info] Total Bins 918\n",
      "[LightGBM] [Info] Number of data points in the train set: 18546, number of used features: 459\n",
      "[LightGBM] [Info] [binary:BoostFromScore]: pavg=0.491265 -> initscore=-0.034944\n",
      "[LightGBM] [Info] Start training from score -0.034944\n",
      "[LightGBM] [Info] Number of positive: 9111, number of negative: 9434\n",
      "[LightGBM] [Info] Auto-choosing row-wise multi-threading, the overhead of testing was 0.053899 seconds.\n",
      "You can set `force_row_wise=true` to remove the overhead.\n",
      "And if memory is not enough, you can set `force_col_wise=true`.\n",
      "[LightGBM] [Info] Total Bins 944\n",
      "[LightGBM] [Info] Number of data points in the train set: 18545, number of used features: 472\n",
      "[LightGBM] [Info] [binary:BoostFromScore]: pavg=0.491291 -> initscore=-0.034838\n",
      "[LightGBM] [Info] Start training from score -0.034838\n",
      "[LightGBM] [Info] Number of positive: 9111, number of negative: 9434\n",
      "[LightGBM] [Info] Auto-choosing row-wise multi-threading, the overhead of testing was 0.052647 seconds.\n",
      "You can set `force_row_wise=true` to remove the overhead.\n",
      "And if memory is not enough, you can set `force_col_wise=true`.\n",
      "[LightGBM] [Info] Total Bins 940\n",
      "[LightGBM] [Info] Number of data points in the train set: 18545, number of used features: 470\n",
      "[LightGBM] [Info] [binary:BoostFromScore]: pavg=0.491291 -> initscore=-0.034838\n",
      "[LightGBM] [Info] Start training from score -0.034838\n",
      "[LightGBM] [Info] Number of positive: 9112, number of negative: 9434\n",
      "[LightGBM] [Info] Auto-choosing row-wise multi-threading, the overhead of testing was 0.051817 seconds.\n",
      "You can set `force_row_wise=true` to remove the overhead.\n",
      "And if memory is not enough, you can set `force_col_wise=true`.\n",
      "[LightGBM] [Info] Total Bins 940\n",
      "[LightGBM] [Info] Number of data points in the train set: 18546, number of used features: 470\n",
      "[LightGBM] [Info] [binary:BoostFromScore]: pavg=0.491319 -> initscore=-0.034728\n",
      "[LightGBM] [Info] Start training from score -0.034728\n",
      "[LightGBM] [Info] Number of positive: 9111, number of negative: 9435\n",
      "[LightGBM] [Info] Auto-choosing col-wise multi-threading, the overhead of testing was 0.052644 seconds.\n",
      "You can set `force_col_wise=true` to remove the overhead.\n",
      "[LightGBM] [Info] Total Bins 950\n",
      "[LightGBM] [Info] Number of data points in the train set: 18546, number of used features: 475\n",
      "[LightGBM] [Info] [binary:BoostFromScore]: pavg=0.491265 -> initscore=-0.034944\n",
      "[LightGBM] [Info] Start training from score -0.034944\n",
      "[LightGBM] [Info] Number of positive: 9111, number of negative: 9435\n",
      "[LightGBM] [Info] Auto-choosing row-wise multi-threading, the overhead of testing was 0.050989 seconds.\n",
      "You can set `force_row_wise=true` to remove the overhead.\n",
      "And if memory is not enough, you can set `force_col_wise=true`.\n",
      "[LightGBM] [Info] Total Bins 918\n",
      "[LightGBM] [Info] Number of data points in the train set: 18546, number of used features: 459\n",
      "[LightGBM] [Info] [binary:BoostFromScore]: pavg=0.491265 -> initscore=-0.034944\n",
      "[LightGBM] [Info] Start training from score -0.034944\n",
      "[LightGBM] [Info] Number of positive: 9111, number of negative: 9434\n",
      "[LightGBM] [Info] Auto-choosing row-wise multi-threading, the overhead of testing was 0.053212 seconds.\n",
      "You can set `force_row_wise=true` to remove the overhead.\n",
      "And if memory is not enough, you can set `force_col_wise=true`.\n",
      "[LightGBM] [Info] Total Bins 944\n",
      "[LightGBM] [Info] Number of data points in the train set: 18545, number of used features: 472\n",
      "[LightGBM] [Info] [binary:BoostFromScore]: pavg=0.491291 -> initscore=-0.034838\n",
      "[LightGBM] [Info] Start training from score -0.034838\n",
      "[LightGBM] [Info] Number of positive: 9111, number of negative: 9434\n",
      "[LightGBM] [Info] Auto-choosing col-wise multi-threading, the overhead of testing was 0.051514 seconds.\n",
      "You can set `force_col_wise=true` to remove the overhead.\n",
      "[LightGBM] [Info] Total Bins 940\n",
      "[LightGBM] [Info] Number of data points in the train set: 18545, number of used features: 470\n",
      "[LightGBM] [Info] [binary:BoostFromScore]: pavg=0.491291 -> initscore=-0.034838\n",
      "[LightGBM] [Info] Start training from score -0.034838\n",
      "[LightGBM] [Info] Number of positive: 9112, number of negative: 9434\n",
      "[LightGBM] [Info] Auto-choosing row-wise multi-threading, the overhead of testing was 0.052363 seconds.\n",
      "You can set `force_row_wise=true` to remove the overhead.\n",
      "And if memory is not enough, you can set `force_col_wise=true`.\n",
      "[LightGBM] [Info] Total Bins 940\n",
      "[LightGBM] [Info] Number of data points in the train set: 18546, number of used features: 470\n",
      "[LightGBM] [Info] [binary:BoostFromScore]: pavg=0.491319 -> initscore=-0.034728\n",
      "[LightGBM] [Info] Start training from score -0.034728\n",
      "[LightGBM] [Info] Number of positive: 9111, number of negative: 9435\n",
      "[LightGBM] [Info] Auto-choosing row-wise multi-threading, the overhead of testing was 0.052602 seconds.\n",
      "You can set `force_row_wise=true` to remove the overhead.\n",
      "And if memory is not enough, you can set `force_col_wise=true`.\n",
      "[LightGBM] [Info] Total Bins 950\n",
      "[LightGBM] [Info] Number of data points in the train set: 18546, number of used features: 475\n",
      "[LightGBM] [Info] [binary:BoostFromScore]: pavg=0.491265 -> initscore=-0.034944\n",
      "[LightGBM] [Info] Start training from score -0.034944\n",
      "[LightGBM] [Info] Number of positive: 9111, number of negative: 9435\n",
      "[LightGBM] [Info] Auto-choosing row-wise multi-threading, the overhead of testing was 0.050956 seconds.\n",
      "You can set `force_row_wise=true` to remove the overhead.\n",
      "And if memory is not enough, you can set `force_col_wise=true`.\n",
      "[LightGBM] [Info] Total Bins 918\n",
      "[LightGBM] [Info] Number of data points in the train set: 18546, number of used features: 459\n",
      "[LightGBM] [Info] [binary:BoostFromScore]: pavg=0.491265 -> initscore=-0.034944\n",
      "[LightGBM] [Info] Start training from score -0.034944\n",
      "[LightGBM] [Info] Number of positive: 9111, number of negative: 9434\n",
      "[LightGBM] [Info] Auto-choosing row-wise multi-threading, the overhead of testing was 0.052326 seconds.\n",
      "You can set `force_row_wise=true` to remove the overhead.\n",
      "And if memory is not enough, you can set `force_col_wise=true`.\n",
      "[LightGBM] [Info] Total Bins 944\n",
      "[LightGBM] [Info] Number of data points in the train set: 18545, number of used features: 472\n",
      "[LightGBM] [Info] [binary:BoostFromScore]: pavg=0.491291 -> initscore=-0.034838\n",
      "[LightGBM] [Info] Start training from score -0.034838\n",
      "[LightGBM] [Info] Number of positive: 9111, number of negative: 9434\n",
      "[LightGBM] [Info] Auto-choosing row-wise multi-threading, the overhead of testing was 0.052229 seconds.\n",
      "You can set `force_row_wise=true` to remove the overhead.\n",
      "And if memory is not enough, you can set `force_col_wise=true`.\n",
      "[LightGBM] [Info] Total Bins 940\n",
      "[LightGBM] [Info] Number of data points in the train set: 18545, number of used features: 470\n",
      "[LightGBM] [Info] [binary:BoostFromScore]: pavg=0.491291 -> initscore=-0.034838\n",
      "[LightGBM] [Info] Start training from score -0.034838\n",
      "[LightGBM] [Info] Number of positive: 9112, number of negative: 9434\n",
      "[LightGBM] [Info] Auto-choosing row-wise multi-threading, the overhead of testing was 0.052207 seconds.\n",
      "You can set `force_row_wise=true` to remove the overhead.\n",
      "And if memory is not enough, you can set `force_col_wise=true`.\n",
      "[LightGBM] [Info] Total Bins 940\n",
      "[LightGBM] [Info] Number of data points in the train set: 18546, number of used features: 470\n",
      "[LightGBM] [Info] [binary:BoostFromScore]: pavg=0.491319 -> initscore=-0.034728\n",
      "[LightGBM] [Info] Start training from score -0.034728\n",
      "[LightGBM] [Info] Number of positive: 9111, number of negative: 9435\n",
      "[LightGBM] [Info] Auto-choosing row-wise multi-threading, the overhead of testing was 0.053559 seconds.\n",
      "You can set `force_row_wise=true` to remove the overhead.\n",
      "And if memory is not enough, you can set `force_col_wise=true`.\n",
      "[LightGBM] [Info] Total Bins 950\n",
      "[LightGBM] [Info] Number of data points in the train set: 18546, number of used features: 475\n",
      "[LightGBM] [Info] [binary:BoostFromScore]: pavg=0.491265 -> initscore=-0.034944\n",
      "[LightGBM] [Info] Start training from score -0.034944\n",
      "[LightGBM] [Info] Number of positive: 9111, number of negative: 9435\n",
      "[LightGBM] [Info] Auto-choosing row-wise multi-threading, the overhead of testing was 0.049881 seconds.\n",
      "You can set `force_row_wise=true` to remove the overhead.\n",
      "And if memory is not enough, you can set `force_col_wise=true`.\n",
      "[LightGBM] [Info] Total Bins 918\n",
      "[LightGBM] [Info] Number of data points in the train set: 18546, number of used features: 459\n",
      "[LightGBM] [Info] [binary:BoostFromScore]: pavg=0.491265 -> initscore=-0.034944\n",
      "[LightGBM] [Info] Start training from score -0.034944\n",
      "[LightGBM] [Info] Number of positive: 11389, number of negative: 11793\n",
      "[LightGBM] [Info] Auto-choosing row-wise multi-threading, the overhead of testing was 0.090932 seconds.\n",
      "You can set `force_row_wise=true` to remove the overhead.\n",
      "And if memory is not enough, you can set `force_col_wise=true`.\n",
      "[LightGBM] [Info] Total Bins 1274\n",
      "[LightGBM] [Info] Number of data points in the train set: 23182, number of used features: 637\n",
      "[LightGBM] [Info] [binary:BoostFromScore]: pavg=0.491286 -> initscore=-0.034858\n",
      "[LightGBM] [Info] Start training from score -0.034858\n"
     ]
    },
    {
     "data": {
      "text/plain": [
       "{'boosting_type': 'gbdt',\n",
       " 'learning_rate': 0.2,\n",
       " 'metric': 'binary_logloss',\n",
       " 'n_estimators': 100,\n",
       " 'num_leaves': 15,\n",
       " 'objective': 'binary'}"
      ]
     },
     "execution_count": 56,
     "metadata": {},
     "output_type": "execute_result"
    }
   ],
   "source": [
    "from lightgbm import LGBMClassifier\n",
    "\n",
    "param_grid_ = {\n",
    "    'num_leaves': [15, 31, 63],  \n",
    "    'learning_rate': [0.01, 0.1, 0.2],\n",
    "    'n_estimators': [50, 100, 200],  \n",
    "    'boosting_type': ['gbdt'], \n",
    "    'objective': ['binary'],  \n",
    "    'metric': ['binary_logloss'],\n",
    "}\n",
    "\n",
    "lightgbm_grid = GridSearchCV(\n",
    "    estimator= LGBMClassifier(),\n",
    "    param_grid=param_grid_,\n",
    "    cv=5, \n",
    "    scoring='accuracy',\n",
    "    verbose=0,\n",
    "    n_jobs=-1  \n",
    ")\n",
    "lightgbm_grid.fit(X_train_tfidf, y_train)\n",
    "\n",
    "lightgbm_grid.best_params_"
   ]
  },
  {
   "cell_type": "code",
   "execution_count": 57,
   "id": "f87476ad",
   "metadata": {
    "execution": {
     "iopub.execute_input": "2024-12-15T22:06:48.271342Z",
     "iopub.status.busy": "2024-12-15T22:06:48.270930Z",
     "iopub.status.idle": "2024-12-15T22:06:48.696364Z",
     "shell.execute_reply": "2024-12-15T22:06:48.695327Z"
    },
    "papermill": {
     "duration": 0.458013,
     "end_time": "2024-12-15T22:06:48.698402",
     "exception": false,
     "start_time": "2024-12-15T22:06:48.240389",
     "status": "completed"
    },
    "tags": []
   },
   "outputs": [
    {
     "name": "stdout",
     "output_type": "stream",
     "text": [
      "-------------------> lightgbm\n",
      "Accuracy: 0.68\n",
      "F1-Score for each class:\n",
      "Positive: 0.64\n",
      "Negative: 0.71\n",
      "\n",
      "Classification Report:\n",
      "              precision    recall  f1-score   support\n",
      "\n",
      "    Positive       0.74      0.56      0.64      2949\n",
      "    Negative       0.64      0.80      0.71      2847\n",
      "\n",
      "    accuracy                           0.68      5796\n",
      "   macro avg       0.69      0.68      0.67      5796\n",
      "weighted avg       0.69      0.68      0.67      5796\n",
      "\n"
     ]
    },
    {
     "data": {
      "image/png": "[encoded data removed]",
      "text/plain": [
       "<Figure size 800x600 with 2 Axes>"
      ]
     },
     "metadata": {},
     "output_type": "display_data"
    }
   ],
   "source": [
    "y_hat = lightgbm_grid.best_estimator_.predict(X_test_tfidf)\n",
    "about_model(\"lightgbm\", y_test , y_hat)"
   ]
  }
 ],
 "metadata": {
  "kaggle": {
   "accelerator": "none",
   "dataSources": [
    {
     "datasetId": 6047175,
     "sourceId": 10133321,
     "sourceType": "datasetVersion"
    },
    {
     "datasetId": 6094692,
     "sourceId": 10181710,
     "sourceType": "datasetVersion"
    }
   ],
   "dockerImageVersionId": 30804,
   "isGpuEnabled": false,
   "isInternetEnabled": true,
   "language": "python",
   "sourceType": "notebook"
  },
  "kernelspec": {
   "display_name": "Python 3",
   "language": "python",
   "name": "python3"
  },
  "language_info": {
   "codemirror_mode": {
    "name": "ipython",
    "version": 3
   },
   "file_extension": ".py",
   "mimetype": "text/x-python",
   "name": "python",
   "nbconvert_exporter": "python",
   "pygments_lexer": "ipython3",
   "version": "3.10.14"
  },
  "papermill": {
   "default_parameters": {},
   "duration": 29534.508955,
   "end_time": "2024-12-15T22:06:51.348733",
   "environment_variables": {},
   "exception": null,
   "input_path": "__notebook__.ipynb",
   "output_path": "__notebook__.ipynb",
   "parameters": {},
   "start_time": "2024-12-15T13:54:36.839778",
   "version": "2.6.0"
  }
 },
 "nbformat": 4,
 "nbformat_minor": 5
}
