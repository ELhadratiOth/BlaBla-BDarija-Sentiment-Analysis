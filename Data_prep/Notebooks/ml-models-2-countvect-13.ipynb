{
 "cells": [
  {
   "cell_type": "markdown",
   "id": "baead210",
   "metadata": {
    "papermill": {
     "duration": 0.012073,
     "end_time": "2024-12-19T15:00:08.847595",
     "exception": false,
     "start_time": "2024-12-19T15:00:08.835522",
     "status": "completed"
    },
    "tags": []
   },
   "source": [
    "# Darija Text Classification using ML Algorithms\n"
   ]
  },
  {
   "cell_type": "markdown",
   "id": "be71454b",
   "metadata": {
    "papermill": {
     "duration": 0.012008,
     "end_time": "2024-12-19T15:00:08.872227",
     "exception": false,
     "start_time": "2024-12-19T15:00:08.860219",
     "status": "completed"
    },
    "tags": []
   },
   "source": [
    "## Setup and Data Loading\n",
    "In this section, we:\n",
    "- Import required libraries\n",
    "- Load and prepare our Darija dataset\n",
    "- Set up configuration parameters"
   ]
  },
  {
   "cell_type": "code",
   "execution_count": 1,
   "id": "4b2b2e0c",
   "metadata": {
    "execution": {
     "iopub.execute_input": "2024-12-19T15:00:08.897338Z",
     "iopub.status.busy": "2024-12-19T15:00:08.896915Z",
     "iopub.status.idle": "2024-12-19T15:00:08.925055Z",
     "shell.execute_reply": "2024-12-19T15:00:08.923713Z"
    },
    "papermill": {
     "duration": 0.043208,
     "end_time": "2024-12-19T15:00:08.927637",
     "exception": false,
     "start_time": "2024-12-19T15:00:08.884429",
     "status": "completed"
    },
    "tags": []
   },
   "outputs": [
    {
     "name": "stdout",
     "output_type": "stream",
     "text": [
      "Current working directory: /kaggle/input/ma-datasets\n",
      "Directory contents: ['suf_pref_darija.json', 'stop_words_accum.json', 'set2.csv', 'set7.csv', 'set5.csv', 'darija_latin_ref.json', 'set4.csv', 'scaped_comments.csv', 'set3.csv', 'cleaned_clustered_data.csv', 'set1.csv']\n"
     ]
    }
   ],
   "source": [
    "import os \n",
    "os.chdir('/kaggle/input/ma-datasets') \n",
    "current_directory = os.getcwd()\n",
    "print(\"Current working directory:\", current_directory)\n",
    "contents = os.listdir()\n",
    "print(\"Directory contents:\", contents)"
   ]
  },
  {
   "cell_type": "code",
   "execution_count": 2,
   "id": "d177bb28",
   "metadata": {
    "execution": {
     "iopub.execute_input": "2024-12-19T15:00:08.951967Z",
     "iopub.status.busy": "2024-12-19T15:00:08.951360Z",
     "iopub.status.idle": "2024-12-19T15:00:25.085586Z",
     "shell.execute_reply": "2024-12-19T15:00:25.084197Z"
    },
    "papermill": {
     "duration": 16.14955,
     "end_time": "2024-12-19T15:00:25.088383",
     "exception": false,
     "start_time": "2024-12-19T15:00:08.938833",
     "status": "completed"
    },
    "tags": []
   },
   "outputs": [
    {
     "name": "stdout",
     "output_type": "stream",
     "text": [
      "Requirement already satisfied: pandas in /opt/conda/lib/python3.10/site-packages (2.2.3)\r\n",
      "Requirement already satisfied: PyArabic in /opt/conda/lib/python3.10/site-packages (0.6.15)\r\n",
      "Collecting Tashaphyne\r\n",
      "  Downloading Tashaphyne-0.3.6-py3-none-any.whl.metadata (18 kB)\r\n",
      "Collecting pydoda\r\n",
      "  Downloading pydoda-1.2.1-py3-none-any.whl.metadata (5.8 kB)\r\n",
      "Collecting Arabic-Stopwords\r\n",
      "  Downloading Arabic_Stopwords-0.4.3-py3-none-any.whl.metadata (8.9 kB)\r\n",
      "Requirement already satisfied: seaborn in /opt/conda/lib/python3.10/site-packages (0.12.2)\r\n",
      "Requirement already satisfied: scikit-learn in /opt/conda/lib/python3.10/site-packages (1.2.2)\r\n",
      "Requirement already satisfied: emoji in /opt/conda/lib/python3.10/site-packages (2.14.0)\r\n",
      "Requirement already satisfied: xgboost in /opt/conda/lib/python3.10/site-packages (2.0.3)\r\n",
      "Requirement already satisfied: lightgbm in /opt/conda/lib/python3.10/site-packages (4.2.0)\r\n",
      "Requirement already satisfied: numpy>=1.22.4 in /opt/conda/lib/python3.10/site-packages (from pandas) (1.26.4)\r\n",
      "Requirement already satisfied: python-dateutil>=2.8.2 in /opt/conda/lib/python3.10/site-packages (from pandas) (2.9.0.post0)\r\n",
      "Requirement already satisfied: pytz>=2020.1 in /opt/conda/lib/python3.10/site-packages (from pandas) (2024.1)\r\n",
      "Requirement already satisfied: tzdata>=2022.7 in /opt/conda/lib/python3.10/site-packages (from pandas) (2024.1)\r\n",
      "Requirement already satisfied: six>=1.14.0 in /opt/conda/lib/python3.10/site-packages (from PyArabic) (1.16.0)\r\n",
      "Requirement already satisfied: matplotlib!=3.6.1,>=3.1 in /opt/conda/lib/python3.10/site-packages (from seaborn) (3.7.5)\r\n",
      "Requirement already satisfied: scipy>=1.3.2 in /opt/conda/lib/python3.10/site-packages (from scikit-learn) (1.14.1)\r\n",
      "Requirement already satisfied: joblib>=1.1.1 in /opt/conda/lib/python3.10/site-packages (from scikit-learn) (1.4.2)\r\n",
      "Requirement already satisfied: threadpoolctl>=2.0.0 in /opt/conda/lib/python3.10/site-packages (from scikit-learn) (3.5.0)\r\n",
      "Requirement already satisfied: contourpy>=1.0.1 in /opt/conda/lib/python3.10/site-packages (from matplotlib!=3.6.1,>=3.1->seaborn) (1.2.1)\r\n",
      "Requirement already satisfied: cycler>=0.10 in /opt/conda/lib/python3.10/site-packages (from matplotlib!=3.6.1,>=3.1->seaborn) (0.12.1)\r\n",
      "Requirement already satisfied: fonttools>=4.22.0 in /opt/conda/lib/python3.10/site-packages (from matplotlib!=3.6.1,>=3.1->seaborn) (4.53.0)\r\n",
      "Requirement already satisfied: kiwisolver>=1.0.1 in /opt/conda/lib/python3.10/site-packages (from matplotlib!=3.6.1,>=3.1->seaborn) (1.4.5)\r\n",
      "Requirement already satisfied: packaging>=20.0 in /opt/conda/lib/python3.10/site-packages (from matplotlib!=3.6.1,>=3.1->seaborn) (21.3)\r\n",
      "Requirement already satisfied: pillow>=6.2.0 in /opt/conda/lib/python3.10/site-packages (from matplotlib!=3.6.1,>=3.1->seaborn) (10.3.0)\r\n",
      "Requirement already satisfied: pyparsing>=2.3.1 in /opt/conda/lib/python3.10/site-packages (from matplotlib!=3.6.1,>=3.1->seaborn) (3.1.2)\r\n",
      "Downloading Tashaphyne-0.3.6-py3-none-any.whl (251 kB)\r\n",
      "\u001b[2K   \u001b[90m━━━━━━━━━━━━━━━━━━━━━━━━━━━━━━━━━━━━━━━━\u001b[0m \u001b[32m251.5/251.5 kB\u001b[0m \u001b[31m6.2 MB/s\u001b[0m eta \u001b[36m0:00:00\u001b[0m\r\n",
      "\u001b[?25hDownloading pydoda-1.2.1-py3-none-any.whl (4.1 MB)\r\n",
      "\u001b[2K   \u001b[90m━━━━━━━━━━━━━━━━━━━━━━━━━━━━━━━━━━━━━━━━\u001b[0m \u001b[32m4.1/4.1 MB\u001b[0m \u001b[31m56.1 MB/s\u001b[0m eta \u001b[36m0:00:00\u001b[0m\r\n",
      "\u001b[?25hDownloading Arabic_Stopwords-0.4.3-py3-none-any.whl (360 kB)\r\n",
      "\u001b[2K   \u001b[90m━━━━━━━━━━━━━━━━━━━━━━━━━━━━━━━━━━━━━━━━\u001b[0m \u001b[32m360.5/360.5 kB\u001b[0m \u001b[31m16.9 MB/s\u001b[0m eta \u001b[36m0:00:00\u001b[0m\r\n",
      "\u001b[?25hInstalling collected packages: Tashaphyne, Arabic-Stopwords, pydoda\r\n",
      "Successfully installed Arabic-Stopwords-0.4.3 Tashaphyne-0.3.6 pydoda-1.2.1\r\n"
     ]
    }
   ],
   "source": [
    "!pip install pandas PyArabic Tashaphyne pydoda Arabic-Stopwords seaborn scikit-learn emoji xgboost lightgbm "
   ]
  },
  {
   "cell_type": "code",
   "execution_count": 3,
   "id": "8b5600e0",
   "metadata": {
    "execution": {
     "iopub.execute_input": "2024-12-19T15:00:25.116875Z",
     "iopub.status.busy": "2024-12-19T15:00:25.116436Z",
     "iopub.status.idle": "2024-12-19T15:00:27.907881Z",
     "shell.execute_reply": "2024-12-19T15:00:27.906715Z"
    },
    "papermill": {
     "duration": 2.809032,
     "end_time": "2024-12-19T15:00:27.910357",
     "exception": false,
     "start_time": "2024-12-19T15:00:25.101325",
     "status": "completed"
    },
    "tags": []
   },
   "outputs": [],
   "source": [
    "import pandas as pd\n",
    "from sklearn.model_selection import GridSearchCV\n",
    "import re\n",
    "from tashaphyne.stemming import ArabicLightStemmer\n",
    "import json\n",
    "import emoji \n"
   ]
  },
  {
   "cell_type": "code",
   "execution_count": 4,
   "id": "fccc48eb",
   "metadata": {
    "execution": {
     "iopub.execute_input": "2024-12-19T15:00:27.937587Z",
     "iopub.status.busy": "2024-12-19T15:00:27.937031Z",
     "iopub.status.idle": "2024-12-19T15:00:28.251954Z",
     "shell.execute_reply": "2024-12-19T15:00:28.250708Z"
    },
    "papermill": {
     "duration": 0.330629,
     "end_time": "2024-12-19T15:00:28.254436",
     "exception": false,
     "start_time": "2024-12-19T15:00:27.923807",
     "status": "completed"
    },
    "tags": []
   },
   "outputs": [],
   "source": [
    "df = pd.read_csv(\"/kaggle/input/dataset/dataset (18).csv\")"
   ]
  },
  {
   "cell_type": "code",
   "execution_count": 5,
   "id": "912e68df",
   "metadata": {
    "execution": {
     "iopub.execute_input": "2024-12-19T15:00:28.281486Z",
     "iopub.status.busy": "2024-12-19T15:00:28.280444Z",
     "iopub.status.idle": "2024-12-19T15:00:28.315086Z",
     "shell.execute_reply": "2024-12-19T15:00:28.313689Z"
    },
    "papermill": {
     "duration": 0.050443,
     "end_time": "2024-12-19T15:00:28.317433",
     "exception": false,
     "start_time": "2024-12-19T15:00:28.266990",
     "status": "completed"
    },
    "tags": []
   },
   "outputs": [
    {
     "name": "stderr",
     "output_type": "stream",
     "text": [
      "/tmp/ipykernel_17/177686370.py:1: DeprecationWarning: DataFrameGroupBy.apply operated on the grouping columns. This behavior is deprecated, and in a future version of pandas the grouping columns will be excluded from the operation. Either pass `include_groups=False` to exclude the groupings or explicitly select the grouping columns after groupby to silence this warning.\n",
      "  df = df.groupby('target', group_keys=False).apply(\n"
     ]
    }
   ],
   "source": [
    "df = df.groupby('target', group_keys=False).apply(\n",
    "    lambda x: x.sample(frac=0.5)\n",
    ")"
   ]
  },
  {
   "cell_type": "code",
   "execution_count": 6,
   "id": "3bf81f7e",
   "metadata": {
    "execution": {
     "iopub.execute_input": "2024-12-19T15:00:28.343419Z",
     "iopub.status.busy": "2024-12-19T15:00:28.343029Z",
     "iopub.status.idle": "2024-12-19T15:00:28.368028Z",
     "shell.execute_reply": "2024-12-19T15:00:28.366641Z"
    },
    "papermill": {
     "duration": 0.040739,
     "end_time": "2024-12-19T15:00:28.370535",
     "exception": false,
     "start_time": "2024-12-19T15:00:28.329796",
     "status": "completed"
    },
    "tags": []
   },
   "outputs": [
    {
     "name": "stdout",
     "output_type": "stream",
     "text": [
      "<class 'pandas.core.frame.DataFrame'>\n",
      "Index: 17500 entries, 25037 to 29896\n",
      "Data columns (total 3 columns):\n",
      " #   Column        Non-Null Count  Dtype \n",
      "---  ------        --------------  ----- \n",
      " 0   text          17500 non-null  object\n",
      " 1   target        17500 non-null  int64 \n",
      " 2   text_cleaned  16899 non-null  object\n",
      "dtypes: int64(1), object(2)\n",
      "memory usage: 546.9+ KB\n"
     ]
    }
   ],
   "source": [
    "df.info()"
   ]
  },
  {
   "cell_type": "markdown",
   "id": "65d6cf1c",
   "metadata": {
    "papermill": {
     "duration": 0.01185,
     "end_time": "2024-12-19T15:00:28.394639",
     "exception": false,
     "start_time": "2024-12-19T15:00:28.382789",
     "status": "completed"
    },
    "tags": []
   },
   "source": [
    "## Data Preprocessing\n",
    "Key preprocessing steps for Darija text:\n",
    "- Text cleaning and normalization\n",
    "- Feature extraction\n",
    "- Train-test split\n"
   ]
  },
  {
   "cell_type": "code",
   "execution_count": 7,
   "id": "f50fe508",
   "metadata": {
    "execution": {
     "iopub.execute_input": "2024-12-19T15:00:28.420400Z",
     "iopub.status.busy": "2024-12-19T15:00:28.420010Z",
     "iopub.status.idle": "2024-12-19T15:00:28.430774Z",
     "shell.execute_reply": "2024-12-19T15:00:28.429642Z"
    },
    "papermill": {
     "duration": 0.026396,
     "end_time": "2024-12-19T15:00:28.433007",
     "exception": false,
     "start_time": "2024-12-19T15:00:28.406611",
     "status": "completed"
    },
    "tags": []
   },
   "outputs": [],
   "source": [
    "darija_alphabet = {\n",
    "    \"gh\": \"غ\",\n",
    "    \"sh\": \"ش\",\n",
    "    \"ch\": \"ش\",\n",
    "    \"ss\": \"س\",\n",
    "    \"kh\": \"خ\",\n",
    "    \"ç\": \"س\",\n",
    "    \"ou\": \"و\",    \n",
    "    \"ei\": \"ي\",    \n",
    "    \"ay\": \"ي\",    \n",
    "    \"ae\": \"ي\",   \n",
    "    \"5\": \"خ\",     \n",
    "    \"2\": \"ا\",    \n",
    "    \"b\": \"ب\",\n",
    "    \"t\": \"ت\",\n",
    "    \"j\": \"ج\",\n",
    "    \"7\": \"ح\",\n",
    "    \"d\": \"د\",\n",
    "    \"r\": \"ر\",\n",
    "    \"z\": \"ز\",\n",
    "    \"s\": \"س\",\n",
    "    \"9\": \"ق\",\n",
    "    \"3\": \"ع\",\n",
    "    \"4\": \"غ\",\n",
    "    \"f\": \"ف\",\n",
    "    \"q\": \"ك\",\n",
    "    \"k\": \"ك\",\n",
    "    \"l\": \"ل\",\n",
    "    \"m\": \"م\",\n",
    "    \"n\": \"ن\",\n",
    "    \"h\": \"ه\",\n",
    "    \"w\": \"و\",\n",
    "    \"y\": \"ي\",\n",
    "    \"g\": \"ڭ\",\n",
    "    'i': 'ي',\n",
    "    'ee': 'ي',\n",
    "    'aa': 'ا',\n",
    "    'oo': 'و',\n",
    "    'o': 'و',\n",
    "    \"x\": \"ش\",\n",
    "}\n",
    "word_in = [\n",
    "    \"ء\", \"أ\", \"إ\", \"آ\", \"ؤ\", \"ئ\", \"ة\", \"ى\",\"-\", \"/\", \".\", \"،\", '\"', \"'\", \"\\\\\", \"?\", \"؟\", \"!\", \"،\", \"؛\",\":\",\"#\", \"@\", \"&\", \"=\", \"¥\", \"$\", \"%\", \"*\", \"+\", \"<\", \">\", \"|\", \"~\", \"^\", \n",
    "    \"\\n\", \"\\t\", \"\\r\", \" و\",\"ذ\", \"ظ\", \"ض\", \"ص\",\"(\", \")\", \"[\", \"]\", \"{\", \"}\", \"《\", \"》\", \"«\", \"»\"\n",
    "]\n",
    "\n",
    "replaced_by = [\n",
    "    \"ا\", \"ا\", \"ا\", \"ا\", \"ا\", \"ا\", \"ه\", \"ي\",\" \", \"\", \"\", \"\", \"\", \"\", \"\", \" ? \", \" ؟ \", \" ! \", \"\", \"\", \"\",\n",
    "    \"\", \"\", \"\", \"\", \"\", \"\", \"\", \"\", \"\", \"\", \"\", \"\", \"\", \"\",\" \", \" \", \" \", \"\",\n",
    "    \"د\", \"د\", \"د\", \"س\",\"\", \"\", \"\", \"\", \"\", \"\", \"\", \"\", \"\", \"\"\n",
    "]\n",
    "\n",
    "arabic_alphabet = \"ابتثجحخدذرزسشصضطظعغفقكلمنهوي\""
   ]
  },
  {
   "cell_type": "code",
   "execution_count": 8,
   "id": "44bc3e99",
   "metadata": {
    "execution": {
     "iopub.execute_input": "2024-12-19T15:00:28.460255Z",
     "iopub.status.busy": "2024-12-19T15:00:28.459886Z",
     "iopub.status.idle": "2024-12-19T15:00:28.465881Z",
     "shell.execute_reply": "2024-12-19T15:00:28.464669Z"
    },
    "papermill": {
     "duration": 0.023306,
     "end_time": "2024-12-19T15:00:28.468408",
     "exception": false,
     "start_time": "2024-12-19T15:00:28.445102",
     "status": "completed"
    },
    "tags": []
   },
   "outputs": [],
   "source": [
    "from pyarabic.araby import strip_diacritics\n",
    "#remove tashkeel\n",
    "def removing_tashkeel(word): # useed\n",
    "          return strip_diacritics(word)"
   ]
  },
  {
   "cell_type": "code",
   "execution_count": 9,
   "id": "d47f5aa5",
   "metadata": {
    "execution": {
     "iopub.execute_input": "2024-12-19T15:00:28.495975Z",
     "iopub.status.busy": "2024-12-19T15:00:28.494506Z",
     "iopub.status.idle": "2024-12-19T15:00:28.500805Z",
     "shell.execute_reply": "2024-12-19T15:00:28.499666Z"
    },
    "papermill": {
     "duration": 0.022494,
     "end_time": "2024-12-19T15:00:28.503415",
     "exception": false,
     "start_time": "2024-12-19T15:00:28.480921",
     "status": "completed"
    },
    "tags": []
   },
   "outputs": [],
   "source": [
    "from pyarabic.araby import strip_tatweel\n",
    "\n",
    "#remove tatweel l2imdad\n",
    "def removing_tatweel(word): # useed\n",
    "          return strip_tatweel(word)"
   ]
  },
  {
   "cell_type": "code",
   "execution_count": 10,
   "id": "dd15290b",
   "metadata": {
    "execution": {
     "iopub.execute_input": "2024-12-19T15:00:28.531097Z",
     "iopub.status.busy": "2024-12-19T15:00:28.530708Z",
     "iopub.status.idle": "2024-12-19T15:00:28.535714Z",
     "shell.execute_reply": "2024-12-19T15:00:28.534623Z"
    },
    "papermill": {
     "duration": 0.02095,
     "end_time": "2024-12-19T15:00:28.538034",
     "exception": false,
     "start_time": "2024-12-19T15:00:28.517084",
     "status": "completed"
    },
    "tags": []
   },
   "outputs": [],
   "source": [
    "from pyarabic.araby import normalize_ligature\n",
    "\n",
    "#remove ligature hamza , alef \n",
    "def removing_ligature(word): # not used \n",
    "          return normalize_ligature(word)"
   ]
  },
  {
   "cell_type": "code",
   "execution_count": 11,
   "id": "4b5a8f09",
   "metadata": {
    "execution": {
     "iopub.execute_input": "2024-12-19T15:00:28.564750Z",
     "iopub.status.busy": "2024-12-19T15:00:28.563510Z",
     "iopub.status.idle": "2024-12-19T15:00:28.569673Z",
     "shell.execute_reply": "2024-12-19T15:00:28.568600Z"
    },
    "papermill": {
     "duration": 0.021896,
     "end_time": "2024-12-19T15:00:28.572095",
     "exception": false,
     "start_time": "2024-12-19T15:00:28.550199",
     "status": "completed"
    },
    "tags": []
   },
   "outputs": [],
   "source": [
    "# remove underscore\n",
    "def replace_underscore(word): # useed\n",
    "          return word.replace(\"_\", \" \")"
   ]
  },
  {
   "cell_type": "code",
   "execution_count": 12,
   "id": "0062f850",
   "metadata": {
    "execution": {
     "iopub.execute_input": "2024-12-19T15:00:28.598122Z",
     "iopub.status.busy": "2024-12-19T15:00:28.597726Z",
     "iopub.status.idle": "2024-12-19T15:00:28.603812Z",
     "shell.execute_reply": "2024-12-19T15:00:28.602617Z"
    },
    "papermill": {
     "duration": 0.021811,
     "end_time": "2024-12-19T15:00:28.606128",
     "exception": false,
     "start_time": "2024-12-19T15:00:28.584317",
     "status": "completed"
    },
    "tags": []
   },
   "outputs": [],
   "source": [
    "import pyarabic.araby as araby\n",
    "\n",
    "# remove hamza ambiguity\n",
    "def remove_ambiguity_hamza(word): # useed\n",
    "          return araby.normalize_hamza(word)"
   ]
  },
  {
   "cell_type": "code",
   "execution_count": 13,
   "id": "8a946b2a",
   "metadata": {
    "execution": {
     "iopub.execute_input": "2024-12-19T15:00:28.632588Z",
     "iopub.status.busy": "2024-12-19T15:00:28.632203Z",
     "iopub.status.idle": "2024-12-19T15:00:28.637883Z",
     "shell.execute_reply": "2024-12-19T15:00:28.636665Z"
    },
    "papermill": {
     "duration": 0.021509,
     "end_time": "2024-12-19T15:00:28.640109",
     "exception": false,
     "start_time": "2024-12-19T15:00:28.618600",
     "status": "completed"
    },
    "tags": []
   },
   "outputs": [],
   "source": [
    "# romove \"AL\"\n",
    "def remove_AL(word): # useed\n",
    "          return re.sub(r'^ال', '', word)"
   ]
  },
  {
   "cell_type": "code",
   "execution_count": 14,
   "id": "48724a32",
   "metadata": {
    "execution": {
     "iopub.execute_input": "2024-12-19T15:00:28.667076Z",
     "iopub.status.busy": "2024-12-19T15:00:28.666669Z",
     "iopub.status.idle": "2024-12-19T15:00:28.674718Z",
     "shell.execute_reply": "2024-12-19T15:00:28.673671Z"
    },
    "papermill": {
     "duration": 0.024172,
     "end_time": "2024-12-19T15:00:28.677091",
     "exception": false,
     "start_time": "2024-12-19T15:00:28.652919",
     "status": "completed"
    },
    "tags": []
   },
   "outputs": [],
   "source": [
    "# remove repeated characters      \n",
    "def word_remover(word): # useed\n",
    "            if len(word) == 1 or len(word) == 0 or len(word) >= 13:\n",
    "                return \"\"                \n",
    "            else :\n",
    "                # print(word)\n",
    "                for a7rf in arabic_alphabet:\n",
    "                    if a7rf == 'د' or a7rf == 'ه':\n",
    "                        word = re.sub(fr'{a7rf}{{3,}}', a7rf * 2, word).strip()\n",
    "                    else:\n",
    "                        word = re.sub(fr'{a7rf}+', a7rf, word).strip()\n",
    "                # print(word) \n",
    "                for i in range(len(word)):\n",
    "                    if word[i] in word_in:\n",
    "                        index = word_in.index(word[i])\n",
    "                        word = word[:i] + replaced_by[index] + word[i + 1:]\n",
    "\n",
    "                return word\n"
   ]
  },
  {
   "cell_type": "code",
   "execution_count": 15,
   "id": "315e217f",
   "metadata": {
    "execution": {
     "iopub.execute_input": "2024-12-19T15:00:28.704748Z",
     "iopub.status.busy": "2024-12-19T15:00:28.703488Z",
     "iopub.status.idle": "2024-12-19T15:00:28.709882Z",
     "shell.execute_reply": "2024-12-19T15:00:28.708648Z"
    },
    "papermill": {
     "duration": 0.022644,
     "end_time": "2024-12-19T15:00:28.712603",
     "exception": false,
     "start_time": "2024-12-19T15:00:28.689959",
     "status": "completed"
    },
    "tags": []
   },
   "outputs": [],
   "source": [
    "# remove emails  \n",
    "def remove_url(text): # useed\n",
    "    text = re.sub(r'(https|http)?:\\/\\/(\\w|\\.|\\/|\\?|\\=|\\&|\\%)*\\b',\n",
    "                  '', text, flags=re.MULTILINE)\n",
    "    return text      \n",
    " "
   ]
  },
  {
   "cell_type": "code",
   "execution_count": 16,
   "id": "ecce7327",
   "metadata": {
    "execution": {
     "iopub.execute_input": "2024-12-19T15:00:28.739406Z",
     "iopub.status.busy": "2024-12-19T15:00:28.739019Z",
     "iopub.status.idle": "2024-12-19T15:00:28.745765Z",
     "shell.execute_reply": "2024-12-19T15:00:28.744625Z"
    },
    "papermill": {
     "duration": 0.022474,
     "end_time": "2024-12-19T15:00:28.748190",
     "exception": false,
     "start_time": "2024-12-19T15:00:28.725716",
     "status": "completed"
    },
    "tags": []
   },
   "outputs": [],
   "source": [
    " # remove emails     \n",
    "def remove_emails(text): # useed\n",
    "    text = re.sub(r'[a-zA-Z0-9._%+-]+@[a-zA-Z0-9.-]+\\.[a-zA-Z]{2,}', '', text, flags=re.MULTILINE)\n",
    "    return text  "
   ]
  },
  {
   "cell_type": "code",
   "execution_count": 17,
   "id": "2d61bb87",
   "metadata": {
    "execution": {
     "iopub.execute_input": "2024-12-19T15:00:28.775356Z",
     "iopub.status.busy": "2024-12-19T15:00:28.774969Z",
     "iopub.status.idle": "2024-12-19T15:00:28.781852Z",
     "shell.execute_reply": "2024-12-19T15:00:28.780632Z"
    },
    "papermill": {
     "duration": 0.023806,
     "end_time": "2024-12-19T15:00:28.784143",
     "exception": false,
     "start_time": "2024-12-19T15:00:28.760337",
     "status": "completed"
    },
    "tags": []
   },
   "outputs": [],
   "source": [
    "def special_tags_and_ponctuations(text):  # Function to clean special tags\n",
    "    text = re.sub(r'&amp;', '', text) \n",
    "    text = re.sub(r'&quot;', '', text)  \n",
    "    text = re.sub(r'!+', '!', text)\n",
    "    text = re.sub(r'\\?+', '?', text)\n",
    "    text = re.sub(r'\\.+', '.', text)\n",
    "\n",
    "    return text"
   ]
  },
  {
   "cell_type": "code",
   "execution_count": 18,
   "id": "55c106a6",
   "metadata": {
    "execution": {
     "iopub.execute_input": "2024-12-19T15:00:28.810567Z",
     "iopub.status.busy": "2024-12-19T15:00:28.810156Z",
     "iopub.status.idle": "2024-12-19T15:00:28.815732Z",
     "shell.execute_reply": "2024-12-19T15:00:28.814599Z"
    },
    "papermill": {
     "duration": 0.021368,
     "end_time": "2024-12-19T15:00:28.818019",
     "exception": false,
     "start_time": "2024-12-19T15:00:28.796651",
     "status": "completed"
    },
    "tags": []
   },
   "outputs": [],
   "source": [
    "def remove_html_tags(text):\n",
    "    text = re.sub(r'<[^>]+>', '', text)\n",
    "    return text"
   ]
  },
  {
   "cell_type": "code",
   "execution_count": 19,
   "id": "d5d6df96",
   "metadata": {
    "execution": {
     "iopub.execute_input": "2024-12-19T15:00:28.845006Z",
     "iopub.status.busy": "2024-12-19T15:00:28.843961Z",
     "iopub.status.idle": "2024-12-19T15:00:28.850854Z",
     "shell.execute_reply": "2024-12-19T15:00:28.849692Z"
    },
    "papermill": {
     "duration": 0.022899,
     "end_time": "2024-12-19T15:00:28.853291",
     "exception": false,
     "start_time": "2024-12-19T15:00:28.830392",
     "status": "completed"
    },
    "tags": []
   },
   "outputs": [],
   "source": [
    "# hundle emojis\n",
    "def extend_spletting(items):  # helper function to split items\n",
    "    spletting = []\n",
    "    for item in items:\n",
    "        spletting.extend(item.split())\n",
    "    return spletting"
   ]
  },
  {
   "cell_type": "code",
   "execution_count": 20,
   "id": "cec0824f",
   "metadata": {
    "execution": {
     "iopub.execute_input": "2024-12-19T15:00:28.879740Z",
     "iopub.status.busy": "2024-12-19T15:00:28.879338Z",
     "iopub.status.idle": "2024-12-19T15:00:28.885579Z",
     "shell.execute_reply": "2024-12-19T15:00:28.884624Z"
    },
    "papermill": {
     "duration": 0.022234,
     "end_time": "2024-12-19T15:00:28.888065",
     "exception": false,
     "start_time": "2024-12-19T15:00:28.865831",
     "status": "completed"
    },
    "tags": []
   },
   "outputs": [],
   "source": [
    "def emoji_hundler(word):  # helper function to handle emojis\n",
    "    word = emoji.demojize(word, language='ar')\n",
    "    word = replace_underscore(word)[1:-1]\n",
    "    return word"
   ]
  },
  {
   "cell_type": "code",
   "execution_count": 21,
   "id": "a6d38c3c",
   "metadata": {
    "execution": {
     "iopub.execute_input": "2024-12-19T15:00:28.915106Z",
     "iopub.status.busy": "2024-12-19T15:00:28.914749Z",
     "iopub.status.idle": "2024-12-19T15:00:28.922598Z",
     "shell.execute_reply": "2024-12-19T15:00:28.921534Z"
    },
    "papermill": {
     "duration": 0.023899,
     "end_time": "2024-12-19T15:00:28.924974",
     "exception": false,
     "start_time": "2024-12-19T15:00:28.901075",
     "status": "completed"
    },
    "tags": []
   },
   "outputs": [],
   "source": [
    "def is_an_emoji(word):\n",
    "    emoji_pattern = re.compile(\"[\"  \n",
    "                               u\"\\U0001F680-\\U0001F6FF\"  # transport and map unicods\n",
    "                               u\"\\U0001F1E0-\\U0001F1FF\"  # flags unicods\n",
    "                               \"]+\", flags=re.UNICODE)\n",
    "\n",
    "    if emoji.is_emoji(word):\n",
    "        word = emoji_pattern.sub(r'', word)\n",
    "        return extend_spletting([emoji_hundler(word)])\n",
    "\n",
    "    elif emoji.purely_emoji(word):\n",
    "        data_of_emojis = emoji.distinct_emoji_list(word)\n",
    "        data = [emoji_hundler(emoji_pattern.sub(r'', item)) for item in data_of_emojis]\n",
    "        return extend_spletting(data)\n",
    "\n",
    "    else:\n",
    "        text_only = re.sub(r'[^\\w\\s?!]', '', word)\n",
    "        data_of_emojis = emoji.distinct_emoji_list(word)\n",
    "        emojis = [emoji_hundler(emoji_pattern.sub(r'', item)) for item in data_of_emojis]\n",
    "        \n",
    "        return [text_only] + extend_spletting(emojis)\n"
   ]
  },
  {
   "cell_type": "code",
   "execution_count": 22,
   "id": "df5edcf9",
   "metadata": {
    "execution": {
     "iopub.execute_input": "2024-12-19T15:00:28.951696Z",
     "iopub.status.busy": "2024-12-19T15:00:28.950603Z",
     "iopub.status.idle": "2024-12-19T15:00:28.957738Z",
     "shell.execute_reply": "2024-12-19T15:00:28.956608Z"
    },
    "papermill": {
     "duration": 0.022852,
     "end_time": "2024-12-19T15:00:28.959992",
     "exception": false,
     "start_time": "2024-12-19T15:00:28.937140",
     "status": "completed"
    },
    "tags": []
   },
   "outputs": [],
   "source": [
    "# tramslating darija(latin) to daruja(arabic)\n",
    "def translate_darija_to_arabic(word): # useed\n",
    "    # print(\"test\")\n",
    "    word = word.lower()\n",
    "    if  bool(re.compile(r\"[a-z0-9']+\").search(word)):\n",
    "        arabic_word = \"\"\n",
    "        i = 0\n",
    "        while i < len(word):\n",
    "            # print('sadd')\n",
    "            if i + 1 < len(word) and word[i:i+2] in darija_alphabet: # Check for 2 lettrs\n",
    "                arabic_word += darija_alphabet[word[i:i+2]]\n",
    "                i += 2\n",
    "            elif word[i] in darija_alphabet:\n",
    "                arabic_word += darija_alphabet[word[i]]\n",
    "                i += 1\n",
    "            else:\n",
    "                i += 1\n",
    "        return arabic_word\n",
    "    return word\n",
    "      "
   ]
  },
  {
   "cell_type": "code",
   "execution_count": 23,
   "id": "8eb155c4",
   "metadata": {
    "execution": {
     "iopub.execute_input": "2024-12-19T15:00:28.987176Z",
     "iopub.status.busy": "2024-12-19T15:00:28.986764Z",
     "iopub.status.idle": "2024-12-19T15:00:28.992704Z",
     "shell.execute_reply": "2024-12-19T15:00:28.991549Z"
    },
    "papermill": {
     "duration": 0.022592,
     "end_time": "2024-12-19T15:00:28.995025",
     "exception": false,
     "start_time": "2024-12-19T15:00:28.972433",
     "status": "completed"
    },
    "tags": []
   },
   "outputs": [],
   "source": [
    "# remove  number arabic and latin\n",
    "def number_remov(listy): # useed\n",
    "    number_pattern = re.compile(r'^[0-9\\u0660-\\u0669]+$')\n",
    "    cleaned_list = [item for item in listy if not number_pattern.fullmatch(item)] \n",
    "    return cleaned_list   "
   ]
  },
  {
   "cell_type": "code",
   "execution_count": 24,
   "id": "4c88d21d",
   "metadata": {
    "execution": {
     "iopub.execute_input": "2024-12-19T15:00:29.021022Z",
     "iopub.status.busy": "2024-12-19T15:00:29.020626Z",
     "iopub.status.idle": "2024-12-19T15:00:29.027817Z",
     "shell.execute_reply": "2024-12-19T15:00:29.026636Z"
    },
    "papermill": {
     "duration": 0.02266,
     "end_time": "2024-12-19T15:00:29.029969",
     "exception": false,
     "start_time": "2024-12-19T15:00:29.007309",
     "status": "completed"
    },
    "tags": []
   },
   "outputs": [],
   "source": [
    "#stemming arabic words     \n",
    "def stemming_darija(word):\n",
    "    # file = \"./Data_prep/suf_pref_darija.json\" # local run\n",
    "    file = \"suf_pref_darija.json\" \n",
    "\n",
    "    with open(file, 'r', encoding='utf-8') as json_file:\n",
    "        suf_pref = json.load(json_file)\n",
    "\n",
    "    ArListem = ArabicLightStemmer()\n",
    "    ArListem.set_prefix_list(suf_pref['darija_prefixes'])\n",
    "    ArListem.set_suffix_list(suf_pref['darija_suffixes'])\n",
    "    ArListem.light_stem(word)  \n",
    "    return ArListem.get_stem() "
   ]
  },
  {
   "cell_type": "code",
   "execution_count": 25,
   "id": "52c2450f",
   "metadata": {
    "execution": {
     "iopub.execute_input": "2024-12-19T15:00:29.056229Z",
     "iopub.status.busy": "2024-12-19T15:00:29.055833Z",
     "iopub.status.idle": "2024-12-19T15:00:29.061606Z",
     "shell.execute_reply": "2024-12-19T15:00:29.060594Z"
    },
    "papermill": {
     "duration": 0.021432,
     "end_time": "2024-12-19T15:00:29.063758",
     "exception": false,
     "start_time": "2024-12-19T15:00:29.042326",
     "status": "completed"
    },
    "tags": []
   },
   "outputs": [],
   "source": [
    "# \"03:44\"\n",
    "def remove_yt_timers(text):\n",
    "    pattern = r'\\b\\d{1,2}:\\d{2,3}(:\\d{2,3})?\\b'\n",
    "    text = re.sub(pattern, '', text)\n",
    "    return text.strip()"
   ]
  },
  {
   "cell_type": "code",
   "execution_count": 26,
   "id": "6b5a3726",
   "metadata": {
    "execution": {
     "iopub.execute_input": "2024-12-19T15:00:29.090143Z",
     "iopub.status.busy": "2024-12-19T15:00:29.089726Z",
     "iopub.status.idle": "2024-12-19T15:00:29.095664Z",
     "shell.execute_reply": "2024-12-19T15:00:29.094551Z"
    },
    "papermill": {
     "duration": 0.021952,
     "end_time": "2024-12-19T15:00:29.098010",
     "exception": false,
     "start_time": "2024-12-19T15:00:29.076058",
     "status": "completed"
    },
    "tags": []
   },
   "outputs": [],
   "source": [
    "\n",
    "def preproc_arab_sentence(word): # main function for  arab processing tokens\n",
    "    word = removing_tashkeel(word)\n",
    "    word = removing_tatweel(word)\n",
    "    word = remove_AL(word)\n",
    "    # word = remove_ambiguity_hamza(word)\n",
    "    word = word_remover(word)\n",
    "    return word\n"
   ]
  },
  {
   "cell_type": "code",
   "execution_count": 27,
   "id": "5c9eadbf",
   "metadata": {
    "execution": {
     "iopub.execute_input": "2024-12-19T15:00:29.124426Z",
     "iopub.status.busy": "2024-12-19T15:00:29.124037Z",
     "iopub.status.idle": "2024-12-19T15:00:29.133659Z",
     "shell.execute_reply": "2024-12-19T15:00:29.132542Z"
    },
    "papermill": {
     "duration": 0.025475,
     "end_time": "2024-12-19T15:00:29.135765",
     "exception": false,
     "start_time": "2024-12-19T15:00:29.110290",
     "status": "completed"
    },
    "tags": []
   },
   "outputs": [],
   "source": [
    "from pyarabic.araby import tokenize\n",
    "def tokenize_arab_text(text):\n",
    "            # with open('./Data_prep/stop_words_accum.json', 'r', encoding='utf-8') as file: #  local run \n",
    "            with open('./stop_words_accum.json', 'r', encoding='utf-8') as file:\n",
    "\n",
    "                stop_words = json.load(file)\n",
    "\n",
    "            # with open('./Data_prep/darija_latin_ref.json', 'r', encoding='utf-8') as file: #  local run \n",
    "            with open('./darija_latin_ref.json', 'r', encoding='utf-8') as file:\n",
    "                \n",
    "                darija_latin_ref = json.load(file)\n",
    "          \n",
    "            #print(text)\n",
    "            text = remove_url(text)\n",
    "            text = remove_emails(text)\n",
    "            text = replace_underscore(text)\n",
    "            text = remove_html_tags(text)\n",
    "            text = remove_yt_timers(text)\n",
    "            text = special_tags_and_ponctuations(text)\n",
    "            #tokenization\n",
    "            print(text)\n",
    "            words = tokenize(text)\n",
    "            print(words)\n",
    "            words = [ translate_darija_to_arabic(word) for word in words if word not in darija_latin_ref]\n",
    "            print(words)\n",
    "            words = [is_an_emoji(word) for word in words] \n",
    "            words = [item for sublist in words for item in sublist if item]\n",
    "            words = list(set(words))\n",
    "            print(words)        \n",
    "            words = [word for word in words if word not in stop_words]\n",
    "            print(words)\n",
    "\n",
    "            words = [preproc_arab_sentence(word) for word in words]\n",
    "\n",
    "            # print(words)        \n",
    "            words = [stemming_darija(word) for word in words if word]\n",
    "            words = number_remov(words)\n",
    "\n",
    "\n",
    "            # print(words)\n",
    "            words = ' '.join(words) \n",
    "            return words"
   ]
  },
  {
   "cell_type": "code",
   "execution_count": 28,
   "id": "13b427e0",
   "metadata": {
    "execution": {
     "iopub.execute_input": "2024-12-19T15:00:29.163622Z",
     "iopub.status.busy": "2024-12-19T15:00:29.163204Z",
     "iopub.status.idle": "2024-12-19T15:00:29.178538Z",
     "shell.execute_reply": "2024-12-19T15:00:29.177522Z"
    },
    "papermill": {
     "duration": 0.032015,
     "end_time": "2024-12-19T15:00:29.180924",
     "exception": false,
     "start_time": "2024-12-19T15:00:29.148909",
     "status": "completed"
    },
    "tags": []
   },
   "outputs": [
    {
     "data": {
      "text/html": [
       "<div>\n",
       "<style scoped>\n",
       "    .dataframe tbody tr th:only-of-type {\n",
       "        vertical-align: middle;\n",
       "    }\n",
       "\n",
       "    .dataframe tbody tr th {\n",
       "        vertical-align: top;\n",
       "    }\n",
       "\n",
       "    .dataframe thead th {\n",
       "        text-align: right;\n",
       "    }\n",
       "</style>\n",
       "<table border=\"1\" class=\"dataframe\">\n",
       "  <thead>\n",
       "    <tr style=\"text-align: right;\">\n",
       "      <th></th>\n",
       "      <th>text</th>\n",
       "      <th>target</th>\n",
       "      <th>text_cleaned</th>\n",
       "    </tr>\n",
       "  </thead>\n",
       "  <tbody>\n",
       "    <tr>\n",
       "      <th>25037</th>\n",
       "      <td>كيف؟\\nهم من اشعلوها !\\nمن اجل المسعدات الدولية...</td>\n",
       "      <td>0</td>\n",
       "      <td>مسعد ويربحون اشعلوها اجل يخسرون يربحون  !</td>\n",
       "    </tr>\n",
       "    <tr>\n",
       "      <th>2591</th>\n",
       "      <td>بغينا نعرفو سبب منع المديريات الجهوية من التوا...</td>\n",
       "      <td>0</td>\n",
       "      <td>مديري وتزويد محينه بالمعطي</td>\n",
       "    </tr>\n",
       "    <tr>\n",
       "      <th>29280</th>\n",
       "      <td>وما علاقة الفتنة والتماسيح والأشباح كلنا مغارب...</td>\n",
       "      <td>0</td>\n",
       "      <td>والتماسيح فتنه والاشباح متابعه وطحن خل لا ستقل...</td>\n",
       "    </tr>\n",
       "    <tr>\n",
       "      <th>6296</th>\n",
       "      <td>وزير دون المستوى، شوهه لاعلم ،لاتقافه ،لا لغه ...</td>\n",
       "      <td>0</td>\n",
       "      <td>لاتقافه استقاله لاعلم عار شوهه لا لغه</td>\n",
       "    </tr>\n",
       "    <tr>\n",
       "      <th>23416</th>\n",
       "      <td>لا حكومة لا سلطة كاملين ولد قحاب</td>\n",
       "      <td>0</td>\n",
       "      <td>قحاب لا</td>\n",
       "    </tr>\n",
       "  </tbody>\n",
       "</table>\n",
       "</div>"
      ],
      "text/plain": [
       "                                                    text  target  \\\n",
       "25037  كيف؟\\nهم من اشعلوها !\\nمن اجل المسعدات الدولية...       0   \n",
       "2591   بغينا نعرفو سبب منع المديريات الجهوية من التوا...       0   \n",
       "29280  وما علاقة الفتنة والتماسيح والأشباح كلنا مغارب...       0   \n",
       "6296   وزير دون المستوى، شوهه لاعلم ،لاتقافه ،لا لغه ...       0   \n",
       "23416                   لا حكومة لا سلطة كاملين ولد قحاب       0   \n",
       "\n",
       "                                            text_cleaned  \n",
       "25037         مسعد ويربحون اشعلوها اجل يخسرون يربحون  !   \n",
       "2591                          مديري وتزويد محينه بالمعطي  \n",
       "29280  والتماسيح فتنه والاشباح متابعه وطحن خل لا ستقل...  \n",
       "6296               لاتقافه استقاله لاعلم عار شوهه لا لغه  \n",
       "23416                                            قحاب لا  "
      ]
     },
     "execution_count": 28,
     "metadata": {},
     "output_type": "execute_result"
    }
   ],
   "source": [
    "df.head()"
   ]
  },
  {
   "cell_type": "code",
   "execution_count": 29,
   "id": "75f54e03",
   "metadata": {
    "execution": {
     "iopub.execute_input": "2024-12-19T15:00:29.207914Z",
     "iopub.status.busy": "2024-12-19T15:00:29.207537Z",
     "iopub.status.idle": "2024-12-19T15:00:29.224931Z",
     "shell.execute_reply": "2024-12-19T15:00:29.223524Z"
    },
    "papermill": {
     "duration": 0.03377,
     "end_time": "2024-12-19T15:00:29.227498",
     "exception": false,
     "start_time": "2024-12-19T15:00:29.193728",
     "status": "completed"
    },
    "tags": []
   },
   "outputs": [
    {
     "name": "stdout",
     "output_type": "stream",
     "text": [
      "<class 'pandas.core.frame.DataFrame'>\n",
      "Index: 17500 entries, 25037 to 29896\n",
      "Data columns (total 3 columns):\n",
      " #   Column        Non-Null Count  Dtype \n",
      "---  ------        --------------  ----- \n",
      " 0   text          17500 non-null  object\n",
      " 1   target        17500 non-null  int64 \n",
      " 2   text_cleaned  16899 non-null  object\n",
      "dtypes: int64(1), object(2)\n",
      "memory usage: 546.9+ KB\n"
     ]
    }
   ],
   "source": [
    "df.info()"
   ]
  },
  {
   "cell_type": "code",
   "execution_count": 30,
   "id": "c8c6ee99",
   "metadata": {
    "execution": {
     "iopub.execute_input": "2024-12-19T15:00:29.254072Z",
     "iopub.status.busy": "2024-12-19T15:00:29.253666Z",
     "iopub.status.idle": "2024-12-19T15:00:29.270990Z",
     "shell.execute_reply": "2024-12-19T15:00:29.269562Z"
    },
    "papermill": {
     "duration": 0.03335,
     "end_time": "2024-12-19T15:00:29.273353",
     "exception": false,
     "start_time": "2024-12-19T15:00:29.240003",
     "status": "completed"
    },
    "tags": []
   },
   "outputs": [],
   "source": [
    "df.dropna(inplace=True)"
   ]
  },
  {
   "cell_type": "code",
   "execution_count": 31,
   "id": "834fe1b8",
   "metadata": {
    "execution": {
     "iopub.execute_input": "2024-12-19T15:00:29.300960Z",
     "iopub.status.busy": "2024-12-19T15:00:29.300553Z",
     "iopub.status.idle": "2024-12-19T15:00:29.320900Z",
     "shell.execute_reply": "2024-12-19T15:00:29.319481Z"
    },
    "papermill": {
     "duration": 0.037828,
     "end_time": "2024-12-19T15:00:29.323742",
     "exception": false,
     "start_time": "2024-12-19T15:00:29.285914",
     "status": "completed"
    },
    "tags": []
   },
   "outputs": [],
   "source": [
    "from sklearn.model_selection import train_test_split\n",
    "\n",
    "X_train, X_test, y_train, y_test = train_test_split( df.drop(columns=[\"target\"]),df[\"target\"], test_size=0.2 , stratify=df['target'] ,shuffle=True , random_state=123)"
   ]
  },
  {
   "cell_type": "code",
   "execution_count": 32,
   "id": "4b2fd07a",
   "metadata": {
    "execution": {
     "iopub.execute_input": "2024-12-19T15:00:29.351527Z",
     "iopub.status.busy": "2024-12-19T15:00:29.350434Z",
     "iopub.status.idle": "2024-12-19T15:00:29.361861Z",
     "shell.execute_reply": "2024-12-19T15:00:29.360514Z"
    },
    "papermill": {
     "duration": 0.027625,
     "end_time": "2024-12-19T15:00:29.364321",
     "exception": false,
     "start_time": "2024-12-19T15:00:29.336696",
     "status": "completed"
    },
    "tags": []
   },
   "outputs": [
    {
     "data": {
      "text/plain": [
       "target\n",
       "0    1719\n",
       "1    1661\n",
       "Name: count, dtype: int64"
      ]
     },
     "execution_count": 32,
     "metadata": {},
     "output_type": "execute_result"
    }
   ],
   "source": [
    "y_test.value_counts()"
   ]
  },
  {
   "cell_type": "code",
   "execution_count": 33,
   "id": "57965d11",
   "metadata": {
    "execution": {
     "iopub.execute_input": "2024-12-19T15:00:29.392169Z",
     "iopub.status.busy": "2024-12-19T15:00:29.391761Z",
     "iopub.status.idle": "2024-12-19T15:00:29.399724Z",
     "shell.execute_reply": "2024-12-19T15:00:29.398515Z"
    },
    "papermill": {
     "duration": 0.024287,
     "end_time": "2024-12-19T15:00:29.402049",
     "exception": false,
     "start_time": "2024-12-19T15:00:29.377762",
     "status": "completed"
    },
    "tags": []
   },
   "outputs": [
    {
     "data": {
      "text/plain": [
       "(13519, 2)"
      ]
     },
     "execution_count": 33,
     "metadata": {},
     "output_type": "execute_result"
    }
   ],
   "source": [
    "X_train.shape"
   ]
  },
  {
   "cell_type": "markdown",
   "id": "02c4f276",
   "metadata": {
    "papermill": {
     "duration": 0.012914,
     "end_time": "2024-12-19T15:00:29.428992",
     "exception": false,
     "start_time": "2024-12-19T15:00:29.416078",
     "status": "completed"
    },
    "tags": []
   },
   "source": [
    "## Useful Function"
   ]
  },
  {
   "cell_type": "code",
   "execution_count": 34,
   "id": "1454c095",
   "metadata": {
    "execution": {
     "iopub.execute_input": "2024-12-19T15:00:29.459475Z",
     "iopub.status.busy": "2024-12-19T15:00:29.459063Z",
     "iopub.status.idle": "2024-12-19T15:00:30.022634Z",
     "shell.execute_reply": "2024-12-19T15:00:30.021422Z"
    },
    "papermill": {
     "duration": 0.58162,
     "end_time": "2024-12-19T15:00:30.025221",
     "exception": false,
     "start_time": "2024-12-19T15:00:29.443601",
     "status": "completed"
    },
    "tags": []
   },
   "outputs": [],
   "source": [
    "import numpy as np\n",
    "from sklearn.metrics import accuracy_score, f1_score, classification_report, confusion_matrix\n",
    "import seaborn as sns\n",
    "import matplotlib.pyplot as plt\n",
    "\n",
    "def about_model(model_name , y_test, y_pred):\n",
    "    print('-------------------> ' + model_name )\n",
    "    accuracy = accuracy_score(y_test, y_pred)\n",
    "    print(f\"Accuracy: {accuracy:.2f}\")\n",
    "    \n",
    "    f1 = f1_score(y_test, y_pred, average=None)\n",
    "    print(\"F1-Score for each class:\")\n",
    "    class_labels = ['Positive', 'Negative']\n",
    "\n",
    "    for i, score in enumerate(f1):\n",
    "        print(f\"{class_labels[i]}: {score:.2f}\")\n",
    "    \n",
    "    print(\"\\nClassification Report:\")\n",
    "    print(classification_report(y_test, y_pred, target_names=class_labels, digits=2))\n",
    "    \n",
    "    conf_matrix = confusion_matrix(y_test, y_pred)\n",
    "    plt.figure(figsize=(8, 6))\n",
    "    sns.heatmap(conf_matrix, annot=True, fmt='d', cmap='Blues', \n",
    "                xticklabels=class_labels,\n",
    "                yticklabels=class_labels)\n",
    "    plt.xlabel(\"Predicted\")\n",
    "    plt.ylabel(\"Actual\")\n",
    "    plt.title(\"Confusion Matrix\")\n",
    "    plt.show()\n"
   ]
  },
  {
   "cell_type": "markdown",
   "id": "7f2e43cf",
   "metadata": {
    "papermill": {
     "duration": 0.012476,
     "end_time": "2024-12-19T15:00:30.051256",
     "exception": false,
     "start_time": "2024-12-19T15:00:30.038780",
     "status": "completed"
    },
    "tags": []
   },
   "source": [
    "## Feature Engineering\n",
    "Converting text to vectors format:\n",
    "- CountVectorizer (ngram_range=(1, 3))"
   ]
  },
  {
   "cell_type": "code",
   "execution_count": 35,
   "id": "4e62beb4",
   "metadata": {
    "execution": {
     "iopub.execute_input": "2024-12-19T15:00:30.080266Z",
     "iopub.status.busy": "2024-12-19T15:00:30.079748Z",
     "iopub.status.idle": "2024-12-19T15:00:30.085585Z",
     "shell.execute_reply": "2024-12-19T15:00:30.084407Z"
    },
    "papermill": {
     "duration": 0.02233,
     "end_time": "2024-12-19T15:00:30.087946",
     "exception": false,
     "start_time": "2024-12-19T15:00:30.065616",
     "status": "completed"
    },
    "tags": []
   },
   "outputs": [],
   "source": [
    "#from sklearn.feature_extraction.text import TfidfVectorizer\n",
    "\n",
    "\n",
    "#tfidf_vectorizer = TfidfVectorizer(ngram_range=(1, 2))\n",
    "#X_train['text_cleaned'] = X_train['text_cleaned'].astype(str)\n",
    "#X_test['text_cleaned'] = X_test['text_cleaned'].astype(str)\n",
    "\n",
    "#X_train_tfidf = tfidf_vectorizer.fit_transform(X_train['text_cleaned'])\n",
    "#X_test_tfidf = tfidf_vectorizer.transform(X_test['text_cleaned'])\n",
    "\n"
   ]
  },
  {
   "cell_type": "code",
   "execution_count": 36,
   "id": "7c6af6c0",
   "metadata": {
    "execution": {
     "iopub.execute_input": "2024-12-19T15:00:30.117938Z",
     "iopub.status.busy": "2024-12-19T15:00:30.117546Z",
     "iopub.status.idle": "2024-12-19T15:00:31.628374Z",
     "shell.execute_reply": "2024-12-19T15:00:31.627201Z"
    },
    "papermill": {
     "duration": 1.529208,
     "end_time": "2024-12-19T15:00:31.630941",
     "exception": false,
     "start_time": "2024-12-19T15:00:30.101733",
     "status": "completed"
    },
    "tags": []
   },
   "outputs": [
    {
     "name": "stdout",
     "output_type": "stream",
     "text": [
      "all tokens:  142569\n",
      "reduced tokens:  142569\n"
     ]
    }
   ],
   "source": [
    "from sklearn.feature_extraction.text import CountVectorizer\n",
    "import numpy as np\n",
    "import pandas as pd\n",
    "\n",
    "tfidf_vectorizer = CountVectorizer(ngram_range=(1, 3))\n",
    "\n",
    "X_train['text_cleaned'] = X_train['text_cleaned'].astype(str)\n",
    "X_test['text_cleaned'] = X_test['text_cleaned'].astype(str)\n",
    "\n",
    "X_train_tfidf = tfidf_vectorizer.fit_transform(X_train['text_cleaned'])\n",
    "X_test_tfidf = tfidf_vectorizer.transform(X_test['text_cleaned'])\n",
    "\n",
    "words = tfidf_vectorizer.get_feature_names_out()\n",
    "print(\"all tokens: \" , len(words))\n",
    "tfidf_scores = np.asarray(X_train_tfidf.sum(axis=0)).flatten()\n",
    "\n",
    "sorted_indices = np.argsort(tfidf_scores)[::-1]\n",
    "\n",
    "cumulative_tfidf = np.cumsum(tfidf_scores[sorted_indices])\n",
    "\n",
    "total_tfidf = cumulative_tfidf[-1]\n",
    "threshold =  total_tfidf\n",
    "\n",
    "cutoff_index = np.where(cumulative_tfidf >= threshold)[0][0]\n",
    "\n",
    "selected_ngrams = words[sorted_indices][:cutoff_index + 1]\n",
    "\n",
    "selected_vocab = selected_ngrams.tolist()\n",
    "print(\"reduced tokens: \"  , len(selected_vocab))\n",
    "\n",
    "tfidf_vectorizer = CountVectorizer(vocabulary=selected_vocab)\n",
    "\n",
    "X_train_tfidf = tfidf_vectorizer.fit_transform(X_train['text_cleaned'])\n",
    "X_test_tfidf = tfidf_vectorizer.transform(X_test['text_cleaned'])\n"
   ]
  },
  {
   "cell_type": "code",
   "execution_count": 37,
   "id": "e240d4c5",
   "metadata": {
    "execution": {
     "iopub.execute_input": "2024-12-19T15:00:31.660272Z",
     "iopub.status.busy": "2024-12-19T15:00:31.659743Z",
     "iopub.status.idle": "2024-12-19T15:00:31.773474Z",
     "shell.execute_reply": "2024-12-19T15:00:31.772206Z"
    },
    "papermill": {
     "duration": 0.131692,
     "end_time": "2024-12-19T15:00:31.775889",
     "exception": false,
     "start_time": "2024-12-19T15:00:31.644197",
     "status": "completed"
    },
    "tags": []
   },
   "outputs": [
    {
     "data": {
      "text/plain": [
       "array(['لا', 'غير', 'ما', 'هه', 'ماش', 'خير', 'هم', 'قلب', 'سير', 'تفو',\n",
       "       'حمد', 'لم', 'عداله', 'فرح', 'قوه', 'احسن', 'عديم', 'كورو', 'فكر',\n",
       "       'مبروك', 'ليس', 'سح', 'تحيه', 'بدموع', 'والو', 'طحن', 'وباا',\n",
       "       'تنميه', 'فيروس', 'وفي'], dtype=object)"
      ]
     },
     "execution_count": 37,
     "metadata": {},
     "output_type": "execute_result"
    }
   ],
   "source": [
    "tfidf_vectorizer.get_feature_names_out()[:30]"
   ]
  },
  {
   "cell_type": "code",
   "execution_count": 38,
   "id": "6ef48026",
   "metadata": {
    "execution": {
     "iopub.execute_input": "2024-12-19T15:00:31.805124Z",
     "iopub.status.busy": "2024-12-19T15:00:31.803984Z",
     "iopub.status.idle": "2024-12-19T15:00:31.907243Z",
     "shell.execute_reply": "2024-12-19T15:00:31.906100Z"
    },
    "papermill": {
     "duration": 0.120683,
     "end_time": "2024-12-19T15:00:31.909625",
     "exception": false,
     "start_time": "2024-12-19T15:00:31.788942",
     "status": "completed"
    },
    "tags": []
   },
   "outputs": [
    {
     "data": {
      "text/plain": [
       "142569"
      ]
     },
     "execution_count": 38,
     "metadata": {},
     "output_type": "execute_result"
    }
   ],
   "source": [
    "len(tfidf_vectorizer.get_feature_names_out())"
   ]
  },
  {
   "cell_type": "markdown",
   "id": "672e4fee",
   "metadata": {
    "papermill": {
     "duration": 0.014168,
     "end_time": "2024-12-19T15:00:31.936666",
     "exception": false,
     "start_time": "2024-12-19T15:00:31.922498",
     "status": "completed"
    },
    "tags": []
   },
   "source": [
    "## Model Development\n"
   ]
  },
  {
   "cell_type": "markdown",
   "id": "8cf47c91",
   "metadata": {
    "papermill": {
     "duration": 0.015038,
     "end_time": "2024-12-19T15:00:31.966571",
     "exception": false,
     "start_time": "2024-12-19T15:00:31.951533",
     "status": "completed"
    },
    "tags": []
   },
   "source": [
    "### Random Forest"
   ]
  },
  {
   "cell_type": "code",
   "execution_count": 39,
   "id": "f3c8401f",
   "metadata": {
    "execution": {
     "iopub.execute_input": "2024-12-19T15:00:31.996047Z",
     "iopub.status.busy": "2024-12-19T15:00:31.994910Z",
     "iopub.status.idle": "2024-12-19T15:05:50.067802Z",
     "shell.execute_reply": "2024-12-19T15:05:50.066485Z"
    },
    "papermill": {
     "duration": 318.103962,
     "end_time": "2024-12-19T15:05:50.083939",
     "exception": false,
     "start_time": "2024-12-19T15:00:31.979977",
     "status": "completed"
    },
    "tags": []
   },
   "outputs": [
    {
     "data": {
      "text/html": [
       "<style>#sk-container-id-1 {color: black;background-color: white;}#sk-container-id-1 pre{padding: 0;}#sk-container-id-1 div.sk-toggleable {background-color: white;}#sk-container-id-1 label.sk-toggleable__label {cursor: pointer;display: block;width: 100%;margin-bottom: 0;padding: 0.3em;box-sizing: border-box;text-align: center;}#sk-container-id-1 label.sk-toggleable__label-arrow:before {content: \"▸\";float: left;margin-right: 0.25em;color: #696969;}#sk-container-id-1 label.sk-toggleable__label-arrow:hover:before {color: black;}#sk-container-id-1 div.sk-estimator:hover label.sk-toggleable__label-arrow:before {color: black;}#sk-container-id-1 div.sk-toggleable__content {max-height: 0;max-width: 0;overflow: hidden;text-align: left;background-color: #f0f8ff;}#sk-container-id-1 div.sk-toggleable__content pre {margin: 0.2em;color: black;border-radius: 0.25em;background-color: #f0f8ff;}#sk-container-id-1 input.sk-toggleable__control:checked~div.sk-toggleable__content {max-height: 200px;max-width: 100%;overflow: auto;}#sk-container-id-1 input.sk-toggleable__control:checked~label.sk-toggleable__label-arrow:before {content: \"▾\";}#sk-container-id-1 div.sk-estimator input.sk-toggleable__control:checked~label.sk-toggleable__label {background-color: #d4ebff;}#sk-container-id-1 div.sk-label input.sk-toggleable__control:checked~label.sk-toggleable__label {background-color: #d4ebff;}#sk-container-id-1 input.sk-hidden--visually {border: 0;clip: rect(1px 1px 1px 1px);clip: rect(1px, 1px, 1px, 1px);height: 1px;margin: -1px;overflow: hidden;padding: 0;position: absolute;width: 1px;}#sk-container-id-1 div.sk-estimator {font-family: monospace;background-color: #f0f8ff;border: 1px dotted black;border-radius: 0.25em;box-sizing: border-box;margin-bottom: 0.5em;}#sk-container-id-1 div.sk-estimator:hover {background-color: #d4ebff;}#sk-container-id-1 div.sk-parallel-item::after {content: \"\";width: 100%;border-bottom: 1px solid gray;flex-grow: 1;}#sk-container-id-1 div.sk-label:hover label.sk-toggleable__label {background-color: #d4ebff;}#sk-container-id-1 div.sk-serial::before {content: \"\";position: absolute;border-left: 1px solid gray;box-sizing: border-box;top: 0;bottom: 0;left: 50%;z-index: 0;}#sk-container-id-1 div.sk-serial {display: flex;flex-direction: column;align-items: center;background-color: white;padding-right: 0.2em;padding-left: 0.2em;position: relative;}#sk-container-id-1 div.sk-item {position: relative;z-index: 1;}#sk-container-id-1 div.sk-parallel {display: flex;align-items: stretch;justify-content: center;background-color: white;position: relative;}#sk-container-id-1 div.sk-item::before, #sk-container-id-1 div.sk-parallel-item::before {content: \"\";position: absolute;border-left: 1px solid gray;box-sizing: border-box;top: 0;bottom: 0;left: 50%;z-index: -1;}#sk-container-id-1 div.sk-parallel-item {display: flex;flex-direction: column;z-index: 1;position: relative;background-color: white;}#sk-container-id-1 div.sk-parallel-item:first-child::after {align-self: flex-end;width: 50%;}#sk-container-id-1 div.sk-parallel-item:last-child::after {align-self: flex-start;width: 50%;}#sk-container-id-1 div.sk-parallel-item:only-child::after {width: 0;}#sk-container-id-1 div.sk-dashed-wrapped {border: 1px dashed gray;margin: 0 0.4em 0.5em 0.4em;box-sizing: border-box;padding-bottom: 0.4em;background-color: white;}#sk-container-id-1 div.sk-label label {font-family: monospace;font-weight: bold;display: inline-block;line-height: 1.2em;}#sk-container-id-1 div.sk-label-container {text-align: center;}#sk-container-id-1 div.sk-container {/* jupyter's `normalize.less` sets `[hidden] { display: none; }` but bootstrap.min.css set `[hidden] { display: none !important; }` so we also need the `!important` here to be able to override the default hidden behavior on the sphinx rendered scikit-learn.org. See: https://github.com/scikit-learn/scikit-learn/issues/21755 */display: inline-block !important;position: relative;}#sk-container-id-1 div.sk-text-repr-fallback {display: none;}</style><div id=\"sk-container-id-1\" class=\"sk-top-container\"><div class=\"sk-text-repr-fallback\"><pre>RandomForestClassifier()</pre><b>In a Jupyter environment, please rerun this cell to show the HTML representation or trust the notebook. <br />On GitHub, the HTML representation is unable to render, please try loading this page with nbviewer.org.</b></div><div class=\"sk-container\" hidden><div class=\"sk-item\"><div class=\"sk-estimator sk-toggleable\"><input class=\"sk-toggleable__control sk-hidden--visually\" id=\"sk-estimator-id-1\" type=\"checkbox\" checked><label for=\"sk-estimator-id-1\" class=\"sk-toggleable__label sk-toggleable__label-arrow\">RandomForestClassifier</label><div class=\"sk-toggleable__content\"><pre>RandomForestClassifier()</pre></div></div></div></div></div>"
      ],
      "text/plain": [
       "RandomForestClassifier()"
      ]
     },
     "execution_count": 39,
     "metadata": {},
     "output_type": "execute_result"
    }
   ],
   "source": [
    "from sklearn.ensemble import RandomForestClassifier\n",
    "randomforest_clf = RandomForestClassifier()\n",
    "randomforest_clf.fit(X_train_tfidf, y_train)"
   ]
  },
  {
   "cell_type": "code",
   "execution_count": 40,
   "id": "a0052505",
   "metadata": {
    "execution": {
     "iopub.execute_input": "2024-12-19T15:05:50.114460Z",
     "iopub.status.busy": "2024-12-19T15:05:50.114026Z",
     "iopub.status.idle": "2024-12-19T15:05:52.022402Z",
     "shell.execute_reply": "2024-12-19T15:05:52.021140Z"
    },
    "papermill": {
     "duration": 1.926686,
     "end_time": "2024-12-19T15:05:52.024936",
     "exception": false,
     "start_time": "2024-12-19T15:05:50.098250",
     "status": "completed"
    },
    "tags": []
   },
   "outputs": [
    {
     "name": "stdout",
     "output_type": "stream",
     "text": [
      "-------------------> Random Forest\n",
      "Accuracy: 0.72\n",
      "F1-Score for each class:\n",
      "Positive: 0.67\n",
      "Negative: 0.75\n",
      "\n",
      "Classification Report:\n",
      "              precision    recall  f1-score   support\n",
      "\n",
      "    Positive       0.81      0.57      0.67      1719\n",
      "    Negative       0.66      0.87      0.75      1661\n",
      "\n",
      "    accuracy                           0.72      3380\n",
      "   macro avg       0.74      0.72      0.71      3380\n",
      "weighted avg       0.74      0.72      0.71      3380\n",
      "\n"
     ]
    },
    {
     "data": {
      "image/png": "[encoded data removed]",
      "text/plain": [
       "<Figure size 800x600 with 2 Axes>"
      ]
     },
     "metadata": {},
     "output_type": "display_data"
    }
   ],
   "source": [
    "y_hat = randomforest_clf.predict(X_test_tfidf) \n",
    "about_model(\"Random Forest\" , y_test, y_hat)"
   ]
  },
  {
   "cell_type": "markdown",
   "id": "d8c203ee",
   "metadata": {
    "papermill": {
     "duration": 0.014961,
     "end_time": "2024-12-19T15:05:52.053662",
     "exception": false,
     "start_time": "2024-12-19T15:05:52.038701",
     "status": "completed"
    },
    "tags": []
   },
   "source": [
    "### Tuned Random Forest"
   ]
  },
  {
   "cell_type": "code",
   "execution_count": 41,
   "id": "e9b055b5",
   "metadata": {
    "execution": {
     "iopub.execute_input": "2024-12-19T15:05:52.083139Z",
     "iopub.status.busy": "2024-12-19T15:05:52.082712Z",
     "iopub.status.idle": "2024-12-19T19:51:36.776240Z",
     "shell.execute_reply": "2024-12-19T19:51:36.774596Z"
    },
    "papermill": {
     "duration": 17144.727059,
     "end_time": "2024-12-19T19:51:36.794497",
     "exception": false,
     "start_time": "2024-12-19T15:05:52.067438",
     "status": "completed"
    },
    "tags": []
   },
   "outputs": [
    {
     "name": "stdout",
     "output_type": "stream",
     "text": [
      "Fitting 5 folds for each of 108 candidates, totalling 540 fits\n"
     ]
    },
    {
     "data": {
      "text/plain": [
       "{'criterion': 'entropy',\n",
       " 'max_depth': None,\n",
       " 'max_features': 'log2',\n",
       " 'min_samples_split': 10,\n",
       " 'n_estimators': 100}"
      ]
     },
     "execution_count": 41,
     "metadata": {},
     "output_type": "execute_result"
    }
   ],
   "source": [
    "param_grid_ = {\n",
    "    'n_estimators': [10, 100, 200],\n",
    "    'max_features': ['sqrt', 'log2'],\n",
    "    'criterion': ['gini', 'entropy'], \n",
    "    'max_depth': [None, 10, 20],      \n",
    "    'min_samples_split': [2, 5, 10]   \n",
    "}\n",
    "\n",
    "randomforest_clf = GridSearchCV(estimator=RandomForestClassifier(n_jobs=-1),\n",
    "                                param_grid=param_grid_, \n",
    "                                cv=5, verbose=1 , \n",
    "                                scoring='accuracy',\n",
    "                                n_jobs=-1)\n",
    "randomforest_clf.fit(X_train_tfidf, y_train)\n",
    "randomforest_clf.best_params_\n"
   ]
  },
  {
   "cell_type": "code",
   "execution_count": 42,
   "id": "a97647b8",
   "metadata": {
    "execution": {
     "iopub.execute_input": "2024-12-19T19:51:36.828555Z",
     "iopub.status.busy": "2024-12-19T19:51:36.827579Z",
     "iopub.status.idle": "2024-12-19T19:51:38.645463Z",
     "shell.execute_reply": "2024-12-19T19:51:38.643584Z"
    },
    "papermill": {
     "duration": 1.839178,
     "end_time": "2024-12-19T19:51:38.648407",
     "exception": false,
     "start_time": "2024-12-19T19:51:36.809229",
     "status": "completed"
    },
    "tags": []
   },
   "outputs": [
    {
     "name": "stdout",
     "output_type": "stream",
     "text": [
      "-------------------> Tuned Random Forest\n",
      "Accuracy: 0.74\n",
      "F1-Score for each class:\n",
      "Positive: 0.72\n",
      "Negative: 0.76\n",
      "\n",
      "Classification Report:\n",
      "              precision    recall  f1-score   support\n",
      "\n",
      "    Positive       0.79      0.67      0.72      1719\n",
      "    Negative       0.70      0.82      0.76      1661\n",
      "\n",
      "    accuracy                           0.74      3380\n",
      "   macro avg       0.75      0.74      0.74      3380\n",
      "weighted avg       0.75      0.74      0.74      3380\n",
      "\n"
     ]
    },
    {
     "data": {
      "image/png": "[encoded data removed]",
      "text/plain": [
       "<Figure size 800x600 with 2 Axes>"
      ]
     },
     "metadata": {},
     "output_type": "display_data"
    }
   ],
   "source": [
    "y_hat = randomforest_clf.predict(X_test_tfidf)\n",
    "about_model(\"Tuned Random Forest\" , y_test , y_hat)"
   ]
  },
  {
   "cell_type": "markdown",
   "id": "8e5cf5ef",
   "metadata": {
    "papermill": {
     "duration": 0.016779,
     "end_time": "2024-12-19T19:51:38.683365",
     "exception": false,
     "start_time": "2024-12-19T19:51:38.666586",
     "status": "completed"
    },
    "tags": []
   },
   "source": [
    "### SVM"
   ]
  },
  {
   "cell_type": "code",
   "execution_count": 43,
   "id": "7fc57922",
   "metadata": {
    "execution": {
     "iopub.execute_input": "2024-12-19T19:51:38.716075Z",
     "iopub.status.busy": "2024-12-19T19:51:38.715670Z",
     "iopub.status.idle": "2024-12-19T19:53:21.583536Z",
     "shell.execute_reply": "2024-12-19T19:53:21.581631Z"
    },
    "papermill": {
     "duration": 102.903735,
     "end_time": "2024-12-19T19:53:21.602886",
     "exception": false,
     "start_time": "2024-12-19T19:51:38.699151",
     "status": "completed"
    },
    "tags": []
   },
   "outputs": [
    {
     "data": {
      "text/html": [
       "<style>#sk-container-id-2 {color: black;background-color: white;}#sk-container-id-2 pre{padding: 0;}#sk-container-id-2 div.sk-toggleable {background-color: white;}#sk-container-id-2 label.sk-toggleable__label {cursor: pointer;display: block;width: 100%;margin-bottom: 0;padding: 0.3em;box-sizing: border-box;text-align: center;}#sk-container-id-2 label.sk-toggleable__label-arrow:before {content: \"▸\";float: left;margin-right: 0.25em;color: #696969;}#sk-container-id-2 label.sk-toggleable__label-arrow:hover:before {color: black;}#sk-container-id-2 div.sk-estimator:hover label.sk-toggleable__label-arrow:before {color: black;}#sk-container-id-2 div.sk-toggleable__content {max-height: 0;max-width: 0;overflow: hidden;text-align: left;background-color: #f0f8ff;}#sk-container-id-2 div.sk-toggleable__content pre {margin: 0.2em;color: black;border-radius: 0.25em;background-color: #f0f8ff;}#sk-container-id-2 input.sk-toggleable__control:checked~div.sk-toggleable__content {max-height: 200px;max-width: 100%;overflow: auto;}#sk-container-id-2 input.sk-toggleable__control:checked~label.sk-toggleable__label-arrow:before {content: \"▾\";}#sk-container-id-2 div.sk-estimator input.sk-toggleable__control:checked~label.sk-toggleable__label {background-color: #d4ebff;}#sk-container-id-2 div.sk-label input.sk-toggleable__control:checked~label.sk-toggleable__label {background-color: #d4ebff;}#sk-container-id-2 input.sk-hidden--visually {border: 0;clip: rect(1px 1px 1px 1px);clip: rect(1px, 1px, 1px, 1px);height: 1px;margin: -1px;overflow: hidden;padding: 0;position: absolute;width: 1px;}#sk-container-id-2 div.sk-estimator {font-family: monospace;background-color: #f0f8ff;border: 1px dotted black;border-radius: 0.25em;box-sizing: border-box;margin-bottom: 0.5em;}#sk-container-id-2 div.sk-estimator:hover {background-color: #d4ebff;}#sk-container-id-2 div.sk-parallel-item::after {content: \"\";width: 100%;border-bottom: 1px solid gray;flex-grow: 1;}#sk-container-id-2 div.sk-label:hover label.sk-toggleable__label {background-color: #d4ebff;}#sk-container-id-2 div.sk-serial::before {content: \"\";position: absolute;border-left: 1px solid gray;box-sizing: border-box;top: 0;bottom: 0;left: 50%;z-index: 0;}#sk-container-id-2 div.sk-serial {display: flex;flex-direction: column;align-items: center;background-color: white;padding-right: 0.2em;padding-left: 0.2em;position: relative;}#sk-container-id-2 div.sk-item {position: relative;z-index: 1;}#sk-container-id-2 div.sk-parallel {display: flex;align-items: stretch;justify-content: center;background-color: white;position: relative;}#sk-container-id-2 div.sk-item::before, #sk-container-id-2 div.sk-parallel-item::before {content: \"\";position: absolute;border-left: 1px solid gray;box-sizing: border-box;top: 0;bottom: 0;left: 50%;z-index: -1;}#sk-container-id-2 div.sk-parallel-item {display: flex;flex-direction: column;z-index: 1;position: relative;background-color: white;}#sk-container-id-2 div.sk-parallel-item:first-child::after {align-self: flex-end;width: 50%;}#sk-container-id-2 div.sk-parallel-item:last-child::after {align-self: flex-start;width: 50%;}#sk-container-id-2 div.sk-parallel-item:only-child::after {width: 0;}#sk-container-id-2 div.sk-dashed-wrapped {border: 1px dashed gray;margin: 0 0.4em 0.5em 0.4em;box-sizing: border-box;padding-bottom: 0.4em;background-color: white;}#sk-container-id-2 div.sk-label label {font-family: monospace;font-weight: bold;display: inline-block;line-height: 1.2em;}#sk-container-id-2 div.sk-label-container {text-align: center;}#sk-container-id-2 div.sk-container {/* jupyter's `normalize.less` sets `[hidden] { display: none; }` but bootstrap.min.css set `[hidden] { display: none !important; }` so we also need the `!important` here to be able to override the default hidden behavior on the sphinx rendered scikit-learn.org. See: https://github.com/scikit-learn/scikit-learn/issues/21755 */display: inline-block !important;position: relative;}#sk-container-id-2 div.sk-text-repr-fallback {display: none;}</style><div id=\"sk-container-id-2\" class=\"sk-top-container\"><div class=\"sk-text-repr-fallback\"><pre>SVC(probability=True)</pre><b>In a Jupyter environment, please rerun this cell to show the HTML representation or trust the notebook. <br />On GitHub, the HTML representation is unable to render, please try loading this page with nbviewer.org.</b></div><div class=\"sk-container\" hidden><div class=\"sk-item\"><div class=\"sk-estimator sk-toggleable\"><input class=\"sk-toggleable__control sk-hidden--visually\" id=\"sk-estimator-id-2\" type=\"checkbox\" checked><label for=\"sk-estimator-id-2\" class=\"sk-toggleable__label sk-toggleable__label-arrow\">SVC</label><div class=\"sk-toggleable__content\"><pre>SVC(probability=True)</pre></div></div></div></div></div>"
      ],
      "text/plain": [
       "SVC(probability=True)"
      ]
     },
     "execution_count": 43,
     "metadata": {},
     "output_type": "execute_result"
    }
   ],
   "source": [
    "from sklearn.svm import SVC\n",
    "svm_clf = SVC(probability=True)\n",
    "svm_clf.fit(X_train_tfidf, y_train)"
   ]
  },
  {
   "cell_type": "code",
   "execution_count": 44,
   "id": "524937fa",
   "metadata": {
    "execution": {
     "iopub.execute_input": "2024-12-19T19:53:21.635154Z",
     "iopub.status.busy": "2024-12-19T19:53:21.634741Z",
     "iopub.status.idle": "2024-12-19T19:53:24.892165Z",
     "shell.execute_reply": "2024-12-19T19:53:24.891016Z"
    },
    "papermill": {
     "duration": 3.276382,
     "end_time": "2024-12-19T19:53:24.894636",
     "exception": false,
     "start_time": "2024-12-19T19:53:21.618254",
     "status": "completed"
    },
    "tags": []
   },
   "outputs": [
    {
     "name": "stdout",
     "output_type": "stream",
     "text": [
      "-------------------> SVM\n",
      "Accuracy: 0.73\n",
      "F1-Score for each class:\n",
      "Positive: 0.70\n",
      "Negative: 0.75\n",
      "\n",
      "Classification Report:\n",
      "              precision    recall  f1-score   support\n",
      "\n",
      "    Positive       0.78      0.64      0.70      1719\n",
      "    Negative       0.69      0.82      0.75      1661\n",
      "\n",
      "    accuracy                           0.73      3380\n",
      "   macro avg       0.73      0.73      0.72      3380\n",
      "weighted avg       0.74      0.73      0.72      3380\n",
      "\n"
     ]
    },
    {
     "data": {
      "image/png": "[encoded data removed]",
      "text/plain": [
       "<Figure size 800x600 with 2 Axes>"
      ]
     },
     "metadata": {},
     "output_type": "display_data"
    }
   ],
   "source": [
    "y_hat = svm_clf.predict(X_test_tfidf) \n",
    "about_model(\"SVM\" , y_test, y_hat)"
   ]
  },
  {
   "cell_type": "code",
   "execution_count": 45,
   "id": "98f2e49e",
   "metadata": {
    "execution": {
     "iopub.execute_input": "2024-12-19T19:53:24.928420Z",
     "iopub.status.busy": "2024-12-19T19:53:24.928005Z",
     "iopub.status.idle": "2024-12-19T19:53:26.259114Z",
     "shell.execute_reply": "2024-12-19T19:53:26.257821Z"
    },
    "papermill": {
     "duration": 1.350753,
     "end_time": "2024-12-19T19:53:26.261799",
     "exception": false,
     "start_time": "2024-12-19T19:53:24.911046",
     "status": "completed"
    },
    "tags": []
   },
   "outputs": [
    {
     "name": "stdout",
     "output_type": "stream",
     "text": [
      "Model and vectorizer saved successfully!\n"
     ]
    }
   ],
   "source": [
    "import joblib\n",
    "\n",
    "joblib.dump(svm_clf, '/kaggle/working/sentiment_model.joblib')\n",
    "joblib.dump(tfidf_vectorizer, '/kaggle/working/vectorizer.joblib')\n",
    "print(\"Model and vectorizer saved successfully!\")"
   ]
  },
  {
   "cell_type": "markdown",
   "id": "72a89174",
   "metadata": {
    "papermill": {
     "duration": 0.018383,
     "end_time": "2024-12-19T19:53:26.295973",
     "exception": false,
     "start_time": "2024-12-19T19:53:26.277590",
     "status": "completed"
    },
    "tags": []
   },
   "source": [
    "### Tuned SVM"
   ]
  },
  {
   "cell_type": "code",
   "execution_count": 46,
   "id": "14e100fa",
   "metadata": {
    "execution": {
     "iopub.execute_input": "2024-12-19T19:53:26.331096Z",
     "iopub.status.busy": "2024-12-19T19:53:26.330657Z",
     "iopub.status.idle": "2024-12-19T20:39:24.934124Z",
     "shell.execute_reply": "2024-12-19T20:39:24.932742Z"
    },
    "papermill": {
     "duration": 2758.640083,
     "end_time": "2024-12-19T20:39:24.953195",
     "exception": false,
     "start_time": "2024-12-19T19:53:26.313112",
     "status": "completed"
    },
    "tags": []
   },
   "outputs": [
    {
     "name": "stdout",
     "output_type": "stream",
     "text": [
      "Fitting 5 folds for each of 75 candidates, totalling 375 fits\n"
     ]
    },
    {
     "data": {
      "text/plain": [
       "{'C': 5, 'gamma': 0.1, 'kernel': 'rbf'}"
      ]
     },
     "execution_count": 46,
     "metadata": {},
     "output_type": "execute_result"
    }
   ],
   "source": [
    "param_grid_ = {'kernel': ['rbf', 'linear', 'poly'],\n",
    "             'gamma': [0.01 , 0.1, 1, 10, 100],\n",
    "             'C': [0.1, 1,5, 10, 100]}\n",
    "svm_grid = GridSearchCV(estimator=SVC(), \n",
    "                        param_grid=param_grid_, \n",
    "                        cv=5, verbose=1 , \n",
    "                        scoring='accuracy' , \n",
    "                        n_jobs=-1)\n",
    "svm_grid.fit(X_train_tfidf, y_train)\n",
    "svm_grid.best_params_\n"
   ]
  },
  {
   "cell_type": "code",
   "execution_count": 47,
   "id": "7cd3c76a",
   "metadata": {
    "execution": {
     "iopub.execute_input": "2024-12-19T20:39:24.986630Z",
     "iopub.status.busy": "2024-12-19T20:39:24.986152Z",
     "iopub.status.idle": "2024-12-19T20:39:27.925852Z",
     "shell.execute_reply": "2024-12-19T20:39:27.924279Z"
    },
    "papermill": {
     "duration": 2.959507,
     "end_time": "2024-12-19T20:39:27.928506",
     "exception": false,
     "start_time": "2024-12-19T20:39:24.968999",
     "status": "completed"
    },
    "tags": []
   },
   "outputs": [
    {
     "name": "stdout",
     "output_type": "stream",
     "text": [
      "-------------------> Tuned SVM\n",
      "Accuracy: 0.74\n",
      "F1-Score for each class:\n",
      "Positive: 0.72\n",
      "Negative: 0.75\n",
      "\n",
      "Classification Report:\n",
      "              precision    recall  f1-score   support\n",
      "\n",
      "    Positive       0.79      0.66      0.72      1719\n",
      "    Negative       0.70      0.81      0.75      1661\n",
      "\n",
      "    accuracy                           0.74      3380\n",
      "   macro avg       0.74      0.74      0.73      3380\n",
      "weighted avg       0.74      0.74      0.73      3380\n",
      "\n"
     ]
    },
    {
     "data": {
      "image/png": "[encoded data removed]",
      "text/plain": [
       "<Figure size 800x600 with 2 Axes>"
      ]
     },
     "metadata": {},
     "output_type": "display_data"
    }
   ],
   "source": [
    "y_hat = svm_grid.predict(X_test_tfidf)\n",
    "about_model(\"Tuned SVM\", y_test , y_hat) "
   ]
  },
  {
   "cell_type": "markdown",
   "id": "3b62f63e",
   "metadata": {
    "papermill": {
     "duration": 0.016341,
     "end_time": "2024-12-19T20:39:27.961779",
     "exception": false,
     "start_time": "2024-12-19T20:39:27.945438",
     "status": "completed"
    },
    "tags": []
   },
   "source": [
    "### lightgbm"
   ]
  },
  {
   "cell_type": "code",
   "execution_count": 48,
   "id": "960d353e",
   "metadata": {
    "execution": {
     "iopub.execute_input": "2024-12-19T20:39:27.996410Z",
     "iopub.status.busy": "2024-12-19T20:39:27.995966Z",
     "iopub.status.idle": "2024-12-19T20:39:31.648979Z",
     "shell.execute_reply": "2024-12-19T20:39:31.647710Z"
    },
    "papermill": {
     "duration": 3.673386,
     "end_time": "2024-12-19T20:39:31.651522",
     "exception": false,
     "start_time": "2024-12-19T20:39:27.978136",
     "status": "completed"
    },
    "tags": []
   },
   "outputs": [],
   "source": [
    "import lightgbm as lgb\n",
    "\n",
    "X_train_tfidf = X_train_tfidf.astype(np.float32)\n",
    "X_test_tfidf = X_test_tfidf.astype(np.float32)\n",
    "\n",
    "d_train = lgb.Dataset(X_train_tfidf, label=y_train)\n",
    "d_test = lgb.Dataset(X_test_tfidf, label=y_test, reference=d_train)\n",
    "\n",
    "params = {\n",
    "    'objective': 'binary',  \n",
    "    'boosting_type': 'gbdt',\n",
    "    'metric': 'binary_logloss', \n",
    "    'num_leaves': 31,\n",
    "    'learning_rate': 0.1,\n",
    "    'verbose': 0\n",
    "}\n",
    "\n",
    "model = lgb.train(params, d_train, num_boost_round=100, valid_sets=[d_train, d_test])"
   ]
  },
  {
   "cell_type": "code",
   "execution_count": 49,
   "id": "f9fca346",
   "metadata": {
    "execution": {
     "iopub.execute_input": "2024-12-19T20:39:31.685937Z",
     "iopub.status.busy": "2024-12-19T20:39:31.685264Z",
     "iopub.status.idle": "2024-12-19T20:39:32.132694Z",
     "shell.execute_reply": "2024-12-19T20:39:32.131561Z"
    },
    "papermill": {
     "duration": 0.467158,
     "end_time": "2024-12-19T20:39:32.134993",
     "exception": false,
     "start_time": "2024-12-19T20:39:31.667835",
     "status": "completed"
    },
    "tags": []
   },
   "outputs": [
    {
     "name": "stdout",
     "output_type": "stream",
     "text": [
      "-------------------> lightgbm\n",
      "Accuracy: 0.67\n",
      "F1-Score for each class:\n",
      "Positive: 0.63\n",
      "Negative: 0.70\n",
      "\n",
      "Classification Report:\n",
      "              precision    recall  f1-score   support\n",
      "\n",
      "    Positive       0.73      0.56      0.63      1719\n",
      "    Negative       0.63      0.79      0.70      1661\n",
      "\n",
      "    accuracy                           0.67      3380\n",
      "   macro avg       0.68      0.67      0.67      3380\n",
      "weighted avg       0.68      0.67      0.67      3380\n",
      "\n"
     ]
    },
    {
     "data": {
      "image/png": "[encoded data removed]",
      "text/plain": [
       "<Figure size 800x600 with 2 Axes>"
      ]
     },
     "metadata": {},
     "output_type": "display_data"
    }
   ],
   "source": [
    "y_hat = model.predict(X_test_tfidf)\n",
    "y_hat = (y_hat > 0.5).astype(int)\n",
    "about_model(\"lightgbm\", y_test, y_hat)\n"
   ]
  },
  {
   "cell_type": "markdown",
   "id": "be0b2aba",
   "metadata": {
    "papermill": {
     "duration": 0.017248,
     "end_time": "2024-12-19T20:39:32.169958",
     "exception": false,
     "start_time": "2024-12-19T20:39:32.152710",
     "status": "completed"
    },
    "tags": []
   },
   "source": [
    "### Tuned lightgbm"
   ]
  },
  {
   "cell_type": "code",
   "execution_count": 50,
   "id": "776d106b",
   "metadata": {
    "execution": {
     "iopub.execute_input": "2024-12-19T20:39:32.205948Z",
     "iopub.status.busy": "2024-12-19T20:39:32.205532Z",
     "iopub.status.idle": "2024-12-19T20:42:27.477882Z",
     "shell.execute_reply": "2024-12-19T20:42:27.475973Z"
    },
    "papermill": {
     "duration": 175.293728,
     "end_time": "2024-12-19T20:42:27.481009",
     "exception": false,
     "start_time": "2024-12-19T20:39:32.187281",
     "status": "completed"
    },
    "tags": []
   },
   "outputs": [
    {
     "name": "stdout",
     "output_type": "stream",
     "text": [
      "[LightGBM] [Info] Number of positive: 5313, number of negative: 5502\n",
      "[LightGBM] [Info] Auto-choosing row-wise multi-threading, the overhead of testing was 0.015346 seconds.\n",
      "You can set `force_row_wise=true` to remove the overhead.\n",
      "And if memory is not enough, you can set `force_col_wise=true`.\n",
      "[LightGBM] [Info] Total Bins 509\n",
      "[LightGBM] [Info] Number of data points in the train set: 10815, number of used features: 232\n",
      "[LightGBM] [Info] [binary:BoostFromScore]: pavg=0.491262 -> initscore=-0.034955\n",
      "[LightGBM] [Info] Start training from score -0.034955\n",
      "[LightGBM] [Info] Number of positive: 5313, number of negative: 5502\n",
      "[LightGBM] [Info] Auto-choosing row-wise multi-threading, the overhead of testing was 0.015469 seconds.\n",
      "You can set `force_row_wise=true` to remove the overhead.\n",
      "And if memory is not enough, you can set `force_col_wise=true`.\n",
      "[LightGBM] [Info] Total Bins 509\n",
      "[LightGBM] [Info] Number of data points in the train set: 10815, number of used features: 235\n",
      "[LightGBM] [Info] [binary:BoostFromScore]: pavg=0.491262 -> initscore=-0.034955\n",
      "[LightGBM] [Info] Start training from score -0.034955\n",
      "[LightGBM] [Info] Number of positive: 5314, number of negative: 5501\n",
      "[LightGBM] [Info] Auto-choosing row-wise multi-threading, the overhead of testing was 0.015478 seconds.\n",
      "You can set `force_row_wise=true` to remove the overhead.\n",
      "And if memory is not enough, you can set `force_col_wise=true`.\n",
      "[LightGBM] [Info] Total Bins 523\n",
      "[LightGBM] [Info] Number of data points in the train set: 10815, number of used features: 236\n",
      "[LightGBM] [Info] [binary:BoostFromScore]: pavg=0.491355 -> initscore=-0.034585\n",
      "[LightGBM] [Info] Start training from score -0.034585\n",
      "[LightGBM] [Info] Number of positive: 5314, number of negative: 5501\n",
      "[LightGBM] [Info] Auto-choosing col-wise multi-threading, the overhead of testing was 0.015960 seconds.\n",
      "You can set `force_col_wise=true` to remove the overhead.\n",
      "[LightGBM] [Info] Total Bins 513\n",
      "[LightGBM] [Info] Number of data points in the train set: 10815, number of used features: 235\n",
      "[LightGBM] [Info] [binary:BoostFromScore]: pavg=0.491355 -> initscore=-0.034585\n",
      "[LightGBM] [Info] Start training from score -0.034585\n",
      "[LightGBM] [Info] Number of positive: 5314, number of negative: 5502\n",
      "[LightGBM] [Info] Auto-choosing row-wise multi-threading, the overhead of testing was 0.016107 seconds.\n",
      "You can set `force_row_wise=true` to remove the overhead.\n",
      "And if memory is not enough, you can set `force_col_wise=true`.\n",
      "[LightGBM] [Info] Total Bins 527\n",
      "[LightGBM] [Info] Number of data points in the train set: 10816, number of used features: 239\n",
      "[LightGBM] [Info] [binary:BoostFromScore]: pavg=0.491309 -> initscore=-0.034767\n",
      "[LightGBM] [Info] Start training from score -0.034767\n",
      "[LightGBM] [Info] Number of positive: 5313, number of negative: 5502\n",
      "[LightGBM] [Info] Auto-choosing row-wise multi-threading, the overhead of testing was 0.015198 seconds.\n",
      "You can set `force_row_wise=true` to remove the overhead.\n",
      "And if memory is not enough, you can set `force_col_wise=true`.\n",
      "[LightGBM] [Info] Total Bins 509\n",
      "[LightGBM] [Info] Number of data points in the train set: 10815, number of used features: 232\n",
      "[LightGBM] [Info] [binary:BoostFromScore]: pavg=0.491262 -> initscore=-0.034955\n",
      "[LightGBM] [Info] Start training from score -0.034955\n",
      "[LightGBM] [Info] Number of positive: 5313, number of negative: 5502\n",
      "[LightGBM] [Info] Auto-choosing row-wise multi-threading, the overhead of testing was 0.016392 seconds.\n",
      "You can set `force_row_wise=true` to remove the overhead.\n",
      "And if memory is not enough, you can set `force_col_wise=true`.\n",
      "[LightGBM] [Info] Total Bins 509\n",
      "[LightGBM] [Info] Number of data points in the train set: 10815, number of used features: 235\n",
      "[LightGBM] [Info] [binary:BoostFromScore]: pavg=0.491262 -> initscore=-0.034955\n",
      "[LightGBM] [Info] Start training from score -0.034955\n",
      "[LightGBM] [Info] Number of positive: 5314, number of negative: 5501\n",
      "[LightGBM] [Info] Auto-choosing row-wise multi-threading, the overhead of testing was 0.015295 seconds.\n",
      "You can set `force_row_wise=true` to remove the overhead.\n",
      "And if memory is not enough, you can set `force_col_wise=true`.\n",
      "[LightGBM] [Info] Total Bins 523\n",
      "[LightGBM] [Info] Number of data points in the train set: 10815, number of used features: 236\n",
      "[LightGBM] [Info] [binary:BoostFromScore]: pavg=0.491355 -> initscore=-0.034585\n",
      "[LightGBM] [Info] Start training from score -0.034585\n",
      "[LightGBM] [Info] Number of positive: 5314, number of negative: 5501\n",
      "[LightGBM] [Info] Auto-choosing row-wise multi-threading, the overhead of testing was 0.016831 seconds.\n",
      "You can set `force_row_wise=true` to remove the overhead.\n",
      "And if memory is not enough, you can set `force_col_wise=true`.\n",
      "[LightGBM] [Info] Total Bins 513\n",
      "[LightGBM] [Info] Number of data points in the train set: 10815, number of used features: 235\n",
      "[LightGBM] [Info] [binary:BoostFromScore]: pavg=0.491355 -> initscore=-0.034585\n",
      "[LightGBM] [Info] Start training from score -0.034585\n",
      "[LightGBM] [Info] Number of positive: 5314, number of negative: 5502\n",
      "[LightGBM] [Info] Auto-choosing row-wise multi-threading, the overhead of testing was 0.018069 seconds.\n",
      "You can set `force_row_wise=true` to remove the overhead.\n",
      "And if memory is not enough, you can set `force_col_wise=true`.\n",
      "[LightGBM] [Info] Total Bins 527\n",
      "[LightGBM] [Info] Number of data points in the train set: 10816, number of used features: 239\n",
      "[LightGBM] [Info] [binary:BoostFromScore]: pavg=0.491309 -> initscore=-0.034767\n",
      "[LightGBM] [Info] Start training from score -0.034767\n",
      "[LightGBM] [Info] Number of positive: 5313, number of negative: 5502\n",
      "[LightGBM] [Info] Auto-choosing col-wise multi-threading, the overhead of testing was 0.014685 seconds.\n",
      "You can set `force_col_wise=true` to remove the overhead.\n",
      "[LightGBM] [Info] Total Bins 509\n",
      "[LightGBM] [Info] Number of data points in the train set: 10815, number of used features: 232\n",
      "[LightGBM] [Info] [binary:BoostFromScore]: pavg=0.491262 -> initscore=-0.034955\n",
      "[LightGBM] [Info] Start training from score -0.034955\n",
      "[LightGBM] [Info] Number of positive: 5313, number of negative: 5502\n",
      "[LightGBM] [Info] Auto-choosing row-wise multi-threading, the overhead of testing was 0.015183 seconds.\n",
      "You can set `force_row_wise=true` to remove the overhead.\n",
      "And if memory is not enough, you can set `force_col_wise=true`.\n",
      "[LightGBM] [Info] Total Bins 509\n",
      "[LightGBM] [Info] Number of data points in the train set: 10815, number of used features: 235\n",
      "[LightGBM] [Info] [binary:BoostFromScore]: pavg=0.491262 -> initscore=-0.034955\n",
      "[LightGBM] [Info] Start training from score -0.034955\n",
      "[LightGBM] [Info] Number of positive: 5314, number of negative: 5501\n",
      "[LightGBM] [Info] Auto-choosing row-wise multi-threading, the overhead of testing was 0.015778 seconds.\n",
      "You can set `force_row_wise=true` to remove the overhead.\n",
      "And if memory is not enough, you can set `force_col_wise=true`.\n",
      "[LightGBM] [Info] Total Bins 523\n",
      "[LightGBM] [Info] Number of data points in the train set: 10815, number of used features: 236\n",
      "[LightGBM] [Info] [binary:BoostFromScore]: pavg=0.491355 -> initscore=-0.034585\n",
      "[LightGBM] [Info] Start training from score -0.034585\n",
      "[LightGBM] [Info] Number of positive: 5314, number of negative: 5501\n",
      "[LightGBM] [Info] Auto-choosing row-wise multi-threading, the overhead of testing was 0.015841 seconds.\n",
      "You can set `force_row_wise=true` to remove the overhead.\n",
      "And if memory is not enough, you can set `force_col_wise=true`.\n",
      "[LightGBM] [Info] Total Bins 513\n",
      "[LightGBM] [Info] Number of data points in the train set: 10815, number of used features: 235\n",
      "[LightGBM] [Info] [binary:BoostFromScore]: pavg=0.491355 -> initscore=-0.034585\n",
      "[LightGBM] [Info] Start training from score -0.034585\n",
      "[LightGBM] [Info] Number of positive: 5314, number of negative: 5502\n",
      "[LightGBM] [Info] Auto-choosing row-wise multi-threading, the overhead of testing was 0.016083 seconds.\n",
      "You can set `force_row_wise=true` to remove the overhead.\n",
      "And if memory is not enough, you can set `force_col_wise=true`.\n",
      "[LightGBM] [Info] Total Bins 527\n",
      "[LightGBM] [Info] Number of data points in the train set: 10816, number of used features: 239\n",
      "[LightGBM] [Info] [binary:BoostFromScore]: pavg=0.491309 -> initscore=-0.034767\n",
      "[LightGBM] [Info] Start training from score -0.034767\n",
      "[LightGBM] [Info] Number of positive: 5313, number of negative: 5502\n",
      "[LightGBM] [Info] Auto-choosing row-wise multi-threading, the overhead of testing was 0.015435 seconds.\n",
      "You can set `force_row_wise=true` to remove the overhead.\n",
      "And if memory is not enough, you can set `force_col_wise=true`.\n",
      "[LightGBM] [Info] Total Bins 509\n",
      "[LightGBM] [Info] Number of data points in the train set: 10815, number of used features: 232\n",
      "[LightGBM] [Info] [binary:BoostFromScore]: pavg=0.491262 -> initscore=-0.034955\n",
      "[LightGBM] [Info] Start training from score -0.034955\n",
      "[LightGBM] [Info] Number of positive: 5313, number of negative: 5502\n",
      "[LightGBM] [Info] Auto-choosing row-wise multi-threading, the overhead of testing was 0.015103 seconds.\n",
      "You can set `force_row_wise=true` to remove the overhead.\n",
      "And if memory is not enough, you can set `force_col_wise=true`.\n",
      "[LightGBM] [Info] Total Bins 509\n",
      "[LightGBM] [Info] Number of data points in the train set: 10815, number of used features: 235\n",
      "[LightGBM] [Info] [binary:BoostFromScore]: pavg=0.491262 -> initscore=-0.034955\n",
      "[LightGBM] [Info] Start training from score -0.034955\n",
      "[LightGBM] [Info] Number of positive: 5314, number of negative: 5501\n",
      "[LightGBM] [Info] Auto-choosing col-wise multi-threading, the overhead of testing was 0.015463 seconds.\n",
      "You can set `force_col_wise=true` to remove the overhead.\n",
      "[LightGBM] [Info] Total Bins 523\n",
      "[LightGBM] [Info] Number of data points in the train set: 10815, number of used features: 236\n",
      "[LightGBM] [Info] [binary:BoostFromScore]: pavg=0.491355 -> initscore=-0.034585\n",
      "[LightGBM] [Info] Start training from score -0.034585\n",
      "[LightGBM] [Info] Number of positive: 5314, number of negative: 5501\n",
      "[LightGBM] [Info] Auto-choosing row-wise multi-threading, the overhead of testing was 0.015155 seconds.\n",
      "You can set `force_row_wise=true` to remove the overhead.\n",
      "And if memory is not enough, you can set `force_col_wise=true`.\n",
      "[LightGBM] [Info] Total Bins 513\n",
      "[LightGBM] [Info] Number of data points in the train set: 10815, number of used features: 235\n",
      "[LightGBM] [Info] [binary:BoostFromScore]: pavg=0.491355 -> initscore=-0.034585\n",
      "[LightGBM] [Info] Start training from score -0.034585\n",
      "[LightGBM] [Info] Number of positive: 5314, number of negative: 5502\n",
      "[LightGBM] [Info] Auto-choosing row-wise multi-threading, the overhead of testing was 0.016504 seconds.\n",
      "You can set `force_row_wise=true` to remove the overhead.\n",
      "And if memory is not enough, you can set `force_col_wise=true`.\n",
      "[LightGBM] [Info] Total Bins 527\n",
      "[LightGBM] [Info] Number of data points in the train set: 10816, number of used features: 239\n",
      "[LightGBM] [Info] [binary:BoostFromScore]: pavg=0.491309 -> initscore=-0.034767\n",
      "[LightGBM] [Info] Start training from score -0.034767\n",
      "[LightGBM] [Info] Number of positive: 5313, number of negative: 5502\n",
      "[LightGBM] [Info] Auto-choosing row-wise multi-threading, the overhead of testing was 0.015235 seconds.\n",
      "You can set `force_row_wise=true` to remove the overhead.\n",
      "And if memory is not enough, you can set `force_col_wise=true`.\n",
      "[LightGBM] [Info] Total Bins 509\n",
      "[LightGBM] [Info] Number of data points in the train set: 10815, number of used features: 232\n",
      "[LightGBM] [Info] [binary:BoostFromScore]: pavg=0.491262 -> initscore=-0.034955\n",
      "[LightGBM] [Info] Start training from score -0.034955\n",
      "[LightGBM] [Info] Number of positive: 5313, number of negative: 5502\n",
      "[LightGBM] [Info] Auto-choosing row-wise multi-threading, the overhead of testing was 0.015258 seconds.\n",
      "You can set `force_row_wise=true` to remove the overhead.\n",
      "And if memory is not enough, you can set `force_col_wise=true`.\n",
      "[LightGBM] [Info] Total Bins 509\n",
      "[LightGBM] [Info] Number of data points in the train set: 10815, number of used features: 235\n",
      "[LightGBM] [Info] [binary:BoostFromScore]: pavg=0.491262 -> initscore=-0.034955\n",
      "[LightGBM] [Info] Start training from score -0.034955\n",
      "[LightGBM] [Info] Number of positive: 5314, number of negative: 5501\n",
      "[LightGBM] [Info] Auto-choosing col-wise multi-threading, the overhead of testing was 0.015752 seconds.\n",
      "You can set `force_col_wise=true` to remove the overhead.\n",
      "[LightGBM] [Info] Total Bins 523\n",
      "[LightGBM] [Info] Number of data points in the train set: 10815, number of used features: 236\n",
      "[LightGBM] [Info] [binary:BoostFromScore]: pavg=0.491355 -> initscore=-0.034585\n",
      "[LightGBM] [Info] Start training from score -0.034585\n",
      "[LightGBM] [Info] Number of positive: 5314, number of negative: 5501\n",
      "[LightGBM] [Info] Auto-choosing row-wise multi-threading, the overhead of testing was 0.016939 seconds.\n",
      "You can set `force_row_wise=true` to remove the overhead.\n",
      "And if memory is not enough, you can set `force_col_wise=true`.\n",
      "[LightGBM] [Info] Total Bins 513\n",
      "[LightGBM] [Info] Number of data points in the train set: 10815, number of used features: 235\n",
      "[LightGBM] [Info] [binary:BoostFromScore]: pavg=0.491355 -> initscore=-0.034585\n",
      "[LightGBM] [Info] Start training from score -0.034585\n",
      "[LightGBM] [Info] Number of positive: 5314, number of negative: 5502\n",
      "[LightGBM] [Info] Auto-choosing row-wise multi-threading, the overhead of testing was 0.015844 seconds.\n",
      "You can set `force_row_wise=true` to remove the overhead.\n",
      "And if memory is not enough, you can set `force_col_wise=true`.\n",
      "[LightGBM] [Info] Total Bins 527\n",
      "[LightGBM] [Info] Number of data points in the train set: 10816, number of used features: 239\n",
      "[LightGBM] [Info] [binary:BoostFromScore]: pavg=0.491309 -> initscore=-0.034767\n",
      "[LightGBM] [Info] Start training from score -0.034767\n",
      "[LightGBM] [Info] Number of positive: 5313, number of negative: 5502\n",
      "[LightGBM] [Info] Auto-choosing row-wise multi-threading, the overhead of testing was 0.014794 seconds.\n",
      "You can set `force_row_wise=true` to remove the overhead.\n",
      "And if memory is not enough, you can set `force_col_wise=true`.\n",
      "[LightGBM] [Info] Total Bins 509\n",
      "[LightGBM] [Info] Number of data points in the train set: 10815, number of used features: 232\n",
      "[LightGBM] [Info] [binary:BoostFromScore]: pavg=0.491262 -> initscore=-0.034955\n",
      "[LightGBM] [Info] Start training from score -0.034955\n",
      "[LightGBM] [Info] Number of positive: 5313, number of negative: 5502\n",
      "[LightGBM] [Info] Auto-choosing row-wise multi-threading, the overhead of testing was 0.015412 seconds.\n",
      "You can set `force_row_wise=true` to remove the overhead.\n",
      "And if memory is not enough, you can set `force_col_wise=true`.\n",
      "[LightGBM] [Info] Total Bins 509\n",
      "[LightGBM] [Info] Number of data points in the train set: 10815, number of used features: 235\n",
      "[LightGBM] [Info] [binary:BoostFromScore]: pavg=0.491262 -> initscore=-0.034955\n",
      "[LightGBM] [Info] Start training from score -0.034955\n",
      "[LightGBM] [Info] Number of positive: 5314, number of negative: 5501\n",
      "[LightGBM] [Info] Auto-choosing row-wise multi-threading, the overhead of testing was 0.015980 seconds.\n",
      "You can set `force_row_wise=true` to remove the overhead.\n",
      "And if memory is not enough, you can set `force_col_wise=true`.\n",
      "[LightGBM] [Info] Total Bins 523\n",
      "[LightGBM] [Info] Number of data points in the train set: 10815, number of used features: 236\n",
      "[LightGBM] [Info] [binary:BoostFromScore]: pavg=0.491355 -> initscore=-0.034585\n",
      "[LightGBM] [Info] Start training from score -0.034585\n",
      "[LightGBM] [Info] Number of positive: 5314, number of negative: 5501\n",
      "[LightGBM] [Info] Auto-choosing col-wise multi-threading, the overhead of testing was 0.016211 seconds.\n",
      "You can set `force_col_wise=true` to remove the overhead.\n",
      "[LightGBM] [Info] Total Bins 513\n",
      "[LightGBM] [Info] Number of data points in the train set: 10815, number of used features: 235\n",
      "[LightGBM] [Info] [binary:BoostFromScore]: pavg=0.491355 -> initscore=-0.034585\n",
      "[LightGBM] [Info] Start training from score -0.034585\n",
      "[LightGBM] [Info] Number of positive: 5314, number of negative: 5502\n",
      "[LightGBM] [Info] Auto-choosing row-wise multi-threading, the overhead of testing was 0.016486 seconds.\n",
      "You can set `force_row_wise=true` to remove the overhead.\n",
      "And if memory is not enough, you can set `force_col_wise=true`.\n",
      "[LightGBM] [Info] Total Bins 527\n",
      "[LightGBM] [Info] Number of data points in the train set: 10816, number of used features: 239\n",
      "[LightGBM] [Info] [binary:BoostFromScore]: pavg=0.491309 -> initscore=-0.034767\n",
      "[LightGBM] [Info] Start training from score -0.034767\n",
      "[LightGBM] [Info] Number of positive: 5313, number of negative: 5502\n",
      "[LightGBM] [Info] Auto-choosing row-wise multi-threading, the overhead of testing was 0.015903 seconds.\n",
      "You can set `force_row_wise=true` to remove the overhead.\n",
      "And if memory is not enough, you can set `force_col_wise=true`.\n",
      "[LightGBM] [Info] Total Bins 509\n",
      "[LightGBM] [Info] Number of data points in the train set: 10815, number of used features: 232\n",
      "[LightGBM] [Info] [binary:BoostFromScore]: pavg=0.491262 -> initscore=-0.034955\n",
      "[LightGBM] [Info] Start training from score -0.034955\n",
      "[LightGBM] [Info] Number of positive: 5313, number of negative: 5502\n",
      "[LightGBM] [Info] Auto-choosing row-wise multi-threading, the overhead of testing was 0.015580 seconds.\n",
      "You can set `force_row_wise=true` to remove the overhead.\n",
      "And if memory is not enough, you can set `force_col_wise=true`.\n",
      "[LightGBM] [Info] Total Bins 509\n",
      "[LightGBM] [Info] Number of data points in the train set: 10815, number of used features: 235\n",
      "[LightGBM] [Info] [binary:BoostFromScore]: pavg=0.491262 -> initscore=-0.034955\n",
      "[LightGBM] [Info] Start training from score -0.034955\n",
      "[LightGBM] [Info] Number of positive: 5314, number of negative: 5501\n",
      "[LightGBM] [Info] Auto-choosing row-wise multi-threading, the overhead of testing was 0.015353 seconds.\n",
      "You can set `force_row_wise=true` to remove the overhead.\n",
      "And if memory is not enough, you can set `force_col_wise=true`.\n",
      "[LightGBM] [Info] Total Bins 523\n",
      "[LightGBM] [Info] Number of data points in the train set: 10815, number of used features: 236\n",
      "[LightGBM] [Info] [binary:BoostFromScore]: pavg=0.491355 -> initscore=-0.034585\n",
      "[LightGBM] [Info] Start training from score -0.034585\n",
      "[LightGBM] [Info] Number of positive: 5314, number of negative: 5501\n",
      "[LightGBM] [Info] Auto-choosing row-wise multi-threading, the overhead of testing was 0.015601 seconds.\n",
      "You can set `force_row_wise=true` to remove the overhead.\n",
      "And if memory is not enough, you can set `force_col_wise=true`.\n",
      "[LightGBM] [Info] Total Bins 513\n",
      "[LightGBM] [Info] Number of data points in the train set: 10815, number of used features: 235\n",
      "[LightGBM] [Info] [binary:BoostFromScore]: pavg=0.491355 -> initscore=-0.034585\n",
      "[LightGBM] [Info] Start training from score -0.034585\n",
      "[LightGBM] [Info] Number of positive: 5314, number of negative: 5502\n",
      "[LightGBM] [Info] Auto-choosing col-wise multi-threading, the overhead of testing was 0.016652 seconds.\n",
      "You can set `force_col_wise=true` to remove the overhead.\n",
      "[LightGBM] [Info] Total Bins 527\n",
      "[LightGBM] [Info] Number of data points in the train set: 10816, number of used features: 239\n",
      "[LightGBM] [Info] [binary:BoostFromScore]: pavg=0.491309 -> initscore=-0.034767\n",
      "[LightGBM] [Info] Start training from score -0.034767\n",
      "[LightGBM] [Info] Number of positive: 5313, number of negative: 5502\n",
      "[LightGBM] [Info] Auto-choosing row-wise multi-threading, the overhead of testing was 0.015120 seconds.\n",
      "You can set `force_row_wise=true` to remove the overhead.\n",
      "And if memory is not enough, you can set `force_col_wise=true`.\n",
      "[LightGBM] [Info] Total Bins 509\n",
      "[LightGBM] [Info] Number of data points in the train set: 10815, number of used features: 232\n",
      "[LightGBM] [Info] [binary:BoostFromScore]: pavg=0.491262 -> initscore=-0.034955\n",
      "[LightGBM] [Info] Start training from score -0.034955\n",
      "[LightGBM] [Info] Number of positive: 5313, number of negative: 5502\n",
      "[LightGBM] [Info] Auto-choosing row-wise multi-threading, the overhead of testing was 0.015432 seconds.\n",
      "You can set `force_row_wise=true` to remove the overhead.\n",
      "And if memory is not enough, you can set `force_col_wise=true`.\n",
      "[LightGBM] [Info] Total Bins 509\n",
      "[LightGBM] [Info] Number of data points in the train set: 10815, number of used features: 235\n",
      "[LightGBM] [Info] [binary:BoostFromScore]: pavg=0.491262 -> initscore=-0.034955\n",
      "[LightGBM] [Info] Start training from score -0.034955\n",
      "[LightGBM] [Info] Number of positive: 5314, number of negative: 5501\n",
      "[LightGBM] [Info] Auto-choosing row-wise multi-threading, the overhead of testing was 0.015981 seconds.\n",
      "You can set `force_row_wise=true` to remove the overhead.\n",
      "And if memory is not enough, you can set `force_col_wise=true`.\n",
      "[LightGBM] [Info] Total Bins 523\n",
      "[LightGBM] [Info] Number of data points in the train set: 10815, number of used features: 236\n",
      "[LightGBM] [Info] [binary:BoostFromScore]: pavg=0.491355 -> initscore=-0.034585\n",
      "[LightGBM] [Info] Start training from score -0.034585\n",
      "[LightGBM] [Info] Number of positive: 5314, number of negative: 5501\n",
      "[LightGBM] [Info] Auto-choosing row-wise multi-threading, the overhead of testing was 0.015311 seconds.\n",
      "You can set `force_row_wise=true` to remove the overhead.\n",
      "And if memory is not enough, you can set `force_col_wise=true`.\n",
      "[LightGBM] [Info] Total Bins 513\n",
      "[LightGBM] [Info] Number of data points in the train set: 10815, number of used features: 235\n",
      "[LightGBM] [Info] [binary:BoostFromScore]: pavg=0.491355 -> initscore=-0.034585\n",
      "[LightGBM] [Info] Start training from score -0.034585\n",
      "[LightGBM] [Info] Number of positive: 5314, number of negative: 5502\n",
      "[LightGBM] [Info] Auto-choosing col-wise multi-threading, the overhead of testing was 0.015119 seconds.\n",
      "You can set `force_col_wise=true` to remove the overhead.\n",
      "[LightGBM] [Info] Total Bins 527\n",
      "[LightGBM] [Info] Number of data points in the train set: 10816, number of used features: 239\n",
      "[LightGBM] [Info] [binary:BoostFromScore]: pavg=0.491309 -> initscore=-0.034767\n",
      "[LightGBM] [Info] Start training from score -0.034767\n",
      "[LightGBM] [Info] Number of positive: 5313, number of negative: 5502\n",
      "[LightGBM] [Info] Auto-choosing row-wise multi-threading, the overhead of testing was 0.016334 seconds.\n",
      "You can set `force_row_wise=true` to remove the overhead.\n",
      "And if memory is not enough, you can set `force_col_wise=true`.\n",
      "[LightGBM] [Info] Total Bins 509\n",
      "[LightGBM] [Info] Number of data points in the train set: 10815, number of used features: 232\n",
      "[LightGBM] [Info] [binary:BoostFromScore]: pavg=0.491262 -> initscore=-0.034955\n",
      "[LightGBM] [Info] Start training from score -0.034955\n",
      "[LightGBM] [Info] Number of positive: 5313, number of negative: 5502\n",
      "[LightGBM] [Info] Auto-choosing row-wise multi-threading, the overhead of testing was 0.015898 seconds.\n",
      "You can set `force_row_wise=true` to remove the overhead.\n",
      "And if memory is not enough, you can set `force_col_wise=true`.\n",
      "[LightGBM] [Info] Total Bins 509\n",
      "[LightGBM] [Info] Number of data points in the train set: 10815, number of used features: 235\n",
      "[LightGBM] [Info] [binary:BoostFromScore]: pavg=0.491262 -> initscore=-0.034955\n",
      "[LightGBM] [Info] Start training from score -0.034955\n",
      "[LightGBM] [Info] Number of positive: 5314, number of negative: 5501\n",
      "[LightGBM] [Info] Auto-choosing row-wise multi-threading, the overhead of testing was 0.019743 seconds.\n",
      "You can set `force_row_wise=true` to remove the overhead.\n",
      "And if memory is not enough, you can set `force_col_wise=true`.\n",
      "[LightGBM] [Info] Total Bins 523\n",
      "[LightGBM] [Info] Number of data points in the train set: 10815, number of used features: 236\n",
      "[LightGBM] [Info] [binary:BoostFromScore]: pavg=0.491355 -> initscore=-0.034585\n",
      "[LightGBM] [Info] Start training from score -0.034585\n",
      "[LightGBM] [Info] Number of positive: 5314, number of negative: 5501\n",
      "[LightGBM] [Info] Auto-choosing row-wise multi-threading, the overhead of testing was 0.015736 seconds.\n",
      "You can set `force_row_wise=true` to remove the overhead.\n",
      "And if memory is not enough, you can set `force_col_wise=true`.\n",
      "[LightGBM] [Info] Total Bins 513\n",
      "[LightGBM] [Info] Number of data points in the train set: 10815, number of used features: 235\n",
      "[LightGBM] [Info] [binary:BoostFromScore]: pavg=0.491355 -> initscore=-0.034585\n",
      "[LightGBM] [Info] Start training from score -0.034585\n",
      "[LightGBM] [Info] Number of positive: 5314, number of negative: 5502\n",
      "[LightGBM] [Info] Auto-choosing row-wise multi-threading, the overhead of testing was 0.015825 seconds.\n",
      "You can set `force_row_wise=true` to remove the overhead.\n",
      "And if memory is not enough, you can set `force_col_wise=true`.\n",
      "[LightGBM] [Info] Total Bins 527\n",
      "[LightGBM] [Info] Number of data points in the train set: 10816, number of used features: 239\n",
      "[LightGBM] [Info] [binary:BoostFromScore]: pavg=0.491309 -> initscore=-0.034767\n",
      "[LightGBM] [Info] Start training from score -0.034767\n",
      "[LightGBM] [Info] Number of positive: 5313, number of negative: 5502\n",
      "[LightGBM] [Info] Auto-choosing row-wise multi-threading, the overhead of testing was 0.015089 seconds.\n",
      "You can set `force_row_wise=true` to remove the overhead.\n",
      "And if memory is not enough, you can set `force_col_wise=true`.\n",
      "[LightGBM] [Info] Total Bins 509\n",
      "[LightGBM] [Info] Number of data points in the train set: 10815, number of used features: 232\n",
      "[LightGBM] [Info] [binary:BoostFromScore]: pavg=0.491262 -> initscore=-0.034955\n",
      "[LightGBM] [Info] Start training from score -0.034955\n",
      "[LightGBM] [Info] Number of positive: 5313, number of negative: 5502\n",
      "[LightGBM] [Info] Auto-choosing row-wise multi-threading, the overhead of testing was 0.015259 seconds.\n",
      "You can set `force_row_wise=true` to remove the overhead.\n",
      "And if memory is not enough, you can set `force_col_wise=true`.\n",
      "[LightGBM] [Info] Total Bins 509\n",
      "[LightGBM] [Info] Number of data points in the train set: 10815, number of used features: 235\n",
      "[LightGBM] [Info] [binary:BoostFromScore]: pavg=0.491262 -> initscore=-0.034955\n",
      "[LightGBM] [Info] Start training from score -0.034955\n",
      "[LightGBM] [Info] Number of positive: 5314, number of negative: 5501\n",
      "[LightGBM] [Info] Auto-choosing row-wise multi-threading, the overhead of testing was 0.015755 seconds.\n",
      "You can set `force_row_wise=true` to remove the overhead.\n",
      "And if memory is not enough, you can set `force_col_wise=true`.\n",
      "[LightGBM] [Info] Total Bins 523\n",
      "[LightGBM] [Info] Number of data points in the train set: 10815, number of used features: 236\n",
      "[LightGBM] [Info] [binary:BoostFromScore]: pavg=0.491355 -> initscore=-0.034585\n",
      "[LightGBM] [Info] Start training from score -0.034585\n",
      "[LightGBM] [Info] Number of positive: 5314, number of negative: 5501\n",
      "[LightGBM] [Info] Auto-choosing row-wise multi-threading, the overhead of testing was 0.016995 seconds.\n",
      "You can set `force_row_wise=true` to remove the overhead.\n",
      "And if memory is not enough, you can set `force_col_wise=true`.\n",
      "[LightGBM] [Info] Total Bins 513\n",
      "[LightGBM] [Info] Number of data points in the train set: 10815, number of used features: 235\n",
      "[LightGBM] [Info] [binary:BoostFromScore]: pavg=0.491355 -> initscore=-0.034585\n",
      "[LightGBM] [Info] Start training from score -0.034585\n",
      "[LightGBM] [Info] Number of positive: 5314, number of negative: 5502\n",
      "[LightGBM] [Info] Auto-choosing row-wise multi-threading, the overhead of testing was 0.016035 seconds.\n",
      "You can set `force_row_wise=true` to remove the overhead.\n",
      "And if memory is not enough, you can set `force_col_wise=true`.\n",
      "[LightGBM] [Info] Total Bins 527\n",
      "[LightGBM] [Info] Number of data points in the train set: 10816, number of used features: 239\n",
      "[LightGBM] [Info] [binary:BoostFromScore]: pavg=0.491309 -> initscore=-0.034767\n",
      "[LightGBM] [Info] Start training from score -0.034767\n",
      "[LightGBM] [Info] Number of positive: 5313, number of negative: 5502\n",
      "[LightGBM] [Info] Auto-choosing row-wise multi-threading, the overhead of testing was 0.015747 seconds.\n",
      "You can set `force_row_wise=true` to remove the overhead.\n",
      "And if memory is not enough, you can set `force_col_wise=true`.\n",
      "[LightGBM] [Info] Total Bins 509\n",
      "[LightGBM] [Info] Number of data points in the train set: 10815, number of used features: 232\n",
      "[LightGBM] [Info] [binary:BoostFromScore]: pavg=0.491262 -> initscore=-0.034955\n",
      "[LightGBM] [Info] Start training from score -0.034955\n",
      "[LightGBM] [Info] Number of positive: 5313, number of negative: 5502\n",
      "[LightGBM] [Info] Auto-choosing row-wise multi-threading, the overhead of testing was 0.015606 seconds.\n",
      "You can set `force_row_wise=true` to remove the overhead.\n",
      "And if memory is not enough, you can set `force_col_wise=true`.\n",
      "[LightGBM] [Info] Total Bins 509\n",
      "[LightGBM] [Info] Number of data points in the train set: 10815, number of used features: 235\n",
      "[LightGBM] [Info] [binary:BoostFromScore]: pavg=0.491262 -> initscore=-0.034955\n",
      "[LightGBM] [Info] Start training from score -0.034955\n",
      "[LightGBM] [Info] Number of positive: 5314, number of negative: 5501\n",
      "[LightGBM] [Info] Auto-choosing row-wise multi-threading, the overhead of testing was 0.016423 seconds.\n",
      "You can set `force_row_wise=true` to remove the overhead.\n",
      "And if memory is not enough, you can set `force_col_wise=true`.\n",
      "[LightGBM] [Info] Total Bins 523\n",
      "[LightGBM] [Info] Number of data points in the train set: 10815, number of used features: 236\n",
      "[LightGBM] [Info] [binary:BoostFromScore]: pavg=0.491355 -> initscore=-0.034585\n",
      "[LightGBM] [Info] Start training from score -0.034585\n",
      "[LightGBM] [Info] Number of positive: 5314, number of negative: 5501\n",
      "[LightGBM] [Info] Auto-choosing row-wise multi-threading, the overhead of testing was 0.015901 seconds.\n",
      "You can set `force_row_wise=true` to remove the overhead.\n",
      "And if memory is not enough, you can set `force_col_wise=true`.\n",
      "[LightGBM] [Info] Total Bins 513\n",
      "[LightGBM] [Info] Number of data points in the train set: 10815, number of used features: 235\n",
      "[LightGBM] [Info] [binary:BoostFromScore]: pavg=0.491355 -> initscore=-0.034585\n",
      "[LightGBM] [Info] Start training from score -0.034585\n",
      "[LightGBM] [Info] Number of positive: 5314, number of negative: 5502\n",
      "[LightGBM] [Info] Auto-choosing row-wise multi-threading, the overhead of testing was 0.016127 seconds.\n",
      "You can set `force_row_wise=true` to remove the overhead.\n",
      "And if memory is not enough, you can set `force_col_wise=true`.\n",
      "[LightGBM] [Info] Total Bins 527\n",
      "[LightGBM] [Info] Number of data points in the train set: 10816, number of used features: 239\n",
      "[LightGBM] [Info] [binary:BoostFromScore]: pavg=0.491309 -> initscore=-0.034767\n",
      "[LightGBM] [Info] Start training from score -0.034767\n",
      "[LightGBM] [Info] Number of positive: 5313, number of negative: 5502\n",
      "[LightGBM] [Info] Auto-choosing row-wise multi-threading, the overhead of testing was 0.015964 seconds.\n",
      "You can set `force_row_wise=true` to remove the overhead.\n",
      "And if memory is not enough, you can set `force_col_wise=true`.\n",
      "[LightGBM] [Info] Total Bins 509\n",
      "[LightGBM] [Info] Number of data points in the train set: 10815, number of used features: 232\n",
      "[LightGBM] [Info] [binary:BoostFromScore]: pavg=0.491262 -> initscore=-0.034955\n",
      "[LightGBM] [Info] Start training from score -0.034955\n",
      "[LightGBM] [Info] Number of positive: 5313, number of negative: 5502\n",
      "[LightGBM] [Info] Auto-choosing col-wise multi-threading, the overhead of testing was 0.016436 seconds.\n",
      "You can set `force_col_wise=true` to remove the overhead.\n",
      "[LightGBM] [Info] Total Bins 509\n",
      "[LightGBM] [Info] Number of data points in the train set: 10815, number of used features: 235\n",
      "[LightGBM] [Info] [binary:BoostFromScore]: pavg=0.491262 -> initscore=-0.034955\n",
      "[LightGBM] [Info] Start training from score -0.034955\n",
      "[LightGBM] [Info] Number of positive: 5314, number of negative: 5501\n",
      "[LightGBM] [Info] Auto-choosing row-wise multi-threading, the overhead of testing was 0.015365 seconds.\n",
      "You can set `force_row_wise=true` to remove the overhead.\n",
      "And if memory is not enough, you can set `force_col_wise=true`.\n",
      "[LightGBM] [Info] Total Bins 523\n",
      "[LightGBM] [Info] Number of data points in the train set: 10815, number of used features: 236\n",
      "[LightGBM] [Info] [binary:BoostFromScore]: pavg=0.491355 -> initscore=-0.034585\n",
      "[LightGBM] [Info] Start training from score -0.034585\n",
      "[LightGBM] [Info] Number of positive: 5314, number of negative: 5501\n",
      "[LightGBM] [Info] Auto-choosing row-wise multi-threading, the overhead of testing was 0.015679 seconds.\n",
      "You can set `force_row_wise=true` to remove the overhead.\n",
      "And if memory is not enough, you can set `force_col_wise=true`.\n",
      "[LightGBM] [Info] Total Bins 513\n",
      "[LightGBM] [Info] Number of data points in the train set: 10815, number of used features: 235\n",
      "[LightGBM] [Info] [binary:BoostFromScore]: pavg=0.491355 -> initscore=-0.034585\n",
      "[LightGBM] [Info] Start training from score -0.034585\n",
      "[LightGBM] [Info] Number of positive: 5314, number of negative: 5502\n",
      "[LightGBM] [Info] Auto-choosing row-wise multi-threading, the overhead of testing was 0.016598 seconds.\n",
      "You can set `force_row_wise=true` to remove the overhead.\n",
      "And if memory is not enough, you can set `force_col_wise=true`.\n",
      "[LightGBM] [Info] Total Bins 527\n",
      "[LightGBM] [Info] Number of data points in the train set: 10816, number of used features: 239\n",
      "[LightGBM] [Info] [binary:BoostFromScore]: pavg=0.491309 -> initscore=-0.034767\n",
      "[LightGBM] [Info] Start training from score -0.034767\n",
      "[LightGBM] [Info] Number of positive: 5313, number of negative: 5502\n",
      "[LightGBM] [Info] Auto-choosing row-wise multi-threading, the overhead of testing was 0.015243 seconds.\n",
      "You can set `force_row_wise=true` to remove the overhead.\n",
      "And if memory is not enough, you can set `force_col_wise=true`.\n",
      "[LightGBM] [Info] Total Bins 509\n",
      "[LightGBM] [Info] Number of data points in the train set: 10815, number of used features: 232\n",
      "[LightGBM] [Info] [binary:BoostFromScore]: pavg=0.491262 -> initscore=-0.034955\n",
      "[LightGBM] [Info] Start training from score -0.034955\n",
      "[LightGBM] [Info] Number of positive: 5313, number of negative: 5502\n",
      "[LightGBM] [Info] Auto-choosing row-wise multi-threading, the overhead of testing was 0.015856 seconds.\n",
      "You can set `force_row_wise=true` to remove the overhead.\n",
      "And if memory is not enough, you can set `force_col_wise=true`.\n",
      "[LightGBM] [Info] Total Bins 509\n",
      "[LightGBM] [Info] Number of data points in the train set: 10815, number of used features: 235\n",
      "[LightGBM] [Info] [binary:BoostFromScore]: pavg=0.491262 -> initscore=-0.034955\n",
      "[LightGBM] [Info] Start training from score -0.034955\n",
      "[LightGBM] [Info] Number of positive: 5314, number of negative: 5501\n",
      "[LightGBM] [Info] Auto-choosing row-wise multi-threading, the overhead of testing was 0.015716 seconds.\n",
      "You can set `force_row_wise=true` to remove the overhead.\n",
      "And if memory is not enough, you can set `force_col_wise=true`.\n",
      "[LightGBM] [Info] Total Bins 523\n",
      "[LightGBM] [Info] Number of data points in the train set: 10815, number of used features: 236\n",
      "[LightGBM] [Info] [binary:BoostFromScore]: pavg=0.491355 -> initscore=-0.034585\n",
      "[LightGBM] [Info] Start training from score -0.034585\n",
      "[LightGBM] [Info] Number of positive: 5314, number of negative: 5501\n",
      "[LightGBM] [Info] Auto-choosing row-wise multi-threading, the overhead of testing was 0.016983 seconds.\n",
      "You can set `force_row_wise=true` to remove the overhead.\n",
      "And if memory is not enough, you can set `force_col_wise=true`.\n",
      "[LightGBM] [Info] Total Bins 513\n",
      "[LightGBM] [Info] Number of data points in the train set: 10815, number of used features: 235\n",
      "[LightGBM] [Info] [binary:BoostFromScore]: pavg=0.491355 -> initscore=-0.034585\n",
      "[LightGBM] [Info] Start training from score -0.034585\n",
      "[LightGBM] [Info] Number of positive: 5314, number of negative: 5502\n",
      "[LightGBM] [Info] Auto-choosing row-wise multi-threading, the overhead of testing was 0.015612 seconds.\n",
      "You can set `force_row_wise=true` to remove the overhead.\n",
      "And if memory is not enough, you can set `force_col_wise=true`.\n",
      "[LightGBM] [Info] Total Bins 527\n",
      "[LightGBM] [Info] Number of data points in the train set: 10816, number of used features: 239\n",
      "[LightGBM] [Info] [binary:BoostFromScore]: pavg=0.491309 -> initscore=-0.034767\n",
      "[LightGBM] [Info] Start training from score -0.034767\n",
      "[LightGBM] [Info] Number of positive: 5313, number of negative: 5502\n",
      "[LightGBM] [Info] Auto-choosing row-wise multi-threading, the overhead of testing was 0.015047 seconds.\n",
      "You can set `force_row_wise=true` to remove the overhead.\n",
      "And if memory is not enough, you can set `force_col_wise=true`.\n",
      "[LightGBM] [Info] Total Bins 509\n",
      "[LightGBM] [Info] Number of data points in the train set: 10815, number of used features: 232\n",
      "[LightGBM] [Info] [binary:BoostFromScore]: pavg=0.491262 -> initscore=-0.034955\n",
      "[LightGBM] [Info] Start training from score -0.034955\n",
      "[LightGBM] [Info] Number of positive: 5313, number of negative: 5502\n",
      "[LightGBM] [Info] Auto-choosing row-wise multi-threading, the overhead of testing was 0.015351 seconds.\n",
      "You can set `force_row_wise=true` to remove the overhead.\n",
      "And if memory is not enough, you can set `force_col_wise=true`.\n",
      "[LightGBM] [Info] Total Bins 509\n",
      "[LightGBM] [Info] Number of data points in the train set: 10815, number of used features: 235\n",
      "[LightGBM] [Info] [binary:BoostFromScore]: pavg=0.491262 -> initscore=-0.034955\n",
      "[LightGBM] [Info] Start training from score -0.034955\n",
      "[LightGBM] [Info] Number of positive: 5314, number of negative: 5501\n",
      "[LightGBM] [Info] Auto-choosing row-wise multi-threading, the overhead of testing was 0.015382 seconds.\n",
      "You can set `force_row_wise=true` to remove the overhead.\n",
      "And if memory is not enough, you can set `force_col_wise=true`.\n",
      "[LightGBM] [Info] Total Bins 523\n",
      "[LightGBM] [Info] Number of data points in the train set: 10815, number of used features: 236\n",
      "[LightGBM] [Info] [binary:BoostFromScore]: pavg=0.491355 -> initscore=-0.034585\n",
      "[LightGBM] [Info] Start training from score -0.034585\n",
      "[LightGBM] [Info] Number of positive: 5314, number of negative: 5501\n",
      "[LightGBM] [Info] Auto-choosing col-wise multi-threading, the overhead of testing was 0.015148 seconds.\n",
      "You can set `force_col_wise=true` to remove the overhead.\n",
      "[LightGBM] [Info] Total Bins 513\n",
      "[LightGBM] [Info] Number of data points in the train set: 10815, number of used features: 235\n",
      "[LightGBM] [Info] [binary:BoostFromScore]: pavg=0.491355 -> initscore=-0.034585\n",
      "[LightGBM] [Info] Start training from score -0.034585\n",
      "[LightGBM] [Info] Number of positive: 5314, number of negative: 5502\n",
      "[LightGBM] [Info] Auto-choosing row-wise multi-threading, the overhead of testing was 0.016719 seconds.\n",
      "You can set `force_row_wise=true` to remove the overhead.\n",
      "And if memory is not enough, you can set `force_col_wise=true`.\n",
      "[LightGBM] [Info] Total Bins 527\n",
      "[LightGBM] [Info] Number of data points in the train set: 10816, number of used features: 239\n",
      "[LightGBM] [Info] [binary:BoostFromScore]: pavg=0.491309 -> initscore=-0.034767\n",
      "[LightGBM] [Info] Start training from score -0.034767\n",
      "[LightGBM] [Info] Number of positive: 5313, number of negative: 5502\n",
      "[LightGBM] [Info] Auto-choosing row-wise multi-threading, the overhead of testing was 0.015723 seconds.\n",
      "You can set `force_row_wise=true` to remove the overhead.\n",
      "And if memory is not enough, you can set `force_col_wise=true`.\n",
      "[LightGBM] [Info] Total Bins 509\n",
      "[LightGBM] [Info] Number of data points in the train set: 10815, number of used features: 232\n",
      "[LightGBM] [Info] [binary:BoostFromScore]: pavg=0.491262 -> initscore=-0.034955\n",
      "[LightGBM] [Info] Start training from score -0.034955\n",
      "[LightGBM] [Info] Number of positive: 5313, number of negative: 5502\n",
      "[LightGBM] [Info] Auto-choosing row-wise multi-threading, the overhead of testing was 0.015307 seconds.\n",
      "You can set `force_row_wise=true` to remove the overhead.\n",
      "And if memory is not enough, you can set `force_col_wise=true`.\n",
      "[LightGBM] [Info] Total Bins 509\n",
      "[LightGBM] [Info] Number of data points in the train set: 10815, number of used features: 235\n",
      "[LightGBM] [Info] [binary:BoostFromScore]: pavg=0.491262 -> initscore=-0.034955\n",
      "[LightGBM] [Info] Start training from score -0.034955\n",
      "[LightGBM] [Info] Number of positive: 5314, number of negative: 5501\n",
      "[LightGBM] [Info] Auto-choosing row-wise multi-threading, the overhead of testing was 0.015420 seconds.\n",
      "You can set `force_row_wise=true` to remove the overhead.\n",
      "And if memory is not enough, you can set `force_col_wise=true`.\n",
      "[LightGBM] [Info] Total Bins 523\n",
      "[LightGBM] [Info] Number of data points in the train set: 10815, number of used features: 236\n",
      "[LightGBM] [Info] [binary:BoostFromScore]: pavg=0.491355 -> initscore=-0.034585\n",
      "[LightGBM] [Info] Start training from score -0.034585\n",
      "[LightGBM] [Info] Number of positive: 5314, number of negative: 5501\n",
      "[LightGBM] [Info] Auto-choosing row-wise multi-threading, the overhead of testing was 0.015739 seconds.\n",
      "You can set `force_row_wise=true` to remove the overhead.\n",
      "And if memory is not enough, you can set `force_col_wise=true`.\n",
      "[LightGBM] [Info] Total Bins 513\n",
      "[LightGBM] [Info] Number of data points in the train set: 10815, number of used features: 235\n",
      "[LightGBM] [Info] [binary:BoostFromScore]: pavg=0.491355 -> initscore=-0.034585\n",
      "[LightGBM] [Info] Start training from score -0.034585\n",
      "[LightGBM] [Info] Number of positive: 5314, number of negative: 5502\n",
      "[LightGBM] [Info] Auto-choosing row-wise multi-threading, the overhead of testing was 0.016146 seconds.\n",
      "You can set `force_row_wise=true` to remove the overhead.\n",
      "And if memory is not enough, you can set `force_col_wise=true`.\n",
      "[LightGBM] [Info] Total Bins 527\n",
      "[LightGBM] [Info] Number of data points in the train set: 10816, number of used features: 239\n",
      "[LightGBM] [Info] [binary:BoostFromScore]: pavg=0.491309 -> initscore=-0.034767\n",
      "[LightGBM] [Info] Start training from score -0.034767\n",
      "[LightGBM] [Info] Number of positive: 5313, number of negative: 5502\n",
      "[LightGBM] [Info] Auto-choosing row-wise multi-threading, the overhead of testing was 0.014730 seconds.\n",
      "You can set `force_row_wise=true` to remove the overhead.\n",
      "And if memory is not enough, you can set `force_col_wise=true`.\n",
      "[LightGBM] [Info] Total Bins 509\n",
      "[LightGBM] [Info] Number of data points in the train set: 10815, number of used features: 232\n",
      "[LightGBM] [Info] [binary:BoostFromScore]: pavg=0.491262 -> initscore=-0.034955\n",
      "[LightGBM] [Info] Start training from score -0.034955\n",
      "[LightGBM] [Info] Number of positive: 5313, number of negative: 5502\n",
      "[LightGBM] [Info] Auto-choosing row-wise multi-threading, the overhead of testing was 0.015362 seconds.\n",
      "You can set `force_row_wise=true` to remove the overhead.\n",
      "And if memory is not enough, you can set `force_col_wise=true`.\n",
      "[LightGBM] [Info] Total Bins 509\n",
      "[LightGBM] [Info] Number of data points in the train set: 10815, number of used features: 235\n",
      "[LightGBM] [Info] [binary:BoostFromScore]: pavg=0.491262 -> initscore=-0.034955\n",
      "[LightGBM] [Info] Start training from score -0.034955\n",
      "[LightGBM] [Info] Number of positive: 5314, number of negative: 5501\n",
      "[LightGBM] [Info] Auto-choosing row-wise multi-threading, the overhead of testing was 0.016241 seconds.\n",
      "You can set `force_row_wise=true` to remove the overhead.\n",
      "And if memory is not enough, you can set `force_col_wise=true`.\n",
      "[LightGBM] [Info] Total Bins 523\n",
      "[LightGBM] [Info] Number of data points in the train set: 10815, number of used features: 236\n",
      "[LightGBM] [Info] [binary:BoostFromScore]: pavg=0.491355 -> initscore=-0.034585\n",
      "[LightGBM] [Info] Start training from score -0.034585\n",
      "[LightGBM] [Info] Number of positive: 5314, number of negative: 5501\n",
      "[LightGBM] [Info] Auto-choosing row-wise multi-threading, the overhead of testing was 0.015582 seconds.\n",
      "You can set `force_row_wise=true` to remove the overhead.\n",
      "And if memory is not enough, you can set `force_col_wise=true`.\n",
      "[LightGBM] [Info] Total Bins 513\n",
      "[LightGBM] [Info] Number of data points in the train set: 10815, number of used features: 235\n",
      "[LightGBM] [Info] [binary:BoostFromScore]: pavg=0.491355 -> initscore=-0.034585\n",
      "[LightGBM] [Info] Start training from score -0.034585\n",
      "[LightGBM] [Info] Number of positive: 5314, number of negative: 5502\n",
      "[LightGBM] [Info] Auto-choosing row-wise multi-threading, the overhead of testing was 0.016926 seconds.\n",
      "You can set `force_row_wise=true` to remove the overhead.\n",
      "And if memory is not enough, you can set `force_col_wise=true`.\n",
      "[LightGBM] [Info] Total Bins 527\n",
      "[LightGBM] [Info] Number of data points in the train set: 10816, number of used features: 239\n",
      "[LightGBM] [Info] [binary:BoostFromScore]: pavg=0.491309 -> initscore=-0.034767\n",
      "[LightGBM] [Info] Start training from score -0.034767\n",
      "[LightGBM] [Info] Number of positive: 5313, number of negative: 5502\n",
      "[LightGBM] [Info] Auto-choosing row-wise multi-threading, the overhead of testing was 0.015909 seconds.\n",
      "You can set `force_row_wise=true` to remove the overhead.\n",
      "And if memory is not enough, you can set `force_col_wise=true`.\n",
      "[LightGBM] [Info] Total Bins 509\n",
      "[LightGBM] [Info] Number of data points in the train set: 10815, number of used features: 232\n",
      "[LightGBM] [Info] [binary:BoostFromScore]: pavg=0.491262 -> initscore=-0.034955\n",
      "[LightGBM] [Info] Start training from score -0.034955\n",
      "[LightGBM] [Info] Number of positive: 5313, number of negative: 5502\n",
      "[LightGBM] [Info] Auto-choosing col-wise multi-threading, the overhead of testing was 0.015474 seconds.\n",
      "You can set `force_col_wise=true` to remove the overhead.\n",
      "[LightGBM] [Info] Total Bins 509\n",
      "[LightGBM] [Info] Number of data points in the train set: 10815, number of used features: 235\n",
      "[LightGBM] [Info] [binary:BoostFromScore]: pavg=0.491262 -> initscore=-0.034955\n",
      "[LightGBM] [Info] Start training from score -0.034955\n",
      "[LightGBM] [Info] Number of positive: 5314, number of negative: 5501\n",
      "[LightGBM] [Info] Auto-choosing row-wise multi-threading, the overhead of testing was 0.016065 seconds.\n",
      "You can set `force_row_wise=true` to remove the overhead.\n",
      "And if memory is not enough, you can set `force_col_wise=true`.\n",
      "[LightGBM] [Info] Total Bins 523\n",
      "[LightGBM] [Info] Number of data points in the train set: 10815, number of used features: 236\n",
      "[LightGBM] [Info] [binary:BoostFromScore]: pavg=0.491355 -> initscore=-0.034585\n",
      "[LightGBM] [Info] Start training from score -0.034585\n",
      "[LightGBM] [Info] Number of positive: 5314, number of negative: 5501\n",
      "[LightGBM] [Info] Auto-choosing row-wise multi-threading, the overhead of testing was 0.015129 seconds.\n",
      "You can set `force_row_wise=true` to remove the overhead.\n",
      "And if memory is not enough, you can set `force_col_wise=true`.\n",
      "[LightGBM] [Info] Total Bins 513\n",
      "[LightGBM] [Info] Number of data points in the train set: 10815, number of used features: 235\n",
      "[LightGBM] [Info] [binary:BoostFromScore]: pavg=0.491355 -> initscore=-0.034585\n",
      "[LightGBM] [Info] Start training from score -0.034585\n",
      "[LightGBM] [Info] Number of positive: 5314, number of negative: 5502\n",
      "[LightGBM] [Info] Auto-choosing row-wise multi-threading, the overhead of testing was 0.015849 seconds.\n",
      "You can set `force_row_wise=true` to remove the overhead.\n",
      "And if memory is not enough, you can set `force_col_wise=true`.\n",
      "[LightGBM] [Info] Total Bins 527\n",
      "[LightGBM] [Info] Number of data points in the train set: 10816, number of used features: 239\n",
      "[LightGBM] [Info] [binary:BoostFromScore]: pavg=0.491309 -> initscore=-0.034767\n",
      "[LightGBM] [Info] Start training from score -0.034767\n",
      "[LightGBM] [Info] Number of positive: 5313, number of negative: 5502\n",
      "[LightGBM] [Info] Auto-choosing row-wise multi-threading, the overhead of testing was 0.015944 seconds.\n",
      "You can set `force_row_wise=true` to remove the overhead.\n",
      "And if memory is not enough, you can set `force_col_wise=true`.\n",
      "[LightGBM] [Info] Total Bins 509\n",
      "[LightGBM] [Info] Number of data points in the train set: 10815, number of used features: 232\n",
      "[LightGBM] [Info] [binary:BoostFromScore]: pavg=0.491262 -> initscore=-0.034955\n",
      "[LightGBM] [Info] Start training from score -0.034955\n",
      "[LightGBM] [Info] Number of positive: 5313, number of negative: 5502\n",
      "[LightGBM] [Info] Auto-choosing row-wise multi-threading, the overhead of testing was 0.015299 seconds.\n",
      "You can set `force_row_wise=true` to remove the overhead.\n",
      "And if memory is not enough, you can set `force_col_wise=true`.\n",
      "[LightGBM] [Info] Total Bins 509\n",
      "[LightGBM] [Info] Number of data points in the train set: 10815, number of used features: 235\n",
      "[LightGBM] [Info] [binary:BoostFromScore]: pavg=0.491262 -> initscore=-0.034955\n",
      "[LightGBM] [Info] Start training from score -0.034955\n",
      "[LightGBM] [Info] Number of positive: 5314, number of negative: 5501\n",
      "[LightGBM] [Info] Auto-choosing col-wise multi-threading, the overhead of testing was 0.016165 seconds.\n",
      "You can set `force_col_wise=true` to remove the overhead.\n",
      "[LightGBM] [Info] Total Bins 523\n",
      "[LightGBM] [Info] Number of data points in the train set: 10815, number of used features: 236\n",
      "[LightGBM] [Info] [binary:BoostFromScore]: pavg=0.491355 -> initscore=-0.034585\n",
      "[LightGBM] [Info] Start training from score -0.034585\n",
      "[LightGBM] [Info] Number of positive: 5314, number of negative: 5501\n",
      "[LightGBM] [Info] Auto-choosing row-wise multi-threading, the overhead of testing was 0.015275 seconds.\n",
      "You can set `force_row_wise=true` to remove the overhead.\n",
      "And if memory is not enough, you can set `force_col_wise=true`.\n",
      "[LightGBM] [Info] Total Bins 513\n",
      "[LightGBM] [Info] Number of data points in the train set: 10815, number of used features: 235\n",
      "[LightGBM] [Info] [binary:BoostFromScore]: pavg=0.491355 -> initscore=-0.034585\n",
      "[LightGBM] [Info] Start training from score -0.034585\n",
      "[LightGBM] [Info] Number of positive: 5314, number of negative: 5502\n",
      "[LightGBM] [Info] Auto-choosing row-wise multi-threading, the overhead of testing was 0.022104 seconds.\n",
      "You can set `force_row_wise=true` to remove the overhead.\n",
      "And if memory is not enough, you can set `force_col_wise=true`.\n",
      "[LightGBM] [Info] Total Bins 527\n",
      "[LightGBM] [Info] Number of data points in the train set: 10816, number of used features: 239\n",
      "[LightGBM] [Info] [binary:BoostFromScore]: pavg=0.491309 -> initscore=-0.034767\n",
      "[LightGBM] [Info] Start training from score -0.034767\n",
      "[LightGBM] [Info] Number of positive: 5313, number of negative: 5502\n",
      "[LightGBM] [Info] Auto-choosing col-wise multi-threading, the overhead of testing was 0.015173 seconds.\n",
      "You can set `force_col_wise=true` to remove the overhead.\n",
      "[LightGBM] [Info] Total Bins 509\n",
      "[LightGBM] [Info] Number of data points in the train set: 10815, number of used features: 232\n",
      "[LightGBM] [Info] [binary:BoostFromScore]: pavg=0.491262 -> initscore=-0.034955\n",
      "[LightGBM] [Info] Start training from score -0.034955\n",
      "[LightGBM] [Info] Number of positive: 5313, number of negative: 5502\n",
      "[LightGBM] [Info] Auto-choosing row-wise multi-threading, the overhead of testing was 0.015255 seconds.\n",
      "You can set `force_row_wise=true` to remove the overhead.\n",
      "And if memory is not enough, you can set `force_col_wise=true`.\n",
      "[LightGBM] [Info] Total Bins 509\n",
      "[LightGBM] [Info] Number of data points in the train set: 10815, number of used features: 235\n",
      "[LightGBM] [Info] [binary:BoostFromScore]: pavg=0.491262 -> initscore=-0.034955\n",
      "[LightGBM] [Info] Start training from score -0.034955\n",
      "[LightGBM] [Info] Number of positive: 5314, number of negative: 5501\n",
      "[LightGBM] [Info] Auto-choosing row-wise multi-threading, the overhead of testing was 0.015281 seconds.\n",
      "You can set `force_row_wise=true` to remove the overhead.\n",
      "And if memory is not enough, you can set `force_col_wise=true`.\n",
      "[LightGBM] [Info] Total Bins 523\n",
      "[LightGBM] [Info] Number of data points in the train set: 10815, number of used features: 236\n",
      "[LightGBM] [Info] [binary:BoostFromScore]: pavg=0.491355 -> initscore=-0.034585\n",
      "[LightGBM] [Info] Start training from score -0.034585\n",
      "[LightGBM] [Info] Number of positive: 5314, number of negative: 5501\n",
      "[LightGBM] [Info] Auto-choosing row-wise multi-threading, the overhead of testing was 0.015986 seconds.\n",
      "You can set `force_row_wise=true` to remove the overhead.\n",
      "And if memory is not enough, you can set `force_col_wise=true`.\n",
      "[LightGBM] [Info] Total Bins 513\n",
      "[LightGBM] [Info] Number of data points in the train set: 10815, number of used features: 235\n",
      "[LightGBM] [Info] [binary:BoostFromScore]: pavg=0.491355 -> initscore=-0.034585\n",
      "[LightGBM] [Info] Start training from score -0.034585\n",
      "[LightGBM] [Info] Number of positive: 5314, number of negative: 5502\n",
      "[LightGBM] [Info] Auto-choosing row-wise multi-threading, the overhead of testing was 0.015588 seconds.\n",
      "You can set `force_row_wise=true` to remove the overhead.\n",
      "And if memory is not enough, you can set `force_col_wise=true`.\n",
      "[LightGBM] [Info] Total Bins 527\n",
      "[LightGBM] [Info] Number of data points in the train set: 10816, number of used features: 239\n",
      "[LightGBM] [Info] [binary:BoostFromScore]: pavg=0.491309 -> initscore=-0.034767\n",
      "[LightGBM] [Info] Start training from score -0.034767\n",
      "[LightGBM] [Info] Number of positive: 5313, number of negative: 5502\n",
      "[LightGBM] [Info] Auto-choosing col-wise multi-threading, the overhead of testing was 0.015029 seconds.\n",
      "You can set `force_col_wise=true` to remove the overhead.\n",
      "[LightGBM] [Info] Total Bins 509\n",
      "[LightGBM] [Info] Number of data points in the train set: 10815, number of used features: 232\n",
      "[LightGBM] [Info] [binary:BoostFromScore]: pavg=0.491262 -> initscore=-0.034955\n",
      "[LightGBM] [Info] Start training from score -0.034955\n",
      "[LightGBM] [Info] Number of positive: 5313, number of negative: 5502\n",
      "[LightGBM] [Info] Auto-choosing col-wise multi-threading, the overhead of testing was 0.015656 seconds.\n",
      "You can set `force_col_wise=true` to remove the overhead.\n",
      "[LightGBM] [Info] Total Bins 509\n",
      "[LightGBM] [Info] Number of data points in the train set: 10815, number of used features: 235\n",
      "[LightGBM] [Info] [binary:BoostFromScore]: pavg=0.491262 -> initscore=-0.034955\n",
      "[LightGBM] [Info] Start training from score -0.034955\n",
      "[LightGBM] [Info] Number of positive: 5314, number of negative: 5501\n",
      "[LightGBM] [Info] Auto-choosing row-wise multi-threading, the overhead of testing was 0.016517 seconds.\n",
      "You can set `force_row_wise=true` to remove the overhead.\n",
      "And if memory is not enough, you can set `force_col_wise=true`.\n",
      "[LightGBM] [Info] Total Bins 523\n",
      "[LightGBM] [Info] Number of data points in the train set: 10815, number of used features: 236\n",
      "[LightGBM] [Info] [binary:BoostFromScore]: pavg=0.491355 -> initscore=-0.034585\n",
      "[LightGBM] [Info] Start training from score -0.034585\n",
      "[LightGBM] [Info] Number of positive: 5314, number of negative: 5501\n",
      "[LightGBM] [Info] Auto-choosing row-wise multi-threading, the overhead of testing was 0.016313 seconds.\n",
      "You can set `force_row_wise=true` to remove the overhead.\n",
      "And if memory is not enough, you can set `force_col_wise=true`.\n",
      "[LightGBM] [Info] Total Bins 513\n",
      "[LightGBM] [Info] Number of data points in the train set: 10815, number of used features: 235\n",
      "[LightGBM] [Info] [binary:BoostFromScore]: pavg=0.491355 -> initscore=-0.034585\n",
      "[LightGBM] [Info] Start training from score -0.034585\n",
      "[LightGBM] [Info] Number of positive: 5314, number of negative: 5502\n",
      "[LightGBM] [Info] Auto-choosing row-wise multi-threading, the overhead of testing was 0.015547 seconds.\n",
      "You can set `force_row_wise=true` to remove the overhead.\n",
      "And if memory is not enough, you can set `force_col_wise=true`.\n",
      "[LightGBM] [Info] Total Bins 527\n",
      "[LightGBM] [Info] Number of data points in the train set: 10816, number of used features: 239\n",
      "[LightGBM] [Info] [binary:BoostFromScore]: pavg=0.491309 -> initscore=-0.034767\n",
      "[LightGBM] [Info] Start training from score -0.034767\n",
      "[LightGBM] [Info] Number of positive: 5313, number of negative: 5502\n",
      "[LightGBM] [Info] Auto-choosing row-wise multi-threading, the overhead of testing was 0.014918 seconds.\n",
      "You can set `force_row_wise=true` to remove the overhead.\n",
      "And if memory is not enough, you can set `force_col_wise=true`.\n",
      "[LightGBM] [Info] Total Bins 509\n",
      "[LightGBM] [Info] Number of data points in the train set: 10815, number of used features: 232\n",
      "[LightGBM] [Info] [binary:BoostFromScore]: pavg=0.491262 -> initscore=-0.034955\n",
      "[LightGBM] [Info] Start training from score -0.034955\n",
      "[LightGBM] [Info] Number of positive: 5313, number of negative: 5502\n",
      "[LightGBM] [Info] Auto-choosing row-wise multi-threading, the overhead of testing was 0.016012 seconds.\n",
      "You can set `force_row_wise=true` to remove the overhead.\n",
      "And if memory is not enough, you can set `force_col_wise=true`.\n",
      "[LightGBM] [Info] Total Bins 509\n",
      "[LightGBM] [Info] Number of data points in the train set: 10815, number of used features: 235\n",
      "[LightGBM] [Info] [binary:BoostFromScore]: pavg=0.491262 -> initscore=-0.034955\n",
      "[LightGBM] [Info] Start training from score -0.034955\n",
      "[LightGBM] [Info] Number of positive: 5314, number of negative: 5501\n",
      "[LightGBM] [Info] Auto-choosing row-wise multi-threading, the overhead of testing was 0.015433 seconds.\n",
      "You can set `force_row_wise=true` to remove the overhead.\n",
      "And if memory is not enough, you can set `force_col_wise=true`.\n",
      "[LightGBM] [Info] Total Bins 523\n",
      "[LightGBM] [Info] Number of data points in the train set: 10815, number of used features: 236\n",
      "[LightGBM] [Info] [binary:BoostFromScore]: pavg=0.491355 -> initscore=-0.034585\n",
      "[LightGBM] [Info] Start training from score -0.034585\n",
      "[LightGBM] [Info] Number of positive: 5314, number of negative: 5501\n",
      "[LightGBM] [Info] Auto-choosing row-wise multi-threading, the overhead of testing was 0.015200 seconds.\n",
      "You can set `force_row_wise=true` to remove the overhead.\n",
      "And if memory is not enough, you can set `force_col_wise=true`.\n",
      "[LightGBM] [Info] Total Bins 513\n",
      "[LightGBM] [Info] Number of data points in the train set: 10815, number of used features: 235\n",
      "[LightGBM] [Info] [binary:BoostFromScore]: pavg=0.491355 -> initscore=-0.034585\n",
      "[LightGBM] [Info] Start training from score -0.034585\n",
      "[LightGBM] [Info] Number of positive: 5314, number of negative: 5502\n",
      "[LightGBM] [Info] Auto-choosing row-wise multi-threading, the overhead of testing was 0.016169 seconds.\n",
      "You can set `force_row_wise=true` to remove the overhead.\n",
      "And if memory is not enough, you can set `force_col_wise=true`.\n",
      "[LightGBM] [Info] Total Bins 527\n",
      "[LightGBM] [Info] Number of data points in the train set: 10816, number of used features: 239\n",
      "[LightGBM] [Info] [binary:BoostFromScore]: pavg=0.491309 -> initscore=-0.034767\n",
      "[LightGBM] [Info] Start training from score -0.034767\n",
      "[LightGBM] [Info] Number of positive: 5313, number of negative: 5502\n",
      "[LightGBM] [Info] Auto-choosing row-wise multi-threading, the overhead of testing was 0.014980 seconds.\n",
      "You can set `force_row_wise=true` to remove the overhead.\n",
      "And if memory is not enough, you can set `force_col_wise=true`.\n",
      "[LightGBM] [Info] Total Bins 509\n",
      "[LightGBM] [Info] Number of data points in the train set: 10815, number of used features: 232\n",
      "[LightGBM] [Info] [binary:BoostFromScore]: pavg=0.491262 -> initscore=-0.034955\n",
      "[LightGBM] [Info] Start training from score -0.034955\n",
      "[LightGBM] [Info] Number of positive: 5313, number of negative: 5502\n",
      "[LightGBM] [Info] Auto-choosing col-wise multi-threading, the overhead of testing was 0.016312 seconds.\n",
      "You can set `force_col_wise=true` to remove the overhead.\n",
      "[LightGBM] [Info] Total Bins 509\n",
      "[LightGBM] [Info] Number of data points in the train set: 10815, number of used features: 235\n",
      "[LightGBM] [Info] [binary:BoostFromScore]: pavg=0.491262 -> initscore=-0.034955\n",
      "[LightGBM] [Info] Start training from score -0.034955\n",
      "[LightGBM] [Info] Number of positive: 5314, number of negative: 5501\n",
      "[LightGBM] [Info] Auto-choosing row-wise multi-threading, the overhead of testing was 0.015480 seconds.\n",
      "You can set `force_row_wise=true` to remove the overhead.\n",
      "And if memory is not enough, you can set `force_col_wise=true`.\n",
      "[LightGBM] [Info] Total Bins 523\n",
      "[LightGBM] [Info] Number of data points in the train set: 10815, number of used features: 236\n",
      "[LightGBM] [Info] [binary:BoostFromScore]: pavg=0.491355 -> initscore=-0.034585\n",
      "[LightGBM] [Info] Start training from score -0.034585\n",
      "[LightGBM] [Info] Number of positive: 5314, number of negative: 5501\n",
      "[LightGBM] [Info] Auto-choosing row-wise multi-threading, the overhead of testing was 0.015616 seconds.\n",
      "You can set `force_row_wise=true` to remove the overhead.\n",
      "And if memory is not enough, you can set `force_col_wise=true`.\n",
      "[LightGBM] [Info] Total Bins 513\n",
      "[LightGBM] [Info] Number of data points in the train set: 10815, number of used features: 235\n",
      "[LightGBM] [Info] [binary:BoostFromScore]: pavg=0.491355 -> initscore=-0.034585\n",
      "[LightGBM] [Info] Start training from score -0.034585\n",
      "[LightGBM] [Info] Number of positive: 5314, number of negative: 5502\n",
      "[LightGBM] [Info] Auto-choosing col-wise multi-threading, the overhead of testing was 0.015762 seconds.\n",
      "You can set `force_col_wise=true` to remove the overhead.\n",
      "[LightGBM] [Info] Total Bins 527\n",
      "[LightGBM] [Info] Number of data points in the train set: 10816, number of used features: 239\n",
      "[LightGBM] [Info] [binary:BoostFromScore]: pavg=0.491309 -> initscore=-0.034767\n",
      "[LightGBM] [Info] Start training from score -0.034767\n",
      "[LightGBM] [Info] Number of positive: 5313, number of negative: 5502\n",
      "[LightGBM] [Info] Auto-choosing row-wise multi-threading, the overhead of testing was 0.015002 seconds.\n",
      "You can set `force_row_wise=true` to remove the overhead.\n",
      "And if memory is not enough, you can set `force_col_wise=true`.\n",
      "[LightGBM] [Info] Total Bins 509\n",
      "[LightGBM] [Info] Number of data points in the train set: 10815, number of used features: 232\n",
      "[LightGBM] [Info] [binary:BoostFromScore]: pavg=0.491262 -> initscore=-0.034955\n",
      "[LightGBM] [Info] Start training from score -0.034955\n",
      "[LightGBM] [Info] Number of positive: 5313, number of negative: 5502\n",
      "[LightGBM] [Info] Auto-choosing col-wise multi-threading, the overhead of testing was 0.015665 seconds.\n",
      "You can set `force_col_wise=true` to remove the overhead.\n",
      "[LightGBM] [Info] Total Bins 509\n",
      "[LightGBM] [Info] Number of data points in the train set: 10815, number of used features: 235\n",
      "[LightGBM] [Info] [binary:BoostFromScore]: pavg=0.491262 -> initscore=-0.034955\n",
      "[LightGBM] [Info] Start training from score -0.034955\n",
      "[LightGBM] [Info] Number of positive: 5314, number of negative: 5501\n",
      "[LightGBM] [Info] Auto-choosing row-wise multi-threading, the overhead of testing was 0.015746 seconds.\n",
      "You can set `force_row_wise=true` to remove the overhead.\n",
      "And if memory is not enough, you can set `force_col_wise=true`.\n",
      "[LightGBM] [Info] Total Bins 523\n",
      "[LightGBM] [Info] Number of data points in the train set: 10815, number of used features: 236\n",
      "[LightGBM] [Info] [binary:BoostFromScore]: pavg=0.491355 -> initscore=-0.034585\n",
      "[LightGBM] [Info] Start training from score -0.034585\n",
      "[LightGBM] [Info] Number of positive: 5314, number of negative: 5501\n",
      "[LightGBM] [Info] Auto-choosing col-wise multi-threading, the overhead of testing was 0.015394 seconds.\n",
      "You can set `force_col_wise=true` to remove the overhead.\n",
      "[LightGBM] [Info] Total Bins 513\n",
      "[LightGBM] [Info] Number of data points in the train set: 10815, number of used features: 235\n",
      "[LightGBM] [Info] [binary:BoostFromScore]: pavg=0.491355 -> initscore=-0.034585\n",
      "[LightGBM] [Info] Start training from score -0.034585\n",
      "[LightGBM] [Info] Number of positive: 5314, number of negative: 5502\n",
      "[LightGBM] [Info] Auto-choosing row-wise multi-threading, the overhead of testing was 0.016214 seconds.\n",
      "You can set `force_row_wise=true` to remove the overhead.\n",
      "And if memory is not enough, you can set `force_col_wise=true`.\n",
      "[LightGBM] [Info] Total Bins 527\n",
      "[LightGBM] [Info] Number of data points in the train set: 10816, number of used features: 239\n",
      "[LightGBM] [Info] [binary:BoostFromScore]: pavg=0.491309 -> initscore=-0.034767\n",
      "[LightGBM] [Info] Start training from score -0.034767\n",
      "[LightGBM] [Info] Number of positive: 5313, number of negative: 5502\n",
      "[LightGBM] [Info] Auto-choosing row-wise multi-threading, the overhead of testing was 0.015315 seconds.\n",
      "You can set `force_row_wise=true` to remove the overhead.\n",
      "And if memory is not enough, you can set `force_col_wise=true`.\n",
      "[LightGBM] [Info] Total Bins 509\n",
      "[LightGBM] [Info] Number of data points in the train set: 10815, number of used features: 232\n",
      "[LightGBM] [Info] [binary:BoostFromScore]: pavg=0.491262 -> initscore=-0.034955\n",
      "[LightGBM] [Info] Start training from score -0.034955\n",
      "[LightGBM] [Info] Number of positive: 5313, number of negative: 5502\n",
      "[LightGBM] [Info] Auto-choosing row-wise multi-threading, the overhead of testing was 0.015118 seconds.\n",
      "You can set `force_row_wise=true` to remove the overhead.\n",
      "And if memory is not enough, you can set `force_col_wise=true`.\n",
      "[LightGBM] [Info] Total Bins 509\n",
      "[LightGBM] [Info] Number of data points in the train set: 10815, number of used features: 235\n",
      "[LightGBM] [Info] [binary:BoostFromScore]: pavg=0.491262 -> initscore=-0.034955\n",
      "[LightGBM] [Info] Start training from score -0.034955\n",
      "[LightGBM] [Info] Number of positive: 5314, number of negative: 5501\n",
      "[LightGBM] [Info] Auto-choosing row-wise multi-threading, the overhead of testing was 0.016257 seconds.\n",
      "You can set `force_row_wise=true` to remove the overhead.\n",
      "And if memory is not enough, you can set `force_col_wise=true`.\n",
      "[LightGBM] [Info] Total Bins 523\n",
      "[LightGBM] [Info] Number of data points in the train set: 10815, number of used features: 236\n",
      "[LightGBM] [Info] [binary:BoostFromScore]: pavg=0.491355 -> initscore=-0.034585\n",
      "[LightGBM] [Info] Start training from score -0.034585\n",
      "[LightGBM] [Info] Number of positive: 5314, number of negative: 5501\n",
      "[LightGBM] [Info] Auto-choosing col-wise multi-threading, the overhead of testing was 0.015402 seconds.\n",
      "You can set `force_col_wise=true` to remove the overhead.\n",
      "[LightGBM] [Info] Total Bins 513\n",
      "[LightGBM] [Info] Number of data points in the train set: 10815, number of used features: 235\n",
      "[LightGBM] [Info] [binary:BoostFromScore]: pavg=0.491355 -> initscore=-0.034585\n",
      "[LightGBM] [Info] Start training from score -0.034585\n",
      "[LightGBM] [Info] Number of positive: 5314, number of negative: 5502\n",
      "[LightGBM] [Info] Auto-choosing col-wise multi-threading, the overhead of testing was 0.016638 seconds.\n",
      "You can set `force_col_wise=true` to remove the overhead.\n",
      "[LightGBM] [Info] Total Bins 527\n",
      "[LightGBM] [Info] Number of data points in the train set: 10816, number of used features: 239\n",
      "[LightGBM] [Info] [binary:BoostFromScore]: pavg=0.491309 -> initscore=-0.034767\n",
      "[LightGBM] [Info] Start training from score -0.034767\n",
      "[LightGBM] [Info] Number of positive: 5313, number of negative: 5502\n",
      "[LightGBM] [Info] Auto-choosing row-wise multi-threading, the overhead of testing was 0.016799 seconds.\n",
      "You can set `force_row_wise=true` to remove the overhead.\n",
      "And if memory is not enough, you can set `force_col_wise=true`.\n",
      "[LightGBM] [Info] Total Bins 509\n",
      "[LightGBM] [Info] Number of data points in the train set: 10815, number of used features: 232\n",
      "[LightGBM] [Info] [binary:BoostFromScore]: pavg=0.491262 -> initscore=-0.034955\n",
      "[LightGBM] [Info] Start training from score -0.034955\n",
      "[LightGBM] [Info] Number of positive: 5313, number of negative: 5502\n",
      "[LightGBM] [Info] Auto-choosing row-wise multi-threading, the overhead of testing was 0.015684 seconds.\n",
      "You can set `force_row_wise=true` to remove the overhead.\n",
      "And if memory is not enough, you can set `force_col_wise=true`.\n",
      "[LightGBM] [Info] Total Bins 509\n",
      "[LightGBM] [Info] Number of data points in the train set: 10815, number of used features: 235\n",
      "[LightGBM] [Info] [binary:BoostFromScore]: pavg=0.491262 -> initscore=-0.034955\n",
      "[LightGBM] [Info] Start training from score -0.034955\n",
      "[LightGBM] [Info] Number of positive: 5314, number of negative: 5501\n",
      "[LightGBM] [Info] Auto-choosing row-wise multi-threading, the overhead of testing was 0.015167 seconds.\n",
      "You can set `force_row_wise=true` to remove the overhead.\n",
      "And if memory is not enough, you can set `force_col_wise=true`.\n",
      "[LightGBM] [Info] Total Bins 523\n",
      "[LightGBM] [Info] Number of data points in the train set: 10815, number of used features: 236\n",
      "[LightGBM] [Info] [binary:BoostFromScore]: pavg=0.491355 -> initscore=-0.034585\n",
      "[LightGBM] [Info] Start training from score -0.034585\n",
      "[LightGBM] [Info] Number of positive: 5314, number of negative: 5501\n",
      "[LightGBM] [Info] Auto-choosing col-wise multi-threading, the overhead of testing was 0.015729 seconds.\n",
      "You can set `force_col_wise=true` to remove the overhead.\n",
      "[LightGBM] [Info] Total Bins 513\n",
      "[LightGBM] [Info] Number of data points in the train set: 10815, number of used features: 235\n",
      "[LightGBM] [Info] [binary:BoostFromScore]: pavg=0.491355 -> initscore=-0.034585\n",
      "[LightGBM] [Info] Start training from score -0.034585\n",
      "[LightGBM] [Info] Number of positive: 5314, number of negative: 5502\n",
      "[LightGBM] [Info] Auto-choosing row-wise multi-threading, the overhead of testing was 0.016056 seconds.\n",
      "You can set `force_row_wise=true` to remove the overhead.\n",
      "And if memory is not enough, you can set `force_col_wise=true`.\n",
      "[LightGBM] [Info] Total Bins 527\n",
      "[LightGBM] [Info] Number of data points in the train set: 10816, number of used features: 239\n",
      "[LightGBM] [Info] [binary:BoostFromScore]: pavg=0.491309 -> initscore=-0.034767\n",
      "[LightGBM] [Info] Start training from score -0.034767\n",
      "[LightGBM] [Info] Number of positive: 5313, number of negative: 5502\n",
      "[LightGBM] [Info] Auto-choosing row-wise multi-threading, the overhead of testing was 0.015384 seconds.\n",
      "You can set `force_row_wise=true` to remove the overhead.\n",
      "And if memory is not enough, you can set `force_col_wise=true`.\n",
      "[LightGBM] [Info] Total Bins 509\n",
      "[LightGBM] [Info] Number of data points in the train set: 10815, number of used features: 232\n",
      "[LightGBM] [Info] [binary:BoostFromScore]: pavg=0.491262 -> initscore=-0.034955\n",
      "[LightGBM] [Info] Start training from score -0.034955\n",
      "[LightGBM] [Info] Number of positive: 5313, number of negative: 5502\n",
      "[LightGBM] [Info] Auto-choosing row-wise multi-threading, the overhead of testing was 0.015314 seconds.\n",
      "You can set `force_row_wise=true` to remove the overhead.\n",
      "And if memory is not enough, you can set `force_col_wise=true`.\n",
      "[LightGBM] [Info] Total Bins 509\n",
      "[LightGBM] [Info] Number of data points in the train set: 10815, number of used features: 235\n",
      "[LightGBM] [Info] [binary:BoostFromScore]: pavg=0.491262 -> initscore=-0.034955\n",
      "[LightGBM] [Info] Start training from score -0.034955\n",
      "[LightGBM] [Info] Number of positive: 5314, number of negative: 5501\n",
      "[LightGBM] [Info] Auto-choosing row-wise multi-threading, the overhead of testing was 0.015728 seconds.\n",
      "You can set `force_row_wise=true` to remove the overhead.\n",
      "And if memory is not enough, you can set `force_col_wise=true`.\n",
      "[LightGBM] [Info] Total Bins 523\n",
      "[LightGBM] [Info] Number of data points in the train set: 10815, number of used features: 236\n",
      "[LightGBM] [Info] [binary:BoostFromScore]: pavg=0.491355 -> initscore=-0.034585\n",
      "[LightGBM] [Info] Start training from score -0.034585\n",
      "[LightGBM] [Info] Number of positive: 5314, number of negative: 5501\n",
      "[LightGBM] [Info] Auto-choosing row-wise multi-threading, the overhead of testing was 0.015709 seconds.\n",
      "You can set `force_row_wise=true` to remove the overhead.\n",
      "And if memory is not enough, you can set `force_col_wise=true`.\n",
      "[LightGBM] [Info] Total Bins 513\n",
      "[LightGBM] [Info] Number of data points in the train set: 10815, number of used features: 235\n",
      "[LightGBM] [Info] [binary:BoostFromScore]: pavg=0.491355 -> initscore=-0.034585\n",
      "[LightGBM] [Info] Start training from score -0.034585\n",
      "[LightGBM] [Info] Number of positive: 5314, number of negative: 5502\n",
      "[LightGBM] [Info] Auto-choosing row-wise multi-threading, the overhead of testing was 0.015511 seconds.\n",
      "You can set `force_row_wise=true` to remove the overhead.\n",
      "And if memory is not enough, you can set `force_col_wise=true`.\n",
      "[LightGBM] [Info] Total Bins 527\n",
      "[LightGBM] [Info] Number of data points in the train set: 10816, number of used features: 239\n",
      "[LightGBM] [Info] [binary:BoostFromScore]: pavg=0.491309 -> initscore=-0.034767\n",
      "[LightGBM] [Info] Start training from score -0.034767\n",
      "[LightGBM] [Info] Number of positive: 5313, number of negative: 5502\n",
      "[LightGBM] [Info] Auto-choosing row-wise multi-threading, the overhead of testing was 0.015215 seconds.\n",
      "You can set `force_row_wise=true` to remove the overhead.\n",
      "And if memory is not enough, you can set `force_col_wise=true`.\n",
      "[LightGBM] [Info] Total Bins 509\n",
      "[LightGBM] [Info] Number of data points in the train set: 10815, number of used features: 232\n",
      "[LightGBM] [Info] [binary:BoostFromScore]: pavg=0.491262 -> initscore=-0.034955\n",
      "[LightGBM] [Info] Start training from score -0.034955\n",
      "[LightGBM] [Info] Number of positive: 5313, number of negative: 5502\n",
      "[LightGBM] [Info] Auto-choosing row-wise multi-threading, the overhead of testing was 0.015649 seconds.\n",
      "You can set `force_row_wise=true` to remove the overhead.\n",
      "And if memory is not enough, you can set `force_col_wise=true`.\n",
      "[LightGBM] [Info] Total Bins 509\n",
      "[LightGBM] [Info] Number of data points in the train set: 10815, number of used features: 235\n",
      "[LightGBM] [Info] [binary:BoostFromScore]: pavg=0.491262 -> initscore=-0.034955\n",
      "[LightGBM] [Info] Start training from score -0.034955\n",
      "[LightGBM] [Info] Number of positive: 5314, number of negative: 5501\n",
      "[LightGBM] [Info] Auto-choosing row-wise multi-threading, the overhead of testing was 0.015860 seconds.\n",
      "You can set `force_row_wise=true` to remove the overhead.\n",
      "And if memory is not enough, you can set `force_col_wise=true`.\n",
      "[LightGBM] [Info] Total Bins 523\n",
      "[LightGBM] [Info] Number of data points in the train set: 10815, number of used features: 236\n",
      "[LightGBM] [Info] [binary:BoostFromScore]: pavg=0.491355 -> initscore=-0.034585\n",
      "[LightGBM] [Info] Start training from score -0.034585\n",
      "[LightGBM] [Info] Number of positive: 5314, number of negative: 5501\n",
      "[LightGBM] [Info] Auto-choosing row-wise multi-threading, the overhead of testing was 0.016314 seconds.\n",
      "You can set `force_row_wise=true` to remove the overhead.\n",
      "And if memory is not enough, you can set `force_col_wise=true`.\n",
      "[LightGBM] [Info] Total Bins 513\n",
      "[LightGBM] [Info] Number of data points in the train set: 10815, number of used features: 235\n",
      "[LightGBM] [Info] [binary:BoostFromScore]: pavg=0.491355 -> initscore=-0.034585\n",
      "[LightGBM] [Info] Start training from score -0.034585\n",
      "[LightGBM] [Info] Number of positive: 5314, number of negative: 5502\n",
      "[LightGBM] [Info] Auto-choosing row-wise multi-threading, the overhead of testing was 0.015583 seconds.\n",
      "You can set `force_row_wise=true` to remove the overhead.\n",
      "And if memory is not enough, you can set `force_col_wise=true`.\n",
      "[LightGBM] [Info] Total Bins 527\n",
      "[LightGBM] [Info] Number of data points in the train set: 10816, number of used features: 239\n",
      "[LightGBM] [Info] [binary:BoostFromScore]: pavg=0.491309 -> initscore=-0.034767\n",
      "[LightGBM] [Info] Start training from score -0.034767\n",
      "[LightGBM] [Info] Number of positive: 6642, number of negative: 6877\n",
      "[LightGBM] [Info] Auto-choosing col-wise multi-threading, the overhead of testing was 0.026651 seconds.\n",
      "You can set `force_col_wise=true` to remove the overhead.\n",
      "[LightGBM] [Info] Total Bins 697\n",
      "[LightGBM] [Info] Number of data points in the train set: 13519, number of used features: 317\n",
      "[LightGBM] [Info] [binary:BoostFromScore]: pavg=0.491309 -> initscore=-0.034769\n",
      "[LightGBM] [Info] Start training from score -0.034769\n"
     ]
    },
    {
     "data": {
      "text/plain": [
       "{'boosting_type': 'gbdt',\n",
       " 'learning_rate': 0.2,\n",
       " 'metric': 'binary_logloss',\n",
       " 'n_estimators': 200,\n",
       " 'num_leaves': 31,\n",
       " 'objective': 'binary'}"
      ]
     },
     "execution_count": 50,
     "metadata": {},
     "output_type": "execute_result"
    }
   ],
   "source": [
    "from lightgbm import LGBMClassifier\n",
    "\n",
    "param_grid_ = {\n",
    "    'num_leaves': [15, 31, 63],  \n",
    "    'learning_rate': [0.01, 0.1, 0.2],\n",
    "    'n_estimators': [50, 100, 200],  \n",
    "    'boosting_type': ['gbdt'], \n",
    "    'objective': ['binary'],  \n",
    "    'metric': ['binary_logloss'],\n",
    "}\n",
    "\n",
    "lightgbm_grid = GridSearchCV(\n",
    "    estimator= LGBMClassifier(),\n",
    "    param_grid=param_grid_,\n",
    "    cv=5, \n",
    "    scoring='accuracy',\n",
    "    verbose=0,\n",
    "    n_jobs=-1  \n",
    ")\n",
    "lightgbm_grid.fit(X_train_tfidf, y_train)\n",
    "\n",
    "lightgbm_grid.best_params_"
   ]
  },
  {
   "cell_type": "code",
   "execution_count": 51,
   "id": "935fd52f",
   "metadata": {
    "execution": {
     "iopub.execute_input": "2024-12-19T20:42:27.538752Z",
     "iopub.status.busy": "2024-12-19T20:42:27.538275Z",
     "iopub.status.idle": "2024-12-19T20:42:28.216983Z",
     "shell.execute_reply": "2024-12-19T20:42:28.215678Z"
    },
    "papermill": {
     "duration": 0.710664,
     "end_time": "2024-12-19T20:42:28.219554",
     "exception": false,
     "start_time": "2024-12-19T20:42:27.508890",
     "status": "completed"
    },
    "tags": []
   },
   "outputs": [
    {
     "name": "stdout",
     "output_type": "stream",
     "text": [
      "-------------------> lightgbm\n",
      "Accuracy: 0.67\n",
      "F1-Score for each class:\n",
      "Positive: 0.63\n",
      "Negative: 0.70\n",
      "\n",
      "Classification Report:\n",
      "              precision    recall  f1-score   support\n",
      "\n",
      "    Positive       0.73      0.56      0.63      1719\n",
      "    Negative       0.63      0.78      0.70      1661\n",
      "\n",
      "    accuracy                           0.67      3380\n",
      "   macro avg       0.68      0.67      0.67      3380\n",
      "weighted avg       0.68      0.67      0.67      3380\n",
      "\n"
     ]
    },
    {
     "data": {
      "image/png": "[encoded data removed]",
      "text/plain": [
       "<Figure size 800x600 with 2 Axes>"
      ]
     },
     "metadata": {},
     "output_type": "display_data"
    }
   ],
   "source": [
    "y_hat = lightgbm_grid.best_estimator_.predict(X_test_tfidf)\n",
    "about_model(\"lightgbm\", y_test , y_hat)"
   ]
  },
  {
   "cell_type": "code",
   "execution_count": null,
   "id": "e54ec513",
   "metadata": {
    "papermill": {
     "duration": 0.026825,
     "end_time": "2024-12-19T20:42:28.273508",
     "exception": false,
     "start_time": "2024-12-19T20:42:28.246683",
     "status": "completed"
    },
    "tags": []
   },
   "outputs": [],
   "source": []
  },
  {
   "cell_type": "code",
   "execution_count": null,
   "id": "dfe6c01c",
   "metadata": {
    "papermill": {
     "duration": 0.025828,
     "end_time": "2024-12-19T20:42:28.411584",
     "exception": false,
     "start_time": "2024-12-19T20:42:28.385756",
     "status": "completed"
    },
    "tags": []
   },
   "outputs": [],
   "source": []
  },
  {
   "cell_type": "code",
   "execution_count": null,
   "id": "1ac78213",
   "metadata": {
    "papermill": {
     "duration": 0.025941,
     "end_time": "2024-12-19T20:42:28.463950",
     "exception": false,
     "start_time": "2024-12-19T20:42:28.438009",
     "status": "completed"
    },
    "tags": []
   },
   "outputs": [],
   "source": []
  },
  {
   "cell_type": "code",
   "execution_count": null,
   "id": "89817eb8",
   "metadata": {
    "papermill": {
     "duration": 0.026674,
     "end_time": "2024-12-19T20:42:28.518128",
     "exception": false,
     "start_time": "2024-12-19T20:42:28.491454",
     "status": "completed"
    },
    "tags": []
   },
   "outputs": [],
   "source": []
  }
 ],
 "metadata": {
  "kaggle": {
   "accelerator": "none",
   "dataSources": [
    {
     "datasetId": 6047175,
     "sourceId": 10210479,
     "sourceType": "datasetVersion"
    },
    {
     "datasetId": 6094692,
     "sourceId": 10210609,
     "sourceType": "datasetVersion"
    }
   ],
   "dockerImageVersionId": 30804,
   "isGpuEnabled": false,
   "isInternetEnabled": true,
   "language": "python",
   "sourceType": "notebook"
  },
  "kernelspec": {
   "display_name": "Python 3",
   "language": "python",
   "name": "python3"
  },
  "language_info": {
   "codemirror_mode": {
    "name": "ipython",
    "version": 3
   },
   "file_extension": ".py",
   "mimetype": "text/x-python",
   "name": "python",
   "nbconvert_exporter": "python",
   "pygments_lexer": "ipython3",
   "version": "3.10.14"
  },
  "papermill": {
   "default_parameters": {},
   "duration": 20546.12277,
   "end_time": "2024-12-19T20:42:31.268401",
   "environment_variables": {},
   "exception": null,
   "input_path": "__notebook__.ipynb",
   "output_path": "__notebook__.ipynb",
   "parameters": {},
   "start_time": "2024-12-19T15:00:05.145631",
   "version": "2.6.0"
  }
 },
 "nbformat": 4,
 "nbformat_minor": 5
}
