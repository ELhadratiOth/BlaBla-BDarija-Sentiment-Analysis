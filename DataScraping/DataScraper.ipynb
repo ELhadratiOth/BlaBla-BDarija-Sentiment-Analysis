{
 "cells": [
  {
   "cell_type": "markdown",
   "metadata": {},
   "source": [
    "# YouTube Comments Scraper for Darija Analysis"
   ]
  },
  {
   "cell_type": "markdown",
   "metadata": {},
   "source": [
    "## 1. Setup and Configuration\n",
    "In this section, we:\n",
    "- Import required libraries (pandas, googleapiclient, dotenv)\n",
    "- Load environment variables for API authentication\n"
   ]
  },
  {
   "cell_type": "code",
   "execution_count": 1,
   "metadata": {},
   "outputs": [
    {
     "data": {
      "text/plain": [
       "True"
      ]
     },
     "execution_count": 1,
     "metadata": {},
     "output_type": "execute_result"
    }
   ],
   "source": [
    "import os\n",
    "from dotenv import load_dotenv\n",
    "from googleapiclient.discovery import  build\n",
    "import pandas as pd\n",
    "load_dotenv()\n"
   ]
  },
  {
   "cell_type": "markdown",
   "metadata": {},
   "source": [
    "## 2. Data Collection Functions\n",
    "Here we define:\n",
    "- Function to fetch top-level comments from YouTube videos\n"
   ]
  },
  {
   "cell_type": "code",
   "execution_count": 2,
   "metadata": {},
   "outputs": [],
   "source": [
    "def get_top_comments(video_link):\n",
    "    API_KEY = os.environ['YTKEY']\n",
    "    os.environ[\"OAUTHLIB_INSECURE_TRANSPORT\"] = \"1\"\n",
    "    VIDEO_ID = video_link.split(\"v=\")[1].split(\"&\")[0]\n",
    "\n",
    "    youtube = build(\"youtube\", \"v3\", developerKey=API_KEY)\n",
    "\n",
    "    request = youtube.commentThreads().list(\n",
    "        part=\"snippet\",\n",
    "        videoId=VIDEO_ID,\n",
    "        maxResults=100,\n",
    "    )\n",
    "    response = request.execute()\n",
    "\n",
    "    comments = [\n",
    "        item[\"snippet\"][\"topLevelComment\"][\"snippet\"][\"textDisplay\"]\n",
    "        for item in response[\"items\"][1:]\n",
    "    ]\n",
    "    print(len(comments), \"newest comments fetched\")\n",
    "        \n",
    "    return pd.DataFrame(comments, columns=[\"text\"])\n",
    "\n"
   ]
  },
  {
   "cell_type": "markdown",
   "metadata": {},
   "source": [
    "## 3. Video Selection and Data Gathering\n",
    "In this section, we:\n",
    "- Define target YouTube video URLs\n",
    "- Iterate through videos to collect comments\n"
   ]
  },
  {
   "cell_type": "code",
   "execution_count": 3,
   "metadata": {},
   "outputs": [],
   "source": [
    "URLS = [\"https://www.youtube.com/watch?v=FLKGQf2-118\" , \"https://www.youtube.com/watch?v=niqcXL155nQ\"\n",
    "        ,\"https://www.youtube.com/watch?v=wFGye7urHrc\" , \"https://www.youtube.com/watch?v=I70BKjNYlV8\"\n",
    "        ,\"https://www.youtube.com/watch?v=ZIg8dFt6Nwo\" ,\"https://www.youtube.com/watch?v=t19PPzs6YLs\" ,\n",
    "        \"https://www.youtube.com/watch?v=B2N_1mgiP_M\" , \"https://www.youtube.com/watch?v=zvyapr04A1Y&t=525s\"\n",
    "       ]"
   ]
  },
  {
   "cell_type": "code",
   "execution_count": 4,
   "metadata": {},
   "outputs": [
    {
     "name": "stdout",
     "output_type": "stream",
     "text": [
      "99 newest comments fetched\n",
      "99 newest comments fetched\n",
      "99 newest comments fetched\n",
      "99 newest comments fetched\n",
      "99 newest comments fetched\n",
      "99 newest comments fetched\n",
      "99 newest comments fetched\n",
      "99 newest comments fetched\n"
     ]
    }
   ],
   "source": [
    "df = pd.DataFrame([] , columns=[\"text\"])\n",
    "for  i in URLS:\n",
    "          df = pd.concat([df, get_top_comments(i)], ignore_index=True)"
   ]
  },
  {
   "cell_type": "code",
   "execution_count": 5,
   "metadata": {},
   "outputs": [
    {
     "data": {
      "text/plain": [
       "(792, 1)"
      ]
     },
     "execution_count": 5,
     "metadata": {},
     "output_type": "execute_result"
    }
   ],
   "source": [
    "df.shape"
   ]
  },
  {
   "cell_type": "markdown",
   "metadata": {},
   "source": [
    "## 4. Data Export and Storage\n",
    "Here we:\n",
    "- Save the comments to CSV format\n",
    "- Prepare data for further preprocessing"
   ]
  },
  {
   "cell_type": "code",
   "execution_count": 6,
   "metadata": {},
   "outputs": [],
   "source": [
    "df.to_csv(\"scaped_comments.csv\", index=False)"
   ]
  },
  {
   "cell_type": "code",
   "execution_count": null,
   "metadata": {},
   "outputs": [],
   "source": []
  },
  {
   "cell_type": "code",
   "execution_count": null,
   "metadata": {},
   "outputs": [],
   "source": []
  },
  {
   "cell_type": "code",
   "execution_count": null,
   "metadata": {},
   "outputs": [],
   "source": []
  },
  {
   "cell_type": "code",
   "execution_count": null,
   "metadata": {},
   "outputs": [],
   "source": []
  }
 ],
 "metadata": {
  "kernelspec": {
   "display_name": "venv",
   "language": "python",
   "name": "python3"
  },
  "language_info": {
   "codemirror_mode": {
    "name": "ipython",
    "version": 3
   },
   "file_extension": ".py",
   "mimetype": "text/x-python",
   "name": "python",
   "nbconvert_exporter": "python",
   "pygments_lexer": "ipython3",
   "version": "3.12.4"
  }
 },
 "nbformat": 4,
 "nbformat_minor": 2
}
